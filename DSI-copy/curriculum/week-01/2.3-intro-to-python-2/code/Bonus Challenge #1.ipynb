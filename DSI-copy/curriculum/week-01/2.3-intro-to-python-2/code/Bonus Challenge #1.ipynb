{
 "cells": [
  {
   "cell_type": "code",
   "execution_count": 30,
   "metadata": {
    "collapsed": true
   },
   "outputs": [],
   "source": [
    "a_list = [\n",
    "    True, \n",
    "    False,\n",
    "    True,\n",
    "    5, \n",
    "    23.234, \n",
    "    3.55, \n",
    "    \"Kiefer is actually pretty cool\", \n",
    "    {\"steve\": \"ballmer\"}, \n",
    "    (5, 23, 55), \n",
    "    [1,6,234,23.4],\n",
    "    max([1, 0, 1, 1]), \n",
    "    abs(-234), \n",
    "    (5 + 3.01), \n",
    "    \"\",\n",
    "    None,\n",
    "    [5] * 20,\n",
    "    \"343434\",\n",
    "    \"5\" + \"aaaaaa2\",\n",
    "    55 % 3,\n",
    "    5^2]"
   ]
  },
  {
   "cell_type": "code",
   "execution_count": 31,
   "metadata": {
    "collapsed": false
   },
   "outputs": [
    {
     "data": {
      "text/plain": [
       "20"
      ]
     },
     "execution_count": 31,
     "metadata": {},
     "output_type": "execute_result"
    }
   ],
   "source": [
    "len(a_list)"
   ]
  },
  {
   "cell_type": "code",
   "execution_count": 32,
   "metadata": {
    "collapsed": true
   },
   "outputs": [],
   "source": [
    "a_dict = {}"
   ]
  },
  {
   "cell_type": "code",
   "execution_count": 35,
   "metadata": {
    "collapsed": false
   },
   "outputs": [
    {
     "name": "stdout",
     "output_type": "stream",
     "text": [
      "20\n"
     ]
    }
   ],
   "source": [
    "a_type = [type(i) for i in a_list]\n",
    "print len(a_type)"
   ]
  },
  {
   "cell_type": "code",
   "execution_count": null,
   "metadata": {
    "collapsed": true
   },
   "outputs": [],
   "source": [
    "output = {}\n",
    "\n",
    "for value in example_input:\n",
    "    \n",
    "    current_type_items = output.get(type(value))\n",
    "    \n",
    "    if current_type_items:\n",
    "        current_type_items.append(value)\n",
    "    else:\n",
    "        current_type_items = [value]\n",
    "    \n",
    "    output.update({type(value): current_type_items})\n",
    "    \n",
    "output"
   ]
  },
  {
   "cell_type": "code",
   "execution_count": 38,
   "metadata": {
    "collapsed": false
   },
   "outputs": [],
   "source": [
    "output_dict = {}\n",
    "for value in a_list:\n",
    "    current_type_items = output_dict.get(type(value))\n",
    "    if current_type_items:\n",
    "        current_type_items.append(value)\n",
    "    else:\n",
    "        current_type_items = [value]\n",
    "    output_dict.update({type(value): current_type_items})"
   ]
  },
  {
   "cell_type": "code",
   "execution_count": 39,
   "metadata": {
    "collapsed": false
   },
   "outputs": [
    {
     "data": {
      "text/plain": [
       "{bool: [True, False, True],\n",
       " float: [23.234, 3.55, 8.01],\n",
       " int: [5, 1, 234, 1, 7],\n",
       " list: [[1, 6, 234, 23.4],\n",
       "  [5, 5, 5, 5, 5, 5, 5, 5, 5, 5, 5, 5, 5, 5, 5, 5, 5, 5, 5, 5]],\n",
       " dict: [{'steve': 'ballmer'}],\n",
       " NoneType: [None],\n",
       " str: ['Kiefer is actually pretty cool', '', '343434', '5aaaaaa2'],\n",
       " tuple: [(5, 23, 55)]}"
      ]
     },
     "execution_count": 39,
     "metadata": {},
     "output_type": "execute_result"
    }
   ],
   "source": [
    "output_dict"
   ]
  },
  {
   "cell_type": "code",
   "execution_count": 33,
   "metadata": {
    "collapsed": true
   },
   "outputs": [],
   "source": [
    "c_dict = {type(i): i for i in a_list}"
   ]
  },
  {
   "cell_type": "code",
   "execution_count": 34,
   "metadata": {
    "collapsed": false
   },
   "outputs": [
    {
     "data": {
      "text/plain": [
       "{bool: True,\n",
       " float: 8.01,\n",
       " int: 7,\n",
       " list: [5, 5, 5, 5, 5, 5, 5, 5, 5, 5, 5, 5, 5, 5, 5, 5, 5, 5, 5, 5],\n",
       " dict: {'steve': 'ballmer'},\n",
       " NoneType: None,\n",
       " str: '5aaaaaa2',\n",
       " tuple: (5, 23, 55)}"
      ]
     },
     "execution_count": 34,
     "metadata": {},
     "output_type": "execute_result"
    }
   ],
   "source": [
    "c_dict"
   ]
  },
  {
   "cell_type": "code",
   "execution_count": 11,
   "metadata": {
    "collapsed": false
   },
   "outputs": [
    {
     "name": "stdout",
     "output_type": "stream",
     "text": [
      "[<type 'bool'>, <type 'bool'>, <type 'bool'>, <type 'int'>, <type 'float'>, <type 'float'>, <type 'str'>, <type 'dict'>, <type 'tuple'>, <type 'list'>, <type 'int'>, <type 'int'>, <type 'float'>, <type 'str'>, <type 'NoneType'>, <type 'list'>, <type 'str'>, <type 'str'>, <type 'int'>, <type 'int'>]\n",
      "20\n"
     ]
    }
   ],
   "source": []
  },
  {
   "cell_type": "code",
   "execution_count": 7,
   "metadata": {
    "collapsed": false
   },
   "outputs": [],
   "source": [
    "c_dict = {b for b in b_list}"
   ]
  },
  {
   "cell_type": "code",
   "execution_count": 8,
   "metadata": {
    "collapsed": false
   },
   "outputs": [
    {
     "data": {
      "text/plain": [
       "{bool, float, int, list, dict, NoneType, str, tuple}"
      ]
     },
     "execution_count": 8,
     "metadata": {},
     "output_type": "execute_result"
    }
   ],
   "source": [
    "c_dict"
   ]
  },
  {
   "cell_type": "code",
   "execution_count": null,
   "metadata": {
    "collapsed": true
   },
   "outputs": [],
   "source": []
  }
 ],
 "metadata": {
  "kernelspec": {
   "display_name": "Python 2",
   "language": "python",
   "name": "python2"
  },
  "language_info": {
   "codemirror_mode": {
    "name": "ipython",
    "version": 2
   },
   "file_extension": ".py",
   "mimetype": "text/x-python",
   "name": "python",
   "nbconvert_exporter": "python",
   "pygments_lexer": "ipython2",
   "version": "2.7.12"
  }
 },
 "nbformat": 4,
 "nbformat_minor": 0
}
