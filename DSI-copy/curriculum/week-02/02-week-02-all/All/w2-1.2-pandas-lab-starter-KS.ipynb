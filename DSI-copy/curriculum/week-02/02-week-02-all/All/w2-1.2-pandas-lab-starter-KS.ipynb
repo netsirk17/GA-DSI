{
 "cells": [
  {
   "cell_type": "code",
   "execution_count": 1,
   "metadata": {
    "collapsed": true
   },
   "outputs": [],
   "source": [
    "# import pandas, matplotlib\n",
    "\n",
    "import pandas as pd\n",
    "import matplotlib.pyplot as plt"
   ]
  },
  {
   "cell_type": "code",
   "execution_count": 2,
   "metadata": {
    "collapsed": true
   },
   "outputs": [],
   "source": [
    "# read in the csv from https://raw.githubusercontent.com/fivethirtyeight/data/master/flying-etiquette-survey/flying-etiquette.csv\n",
    "\n",
    "df = pd.read_csv('https://raw.githubusercontent.com/fivethirtyeight/data/master/flying-etiquette-survey/flying-etiquette.csv')"
   ]
  },
  {
   "cell_type": "code",
   "execution_count": 3,
   "metadata": {
    "collapsed": false
   },
   "outputs": [
    {
     "data": {
      "text/html": [
       "<div>\n",
       "<table border=\"1\" class=\"dataframe\">\n",
       "  <thead>\n",
       "    <tr style=\"text-align: right;\">\n",
       "      <th></th>\n",
       "      <th>RespondentID</th>\n",
       "      <th>How often do you travel by plane?</th>\n",
       "      <th>Do you ever recline your seat when you fly?</th>\n",
       "      <th>How tall are you?</th>\n",
       "      <th>Do you have any children under 18?</th>\n",
       "      <th>In a row of three seats, who should get to use the two arm rests?</th>\n",
       "      <th>In a row of two seats, who should get to use the middle arm rest?</th>\n",
       "      <th>Who should have control over the window shade?</th>\n",
       "      <th>Is itrude to move to an unsold seat on a plane?</th>\n",
       "      <th>Generally speaking, is it rude to say more than a few words tothe stranger sitting next to you on a plane?</th>\n",
       "      <th>...</th>\n",
       "      <th>Is itrude to wake a passenger up if you are trying to walk around?</th>\n",
       "      <th>In general, is itrude to bring a baby on a plane?</th>\n",
       "      <th>In general, is it rude to knowingly bring unruly children on a plane?</th>\n",
       "      <th>Have you ever used personal electronics during take off or landing in violation of a flight attendant's direction?</th>\n",
       "      <th>Have you ever smoked a cigarette in an airplane bathroom when it was against the rules?</th>\n",
       "      <th>Gender</th>\n",
       "      <th>Age</th>\n",
       "      <th>Household Income</th>\n",
       "      <th>Education</th>\n",
       "      <th>Location (Census Region)</th>\n",
       "    </tr>\n",
       "  </thead>\n",
       "  <tbody>\n",
       "    <tr>\n",
       "      <th>0</th>\n",
       "      <td>3436139758</td>\n",
       "      <td>Once a year or less</td>\n",
       "      <td>NaN</td>\n",
       "      <td>NaN</td>\n",
       "      <td>NaN</td>\n",
       "      <td>NaN</td>\n",
       "      <td>NaN</td>\n",
       "      <td>NaN</td>\n",
       "      <td>NaN</td>\n",
       "      <td>NaN</td>\n",
       "      <td>...</td>\n",
       "      <td>NaN</td>\n",
       "      <td>NaN</td>\n",
       "      <td>NaN</td>\n",
       "      <td>NaN</td>\n",
       "      <td>NaN</td>\n",
       "      <td>NaN</td>\n",
       "      <td>NaN</td>\n",
       "      <td>NaN</td>\n",
       "      <td>NaN</td>\n",
       "      <td>NaN</td>\n",
       "    </tr>\n",
       "    <tr>\n",
       "      <th>1</th>\n",
       "      <td>3434278696</td>\n",
       "      <td>Once a year or less</td>\n",
       "      <td>About half the time</td>\n",
       "      <td>6'3\"</td>\n",
       "      <td>Yes</td>\n",
       "      <td>The arm rests should be shared</td>\n",
       "      <td>The arm rests should be shared</td>\n",
       "      <td>Everyone in the row should have some say</td>\n",
       "      <td>No, not rude at all</td>\n",
       "      <td>No, not at all rude</td>\n",
       "      <td>...</td>\n",
       "      <td>No, not at all rude</td>\n",
       "      <td>No, not at all rude</td>\n",
       "      <td>No, not at all rude</td>\n",
       "      <td>No</td>\n",
       "      <td>No</td>\n",
       "      <td>Male</td>\n",
       "      <td>30-44</td>\n",
       "      <td>NaN</td>\n",
       "      <td>Graduate degree</td>\n",
       "      <td>Pacific</td>\n",
       "    </tr>\n",
       "  </tbody>\n",
       "</table>\n",
       "<p>2 rows × 27 columns</p>\n",
       "</div>"
      ],
      "text/plain": [
       "   RespondentID How often do you travel by plane?  \\\n",
       "0    3436139758               Once a year or less   \n",
       "1    3434278696               Once a year or less   \n",
       "\n",
       "  Do you ever recline your seat when you fly? How tall are you?  \\\n",
       "0                                         NaN               NaN   \n",
       "1                         About half the time              6'3\"   \n",
       "\n",
       "  Do you have any children under 18?  \\\n",
       "0                                NaN   \n",
       "1                                Yes   \n",
       "\n",
       "  In a row of three seats, who should get to use the two arm rests?  \\\n",
       "0                                                NaN                  \n",
       "1                     The arm rests should be shared                  \n",
       "\n",
       "  In a row of two seats, who should get to use the middle arm rest?  \\\n",
       "0                                                NaN                  \n",
       "1                     The arm rests should be shared                  \n",
       "\n",
       "  Who should have control over the window shade?  \\\n",
       "0                                            NaN   \n",
       "1       Everyone in the row should have some say   \n",
       "\n",
       "  Is itrude to move to an unsold seat on a plane?  \\\n",
       "0                                             NaN   \n",
       "1                             No, not rude at all   \n",
       "\n",
       "  Generally speaking, is it rude to say more than a few words tothe stranger sitting next to you on a plane?  \\\n",
       "0                                                NaN                                                           \n",
       "1                                No, not at all rude                                                           \n",
       "\n",
       "            ...             \\\n",
       "0           ...              \n",
       "1           ...              \n",
       "\n",
       "  Is itrude to wake a passenger up if you are trying to walk around?  \\\n",
       "0                                                NaN                   \n",
       "1                                No, not at all rude                   \n",
       "\n",
       "  In general, is itrude to bring a baby on a plane?  \\\n",
       "0                                               NaN   \n",
       "1                               No, not at all rude   \n",
       "\n",
       "  In general, is it rude to knowingly bring unruly children on a plane?  \\\n",
       "0                                                NaN                      \n",
       "1                                No, not at all rude                      \n",
       "\n",
       "  Have you ever used personal electronics during take off or landing in violation of a flight attendant's direction?  \\\n",
       "0                                                NaN                                                                   \n",
       "1                                                 No                                                                   \n",
       "\n",
       "  Have you ever smoked a cigarette in an airplane bathroom when it was against the rules?  \\\n",
       "0                                                NaN                                        \n",
       "1                                                 No                                        \n",
       "\n",
       "  Gender    Age Household Income        Education Location (Census Region)  \n",
       "0    NaN    NaN              NaN              NaN                      NaN  \n",
       "1   Male  30-44              NaN  Graduate degree                  Pacific  \n",
       "\n",
       "[2 rows x 27 columns]"
      ]
     },
     "execution_count": 3,
     "metadata": {},
     "output_type": "execute_result"
    }
   ],
   "source": [
    "# view the head\n",
    "\n",
    "df.head(2)"
   ]
  },
  {
   "cell_type": "code",
   "execution_count": 4,
   "metadata": {
    "collapsed": false
   },
   "outputs": [
    {
     "name": "stdout",
     "output_type": "stream",
     "text": [
      "RespondentID\n",
      "How often do you travel by plane?\n",
      "Do you ever recline your seat when you fly?\n",
      "How tall are you?\n",
      "Do you have any children under 18?\n",
      "In a row of three seats, who should get to use the two arm rests?\n",
      "In a row of two seats, who should get to use the middle arm rest?\n",
      "Who should have control over the window shade?\n",
      "Is itrude to move to an unsold seat on a plane?\n",
      "Generally speaking, is it rude to say more than a few words tothe stranger sitting next to you on a plane?\n",
      "On a 6 hour flight from NYC to LA, how many times is it acceptable to get up if you're not in an aisle seat?\n",
      "Under normal circumstances, does a person who reclines their seat during a flight have any obligation to the person sitting behind them?\n",
      "Is itrude to recline your seat on a plane?\n",
      "Given the opportunity, would you eliminate the possibility of reclining seats on planes entirely?\n",
      "Is it rude to ask someone to switch seats with you in order to be closer to friends?\n",
      "Is itrude to ask someone to switch seats with you in order to be closer to family?\n",
      "Is it rude to wake a passenger up if you are trying to go to the bathroom?\n",
      "Is itrude to wake a passenger up if you are trying to walk around?\n",
      "In general, is itrude to bring a baby on a plane?\n",
      "In general, is it rude to knowingly bring unruly children on a plane?\n",
      "Have you ever used personal electronics during take off or landing in violation of a flight attendant's direction?\n",
      "Have you ever smoked a cigarette in an airplane bathroom when it was against the rules?\n",
      "Gender\n",
      "Age\n",
      "Household Income\n",
      "Education\n",
      "Location (Census Region)\n"
     ]
    }
   ],
   "source": [
    "# view the columns - use iteration to print them out\n",
    "for c in df.columns:\n",
    "    print c"
   ]
  },
  {
   "cell_type": "code",
   "execution_count": 5,
   "metadata": {
    "collapsed": false
   },
   "outputs": [],
   "source": [
    "column_list = [df.columns.tolist()]"
   ]
  },
  {
   "cell_type": "code",
   "execution_count": 6,
   "metadata": {
    "collapsed": false
   },
   "outputs": [
    {
     "data": {
      "text/plain": [
       "['RespondentID',\n",
       " 'How often do you travel by plane?',\n",
       " 'Do you ever recline your seat when you fly?']"
      ]
     },
     "execution_count": 6,
     "metadata": {},
     "output_type": "execute_result"
    }
   ],
   "source": [
    "column_list[0][0:3]"
   ]
  },
  {
   "cell_type": "code",
   "execution_count": 7,
   "metadata": {
    "collapsed": false
   },
   "outputs": [],
   "source": [
    "column_dict = {column_list[0].index(x):x for x in column_list[0]}\n"
   ]
  },
  {
   "cell_type": "code",
   "execution_count": 8,
   "metadata": {
    "collapsed": false
   },
   "outputs": [
    {
     "data": {
      "text/plain": [
       "{0: 'RespondentID',\n",
       " 1: 'How often do you travel by plane?',\n",
       " 2: 'Do you ever recline your seat when you fly?',\n",
       " 3: 'How tall are you?',\n",
       " 4: 'Do you have any children under 18?',\n",
       " 5: 'In a row of three seats, who should get to use the two arm rests?',\n",
       " 6: 'In a row of two seats, who should get to use the middle arm rest?',\n",
       " 7: 'Who should have control over the window shade?',\n",
       " 8: 'Is itrude to move to an unsold seat on a plane?',\n",
       " 9: 'Generally speaking, is it rude to say more than a few words tothe stranger sitting next to you on a plane?',\n",
       " 10: \"On a 6 hour flight from NYC to LA, how many times is it acceptable to get up if you're not in an aisle seat?\",\n",
       " 11: 'Under normal circumstances, does a person who reclines their seat during a flight have any obligation to the person sitting behind them?',\n",
       " 12: 'Is itrude to recline your seat on a plane?',\n",
       " 13: 'Given the opportunity, would you eliminate the possibility of reclining seats on planes entirely?',\n",
       " 14: 'Is it rude to ask someone to switch seats with you in order to be closer to friends?',\n",
       " 15: 'Is itrude to ask someone to switch seats with you in order to be closer to family?',\n",
       " 16: 'Is it rude to wake a passenger up if you are trying to go to the bathroom?',\n",
       " 17: 'Is itrude to wake a passenger up if you are trying to walk around?',\n",
       " 18: 'In general, is itrude to bring a baby on a plane?',\n",
       " 19: 'In general, is it rude to knowingly bring unruly children on a plane?',\n",
       " 20: \"Have you ever used personal electronics during take off or landing in violation of a flight attendant's direction?\",\n",
       " 21: 'Have you ever smoked a cigarette in an airplane bathroom when it was against the rules?',\n",
       " 22: 'Gender',\n",
       " 23: 'Age',\n",
       " 24: 'Household Income',\n",
       " 25: 'Education',\n",
       " 26: 'Location (Census Region)'}"
      ]
     },
     "execution_count": 8,
     "metadata": {},
     "output_type": "execute_result"
    }
   ],
   "source": [
    "column_dict"
   ]
  },
  {
   "cell_type": "code",
   "execution_count": 9,
   "metadata": {
    "collapsed": false
   },
   "outputs": [],
   "source": [
    "# rename columns with shorter name\n",
    "\n",
    "df.columns = ['id', 'travel_freq', 'do_you_recline', 'height', 'have_children','three_seats_arm_rest', 'two_seats_arm_rest', \\\n",
    "             'window_shade', 'unsold_seat', 'rude_to_chat', 'getting_up', 'recline_obligation', 'recline_rude', 'elim_recline',\\\n",
    "             'rude_to_switch_friends', 'rude_to_switch_family','rude_to_wake_bathrm', 'rude_to_wake_walk', 'rude_baby', 'rude_unrly_children', \\\n",
    "             'electronics', 'smoked', 'gender', 'age', 'income', 'edu', 'location']"
   ]
  },
  {
   "cell_type": "code",
   "execution_count": 10,
   "metadata": {
    "collapsed": false
   },
   "outputs": [
    {
     "data": {
      "text/html": [
       "<div>\n",
       "<table border=\"1\" class=\"dataframe\">\n",
       "  <thead>\n",
       "    <tr style=\"text-align: right;\">\n",
       "      <th></th>\n",
       "      <th>id</th>\n",
       "      <th>travel_freq</th>\n",
       "      <th>do_you_recline</th>\n",
       "      <th>height</th>\n",
       "      <th>have_children</th>\n",
       "      <th>three_seats_arm_rest</th>\n",
       "      <th>two_seats_arm_rest</th>\n",
       "      <th>window_shade</th>\n",
       "      <th>unsold_seat</th>\n",
       "      <th>rude_to_chat</th>\n",
       "      <th>...</th>\n",
       "      <th>rude_to_wake_walk</th>\n",
       "      <th>rude_baby</th>\n",
       "      <th>rude_unrly_children</th>\n",
       "      <th>electronics</th>\n",
       "      <th>smoked</th>\n",
       "      <th>gender</th>\n",
       "      <th>age</th>\n",
       "      <th>income</th>\n",
       "      <th>edu</th>\n",
       "      <th>location</th>\n",
       "    </tr>\n",
       "  </thead>\n",
       "  <tbody>\n",
       "    <tr>\n",
       "      <th>0</th>\n",
       "      <td>3436139758</td>\n",
       "      <td>Once a year or less</td>\n",
       "      <td>NaN</td>\n",
       "      <td>NaN</td>\n",
       "      <td>NaN</td>\n",
       "      <td>NaN</td>\n",
       "      <td>NaN</td>\n",
       "      <td>NaN</td>\n",
       "      <td>NaN</td>\n",
       "      <td>NaN</td>\n",
       "      <td>...</td>\n",
       "      <td>NaN</td>\n",
       "      <td>NaN</td>\n",
       "      <td>NaN</td>\n",
       "      <td>NaN</td>\n",
       "      <td>NaN</td>\n",
       "      <td>NaN</td>\n",
       "      <td>NaN</td>\n",
       "      <td>NaN</td>\n",
       "      <td>NaN</td>\n",
       "      <td>NaN</td>\n",
       "    </tr>\n",
       "    <tr>\n",
       "      <th>1</th>\n",
       "      <td>3434278696</td>\n",
       "      <td>Once a year or less</td>\n",
       "      <td>About half the time</td>\n",
       "      <td>6'3\"</td>\n",
       "      <td>Yes</td>\n",
       "      <td>The arm rests should be shared</td>\n",
       "      <td>The arm rests should be shared</td>\n",
       "      <td>Everyone in the row should have some say</td>\n",
       "      <td>No, not rude at all</td>\n",
       "      <td>No, not at all rude</td>\n",
       "      <td>...</td>\n",
       "      <td>No, not at all rude</td>\n",
       "      <td>No, not at all rude</td>\n",
       "      <td>No, not at all rude</td>\n",
       "      <td>No</td>\n",
       "      <td>No</td>\n",
       "      <td>Male</td>\n",
       "      <td>30-44</td>\n",
       "      <td>NaN</td>\n",
       "      <td>Graduate degree</td>\n",
       "      <td>Pacific</td>\n",
       "    </tr>\n",
       "    <tr>\n",
       "      <th>2</th>\n",
       "      <td>3434275578</td>\n",
       "      <td>Once a year or less</td>\n",
       "      <td>Usually</td>\n",
       "      <td>5'8\"</td>\n",
       "      <td>No</td>\n",
       "      <td>Whoever puts their arm on the arm rest first</td>\n",
       "      <td>The arm rests should be shared</td>\n",
       "      <td>The person in the window seat should have excl...</td>\n",
       "      <td>No, not rude at all</td>\n",
       "      <td>No, not at all rude</td>\n",
       "      <td>...</td>\n",
       "      <td>Yes, somewhat rude</td>\n",
       "      <td>Yes, somewhat rude</td>\n",
       "      <td>Yes, very rude</td>\n",
       "      <td>No</td>\n",
       "      <td>No</td>\n",
       "      <td>Male</td>\n",
       "      <td>30-44</td>\n",
       "      <td>$100,000 - $149,999</td>\n",
       "      <td>Bachelor degree</td>\n",
       "      <td>Pacific</td>\n",
       "    </tr>\n",
       "  </tbody>\n",
       "</table>\n",
       "<p>3 rows × 27 columns</p>\n",
       "</div>"
      ],
      "text/plain": [
       "           id          travel_freq       do_you_recline height have_children  \\\n",
       "0  3436139758  Once a year or less                  NaN    NaN           NaN   \n",
       "1  3434278696  Once a year or less  About half the time   6'3\"           Yes   \n",
       "2  3434275578  Once a year or less              Usually   5'8\"            No   \n",
       "\n",
       "                           three_seats_arm_rest  \\\n",
       "0                                           NaN   \n",
       "1                The arm rests should be shared   \n",
       "2  Whoever puts their arm on the arm rest first   \n",
       "\n",
       "               two_seats_arm_rest  \\\n",
       "0                             NaN   \n",
       "1  The arm rests should be shared   \n",
       "2  The arm rests should be shared   \n",
       "\n",
       "                                        window_shade          unsold_seat  \\\n",
       "0                                                NaN                  NaN   \n",
       "1           Everyone in the row should have some say  No, not rude at all   \n",
       "2  The person in the window seat should have excl...  No, not rude at all   \n",
       "\n",
       "          rude_to_chat   ...       rude_to_wake_walk            rude_baby  \\\n",
       "0                  NaN   ...                     NaN                  NaN   \n",
       "1  No, not at all rude   ...     No, not at all rude  No, not at all rude   \n",
       "2  No, not at all rude   ...      Yes, somewhat rude   Yes, somewhat rude   \n",
       "\n",
       "   rude_unrly_children electronics smoked gender    age               income  \\\n",
       "0                  NaN         NaN    NaN    NaN    NaN                  NaN   \n",
       "1  No, not at all rude          No     No   Male  30-44                  NaN   \n",
       "2       Yes, very rude          No     No   Male  30-44  $100,000 - $149,999   \n",
       "\n",
       "               edu location  \n",
       "0              NaN      NaN  \n",
       "1  Graduate degree  Pacific  \n",
       "2  Bachelor degree  Pacific  \n",
       "\n",
       "[3 rows x 27 columns]"
      ]
     },
     "execution_count": 10,
     "metadata": {},
     "output_type": "execute_result"
    }
   ],
   "source": [
    "# view head again - now just 3 rows\n",
    "\n",
    "df.head(n=3)"
   ]
  },
  {
   "cell_type": "code",
   "execution_count": 11,
   "metadata": {
    "collapsed": false
   },
   "outputs": [
    {
     "data": {
      "text/html": [
       "<div>\n",
       "<table border=\"1\" class=\"dataframe\">\n",
       "  <thead>\n",
       "    <tr style=\"text-align: right;\">\n",
       "      <th></th>\n",
       "      <th>id</th>\n",
       "      <th>travel_freq</th>\n",
       "      <th>do_you_recline</th>\n",
       "      <th>height</th>\n",
       "      <th>have_children</th>\n",
       "      <th>three_seats_arm_rest</th>\n",
       "      <th>two_seats_arm_rest</th>\n",
       "      <th>window_shade</th>\n",
       "      <th>unsold_seat</th>\n",
       "      <th>rude_to_chat</th>\n",
       "      <th>...</th>\n",
       "      <th>rude_to_wake_walk</th>\n",
       "      <th>rude_baby</th>\n",
       "      <th>rude_unrly_children</th>\n",
       "      <th>electronics</th>\n",
       "      <th>smoked</th>\n",
       "      <th>gender</th>\n",
       "      <th>age</th>\n",
       "      <th>income</th>\n",
       "      <th>edu</th>\n",
       "      <th>location</th>\n",
       "    </tr>\n",
       "  </thead>\n",
       "  <tbody>\n",
       "    <tr>\n",
       "      <th>1037</th>\n",
       "      <td>3431731485</td>\n",
       "      <td>Never</td>\n",
       "      <td>NaN</td>\n",
       "      <td>NaN</td>\n",
       "      <td>NaN</td>\n",
       "      <td>NaN</td>\n",
       "      <td>NaN</td>\n",
       "      <td>NaN</td>\n",
       "      <td>NaN</td>\n",
       "      <td>NaN</td>\n",
       "      <td>...</td>\n",
       "      <td>NaN</td>\n",
       "      <td>NaN</td>\n",
       "      <td>NaN</td>\n",
       "      <td>NaN</td>\n",
       "      <td>NaN</td>\n",
       "      <td>Female</td>\n",
       "      <td>&gt; 60</td>\n",
       "      <td>NaN</td>\n",
       "      <td>Some college or Associate degree</td>\n",
       "      <td>East North Central</td>\n",
       "    </tr>\n",
       "    <tr>\n",
       "      <th>1038</th>\n",
       "      <td>3431731196</td>\n",
       "      <td>Never</td>\n",
       "      <td>NaN</td>\n",
       "      <td>NaN</td>\n",
       "      <td>NaN</td>\n",
       "      <td>NaN</td>\n",
       "      <td>NaN</td>\n",
       "      <td>NaN</td>\n",
       "      <td>NaN</td>\n",
       "      <td>NaN</td>\n",
       "      <td>...</td>\n",
       "      <td>NaN</td>\n",
       "      <td>NaN</td>\n",
       "      <td>NaN</td>\n",
       "      <td>NaN</td>\n",
       "      <td>NaN</td>\n",
       "      <td>Female</td>\n",
       "      <td>30-44</td>\n",
       "      <td>$50,000 - $99,999</td>\n",
       "      <td>Bachelor degree</td>\n",
       "      <td>New England</td>\n",
       "    </tr>\n",
       "    <tr>\n",
       "      <th>1039</th>\n",
       "      <td>3431729581</td>\n",
       "      <td>Once a year or less</td>\n",
       "      <td>Once in a while</td>\n",
       "      <td>6'3\"</td>\n",
       "      <td>No</td>\n",
       "      <td>The arm rests should be shared</td>\n",
       "      <td>The arm rests should be shared</td>\n",
       "      <td>Everyone in the row should have some say</td>\n",
       "      <td>No, not rude at all</td>\n",
       "      <td>No, not at all rude</td>\n",
       "      <td>...</td>\n",
       "      <td>Yes, somewhat rude</td>\n",
       "      <td>Yes, somewhat rude</td>\n",
       "      <td>Yes, very rude</td>\n",
       "      <td>No</td>\n",
       "      <td>No</td>\n",
       "      <td>Male</td>\n",
       "      <td>&gt; 60</td>\n",
       "      <td>$50,000 - $99,999</td>\n",
       "      <td>Bachelor degree</td>\n",
       "      <td>Pacific</td>\n",
       "    </tr>\n",
       "  </tbody>\n",
       "</table>\n",
       "<p>3 rows × 27 columns</p>\n",
       "</div>"
      ],
      "text/plain": [
       "              id          travel_freq   do_you_recline height have_children  \\\n",
       "1037  3431731485                Never              NaN    NaN           NaN   \n",
       "1038  3431731196                Never              NaN    NaN           NaN   \n",
       "1039  3431729581  Once a year or less  Once in a while   6'3\"            No   \n",
       "\n",
       "                three_seats_arm_rest              two_seats_arm_rest  \\\n",
       "1037                             NaN                             NaN   \n",
       "1038                             NaN                             NaN   \n",
       "1039  The arm rests should be shared  The arm rests should be shared   \n",
       "\n",
       "                                  window_shade          unsold_seat  \\\n",
       "1037                                       NaN                  NaN   \n",
       "1038                                       NaN                  NaN   \n",
       "1039  Everyone in the row should have some say  No, not rude at all   \n",
       "\n",
       "             rude_to_chat         ...           rude_to_wake_walk  \\\n",
       "1037                  NaN         ...                         NaN   \n",
       "1038                  NaN         ...                         NaN   \n",
       "1039  No, not at all rude         ...          Yes, somewhat rude   \n",
       "\n",
       "               rude_baby rude_unrly_children electronics smoked  gender  \\\n",
       "1037                 NaN                 NaN         NaN    NaN  Female   \n",
       "1038                 NaN                 NaN         NaN    NaN  Female   \n",
       "1039  Yes, somewhat rude      Yes, very rude          No     No    Male   \n",
       "\n",
       "        age             income                               edu  \\\n",
       "1037   > 60                NaN  Some college or Associate degree   \n",
       "1038  30-44  $50,000 - $99,999                   Bachelor degree   \n",
       "1039   > 60  $50,000 - $99,999                   Bachelor degree   \n",
       "\n",
       "                location  \n",
       "1037  East North Central  \n",
       "1038         New England  \n",
       "1039             Pacific  \n",
       "\n",
       "[3 rows x 27 columns]"
      ]
     },
     "execution_count": 11,
     "metadata": {},
     "output_type": "execute_result"
    }
   ],
   "source": [
    "# view the last 3 rows\n",
    "df.tail(n=3)\n"
   ]
  },
  {
   "cell_type": "code",
   "execution_count": 12,
   "metadata": {
    "collapsed": false,
    "scrolled": true
   },
   "outputs": [
    {
     "data": {
      "text/plain": [
       "pandas.core.frame.DataFrame"
      ]
     },
     "execution_count": 12,
     "metadata": {},
     "output_type": "execute_result"
    }
   ],
   "source": [
    "# check the data type of the DataFrame\n",
    "type(df)"
   ]
  },
  {
   "cell_type": "code",
   "execution_count": 13,
   "metadata": {
    "collapsed": false
   },
   "outputs": [
    {
     "name": "stdout",
     "output_type": "stream",
     "text": [
      "6\n",
      "['Once a year or less' 'Once a month or less' 'Never'\n",
      " 'A few times per week' 'Every day' 'A few times per month']\n"
     ]
    }
   ],
   "source": [
    "# How many unique travel frequencies are there? What are they?\n",
    "print df['travel_freq'].nunique()\n",
    "print df['travel_freq'].unique()"
   ]
  },
  {
   "cell_type": "code",
   "execution_count": 14,
   "metadata": {
    "collapsed": false
   },
   "outputs": [
    {
     "name": "stdout",
     "output_type": "stream",
     "text": [
      "9\n",
      "[nan 'Pacific' 'East North Central' 'New England' 'Mountain'\n",
      " 'South Atlantic' 'East South Central' 'Middle Atlantic'\n",
      " 'West North Central' 'West South Central']\n"
     ]
    }
   ],
   "source": [
    "# How many unique regions are there? What are they?\n",
    "\n",
    "print df['location'].nunique()\n",
    "print df['location'].unique()"
   ]
  },
  {
   "cell_type": "code",
   "execution_count": 15,
   "metadata": {
    "collapsed": false
   },
   "outputs": [],
   "source": [
    "# Select just those columns that relate to the personal characteristics of the person\n",
    "# Save that as a DataFrame name char\n",
    "char = df[['id', 'height', 'gender', 'have_children', 'age', 'income', 'edu', 'location']]"
   ]
  },
  {
   "cell_type": "code",
   "execution_count": 16,
   "metadata": {
    "collapsed": false,
    "scrolled": true
   },
   "outputs": [
    {
     "data": {
      "text/plain": [
       "pandas.core.frame.DataFrame"
      ]
     },
     "execution_count": 16,
     "metadata": {},
     "output_type": "execute_result"
    }
   ],
   "source": [
    "type(char)"
   ]
  },
  {
   "cell_type": "code",
   "execution_count": 17,
   "metadata": {
    "collapsed": false
   },
   "outputs": [
    {
     "data": {
      "text/html": [
       "<div>\n",
       "<table border=\"1\" class=\"dataframe\">\n",
       "  <thead>\n",
       "    <tr style=\"text-align: right;\">\n",
       "      <th></th>\n",
       "      <th>id</th>\n",
       "      <th>height</th>\n",
       "      <th>gender</th>\n",
       "      <th>have_children</th>\n",
       "      <th>age</th>\n",
       "      <th>income</th>\n",
       "      <th>edu</th>\n",
       "      <th>location</th>\n",
       "    </tr>\n",
       "  </thead>\n",
       "  <tbody>\n",
       "    <tr>\n",
       "      <th>0</th>\n",
       "      <td>3436139758</td>\n",
       "      <td>NaN</td>\n",
       "      <td>NaN</td>\n",
       "      <td>NaN</td>\n",
       "      <td>NaN</td>\n",
       "      <td>NaN</td>\n",
       "      <td>NaN</td>\n",
       "      <td>NaN</td>\n",
       "    </tr>\n",
       "    <tr>\n",
       "      <th>1</th>\n",
       "      <td>3434278696</td>\n",
       "      <td>6'3\"</td>\n",
       "      <td>Male</td>\n",
       "      <td>Yes</td>\n",
       "      <td>30-44</td>\n",
       "      <td>NaN</td>\n",
       "      <td>Graduate degree</td>\n",
       "      <td>Pacific</td>\n",
       "    </tr>\n",
       "    <tr>\n",
       "      <th>2</th>\n",
       "      <td>3434275578</td>\n",
       "      <td>5'8\"</td>\n",
       "      <td>Male</td>\n",
       "      <td>No</td>\n",
       "      <td>30-44</td>\n",
       "      <td>$100,000 - $149,999</td>\n",
       "      <td>Bachelor degree</td>\n",
       "      <td>Pacific</td>\n",
       "    </tr>\n",
       "  </tbody>\n",
       "</table>\n",
       "</div>"
      ],
      "text/plain": [
       "           id height gender have_children    age               income  \\\n",
       "0  3436139758    NaN    NaN           NaN    NaN                  NaN   \n",
       "1  3434278696   6'3\"   Male           Yes  30-44                  NaN   \n",
       "2  3434275578   5'8\"   Male            No  30-44  $100,000 - $149,999   \n",
       "\n",
       "               edu location  \n",
       "0              NaN      NaN  \n",
       "1  Graduate degree  Pacific  \n",
       "2  Bachelor degree  Pacific  "
      ]
     },
     "execution_count": 17,
     "metadata": {},
     "output_type": "execute_result"
    }
   ],
   "source": [
    "char[0:3]"
   ]
  },
  {
   "cell_type": "code",
   "execution_count": null,
   "metadata": {
    "collapsed": false,
    "scrolled": true
   },
   "outputs": [],
   "source": [
    "# From the new char DataFrame, select the height. Can you create a histogram?\n",
    "\n",
    "char['height'][0:3]"
   ]
  },
  {
   "cell_type": "code",
   "execution_count": null,
   "metadata": {
    "collapsed": false
   },
   "outputs": [],
   "source": [
    "df['height'].hist()\n",
    "###cannot make histogram this way; go to next question"
   ]
  },
  {
   "cell_type": "code",
   "execution_count": null,
   "metadata": {
    "collapsed": false,
    "scrolled": true
   },
   "outputs": [],
   "source": [
    "# Create a histogram by creating a list comprehension + a function to turn the data into inches\n",
    "###Must solve\n",
    "inches_list = [char['height'].tolist()]"
   ]
  },
  {
   "cell_type": "code",
   "execution_count": null,
   "metadata": {
    "collapsed": false
   },
   "outputs": [],
   "source": [
    "inches_list[0][1][2]"
   ]
  },
  {
   "cell_type": "code",
   "execution_count": null,
   "metadata": {
    "collapsed": false
   },
   "outputs": [],
   "source": [
    "for i in inches_list:\n",
    "    for a in i:\n",
    "        if a != int:\n",
    "            del a\n",
    "        elif a == int:\n",
    "            a"
   ]
  },
  {
   "cell_type": "code",
   "execution_count": null,
   "metadata": {
    "collapsed": false
   },
   "outputs": [],
   "source": [
    "inches_list[0][1][1]"
   ]
  },
  {
   "cell_type": "code",
   "execution_count": null,
   "metadata": {
    "collapsed": false
   },
   "outputs": [],
   "source": [
    "inches_list"
   ]
  },
  {
   "cell_type": "code",
   "execution_count": null,
   "metadata": {
    "collapsed": false
   },
   "outputs": [],
   "source": [
    "inches_list[0][0:4]"
   ]
  },
  {
   "cell_type": "code",
   "execution_count": null,
   "metadata": {
    "collapsed": false,
    "scrolled": true
   },
   "outputs": [],
   "source": [
    "# Slice the first 3 columns using .iloc notation, then use the double bracket notation\n",
    "\n",
    "df.iloc[0:,0:3]\n",
    "###of df.iloc[:,:3]"
   ]
  },
  {
   "cell_type": "code",
   "execution_count": null,
   "metadata": {
    "collapsed": false
   },
   "outputs": [],
   "source": [
    "df[['id', 'travel_freq', 'do_you_recline']][:3]"
   ]
  },
  {
   "cell_type": "code",
   "execution_count": null,
   "metadata": {
    "collapsed": false
   },
   "outputs": [],
   "source": [
    "## Create a dictionary using .unique and a dictionary comprehension\n",
    "## Then use a list comprehension with a function to update the count the number of degrees\n",
    "## How many degreee of each type are there?\n",
    "\n",
    "col_dict = {k:0 for k in df['edu'].unique()}"
   ]
  },
  {
   "cell_type": "code",
   "execution_count": null,
   "metadata": {
    "collapsed": false
   },
   "outputs": [],
   "source": [
    "df.value_counts()"
   ]
  },
  {
   "cell_type": "code",
   "execution_count": null,
   "metadata": {
    "collapsed": false
   },
   "outputs": [],
   "source": []
  },
  {
   "cell_type": "code",
   "execution_count": null,
   "metadata": {
    "collapsed": false
   },
   "outputs": [],
   "source": [
    "# Now use the education column with the .value_counts() method to check your work. Are they the same?\n",
    "\n"
   ]
  },
  {
   "cell_type": "code",
   "execution_count": null,
   "metadata": {
    "collapsed": true
   },
   "outputs": [],
   "source": []
  }
 ],
 "metadata": {
  "kernelspec": {
   "display_name": "Python 2",
   "language": "python",
   "name": "python2"
  },
  "language_info": {
   "codemirror_mode": {
    "name": "ipython",
    "version": 2
   },
   "file_extension": ".py",
   "mimetype": "text/x-python",
   "name": "python",
   "nbconvert_exporter": "python",
   "pygments_lexer": "ipython2",
   "version": "2.7.12"
  }
 },
 "nbformat": 4,
 "nbformat_minor": 0
}
