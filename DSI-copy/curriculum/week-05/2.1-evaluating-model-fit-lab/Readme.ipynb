{
 "cells": [
  {
   "cell_type": "markdown",
   "metadata": {},
   "source": [
    "\n",
    "## Introduction\n",
    "\n",
    "This lab demonstrates your knowledge and understanding of kNN classifications on a dataset using Python syntax and the kNN functions library.\n",
    "\n",
    "## Exercise\n",
    "\n",
    "Using the [wine quality dataset](https://s3.amazonaws.com/demo-datasets/wine.csv), build a kNN classifier on ‘density’, ‘sulphates’, and ‘residual sugar’ features, with ‘high quality’ as target.\n",
    "\n",
    "- Determine the best k-value by looping through a range\n",
    "- Plot the results of your analysis\n",
    "\n",
    "#### Requirements\n",
    "\n",
    "- Develop a Python program to perform kNN Classification on the dataset\n",
    "- Tune the kNN model by finding the optimal K value\n",
    "\n",
    "BONUS:\n",
    "- Run Logistic Regression on the dataset\n",
    "- Tune Logistic model with regularization\n",
    "\n",
    "#### Starter code\n",
    "- Python [Starter Code](./code/starter-code/week4-2.4-starter.ipynb)\n",
    "\n",
    "#### Deliverable\n",
    "\n",
    "- Program to perform kNN Classification, iteratively searching for the best k\n",
    "\n",
    "BONUS:\n",
    "- Create a short writeup interpreting your findings\n",
    "- Build a logistic regression model\n",
    "- Compare your models with an ROC chart and/or AUC score\n",
    "\n",
    "## Additional Resources\n",
    "\n",
    "- [kNN Tutorial](http://machinelearningmastery.com/tutorial-to-implement-k-nearest-neighbors-in-python-from-scratch/)\n",
    "- [KNN Description](http://www.saedsayad.com/k_nearest_neighbors.htm)\n",
    "- [KNN Classification & Assumptions](https://saravananthirumuruganathan.wordpress.com/2010/05/17/a-detailed-introduction-to-k-nearest-neighbor-knn-algorithm/)\n"
   ]
  },
  {
   "cell_type": "code",
   "execution_count": null,
   "metadata": {
    "collapsed": true
   },
   "outputs": [],
   "source": []
  }
 ],
 "metadata": {
  "kernelspec": {
   "display_name": "Python 2",
   "language": "python",
   "name": "python2"
  },
  "language_info": {
   "codemirror_mode": {
    "name": "ipython",
    "version": 2
   },
   "file_extension": ".py",
   "mimetype": "text/x-python",
   "name": "python",
   "nbconvert_exporter": "python",
   "pygments_lexer": "ipython2",
   "version": "2.7.12"
  }
 },
 "nbformat": 4,
 "nbformat_minor": 0
}
