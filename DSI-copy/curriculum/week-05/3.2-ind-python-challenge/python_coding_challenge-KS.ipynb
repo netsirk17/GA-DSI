{
 "cells": [
  {
   "cell_type": "markdown",
   "metadata": {},
   "source": [
    "<img src=\"https://ga-dash.s3.amazonaws.com/production/assets/logo-9f88ae6c9c3871690e33280fcf557f33.png\" style=\"float: left; margin: 10px\">\n",
    "\n",
    "\n",
    "\n",
    "# Individual Coding Challenge\n",
    "Week 5 | Day 3\n",
    "\n",
    "There are a series of exercises in this notebook that you will need to perform. This challenge to be done individually - without help from either fellow students or the instructors. You are free to use the documention or any online resources you choose. You will have one hour to complete this workbook. If you get stuck on one question keep moving.\n",
    "\n",
    "It must be submitted before 11.30 AM via a Slack DM or email to me (@winston / winston.featherly-bean@ga.co). \n",
    "\n",
    "#### - NO LATE ENTRIES WILL BE ACCEPTED - \n",
    "\n",
    "The Slack timestamp of submission will be definitive."
   ]
  },
  {
   "cell_type": "markdown",
   "metadata": {},
   "source": [
    "### 1. Without using any external libraries (e.g. numpy, pandas), create a list of integers at least 10 elements long and calculate: a) the mean, b) the standard deviation"
   ]
  },
  {
   "cell_type": "code",
   "execution_count": 27,
   "metadata": {
    "collapsed": false
   },
   "outputs": [
    {
     "name": "stdout",
     "output_type": "stream",
     "text": [
      "i_list mean:  5.5\n",
      "i_list sd:  3.0276503541\n"
     ]
    }
   ],
   "source": [
    "i_list = [1,2,3,4,5,6,7,8,9,10]\n",
    "i_mean = float(sum(i_list))/len(i_list)\n",
    "i_bars = []\n",
    "for i in i_list:\n",
    "    bars = (i-i_mean)**2\n",
    "    i_bars.append(bars)\n",
    "i_sd = (sum(i_bars)/(len(i_list)-1))**0.5\n",
    "\n",
    "print 'i_list mean: ', i_mean\n",
    "print 'i_list sd: ', i_sd"
   ]
  },
  {
   "cell_type": "markdown",
   "metadata": {},
   "source": [
    "### 2. Write code that prompts the user for a name, then returns the associated phone number from this dictionary:\n",
    "\n",
    "\n",
    "`{\"Jerry\" : \"212-555-3015\",\n",
    "\"Elaine\" : \"212-683-5555\",\n",
    "\"Kramer\" : \"212-555-0804\",\n",
    "\"George\" : \"646-111-0000\",\n",
    "\"Newman\" : \"917-666-6666\"\n",
    "}`\n",
    "\n",
    "E.g. you should see an output like:\n",
    "\n",
    "`Who do you want to call? Jerry\n",
    "212-555-3015`"
   ]
  },
  {
   "cell_type": "code",
   "execution_count": 16,
   "metadata": {
    "collapsed": false
   },
   "outputs": [],
   "source": [
    "phone_dict = {\"Jerry\" : \"212-555-3015\",\n",
    "\"Elaine\" : \"212-683-5555\",\n",
    "\"Kramer\" : \"212-555-0804\",\n",
    "\"George\" : \"646-111-0000\",\n",
    "\"Newman\" : \"917-666-6666\"}\n",
    "def phone_call():\n",
    "    x = raw_input('Who do you want to call? Please refer to phone_list for names. ')\n",
    "    print 'The phone number for ' + x + ' is: '\n",
    "    return phone_dict[x]\n",
    "\n"
   ]
  },
  {
   "cell_type": "code",
   "execution_count": 26,
   "metadata": {
    "collapsed": false
   },
   "outputs": [
    {
     "name": "stdout",
     "output_type": "stream",
     "text": [
      "Who do you want to call? Please refer to phone_list for names. Elaine\n",
      "The phone number for Elaine is: \n"
     ]
    },
    {
     "data": {
      "text/plain": [
       "'212-683-5555'"
      ]
     },
     "execution_count": 26,
     "metadata": {},
     "output_type": "execute_result"
    }
   ],
   "source": [
    "phone_call()"
   ]
  },
  {
   "cell_type": "markdown",
   "metadata": {},
   "source": [
    "### 3. Define a function that accepts a string, converts its alphabetical characters to lower case, removes trailing or leading whitespace, and returns the result.\n",
    "\n",
    "E.g. `\"hello this is a test   \"` should return `['hello', 'this', 'is', 'a', 'test']`"
   ]
  },
  {
   "cell_type": "code",
   "execution_count": 45,
   "metadata": {
    "collapsed": false
   },
   "outputs": [],
   "source": [
    "def clean_string(some_string):\n",
    "    x = some_string.replace(' ', ',').lower().strip()\n",
    "    x_list = []\n",
    "    for i in str.split(x, ','):\n",
    "        x_list.append(i)\n",
    "    return x_list\n",
    "    "
   ]
  },
  {
   "cell_type": "code",
   "execution_count": 46,
   "metadata": {
    "collapsed": false
   },
   "outputs": [
    {
     "data": {
      "text/plain": [
       "['hihihiii', 'blah', 'blah..', '.', '', '...', '', '', 'x', 't', 'y']"
      ]
     },
     "execution_count": 46,
     "metadata": {},
     "output_type": "execute_result"
    }
   ],
   "source": [
    "clean_string('HiHiHIII blah blah.. .  ...   x t y')"
   ]
  },
  {
   "cell_type": "markdown",
   "metadata": {},
   "source": [
    "### 4. Write a program that prints the numbers from 1 to 100. But for multiples of three print “Buzz” instead of the number and for the multiples of five print \"Fizz”. For numbers which are multiples of both three and five print “BuzzFizz” \n",
    "\n",
    "For example, the numbers 8-15 look like: ... 8 Buzz 9 Fizz 11 Buzz 13 14 BuzzFizz ..."
   ]
  },
  {
   "cell_type": "code",
   "execution_count": 69,
   "metadata": {
    "collapsed": false
   },
   "outputs": [
    {
     "name": "stdout",
     "output_type": "stream",
     "text": [
      "1\n",
      "2\n",
      "3 Buzz\n",
      "4\n",
      "5 BuzzFizz\n",
      "6 Buzz\n",
      "7\n",
      "8\n",
      "9 Buzz\n",
      "10 BuzzFizz\n",
      "11\n",
      "12 Buzz\n",
      "13\n",
      "14\n",
      "15 Buzz\n",
      "16\n",
      "17\n",
      "18 Buzz\n",
      "19\n",
      "20 BuzzFizz\n",
      "21 Buzz\n",
      "22\n",
      "23\n",
      "24 Buzz\n",
      "25 BuzzFizz\n",
      "26\n",
      "27 Buzz\n",
      "28\n",
      "29\n",
      "30 Buzz\n",
      "31\n",
      "32\n",
      "33 Buzz\n",
      "34\n",
      "35 BuzzFizz\n",
      "36 Buzz\n",
      "37\n",
      "38\n",
      "39 Buzz\n",
      "40 BuzzFizz\n",
      "41\n",
      "42 Buzz\n",
      "43\n",
      "44\n",
      "45 Buzz\n",
      "46\n",
      "47\n",
      "48 Buzz\n",
      "49\n",
      "50 BuzzFizz\n",
      "51 Buzz\n",
      "52\n",
      "53\n",
      "54 Buzz\n",
      "55 BuzzFizz\n",
      "56\n",
      "57 Buzz\n",
      "58\n",
      "59\n",
      "60 Buzz\n",
      "61\n",
      "62\n",
      "63 Buzz\n",
      "64\n",
      "65 BuzzFizz\n",
      "66 Buzz\n",
      "67\n",
      "68\n",
      "69 Buzz\n",
      "70 BuzzFizz\n",
      "71\n",
      "72 Buzz\n",
      "73\n",
      "74\n",
      "75 Buzz\n",
      "76\n",
      "77\n",
      "78 Buzz\n",
      "79\n",
      "80 BuzzFizz\n",
      "81 Buzz\n",
      "82\n",
      "83\n",
      "84 Buzz\n",
      "85 BuzzFizz\n",
      "86\n",
      "87 Buzz\n",
      "88\n",
      "89\n",
      "90 Buzz\n",
      "91\n",
      "92\n",
      "93 Buzz\n",
      "94\n",
      "95 BuzzFizz\n",
      "96 Buzz\n",
      "97\n",
      "98\n",
      "99 Buzz\n",
      "100 BuzzFizz\n"
     ]
    }
   ],
   "source": [
    "for i in range(1, 101):\n",
    "    if i%3 and i%5 == 0:\n",
    "        print str(i) + \" BuzzFizz\"\n",
    "    elif  i%3 == 0:\n",
    "        print str(i) + \" Buzz\"\n",
    "    elif i%5 == 0:\n",
    "        print str(i) + \" Fizz\"\n",
    "    else:\n",
    "        print i"
   ]
  },
  {
   "cell_type": "markdown",
   "metadata": {},
   "source": [
    "### 5. Using the `requests` library and a for- or while- loop, send 5 HTTP GET requests to google.com (or another site of your choice). For each result, select the value of the 'Date' header and split its elements into a list. Print the `hour:minute:second` elements of these lists.\n",
    "\n",
    "E.g.:\n",
    "\n",
    "`\n",
    "13:35:11\n",
    "13:35:12\n",
    "13:35:12\n",
    "13:35:12\n",
    "13:35:12\n",
    "`"
   ]
  },
  {
   "cell_type": "code",
   "execution_count": 2,
   "metadata": {
    "ExecuteTime": {
     "end_time": "2016-10-21T16:25:08.799960",
     "start_time": "2016-10-21T16:25:08.685254"
    },
    "collapsed": false
   },
   "outputs": [],
   "source": [
    "import requests"
   ]
  },
  {
   "cell_type": "code",
   "execution_count": 9,
   "metadata": {
    "ExecuteTime": {
     "end_time": "2016-10-21T16:27:01.939030",
     "start_time": "2016-10-21T16:26:58.399260"
    },
    "collapsed": false
   },
   "outputs": [],
   "source": [
    "date_list = []\n",
    "for i in range(6):\n",
    "    i = requests.get('https://www.google.com')\n",
    "    date_list.append(i.headers['Date'].split()[-2])"
   ]
  },
  {
   "cell_type": "code",
   "execution_count": 10,
   "metadata": {
    "ExecuteTime": {
     "end_time": "2016-10-21T16:27:01.947450",
     "start_time": "2016-10-21T16:27:01.941221"
    },
    "collapsed": false
   },
   "outputs": [
    {
     "data": {
      "text/plain": [
       "['20:26:59', '20:26:59', '20:27:00', '20:27:00', '20:27:01', '20:27:01']"
      ]
     },
     "execution_count": 10,
     "metadata": {},
     "output_type": "execute_result"
    }
   ],
   "source": [
    "date_list"
   ]
  },
  {
   "cell_type": "markdown",
   "metadata": {},
   "source": [
    "### 6. Define a function that prints out a box of x,y dimensions using the '-' and '|' characters\n",
    "E.g. if your function gets the inputs x=3, y =2, it should print out:\n",
    "\n",
    "```\n",
    "---\n",
    "| |\n",
    "| |\n",
    "---\n",
    "```"
   ]
  },
  {
   "cell_type": "code",
   "execution_count": 14,
   "metadata": {
    "ExecuteTime": {
     "end_time": "2016-10-21T16:30:29.865981",
     "start_time": "2016-10-21T16:30:29.859198"
    },
    "collapsed": false
   },
   "outputs": [
    {
     "name": "stdout",
     "output_type": "stream",
     "text": [
      "---\n",
      "| |\n",
      "| |\n",
      "| |\n",
      "| |\n",
      "| |\n",
      "---\n"
     ]
    }
   ],
   "source": [
    "def rectange(x,y):\n",
    "    print '-' * int(x)\n",
    "    for i in range(0,y):\n",
    "        print '|' + ' '*int(x-2) + '|'\n",
    "    print '-' * int(x)\n",
    "    return\n",
    "rectange(3,5)"
   ]
  },
  {
   "cell_type": "code",
   "execution_count": 120,
   "metadata": {
    "collapsed": false
   },
   "outputs": [
    {
     "ename": "SyntaxError",
     "evalue": "invalid syntax (<ipython-input-120-214060fc493f>, line 5)",
     "output_type": "error",
     "traceback": [
      "\u001b[0;36m  File \u001b[0;32m\"<ipython-input-120-214060fc493f>\"\u001b[0;36m, line \u001b[0;32m5\u001b[0m\n\u001b[0;31m    for len(y+1):\u001b[0m\n\u001b[0m                ^\u001b[0m\n\u001b[0;31mSyntaxError\u001b[0m\u001b[0;31m:\u001b[0m invalid syntax\n"
     ]
    }
   ],
   "source": [
    "def rectangle(x,y):\n",
    "    xd = '-'\n",
    "    yd = '| |'\n",
    "    print xd * x\n",
    "    for range(y+1):\n",
    "        print yd * (y/y)\n",
    "    print xd * x\n"
   ]
  },
  {
   "cell_type": "code",
   "execution_count": 121,
   "metadata": {
    "collapsed": false
   },
   "outputs": [
    {
     "name": "stdout",
     "output_type": "stream",
     "text": [
      "----\n",
      "| |\n",
      "----\n"
     ]
    }
   ],
   "source": [
    "rectangle(4,3)"
   ]
  },
  {
   "cell_type": "code",
   "execution_count": 123,
   "metadata": {
    "collapsed": false
   },
   "outputs": [
    {
     "ename": "SyntaxError",
     "evalue": "invalid syntax (<ipython-input-123-ea2e7282490a>, line 2)",
     "output_type": "error",
     "traceback": [
      "\u001b[0;36m  File \u001b[0;32m\"<ipython-input-123-ea2e7282490a>\"\u001b[0;36m, line \u001b[0;32m2\u001b[0m\n\u001b[0;31m    for range(3):\u001b[0m\n\u001b[0m                ^\u001b[0m\n\u001b[0;31mSyntaxError\u001b[0m\u001b[0;31m:\u001b[0m invalid syntax\n"
     ]
    }
   ],
   "source": [
    "y = 3\n",
    "for range(3):\n",
    "    print yd * (y/y)"
   ]
  },
  {
   "cell_type": "markdown",
   "metadata": {},
   "source": [
    "### 7. Write a function that returns the value at any (column, row) location of [Pascal's triangle](https://en.wikipedia.org/wiki/Pascal%27s_triangle) (not easy!).\n",
    "\n",
    "E.g. pascal(1,2) would return 2 from the structure. Note that this is 0-indexed:\n",
    "\n",
    "\n",
    "```\n",
    "     1\n",
    "    1 1\n",
    "   1 2 1\n",
    "  1 3 3 1\n",
    " 1 4 6 4 1\n",
    "```\n",
    " \n",
    "Explain your solution with comments in the code.\n",
    " "
   ]
  },
  {
   "cell_type": "code",
   "execution_count": 110,
   "metadata": {
    "collapsed": false
   },
   "outputs": [],
   "source": [
    "rows = 5\n",
    "def triangle(rows):\n",
    "    for r in rows:\n",
    "        r_list = []\n",
    "        r_list.append(rows[])\n",
    "    "
   ]
  },
  {
   "cell_type": "code",
   "execution_count": 111,
   "metadata": {
    "collapsed": false
   },
   "outputs": [
    {
     "data": {
      "text/plain": [
       "[]"
      ]
     },
     "execution_count": 111,
     "metadata": {},
     "output_type": "execute_result"
    }
   ],
   "source": [
    "# My idea was for each row in Pascal's triangle return a list of numbers with the list length \n",
    "# dictated by row index (so row 1 would have 1 item, row 2 would have 2 items, etc).\n",
    "# The actual numbers in the rows would be the binomial coefficients"
   ]
  },
  {
   "cell_type": "code",
   "execution_count": null,
   "metadata": {
    "collapsed": true
   },
   "outputs": [],
   "source": []
  }
 ],
 "metadata": {
  "kernelspec": {
   "display_name": "Python 2",
   "language": "python",
   "name": "python2"
  },
  "language_info": {
   "codemirror_mode": {
    "name": "ipython",
    "version": 2
   },
   "file_extension": ".py",
   "mimetype": "text/x-python",
   "name": "python",
   "nbconvert_exporter": "python",
   "pygments_lexer": "ipython2",
   "version": "2.7.12"
  }
 },
 "nbformat": 4,
 "nbformat_minor": 0
}
