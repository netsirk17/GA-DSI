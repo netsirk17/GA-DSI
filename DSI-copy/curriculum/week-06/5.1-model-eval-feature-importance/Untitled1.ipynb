{
 "cells": [
  {
   "cell_type": "code",
   "execution_count": 1,
   "metadata": {
    "ExecuteTime": {
     "end_time": "2016-10-29T13:17:14.646906",
     "start_time": "2016-10-29T13:17:14.623677"
    },
    "collapsed": false
   },
   "outputs": [
    {
     "data": {
      "text/plain": [
       "73"
      ]
     },
     "execution_count": 1,
     "metadata": {},
     "output_type": "execute_result"
    }
   ],
   "source": [
    "crime_rates = [749, 371, 828, 503, 1379, 425, 408, 542, 1405, 835, \\\n",
    "               1288, 647, 974, 1383, 455, 658, 675, 615, 2122, 423, \\\n",
    "               362, 587, 543, 563, 168, 992, 1185, 617, 734, 1263, \\\n",
    "               784, 352, 397, 575, 481, 598, 1750, 399, 1172, 1294, \\\n",
    "               992, 522, 1216, 815, 639, 1154, 1993, 919, 594, 1160, \\\n",
    "               636, 752, 130, 517, 423, 443, 738, 503, 413, 704, 363, \\\n",
    "               401, 597, 1776, 722, 1548, 616, 1171, 724, 990, 169, 1177, 742]\n",
    "len(crime_rates)"
   ]
  },
  {
   "cell_type": "code",
   "execution_count": 3,
   "metadata": {
    "ExecuteTime": {
     "end_time": "2016-10-29T13:18:01.928391",
     "start_time": "2016-10-29T13:18:01.922317"
    },
    "collapsed": false
   },
   "outputs": [
    {
     "data": {
      "text/plain": [
       "55"
      ]
     },
     "execution_count": 3,
     "metadata": {},
     "output_type": "execute_result"
    }
   ],
   "source": [
    "five_hundred = [x for x in crime_rates if x > 500]\n",
    "len(five_hundred)"
   ]
  },
  {
   "cell_type": "code",
   "execution_count": 4,
   "metadata": {
    "ExecuteTime": {
     "end_time": "2016-10-29T13:18:18.777579",
     "start_time": "2016-10-29T13:18:18.771865"
    },
    "collapsed": false
   },
   "outputs": [
    {
     "data": {
      "text/plain": [
       "18"
      ]
     },
     "execution_count": 4,
     "metadata": {},
     "output_type": "execute_result"
    }
   ],
   "source": [
    "not_five_hundred = [x for x in crime_rates if x <= 500]\n",
    "len(not_five_hundred)"
   ]
  },
  {
   "cell_type": "code",
   "execution_count": 5,
   "metadata": {
    "ExecuteTime": {
     "end_time": "2016-10-29T13:20:23.277776",
     "start_time": "2016-10-29T13:20:23.270984"
    },
    "collapsed": false
   },
   "outputs": [
    {
     "data": {
      "text/plain": [
       "2122"
      ]
     },
     "execution_count": 5,
     "metadata": {},
     "output_type": "execute_result"
    }
   ],
   "source": [
    "highest = crime_rates[0]\n",
    "for rate in crime_rates:\n",
    "    if rate > highest:\n",
    "        highest = rate\n",
    "    else:\n",
    "        pass\n",
    "highest"
   ]
  },
  {
   "cell_type": "code",
   "execution_count": 7,
   "metadata": {
    "ExecuteTime": {
     "end_time": "2016-10-29T13:26:10.714505",
     "start_time": "2016-10-29T13:26:10.707873"
    },
    "collapsed": false
   },
   "outputs": [
    {
     "data": {
      "text/plain": [
       "[1, 'c']"
      ]
     },
     "execution_count": 7,
     "metadata": {},
     "output_type": "execute_result"
    }
   ],
   "source": [
    "a = 1\n",
    "b = 'c'\n",
    "c = [a, b]\n",
    "c"
   ]
  },
  {
   "cell_type": "code",
   "execution_count": 11,
   "metadata": {
    "ExecuteTime": {
     "end_time": "2016-10-29T13:27:05.576774",
     "start_time": "2016-10-29T13:27:05.570846"
    },
    "collapsed": false
   },
   "outputs": [
    {
     "data": {
      "text/plain": [
       "[1, 'c']"
      ]
     },
     "execution_count": 11,
     "metadata": {},
     "output_type": "execute_result"
    }
   ],
   "source": [
    "c = [a]\n",
    "c.append(b)\n",
    "c"
   ]
  },
  {
   "cell_type": "code",
   "execution_count": 12,
   "metadata": {
    "ExecuteTime": {
     "end_time": "2016-10-29T14:29:43.209144",
     "start_time": "2016-10-29T14:29:43.204535"
    },
    "collapsed": true
   },
   "outputs": [],
   "source": [
    "animals = [\"cat\", \"dog\", \"rabbit\", \"horse\", \"giant_horrible_monster\"]\n",
    "cat_found = 'cat' in animals\n",
    "space_monster_found = 'space_monster' in animals"
   ]
  },
  {
   "cell_type": "code",
   "execution_count": 13,
   "metadata": {
    "ExecuteTime": {
     "end_time": "2016-10-29T14:29:46.008226",
     "start_time": "2016-10-29T14:29:46.002358"
    },
    "collapsed": false
   },
   "outputs": [
    {
     "data": {
      "text/plain": [
       "False"
      ]
     },
     "execution_count": 13,
     "metadata": {},
     "output_type": "execute_result"
    }
   ],
   "source": [
    "space_monster_found"
   ]
  },
  {
   "cell_type": "code",
   "execution_count": 16,
   "metadata": {
    "ExecuteTime": {
     "end_time": "2016-10-29T14:33:51.807180",
     "start_time": "2016-10-29T14:33:51.802247"
    },
    "collapsed": false
   },
   "outputs": [],
   "source": [
    "weather_types = [\"Rain\", \"Sunny\", \"Fog\", \"Fog-Rain\", \"Thunderstorm\", \"Type of Weather\"]\n",
    "new_weather = weather_types[:-1]\n",
    "weather_type_found = []\n",
    "for item in new_weather:\n",
    "    weather_type_found.append(item in weather_types)"
   ]
  },
  {
   "cell_type": "code",
   "execution_count": 17,
   "metadata": {
    "ExecuteTime": {
     "end_time": "2016-10-29T14:33:58.120122",
     "start_time": "2016-10-29T14:33:58.114349"
    },
    "collapsed": false
   },
   "outputs": [
    {
     "data": {
      "text/plain": [
       "[True, True, True, True, True]"
      ]
     },
     "execution_count": 17,
     "metadata": {},
     "output_type": "execute_result"
    }
   ],
   "source": [
    "weather_type_found"
   ]
  },
  {
   "cell_type": "code",
   "execution_count": null,
   "metadata": {
    "collapsed": true
   },
   "outputs": [],
   "source": []
  }
 ],
 "metadata": {
  "kernelspec": {
   "display_name": "Python 2",
   "language": "python",
   "name": "python2"
  },
  "language_info": {
   "codemirror_mode": {
    "name": "ipython",
    "version": 2
   },
   "file_extension": ".py",
   "mimetype": "text/x-python",
   "name": "python",
   "nbconvert_exporter": "python",
   "pygments_lexer": "ipython2",
   "version": "2.7.12"
  }
 },
 "nbformat": 4,
 "nbformat_minor": 0
}
