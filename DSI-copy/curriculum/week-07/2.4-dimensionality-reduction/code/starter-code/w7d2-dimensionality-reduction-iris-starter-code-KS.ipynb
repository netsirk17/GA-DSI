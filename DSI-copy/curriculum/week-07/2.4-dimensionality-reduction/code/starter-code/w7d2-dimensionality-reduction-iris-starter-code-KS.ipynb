{
 "cells": [
  {
   "cell_type": "code",
   "execution_count": 18,
   "metadata": {
    "ExecuteTime": {
     "end_time": "2016-11-01T15:00:58.727781",
     "start_time": "2016-11-01T15:00:58.420676"
    },
    "collapsed": true
   },
   "outputs": [],
   "source": [
    "import pandas as pd\n",
    "import numpy as np\n",
    "import os\n",
    "from matplotlib import pyplot as plt\n",
    "import seaborn as sns\n",
    "%matplotlib inline\n",
    "import numpy as np\n",
    "import math\n",
    "from sklearn.preprocessing import StandardScaler"
   ]
  },
  {
   "cell_type": "markdown",
   "metadata": {},
   "source": [
    "### Steps\n",
    "- Isolate the feature data\n",
    "- Center and scale the feature data\n",
    "- Calculate their covariance matrix\n",
    "- Calculate the eigenvalues and eigenvectors\n",
    "- Choose the best n principal components\n",
    "- Calculate newly extracted feature data"
   ]
  },
  {
   "cell_type": "code",
   "execution_count": 14,
   "metadata": {
    "ExecuteTime": {
     "end_time": "2016-11-01T14:59:22.659163",
     "start_time": "2016-11-01T14:59:22.636560"
    },
    "collapsed": false
   },
   "outputs": [],
   "source": [
    "filepath = '/users/kristensu/Dropbox/GA-DSI/DSI-copy/curriculum/week-07/2.4-dimensionality-reduction/'\n",
    "iris = pd.read_csv(filepath + 'assets/datasets/iris.csv')"
   ]
  },
  {
   "cell_type": "code",
   "execution_count": 15,
   "metadata": {
    "ExecuteTime": {
     "end_time": "2016-11-01T14:59:24.125184",
     "start_time": "2016-11-01T14:59:24.066241"
    },
    "collapsed": false
   },
   "outputs": [
    {
     "data": {
      "text/html": [
       "<div>\n",
       "<table border=\"1\" class=\"dataframe\">\n",
       "  <thead>\n",
       "    <tr style=\"text-align: right;\">\n",
       "      <th></th>\n",
       "      <th>SepalLength</th>\n",
       "      <th>SepalWidth</th>\n",
       "      <th>PetalLength</th>\n",
       "      <th>PetalWidth</th>\n",
       "      <th>Name</th>\n",
       "    </tr>\n",
       "  </thead>\n",
       "  <tbody>\n",
       "    <tr>\n",
       "      <th>0</th>\n",
       "      <td>5.1</td>\n",
       "      <td>3.5</td>\n",
       "      <td>1.4</td>\n",
       "      <td>0.2</td>\n",
       "      <td>Iris-setosa</td>\n",
       "    </tr>\n",
       "    <tr>\n",
       "      <th>1</th>\n",
       "      <td>4.9</td>\n",
       "      <td>3.0</td>\n",
       "      <td>1.4</td>\n",
       "      <td>0.2</td>\n",
       "      <td>Iris-setosa</td>\n",
       "    </tr>\n",
       "    <tr>\n",
       "      <th>2</th>\n",
       "      <td>4.7</td>\n",
       "      <td>3.2</td>\n",
       "      <td>1.3</td>\n",
       "      <td>0.2</td>\n",
       "      <td>Iris-setosa</td>\n",
       "    </tr>\n",
       "    <tr>\n",
       "      <th>3</th>\n",
       "      <td>4.6</td>\n",
       "      <td>3.1</td>\n",
       "      <td>1.5</td>\n",
       "      <td>0.2</td>\n",
       "      <td>Iris-setosa</td>\n",
       "    </tr>\n",
       "    <tr>\n",
       "      <th>4</th>\n",
       "      <td>5.0</td>\n",
       "      <td>3.6</td>\n",
       "      <td>1.4</td>\n",
       "      <td>0.2</td>\n",
       "      <td>Iris-setosa</td>\n",
       "    </tr>\n",
       "  </tbody>\n",
       "</table>\n",
       "</div>"
      ],
      "text/plain": [
       "   SepalLength  SepalWidth  PetalLength  PetalWidth         Name\n",
       "0          5.1         3.5          1.4         0.2  Iris-setosa\n",
       "1          4.9         3.0          1.4         0.2  Iris-setosa\n",
       "2          4.7         3.2          1.3         0.2  Iris-setosa\n",
       "3          4.6         3.1          1.5         0.2  Iris-setosa\n",
       "4          5.0         3.6          1.4         0.2  Iris-setosa"
      ]
     },
     "execution_count": 15,
     "metadata": {},
     "output_type": "execute_result"
    }
   ],
   "source": [
    "iris.head()"
   ]
  },
  {
   "cell_type": "markdown",
   "metadata": {},
   "source": [
    "## Step 1: Split the set into two sets"
   ]
  },
  {
   "cell_type": "markdown",
   "metadata": {},
   "source": [
    "\"X\" will be the data and \"Y\" will be the class labels"
   ]
  },
  {
   "cell_type": "code",
   "execution_count": 16,
   "metadata": {
    "ExecuteTime": {
     "end_time": "2016-11-01T14:59:46.935267",
     "start_time": "2016-11-01T14:59:46.929854"
    },
    "collapsed": false
   },
   "outputs": [
    {
     "data": {
      "text/plain": [
       "Index([u'SepalLength', u'SepalWidth', u'PetalLength', u'PetalWidth', u'Name'], dtype='object')"
      ]
     },
     "execution_count": 16,
     "metadata": {},
     "output_type": "execute_result"
    }
   ],
   "source": [
    "iris.keys()"
   ]
  },
  {
   "cell_type": "code",
   "execution_count": 28,
   "metadata": {
    "ExecuteTime": {
     "end_time": "2016-11-01T15:04:05.247030",
     "start_time": "2016-11-01T15:04:05.242247"
    },
    "collapsed": true
   },
   "outputs": [],
   "source": [
    "data_cols = iris.columns[:-1]\n",
    "X = iris[data_cols]\n",
    "y = iris['Name']"
   ]
  },
  {
   "cell_type": "markdown",
   "metadata": {
    "heading_collapsed": true
   },
   "source": [
    "## Step 2: Explore the Data"
   ]
  },
  {
   "cell_type": "markdown",
   "metadata": {
    "hidden": true
   },
   "source": [
    "Next - Let's plot! You can use any plotting library of your choice, but be sure to explore all of the data. "
   ]
  },
  {
   "cell_type": "code",
   "execution_count": 20,
   "metadata": {
    "ExecuteTime": {
     "end_time": "2016-11-01T15:01:34.862487",
     "start_time": "2016-11-01T15:01:31.502717"
    },
    "collapsed": false,
    "hidden": true
   },
   "outputs": [
    {
     "data": {
      "text/plain": [
       "<seaborn.axisgrid.PairGrid at 0x11df9aa50>"
      ]
     },
     "execution_count": 20,
     "metadata": {},
     "output_type": "execute_result"
    },
    {
     "data": {
      "image/png": "[encoded data removed]",
      "text/plain": [
       "<matplotlib.figure.Figure at 0x11df9a590>"
      ]
     },
     "metadata": {},
     "output_type": "display_data"
    }
   ],
   "source": [
    "sns.set_palette('muted')\n",
    "sns.pairplot(X)"
   ]
  },
  {
   "cell_type": "markdown",
   "metadata": {},
   "source": [
    "## Step 3: Dimensionality Reduction"
   ]
  },
  {
   "cell_type": "markdown",
   "metadata": {},
   "source": [
    "First, standarize the data. While the Iris data attributes are all measured in the same units (cm), this is a worthwhile step for optimization and good practice for more unruly datasets!"
   ]
  },
  {
   "cell_type": "code",
   "execution_count": 36,
   "metadata": {
    "ExecuteTime": {
     "end_time": "2016-11-01T15:05:28.072319",
     "start_time": "2016-11-01T15:05:28.058652"
    },
    "collapsed": false
   },
   "outputs": [
    {
     "name": "stdout",
     "output_type": "stream",
     "text": [
      "   SepalLength  SepalWidth  PetalLength  PetalWidth\n",
      "0          5.1         3.5          1.4         0.2\n",
      "1          4.9         3.0          1.4         0.2\n"
     ]
    },
    {
     "data": {
      "text/plain": [
       "array([[-0.90068117,  1.03205722, -1.3412724 , -1.31297673],\n",
       "       [-1.14301691, -0.1249576 , -1.3412724 , -1.31297673]])"
      ]
     },
     "execution_count": 36,
     "metadata": {},
     "output_type": "execute_result"
    }
   ],
   "source": [
    "X_standard = StandardScaler().fit_transform(X)\n",
    "print X.iloc[0:2, :]\n",
    "X_standard[0:2]"
   ]
  },
  {
   "cell_type": "markdown",
   "metadata": {},
   "source": [
    "Now, let's set up our data for decomposition by creating a covariance matrix"
   ]
  },
  {
   "cell_type": "markdown",
   "metadata": {},
   "source": [
    "Now, decompose the the covariance matrix"
   ]
  },
  {
   "cell_type": "code",
   "execution_count": 39,
   "metadata": {
    "ExecuteTime": {
     "end_time": "2016-11-01T15:09:31.632252",
     "start_time": "2016-11-01T15:09:31.625667"
    },
    "collapsed": false
   },
   "outputs": [
    {
     "data": {
      "text/plain": [
       "array([[ 1.00671141, -0.11010327,  0.87760486,  0.82344326],\n",
       "       [-0.11010327,  1.00671141, -0.42333835, -0.358937  ],\n",
       "       [ 0.87760486, -0.42333835,  1.00671141,  0.96921855],\n",
       "       [ 0.82344326, -0.358937  ,  0.96921855,  1.00671141]])"
      ]
     },
     "execution_count": 39,
     "metadata": {},
     "output_type": "execute_result"
    }
   ],
   "source": [
    "cov_mat = np.cov(X_standard.T)\n",
    "cov_mat"
   ]
  },
  {
   "cell_type": "markdown",
   "metadata": {},
   "source": [
    "Check the eigenvalues and eigenvectors"
   ]
  },
  {
   "cell_type": "code",
   "execution_count": 51,
   "metadata": {
    "ExecuteTime": {
     "end_time": "2016-11-01T15:14:21.969870",
     "start_time": "2016-11-01T15:14:21.956267"
    },
    "collapsed": false
   },
   "outputs": [
    {
     "name": "stdout",
     "output_type": "stream",
     "text": [
      "[ 2.93035378  0.92740362  0.14834223  0.02074601]\n",
      "\n",
      "[[ 0.52237162 -0.37231836 -0.72101681  0.26199559]\n",
      " [-0.26335492 -0.92555649  0.24203288 -0.12413481]\n",
      " [ 0.58125401 -0.02109478  0.14089226 -0.80115427]\n",
      " [ 0.56561105 -0.06541577  0.6338014   0.52354627]]\n"
     ]
    }
   ],
   "source": [
    "eigenValues, eigenVectors = np.linalg.eig(cov_mat)\n",
    "\n",
    "print eigenValues\n",
    "print ''\n",
    "print eigenVectors"
   ]
  },
  {
   "cell_type": "code",
   "execution_count": 66,
   "metadata": {
    "ExecuteTime": {
     "end_time": "2016-11-01T15:18:58.073186",
     "start_time": "2016-11-01T15:18:58.063308"
    },
    "collapsed": false
   },
   "outputs": [
    {
     "name": "stdout",
     "output_type": "stream",
     "text": [
      "2.93035377559 [ 0.52237162 -0.26335492  0.58125401  0.56561105]\n",
      "0.927403621517 [-0.37231836 -0.92555649 -0.02109478 -0.06541577]\n",
      "0.148342226482 [-0.72101681  0.24203288  0.14089226  0.6338014 ]\n",
      "0.0207460139956 [ 0.26199559 -0.12413481 -0.80115427  0.52354627]\n"
     ]
    }
   ],
   "source": [
    "eig_pairs = [(np.abs(eigenValues[i]), eigenVectors[:,i]) for i in range(len(eigenValues))]\n",
    "eig_pairs.sort()\n",
    "eig_pairs.reverse()\n",
    "\n",
    "for i,j in eig_pairs:\n",
    "    print i, j"
   ]
  },
  {
   "cell_type": "markdown",
   "metadata": {},
   "source": [
    "The eigenvectors with the lowest eigenvalues can be dropped"
   ]
  },
  {
   "cell_type": "code",
   "execution_count": 70,
   "metadata": {
    "ExecuteTime": {
     "end_time": "2016-11-01T15:20:13.555746",
     "start_time": "2016-11-01T15:20:13.549457"
    },
    "collapsed": false
   },
   "outputs": [
    {
     "data": {
      "text/plain": [
       "[2.9303537755893174, 0.92740362151734212]"
      ]
     },
     "execution_count": 70,
     "metadata": {},
     "output_type": "execute_result"
    }
   ],
   "source": [
    "eig_values = []\n",
    "for i in eig_pairs:\n",
    "    eig_values.append(i[0])\n",
    "eig_values = [x for x in eig_values if x > 0.9]\n",
    "eig_values"
   ]
  },
  {
   "cell_type": "markdown",
   "metadata": {},
   "source": [
    "Calculate the explained variance"
   ]
  },
  {
   "cell_type": "code",
   "execution_count": 72,
   "metadata": {
    "ExecuteTime": {
     "end_time": "2016-11-01T15:20:52.154862",
     "start_time": "2016-11-01T15:20:52.148258"
    },
    "collapsed": false
   },
   "outputs": [
    {
     "data": {
      "text/plain": [
       "array([  72.77045209,   95.80097536,   99.48480732,  100.        ])"
      ]
     },
     "execution_count": 72,
     "metadata": {},
     "output_type": "execute_result"
    }
   ],
   "source": [
    "tot = sum(eigenValues)\n",
    "var_exp = [(i / tot)*100 for i in sorted(eigenValues, reverse=True)]\n",
    "cum_var_exp = np.cumsum(var_exp)\n",
    "cum_var_exp"
   ]
  },
  {
   "cell_type": "code",
   "execution_count": 73,
   "metadata": {
    "ExecuteTime": {
     "end_time": "2016-11-01T15:21:45.426534",
     "start_time": "2016-11-01T15:21:45.420045"
    },
    "collapsed": false
   },
   "outputs": [
    {
     "data": {
      "text/plain": [
       "array([  75.96003258,  100.        ])"
      ]
     },
     "execution_count": 73,
     "metadata": {},
     "output_type": "execute_result"
    }
   ],
   "source": [
    "tot = sum(eig_values)\n",
    "var_exp = [(i / tot)*100 for i in sorted(eig_values, reverse=True)]\n",
    "cum_var_exp = np.cumsum(var_exp)\n",
    "cum_var_exp"
   ]
  },
  {
   "cell_type": "markdown",
   "metadata": {},
   "source": [
    "What does the explained variance tell us?"
   ]
  },
  {
   "cell_type": "code",
   "execution_count": null,
   "metadata": {
    "collapsed": true
   },
   "outputs": [],
   "source": []
  },
  {
   "cell_type": "code",
   "execution_count": 50,
   "metadata": {
    "ExecuteTime": {
     "end_time": "2016-11-01T15:13:25.328691",
     "start_time": "2016-11-01T15:13:25.312116"
    },
    "collapsed": false
   },
   "outputs": [
    {
     "name": "stdout",
     "output_type": "stream",
     "text": [
      "('The information (explained variance) contained in each principal component: ', array([ 0.72770452,  0.23030523]))\n",
      "[[ 0.52237162 -0.26335492  0.58125401  0.56561105]\n",
      " [ 0.37231836  0.92555649  0.02109478  0.06541577]]\n"
     ]
    }
   ],
   "source": [
    "from sklearn.decomposition import PCA\n",
    "pca = PCA(n_components=2)\n",
    "pca.fit(X_standard)\n",
    "print(\"The information (explained variance) contained in each principal component: \", pca.explained_variance_ratio_)\n",
    "print(pca.components_)"
   ]
  },
  {
   "cell_type": "code",
   "execution_count": 76,
   "metadata": {
    "ExecuteTime": {
     "end_time": "2016-11-01T15:23:11.394995",
     "start_time": "2016-11-01T15:23:11.385325"
    },
    "collapsed": false
   },
   "outputs": [
    {
     "data": {
      "text/plain": [
       "[(2.9303537755893174,\n",
       "  array([ 0.52237162, -0.26335492,  0.58125401,  0.56561105])),\n",
       " (0.92740362151734212,\n",
       "  array([-0.37231836, -0.92555649, -0.02109478, -0.06541577])),\n",
       " (0.14834222648163944,\n",
       "  array([-0.72101681,  0.24203288,  0.14089226,  0.6338014 ])),\n",
       " (0.020746013995595943,\n",
       "  array([ 0.26199559, -0.12413481, -0.80115427,  0.52354627]))]"
      ]
     },
     "execution_count": 76,
     "metadata": {},
     "output_type": "execute_result"
    }
   ],
   "source": [
    "eig_pairs"
   ]
  },
  {
   "cell_type": "code",
   "execution_count": 78,
   "metadata": {
    "ExecuteTime": {
     "end_time": "2016-11-01T15:23:43.060168",
     "start_time": "2016-11-01T15:23:43.043122"
    },
    "collapsed": false
   },
   "outputs": [
    {
     "data": {
      "text/plain": [
       "array([[ -2.26454173e+00,  -5.05703903e-01],\n",
       "       [ -2.08642550e+00,   6.55404729e-01],\n",
       "       [ -2.36795045e+00,   3.18477311e-01],\n",
       "       [ -2.30419716e+00,   5.75367713e-01],\n",
       "       [ -2.38877749e+00,  -6.74767397e-01],\n",
       "       [ -2.07053681e+00,  -1.51854856e+00],\n",
       "       [ -2.44571134e+00,  -7.45626750e-02],\n",
       "       [ -2.23384186e+00,  -2.47613932e-01],\n",
       "       [ -2.34195768e+00,   1.09514636e+00],\n",
       "       [ -2.18867576e+00,   4.48629048e-01],\n",
       "       [ -2.16348656e+00,  -1.07059558e+00],\n",
       "       [ -2.32737775e+00,  -1.58587455e-01],\n",
       "       [ -2.22408272e+00,   7.09118158e-01],\n",
       "       [ -2.63971626e+00,   9.38281982e-01],\n",
       "       [ -2.19229151e+00,  -1.88997851e+00],\n",
       "       [ -2.25146521e+00,  -2.72237108e+00],\n",
       "       [ -2.20275048e+00,  -1.51375028e+00],\n",
       "       [ -2.19017916e+00,  -5.14304308e-01],\n",
       "       [ -1.89407429e+00,  -1.43111071e+00],\n",
       "       [ -2.33994907e+00,  -1.15803343e+00],\n",
       "       [ -1.91455639e+00,  -4.30465163e-01],\n",
       "       [ -2.20464540e+00,  -9.52457317e-01],\n",
       "       [ -2.77416979e+00,  -4.89517027e-01],\n",
       "       [ -1.82041156e+00,  -1.06750793e-01],\n",
       "       [ -2.22821750e+00,  -1.62186163e-01],\n",
       "       [ -1.95702401e+00,   6.07892567e-01],\n",
       "       [ -2.05206331e+00,  -2.66014312e-01],\n",
       "       [ -2.16819365e+00,  -5.52016495e-01],\n",
       "       [ -2.14030596e+00,  -3.36640409e-01],\n",
       "       [ -2.26879019e+00,   3.14878603e-01],\n",
       "       [ -2.14455443e+00,   4.83942097e-01],\n",
       "       [ -1.83193810e+00,  -4.45266836e-01],\n",
       "       [ -2.60820287e+00,  -1.82847519e+00],\n",
       "       [ -2.43795086e+00,  -2.18539162e+00],\n",
       "       [ -2.18867576e+00,   4.48629048e-01],\n",
       "       [ -2.21111990e+00,   1.84337811e-01],\n",
       "       [ -2.04441652e+00,  -6.84956426e-01],\n",
       "       [ -2.18867576e+00,   4.48629048e-01],\n",
       "       [ -2.43595220e+00,   8.82169415e-01],\n",
       "       [ -2.17054720e+00,  -2.92726955e-01],\n",
       "       [ -2.28652724e+00,  -4.67991716e-01],\n",
       "       [ -1.87170722e+00,   2.32769161e+00],\n",
       "       [ -2.55783442e+00,   4.53816380e-01],\n",
       "       [ -1.96427929e+00,  -4.97391640e-01],\n",
       "       [ -2.13337283e+00,  -1.17143211e+00],\n",
       "       [ -2.07535759e+00,   6.91917347e-01],\n",
       "       [ -2.38125822e+00,  -1.15063259e+00],\n",
       "       [ -2.39819169e+00,   3.62390765e-01],\n",
       "       [ -2.22678121e+00,  -1.02548255e+00],\n",
       "       [ -2.20595417e+00,  -3.22378453e-02],\n",
       "       [  1.10399365e+00,  -8.63112446e-01],\n",
       "       [  7.32481440e-01,  -5.98635573e-01],\n",
       "       [  1.24210951e+00,  -6.14822450e-01],\n",
       "       [  3.97307283e-01,   1.75816895e+00],\n",
       "       [  1.07259395e+00,   2.11757903e-01],\n",
       "       [  3.84458146e-01,   5.91062469e-01],\n",
       "       [  7.48715076e-01,  -7.78698611e-01],\n",
       "       [ -4.97863388e-01,   1.84886877e+00],\n",
       "       [  9.26222368e-01,  -3.03308268e-02],\n",
       "       [  4.96802558e-03,   1.02940111e+00],\n",
       "       [ -1.24697461e-01,   2.65806268e+00],\n",
       "       [  4.38730118e-01,   5.88812850e-02],\n",
       "       [  5.51633981e-01,   1.77258156e+00],\n",
       "       [  7.17165066e-01,   1.85434315e-01],\n",
       "       [ -3.72583830e-02,   4.32795099e-01],\n",
       "       [  8.75890536e-01,  -5.09998151e-01],\n",
       "       [  3.48006402e-01,   1.90621647e-01],\n",
       "       [  1.53392545e-01,   7.90725456e-01],\n",
       "       [  1.21530321e+00,   1.63335564e+00],\n",
       "       [  1.56941176e-01,   1.30310327e+00],\n",
       "       [  7.38256104e-01,  -4.02470382e-01],\n",
       "       [  4.72369682e-01,   4.16608222e-01],\n",
       "       [  1.22798821e+00,   9.40914793e-01],\n",
       "       [  6.29381045e-01,   4.16811643e-01],\n",
       "       [  7.00472799e-01,   6.34939277e-02],\n",
       "       [  8.73536987e-01,  -2.50708611e-01],\n",
       "       [  1.25422219e+00,   8.26200998e-02],\n",
       "       [  1.35823985e+00,  -3.28820266e-01],\n",
       "       [  6.62126138e-01,   2.24346071e-01],\n",
       "       [ -4.72815133e-02,   1.05721241e+00],\n",
       "       [  1.21534209e-01,   1.56359238e+00],\n",
       "       [  1.41182261e-02,   1.57339235e+00],\n",
       "       [  2.36010837e-01,   7.75923784e-01],\n",
       "       [  1.05669143e+00,   6.36901284e-01],\n",
       "       [  2.21417088e-01,   2.80847693e-01],\n",
       "       [  4.31783161e-01,  -8.55136920e-01],\n",
       "       [  1.04941336e+00,  -5.22197265e-01],\n",
       "       [  1.03587821e+00,   1.39246648e+00],\n",
       "       [  6.70675999e-02,   2.12620735e-01],\n",
       "       [  2.75425066e-01,   1.32981591e+00],\n",
       "       [  2.72335066e-01,   1.11944152e+00],\n",
       "       [  6.23170540e-01,  -2.75426333e-02],\n",
       "       [  3.30005364e-01,   9.88900732e-01],\n",
       "       [ -3.73627623e-01,   2.01793227e+00],\n",
       "       [  2.82944343e-01,   8.53950717e-01],\n",
       "       [  8.90531103e-02,   1.74908548e-01],\n",
       "       [  2.24356783e-01,   3.80484659e-01],\n",
       "       [  5.73883486e-01,   1.53719974e-01],\n",
       "       [ -4.57012873e-01,   1.53946451e+00],\n",
       "       [  2.52244473e-01,   5.95860746e-01],\n",
       "       [  1.84767259e+00,  -8.71696662e-01],\n",
       "       [  1.15318981e+00,   7.01326114e-01],\n",
       "       [  2.20634950e+00,  -5.54470105e-01],\n",
       "       [  1.43868540e+00,   5.00105223e-02],\n",
       "       [  1.86789070e+00,  -2.91192802e-01],\n",
       "       [  2.75419671e+00,  -7.88432206e-01],\n",
       "       [  3.58374475e-01,   1.56009458e+00],\n",
       "       [  2.30300590e+00,  -4.09516695e-01],\n",
       "       [  2.00173530e+00,   7.23865359e-01],\n",
       "       [  2.26755460e+00,  -1.92144299e+00],\n",
       "       [  1.36590943e+00,  -6.93948040e-01],\n",
       "       [  1.59906459e+00,   4.28248836e-01],\n",
       "       [  1.88425185e+00,  -4.14332758e-01],\n",
       "       [  1.25308651e+00,   1.16739134e+00],\n",
       "       [  1.46406152e+00,   4.44147569e-01],\n",
       "       [  1.59180930e+00,  -6.77035372e-01],\n",
       "       [  1.47128019e+00,  -2.53192472e-01],\n",
       "       [  2.43737848e+00,  -2.55675734e+00],\n",
       "       [  3.30914118e+00,   2.36132010e-03],\n",
       "       [  1.25398099e+00,   1.71758384e+00],\n",
       "       [  2.04049626e+00,  -9.07398765e-01],\n",
       "       [  9.73915114e-01,   5.71174376e-01],\n",
       "       [  2.89806444e+00,  -3.97791359e-01],\n",
       "       [  1.32919369e+00,   4.86760542e-01],\n",
       "       [  1.70424071e+00,  -1.01414842e+00],\n",
       "       [  1.95772766e+00,  -1.00333452e+00],\n",
       "       [  1.17190451e+00,   3.18896617e-01],\n",
       "       [  1.01978105e+00,  -6.55429631e-02],\n",
       "       [  1.78600886e+00,   1.93272800e-01],\n",
       "       [  1.86477791e+00,  -5.55381532e-01],\n",
       "       [  2.43549739e+00,  -2.46654468e-01],\n",
       "       [  2.31608241e+00,  -2.62618387e+00],\n",
       "       [  1.86037143e+00,   1.84672394e-01],\n",
       "       [  1.11127173e+00,   2.95986102e-01],\n",
       "       [  1.19746916e+00,   8.17167742e-01],\n",
       "       [  2.80094940e+00,  -8.44748194e-01],\n",
       "       [  1.58015525e+00,  -1.07247450e+00],\n",
       "       [  1.34704442e+00,  -4.22255966e-01],\n",
       "       [  9.23432978e-01,  -1.92303705e-02],\n",
       "       [  1.85355198e+00,  -6.72422729e-01],\n",
       "       [  2.01615720e+00,  -6.10397038e-01],\n",
       "       [  1.90311686e+00,  -6.86024832e-01],\n",
       "       [  1.15318981e+00,   7.01326114e-01],\n",
       "       [  2.04330844e+00,  -8.64684880e-01],\n",
       "       [  2.00169097e+00,  -1.04855005e+00],\n",
       "       [  1.87052207e+00,  -3.82821838e-01],\n",
       "       [  1.55849189e+00,   9.05313601e-01],\n",
       "       [  1.52084506e+00,  -2.66794575e-01],\n",
       "       [  1.37639119e+00,  -1.01636193e+00],\n",
       "       [  9.59298576e-01,   2.22839447e-02]])"
      ]
     },
     "execution_count": 78,
     "metadata": {},
     "output_type": "execute_result"
    }
   ],
   "source": [
    "W = np.hstack((eig_pairs[0][1].reshape(4,1), eig_pairs[1][1].reshape(4,1))) # Our transformation matrix\n",
    "X_reduced = X_standard.dot(W)\n",
    "X_reduced"
   ]
  },
  {
   "cell_type": "code",
   "execution_count": 79,
   "metadata": {
    "ExecuteTime": {
     "end_time": "2016-11-01T15:24:33.128386",
     "start_time": "2016-11-01T15:24:32.933023"
    },
    "collapsed": false
   },
   "outputs": [
    {
     "name": "stdout",
     "output_type": "stream",
     "text": [
      "0.96 mean accuracy, using 4 dimensions.\n",
      "0.94 mean accuracy, using 2 principal component dimensions.\n"
     ]
    },
    {
     "name": "stderr",
     "output_type": "stream",
     "text": [
      "//anaconda/lib/python2.7/site-packages/sklearn/cross_validation.py:44: DeprecationWarning: This module was deprecated in version 0.18 in favor of the model_selection module into which all the refactored classes and functions are moved. Also note that the interface of the new CV iterators are different from that of this module. This module will be removed in 0.20.\n",
      "  \"This module will be removed in 0.20.\", DeprecationWarning)\n"
     ]
    }
   ],
   "source": [
    "from sklearn.ensemble import RandomForestClassifier\n",
    "from sklearn.cross_validation import train_test_split\n",
    "\n",
    "X_train, X_test, y_train, y_test = train_test_split(X_standard, y, test_size=0.33, random_state=1)\n",
    "clf = RandomForestClassifier()\n",
    "clf.fit(X_train, y_train)\n",
    "print clf.score(X_test, y_test), \"mean accuracy, using {0} dimensions.\".format(X_standard.shape[1])\n",
    "\n",
    "X_train, X_test, y_train, y_test = train_test_split(X_reduced, y, test_size=0.33, random_state=1)\n",
    "clf = RandomForestClassifier()\n",
    "clf.fit(X_train, y_train)\n",
    "print clf.score(X_test, y_test), \"mean accuracy, using {0} principal component dimensions.\".format(X_reduced.shape[1])"
   ]
  },
  {
   "cell_type": "code",
   "execution_count": null,
   "metadata": {
    "collapsed": true
   },
   "outputs": [],
   "source": []
  }
 ],
 "metadata": {
  "kernelspec": {
   "display_name": "Python 2",
   "language": "python",
   "name": "python2"
  },
  "language_info": {
   "codemirror_mode": {
    "name": "ipython",
    "version": 2
   },
   "file_extension": ".py",
   "mimetype": "text/x-python",
   "name": "python",
   "nbconvert_exporter": "python",
   "pygments_lexer": "ipython2",
   "version": "2.7.12"
  }
 },
 "nbformat": 4,
 "nbformat_minor": 0
}
