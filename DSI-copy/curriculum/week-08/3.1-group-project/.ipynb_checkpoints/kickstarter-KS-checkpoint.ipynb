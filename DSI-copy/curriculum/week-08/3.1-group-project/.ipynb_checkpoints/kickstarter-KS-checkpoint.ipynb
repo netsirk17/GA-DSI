{
 "cells": [
  {
   "cell_type": "markdown",
   "metadata": {},
   "source": [
    "## amt.pledged, currency & goal columns"
   ]
  },
  {
   "cell_type": "code",
   "execution_count": 1,
   "metadata": {
    "ExecuteTime": {
     "end_time": "2016-11-09T14:03:13.331969",
     "start_time": "2016-11-09T14:03:11.211547"
    },
    "collapsed": false
   },
   "outputs": [],
   "source": [
    "import numpy as np\n",
    "import pandas as pd\n",
    "import matplotlib.pyplot as plt\n",
    "import matplotlib\n",
    "%matplotlib inline\n",
    "import seaborn as sns"
   ]
  },
  {
   "cell_type": "code",
   "execution_count": 2,
   "metadata": {
    "ExecuteTime": {
     "end_time": "2016-11-09T14:03:13.401640",
     "start_time": "2016-11-09T14:03:13.333969"
    },
    "collapsed": false
   },
   "outputs": [
    {
     "data": {
      "text/html": [
       "<div>\n",
       "<table border=\"1\" class=\"dataframe\">\n",
       "  <thead>\n",
       "    <tr style=\"text-align: right;\">\n",
       "      <th></th>\n",
       "      <th>amt.pledged</th>\n",
       "      <th>blurb</th>\n",
       "      <th>category</th>\n",
       "      <th>currency</th>\n",
       "      <th>goal</th>\n",
       "      <th>location</th>\n",
       "      <th>num.backers</th>\n",
       "      <th>num.backers.tier</th>\n",
       "      <th>pledge.tier</th>\n",
       "      <th>title</th>\n",
       "      <th>url</th>\n",
       "    </tr>\n",
       "  </thead>\n",
       "  <tbody>\n",
       "    <tr>\n",
       "      <th>0</th>\n",
       "      <td>8782571.0</td>\n",
       "      <td>\\nThis is a card game for people who are into ...</td>\n",
       "      <td>Tabletop Games</td>\n",
       "      <td>usd</td>\n",
       "      <td>10000.0</td>\n",
       "      <td>Los Angeles, CA</td>\n",
       "      <td>219382</td>\n",
       "      <td>[15505, 202934, 200, 5]</td>\n",
       "      <td>[20.0, 35.0, 100.0, 500.0]</td>\n",
       "      <td>Exploding Kittens</td>\n",
       "      <td>/projects/elanlee/exploding-kittens</td>\n",
       "    </tr>\n",
       "  </tbody>\n",
       "</table>\n",
       "</div>"
      ],
      "text/plain": [
       "   amt.pledged                                              blurb  \\\n",
       "0    8782571.0  \\nThis is a card game for people who are into ...   \n",
       "\n",
       "         category currency     goal         location  num.backers  \\\n",
       "0  Tabletop Games      usd  10000.0  Los Angeles, CA       219382   \n",
       "\n",
       "          num.backers.tier                 pledge.tier              title  \\\n",
       "0  [15505, 202934, 200, 5]  [20.0, 35.0, 100.0, 500.0]  Exploding Kittens   \n",
       "\n",
       "                                   url  \n",
       "0  /projects/elanlee/exploding-kittens  "
      ]
     },
     "execution_count": 2,
     "metadata": {},
     "output_type": "execute_result"
    }
   ],
   "source": [
    "# Read in and examine data\n",
    "df = pd.read_csv('most_backed.csv')\n",
    "del df['Unnamed: 0']\n",
    "df.head(1)"
   ]
  },
  {
   "cell_type": "code",
   "execution_count": 3,
   "metadata": {
    "ExecuteTime": {
     "end_time": "2016-11-09T14:03:13.478561",
     "start_time": "2016-11-09T14:03:13.403636"
    },
    "collapsed": false
   },
   "outputs": [
    {
     "name": "stderr",
     "output_type": "stream",
     "text": [
      "//anaconda/lib/python2.7/site-packages/pandas/core/frame.py:2816: SettingWithCopyWarning: \n",
      "A value is trying to be set on a copy of a slice from a DataFrame\n",
      "\n",
      "See the caveats in the documentation: http://pandas.pydata.org/pandas-docs/stable/indexing.html#indexing-view-versus-copy\n",
      "  **kwargs)\n"
     ]
    },
    {
     "data": {
      "text/html": [
       "<div>\n",
       "<table border=\"1\" class=\"dataframe\">\n",
       "  <thead>\n",
       "    <tr style=\"text-align: right;\">\n",
       "      <th></th>\n",
       "      <th>amt_pledged</th>\n",
       "      <th>goal</th>\n",
       "      <th>currency</th>\n",
       "    </tr>\n",
       "  </thead>\n",
       "  <tbody>\n",
       "    <tr>\n",
       "      <th>0</th>\n",
       "      <td>8782571.0</td>\n",
       "      <td>10000.0</td>\n",
       "      <td>usd</td>\n",
       "    </tr>\n",
       "    <tr>\n",
       "      <th>1</th>\n",
       "      <td>6465690.0</td>\n",
       "      <td>15000.0</td>\n",
       "      <td>usd</td>\n",
       "    </tr>\n",
       "    <tr>\n",
       "      <th>2</th>\n",
       "      <td>5408916.0</td>\n",
       "      <td>1000000.0</td>\n",
       "      <td>usd</td>\n",
       "    </tr>\n",
       "    <tr>\n",
       "      <th>3</th>\n",
       "      <td>5702153.0</td>\n",
       "      <td>2000000.0</td>\n",
       "      <td>usd</td>\n",
       "    </tr>\n",
       "    <tr>\n",
       "      <th>4</th>\n",
       "      <td>3336371.0</td>\n",
       "      <td>400000.0</td>\n",
       "      <td>usd</td>\n",
       "    </tr>\n",
       "  </tbody>\n",
       "</table>\n",
       "</div>"
      ],
      "text/plain": [
       "   amt_pledged       goal currency\n",
       "0    8782571.0    10000.0      usd\n",
       "1    6465690.0    15000.0      usd\n",
       "2    5408916.0  1000000.0      usd\n",
       "3    5702153.0  2000000.0      usd\n",
       "4    3336371.0   400000.0      usd"
      ]
     },
     "execution_count": 3,
     "metadata": {},
     "output_type": "execute_result"
    }
   ],
   "source": [
    "# Create sub dataframe for only money-related columns\n",
    "sub = df[['amt.pledged', 'goal', 'currency']]\n",
    "\n",
    "# Rename amt.pledged column\n",
    "sub.rename(columns={'amt.pledged': 'amt_pledged'}, inplace=True)\n",
    "\n",
    "# Examine new sub dataframe\n",
    "sub.head()"
   ]
  },
  {
   "cell_type": "code",
   "execution_count": 4,
   "metadata": {
    "ExecuteTime": {
     "end_time": "2016-11-09T14:03:15.467073",
     "start_time": "2016-11-09T14:03:15.459168"
    },
    "collapsed": false
   },
   "outputs": [
    {
     "data": {
      "text/plain": [
       "usd    3437\n",
       "gbp     252\n",
       "cad     128\n",
       "eur      96\n",
       "aud      53\n",
       "sek      14\n",
       "nzd      10\n",
       "dkk       7\n",
       "chf       3\n",
       "Name: currency, dtype: int64"
      ]
     },
     "execution_count": 4,
     "metadata": {},
     "output_type": "execute_result"
    }
   ],
   "source": [
    "# Check unique currencies\n",
    "df['currency'].value_counts()"
   ]
  },
  {
   "cell_type": "code",
   "execution_count": 5,
   "metadata": {
    "ExecuteTime": {
     "end_time": "2016-11-09T14:03:16.190487",
     "start_time": "2016-11-09T14:03:16.034107"
    },
    "collapsed": false
   },
   "outputs": [
    {
     "name": "stderr",
     "output_type": "stream",
     "text": [
      "/anaconda/lib/python2.7/site-packages/ipykernel/__main__.py:14: SettingWithCopyWarning: \n",
      "A value is trying to be set on a copy of a slice from a DataFrame.\n",
      "Try using .loc[row_indexer,col_indexer] = value instead\n",
      "\n",
      "See the caveats in the documentation: http://pandas.pydata.org/pandas-docs/stable/indexing.html#indexing-view-versus-copy\n",
      "/anaconda/lib/python2.7/site-packages/ipykernel/__main__.py:17: SettingWithCopyWarning: \n",
      "A value is trying to be set on a copy of a slice from a DataFrame.\n",
      "Try using .loc[row_indexer,col_indexer] = value instead\n",
      "\n",
      "See the caveats in the documentation: http://pandas.pydata.org/pandas-docs/stable/indexing.html#indexing-view-versus-copy\n",
      "/anaconda/lib/python2.7/site-packages/ipykernel/__main__.py:18: SettingWithCopyWarning: \n",
      "A value is trying to be set on a copy of a slice from a DataFrame.\n",
      "Try using .loc[row_indexer,col_indexer] = value instead\n",
      "\n",
      "See the caveats in the documentation: http://pandas.pydata.org/pandas-docs/stable/indexing.html#indexing-view-versus-copy\n"
     ]
    }
   ],
   "source": [
    "# Create exchange rate dictionary (note: exchange rates based on 11/9/16)\n",
    "exchange_dict = {\n",
    "    'usd': 1.00,\n",
    "    'gbp': 1.25,\n",
    "    'cad': 0.75,\n",
    "    'eur': 1.09,\n",
    "    'aud': 0.77,\n",
    "    'sek': 0.11,\n",
    "    'nzd': 0.73,\n",
    "    'dkk': 0.15,\n",
    "    'chf': 1.02,}\n",
    "\n",
    "# Create a new column that maps out exchange rate based on currency\n",
    "sub['exchange_rate'] = sub['currency'].map(exchange_dict)\n",
    "\n",
    "# Create new column that converts all data to USD \n",
    "sub['pledged_USD'] = sub['amt_pledged'] * sub['exchange_rate']\n",
    "sub['goal_USD'] = sub['goal'] * sub['exchange_rate']"
   ]
  },
  {
   "cell_type": "code",
   "execution_count": 6,
   "metadata": {
    "ExecuteTime": {
     "end_time": "2016-11-09T14:03:17.714194",
     "start_time": "2016-11-09T14:03:17.692602"
    },
    "collapsed": false
   },
   "outputs": [
    {
     "data": {
      "text/html": [
       "<div>\n",
       "<table border=\"1\" class=\"dataframe\">\n",
       "  <thead>\n",
       "    <tr style=\"text-align: right;\">\n",
       "      <th></th>\n",
       "      <th>currency</th>\n",
       "      <th>amt_pledged</th>\n",
       "      <th>pledged_USD</th>\n",
       "      <th>goal</th>\n",
       "      <th>goal_USD</th>\n",
       "    </tr>\n",
       "  </thead>\n",
       "  <tbody>\n",
       "    <tr>\n",
       "      <th>1857</th>\n",
       "      <td>chf</td>\n",
       "      <td>530792.0</td>\n",
       "      <td>541407.84</td>\n",
       "      <td>80000.0</td>\n",
       "      <td>81600.0</td>\n",
       "    </tr>\n",
       "    <tr>\n",
       "      <th>2023</th>\n",
       "      <td>chf</td>\n",
       "      <td>53862.0</td>\n",
       "      <td>54939.24</td>\n",
       "      <td>39270.0</td>\n",
       "      <td>40055.4</td>\n",
       "    </tr>\n",
       "    <tr>\n",
       "      <th>2933</th>\n",
       "      <td>chf</td>\n",
       "      <td>247688.0</td>\n",
       "      <td>252641.76</td>\n",
       "      <td>125000.0</td>\n",
       "      <td>127500.0</td>\n",
       "    </tr>\n",
       "  </tbody>\n",
       "</table>\n",
       "</div>"
      ],
      "text/plain": [
       "     currency  amt_pledged  pledged_USD      goal  goal_USD\n",
       "1857      chf     530792.0    541407.84   80000.0   81600.0\n",
       "2023      chf      53862.0     54939.24   39270.0   40055.4\n",
       "2933      chf     247688.0    252641.76  125000.0  127500.0"
      ]
     },
     "execution_count": 6,
     "metadata": {},
     "output_type": "execute_result"
    }
   ],
   "source": [
    "# Just checking to make sure conversions worked\n",
    "sub[sub['currency'] == 'chf'].loc[:, ['currency', 'amt_pledged', 'pledged_USD', 'goal', 'goal_USD']]"
   ]
  },
  {
   "cell_type": "code",
   "execution_count": 7,
   "metadata": {
    "ExecuteTime": {
     "end_time": "2016-11-09T14:03:18.346142",
     "start_time": "2016-11-09T14:03:18.331075"
    },
    "collapsed": false
   },
   "outputs": [
    {
     "data": {
      "text/html": [
       "<div>\n",
       "<table border=\"1\" class=\"dataframe\">\n",
       "  <thead>\n",
       "    <tr style=\"text-align: right;\">\n",
       "      <th></th>\n",
       "      <th>pledged_USD</th>\n",
       "      <th>goal_USD</th>\n",
       "      <th>currency</th>\n",
       "    </tr>\n",
       "  </thead>\n",
       "  <tbody>\n",
       "    <tr>\n",
       "      <th>0</th>\n",
       "      <td>8782571.0</td>\n",
       "      <td>10000.0</td>\n",
       "      <td>usd</td>\n",
       "    </tr>\n",
       "    <tr>\n",
       "      <th>1</th>\n",
       "      <td>6465690.0</td>\n",
       "      <td>15000.0</td>\n",
       "      <td>usd</td>\n",
       "    </tr>\n",
       "  </tbody>\n",
       "</table>\n",
       "</div>"
      ],
      "text/plain": [
       "   pledged_USD  goal_USD currency\n",
       "0    8782571.0   10000.0      usd\n",
       "1    6465690.0   15000.0      usd"
      ]
     },
     "execution_count": 7,
     "metadata": {},
     "output_type": "execute_result"
    }
   ],
   "source": [
    "# Create new sub dataframe with only USD info\n",
    "sub = sub[['pledged_USD', 'goal_USD', 'currency']]\n",
    "sub.head(2)"
   ]
  },
  {
   "cell_type": "code",
   "execution_count": 147,
   "metadata": {
    "ExecuteTime": {
     "end_time": "2016-11-09T15:43:53.569166",
     "start_time": "2016-11-09T15:43:53.554014"
    },
    "collapsed": false
   },
   "outputs": [
    {
     "name": "stdout",
     "output_type": "stream",
     "text": [
      "1.0\n",
      "104277.0\n",
      "70.1129344973\n",
      "4.58425714286\n",
      "\n",
      "2406.25\n",
      "20338986.0\n",
      "284961.51782\n",
      "120634.0\n"
     ]
    }
   ],
   "source": [
    "# Create a new column that shows pledged/goal\n",
    "sub['percent_total'] = sub['pledged_USD'] / sub['goal_USD']\n",
    "\n",
    "print np.min(sub['percent_total'])\n",
    "print np.max(sub['percent_total'])\n",
    "print np.mean(sub['percent_total'])\n",
    "print np.median(sub['percent_total'])\n",
    "print ''\n",
    "print np.min(sub['pledged_USD'])\n",
    "print np.max(sub['pledged_USD'])\n",
    "print np.mean(sub['pledged_USD'])\n",
    "print np.median(sub['pledged_USD'])"
   ]
  },
  {
   "cell_type": "code",
   "execution_count": 131,
   "metadata": {
    "ExecuteTime": {
     "end_time": "2016-11-09T15:36:30.427899",
     "start_time": "2016-11-09T15:36:30.422429"
    },
    "collapsed": false
   },
   "outputs": [],
   "source": [
    "# Reordering columns\n",
    "sub = sub[['pledged_USD', 'goal_USD', 'percent_total', 'currency']]"
   ]
  },
  {
   "cell_type": "code",
   "execution_count": 132,
   "metadata": {
    "ExecuteTime": {
     "end_time": "2016-11-09T15:36:31.765320",
     "start_time": "2016-11-09T15:36:31.751191"
    },
    "collapsed": false
   },
   "outputs": [
    {
     "data": {
      "text/html": [
       "<div>\n",
       "<table border=\"1\" class=\"dataframe\">\n",
       "  <thead>\n",
       "    <tr style=\"text-align: right;\">\n",
       "      <th></th>\n",
       "      <th>pledged_USD</th>\n",
       "      <th>goal_USD</th>\n",
       "      <th>percent_total</th>\n",
       "    </tr>\n",
       "  </thead>\n",
       "  <tbody>\n",
       "    <tr>\n",
       "      <th>pledged_USD</th>\n",
       "      <td>1.000000</td>\n",
       "      <td>0.434658</td>\n",
       "      <td>-0.003379</td>\n",
       "    </tr>\n",
       "    <tr>\n",
       "      <th>goal_USD</th>\n",
       "      <td>0.434658</td>\n",
       "      <td>1.000000</td>\n",
       "      <td>-0.015598</td>\n",
       "    </tr>\n",
       "    <tr>\n",
       "      <th>percent_total</th>\n",
       "      <td>-0.003379</td>\n",
       "      <td>-0.015598</td>\n",
       "      <td>1.000000</td>\n",
       "    </tr>\n",
       "  </tbody>\n",
       "</table>\n",
       "</div>"
      ],
      "text/plain": [
       "               pledged_USD  goal_USD  percent_total\n",
       "pledged_USD       1.000000  0.434658      -0.003379\n",
       "goal_USD          0.434658  1.000000      -0.015598\n",
       "percent_total    -0.003379 -0.015598       1.000000"
      ]
     },
     "execution_count": 132,
     "metadata": {},
     "output_type": "execute_result"
    }
   ],
   "source": [
    "# Check correlation of numeric columns\n",
    "sub.corr()"
   ]
  },
  {
   "cell_type": "code",
   "execution_count": 163,
   "metadata": {
    "ExecuteTime": {
     "end_time": "2016-11-09T15:50:30.059858",
     "start_time": "2016-11-09T15:50:30.032002"
    },
    "collapsed": false
   },
   "outputs": [
    {
     "data": {
      "text/html": [
       "<div>\n",
       "<table border=\"1\" class=\"dataframe\">\n",
       "  <thead>\n",
       "    <tr style=\"text-align: right;\">\n",
       "      <th></th>\n",
       "      <th>pledged_USD</th>\n",
       "      <th>goal_USD</th>\n",
       "      <th>percent_total</th>\n",
       "    </tr>\n",
       "  </thead>\n",
       "  <tbody>\n",
       "    <tr>\n",
       "      <th>count</th>\n",
       "      <td>4.000000</td>\n",
       "      <td>4.000000</td>\n",
       "      <td>4.000000</td>\n",
       "    </tr>\n",
       "    <tr>\n",
       "      <th>mean</th>\n",
       "      <td>284.961518</td>\n",
       "      <td>60.997025</td>\n",
       "      <td>0.070113</td>\n",
       "    </tr>\n",
       "    <tr>\n",
       "      <th>std</th>\n",
       "      <td>705.872588</td>\n",
       "      <td>127.082577</td>\n",
       "      <td>2.014247</td>\n",
       "    </tr>\n",
       "    <tr>\n",
       "      <th>min</th>\n",
       "      <td>2.406250</td>\n",
       "      <td>0.001000</td>\n",
       "      <td>0.001000</td>\n",
       "    </tr>\n",
       "    <tr>\n",
       "      <th>25%</th>\n",
       "      <td>67.246375</td>\n",
       "      <td>12.500000</td>\n",
       "      <td>0.002010</td>\n",
       "    </tr>\n",
       "    <tr>\n",
       "      <th>50%</th>\n",
       "      <td>120.634000</td>\n",
       "      <td>30.000000</td>\n",
       "      <td>0.004584</td>\n",
       "    </tr>\n",
       "    <tr>\n",
       "      <th>75%</th>\n",
       "      <td>252.446843</td>\n",
       "      <td>60.000000</td>\n",
       "      <td>0.010515</td>\n",
       "    </tr>\n",
       "    <tr>\n",
       "      <th>95%</th>\n",
       "      <td>942.663200</td>\n",
       "      <td>200.000000</td>\n",
       "      <td>0.038172</td>\n",
       "    </tr>\n",
       "    <tr>\n",
       "      <th>100%</th>\n",
       "      <td>20338.986000</td>\n",
       "      <td>2000.000000</td>\n",
       "      <td>104.277000</td>\n",
       "    </tr>\n",
       "    <tr>\n",
       "      <th>max</th>\n",
       "      <td>20338.986000</td>\n",
       "      <td>2000.000000</td>\n",
       "      <td>104.277000</td>\n",
       "    </tr>\n",
       "  </tbody>\n",
       "</table>\n",
       "</div>"
      ],
      "text/plain": [
       "        pledged_USD     goal_USD  percent_total\n",
       "count      4.000000     4.000000       4.000000\n",
       "mean     284.961518    60.997025       0.070113\n",
       "std      705.872588   127.082577       2.014247\n",
       "min        2.406250     0.001000       0.001000\n",
       "25%       67.246375    12.500000       0.002010\n",
       "50%      120.634000    30.000000       0.004584\n",
       "75%      252.446843    60.000000       0.010515\n",
       "95%      942.663200   200.000000       0.038172\n",
       "100%   20338.986000  2000.000000     104.277000\n",
       "max    20338.986000  2000.000000     104.277000"
      ]
     },
     "execution_count": 163,
     "metadata": {},
     "output_type": "execute_result"
    }
   ],
   "source": [
    "# Examine distribution of data\n",
    "sub.describe(percentiles=[.25, .5, .75, .95, 1])/1000"
   ]
  },
  {
   "cell_type": "code",
   "execution_count": 170,
   "metadata": {
    "ExecuteTime": {
     "end_time": "2016-11-09T15:51:40.388302",
     "start_time": "2016-11-09T15:51:40.381518"
    },
    "collapsed": false
   },
   "outputs": [
    {
     "data": {
      "text/plain": [
       "(3807, 4)"
      ]
     },
     "execution_count": 170,
     "metadata": {},
     "output_type": "execute_result"
    }
   ],
   "source": [
    "sub[sub['pledged_USD'] < 1000000].shape"
   ]
  },
  {
   "cell_type": "code",
   "execution_count": 134,
   "metadata": {
    "ExecuteTime": {
     "end_time": "2016-11-09T15:36:36.646949",
     "start_time": "2016-11-09T15:36:36.638393"
    },
    "collapsed": false
   },
   "outputs": [
    {
     "data": {
      "text/plain": [
       "usd    3437\n",
       "gbp     252\n",
       "cad     128\n",
       "eur      96\n",
       "aud      53\n",
       "sek      14\n",
       "nzd      10\n",
       "dkk       7\n",
       "chf       3\n",
       "Name: currency, dtype: int64"
      ]
     },
     "execution_count": 134,
     "metadata": {},
     "output_type": "execute_result"
    }
   ],
   "source": [
    "sub['currency'].value_counts()"
   ]
  },
  {
   "cell_type": "code",
   "execution_count": 135,
   "metadata": {
    "ExecuteTime": {
     "end_time": "2016-11-09T15:36:38.370157",
     "start_time": "2016-11-09T15:36:38.269069"
    },
    "collapsed": false
   },
   "outputs": [
    {
     "data": {
      "text/plain": [
       "{'aud': [87760.75, 15400.0, 5.9677],\n",
       " 'cad': [85953.75, 22500.0, 4.278666604248725],\n",
       " 'chf': [252641.76, 81600.0, 1.9815040000000002],\n",
       " 'dkk': [99633.3, 30000.0, 3.32111],\n",
       " 'eur': [183974.015, 43600.0, 4.1181383333333335],\n",
       " 'gbp': [101544.375, 31250.0, 2.9794033333333334],\n",
       " 'nzd': [67224.97, 19345.0, 4.474361666666667],\n",
       " 'sek': [86449.44, 29150.0, 4.326611911764706],\n",
       " 'usd': [124182.0, 30000.0, 4.688533333333333]}"
      ]
     },
     "execution_count": 135,
     "metadata": {},
     "output_type": "execute_result"
    }
   ],
   "source": [
    "# Get median values of numeric columns by country\n",
    "median_dict = {}\n",
    "\n",
    "def get_median(i):\n",
    "    for j in sub.columns:\n",
    "        x = sub[sub['currency']==i]\n",
    "        median_dict.update({i: [x['pledged_USD'].median(), x['goal_USD'].median(), x['percent_total'].median()]})\n",
    "\n",
    "    return median_dict\n",
    "\n",
    "def run_currency(currency_list):\n",
    "    for i in currency_list:\n",
    "        get_median(i)\n",
    "    return get_median(i)\n",
    "\n",
    "run_currency(currency_list)"
   ]
  },
  {
   "cell_type": "code",
   "execution_count": 140,
   "metadata": {
    "ExecuteTime": {
     "end_time": "2016-11-09T15:37:29.197834",
     "start_time": "2016-11-09T15:37:29.191822"
    },
    "collapsed": false
   },
   "outputs": [
    {
     "data": {
      "text/plain": [
       "Index([u'pledged_USD', u'goal_USD', u'percent_total', u'currency'], dtype='object')"
      ]
     },
     "execution_count": 140,
     "metadata": {},
     "output_type": "execute_result"
    }
   ],
   "source": [
    "sub.columns"
   ]
  },
  {
   "cell_type": "code",
   "execution_count": 143,
   "metadata": {
    "ExecuteTime": {
     "end_time": "2016-11-09T15:37:52.676512",
     "start_time": "2016-11-09T15:37:52.657653"
    },
    "collapsed": false
   },
   "outputs": [
    {
     "data": {
      "text/html": [
       "<div>\n",
       "<table border=\"1\" class=\"dataframe\">\n",
       "  <thead>\n",
       "    <tr style=\"text-align: right;\">\n",
       "      <th></th>\n",
       "      <th>pledged_USD</th>\n",
       "      <th>goal_USD</th>\n",
       "      <th>percent_total</th>\n",
       "    </tr>\n",
       "  </thead>\n",
       "  <tbody>\n",
       "    <tr>\n",
       "      <th>aud</th>\n",
       "      <td>87760.750</td>\n",
       "      <td>15400.0</td>\n",
       "      <td>5.967700</td>\n",
       "    </tr>\n",
       "    <tr>\n",
       "      <th>cad</th>\n",
       "      <td>85953.750</td>\n",
       "      <td>22500.0</td>\n",
       "      <td>4.278667</td>\n",
       "    </tr>\n",
       "    <tr>\n",
       "      <th>chf</th>\n",
       "      <td>252641.760</td>\n",
       "      <td>81600.0</td>\n",
       "      <td>1.981504</td>\n",
       "    </tr>\n",
       "    <tr>\n",
       "      <th>dkk</th>\n",
       "      <td>99633.300</td>\n",
       "      <td>30000.0</td>\n",
       "      <td>3.321110</td>\n",
       "    </tr>\n",
       "    <tr>\n",
       "      <th>eur</th>\n",
       "      <td>183974.015</td>\n",
       "      <td>43600.0</td>\n",
       "      <td>4.118138</td>\n",
       "    </tr>\n",
       "    <tr>\n",
       "      <th>gbp</th>\n",
       "      <td>101544.375</td>\n",
       "      <td>31250.0</td>\n",
       "      <td>2.979403</td>\n",
       "    </tr>\n",
       "    <tr>\n",
       "      <th>nzd</th>\n",
       "      <td>67224.970</td>\n",
       "      <td>19345.0</td>\n",
       "      <td>4.474362</td>\n",
       "    </tr>\n",
       "    <tr>\n",
       "      <th>sek</th>\n",
       "      <td>86449.440</td>\n",
       "      <td>29150.0</td>\n",
       "      <td>4.326612</td>\n",
       "    </tr>\n",
       "    <tr>\n",
       "      <th>usd</th>\n",
       "      <td>124182.000</td>\n",
       "      <td>30000.0</td>\n",
       "      <td>4.688533</td>\n",
       "    </tr>\n",
       "  </tbody>\n",
       "</table>\n",
       "</div>"
      ],
      "text/plain": [
       "     pledged_USD  goal_USD  percent_total\n",
       "aud    87760.750   15400.0       5.967700\n",
       "cad    85953.750   22500.0       4.278667\n",
       "chf   252641.760   81600.0       1.981504\n",
       "dkk    99633.300   30000.0       3.321110\n",
       "eur   183974.015   43600.0       4.118138\n",
       "gbp   101544.375   31250.0       2.979403\n",
       "nzd    67224.970   19345.0       4.474362\n",
       "sek    86449.440   29150.0       4.326612\n",
       "usd   124182.000   30000.0       4.688533"
      ]
     },
     "execution_count": 143,
     "metadata": {},
     "output_type": "execute_result"
    }
   ],
   "source": [
    "# Create dataframe of median values\n",
    "median_df = pd.DataFrame(median_dict).T\n",
    "median_df.columns = sub.columns[:-1]\n",
    "median_df"
   ]
  },
  {
   "cell_type": "code",
   "execution_count": 149,
   "metadata": {
    "ExecuteTime": {
     "end_time": "2016-11-09T15:45:09.409890",
     "start_time": "2016-11-09T15:45:09.065117"
    },
    "collapsed": false
   },
   "outputs": [
    {
     "data": {
      "text/plain": [
       "<matplotlib.axes._subplots.AxesSubplot at 0x11d615190>"
      ]
     },
     "execution_count": 149,
     "metadata": {},
     "output_type": "execute_result"
    },
    {
     "data": {
      "image/png": "[encoded data removed]",
      "text/plain": [
       "<matplotlib.figure.Figure at 0x11aa7ce50>"
      ]
     },
     "metadata": {},
     "output_type": "display_data"
    }
   ],
   "source": [
    "median_df['percent_total'].plot(kind='bar')"
   ]
  },
  {
   "cell_type": "code",
   "execution_count": 224,
   "metadata": {
    "ExecuteTime": {
     "end_time": "2016-11-09T16:06:16.504381",
     "start_time": "2016-11-09T16:06:16.495081"
    },
    "collapsed": false
   },
   "outputs": [
    {
     "data": {
      "text/plain": [
       "count       4.000000\n",
       "mean       60.997025\n",
       "std       127.082577\n",
       "min         0.001000\n",
       "25%        12.500000\n",
       "50%        30.000000\n",
       "75%        60.000000\n",
       "max      2000.000000\n",
       "Name: goal_USD, dtype: float64"
      ]
     },
     "execution_count": 224,
     "metadata": {},
     "output_type": "execute_result"
    }
   ],
   "source": [
    "sub['goal_USD'].describe()/1000"
   ]
  },
  {
   "cell_type": "code",
   "execution_count": 194,
   "metadata": {
    "ExecuteTime": {
     "end_time": "2016-11-09T16:01:21.368934",
     "start_time": "2016-11-09T16:01:21.360559"
    },
    "collapsed": false
   },
   "outputs": [
    {
     "data": {
      "text/plain": [
       "0      10000.0\n",
       "1      15000.0\n",
       "2    1000000.0\n",
       "3    2000000.0\n",
       "4     400000.0\n",
       "Name: goal_USD, dtype: float64"
      ]
     },
     "execution_count": 194,
     "metadata": {},
     "output_type": "execute_result"
    }
   ],
   "source": [
    "sub[sub['goal_USD']>0]['goal_USD'].head()"
   ]
  },
  {
   "cell_type": "code",
   "execution_count": 243,
   "metadata": {
    "ExecuteTime": {
     "end_time": "2016-11-09T16:18:06.636055",
     "start_time": "2016-11-09T16:18:06.616603"
    },
    "collapsed": false
   },
   "outputs": [
    {
     "data": {
      "text/plain": [
       "med         1552\n",
       "low         1102\n",
       "high         946\n",
       "dreaming     400\n",
       "Name: goal_bins, dtype: int64"
      ]
     },
     "execution_count": 243,
     "metadata": {},
     "output_type": "execute_result"
    }
   ],
   "source": [
    "# Make goal bins for histogram\n",
    "dreaming = sub['goal_USD'].quantile(0.10)\n",
    "high = sub['goal_USD'].quantile(0.33)   \n",
    "med = sub['goal_USD'].quantile(.67)   \n",
    "low = sub['goal_USD'].quantile(1.0)   \n",
    "\n",
    "def make_bins(x):\n",
    "    if x <= dreaming:\n",
    "        return 'dreaming'\n",
    "    elif x <= high:\n",
    "        return 'high'\n",
    "    elif x <= med:\n",
    "        return 'med'\n",
    "    else:\n",
    "        return 'low'\n",
    "    \n",
    "sub['goal_bins'] = sub['goal_USD'].apply(make_bins)\n",
    "sub['goal_bins'].value_counts()"
   ]
  },
  {
   "cell_type": "code",
   "execution_count": 244,
   "metadata": {
    "ExecuteTime": {
     "end_time": "2016-11-09T16:19:19.664195",
     "start_time": "2016-11-09T16:19:19.642974"
    },
    "collapsed": false
   },
   "outputs": [
    {
     "data": {
      "text/plain": [
       "med         1360\n",
       "low         1320\n",
       "high         920\n",
       "dreaming     400\n",
       "Name: pledged_bins, dtype: int64"
      ]
     },
     "execution_count": 244,
     "metadata": {},
     "output_type": "execute_result"
    }
   ],
   "source": [
    "# Make pledged bins for histogram\n",
    "dreaming = sub['pledged_USD'].quantile(0.10)\n",
    "high = sub['pledged_USD'].quantile(0.33)   \n",
    "med = sub['pledged_USD'].quantile(.67)   \n",
    "low = sub['pledged_USD'].quantile(1.0)   \n",
    "\n",
    "def make_bins(x):\n",
    "    if x <= dreaming:\n",
    "        return 'dreaming'\n",
    "    elif x <= high:\n",
    "        return 'high'\n",
    "    elif x <= med:\n",
    "        return 'med'\n",
    "    else:\n",
    "        return 'low'\n",
    "    \n",
    "sub['pledged_bins'] = sub['pledged_USD'].apply(make_bins)\n",
    "sub['pledged_bins'].value_counts()"
   ]
  },
  {
   "cell_type": "code",
   "execution_count": null,
   "metadata": {
    "collapsed": true
   },
   "outputs": [],
   "source": []
  },
  {
   "cell_type": "code",
   "execution_count": 154,
   "metadata": {
    "ExecuteTime": {
     "end_time": "2016-11-09T15:48:00.571410",
     "start_time": "2016-11-09T15:48:00.107460"
    },
    "collapsed": false
   },
   "outputs": [
    {
     "data": {
      "text/plain": [
       "[<matplotlib.lines.Line2D at 0x11de41dd0>]"
      ]
     },
     "execution_count": 154,
     "metadata": {},
     "output_type": "execute_result"
    },
    {
     "data": {
      "image/png": "[encoded data removed]",
      "text/plain": [
       "<matplotlib.figure.Figure at 0x11d839b90>"
      ]
     },
     "metadata": {},
     "output_type": "display_data"
    }
   ],
   "source": [
    "fig, ax = plt.subplots(figsize=(16,8))\n",
    "ax.plot(sub['goal_USD'])"
   ]
  },
  {
   "cell_type": "code",
   "execution_count": null,
   "metadata": {
    "collapsed": true
   },
   "outputs": [],
   "source": []
  },
  {
   "cell_type": "code",
   "execution_count": null,
   "metadata": {
    "collapsed": true
   },
   "outputs": [],
   "source": []
  },
  {
   "cell_type": "markdown",
   "metadata": {},
   "source": []
  },
  {
   "cell_type": "code",
   "execution_count": 124,
   "metadata": {
    "ExecuteTime": {
     "end_time": "2016-11-09T15:32:45.677133",
     "start_time": "2016-11-09T15:32:45.659832"
    },
    "collapsed": false
   },
   "outputs": [
    {
     "data": {
      "text/html": [
       "<div>\n",
       "<table border=\"1\" class=\"dataframe\">\n",
       "  <thead>\n",
       "    <tr style=\"text-align: right;\">\n",
       "      <th></th>\n",
       "      <th>pledged_USD</th>\n",
       "      <th>goal_USD</th>\n",
       "      <th>currency</th>\n",
       "      <th>percent_total</th>\n",
       "    </tr>\n",
       "  </thead>\n",
       "  <tbody>\n",
       "    <tr>\n",
       "      <th>0</th>\n",
       "      <td>8782571.0</td>\n",
       "      <td>10000.0</td>\n",
       "      <td>usd</td>\n",
       "      <td>878.257100</td>\n",
       "    </tr>\n",
       "    <tr>\n",
       "      <th>1</th>\n",
       "      <td>6465690.0</td>\n",
       "      <td>15000.0</td>\n",
       "      <td>usd</td>\n",
       "      <td>431.046000</td>\n",
       "    </tr>\n",
       "    <tr>\n",
       "      <th>2</th>\n",
       "      <td>5408916.0</td>\n",
       "      <td>1000000.0</td>\n",
       "      <td>usd</td>\n",
       "      <td>5.408916</td>\n",
       "    </tr>\n",
       "    <tr>\n",
       "      <th>3</th>\n",
       "      <td>5702153.0</td>\n",
       "      <td>2000000.0</td>\n",
       "      <td>usd</td>\n",
       "      <td>2.851077</td>\n",
       "    </tr>\n",
       "    <tr>\n",
       "      <th>4</th>\n",
       "      <td>3336371.0</td>\n",
       "      <td>400000.0</td>\n",
       "      <td>usd</td>\n",
       "      <td>8.340927</td>\n",
       "    </tr>\n",
       "  </tbody>\n",
       "</table>\n",
       "</div>"
      ],
      "text/plain": [
       "   pledged_USD   goal_USD currency  percent_total\n",
       "0    8782571.0    10000.0      usd     878.257100\n",
       "1    6465690.0    15000.0      usd     431.046000\n",
       "2    5408916.0  1000000.0      usd       5.408916\n",
       "3    5702153.0  2000000.0      usd       2.851077\n",
       "4    3336371.0   400000.0      usd       8.340927"
      ]
     },
     "execution_count": 124,
     "metadata": {},
     "output_type": "execute_result"
    }
   ],
   "source": [
    "sub.head()"
   ]
  },
  {
   "cell_type": "code",
   "execution_count": null,
   "metadata": {
    "collapsed": true
   },
   "outputs": [],
   "source": []
  },
  {
   "cell_type": "code",
   "execution_count": null,
   "metadata": {
    "collapsed": true
   },
   "outputs": [],
   "source": []
  },
  {
   "cell_type": "code",
   "execution_count": null,
   "metadata": {
    "collapsed": true
   },
   "outputs": [],
   "source": []
  },
  {
   "cell_type": "code",
   "execution_count": null,
   "metadata": {
    "collapsed": true
   },
   "outputs": [],
   "source": []
  },
  {
   "cell_type": "code",
   "execution_count": null,
   "metadata": {
    "collapsed": true
   },
   "outputs": [],
   "source": []
  },
  {
   "cell_type": "code",
   "execution_count": 114,
   "metadata": {
    "ExecuteTime": {
     "end_time": "2016-11-09T15:28:46.930837",
     "start_time": "2016-11-09T15:28:46.903123"
    },
    "collapsed": false
   },
   "outputs": [
    {
     "data": {
      "text/plain": [
       "{'aud': [pledged_USD      87760.7500\n",
       "  goal_USD         15400.0000\n",
       "  percent_total        5.9677\n",
       "  dtype: float64], 'cad': [pledged_USD      85953.750000\n",
       "  goal_USD         22500.000000\n",
       "  percent_total        4.278667\n",
       "  dtype: float64], 'chf': [pledged_USD      252641.760000\n",
       "  goal_USD          81600.000000\n",
       "  percent_total         1.981504\n",
       "  dtype: float64], 'dkk': [pledged_USD      99633.30000\n",
       "  goal_USD         30000.00000\n",
       "  percent_total        3.32111\n",
       "  dtype: float64], 'eur': [pledged_USD      183974.015000\n",
       "  goal_USD          43600.000000\n",
       "  percent_total         4.118138\n",
       "  dtype: float64], 'gbp': [pledged_USD      101544.375000\n",
       "  goal_USD          31250.000000\n",
       "  percent_total         2.979403\n",
       "  dtype: float64], 'nzd': [pledged_USD      67224.970000\n",
       "  goal_USD         19345.000000\n",
       "  percent_total        4.474362\n",
       "  dtype: float64], 'sek': [pledged_USD      86449.440000\n",
       "  goal_USD         29150.000000\n",
       "  percent_total        4.326612\n",
       "  dtype: float64], 'usd': [pledged_USD      124182.000000\n",
       "  goal_USD          30000.000000\n",
       "  percent_total         4.688533\n",
       "  dtype: float64]}"
      ]
     },
     "execution_count": 114,
     "metadata": {},
     "output_type": "execute_result"
    }
   ],
   "source": [
    "median_dict"
   ]
  },
  {
   "cell_type": "code",
   "execution_count": 99,
   "metadata": {
    "ExecuteTime": {
     "end_time": "2016-11-09T15:20:40.154753",
     "start_time": "2016-11-09T15:20:40.148324"
    },
    "collapsed": false
   },
   "outputs": [
    {
     "data": {
      "text/plain": [
       "<bound method Series.median of 1857    6.634900\n",
       "2023    1.371581\n",
       "2933    1.981504\n",
       "Name: percent_total, dtype: float64>"
      ]
     },
     "execution_count": 99,
     "metadata": {},
     "output_type": "execute_result"
    }
   ],
   "source": [
    "median_dict['chf'][0]"
   ]
  },
  {
   "cell_type": "code",
   "execution_count": 34,
   "metadata": {
    "ExecuteTime": {
     "end_time": "2016-11-09T14:27:52.419897",
     "start_time": "2016-11-09T14:27:52.415786"
    },
    "collapsed": false
   },
   "outputs": [],
   "source": [
    "currency_list = ['usd', 'gbp', 'cad', 'eur', 'aud', 'sek', 'nzd', 'dkk', 'chf']"
   ]
  },
  {
   "cell_type": "code",
   "execution_count": null,
   "metadata": {
    "ExecuteTime": {
     "end_time": "2016-11-09T13:24:47.955619",
     "start_time": "2016-11-09T13:24:47.612853"
    },
    "collapsed": false
   },
   "outputs": [],
   "source": [
    "s = sub['pledged_USD']\n",
    "s.hist()"
   ]
  },
  {
   "cell_type": "code",
   "execution_count": null,
   "metadata": {
    "ExecuteTime": {
     "end_time": "2016-11-09T13:22:42.150446",
     "start_time": "2016-11-09T13:22:41.729459"
    },
    "collapsed": false
   },
   "outputs": [],
   "source": [
    "sub.plot(subplots=True, kind='scatter', y=sub['pledged_USD'], x=sub['pledged_USD'])"
   ]
  },
  {
   "cell_type": "code",
   "execution_count": null,
   "metadata": {
    "ExecuteTime": {
     "end_time": "2016-11-09T13:09:36.340198",
     "start_time": "2016-11-09T13:09:35.938012"
    },
    "collapsed": false
   },
   "outputs": [],
   "source": [
    "fig, ax = plt.subplots(figsize=(16,6))\n",
    "\n",
    "ax.plot(sub.loc[:,['pledged_USD', 'goal_USD']])"
   ]
  },
  {
   "cell_type": "code",
   "execution_count": null,
   "metadata": {
    "collapsed": true
   },
   "outputs": [],
   "source": []
  }
 ],
 "metadata": {
  "kernelspec": {
   "display_name": "Python 2",
   "language": "python",
   "name": "python2"
  },
  "language_info": {
   "codemirror_mode": {
    "name": "ipython",
    "version": 2
   },
   "file_extension": ".py",
   "mimetype": "text/x-python",
   "name": "python",
   "nbconvert_exporter": "python",
   "pygments_lexer": "ipython2",
   "version": "2.7.12"
  },
  "toc": {
   "nav_menu": {
    "height": "30px",
    "width": "252px"
   },
   "navigate_menu": true,
   "number_sections": true,
   "sideBar": true,
   "threshold": 4,
   "toc_cell": false,
   "toc_section_display": "block",
   "toc_window_display": false
  }
 },
 "nbformat": 4,
 "nbformat_minor": 0
}
