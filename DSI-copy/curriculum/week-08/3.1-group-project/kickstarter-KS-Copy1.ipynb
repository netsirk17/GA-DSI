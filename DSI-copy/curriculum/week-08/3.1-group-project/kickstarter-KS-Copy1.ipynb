{
 "cells": [
  {
   "cell_type": "markdown",
   "metadata": {},
   "source": [
    "## amt.pledged, currency & goal columns"
   ]
  },
  {
   "cell_type": "code",
   "execution_count": 1,
   "metadata": {
    "ExecuteTime": {
     "end_time": "2016-11-09T16:27:01.174028",
     "start_time": "2016-11-09T16:26:58.936981"
    },
    "collapsed": false
   },
   "outputs": [],
   "source": [
    "import numpy as np\n",
    "import pandas as pd\n",
    "import matplotlib.pyplot as plt\n",
    "import matplotlib\n",
    "%matplotlib inline\n",
    "import seaborn as sns"
   ]
  },
  {
   "cell_type": "code",
   "execution_count": 2,
   "metadata": {
    "ExecuteTime": {
     "end_time": "2016-11-09T16:27:01.266632",
     "start_time": "2016-11-09T16:27:01.178303"
    },
    "collapsed": false
   },
   "outputs": [
    {
     "data": {
      "text/html": [
       "<div>\n",
       "<table border=\"1\" class=\"dataframe\">\n",
       "  <thead>\n",
       "    <tr style=\"text-align: right;\">\n",
       "      <th></th>\n",
       "      <th>amt.pledged</th>\n",
       "      <th>blurb</th>\n",
       "      <th>category</th>\n",
       "      <th>currency</th>\n",
       "      <th>goal</th>\n",
       "      <th>location</th>\n",
       "      <th>num.backers</th>\n",
       "      <th>num.backers.tier</th>\n",
       "      <th>pledge.tier</th>\n",
       "      <th>title</th>\n",
       "      <th>url</th>\n",
       "    </tr>\n",
       "  </thead>\n",
       "  <tbody>\n",
       "    <tr>\n",
       "      <th>0</th>\n",
       "      <td>8782571.0</td>\n",
       "      <td>\\nThis is a card game for people who are into ...</td>\n",
       "      <td>Tabletop Games</td>\n",
       "      <td>usd</td>\n",
       "      <td>10000.0</td>\n",
       "      <td>Los Angeles, CA</td>\n",
       "      <td>219382</td>\n",
       "      <td>[15505, 202934, 200, 5]</td>\n",
       "      <td>[20.0, 35.0, 100.0, 500.0]</td>\n",
       "      <td>Exploding Kittens</td>\n",
       "      <td>/projects/elanlee/exploding-kittens</td>\n",
       "    </tr>\n",
       "  </tbody>\n",
       "</table>\n",
       "</div>"
      ],
      "text/plain": [
       "   amt.pledged                                              blurb  \\\n",
       "0    8782571.0  \\nThis is a card game for people who are into ...   \n",
       "\n",
       "         category currency     goal         location  num.backers  \\\n",
       "0  Tabletop Games      usd  10000.0  Los Angeles, CA       219382   \n",
       "\n",
       "          num.backers.tier                 pledge.tier              title  \\\n",
       "0  [15505, 202934, 200, 5]  [20.0, 35.0, 100.0, 500.0]  Exploding Kittens   \n",
       "\n",
       "                                   url  \n",
       "0  /projects/elanlee/exploding-kittens  "
      ]
     },
     "execution_count": 2,
     "metadata": {},
     "output_type": "execute_result"
    }
   ],
   "source": [
    "# Read in and examine data\n",
    "df = pd.read_csv('most_backed.csv')\n",
    "del df['Unnamed: 0']\n",
    "df.head(1)"
   ]
  },
  {
   "cell_type": "code",
   "execution_count": 3,
   "metadata": {
    "ExecuteTime": {
     "end_time": "2016-11-09T16:27:01.539475",
     "start_time": "2016-11-09T16:27:01.480626"
    },
    "collapsed": false
   },
   "outputs": [
    {
     "name": "stderr",
     "output_type": "stream",
     "text": [
      "//anaconda/lib/python2.7/site-packages/pandas/core/frame.py:2816: SettingWithCopyWarning: \n",
      "A value is trying to be set on a copy of a slice from a DataFrame\n",
      "\n",
      "See the caveats in the documentation: http://pandas.pydata.org/pandas-docs/stable/indexing.html#indexing-view-versus-copy\n",
      "  **kwargs)\n"
     ]
    },
    {
     "data": {
      "text/html": [
       "<div>\n",
       "<table border=\"1\" class=\"dataframe\">\n",
       "  <thead>\n",
       "    <tr style=\"text-align: right;\">\n",
       "      <th></th>\n",
       "      <th>amt_pledged</th>\n",
       "      <th>goal</th>\n",
       "      <th>currency</th>\n",
       "    </tr>\n",
       "  </thead>\n",
       "  <tbody>\n",
       "    <tr>\n",
       "      <th>0</th>\n",
       "      <td>8782571.0</td>\n",
       "      <td>10000.0</td>\n",
       "      <td>usd</td>\n",
       "    </tr>\n",
       "    <tr>\n",
       "      <th>1</th>\n",
       "      <td>6465690.0</td>\n",
       "      <td>15000.0</td>\n",
       "      <td>usd</td>\n",
       "    </tr>\n",
       "    <tr>\n",
       "      <th>2</th>\n",
       "      <td>5408916.0</td>\n",
       "      <td>1000000.0</td>\n",
       "      <td>usd</td>\n",
       "    </tr>\n",
       "    <tr>\n",
       "      <th>3</th>\n",
       "      <td>5702153.0</td>\n",
       "      <td>2000000.0</td>\n",
       "      <td>usd</td>\n",
       "    </tr>\n",
       "    <tr>\n",
       "      <th>4</th>\n",
       "      <td>3336371.0</td>\n",
       "      <td>400000.0</td>\n",
       "      <td>usd</td>\n",
       "    </tr>\n",
       "  </tbody>\n",
       "</table>\n",
       "</div>"
      ],
      "text/plain": [
       "   amt_pledged       goal currency\n",
       "0    8782571.0    10000.0      usd\n",
       "1    6465690.0    15000.0      usd\n",
       "2    5408916.0  1000000.0      usd\n",
       "3    5702153.0  2000000.0      usd\n",
       "4    3336371.0   400000.0      usd"
      ]
     },
     "execution_count": 3,
     "metadata": {},
     "output_type": "execute_result"
    }
   ],
   "source": [
    "# Create sub dataframe for only money-related columns\n",
    "sub = df[['amt.pledged', 'goal', 'currency']]\n",
    "\n",
    "# Rename amt.pledged column\n",
    "sub.rename(columns={'amt.pledged': 'amt_pledged'}, inplace=True)\n",
    "\n",
    "# Examine new sub dataframe\n",
    "sub.head()"
   ]
  },
  {
   "cell_type": "code",
   "execution_count": 4,
   "metadata": {
    "ExecuteTime": {
     "end_time": "2016-11-09T16:27:01.644762",
     "start_time": "2016-11-09T16:27:01.636596"
    },
    "collapsed": false
   },
   "outputs": [
    {
     "data": {
      "text/plain": [
       "usd    3437\n",
       "gbp     252\n",
       "cad     128\n",
       "eur      96\n",
       "aud      53\n",
       "sek      14\n",
       "nzd      10\n",
       "dkk       7\n",
       "chf       3\n",
       "Name: currency, dtype: int64"
      ]
     },
     "execution_count": 4,
     "metadata": {},
     "output_type": "execute_result"
    }
   ],
   "source": [
    "# Check unique currencies\n",
    "df['currency'].value_counts()"
   ]
  },
  {
   "cell_type": "code",
   "execution_count": 5,
   "metadata": {
    "ExecuteTime": {
     "end_time": "2016-11-09T16:27:03.267068",
     "start_time": "2016-11-09T16:27:03.117998"
    },
    "collapsed": false
   },
   "outputs": [
    {
     "name": "stderr",
     "output_type": "stream",
     "text": [
      "/anaconda/lib/python2.7/site-packages/ipykernel/__main__.py:14: SettingWithCopyWarning: \n",
      "A value is trying to be set on a copy of a slice from a DataFrame.\n",
      "Try using .loc[row_indexer,col_indexer] = value instead\n",
      "\n",
      "See the caveats in the documentation: http://pandas.pydata.org/pandas-docs/stable/indexing.html#indexing-view-versus-copy\n",
      "/anaconda/lib/python2.7/site-packages/ipykernel/__main__.py:17: SettingWithCopyWarning: \n",
      "A value is trying to be set on a copy of a slice from a DataFrame.\n",
      "Try using .loc[row_indexer,col_indexer] = value instead\n",
      "\n",
      "See the caveats in the documentation: http://pandas.pydata.org/pandas-docs/stable/indexing.html#indexing-view-versus-copy\n",
      "/anaconda/lib/python2.7/site-packages/ipykernel/__main__.py:18: SettingWithCopyWarning: \n",
      "A value is trying to be set on a copy of a slice from a DataFrame.\n",
      "Try using .loc[row_indexer,col_indexer] = value instead\n",
      "\n",
      "See the caveats in the documentation: http://pandas.pydata.org/pandas-docs/stable/indexing.html#indexing-view-versus-copy\n"
     ]
    }
   ],
   "source": [
    "# Create exchange rate dictionary (note: exchange rates based on 11/9/16)\n",
    "exchange_dict = {\n",
    "    'usd': 1.00,\n",
    "    'gbp': 1.25,\n",
    "    'cad': 0.75,\n",
    "    'eur': 1.09,\n",
    "    'aud': 0.77,\n",
    "    'sek': 0.11,\n",
    "    'nzd': 0.73,\n",
    "    'dkk': 0.15,\n",
    "    'chf': 1.02,}\n",
    "\n",
    "# Create a new column that maps out exchange rate based on currency\n",
    "sub['exchange_rate'] = sub['currency'].map(exchange_dict)\n",
    "\n",
    "# Create new column that converts all data to USD \n",
    "sub['pledged_USD'] = sub['amt_pledged'] * sub['exchange_rate']\n",
    "sub['goal_USD'] = sub['goal'] * sub['exchange_rate']"
   ]
  },
  {
   "cell_type": "code",
   "execution_count": 6,
   "metadata": {
    "ExecuteTime": {
     "end_time": "2016-11-09T16:27:04.563870",
     "start_time": "2016-11-09T16:27:04.542920"
    },
    "collapsed": false
   },
   "outputs": [
    {
     "data": {
      "text/html": [
       "<div>\n",
       "<table border=\"1\" class=\"dataframe\">\n",
       "  <thead>\n",
       "    <tr style=\"text-align: right;\">\n",
       "      <th></th>\n",
       "      <th>currency</th>\n",
       "      <th>amt_pledged</th>\n",
       "      <th>pledged_USD</th>\n",
       "      <th>goal</th>\n",
       "      <th>goal_USD</th>\n",
       "    </tr>\n",
       "  </thead>\n",
       "  <tbody>\n",
       "    <tr>\n",
       "      <th>1857</th>\n",
       "      <td>chf</td>\n",
       "      <td>530792.0</td>\n",
       "      <td>541407.84</td>\n",
       "      <td>80000.0</td>\n",
       "      <td>81600.0</td>\n",
       "    </tr>\n",
       "    <tr>\n",
       "      <th>2023</th>\n",
       "      <td>chf</td>\n",
       "      <td>53862.0</td>\n",
       "      <td>54939.24</td>\n",
       "      <td>39270.0</td>\n",
       "      <td>40055.4</td>\n",
       "    </tr>\n",
       "    <tr>\n",
       "      <th>2933</th>\n",
       "      <td>chf</td>\n",
       "      <td>247688.0</td>\n",
       "      <td>252641.76</td>\n",
       "      <td>125000.0</td>\n",
       "      <td>127500.0</td>\n",
       "    </tr>\n",
       "  </tbody>\n",
       "</table>\n",
       "</div>"
      ],
      "text/plain": [
       "     currency  amt_pledged  pledged_USD      goal  goal_USD\n",
       "1857      chf     530792.0    541407.84   80000.0   81600.0\n",
       "2023      chf      53862.0     54939.24   39270.0   40055.4\n",
       "2933      chf     247688.0    252641.76  125000.0  127500.0"
      ]
     },
     "execution_count": 6,
     "metadata": {},
     "output_type": "execute_result"
    }
   ],
   "source": [
    "# Just checking to make sure conversions worked\n",
    "sub[sub['currency'] == 'chf'].loc[:, ['currency', 'amt_pledged', 'pledged_USD', 'goal', 'goal_USD']]"
   ]
  },
  {
   "cell_type": "code",
   "execution_count": 7,
   "metadata": {
    "ExecuteTime": {
     "end_time": "2016-11-09T16:27:05.924878",
     "start_time": "2016-11-09T16:27:05.910410"
    },
    "collapsed": false
   },
   "outputs": [
    {
     "data": {
      "text/html": [
       "<div>\n",
       "<table border=\"1\" class=\"dataframe\">\n",
       "  <thead>\n",
       "    <tr style=\"text-align: right;\">\n",
       "      <th></th>\n",
       "      <th>pledged_USD</th>\n",
       "      <th>goal_USD</th>\n",
       "      <th>currency</th>\n",
       "    </tr>\n",
       "  </thead>\n",
       "  <tbody>\n",
       "    <tr>\n",
       "      <th>0</th>\n",
       "      <td>8782571.0</td>\n",
       "      <td>10000.0</td>\n",
       "      <td>usd</td>\n",
       "    </tr>\n",
       "    <tr>\n",
       "      <th>1</th>\n",
       "      <td>6465690.0</td>\n",
       "      <td>15000.0</td>\n",
       "      <td>usd</td>\n",
       "    </tr>\n",
       "  </tbody>\n",
       "</table>\n",
       "</div>"
      ],
      "text/plain": [
       "   pledged_USD  goal_USD currency\n",
       "0    8782571.0   10000.0      usd\n",
       "1    6465690.0   15000.0      usd"
      ]
     },
     "execution_count": 7,
     "metadata": {},
     "output_type": "execute_result"
    }
   ],
   "source": [
    "# Create new sub dataframe with only USD info\n",
    "sub = sub[['pledged_USD', 'goal_USD', 'currency']]\n",
    "sub.head(2)"
   ]
  },
  {
   "cell_type": "code",
   "execution_count": 10,
   "metadata": {
    "ExecuteTime": {
     "end_time": "2016-11-09T16:27:44.721619",
     "start_time": "2016-11-09T16:27:44.679596"
    },
    "collapsed": true
   },
   "outputs": [],
   "source": [
    "# Create a new column that shows pledged/goal\n",
    "sub['percent_total'] = sub['pledged_USD'] / sub['goal_USD']\n",
    "\n",
    "# print np.min(sub['percent_total'])\n",
    "# print np.max(sub['percent_total'])\n",
    "# print np.mean(sub['percent_total'])\n",
    "# print np.median(sub['percent_total'])\n",
    "# print ''\n",
    "# print np.min(sub['pledged_USD'])\n",
    "# print np.max(sub['pledged_USD'])\n",
    "# print np.mean(sub['pledged_USD'])\n",
    "# print np.median(sub['pledged_USD'])"
   ]
  },
  {
   "cell_type": "code",
   "execution_count": 11,
   "metadata": {
    "ExecuteTime": {
     "end_time": "2016-11-09T16:27:45.719814",
     "start_time": "2016-11-09T16:27:45.714220"
    },
    "collapsed": false
   },
   "outputs": [],
   "source": [
    "# Reordering columns\n",
    "sub = sub[['pledged_USD', 'goal_USD', 'percent_total', 'currency']]"
   ]
  },
  {
   "cell_type": "code",
   "execution_count": 13,
   "metadata": {
    "ExecuteTime": {
     "end_time": "2016-11-09T16:28:10.440075",
     "start_time": "2016-11-09T16:28:10.424384"
    },
    "collapsed": false
   },
   "outputs": [
    {
     "data": {
      "text/html": [
       "<div>\n",
       "<table border=\"1\" class=\"dataframe\">\n",
       "  <thead>\n",
       "    <tr style=\"text-align: right;\">\n",
       "      <th></th>\n",
       "      <th>pledged_USD</th>\n",
       "      <th>goal_USD</th>\n",
       "      <th>percent_total</th>\n",
       "      <th>currency</th>\n",
       "    </tr>\n",
       "  </thead>\n",
       "  <tbody>\n",
       "    <tr>\n",
       "      <th>0</th>\n",
       "      <td>8782571.0</td>\n",
       "      <td>10000.0</td>\n",
       "      <td>878.257100</td>\n",
       "      <td>usd</td>\n",
       "    </tr>\n",
       "    <tr>\n",
       "      <th>1</th>\n",
       "      <td>6465690.0</td>\n",
       "      <td>15000.0</td>\n",
       "      <td>431.046000</td>\n",
       "      <td>usd</td>\n",
       "    </tr>\n",
       "    <tr>\n",
       "      <th>2</th>\n",
       "      <td>5408916.0</td>\n",
       "      <td>1000000.0</td>\n",
       "      <td>5.408916</td>\n",
       "      <td>usd</td>\n",
       "    </tr>\n",
       "    <tr>\n",
       "      <th>3</th>\n",
       "      <td>5702153.0</td>\n",
       "      <td>2000000.0</td>\n",
       "      <td>2.851077</td>\n",
       "      <td>usd</td>\n",
       "    </tr>\n",
       "    <tr>\n",
       "      <th>4</th>\n",
       "      <td>3336371.0</td>\n",
       "      <td>400000.0</td>\n",
       "      <td>8.340927</td>\n",
       "      <td>usd</td>\n",
       "    </tr>\n",
       "  </tbody>\n",
       "</table>\n",
       "</div>"
      ],
      "text/plain": [
       "   pledged_USD   goal_USD  percent_total currency\n",
       "0    8782571.0    10000.0     878.257100      usd\n",
       "1    6465690.0    15000.0     431.046000      usd\n",
       "2    5408916.0  1000000.0       5.408916      usd\n",
       "3    5702153.0  2000000.0       2.851077      usd\n",
       "4    3336371.0   400000.0       8.340927      usd"
      ]
     },
     "execution_count": 13,
     "metadata": {},
     "output_type": "execute_result"
    }
   ],
   "source": [
    "sub.head()"
   ]
  },
  {
   "cell_type": "code",
   "execution_count": 14,
   "metadata": {
    "ExecuteTime": {
     "end_time": "2016-11-09T16:28:39.363824",
     "start_time": "2016-11-09T16:28:39.302467"
    },
    "collapsed": false
   },
   "outputs": [
    {
     "name": "stderr",
     "output_type": "stream",
     "text": [
      "/anaconda/lib/python2.7/site-packages/ipykernel/__main__.py:17: SettingWithCopyWarning: \n",
      "A value is trying to be set on a copy of a slice from a DataFrame.\n",
      "Try using .loc[row_indexer,col_indexer] = value instead\n",
      "\n",
      "See the caveats in the documentation: http://pandas.pydata.org/pandas-docs/stable/indexing.html#indexing-view-versus-copy\n"
     ]
    },
    {
     "data": {
      "text/plain": [
       "med         1552\n",
       "low         1102\n",
       "high         946\n",
       "dreaming     400\n",
       "Name: goal_bins, dtype: int64"
      ]
     },
     "execution_count": 14,
     "metadata": {},
     "output_type": "execute_result"
    }
   ],
   "source": [
    "# Make goal bins for histogram\n",
    "dreaming = sub['goal_USD'].quantile(0.10)\n",
    "high = sub['goal_USD'].quantile(0.33)   \n",
    "med = sub['goal_USD'].quantile(.67)   \n",
    "low = sub['goal_USD'].quantile(1.0)   \n",
    "\n",
    "def make_bins(x):\n",
    "    if x <= dreaming:\n",
    "        return 'dreaming'\n",
    "    elif x <= high:\n",
    "        return 'high'\n",
    "    elif x <= med:\n",
    "        return 'med'\n",
    "    else:\n",
    "        return 'low'\n",
    "    \n",
    "sub['goal_bins'] = sub['goal_USD'].apply(make_bins)\n",
    "sub['goal_bins'].value_counts()"
   ]
  },
  {
   "cell_type": "code",
   "execution_count": 15,
   "metadata": {
    "ExecuteTime": {
     "end_time": "2016-11-09T16:28:39.894907",
     "start_time": "2016-11-09T16:28:39.838934"
    },
    "collapsed": false
   },
   "outputs": [
    {
     "name": "stderr",
     "output_type": "stream",
     "text": [
      "/anaconda/lib/python2.7/site-packages/ipykernel/__main__.py:17: SettingWithCopyWarning: \n",
      "A value is trying to be set on a copy of a slice from a DataFrame.\n",
      "Try using .loc[row_indexer,col_indexer] = value instead\n",
      "\n",
      "See the caveats in the documentation: http://pandas.pydata.org/pandas-docs/stable/indexing.html#indexing-view-versus-copy\n"
     ]
    },
    {
     "data": {
      "text/plain": [
       "med         1360\n",
       "low         1320\n",
       "high         920\n",
       "dreaming     400\n",
       "Name: pledged_bins, dtype: int64"
      ]
     },
     "execution_count": 15,
     "metadata": {},
     "output_type": "execute_result"
    }
   ],
   "source": [
    "# Make pledged bins for histogram\n",
    "dreaming = sub['pledged_USD'].quantile(0.10)\n",
    "high = sub['pledged_USD'].quantile(0.33)   \n",
    "med = sub['pledged_USD'].quantile(.67)   \n",
    "low = sub['pledged_USD'].quantile(1.0)   \n",
    "\n",
    "def make_bins(x):\n",
    "    if x <= dreaming:\n",
    "        return 'dreaming'\n",
    "    elif x <= high:\n",
    "        return 'high'\n",
    "    elif x <= med:\n",
    "        return 'med'\n",
    "    else:\n",
    "        return 'low'\n",
    "    \n",
    "sub['pledged_bins'] = sub['pledged_USD'].apply(make_bins)\n",
    "sub['pledged_bins'].value_counts()"
   ]
  },
  {
   "cell_type": "code",
   "execution_count": 16,
   "metadata": {
    "ExecuteTime": {
     "end_time": "2016-11-09T16:28:49.252700",
     "start_time": "2016-11-09T16:28:49.231570"
    },
    "collapsed": false
   },
   "outputs": [
    {
     "data": {
      "text/html": [
       "<div>\n",
       "<table border=\"1\" class=\"dataframe\">\n",
       "  <thead>\n",
       "    <tr style=\"text-align: right;\">\n",
       "      <th></th>\n",
       "      <th>pledged_USD</th>\n",
       "      <th>goal_USD</th>\n",
       "      <th>percent_total</th>\n",
       "      <th>currency</th>\n",
       "      <th>goal_bins</th>\n",
       "      <th>pledged_bins</th>\n",
       "    </tr>\n",
       "  </thead>\n",
       "  <tbody>\n",
       "    <tr>\n",
       "      <th>0</th>\n",
       "      <td>8782571.0</td>\n",
       "      <td>10000.0</td>\n",
       "      <td>878.257100</td>\n",
       "      <td>usd</td>\n",
       "      <td>high</td>\n",
       "      <td>low</td>\n",
       "    </tr>\n",
       "    <tr>\n",
       "      <th>1</th>\n",
       "      <td>6465690.0</td>\n",
       "      <td>15000.0</td>\n",
       "      <td>431.046000</td>\n",
       "      <td>usd</td>\n",
       "      <td>high</td>\n",
       "      <td>low</td>\n",
       "    </tr>\n",
       "    <tr>\n",
       "      <th>2</th>\n",
       "      <td>5408916.0</td>\n",
       "      <td>1000000.0</td>\n",
       "      <td>5.408916</td>\n",
       "      <td>usd</td>\n",
       "      <td>low</td>\n",
       "      <td>low</td>\n",
       "    </tr>\n",
       "    <tr>\n",
       "      <th>3</th>\n",
       "      <td>5702153.0</td>\n",
       "      <td>2000000.0</td>\n",
       "      <td>2.851077</td>\n",
       "      <td>usd</td>\n",
       "      <td>low</td>\n",
       "      <td>low</td>\n",
       "    </tr>\n",
       "    <tr>\n",
       "      <th>4</th>\n",
       "      <td>3336371.0</td>\n",
       "      <td>400000.0</td>\n",
       "      <td>8.340927</td>\n",
       "      <td>usd</td>\n",
       "      <td>low</td>\n",
       "      <td>low</td>\n",
       "    </tr>\n",
       "  </tbody>\n",
       "</table>\n",
       "</div>"
      ],
      "text/plain": [
       "   pledged_USD   goal_USD  percent_total currency goal_bins pledged_bins\n",
       "0    8782571.0    10000.0     878.257100      usd      high          low\n",
       "1    6465690.0    15000.0     431.046000      usd      high          low\n",
       "2    5408916.0  1000000.0       5.408916      usd       low          low\n",
       "3    5702153.0  2000000.0       2.851077      usd       low          low\n",
       "4    3336371.0   400000.0       8.340927      usd       low          low"
      ]
     },
     "execution_count": 16,
     "metadata": {},
     "output_type": "execute_result"
    }
   ],
   "source": [
    "sub.head()"
   ]
  }
 ],
 "metadata": {
  "kernelspec": {
   "display_name": "Python 2",
   "language": "python",
   "name": "python2"
  },
  "language_info": {
   "codemirror_mode": {
    "name": "ipython",
    "version": 2
   },
   "file_extension": ".py",
   "mimetype": "text/x-python",
   "name": "python",
   "nbconvert_exporter": "python",
   "pygments_lexer": "ipython2",
   "version": "2.7.12"
  },
  "toc": {
   "nav_menu": {
    "height": "30px",
    "width": "252px"
   },
   "navigate_menu": true,
   "number_sections": true,
   "sideBar": true,
   "threshold": 4,
   "toc_cell": false,
   "toc_section_display": "block",
   "toc_window_display": false
  }
 },
 "nbformat": 4,
 "nbformat_minor": 0
}
