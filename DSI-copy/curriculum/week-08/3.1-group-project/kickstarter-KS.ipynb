{
 "cells": [
  {
   "cell_type": "markdown",
   "metadata": {},
   "source": [
    "## amt.pledged, currency & goal columns"
   ]
  },
  {
   "cell_type": "code",
   "execution_count": 3,
   "metadata": {
    "ExecuteTime": {
     "end_time": "2016-11-10T12:42:14.583942",
     "start_time": "2016-11-10T12:42:12.543045"
    },
    "collapsed": false
   },
   "outputs": [],
   "source": [
    "import numpy as np\n",
    "import pandas as pd\n",
    "import matplotlib.pyplot as plt\n",
    "import matplotlib\n",
    "%matplotlib inline\n",
    "import seaborn as sns"
   ]
  },
  {
   "cell_type": "code",
   "execution_count": 4,
   "metadata": {
    "ExecuteTime": {
     "end_time": "2016-11-10T12:42:15.253087",
     "start_time": "2016-11-10T12:42:15.183872"
    },
    "collapsed": false
   },
   "outputs": [
    {
     "data": {
      "text/html": [
       "<div>\n",
       "<table border=\"1\" class=\"dataframe\">\n",
       "  <thead>\n",
       "    <tr style=\"text-align: right;\">\n",
       "      <th></th>\n",
       "      <th>amt.pledged</th>\n",
       "      <th>blurb</th>\n",
       "      <th>category</th>\n",
       "      <th>currency</th>\n",
       "      <th>goal</th>\n",
       "      <th>location</th>\n",
       "      <th>num.backers</th>\n",
       "      <th>num.backers.tier</th>\n",
       "      <th>pledge.tier</th>\n",
       "      <th>title</th>\n",
       "      <th>url</th>\n",
       "    </tr>\n",
       "  </thead>\n",
       "  <tbody>\n",
       "    <tr>\n",
       "      <th>0</th>\n",
       "      <td>8782571.0</td>\n",
       "      <td>\\nThis is a card game for people who are into ...</td>\n",
       "      <td>Tabletop Games</td>\n",
       "      <td>usd</td>\n",
       "      <td>10000.0</td>\n",
       "      <td>Los Angeles, CA</td>\n",
       "      <td>219382</td>\n",
       "      <td>[15505, 202934, 200, 5]</td>\n",
       "      <td>[20.0, 35.0, 100.0, 500.0]</td>\n",
       "      <td>Exploding Kittens</td>\n",
       "      <td>/projects/elanlee/exploding-kittens</td>\n",
       "    </tr>\n",
       "  </tbody>\n",
       "</table>\n",
       "</div>"
      ],
      "text/plain": [
       "   amt.pledged                                              blurb  \\\n",
       "0    8782571.0  \\nThis is a card game for people who are into ...   \n",
       "\n",
       "         category currency     goal         location  num.backers  \\\n",
       "0  Tabletop Games      usd  10000.0  Los Angeles, CA       219382   \n",
       "\n",
       "          num.backers.tier                 pledge.tier              title  \\\n",
       "0  [15505, 202934, 200, 5]  [20.0, 35.0, 100.0, 500.0]  Exploding Kittens   \n",
       "\n",
       "                                   url  \n",
       "0  /projects/elanlee/exploding-kittens  "
      ]
     },
     "execution_count": 4,
     "metadata": {},
     "output_type": "execute_result"
    }
   ],
   "source": [
    "# Read in and examine data\n",
    "df = pd.read_csv('most_backed.csv')\n",
    "del df['Unnamed: 0']\n",
    "df.head(1)"
   ]
  },
  {
   "cell_type": "code",
   "execution_count": 5,
   "metadata": {
    "ExecuteTime": {
     "end_time": "2016-11-10T12:42:16.119672",
     "start_time": "2016-11-10T12:42:16.039507"
    },
    "collapsed": false
   },
   "outputs": [
    {
     "name": "stderr",
     "output_type": "stream",
     "text": [
      "//anaconda/lib/python2.7/site-packages/pandas/core/frame.py:2816: SettingWithCopyWarning: \n",
      "A value is trying to be set on a copy of a slice from a DataFrame\n",
      "\n",
      "See the caveats in the documentation: http://pandas.pydata.org/pandas-docs/stable/indexing.html#indexing-view-versus-copy\n",
      "  **kwargs)\n"
     ]
    },
    {
     "data": {
      "text/html": [
       "<div>\n",
       "<table border=\"1\" class=\"dataframe\">\n",
       "  <thead>\n",
       "    <tr style=\"text-align: right;\">\n",
       "      <th></th>\n",
       "      <th>amt_pledged</th>\n",
       "      <th>goal</th>\n",
       "      <th>currency</th>\n",
       "    </tr>\n",
       "  </thead>\n",
       "  <tbody>\n",
       "    <tr>\n",
       "      <th>0</th>\n",
       "      <td>8782571.0</td>\n",
       "      <td>10000.0</td>\n",
       "      <td>usd</td>\n",
       "    </tr>\n",
       "    <tr>\n",
       "      <th>1</th>\n",
       "      <td>6465690.0</td>\n",
       "      <td>15000.0</td>\n",
       "      <td>usd</td>\n",
       "    </tr>\n",
       "    <tr>\n",
       "      <th>2</th>\n",
       "      <td>5408916.0</td>\n",
       "      <td>1000000.0</td>\n",
       "      <td>usd</td>\n",
       "    </tr>\n",
       "    <tr>\n",
       "      <th>3</th>\n",
       "      <td>5702153.0</td>\n",
       "      <td>2000000.0</td>\n",
       "      <td>usd</td>\n",
       "    </tr>\n",
       "    <tr>\n",
       "      <th>4</th>\n",
       "      <td>3336371.0</td>\n",
       "      <td>400000.0</td>\n",
       "      <td>usd</td>\n",
       "    </tr>\n",
       "  </tbody>\n",
       "</table>\n",
       "</div>"
      ],
      "text/plain": [
       "   amt_pledged       goal currency\n",
       "0    8782571.0    10000.0      usd\n",
       "1    6465690.0    15000.0      usd\n",
       "2    5408916.0  1000000.0      usd\n",
       "3    5702153.0  2000000.0      usd\n",
       "4    3336371.0   400000.0      usd"
      ]
     },
     "execution_count": 5,
     "metadata": {},
     "output_type": "execute_result"
    }
   ],
   "source": [
    "# Create sub dataframe for only money-related columns\n",
    "sub = df[['amt.pledged', 'goal', 'currency']]\n",
    "\n",
    "# Rename amt.pledged column\n",
    "sub.rename(columns={'amt.pledged': 'amt_pledged'}, inplace=True)\n",
    "\n",
    "# Examine new sub dataframe\n",
    "sub.head()"
   ]
  },
  {
   "cell_type": "code",
   "execution_count": 6,
   "metadata": {
    "ExecuteTime": {
     "end_time": "2016-11-10T12:42:16.671077",
     "start_time": "2016-11-10T12:42:16.662824"
    },
    "collapsed": false
   },
   "outputs": [
    {
     "data": {
      "text/plain": [
       "usd    3437\n",
       "gbp     252\n",
       "cad     128\n",
       "eur      96\n",
       "aud      53\n",
       "sek      14\n",
       "nzd      10\n",
       "dkk       7\n",
       "chf       3\n",
       "Name: currency, dtype: int64"
      ]
     },
     "execution_count": 6,
     "metadata": {},
     "output_type": "execute_result"
    }
   ],
   "source": [
    "# Check unique currencies\n",
    "df['currency'].value_counts()"
   ]
  },
  {
   "cell_type": "code",
   "execution_count": 7,
   "metadata": {
    "ExecuteTime": {
     "end_time": "2016-11-10T12:42:17.319441",
     "start_time": "2016-11-10T12:42:17.150937"
    },
    "collapsed": false
   },
   "outputs": [
    {
     "name": "stderr",
     "output_type": "stream",
     "text": [
      "/anaconda/lib/python2.7/site-packages/ipykernel/__main__.py:14: SettingWithCopyWarning: \n",
      "A value is trying to be set on a copy of a slice from a DataFrame.\n",
      "Try using .loc[row_indexer,col_indexer] = value instead\n",
      "\n",
      "See the caveats in the documentation: http://pandas.pydata.org/pandas-docs/stable/indexing.html#indexing-view-versus-copy\n",
      "/anaconda/lib/python2.7/site-packages/ipykernel/__main__.py:17: SettingWithCopyWarning: \n",
      "A value is trying to be set on a copy of a slice from a DataFrame.\n",
      "Try using .loc[row_indexer,col_indexer] = value instead\n",
      "\n",
      "See the caveats in the documentation: http://pandas.pydata.org/pandas-docs/stable/indexing.html#indexing-view-versus-copy\n",
      "/anaconda/lib/python2.7/site-packages/ipykernel/__main__.py:18: SettingWithCopyWarning: \n",
      "A value is trying to be set on a copy of a slice from a DataFrame.\n",
      "Try using .loc[row_indexer,col_indexer] = value instead\n",
      "\n",
      "See the caveats in the documentation: http://pandas.pydata.org/pandas-docs/stable/indexing.html#indexing-view-versus-copy\n"
     ]
    }
   ],
   "source": [
    "# Create exchange rate dictionary (note: exchange rates based on 11/9/16)\n",
    "exchange_dict = {\n",
    "    'usd': 1.00,\n",
    "    'gbp': 1.25,\n",
    "    'cad': 0.75,\n",
    "    'eur': 1.09,\n",
    "    'aud': 0.77,\n",
    "    'sek': 0.11,\n",
    "    'nzd': 0.73,\n",
    "    'dkk': 0.15,\n",
    "    'chf': 1.02,}\n",
    "\n",
    "# Create a new column that maps out exchange rate based on currency\n",
    "sub['exchange_rate'] = sub['currency'].map(exchange_dict)\n",
    "\n",
    "# Create new column that converts all data to USD \n",
    "sub['pledged_USD'] = sub['amt_pledged'] * sub['exchange_rate']\n",
    "sub['goal_USD'] = sub['goal'] * sub['exchange_rate']"
   ]
  },
  {
   "cell_type": "code",
   "execution_count": 8,
   "metadata": {
    "ExecuteTime": {
     "end_time": "2016-11-10T12:42:17.405432",
     "start_time": "2016-11-10T12:42:17.323302"
    },
    "collapsed": false
   },
   "outputs": [
    {
     "data": {
      "text/html": [
       "<div>\n",
       "<table border=\"1\" class=\"dataframe\">\n",
       "  <thead>\n",
       "    <tr style=\"text-align: right;\">\n",
       "      <th></th>\n",
       "      <th>currency</th>\n",
       "      <th>amt_pledged</th>\n",
       "      <th>pledged_USD</th>\n",
       "      <th>goal</th>\n",
       "      <th>goal_USD</th>\n",
       "    </tr>\n",
       "  </thead>\n",
       "  <tbody>\n",
       "    <tr>\n",
       "      <th>1857</th>\n",
       "      <td>chf</td>\n",
       "      <td>530792.0</td>\n",
       "      <td>541407.84</td>\n",
       "      <td>80000.0</td>\n",
       "      <td>81600.0</td>\n",
       "    </tr>\n",
       "    <tr>\n",
       "      <th>2023</th>\n",
       "      <td>chf</td>\n",
       "      <td>53862.0</td>\n",
       "      <td>54939.24</td>\n",
       "      <td>39270.0</td>\n",
       "      <td>40055.4</td>\n",
       "    </tr>\n",
       "    <tr>\n",
       "      <th>2933</th>\n",
       "      <td>chf</td>\n",
       "      <td>247688.0</td>\n",
       "      <td>252641.76</td>\n",
       "      <td>125000.0</td>\n",
       "      <td>127500.0</td>\n",
       "    </tr>\n",
       "  </tbody>\n",
       "</table>\n",
       "</div>"
      ],
      "text/plain": [
       "     currency  amt_pledged  pledged_USD      goal  goal_USD\n",
       "1857      chf     530792.0    541407.84   80000.0   81600.0\n",
       "2023      chf      53862.0     54939.24   39270.0   40055.4\n",
       "2933      chf     247688.0    252641.76  125000.0  127500.0"
      ]
     },
     "execution_count": 8,
     "metadata": {},
     "output_type": "execute_result"
    }
   ],
   "source": [
    "# Just checking to make sure conversions worked\n",
    "sub[sub['currency'] == 'chf'].loc[:, ['currency', 'amt_pledged', 'pledged_USD', 'goal', 'goal_USD']]"
   ]
  },
  {
   "cell_type": "code",
   "execution_count": 9,
   "metadata": {
    "ExecuteTime": {
     "end_time": "2016-11-10T12:42:17.483565",
     "start_time": "2016-11-10T12:42:17.459494"
    },
    "collapsed": false
   },
   "outputs": [
    {
     "data": {
      "text/html": [
       "<div>\n",
       "<table border=\"1\" class=\"dataframe\">\n",
       "  <thead>\n",
       "    <tr style=\"text-align: right;\">\n",
       "      <th></th>\n",
       "      <th>pledged_USD</th>\n",
       "      <th>goal_USD</th>\n",
       "      <th>currency</th>\n",
       "    </tr>\n",
       "  </thead>\n",
       "  <tbody>\n",
       "    <tr>\n",
       "      <th>0</th>\n",
       "      <td>8782571.0</td>\n",
       "      <td>10000.0</td>\n",
       "      <td>usd</td>\n",
       "    </tr>\n",
       "    <tr>\n",
       "      <th>1</th>\n",
       "      <td>6465690.0</td>\n",
       "      <td>15000.0</td>\n",
       "      <td>usd</td>\n",
       "    </tr>\n",
       "  </tbody>\n",
       "</table>\n",
       "</div>"
      ],
      "text/plain": [
       "   pledged_USD  goal_USD currency\n",
       "0    8782571.0   10000.0      usd\n",
       "1    6465690.0   15000.0      usd"
      ]
     },
     "execution_count": 9,
     "metadata": {},
     "output_type": "execute_result"
    }
   ],
   "source": [
    "# Create new sub dataframe with only USD info\n",
    "sub = sub[['pledged_USD', 'goal_USD', 'currency']]\n",
    "sub.head(2)"
   ]
  },
  {
   "cell_type": "code",
   "execution_count": 10,
   "metadata": {
    "ExecuteTime": {
     "end_time": "2016-11-10T12:42:17.729910",
     "start_time": "2016-11-10T12:42:17.553695"
    },
    "collapsed": false
   },
   "outputs": [
    {
     "name": "stdout",
     "output_type": "stream",
     "text": [
      "1.0\n",
      "104277.0\n",
      "70.1129344973\n",
      "4.58425714286\n",
      "\n",
      "2406.25\n",
      "20338986.0\n",
      "284961.51782\n",
      "120634.0\n"
     ]
    }
   ],
   "source": [
    "# Create a new column that shows pledged/goal\n",
    "sub['percent_total'] = sub['pledged_USD'] / sub['goal_USD']\n",
    "\n",
    "print np.min(sub['percent_total'])\n",
    "print np.max(sub['percent_total'])\n",
    "print np.mean(sub['percent_total'])\n",
    "print np.median(sub['percent_total'])\n",
    "print ''\n",
    "print np.min(sub['pledged_USD'])\n",
    "print np.max(sub['pledged_USD'])\n",
    "print np.mean(sub['pledged_USD'])\n",
    "print np.median(sub['pledged_USD'])"
   ]
  },
  {
   "cell_type": "code",
   "execution_count": 11,
   "metadata": {
    "ExecuteTime": {
     "end_time": "2016-11-10T12:42:17.757370",
     "start_time": "2016-11-10T12:42:17.737201"
    },
    "collapsed": false
   },
   "outputs": [],
   "source": [
    "# Reordering columns\n",
    "sub = sub[['pledged_USD', 'goal_USD', 'percent_total', 'currency']]"
   ]
  },
  {
   "cell_type": "code",
   "execution_count": 12,
   "metadata": {
    "ExecuteTime": {
     "end_time": "2016-11-10T12:42:17.855046",
     "start_time": "2016-11-10T12:42:17.819698"
    },
    "collapsed": false
   },
   "outputs": [
    {
     "data": {
      "text/html": [
       "<div>\n",
       "<table border=\"1\" class=\"dataframe\">\n",
       "  <thead>\n",
       "    <tr style=\"text-align: right;\">\n",
       "      <th></th>\n",
       "      <th>pledged_USD</th>\n",
       "      <th>goal_USD</th>\n",
       "      <th>percent_total</th>\n",
       "    </tr>\n",
       "  </thead>\n",
       "  <tbody>\n",
       "    <tr>\n",
       "      <th>pledged_USD</th>\n",
       "      <td>1.000000</td>\n",
       "      <td>0.434658</td>\n",
       "      <td>-0.003379</td>\n",
       "    </tr>\n",
       "    <tr>\n",
       "      <th>goal_USD</th>\n",
       "      <td>0.434658</td>\n",
       "      <td>1.000000</td>\n",
       "      <td>-0.015598</td>\n",
       "    </tr>\n",
       "    <tr>\n",
       "      <th>percent_total</th>\n",
       "      <td>-0.003379</td>\n",
       "      <td>-0.015598</td>\n",
       "      <td>1.000000</td>\n",
       "    </tr>\n",
       "  </tbody>\n",
       "</table>\n",
       "</div>"
      ],
      "text/plain": [
       "               pledged_USD  goal_USD  percent_total\n",
       "pledged_USD       1.000000  0.434658      -0.003379\n",
       "goal_USD          0.434658  1.000000      -0.015598\n",
       "percent_total    -0.003379 -0.015598       1.000000"
      ]
     },
     "execution_count": 12,
     "metadata": {},
     "output_type": "execute_result"
    }
   ],
   "source": [
    "# Check correlation of numeric columns\n",
    "sub.corr()"
   ]
  },
  {
   "cell_type": "code",
   "execution_count": 13,
   "metadata": {
    "ExecuteTime": {
     "end_time": "2016-11-10T12:42:19.034863",
     "start_time": "2016-11-10T12:42:18.983616"
    },
    "collapsed": false
   },
   "outputs": [
    {
     "data": {
      "text/html": [
       "<div>\n",
       "<table border=\"1\" class=\"dataframe\">\n",
       "  <thead>\n",
       "    <tr style=\"text-align: right;\">\n",
       "      <th></th>\n",
       "      <th>pledged_USD</th>\n",
       "      <th>goal_USD</th>\n",
       "      <th>percent_total</th>\n",
       "    </tr>\n",
       "  </thead>\n",
       "  <tbody>\n",
       "    <tr>\n",
       "      <th>count</th>\n",
       "      <td>4.000000</td>\n",
       "      <td>4.000000</td>\n",
       "      <td>4.000000</td>\n",
       "    </tr>\n",
       "    <tr>\n",
       "      <th>mean</th>\n",
       "      <td>284.961518</td>\n",
       "      <td>60.997025</td>\n",
       "      <td>0.070113</td>\n",
       "    </tr>\n",
       "    <tr>\n",
       "      <th>std</th>\n",
       "      <td>705.872588</td>\n",
       "      <td>127.082577</td>\n",
       "      <td>2.014247</td>\n",
       "    </tr>\n",
       "    <tr>\n",
       "      <th>min</th>\n",
       "      <td>2.406250</td>\n",
       "      <td>0.001000</td>\n",
       "      <td>0.001000</td>\n",
       "    </tr>\n",
       "    <tr>\n",
       "      <th>25%</th>\n",
       "      <td>67.246375</td>\n",
       "      <td>12.500000</td>\n",
       "      <td>0.002010</td>\n",
       "    </tr>\n",
       "    <tr>\n",
       "      <th>50%</th>\n",
       "      <td>120.634000</td>\n",
       "      <td>30.000000</td>\n",
       "      <td>0.004584</td>\n",
       "    </tr>\n",
       "    <tr>\n",
       "      <th>75%</th>\n",
       "      <td>252.446843</td>\n",
       "      <td>60.000000</td>\n",
       "      <td>0.010515</td>\n",
       "    </tr>\n",
       "    <tr>\n",
       "      <th>95%</th>\n",
       "      <td>942.663200</td>\n",
       "      <td>200.000000</td>\n",
       "      <td>0.038172</td>\n",
       "    </tr>\n",
       "    <tr>\n",
       "      <th>100%</th>\n",
       "      <td>20338.986000</td>\n",
       "      <td>2000.000000</td>\n",
       "      <td>104.277000</td>\n",
       "    </tr>\n",
       "    <tr>\n",
       "      <th>max</th>\n",
       "      <td>20338.986000</td>\n",
       "      <td>2000.000000</td>\n",
       "      <td>104.277000</td>\n",
       "    </tr>\n",
       "  </tbody>\n",
       "</table>\n",
       "</div>"
      ],
      "text/plain": [
       "        pledged_USD     goal_USD  percent_total\n",
       "count      4.000000     4.000000       4.000000\n",
       "mean     284.961518    60.997025       0.070113\n",
       "std      705.872588   127.082577       2.014247\n",
       "min        2.406250     0.001000       0.001000\n",
       "25%       67.246375    12.500000       0.002010\n",
       "50%      120.634000    30.000000       0.004584\n",
       "75%      252.446843    60.000000       0.010515\n",
       "95%      942.663200   200.000000       0.038172\n",
       "100%   20338.986000  2000.000000     104.277000\n",
       "max    20338.986000  2000.000000     104.277000"
      ]
     },
     "execution_count": 13,
     "metadata": {},
     "output_type": "execute_result"
    }
   ],
   "source": [
    "# Examine distribution of data\n",
    "sub.describe(percentiles=[.25, .5, .75, .95, 1])/1000"
   ]
  },
  {
   "cell_type": "code",
   "execution_count": 14,
   "metadata": {
    "ExecuteTime": {
     "end_time": "2016-11-10T12:42:19.193096",
     "start_time": "2016-11-10T12:42:19.181864"
    },
    "collapsed": false
   },
   "outputs": [
    {
     "data": {
      "text/plain": [
       "(3807, 4)"
      ]
     },
     "execution_count": 14,
     "metadata": {},
     "output_type": "execute_result"
    }
   ],
   "source": [
    "sub[sub['pledged_USD'] < 1000000].shape"
   ]
  },
  {
   "cell_type": "code",
   "execution_count": 15,
   "metadata": {
    "ExecuteTime": {
     "end_time": "2016-11-10T12:42:19.304935",
     "start_time": "2016-11-10T12:42:19.296155"
    },
    "collapsed": false
   },
   "outputs": [
    {
     "data": {
      "text/plain": [
       "usd    3437\n",
       "gbp     252\n",
       "cad     128\n",
       "eur      96\n",
       "aud      53\n",
       "sek      14\n",
       "nzd      10\n",
       "dkk       7\n",
       "chf       3\n",
       "Name: currency, dtype: int64"
      ]
     },
     "execution_count": 15,
     "metadata": {},
     "output_type": "execute_result"
    }
   ],
   "source": [
    "sub['currency'].value_counts()"
   ]
  },
  {
   "cell_type": "code",
   "execution_count": 17,
   "metadata": {
    "ExecuteTime": {
     "end_time": "2016-11-10T12:44:00.522117",
     "start_time": "2016-11-10T12:44:00.517405"
    },
    "collapsed": true
   },
   "outputs": [],
   "source": [
    "currency_list = ['usd', 'gbp', 'cad', \n",
    "    'eur',\n",
    "    'aud',\n",
    "    'sek',\n",
    "    'nzd',\n",
    "    'dkk',\n",
    "    'chf']"
   ]
  },
  {
   "cell_type": "code",
   "execution_count": 18,
   "metadata": {
    "ExecuteTime": {
     "end_time": "2016-11-10T12:44:02.068429",
     "start_time": "2016-11-10T12:44:01.954922"
    },
    "collapsed": false
   },
   "outputs": [
    {
     "data": {
      "text/plain": [
       "{'aud': [87760.75, 15400.0, 5.9677],\n",
       " 'cad': [85953.75, 22500.0, 4.278666604248725],\n",
       " 'chf': [252641.76, 81600.0, 1.9815040000000002],\n",
       " 'dkk': [99633.3, 30000.0, 3.32111],\n",
       " 'eur': [183974.015, 43600.0, 4.1181383333333335],\n",
       " 'gbp': [101544.375, 31250.0, 2.9794033333333334],\n",
       " 'nzd': [67224.97, 19345.0, 4.474361666666667],\n",
       " 'sek': [86449.44, 29150.0, 4.326611911764706],\n",
       " 'usd': [124182.0, 30000.0, 4.688533333333333]}"
      ]
     },
     "execution_count": 18,
     "metadata": {},
     "output_type": "execute_result"
    }
   ],
   "source": [
    "# Get median values of numeric columns by country\n",
    "median_dict = {}\n",
    "\n",
    "def get_median(i):\n",
    "    for j in sub.columns:\n",
    "        x = sub[sub['currency']==i]\n",
    "        median_dict.update({i: [x['pledged_USD'].median(), x['goal_USD'].median(), x['percent_total'].median()]})\n",
    "\n",
    "    return median_dict\n",
    "\n",
    "def run_currency(currency_list):\n",
    "    for i in currency_list:\n",
    "        get_median(i)\n",
    "    return get_median(i)\n",
    "\n",
    "run_currency(currency_list)"
   ]
  },
  {
   "cell_type": "code",
   "execution_count": 140,
   "metadata": {
    "ExecuteTime": {
     "end_time": "2016-11-09T15:37:29.197834",
     "start_time": "2016-11-09T15:37:29.191822"
    },
    "collapsed": false
   },
   "outputs": [
    {
     "data": {
      "text/plain": [
       "Index([u'pledged_USD', u'goal_USD', u'percent_total', u'currency'], dtype='object')"
      ]
     },
     "execution_count": 140,
     "metadata": {},
     "output_type": "execute_result"
    }
   ],
   "source": [
    "sub.columns"
   ]
  },
  {
   "cell_type": "code",
   "execution_count": null,
   "metadata": {
    "ExecuteTime": {
     "end_time": "2016-11-10T12:44:04.946345",
     "start_time": "2016-11-10T12:44:04.925239"
    },
    "collapsed": true
   },
   "outputs": [],
   "source": [
    "# Create dataframe of median values\n",
    "median_df = pd.DataFrame(median_dict).T\n",
    "median_df.columns = sub.columns[:-1]"
   ]
  },
  {
   "cell_type": "code",
   "execution_count": 45,
   "metadata": {
    "ExecuteTime": {
     "end_time": "2016-11-10T13:03:38.826932",
     "start_time": "2016-11-10T13:03:38.806032"
    },
    "collapsed": false
   },
   "outputs": [
    {
     "data": {
      "text/html": [
       "<div>\n",
       "<table border=\"1\" class=\"dataframe\">\n",
       "  <thead>\n",
       "    <tr style=\"text-align: right;\">\n",
       "      <th></th>\n",
       "      <th>pledged_USD</th>\n",
       "      <th>goal_USD</th>\n",
       "      <th>percent_total</th>\n",
       "      <th>difference</th>\n",
       "    </tr>\n",
       "  </thead>\n",
       "  <tbody>\n",
       "    <tr>\n",
       "      <th>aud</th>\n",
       "      <td>87760.750</td>\n",
       "      <td>15400.0</td>\n",
       "      <td>5.967700</td>\n",
       "      <td>72360.750</td>\n",
       "    </tr>\n",
       "    <tr>\n",
       "      <th>cad</th>\n",
       "      <td>85953.750</td>\n",
       "      <td>22500.0</td>\n",
       "      <td>4.278667</td>\n",
       "      <td>63453.750</td>\n",
       "    </tr>\n",
       "    <tr>\n",
       "      <th>chf</th>\n",
       "      <td>252641.760</td>\n",
       "      <td>81600.0</td>\n",
       "      <td>1.981504</td>\n",
       "      <td>171041.760</td>\n",
       "    </tr>\n",
       "    <tr>\n",
       "      <th>dkk</th>\n",
       "      <td>99633.300</td>\n",
       "      <td>30000.0</td>\n",
       "      <td>3.321110</td>\n",
       "      <td>69633.300</td>\n",
       "    </tr>\n",
       "    <tr>\n",
       "      <th>eur</th>\n",
       "      <td>183974.015</td>\n",
       "      <td>43600.0</td>\n",
       "      <td>4.118138</td>\n",
       "      <td>140374.015</td>\n",
       "    </tr>\n",
       "    <tr>\n",
       "      <th>gbp</th>\n",
       "      <td>101544.375</td>\n",
       "      <td>31250.0</td>\n",
       "      <td>2.979403</td>\n",
       "      <td>70294.375</td>\n",
       "    </tr>\n",
       "    <tr>\n",
       "      <th>nzd</th>\n",
       "      <td>67224.970</td>\n",
       "      <td>19345.0</td>\n",
       "      <td>4.474362</td>\n",
       "      <td>47879.970</td>\n",
       "    </tr>\n",
       "    <tr>\n",
       "      <th>sek</th>\n",
       "      <td>86449.440</td>\n",
       "      <td>29150.0</td>\n",
       "      <td>4.326612</td>\n",
       "      <td>57299.440</td>\n",
       "    </tr>\n",
       "    <tr>\n",
       "      <th>usd</th>\n",
       "      <td>124182.000</td>\n",
       "      <td>30000.0</td>\n",
       "      <td>4.688533</td>\n",
       "      <td>94182.000</td>\n",
       "    </tr>\n",
       "  </tbody>\n",
       "</table>\n",
       "</div>"
      ],
      "text/plain": [
       "     pledged_USD  goal_USD  percent_total  difference\n",
       "aud    87760.750   15400.0       5.967700   72360.750\n",
       "cad    85953.750   22500.0       4.278667   63453.750\n",
       "chf   252641.760   81600.0       1.981504  171041.760\n",
       "dkk    99633.300   30000.0       3.321110   69633.300\n",
       "eur   183974.015   43600.0       4.118138  140374.015\n",
       "gbp   101544.375   31250.0       2.979403   70294.375\n",
       "nzd    67224.970   19345.0       4.474362   47879.970\n",
       "sek    86449.440   29150.0       4.326612   57299.440\n",
       "usd   124182.000   30000.0       4.688533   94182.000"
      ]
     },
     "execution_count": 45,
     "metadata": {},
     "output_type": "execute_result"
    }
   ],
   "source": [
    "median_df['difference'] = median_df['pledged_USD'] - median_df['goal_USD']\n",
    "median_df"
   ]
  },
  {
   "cell_type": "code",
   "execution_count": 46,
   "metadata": {
    "ExecuteTime": {
     "end_time": "2016-11-10T13:04:00.105749",
     "start_time": "2016-11-10T13:03:59.655110"
    },
    "collapsed": false
   },
   "outputs": [
    {
     "data": {
      "text/plain": [
       "<matplotlib.axes._subplots.AxesSubplot at 0x11f4183d0>"
      ]
     },
     "execution_count": 46,
     "metadata": {},
     "output_type": "execute_result"
    },
    {
     "data": {
      "image/png": "[encoded data removed]",
      "text/plain": [
       "<matplotlib.figure.Figure at 0x11d8624d0>"
      ]
     },
     "metadata": {},
     "output_type": "display_data"
    }
   ],
   "source": [
    "plt.style.use('seaborn-notebook')\n",
    "median_df[['goal_USD', 'difference']].plot.bar(stacked = True)"
   ]
  },
  {
   "cell_type": "code",
   "execution_count": 100,
   "metadata": {
    "ExecuteTime": {
     "end_time": "2016-11-10T15:08:54.120413",
     "start_time": "2016-11-10T15:08:54.114989"
    },
    "collapsed": false
   },
   "outputs": [
    {
     "name": "stdout",
     "output_type": "stream",
     "text": [
      "87760.75\n",
      "85953.75\n",
      "252641.76\n",
      "99633.3\n",
      "183974.015\n",
      "101544.375\n",
      "67224.97\n",
      "86449.44\n",
      "124182.0\n",
      "15400.0\n",
      "22500.0\n",
      "81600.0\n",
      "30000.0\n",
      "43600.0\n",
      "31250.0\n",
      "19345.0\n",
      "29150.0\n",
      "30000.0\n"
     ]
    }
   ],
   "source": [
    "for p in ax.patches:\n",
    "    height = p.get_height()\n",
    "    print height\n",
    "    "
   ]
  },
  {
   "cell_type": "code",
   "execution_count": 106,
   "metadata": {
    "ExecuteTime": {
     "end_time": "2016-11-10T15:17:13.835388",
     "start_time": "2016-11-10T15:17:13.828819"
    },
    "collapsed": false
   },
   "outputs": [
    {
     "data": {
      "text/plain": [
       "9.0"
      ]
     },
     "execution_count": 106,
     "metadata": {},
     "output_type": "execute_result"
    }
   ],
   "source": [
    "total = float(len(median_df)) # one person per row \n",
    "for p in ax.patches:\n",
    "    height = p.get_height()\n",
    "    ax.text(p.get_x(), height+10, '%1.2f'%(height/total))"
   ]
  },
  {
   "cell_type": "code",
   "execution_count": 134,
   "metadata": {
    "ExecuteTime": {
     "end_time": "2016-11-10T15:33:01.656181",
     "start_time": "2016-11-10T15:33:01.056419"
    },
    "collapsed": false
   },
   "outputs": [
    {
     "data": {
      "image/png": "[encoded data removed]",
      "text/plain": [
       "<matplotlib.figure.Figure at 0x12425eed0>"
      ]
     },
     "metadata": {},
     "output_type": "display_data"
    }
   ],
   "source": [
    "# Set seaborn parameters\n",
    "sns.set_style(\"whitegrid\")\n",
    "sns.set_palette('muted')\n",
    "sns.set_context({\"figure.figsize\": (12, 6)})\n",
    "\n",
    "# Plot sns stacked barplot\n",
    "ax = sns.barplot(x = list(median_df.index), y = median_df['pledged_USD'], color = \"limegreen\", )\n",
    "bottom_plot = sns.barplot(x = list(median_df.index), y =  median_df['goal_USD'], color = \"purple\", )\n",
    "\n",
    "topbar = plt.Rectangle((0,0),1,1,fc=\"limegreen\", edgecolor = 'none')\n",
    "bottombar = plt.Rectangle((0,0),1,1,fc='purple',  edgecolor = 'none')\n",
    "\n",
    "ewdeds\n",
    "\n",
    "l = plt.legend([bottombar, topbar], ['Goal', 'Pledged'], loc=1, ncol = 2, prop={'size':14})\n",
    "l.draw_frame(False)\n",
    "plt.title('Median Goal and Pledged Amounts by Currency', y=1.02, fontsize=16)\n",
    "\n",
    "#Optional code - Make plot look nicer\n",
    "sns.despine(left=True)\n",
    "bottom_plot.set_ylabel(\"USD\")\n",
    "bottom_plot.set_xlabel(\"Currencies\")\n",
    "\n",
    "#Set fonts to consistent size\n",
    "for item in ([bottom_plot.xaxis.label, bottom_plot.yaxis.label] +\n",
    "             bottom_plot.get_xticklabels() + bottom_plot.get_yticklabels()):\n",
    "    item.set_fontsize(14)\n"
   ]
  },
  {
   "cell_type": "code",
   "execution_count": 39,
   "metadata": {
    "ExecuteTime": {
     "end_time": "2016-11-10T13:01:51.254431",
     "start_time": "2016-11-10T13:01:51.249297"
    },
    "collapsed": false
   },
   "outputs": [
    {
     "name": "stdout",
     "output_type": "stream",
     "text": [
      "[u'seaborn-darkgrid', u'seaborn-notebook', u'classic', u'seaborn-ticks', u'grayscale', u'bmh', u'seaborn-talk', u'dark_background', u'ggplot', u'fivethirtyeight', u'seaborn-colorblind', u'seaborn-deep', u'seaborn-whitegrid', u'seaborn-bright', u'seaborn-poster', u'seaborn-muted', u'seaborn-paper', u'seaborn-white', u'seaborn-pastel', u'seaborn-dark', u'seaborn-dark-palette']\n"
     ]
    }
   ],
   "source": [
    "print plt.style.available"
   ]
  },
  {
   "cell_type": "code",
   "execution_count": 28,
   "metadata": {
    "ExecuteTime": {
     "end_time": "2016-11-10T12:54:35.960130",
     "start_time": "2016-11-10T12:54:35.411241"
    },
    "collapsed": false
   },
   "outputs": [
    {
     "data": {
      "text/plain": [
       "(0.625, 10.125)"
      ]
     },
     "execution_count": 28,
     "metadata": {},
     "output_type": "execute_result"
    },
    {
     "data": {
      "image/png": "[encoded data removed]",
      "text/plain": [
       "<matplotlib.figure.Figure at 0x11d62d150>"
      ]
     },
     "metadata": {},
     "output_type": "display_data"
    }
   ],
   "source": [
    "# Create the general blog and the \"subplots\" i.e. the bars\n",
    "f, ax1 = plt.subplots(1, figsize=(10,5))\n",
    "\n",
    "# Set the bar width\n",
    "bar_width = 0.75\n",
    "\n",
    "# positions of the left bar-boundaries\n",
    "bar_l = [i+1 for i in range(len(median_df['pledged_USD']))] \n",
    "\n",
    "# positions of the x-axis ticks (center of the bars as bar labels)\n",
    "tick_pos = [i+(bar_width/2) for i in bar_l] \n",
    "\n",
    "# Create a bar plot, in position bar_1\n",
    "'''ax1.bar(bar_l, \n",
    "        # using the pre_score data\n",
    "        median_df['pledged_USD'], \n",
    "        # set the width\n",
    "        width=bar_width,\n",
    "        # with the label pre score\n",
    "        label='Pledged USD', \n",
    "        # with alpha 0.5\n",
    "        alpha=0.5, \n",
    "        # with color\n",
    "        color='#F4561D')'''\n",
    "\n",
    "# Create a bar plot, in position bar_1\n",
    "ax1.bar(bar_l, \n",
    "        # using the mid_score data\n",
    "        median_df['goal_USD'], \n",
    "        # set the width\n",
    "        width=bar_width,\n",
    "        # with pre_score on the bottom\n",
    "        bottom=median_df['goal_USD'], \n",
    "        # with the label mid score\n",
    "        label='goal', \n",
    "        # with alpha 0.5\n",
    "        alpha=0.5, \n",
    "        # with color\n",
    "        color='#F1911E')\n",
    "\n",
    "# Create a bar plot, in position bar_1\n",
    "ax1.bar(bar_l, \n",
    "        # using the post_score data\n",
    "        median_df['pledged_USD'], \n",
    "        # set the width\n",
    "        width=bar_width,\n",
    "        # with pre_score and mid_score on the bottom\n",
    "        bottom=[i+j for i,j in zip(median_df['pledged_USD'],median_df['goal_USD'])], \n",
    "        # with the label post score\n",
    "        label='Goal USD', \n",
    "        # with alpha 0.5\n",
    "        alpha=0.5, \n",
    "        # with color\n",
    "        color='#F1BD1A')\n",
    "\n",
    "# set the x ticks with names\n",
    "plt.xticks(tick_pos, list(median_df.index))\n",
    "\n",
    "# Set the label and legends\n",
    "ax1.set_ylabel(\"USD\")\n",
    "ax1.set_xlabel(\"Currencies\")\n",
    "plt.legend(loc='upper left')\n",
    "\n",
    "# Set a buffer around the edge\n",
    "plt.xlim([min(tick_pos)-bar_width, max(tick_pos)+bar_width])"
   ]
  },
  {
   "cell_type": "code",
   "execution_count": 20,
   "metadata": {
    "ExecuteTime": {
     "end_time": "2016-11-10T12:44:06.676479",
     "start_time": "2016-11-10T12:44:06.227327"
    },
    "collapsed": false
   },
   "outputs": [
    {
     "data": {
      "text/plain": [
       "<matplotlib.axes._subplots.AxesSubplot at 0x11a6321d0>"
      ]
     },
     "execution_count": 20,
     "metadata": {},
     "output_type": "execute_result"
    },
    {
     "data": {
      "image/png": "[encoded data removed]",
      "text/plain": [
       "<matplotlib.figure.Figure at 0x11a632090>"
      ]
     },
     "metadata": {},
     "output_type": "display_data"
    }
   ],
   "source": [
    "median_df['percent_total'].plot(kind='bar')"
   ]
  },
  {
   "cell_type": "code",
   "execution_count": 2,
   "metadata": {
    "ExecuteTime": {
     "end_time": "2016-11-10T12:42:10.334918",
     "start_time": "2016-11-10T12:42:10.319217"
    },
    "collapsed": false
   },
   "outputs": [
    {
     "ename": "NameError",
     "evalue": "name 'plt' is not defined",
     "output_type": "error",
     "traceback": [
      "\u001b[0;31m---------------------------------------------------------------------------\u001b[0m",
      "\u001b[0;31mNameError\u001b[0m                                 Traceback (most recent call last)",
      "\u001b[0;32m<ipython-input-2-fbbd82f02b57>\u001b[0m in \u001b[0;36m<module>\u001b[0;34m()\u001b[0m\n\u001b[0;32m----> 1\u001b[0;31m \u001b[0mfig\u001b[0m\u001b[0;34m,\u001b[0m \u001b[0;34m(\u001b[0m\u001b[0max1\u001b[0m\u001b[0;34m,\u001b[0m \u001b[0max2\u001b[0m\u001b[0;34m)\u001b[0m \u001b[0;34m=\u001b[0m \u001b[0mplt\u001b[0m\u001b[0;34m.\u001b[0m\u001b[0msubplot\u001b[0m\u001b[0;34m(\u001b[0m\u001b[0mfigsize\u001b[0m\u001b[0;34m=\u001b[0m\u001b[0;34m(\u001b[0m\u001b[0;36m16\u001b[0m\u001b[0;34m,\u001b[0m\u001b[0;36m8\u001b[0m\u001b[0;34m)\u001b[0m\u001b[0;34m)\u001b[0m\u001b[0;34m\u001b[0m\u001b[0m\n\u001b[0m",
      "\u001b[0;31mNameError\u001b[0m: name 'plt' is not defined"
     ]
    }
   ],
   "source": [
    "fig, (ax1, ax2) = plt.subplot(figsize=(16,8))\n"
   ]
  },
  {
   "cell_type": "code",
   "execution_count": 21,
   "metadata": {
    "ExecuteTime": {
     "end_time": "2016-11-10T12:44:09.157480",
     "start_time": "2016-11-10T12:44:09.148236"
    },
    "collapsed": false
   },
   "outputs": [
    {
     "data": {
      "text/plain": [
       "count       4.000000\n",
       "mean       60.997025\n",
       "std       127.082577\n",
       "min         0.001000\n",
       "25%        12.500000\n",
       "50%        30.000000\n",
       "75%        60.000000\n",
       "max      2000.000000\n",
       "Name: goal_USD, dtype: float64"
      ]
     },
     "execution_count": 21,
     "metadata": {},
     "output_type": "execute_result"
    }
   ],
   "source": [
    "sub['goal_USD'].describe()/1000"
   ]
  },
  {
   "cell_type": "code",
   "execution_count": 22,
   "metadata": {
    "ExecuteTime": {
     "end_time": "2016-11-10T12:44:11.522777",
     "start_time": "2016-11-10T12:44:11.514888"
    },
    "collapsed": false
   },
   "outputs": [
    {
     "data": {
      "text/plain": [
       "0      10000.0\n",
       "1      15000.0\n",
       "2    1000000.0\n",
       "3    2000000.0\n",
       "4     400000.0\n",
       "Name: goal_USD, dtype: float64"
      ]
     },
     "execution_count": 22,
     "metadata": {},
     "output_type": "execute_result"
    }
   ],
   "source": [
    "sub[sub['goal_USD']>0]['goal_USD'].head()"
   ]
  },
  {
   "cell_type": "code",
   "execution_count": 75,
   "metadata": {
    "ExecuteTime": {
     "end_time": "2016-11-10T14:42:17.822205",
     "start_time": "2016-11-10T14:42:17.816755"
    },
    "collapsed": false
   },
   "outputs": [
    {
     "data": {
      "text/plain": [
       "2000000.0"
      ]
     },
     "execution_count": 75,
     "metadata": {},
     "output_type": "execute_result"
    }
   ],
   "source": [
    "dreaming"
   ]
  },
  {
   "cell_type": "code",
   "execution_count": 74,
   "metadata": {
    "ExecuteTime": {
     "end_time": "2016-11-10T14:42:12.652293",
     "start_time": "2016-11-10T14:42:12.521387"
    },
    "collapsed": false
   },
   "outputs": [
    {
     "data": {
      "text/plain": [
       "dreaming    4000\n",
       "Name: goal_bins, dtype: int64"
      ]
     },
     "execution_count": 74,
     "metadata": {},
     "output_type": "execute_result"
    }
   ],
   "source": [
    "# Make goal bins for histogram\n",
    "low = sub['goal_USD'].quantile(0.10)\n",
    "med = sub['goal_USD'].quantile(0.33)   \n",
    "high = sub['goal_USD'].quantile(.67)   \n",
    "dreaming = sub['goal_USD'].quantile(1.0)   \n",
    "\n",
    "def make_bins(x):\n",
    "    if x <= dreaming:\n",
    "        return 'dreaming'\n",
    "    elif x <= high:\n",
    "        return 'high'\n",
    "    elif x <= med:\n",
    "        return 'med'\n",
    "    else:\n",
    "        return 'low'\n",
    "    \n",
    "sub['goal_bins'] = sub['goal_USD'].apply(make_bins)\n",
    "sub['goal_bins'].value_counts()"
   ]
  },
  {
   "cell_type": "code",
   "execution_count": 244,
   "metadata": {
    "ExecuteTime": {
     "end_time": "2016-11-09T16:19:19.664195",
     "start_time": "2016-11-09T16:19:19.642974"
    },
    "collapsed": false
   },
   "outputs": [
    {
     "data": {
      "text/plain": [
       "med         1360\n",
       "low         1320\n",
       "high         920\n",
       "dreaming     400\n",
       "Name: pledged_bins, dtype: int64"
      ]
     },
     "execution_count": 244,
     "metadata": {},
     "output_type": "execute_result"
    }
   ],
   "source": [
    "# Make pledged bins for histogram\n",
    "dreaming = sub['pledged_USD'].quantile(0.10)\n",
    "high = sub['pledged_USD'].quantile(0.33)   \n",
    "med = sub['pledged_USD'].quantile(.67)   \n",
    "low = sub['pledged_USD'].quantile(1.0)   \n",
    "\n",
    "def make_bins(x):\n",
    "    if x <= dreaming:\n",
    "        return 'dreaming'\n",
    "    elif x <= high:\n",
    "        return 'high'\n",
    "    elif x <= med:\n",
    "        return 'med'\n",
    "    else:\n",
    "        return 'low'\n",
    "    \n",
    "sub['pledged_bins'] = sub['pledged_USD'].apply(make_bins)\n",
    "sub['pledged_bins'].value_counts()"
   ]
  },
  {
   "cell_type": "code",
   "execution_count": 78,
   "metadata": {
    "ExecuteTime": {
     "end_time": "2016-11-10T14:46:49.774754",
     "start_time": "2016-11-10T14:46:49.629477"
    },
    "collapsed": false
   },
   "outputs": [
    {
     "data": {
      "text/plain": [
       "(4000, 44)"
      ]
     },
     "execution_count": 78,
     "metadata": {},
     "output_type": "execute_result"
    }
   ],
   "source": [
    "adf = pd.read_csv('/users/kristensu/downloads/all_data.csv', sep='|')\n",
    "del adf['Unnamed: 0']\n",
    "adf.shape"
   ]
  },
  {
   "cell_type": "code",
   "execution_count": 79,
   "metadata": {
    "ExecuteTime": {
     "end_time": "2016-11-10T14:47:43.411614",
     "start_time": "2016-11-10T14:47:43.404832"
    },
    "collapsed": false
   },
   "outputs": [
    {
     "data": {
      "text/plain": [
       "Index([u'amt_pledged', u'blurb', u'category', u'new_category', u'currency',\n",
       "       u'goal', u'location', u'num_backers', u'num_backers_tier',\n",
       "       u'pledge_tier', u'title', u'url', u'exchange_rate', u'pledged_USD',\n",
       "       u'goal_USD', u'percent_received', u'goal_level', u'goal_level_num',\n",
       "       u'pledge_level', u'pledge_level_num', u'creator', u'creator_names',\n",
       "       u'country', u'start', u'end', u'days', u'tier_amt_lower_50',\n",
       "       u'tier_amt_51_250', u'tier_amt_251_500', u'tier_amt_501_750',\n",
       "       u'tier_amt_751_1000', u'tier_amt_1001_more', u'min_tier_amount',\n",
       "       u'max_tier_amount', u'avg_tier_amount', u'median_tier_amount',\n",
       "       u'avg_num_backers_tier', u'median_num_backers_tier', u'num_backers_bin',\n",
       "       u'tier_backer_ratio', u'num_tiers', u'num_tiers_with_backers',\n",
       "       u'project_updated', u'unique_words_ratio'],\n",
       "      dtype='object')"
      ]
     },
     "execution_count": 79,
     "metadata": {},
     "output_type": "execute_result"
    }
   ],
   "source": [
    "adf.columns"
   ]
  },
  {
   "cell_type": "code",
   "execution_count": 84,
   "metadata": {
    "ExecuteTime": {
     "end_time": "2016-11-10T14:49:29.958974",
     "start_time": "2016-11-10T14:49:29.526778"
    },
    "collapsed": false
   },
   "outputs": [
    {
     "data": {
      "text/plain": [
       "<matplotlib.axes._subplots.AxesSubplot at 0x12306e3d0>"
      ]
     },
     "execution_count": 84,
     "metadata": {},
     "output_type": "execute_result"
    },
    {
     "data": {
      "image/png": "[encoded data removed]",
      "text/plain": [
       "<matplotlib.figure.Figure at 0x12307aa50>"
      ]
     },
     "metadata": {},
     "output_type": "display_data"
    }
   ],
   "source": [
    "adf['goal_level_num'].hist()"
   ]
  },
  {
   "cell_type": "code",
   "execution_count": 85,
   "metadata": {
    "ExecuteTime": {
     "end_time": "2016-11-10T14:51:16.223873",
     "start_time": "2016-11-10T14:51:15.467362"
    },
    "collapsed": false
   },
   "outputs": [
    {
     "ename": "TypeError",
     "evalue": "cannot concatenate 'str' and 'float' objects",
     "output_type": "error",
     "traceback": [
      "\u001b[0;31m---------------------------------------------------------------------------\u001b[0m",
      "\u001b[0;31mTypeError\u001b[0m                                 Traceback (most recent call last)",
      "\u001b[0;32m<ipython-input-85-6662ae389d12>\u001b[0m in \u001b[0;36m<module>\u001b[0;34m()\u001b[0m\n\u001b[0;32m----> 1\u001b[0;31m \u001b[0madf\u001b[0m\u001b[0;34m[\u001b[0m\u001b[0;34m'pledge_level'\u001b[0m\u001b[0;34m]\u001b[0m\u001b[0;34m.\u001b[0m\u001b[0mhist\u001b[0m\u001b[0;34m(\u001b[0m\u001b[0;34m)\u001b[0m\u001b[0;34m\u001b[0m\u001b[0m\n\u001b[0m",
      "\u001b[0;32m//anaconda/lib/python2.7/site-packages/pandas/tools/plotting.pyc\u001b[0m in \u001b[0;36mhist_series\u001b[0;34m(self, by, ax, grid, xlabelsize, xrot, ylabelsize, yrot, figsize, bins, **kwds)\u001b[0m\n\u001b[1;32m   2986\u001b[0m         \u001b[0mvalues\u001b[0m \u001b[0;34m=\u001b[0m \u001b[0mself\u001b[0m\u001b[0;34m.\u001b[0m\u001b[0mdropna\u001b[0m\u001b[0;34m(\u001b[0m\u001b[0;34m)\u001b[0m\u001b[0;34m.\u001b[0m\u001b[0mvalues\u001b[0m\u001b[0;34m\u001b[0m\u001b[0m\n\u001b[1;32m   2987\u001b[0m \u001b[0;34m\u001b[0m\u001b[0m\n\u001b[0;32m-> 2988\u001b[0;31m         \u001b[0max\u001b[0m\u001b[0;34m.\u001b[0m\u001b[0mhist\u001b[0m\u001b[0;34m(\u001b[0m\u001b[0mvalues\u001b[0m\u001b[0;34m,\u001b[0m \u001b[0mbins\u001b[0m\u001b[0;34m=\u001b[0m\u001b[0mbins\u001b[0m\u001b[0;34m,\u001b[0m \u001b[0;34m**\u001b[0m\u001b[0mkwds\u001b[0m\u001b[0;34m)\u001b[0m\u001b[0;34m\u001b[0m\u001b[0m\n\u001b[0m\u001b[1;32m   2989\u001b[0m         \u001b[0max\u001b[0m\u001b[0;34m.\u001b[0m\u001b[0mgrid\u001b[0m\u001b[0;34m(\u001b[0m\u001b[0mgrid\u001b[0m\u001b[0;34m)\u001b[0m\u001b[0;34m\u001b[0m\u001b[0m\n\u001b[1;32m   2990\u001b[0m         \u001b[0maxes\u001b[0m \u001b[0;34m=\u001b[0m \u001b[0mnp\u001b[0m\u001b[0;34m.\u001b[0m\u001b[0marray\u001b[0m\u001b[0;34m(\u001b[0m\u001b[0;34m[\u001b[0m\u001b[0max\u001b[0m\u001b[0;34m]\u001b[0m\u001b[0;34m)\u001b[0m\u001b[0;34m\u001b[0m\u001b[0m\n",
      "\u001b[0;32m//anaconda/lib/python2.7/site-packages/matplotlib/__init__.pyc\u001b[0m in \u001b[0;36minner\u001b[0;34m(ax, *args, **kwargs)\u001b[0m\n\u001b[1;32m   1810\u001b[0m                     warnings.warn(msg % (label_namer, func.__name__),\n\u001b[1;32m   1811\u001b[0m                                   RuntimeWarning, stacklevel=2)\n\u001b[0;32m-> 1812\u001b[0;31m             \u001b[0;32mreturn\u001b[0m \u001b[0mfunc\u001b[0m\u001b[0;34m(\u001b[0m\u001b[0max\u001b[0m\u001b[0;34m,\u001b[0m \u001b[0;34m*\u001b[0m\u001b[0margs\u001b[0m\u001b[0;34m,\u001b[0m \u001b[0;34m**\u001b[0m\u001b[0mkwargs\u001b[0m\u001b[0;34m)\u001b[0m\u001b[0;34m\u001b[0m\u001b[0m\n\u001b[0m\u001b[1;32m   1813\u001b[0m         \u001b[0mpre_doc\u001b[0m \u001b[0;34m=\u001b[0m \u001b[0minner\u001b[0m\u001b[0;34m.\u001b[0m\u001b[0m__doc__\u001b[0m\u001b[0;34m\u001b[0m\u001b[0m\n\u001b[1;32m   1814\u001b[0m         \u001b[0;32mif\u001b[0m \u001b[0mpre_doc\u001b[0m \u001b[0;32mis\u001b[0m \u001b[0mNone\u001b[0m\u001b[0;34m:\u001b[0m\u001b[0;34m\u001b[0m\u001b[0m\n",
      "\u001b[0;32m//anaconda/lib/python2.7/site-packages/matplotlib/axes/_axes.pyc\u001b[0m in \u001b[0;36mhist\u001b[0;34m(self, x, bins, range, normed, weights, cumulative, bottom, histtype, align, orientation, rwidth, log, color, label, stacked, **kwargs)\u001b[0m\n\u001b[1;32m   6008\u001b[0m             \u001b[0;31m# this will automatically overwrite bins,\u001b[0m\u001b[0;34m\u001b[0m\u001b[0;34m\u001b[0m\u001b[0m\n\u001b[1;32m   6009\u001b[0m             \u001b[0;31m# so that each histogram uses the same bins\u001b[0m\u001b[0;34m\u001b[0m\u001b[0;34m\u001b[0m\u001b[0m\n\u001b[0;32m-> 6010\u001b[0;31m             \u001b[0mm\u001b[0m\u001b[0;34m,\u001b[0m \u001b[0mbins\u001b[0m \u001b[0;34m=\u001b[0m \u001b[0mnp\u001b[0m\u001b[0;34m.\u001b[0m\u001b[0mhistogram\u001b[0m\u001b[0;34m(\u001b[0m\u001b[0mx\u001b[0m\u001b[0;34m[\u001b[0m\u001b[0mi\u001b[0m\u001b[0;34m]\u001b[0m\u001b[0;34m,\u001b[0m \u001b[0mbins\u001b[0m\u001b[0;34m,\u001b[0m \u001b[0mweights\u001b[0m\u001b[0;34m=\u001b[0m\u001b[0mw\u001b[0m\u001b[0;34m[\u001b[0m\u001b[0mi\u001b[0m\u001b[0;34m]\u001b[0m\u001b[0;34m,\u001b[0m \u001b[0;34m**\u001b[0m\u001b[0mhist_kwargs\u001b[0m\u001b[0;34m)\u001b[0m\u001b[0;34m\u001b[0m\u001b[0m\n\u001b[0m\u001b[1;32m   6011\u001b[0m             \u001b[0mm\u001b[0m \u001b[0;34m=\u001b[0m \u001b[0mm\u001b[0m\u001b[0;34m.\u001b[0m\u001b[0mastype\u001b[0m\u001b[0;34m(\u001b[0m\u001b[0mfloat\u001b[0m\u001b[0;34m)\u001b[0m  \u001b[0;31m# causes problems later if it's an int\u001b[0m\u001b[0;34m\u001b[0m\u001b[0m\n\u001b[1;32m   6012\u001b[0m             \u001b[0;32mif\u001b[0m \u001b[0mmlast\u001b[0m \u001b[0;32mis\u001b[0m \u001b[0mNone\u001b[0m\u001b[0;34m:\u001b[0m\u001b[0;34m\u001b[0m\u001b[0m\n",
      "\u001b[0;32m//anaconda/lib/python2.7/site-packages/numpy/lib/function_base.pyc\u001b[0m in \u001b[0;36mhistogram\u001b[0;34m(a, bins, range, normed, weights, density)\u001b[0m\n\u001b[1;32m    497\u001b[0m             \u001b[0mmn\u001b[0m\u001b[0;34m,\u001b[0m \u001b[0mmx\u001b[0m \u001b[0;34m=\u001b[0m \u001b[0ma\u001b[0m\u001b[0;34m.\u001b[0m\u001b[0mmin\u001b[0m\u001b[0;34m(\u001b[0m\u001b[0;34m)\u001b[0m \u001b[0;34m+\u001b[0m \u001b[0;36m0.0\u001b[0m\u001b[0;34m,\u001b[0m \u001b[0ma\u001b[0m\u001b[0;34m.\u001b[0m\u001b[0mmax\u001b[0m\u001b[0;34m(\u001b[0m\u001b[0;34m)\u001b[0m \u001b[0;34m+\u001b[0m \u001b[0;36m0.0\u001b[0m\u001b[0;34m\u001b[0m\u001b[0m\n\u001b[1;32m    498\u001b[0m     \u001b[0;32melse\u001b[0m\u001b[0;34m:\u001b[0m\u001b[0;34m\u001b[0m\u001b[0m\n\u001b[0;32m--> 499\u001b[0;31m         \u001b[0mmn\u001b[0m\u001b[0;34m,\u001b[0m \u001b[0mmx\u001b[0m \u001b[0;34m=\u001b[0m \u001b[0;34m[\u001b[0m\u001b[0mmi\u001b[0m \u001b[0;34m+\u001b[0m \u001b[0;36m0.0\u001b[0m \u001b[0;32mfor\u001b[0m \u001b[0mmi\u001b[0m \u001b[0;32min\u001b[0m \u001b[0mrange\u001b[0m\u001b[0;34m]\u001b[0m\u001b[0;34m\u001b[0m\u001b[0m\n\u001b[0m\u001b[1;32m    500\u001b[0m     \u001b[0;32mif\u001b[0m \u001b[0mmn\u001b[0m \u001b[0;34m>\u001b[0m \u001b[0mmx\u001b[0m\u001b[0;34m:\u001b[0m\u001b[0;34m\u001b[0m\u001b[0m\n\u001b[1;32m    501\u001b[0m         raise ValueError(\n",
      "\u001b[0;31mTypeError\u001b[0m: cannot concatenate 'str' and 'float' objects"
     ]
    },
    {
     "data": {
      "image/png": "[encoded data removed]",
      "text/plain": [
       "<matplotlib.figure.Figure at 0x122b30d50>"
      ]
     },
     "metadata": {},
     "output_type": "display_data"
    }
   ],
   "source": [
    "adf['pledge_level'].hist()"
   ]
  },
  {
   "cell_type": "code",
   "execution_count": null,
   "metadata": {
    "collapsed": true
   },
   "outputs": [],
   "source": [
    "adf_sub = adf[['']]"
   ]
  }
 ],
 "metadata": {
  "kernelspec": {
   "display_name": "Python 2",
   "language": "python",
   "name": "python2"
  },
  "language_info": {
   "codemirror_mode": {
    "name": "ipython",
    "version": 2
   },
   "file_extension": ".py",
   "mimetype": "text/x-python",
   "name": "python",
   "nbconvert_exporter": "python",
   "pygments_lexer": "ipython2",
   "version": "2.7.12"
  },
  "toc": {
   "nav_menu": {
    "height": "30px",
    "width": "252px"
   },
   "navigate_menu": true,
   "number_sections": true,
   "sideBar": true,
   "threshold": 4,
   "toc_cell": false,
   "toc_section_display": "block",
   "toc_window_display": false
  }
 },
 "nbformat": 4,
 "nbformat_minor": 0
}
