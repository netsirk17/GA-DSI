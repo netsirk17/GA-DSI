{
 "cells": [
  {
   "cell_type": "markdown",
   "metadata": {},
   "source": [
    "### Card"
   ]
  },
  {
   "cell_type": "code",
   "execution_count": 168,
   "metadata": {
    "ExecuteTime": {
     "end_time": "2016-11-16T19:41:52.838615",
     "start_time": "2016-11-16T19:41:52.823774"
    },
    "collapsed": false
   },
   "outputs": [],
   "source": [
    "class Card():\n",
    "    '''A single card'''\n",
    "    def __init__(self, suit=0, rank=2):\n",
    "        self.suit = suit\n",
    "        self.rank = rank\n",
    "        \n",
    "    suit_names = ['Diamonds', 'Clubs', 'Hearts', 'Spades']\n",
    "    rank_names = ['2', '3', '4', '5', '6', '7', '8', '9', '10', 'Jack', 'Queen', 'King', 'Ace']\n",
    "    \n",
    "    def __str__(self):\n",
    "        return '%s of %s' % (self.rank_names[self.rank], self.suit_names[self.suit])"
   ]
  },
  {
   "cell_type": "raw",
   "metadata": {
    "ExecuteTime": {
     "end_time": "2016-11-16T19:41:59.572667",
     "start_time": "2016-11-16T19:41:59.568071"
    }
   },
   "source": [
    "suit_names = ['Diamonds', 'Clubs', 'Hearts', 'Spades']\n",
    "rank_names = ['2', '3', '4', '5', '6', '7', '8', '9', '10', 'Jack', 'Queen', 'King', 'Ace']\n",
    "\n",
    "def get_Deck():\n",
    "    cards = []\n",
    "    for suit in suit_names:\n",
    "        for rank in rank_names:\n",
    "            card = rank + ' of ' + suit\n",
    "            cards.append(card)\n",
    "    return cards\n",
    "\n",
    "get_Deck()"
   ]
  },
  {
   "cell_type": "markdown",
   "metadata": {},
   "source": [
    "### Deck"
   ]
  },
  {
   "cell_type": "code",
   "execution_count": 197,
   "metadata": {
    "ExecuteTime": {
     "end_time": "2016-11-16T19:56:21.752352",
     "start_time": "2016-11-16T19:56:21.727787"
    },
    "collapsed": false
   },
   "outputs": [],
   "source": [
    "class Deck():\n",
    "    '''A full deck of cards as self.cards list'''\n",
    "    def __init__(self):\n",
    "        self.cards = []\n",
    "        card_instance = Card()\n",
    "        for suit in range(len(card_instance.suit_names)):\n",
    "            for rank in range(len(card_instance.rank_names)):\n",
    "                card = Card(suit, rank)\n",
    "                self.cards.append(card)\n",
    "                \n",
    "    '''Print full deck of cards'''\n",
    "    def __str__(self):\n",
    "        full_deck = []\n",
    "        for card in self.cards:\n",
    "            full_deck.append(str(card))\n",
    "        return '\\n'.join(full_deck)\n",
    "    \n",
    "    '''Draw a card and remove card from full deck'''\n",
    "    def draw_card(self):\n",
    "        import random\n",
    "        c = random.choice(self.cards)\n",
    "        self.cards.remove(c)\n",
    "        return c\n",
    "    \n",
    "    '''Add a card'''\n",
    "    def add_card(self, card):\n",
    "        self.cards.append(card)\n",
    "    \n",
    "    '''Shuffle cards'''\n",
    "    def shuffle(self):\n",
    "        random.shuffle(self.cards)\n",
    "    \n",
    "    '''Sort cards'''\n",
    "    def sort(self):\n",
    "        self.cards.sort()"
   ]
  },
  {
   "cell_type": "markdown",
   "metadata": {},
   "source": [
    "### Hand"
   ]
  },
  {
   "cell_type": "code",
   "execution_count": 198,
   "metadata": {
    "ExecuteTime": {
     "end_time": "2016-11-16T19:56:23.131804",
     "start_time": "2016-11-16T19:56:23.127393"
    },
    "collapsed": true
   },
   "outputs": [],
   "source": [
    "class Hand(Deck):\n",
    "    '''Inherits Deck class\n",
    "    Initializes with empty list of cards'''\n",
    "    def __init__(self):\n",
    "        self.cards = []\n",
    "    "
   ]
  },
  {
   "cell_type": "code",
   "execution_count": 199,
   "metadata": {
    "ExecuteTime": {
     "end_time": "2016-11-16T19:56:23.679811",
     "start_time": "2016-11-16T19:56:23.676360"
    },
    "collapsed": true
   },
   "outputs": [],
   "source": [
    "hand = Hand()\n",
    "deck = Deck()"
   ]
  },
  {
   "cell_type": "code",
   "execution_count": 201,
   "metadata": {
    "ExecuteTime": {
     "end_time": "2016-11-16T19:56:27.794586",
     "start_time": "2016-11-16T19:56:27.790297"
    },
    "collapsed": false
   },
   "outputs": [
    {
     "name": "stdout",
     "output_type": "stream",
     "text": [
      "King of Diamonds\n"
     ]
    }
   ],
   "source": [
    "card1 = deck.draw_card()\n",
    "print card1"
   ]
  },
  {
   "cell_type": "code",
   "execution_count": null,
   "metadata": {
    "collapsed": true
   },
   "outputs": [],
   "source": []
  },
  {
   "cell_type": "code",
   "execution_count": null,
   "metadata": {
    "collapsed": true
   },
   "outputs": [],
   "source": []
  },
  {
   "cell_type": "code",
   "execution_count": null,
   "metadata": {
    "collapsed": true
   },
   "outputs": [],
   "source": []
  },
  {
   "cell_type": "code",
   "execution_count": null,
   "metadata": {
    "collapsed": true
   },
   "outputs": [],
   "source": []
  },
  {
   "cell_type": "code",
   "execution_count": null,
   "metadata": {
    "collapsed": true
   },
   "outputs": [],
   "source": []
  }
 ],
 "metadata": {
  "kernelspec": {
   "display_name": "Python 2",
   "language": "python",
   "name": "python2"
  },
  "language_info": {
   "codemirror_mode": {
    "name": "ipython",
    "version": 2
   },
   "file_extension": ".py",
   "mimetype": "text/x-python",
   "name": "python",
   "nbconvert_exporter": "python",
   "pygments_lexer": "ipython2",
   "version": "2.7.12"
  },
  "toc": {
   "nav_menu": {
    "height": "66px",
    "width": "252px"
   },
   "navigate_menu": true,
   "number_sections": true,
   "sideBar": true,
   "threshold": 4,
   "toc_cell": false,
   "toc_section_display": "block",
   "toc_window_display": false
  }
 },
 "nbformat": 4,
 "nbformat_minor": 0
}
