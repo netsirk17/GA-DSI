{
 "cells": [
  {
   "cell_type": "markdown",
   "metadata": {
    "slideshow": {
     "slide_type": "slide"
    }
   },
   "source": [
    "# ![](https://ga-dash.s3.amazonaws.com/production/assets/logo-9f88ae6c9c3871690e33280fcf557f33.png) Object-oriented programming in Python\n",
    "Week 9 | Lesson 1.1"
   ]
  },
  {
   "cell_type": "markdown",
   "metadata": {
    "slideshow": {
     "slide_type": "slide"
    }
   },
   "source": [
    "### LEARNING OBJECTIVES\n",
    "*After this lesson, you will be able to:*\n",
    "- Describe object-oriented programming\n",
    "- Create class objects in Python"
   ]
  },
  {
   "cell_type": "markdown",
   "metadata": {
    "slideshow": {
     "slide_type": "slide"
    }
   },
   "source": [
    "# Object Oriented Programming\n",
    "Object oriented programming is a style of programming where data and the operations that manipulate them are organized into classes and methods. \n",
    "\n",
    "What are classes and methods? I'm glad you asked. "
   ]
  },
  {
   "cell_type": "markdown",
   "metadata": {
    "slideshow": {
     "slide_type": "slide"
    }
   },
   "source": [
    "# Classes\n",
    "A ```class``` is a little like a function. They let you define a general case to repeat operations you've written. \n",
    "\n",
    "The difference is a ```class``` can hold both variables and functions that relate to each other. These are called attributes. \n",
    "\n",
    "Let's start by defining an empty class called ```Point```\n"
   ]
  },
  {
   "cell_type": "code",
   "execution_count": 1,
   "metadata": {
    "ExecuteTime": {
     "end_time": "2016-11-14T10:26:29.171991",
     "start_time": "2016-11-14T10:26:29.166037"
    },
    "collapsed": false,
    "slideshow": {
     "slide_type": "fragment"
    }
   },
   "outputs": [],
   "source": [
    "class Point(object):\n",
    "    '''Sample DocString'''\n"
   ]
  },
  {
   "cell_type": "code",
   "execution_count": 2,
   "metadata": {
    "ExecuteTime": {
     "end_time": "2016-11-14T10:26:31.039426",
     "start_time": "2016-11-14T10:26:31.020399"
    },
    "collapsed": false,
    "slideshow": {
     "slide_type": "fragment"
    }
   },
   "outputs": [
    {
     "data": {
      "text/plain": [
       "__main__.Point"
      ]
     },
     "execution_count": 2,
     "metadata": {},
     "output_type": "execute_result"
    }
   ],
   "source": [
    "Point"
   ]
  },
  {
   "cell_type": "markdown",
   "metadata": {
    "slideshow": {
     "slide_type": "slide"
    }
   },
   "source": [
    "Let's create a copy of Point called version1. This is called an instance of the Point class"
   ]
  },
  {
   "cell_type": "code",
   "execution_count": 3,
   "metadata": {
    "ExecuteTime": {
     "end_time": "2016-11-14T10:26:41.575681",
     "start_time": "2016-11-14T10:26:41.571919"
    },
    "collapsed": false,
    "slideshow": {
     "slide_type": "fragment"
    }
   },
   "outputs": [],
   "source": [
    "version1 = Point()"
   ]
  },
  {
   "cell_type": "markdown",
   "metadata": {
    "slideshow": {
     "slide_type": "slide"
    }
   },
   "source": [
    "## Variables\n",
    "We can define variables within the class that don't apply to the general case:"
   ]
  },
  {
   "cell_type": "code",
   "execution_count": 4,
   "metadata": {
    "ExecuteTime": {
     "end_time": "2016-11-14T10:26:45.081486",
     "start_time": "2016-11-14T10:26:45.075629"
    },
    "collapsed": false,
    "slideshow": {
     "slide_type": "fragment"
    }
   },
   "outputs": [
    {
     "data": {
      "text/plain": [
       "4"
      ]
     },
     "execution_count": 4,
     "metadata": {},
     "output_type": "execute_result"
    }
   ],
   "source": [
    "version1.x = 4\n",
    "version1.y = 7\n",
    "version1.x"
   ]
  },
  {
   "cell_type": "code",
   "execution_count": 5,
   "metadata": {
    "ExecuteTime": {
     "end_time": "2016-11-14T10:26:47.435173",
     "start_time": "2016-11-14T10:26:47.428134"
    },
    "collapsed": false,
    "slideshow": {
     "slide_type": "slide"
    }
   },
   "outputs": [
    {
     "data": {
      "text/plain": [
       "['__class__',\n",
       " '__delattr__',\n",
       " '__dict__',\n",
       " '__doc__',\n",
       " '__format__',\n",
       " '__getattribute__',\n",
       " '__hash__',\n",
       " '__init__',\n",
       " '__module__',\n",
       " '__new__',\n",
       " '__reduce__',\n",
       " '__reduce_ex__',\n",
       " '__repr__',\n",
       " '__setattr__',\n",
       " '__sizeof__',\n",
       " '__str__',\n",
       " '__subclasshook__',\n",
       " '__weakref__',\n",
       " 'x',\n",
       " 'y']"
      ]
     },
     "execution_count": 5,
     "metadata": {},
     "output_type": "execute_result"
    }
   ],
   "source": [
    "dir(version1)"
   ]
  },
  {
   "cell_type": "code",
   "execution_count": 6,
   "metadata": {
    "ExecuteTime": {
     "end_time": "2016-11-14T10:27:15.352835",
     "start_time": "2016-11-14T10:27:15.347116"
    },
    "collapsed": false,
    "slideshow": {
     "slide_type": "slide"
    }
   },
   "outputs": [
    {
     "data": {
      "text/plain": [
       "['__class__',\n",
       " '__delattr__',\n",
       " '__dict__',\n",
       " '__doc__',\n",
       " '__format__',\n",
       " '__getattribute__',\n",
       " '__hash__',\n",
       " '__init__',\n",
       " '__module__',\n",
       " '__new__',\n",
       " '__reduce__',\n",
       " '__reduce_ex__',\n",
       " '__repr__',\n",
       " '__setattr__',\n",
       " '__sizeof__',\n",
       " '__str__',\n",
       " '__subclasshook__',\n",
       " '__weakref__']"
      ]
     },
     "execution_count": 6,
     "metadata": {},
     "output_type": "execute_result"
    }
   ],
   "source": [
    "dir(Point)"
   ]
  },
  {
   "cell_type": "code",
   "execution_count": 7,
   "metadata": {
    "ExecuteTime": {
     "end_time": "2016-11-14T10:29:06.581705",
     "start_time": "2016-11-14T10:29:06.578639"
    },
    "collapsed": true,
    "slideshow": {
     "slide_type": "slide"
    }
   },
   "outputs": [],
   "source": [
    "# Create an instance of Point\n",
    "blob = Point()"
   ]
  },
  {
   "cell_type": "code",
   "execution_count": 8,
   "metadata": {
    "ExecuteTime": {
     "end_time": "2016-11-14T10:29:29.398274",
     "start_time": "2016-11-14T10:29:29.393970"
    },
    "collapsed": true,
    "slideshow": {
     "slide_type": "slide"
    }
   },
   "outputs": [],
   "source": [
    "# Add in a few variables. Print them out\n",
    "blob.x = 50\n",
    "blob.y = 7\n",
    "blob.z = 'Awesome!'"
   ]
  },
  {
   "cell_type": "code",
   "execution_count": 11,
   "metadata": {
    "ExecuteTime": {
     "end_time": "2016-11-14T10:29:44.775598",
     "start_time": "2016-11-14T10:29:44.770498"
    },
    "collapsed": false
   },
   "outputs": [
    {
     "data": {
      "text/plain": [
       "'Awesome!'"
      ]
     },
     "execution_count": 11,
     "metadata": {},
     "output_type": "execute_result"
    }
   ],
   "source": [
    "blob.z"
   ]
  },
  {
   "cell_type": "markdown",
   "metadata": {
    "slideshow": {
     "slide_type": "slide"
    }
   },
   "source": [
    "## Methods\n",
    "Methods are functions that are defined within a class. "
   ]
  },
  {
   "cell_type": "code",
   "execution_count": 12,
   "metadata": {
    "ExecuteTime": {
     "end_time": "2016-11-14T10:30:14.744763",
     "start_time": "2016-11-14T10:30:14.740906"
    },
    "collapsed": true,
    "slideshow": {
     "slide_type": "slide"
    }
   },
   "outputs": [],
   "source": [
    "class Time():\n",
    "    def print_time(self):\n",
    "        print '%.2d:%.2d:%.2d' % (self.hour, self.minute, self.second)"
   ]
  },
  {
   "cell_type": "markdown",
   "metadata": {
    "slideshow": {
     "slide_type": "fragment"
    }
   },
   "source": [
    "Calling 'self' tells the method to refer to the variables and other methods within the class instance. "
   ]
  },
  {
   "cell_type": "code",
   "execution_count": 13,
   "metadata": {
    "ExecuteTime": {
     "end_time": "2016-11-14T10:30:40.762001",
     "start_time": "2016-11-14T10:30:40.756721"
    },
    "collapsed": false,
    "slideshow": {
     "slide_type": "slide"
    }
   },
   "outputs": [
    {
     "name": "stdout",
     "output_type": "stream",
     "text": [
      "09:15:00\n"
     ]
    }
   ],
   "source": [
    "morning = Time() #define the class\n",
    "morning.hour = 9 #set the attributes\n",
    "morning.minute = 15\n",
    "morning.second = 0\n",
    "morning.print_time() #call the method"
   ]
  },
  {
   "cell_type": "code",
   "execution_count": 15,
   "metadata": {
    "ExecuteTime": {
     "end_time": "2016-11-14T10:34:13.587639",
     "start_time": "2016-11-14T10:34:13.581462"
    },
    "collapsed": false
   },
   "outputs": [
    {
     "data": {
      "text/plain": [
       "['__doc__', '__module__', 'hour', 'minute', 'print_time', 'second']"
      ]
     },
     "execution_count": 15,
     "metadata": {},
     "output_type": "execute_result"
    }
   ],
   "source": [
    "dir(morning)"
   ]
  },
  {
   "cell_type": "code",
   "execution_count": 17,
   "metadata": {
    "ExecuteTime": {
     "end_time": "2016-11-14T10:36:51.268951",
     "start_time": "2016-11-14T10:36:51.262883"
    },
    "collapsed": false,
    "slideshow": {
     "slide_type": "slide"
    }
   },
   "outputs": [
    {
     "name": "stdout",
     "output_type": "stream",
     "text": [
      "02:10:32\n"
     ]
    }
   ],
   "source": [
    "# Create an instance called afternoon and assign times to it\n",
    "afternoon = Time()\n",
    "afternoon.hour = 2\n",
    "afternoon.minute = 10\n",
    "afternoon.second = 32\n",
    "afternoon.print_time()"
   ]
  },
  {
   "cell_type": "markdown",
   "metadata": {
    "slideshow": {
     "slide_type": "slide"
    }
   },
   "source": [
    "Let's add in a new method that converts time to integer:"
   ]
  },
  {
   "cell_type": "code",
   "execution_count": 18,
   "metadata": {
    "ExecuteTime": {
     "end_time": "2016-11-14T10:37:13.530172",
     "start_time": "2016-11-14T10:37:13.523822"
    },
    "collapsed": true,
    "slideshow": {
     "slide_type": "fragment"
    }
   },
   "outputs": [],
   "source": [
    "class Time():\n",
    "    def print_time(self):\n",
    "        print '%.2d:%.2d:%.2d' % (self.hour, self.minute, self.second)\n",
    "        \n",
    "    def time_to_int(self):\n",
    "        '''Returns the current time in seconds'''\n",
    "        minutes = self.hour * 60 + self.minute\n",
    "        return minutes * 60 + self.second\n",
    "    "
   ]
  },
  {
   "cell_type": "code",
   "execution_count": null,
   "metadata": {
    "collapsed": true
   },
   "outputs": [],
   "source": []
  },
  {
   "cell_type": "markdown",
   "metadata": {
    "slideshow": {
     "slide_type": "fragment"
    }
   },
   "source": [
    "Again, note that 'self.hour' refers to the value of hour within the class"
   ]
  },
  {
   "cell_type": "code",
   "execution_count": 159,
   "metadata": {
    "collapsed": false,
    "slideshow": {
     "slide_type": "slide"
    }
   },
   "outputs": [
    {
     "data": {
      "text/plain": [
       "33300"
      ]
     },
     "execution_count": 159,
     "metadata": {},
     "output_type": "execute_result"
    }
   ],
   "source": [
    "morning = Time() #define the class\n",
    "morning.hour = 9 #set the attributes\n",
    "morning.minute = 15\n",
    "morning.second = 0\n",
    "morning.time_to_int() #call the method"
   ]
  },
  {
   "cell_type": "markdown",
   "metadata": {
    "slideshow": {
     "slide_type": "slide"
    }
   },
   "source": [
    "Modify the variables and run the functions again:"
   ]
  },
  {
   "cell_type": "code",
   "execution_count": 82,
   "metadata": {
    "collapsed": false,
    "slideshow": {
     "slide_type": "slide"
    }
   },
   "outputs": [
    {
     "data": {
      "text/plain": [
       "36900"
      ]
     },
     "execution_count": 82,
     "metadata": {},
     "output_type": "execute_result"
    }
   ],
   "source": [
    "morning.hour += 1\n",
    "morning.time_to_int()"
   ]
  },
  {
   "cell_type": "code",
   "execution_count": 39,
   "metadata": {
    "ExecuteTime": {
     "end_time": "2016-11-14T10:48:55.906589",
     "start_time": "2016-11-14T10:48:55.892203"
    },
    "collapsed": false
   },
   "outputs": [
    {
     "data": {
      "text/plain": [
       "['__doc__', '__module__', 'int_to_time', 'print_time', 'time_to_int']"
      ]
     },
     "execution_count": 39,
     "metadata": {},
     "output_type": "execute_result"
    }
   ],
   "source": [
    "dir(afternoon)"
   ]
  },
  {
   "cell_type": "code",
   "execution_count": null,
   "metadata": {
    "collapsed": true
   },
   "outputs": [],
   "source": [
    "#     def time_to_int(self):\n",
    "#         '''Returns the current time in seconds'''\n",
    "#         minutes = self.hour * 60 + self.minute\n",
    "#         return minutes * 60 + self.second"
   ]
  },
  {
   "cell_type": "code",
   "execution_count": 46,
   "metadata": {
    "ExecuteTime": {
     "end_time": "2016-11-14T10:50:31.466069",
     "start_time": "2016-11-14T10:50:31.458418"
    },
    "collapsed": false,
    "slideshow": {
     "slide_type": "slide"
    }
   },
   "outputs": [
    {
     "name": "stdout",
     "output_type": "stream",
     "text": [
      "03:15:10\n",
      "None\n",
      "11710\n"
     ]
    }
   ],
   "source": [
    "# Reinstantiate afternoon. \n",
    "afternoon=Time()\n",
    "\n",
    "# Convert the time in afternoon to an integer\n",
    "afternoon.hour = 3\n",
    "afternoon.minute = 15\n",
    "afternoon.second = 10\n",
    "print afternoon.print_time()\n",
    "print afternoon.time_to_int()\n",
    "\n",
    "# Change the values in afternoon. Convert that to an integer. \n",
    "\n"
   ]
  },
  {
   "cell_type": "markdown",
   "metadata": {
    "slideshow": {
     "slide_type": "slide"
    }
   },
   "source": [
    "`time_to_int()` is called a 'pure' function because it returns a new value. You can also write 'modifier' functions that modify your attributes in place (imagine a funciton that sets a new value for self.seconds).\n",
    "\n",
    "Add a modifier method `int_to_time()` that takes in a value for seconds and resets the hour, minute and second values to that value. "
   ]
  },
  {
   "cell_type": "code",
   "execution_count": 56,
   "metadata": {
    "ExecuteTime": {
     "end_time": "2016-11-14T10:55:14.152469",
     "start_time": "2016-11-14T10:55:14.142466"
    },
    "collapsed": true,
    "slideshow": {
     "slide_type": "slide"
    }
   },
   "outputs": [],
   "source": [
    "class Time():\n",
    "    def print_time(self):\n",
    "        print '%.2d:%.2d:%.2d' % (self.hour, self.minute, self.second)\n",
    "        \n",
    "    def time_to_int(self):\n",
    "        '''Returns the current time in seconds'''\n",
    "        minutes = self.hour * 60 + self.minute\n",
    "        return minutes * 60 + self.second\n",
    "    \n",
    "    def int_to_time(self, seconds):\n",
    "        '''Resets the values for hour, minute and second to a new \n",
    "        value, given by a number of seconds\n",
    "        '''\n",
    "        # Your code goes here\n",
    "        self.hour, self.minute = divmod(seconds, 3600)\n",
    "        self.minute, self.seconds = divmod(self.minute, 60)\n",
    "        print '%.2d:%.2d:%.2d' % (self.hour, self.minute, self.second)\n",
    "        "
   ]
  },
  {
   "cell_type": "code",
   "execution_count": 57,
   "metadata": {
    "ExecuteTime": {
     "end_time": "2016-11-14T10:55:14.891460",
     "start_time": "2016-11-14T10:55:14.885314"
    },
    "collapsed": false,
    "slideshow": {
     "slide_type": "slide"
    }
   },
   "outputs": [
    {
     "data": {
      "text/plain": [
       "33300"
      ]
     },
     "execution_count": 57,
     "metadata": {},
     "output_type": "execute_result"
    }
   ],
   "source": [
    "morning = Time() #define the class\n",
    "morning.hour = 9 #set the attributes\n",
    "morning.minute = 15\n",
    "morning.second = 0\n",
    "morning.time_to_int() #call the method"
   ]
  },
  {
   "cell_type": "code",
   "execution_count": 58,
   "metadata": {
    "ExecuteTime": {
     "end_time": "2016-11-14T10:55:15.106658",
     "start_time": "2016-11-14T10:55:15.100837"
    },
    "collapsed": false,
    "slideshow": {
     "slide_type": "fragment"
    }
   },
   "outputs": [
    {
     "name": "stdout",
     "output_type": "stream",
     "text": [
      "09:00:00\n",
      "09:00:00\n"
     ]
    }
   ],
   "source": [
    "morning.int_to_time(32400) # A random example\n",
    "morning.print_time()"
   ]
  },
  {
   "cell_type": "markdown",
   "metadata": {
    "slideshow": {
     "slide_type": "slide"
    }
   },
   "source": [
    "### Interacting classes\n",
    "This is a little complicated, but we can write a method that compares two instances of the same class. \n",
    "\n",
    "Here's a method `is_after()` which checks if one Time class is before another: "
   ]
  },
  {
   "cell_type": "code",
   "execution_count": 25,
   "metadata": {
    "ExecuteTime": {
     "end_time": "2016-11-14T10:41:51.593431",
     "start_time": "2016-11-14T10:41:51.583022"
    },
    "collapsed": true,
    "slideshow": {
     "slide_type": "slide"
    }
   },
   "outputs": [],
   "source": [
    "class Time():\n",
    "    def print_time(self):\n",
    "        print '%.2d:%.2d:%.2d' % (self.hour, self.minute, self.second)\n",
    "        \n",
    "    def time_to_int(self):\n",
    "        '''Returns the current time in seconds'''\n",
    "        minutes = self.hour * 60 + self.minute\n",
    "        return minutes * 60 + self.second\n",
    "    \n",
    "    def int_to_time(self, seconds):\n",
    "        '''Resets the values for hour, minute and second to a new \n",
    "        value, given by a number of seconds\n",
    "        '''\n",
    "        self.hour, self.minute = divmod(seconds, 3600)\n",
    "        self.minute, self.second = divmod(self.minute, 60)\n",
    "    \n",
    "    def is_after(self, other):\n",
    "        '''Compares two time classes'''\n",
    "        return self.time_to_int() > other.time_to_int()"
   ]
  },
  {
   "cell_type": "code",
   "execution_count": 26,
   "metadata": {
    "ExecuteTime": {
     "end_time": "2016-11-14T10:41:52.915060",
     "start_time": "2016-11-14T10:41:52.908243"
    },
    "collapsed": false,
    "slideshow": {
     "slide_type": "slide"
    }
   },
   "outputs": [
    {
     "name": "stdout",
     "output_type": "stream",
     "text": [
      "09:15:00\n"
     ]
    }
   ],
   "source": [
    "morning = Time() #define the class\n",
    "morning.hour = 9 #set the attributes\n",
    "morning.minute = 15\n",
    "morning.second = 0\n",
    "morning.print_time() #call the method"
   ]
  },
  {
   "cell_type": "code",
   "execution_count": 27,
   "metadata": {
    "ExecuteTime": {
     "end_time": "2016-11-14T10:41:53.603004",
     "start_time": "2016-11-14T10:41:53.597388"
    },
    "collapsed": false,
    "slideshow": {
     "slide_type": "slide"
    }
   },
   "outputs": [
    {
     "name": "stdout",
     "output_type": "stream",
     "text": [
      "16:45:00\n"
     ]
    }
   ],
   "source": [
    "afternoon = Time() #define another class\n",
    "afternoon.hour = 16 #set the attributes\n",
    "afternoon.minute = 45\n",
    "afternoon.second = 0\n",
    "afternoon.print_time() #call the method"
   ]
  },
  {
   "cell_type": "code",
   "execution_count": 28,
   "metadata": {
    "ExecuteTime": {
     "end_time": "2016-11-14T10:41:54.972485",
     "start_time": "2016-11-14T10:41:54.966048"
    },
    "collapsed": false,
    "slideshow": {
     "slide_type": "slide"
    }
   },
   "outputs": [
    {
     "data": {
      "text/plain": [
       "False"
      ]
     },
     "execution_count": 28,
     "metadata": {},
     "output_type": "execute_result"
    }
   ],
   "source": [
    "morning.is_after(afternoon)"
   ]
  },
  {
   "cell_type": "code",
   "execution_count": 29,
   "metadata": {
    "ExecuteTime": {
     "end_time": "2016-11-14T10:41:56.546464",
     "start_time": "2016-11-14T10:41:56.541808"
    },
    "collapsed": false,
    "slideshow": {
     "slide_type": "fragment"
    }
   },
   "outputs": [
    {
     "data": {
      "text/plain": [
       "True"
      ]
     },
     "execution_count": 29,
     "metadata": {},
     "output_type": "execute_result"
    }
   ],
   "source": [
    "afternoon.is_after(morning)"
   ]
  },
  {
   "cell_type": "markdown",
   "metadata": {
    "slideshow": {
     "slide_type": "slide"
    }
   },
   "source": [
    "`isinstance` is a built in function that checks if an instance belongs to a class:"
   ]
  },
  {
   "cell_type": "code",
   "execution_count": 32,
   "metadata": {
    "ExecuteTime": {
     "end_time": "2016-11-14T10:45:14.173070",
     "start_time": "2016-11-14T10:45:14.167443"
    },
    "collapsed": false,
    "slideshow": {
     "slide_type": "fragment"
    }
   },
   "outputs": [
    {
     "data": {
      "text/plain": [
       "True"
      ]
     },
     "execution_count": 32,
     "metadata": {},
     "output_type": "execute_result"
    }
   ],
   "source": [
    "isinstance(morning, Time)"
   ]
  },
  {
   "cell_type": "markdown",
   "metadata": {
    "slideshow": {
     "slide_type": "slide"
    }
   },
   "source": [
    "To be thorough, you could rewrite that last method to include a check for AttributeError:\n",
    "```python\n",
    "\n",
    "def is_after(self, other):\n",
    "    '''Compares two time classes'''\n",
    "    if isinstance(other, Time):\n",
    "        return self.time_to_int() > other.time_to_int()\n",
    "```"
   ]
  },
  {
   "cell_type": "markdown",
   "metadata": {
    "slideshow": {
     "slide_type": "slide"
    }
   },
   "source": [
    "## Built in methods:  `__init__`\n",
    "Python classes come with some built in methods that do specific things when invoked. \n",
    "\n",
    "`__init__` initializes variables that you pass in as arguments "
   ]
  },
  {
   "cell_type": "code",
   "execution_count": 59,
   "metadata": {
    "ExecuteTime": {
     "end_time": "2016-11-14T10:57:23.195010",
     "start_time": "2016-11-14T10:57:23.178150"
    },
    "collapsed": true,
    "slideshow": {
     "slide_type": "slide"
    }
   },
   "outputs": [],
   "source": [
    "class Time():\n",
    "    def __init__(self, hour=0, minute=0, second=0):\n",
    "        self.hour = hour\n",
    "        self.minute = minute\n",
    "        self.second = second\n",
    "    \n",
    "    def print_time(self):\n",
    "        print '%.2d:%.2d:%.2d' % (self.hour, self.minute, self.second)\n",
    "        \n",
    "    def time_to_int(self):\n",
    "        '''Returns the current time in seconds'''\n",
    "        minutes = self.hour * 60 + self.minute\n",
    "        return minutes * 60 + self.second\n",
    "    \n",
    "    def int_to_time(self, seconds):\n",
    "        '''Resets the values for hour, minute and second to a new \n",
    "        value, given by a number of seconds\n",
    "        '''\n",
    "        self.hour, self.minute = divmod(seconds, 3600)\n",
    "        self.minute, self.second = divmod(self.minute, 60)\n",
    "    \n",
    "    def is_after(self, other):\n",
    "        '''Compares two time classes'''\n",
    "        if isinstance(other, Time):\n",
    "            return self.time_to_int() > other.time_to_int()"
   ]
  },
  {
   "cell_type": "code",
   "execution_count": 60,
   "metadata": {
    "ExecuteTime": {
     "end_time": "2016-11-14T10:57:24.327252",
     "start_time": "2016-11-14T10:57:24.323004"
    },
    "collapsed": false,
    "slideshow": {
     "slide_type": "slide"
    }
   },
   "outputs": [
    {
     "name": "stdout",
     "output_type": "stream",
     "text": [
      "09:15:00\n"
     ]
    }
   ],
   "source": [
    "morning = Time(9, 15, 0) #variables are defined when we invoke the class!\n",
    "morning.print_time()"
   ]
  },
  {
   "cell_type": "code",
   "execution_count": 61,
   "metadata": {
    "ExecuteTime": {
     "end_time": "2016-11-14T10:57:30.998720",
     "start_time": "2016-11-14T10:57:30.994619"
    },
    "collapsed": false,
    "slideshow": {
     "slide_type": "fragment"
    }
   },
   "outputs": [],
   "source": [
    "# Create afternoon, passing in times as arguments\n",
    "afternoon = Time(4,10,15)"
   ]
  },
  {
   "cell_type": "code",
   "execution_count": 62,
   "metadata": {
    "ExecuteTime": {
     "end_time": "2016-11-14T10:57:33.743664",
     "start_time": "2016-11-14T10:57:33.738679"
    },
    "collapsed": false,
    "slideshow": {
     "slide_type": "fragment"
    }
   },
   "outputs": [
    {
     "data": {
      "text/plain": [
       "True"
      ]
     },
     "execution_count": 62,
     "metadata": {},
     "output_type": "execute_result"
    }
   ],
   "source": [
    "morning.is_after(afternoon)"
   ]
  },
  {
   "cell_type": "markdown",
   "metadata": {
    "slideshow": {
     "slide_type": "slide"
    }
   },
   "source": [
    "### Built in method 2: `__str__`\n",
    "Here's one more. You can look up more built in methods on your own after this\n",
    "\n",
    "`__str__` does the same thing we told `print_time()` to do. Swap out `print` for `return`. The difference is now `__str__` does some Python magic behind the scenes so we can call `print` on the class directly. "
   ]
  },
  {
   "cell_type": "code",
   "execution_count": 63,
   "metadata": {
    "ExecuteTime": {
     "end_time": "2016-11-14T11:00:03.104473",
     "start_time": "2016-11-14T11:00:03.090745"
    },
    "collapsed": false,
    "slideshow": {
     "slide_type": "slide"
    }
   },
   "outputs": [],
   "source": [
    "class Time():\n",
    "    def __init__(self, hour=0, minute=0, second=0):\n",
    "        self.hour = hour\n",
    "        self.minute = minute\n",
    "        self.second = second\n",
    "    \n",
    "    def __str__(self):\n",
    "        return '%.2d:%.2d:%.2d' % (self.hour, self.minute, self.second)\n",
    "        \n",
    "    def time_to_int(self):\n",
    "        '''Returns the current time in seconds'''\n",
    "        minutes = self.hour * 60 + self.minute\n",
    "        return minutes * 60 + self.second\n",
    "    \n",
    "    def int_to_time(self, seconds):\n",
    "        '''Resets the values for hour, minute and second to a new \n",
    "        value, given by a number of seconds\n",
    "        '''\n",
    "        self.hour, self.minute = divmod(seconds, 3600)\n",
    "        self.minute, self.second = divmod(self.minute, 60)\n",
    "    \n",
    "    def is_after(self, other):\n",
    "        '''Compares two time classes'''\n",
    "        if isinstance(other, Time):\n",
    "            return self.time_to_int() > other.time_to_int()"
   ]
  },
  {
   "cell_type": "code",
   "execution_count": 98,
   "metadata": {
    "ExecuteTime": {
     "end_time": "2016-11-14T11:40:47.795546",
     "start_time": "2016-11-14T11:40:47.785856"
    },
    "collapsed": false,
    "slideshow": {
     "slide_type": "slide"
    }
   },
   "outputs": [
    {
     "name": "stdout",
     "output_type": "stream",
     "text": [
      "09:15:00\n"
     ]
    }
   ],
   "source": [
    "morning = Time(9, 15, 0)\n",
    "print morning"
   ]
  },
  {
   "cell_type": "code",
   "execution_count": 99,
   "metadata": {
    "ExecuteTime": {
     "end_time": "2016-11-14T11:40:56.074178",
     "start_time": "2016-11-14T11:40:56.063541"
    },
    "collapsed": false,
    "slideshow": {
     "slide_type": "fragment"
    }
   },
   "outputs": [
    {
     "name": "stdout",
     "output_type": "stream",
     "text": [
      "15:16:17\n"
     ]
    }
   ],
   "source": [
    "# Print afternoon\n",
    "afternoon = Time(15,16,17)\n",
    "print afternoon"
   ]
  },
  {
   "cell_type": "code",
   "execution_count": 83,
   "metadata": {
    "ExecuteTime": {
     "end_time": "2016-11-14T11:09:10.842841",
     "start_time": "2016-11-14T11:09:10.836688"
    },
    "collapsed": false
   },
   "outputs": [
    {
     "data": {
      "text/plain": [
       "54977"
      ]
     },
     "execution_count": 83,
     "metadata": {},
     "output_type": "execute_result"
    }
   ],
   "source": [
    "afternoon_int = afternoon.time_to_int()\n",
    "afternoon_int"
   ]
  },
  {
   "cell_type": "code",
   "execution_count": 74,
   "metadata": {
    "ExecuteTime": {
     "end_time": "2016-11-14T11:05:50.970743",
     "start_time": "2016-11-14T11:05:50.965601"
    },
    "collapsed": false
   },
   "outputs": [
    {
     "data": {
      "text/plain": [
       "False"
      ]
     },
     "execution_count": 74,
     "metadata": {},
     "output_type": "execute_result"
    }
   ],
   "source": [
    "morning.is_after(afternoon)"
   ]
  },
  {
   "cell_type": "code",
   "execution_count": 80,
   "metadata": {
    "ExecuteTime": {
     "end_time": "2016-11-14T11:08:41.759995",
     "start_time": "2016-11-14T11:08:41.756748"
    },
    "collapsed": false
   },
   "outputs": [],
   "source": [
    "morning.is_after(afternoon.int_to_time(afternoon_int))"
   ]
  },
  {
   "cell_type": "code",
   "execution_count": 88,
   "metadata": {
    "ExecuteTime": {
     "end_time": "2016-11-14T11:10:37.791328",
     "start_time": "2016-11-14T11:10:37.786469"
    },
    "collapsed": false
   },
   "outputs": [
    {
     "data": {
      "text/plain": [
       "True"
      ]
     },
     "execution_count": 88,
     "metadata": {},
     "output_type": "execute_result"
    }
   ],
   "source": [
    "blah = Time(15,16,20)\n",
    "blah.is_after(afternoon)"
   ]
  },
  {
   "cell_type": "code",
   "execution_count": 87,
   "metadata": {
    "ExecuteTime": {
     "end_time": "2016-11-14T11:10:32.140604",
     "start_time": "2016-11-14T11:10:32.136622"
    },
    "collapsed": false
   },
   "outputs": [
    {
     "name": "stdout",
     "output_type": "stream",
     "text": [
      "15:16:17\n"
     ]
    }
   ],
   "source": [
    "print afternoon"
   ]
  },
  {
   "cell_type": "code",
   "execution_count": 84,
   "metadata": {
    "ExecuteTime": {
     "end_time": "2016-11-14T11:09:12.196047",
     "start_time": "2016-11-14T11:09:12.191333"
    },
    "collapsed": false
   },
   "outputs": [
    {
     "name": "stdout",
     "output_type": "stream",
     "text": [
      "None\n"
     ]
    }
   ],
   "source": [
    "blah = afternoon.int_to_time(afternoon_int)\n",
    "print blah"
   ]
  },
  {
   "cell_type": "markdown",
   "metadata": {
    "slideshow": {
     "slide_type": "slide"
    }
   },
   "source": [
    "#### Practice:\n",
    "Add a method called `increment(n)` below that increases the value of time by n seconds. "
   ]
  },
  {
   "cell_type": "code",
   "execution_count": 165,
   "metadata": {
    "ExecuteTime": {
     "end_time": "2016-11-14T11:55:23.327225",
     "start_time": "2016-11-14T11:55:23.296424"
    },
    "collapsed": false,
    "slideshow": {
     "slide_type": "slide"
    }
   },
   "outputs": [],
   "source": [
    "class Time():\n",
    "    def __init__(self, hour=0, minute=0, second=0):\n",
    "        self.hour = hour\n",
    "        self.minute = minute\n",
    "        self.second = second\n",
    "    \n",
    "    def __str__(self):\n",
    "        return '%.2d:%.2d:%.2d' % (self.hour, self.minute, self.second)\n",
    "        \n",
    "    def time_to_int(self):\n",
    "        '''Returns the current time in seconds'''\n",
    "        minutes = self.hour * 60 + self.minute\n",
    "        return minutes * 60 + self.second\n",
    "    \n",
    "    def int_to_time(self, seconds):\n",
    "        '''Resets the values for hour, minute and second to a new \n",
    "        value, given by a number of seconds\n",
    "        '''\n",
    "        self.hour, self.minute = divmod(seconds, 3600)\n",
    "        self.minute, self.second = divmod(self.minute, 60)\n",
    "    \n",
    "    def is_after(self, other):\n",
    "        '''Compares two time classes'''\n",
    "        if isinstance(other, Time):\n",
    "            return self.time_to_int() > other.time_to_int()\n",
    "        \n",
    "    # YOUR CODE HERE\n",
    "    def bloop(self, n):\n",
    "        '''Increases the value of time by n seconds'''\n",
    "        self.totalTime = self.time_to_int()\n",
    "        self.totalTime += n\n",
    "        self.int_to_time(self.totalTime)\n",
    "\n",
    "    def increment(self, n):       \n",
    "        if self.second + n < 60:\n",
    "            self.second = self.second + n\n",
    "        else:\n",
    "            nx = n-60\n",
    "            self.second = self.second + nx\n",
    "            self.minute = self.minute + n/60-nx/60\n",
    "        return self\n",
    "    \n",
    "       "
   ]
  },
  {
   "cell_type": "code",
   "execution_count": 166,
   "metadata": {
    "ExecuteTime": {
     "end_time": "2016-11-14T11:55:24.326248",
     "start_time": "2016-11-14T11:55:24.321237"
    },
    "collapsed": false
   },
   "outputs": [
    {
     "name": "stdout",
     "output_type": "stream",
     "text": [
      "01:05:50\n"
     ]
    }
   ],
   "source": [
    "evening = Time(1,5,50)\n",
    "print evening"
   ]
  },
  {
   "cell_type": "code",
   "execution_count": 167,
   "metadata": {
    "ExecuteTime": {
     "end_time": "2016-11-14T11:55:30.004468",
     "start_time": "2016-11-14T11:55:30.000472"
    },
    "collapsed": false
   },
   "outputs": [
    {
     "name": "stdout",
     "output_type": "stream",
     "text": [
      "01:06:30\n"
     ]
    }
   ],
   "source": [
    "evening.increment(40)\n",
    "print evening"
   ]
  },
  {
   "cell_type": "markdown",
   "metadata": {
    "slideshow": {
     "slide_type": "slide"
    }
   },
   "source": [
    "Then, define an instance of time at 11:46pm. \n",
    "\n",
    "Write a for-loop to add one minute to the instance at a time. Print out the time at each point.\n",
    "\n",
    "When the clock reaches midnight, print \"Happy New Year\""
   ]
  },
  {
   "cell_type": "code",
   "execution_count": 175,
   "metadata": {
    "ExecuteTime": {
     "end_time": "2016-11-14T11:58:16.423371",
     "start_time": "2016-11-14T11:58:16.417733"
    },
    "collapsed": false
   },
   "outputs": [
    {
     "name": "stdout",
     "output_type": "stream",
     "text": [
      "0 11:47:00\n",
      "1 11:48:00\n",
      "2 11:49:00\n",
      "3 11:50:00\n",
      "4 11:51:00\n",
      "5 11:52:00\n",
      "6 11:53:00\n",
      "7 11:54:00\n",
      "8 11:55:00\n",
      "9 11:56:00\n",
      "10 11:57:00\n",
      "11 11:58:00\n",
      "12 11:59:00\n",
      "13 11:60:00\n"
     ]
    }
   ],
   "source": [
    "newyear = Time(11, 46, 0)\n",
    "for i in range(14):\n",
    "    newyear = newyear.increment(60)\n",
    "    print i, newyear"
   ]
  },
  {
   "cell_type": "code",
   "execution_count": 174,
   "metadata": {
    "ExecuteTime": {
     "end_time": "2016-11-14T11:57:44.722382",
     "start_time": "2016-11-14T11:57:44.718544"
    },
    "collapsed": false
   },
   "outputs": [
    {
     "name": "stdout",
     "output_type": "stream",
     "text": [
      "11:60:00\n"
     ]
    }
   ],
   "source": [
    "print newyear"
   ]
  },
  {
   "cell_type": "markdown",
   "metadata": {
    "slideshow": {
     "slide_type": "slide"
    }
   },
   "source": [
    "# Classes calling classes\n",
    "In this example, we'll use classes to create a deck of cards. \n",
    "\n",
    "To do that, we'll start by creating a class called 'Card' so each card can be an instance of the same class. "
   ]
  },
  {
   "cell_type": "code",
   "execution_count": 176,
   "metadata": {
    "ExecuteTime": {
     "end_time": "2016-11-14T12:02:10.951531",
     "start_time": "2016-11-14T12:02:10.946735"
    },
    "collapsed": true,
    "slideshow": {
     "slide_type": "fragment"
    }
   },
   "outputs": [],
   "source": [
    "class Card():\n",
    "    '''A standard playing card'''\n",
    "    \n",
    "    def __init__(self, suit=0, rank=2):\n",
    "        self.suit = suit\n",
    "        self.rank = rank"
   ]
  },
  {
   "cell_type": "markdown",
   "metadata": {
    "slideshow": {
     "slide_type": "slide"
    }
   },
   "source": [
    "Imagine we have a lookup table for each suit and rank of a card:\n",
    "- Spade = 3\n",
    "- Hearts = 2\n",
    "- Diamonds = 1\n",
    "- Clubs = 0\n",
    "\n",
    "Create a single card like this:"
   ]
  },
  {
   "cell_type": "code",
   "execution_count": 7,
   "metadata": {
    "collapsed": true,
    "slideshow": {
     "slide_type": "fragment"
    }
   },
   "outputs": [],
   "source": [
    "jack_of_hearts = Card(2, 11)"
   ]
  },
  {
   "cell_type": "code",
   "execution_count": 211,
   "metadata": {
    "ExecuteTime": {
     "end_time": "2016-11-14T12:14:26.055295",
     "start_time": "2016-11-14T12:14:26.052254"
    },
    "collapsed": false,
    "slideshow": {
     "slide_type": "fragment"
    }
   },
   "outputs": [],
   "source": [
    "# Create a card. Maybe the 10 of spades\n",
    "queen_of_hearts = Card(2,12)"
   ]
  },
  {
   "cell_type": "markdown",
   "metadata": {
    "slideshow": {
     "slide_type": "slide"
    }
   },
   "source": [
    "Since we need to look up the suit and rank for each card, we can define it as a **`class attribute`** instead of an instance attribute.\n",
    "\n",
    "We'll also add in a `__str__` method to print out the card"
   ]
  },
  {
   "cell_type": "code",
   "execution_count": 181,
   "metadata": {
    "ExecuteTime": {
     "end_time": "2016-11-14T12:05:25.372391",
     "start_time": "2016-11-14T12:05:25.363122"
    },
    "collapsed": true,
    "slideshow": {
     "slide_type": "slide"
    }
   },
   "outputs": [],
   "source": [
    "class Card():\n",
    "    '''A standard playing card'''\n",
    "    \n",
    "    def __init__(self, suit=0, rank=2):\n",
    "        self.suit = suit\n",
    "        self.rank = rank\n",
    "        \n",
    "    suit_names = ['Clubs', 'Diamonds', 'Hearts', 'Spades']\n",
    "    rank_names = [None, 'Ace', '2', '3', '4', '5', '6', '7', '8', \\\n",
    "                 '9', '10', 'Jack', 'Queen', 'King']\n",
    "    \n",
    "    def __str__(self):\n",
    "        return \"%s of %s\" % (Card.rank_names[self.rank], \\\n",
    "                            Card.suit_names[self.suit])"
   ]
  },
  {
   "cell_type": "code",
   "execution_count": 210,
   "metadata": {
    "ExecuteTime": {
     "end_time": "2016-11-14T12:14:23.568846",
     "start_time": "2016-11-14T12:14:23.564678"
    },
    "collapsed": false,
    "slideshow": {
     "slide_type": "fragment"
    }
   },
   "outputs": [
    {
     "name": "stdout",
     "output_type": "stream",
     "text": [
      "Queen of Clubs\n"
     ]
    }
   ],
   "source": [
    "mystery_card = Card(0,12)\n",
    "print mystery_card"
   ]
  },
  {
   "cell_type": "code",
   "execution_count": 212,
   "metadata": {
    "ExecuteTime": {
     "end_time": "2016-11-14T12:14:28.521401",
     "start_time": "2016-11-14T12:14:28.517209"
    },
    "collapsed": false,
    "slideshow": {
     "slide_type": "slide"
    }
   },
   "outputs": [
    {
     "name": "stdout",
     "output_type": "stream",
     "text": [
      "Ace of Spades\n"
     ]
    }
   ],
   "source": [
    "# Define another card and print it\n",
    "ace_of_spades = Card(3, 1)\n",
    "print ace_of_spades"
   ]
  },
  {
   "cell_type": "markdown",
   "metadata": {
    "slideshow": {
     "slide_type": "slide"
    }
   },
   "source": [
    "Every card has its own suit and rank, but there is only one copy of the lists suit_names and rank_names. Notice how we define it without calling 'self'\n",
    "\n",
    "Let's add in one method to compare the rank of each card:"
   ]
  },
  {
   "cell_type": "code",
   "execution_count": 221,
   "metadata": {
    "ExecuteTime": {
     "end_time": "2016-11-14T12:21:11.290454",
     "start_time": "2016-11-14T12:21:11.277763"
    },
    "collapsed": false,
    "slideshow": {
     "slide_type": "slide"
    }
   },
   "outputs": [],
   "source": [
    "class Card():\n",
    "    '''A standard playing card'''\n",
    "    \n",
    "    def __init__(self, suit=0, rank=2):\n",
    "        self.suit = suit\n",
    "        self.rank = rank\n",
    "        \n",
    "    suit_names = ['Clubs', 'Diamonds', 'Hearts', 'Spades']\n",
    "    rank_names = [None, 'Ace', '2', '3', '4', '5', '6', '7', '8', \\\n",
    "                 '9', '10', 'Jack', 'Queen', 'King']\n",
    "    \n",
    "    def __str__(self):\n",
    "        return \"%s of %s\" % (Card.rank_names[self.rank], \\\n",
    "                            Card.suit_names[self.suit])\n",
    "    \n",
    "    def greater_than(self, other):\n",
    "        # YOUR CODE HERE\n",
    "        if other.rank == 1:\n",
    "            return False\n",
    "        else:\n",
    "            self.rank > other.rank\n",
    "\n",
    "#         if isinstance(self, other):\n",
    "#             return self.rank > other.rank"
   ]
  },
  {
   "cell_type": "code",
   "execution_count": 222,
   "metadata": {
    "ExecuteTime": {
     "end_time": "2016-11-14T12:21:12.449531",
     "start_time": "2016-11-14T12:21:12.445599"
    },
    "collapsed": false
   },
   "outputs": [
    {
     "name": "stdout",
     "output_type": "stream",
     "text": [
      "False\n"
     ]
    }
   ],
   "source": [
    "ace_of_spades.greater_than(queen_of_hearts)"
   ]
  },
  {
   "cell_type": "code",
   "execution_count": 223,
   "metadata": {
    "ExecuteTime": {
     "end_time": "2016-11-14T12:21:13.175428",
     "start_time": "2016-11-14T12:21:13.171640"
    },
    "collapsed": false
   },
   "outputs": [
    {
     "name": "stdout",
     "output_type": "stream",
     "text": [
      "True\n"
     ]
    }
   ],
   "source": [
    "queen_of_hearts.greater_than(ace_of_spades)"
   ]
  },
  {
   "cell_type": "code",
   "execution_count": 225,
   "metadata": {
    "ExecuteTime": {
     "end_time": "2016-11-14T12:21:31.929483",
     "start_time": "2016-11-14T12:21:31.925578"
    },
    "collapsed": false
   },
   "outputs": [
    {
     "name": "stdout",
     "output_type": "stream",
     "text": [
      "Ace of Clubs\n"
     ]
    }
   ],
   "source": [
    "ace_of_clubs = Card(0,1)\n",
    "print ace_of_clubs"
   ]
  },
  {
   "cell_type": "code",
   "execution_count": 226,
   "metadata": {
    "ExecuteTime": {
     "end_time": "2016-11-14T12:22:13.300293",
     "start_time": "2016-11-14T12:22:13.294565"
    },
    "collapsed": false
   },
   "outputs": [
    {
     "data": {
      "text/plain": [
       "False"
      ]
     },
     "execution_count": 226,
     "metadata": {},
     "output_type": "execute_result"
    }
   ],
   "source": [
    "ace_of_clubs.greater_than(ace_of_spades)"
   ]
  },
  {
   "cell_type": "markdown",
   "metadata": {
    "slideshow": {
     "slide_type": "slide"
    }
   },
   "source": [
    "Now that we have a way to make cards, let's create a deck.\n",
    "\n",
    "Try doing this yourself before scrolling down to a solution below. Use a nested for loop to create 52 unique cards of each suit and rank. "
   ]
  },
  {
   "cell_type": "code",
   "execution_count": null,
   "metadata": {
    "collapsed": true
   },
   "outputs": [],
   "source": [
    "card.suit, card.rank"
   ]
  },
  {
   "cell_type": "code",
   "execution_count": 75,
   "metadata": {
    "collapsed": true,
    "slideshow": {
     "slide_type": "slide"
    }
   },
   "outputs": [],
   "source": [
    "class Deck():\n",
    "    '''52 unique cards. No jokers.'''\n",
    "    \n",
    "    def __init__(self):\n",
    "        self.cards = []\n",
    "        # YOUR CODE HERE\n",
    "        card_instance = Card()\n",
    "        for i in card_instance.suit:\n",
    "            for i in card_instance.rank:\n",
    "                card = card_instance\n",
    "    \n",
    "    Card.rank_names[self.rank], \\\n",
    "                            Card.suit_names[self.suit]\n",
    "        "
   ]
  },
  {
   "cell_type": "code",
   "execution_count": 126,
   "metadata": {
    "collapsed": false,
    "slideshow": {
     "slide_type": "fragment"
    }
   },
   "outputs": [
    {
     "name": "stdout",
     "output_type": "stream",
     "text": [
      "Ace of Clubs\n",
      "2 of Clubs\n",
      "3 of Clubs\n",
      "4 of Clubs\n",
      "5 of Clubs\n",
      "6 of Clubs\n",
      "7 of Clubs\n",
      "8 of Clubs\n",
      "9 of Clubs\n",
      "10 of Clubs\n",
      "Jack of Clubs\n",
      "Queen of Clubs\n",
      "King of Clubs\n",
      "Ace of Diamonds\n",
      "2 of Diamonds\n",
      "3 of Diamonds\n",
      "4 of Diamonds\n",
      "5 of Diamonds\n",
      "6 of Diamonds\n",
      "7 of Diamonds\n",
      "8 of Diamonds\n",
      "9 of Diamonds\n",
      "10 of Diamonds\n",
      "Jack of Diamonds\n",
      "Queen of Diamonds\n",
      "King of Diamonds\n",
      "Ace of Hearts\n",
      "2 of Hearts\n",
      "3 of Hearts\n",
      "4 of Hearts\n",
      "5 of Hearts\n",
      "6 of Hearts\n",
      "7 of Hearts\n",
      "8 of Hearts\n",
      "9 of Hearts\n",
      "10 of Hearts\n",
      "Jack of Hearts\n",
      "Queen of Hearts\n",
      "King of Hearts\n",
      "Ace of Spades\n",
      "2 of Spades\n",
      "3 of Spades\n",
      "4 of Spades\n",
      "5 of Spades\n",
      "6 of Spades\n",
      "7 of Spades\n",
      "8 of Spades\n",
      "9 of Spades\n",
      "10 of Spades\n",
      "Jack of Spades\n",
      "Queen of Spades\n",
      "King of Spades\n"
     ]
    }
   ],
   "source": [
    "# Your output should look like this:\n",
    "\n",
    "royal = Deck()\n",
    "for card in royal.cards:\n",
    "    print card"
   ]
  },
  {
   "cell_type": "markdown",
   "metadata": {
    "slideshow": {
     "slide_type": "slide"
    }
   },
   "source": [
    "\n",
    "Now, let's add in a __str__ method to print them out:"
   ]
  },
  {
   "cell_type": "code",
   "execution_count": 227,
   "metadata": {
    "ExecuteTime": {
     "end_time": "2016-11-14T12:23:26.307643",
     "start_time": "2016-11-14T12:23:26.298163"
    },
    "collapsed": true,
    "slideshow": {
     "slide_type": "slide"
    }
   },
   "outputs": [],
   "source": [
    "class Deck():\n",
    "    '''52 unique cards. No jokers.'''\n",
    "    \n",
    "    def __init__(self):\n",
    "        self.cards = []\n",
    "        for suit in range(4):\n",
    "            for rank in range(1,14):\n",
    "                card = Card(suit, rank)\n",
    "                self.cards.append(card)\n",
    "                \n",
    "    def __str__(self):\n",
    "        results = []\n",
    "        for card in self.cards:\n",
    "            results.append(str(card))\n",
    "        return '\\n'.join(results)"
   ]
  },
  {
   "cell_type": "code",
   "execution_count": 228,
   "metadata": {
    "ExecuteTime": {
     "end_time": "2016-11-14T12:23:26.823304",
     "start_time": "2016-11-14T12:23:26.818923"
    },
    "collapsed": false,
    "slideshow": {
     "slide_type": "slide"
    }
   },
   "outputs": [
    {
     "name": "stdout",
     "output_type": "stream",
     "text": [
      "Ace of Clubs\n",
      "2 of Clubs\n",
      "3 of Clubs\n",
      "4 of Clubs\n",
      "5 of Clubs\n",
      "6 of Clubs\n",
      "7 of Clubs\n",
      "8 of Clubs\n",
      "9 of Clubs\n",
      "10 of Clubs\n",
      "Jack of Clubs\n",
      "Queen of Clubs\n",
      "King of Clubs\n",
      "Ace of Diamonds\n",
      "2 of Diamonds\n",
      "3 of Diamonds\n",
      "4 of Diamonds\n",
      "5 of Diamonds\n",
      "6 of Diamonds\n",
      "7 of Diamonds\n",
      "8 of Diamonds\n",
      "9 of Diamonds\n",
      "10 of Diamonds\n",
      "Jack of Diamonds\n",
      "Queen of Diamonds\n",
      "King of Diamonds\n",
      "Ace of Hearts\n",
      "2 of Hearts\n",
      "3 of Hearts\n",
      "4 of Hearts\n",
      "5 of Hearts\n",
      "6 of Hearts\n",
      "7 of Hearts\n",
      "8 of Hearts\n",
      "9 of Hearts\n",
      "10 of Hearts\n",
      "Jack of Hearts\n",
      "Queen of Hearts\n",
      "King of Hearts\n",
      "Ace of Spades\n",
      "2 of Spades\n",
      "3 of Spades\n",
      "4 of Spades\n",
      "5 of Spades\n",
      "6 of Spades\n",
      "7 of Spades\n",
      "8 of Spades\n",
      "9 of Spades\n",
      "10 of Spades\n",
      "Jack of Spades\n",
      "Queen of Spades\n",
      "King of Spades\n"
     ]
    }
   ],
   "source": [
    "print Deck()"
   ]
  },
  {
   "cell_type": "markdown",
   "metadata": {
    "slideshow": {
     "slide_type": "slide"
    }
   },
   "source": [
    "Add in some methods that let you add cards, draw cards, shuffle and sort the deck:"
   ]
  },
  {
   "cell_type": "code",
   "execution_count": 229,
   "metadata": {
    "ExecuteTime": {
     "end_time": "2016-11-14T12:23:40.475034",
     "start_time": "2016-11-14T12:23:40.452627"
    },
    "collapsed": true,
    "slideshow": {
     "slide_type": "fragment"
    }
   },
   "outputs": [],
   "source": [
    "class Deck():\n",
    "    '''52 unique cards. No jokers.'''\n",
    "    \n",
    "    def __init__(self):\n",
    "        self.cards = []\n",
    "        for suit in range(4):\n",
    "            for rank in range(1,14):\n",
    "                card = Card(suit, rank)\n",
    "                self.cards.append(card)\n",
    "                \n",
    "    def __str__(self):\n",
    "        results = []\n",
    "        for card in self.cards:\n",
    "            results.append(str(card))\n",
    "        return '\\n'.join(results)\n",
    "    \n",
    "    def draw_card(self):\n",
    "        '''Draws a random card'''\n",
    "        import random\n",
    "        c = random.choice(self.cards)\n",
    "        self.cards.remove(c)\n",
    "        return c\n",
    "    \n",
    "    def add_card(self, card):\n",
    "        '''Puts a card object back in the deck'''\n",
    "        self.cards.append(card)            \n",
    "    \n",
    "    def shuffle(self):\n",
    "        '''Shuffles the deck'''\n",
    "        import random\n",
    "        random.shuffle(self.cards)\n",
    "        \n",
    "    def sort(self):\n",
    "        '''Sorts the deck'''\n",
    "        self.cards.sort()"
   ]
  },
  {
   "cell_type": "code",
   "execution_count": 230,
   "metadata": {
    "ExecuteTime": {
     "end_time": "2016-11-14T12:23:41.175502",
     "start_time": "2016-11-14T12:23:41.170205"
    },
    "collapsed": false,
    "slideshow": {
     "slide_type": "slide"
    }
   },
   "outputs": [
    {
     "name": "stdout",
     "output_type": "stream",
     "text": [
      "Queen of Diamonds\n"
     ]
    }
   ],
   "source": [
    "royal = Deck()\n",
    "royal.shuffle()\n",
    "print royal.draw_card()"
   ]
  },
  {
   "cell_type": "markdown",
   "metadata": {
    "slideshow": {
     "slide_type": "slide"
    }
   },
   "source": [
    "## Inheritance\n",
    "One of the most useful things about classes is that you can create a new class that contains all the same methods as its parent class. For example, here's a new class called Hand:"
   ]
  },
  {
   "cell_type": "code",
   "execution_count": 81,
   "metadata": {
    "collapsed": true,
    "slideshow": {
     "slide_type": "slide"
    }
   },
   "outputs": [],
   "source": [
    "class Hand(Deck):\n",
    "    '''Empty for now'''"
   ]
  },
  {
   "cell_type": "markdown",
   "metadata": {
    "slideshow": {
     "slide_type": "fragment"
    }
   },
   "source": [
    "Hand 'inherits' all the methods from Deck, and now contains all the same methods that Deck does:"
   ]
  },
  {
   "cell_type": "code",
   "execution_count": 82,
   "metadata": {
    "collapsed": false,
    "slideshow": {
     "slide_type": "fragment"
    }
   },
   "outputs": [
    {
     "data": {
      "text/plain": [
       "['__doc__',\n",
       " '__init__',\n",
       " '__module__',\n",
       " '__str__',\n",
       " 'add_card',\n",
       " 'cards',\n",
       " 'draw_card',\n",
       " 'shuffle',\n",
       " 'sort']"
      ]
     },
     "execution_count": 82,
     "metadata": {},
     "output_type": "execute_result"
    }
   ],
   "source": [
    "dir(Hand())"
   ]
  },
  {
   "cell_type": "markdown",
   "metadata": {
    "slideshow": {
     "slide_type": "slide"
    }
   },
   "source": [
    "The difference is, we can overwrite the methods of the parent class with new methods. \n",
    "\n",
    "In this case we want to start with an empty hand:"
   ]
  },
  {
   "cell_type": "code",
   "execution_count": 83,
   "metadata": {
    "collapsed": true,
    "slideshow": {
     "slide_type": "fragment"
    }
   },
   "outputs": [],
   "source": [
    "class Hand(Deck):\n",
    "    '''Empty for now'''\n",
    "    def __init__(self):\n",
    "        self.cards = []"
   ]
  },
  {
   "cell_type": "markdown",
   "metadata": {
    "slideshow": {
     "slide_type": "slide"
    }
   },
   "source": [
    "But since it has the same methods as Deck does, we can add and draw cards from it. \n",
    "\n",
    "Here, let's create a hand, draw a card from the deck, and put it in the hand:"
   ]
  },
  {
   "cell_type": "code",
   "execution_count": 129,
   "metadata": {
    "collapsed": false,
    "slideshow": {
     "slide_type": "fragment"
    }
   },
   "outputs": [
    {
     "name": "stdout",
     "output_type": "stream",
     "text": [
      "5 of Diamonds\n"
     ]
    }
   ],
   "source": [
    "deck = Deck()\n",
    "hand = Hand()\n",
    "\n",
    "card = deck.draw_card()\n",
    "hand.add_card(card)\n",
    "\n",
    "print hand"
   ]
  },
  {
   "cell_type": "markdown",
   "metadata": {
    "slideshow": {
     "slide_type": "slide"
    }
   },
   "source": [
    "Now, we can set up the basic mechanics of a game. \n",
    "\n",
    "### Practice:\n",
    "Define two hands and a deck. Deal five cards to each player. Print out both hands. "
   ]
  },
  {
   "cell_type": "code",
   "execution_count": 84,
   "metadata": {
    "collapsed": false,
    "slideshow": {
     "slide_type": "fragment"
    }
   },
   "outputs": [
    {
     "name": "stdout",
     "output_type": "stream",
     "text": [
      "6 of Clubs\n",
      "4 of Hearts\n",
      "9 of Clubs\n",
      "8 of Diamonds\n",
      "7 of Spades\n",
      "\n",
      "8 of Hearts\n",
      "Jack of Diamonds\n",
      "5 of Diamonds\n",
      "2 of Diamonds\n",
      "Ace of Hearts\n"
     ]
    }
   ],
   "source": [
    "\n",
    "\n",
    "\n"
   ]
  },
  {
   "cell_type": "markdown",
   "metadata": {
    "slideshow": {
     "slide_type": "slide"
    }
   },
   "source": [
    "## Group Activity: War\n",
    "As a class, let's build a class that builds on Card(), Deck() and Hand() to play the card game War.\n",
    "\n",
    "I put in a few empty methods. It's up to us to define the rest. "
   ]
  },
  {
   "cell_type": "code",
   "execution_count": 118,
   "metadata": {
    "collapsed": true,
    "slideshow": {
     "slide_type": "slide"
    }
   },
   "outputs": [],
   "source": [
    "class War():\n",
    "    '''Would you like to play a game?'''\n",
    "    def __init__(self):\n",
    "        \n",
    "        \n",
    "    def deal(self):\n",
    "        \n",
    "        \n",
    "    def turn(self):"
   ]
  },
  {
   "cell_type": "code",
   "execution_count": null,
   "metadata": {
    "collapsed": true
   },
   "outputs": [],
   "source": []
  },
  {
   "cell_type": "code",
   "execution_count": null,
   "metadata": {
    "collapsed": true
   },
   "outputs": [],
   "source": []
  },
  {
   "cell_type": "markdown",
   "metadata": {
    "slideshow": {
     "slide_type": "slide"
    }
   },
   "source": [
    "## Interlude: SKlearn\n",
    "You've seen classes before. Think about what happens when you import and fit a model in sklearn. Which of the following are classes, which are methods, and which are attribute variables?\n",
    "- sklearn.linear_model.LinearRegression\n",
    "- LinearRegression.fit()\n",
    "- LinearRegression.predict()\n",
    "- LinearRegression.score()\n",
    "- LinearRegression.coef`_`\n",
    "- LinearRegression.intercept`_`\n",
    "\n",
    "Can you guess if any of these are inherited classes? You can always look at the source code to see for yourself. Just be careful not to delete anything. \n"
   ]
  },
  {
   "cell_type": "code",
   "execution_count": null,
   "metadata": {
    "collapsed": true,
    "slideshow": {
     "slide_type": "fragment"
    }
   },
   "outputs": [],
   "source": []
  },
  {
   "cell_type": "markdown",
   "metadata": {
    "slideshow": {
     "slide_type": "slide"
    }
   },
   "source": [
    "## Pair Program: Go Fish\n",
    "Find a partner and write a game class that plays Go Fish against a computer. \n",
    "\n",
    "Here are the [rules](http://www.dltk-kids.com/games/go-fish.htm) if you need a refresher.\n",
    "\n",
    "Remember to think about:\n",
    "- How you'll deal cards\n",
    "- What it means to win a game\n",
    "- How to check if the game has been won or lost\n",
    "- What happens during each turn\n"
   ]
  },
  {
   "cell_type": "code",
   "execution_count": null,
   "metadata": {
    "collapsed": true
   },
   "outputs": [],
   "source": []
  },
  {
   "cell_type": "code",
   "execution_count": null,
   "metadata": {
    "collapsed": true
   },
   "outputs": [],
   "source": []
  },
  {
   "cell_type": "code",
   "execution_count": null,
   "metadata": {
    "collapsed": true
   },
   "outputs": [],
   "source": []
  },
  {
   "cell_type": "markdown",
   "metadata": {
    "slideshow": {
     "slide_type": "skip"
    }
   },
   "source": [
    "## Further reading\n",
    "\n",
    "Adapted from *Think Python* (Allen Dowley, 2015), chapters 17 + 18\n",
    "http://greenteapress.com/thinkpython2/thinkpython2.pdf\n",
    "\n",
    "Python documentation on classes: https://docs.python.org/2/tutorial/classes.html"
   ]
  }
 ],
 "metadata": {
  "celltoolbar": "Slideshow",
  "kernelspec": {
   "display_name": "Python 2",
   "language": "python",
   "name": "python2"
  },
  "language_info": {
   "codemirror_mode": {
    "name": "ipython",
    "version": 2
   },
   "file_extension": ".py",
   "mimetype": "text/x-python",
   "name": "python",
   "nbconvert_exporter": "python",
   "pygments_lexer": "ipython2",
   "version": "2.7.12"
  },
  "toc": {
   "nav_menu": {
    "height": "362px",
    "width": "252px"
   },
   "navigate_menu": true,
   "number_sections": true,
   "sideBar": true,
   "threshold": 4,
   "toc_cell": false,
   "toc_section_display": "block",
   "toc_window_display": false
  }
 },
 "nbformat": 4,
 "nbformat_minor": 0
}
