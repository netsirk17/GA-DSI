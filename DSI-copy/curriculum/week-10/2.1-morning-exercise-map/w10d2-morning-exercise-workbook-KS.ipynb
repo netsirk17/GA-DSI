{
 "cells": [
  {
   "cell_type": "markdown",
   "metadata": {},
   "source": [
    "<img src=\"https://ga-dash.s3.amazonaws.com/production/assets/logo-9f88ae6c9c3871690e33280fcf557f33.png\" style=\"float: left; margin: 15px;\">\n",
    "# Morning Exercise\n",
    "\n",
    "<br>\n",
    "**This notebook contains a series of 5 progressively more difficult exercises. You have until 10am to complete and submit them. Please email completed notebooks to alex.combs@ga.co. No credit will be given for notebooks submitted after 10am (Google timestamp). We will go over the solution from 10 to 10:15am.**"
   ]
  },
  {
   "cell_type": "markdown",
   "metadata": {},
   "source": [
    "## Exercise #1"
   ]
  },
  {
   "cell_type": "markdown",
   "metadata": {},
   "source": [
    "Create a map function from scratch. Name it two_map(). This function should accept three arguments: a python function and two lists. The function should return the result of the function.\n",
    "\n",
    "For example:\n",
    "> two_map(sum, [1,2,3],[3,2,1])<br> would return [6,6].\n",
    "\n",
    "<br> Other functions to test: len, min, max, std, etc."
   ]
  },
  {
   "cell_type": "code",
   "execution_count": null,
   "metadata": {
    "collapsed": true
   },
   "outputs": [],
   "source": [
    "# Pseudocode\n",
    "'''\n",
    "def function(python_function, [list 1], [list 2]):\n",
    "    perform python_function for elements in list 1\n",
    "    perform python_function for elements in list 2\n",
    "    return result of python_functions for lists 1 and 2\n",
    "'''"
   ]
  },
  {
   "cell_type": "code",
   "execution_count": 5,
   "metadata": {
    "ExecuteTime": {
     "end_time": "2016-11-22T09:11:52.075705",
     "start_time": "2016-11-22T09:11:52.071654"
    },
    "collapsed": true
   },
   "outputs": [],
   "source": [
    "def two_map(python_function, list_one, list_two):\n",
    "    print python_function(list_one)\n",
    "    print python_function(list_two)"
   ]
  },
  {
   "cell_type": "code",
   "execution_count": 9,
   "metadata": {
    "ExecuteTime": {
     "end_time": "2016-11-22T09:12:08.760823",
     "start_time": "2016-11-22T09:12:08.755522"
    },
    "collapsed": false
   },
   "outputs": [
    {
     "name": "stdout",
     "output_type": "stream",
     "text": [
      "5\n",
      "6\n"
     ]
    }
   ],
   "source": [
    "a = [1,3,5]\n",
    "b = [2,4,6]\n",
    "\n",
    "two_map(max, a, b)"
   ]
  },
  {
   "cell_type": "markdown",
   "metadata": {},
   "source": [
    "## Exercise #2\n",
    "\n",
    "Create a function called many_map() that does the same thing except now rather than only accepting two lists, it should accept two arguments. The first argument is again any function, and the second is a list that can contain any number of lists inside it.\n",
    "\n",
    "For example:\n",
    "> many_map(min, [[1, 2], [3, 4], [5, 6]]) <br> would return [1, 3, 5]<br><br>\n",
    "> many_map(sum, [[1, 2], [3, 4], [5, 6]]) <br> would return [3, 7, 11]"
   ]
  },
  {
   "cell_type": "code",
   "execution_count": 217,
   "metadata": {
    "collapsed": false
   },
   "outputs": [],
   "source": [
    "# Pseudocode\n",
    "'''\n",
    "def function(python_function, [[a,b], [c,d], [e,f]]):\n",
    "    for list in list_of_number_lists:\n",
    "        return result of python_function each list as a list\n",
    "'''"
   ]
  },
  {
   "cell_type": "code",
   "execution_count": 21,
   "metadata": {
    "ExecuteTime": {
     "end_time": "2016-11-22T09:19:09.625411",
     "start_time": "2016-11-22T09:19:09.621061"
    },
    "collapsed": true
   },
   "outputs": [],
   "source": [
    "def many_map(python_function, list_of_lists):\n",
    "    results = []\n",
    "    for i in list_of_lists:\n",
    "        results.append(python_function(i))\n",
    "    return results\n",
    "\n",
    "# Time permitting: Return results for list of numbers only"
   ]
  },
  {
   "cell_type": "code",
   "execution_count": 24,
   "metadata": {
    "ExecuteTime": {
     "end_time": "2016-11-22T09:19:18.429773",
     "start_time": "2016-11-22T09:19:18.423270"
    },
    "collapsed": false
   },
   "outputs": [
    {
     "data": {
      "text/plain": [
       "[1, 2]"
      ]
     },
     "execution_count": 24,
     "metadata": {},
     "output_type": "execute_result"
    }
   ],
   "source": [
    "a = [1,3,5]\n",
    "b = [2,4,6]\n",
    "c = [a,b]\n",
    "many_map(min, c)"
   ]
  },
  {
   "cell_type": "markdown",
   "metadata": {},
   "source": [
    "## Exercise 3\n",
    "\n",
    "Create another function called z_map(). Again, this should accept two arguments, the first is the function to be run; the second is a list that contains an arbitrary number of lists. Unlike the last function you created, this one should work on zipped data.\n",
    "\n",
    "For example:\n",
    "\n",
    "> z_map(sum, [[1, 2], [3, 4], [5, 6]])<br>\n",
    "would return [9, 12]\n",
    "\n",
    "> z_map(sum, [[1,1,1], [2,2,2], [3,3,3]])<br>\n",
    "would return [6, 6, 6]"
   ]
  },
  {
   "cell_type": "code",
   "execution_count": null,
   "metadata": {
    "collapsed": true
   },
   "outputs": [],
   "source": [
    "# Pseudocode\n",
    "'''\n",
    "def function(python_function, [[a,b], [c,d], [e,f]]):\n",
    "    for list in list_of_number_lists:\n",
    "        return result of python_function(zip(list_one, list_two, list_n))\n",
    "'''"
   ]
  },
  {
   "cell_type": "code",
   "execution_count": 27,
   "metadata": {
    "ExecuteTime": {
     "end_time": "2016-11-22T09:23:05.264891",
     "start_time": "2016-11-22T09:23:05.257739"
    },
    "collapsed": false
   },
   "outputs": [
    {
     "name": "stdout",
     "output_type": "stream",
     "text": [
      "[1, 3, 5]\n",
      "[2, 4, 6]\n"
     ]
    },
    {
     "data": {
      "text/plain": [
       "[(1, 2), (3, 4), (5, 6)]"
      ]
     },
     "execution_count": 27,
     "metadata": {},
     "output_type": "execute_result"
    }
   ],
   "source": [
    "print a\n",
    "print b\n",
    "zip(a,b)"
   ]
  },
  {
   "cell_type": "code",
   "execution_count": 46,
   "metadata": {
    "ExecuteTime": {
     "end_time": "2016-11-22T09:35:39.769553",
     "start_time": "2016-11-22T09:35:39.765083"
    },
    "collapsed": false
   },
   "outputs": [
    {
     "name": "stdout",
     "output_type": "stream",
     "text": [
      "[1, 3, 5]\n",
      "[2, 4, 6]\n",
      "[1, 3, 5]\n",
      "[2, 4, 6]\n"
     ]
    }
   ],
   "source": [
    "for i in range(len(c)):\n",
    "    for element in c:\n",
    "        print (c[i])"
   ]
  },
  {
   "cell_type": "code",
   "execution_count": 47,
   "metadata": {
    "ExecuteTime": {
     "end_time": "2016-11-22T09:36:35.962778",
     "start_time": "2016-11-22T09:36:35.957270"
    },
    "collapsed": false
   },
   "outputs": [],
   "source": [
    "def z_map(python_function, list_of_lists):\n",
    "    l = len(list_of_lists)\n",
    "    for i in range(len(list_of_lists)):\n",
    "        for element in list_of_lists: \n",
    "            j = element[i]\n",
    "            result = python_function(j)\n",
    "    return result"
   ]
  },
  {
   "cell_type": "code",
   "execution_count": 48,
   "metadata": {
    "ExecuteTime": {
     "end_time": "2016-11-22T09:36:36.642874",
     "start_time": "2016-11-22T09:36:36.623012"
    },
    "collapsed": false
   },
   "outputs": [
    {
     "ename": "TypeError",
     "evalue": "'int' object is not iterable",
     "output_type": "error",
     "traceback": [
      "\u001b[0;31m---------------------------------------------------------------------------\u001b[0m",
      "\u001b[0;31mTypeError\u001b[0m                                 Traceback (most recent call last)",
      "\u001b[0;32m<ipython-input-48-5c3b1360fc18>\u001b[0m in \u001b[0;36m<module>\u001b[0;34m()\u001b[0m\n\u001b[0;32m----> 1\u001b[0;31m \u001b[0mz_map\u001b[0m\u001b[0;34m(\u001b[0m\u001b[0msum\u001b[0m\u001b[0;34m,\u001b[0m \u001b[0mc\u001b[0m\u001b[0;34m)\u001b[0m\u001b[0;34m\u001b[0m\u001b[0m\n\u001b[0m",
      "\u001b[0;32m<ipython-input-47-2306676e3a6c>\u001b[0m in \u001b[0;36mz_map\u001b[0;34m(python_function, list_of_lists)\u001b[0m\n\u001b[1;32m      4\u001b[0m         \u001b[0;32mfor\u001b[0m \u001b[0melement\u001b[0m \u001b[0;32min\u001b[0m \u001b[0mlist_of_lists\u001b[0m\u001b[0;34m:\u001b[0m\u001b[0;34m\u001b[0m\u001b[0m\n\u001b[1;32m      5\u001b[0m             \u001b[0mj\u001b[0m \u001b[0;34m=\u001b[0m \u001b[0melement\u001b[0m\u001b[0;34m[\u001b[0m\u001b[0mi\u001b[0m\u001b[0;34m]\u001b[0m\u001b[0;34m\u001b[0m\u001b[0m\n\u001b[0;32m----> 6\u001b[0;31m             \u001b[0mresult\u001b[0m \u001b[0;34m=\u001b[0m \u001b[0mpython_function\u001b[0m\u001b[0;34m(\u001b[0m\u001b[0mj\u001b[0m\u001b[0;34m)\u001b[0m\u001b[0;34m\u001b[0m\u001b[0m\n\u001b[0m\u001b[1;32m      7\u001b[0m     \u001b[0;32mreturn\u001b[0m \u001b[0mresult\u001b[0m\u001b[0;34m\u001b[0m\u001b[0m\n",
      "\u001b[0;31mTypeError\u001b[0m: 'int' object is not iterable"
     ]
    }
   ],
   "source": [
    "z_map(sum, c)"
   ]
  },
  {
   "cell_type": "markdown",
   "metadata": {},
   "source": [
    "## Exercise #4\n",
    "\n",
    "Create a function that accepts an int. It should return all Fibonacci numbers in a list that are less than or equal to that value. **Bonus: Do it without creating a list in your function.**"
   ]
  },
  {
   "cell_type": "code",
   "execution_count": 107,
   "metadata": {
    "ExecuteTime": {
     "end_time": "2016-11-22T09:53:08.203859",
     "start_time": "2016-11-22T09:53:08.199232"
    },
    "collapsed": false
   },
   "outputs": [
    {
     "name": "stdout",
     "output_type": "stream",
     "text": [
      "0\n",
      "1\n",
      "2\n"
     ]
    }
   ],
   "source": [
    "for i in range(3):\n",
    "    print i"
   ]
  },
  {
   "cell_type": "code",
   "execution_count": 125,
   "metadata": {
    "ExecuteTime": {
     "end_time": "2016-11-22T09:57:54.943596",
     "start_time": "2016-11-22T09:57:54.934572"
    },
    "collapsed": false
   },
   "outputs": [],
   "source": [
    "def fibonacci(x):\n",
    "    fib = [0]\n",
    "    for i in range(x):\n",
    "        a = i-1\n",
    "        b = i-2\n",
    "        c = (a,b)\n",
    "        if a > x or a < 0 or b > x or b < 0:\n",
    "            pass\n",
    "        else:\n",
    "            fib.extend((c))\n",
    "    results = []\n",
    "    for i in fib:\n",
    "        if i not in results:\n",
    "            results.append(i)\n",
    "    return results"
   ]
  },
  {
   "cell_type": "code",
   "execution_count": 126,
   "metadata": {
    "ExecuteTime": {
     "end_time": "2016-11-22T09:57:55.571260",
     "start_time": "2016-11-22T09:57:55.565927"
    },
    "collapsed": false
   },
   "outputs": [
    {
     "data": {
      "text/plain": [
       "[0, 1, 2, 3, 4, 5, 6, 7, 8]"
      ]
     },
     "execution_count": 126,
     "metadata": {},
     "output_type": "execute_result"
    }
   ],
   "source": [
    "fibonacci(10)"
   ]
  },
  {
   "cell_type": "markdown",
   "metadata": {},
   "source": [
    "## Exercise #5\n",
    "\n",
    "Find the largest palindromic number that is possible from the product of all three digit numbers.\n",
    "For example, 111 * 111 = 12321. This number reads the same from right to left as it does from left tor right, so this qualifies as a palindrome. Find the largest possible that is the product of two three digit numbers."
   ]
  },
  {
   "cell_type": "code",
   "execution_count": null,
   "metadata": {
    "collapsed": false
   },
   "outputs": [],
   "source": [
    "# test test test"
   ]
  },
  {
   "cell_type": "code",
   "execution_count": null,
   "metadata": {
    "collapsed": true
   },
   "outputs": [],
   "source": []
  },
  {
   "cell_type": "code",
   "execution_count": null,
   "metadata": {
    "collapsed": true
   },
   "outputs": [],
   "source": []
  }
 ],
 "metadata": {
  "anaconda-cloud": {},
  "kernelspec": {
   "display_name": "Python 2",
   "language": "python",
   "name": "python2"
  },
  "language_info": {
   "codemirror_mode": {
    "name": "ipython",
    "version": 2
   },
   "file_extension": ".py",
   "mimetype": "text/x-python",
   "name": "python",
   "nbconvert_exporter": "python",
   "pygments_lexer": "ipython2",
   "version": "2.7.12"
  },
  "toc": {
   "nav_menu": {
    "height": "120px",
    "width": "252px"
   },
   "navigate_menu": true,
   "number_sections": true,
   "sideBar": true,
   "threshold": 4,
   "toc_cell": false,
   "toc_section_display": "block",
   "toc_window_display": false
  }
 },
 "nbformat": 4,
 "nbformat_minor": 0
}
