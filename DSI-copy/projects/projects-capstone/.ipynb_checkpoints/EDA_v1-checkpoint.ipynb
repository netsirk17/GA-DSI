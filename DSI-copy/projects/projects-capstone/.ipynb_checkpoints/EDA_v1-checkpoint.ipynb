{
 "cells": [
  {
   "cell_type": "code",
   "execution_count": 65,
   "metadata": {
    "ExecuteTime": {
     "end_time": "2016-11-18T11:13:36.491503",
     "start_time": "2016-11-18T11:13:36.479970"
    },
    "collapsed": true
   },
   "outputs": [],
   "source": [
    "import numpy as np\n",
    "import pandas as pd\n",
    "import matplotlib\n",
    "import matplotlib.pyplot as plt\n",
    "%matplotlib inline\n",
    "import seaborn as sns\n",
    "import re\n",
    "import pickle\n",
    "\n",
    "import bs4\n",
    "from bs4 import BeautifulSoup\n",
    "import requests\n",
    "# from selenium import webdriver\n",
    "# from selenium.webdriver.common.desired_capabilities import DesiredCapabilities"
   ]
  },
  {
   "cell_type": "code",
   "execution_count": 47,
   "metadata": {
    "ExecuteTime": {
     "end_time": "2016-11-17T17:25:21.031201",
     "start_time": "2016-11-17T17:25:20.813108"
    },
    "collapsed": false
   },
   "outputs": [],
   "source": [
    "df = pd.read_csv('./capstone/SCDB_2016_01.csv')"
   ]
  },
  {
   "cell_type": "code",
   "execution_count": 4,
   "metadata": {
    "ExecuteTime": {
     "end_time": "2016-11-17T17:08:39.962821",
     "start_time": "2016-11-17T17:08:38.420203"
    },
    "collapsed": true
   },
   "outputs": [],
   "source": [
    "with open('raw_df.pkl', 'w') as picklefile:\n",
    "    pickle.dump(df, picklefile)"
   ]
  },
  {
   "cell_type": "code",
   "execution_count": 2,
   "metadata": {
    "ExecuteTime": {
     "end_time": "2016-11-18T10:21:17.718871",
     "start_time": "2016-11-18T10:21:16.584132"
    },
    "collapsed": true
   },
   "outputs": [],
   "source": [
    "with open('raw_df.pkl') as picklefile:\n",
    "    df = pickle.load(picklefile)"
   ]
  },
  {
   "cell_type": "code",
   "execution_count": 108,
   "metadata": {
    "ExecuteTime": {
     "end_time": "2016-11-18T11:33:52.083736",
     "start_time": "2016-11-18T11:33:52.032719"
    },
    "collapsed": false
   },
   "outputs": [
    {
     "name": "stdout",
     "output_type": "stream",
     "text": [
      "(13193, 53)\n"
     ]
    },
    {
     "data": {
      "text/html": [
       "<div>\n",
       "<table border=\"1\" class=\"dataframe\">\n",
       "  <thead>\n",
       "    <tr style=\"text-align: right;\">\n",
       "      <th></th>\n",
       "      <th>caseId</th>\n",
       "      <th>docketId</th>\n",
       "      <th>caseIssuesId</th>\n",
       "      <th>voteId</th>\n",
       "      <th>dateDecision</th>\n",
       "      <th>decisionType</th>\n",
       "      <th>usCite</th>\n",
       "      <th>sctCite</th>\n",
       "      <th>ledCite</th>\n",
       "      <th>lexisCite</th>\n",
       "      <th>...</th>\n",
       "      <th>authorityDecision1</th>\n",
       "      <th>authorityDecision2</th>\n",
       "      <th>lawType</th>\n",
       "      <th>lawSupp</th>\n",
       "      <th>lawMinor</th>\n",
       "      <th>majOpinWriter</th>\n",
       "      <th>majOpinAssigner</th>\n",
       "      <th>splitVote</th>\n",
       "      <th>majVotes</th>\n",
       "      <th>minVotes</th>\n",
       "    </tr>\n",
       "  </thead>\n",
       "  <tbody>\n",
       "    <tr>\n",
       "      <th>0</th>\n",
       "      <td>1946-001</td>\n",
       "      <td>1946-001-01</td>\n",
       "      <td>1946-001-01-01</td>\n",
       "      <td>1946-001-01-01-01</td>\n",
       "      <td>11/18/1946</td>\n",
       "      <td>1</td>\n",
       "      <td>329 U.S. 1</td>\n",
       "      <td>67 S. Ct. 6</td>\n",
       "      <td>91 L. Ed. 3</td>\n",
       "      <td>1946 U.S. LEXIS 1724</td>\n",
       "      <td>...</td>\n",
       "      <td>4.0</td>\n",
       "      <td>NaN</td>\n",
       "      <td>6.0</td>\n",
       "      <td>600.0</td>\n",
       "      <td>35 U.S.C. � 33</td>\n",
       "      <td>78.0</td>\n",
       "      <td>78.0</td>\n",
       "      <td>1</td>\n",
       "      <td>8</td>\n",
       "      <td>1</td>\n",
       "    </tr>\n",
       "    <tr>\n",
       "      <th>1</th>\n",
       "      <td>1946-002</td>\n",
       "      <td>1946-002-01</td>\n",
       "      <td>1946-002-01-01</td>\n",
       "      <td>1946-002-01-01-01</td>\n",
       "      <td>11/18/1946</td>\n",
       "      <td>1</td>\n",
       "      <td>329 U.S. 14</td>\n",
       "      <td>67 S. Ct. 13</td>\n",
       "      <td>91 L. Ed. 12</td>\n",
       "      <td>1946 U.S. LEXIS 1725</td>\n",
       "      <td>...</td>\n",
       "      <td>4.0</td>\n",
       "      <td>NaN</td>\n",
       "      <td>6.0</td>\n",
       "      <td>600.0</td>\n",
       "      <td>18 U.S.C. � 398</td>\n",
       "      <td>81.0</td>\n",
       "      <td>87.0</td>\n",
       "      <td>1</td>\n",
       "      <td>6</td>\n",
       "      <td>3</td>\n",
       "    </tr>\n",
       "  </tbody>\n",
       "</table>\n",
       "<p>2 rows × 53 columns</p>\n",
       "</div>"
      ],
      "text/plain": [
       "     caseId     docketId    caseIssuesId             voteId dateDecision  \\\n",
       "0  1946-001  1946-001-01  1946-001-01-01  1946-001-01-01-01   11/18/1946   \n",
       "1  1946-002  1946-002-01  1946-002-01-01  1946-002-01-01-01   11/18/1946   \n",
       "\n",
       "   decisionType       usCite       sctCite       ledCite  \\\n",
       "0             1   329 U.S. 1   67 S. Ct. 6   91 L. Ed. 3   \n",
       "1             1  329 U.S. 14  67 S. Ct. 13  91 L. Ed. 12   \n",
       "\n",
       "              lexisCite    ...     authorityDecision1  authorityDecision2  \\\n",
       "0  1946 U.S. LEXIS 1724    ...                    4.0                 NaN   \n",
       "1  1946 U.S. LEXIS 1725    ...                    4.0                 NaN   \n",
       "\n",
       "  lawType lawSupp         lawMinor majOpinWriter majOpinAssigner  splitVote  \\\n",
       "0     6.0   600.0   35 U.S.C. � 33          78.0            78.0          1   \n",
       "1     6.0   600.0  18 U.S.C. � 398          81.0            87.0          1   \n",
       "\n",
       "   majVotes  minVotes  \n",
       "0         8         1  \n",
       "1         6         3  \n",
       "\n",
       "[2 rows x 53 columns]"
      ]
     },
     "execution_count": 108,
     "metadata": {},
     "output_type": "execute_result"
    }
   ],
   "source": [
    "print df.shape\n",
    "df.head(2)"
   ]
  },
  {
   "cell_type": "code",
   "execution_count": 50,
   "metadata": {
    "ExecuteTime": {
     "end_time": "2016-11-17T17:25:25.867068",
     "start_time": "2016-11-17T17:25:25.828532"
    },
    "collapsed": false
   },
   "outputs": [
    {
     "name": "stdout",
     "output_type": "stream",
     "text": [
      "<class 'pandas.core.frame.DataFrame'>\n",
      "RangeIndex: 13193 entries, 0 to 13192\n",
      "Data columns (total 53 columns):\n",
      "caseId                      13193 non-null object\n",
      "docketId                    13193 non-null object\n",
      "caseIssuesId                13193 non-null object\n",
      "voteId                      13193 non-null object\n",
      "dateDecision                13193 non-null object\n",
      "decisionType                13193 non-null int64\n",
      "usCite                      12738 non-null object\n",
      "sctCite                     13162 non-null object\n",
      "ledCite                     13188 non-null object\n",
      "lexisCite                   13193 non-null object\n",
      "term                        13193 non-null int64\n",
      "naturalCourt                13193 non-null int64\n",
      "chief                       13193 non-null object\n",
      "docket                      13161 non-null object\n",
      "caseName                    13193 non-null object\n",
      "dateArgument                11913 non-null object\n",
      "dateRearg                   368 non-null object\n",
      "petitioner                  13190 non-null float64\n",
      "petitionerState             2595 non-null float64\n",
      "respondent                  13185 non-null float64\n",
      "respondentState             3612 non-null float64\n",
      "jurisdiction                13193 non-null int64\n",
      "adminAction                 4109 non-null float64\n",
      "adminActionState            1075 non-null float64\n",
      "threeJudgeFdc               13183 non-null float64\n",
      "caseOrigin                  12626 non-null float64\n",
      "caseOriginState             3592 non-null float64\n",
      "caseSource                  12901 non-null float64\n",
      "caseSourceState             3004 non-null float64\n",
      "lcDisagreement              13188 non-null float64\n",
      "certReason                  13062 non-null float64\n",
      "lcDisposition               10915 non-null float64\n",
      "lcDispositionDirection      12956 non-null float64\n",
      "declarationUncon            13193 non-null int64\n",
      "caseDisposition             13034 non-null float64\n",
      "caseDispositionUnusual      13193 non-null int64\n",
      "partyWinning                13176 non-null float64\n",
      "precedentAlteration         13192 non-null float64\n",
      "voteUnclear                 13193 non-null int64\n",
      "issue                       13133 non-null float64\n",
      "issueArea                   13133 non-null float64\n",
      "decisionDirection           13161 non-null float64\n",
      "decisionDirectionDissent    13139 non-null float64\n",
      "authorityDecision1          13146 non-null float64\n",
      "authorityDecision2          2217 non-null float64\n",
      "lawType                     11579 non-null float64\n",
      "lawSupp                     11579 non-null float64\n",
      "lawMinor                    2340 non-null object\n",
      "majOpinWriter               11049 non-null float64\n",
      "majOpinAssigner             12855 non-null float64\n",
      "splitVote                   13193 non-null int64\n",
      "majVotes                    13193 non-null int64\n",
      "minVotes                    13193 non-null int64\n",
      "dtypes: float64(28), int64(10), object(15)\n",
      "memory usage: 5.3+ MB\n"
     ]
    }
   ],
   "source": [
    "df.info()"
   ]
  },
  {
   "cell_type": "code",
   "execution_count": 109,
   "metadata": {
    "ExecuteTime": {
     "end_time": "2016-11-18T11:34:19.995377",
     "start_time": "2016-11-18T11:34:19.943499"
    },
    "collapsed": false
   },
   "outputs": [
    {
     "name": "stdout",
     "output_type": "stream",
     "text": [
      "Non-object column count:  38\n",
      "Non-object sub_df column length:  38\n",
      "Total columns dropped from original df: 15\n"
     ]
    },
    {
     "data": {
      "text/html": [
       "<div>\n",
       "<table border=\"1\" class=\"dataframe\">\n",
       "  <thead>\n",
       "    <tr style=\"text-align: right;\">\n",
       "      <th></th>\n",
       "      <th>decisionType</th>\n",
       "      <th>term</th>\n",
       "      <th>naturalCourt</th>\n",
       "      <th>petitioner</th>\n",
       "      <th>petitionerState</th>\n",
       "      <th>respondent</th>\n",
       "      <th>respondentState</th>\n",
       "      <th>jurisdiction</th>\n",
       "      <th>adminAction</th>\n",
       "      <th>adminActionState</th>\n",
       "      <th>...</th>\n",
       "      <th>decisionDirectionDissent</th>\n",
       "      <th>authorityDecision1</th>\n",
       "      <th>authorityDecision2</th>\n",
       "      <th>lawType</th>\n",
       "      <th>lawSupp</th>\n",
       "      <th>majOpinWriter</th>\n",
       "      <th>majOpinAssigner</th>\n",
       "      <th>splitVote</th>\n",
       "      <th>majVotes</th>\n",
       "      <th>minVotes</th>\n",
       "    </tr>\n",
       "  </thead>\n",
       "  <tbody>\n",
       "    <tr>\n",
       "      <th>0</th>\n",
       "      <td>1</td>\n",
       "      <td>1946</td>\n",
       "      <td>1301</td>\n",
       "      <td>198.0</td>\n",
       "      <td>NaN</td>\n",
       "      <td>172.0</td>\n",
       "      <td>NaN</td>\n",
       "      <td>6</td>\n",
       "      <td>NaN</td>\n",
       "      <td>NaN</td>\n",
       "      <td>...</td>\n",
       "      <td>0.0</td>\n",
       "      <td>4.0</td>\n",
       "      <td>NaN</td>\n",
       "      <td>6.0</td>\n",
       "      <td>600.0</td>\n",
       "      <td>78.0</td>\n",
       "      <td>78.0</td>\n",
       "      <td>1</td>\n",
       "      <td>8</td>\n",
       "      <td>1</td>\n",
       "    </tr>\n",
       "  </tbody>\n",
       "</table>\n",
       "<p>1 rows × 38 columns</p>\n",
       "</div>"
      ],
      "text/plain": [
       "   decisionType  term  naturalCourt  petitioner  petitionerState  respondent  \\\n",
       "0             1  1946          1301       198.0              NaN       172.0   \n",
       "\n",
       "   respondentState  jurisdiction  adminAction  adminActionState    ...     \\\n",
       "0              NaN             6          NaN               NaN    ...      \n",
       "\n",
       "   decisionDirectionDissent  authorityDecision1  authorityDecision2  lawType  \\\n",
       "0                       0.0                 4.0                 NaN      6.0   \n",
       "\n",
       "   lawSupp  majOpinWriter  majOpinAssigner  splitVote  majVotes  minVotes  \n",
       "0    600.0           78.0             78.0          1         8         1  \n",
       "\n",
       "[1 rows x 38 columns]"
      ]
     },
     "execution_count": 109,
     "metadata": {},
     "output_type": "execute_result"
    }
   ],
   "source": [
    "# Extract non-object columns for initial EDA\n",
    "numeric_cols = []\n",
    "for i in df.columns:\n",
    "    if df[i].dtype != object:\n",
    "        numeric_cols.append(i)\n",
    "    else:\n",
    "        pass\n",
    "print 'Non-object column count: ', len(numeric_cols)\n",
    "\n",
    "# Create new sub_df for numeric columns only\n",
    "sub_df = df.loc[:, numeric_cols]\n",
    "print 'Non-object sub_df column length: ', len(sub_df.columns)\n",
    "print 'Total columns dropped from original df:', len(df.columns) - len(sub_df.columns)\n",
    "sub_df.head(1)"
   ]
  },
  {
   "cell_type": "code",
   "execution_count": 110,
   "metadata": {
    "ExecuteTime": {
     "end_time": "2016-11-18T11:34:25.054672",
     "start_time": "2016-11-18T11:34:25.026411"
    },
    "collapsed": false
   },
   "outputs": [
    {
     "data": {
      "text/html": [
       "<div>\n",
       "<table border=\"1\" class=\"dataframe\">\n",
       "  <thead>\n",
       "    <tr style=\"text-align: right;\">\n",
       "      <th></th>\n",
       "      <th>nulls</th>\n",
       "    </tr>\n",
       "  </thead>\n",
       "  <tbody>\n",
       "    <tr>\n",
       "      <th>decisionType</th>\n",
       "      <td>0</td>\n",
       "    </tr>\n",
       "    <tr>\n",
       "      <th>term</th>\n",
       "      <td>0</td>\n",
       "    </tr>\n",
       "    <tr>\n",
       "      <th>naturalCourt</th>\n",
       "      <td>0</td>\n",
       "    </tr>\n",
       "    <tr>\n",
       "      <th>petitioner</th>\n",
       "      <td>3</td>\n",
       "    </tr>\n",
       "    <tr>\n",
       "      <th>petitionerState</th>\n",
       "      <td>10598</td>\n",
       "    </tr>\n",
       "    <tr>\n",
       "      <th>respondent</th>\n",
       "      <td>8</td>\n",
       "    </tr>\n",
       "    <tr>\n",
       "      <th>respondentState</th>\n",
       "      <td>9581</td>\n",
       "    </tr>\n",
       "    <tr>\n",
       "      <th>jurisdiction</th>\n",
       "      <td>0</td>\n",
       "    </tr>\n",
       "    <tr>\n",
       "      <th>adminAction</th>\n",
       "      <td>9084</td>\n",
       "    </tr>\n",
       "    <tr>\n",
       "      <th>adminActionState</th>\n",
       "      <td>12118</td>\n",
       "    </tr>\n",
       "    <tr>\n",
       "      <th>threeJudgeFdc</th>\n",
       "      <td>10</td>\n",
       "    </tr>\n",
       "    <tr>\n",
       "      <th>caseOrigin</th>\n",
       "      <td>567</td>\n",
       "    </tr>\n",
       "    <tr>\n",
       "      <th>caseOriginState</th>\n",
       "      <td>9601</td>\n",
       "    </tr>\n",
       "    <tr>\n",
       "      <th>caseSource</th>\n",
       "      <td>292</td>\n",
       "    </tr>\n",
       "    <tr>\n",
       "      <th>caseSourceState</th>\n",
       "      <td>10189</td>\n",
       "    </tr>\n",
       "    <tr>\n",
       "      <th>lcDisagreement</th>\n",
       "      <td>5</td>\n",
       "    </tr>\n",
       "    <tr>\n",
       "      <th>certReason</th>\n",
       "      <td>131</td>\n",
       "    </tr>\n",
       "    <tr>\n",
       "      <th>lcDisposition</th>\n",
       "      <td>2278</td>\n",
       "    </tr>\n",
       "    <tr>\n",
       "      <th>lcDispositionDirection</th>\n",
       "      <td>237</td>\n",
       "    </tr>\n",
       "    <tr>\n",
       "      <th>declarationUncon</th>\n",
       "      <td>0</td>\n",
       "    </tr>\n",
       "    <tr>\n",
       "      <th>caseDisposition</th>\n",
       "      <td>159</td>\n",
       "    </tr>\n",
       "    <tr>\n",
       "      <th>caseDispositionUnusual</th>\n",
       "      <td>0</td>\n",
       "    </tr>\n",
       "    <tr>\n",
       "      <th>partyWinning</th>\n",
       "      <td>17</td>\n",
       "    </tr>\n",
       "    <tr>\n",
       "      <th>precedentAlteration</th>\n",
       "      <td>1</td>\n",
       "    </tr>\n",
       "    <tr>\n",
       "      <th>voteUnclear</th>\n",
       "      <td>0</td>\n",
       "    </tr>\n",
       "    <tr>\n",
       "      <th>issue</th>\n",
       "      <td>60</td>\n",
       "    </tr>\n",
       "    <tr>\n",
       "      <th>issueArea</th>\n",
       "      <td>60</td>\n",
       "    </tr>\n",
       "    <tr>\n",
       "      <th>decisionDirection</th>\n",
       "      <td>32</td>\n",
       "    </tr>\n",
       "    <tr>\n",
       "      <th>decisionDirectionDissent</th>\n",
       "      <td>54</td>\n",
       "    </tr>\n",
       "    <tr>\n",
       "      <th>authorityDecision1</th>\n",
       "      <td>47</td>\n",
       "    </tr>\n",
       "    <tr>\n",
       "      <th>authorityDecision2</th>\n",
       "      <td>10976</td>\n",
       "    </tr>\n",
       "    <tr>\n",
       "      <th>lawType</th>\n",
       "      <td>1614</td>\n",
       "    </tr>\n",
       "    <tr>\n",
       "      <th>lawSupp</th>\n",
       "      <td>1614</td>\n",
       "    </tr>\n",
       "    <tr>\n",
       "      <th>majOpinWriter</th>\n",
       "      <td>2144</td>\n",
       "    </tr>\n",
       "    <tr>\n",
       "      <th>majOpinAssigner</th>\n",
       "      <td>338</td>\n",
       "    </tr>\n",
       "    <tr>\n",
       "      <th>splitVote</th>\n",
       "      <td>0</td>\n",
       "    </tr>\n",
       "    <tr>\n",
       "      <th>majVotes</th>\n",
       "      <td>0</td>\n",
       "    </tr>\n",
       "    <tr>\n",
       "      <th>minVotes</th>\n",
       "      <td>0</td>\n",
       "    </tr>\n",
       "  </tbody>\n",
       "</table>\n",
       "</div>"
      ],
      "text/plain": [
       "                          nulls\n",
       "decisionType                  0\n",
       "term                          0\n",
       "naturalCourt                  0\n",
       "petitioner                    3\n",
       "petitionerState           10598\n",
       "respondent                    8\n",
       "respondentState            9581\n",
       "jurisdiction                  0\n",
       "adminAction                9084\n",
       "adminActionState          12118\n",
       "threeJudgeFdc                10\n",
       "caseOrigin                  567\n",
       "caseOriginState            9601\n",
       "caseSource                  292\n",
       "caseSourceState           10189\n",
       "lcDisagreement                5\n",
       "certReason                  131\n",
       "lcDisposition              2278\n",
       "lcDispositionDirection      237\n",
       "declarationUncon              0\n",
       "caseDisposition             159\n",
       "caseDispositionUnusual        0\n",
       "partyWinning                 17\n",
       "precedentAlteration           1\n",
       "voteUnclear                   0\n",
       "issue                        60\n",
       "issueArea                    60\n",
       "decisionDirection            32\n",
       "decisionDirectionDissent     54\n",
       "authorityDecision1           47\n",
       "authorityDecision2        10976\n",
       "lawType                    1614\n",
       "lawSupp                    1614\n",
       "majOpinWriter              2144\n",
       "majOpinAssigner             338\n",
       "splitVote                     0\n",
       "majVotes                      0\n",
       "minVotes                      0"
      ]
     },
     "execution_count": 110,
     "metadata": {},
     "output_type": "execute_result"
    }
   ],
   "source": [
    "# Check for null values in sub_df\n",
    "nulls = sub_df.isnull().sum()\n",
    "nulls = pd.DataFrame(nulls, columns=['nulls'])\n",
    "nulls"
   ]
  },
  {
   "cell_type": "code",
   "execution_count": 111,
   "metadata": {
    "ExecuteTime": {
     "end_time": "2016-11-18T11:34:29.420318",
     "start_time": "2016-11-18T11:34:29.366582"
    },
    "collapsed": false
   },
   "outputs": [
    {
     "name": "stdout",
     "output_type": "stream",
     "text": [
      "sub_df shape with NaN > 1000 columns dropped: (13193, 27)\n",
      "sub_columns list length: 27\n"
     ]
    }
   ],
   "source": [
    "# Drop columns in sub_df with more than 1000 null values\n",
    "def drop_cols(dataframe):\n",
    "    for i in dataframe:\n",
    "        x = dataframe[i].isnull().sum()\n",
    "        if x > 1000:\n",
    "            del dataframe[i]\n",
    "        else:\n",
    "            pass\n",
    "    return dataframe.head(1)\n",
    "\n",
    "drop_cols(sub_df)\n",
    "# Most of dropped columns have to do with the State of a case\n",
    "# majOpinWriter seems to be only potentially significant column dropped\n",
    "\n",
    "print 'sub_df shape with NaN > 1000 columns dropped:', sub_df.shape\n",
    "\n",
    "# Create list of column names from sub_df\n",
    "sub_vars = [i for i in sub_df.columns]\n",
    "print 'sub_columns list length:', len(sub_vars)"
   ]
  },
  {
   "cell_type": "code",
   "execution_count": 113,
   "metadata": {
    "ExecuteTime": {
     "end_time": "2016-11-18T11:35:00.293484",
     "start_time": "2016-11-18T11:35:00.285994"
    },
    "collapsed": false
   },
   "outputs": [
    {
     "data": {
      "text/plain": [
       "1    13193\n",
       "Name: splitVote, dtype: int64"
      ]
     },
     "execution_count": 113,
     "metadata": {},
     "output_type": "execute_result"
    }
   ],
   "source": [
    "df['splitVote'].value_counts()"
   ]
  },
  {
   "cell_type": "code",
   "execution_count": 91,
   "metadata": {
    "ExecuteTime": {
     "end_time": "2016-11-18T11:27:29.248646",
     "start_time": "2016-11-18T11:27:29.223542"
    },
    "collapsed": false
   },
   "outputs": [
    {
     "name": "stdout",
     "output_type": "stream",
     "text": [
      "Total nulls in sub_df: 2021\n"
     ]
    },
    {
     "data": {
      "text/plain": [
       "(12237, 27)"
      ]
     },
     "execution_count": 91,
     "metadata": {},
     "output_type": "execute_result"
    }
   ],
   "source": [
    "# Check remaining columns for null\n",
    "# Drop null values\n",
    "print 'Total nulls in sub_df:', sub_df.isnull().sum().sum()\n",
    "sub_df.dropna(inplace=True)\n",
    "print sub_df.shape\n",
    "print 'Null check:', sub_df.isnull().sum().sum()"
   ]
  },
  {
   "cell_type": "code",
   "execution_count": 16,
   "metadata": {
    "ExecuteTime": {
     "end_time": "2016-11-18T10:31:09.822960",
     "start_time": "2016-11-18T10:31:09.818821"
    },
    "collapsed": true
   },
   "outputs": [],
   "source": [
    "# Set webscraping urls\n",
    "var_url = 'http://supremecourtdatabase.org/documentation.php?var=cite'\n",
    "url = 'http://supremecourtdatabase.org/documentation.php?var={}'"
   ]
  },
  {
   "cell_type": "raw",
   "metadata": {
    "ExecuteTime": {
     "end_time": "2016-11-17T17:27:52.717749",
     "start_time": "2016-11-17T17:27:52.612282"
    },
    "collapsed": true
   },
   "source": [
    "# Get list of all variables (features) in Supreme Court database\n",
    "def get_vars(some_url):\n",
    "    var_list = []\n",
    "    response = requests.get(some_url)\n",
    "    soup = BeautifulSoup(response.content, 'lxml')\n",
    "    for link in soup.find_all('a'):\n",
    "        var_list.append(link.get('href'))\n",
    "    var_list = var_list[14:-7]\n",
    "    var_list = [i[22:] for i in var_list]\n",
    "    return var_list\n",
    "\n",
    "variables = get_vars(var_url)"
   ]
  },
  {
   "cell_type": "code",
   "execution_count": 98,
   "metadata": {
    "ExecuteTime": {
     "end_time": "2016-11-18T11:29:36.580606",
     "start_time": "2016-11-18T11:29:36.574772"
    },
    "collapsed": false
   },
   "outputs": [
    {
     "name": "stdout",
     "output_type": "stream",
     "text": [
      "Check var_dict key count: 27\n"
     ]
    }
   ],
   "source": [
    "# Create variables dictionary to store variable_name: variable_definition\n",
    "var_dict = var_dict.fromkeys(i for i in sub_vars)\n",
    "print 'Check var_dict key count:', len(var_dict.keys())"
   ]
  },
  {
   "cell_type": "code",
   "execution_count": 99,
   "metadata": {
    "ExecuteTime": {
     "end_time": "2016-11-18T11:29:45.127796",
     "start_time": "2016-11-18T11:29:38.614965"
    },
    "collapsed": false
   },
   "outputs": [
    {
     "name": "stdout",
     "output_type": "stream",
     "text": [
      "Check var_dict values count: 27\n"
     ]
    }
   ],
   "source": [
    "# Webscrape variable definitions from Supreme Court website\n",
    "def get_var_def(some_list):\n",
    "    for variable in some_list:\n",
    "        response = requests.get(url.format(variable))\n",
    "        soup = BeautifulSoup(response.content, 'lxml')\n",
    "        x = re.findall('</table>(\\s*)<br/>\\s*.\\s*(.*)', str(soup))\n",
    "        var_dict.update({variable: x})\n",
    "    return var_dict\n",
    "\n",
    "get_var_def(sub_vars)\n",
    "print 'Check var_dict values count:', len(var_dict.values())"
   ]
  },
  {
   "cell_type": "code",
   "execution_count": 107,
   "metadata": {
    "ExecuteTime": {
     "end_time": "2016-11-18T11:33:15.016089",
     "start_time": "2016-11-18T11:33:15.001550"
    },
    "collapsed": false
   },
   "outputs": [
    {
     "data": {
      "text/plain": [
       "{'authorityDecision1': 7,\n",
       " 'caseDisposition': 10,\n",
       " 'caseDispositionUnusual': 2,\n",
       " 'caseOrigin': 132,\n",
       " 'caseSource': 108,\n",
       " 'certReason': 13,\n",
       " 'decisionDirection': 3,\n",
       " 'decisionDirectionDissent': 2,\n",
       " 'decisionType': 4,\n",
       " 'declarationUncon': 4,\n",
       " 'issue': 262,\n",
       " 'issueArea': 14,\n",
       " 'jurisdiction': 7,\n",
       " 'lcDisagreement': 2,\n",
       " 'lcDispositionDirection': 3,\n",
       " 'majOpinAssigner': 22,\n",
       " 'majVotes': 6,\n",
       " 'minVotes': 5,\n",
       " 'naturalCourt': 32,\n",
       " 'partyWinning': 3,\n",
       " 'petitioner': 262,\n",
       " 'precedentAlteration': 2,\n",
       " 'respondent': 245,\n",
       " 'splitVote': 1,\n",
       " 'term': 70,\n",
       " 'threeJudgeFdc': 2,\n",
       " 'voteUnclear': 2}"
      ]
     },
     "execution_count": 107,
     "metadata": {},
     "output_type": "execute_result"
    }
   ],
   "source": [
    "# Examine value counts for each numeric column to refine sub_df further\n",
    "# Refine: Bin into groups (such as term years) \n",
    "# or drop if unique values is unmanageably large\n",
    "\n",
    "sub_dict = {}\n",
    "for i in sub_df:\n",
    "    sub_dict.update({i: sub_df[i].nunique()})\n",
    "sub_dict"
   ]
  },
  {
   "cell_type": "code",
   "execution_count": 115,
   "metadata": {
    "ExecuteTime": {
     "end_time": "2016-11-18T11:35:56.504375",
     "start_time": "2016-11-18T11:35:56.496397"
    },
    "collapsed": false
   },
   "outputs": [
    {
     "name": "stdout",
     "output_type": "stream",
     "text": [
      "non_bin_col length: 16\n",
      "bin_col length: 10\n"
     ]
    }
   ],
   "source": [
    "# Create separate columns lists for variables that do/don't need binning\n",
    "non_bin_col = []\n",
    "bin_col = []\n",
    "\n",
    "for key, value in sub_dict.items():\n",
    "    if value <= 10:\n",
    "        non_bin_col.append(key)\n",
    "    else:\n",
    "        bin_col.append(key)\n",
    "\n",
    "# Remove splitVote as it has 1 value (1)\n",
    "non_bin_col.remove('splitVote')\n",
    "\n",
    "print 'non_bin_col length:', len(non_bin_col)\n",
    "print 'bin_col length:', len(bin_col)"
   ]
  },
  {
   "cell_type": "code",
   "execution_count": 102,
   "metadata": {
    "ExecuteTime": {
     "end_time": "2016-11-18T11:30:26.014324",
     "start_time": "2016-11-18T11:30:25.726678"
    },
    "collapsed": false
   },
   "outputs": [
    {
     "name": "stdout",
     "output_type": "stream",
     "text": [
      "['majVotes', 'precedentAlteration', 'jurisdiction', 'caseDispositionUnusual', 'lcDispositionDirection', 'voteUnclear', 'lcDisagreement', 'decisionType', 'authorityDecision1', 'splitVote', 'partyWinning', 'threeJudgeFdc', 'declarationUncon', 'decisionDirection', 'minVotes', 'caseDisposition', 'decisionDirectionDissent']\n"
     ]
    },
    {
     "data": {
      "text/plain": [
       "(array([   26.,  3924.,  2835.,  3174.,  1312.,   238.,   377.,    39.,\n",
       "          303.,     9.]),\n",
       " array([  1. ,   1.9,   2.8,   3.7,   4.6,   5.5,   6.4,   7.3,   8.2,\n",
       "          9.1,  10. ]),\n",
       " <a list of 10 Patch objects>)"
      ]
     },
     "execution_count": 102,
     "metadata": {},
     "output_type": "execute_result"
    },
    {
     "data": {
      "image/png": "[encoded data removed]",
      "text/plain": [
       "<matplotlib.figure.Figure at 0x1181358d0>"
      ]
     },
     "metadata": {},
     "output_type": "display_data"
    }
   ],
   "source": [
    "print non_bin_col\n",
    "plt.hist(sub_df['caseDisposition'])"
   ]
  },
  {
   "cell_type": "code",
   "execution_count": 106,
   "metadata": {
    "ExecuteTime": {
     "end_time": "2016-11-18T11:33:02.906847",
     "start_time": "2016-11-18T11:32:59.773466"
    },
    "collapsed": false
   },
   "outputs": [
    {
     "data": {
      "image/png": "[encoded data removed]",
      "text/plain": [
       "<matplotlib.figure.Figure at 0x11a5cc450>"
      ]
     },
     "metadata": {},
     "output_type": "display_data"
    }
   ],
   "source": [
    "i = 1\n",
    "for variable in non_bin_col:\n",
    "    plt.subplot(4, 5, i)\n",
    "    i += 1\n",
    "    plt.hist(sub_df[variable])"
   ]
  },
  {
   "cell_type": "code",
   "execution_count": null,
   "metadata": {
    "collapsed": true
   },
   "outputs": [],
   "source": []
  },
  {
   "cell_type": "code",
   "execution_count": null,
   "metadata": {
    "collapsed": true
   },
   "outputs": [],
   "source": []
  },
  {
   "cell_type": "code",
   "execution_count": 146,
   "metadata": {
    "ExecuteTime": {
     "end_time": "2016-11-17T17:49:57.518587",
     "start_time": "2016-11-17T17:49:57.513849"
    },
    "collapsed": false
   },
   "outputs": [
    {
     "name": "stdout",
     "output_type": "stream",
     "text": [
      "http://supremecourtdatabase.org/documentation.php?var=caseId\n"
     ]
    }
   ],
   "source": [
    "plop = url.format(variables[0])\n",
    "print plop"
   ]
  },
  {
   "cell_type": "code",
   "execution_count": 138,
   "metadata": {
    "ExecuteTime": {
     "end_time": "2016-11-17T17:43:48.756161",
     "start_time": "2016-11-17T17:43:48.709469"
    },
    "collapsed": false
   },
   "outputs": [
    {
     "data": {
      "text/plain": [
       "[('\\n',\n",
       "  \"his variable identifies the court whose decision the Supreme Court reviewed.   If the case originated in the same court whose decision the Supreme Court reviewed, the entry in the caseOrigin should be the same as here.  This variable has no entry if the case arose under the Supreme Court's original jurisdiction.\\r<br/> <br/>If caseSource is a state court, the value of this variable will be 300 (State Supreme Court), 302 (State Appellate Court) or 303 (State Trial Court). Variable caseSourceState identifies the name of the state.\\t\\t\\t\\t\\t\\t\\t\\t\\t\"),\n",
       " ('\\n', 'div class=\"footer\">\\xc2\\xa0</div>')]"
      ]
     },
     "execution_count": 138,
     "metadata": {},
     "output_type": "execute_result"
    }
   ],
   "source": [
    "x = re.findall('</table>(\\s*)<br/>\\s*.\\s*(.*)', str(soup))\n",
    "x"
   ]
  },
  {
   "cell_type": "code",
   "execution_count": 131,
   "metadata": {
    "ExecuteTime": {
     "end_time": "2016-11-17T17:42:53.117262",
     "start_time": "2016-11-17T17:42:53.112059"
    },
    "collapsed": false
   },
   "outputs": [
    {
     "data": {
      "text/plain": [
       "'caseSource'"
      ]
     },
     "execution_count": 131,
     "metadata": {},
     "output_type": "execute_result"
    }
   ],
   "source": [
    "variables[20]"
   ]
  },
  {
   "cell_type": "code",
   "execution_count": 168,
   "metadata": {
    "ExecuteTime": {
     "end_time": "2016-11-17T17:55:38.202109",
     "start_time": "2016-11-17T17:55:38.195859"
    },
    "collapsed": false
   },
   "outputs": [],
   "source": [
    "def get_var_def(some_dict):\n",
    "    for key, value in some_dict:\n",
    "        response = requests.get(url.format(key))\n",
    "        soup = BeautifulSoup(response.content, 'lxml')\n",
    "        x = re.findall('</table>(\\s*)<br/>\\s*.\\s*(.*)', str(soup))\n",
    "        var_dict.update({key: x})\n",
    "        return some_dict\n",
    "# var_dict = [get_var_def(i) for i in variables]"
   ]
  },
  {
   "cell_type": "code",
   "execution_count": 186,
   "metadata": {
    "ExecuteTime": {
     "end_time": "2016-11-17T22:41:17.818652",
     "start_time": "2016-11-17T22:41:17.809380"
    },
    "collapsed": true
   },
   "outputs": [],
   "source": [
    "a_dict = a_dict.fromkeys(i for i in variables)\n",
    "def get_var_def(some_list):\n",
    "    for item in some_list:\n",
    "        response = requests.get(url.format(item))\n",
    "        soup = BeautifulSoup(response.content, 'lxml')\n",
    "        x = re.findall('</table>(\\s*)<br/>\\s*.\\s*(.*)', str(soup))\n",
    "        a_dict.update({item: x})\n",
    "    return a_dict"
   ]
  },
  {
   "cell_type": "code",
   "execution_count": 181,
   "metadata": {
    "ExecuteTime": {
     "end_time": "2016-11-17T19:56:10.082591",
     "start_time": "2016-11-17T19:56:10.078835"
    },
    "collapsed": false
   },
   "outputs": [],
   "source": [
    "a_dict = a_dict.fromkeys(i for i in variables)"
   ]
  },
  {
   "cell_type": "code",
   "execution_count": 187,
   "metadata": {
    "ExecuteTime": {
     "end_time": "2016-11-17T22:41:35.328461",
     "start_time": "2016-11-17T22:41:21.681305"
    },
    "collapsed": false
   },
   "outputs": [
    {
     "data": {
      "text/plain": [
       "{'adminAction': [('\\n',\n",
       "   'his variable pertains to administrative agency activity occurring prior to the onset of litigation.  Note that the activity may involve an administrative official as well as that of an agency. The general rule for an entry in this variable is whether administrative action occurred in the context of the case. Note too that this variable identifies the specific federal agency. If the action occurred in a state agency, adminAction is coded as 117 (State Agency). See the variable adminActionState for the identity of the state.  \\r<br/> <br/>Determination of whether administration action occurred in the context of the case was made by reading the material which appears in the summary of the case (the material preceding the Court\\'s opinion) and, if necessary, those portions of the prevailing opinion headed by a I or II. \\r<br/> <br/>Action by an agency official is considered to be administrative action except when such an official acts to enforce criminal law.    \\r<br/> <br/>If an agency or agency official \"denies\" a \"request\" that action be taken, such denials are considered agency action.  \\r<br/> <br/>If two federal agencies are mentioned (e.g., INS and BIA), the one whose action more directly bears on the dispute will appear; otherwise the agency that acted more recently.  If a state and federal agency are mentioned, the federal agency will appear.\\r<br/> <br/>Excluded from entry in this variable are:  \\r<br/><ul> <br/><li>A \"challenge\" to an unapplied agency rule, regulation, etc.\\r<br/>A request for an injunction or a declaratory judgment against agency action which, though anticipated, has not yet occurred. \\r<br/> <br/></li><li>A mere request for an agency to take action when there is no evidence that the agency did so. \\r<br/> <br/></li><li>Agency or official action to enforce criminal law. \\r<br/>The hiring and firing of political appointees or the procedures whereby public officials are appointed to office.\\r<br/> <br/></li><li>Attorney general preclearance actions pertaining to voting.\\r<br/>Filing fees or nominating petitions required for access to the ballot. \\r<br/> <br/></li><li>Actions of courts martial.  \\r<br/> <br/></li><li>Land condemnation suits and quiet title actions instituted in a court. \\r<br/> <br/></li><li>Federally funded private nonprofit organizations.\\r<br/></li></ul> <br/> <br/>Nite that the following list of agencies amy also be found as a petitoner or respondent variable.\\t\\t\\t\\t\\t\\t\\t\\t\\t'),\n",
       "  ('\\n', 'div class=\"footer\">\\xc2\\xa0</div>')],\n",
       " 'adminActionState': [('\\n',\n",
       "   'dministrative action may be either state or federal. If administrative action was taken by a state or a subdivision thereof, this variable identifies the state. See adminAction for federal agencies and for the coding rules.\\r<br/> <br/>When a state agency or official acts as an agent of a federal agency, it is identified as such.\\t\\t\\t\\t\\t\\t\\t\\t\\t'),\n",
       "  ('\\n', 'div class=\"footer\">\\xc2\\xa0</div>')],\n",
       " 'authorityDecision1': [('\\n',\n",
       "   'his variable and the next one (authorityDecision2) specify the bases on which the Supreme Court rested its decision with regard to each legal provision that the Court considered in the case (see variable lawType).\\r<br/> <br/>Neither of them lends itself to objectivity.  Many cases arguably rest on more than two bases for decision. Given \\r<br/>that the Court\\'s citation of its precedents also qualifies as a common law decision and that most every case can be considered as at least partially based thereon, common law is the default basis for the Court\\'s decisions.  With the exception of decrees and brief non-orally argued decisions you may safely add common law to those cases lacking a second basis for decision.      \\r<br/> <br/>Because one of these bases commonly occurs conjoined with another, the interpretation of the substantive provisions of a federal statute and the Supreme Court\\'s exercise of its supervisory power over the lower federal courts; two separate variables (authorityDecision1, authorityDecision2) follow.  The coding is the same in both. In the foregoing example, the first variable will contain a \"4,\" the second a \"3.\"  In a case involving congressional acquiescence to longstanding administrative construction of a statute, these variables should appear as \"5\" and \"4.\"  If two bases are identified, and if one is more heavily emphasized, it should appear in the first of the two variables.\\r<br/> <br/>Considerable congruence should obtain between the entry in these variables and the code that appears in the lawType variable.  Thus, if a constitutional provision appears in the lawType variable, a \"1\" or a \"2\" will typically appear in either authorityDecision1 or authorityDecision2.  Similarly, if lawType displays a statute, either authorityDecision1 or authorityDecision2 will likely show a \"4.\"   \\r<br/> <br/>A common exception is where the Court determines the constitutionality of a federal statute, or where judge-made rules are applied to determine liability under various federal statutes, including civil rights acts (e.g., Pulliam v. Allen, 466 U.S. 522), or the propriety of the federal courts\\' use of state statutes of limitations to adjudicate federal statutory claims (e.g., Burnett v. Grattan, 468 U.S. 42).\\r<br/> <br/>The decision rules governing each of the authority for decision codes are as follows:\\r<br/> <br/>For a code of 1: The majority determined the constitutionality of some action taken by some unit or official of the federal government, including an interstate compact. \\r<br/> <br/>Enter a \"1\" if 139 appears in the lawSupp variable. \\r<br/> <br/>Enter a \"1\" if 111 appears in the lawSupp variable. \\r<br/> <br/>For a code of 2: Did the majority determine the constitutionality of some action taken by some unit or official of a state or local government?  If so, enter a \"2.\" \\r<br/> <br/>For a code of 3: If the rules governing codes \"1-2,\" \"4-7\" are answered negatively or do not apply, enter a \"3.\"  A \"3,\" then, serves as the residual code for these variables.  \\r<br/> <br/>Enter a \"3\" if 508 appears in the lawSupp variable. \\r<br/> <br/>Non-statutorily based Judicial Power topics in the issue variable generally warrant a \"3.\" \\r<br/> <br/>Most cases arising under the Court\\'s original jurisdiction should receive a \"3.\" \\r<br/> <br/>All cases containing a \"4\" in the type of decision variable = 3. \\r<br/> <br/>Enter a \"3\" in cases in which the Court denied or dismissed the petition for review or where the decision of a lower court is affirmed by a tie vote. \\r<br/> <br/>For a code of 4: Did the majority interpret a federal statute, treaty, or court rule?  If so, enter a \"4.\" \\r<br/> <br/>Enter a \"4\" rather than a \"3\" if the Court interprets a federal statute governing the powers or jurisdiction of a federal court.  In other words, a statutory basis for a court\\'s exercise of power or jurisdiction does not require that a \"3\" supplement a \"4\";  the latter alone suffices.  \\r<br/> <br/>Enter a \"4\" rather than a \"2\" where the Court construes a state law as incompatible with a federal law. \\r<br/> <br/>Do not enter only a \"4\" where an administrative agency or official acts \"pursuant to\" a statute.  All agency action is purportedly done pursuant to legislative authorization of one sort or another.  A \"4\" may be coupled to a \"5\" (see below) only if the Court interprets the statute to determine if administrative action is proper. \\r<br/> <br/>In workers\\' compensation litigation involving statutory interpretation and, in addition, a discussion of jury determination and/or the sufficiency of the evidence, enter either a \"4\" and a \"3\" or a \"3\" and a \"4.\"  If no statute is identified in the syllabus, only enter a \"3.\" \\r<br/> <br/>For a code of 5: Did the majority treats federal administrative action in arriving at its decision?  If so, enter a \"5.\" \\r<br/> <br/>Enter a \"5\\' and a \"4,\" but not a \"5\" alone, where an administrative official interprets a federal statute.  \\r<br/> <br/>Enter a \"5\" if the issue = 90120. \\r<br/> <br/>For a code of 6: Did the majority say in approximately so many words that under its diversity jurisdiction it is interpreting state law?  If so, enter a \"6.\" \\r<br/> <br/>For a code of 7: Did the majority indicate that it used a judge-made \"doctrine\" or \"rule?\"  If so, enter a \"7.\"  Where such is used in conjunction with a federal law or enacted rule, a \"7\" and \"4\" should appear in the two variables of this record.\\r<br/> <br/>Enter a \"7\" if the Court without more merely specifies the disposition the Court has made of the case and cites one or more of its own previously decided cases;  but enter a \"3\" if the citation is qualified by the word, \"see.\" \\r<br/> <br/>Enter a \"7\" if the case concerns admiralty or maritime law, or some other aspect of the law of nations other than a treaty, which qualifies as a \"4.\"\\r<br/> <br/>Enter a \"7\" if the case concerns the retroactive application of a constitutional provision or a previous decision of the Court. \\r<br/> <br/>Enter a \"7\" if the case concerns an exclusionary rule, the harmless error rule (though not the statute), the abstention doctrine, comity, res judicata, or collateral estoppel.  Note that some of these, especially comity issues, likely warrant an entry in both authorityDecision variables: a \"7\" as well as a \"3.\" \\r<br/> <br/>Enter a \"7\" if the case concerns a \"rule\" or \"doctrine\" that is not specified as related to or connected with a constitutional or statutory provision (e.g., 376 U.S. 398).\\t\\t\\t\\t\\t\\t\\t\\t\\t'),\n",
       "  ('\\n', 'div class=\"footer\">\\xc2\\xa0</div>')],\n",
       " 'authorityDecision2': [('\\n',\n",
       "   'ee variable Authority for Decision 1 (authorityDecision1).\\t\\t\\t\\t\\t\\t\\t\\t\\t'),\n",
       "  ('\\n', 'div class=\"footer\">\\xc2\\xa0</div>')],\n",
       " 'caseDisposition': [('\\n',\n",
       "   'he treatment the Supreme Court accorded the court whose decision it reviewed is contained in this variable;  e.g., affirmed, vacated, reversed and remanded, etc.  The values here are the same as those for lcDisposition (how the court whose decision the Supreme Court reviewed disposed of the case). For original jurisdiction cases, this variable will be empty unless the Court\\'s disposition falls under 1 or 9 below (stay, petition, or motion granted; petition denied or appeal dismissed). For cases in which the Court granted a motion to dismiss, caseDisposition is coded as 9 (petition denied or appeal dismissed). There is \"no disposition\" if the Court denied a motion to dismiss.   \\r<br/> <br/>The information relevant to this variable may be found near the end of the summary that begins on the title page of each case, or preferably at the very end of the opinion of the Court.\\r<br/> <br/>As in the lcDisposition variable, the value label pertaining to the specific language used by the Court is entered.  If incongruence between the Court\\'s language and the above codes occurs, consult variable caseDispositionUnusual.\\r<br/> <br/>In cases containing multiple docket numbers, not every docket number will necessarily receive the same disposition.  Hence, in focusing on the outcome of the Court\\'s decisions, users might want to consider the datasets in which cases are organized by docket rather than citation.\\r<br/> <br/>Note for users of the Justice Centered Database: The entry in this variable governs whether the individual justices voted with the majority or in dissent.\\t\\t\\t\\t\\t\\t\\t\\t\\t'),\n",
       "  ('\\n', 'div class=\"footer\">\\xc2\\xa0</div>')],\n",
       " 'caseDispositionUnusual': [('\\n',\n",
       "   'n entry (1) will appear in this variable to signify that the Court made an unusual disposition of the cited case which does not match the coding scheme of the preceding variable.  The disposition that appears closest to the unusual one made by the Court should be selected for inclusion in the preceding variable, caseDisposition.\\t\\t\\t\\t\\t\\t\\t\\t\\t'),\n",
       "  ('\\n', 'div class=\"footer\">\\xc2\\xa0</div>')],\n",
       " 'caseId': [('\\n',\n",
       "   'his is the first of four unique internal identification numbers. \\r<br/> <br/>The first four digits are the term. The next four are the case within the term (starting at 001 and counting up).\\t\\t\\t\\t\\t\\t\\t\\t\\t'),\n",
       "  ('\\n', 'div class=\"footer\">\\xc2\\xa0</div>')],\n",
       " 'caseIssuesId': [('\\n',\n",
       "   'his is the third of four unique internal identification numbers. \\r<br/> <br/>The first four digits are the term. The next four are the case within the term (starting at 001 and counting up). The next two are the number of dockets consolidated under the U.S. Reports citation (starting at 01 and counting up).   The last two are the number of issues and legal provisions within the case (starting at 01 and counting up).\\t\\t\\t\\t\\t\\t\\t\\t\\t'),\n",
       "  ('\\n', 'div class=\"footer\">\\xc2\\xa0</div>')],\n",
       " 'caseName': [('\\n',\n",
       "   \"his is the name of the case. We derived the post-heritage names from WESTLAW and then did a bit of tidying so that they appear in a consistent format. With the exception of various Latin phrases and abbreviations, all words are now in upper case. \\r<br/> <br/>The names of the heritage cases are taken from the LAWYERS' EDITION of the Reports.   If you are searching for a particular case and do not find it, it likely results because of a variant name.  The citation of the case should, however, enable you to find the desired case.\\r<br/> <br/>Note that case name is tied to the docket number. In other words, if multiple cases appear under the same citation, the case name will be that of the particular case, not the lead case.\\t\\t\\t\\t\\t\\t\\t\\t\\t\"),\n",
       "  ('\\n', 'div class=\"footer\">\\xc2\\xa0</div>')],\n",
       " 'caseOrigin': [('\\n',\n",
       "   \"he focus of this variable is the court in which the case originated, not the administrative agency (see adminAction and adminActionState). For this reason a number of cases show a state or federal appellate court as the one in which the case originated rather than a court of first instance (trial court).  This variable has no entry for cases that originated in the United States Supreme Court. Note too that caseOrigin does not identify the name of the state if the case originated in a state court. For the state name, see variable caseOriginState.  \\r<br/> <br/>The courts in the District of Columbia present a special case in part because of their complex history. (The Federal Judicial Center's website provides a succinct description, at: http://www.fjc.gov/history/home.nsf/page/courts_special_dc.html). Below there is a separate code for the Supreme Court of the District of Columbia, which at times had the powers of a circuit court and at others was a trial court.  The current federal courts, the U.S. District Court for the District of Columbia (previously known as the Supreme Court of the District of Columbia) and the District Court for the District of Columbia) and the U.S. Court of Appeals for the District of Columbia Circuit (a successor to the Court of Appeals for the District of Columbia) also, of course, have their own separate codes. Local trial (including today's superior court) and appellate courts (including today's District of Columbia Court of Appeals, the highest court in the District of Columbia) are treated as state courts here and as District of Columbia under the caseOriginState variable.\\r<br/> <br/>Other general coding notes:\\r<br/> <br/><li>Cases that arise on a petition of habeas corpus and those removed to the federal courts from a state court are defined as originating in the federal, rather than a state, court system.\\r<br/> <br/></li><li>This variable has no entry if the case arose under the Supreme Court's original jurisdiction and in other proceedings with which no other court was involved.\\r<br/> <br/></li><li>A petition for a writ of habeas corpus begins in the federal district court, not the state trial court.    \\r<br/> <br/></li><li>Cases removed to a federal court originate there. \\r<br/> <br/> <br/>Coding notes with special relevance to the legacy database:\\r<br/> <br/></li><li>The originating (caseOrigin) and source (caseSource) court is often the same because many cases went from trial directly to the Supreme Court. For these cases, lcDisposition (how the source court treated the originating court\\xc2\\x92s decision) will be empty. An exception is the Supreme Court of the District of Columbia, which had a trial and general session. See, e.g., Thaw v. Ritchie, 136 U.S. 519 (1890), in which the court in general term reversed the trial court. \\r<br/> <br/></li><li>We identify courts based on the naming conventions of the day. In the legacy data, users will see that many source and origin courts are \\xc2\\x93United States Circuit Court for the ___ District of ___. Because of the plethora of districts (and changes in districts), we do not, however, differentiate among districts in a state. E.g., New York U.S. Circuit for (all) District(s) of New York includes all the districts in New York. For concise histories of the circuit and district courts, see the Federal Judicial Center\\xc2\\x92s website at: http://www.fjc.gov/history/home.nsf/page/index.html.\\r<br/> <br/> <br/>Also see source of case (caseSource).\\t\\t\\t\\t\\t\\t\\t\\t\\t\"),\n",
       "  ('\\n', 'div class=\"footer\">\\xc2\\xa0</div>')],\n",
       " 'caseOriginState': [('\\n',\n",
       "   'f the case originated in a state court, this variable identifies the state. For more details, see the variable caseOrigin.\\t\\t\\t\\t\\t\\t\\t\\t\\t'),\n",
       "  ('\\n', 'div class=\"footer\">\\xc2\\xa0</div>')],\n",
       " 'caseSource': [('\\n',\n",
       "   \"his variable identifies the court whose decision the Supreme Court reviewed.   If the case originated in the same court whose decision the Supreme Court reviewed, the entry in the caseOrigin should be the same as here.  This variable has no entry if the case arose under the Supreme Court's original jurisdiction.\\r<br/> <br/>If caseSource is a state court, the value of this variable will be 300 (State Supreme Court), 302 (State Appellate Court) or 303 (State Trial Court). Variable caseSourceState identifies the name of the state.\\t\\t\\t\\t\\t\\t\\t\\t\\t\"),\n",
       "  ('\\n', 'div class=\"footer\">\\xc2\\xa0</div>')],\n",
       " 'caseSourceState': [('\\n',\n",
       "   'f the source of the case (i.e., the court whose decision the Supreme Court reviewed) is a state court, this variable identifies the state. See also Source of Case (caseSource).\\t\\t\\t\\t\\t\\t\\t\\t\\t'),\n",
       "  ('\\n', 'div class=\"footer\">\\xc2\\xa0</div>')],\n",
       " 'certReason': [('\\n',\n",
       "   'his variable provides the reason, if any, that the Court gives for granting the petition for certiorari. If the case did not arise on certiorari, this variable will be so coded  even if the  Court provides a reason why it agreed to hear the case.  The Court, however, rarely provides a reason for taking jurisdiction by writs other than certiorari.\\t\\t\\t\\t\\t\\t\\t\\t\\t'),\n",
       "  ('\\n', 'div class=\"footer\">\\xc2\\xa0</div>')],\n",
       " 'chief': [('\\n',\n",
       "   'his variable identifies the chief justice during whose tenure the case was decided.\\t\\t\\t\\t\\t\\t\\t\\t\\t'),\n",
       "  ('\\n', 'div class=\"footer\">\\xc2\\xa0</div>')],\n",
       " 'dateArgument': [('\\n',\n",
       "   'his variable contains the day, month, and year that the case was orally argued before the Court. dateArgument has no entry for cases that were not orally argued. For volumes 2-107 of the U.S. Reports (1791-1882), we used Dates of Supreme Court Decisions and Arguments (http://www.supremecourt.gov/opinions/datesofdecisions.pdf), prepared by Anne Ashmore of the Library of the Supreme Court, because many of the early reports do not list the date of argument.\\r<br/> <br/> <br/>On some occasions, oral argument extended over more than a single day.  In such cases, only the first date is specified.\\t\\t\\t\\t\\t\\t\\t\\t\\t'),\n",
       "  ('\\n', 'div class=\"footer\">\\xc2\\xa0</div>')],\n",
       " 'dateDecision': [('\\n',\n",
       "   'his variable contains the year, month, and day that the Court announced its decision in the case. For volumes 2-107 of the U.S. Reports (1791-1882), we relied on Dates of Supreme Court Decisions and Arguments (http://www.supremecourt.gov/opinions/datesofdecisions.pdf), prepared by Anne Ashmore of the Library of the Supreme Court, because many early reporters do not list the date of decision.\\t\\t\\t\\t\\t\\t\\t\\t\\t'),\n",
       "  ('\\n', 'div class=\"footer\">\\xc2\\xa0</div>')],\n",
       " 'dateRearg': [('\\n',\n",
       "   'n those infrequent occasions when the Court orders that a case be reargued, this variable specifies the date of such argument following the same day, month, and year sequence used in the preceding variable (dateArgue).\\t\\t\\t\\t\\t\\t\\t\\t\\t'),\n",
       "  ('\\n', 'div class=\"footer\">\\xc2\\xa0</div>')],\n",
       " 'decisionDirection': [('\\n',\n",
       "   'n order to determine whether the Court supports or opposes the issue to which the case pertains, this variable codes the ideological \"direction\" of the decision. \\r<br/> <br/>Specification of direction comports with conventional usage for the most part except for the interstate relations, private law, and the miscellaneous issues.  \"Unspecifiable\" has been entered either because the issue does not lend itself to a liberal or conservative description (e.g., a  boundary dispute between two states, real property, wills and estates), or because no convention exists as to which is the liberal side and which is the conservative side (e.g., the legislative veto). This variable will also contain \"unspecifiable\" where one state sues another under the original jurisdiction of the Supreme Court and where parties or issue cannot be determined because of a tied vote or lack of information.\\r<br/> <br/>Note especially that the direction (pro- or anti-liability)of the three liability variables (80060, 80070, and 80080) depend on the disposition the Court made of the case, and which party won or lost. For 80070 -- non-governmental liability - a liberal vote and case decision support the injured person, organiation, or thing (res).  For 80060 - governmental liability - a vote and case outcome that supports government is invariably defined as liberal. Note that if the injured entity is the other party in the case, said party loses, by definition.  On the other hand, of course, if the injured entity wins, then of necessity the government loses. Where liability is assigned to both plaintiff and respondent, direction is considered indetermnable.\\r<br/> <br/>For purposes of the governmental liability issue, government includes state and local governmental entities, foreign governments, and governmentally owned property.  In the rare instance of a conflict between governmental body and an injured person, organiation, or thing the governmental outcome controls directionality. Most such conflicts, however, locate in other issues; e.g., attorneys\\' and governemtnal employees\\' compensation or fees, and military personnel and veterans.  \\r<br/> <br/>It bears emphasizing that the entry for directionality is determined by reference to the issue variable.  If you are using the Case Centered Dataset organized by split votes, it is entirely possible for a citation to relate to a second issue whose direction is opposite that of the first issue.  For example, in Air Pollution Variance Board of the State of Colorado v. Western Alfalfa Corporation, 416 U.S. 861 (1974), the Court decided that the Fourth Amendment  was not violated by a health inspector\\'s warrantless entry onto the property of a business to inspect smoke pollution. The first issue (search and seizure) is coded conservative; the second issue (natural resources) is coded liberal.\\r<br/> <br/>In order to determine whether an outcome is liberal (=2) or conservative (=1), the following scheme is employed. \\r<br/> <br/>1. In the context of issues pertaining to criminal procedure, civil rights, First Amendment, due process, privacy, and attorneys, liberal (2)=\\r<br/><ul> <br/><li>pro-person accused or convicted of crime, or denied a  jury trial \\r<br/></li><li>pro-civil liberties or civil rights claimant, especially those exercising less protected civil rights (e.g., homosexuality) \\r<br/></li><li>pro-child or juvenile \\r<br/></li><li>pro-indigent \\r<br/></li><li>pro-Indian \\r<br/></li><li>pro-affirmative action \\r<br/></li><li>pro-neutrality in establishment clause cases  \\r<br/></li><li>pro-female in abortion        \\r<br/></li><li>pro-underdog \\r<br/></li><li>anti-slavery\\r<br/></li><li>incorporation of foreign territories\\r<br/></li><li>anti-government in the context of due process, except for takings clause cases where a pro-government, anti-owner vote is considered liberal except in criminal forfeiture cases or those where the taking is pro-business\\r<br/></li><li>violation of due process by exercising jurisdiction over nonresident\\r<br/></li><li>pro-attorney or governmental official in non-liability cases\\r<br/></li><li>pro-accountability and/or anti-corruption in campaign spending\\r<br/></li><li>pro-privacy vis-a-vis the 1st Amendment where the privacy invaded is that of mental incompetents\\r<br/></li><li>pro-disclosure in Freedom of Information Act issues except for employment and  student records \\r<br/></li></ul> <br/>conservative (1)=the reverse of above\\r<br/> <br/>2. In the context of issues pertaining to unions and economic activity, liberal (2)=        \\r<br/><ul> <br/><li>pro-union except in union antitrust where liberal = pro-competition \\r<br/></li><li>pro-government\\r<br/></li><li>anti-business \\r<br/></li><li>anti-employer \\r<br/></li><li>pro-competition  \\r<br/></li><li>pro-injured person \\r<br/></li><li>pro-indigent \\r<br/></li><li>pro-small business vis-a-vis large business\\r<br/></li><li>pro-state/anti-business in state tax cases     \\r<br/></li><li>pro-debtor \\r<br/></li><li>pro-bankrupt \\r<br/></li><li>pro-Indian \\r<br/></li><li>pro-environmental protection \\r<br/></li><li>pro-economic underdog \\r<br/></li><li>pro-consumer \\r<br/></li><li>pro-accountability in governmental corruption \\r<br/></li><li>pro-original grantee, purchaser, or occupant in state and territorial land claims\\r<br/></li><li>anti-union member or employee vis-a-vis union           \\r<br/></li><li>anti-union in union antitrust \\r<br/></li><li>anti-union in union or closed shop\\r<br/></li><li>pro-trial in arbitration \\r<br/> <br/>conservative (1)= reverse of above \\r<br/> <br/>3. In the context of issues pertaining to judicial power, liberal (2)=  \\r<br/><ul> <br/><li>pro-exercise of judicial power \\r<br/></li><li>pro-judicial \"activism\" \\r<br/></li><li>pro-judicial review of administrative action \\r<br/></li></ul> <br/>conservative (1)=reverse of above \\r<br/> <br/>4. In the context of issues pertaining to federalism, liberal (2)=   \\r<br/><ul> <br/><li>pro-federal power \\r<br/></li><li>pro-executive power in executive/congressional disputes\\r<br/></li><li>anti-state \\r<br/></li></ul> <br/> conservative (1)=reverse of above \\r<br/> <br/>5. In the context of issues pertaining to federal taxation, liberal (2)= pro-United States; conservative (1)= pro-taxpayer \\r<br/> <br/>6. In interstate relations and private law issues, unspecifiable (3) for all such cases.\\r<br/> <br/>7. In miscellaneous, incorporation of foreign territories and executive authority vis-a-vis congress or the states or judcial authority vis-a-vis state or federal legislative authority = (2); legislative veto = (1).\\t\\t\\t\\t\\t\\t\\t\\t\\t'),\n",
       "  ('\\n', 'div class=\"footer\">\\xc2\\xa0</div>')],\n",
       " 'decisionDirectionDissent': [('\\n',\n",
       "   \"nce in a great while the majority as well as the dissenting opinion in a case will both support or, conversely, oppose the issue to which the case pertains.  For example, the majority and the dissent may both assert that the rights of a person accused of crime have been violated.  The only difference between them is that the majority votes to reverse the accused's conviction and remand the case for a new trial, while the dissent holds that the accused's conviction should be reversed, period.  In such cases, the entry in the decisionDirection variable should be determined relative to whether the majority or the dissent more substantially supported the issue to which the case pertains, and an entry should appear in this variable.  In the foregoing example, the direction of decision variable (decisionDirection) should show a 0(conservative) because the majority provided the person accused of crime with less relief than does the dissent, and direction based on dissent should show a 1 (liberal)  The person accused of crime actually won the case, but won less of a victory than the dissent would have provided.\\t\\t\\t\\t\\t\\t\\t\\t\\t\"),\n",
       "  ('\\n', 'div class=\"footer\">\\xc2\\xa0</div>')],\n",
       " 'decisionType': [('\\n',\n",
       "   'ecisionType=1: Cases the Court decides by a signed opinion. Note that for the 1946 terms to present, decisionType=1 cases are those that the Court decided by a signed opinion and in which it heard oral arguments. This is true for the 1791-1945 terms too. When both these conditions are met, the case is coded as decisionType=1. But the second condition\\xc2\\x97oral argument\\xc2\\x97is no longer necessary for a decisionType=1 classification. That\\'s because the dates of oral argument were not reported for many cases that were likely argued (if only because the reporter noted, \"After argument\\xc2\\x85\"). We are working to locate these (many) missing dates and would appreciate any leads from users.\\r<br/> <br/>Jettisoning the oral argument requirement also means that there are many cases that were probably not orally argued but that are included as decisionType=1 cases because a justice is listed as delivering the opinion of the Court. For users that want to examine cases we know for sure were orally argued, we suggest selecting on dateArgument\\xc2\\x97with the important caveat that you will miss cases that were likely argued but are lacking a date.\\r<br/> <br/>decisionType=2: Cases decided with an opinion but without hearing oral argument; i.e., per curiam opinions.  In the legacy data, decisionType2 cases include cases in which the Court (or reporter) did not use the term \"per curiam\" but rather \"The Court [said],\" \"By the Court,\" or \"By direction of the Court.\" If these cases identify the author of the opinion, we code an opinion writer. \\r<br/> <br/>decisionType=4: Decrees.  This infrequent type of decision usually arises under the Court\\'s original jurisdiction and involves state boundary disputes.  The justices will typically appoint a special master to take testimony and render a report, the bulk of which generally becomes the Court\\'s decision.  The presence of the label, \"decree,\" distinguishes this type of decision from the others.\\r<br/> <br/>decisionType=5: Cases decided by an equally divided vote.  When a justice fails to participate in a case or when the Court has a vacancy, the participating justices may cast a tie vote.  In such cases, the Reports merely state that \"the judgment is affirmed by an equally divided vote\" and the name of any nonparticipating justice(s).  Their effect is to uphold the decision of the court whose decision the Supreme Court reviewed.  \\r<br/> <br/>decisionType=6: This decision type is a variant of decisionType=1 cases.  It differs from type 1 in that no individual justice\\'s name appears as author of the Court\\'s opinion.  Instead, these unsigned orally argued cases are labeled as decided \"per curiam.\"  The difference between this type and decisionType=2 is the occurrence of oral argument in the former but not the latter.  In both types the opinion of the Court is unsigned.  \\r<br/> <br/>decisionType=7:  Judgments of the Court.  This decision type is also a variant of the formally decided cases.  It differs from type 1 in that less than a majority of the participating justices agree with the opinion produced by the justice assigned to write the Court\\'s opinion.  Except for those interested only in the authors of the opinions of the Court, decisionType=7 should be included in analyses of the Court\\'s formally decided cases.  See also the notes under decisionType=1. \\r<br/> <br/>The database does not contain all of the non-orally argued per curiam decisions (decisionType=2).  The Reports contain large numbers of brief, non-orally argued per curiam decisions. The database includes only those for which the Court has provided a summary, as well as those without a summary in which one or more of the justices wrote an opinion. \\r<br/> <br/>Along similar lines, the database also does not contain memorandum decisions or \"back-of-the-book\" U.S. Reports cases with the exceptions of, first, volumes 131 and 154. In these volumes, the reporters included (in the Appendices) cases previously omitted or \"not hitherto reported in full.\" Second, we are trying to include all orally argued cases in the back-of-the-book (the Database already contains \"front-of-the-book\" orally argued cases). All decisionType=5 orally argued cases, even if in the back of the book, already have been entered. We are in the process of adding decisionType=6 back-of-the-book cases. In the vast majority of these, the Court dismissed the case with a one-line sentence.\\t\\t\\t\\t\\t\\t\\t\\t\\t'),\n",
       "  ('\\n', 'div class=\"footer\">\\xc2\\xa0</div>')],\n",
       " 'declarationUncon': [('\\n',\n",
       "   \"n entry in this variable indicates that the Court  either declared unconstitutional an act of Congress; a state or territorial statute, regulation, or constitutional provision; or a municipal or other local ordinance. In coding this variable we consulted several sources. Most helpful was the Congressional Research Service's Constitution of the United States of America: Analysis and Interpretation (CONAN) (https://www.congress.gov/constitution-annotated) and the appendix to volume 131 of the U.S. Reports.\\r<br/> <br/>Note that the Court need not necessarily specify in so many words that a law has been declared unconstitutional. That commonly occurred in legacy decisions (pre-1946); e.g., Wllcox v. Consolidted Gas Co. of New York, 53 L Ed 382 (1909).\\r<br/> <br/>The summary frequently, though not invariably, will indicate such action in its statement of the Court's holdings. Hence, where such action may have occurred, it may be necessary to read carefully the opinion of the Court to determine whether an entry should be made in this variable. \\r<br/> <br/>Where federal law pre-empts a state statute or a local ordinance, unconstitutionality does not result unless the Court's opinion so states.  Nor are administrative regulations the subject of declarations of unconstitutionality unless the declaration also applies to the law on which it is based.  Also excluded are federal or state court-made rules; e.g., Virginia Supreme Court v. Friedman, 487 U.S. 59 (1988).\\t\\t\\t\\t\\t\\t\\t\\t\\t\"),\n",
       "  ('\\n', 'div class=\"footer\">\\xc2\\xa0</div>')],\n",
       " 'direction': [('\\n',\n",
       "   'his variable indicates whether the justice cast a liberal or conservative vote. For the definitions of liberal and conservative, see variable decisionDirection. A missing value code indicates that the decisionDirection was unspecifiable or that that justice did not participate.\\r<br/> <br/>This variable appears in the Justice Centered Datasets only.\\t\\t\\t\\t\\t\\t\\t\\t\\t'),\n",
       "  ('\\n', 'div class=\"footer\">\\xc2\\xa0</div>')],\n",
       " 'docket': [('\\n',\n",
       "   'his variable contains the docket number that the Supreme Court has assigned to the case.  Prior to the first two terms of the Burger Court (1969-1970), different cases coming to the Court in different terms could have the same docket number. The Court eliminated the possibility of such duplication by including the last two digits of the appropriate term before the assigned docket number. Since the 1971 Term, the Court has also operated with a single docket.  Cases filed pursuant to the Court\\'s appellate jurisdiction have a two-digit number corresponding to the term in which they were filed, followed by a hyphen and a number varying from one to five digits.  Cases invoking the Court\\'s original jurisdiction have a number followed by the abbreviation, \"Orig.\" \\r<br/> <br/>During much of the legacy period, docket number do not exist in the Reports; a handful of more modern cases also lack a docket number. For these, the docket variable has no entry.\\r<br/> <br/>For administrative  purposes, the Court uses the letters, \"A,\" \"D,\" and \"S,\" in place of the term year to identify applications (\"A\") for stays or  bail, proceedings of disbarment or discipline of attorneys (\"D\"),  and matters being held indefinitely for one reason or another  (\"S\").  These occur infrequently and then almost always in the Court\\'s summary orders at the back of each volume of the U.S.Reports.  The database excludes these cases, the overwhelming majority of which are denials of petition for certiorari.\\r<br/> <br/>Note that the Court can consolidate multiple petitions--each with its own docket number--under one U.S. cite. If you are interested in only the first (lead) case, use the database organized by Supreme Court citation. If you are interested in all the cases consolidated under one cite, select the data organized by docket. Multiple docket numbers under a single case citation almost always contain the same issue as the lead case and differ only in the parties to the case and its origin and source\\r<br/> <br/>For the first release of the legacy dataset, only data by citation are available.  Users interested in the Vinson Court forward can still download or analyze the data by citation or docket.\\t\\t\\t\\t\\t\\t\\t\\t\\t'),\n",
       "  ('\\n', 'div class=\"footer\">\\xc2\\xa0</div>')],\n",
       " 'docketId': [('\\n',\n",
       "   'his is the second of four unique internal identification numbers. \\r<br/> <br/>The first four digits are the term. The next four are the case within the term (starting at 001 and counting up). The last two are the number of dockets consolidated under the U.S. Reports citation (starting at 01 and counting up).\\t\\t\\t\\t\\t\\t\\t\\t\\t'),\n",
       "  ('\\n', 'div class=\"footer\">\\xc2\\xa0</div>')],\n",
       " 'firstAgreement': [('\\n',\n",
       "   'his variable (and Second Agreement) denotes whether the justice agreed with a dissent or concurrence written by another justice (indicated by the justice\\'s id number). Two agreements are coded---one in this variable and the second in secondAgreement. For more details, see the opinion variable.\\r<br/> <br/>This variable appears in the Justice Centered Datasets only.<br/><br/><i>Note: This variable relies on the Justices ID for its values. For a more detailed description of these identifiers, please visit the <a href=\"documentation.php?var=justice\">detail page for the Justices variable</a>.  Note that the justice normalizations changed with the SCDB_2012_01 release of the database.<i><br/>'),\n",
       "  ('\\n', 'div class=\"footer\">\\xc2\\xa0</div>')],\n",
       " 'issue': [('\\n',\n",
       "   \"his variable identifies the issue for each decision. Although criteria for the identification of issues are hard to articulate, the focus here is on the subject matter of the controversy (e.g., sex discrimination, state tax, affirmative action) rather than its legal basis (e.g., the equal protection clause) (see the variable lawType).\\r<br/> <br/>This variable and its counterpart, issue area, cover the waterfront of the Court's decisions.  However, neither of them provide the specificity that users commonly want.  The three legal provision variables reduce the generic quality of issue and issue area to a more specific level.  They are discussed in the first of the legal provisions below.   \\r<br/> <br/>Because the database extends over four centuries of the Court's decisions during which time the Court's jurisdiction changed drastically, the description of many specific variables does not provide a good fit.  Thus, for example, 'debtors' rights,' which locates in the civil rights issue area, contains many nineteenth century cases that have little, if anything, to do with civil rights as understood today.  Nor do a vast majority of early takings cases have any reference to due process, and many of the early criminal procedure cases don't involve crimes at all. Conversely, to have lumped all railroad cases, bar none, into one variable would have erased the many types of situations in which nineteenth and early twentieth century railroads found themselves. \\r<br/> <br/>This situation results because the original (Spaeth) database began with the Warren Court, followed by its predecessor, the Vinson Court. We made a decision to retain the twentieth century listing and apply it as best we could to the eighteenth and nineteenth century decisions.  We found it possible with the addition of only the seven common law law decisions (variables 140010-140070), plus a couple of others.  Obviously, this decision produced definitonal stretching.  Users, of course, may redefine issues to suit themselves \\r<br/> <br/>This variable identifies issues on the basis of the Court's own statements as to what the case is about.  The objective is to categorize the case from a public policy standpoint, a perspective that the legal basis for decision (lawType) commonly disregards.\\r<br/> <br/>A few issues pertain only to the heritage (legacy) cases; those decided between 1791 and 1946.  These include the private action category, typically common law issues: real property, personal property, contracts, evidence, civil procedure, wills and trusts, and commercial transactions. Others pertain to slavery, land claims (mostly state and territorial), executive authority vis-a-vis congress or the states, and incorporation of foreign territories.\\r<br/> <br/>Unlike the lawType variable where the number of legal provisions at issue has no preordained upper bound, each legal provision should generally not have more than a single issue applied to it. A second issue should apply only when a preference for one rather than the other cannot readily be made.  Of the many thousand records in the database, few have a legal basis for decision that applies to a second issue. (If you are interested in decisions with more than one issue or legal provision, use one of the datasets organized by issue/legal provision.)   \\r<br/> <br/>Because the database spans the entire four-century history of the Supreme Court, It is desirable that the list of modern issues be related to those of the eighteenth and nineteenth centuries.  Thus, in specifying the issue in a legacy case, the one that best accords with what today's Court would consider it to be is chosen. This produces a bit of tension, most all of which only requires a broadening of the scope of the relevant issues, rather than the creation of new time-specific ones.  Thus, although state and local governments were not bound to adhere to the provisions of the Bill of Rights until well after the passage of the Fourteenth Amendment, many cases did arise involving aspects of the First Amendment, search and seizure, notice and hearing, etc.  These are treated compatibly with the modern use of the relevant provision of the Bill of Rights. \\r<br/> <br/>The same rule applies to statutory issues, such as rules of procedure.  Although their legal provision is Supreme Court Rules, they are coded as issues of civil (90110) or criminal (10370) procedure even though they antedate the relevant Rules of Civil and Criminal Procedure.\\r<br/> <br/>Prize cases in which vessels on the high seas are captured and brought into American ports and the confiscation acts resulting from the Civil War and World War I are treated either as due process takings clause cases (40070) or as cases involving the jurisdiction of the federal courts (90320 or 90330) to decide the legality of the capture or confiscation.         \\r<br/> <br/>The variable codes 260 issues, each of which has an identifying number. They are ordered below by their larger issue area: criminal procedure (10010-10600), civil rights (20010-20410), First Amendment (30010-30020), due process (40010-40070), privacy (50010-50040), attorneys (60010-60040), unions (70010-70210), economic activity (80010-80350), judicial power (90010-90520), federalism (100010-100130), interstate relation (110010-110030), federal taxation (120010-120040), miscellaneous (130010-130020), and private law (140010-140080).  These comprise the codes for a separate variable, Issue Area, that is described immediately following this one.\\r<br/> <br/>The scope of these categories is as follows:  criminal procedure encompasses the rights of persons accused of crime, except for the due process rights of prisoners (issue 40040).  \\r<br/> <br/>Civil rights includes non-First Amendment freedom cases which pertain to classifications based on race (including American Indians), age, indigency, voting, residency, military or handicapped status, gender, and alienage.  Purists may wish to treat the military issues (20230, 20240, 20250) and Indian cases (20150, 20160) as economic activity, while others may wish to include the privacy category as a subset of civil rights.  \\r<br/> <br/>First Amendment encompasses the scope of this constitutional provision, but do note that not every case in the First Amendment group directly involves the interpretation and application of a provision of the First Amendment.  Some, for example, may only construe a precedent, or the reviewability of a claim based on the First Amendment, or the scope of an administrative rule or regulation that impacts the exercise of First Amendment freedoms.  In other words, not every record that displays a First Amendment issue will correspondingly display a provision of the First Amendment in its legal provision variable (lawType).\\r<br/> <br/>Due process is limited to non-criminal guarantees and, like First Amendment issues, need not show 207 (Fifth Amendment Due Process)  or 230 (Fourteenth Amendment Due Process) in the lawType variable.  Some of you may wish to include state court assertion of jurisdiction over nonresident defendants and the takings clause as part of judicial power and economic activity, respectively, rather than due process.  \\r<br/> <br/>The four issues comprising privacy may be treated as a subset of civil rights.  \\r<br/> <br/>Because of their peculiar role in the judicial process, a separate attorney category has been created, which also includes their compensation and licenses, along with trhose of governmental officials and employees.  You may wish to include these issues with economic activity, however.  \\r<br/> <br/>Unions encompass those issues involving labor union activity.  You may wish to redefine this category for yourself or combine it, in whole or in part, with economic activity.  \\r<br/> <br/>Economic activity is largely commercial and business related;  it includes tort actions  and employee actions vis-a-vis employers.  Issues 80140 (government corruption)and 80150 (zoning) are only tangential to the other issues located in economic activity.  \\r<br/> <br/>Judicial power concerns the exercise of the judiciary's own power.  To the extent that a number of these issues concern federal-state court relationships, you may wish to include them in the federalism category.  \\r<br/> <br/>Federalism pertains to conflicts and other relationships between the federal government and the states, except for those between the federal and state courts.  Interstate relations contain three types of disputes which occur between or among states.  \\r<br/> <br/>Federal taxation concerns the Internal Revenue Code and related statutes.  Miscellaneous contains three groups of cases that do not fit into any other category.  \\r<br/> <br/>Private law relates to disputes between private persons involving real and personal property, contracts, evidence, civil procedure, torts, wills and trusts, and commercial transactions.  Prior to the passage of the Judges' Bill of 1925 much -- arguably most -- of the Court's cases concerned such issues.  The Judges' Bill gave the Court control of its docket, as a result of which such cases have disappeared from the Court's docket in preference to litigation of more general applicability.\\r<br/> <br/>If interest lies in a particular issue that has a specific legal or constitutional component, comprehensive coverage may be insured by listing not only the issue(s) that bear thereon, but also the appropriate code(s) from the lawType variable.  Thus, if the right to counsel is the focus, issues 10120, 20320, and 20330 will fall within its scope, as will code 214 (Sixth Amendment Right to Counsel) from the lawType variable.  Also recognize that the party variables (petitioner,  petitionerState, respondent, \\r<br/>respondentState) may also help locate the cases of interest.\\r<br/> <br/>Note that jury instructions (10220) need not necessarily occur in the context of criminal action.  This is especially so in heritage cases.\\r<br/> <br/>Issue 80110 (state regulation of business) also includes that of local governments.  These are combined with state regulation because many heritage cases involve both.\\r<br/> <br/>Issue 90110 (federal rules of civil procedure) includes Supreme Court Rules, the Federal Rules of Evidence, the Federal Rules of Civil Procedure in civil litigation, Circuit Court Rules, state rules, and admiralty rules. \\r<br/> <br/>Natonal supremacy cases, in the context of federal-state conflicts (10050-100120)involve the general welfare, contract, supremacy, or interstate commerce causes, or the enforcement clause of the 14th Amendment.  These cases are distinguishable from the pre-empton cases (100020 abd 100030) because they have a constitutional basis for decision.\\r<br/> <br/>Note that the legal provision variable and the first five background variables may supplement specification of case issue.  Thus, for example, if you are interested in the huge mass of railroad cases generally that prevailed in the late nineteenth and early twentieth century decisions, case name will be of more help than the issues pertaining to railroad litigation.\\t\\t\\t\\t\\t\\t\\t\\t\\t\"),\n",
       "  ('\\n', 'div class=\"footer\">\\xc2\\xa0</div>')],\n",
       " 'issueArea': [('\\n',\n",
       "   \"his variable simply separates the issues identified in the preceding variable (issue) into the following larger categories: criminal procedure (issues 10010-10600), civil rights (issues 20010-20410), First Amendment (issues 30010-30020), due process (issues 40010-40070), privacy (issues 50010-50040), attorneys' or governmental officials' fees or compensation (issues 60010-60040), unions (issues 70010-70210), economic activity (issues 80010-80350), judicial power (issues 90010-90520), federalism (issues 100010-100130), interstate relation (issues 110010-110030), federal taxation (issues 120010-120040), miscellaneous (issues 130010-130020), and private law (issues 140010-140080). \\r<br/> <br/>The contents of these issue areas are both over- and under-specfied; especially those of largest size: criminal procedure, civil rights,and economic ativity. In the interests of precision, users focusing on this variable would be wise to specify the components of a specific issue area that their analyses include or exclude.  \\r<br/> <br/>Note that some of the issues in an issue area will have a distinctive direction at variance from the issue area's overal direction.  E.g., the liability variables 80060, 80070, and 80080. See decision direction.\\t\\t\\t\\t\\t\\t\\t\\t\\t\"),\n",
       "  ('\\n', 'div class=\"footer\">\\xc2\\xa0</div>')],\n",
       " 'jurisdiction': [('\\n',\n",
       "   'he Court uses a variety of means whereby it undertakes to consider cases that it has been petitioned to review.  These are listed below.  The most important ones are the writ of certiorari, the writ of appeal, and for legacy cases the writ of error, appeal, and certification.\\r<br/> <br/>A few notes are in order. First, there are handful of cases that fall into more than one category. Marbury v. Madison, 5 U.S. 137 (1803), for example, was an original jurisdiction and a mandamus case. We code these cases on the basis of the writ. So Marbury is a coded as mandamus, not original jurisdiction.\\r<br/> <br/>Second, some legacy cases are \"original\" motions or requests for the Court to take jurisdiction but were heard or filed in another court. See, for example, Ex parte Matthew Addy S.S. &amp; Commerce Corp., 256 U.S. 417 (1921), asking the Court to issue a writ of mandamus to a federal judge. Again, we do not code these as \"original\" jurisdiction cases but rather on the basis of the writ.\\t\\t\\t\\t\\t\\t\\t\\t\\t'),\n",
       "  ('\\n', 'div class=\"footer\">\\xc2\\xa0</div>')],\n",
       " 'justice': [('\\n',\n",
       "   'his variable provides a unique identification number for each of the justices.  Even though several justices served as both associate and chief justice they receive only one identification number.\\r<br/><br/>This variable appears in the Justice Centered Datasets only.<br/><br/>Some notes about the organization of the justice ids.<ol style=\"margin-top:-25px; padding-left:25px; margin-bottom:-25px;\"><br/><li>The numeric value on the left is the unique identifier. <br/></li><li>The shortened name to the right of the numeric (e.g. JJay) is for readability. Astute eyes will observe that these text descriptors are not always unique, as in the case of JRutledge (ids 2 and 9). The reason for this is id\\'s 2 and 9 reference the same individual. The source of the two ids is the justice served a split term. <br/></li><li>In situations where two different individuals would share a short name, the short descriptor will be incremented with a numeral on the end as in the case of JHalan1 (id 45) and JHarlan2 (id 91). These descriptors were made unique because they reference different individuals.</li></ol> <br/><br/><i>Please note that release SCDB_2012_01 saw a renormalization to the justice ids. This was to correct an exclusion of an early justice. Below you will find the current listing. The original variable assignments may be seen <a href=\"_media/scdbJusticesIdsLegacy.csv.zip\">here</a>. If you perform a search based on early database releases (prior to SCDB_2012_01) all justice references have been updated to ensure fidelity.</i><br/>'),\n",
       "  ('\\n', 'div class=\"footer\">\\xc2\\xa0</div>')],\n",
       " 'justiceName': [('\\n',\n",
       "   'his is a string variable indicating the first initial for the five justices with a common surname (Harlan, Johnson, Marshall, Roberts, and White) and last name of each justice. This variable appears in the Justice Centered Datasets only.<br/><br/><i>Note: This variable relies on the Justices ID for its values. For a more detailed description of these identifiers, please visit the <a href=\"documentation.php?var=justice\">detail page for the Justices variable</a>.  Note that the justice normalizations changed with the SCDB_2012_01 release of the database.<i><br/>'),\n",
       "  ('\\n', 'div class=\"footer\">\\xc2\\xa0</div>')],\n",
       " 'lawMinor': [('\\n',\n",
       "   'his variable, lawMinor, is reserved for infrequently litigated statutes. Statutes substantially absent from the decision making of the modern Courts will be found in this variable.  For these, lawMinor identifies the law at issue. Note: This is a string variable.\\t\\t\\t\\t\\t\\t\\t\\t\\t'),\n",
       "  ('\\n', 'div class=\"footer\">\\xc2\\xa0</div>')],\n",
       " 'lawSupp': [('\\n',\n",
       "   'ee variable Legal Provisions Considered by the Court.\\t\\t\\t\\t\\t\\t\\t\\t\\t'),\n",
       "  ('\\n', 'div class=\"footer\">\\xc2\\xa0</div>')],\n",
       " 'lawType': [('\\n',\n",
       "   'his variable and its components (lawSupp and lawMinor) identify the constitutional provision(s), statute(s), or court rule(s) that the Court considered in the case. The difference between them is that lawSupp and lawMinor are coded finely; they identify the specific law, constitutional provision or rule at issue (e.g., Article I, Section 1; the Federal Election Campaign Act; the Federal Rules of Evidence). lawType is coded more broadly (e.g., constitution, federal statute, court rules).  Do not assume that these three legal provisions are ordinally ordered.  They are not.  Any one of them can be considered more important to the Court\\'s decision than either of the others.  And that also applies to the issue and issue area of the case.  Importance is a matter to be determined by the user\\'s objectives.  \\r<br/> <br/>Because of our ignorance of the overall contents of the pre-1946 decision making, we simply adhered to the structure and distinctive characteristics of the modern Court.  Accordingly, we created a modernized interface that did not adequately comport with the distinctive features of the heritage cases. Not only did they treat distinctive constitutional provisions as one (e.g., upholding or voiding governmental action on the combined basis of due process and equal protection), with the interstate commerce clause thrown in for good measure.  Furthermore, these early Courts also created a much used non-textual constitutional provision: freedom of contract, which was treated independently of the Constitution\\'s contract clause.\\r<br/> <br/>Relatedly, we mistakenly allowed for only one type 0f legal provision (i.e. Constitution, constitutional amendment, federal statute, court rules, other, infrequently litigated statutes, and state or local law) per case record.)  If a second or third legal provision warranted inclusion into the case record, entirely new and separate records needed to be created.  This is not a serious problem with the post-1946 Courts, but it definitely is with the preceding ones.\\r<br/> <br/>At the other extreme, this database does allow for the inclusion of infrequently litigated federal statutes, but not those of the state and local governments. Users interested in the Court\\'s treatment of the states are likely interested in the sort of state laws at issue and the result of Supreme Court action.  E.g., did the Court treat all morals legislation the same; i.e., temperance, prostitution, obscenity, gambling, regardless of states or human litigants?  Consult the variables \\'origin of case State\\' and \\'source of case State.\\' To determine the specifics of state or local law, consult the opinion of the case itself.  Although a major objective of this database was to make it self-standing, we were not able to achieve this objective because of inadequate oversight and limited resources.  To have included this datum would have been a counsel of perfection. Unfortunately, the other principle investigators and I are incapable of attaining such a status.        \\r<br/> <br/>The basic criterion to determine the legal provision(s) is the \"summary\" in the Lawyers\\' Edition.  Supplementary is a reference to it in at least one of the numbered holdings in the summary of the United States Reports.  This summary, which the Lawyers\\' Edition of the U.S. Reports labels \"Syllabus By Reporter Of Decisions,\" appears in the official Reports immediately after the date of decision and before the  main opinion in the case. Where this summary lacks numbered holdings, it is treated as though it has but one number.\\r<br/> <br/>Be aware that the Reports do not cite a given statute the same in every case.  Hence, the total number of cases in which a case is the legal provision considered by the Court may be higher than the database reports.  \\r<br/> <br/>Observe that where a state or local government allegedly abridges a provision of the Bill of Rights even though it has not been made binding on the states because it has not been \"incorporated\" into the due process clause of the Fourteenth Amendment, identification is to the specific guarantee rather than to the Fourteenth Amendment. \\r<br/> <br/>The legal basis for decision need not be formally stated. For example, a reference in the summary to the appointment of counsel under the Constitution or to the self-incrimination clause warrants entry of the appropriate code.  (E.g., United States v. Knox, 396 U.S. 77; Lassiter v. Department of Social Services, 452 U.S. 18). \\r<br/> <br/>Also note that occasionally a holding may pertain to more than one legal basis for decision.  In such cases, the additional basis or bases are specified as though they are numbered holdings, or as though they are a holding without numbers. \\r<br/> <br/>By no means does every record have an entry in the lawType variable.  Only constitutional provisions, federal statutes, and court rules are entered here.  This variable typically will have no entry in cases that concern the Supreme Court\\'s supervisory authority over the lower federal courts;  those where the Supreme Court\\'s decision does not rest on a constitutional provision, federal statute, or court rule;  provisions of the common law; decrees; and nonstatutory cases arising under the Court\\'s original jurisdiction.\\r<br/> <br/> In cases where the Court considers multiple legal provisions no attempt is made to order their appearance.  Where the constitutionality of a federal law is challenged, to give either the constitutional provision or the statute primacy would be arbitrary.  To the extent that any order characterizes these lawType entries, it likely is the sequence in which they appear in the summary.  \\r<br/> <br/>Beyond the foregoing, observe that an entry should appear in this variable only when the summary indicates that the majority opinion discusses the legal provision at issue.  The mere fact that the Court exercises a certain power (e.g., its original jurisdiction, as in Arkansas v. Tennessee, 397 U.S. 91), or makes reference in its majority opinion rather than in the summary that a certain constitutional provision, statute, or frequently used common law rule applies (e.g., the \"equal footing\" principle which pertains to the admission of new states under Article IV, section 3, clause 2 of the Constitution, as Utah v. United States, 403 U.S. 9, illustrates) provides no warrant for any entry.\\r<br/> <br/>There are three exceptions to this \"discussion\" requirement, the first of which dismisses the writ of certiorari as \"improvidently granted\" either in so many words (e.g., Johnson v. United States, 401 U.S. 846) or dismisses it on this basis implicitly (e.g., Baldonado v. California, 366 U.S. 417).  In such cases, the code 508 should appear.  More often than not, these cases have no summary.  Note that the phrase is a term of art: 1) it overrides any substantive provision that the summary may mention (e.g., Conway v. California Adult Authority, 396 U.S. 107);  2) it does not apply where the Supreme Court takes jurisdiction on appeal.  \\r<br/> <br/>In the second exception the Court, without discussion, remands a case to a lower court for consideration in light of an earlier decision.  The summary of the earlier case is then consulted and the instant case coded with the entry that appeared there (e.g., Wheaton v. California, 386 U.S. 267).  If a discussion in the summary precedes the remand, this variable should be governed by that discussion as well as the basis for decision in the case that the lower court is instructed to consider.  Usually these bases will be identical (e.g., Maxwell v. Bishop, 398 U.S. 262).\\r<br/> <br/>The third exception to the \"discussion\" criterion involves the legality of administrative agency action without specific reference to the statute under which the agency acted.  Inasmuch as administrative agencies may only act pursuant to statute, the majority opinion was consulted to determine the statute in question (e.g., National Labor Relations Board v. United Insurance Co. of America, 390 U.S. 254).  The same situation may characterize the statute under which a court exercises jurisdiction (e.g., the Court of Claims in United States v. King, 395 U.S. 1).\\r<br/> <br/>As indicated, this variable should usually lack an entry if the numbered holding(s) indicates that the Court\\'s decision rests on its supervisory authority over the federal judiciary, the common law, or diversity jurisdiction. \\r<br/> <br/>Note that where a state or local government allegedly abridges a provision of the Bill of Rights that has been made binding on the states because it has been incorporated into the due process clause of the Fourteenth Amendment, identification is to the specific guarantee rather than to the Fourteenth Amendment Due Process Clause. \\r<br/> <br/>International treaties and conventions, which rarely serve as the basis for the Court\\'s decision, are identified (in the lawSupp variable) as a treaty (509), an interstate compact as Interstate Compact (510), an executive order as Executive Order (511), and a statute of a territory of the U.S., which is not in the U.S. Code or the Statutes at Large, as Territory Statute (512). \\r<br/> <br/>A case that challenges the constitutionality of a federal statute, court or common law rule will usually contain at least two legal bases for decision:  the constitutional provision as well as the challenged statute or rule.  \\r<br/> <br/>Where a heading concerns the review of agency action under a statute, but the statute is not identified, it is ascertained from the opinion (e.g., National Labor Relations Board v. United Insurance Co. of America, 390 U.S. 254).  So also where the decision turns on the statutory jurisdiction of a federal court, and the holding does not specify it (e.g., United States v. King, 395 U.S. 1).\\t\\t\\t\\t\\t\\t\\t\\t\\t'),\n",
       "  ('\\n', 'div class=\"footer\">\\xc2\\xa0</div>')],\n",
       " 'lcDisagreement': [('\\n',\n",
       "   'n entry in this variable indicates that the Supreme Court\\'s majority opinion mentioned that one or more of the members of the court whose decision the Supreme Court reviewed dissented. The presence of such disagreement is limited to a statement to this effect somewhere in the majority opinion. I.e, \"divided,\" \"dissented,\" \\r<br/>\"disagreed,\" \"split.\"  A reference, without more, to the \"majority\" or \"plurality\" does not necessarily evidence dissent.  The other judges may have concurred.  \\r<br/> <br/>If a case arose on habeas corpus, a dissent will be indicated if either the last federal court or the last state court to review the case contained one.  E.g., Townsend v. Sain, 9 Led 2d 770 (1963).  A dissent will also be indicated if the highest court with jurisdiction to hear the case declines to do so by a divided vote.  E.g., Simpson v. Florida, 29 L ed 2d 549 (1971).   \\r<br/> <br/>Note that the focus of this variable tends to be a statement that a dissent occurred rather than the fact of such an occurrence. The fact of a dissent is not always mentioned in the  majority opinion.  It may be irrelevant.  See, for example, McNally v. United States, 483 U.S. 350 (1987), and United States v. Gray and McNally, 790 F.2d 1290 (1986).\\r<br/> <br/>If the lower court denies an en banc petition by a divided vote and the Supreme Court discusses same, lower court disagreement exists.\\r<br/> <br/>If the lower court denies an en banc petition by a divided vote and the Supreme Court\\'s opinion discusses same, a  dissent occurs.\\t\\t\\t\\t\\t\\t\\t\\t\\t'),\n",
       "  ('\\n', 'div class=\"footer\">\\xc2\\xa0</div>')],\n",
       " 'lcDisposition': [('\\n',\n",
       "   'his variable specifies the treatment the court whose decision the Supreme Court reviewed accorded the decision of the court it reviewed; e.g., whether the court below the Supreme Court---typically a federal court of appeals or a state supreme court---affirmed, reversed, remanded, etc. the decision of the court it reviewed---typically a trial court.  \\r<br/> <br/>lcDisposition will not contain an entry if the decision the Supreme Court reviewed is that of a trial court or if the case arose under the Supreme Court\\'s original jurisdiction (see the jurisdiction variable).  The former occurs frequently in the legacy data.\\r<br/> <br/>The decision rules governing this information follow:\\r<br/> <br/>1. We adhere to the language used in the \"holding\" in the summary of the case on the title page or prior to Part I of the Court\\'s opinion.  Exceptions to the literal language are the following: \\r<br/> <br/>2.  Where the Court overrules the lower court, we treat this a petition or motion granted.\\r<br/> <br/>3. Where the court whose decision the Supreme Court is reviewing refuses to enforce or enjoins the decision of the court, tribunal, or agency which it reviewed, we treat this as reversed. \\r<br/> <br/>4. Where the court whose decision the Supreme Court is reviewing enforces the decision of the court, tribunal, or agency which it reviewed, we treat this as affirmed. \\r<br/> <br/>5. Where the court whose decision the Supreme Court is reviewing sets aside the decision of the court, tribunal, or agency which it reviewed, we treat this as vacated;  if the decision is set aside and remanded, we treat it as vacated and remanded. \\r<br/> <br/>Also see disposition of case and direction of the lower court\\'s decision (lcDispositionDirection).\\t\\t\\t\\t\\t\\t\\t\\t\\t'),\n",
       "  ('\\n', 'div class=\"footer\">\\xc2\\xa0</div>')],\n",
       " 'lcDispositionDirection': [('\\n',\n",
       "   \"his variable specifies whether the decision of the court whose decision the Supreme Court reviewed was itself liberal or conservative as these terms are defined in the direction of decision variable (decisionDirection).  \\r<br/> <br/>lcDispositionDirection permits determination of whether the Supreme Court's disposition of the case upheld or overturned a liberal or a conservative lower court decision.  \\r<br/> <br/>With some adjustments, we coded this variable according to the following rules:\\r<br/><li> If issue has a private law entry (140010-140080) and the direction of the Court's decision (decisionDirection) is unspecifiable, then the lower court's direction is unspecifiable.\\r<br/></li><li>If issue has an interstate relations (110010-110030) or miscellaneous (130010, 130020) entry and decisionDirection is unspecifiable, then the lower court's direction is unspecifiable.\\r<br/></li><li>If jurisdiction is original or certification, then the lower court's direction is unspecifiable.\\r<br/></li><li>If the Supreme Court affirmed or dismissed the case, then the lower court's direction is the same as the Supreme Court's direction.\\r<br/></li><li>If the Supreme Court reversed, reversed and remanded, vacated and remanded, or remanded,  then the lower court's direction is the opposite and not the same as the Supreme Court's direction. For example, if the Supreme Court reversed and its decision is liberal then the lower court's direction is conservative.\\r<br/> <br/> <br/>Cases remaining after imposing these rules were hand coded.\\r<br/> <br/> <br/>Also see disposition of case by the court whose decision the Supreme Court reviewed (lcDisposition), direction of decision (decisionDirection), disposition of case (caseDisposition), and winning party (partyWinning).\\t\\t\\t\\t\\t\\t\\t\\t\\t\"),\n",
       "  ('\\n', 'div class=\"footer\">\\xc2\\xa0</div>')],\n",
       " 'ledCite': [('\\n', 'ee variable U.S. Reporter Citation.\\t\\t\\t\\t\\t\\t\\t\\t\\t'),\n",
       "  ('\\n', 'div class=\"footer\">\\xc2\\xa0</div>')],\n",
       " 'lexisCite': [('\\n',\n",
       "   'ee variable U.S. Reporter Citation (usCite).\\t\\t\\t\\t\\t\\t\\t\\t\\t'),\n",
       "  ('\\n', 'div class=\"footer\">\\xc2\\xa0</div>')],\n",
       " 'majOpinAssigner': [('\\n',\n",
       "   'his variable identifies the assigner of the opinion or judgment of the Court, as the case may be.  These data are drawn from the membership in the final (report vote) coalition and from the rules governing opinion assignment:  If the chief justice is a member of the majority vote coalition at the conference vote, he assigns the opinion;  if not, the senior associate justice who is a member of the majority at the conference vote does so. According to several scholarly studies, considerable voting shifts occur between the final conference vote (where the assignment is made) and the vote that appears in the Reports.  As a result, in approximately 16 percent of the cases, a person other than the one identified by the database actually assigned the opinion.\\r<br/> <br/>To partially overcome this discrepancy, users may consult the expanded versions of the database, available at http://www.cas.sc.edu/poli/juri/, but which include only the Vinson, Warren, and Burger Courts, plus the 1986-1993 terms of the Rehnquist Court.  Assigners in these Courts are identified by reference to the justices\\' docket books.<br/><br/><i>Note: This variable relies on the Justices ID for its values. For a more detailed description of these identifiers, please visit the <a href=\"documentation.php?var=justice\">detail page for the Justices variable</a>.  Note that the justice normalizations changed with the SCDB_2012_01 release of the database.<i><br/>'),\n",
       "  ('\\n', 'div class=\"footer\">\\xc2\\xa0</div>')],\n",
       " 'majOpinWriter': [('\\n',\n",
       "   'his variable identifies the author of the Court\\'s opinion or judgment, as the case may be.<br/><br/><i>Note: This variable relies on the Justices ID for its values. For a more detailed description of these identifiers, please visit the <a href=\"documentation.php?var=justice\">detail page for the Justices variable</a>.  Note that the justice normalizations changed with the SCDB_2012_01 release of the database.<i><br/>'),\n",
       "  ('\\n', 'div class=\"footer\">\\xc2\\xa0</div>')],\n",
       " 'majVotes': [('\\n',\n",
       "   'his variable specifies the number of justices voting in the majority; minVotes indicates the number of justices voting in dissent. \\r<br/> <br/>In non-legacy cases, a quorum requires the participation of six justices for a decision on the merits.     \\r<br/> <br/>The number that appears in this variable pertains to the number of justices who agree with the disposition made by the majority (see caseDisposition) and not to the justices\\' vote on any particular issue in the case.  Thus, for example, in Bates v. Arizona State Bar, 433 U.S. 350 (1977), the vote in the case was 5 to 4, even though all participants agreed that the disciplinary rule prohibiting attorney advertising did not violate the Sherman Act.  Unlike the majority, the dissenters disagreed that the rule violated the First Amendment.  \\r<br/> <br/>Please note: Because the early reporters did not always note whether a Justice was absent for a particular case, we consulted the front matter to each volume of the U.S. Reports. For example, volume 77 states: \"The Chief Justice did not participate in any of the judgments reported in this volume after page 151. Nor did Mr. Justice Nelson participate in those reported between pages 141 and 410.\" Sometimes it was simply impossible determine non-participation. E.g., from the January Term 1834: Justice Duvall \"was prevented from attending the Court until some time after the commencement of the term.\"\\r<br/> <br/> <br/>See also Minority Votes (minVotes) and Vote Not Clearly Specified (voteUnclear).\\t\\t\\t\\t\\t\\t\\t\\t\\t'),\n",
       "  ('\\n', 'div class=\"footer\">\\xc2\\xa0</div>')],\n",
       " 'majority': [('\\n',\n",
       "   'nalysts commonly want to know the frequency with which given justices vote with the majority and/or in dissent overall or in certain sets of circumstances.  This variable provides that information for each justice.\\r<br/> <br/>This variable appears in the Justice Centered Datasets only.\\t\\t\\t\\t\\t\\t\\t\\t\\t'),\n",
       "  ('\\n', 'div class=\"footer\">\\xc2\\xa0</div>')],\n",
       " 'minVotes': [('\\n',\n",
       "   \"his variable specifies the number of votes in dissent. Only dissents on the merits are specified in this variable.\\r<br/>Justices who dissent from a denial or dismissal of certiorari or who disagree with the Court's assertion of jurisdiction count as not participating in the decision.  \\r<br/> <br/>For more details, see the variable Majority Votes (majVotes).\\t\\t\\t\\t\\t\\t\\t\\t\\t\"),\n",
       "  ('\\n', 'div class=\"footer\">\\xc2\\xa0</div>')],\n",
       " 'naturalCourt': [('\\n',\n",
       "   'lthough most judicial research is chronologically organized by the term of the Court or by chief justice, many users employ \"natural courts\" as their analytical frame of reference.  \\r<br/> <br/>A natural court is a period during which no personnel change occurs.  Scholars have subdivided them into \"strong\" and \"weak\" natural courts, but no convention exists as to the dates on which they begin and end.  Options include 1) date of confirmation, 2) date of seating, 3) cases decided after seating, and 4) cases argued and decided after seating.   A strong natural court is delineated by the addition of a new justice or the departure of an incumbent.  A weak natural court, by comparison, is any group of sitting justices even if lengthy vacancies occurred.  \\r<br/> <br/>The values below divide the Courts into strong natural courts, each of which begins when the Reports first specify that the new justice is present but not necessarily participating in the reported case.  Similarly, a natural court ends on the date when the Reports state that an incumbent justice has died, retired, or resigned.  The courts are numbered consecutively by chief justice as the code at the left-hand margin indicates.\\r<br/> <br/>Note, especially, that the Court was without a chief justice during the 1836 term.  This was the period between Marshall\\'s death and Taney\\'s confirmation.\\r<br/> <br/>For more on delineating natural courts, see See Edward V. Heck, \"Justice Brennan and the Heyday of Warren Court Liberalism,\" 20 Santa Clara Law Review 841 (1980) 842-843 and \"Changing Voting Patterns in the Burger Court: The Impact of Personnel Change,\" 17 San Diego Law Review 1021 (1980) 1038;  Harold J. Spaeth and Michael F. Altfeld, \"Measuring Power on the Supreme Court: An Alternative to the Power Index,\" 26 Jurimetrics 48 (1985) 55.\\t\\t\\t\\t\\t\\t\\t\\t\\t'),\n",
       "  ('\\n', 'div class=\"footer\">\\xc2\\xa0</div>')],\n",
       " 'opinion': [('\\n',\n",
       "   'his variable indicates the opinion, if any, that the justice wrote.  It appears in the Justice Centered Datasets only.\\r<br/> <br/>Because determination of whether a justice wrote an opinion is no simple matter, rules must be formulated.\\r<br/> <br/>1.  A justice authors no opinion unless he or she specifies a reason for his or her vote. A bare citation to a previously decided case or a simple statement that the author concurs or dissents because of agreement with a lower court\\'s opinion suffices as an opinion\\r<br/> <br/>2. Where a justice specifies that the opinion applies to an additional case or cases, the opinion is counted as so many separate ones. Thus, the opinions of Brennan and Marshall in Mobile v. Bolden, 446 U.S. 55, also apply to Williams v. Brown, 446 U.S. 236. Hence, each of these opinions is counted as though it were two separate opinions.\\r<br/> <br/>3. When a justice joins the substance of another justice\\'s opinion, without any personal expression of views, that justice is listed as joining the other\\'s opinion (see variables firstAgreement and secondAgreement) and not as an author unless he or she also writes an opinion. \\r<br/> <br/>Thus, in United States v. Havens, 446 U.S. 620, Justices Stewart and Stevens are listed as joining Brennan\\'s dissenting opinion notwithstanding that the pertinent language reads: \"Mr. Justice Brennan, joined by Mr. Justice Marshall and joined in Part I by Mr. Justice Stewart and Mr. Justice Stevens, dissenting.\" 446 U.S. at 629. The opinion contains two parts of roughly equal length. Failure to list the latter pair as joiners would have required that they appear as dissenting without opinion, a manifestly inaccurate result. Similarly, Justice White\\'s language in Parratt v. Taylor, 451 U.S. 527, at 545: \"I join the opinion of the Court but with the reservations stated by my Brother Blackmun in his concurring opinion,\" is not listed as as opinion by White. He rather appears as joining Blackmun\\'s concurrence. Conversely, where a justice, in his or her own words only partially agrees with one or more opinions authored by others, he or she is listed as an author. Two examples of Justice Stewart illustrate: \"Mr. Justice Stewart dissents for the reasons expressed in Part I of the dissenting opinion of Mr. Justice Powell.\" (Dougherty County Board of Education v. White, 439 U.S. 32, at 47) \"Mr. Justice Stewart concurs in the judgment, agreeing with all but Part II of the opinion of the Court, and with Part I of the concurring opinion of Mr. Justice Stevens.\" (Jenkins v. Anderson, 447 U.S. 231, at 241).\\r<br/> <br/>4. When two or more justices jointly author an opinion, an entry will so indicate. Joint authorship, however, does not include per curiam opinions.\\t\\t\\t\\t\\t\\t\\t\\t\\t'),\n",
       "  ('\\n', 'div class=\"footer\">\\xc2\\xa0</div>')],\n",
       " 'partyWinning': [('\\n',\n",
       "   'his variable indicates whether the petitioning party (i.e., the plaintiff or the appellant) emerged victorious. The victory the Supreme Court provided the petitioning party may not have been total and complete (e.g., by vacating and remanding the matter rather than an unequivocal reversal), but the disposition is nonetheless a favorable one.  \\r<br/> <br/>With some adjustments, we coded this variable according to the following rules:\\r<br/><li>The petitioning party lost if the Supreme Court affirmed (caseDisposition=2) or dismissed the case/denied the petition (caseDisposition=9).\\xc2\\xa0\\r<br/></li><li>The petitioning party won in part or in full if the Supreme Court reversed (caseDisposition=3), reversed and remanded (caseDisposition= 4), vacated and remanded (caseDisposition=5), affirmed and reversed in part (caseDisposition=6), affirmed and reverse in part and remanded (caseDisposition=7), or vacated (caseDisposition=8)\\r<br/></li><li>The petitioning party won or lost may be unclear if the Court certified to/from a lower court.\\t\\t\\t\\t\\t\\t\\t\\t\\t'),\n",
       "  ('\\n', 'div class=\"footer\">\\xc2\\xa0</div>')],\n",
       " 'petitioner': [('\\n',\n",
       "   'he next four variables identify the parties to the case. \"Petitioner\" refers to the party who petitioned the Supreme Court to review the case.  This party is variously known as the petitioner or the appellant.  \"Respondent\" refers to the party being sued or tried and is also known as the appellee. Variables \"petitioner\" and \"respondent\" provide detailed information about all parties, except the identity of the state if a state (or one of its subdivisions) is a party, petitioner and respondent variables note only whether a state is a party, not the state\\'s name. See variables Petitioner State and Respondent State for the name.\\r<br/> <br/>The specific codes that appear below were created inductively, with petitioner and respondent characterized as the Court\\'s opinion identifies them.\\r<br/> <br/>In describing the parties in the cases before it, the justices employ terminology that places them in the context of the litigation in which they are involved.  Accordingly, an employer who happens to be a manufacturer will be identified as the former if its role in the litigation is that of an employer and as the latter if its role is that of a business.  Because the justices describe litigants in this fashion, a fairly limited vocabulary characterizes them.  Note that the list of parties also includes the list of administrative agencies and officials contained in administrative action preceding litigation.  \\r<br/> <br/>Also note that the Court\\'s characterization of the parties applies whether the petitioner and respondent are actually single entities or whether many other persons or legal entities have associated themselves with the lawsuit.  That is, the presence of the phrase, et al., following the name of a party does not preclude the Court from characterizing that party as though it were a single entity.  Thus, each docket number will show a single petitioner and a single respondent, regardless of how many legal entities were actually involved.\\r<br/> <br/>The decision rules governing the identification of parties are as follows.\\r<br/> <br/>1. Parties are identified by the labels given them in the opinion or judgment of the Court except where the Reports title a party as the \"United States\" or as a named state.  Textual identification of parties is typically provided prior to Part I of the Court\\'s opinion.  The official syllabus, the summary that appears on the title page of the case, may be consulted as well.  In describing the parties, the Court employs terminology that places them in the context of the specific lawsuit in which they are involved.  E.g., \"employer\" rather than \"business\" in a suit by an employee;  as a \"minority,\" \"female,\" or \"minority female\" employee rather than \"employee\" in a suit alleging discrimination by an employer.  \\r<br/> <br/>2. Where a choice of identifications exists that which provides information not provided by the legal provision or the issue is chosen.  E.g., a federal taxpayer or an attorney accused of a crime as taxpayer or attorney rather than accused person, particularly if neither the lawType nor the Issue variable identifies the case as a tax matter or one involving an attorney. \\r<br/> <br/>3. Identify the parties by reference to the following list and by the list of federal agencies provided in the adminAction variable.\\t\\t\\t\\t\\t\\t\\t\\t\\t'),\n",
       "  ('\\n', 'div class=\"footer\">\\xc2\\xa0</div>')],\n",
       " 'petitionerState': [('\\n',\n",
       "   'his variable identifies the state if the state or any one of the below is the petitioner. The exceptions are courts, judicial districts, or judges. If they are federal courts or federal judges, the \"state\" is always the United States. The same holds for other federal employees or officials.\\r<br/> <br/><li>specified state board or department of education\\r<br/></li><li>city, town, township, village, or borough government or governmental unit\\r<br/></li><li>state commission, board, committee, or authority\\r<br/></li><li>county government or county governmental unit\\r<br/></li><li>state department or agency\\r<br/></li><li>court or judicial district\\r<br/></li><li>governmental employee or job applicant\\r<br/></li><li>female governmental employee or job applicant\\r<br/></li><li>minority governmental employee or job applicant\\r<br/></li><li>minority female governmental employee or job applicant\\r<br/></li><li>federal government corporation\\r<br/></li><li>retired or former governmental employee\\r<br/></li><li>U.S. House of Representatives\\r<br/><l1>interstate compact\\r<br/><li>judge\\r<br/></li><li>state legislature, house, or committee\\r<br/></li><li>local governmental unit other than a county, city, town, township, village, or borough\\r<br/></li><li>governmental official, or an official of an agency established under an interstate compact\\r<br/></li><li>state or U.S. supreme court\\r<br/></li><li>local school district or board of education\\r<br/></li><li>U.S. Senate\\r<br/></li><li>U.S. senator\\r<br/></li><li>foreign nation or instrumentality\\r<br/></li><li>state or local governmental taxpayer, or executor of the estate of\\r<br/></li><li>state college or university\\r<br/> <br/>See Petitioner variable for more details.\\t\\t\\t\\t\\t\\t\\t\\t\\t'),\n",
       "  ('\\n', 'div class=\"footer\">\\xc2\\xa0</div>')],\n",
       " 'precedentAlteration': [('\\n',\n",
       "   '\"1\" will appear in this variable if the majority opinion effectively says that the decision in this case \"overruled\" one or more of the Court\\'s own precedents.  Occasionally, in the absence of language in the prevailing opinion, the dissent will state clearly and persuasively that precedents have been formally altered: e.g., the two landmark reapportionment cases: Baker v. Carr, 369 U.S. 186 (1962), and Gray v. Sanders, 372 U.S. 368 (1963).  Once in a great while the majority opinion will state--again in so many words--that an earlier decision overruled one of the Court\\'s own precedents, even though that earlier decision nowhere says so.  E.g, Patterson  v. McLean Credit Union, 485 U.S. 617 (1988), in which the majority said that Braden v. 30th Judicial Circuit of Kentucky, 410 U.S. 484, 35 L Ed 2d 443 (1973) overruled a 1948 decision.  On the basis of this later language, the earlier decision will contain a \"1\" in this variable.  Alteration also extends to language in the majority opinion that states that a precedent of the Supreme Court has been \"disapproved,\" or is \"no longer good law.\"  \\r<br/> <br/>Note, however, that alteration does not apply to cases in which the Court  \"distinguishes\" a precedent.  Such language in no way changes the scope of the precedent contained in the case that has been distinguished.  \\r<br/> <br/>In addition to following these rules, we consulted several sources. Again, the Congressional Research Service\\'s Constitution of the United States of America: Analysis and Interpretation (CONAN) (https://www.congress.gov/constitution-annotated) was most helpful.\\r<br/> <br/>Do not assume that each record of a given case indicates the formal alteration of a separate precedent.  A given citation may have several docket numbers, each of which is governed by a single opinion in which only one precedent was altered. Conversely, an opinion in a citation with a single docket number may alter a whole series of Supreme Court precedents. To determine the number of altered precedents, carefully read the prevailing opinion in each citation that has an entry in this variable.\\t\\t\\t\\t\\t\\t\\t\\t\\t'),\n",
       "  ('\\n', 'div class=\"footer\">\\xc2\\xa0</div>')],\n",
       " 'respondent': [('\\n', 'ee Petitioner variable.\\t\\t\\t\\t\\t\\t\\t\\t\\t'),\n",
       "  ('\\n', 'div class=\"footer\">\\xc2\\xa0</div>')],\n",
       " 'respondentState': [('\\n',\n",
       "   'his variable identifies the state if the state or any one of the following is the respondent:\\r<br/><ul> <br/><li>specified state board or department of education\\r<br/></li><li>city, town, township, village, or borough government or governmental unit\\r<br/></li><li>state commission, board, committee, or authority\\r<br/></li><li>county government or county governmental unit\\r<br/></li><li>state department or agency\\r<br/></li><li>court or judicial district\\r<br/></li><li>governmental employee or job applicant\\r<br/></li><li>female governmental employee or job applicant\\r<br/></li><li>minority governmental employee or job applicant\\r<br/></li><li>minority female governmental employee or job applicant\\r<br/></li><li>retired or former governmental employee\\r<br/></li><li>judge\\r<br/></li><li>state legislature, house, or committee\\r<br/></li><li>local governmental unit other than a county, city, town, township, village, or borough\\r<br/></li><li>governmental official, or an official of an agency established under an interstate compact\\r<br/></li><li>state or U.S. supreme court\\r<br/></li><li>local school district or board of education\\r<br/></li><li>state or local governmental taxpayer, or executor of the estate of\\r<br/></li><li>state college or university\\r<br/></li></ul> <br/>See Petitioner variable for more details.\\t\\t\\t\\t\\t\\t\\t\\t\\t'),\n",
       "  ('\\n', 'div class=\"footer\">\\xc2\\xa0</div>')],\n",
       " 'sctCite': [('\\n',\n",
       "   'ee variable U.S. Reporter Citation (usCite).\\t\\t\\t\\t\\t\\t\\t\\t\\t'),\n",
       "  ('\\n', 'div class=\"footer\">\\xc2\\xa0</div>')],\n",
       " 'secondAgreement': [('\\n',\n",
       "   'ee variable First Agreement (firstAgreement).\\r<br/> <br/>This variable appears in the Justice Centered Datasets only.<br/><br/><i>Note: This variable relies on the Justices ID for its values. For a more detailed description of these identifiers, please visit the <a href=\"documentation.php?var=justice\">detail page for the Justices variable</a>.  Note that the justice normalizations changed with the SCDB_2012_01 release of the database.<i><br/>'),\n",
       "  ('\\n', 'div class=\"footer\">\\xc2\\xa0</div>')],\n",
       " 'splitVote': [('\\n',\n",
       "   'his variable indicates whether the vote variables (e.g., majVotes, minVotes) pertain to the vote on the first or second issue (or legal provision). Because split votes are so rare over 99 percent of the votes are on the first issue.\\r<br/> <br/>Users interested in analyzing cases with split votes should use the dataset that organizes cases by legal provision and split votes.\\t\\t\\t\\t\\t\\t\\t\\t\\t'),\n",
       "  ('\\n', 'div class=\"footer\">\\xc2\\xa0</div>')],\n",
       " 'term': [('\\n',\n",
       "   'his variable identifies the term in which the Court handed down its decision. For cases argued in one term and reargued and decided in the next, term indicates the latter.\\r<br/> <br/>Historically, the nature of how a term is defined has changed. Below is a listing of the more significant changes to the term definitions over time. \\r<br/><ul> <br/><li>1791: First Monday in February (second session in August, dispensed with in 1802)\\r<br/></li><li>Starting in 1827: term starts second Monday of January\\r<br/></li><li>Starting in 1844: term starts first Monday of December, still called the 1845 term\\r<br/></li><li>Starting in 1850: court starts calling it the December 1850 term; there are thus two 1850 terms in the dataset.  The January 1850 term (50 U.S.) and the December 1850 term (51 U.S.). \\r<br/></li><li>Starting in 1873: second Monday in October\\r<br/></li><li>Starting in 1917: first Monday in October\\r<br/></li></ul>'),\n",
       "  ('\\n', 'div class=\"footer\">\\xc2\\xa0</div>')],\n",
       " 'threeJudgeFdc': [('\\n',\n",
       "   'his variable will be checked if the case was heard by a three-judge federal district court (occasionally called \\xc2\\x93as specially constituted district court\\xc2\\x94). Beginning in the early 1900s, Congress required three-judge district courts to hear certain kinds of cases. More modern-day legislation has reduced the kinds of lawsuits that must be heard by such a court. As a result, the frequency is less for the Burger Court than for the Warren Court, and all but nonexistent for the Rehnquist and Roberts Courts.\\t\\t\\t\\t\\t\\t\\t\\t\\t'),\n",
       "  ('\\n', 'div class=\"footer\">\\xc2\\xa0</div>')],\n",
       " 'usCite': [('\\n',\n",
       "   \"he next four variables provide the citation to each case from the official United States Reports (US) and the three major unofficial Reports, the Supreme Court Reporter (S.CT), the Lawyers' Edition of the United States Reports(LEd), and the LEXIS cite. \\r<br/> <br/>Especially note that these four Reporters are not identical in the cases they report. Slight differences exist among the per curiam and non-orally argued decisions and whether or not multiple citations accompany the lead decision under the original citation. Our listing derives primarily from that of the Lawyer's Edition, supplemented by the US Reports. \\r<br/> <br/>Except for memorandum decisions at the back of each volume, we include virtually every decision the Court has made during its four centuries of existence.  \\r<br/> <br/>Also note that LEXIS cites have the advantage of being unique; the other reporters can have multiple cases on the same page.  \\r<br/> <br/>Further note that pagination does not invariably proceed chronologically throughout the volumes.  Hence, do not assume that because a given citation has a higher page number than that of another case it was decided on the same or a later date as the other case. The only accurate way to sequence the cases chronologically is by indexing or otherwise sequencing each case's date of decision (date of decision).\\t\\t\\t\\t\\t\\t\\t\\t\\t\"),\n",
       "  ('\\n', 'div class=\"footer\">\\xc2\\xa0</div>')],\n",
       " 'vote': [('\\n',\n",
       "   'his variable provides information about each justice\\'s vote in the case. It appears in the Justice Centered Datasets only. A regular concurrence is when the justice agrees with the Court\\'s opinion as well as its disposition. A special concurence (i.e., a concurence in the judgment) is when the justice agrees with the Court\\'s disposition but not its opinion. A jurisdictional dissent is when the justice disagrees with the Court\\'s assertion or denial of jurisdiction.  Such votes are counted as nonparticipations.\\r<br/> <br/>Determination of how a given justice voted is by no means a simple matter of culling the Reports. The justices do not always make their options clear. \\r<br/> <br/>Two problems, in particular, afflict efforts to specify votes: 1) whether the vote is a regular or a special concurrence, and 2) the treatment to be accorded a vote \"concurring in part and dissenting in part.\" \\r<br/> <br/>The first typically manifests itself when a justice joins the opinion of the Court \"except for . . .\" Because such exceptions typically tend to approach de minimis status, these are coded as regular concurrences. For example, Chief Justice Burger concurred in the opinion of the Court in New York Gaslight Club, Inc. v. Carey, except for \"footnote 6 thereof.\" 447 U.S. 54, at 71. Similarly, Blackmun\\'s agreement with the Court in Pruneyard Shopping Center v. Robins, except for \"that sentence thereof . . .\" 447 U.S. 74, at 88. Where the Reports identify a justice as \"concurring\" or \"concurring in part\" said justice is treated as a member of the majority opinion coalition (i.e., as = 3), rather than a merely concurring in the result (i.e., as = 4).\\r<br/> <br/>Whereas the preceding problem pertains to determining which type of concurrence a vote is, the problem with votes concurring and dissenting in part is whether they are special concurrences (= 4) or dissents (= 2). This matter was addressed previously in connection with the variable voteUnclear (vote not clearly specified). A vote concurring and dissenting in part is listed as a special concurrence if the justice(s) doing so does not disagree with the majority\\'s disposition of the case. This may occur when: 1) the justice concurring and dissenting in part only voices disagreement with some or all of the majority\\'s reasoning; 2) when said justice disapproves of the majority\\'s deciding or refusing to decide additional issues involved in the case; or 3) when in a case in which dissent has been voiced, the justice(s) concurring and dissenting in part votes to dispose of the case in a manner more closely approximating that of the majority than that of the dissenter(s).\\r<br/> <br/>In cases where determination of whether a vote concurring and dissenting in part is the former or the latter is not beyond cavil, an entry will appear in the voteUnclear variable of the affected case to allow users to make an independent judgment, if they are so minded. Note, however, that listing such votes as dissents (= 2) or special concurrences (= 4) has no effect on whether or not an opinion is written (the opinion variable).\\r<br/> <br/>See also notes under the majority vote (majVote) variable.\\t\\t\\t\\t\\t\\t\\t\\t\\t'),\n",
       "  ('\\n', 'div class=\"footer\">\\xc2\\xa0</div>')],\n",
       " 'voteId': [('\\n',\n",
       "   'his is the fourth of four unique internal identification numbers. \\r<br/> <br/>The first four digits are the term. The next four are the case within the term (starting at 001 and counting up). The next two are the number of dockets consolidated under the U.S. Reports citation (starting at 01 and counting up). The next two are the number of issues and legal provisions within the case (starting at 01 and counting up). The next two indicate a split vote within an issue or legal provision (01 for only one vote; 02 if a split vote).  The final two represent the vote in the case (usually runs 01 to 09, but fewer if less than all justices participated).\\t\\t\\t\\t\\t\\t\\t\\t\\t'),\n",
       "  ('\\n', 'div class=\"footer\">\\xc2\\xa0</div>')],\n",
       " 'voteUnclear': [('\\n',\n",
       "   \"he votes in a case are those specified in the opinions.\\r<br/>Do note, however, that the majority opinion in a number of Marshall Court decisions reports that unnamed justices were in disagreement about the resolution of the case. These do not identify who the dissenters were.  We, therefore, look to the majority opinion itself to specify who voted how. \\r<br/> <br/>In the vast majority of cases, the individual justices clearly indicate whether or not they agree with the disposition made by the majority.  For a small number of cases clarity may be lacking, as when a justice concurs in part and dissents in part.  A justice will typically use this or equivalent language to indicate agreement with the reasoning in a portion of the majority opinion while disagreeing with the majority's disposition of the case, or vice-versa.  \\r<br/> <br/>A close reading of the justice's opinion usually indicates whether he or she has concurred (i.e., agreed with the majority's disposition) or dissented from the disposition made by the majority. But in the rare case where a justice does not clearly indicate which it is, this variable will so indicate.\\t\\t\\t\\t\\t\\t\\t\\t\\t\"),\n",
       "  ('\\n', 'div class=\"footer\">\\xc2\\xa0</div>')]}"
      ]
     },
     "execution_count": 187,
     "metadata": {},
     "output_type": "execute_result"
    }
   ],
   "source": [
    "get_var_def(variables)"
   ]
  },
  {
   "cell_type": "code",
   "execution_count": 165,
   "metadata": {
    "ExecuteTime": {
     "end_time": "2016-11-17T17:54:45.790652",
     "start_time": "2016-11-17T17:54:45.669493"
    },
    "collapsed": false
   },
   "outputs": [
    {
     "name": "stdout",
     "output_type": "stream",
     "text": [
      "lawMinor\n"
     ]
    },
    {
     "data": {
      "text/plain": [
       "[('\\n',\n",
       "  'his variable, lawMinor, is reserved for infrequently litigated statutes. Statutes substantially absent from the decision making of the modern Courts will be found in this variable.  For these, lawMinor identifies the law at issue. Note: This is a string variable.\\t\\t\\t\\t\\t\\t\\t\\t\\t'),\n",
       " ('\\n', 'div class=\"footer\">\\xc2\\xa0</div>')]"
      ]
     },
     "execution_count": 165,
     "metadata": {},
     "output_type": "execute_result"
    }
   ],
   "source": [
    "what = variables[40]\n",
    "print what\n",
    "pattern = '</table>(\\s*)<br/>\\s*.\\s*(.*)'\n",
    "response = requests.get(url.format(what))\n",
    "soup = BeautifulSoup(response.content, 'lxml')\n",
    "x = re.findall(pattern, str(soup))\n",
    "x"
   ]
  },
  {
   "cell_type": "code",
   "execution_count": 160,
   "metadata": {
    "ExecuteTime": {
     "end_time": "2016-11-17T17:53:01.124156",
     "start_time": "2016-11-17T17:53:01.119749"
    },
    "collapsed": false
   },
   "outputs": [
    {
     "name": "stdout",
     "output_type": "stream",
     "text": [
      "None\n"
     ]
    }
   ],
   "source": [
    "print get_var_def(variables)\n"
   ]
  },
  {
   "cell_type": "code",
   "execution_count": 8,
   "metadata": {
    "ExecuteTime": {
     "end_time": "2016-11-15T17:25:29.439510",
     "start_time": "2016-11-15T17:25:29.435975"
    },
    "collapsed": true
   },
   "outputs": [],
   "source": [
    "phan = \"/Users/kristensu/Applications/phantomjs-2.1.1-macosx/bin/phantomjs\""
   ]
  },
  {
   "cell_type": "code",
   "execution_count": null,
   "metadata": {
    "ExecuteTime": {
     "end_time": "2016-11-15T17:25:30.769725",
     "start_time": "2016-11-15T17:25:30.709784"
    },
    "collapsed": true
   },
   "outputs": [],
   "source": [
    "dcap = dict(DesiredCapabilities.PHANTOMJS)\n",
    "driver = webdriver.PhantomJS(executable_path=phan, desired_capabilities=dcap)"
   ]
  },
  {
   "cell_type": "code",
   "execution_count": 86,
   "metadata": {
    "ExecuteTime": {
     "end_time": "2016-11-15T10:31:25.702459",
     "start_time": "2016-11-15T10:31:25.596938"
    },
    "collapsed": false
   },
   "outputs": [
    {
     "data": {
      "text/plain": [
       "[]"
      ]
     },
     "execution_count": 86,
     "metadata": {},
     "output_type": "execute_result"
    }
   ],
   "source": [
    "r = requests.get(url.format('minVotes'))\n",
    "s = BeautifulSoup(r.content, 'lxml')\n",
    "s.find_all('<tbody>')"
   ]
  },
  {
   "cell_type": "code",
   "execution_count": null,
   "metadata": {
    "collapsed": true
   },
   "outputs": [],
   "source": [
    "def get_var_def(var):\n",
    "    res = requests.get('http://www.omdbapi.com/?i='+entry+'&plot=full&r=json&tomatoes=true')\n",
    "    if res.status_code != 200:\n",
    "        print entry, res.status_code\n",
    "    else:\n",
    "        print '.',\n",
    "    try:\n",
    "        j = json.loads(res.text)\n",
    "    except ValueError:\n",
    "        j = None\n",
    "    return j\n",
    "\n",
    "entries_dict_list = [get_entry(e) for e in entries]"
   ]
  },
  {
   "cell_type": "code",
   "execution_count": null,
   "metadata": {
    "collapsed": true
   },
   "outputs": [],
   "source": [
    "# use id list to send requests to API\n",
    "URL_base = \"http://www.omdbapi.com/?i={}&plot=full&r=json&tomatoes=true\"\n",
    "# loop over id list to put json output in list\n",
    "json_list = []\n",
    "for i in id_list:\n",
    "    r = requests.get(URL_base.format(i))\n",
    "    json_list.append(json.loads(r.content))"
   ]
  }
 ],
 "metadata": {
  "kernelspec": {
   "display_name": "Python 2",
   "language": "python",
   "name": "python2"
  },
  "language_info": {
   "codemirror_mode": {
    "name": "ipython",
    "version": 2
   },
   "file_extension": ".py",
   "mimetype": "text/x-python",
   "name": "python",
   "nbconvert_exporter": "python",
   "pygments_lexer": "ipython2",
   "version": "2.7.12"
  },
  "toc": {
   "nav_menu": {
    "height": "12px",
    "width": "252px"
   },
   "navigate_menu": true,
   "number_sections": true,
   "sideBar": true,
   "threshold": 4,
   "toc_cell": false,
   "toc_section_display": "block",
   "toc_window_display": false
  }
 },
 "nbformat": 4,
 "nbformat_minor": 0
}
