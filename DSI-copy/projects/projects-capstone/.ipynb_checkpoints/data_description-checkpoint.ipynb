{
 "cells": [
  {
   "cell_type": "markdown",
   "metadata": {},
   "source": [
    "## The Supreme Court Database"
   ]
  },
  {
   "cell_type": "markdown",
   "metadata": {},
   "source": [
    "### Basics"
   ]
  },
  {
   "cell_type": "markdown",
   "metadata": {},
   "source": [
    "* Started by Professor Harold Spaeth in the 1980s with initial funding from the National Science Foundation \n",
    "From Michigan State University\n",
    "* Purpose: to produce a database that would include and classify every single vote by a Supreme Court justice in all argued cases over a five-decade period\n",
    "1.  **Identification variables**: Citations and docket numbers\n",
    "2.  **Background variables**: How the Court took jurisdiction, origin and source of the case, the reason the Court agreed to decide it\n",
    "3. **Chronological variables**: The date of decision, term of Court, natural court\n",
    "4. **Substantive variables**: Legal provisions, issues, direction of decision)\n",
    "5. **Outcome variables**: Disposition of the case, winning party, formal alteration of precedent, declaration of unconstitutionality\n",
    "6. **Voting and opinion variables**: How the individual justices voted, their opinions and interagreements"
   ]
  },
  {
   "cell_type": "markdown",
   "metadata": {},
   "source": []
  },
  {
   "cell_type": "code",
   "execution_count": 1,
   "metadata": {
    "ExecuteTime": {
     "end_time": "2016-11-18T15:13:25.194842",
     "start_time": "2016-11-18T15:13:23.149090"
    },
    "collapsed": true
   },
   "outputs": [],
   "source": [
    "import numpy as np\n",
    "import pandas as pd\n",
    "import matplotlib\n",
    "import matplotlib.pyplot as plt\n",
    "%matplotlib inline\n",
    "import seaborn as sns\n",
    "import re\n",
    "import pickle\n",
    "\n",
    "import bs4\n",
    "from bs4 import BeautifulSoup\n",
    "import requests\n",
    "# from selenium import webdriver\n",
    "# from selenium.webdriver.common.desired_capabilities import DesiredCapabilities"
   ]
  },
  {
   "cell_type": "code",
   "execution_count": 2,
   "metadata": {
    "ExecuteTime": {
     "end_time": "2016-11-18T15:13:33.129048",
     "start_time": "2016-11-18T15:13:31.976581"
    },
    "collapsed": true
   },
   "outputs": [],
   "source": [
    "with open('raw_df.pkl') as picklefile:\n",
    "    df = pickle.load(picklefile)"
   ]
  },
  {
   "cell_type": "code",
   "execution_count": 3,
   "metadata": {
    "ExecuteTime": {
     "end_time": "2016-11-18T15:14:04.141193",
     "start_time": "2016-11-18T15:14:04.086047"
    },
    "collapsed": false
   },
   "outputs": [
    {
     "name": "stdout",
     "output_type": "stream",
     "text": [
      "(13193, 53)\n"
     ]
    },
    {
     "data": {
      "text/html": [
       "<div>\n",
       "<table border=\"1\" class=\"dataframe\">\n",
       "  <thead>\n",
       "    <tr style=\"text-align: right;\">\n",
       "      <th></th>\n",
       "      <th>caseId</th>\n",
       "      <th>docketId</th>\n",
       "      <th>caseIssuesId</th>\n",
       "      <th>voteId</th>\n",
       "      <th>dateDecision</th>\n",
       "      <th>decisionType</th>\n",
       "      <th>usCite</th>\n",
       "      <th>sctCite</th>\n",
       "      <th>ledCite</th>\n",
       "      <th>lexisCite</th>\n",
       "      <th>...</th>\n",
       "      <th>authorityDecision1</th>\n",
       "      <th>authorityDecision2</th>\n",
       "      <th>lawType</th>\n",
       "      <th>lawSupp</th>\n",
       "      <th>lawMinor</th>\n",
       "      <th>majOpinWriter</th>\n",
       "      <th>majOpinAssigner</th>\n",
       "      <th>splitVote</th>\n",
       "      <th>majVotes</th>\n",
       "      <th>minVotes</th>\n",
       "    </tr>\n",
       "  </thead>\n",
       "  <tbody>\n",
       "    <tr>\n",
       "      <th>0</th>\n",
       "      <td>1946-001</td>\n",
       "      <td>1946-001-01</td>\n",
       "      <td>1946-001-01-01</td>\n",
       "      <td>1946-001-01-01-01</td>\n",
       "      <td>11/18/1946</td>\n",
       "      <td>1</td>\n",
       "      <td>329 U.S. 1</td>\n",
       "      <td>67 S. Ct. 6</td>\n",
       "      <td>91 L. Ed. 3</td>\n",
       "      <td>1946 U.S. LEXIS 1724</td>\n",
       "      <td>...</td>\n",
       "      <td>4.0</td>\n",
       "      <td>NaN</td>\n",
       "      <td>6.0</td>\n",
       "      <td>600.0</td>\n",
       "      <td>35 U.S.C. � 33</td>\n",
       "      <td>78.0</td>\n",
       "      <td>78.0</td>\n",
       "      <td>1</td>\n",
       "      <td>8</td>\n",
       "      <td>1</td>\n",
       "    </tr>\n",
       "    <tr>\n",
       "      <th>1</th>\n",
       "      <td>1946-002</td>\n",
       "      <td>1946-002-01</td>\n",
       "      <td>1946-002-01-01</td>\n",
       "      <td>1946-002-01-01-01</td>\n",
       "      <td>11/18/1946</td>\n",
       "      <td>1</td>\n",
       "      <td>329 U.S. 14</td>\n",
       "      <td>67 S. Ct. 13</td>\n",
       "      <td>91 L. Ed. 12</td>\n",
       "      <td>1946 U.S. LEXIS 1725</td>\n",
       "      <td>...</td>\n",
       "      <td>4.0</td>\n",
       "      <td>NaN</td>\n",
       "      <td>6.0</td>\n",
       "      <td>600.0</td>\n",
       "      <td>18 U.S.C. � 398</td>\n",
       "      <td>81.0</td>\n",
       "      <td>87.0</td>\n",
       "      <td>1</td>\n",
       "      <td>6</td>\n",
       "      <td>3</td>\n",
       "    </tr>\n",
       "  </tbody>\n",
       "</table>\n",
       "<p>2 rows × 53 columns</p>\n",
       "</div>"
      ],
      "text/plain": [
       "     caseId     docketId    caseIssuesId             voteId dateDecision  \\\n",
       "0  1946-001  1946-001-01  1946-001-01-01  1946-001-01-01-01   11/18/1946   \n",
       "1  1946-002  1946-002-01  1946-002-01-01  1946-002-01-01-01   11/18/1946   \n",
       "\n",
       "   decisionType       usCite       sctCite       ledCite  \\\n",
       "0             1   329 U.S. 1   67 S. Ct. 6   91 L. Ed. 3   \n",
       "1             1  329 U.S. 14  67 S. Ct. 13  91 L. Ed. 12   \n",
       "\n",
       "              lexisCite    ...     authorityDecision1  authorityDecision2  \\\n",
       "0  1946 U.S. LEXIS 1724    ...                    4.0                 NaN   \n",
       "1  1946 U.S. LEXIS 1725    ...                    4.0                 NaN   \n",
       "\n",
       "  lawType lawSupp         lawMinor majOpinWriter majOpinAssigner  splitVote  \\\n",
       "0     6.0   600.0   35 U.S.C. � 33          78.0            78.0          1   \n",
       "1     6.0   600.0  18 U.S.C. � 398          81.0            87.0          1   \n",
       "\n",
       "   majVotes  minVotes  \n",
       "0         8         1  \n",
       "1         6         3  \n",
       "\n",
       "[2 rows x 53 columns]"
      ]
     },
     "execution_count": 3,
     "metadata": {},
     "output_type": "execute_result"
    }
   ],
   "source": [
    "print df.shape\n",
    "df.head(2)"
   ]
  },
  {
   "cell_type": "code",
   "execution_count": null,
   "metadata": {
    "ExecuteTime": {
     "end_time": "2016-11-18T11:40:58.298939",
     "start_time": "2016-11-18T11:40:58.263159"
    },
    "collapsed": true
   },
   "outputs": [],
   "source": [
    "df.info()"
   ]
  },
  {
   "cell_type": "code",
   "execution_count": 7,
   "metadata": {
    "ExecuteTime": {
     "end_time": "2016-11-18T11:41:07.740665",
     "start_time": "2016-11-18T11:41:07.695819"
    },
    "collapsed": false
   },
   "outputs": [
    {
     "name": "stdout",
     "output_type": "stream",
     "text": [
      "Non-object column count:  38\n",
      "Non-object sub_df column length:  38\n",
      "Total columns dropped from original df: 15\n"
     ]
    },
    {
     "data": {
      "text/html": [
       "<div>\n",
       "<table border=\"1\" class=\"dataframe\">\n",
       "  <thead>\n",
       "    <tr style=\"text-align: right;\">\n",
       "      <th></th>\n",
       "      <th>decisionType</th>\n",
       "      <th>term</th>\n",
       "      <th>naturalCourt</th>\n",
       "      <th>petitioner</th>\n",
       "      <th>petitionerState</th>\n",
       "      <th>respondent</th>\n",
       "      <th>respondentState</th>\n",
       "      <th>jurisdiction</th>\n",
       "      <th>adminAction</th>\n",
       "      <th>adminActionState</th>\n",
       "      <th>...</th>\n",
       "      <th>decisionDirectionDissent</th>\n",
       "      <th>authorityDecision1</th>\n",
       "      <th>authorityDecision2</th>\n",
       "      <th>lawType</th>\n",
       "      <th>lawSupp</th>\n",
       "      <th>majOpinWriter</th>\n",
       "      <th>majOpinAssigner</th>\n",
       "      <th>splitVote</th>\n",
       "      <th>majVotes</th>\n",
       "      <th>minVotes</th>\n",
       "    </tr>\n",
       "  </thead>\n",
       "  <tbody>\n",
       "    <tr>\n",
       "      <th>0</th>\n",
       "      <td>1</td>\n",
       "      <td>1946</td>\n",
       "      <td>1301</td>\n",
       "      <td>198.0</td>\n",
       "      <td>NaN</td>\n",
       "      <td>172.0</td>\n",
       "      <td>NaN</td>\n",
       "      <td>6</td>\n",
       "      <td>NaN</td>\n",
       "      <td>NaN</td>\n",
       "      <td>...</td>\n",
       "      <td>0.0</td>\n",
       "      <td>4.0</td>\n",
       "      <td>NaN</td>\n",
       "      <td>6.0</td>\n",
       "      <td>600.0</td>\n",
       "      <td>78.0</td>\n",
       "      <td>78.0</td>\n",
       "      <td>1</td>\n",
       "      <td>8</td>\n",
       "      <td>1</td>\n",
       "    </tr>\n",
       "  </tbody>\n",
       "</table>\n",
       "<p>1 rows × 38 columns</p>\n",
       "</div>"
      ],
      "text/plain": [
       "   decisionType  term  naturalCourt  petitioner  petitionerState  respondent  \\\n",
       "0             1  1946          1301       198.0              NaN       172.0   \n",
       "\n",
       "   respondentState  jurisdiction  adminAction  adminActionState    ...     \\\n",
       "0              NaN             6          NaN               NaN    ...      \n",
       "\n",
       "   decisionDirectionDissent  authorityDecision1  authorityDecision2  lawType  \\\n",
       "0                       0.0                 4.0                 NaN      6.0   \n",
       "\n",
       "   lawSupp  majOpinWriter  majOpinAssigner  splitVote  majVotes  minVotes  \n",
       "0    600.0           78.0             78.0          1         8         1  \n",
       "\n",
       "[1 rows x 38 columns]"
      ]
     },
     "execution_count": 7,
     "metadata": {},
     "output_type": "execute_result"
    }
   ],
   "source": [
    "# Extract non-object columns for initial EDA\n",
    "numeric_cols = []\n",
    "for i in df.columns:\n",
    "    if df[i].dtype != object:\n",
    "        numeric_cols.append(i)\n",
    "    else:\n",
    "        pass\n",
    "print 'Non-object column count: ', len(numeric_cols)\n",
    "\n",
    "# Create new sub_df for numeric columns only\n",
    "sub_df = df.loc[:, numeric_cols]\n",
    "print 'Non-object sub_df column length: ', len(sub_df.columns)\n",
    "print 'Total columns dropped from original df:', len(df.columns) - len(sub_df.columns)\n",
    "sub_df.head(1)"
   ]
  },
  {
   "cell_type": "code",
   "execution_count": 9,
   "metadata": {
    "ExecuteTime": {
     "end_time": "2016-11-18T11:41:27.485747",
     "start_time": "2016-11-18T11:41:27.458382"
    },
    "collapsed": false
   },
   "outputs": [
    {
     "data": {
      "text/html": [
       "<div>\n",
       "<table border=\"1\" class=\"dataframe\">\n",
       "  <thead>\n",
       "    <tr style=\"text-align: right;\">\n",
       "      <th></th>\n",
       "      <th>nulls</th>\n",
       "    </tr>\n",
       "  </thead>\n",
       "  <tbody>\n",
       "    <tr>\n",
       "      <th>decisionType</th>\n",
       "      <td>0</td>\n",
       "    </tr>\n",
       "    <tr>\n",
       "      <th>term</th>\n",
       "      <td>0</td>\n",
       "    </tr>\n",
       "    <tr>\n",
       "      <th>naturalCourt</th>\n",
       "      <td>0</td>\n",
       "    </tr>\n",
       "    <tr>\n",
       "      <th>petitioner</th>\n",
       "      <td>3</td>\n",
       "    </tr>\n",
       "    <tr>\n",
       "      <th>petitionerState</th>\n",
       "      <td>10598</td>\n",
       "    </tr>\n",
       "    <tr>\n",
       "      <th>respondent</th>\n",
       "      <td>8</td>\n",
       "    </tr>\n",
       "    <tr>\n",
       "      <th>respondentState</th>\n",
       "      <td>9581</td>\n",
       "    </tr>\n",
       "    <tr>\n",
       "      <th>jurisdiction</th>\n",
       "      <td>0</td>\n",
       "    </tr>\n",
       "    <tr>\n",
       "      <th>adminAction</th>\n",
       "      <td>9084</td>\n",
       "    </tr>\n",
       "    <tr>\n",
       "      <th>adminActionState</th>\n",
       "      <td>12118</td>\n",
       "    </tr>\n",
       "    <tr>\n",
       "      <th>threeJudgeFdc</th>\n",
       "      <td>10</td>\n",
       "    </tr>\n",
       "    <tr>\n",
       "      <th>caseOrigin</th>\n",
       "      <td>567</td>\n",
       "    </tr>\n",
       "    <tr>\n",
       "      <th>caseOriginState</th>\n",
       "      <td>9601</td>\n",
       "    </tr>\n",
       "    <tr>\n",
       "      <th>caseSource</th>\n",
       "      <td>292</td>\n",
       "    </tr>\n",
       "    <tr>\n",
       "      <th>caseSourceState</th>\n",
       "      <td>10189</td>\n",
       "    </tr>\n",
       "    <tr>\n",
       "      <th>lcDisagreement</th>\n",
       "      <td>5</td>\n",
       "    </tr>\n",
       "    <tr>\n",
       "      <th>certReason</th>\n",
       "      <td>131</td>\n",
       "    </tr>\n",
       "    <tr>\n",
       "      <th>lcDisposition</th>\n",
       "      <td>2278</td>\n",
       "    </tr>\n",
       "    <tr>\n",
       "      <th>lcDispositionDirection</th>\n",
       "      <td>237</td>\n",
       "    </tr>\n",
       "    <tr>\n",
       "      <th>declarationUncon</th>\n",
       "      <td>0</td>\n",
       "    </tr>\n",
       "    <tr>\n",
       "      <th>caseDisposition</th>\n",
       "      <td>159</td>\n",
       "    </tr>\n",
       "    <tr>\n",
       "      <th>caseDispositionUnusual</th>\n",
       "      <td>0</td>\n",
       "    </tr>\n",
       "    <tr>\n",
       "      <th>partyWinning</th>\n",
       "      <td>17</td>\n",
       "    </tr>\n",
       "    <tr>\n",
       "      <th>precedentAlteration</th>\n",
       "      <td>1</td>\n",
       "    </tr>\n",
       "    <tr>\n",
       "      <th>voteUnclear</th>\n",
       "      <td>0</td>\n",
       "    </tr>\n",
       "    <tr>\n",
       "      <th>issue</th>\n",
       "      <td>60</td>\n",
       "    </tr>\n",
       "    <tr>\n",
       "      <th>issueArea</th>\n",
       "      <td>60</td>\n",
       "    </tr>\n",
       "    <tr>\n",
       "      <th>decisionDirection</th>\n",
       "      <td>32</td>\n",
       "    </tr>\n",
       "    <tr>\n",
       "      <th>decisionDirectionDissent</th>\n",
       "      <td>54</td>\n",
       "    </tr>\n",
       "    <tr>\n",
       "      <th>authorityDecision1</th>\n",
       "      <td>47</td>\n",
       "    </tr>\n",
       "    <tr>\n",
       "      <th>authorityDecision2</th>\n",
       "      <td>10976</td>\n",
       "    </tr>\n",
       "    <tr>\n",
       "      <th>lawType</th>\n",
       "      <td>1614</td>\n",
       "    </tr>\n",
       "    <tr>\n",
       "      <th>lawSupp</th>\n",
       "      <td>1614</td>\n",
       "    </tr>\n",
       "    <tr>\n",
       "      <th>majOpinWriter</th>\n",
       "      <td>2144</td>\n",
       "    </tr>\n",
       "    <tr>\n",
       "      <th>majOpinAssigner</th>\n",
       "      <td>338</td>\n",
       "    </tr>\n",
       "    <tr>\n",
       "      <th>splitVote</th>\n",
       "      <td>0</td>\n",
       "    </tr>\n",
       "    <tr>\n",
       "      <th>majVotes</th>\n",
       "      <td>0</td>\n",
       "    </tr>\n",
       "    <tr>\n",
       "      <th>minVotes</th>\n",
       "      <td>0</td>\n",
       "    </tr>\n",
       "  </tbody>\n",
       "</table>\n",
       "</div>"
      ],
      "text/plain": [
       "                          nulls\n",
       "decisionType                  0\n",
       "term                          0\n",
       "naturalCourt                  0\n",
       "petitioner                    3\n",
       "petitionerState           10598\n",
       "respondent                    8\n",
       "respondentState            9581\n",
       "jurisdiction                  0\n",
       "adminAction                9084\n",
       "adminActionState          12118\n",
       "threeJudgeFdc                10\n",
       "caseOrigin                  567\n",
       "caseOriginState            9601\n",
       "caseSource                  292\n",
       "caseSourceState           10189\n",
       "lcDisagreement                5\n",
       "certReason                  131\n",
       "lcDisposition              2278\n",
       "lcDispositionDirection      237\n",
       "declarationUncon              0\n",
       "caseDisposition             159\n",
       "caseDispositionUnusual        0\n",
       "partyWinning                 17\n",
       "precedentAlteration           1\n",
       "voteUnclear                   0\n",
       "issue                        60\n",
       "issueArea                    60\n",
       "decisionDirection            32\n",
       "decisionDirectionDissent     54\n",
       "authorityDecision1           47\n",
       "authorityDecision2        10976\n",
       "lawType                    1614\n",
       "lawSupp                    1614\n",
       "majOpinWriter              2144\n",
       "majOpinAssigner             338\n",
       "splitVote                     0\n",
       "majVotes                      0\n",
       "minVotes                      0"
      ]
     },
     "execution_count": 9,
     "metadata": {},
     "output_type": "execute_result"
    }
   ],
   "source": [
    "# Check for null values in sub_df\n",
    "nulls = sub_df.isnull().sum()\n",
    "nulls = pd.DataFrame(nulls, columns=['nulls'])\n",
    "nulls"
   ]
  },
  {
   "cell_type": "code",
   "execution_count": 10,
   "metadata": {
    "ExecuteTime": {
     "end_time": "2016-11-18T11:41:33.116330",
     "start_time": "2016-11-18T11:41:33.057150"
    },
    "collapsed": false
   },
   "outputs": [
    {
     "name": "stdout",
     "output_type": "stream",
     "text": [
      "sub_df shape with NaN > 1000 columns dropped: (13193, 27)\n",
      "sub_columns list length: 27\n"
     ]
    }
   ],
   "source": [
    "# Drop columns in sub_df with more than 1000 null values\n",
    "def drop_cols(dataframe):\n",
    "    for i in dataframe:\n",
    "        x = dataframe[i].isnull().sum()\n",
    "        if x > 1000:\n",
    "            del dataframe[i]\n",
    "        else:\n",
    "            pass\n",
    "    return dataframe.head(1)\n",
    "\n",
    "drop_cols(sub_df)\n",
    "# Most of dropped columns have to do with the State of a case\n",
    "# majOpinWriter seems to be only potentially significant column dropped\n",
    "\n",
    "print 'sub_df shape with NaN > 1000 columns dropped:', sub_df.shape\n",
    "\n",
    "# Create list of column names from sub_df\n",
    "sub_vars = [i for i in sub_df.columns]\n",
    "print 'sub_columns list length:', len(sub_vars)"
   ]
  },
  {
   "cell_type": "code",
   "execution_count": 11,
   "metadata": {
    "ExecuteTime": {
     "end_time": "2016-11-18T11:41:35.990159",
     "start_time": "2016-11-18T11:41:35.983406"
    },
    "collapsed": false
   },
   "outputs": [
    {
     "data": {
      "text/plain": [
       "1    13193\n",
       "Name: splitVote, dtype: int64"
      ]
     },
     "execution_count": 11,
     "metadata": {},
     "output_type": "execute_result"
    }
   ],
   "source": [
    "df['splitVote'].value_counts()"
   ]
  },
  {
   "cell_type": "code",
   "execution_count": 12,
   "metadata": {
    "ExecuteTime": {
     "end_time": "2016-11-18T11:41:40.326350",
     "start_time": "2016-11-18T11:41:40.296768"
    },
    "collapsed": false
   },
   "outputs": [
    {
     "name": "stdout",
     "output_type": "stream",
     "text": [
      "Total nulls in sub_df: 2021\n",
      "(12239, 27)\n",
      "Null check: 0\n"
     ]
    }
   ],
   "source": [
    "# Check remaining columns for null\n",
    "# Drop null values\n",
    "print 'Total nulls in sub_df:', sub_df.isnull().sum().sum()\n",
    "sub_df.dropna(inplace=True)\n",
    "print sub_df.shape\n",
    "print 'Null check:', sub_df.isnull().sum().sum()"
   ]
  },
  {
   "cell_type": "code",
   "execution_count": 13,
   "metadata": {
    "ExecuteTime": {
     "end_time": "2016-11-18T11:41:46.724260",
     "start_time": "2016-11-18T11:41:46.720962"
    },
    "collapsed": true
   },
   "outputs": [],
   "source": [
    "# Set webscraping urls\n",
    "var_url = 'http://supremecourtdatabase.org/documentation.php?var=cite'\n",
    "url = 'http://supremecourtdatabase.org/documentation.php?var={}'"
   ]
  },
  {
   "cell_type": "raw",
   "metadata": {
    "ExecuteTime": {
     "end_time": "2016-11-17T17:27:52.717749",
     "start_time": "2016-11-17T17:27:52.612282"
    },
    "collapsed": true
   },
   "source": [
    "# Get list of all variables (features) in Supreme Court database\n",
    "def get_vars(some_url):\n",
    "    var_list = []\n",
    "    response = requests.get(some_url)\n",
    "    soup = BeautifulSoup(response.content, 'lxml')\n",
    "    for link in soup.find_all('a'):\n",
    "        var_list.append(link.get('href'))\n",
    "    var_list = var_list[14:-7]\n",
    "    var_list = [i[22:] for i in var_list]\n",
    "    return var_list\n",
    "\n",
    "variables = get_vars(var_url)"
   ]
  },
  {
   "cell_type": "code",
   "execution_count": 15,
   "metadata": {
    "ExecuteTime": {
     "end_time": "2016-11-18T11:41:57.341416",
     "start_time": "2016-11-18T11:41:57.336998"
    },
    "collapsed": false
   },
   "outputs": [
    {
     "name": "stdout",
     "output_type": "stream",
     "text": [
      "Check var_dict key count: 27\n"
     ]
    }
   ],
   "source": [
    "# Create variables dictionary to store variable_name: variable_definition\n",
    "var_dict = {}\n",
    "var_dict = var_dict.fromkeys(i for i in sub_vars)\n",
    "print 'Check var_dict key count:', len(var_dict.keys())"
   ]
  },
  {
   "cell_type": "code",
   "execution_count": 59,
   "metadata": {
    "ExecuteTime": {
     "end_time": "2016-11-18T12:21:19.822138",
     "start_time": "2016-11-18T12:21:11.308263"
    },
    "collapsed": false
   },
   "outputs": [
    {
     "name": "stdout",
     "output_type": "stream",
     "text": [
      "Check var_dict values count: 27\n"
     ]
    }
   ],
   "source": [
    "# Webscrape variable definitions from Supreme Court website\n",
    "def get_var_def(some_list):\n",
    "    for variable in some_list:\n",
    "        response = requests.get(url.format(variable))\n",
    "        soup = BeautifulSoup(response.content, 'lxml')\n",
    "        x = re.findall('</table>(\\s*)<br/>\\s*.\\s*(.*)', str(soup))\n",
    "        var_dict.update({variable: x})\n",
    "    return var_dict\n",
    "\n",
    "get_var_def(sub_vars)\n",
    "print 'Check var_dict values count:', len(var_dict.values())"
   ]
  },
  {
   "cell_type": "code",
   "execution_count": 64,
   "metadata": {
    "ExecuteTime": {
     "end_time": "2016-11-18T14:43:46.540602",
     "start_time": "2016-11-18T14:43:46.534284"
    },
    "collapsed": false
   },
   "outputs": [
    {
     "data": {
      "text/plain": [
       "[('\\n',\n",
       "  \"his variable simply separates the issues identified in the preceding variable (issue) into the following larger categories: criminal procedure (issues 10010-10600), civil rights (issues 20010-20410), First Amendment (issues 30010-30020), due process (issues 40010-40070), privacy (issues 50010-50040), attorneys' or governmental officials' fees or compensation (issues 60010-60040), unions (issues 70010-70210), economic activity (issues 80010-80350), judicial power (issues 90010-90520), federalism (issues 100010-100130), interstate relation (issues 110010-110030), federal taxation (issues 120010-120040), miscellaneous (issues 130010-130020), and private law (issues 140010-140080). \\r<br/> <br/>The contents of these issue areas are both over- and under-specfied; especially those of largest size: criminal procedure, civil rights,and economic ativity. In the interests of precision, users focusing on this variable would be wise to specify the components of a specific issue area that their analyses include or exclude.  \\r<br/> <br/>Note that some of the issues in an issue area will have a distinctive direction at variance from the issue area's overal direction.  E.g., the liability variables 80060, 80070, and 80080. See decision direction.\\t\\t\\t\\t\\t\\t\\t\\t\\t\"),\n",
       " ('\\n', 'div class=\"footer\">\\xc2\\xa0</div>')]"
      ]
     },
     "execution_count": 64,
     "metadata": {},
     "output_type": "execute_result"
    }
   ],
   "source": [
    "var_dict['issueArea']"
   ]
  },
  {
   "cell_type": "code",
   "execution_count": 17,
   "metadata": {
    "ExecuteTime": {
     "end_time": "2016-11-18T11:42:27.118860",
     "start_time": "2016-11-18T11:42:27.100581"
    },
    "collapsed": false
   },
   "outputs": [
    {
     "data": {
      "text/plain": [
       "{'authorityDecision1': 7,\n",
       " 'caseDisposition': 10,\n",
       " 'caseDispositionUnusual': 2,\n",
       " 'caseOrigin': 132,\n",
       " 'caseSource': 108,\n",
       " 'certReason': 13,\n",
       " 'decisionDirection': 3,\n",
       " 'decisionDirectionDissent': 2,\n",
       " 'decisionType': 4,\n",
       " 'declarationUncon': 4,\n",
       " 'issue': 262,\n",
       " 'issueArea': 14,\n",
       " 'jurisdiction': 7,\n",
       " 'lcDisagreement': 2,\n",
       " 'lcDispositionDirection': 3,\n",
       " 'majOpinAssigner': 22,\n",
       " 'majVotes': 6,\n",
       " 'minVotes': 5,\n",
       " 'naturalCourt': 32,\n",
       " 'partyWinning': 3,\n",
       " 'petitioner': 262,\n",
       " 'precedentAlteration': 2,\n",
       " 'respondent': 245,\n",
       " 'splitVote': 1,\n",
       " 'term': 70,\n",
       " 'threeJudgeFdc': 2,\n",
       " 'voteUnclear': 2}"
      ]
     },
     "execution_count": 17,
     "metadata": {},
     "output_type": "execute_result"
    }
   ],
   "source": [
    "# Examine value counts for each numeric column to refine sub_df further\n",
    "# Refine: Bin into groups (such as term years) \n",
    "# or drop if unique values is unmanageably large\n",
    "\n",
    "sub_dict = {}\n",
    "for i in sub_df:\n",
    "    sub_dict.update({i: sub_df[i].nunique()})\n",
    "sub_dict"
   ]
  },
  {
   "cell_type": "code",
   "execution_count": 62,
   "metadata": {
    "ExecuteTime": {
     "end_time": "2016-11-18T12:21:34.730178",
     "start_time": "2016-11-18T12:21:34.724641"
    },
    "collapsed": false
   },
   "outputs": [
    {
     "data": {
      "text/plain": [
       "[('\\n',\n",
       "  \"his variable identifies the issue for each decision. Although criteria for the identification of issues are hard to articulate, the focus here is on the subject matter of the controversy (e.g., sex discrimination, state tax, affirmative action) rather than its legal basis (e.g., the equal protection clause) (see the variable lawType).\\r<br/> <br/>This variable and its counterpart, issue area, cover the waterfront of the Court's decisions.  However, neither of them provide the specificity that users commonly want.  The three legal provision variables reduce the generic quality of issue and issue area to a more specific level.  They are discussed in the first of the legal provisions below.   \\r<br/> <br/>Because the database extends over four centuries of the Court's decisions during which time the Court's jurisdiction changed drastically, the description of many specific variables does not provide a good fit.  Thus, for example, 'debtors' rights,' which locates in the civil rights issue area, contains many nineteenth century cases that have little, if anything, to do with civil rights as understood today.  Nor do a vast majority of early takings cases have any reference to due process, and many of the early criminal procedure cases don't involve crimes at all. Conversely, to have lumped all railroad cases, bar none, into one variable would have erased the many types of situations in which nineteenth and early twentieth century railroads found themselves. \\r<br/> <br/>This situation results because the original (Spaeth) database began with the Warren Court, followed by its predecessor, the Vinson Court. We made a decision to retain the twentieth century listing and apply it as best we could to the eighteenth and nineteenth century decisions.  We found it possible with the addition of only the seven common law law decisions (variables 140010-140070), plus a couple of others.  Obviously, this decision produced definitonal stretching.  Users, of course, may redefine issues to suit themselves \\r<br/> <br/>This variable identifies issues on the basis of the Court's own statements as to what the case is about.  The objective is to categorize the case from a public policy standpoint, a perspective that the legal basis for decision (lawType) commonly disregards.\\r<br/> <br/>A few issues pertain only to the heritage (legacy) cases; those decided between 1791 and 1946.  These include the private action category, typically common law issues: real property, personal property, contracts, evidence, civil procedure, wills and trusts, and commercial transactions. Others pertain to slavery, land claims (mostly state and territorial), executive authority vis-a-vis congress or the states, and incorporation of foreign territories.\\r<br/> <br/>Unlike the lawType variable where the number of legal provisions at issue has no preordained upper bound, each legal provision should generally not have more than a single issue applied to it. A second issue should apply only when a preference for one rather than the other cannot readily be made.  Of the many thousand records in the database, few have a legal basis for decision that applies to a second issue. (If you are interested in decisions with more than one issue or legal provision, use one of the datasets organized by issue/legal provision.)   \\r<br/> <br/>Because the database spans the entire four-century history of the Supreme Court, It is desirable that the list of modern issues be related to those of the eighteenth and nineteenth centuries.  Thus, in specifying the issue in a legacy case, the one that best accords with what today's Court would consider it to be is chosen. This produces a bit of tension, most all of which only requires a broadening of the scope of the relevant issues, rather than the creation of new time-specific ones.  Thus, although state and local governments were not bound to adhere to the provisions of the Bill of Rights until well after the passage of the Fourteenth Amendment, many cases did arise involving aspects of the First Amendment, search and seizure, notice and hearing, etc.  These are treated compatibly with the modern use of the relevant provision of the Bill of Rights. \\r<br/> <br/>The same rule applies to statutory issues, such as rules of procedure.  Although their legal provision is Supreme Court Rules, they are coded as issues of civil (90110) or criminal (10370) procedure even though they antedate the relevant Rules of Civil and Criminal Procedure.\\r<br/> <br/>Prize cases in which vessels on the high seas are captured and brought into American ports and the confiscation acts resulting from the Civil War and World War I are treated either as due process takings clause cases (40070) or as cases involving the jurisdiction of the federal courts (90320 or 90330) to decide the legality of the capture or confiscation.         \\r<br/> <br/>The variable codes 260 issues, each of which has an identifying number. They are ordered below by their larger issue area: criminal procedure (10010-10600), civil rights (20010-20410), First Amendment (30010-30020), due process (40010-40070), privacy (50010-50040), attorneys (60010-60040), unions (70010-70210), economic activity (80010-80350), judicial power (90010-90520), federalism (100010-100130), interstate relation (110010-110030), federal taxation (120010-120040), miscellaneous (130010-130020), and private law (140010-140080).  These comprise the codes for a separate variable, Issue Area, that is described immediately following this one.\\r<br/> <br/>The scope of these categories is as follows:  criminal procedure encompasses the rights of persons accused of crime, except for the due process rights of prisoners (issue 40040).  \\r<br/> <br/>Civil rights includes non-First Amendment freedom cases which pertain to classifications based on race (including American Indians), age, indigency, voting, residency, military or handicapped status, gender, and alienage.  Purists may wish to treat the military issues (20230, 20240, 20250) and Indian cases (20150, 20160) as economic activity, while others may wish to include the privacy category as a subset of civil rights.  \\r<br/> <br/>First Amendment encompasses the scope of this constitutional provision, but do note that not every case in the First Amendment group directly involves the interpretation and application of a provision of the First Amendment.  Some, for example, may only construe a precedent, or the reviewability of a claim based on the First Amendment, or the scope of an administrative rule or regulation that impacts the exercise of First Amendment freedoms.  In other words, not every record that displays a First Amendment issue will correspondingly display a provision of the First Amendment in its legal provision variable (lawType).\\r<br/> <br/>Due process is limited to non-criminal guarantees and, like First Amendment issues, need not show 207 (Fifth Amendment Due Process)  or 230 (Fourteenth Amendment Due Process) in the lawType variable.  Some of you may wish to include state court assertion of jurisdiction over nonresident defendants and the takings clause as part of judicial power and economic activity, respectively, rather than due process.  \\r<br/> <br/>The four issues comprising privacy may be treated as a subset of civil rights.  \\r<br/> <br/>Because of their peculiar role in the judicial process, a separate attorney category has been created, which also includes their compensation and licenses, along with trhose of governmental officials and employees.  You may wish to include these issues with economic activity, however.  \\r<br/> <br/>Unions encompass those issues involving labor union activity.  You may wish to redefine this category for yourself or combine it, in whole or in part, with economic activity.  \\r<br/> <br/>Economic activity is largely commercial and business related;  it includes tort actions  and employee actions vis-a-vis employers.  Issues 80140 (government corruption)and 80150 (zoning) are only tangential to the other issues located in economic activity.  \\r<br/> <br/>Judicial power concerns the exercise of the judiciary's own power.  To the extent that a number of these issues concern federal-state court relationships, you may wish to include them in the federalism category.  \\r<br/> <br/>Federalism pertains to conflicts and other relationships between the federal government and the states, except for those between the federal and state courts.  Interstate relations contain three types of disputes which occur between or among states.  \\r<br/> <br/>Federal taxation concerns the Internal Revenue Code and related statutes.  Miscellaneous contains three groups of cases that do not fit into any other category.  \\r<br/> <br/>Private law relates to disputes between private persons involving real and personal property, contracts, evidence, civil procedure, torts, wills and trusts, and commercial transactions.  Prior to the passage of the Judges' Bill of 1925 much -- arguably most -- of the Court's cases concerned such issues.  The Judges' Bill gave the Court control of its docket, as a result of which such cases have disappeared from the Court's docket in preference to litigation of more general applicability.\\r<br/> <br/>If interest lies in a particular issue that has a specific legal or constitutional component, comprehensive coverage may be insured by listing not only the issue(s) that bear thereon, but also the appropriate code(s) from the lawType variable.  Thus, if the right to counsel is the focus, issues 10120, 20320, and 20330 will fall within its scope, as will code 214 (Sixth Amendment Right to Counsel) from the lawType variable.  Also recognize that the party variables (petitioner,  petitionerState, respondent, \\r<br/>respondentState) may also help locate the cases of interest.\\r<br/> <br/>Note that jury instructions (10220) need not necessarily occur in the context of criminal action.  This is especially so in heritage cases.\\r<br/> <br/>Issue 80110 (state regulation of business) also includes that of local governments.  These are combined with state regulation because many heritage cases involve both.\\r<br/> <br/>Issue 90110 (federal rules of civil procedure) includes Supreme Court Rules, the Federal Rules of Evidence, the Federal Rules of Civil Procedure in civil litigation, Circuit Court Rules, state rules, and admiralty rules. \\r<br/> <br/>Natonal supremacy cases, in the context of federal-state conflicts (10050-100120)involve the general welfare, contract, supremacy, or interstate commerce causes, or the enforcement clause of the 14th Amendment.  These cases are distinguishable from the pre-empton cases (100020 abd 100030) because they have a constitutional basis for decision.\\r<br/> <br/>Note that the legal provision variable and the first five background variables may supplement specification of case issue.  Thus, for example, if you are interested in the huge mass of railroad cases generally that prevailed in the late nineteenth and early twentieth century decisions, case name will be of more help than the issues pertaining to railroad litigation.\\t\\t\\t\\t\\t\\t\\t\\t\\t\"),\n",
       " ('\\n', 'div class=\"footer\">\\xc2\\xa0</div>')]"
      ]
     },
     "execution_count": 62,
     "metadata": {},
     "output_type": "execute_result"
    }
   ],
   "source": [
    "var_dict['issue']"
   ]
  },
  {
   "cell_type": "code",
   "execution_count": 55,
   "metadata": {
    "ExecuteTime": {
     "end_time": "2016-11-18T12:19:53.334881",
     "start_time": "2016-11-18T12:19:53.330026"
    },
    "collapsed": false
   },
   "outputs": [
    {
     "data": {
      "text/plain": [
       "[]"
      ]
     },
     "execution_count": 55,
     "metadata": {},
     "output_type": "execute_result"
    }
   ],
   "source": [
    "var_dict['issueArea']"
   ]
  },
  {
   "cell_type": "code",
   "execution_count": 23,
   "metadata": {
    "ExecuteTime": {
     "end_time": "2016-11-18T11:43:16.630740",
     "start_time": "2016-11-18T11:43:16.623253"
    },
    "collapsed": false
   },
   "outputs": [
    {
     "name": "stdout",
     "output_type": "stream",
     "text": [
      "non_bin_col length: 17\n",
      "bin_col length: 10\n"
     ]
    }
   ],
   "source": [
    "# Create separate columns lists for variables that do/don't need binning\n",
    "non_bin_col = []\n",
    "bin_col = []\n",
    "\n",
    "for key, value in sub_dict.items():\n",
    "    if value <= 10:\n",
    "        non_bin_col.append(key)\n",
    "    else:\n",
    "        bin_col.append(key)\n",
    "\n",
    "print 'non_bin_col length:', len(non_bin_col)\n",
    "print 'bin_col length:', len(bin_col)"
   ]
  },
  {
   "cell_type": "code",
   "execution_count": 27,
   "metadata": {
    "ExecuteTime": {
     "end_time": "2016-11-18T11:43:46.610880",
     "start_time": "2016-11-18T11:43:46.607090"
    },
    "collapsed": false
   },
   "outputs": [
    {
     "name": "stdout",
     "output_type": "stream",
     "text": [
      "non_bin_col length: 16\n"
     ]
    }
   ],
   "source": [
    "# Remove splitVote as it has 1 value (1)\n",
    "sub_df['splitVote'].unique()\n",
    "non_bin_col.remove('splitVote')\n",
    "print 'non_bin_col length:', len(non_bin_col)"
   ]
  },
  {
   "cell_type": "code",
   "execution_count": 25,
   "metadata": {
    "ExecuteTime": {
     "end_time": "2016-11-18T11:43:27.693896",
     "start_time": "2016-11-18T11:43:27.247062"
    },
    "collapsed": false
   },
   "outputs": [
    {
     "data": {
      "text/plain": [
       "<matplotlib.axes._subplots.AxesSubplot at 0x11d828f50>"
      ]
     },
     "execution_count": 25,
     "metadata": {},
     "output_type": "execute_result"
    },
    {
     "data": {
      "image/png": "[encoded data removed]",
      "text/plain": [
       "<matplotlib.figure.Figure at 0x11d828610>"
      ]
     },
     "metadata": {},
     "output_type": "display_data"
    }
   ],
   "source": [
    "sub_df['caseDisposition'].hist()"
   ]
  },
  {
   "cell_type": "code",
   "execution_count": 49,
   "metadata": {
    "ExecuteTime": {
     "end_time": "2016-11-18T12:10:38.450211",
     "start_time": "2016-11-18T12:10:38.061048"
    },
    "collapsed": false
   },
   "outputs": [
    {
     "data": {
      "text/plain": [
       "<matplotlib.axes._subplots.AxesSubplot at 0x14ff29710>"
      ]
     },
     "execution_count": 49,
     "metadata": {},
     "output_type": "execute_result"
    },
    {
     "data": {
      "image/png": "[encoded data removed]",
      "text/plain": [
       "<matplotlib.figure.Figure at 0x143f40c50>"
      ]
     },
     "metadata": {},
     "output_type": "display_data"
    }
   ],
   "source": [
    "sub_df[variable].hist()"
   ]
  },
  {
   "cell_type": "code",
   "execution_count": 51,
   "metadata": {
    "ExecuteTime": {
     "end_time": "2016-11-18T12:14:10.794877",
     "start_time": "2016-11-18T12:14:04.647752"
    },
    "collapsed": false
   },
   "outputs": [
    {
     "ename": "IndexError",
     "evalue": "list index out of range",
     "output_type": "error",
     "traceback": [
      "\u001b[0;31m---------------------------------------------------------------------------\u001b[0m",
      "\u001b[0;31mIndexError\u001b[0m                                Traceback (most recent call last)",
      "\u001b[0;32m<ipython-input-51-19bb02a8a5d6>\u001b[0m in \u001b[0;36m<module>\u001b[0;34m()\u001b[0m\n\u001b[1;32m      5\u001b[0m     \u001b[0mplt\u001b[0m\u001b[0;34m.\u001b[0m\u001b[0mhist\u001b[0m\u001b[0;34m(\u001b[0m\u001b[0msub_df\u001b[0m\u001b[0;34m[\u001b[0m\u001b[0mvariable\u001b[0m\u001b[0;34m]\u001b[0m\u001b[0;34m)\u001b[0m\u001b[0;34m\u001b[0m\u001b[0m\n\u001b[1;32m      6\u001b[0m     \u001b[0mplt\u001b[0m\u001b[0;34m.\u001b[0m\u001b[0mfigure\u001b[0m\u001b[0;34m(\u001b[0m\u001b[0mfigsize\u001b[0m\u001b[0;34m=\u001b[0m\u001b[0;34m(\u001b[0m\u001b[0;36m10\u001b[0m\u001b[0;34m,\u001b[0m\u001b[0;36m10\u001b[0m\u001b[0;34m)\u001b[0m\u001b[0;34m)\u001b[0m\u001b[0;34m\u001b[0m\u001b[0m\n\u001b[0;32m----> 7\u001b[0;31m     \u001b[0mplt\u001b[0m\u001b[0;34m.\u001b[0m\u001b[0mtitle\u001b[0m\u001b[0;34m(\u001b[0m\u001b[0mnon_bin_col\u001b[0m\u001b[0;34m[\u001b[0m\u001b[0mi\u001b[0m\u001b[0;34m-\u001b[0m\u001b[0;36m1\u001b[0m\u001b[0;34m]\u001b[0m\u001b[0;34m)\u001b[0m\u001b[0;34m\u001b[0m\u001b[0m\n\u001b[0m",
      "\u001b[0;31mIndexError\u001b[0m: list index out of range"
     ]
    },
    {
     "data": {
      "image/png": "[encoded data removed]",
      "text/plain": [
       "<matplotlib.figure.Figure at 0x15399ff10>"
      ]
     },
     "metadata": {},
     "output_type": "display_data"
    },
    {
     "data": {
      "image/png": "[encoded data removed]",
      "text/plain": [
       "<matplotlib.figure.Figure at 0x103ef6e50>"
      ]
     },
     "metadata": {},
     "output_type": "display_data"
    },
    {
     "data": {
      "image/png": "[encoded data removed]",
      "text/plain": [
       "<matplotlib.figure.Figure at 0x11b6ae690>"
      ]
     },
     "metadata": {},
     "output_type": "display_data"
    },
    {
     "data": {
      "image/png": "[encoded data removed]",
      "text/plain": [
       "<matplotlib.figure.Figure at 0x11c534c50>"
      ]
     },
     "metadata": {},
     "output_type": "display_data"
    },
    {
     "data": {
      "image/png": "[encoded data removed]",
      "text/plain": [
       "<matplotlib.figure.Figure at 0x11d098a10>"
      ]
     },
     "metadata": {},
     "output_type": "display_data"
    },
    {
     "data": {
      "image/png": "[encoded data removed]",
      "text/plain": [
       "<matplotlib.figure.Figure at 0x12e23b790>"
      ]
     },
     "metadata": {},
     "output_type": "display_data"
    },
    {
     "data": {
      "image/png": "[encoded data removed]",
      "text/plain": [
       "<matplotlib.figure.Figure at 0x12e376590>"
      ]
     },
     "metadata": {},
     "output_type": "display_data"
    },
    {
     "data": {
      "image/png": "[encoded data removed]",
      "text/plain": [
       "<matplotlib.figure.Figure at 0x154e1dad0>"
      ]
     },
     "metadata": {},
     "output_type": "display_data"
    },
    {
     "data": {
      "image/png": "[encoded data removed]",
      "text/plain": [
       "<matplotlib.figure.Figure at 0x154f57fd0>"
      ]
     },
     "metadata": {},
     "output_type": "display_data"
    },
    {
     "data": {
      "image/png": "[encoded data removed]",
      "text/plain": [
       "<matplotlib.figure.Figure at 0x155095650>"
      ]
     },
     "metadata": {},
     "output_type": "display_data"
    },
    {
     "data": {
      "image/png": "[encoded data removed]",
      "text/plain": [
       "<matplotlib.figure.Figure at 0x1552ba410>"
      ]
     },
     "metadata": {},
     "output_type": "display_data"
    },
    {
     "data": {
      "image/png": "[encoded data removed]",
      "text/plain": [
       "<matplotlib.figure.Figure at 0x1554716d0>"
      ]
     },
     "metadata": {},
     "output_type": "display_data"
    },
    {
     "data": {
      "image/png": "[encoded data removed]",
      "text/plain": [
       "<matplotlib.figure.Figure at 0x15551dfd0>"
      ]
     },
     "metadata": {},
     "output_type": "display_data"
    },
    {
     "data": {
      "image/png": "[encoded data removed]",
      "text/plain": [
       "<matplotlib.figure.Figure at 0x1555db990>"
      ]
     },
     "metadata": {},
     "output_type": "display_data"
    },
    {
     "data": {
      "image/png": "[encoded data removed]",
      "text/plain": [
       "<matplotlib.figure.Figure at 0x155795310>"
      ]
     },
     "metadata": {},
     "output_type": "display_data"
    },
    {
     "data": {
      "image/png": "[encoded data removed]",
      "text/plain": [
       "<matplotlib.figure.Figure at 0x156041c50>"
      ]
     },
     "metadata": {},
     "output_type": "display_data"
    },
    {
     "data": {
      "text/plain": [
       "<matplotlib.figure.Figure at 0x1560fa5d0>"
      ]
     },
     "metadata": {},
     "output_type": "display_data"
    }
   ],
   "source": [
    "i = 1\n",
    "for variable in non_bin_col:\n",
    "    plt.subplot(4, 4, i)\n",
    "    i += 1\n",
    "    plt.hist(sub_df[variable])\n",
    "    plt.figure(figsize=(10,10))\n",
    "    plt.title(non_bin_col[i-1])"
   ]
  },
  {
   "cell_type": "code",
   "execution_count": 46,
   "metadata": {
    "ExecuteTime": {
     "end_time": "2016-11-18T12:08:37.937088",
     "start_time": "2016-11-18T12:08:32.143969"
    },
    "collapsed": false
   },
   "outputs": [
    {
     "data": {
      "image/png": "[encoded data removed]",
      "text/plain": [
       "<matplotlib.figure.Figure at 0x120d33b90>"
      ]
     },
     "metadata": {},
     "output_type": "display_data"
    }
   ],
   "source": [
    "nrows = 4\n",
    "ncols = 4\n",
    "fig, ax = plt.subplots(figsize=(12,16), ncols=ncols, nrows=nrows)\n",
    "\n",
    "for variable in non_bin_col:\n",
    "#     for row in range(nrows):\n",
    "#         for col in range(ncols):\n",
    "    sns.distplot(sub_df[variable], ax=ax[row, col])\n",
    "#     plt.subplot(4, 4, i)\n",
    "#     i += 1\n",
    "#     plt.hist(sub_df[variable])\n",
    "\n",
    "# ax[0,0].set_ylabel('NO kernel density')\n",
    "# ax[1,0].set_ylabel('KDE on')\n",
    "# ax[1,0].set_xlabel('norm_hist=False')\n",
    "# ax[1,1].set_xlabel('norm_hist=True')"
   ]
  },
  {
   "cell_type": "code",
   "execution_count": 34,
   "metadata": {
    "ExecuteTime": {
     "end_time": "2016-11-18T11:46:01.501620",
     "start_time": "2016-11-18T11:45:58.564912"
    },
    "collapsed": false
   },
   "outputs": [
    {
     "data": {
      "text/plain": [
       "<matplotlib.figure.Figure at 0x1216152d0>"
      ]
     },
     "execution_count": 34,
     "metadata": {},
     "output_type": "execute_result"
    },
    {
     "data": {
      "image/png": "[encoded data removed]",
      "text/plain": [
       "<matplotlib.figure.Figure at 0x120de3f90>"
      ]
     },
     "metadata": {},
     "output_type": "display_data"
    }
   ],
   "source": [
    "i = 1\n",
    "for variable in non_bin_col:\n",
    "    plt.subplot(4, 5, i)\n",
    "    i += 1\n",
    "    plt.hist(sub_df[variable], label='hi', )\n",
    "\n",
    "plt.subplot(4,5,1)\n",
    "plt.Figure(figsize=(10,10))"
   ]
  },
  {
   "cell_type": "code",
   "execution_count": null,
   "metadata": {
    "collapsed": true
   },
   "outputs": [],
   "source": []
  },
  {
   "cell_type": "code",
   "execution_count": null,
   "metadata": {
    "ExecuteTime": {
     "end_time": "2016-11-17T17:49:57.518587",
     "start_time": "2016-11-17T17:49:57.513849"
    },
    "collapsed": false
   },
   "outputs": [],
   "source": [
    "plop = url.format(variables[0])\n",
    "print plop"
   ]
  },
  {
   "cell_type": "code",
   "execution_count": null,
   "metadata": {
    "ExecuteTime": {
     "end_time": "2016-11-17T17:43:48.756161",
     "start_time": "2016-11-17T17:43:48.709469"
    },
    "collapsed": false
   },
   "outputs": [],
   "source": [
    "x = re.findall('</table>(\\s*)<br/>\\s*.\\s*(.*)', str(soup))\n",
    "x"
   ]
  },
  {
   "cell_type": "code",
   "execution_count": null,
   "metadata": {
    "ExecuteTime": {
     "end_time": "2016-11-17T17:42:53.117262",
     "start_time": "2016-11-17T17:42:53.112059"
    },
    "collapsed": false
   },
   "outputs": [],
   "source": [
    "variables[20]"
   ]
  },
  {
   "cell_type": "code",
   "execution_count": null,
   "metadata": {
    "ExecuteTime": {
     "end_time": "2016-11-17T17:55:38.202109",
     "start_time": "2016-11-17T17:55:38.195859"
    },
    "collapsed": false
   },
   "outputs": [],
   "source": [
    "def get_var_def(some_dict):\n",
    "    for key, value in some_dict:\n",
    "        response = requests.get(url.format(key))\n",
    "        soup = BeautifulSoup(response.content, 'lxml')\n",
    "        x = re.findall('</table>(\\s*)<br/>\\s*.\\s*(.*)', str(soup))\n",
    "        var_dict.update({key: x})\n",
    "        return some_dict\n",
    "# var_dict = [get_var_def(i) for i in variables]"
   ]
  },
  {
   "cell_type": "code",
   "execution_count": null,
   "metadata": {
    "ExecuteTime": {
     "end_time": "2016-11-17T22:41:17.818652",
     "start_time": "2016-11-17T22:41:17.809380"
    },
    "collapsed": true
   },
   "outputs": [],
   "source": [
    "a_dict = a_dict.fromkeys(i for i in variables)\n",
    "def get_var_def(some_list):\n",
    "    for item in some_list:\n",
    "        response = requests.get(url.format(item))\n",
    "        soup = BeautifulSoup(response.content, 'lxml')\n",
    "        x = re.findall('</table>(\\s*)<br/>\\s*.\\s*(.*)', str(soup))\n",
    "        a_dict.update({item: x})\n",
    "    return a_dict"
   ]
  },
  {
   "cell_type": "code",
   "execution_count": null,
   "metadata": {
    "ExecuteTime": {
     "end_time": "2016-11-17T19:56:10.082591",
     "start_time": "2016-11-17T19:56:10.078835"
    },
    "collapsed": false
   },
   "outputs": [],
   "source": [
    "a_dict = a_dict.fromkeys(i for i in variables)"
   ]
  },
  {
   "cell_type": "code",
   "execution_count": null,
   "metadata": {
    "ExecuteTime": {
     "end_time": "2016-11-17T22:41:35.328461",
     "start_time": "2016-11-17T22:41:21.681305"
    },
    "collapsed": false
   },
   "outputs": [],
   "source": [
    "get_var_def(variables)"
   ]
  },
  {
   "cell_type": "code",
   "execution_count": null,
   "metadata": {
    "ExecuteTime": {
     "end_time": "2016-11-17T17:54:45.790652",
     "start_time": "2016-11-17T17:54:45.669493"
    },
    "collapsed": false
   },
   "outputs": [],
   "source": [
    "what = variables[40]\n",
    "print what\n",
    "pattern = '</table>(\\s*)<br/>\\s*.\\s*(.*)'\n",
    "response = requests.get(url.format(what))\n",
    "soup = BeautifulSoup(response.content, 'lxml')\n",
    "x = re.findall(pattern, str(soup))\n",
    "x"
   ]
  },
  {
   "cell_type": "code",
   "execution_count": null,
   "metadata": {
    "ExecuteTime": {
     "end_time": "2016-11-17T17:53:01.124156",
     "start_time": "2016-11-17T17:53:01.119749"
    },
    "collapsed": false
   },
   "outputs": [],
   "source": [
    "print get_var_def(variables)\n"
   ]
  },
  {
   "cell_type": "code",
   "execution_count": null,
   "metadata": {
    "ExecuteTime": {
     "end_time": "2016-11-15T17:25:29.439510",
     "start_time": "2016-11-15T17:25:29.435975"
    },
    "collapsed": true
   },
   "outputs": [],
   "source": [
    "phan = \"/Users/kristensu/Applications/phantomjs-2.1.1-macosx/bin/phantomjs\""
   ]
  },
  {
   "cell_type": "code",
   "execution_count": null,
   "metadata": {
    "ExecuteTime": {
     "end_time": "2016-11-15T17:25:30.769725",
     "start_time": "2016-11-15T17:25:30.709784"
    },
    "collapsed": true
   },
   "outputs": [],
   "source": [
    "dcap = dict(DesiredCapabilities.PHANTOMJS)\n",
    "driver = webdriver.PhantomJS(executable_path=phan, desired_capabilities=dcap)"
   ]
  },
  {
   "cell_type": "code",
   "execution_count": null,
   "metadata": {
    "ExecuteTime": {
     "end_time": "2016-11-15T10:31:25.702459",
     "start_time": "2016-11-15T10:31:25.596938"
    },
    "collapsed": false
   },
   "outputs": [],
   "source": [
    "r = requests.get(url.format('minVotes'))\n",
    "s = BeautifulSoup(r.content, 'lxml')\n",
    "s.find_all('<tbody>')"
   ]
  },
  {
   "cell_type": "code",
   "execution_count": null,
   "metadata": {
    "collapsed": true
   },
   "outputs": [],
   "source": [
    "def get_var_def(var):\n",
    "    res = requests.get('http://www.omdbapi.com/?i='+entry+'&plot=full&r=json&tomatoes=true')\n",
    "    if res.status_code != 200:\n",
    "        print entry, res.status_code\n",
    "    else:\n",
    "        print '.',\n",
    "    try:\n",
    "        j = json.loads(res.text)\n",
    "    except ValueError:\n",
    "        j = None\n",
    "    return j\n",
    "\n",
    "entries_dict_list = [get_entry(e) for e in entries]"
   ]
  },
  {
   "cell_type": "code",
   "execution_count": null,
   "metadata": {
    "collapsed": true
   },
   "outputs": [],
   "source": [
    "# use id list to send requests to API\n",
    "URL_base = \"http://www.omdbapi.com/?i={}&plot=full&r=json&tomatoes=true\"\n",
    "# loop over id list to put json output in list\n",
    "json_list = []\n",
    "for i in id_list:\n",
    "    r = requests.get(URL_base.format(i))\n",
    "    json_list.append(json.loads(r.content))"
   ]
  }
 ],
 "metadata": {
  "kernelspec": {
   "display_name": "Python 2",
   "language": "python",
   "name": "python2"
  },
  "language_info": {
   "codemirror_mode": {
    "name": "ipython",
    "version": 2
   },
   "file_extension": ".py",
   "mimetype": "text/x-python",
   "name": "python",
   "nbconvert_exporter": "python",
   "pygments_lexer": "ipython2",
   "version": "2.7.12"
  },
  "toc": {
   "nav_menu": {
    "height": "12px",
    "width": "252px"
   },
   "navigate_menu": true,
   "number_sections": true,
   "sideBar": true,
   "threshold": 4,
   "toc_cell": false,
   "toc_section_display": "block",
   "toc_window_display": false
  }
 },
 "nbformat": 4,
 "nbformat_minor": 0
}
