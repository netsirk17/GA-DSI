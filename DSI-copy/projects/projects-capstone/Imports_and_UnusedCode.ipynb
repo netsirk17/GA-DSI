{
 "cells": [
  {
   "cell_type": "code",
   "execution_count": 1,
   "metadata": {
    "ExecuteTime": {
     "end_time": "2016-11-18T11:06:53.587338",
     "start_time": "2016-11-18T11:06:51.306057"
    },
    "collapsed": true
   },
   "outputs": [],
   "source": [
    "import numpy as np\n",
    "import pandas as pd\n",
    "import matplotlib\n",
    "%matplotlib inline\n",
    "import seaborn as sns\n",
    "import re\n",
    "import pickle\n",
    "\n",
    "import bs4\n",
    "from bs4 import BeautifulSoup\n",
    "import requests"
   ]
  },
  {
   "cell_type": "code",
   "execution_count": null,
   "metadata": {
    "collapsed": true
   },
   "outputs": [],
   "source": [
    "# Examine value counts for each numeric column to refine sub_df further\n",
    "# Refine: Bin into groups (such as term years) \n",
    "# or drop if unique values is unmanageably large\n",
    "for i in sub_df:\n",
    "    print 'Variable:', i\n",
    "    print 'Unique value count:', sub_df[i].nunique()\n",
    "    print sub_df[i].value_counts()\n",
    "\n",
    "# sub_df_2 columns list\n",
    "sub_df2_cols = ['decisionType', 'term', 'naturalCourt', ]\n",
    "\n",
    "# sub_df_2 columns to bin\n",
    "# term, naturalCourt"
   ]
  }
 ],
 "metadata": {
  "kernelspec": {
   "display_name": "Python 2",
   "language": "python",
   "name": "python2"
  },
  "language_info": {
   "codemirror_mode": {
    "name": "ipython",
    "version": 2
   },
   "file_extension": ".py",
   "mimetype": "text/x-python",
   "name": "python",
   "nbconvert_exporter": "python",
   "pygments_lexer": "ipython2",
   "version": "2.7.12"
  },
  "toc": {
   "nav_menu": {
    "height": "12px",
    "width": "252px"
   },
   "navigate_menu": true,
   "number_sections": true,
   "sideBar": true,
   "threshold": 4,
   "toc_cell": false,
   "toc_section_display": "block",
   "toc_window_display": false
  }
 },
 "nbformat": 4,
 "nbformat_minor": 0
}
