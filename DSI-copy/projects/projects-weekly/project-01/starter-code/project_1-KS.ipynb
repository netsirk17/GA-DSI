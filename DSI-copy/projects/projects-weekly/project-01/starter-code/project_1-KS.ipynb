{
 "cells": [
  {
   "cell_type": "markdown",
   "metadata": {},
   "source": [
    "# Project 1\n",
    "\n",
    "## Step 1: Open the `sat_scores.csv` file. Investigate the data, and answer the questions below.\n"
   ]
  },
  {
   "cell_type": "markdown",
   "metadata": {},
   "source": [
    "##### 1. What does the data describe?"
   ]
  },
  {
   "cell_type": "markdown",
   "metadata": {},
   "source": [
    "The data describes the SAT participation rates, verbal and math scores for all states and DC for 2001."
   ]
  },
  {
   "cell_type": "markdown",
   "metadata": {},
   "source": [
    "##### 2. Does the data look complete? Are there any obvious issues with the observations?"
   ]
  },
  {
   "cell_type": "markdown",
   "metadata": {},
   "source": [
    "The data looks good and complete."
   ]
  },
  {
   "cell_type": "markdown",
   "metadata": {},
   "source": [
    "##### 3. Create a data dictionary for the dataset."
   ]
  },
  {
   "cell_type": "markdown",
   "metadata": {},
   "source": [
    "data_dictionary = {state: [list of all states], math: [all math scores], verbal: [all verbal scores], rate: [all rates]}\n",
    "\n",
    "For example, the key 'math' maps to a list of all the math scores."
   ]
  },
  {
   "cell_type": "markdown",
   "metadata": {},
   "source": [
    "## Step 2: Load the data."
   ]
  },
  {
   "cell_type": "markdown",
   "metadata": {},
   "source": [
    "##### 4. Load the data into a list of lists"
   ]
  },
  {
   "cell_type": "code",
   "execution_count": 503,
   "metadata": {
    "collapsed": true
   },
   "outputs": [],
   "source": [
    "import numpy as np\n",
    "import scipy.stats as stats\n",
    "import csv\n",
    "import seaborn as sns\n",
    "%matplotlib inline"
   ]
  },
  {
   "cell_type": "code",
   "execution_count": 261,
   "metadata": {
    "collapsed": false
   },
   "outputs": [],
   "source": [
    "sat_csv_path = '/users/kristensu/dropbox/ga-dsi/dsi-copy/projects/projects-weekly/project-01/assets/sat_scores.csv' \n",
    "\n",
    "rows = []\n",
    "with open(sat_csv_path, 'r') as f:\n",
    "    reader = csv.reader(f)\n",
    "    for row in reader:\n",
    "        rows.append(row)"
   ]
  },
  {
   "cell_type": "markdown",
   "metadata": {},
   "source": [
    "##### 5. Print the data"
   ]
  },
  {
   "cell_type": "code",
   "execution_count": 262,
   "metadata": {
    "collapsed": false
   },
   "outputs": [
    {
     "name": "stdout",
     "output_type": "stream",
     "text": [
      "[['State', 'Rate', 'Verbal', 'Math'], ['CT', '82', '509', '510'], ['NJ', '81', '499', '513'], ['MA', '79', '511', '515'], ['NY', '77', '495', '505'], ['NH', '72', '520', '516'], ['RI', '71', '501', '499'], ['PA', '71', '500', '499'], ['VT', '69', '511', '506'], ['ME', '69', '506', '500'], ['VA', '68', '510', '501'], ['DE', '67', '501', '499'], ['MD', '65', '508', '510'], ['NC', '65', '493', '499'], ['GA', '63', '491', '489'], ['IN', '60', '499', '501'], ['SC', '57', '486', '488'], ['DC', '56', '482', '474'], ['OR', '55', '526', '526'], ['FL', '54', '498', '499'], ['WA', '53', '527', '527'], ['TX', '53', '493', '499'], ['HI', '52', '485', '515'], ['AK', '51', '514', '510'], ['CA', '51', '498', '517'], ['AZ', '34', '523', '525'], ['NV', '33', '509', '515'], ['CO', '31', '539', '542'], ['OH', '26', '534', '439'], ['MT', '23', '539', '539'], ['WV', '18', '527', '512'], ['ID', '17', '543', '542'], ['TN', '13', '562', '553'], ['NM', '13', '551', '542'], ['IL', '12', '576', '589'], ['KY', '12', '550', '550'], ['WY', '11', '547', '545'], ['MI', '11', '561', '572'], ['MN', '9', '580', '589'], ['KS', '9', '577', '580'], ['AL', '9', '559', '554'], ['NE', '8', '562', '568'], ['OK', '8', '567', '561'], ['MO', '8', '577', '577'], ['LA', '7', '564', '562'], ['WI', '6', '584', '596'], ['AR', '6', '562', '550'], ['UT', '5', '575', '570'], ['IA', '5', '593', '603'], ['SD', '4', '577', '582'], ['ND', '4', '592', '599'], ['MS', '4', '566', '551'], ['All', '45', '506', '514']]\n"
     ]
    }
   ],
   "source": [
    "print rows"
   ]
  },
  {
   "cell_type": "markdown",
   "metadata": {
    "collapsed": true
   },
   "source": [
    "##### 6. Extract a list of the labels from the data, and remove them from the data."
   ]
  },
  {
   "cell_type": "code",
   "execution_count": 263,
   "metadata": {
    "collapsed": true
   },
   "outputs": [],
   "source": [
    "header = rows[0]"
   ]
  },
  {
   "cell_type": "code",
   "execution_count": 264,
   "metadata": {
    "collapsed": false
   },
   "outputs": [
    {
     "name": "stdout",
     "output_type": "stream",
     "text": [
      "[['CT', '82', '509', '510'], ['NJ', '81', '499', '513'], ['MA', '79', '511', '515'], ['NY', '77', '495', '505'], ['NH', '72', '520', '516'], ['RI', '71', '501', '499'], ['PA', '71', '500', '499'], ['VT', '69', '511', '506'], ['ME', '69', '506', '500'], ['VA', '68', '510', '501'], ['DE', '67', '501', '499'], ['MD', '65', '508', '510'], ['NC', '65', '493', '499'], ['GA', '63', '491', '489'], ['IN', '60', '499', '501'], ['SC', '57', '486', '488'], ['DC', '56', '482', '474'], ['OR', '55', '526', '526'], ['FL', '54', '498', '499'], ['WA', '53', '527', '527'], ['TX', '53', '493', '499'], ['HI', '52', '485', '515'], ['AK', '51', '514', '510'], ['CA', '51', '498', '517'], ['AZ', '34', '523', '525'], ['NV', '33', '509', '515'], ['CO', '31', '539', '542'], ['OH', '26', '534', '439'], ['MT', '23', '539', '539'], ['WV', '18', '527', '512'], ['ID', '17', '543', '542'], ['TN', '13', '562', '553'], ['NM', '13', '551', '542'], ['IL', '12', '576', '589'], ['KY', '12', '550', '550'], ['WY', '11', '547', '545'], ['MI', '11', '561', '572'], ['MN', '9', '580', '589'], ['KS', '9', '577', '580'], ['AL', '9', '559', '554'], ['NE', '8', '562', '568'], ['OK', '8', '567', '561'], ['MO', '8', '577', '577'], ['LA', '7', '564', '562'], ['WI', '6', '584', '596'], ['AR', '6', '562', '550'], ['UT', '5', '575', '570'], ['IA', '5', '593', '603'], ['SD', '4', '577', '582'], ['ND', '4', '592', '599'], ['MS', '4', '566', '551'], ['All', '45', '506', '514']]\n"
     ]
    }
   ],
   "source": [
    "sat_data = rows\n",
    "sat_data.remove(sat_data[0])\n",
    "print sat_data"
   ]
  },
  {
   "cell_type": "markdown",
   "metadata": {},
   "source": [
    "##### 7. Create a list of State names extracted from the data. (Hint: use the list of labels to index on the State column)"
   ]
  },
  {
   "cell_type": "code",
   "execution_count": 265,
   "metadata": {
    "collapsed": false
   },
   "outputs": [
    {
     "data": {
      "text/plain": [
       "['CT',\n",
       " 'NJ',\n",
       " 'MA',\n",
       " 'NY',\n",
       " 'NH',\n",
       " 'RI',\n",
       " 'PA',\n",
       " 'VT',\n",
       " 'ME',\n",
       " 'VA',\n",
       " 'DE',\n",
       " 'MD',\n",
       " 'NC',\n",
       " 'GA',\n",
       " 'IN',\n",
       " 'SC',\n",
       " 'DC',\n",
       " 'OR',\n",
       " 'FL',\n",
       " 'WA',\n",
       " 'TX',\n",
       " 'HI',\n",
       " 'AK',\n",
       " 'CA',\n",
       " 'AZ',\n",
       " 'NV',\n",
       " 'CO',\n",
       " 'OH',\n",
       " 'MT',\n",
       " 'WV',\n",
       " 'ID',\n",
       " 'TN',\n",
       " 'NM',\n",
       " 'IL',\n",
       " 'KY',\n",
       " 'WY',\n",
       " 'MI',\n",
       " 'MN',\n",
       " 'KS',\n",
       " 'AL',\n",
       " 'NE',\n",
       " 'OK',\n",
       " 'MO',\n",
       " 'LA',\n",
       " 'WI',\n",
       " 'AR',\n",
       " 'UT',\n",
       " 'IA',\n",
       " 'SD',\n",
       " 'ND',\n",
       " 'MS',\n",
       " 'All']"
      ]
     },
     "execution_count": 265,
     "metadata": {},
     "output_type": "execute_result"
    }
   ],
   "source": [
    "state_names = [i[0] for i in sat_data]\n",
    "state_names"
   ]
  },
  {
   "cell_type": "markdown",
   "metadata": {},
   "source": [
    "##### 8. Print the types of each column"
   ]
  },
  {
   "cell_type": "code",
   "execution_count": 266,
   "metadata": {
    "collapsed": false
   },
   "outputs": [
    {
     "data": {
      "text/plain": [
       "['CT', '82', '509', '510']"
      ]
     },
     "execution_count": 266,
     "metadata": {},
     "output_type": "execute_result"
    }
   ],
   "source": [
    "sat_data[0]"
   ]
  },
  {
   "cell_type": "code",
   "execution_count": 267,
   "metadata": {
    "collapsed": false
   },
   "outputs": [
    {
     "name": "stdout",
     "output_type": "stream",
     "text": [
      "CT <type 'str'>\n",
      "82 <type 'str'>\n",
      "509 <type 'str'>\n",
      "510 <type 'str'>\n"
     ]
    }
   ],
   "source": [
    "for i in sat_data[0]:\n",
    "    print i, type(i)"
   ]
  },
  {
   "cell_type": "markdown",
   "metadata": {},
   "source": [
    "##### 9. Do any types need to be reassigned? If so, go ahead and do it."
   ]
  },
  {
   "cell_type": "code",
   "execution_count": 268,
   "metadata": {
    "collapsed": false
   },
   "outputs": [],
   "source": [
    "###Method 1\n",
    "\n",
    "rate = header.index('Rate')\n",
    "verbal = header.index('Verbal')\n",
    "math = header.index('Math')\n",
    "\n",
    "for i in sat_data:\n",
    "    i[rate] = int(i[rate])\n",
    "    i[verbal] = int(i[verbal])\n",
    "    i[math] = int(i[math])\n"
   ]
  },
  {
   "cell_type": "code",
   "execution_count": 269,
   "metadata": {
    "collapsed": false
   },
   "outputs": [
    {
     "data": {
      "text/plain": [
       "[['CT', 82, 509, 510], ['NJ', 81, 499, 513]]"
      ]
     },
     "execution_count": 269,
     "metadata": {},
     "output_type": "execute_result"
    }
   ],
   "source": [
    "sat_data[0:2]"
   ]
  },
  {
   "cell_type": "code",
   "execution_count": 270,
   "metadata": {
    "collapsed": false
   },
   "outputs": [
    {
     "data": {
      "text/plain": [
       "[str, int, int, int]"
      ]
     },
     "execution_count": 270,
     "metadata": {},
     "output_type": "execute_result"
    }
   ],
   "source": [
    "var_type = []\n",
    "for i in sat_data[0]:\n",
    "    var_type.append(type(i))\n",
    "var_type"
   ]
  },
  {
   "cell_type": "code",
   "execution_count": 271,
   "metadata": {
    "collapsed": false
   },
   "outputs": [
    {
     "data": {
      "text/plain": [
       "[['CT', 82, 509, 510], ['NJ', 81, 499, 513], ['MA', 79, 511, 515]]"
      ]
     },
     "execution_count": 271,
     "metadata": {},
     "output_type": "execute_result"
    }
   ],
   "source": [
    "###Method 2\n",
    "sat_data_2 = [[a[0], int(a[1]), int(a[2]),int(a[3])] for a in sat_data]\n",
    "sat_data_2[0:3]"
   ]
  },
  {
   "cell_type": "markdown",
   "metadata": {},
   "source": [
    "##### 10. Create a dictionary for each column mapping the State to its respective value for that column. "
   ]
  },
  {
   "cell_type": "code",
   "execution_count": 272,
   "metadata": {
    "collapsed": true
   },
   "outputs": [],
   "source": [
    "###Method 1\n",
    "state_dict = {}\n",
    "for i in sat_data:\n",
    "    state_dict.update({i[0]:[i[rate], i[verbal], i[math]]})"
   ]
  },
  {
   "cell_type": "code",
   "execution_count": 273,
   "metadata": {
    "collapsed": false
   },
   "outputs": [
    {
     "data": {
      "text/plain": [
       "[82, 509, 510]"
      ]
     },
     "execution_count": 273,
     "metadata": {},
     "output_type": "execute_result"
    }
   ],
   "source": [
    "state_dict['CT']"
   ]
  },
  {
   "cell_type": "code",
   "execution_count": 274,
   "metadata": {
    "collapsed": false
   },
   "outputs": [],
   "source": [
    "###Method 2\n",
    "\n",
    "state_dict_2 = {}\n",
    "state_dict_2.update({a: [b,c,d] for [a,b,c,d] in sat_data})"
   ]
  },
  {
   "cell_type": "code",
   "execution_count": 275,
   "metadata": {
    "collapsed": false
   },
   "outputs": [
    {
     "data": {
      "text/plain": [
       "[82, 509, 510]"
      ]
     },
     "execution_count": 275,
     "metadata": {},
     "output_type": "execute_result"
    }
   ],
   "source": [
    "state_dict['CT']"
   ]
  },
  {
   "cell_type": "markdown",
   "metadata": {},
   "source": [
    "##### 11. Create a dictionary with the values for each of the numeric columns"
   ]
  },
  {
   "cell_type": "code",
   "execution_count": 289,
   "metadata": {
    "collapsed": false
   },
   "outputs": [],
   "source": [
    "###Method 1\n",
    "sat_dict = {} \n",
    "for a, b in enumerate(header):\n",
    "    sat_dict[b] = []\n",
    "    for i in sat_data:\n",
    "        sat_dict[b].append(i[a])"
   ]
  },
  {
   "cell_type": "code",
   "execution_count": 290,
   "metadata": {
    "collapsed": false
   },
   "outputs": [
    {
     "data": {
      "text/plain": [
       "['CT',\n",
       " 'NJ',\n",
       " 'MA',\n",
       " 'NY',\n",
       " 'NH',\n",
       " 'RI',\n",
       " 'PA',\n",
       " 'VT',\n",
       " 'ME',\n",
       " 'VA',\n",
       " 'DE',\n",
       " 'MD',\n",
       " 'NC',\n",
       " 'GA',\n",
       " 'IN',\n",
       " 'SC',\n",
       " 'DC',\n",
       " 'OR',\n",
       " 'FL',\n",
       " 'WA',\n",
       " 'TX',\n",
       " 'HI',\n",
       " 'AK',\n",
       " 'CA',\n",
       " 'AZ',\n",
       " 'NV',\n",
       " 'CO',\n",
       " 'OH',\n",
       " 'MT',\n",
       " 'WV',\n",
       " 'ID',\n",
       " 'TN',\n",
       " 'NM',\n",
       " 'IL',\n",
       " 'KY',\n",
       " 'WY',\n",
       " 'MI',\n",
       " 'MN',\n",
       " 'KS',\n",
       " 'AL',\n",
       " 'NE',\n",
       " 'OK',\n",
       " 'MO',\n",
       " 'LA',\n",
       " 'WI',\n",
       " 'AR',\n",
       " 'UT',\n",
       " 'IA',\n",
       " 'SD',\n",
       " 'ND',\n",
       " 'MS',\n",
       " 'All']"
      ]
     },
     "execution_count": 290,
     "metadata": {},
     "output_type": "execute_result"
    }
   ],
   "source": [
    "sat_dict.pop('State')"
   ]
  },
  {
   "cell_type": "code",
   "execution_count": 291,
   "metadata": {
    "collapsed": false
   },
   "outputs": [
    {
     "data": {
      "text/plain": [
       "['Math', 'Rate', 'Verbal']"
      ]
     },
     "execution_count": 291,
     "metadata": {},
     "output_type": "execute_result"
    }
   ],
   "source": [
    "sat_dict.keys()"
   ]
  },
  {
   "cell_type": "code",
   "execution_count": 308,
   "metadata": {
    "collapsed": false
   },
   "outputs": [
    {
     "data": {
      "text/plain": [
       "[(0, 'State'), (1, 'Rate'), (2, 'Verbal'), (3, 'Math')]"
      ]
     },
     "execution_count": 308,
     "metadata": {},
     "output_type": "execute_result"
    }
   ],
   "source": [
    "###Method 2\n",
    "\n",
    "sat_dict_2 = {}\n",
    "new_header_list = list(enumerate(header))\n",
    "new_header_list"
   ]
  },
  {
   "cell_type": "code",
   "execution_count": 309,
   "metadata": {
    "collapsed": false
   },
   "outputs": [],
   "source": [
    "for a, b in new_header_list:\n",
    "    sat_dict_2[b] = []\n",
    "    for i in sat_data:\n",
    "        sat_dict_2[b].append((i[a]))\n",
    "sat_dict_2.pop('State')"
   ]
  },
  {
   "cell_type": "code",
   "execution_count": 310,
   "metadata": {
    "collapsed": false
   },
   "outputs": [
    {
     "data": {
      "text/plain": [
       "['Math', 'Rate', 'Verbal']"
      ]
     },
     "execution_count": 310,
     "metadata": {},
     "output_type": "execute_result"
    }
   ],
   "source": [
    "sat_dict.keys()"
   ]
  },
  {
   "cell_type": "code",
   "execution_count": 311,
   "metadata": {
    "collapsed": false
   },
   "outputs": [
    {
     "data": {
      "text/plain": [
       "[509, 499, 511]"
      ]
     },
     "execution_count": 311,
     "metadata": {},
     "output_type": "execute_result"
    }
   ],
   "source": [
    "sat_dict_2['Verbal'][0:3]"
   ]
  },
  {
   "cell_type": "code",
   "execution_count": 314,
   "metadata": {
    "collapsed": false
   },
   "outputs": [
    {
     "name": "stdout",
     "output_type": "stream",
     "text": [
      "{'Math': [510, 513, 515, 505, 516, 499, 499, 506, 500, 501, 499, 510, 499, 489, 501, 488, 474, 526, 499, 527, 499, 515, 510, 517, 525, 515, 542, 439, 539, 512, 542, 553, 542, 589, 550, 545, 572, 589, 580, 554, 568, 561, 577, 562, 596, 550, 570, 603, 582, 599, 551, 514], 'Rate': [82, 81, 79, 77, 72, 71, 71, 69, 69, 68, 67, 65, 65, 63, 60, 57, 56, 55, 54, 53, 53, 52, 51, 51, 34, 33, 31, 26, 23, 18, 17, 13, 13, 12, 12, 11, 11, 9, 9, 9, 8, 8, 8, 7, 6, 6, 5, 5, 4, 4, 4, 45], 'Verbal': [509, 499, 511, 495, 520, 501, 500, 511, 506, 510, 501, 508, 493, 491, 499, 486, 482, 526, 498, 527, 493, 485, 514, 498, 523, 509, 539, 534, 539, 527, 543, 562, 551, 576, 550, 547, 561, 580, 577, 559, 562, 567, 577, 564, 584, 562, 575, 593, 577, 592, 566, 506]}\n"
     ]
    }
   ],
   "source": [
    "print sat_dict"
   ]
  },
  {
   "cell_type": "markdown",
   "metadata": {},
   "source": [
    "## Step 3: Describe the data"
   ]
  },
  {
   "cell_type": "markdown",
   "metadata": {},
   "source": [
    "##### 12. Print the min and max of each column"
   ]
  },
  {
   "cell_type": "code",
   "execution_count": 325,
   "metadata": {
    "collapsed": false
   },
   "outputs": [
    {
     "name": "stdout",
     "output_type": "stream",
     "text": [
      "Math min 439\n",
      "Math max 603\n",
      "\n",
      "Rate min 4\n",
      "Rate max 82\n",
      "\n",
      "Verbal min 482\n",
      "Verbal max 593\n",
      "\n"
     ]
    }
   ],
   "source": [
    "###Method 1\n",
    "\n",
    "for key in sat_dict:\n",
    "    print key + ' ' + 'min', min(sat_dict[key])\n",
    "    print key + ' ' + 'max', max(sat_dict[key])\n",
    "    print ''"
   ]
  },
  {
   "cell_type": "code",
   "execution_count": 316,
   "metadata": {
    "collapsed": false
   },
   "outputs": [
    {
     "name": "stdout",
     "output_type": "stream",
     "text": [
      "Math min: 439\n",
      "Math max:  603\n",
      "\n",
      "Verbal min: 482\n",
      "Verbal max:  593\n",
      "\n",
      "Rate min: 4\n",
      "Rate max:  82\n"
     ]
    }
   ],
   "source": [
    "###Method 2\n",
    "\n",
    "print 'Math min:', min(sat_dict['Math'])\n",
    "print 'Math max: ', max(sat_dict['Math'])\n",
    "print ''\n",
    "print 'Verbal min:', min(sat_dict['Verbal'])\n",
    "print 'Verbal max: ', max(sat_dict['Verbal'])\n",
    "print ''\n",
    "print 'Rate min:', min(sat_dict['Rate'])\n",
    "print 'Rate max: ', max(sat_dict['Rate'])\n"
   ]
  },
  {
   "cell_type": "markdown",
   "metadata": {},
   "source": [
    "##### 13. Write a function using only list comprehensions, no loops, to compute Standard Deviation. Print the Standard Deviation of each numeric column."
   ]
  },
  {
   "cell_type": "code",
   "execution_count": 352,
   "metadata": {
    "collapsed": false
   },
   "outputs": [],
   "source": [
    "###\n",
    "###SD = sqrt[(Sum(x-mean)^2)/ n -1]\n",
    "key_mean = {}\n",
    "for key in sat_dict:\n",
    "    key_mean.update({key: float(sum(sat_dict[key]))/len(sat_dict[key])})"
   ]
  },
  {
   "cell_type": "code",
   "execution_count": null,
   "metadata": {
    "collapsed": true
   },
   "outputs": [],
   "source": [
    "###Method 1\n",
    "\n",
    "rate = sat_dict['Rate']\n",
    "math = sat_dict['Math']\n",
    "verbal = sat_dict['Verbal']\n",
    "\n",
    "def find_sd(some_list):\n",
    "    key_mean = float(sum(some_list))/len(some_list)\n",
    "    variance_squares = [(i - key_mean) ** 2 for i in some_list]\n",
    "    sum_squares = sum(variance_squares)\n",
    "    sd = (sum_squares/(len(some_list)-1)) ** 0.5\n",
    "    return sd"
   ]
  },
  {
   "cell_type": "code",
   "execution_count": 420,
   "metadata": {
    "collapsed": false
   },
   "outputs": [
    {
     "name": "stdout",
     "output_type": "stream",
     "text": [
      "Standard Deviation for Rate is:  27.3017880729\n",
      "Standard Deviation for Math is:  36.0149750989\n",
      "Standard Deviation for Verbal is:  33.2362254438\n"
     ]
    }
   ],
   "source": [
    "print 'Standard Deviation for Rate is: ', find_sd(rate)\n",
    "print 'Standard Deviation for Math is: ', find_sd(math)\n",
    "print 'Standard Deviation for Verbal is: ', find_sd(verbal)"
   ]
  },
  {
   "cell_type": "code",
   "execution_count": 425,
   "metadata": {
    "collapsed": false
   },
   "outputs": [
    {
     "data": {
      "text/plain": [
       "[35.666996164305949, 27.037996494523586, 32.915094961603266]"
      ]
     },
     "execution_count": 425,
     "metadata": {},
     "output_type": "execute_result"
    }
   ],
   "source": [
    "###Method 2\n",
    "\n",
    "key_sd = [np.std(np.array(sat_dict[key])) for key in sat_dict]\n",
    "key_sd"
   ]
  },
  {
   "cell_type": "code",
   "execution_count": 426,
   "metadata": {
    "collapsed": false
   },
   "outputs": [
    {
     "name": "stdout",
     "output_type": "stream",
     "text": [
      "35.6669961643\n",
      "27.0379964945\n",
      "32.9150949616\n"
     ]
    }
   ],
   "source": [
    "###Method 3\n",
    "\n",
    "for key in sat_dict:\n",
    "    sat_array = np.array(sat_dict[key])\n",
    "    key_sd = np.std(sat_array)\n",
    "    print key_sd"
   ]
  },
  {
   "cell_type": "markdown",
   "metadata": {},
   "source": [
    "## Step 4: Visualize the data"
   ]
  },
  {
   "cell_type": "markdown",
   "metadata": {
    "collapsed": true
   },
   "source": [
    "##### 14. Using MatPlotLib and PyPlot, plot the distribution of the Rate using histograms."
   ]
  },
  {
   "cell_type": "code",
   "execution_count": 462,
   "metadata": {
    "collapsed": false
   },
   "outputs": [],
   "source": [
    "import matplotlib.pyplot as plt\n",
    "%matplotlib inline"
   ]
  },
  {
   "cell_type": "code",
   "execution_count": 539,
   "metadata": {
    "collapsed": false
   },
   "outputs": [
    {
     "data": {
      "text/plain": [
       "<matplotlib.text.Text at 0x1280dd5d0>"
      ]
     },
     "execution_count": 539,
     "metadata": {},
     "output_type": "execute_result"
    },
    {
     "data": {
      "image/png": "[encoded data removed]",
      "text/plain": [
       "<matplotlib.figure.Figure at 0x1215ad550>"
      ]
     },
     "metadata": {},
     "output_type": "display_data"
    }
   ],
   "source": [
    "plt.figure(figsize=(10,4))\n",
    "n, bins, patches = plt.hist(sat_dict['Rate'], bins = 25, facecolor = 'y', alpha=.7)\n",
    "\n",
    "plt.xlabel('\\n Test Rate Bins')\n",
    "plt.ylabel('Frequency\\n')\n",
    "plt.title('Distribution of SAT Test Rate\\n')"
   ]
  },
  {
   "cell_type": "markdown",
   "metadata": {},
   "source": [
    "##### 15. Plot the Math distribution"
   ]
  },
  {
   "cell_type": "code",
   "execution_count": 545,
   "metadata": {
    "collapsed": false
   },
   "outputs": [
    {
     "data": {
      "text/plain": [
       "<matplotlib.text.Text at 0x1253dbd90>"
      ]
     },
     "execution_count": 545,
     "metadata": {},
     "output_type": "execute_result"
    },
    {
     "data": {
      "image/png": "[encoded data removed]",
      "text/plain": [
       "<matplotlib.figure.Figure at 0x122d549d0>"
      ]
     },
     "metadata": {},
     "output_type": "display_data"
    }
   ],
   "source": [
    "plt.figure(figsize=(10,4))\n",
    "n, bins, patches = plt.hist(sat_dict['Math'], bins = 25, facecolor = 'b', alpha=.4)\n",
    "\n",
    "plt.xlabel('\\n Math Score Bins')\n",
    "plt.ylabel('Frequency\\n')\n",
    "plt.title('Distribution of SAT Math Scores\\n')"
   ]
  },
  {
   "cell_type": "markdown",
   "metadata": {},
   "source": [
    "##### 16. Plot the Verbal distribution"
   ]
  },
  {
   "cell_type": "code",
   "execution_count": 541,
   "metadata": {
    "collapsed": false
   },
   "outputs": [
    {
     "data": {
      "text/plain": [
       "<matplotlib.text.Text at 0x1286967d0>"
      ]
     },
     "execution_count": 541,
     "metadata": {},
     "output_type": "execute_result"
    },
    {
     "data": {
      "image/png": "[encoded data removed]",
      "text/plain": [
       "<matplotlib.figure.Figure at 0x1283a32d0>"
      ]
     },
     "metadata": {},
     "output_type": "display_data"
    }
   ],
   "source": [
    "plt.figure(figsize=(10,4))\n",
    "n, bins, patches = plt.hist(sat_dict['Verbal'], bins = 25, facecolor = 'r', alpha=.4)\n",
    "\n",
    "plt.xlabel('\\n Verbal Score Bins')\n",
    "plt.ylabel('Frequency\\n')\n",
    "plt.title('Distribution of SAT Verbal Scores\\n')"
   ]
  },
  {
   "cell_type": "markdown",
   "metadata": {},
   "source": [
    "##### 17. What is the typical assumption for data distribution?"
   ]
  },
  {
   "cell_type": "code",
   "execution_count": 501,
   "metadata": {
    "collapsed": false
   },
   "outputs": [
    {
     "name": "stdout",
     "output_type": "stream",
     "text": [
      "Typical assumption is a normal distribution. See example below.\n"
     ]
    }
   ],
   "source": [
    "print 'Typical assumption is a normal distribution. See example below.'"
   ]
  },
  {
   "cell_type": "code",
   "execution_count": 506,
   "metadata": {
    "collapsed": false
   },
   "outputs": [
    {
     "data": {
      "text/plain": [
       "<matplotlib.axes._subplots.AxesSubplot at 0x122bb4150>"
      ]
     },
     "execution_count": 506,
     "metadata": {},
     "output_type": "execute_result"
    },
    {
     "data": {
      "image/png": "[encoded data removed]",
      "text/plain": [
       "<matplotlib.figure.Figure at 0x1228e6950>"
      ]
     },
     "metadata": {},
     "output_type": "display_data"
    }
   ],
   "source": [
    "plt.figure(figsize=(10,4))\n",
    "a = np.random.randn(1000)\n",
    "sns.distplot(a)"
   ]
  },
  {
   "cell_type": "markdown",
   "metadata": {},
   "source": [
    "##### 18. Does that distribution hold true for our data?"
   ]
  },
  {
   "cell_type": "code",
   "execution_count": 507,
   "metadata": {
    "collapsed": false
   },
   "outputs": [
    {
     "name": "stdout",
     "output_type": "stream",
     "text": [
      "Not really. Definitely not for Verbal.\n"
     ]
    }
   ],
   "source": [
    "print 'Not really. Definitely not for Verbal.'"
   ]
  },
  {
   "cell_type": "code",
   "execution_count": 500,
   "metadata": {
    "collapsed": false
   },
   "outputs": [
    {
     "data": {
      "text/plain": [
       "<matplotlib.axes._subplots.AxesSubplot at 0x122333fd0>"
      ]
     },
     "execution_count": 500,
     "metadata": {},
     "output_type": "execute_result"
    },
    {
     "data": {
      "image/png": "[encoded data removed]",
      "text/plain": [
       "<matplotlib.figure.Figure at 0x122333f90>"
      ]
     },
     "metadata": {},
     "output_type": "display_data"
    }
   ],
   "source": [
    "plt.figure(figsize=(10,4))\n",
    "sns.distplot(sat_dict['Math'], bins = 25, color ='blue')\n",
    "sns.distplot(sat_dict['Verbal'], bins = 25, color='red')"
   ]
  },
  {
   "cell_type": "markdown",
   "metadata": {},
   "source": [
    "##### 19. Plot some scatterplots. **BONUS**: Use a PyPlot `figure` to present multiple plots at once."
   ]
  },
  {
   "cell_type": "code",
   "execution_count": 546,
   "metadata": {
    "collapsed": false
   },
   "outputs": [
    {
     "data": {
      "text/plain": [
       "<matplotlib.text.Text at 0x129824d90>"
      ]
     },
     "execution_count": 546,
     "metadata": {},
     "output_type": "execute_result"
    },
    {
     "data": {
      "image/png": "[encoded data removed]",
      "text/plain": [
       "<matplotlib.figure.Figure at 0x128c81e90>"
      ]
     },
     "metadata": {},
     "output_type": "display_data"
    }
   ],
   "source": [
    "plt.style.use('fivethirtyeight')\n",
    "\n",
    "verbal_math = plt.figure(figsize = (10, 5))\n",
    "axes = verbal_math.gca()\n",
    "axes.scatter(verbal, math, c = 'purple', s = 100)\n",
    "axes.set_title('verbal vs math\\n\\n')\n",
    "axes.set_xlabel('verbal')\n",
    "axes.set_ylabel('math')"
   ]
  },
  {
   "cell_type": "code",
   "execution_count": 547,
   "metadata": {
    "collapsed": false
   },
   "outputs": [
    {
     "data": {
      "text/plain": [
       "<matplotlib.text.Text at 0x129819ed0>"
      ]
     },
     "execution_count": 547,
     "metadata": {},
     "output_type": "execute_result"
    },
    {
     "data": {
      "image/png": "[encoded data removed]",
      "text/plain": [
       "<matplotlib.figure.Figure at 0x128de8790>"
      ]
     },
     "metadata": {},
     "output_type": "display_data"
    }
   ],
   "source": [
    "math_rate = plt.figure(figsize = (10, 5))\n",
    "axes = math_rate.gca()\n",
    "axes.scatter(math, rate, c = 'green', s = 100)\n",
    "axes.set_title('math vs rate\\n\\n')\n",
    "axes.set_xlabel('math')\n",
    "axes.set_ylabel('rate')\n",
    "\n"
   ]
  },
  {
   "cell_type": "code",
   "execution_count": 548,
   "metadata": {
    "collapsed": false
   },
   "outputs": [
    {
     "data": {
      "text/plain": [
       "<matplotlib.text.Text at 0x129b95250>"
      ]
     },
     "execution_count": 548,
     "metadata": {},
     "output_type": "execute_result"
    },
    {
     "data": {
      "image/png": "[encoded data removed]",
      "text/plain": [
       "<matplotlib.figure.Figure at 0x129ba6a90>"
      ]
     },
     "metadata": {},
     "output_type": "display_data"
    }
   ],
   "source": [
    "verbal_rate = plt.figure(figsize = (10, 4))\n",
    "axes = verbal_rate.gca()\n",
    "axes.scatter(verbal, rate, c = 'orange', s = 150)\n",
    "axes.set_title('verbal vs rate\\n')\n",
    "axes.set_xlabel('verbal')\n",
    "axes.set_ylabel('rate')"
   ]
  },
  {
   "cell_type": "code",
   "execution_count": 549,
   "metadata": {
    "collapsed": false
   },
   "outputs": [
    {
     "data": {
      "text/plain": [
       "<matplotlib.text.Text at 0x12a004b50>"
      ]
     },
     "execution_count": 549,
     "metadata": {},
     "output_type": "execute_result"
    },
    {
     "data": {
      "image/png": "[encoded data removed]",
      "text/plain": [
       "<matplotlib.figure.Figure at 0x129e7fc50>"
      ]
     },
     "metadata": {},
     "output_type": "display_data"
    },
    {
     "data": {
      "image/png": "[encoded data removed]",
      "text/plain": [
       "<matplotlib.figure.Figure at 0x12a06d650>"
      ]
     },
     "metadata": {},
     "output_type": "display_data"
    },
    {
     "data": {
      "image/png": "[encoded data removed]",
      "text/plain": [
       "<matplotlib.figure.Figure at 0x12a0bc310>"
      ]
     },
     "metadata": {},
     "output_type": "display_data"
    }
   ],
   "source": [
    "plt.style.use('fivethirtyeight')\n",
    "\n",
    "verbal_math = plt.figure(figsize = (3, 1))\n",
    "axes = verbal_math.gca()\n",
    "axes.scatter(verbal, math, c = 'purple', s = 100)\n",
    "axes.set_title('verbal vs math\\n\\n')\n",
    "axes.set_xlabel('verbal')\n",
    "axes.set_ylabel('math')\n",
    "\n",
    "math_rate = plt.figure(figsize = (3, 1))\n",
    "axes = math_rate.gca()\n",
    "axes.scatter(math, rate, c = 'green', s = 100)\n",
    "axes.set_title('math vs rate\\n\\n')\n",
    "axes.set_xlabel('math')\n",
    "axes.set_ylabel('rate')\n",
    "\n",
    "verbal_rate = plt.figure(figsize = (3, 1))\n",
    "axes = verbal_rate.gca()\n",
    "axes.scatter(verbal, rate, c = 'orange', s = 150)\n",
    "axes.set_title('verbal vs rate\\n')\n",
    "axes.set_xlabel('verbal')\n",
    "axes.set_ylabel('rate')"
   ]
  },
  {
   "cell_type": "markdown",
   "metadata": {},
   "source": [
    "##### 20. Are there any interesting relationships to note?"
   ]
  },
  {
   "cell_type": "code",
   "execution_count": 559,
   "metadata": {
    "collapsed": false
   },
   "outputs": [
    {
     "name": "stdout",
     "output_type": "stream",
     "text": [
      "There appears to be a strong correlations between math and verbal, a moderate correlation between verbal and rate and a weak one between math and rate.\n"
     ]
    }
   ],
   "source": [
    "print \"There appears to be a strong correlations between math and verbal, a moderate correlation between verbal \\\n",
    "and rate and a weak one between math and rate.\""
   ]
  },
  {
   "cell_type": "markdown",
   "metadata": {},
   "source": [
    "##### 21. Create box plots for each variable. "
   ]
  },
  {
   "cell_type": "code",
   "execution_count": 560,
   "metadata": {
    "collapsed": false
   },
   "outputs": [
    {
     "data": {
      "text/plain": [
       "{'boxes': [<matplotlib.lines.Line2D at 0x12a4ba1d0>],\n",
       " 'caps': [<matplotlib.lines.Line2D at 0x12a4c7110>,\n",
       "  <matplotlib.lines.Line2D at 0x12a4c7750>],\n",
       " 'fliers': [<matplotlib.lines.Line2D at 0x12a4d1410>],\n",
       " 'means': [],\n",
       " 'medians': [<matplotlib.lines.Line2D at 0x12a4c7d90>],\n",
       " 'whiskers': [<matplotlib.lines.Line2D at 0x12a4ba3d0>,\n",
       "  <matplotlib.lines.Line2D at 0x12a4baa90>]}"
      ]
     },
     "execution_count": 560,
     "metadata": {},
     "output_type": "execute_result"
    },
    {
     "data": {
      "image/png": "[encoded data removed]",
      "text/plain": [
       "<matplotlib.figure.Figure at 0x129baf290>"
      ]
     },
     "metadata": {},
     "output_type": "display_data"
    }
   ],
   "source": [
    "plt.boxplot(rate, sat_dict)"
   ]
  },
  {
   "cell_type": "code",
   "execution_count": 562,
   "metadata": {
    "collapsed": false
   },
   "outputs": [
    {
     "data": {
      "text/plain": [
       "{'boxes': [<matplotlib.lines.Line2D at 0x12a6f10d0>],\n",
       " 'caps': [<matplotlib.lines.Line2D at 0x12a6f1fd0>,\n",
       "  <matplotlib.lines.Line2D at 0x12a6fe650>],\n",
       " 'fliers': [<matplotlib.lines.Line2D at 0x12a70a310>],\n",
       " 'means': [],\n",
       " 'medians': [<matplotlib.lines.Line2D at 0x12a6fec90>],\n",
       " 'whiskers': [<matplotlib.lines.Line2D at 0x12a6f12d0>,\n",
       "  <matplotlib.lines.Line2D at 0x12a6f1990>]}"
      ]
     },
     "execution_count": 562,
     "metadata": {},
     "output_type": "execute_result"
    },
    {
     "data": {
      "image/png": "[encoded data removed]",
      "text/plain": [
       "<matplotlib.figure.Figure at 0x129a04b50>"
      ]
     },
     "metadata": {},
     "output_type": "display_data"
    }
   ],
   "source": [
    "plt.boxplot(math, sat_dict)"
   ]
  },
  {
   "cell_type": "code",
   "execution_count": 561,
   "metadata": {
    "collapsed": false
   },
   "outputs": [
    {
     "data": {
      "text/plain": [
       "{'boxes': [<matplotlib.lines.Line2D at 0x12a579ed0>],\n",
       " 'caps': [<matplotlib.lines.Line2D at 0x12a587e10>,\n",
       "  <matplotlib.lines.Line2D at 0x12a592490>],\n",
       " 'fliers': [<matplotlib.lines.Line2D at 0x12a59f150>],\n",
       " 'means': [],\n",
       " 'medians': [<matplotlib.lines.Line2D at 0x12a592ad0>],\n",
       " 'whiskers': [<matplotlib.lines.Line2D at 0x12a587110>,\n",
       "  <matplotlib.lines.Line2D at 0x12a5877d0>]}"
      ]
     },
     "execution_count": 561,
     "metadata": {},
     "output_type": "execute_result"
    },
    {
     "data": {
      "image/png": "[encoded data removed]",
      "text/plain": [
       "<matplotlib.figure.Figure at 0x12a4ed190>"
      ]
     },
     "metadata": {},
     "output_type": "display_data"
    }
   ],
   "source": [
    "plt.boxplot(verbal, sat_dict)"
   ]
  },
  {
   "cell_type": "code",
   "execution_count": 578,
   "metadata": {
    "collapsed": false
   },
   "outputs": [
    {
     "data": {
      "text/plain": [
       "{'boxes': [<matplotlib.lines.Line2D at 0x12ce294d0>],\n",
       " 'caps': [<matplotlib.lines.Line2D at 0x12ce39410>,\n",
       "  <matplotlib.lines.Line2D at 0x12ce39a50>],\n",
       " 'fliers': [<matplotlib.lines.Line2D at 0x12ce45710>],\n",
       " 'means': [],\n",
       " 'medians': [<matplotlib.lines.Line2D at 0x12ce450d0>],\n",
       " 'whiskers': [<matplotlib.lines.Line2D at 0x12ce296d0>,\n",
       "  <matplotlib.lines.Line2D at 0x12ce29d90>]}"
      ]
     },
     "execution_count": 578,
     "metadata": {},
     "output_type": "execute_result"
    },
    {
     "data": {
      "image/png": "[encoded data removed]",
      "text/plain": [
       "<matplotlib.figure.Figure at 0x12cad18d0>"
      ]
     },
     "metadata": {},
     "output_type": "display_data"
    }
   ],
   "source": [
    "###Method 1\n",
    "\n",
    "box = plt.figure()\n",
    "\n",
    "rate_ax = box.add_subplot(133)\n",
    "rate_ax.boxplot(sat_dict['Rate'])\n",
    "\n",
    "math_ax = box.add_subplot(132)\n",
    "math_ax.boxplot(sat_dict['Math'])\n",
    "\n",
    "verbal_ax = box.add_subplot(131)\n",
    "verbal_ax.boxplot(sat_dict['Verbal'])"
   ]
  },
  {
   "cell_type": "code",
   "execution_count": 599,
   "metadata": {
    "collapsed": false
   },
   "outputs": [
    {
     "data": {
      "text/plain": [
       "{'boxes': [<matplotlib.lines.Line2D at 0x12621be10>],\n",
       " 'caps': [<matplotlib.lines.Line2D at 0x127465a50>,\n",
       "  <matplotlib.lines.Line2D at 0x12c637f10>],\n",
       " 'fliers': [<matplotlib.lines.Line2D at 0x1278e9110>],\n",
       " 'means': [],\n",
       " 'medians': [<matplotlib.lines.Line2D at 0x12b121c10>],\n",
       " 'whiskers': [<matplotlib.lines.Line2D at 0x12c775e10>,\n",
       "  <matplotlib.lines.Line2D at 0x127465410>]}"
      ]
     },
     "execution_count": 599,
     "metadata": {},
     "output_type": "execute_result"
    },
    {
     "data": {
      "image/png": "[encoded data removed]",
      "text/plain": [
       "<matplotlib.figure.Figure at 0x12df25510>"
      ]
     },
     "metadata": {},
     "output_type": "display_data"
    }
   ],
   "source": [
    "###Method 2\n",
    "\n",
    "fig, ax = plt.subplots(1,3)\n",
    "ax[0].boxplot(sat_dict['Verbal'])\n",
    "ax[1].boxplot((sat_dict['Math']))\n",
    "ax[2].boxplot((sat_dict['Rate']))"
   ]
  },
  {
   "cell_type": "code",
   "execution_count": 600,
   "metadata": {
    "collapsed": false
   },
   "outputs": [
    {
     "data": {
      "text/plain": [
       "{'boxes': [<matplotlib.lines.Line2D at 0x12ca9b210>],\n",
       " 'caps': [<matplotlib.lines.Line2D at 0x12ca19090>,\n",
       "  <matplotlib.lines.Line2D at 0x12d161210>],\n",
       " 'fliers': [<matplotlib.lines.Line2D at 0x12ca6a350>],\n",
       " 'means': [],\n",
       " 'medians': [<matplotlib.lines.Line2D at 0x12cc8bdd0>],\n",
       " 'whiskers': [<matplotlib.lines.Line2D at 0x12ca19a90>,\n",
       "  <matplotlib.lines.Line2D at 0x12ca194d0>]}"
      ]
     },
     "execution_count": 600,
     "metadata": {},
     "output_type": "execute_result"
    },
    {
     "data": {
      "image/png": "[encoded data removed]",
      "text/plain": [
       "<matplotlib.figure.Figure at 0x12de95b50>"
      ]
     },
     "metadata": {},
     "output_type": "display_data"
    }
   ],
   "source": [
    "###Method 3 (just messing around)\n",
    "\n",
    "fig, ax = plt.subplots()\n",
    "plt.boxplot(sat_dict['Verbal'])\n",
    "plt.boxplot((sat_dict['Math']))\n",
    "plt.boxplot((sat_dict['Rate']))"
   ]
  },
  {
   "cell_type": "markdown",
   "metadata": {},
   "source": [
    "##### BONUS: Using Tableau, create a heat map for each variable using a map of the US. "
   ]
  },
  {
   "cell_type": "code",
   "execution_count": null,
   "metadata": {
    "collapsed": true
   },
   "outputs": [],
   "source": []
  }
 ],
 "metadata": {
  "kernelspec": {
   "display_name": "Python 2",
   "language": "python",
   "name": "python2"
  },
  "language_info": {
   "codemirror_mode": {
    "name": "ipython",
    "version": 2
   },
   "file_extension": ".py",
   "mimetype": "text/x-python",
   "name": "python",
   "nbconvert_exporter": "python",
   "pygments_lexer": "ipython2",
   "version": "2.7.12"
  }
 },
 "nbformat": 4,
 "nbformat_minor": 0
}
