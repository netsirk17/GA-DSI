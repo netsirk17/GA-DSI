{
 "cells": [
  {
   "cell_type": "code",
   "execution_count": 1,
   "metadata": {
    "collapsed": true
   },
   "outputs": [],
   "source": [
    "# load libraries\n",
    "% matplotlib inline\n",
    "\n",
    "import matplotlib.pyplot as plt\n",
    "plt.rcParams['figure.figsize'] = 6, 6\n",
    "\n",
    "import seaborn as sns\n",
    "import numpy as np\n",
    "import pandas as pd\n",
    "from sklearn import linear_model\n",
    "plt.style.use('ggplot')\n",
    "from __future__ import division \n",
    "\n",
    "from sklearn.cross_validation import cross_val_score\n",
    "from sklearn.cross_validation import cross_val_predict\n",
    "from sklearn.metrics import r2_score\n",
    "from sklearn.metrics import mean_squared_error"
   ]
  },
  {
   "cell_type": "code",
   "execution_count": 4,
   "metadata": {
    "collapsed": true
   },
   "outputs": [],
   "source": [
    "csv_filepath = '/Users/kristensu/dropbox/GA-DSI/DSI-copy/projects/projects-weekly/project-03/Iowa_Liquor_sales_sample_10pct.csv'\n",
    "df = pd.read_csv(csv_filepath)"
   ]
  },
  {
   "cell_type": "code",
   "execution_count": 5,
   "metadata": {
    "collapsed": false
   },
   "outputs": [],
   "source": [
    "df.drop([\"County Number\", \"Volume Sold (Gallons)\", \"Category Name\"], axis=1,inplace=True)"
   ]
  },
  {
   "cell_type": "code",
   "execution_count": 6,
   "metadata": {
    "collapsed": false
   },
   "outputs": [
    {
     "data": {
      "text/html": [
       "<div>\n",
       "<table border=\"1\" class=\"dataframe\">\n",
       "  <thead>\n",
       "    <tr style=\"text-align: right;\">\n",
       "      <th></th>\n",
       "      <th>date</th>\n",
       "      <th>store</th>\n",
       "      <th>city</th>\n",
       "      <th>zip</th>\n",
       "      <th>county</th>\n",
       "      <th>category</th>\n",
       "      <th>vendor</th>\n",
       "      <th>item</th>\n",
       "      <th>item description</th>\n",
       "      <th>bottle vol ml</th>\n",
       "      <th>state bottle cost</th>\n",
       "      <th>state bottle retail</th>\n",
       "      <th>bottles sold</th>\n",
       "      <th>sale $</th>\n",
       "      <th>vol sold l</th>\n",
       "    </tr>\n",
       "  </thead>\n",
       "  <tbody>\n",
       "    <tr>\n",
       "      <th>0</th>\n",
       "      <td>11/4/15</td>\n",
       "      <td>3717</td>\n",
       "      <td>SUMNER</td>\n",
       "      <td>50674</td>\n",
       "      <td>Bremer</td>\n",
       "      <td>1051100.0</td>\n",
       "      <td>55</td>\n",
       "      <td>54436</td>\n",
       "      <td>Mr. Boston Apricot Brandy</td>\n",
       "      <td>750</td>\n",
       "      <td>$4.50</td>\n",
       "      <td>$6.75</td>\n",
       "      <td>12</td>\n",
       "      <td>$81.00</td>\n",
       "      <td>9.0</td>\n",
       "    </tr>\n",
       "    <tr>\n",
       "      <th>1</th>\n",
       "      <td>3/2/16</td>\n",
       "      <td>2614</td>\n",
       "      <td>DAVENPORT</td>\n",
       "      <td>52807</td>\n",
       "      <td>Scott</td>\n",
       "      <td>1011100.0</td>\n",
       "      <td>395</td>\n",
       "      <td>27605</td>\n",
       "      <td>Tin Cup</td>\n",
       "      <td>750</td>\n",
       "      <td>$13.75</td>\n",
       "      <td>$20.63</td>\n",
       "      <td>2</td>\n",
       "      <td>$41.26</td>\n",
       "      <td>1.5</td>\n",
       "    </tr>\n",
       "  </tbody>\n",
       "</table>\n",
       "</div>"
      ],
      "text/plain": [
       "      date  store       city    zip  county   category  vendor   item  \\\n",
       "0  11/4/15   3717     SUMNER  50674  Bremer  1051100.0      55  54436   \n",
       "1   3/2/16   2614  DAVENPORT  52807   Scott  1011100.0     395  27605   \n",
       "\n",
       "            item description  bottle vol ml state bottle cost  \\\n",
       "0  Mr. Boston Apricot Brandy            750             $4.50   \n",
       "1                    Tin Cup            750            $13.75   \n",
       "\n",
       "  state bottle retail  bottles sold  sale $  vol sold l  \n",
       "0               $6.75            12  $81.00         9.0  \n",
       "1              $20.63             2  $41.26         1.5  "
      ]
     },
     "execution_count": 6,
     "metadata": {},
     "output_type": "execute_result"
    }
   ],
   "source": [
    "col_name = ['Date', 'Store', 'City', 'Zip', 'County', 'Category',\n",
    "       'Vendor', 'Item', 'Item Description',\n",
    "       'Bottle Vol ml', 'State Bottle Cost', 'State Bottle Retail',\n",
    "       'Bottles Sold', 'Sale $', 'Vol Sold L',]\n",
    "col_name = [x.lower() for x in col_name]\n",
    "df.columns = col_name\n",
    "df.head(2)"
   ]
  },
  {
   "cell_type": "code",
   "execution_count": 16,
   "metadata": {
    "collapsed": false
   },
   "outputs": [],
   "source": [
    "# convert $ to floats\n",
    "df[\"sale $\"]=df[\"sale $\"].apply(lambda x: x.strip(\"$\"))\n",
    "df[\"sale $\"]=df[\"sale $\"].apply(lambda x: x.replace(\",\",\"\"))\n",
    "df[\"sale $\"]=df[\"sale $\"].astype(float)"
   ]
  },
  {
   "cell_type": "code",
   "execution_count": null,
   "metadata": {
    "collapsed": true
   },
   "outputs": [],
   "source": [
    "# convert $ to floats\n",
    "\n",
    "# convert dollars \n",
    "df[\"state bottle cost\"]=df[\"state bottle cost\"].apply(lambda x: x.strip(\"$\"))\n",
    "df[\"state bottle retail\"]=df[\"state bottle retail\"].apply(lambda x: x.strip(\"$\"))\n",
    "\n",
    "\n",
    "# convert to float\n",
    "df[\"state bottle cost\"]=df[\"state bottle cost\"].astype(float)\n",
    "df[\"state bottle retail\"]=df[\"state bottle retail\"].astype(float)"
   ]
  },
  {
   "cell_type": "code",
   "execution_count": 18,
   "metadata": {
    "collapsed": false
   },
   "outputs": [],
   "source": [
    "# convert the date to datetime\n",
    "df[\"date\"] = pd.to_datetime(df[\"date\"])"
   ]
  },
  {
   "cell_type": "code",
   "execution_count": 19,
   "metadata": {
    "collapsed": false
   },
   "outputs": [
    {
     "name": "stdout",
     "output_type": "stream",
     "text": [
      "<class 'pandas.core.frame.DataFrame'>\n",
      "RangeIndex: 270955 entries, 0 to 270954\n",
      "Data columns (total 15 columns):\n",
      "date                   270955 non-null datetime64[ns]\n",
      "store                  270955 non-null int64\n",
      "city                   270955 non-null object\n",
      "zip                    270955 non-null object\n",
      "county                 269878 non-null object\n",
      "category               270887 non-null float64\n",
      "vendor                 270955 non-null int64\n",
      "item                   270955 non-null int64\n",
      "item description       270955 non-null object\n",
      "bottle vol ml          270955 non-null int64\n",
      "state bottle cost      270955 non-null float64\n",
      "state bottle retail    270955 non-null float64\n",
      "bottles sold           270955 non-null int64\n",
      "sale $                 270955 non-null float64\n",
      "vol sold l             270955 non-null float64\n",
      "dtypes: datetime64[ns](1), float64(5), int64(5), object(4)\n",
      "memory usage: 31.0+ MB\n"
     ]
    }
   ],
   "source": [
    "df.info()"
   ]
  },
  {
   "cell_type": "code",
   "execution_count": 20,
   "metadata": {
    "collapsed": false
   },
   "outputs": [
    {
     "data": {
      "text/plain": [
       "date                      0\n",
       "store                     0\n",
       "city                      0\n",
       "zip                       0\n",
       "county                 1077\n",
       "category                 68\n",
       "vendor                    0\n",
       "item                      0\n",
       "item description          0\n",
       "bottle vol ml             0\n",
       "state bottle cost         0\n",
       "state bottle retail       0\n",
       "bottles sold              0\n",
       "sale $                    0\n",
       "vol sold l                0\n",
       "dtype: int64"
      ]
     },
     "execution_count": 20,
     "metadata": {},
     "output_type": "execute_result"
    }
   ],
   "source": [
    "# check for missingness on vars\n",
    "np.sum(df.isnull())\n",
    "# missing info for county and category"
   ]
  },
  {
   "cell_type": "code",
   "execution_count": null,
   "metadata": {
    "collapsed": true
   },
   "outputs": [],
   "source": []
  }
 ],
 "metadata": {
  "kernelspec": {
   "display_name": "Python 2",
   "language": "python",
   "name": "python2"
  },
  "language_info": {
   "codemirror_mode": {
    "name": "ipython",
    "version": 2
   },
   "file_extension": ".py",
   "mimetype": "text/x-python",
   "name": "python",
   "nbconvert_exporter": "python",
   "pygments_lexer": "ipython2",
   "version": "2.7.11"
  }
 },
 "nbformat": 4,
 "nbformat_minor": 0
}
