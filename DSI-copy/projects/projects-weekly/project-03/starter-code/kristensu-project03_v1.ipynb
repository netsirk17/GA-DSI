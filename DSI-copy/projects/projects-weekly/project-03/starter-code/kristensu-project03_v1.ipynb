{
 "cells": [
  {
   "cell_type": "markdown",
   "metadata": {},
   "source": [
    "# Getting started\n",
    "\n",
    "Once you've chosen your scenario, download the data from [the Iowa website](https://data.iowa.gov/Economy/Iowa-Liquor-Sales/m3tr-qhgy) in csv format. Start by loading the data with pandas. You may need to parse the date columns appropriately."
   ]
  },
  {
   "cell_type": "markdown",
   "metadata": {},
   "source": [
    "### 1. Creating dictionary of liquor types and category names"
   ]
  },
  {
   "cell_type": "markdown",
   "metadata": {},
   "source": [
    "liquor_list = ['vodka', 'schnapps', 'whiskey', 'rum', 'scotch', 'gin', 'liqueurs', \\\n",
    "               'brandies', 'tequila', 'beer', 'other']\n",
    "liquor_list = [i.upper() for  i in liquor_list]\n",
    "liquor_dict = {key: [] for key in liquor_list}"
   ]
  },
  {
   "cell_type": "markdown",
   "metadata": {},
   "source": [
    "def liquor_category(adf, alist):\n",
    "    for x in alist:\n",
    "        for i in adf:\n",
    "            if type(i) == float:\n",
    "                pass\n",
    "            else:\n",
    "                if x in i:\n",
    "                    liquor_dict.update({x:i})\n",
    "                else:\n",
    "                    pass\n",
    "\n",
    "liquor_category(iowa2['category_name'], liquor_list)\n",
    "liquor_dict"
   ]
  },
  {
   "cell_type": "markdown",
   "metadata": {},
   "source": [
    "### 2. Converting zip code to int"
   ]
  },
  {
   "cell_type": "markdown",
   "metadata": {},
   "source": [
    "iowa['zip_code'].fillna(value=np.nan, inplace=True)\n",
    "\n",
    "null_zip_code = 0\n",
    "null_zip_list = iowa['zip_code'].isnull()\n",
    "len(null_zip_list)"
   ]
  },
  {
   "cell_type": "markdown",
   "metadata": {},
   "source": []
  },
  {
   "cell_type": "markdown",
   "metadata": {},
   "source": []
  },
  {
   "cell_type": "code",
   "execution_count": 97,
   "metadata": {
    "collapsed": false
   },
   "outputs": [],
   "source": [
    "#import libraries\n",
    "import pandas as pd\n",
    "import numpy as np\n",
    "import seaborn as sns\n",
    "import matplotlib as plt\n",
    "%matplotlib inline \n",
    "\n",
    "from sklearn import datasets\n",
    "from sklearn import linear_model\n",
    "from sklearn.metrics import r2_score\n",
    "from sklearn.cross_validation import train_test_split\n",
    "from sklearn.cross_validation import cross_val_score\n",
    "from sklearn.cross_validation import cross_val_predict\n",
    "from sklearn.metrics import r2_score"
   ]
  },
  {
   "cell_type": "code",
   "execution_count": 98,
   "metadata": {
    "collapsed": false
   },
   "outputs": [],
   "source": [
    "## Load the data into a DataFrame\n",
    "csv_filepath = '/Users/kristensu/dropbox/GA-DSI/DSI-copy/projects/projects-weekly/project-03/Iowa_Liquor_sales_sample_10pct.csv'\n",
    "iowa = pd.read_csv(csv_filepath)"
   ]
  },
  {
   "cell_type": "code",
   "execution_count": 99,
   "metadata": {
    "collapsed": false
   },
   "outputs": [
    {
     "data": {
      "text/html": [
       "<div>\n",
       "<table border=\"1\" class=\"dataframe\">\n",
       "  <thead>\n",
       "    <tr style=\"text-align: right;\">\n",
       "      <th></th>\n",
       "      <th>Date</th>\n",
       "      <th>Store Number</th>\n",
       "      <th>City</th>\n",
       "      <th>Zip Code</th>\n",
       "      <th>County Number</th>\n",
       "      <th>County</th>\n",
       "      <th>Category</th>\n",
       "      <th>Category Name</th>\n",
       "      <th>Vendor Number</th>\n",
       "      <th>Item Number</th>\n",
       "      <th>Item Description</th>\n",
       "      <th>Bottle Volume (ml)</th>\n",
       "      <th>State Bottle Cost</th>\n",
       "      <th>State Bottle Retail</th>\n",
       "      <th>Bottles Sold</th>\n",
       "      <th>Sale (Dollars)</th>\n",
       "      <th>Volume Sold (Liters)</th>\n",
       "      <th>Volume Sold (Gallons)</th>\n",
       "    </tr>\n",
       "  </thead>\n",
       "  <tbody>\n",
       "    <tr>\n",
       "      <th>0</th>\n",
       "      <td>11/4/15</td>\n",
       "      <td>3717</td>\n",
       "      <td>SUMNER</td>\n",
       "      <td>50674</td>\n",
       "      <td>9.0</td>\n",
       "      <td>Bremer</td>\n",
       "      <td>1051100.0</td>\n",
       "      <td>APRICOT BRANDIES</td>\n",
       "      <td>55</td>\n",
       "      <td>54436</td>\n",
       "      <td>Mr. Boston Apricot Brandy</td>\n",
       "      <td>750</td>\n",
       "      <td>$4.50</td>\n",
       "      <td>$6.75</td>\n",
       "      <td>12</td>\n",
       "      <td>$81.00</td>\n",
       "      <td>9.0</td>\n",
       "      <td>2.38</td>\n",
       "    </tr>\n",
       "    <tr>\n",
       "      <th>1</th>\n",
       "      <td>3/2/16</td>\n",
       "      <td>2614</td>\n",
       "      <td>DAVENPORT</td>\n",
       "      <td>52807</td>\n",
       "      <td>82.0</td>\n",
       "      <td>Scott</td>\n",
       "      <td>1011100.0</td>\n",
       "      <td>BLENDED WHISKIES</td>\n",
       "      <td>395</td>\n",
       "      <td>27605</td>\n",
       "      <td>Tin Cup</td>\n",
       "      <td>750</td>\n",
       "      <td>$13.75</td>\n",
       "      <td>$20.63</td>\n",
       "      <td>2</td>\n",
       "      <td>$41.26</td>\n",
       "      <td>1.5</td>\n",
       "      <td>0.40</td>\n",
       "    </tr>\n",
       "    <tr>\n",
       "      <th>2</th>\n",
       "      <td>2/11/16</td>\n",
       "      <td>2106</td>\n",
       "      <td>CEDAR FALLS</td>\n",
       "      <td>50613</td>\n",
       "      <td>7.0</td>\n",
       "      <td>Black Hawk</td>\n",
       "      <td>1011200.0</td>\n",
       "      <td>STRAIGHT BOURBON WHISKIES</td>\n",
       "      <td>65</td>\n",
       "      <td>19067</td>\n",
       "      <td>Jim Beam</td>\n",
       "      <td>1000</td>\n",
       "      <td>$12.59</td>\n",
       "      <td>$18.89</td>\n",
       "      <td>24</td>\n",
       "      <td>$453.36</td>\n",
       "      <td>24.0</td>\n",
       "      <td>6.34</td>\n",
       "    </tr>\n",
       "  </tbody>\n",
       "</table>\n",
       "</div>"
      ],
      "text/plain": [
       "      Date  Store Number         City Zip Code  County Number      County  \\\n",
       "0  11/4/15          3717       SUMNER    50674            9.0      Bremer   \n",
       "1   3/2/16          2614    DAVENPORT    52807           82.0       Scott   \n",
       "2  2/11/16          2106  CEDAR FALLS    50613            7.0  Black Hawk   \n",
       "\n",
       "    Category              Category Name  Vendor Number  Item Number  \\\n",
       "0  1051100.0           APRICOT BRANDIES             55        54436   \n",
       "1  1011100.0           BLENDED WHISKIES            395        27605   \n",
       "2  1011200.0  STRAIGHT BOURBON WHISKIES             65        19067   \n",
       "\n",
       "            Item Description  Bottle Volume (ml) State Bottle Cost  \\\n",
       "0  Mr. Boston Apricot Brandy                 750             $4.50   \n",
       "1                    Tin Cup                 750            $13.75   \n",
       "2                   Jim Beam                1000            $12.59   \n",
       "\n",
       "  State Bottle Retail  Bottles Sold Sale (Dollars)  Volume Sold (Liters)  \\\n",
       "0               $6.75            12         $81.00                   9.0   \n",
       "1              $20.63             2         $41.26                   1.5   \n",
       "2              $18.89            24        $453.36                  24.0   \n",
       "\n",
       "   Volume Sold (Gallons)  \n",
       "0                   2.38  \n",
       "1                   0.40  \n",
       "2                   6.34  "
      ]
     },
     "execution_count": 99,
     "metadata": {},
     "output_type": "execute_result"
    }
   ],
   "source": [
    "iowa.head(3)"
   ]
  },
  {
   "cell_type": "code",
   "execution_count": 100,
   "metadata": {
    "collapsed": false
   },
   "outputs": [
    {
     "name": "stdout",
     "output_type": "stream",
     "text": [
      "Index([u'Date', u'Store Number', u'City', u'Zip Code', u'County Number',\n",
      "       u'County', u'Category', u'Category Name', u'Vendor Number',\n",
      "       u'Item Number', u'Item Description', u'Bottle Volume (ml)',\n",
      "       u'State Bottle Cost', u'State Bottle Retail', u'Bottles Sold',\n",
      "       u'Sale (Dollars)', u'Volume Sold (Liters)', u'Volume Sold (Gallons)'],\n",
      "      dtype='object')\n",
      "(270955, 18)\n"
     ]
    }
   ],
   "source": [
    "print iowa.columns\n",
    "print iowa.shape"
   ]
  },
  {
   "cell_type": "markdown",
   "metadata": {},
   "source": [
    "# Clean Data"
   ]
  },
  {
   "cell_type": "markdown",
   "metadata": {},
   "source": [
    "### Drop duplicate columns"
   ]
  },
  {
   "cell_type": "code",
   "execution_count": 101,
   "metadata": {
    "collapsed": false
   },
   "outputs": [],
   "source": [
    "#Drop cols that contain same info as another col\n",
    "iowa.drop(['County Number', 'Category', 'Item Number', 'Volume Sold (Gallons)'], axis=1, inplace=True)"
   ]
  },
  {
   "cell_type": "markdown",
   "metadata": {},
   "source": [
    "### Clean column names"
   ]
  },
  {
   "cell_type": "code",
   "execution_count": 102,
   "metadata": {
    "collapsed": false
   },
   "outputs": [],
   "source": [
    "# Clean column name 1: Rename columns\n",
    "iowa.rename(columns={'Bottle Volume (ml)':'Bottle Volume', 'Sale (Dollars)':'Sales', \\\n",
    "               'Volume Sold (Liters)':'Volume Sold'}, inplace=True)\n",
    "\n",
    "# Clean column names 2: Change all column names to lowercase letters\n",
    "iowa.rename(columns=lambda x: x.lower(), inplace=True)\n",
    "\n",
    "# Clean column names 3: Replace ' ' with '_'\n",
    "iowa.rename(columns=lambda x: x.replace(\" \",\"_\"), inplace=True)"
   ]
  },
  {
   "cell_type": "code",
   "execution_count": 103,
   "metadata": {
    "collapsed": false
   },
   "outputs": [
    {
     "data": {
      "text/plain": [
       "date                      0\n",
       "store_number              0\n",
       "city                      0\n",
       "zip_code                  0\n",
       "county                 1077\n",
       "category_name           632\n",
       "vendor_number             0\n",
       "item_description          0\n",
       "bottle_volume             0\n",
       "state_bottle_cost         0\n",
       "state_bottle_retail       0\n",
       "bottles_sold              0\n",
       "sales                     0\n",
       "volume_sold               0\n",
       "dtype: int64"
      ]
     },
     "execution_count": 103,
     "metadata": {},
     "output_type": "execute_result"
    }
   ],
   "source": [
    "iowa.isnull().sum()"
   ]
  },
  {
   "cell_type": "markdown",
   "metadata": {},
   "source": [
    "\n",
    "### Clean values in columns with currency and date"
   ]
  },
  {
   "cell_type": "markdown",
   "metadata": {},
   "source": [
    "### *Clean zip codes later on"
   ]
  },
  {
   "cell_type": "code",
   "execution_count": 104,
   "metadata": {
    "collapsed": false
   },
   "outputs": [],
   "source": [
    "# Convert columns with dollar amounts from object to numeric float\n",
    "currency = ['sales', 'state_bottle_cost', 'state_bottle_retail']\n",
    "iowa[currency] = iowa[currency].apply(lambda x: x.str.replace('$',''))\n",
    "iowa[currency] = iowa[currency].apply(lambda x: x.str.replace(',',''))\n",
    "iowa[currency] = iowa[currency].apply(lambda x: pd.to_numeric(x))\n",
    "\n",
    "# Convert date from object to datetime\n",
    "iowa['date'] = pd.to_datetime(iowa['date'])"
   ]
  },
  {
   "cell_type": "code",
   "execution_count": 105,
   "metadata": {
    "collapsed": false
   },
   "outputs": [
    {
     "name": "stdout",
     "output_type": "stream",
     "text": [
      "<class 'pandas.core.frame.DataFrame'>\n",
      "RangeIndex: 270955 entries, 0 to 270954\n",
      "Data columns (total 14 columns):\n",
      "date                   270955 non-null datetime64[ns]\n",
      "store_number           270955 non-null int64\n",
      "city                   270955 non-null object\n",
      "zip_code               270955 non-null object\n",
      "county                 269878 non-null object\n",
      "category_name          270323 non-null object\n",
      "vendor_number          270955 non-null int64\n",
      "item_description       270955 non-null object\n",
      "bottle_volume          270955 non-null int64\n",
      "state_bottle_cost      270955 non-null float64\n",
      "state_bottle_retail    270955 non-null float64\n",
      "bottles_sold           270955 non-null int64\n",
      "sales                  270955 non-null float64\n",
      "volume_sold            270955 non-null float64\n",
      "dtypes: datetime64[ns](1), float64(4), int64(4), object(5)\n",
      "memory usage: 28.9+ MB\n"
     ]
    }
   ],
   "source": [
    "iowa.info()"
   ]
  },
  {
   "cell_type": "markdown",
   "metadata": {},
   "source": [
    "### Check for and replace NaNs"
   ]
  },
  {
   "cell_type": "code",
   "execution_count": 106,
   "metadata": {
    "collapsed": false
   },
   "outputs": [
    {
     "data": {
      "text/plain": [
       "date                      0\n",
       "store_number              0\n",
       "city                      0\n",
       "zip_code                  0\n",
       "county                 1077\n",
       "category_name           632\n",
       "vendor_number             0\n",
       "item_description          0\n",
       "bottle_volume             0\n",
       "state_bottle_cost         0\n",
       "state_bottle_retail       0\n",
       "bottles_sold              0\n",
       "sales                     0\n",
       "volume_sold               0\n",
       "dtype: int64"
      ]
     },
     "execution_count": 106,
     "metadata": {},
     "output_type": "execute_result"
    }
   ],
   "source": [
    "iowa.isnull().sum()"
   ]
  },
  {
   "cell_type": "markdown",
   "metadata": {},
   "source": [
    "### Remove Duplicate County Names & Fill in Missing Counties"
   ]
  },
  {
   "cell_type": "code",
   "execution_count": 233,
   "metadata": {
    "collapsed": false
   },
   "outputs": [
    {
     "data": {
      "text/html": [
       "<div>\n",
       "<table border=\"1\" class=\"dataframe\">\n",
       "  <thead>\n",
       "    <tr style=\"text-align: right;\">\n",
       "      <th></th>\n",
       "      <th>city</th>\n",
       "      <th>county</th>\n",
       "    </tr>\n",
       "  </thead>\n",
       "  <tbody>\n",
       "    <tr>\n",
       "      <th>0</th>\n",
       "      <td>ACKLEY</td>\n",
       "      <td>Hardin</td>\n",
       "    </tr>\n",
       "    <tr>\n",
       "      <th>1</th>\n",
       "      <td>ACKLEY</td>\n",
       "      <td>Webster</td>\n",
       "    </tr>\n",
       "    <tr>\n",
       "      <th>2</th>\n",
       "      <td>ADAIR</td>\n",
       "      <td>Adair</td>\n",
       "    </tr>\n",
       "    <tr>\n",
       "      <th>3</th>\n",
       "      <td>ADEL</td>\n",
       "      <td>Dallas</td>\n",
       "    </tr>\n",
       "    <tr>\n",
       "      <th>4</th>\n",
       "      <td>AFTON</td>\n",
       "      <td>Union</td>\n",
       "    </tr>\n",
       "  </tbody>\n",
       "</table>\n",
       "</div>"
      ],
      "text/plain": [
       "     city   county\n",
       "0  ACKLEY   Hardin\n",
       "1  ACKLEY  Webster\n",
       "2   ADAIR    Adair\n",
       "3    ADEL   Dallas\n",
       "4   AFTON    Union"
      ]
     },
     "execution_count": 233,
     "metadata": {},
     "output_type": "execute_result"
    }
   ],
   "source": [
    "# Match missing County with City\n",
    "df_county = pd.pivot_table(iowa, index=['city', 'county'], values=['sales'], aggfunc=sum)\n",
    "df_county.drop('sales', axis=1, inplace=True)\n",
    "df_county.reset_index(inplace=True)\n",
    "df_county.head()"
   ]
  },
  {
   "cell_type": "code",
   "execution_count": 234,
   "metadata": {
    "collapsed": false
   },
   "outputs": [
    {
     "name": "stdout",
     "output_type": "stream",
     "text": [
      "11\n"
     ]
    },
    {
     "data": {
      "text/plain": [
       "1               ACKLEY\n",
       "33          BETTENDORF\n",
       "66               CLIVE\n",
       "74             CORNING\n",
       "135         FORT DODGE\n",
       "260             NEWTON\n",
       "264      NORTH LIBERTY\n",
       "277          OSKALOOSA\n",
       "289              PERRY\n",
       "337       STATE CENTER\n",
       "380    WEST DES MOINES\n",
       "Name: city, dtype: object"
      ]
     },
     "execution_count": 234,
     "metadata": {},
     "output_type": "execute_result"
    }
   ],
   "source": [
    "print df_county['city'].duplicated().sum()\n",
    "a = df_county[df_county['city'].duplicated() == True].index.tolist()\n",
    "df_county['city'].loc[a]"
   ]
  },
  {
   "cell_type": "code",
   "execution_count": 235,
   "metadata": {
    "collapsed": false
   },
   "outputs": [],
   "source": [
    "b = [i+1 for i in a]\n",
    "c = [i-1 for i in a]\n",
    "d = a + b + c\n",
    "e = sorted(d)"
   ]
  },
  {
   "cell_type": "code",
   "execution_count": 236,
   "metadata": {
    "collapsed": false
   },
   "outputs": [],
   "source": [
    "df_county.loc[e, :]\n",
    "county_dict = {'bettendorf':'scott', 'corning':'adams', 'fort dodge': 'webster','newton':'jasper', \\\n",
    "               'north libery':'johnson', 'OSKALOOSA': 'mahaska', 'PERRY':'dallas', 'STATE CENTER': 'marshall'}\n",
    "# Did not use drop_duplicates() because I did not want to automatically drop the second duplicate\n",
    "# So I checked the counties of duplicate cities and dropped incorrect city-county mappings\n",
    "# It also turns out some towns (Ackley, Clive, and West Des Moines are located in multiple counties)\n",
    "# Remove from iowa dataframe: index [32, 74, 134, 260, 263, 276, 288, 336]"
   ]
  },
  {
   "cell_type": "code",
   "execution_count": 237,
   "metadata": {
    "collapsed": false
   },
   "outputs": [
    {
     "data": {
      "text/html": [
       "<div>\n",
       "<table border=\"1\" class=\"dataframe\">\n",
       "  <thead>\n",
       "    <tr style=\"text-align: right;\">\n",
       "      <th></th>\n",
       "      <th>city</th>\n",
       "      <th>county</th>\n",
       "    </tr>\n",
       "  </thead>\n",
       "  <tbody>\n",
       "    <tr>\n",
       "      <th>0</th>\n",
       "      <td>ACKLEY</td>\n",
       "      <td>Hardin</td>\n",
       "    </tr>\n",
       "    <tr>\n",
       "      <th>1</th>\n",
       "      <td>ACKLEY_WEBSTER</td>\n",
       "      <td>Webster</td>\n",
       "    </tr>\n",
       "    <tr>\n",
       "      <th>2</th>\n",
       "      <td>ADAIR</td>\n",
       "      <td>Adair</td>\n",
       "    </tr>\n",
       "    <tr>\n",
       "      <th>3</th>\n",
       "      <td>ADEL</td>\n",
       "      <td>Dallas</td>\n",
       "    </tr>\n",
       "    <tr>\n",
       "      <th>4</th>\n",
       "      <td>AFTON</td>\n",
       "      <td>Union</td>\n",
       "    </tr>\n",
       "    <tr>\n",
       "      <th>5</th>\n",
       "      <td>AKRON</td>\n",
       "      <td>Plymouth</td>\n",
       "    </tr>\n",
       "    <tr>\n",
       "      <th>6</th>\n",
       "      <td>ALBIA</td>\n",
       "      <td>Monroe</td>\n",
       "    </tr>\n",
       "    <tr>\n",
       "      <th>7</th>\n",
       "      <td>ALDEN</td>\n",
       "      <td>Hardin</td>\n",
       "    </tr>\n",
       "    <tr>\n",
       "      <th>8</th>\n",
       "      <td>ALGONA</td>\n",
       "      <td>Kossuth</td>\n",
       "    </tr>\n",
       "    <tr>\n",
       "      <th>9</th>\n",
       "      <td>ALLISON</td>\n",
       "      <td>Butler</td>\n",
       "    </tr>\n",
       "    <tr>\n",
       "      <th>10</th>\n",
       "      <td>ALTA</td>\n",
       "      <td>Buena Vista</td>\n",
       "    </tr>\n",
       "    <tr>\n",
       "      <th>11</th>\n",
       "      <td>ALTOONA</td>\n",
       "      <td>Polk</td>\n",
       "    </tr>\n",
       "    <tr>\n",
       "      <th>12</th>\n",
       "      <td>AMES</td>\n",
       "      <td>Story</td>\n",
       "    </tr>\n",
       "    <tr>\n",
       "      <th>13</th>\n",
       "      <td>ANAMOSA</td>\n",
       "      <td>Jones</td>\n",
       "    </tr>\n",
       "    <tr>\n",
       "      <th>14</th>\n",
       "      <td>ANITA</td>\n",
       "      <td>Cass</td>\n",
       "    </tr>\n",
       "    <tr>\n",
       "      <th>15</th>\n",
       "      <td>ANKENY</td>\n",
       "      <td>Polk</td>\n",
       "    </tr>\n",
       "    <tr>\n",
       "      <th>16</th>\n",
       "      <td>ANTHON</td>\n",
       "      <td>Woodbury</td>\n",
       "    </tr>\n",
       "    <tr>\n",
       "      <th>17</th>\n",
       "      <td>ARLINGTON</td>\n",
       "      <td>Fayette</td>\n",
       "    </tr>\n",
       "    <tr>\n",
       "      <th>18</th>\n",
       "      <td>ARMSTRONG</td>\n",
       "      <td>Emmet</td>\n",
       "    </tr>\n",
       "    <tr>\n",
       "      <th>19</th>\n",
       "      <td>ARNOLD'S PARK</td>\n",
       "      <td>Dickinson</td>\n",
       "    </tr>\n",
       "    <tr>\n",
       "      <th>20</th>\n",
       "      <td>ARNOLDS PARK</td>\n",
       "      <td>Dickinson</td>\n",
       "    </tr>\n",
       "    <tr>\n",
       "      <th>21</th>\n",
       "      <td>ATLANTIC</td>\n",
       "      <td>Cass</td>\n",
       "    </tr>\n",
       "    <tr>\n",
       "      <th>22</th>\n",
       "      <td>AUDUBON</td>\n",
       "      <td>Audubon</td>\n",
       "    </tr>\n",
       "    <tr>\n",
       "      <th>23</th>\n",
       "      <td>AURELIA</td>\n",
       "      <td>Cherokee</td>\n",
       "    </tr>\n",
       "    <tr>\n",
       "      <th>24</th>\n",
       "      <td>AVOCA</td>\n",
       "      <td>Pottawattamie</td>\n",
       "    </tr>\n",
       "    <tr>\n",
       "      <th>25</th>\n",
       "      <td>BALDWIN</td>\n",
       "      <td>Jackson</td>\n",
       "    </tr>\n",
       "    <tr>\n",
       "      <th>26</th>\n",
       "      <td>BANCROFT</td>\n",
       "      <td>Kossuth</td>\n",
       "    </tr>\n",
       "    <tr>\n",
       "      <th>27</th>\n",
       "      <td>BAXTER</td>\n",
       "      <td>Jasper</td>\n",
       "    </tr>\n",
       "    <tr>\n",
       "      <th>28</th>\n",
       "      <td>BEDFORD</td>\n",
       "      <td>Taylor</td>\n",
       "    </tr>\n",
       "    <tr>\n",
       "      <th>29</th>\n",
       "      <td>BELLE PLAINE</td>\n",
       "      <td>Benton</td>\n",
       "    </tr>\n",
       "    <tr>\n",
       "      <th>...</th>\n",
       "      <td>...</td>\n",
       "      <td>...</td>\n",
       "    </tr>\n",
       "    <tr>\n",
       "      <th>363</th>\n",
       "      <td>WALL LAKE</td>\n",
       "      <td>Sac</td>\n",
       "    </tr>\n",
       "    <tr>\n",
       "      <th>364</th>\n",
       "      <td>WALNUT</td>\n",
       "      <td>Pottawattamie</td>\n",
       "    </tr>\n",
       "    <tr>\n",
       "      <th>365</th>\n",
       "      <td>WAPELLO</td>\n",
       "      <td>Louisa</td>\n",
       "    </tr>\n",
       "    <tr>\n",
       "      <th>366</th>\n",
       "      <td>WASHBURN</td>\n",
       "      <td>Black Hawk</td>\n",
       "    </tr>\n",
       "    <tr>\n",
       "      <th>367</th>\n",
       "      <td>WASHINGTON</td>\n",
       "      <td>Washington</td>\n",
       "    </tr>\n",
       "    <tr>\n",
       "      <th>368</th>\n",
       "      <td>WATERLOO</td>\n",
       "      <td>Black Hawk</td>\n",
       "    </tr>\n",
       "    <tr>\n",
       "      <th>369</th>\n",
       "      <td>WAUKEE</td>\n",
       "      <td>Dallas</td>\n",
       "    </tr>\n",
       "    <tr>\n",
       "      <th>370</th>\n",
       "      <td>WAUKON</td>\n",
       "      <td>Allamakee</td>\n",
       "    </tr>\n",
       "    <tr>\n",
       "      <th>371</th>\n",
       "      <td>WAVERLY</td>\n",
       "      <td>Bremer</td>\n",
       "    </tr>\n",
       "    <tr>\n",
       "      <th>372</th>\n",
       "      <td>WEBSTER CITY</td>\n",
       "      <td>Hamilton</td>\n",
       "    </tr>\n",
       "    <tr>\n",
       "      <th>373</th>\n",
       "      <td>WELLMAN</td>\n",
       "      <td>Wapello</td>\n",
       "    </tr>\n",
       "    <tr>\n",
       "      <th>374</th>\n",
       "      <td>WELLSBURG</td>\n",
       "      <td>Grundy</td>\n",
       "    </tr>\n",
       "    <tr>\n",
       "      <th>375</th>\n",
       "      <td>WESLEY</td>\n",
       "      <td>Kossuth</td>\n",
       "    </tr>\n",
       "    <tr>\n",
       "      <th>376</th>\n",
       "      <td>WEST BEND</td>\n",
       "      <td>Kossuth</td>\n",
       "    </tr>\n",
       "    <tr>\n",
       "      <th>377</th>\n",
       "      <td>WEST BRANCH</td>\n",
       "      <td>Cedar</td>\n",
       "    </tr>\n",
       "    <tr>\n",
       "      <th>378</th>\n",
       "      <td>WEST BURLINGTON</td>\n",
       "      <td>Des Moines</td>\n",
       "    </tr>\n",
       "    <tr>\n",
       "      <th>379</th>\n",
       "      <td>WEST DES MOINES</td>\n",
       "      <td>Dallas</td>\n",
       "    </tr>\n",
       "    <tr>\n",
       "      <th>380</th>\n",
       "      <td>WEST_DES_MOINES_POLK</td>\n",
       "      <td>Polk</td>\n",
       "    </tr>\n",
       "    <tr>\n",
       "      <th>381</th>\n",
       "      <td>WEST LIBERTY</td>\n",
       "      <td>Muscatine</td>\n",
       "    </tr>\n",
       "    <tr>\n",
       "      <th>382</th>\n",
       "      <td>WEST POINT</td>\n",
       "      <td>Lee</td>\n",
       "    </tr>\n",
       "    <tr>\n",
       "      <th>383</th>\n",
       "      <td>WEST UNION</td>\n",
       "      <td>Fayette</td>\n",
       "    </tr>\n",
       "    <tr>\n",
       "      <th>384</th>\n",
       "      <td>WHEATLAND</td>\n",
       "      <td>Clinton</td>\n",
       "    </tr>\n",
       "    <tr>\n",
       "      <th>385</th>\n",
       "      <td>WILLIAMSBURG</td>\n",
       "      <td>Iowa</td>\n",
       "    </tr>\n",
       "    <tr>\n",
       "      <th>386</th>\n",
       "      <td>WILTON</td>\n",
       "      <td>Muscatine</td>\n",
       "    </tr>\n",
       "    <tr>\n",
       "      <th>387</th>\n",
       "      <td>WINDSOR HEIGHTS</td>\n",
       "      <td>Polk</td>\n",
       "    </tr>\n",
       "    <tr>\n",
       "      <th>388</th>\n",
       "      <td>WINTERSET</td>\n",
       "      <td>Madison</td>\n",
       "    </tr>\n",
       "    <tr>\n",
       "      <th>389</th>\n",
       "      <td>WINTHROP</td>\n",
       "      <td>Buchanan</td>\n",
       "    </tr>\n",
       "    <tr>\n",
       "      <th>390</th>\n",
       "      <td>WOODBINE</td>\n",
       "      <td>Harrison</td>\n",
       "    </tr>\n",
       "    <tr>\n",
       "      <th>391</th>\n",
       "      <td>WOODWARD</td>\n",
       "      <td>Dallas</td>\n",
       "    </tr>\n",
       "    <tr>\n",
       "      <th>392</th>\n",
       "      <td>ZWINGLE</td>\n",
       "      <td>Jackson</td>\n",
       "    </tr>\n",
       "  </tbody>\n",
       "</table>\n",
       "<p>385 rows × 2 columns</p>\n",
       "</div>"
      ],
      "text/plain": [
       "                     city         county\n",
       "0                  ACKLEY         Hardin\n",
       "1          ACKLEY_WEBSTER        Webster\n",
       "2                   ADAIR          Adair\n",
       "3                    ADEL         Dallas\n",
       "4                   AFTON          Union\n",
       "5                   AKRON       Plymouth\n",
       "6                   ALBIA         Monroe\n",
       "7                   ALDEN         Hardin\n",
       "8                  ALGONA        Kossuth\n",
       "9                 ALLISON         Butler\n",
       "10                   ALTA    Buena Vista\n",
       "11                ALTOONA           Polk\n",
       "12                   AMES          Story\n",
       "13                ANAMOSA          Jones\n",
       "14                  ANITA           Cass\n",
       "15                 ANKENY           Polk\n",
       "16                 ANTHON       Woodbury\n",
       "17              ARLINGTON        Fayette\n",
       "18              ARMSTRONG          Emmet\n",
       "19          ARNOLD'S PARK      Dickinson\n",
       "20           ARNOLDS PARK      Dickinson\n",
       "21               ATLANTIC           Cass\n",
       "22                AUDUBON        Audubon\n",
       "23                AURELIA       Cherokee\n",
       "24                  AVOCA  Pottawattamie\n",
       "25                BALDWIN        Jackson\n",
       "26               BANCROFT        Kossuth\n",
       "27                 BAXTER         Jasper\n",
       "28                BEDFORD         Taylor\n",
       "29           BELLE PLAINE         Benton\n",
       "..                    ...            ...\n",
       "363             WALL LAKE            Sac\n",
       "364                WALNUT  Pottawattamie\n",
       "365               WAPELLO         Louisa\n",
       "366              WASHBURN     Black Hawk\n",
       "367            WASHINGTON     Washington\n",
       "368              WATERLOO     Black Hawk\n",
       "369                WAUKEE         Dallas\n",
       "370                WAUKON      Allamakee\n",
       "371               WAVERLY         Bremer\n",
       "372          WEBSTER CITY       Hamilton\n",
       "373               WELLMAN        Wapello\n",
       "374             WELLSBURG         Grundy\n",
       "375                WESLEY        Kossuth\n",
       "376             WEST BEND        Kossuth\n",
       "377           WEST BRANCH          Cedar\n",
       "378       WEST BURLINGTON     Des Moines\n",
       "379       WEST DES MOINES         Dallas\n",
       "380  WEST_DES_MOINES_POLK           Polk\n",
       "381          WEST LIBERTY      Muscatine\n",
       "382            WEST POINT            Lee\n",
       "383            WEST UNION        Fayette\n",
       "384             WHEATLAND        Clinton\n",
       "385          WILLIAMSBURG           Iowa\n",
       "386                WILTON      Muscatine\n",
       "387       WINDSOR HEIGHTS           Polk\n",
       "388             WINTERSET        Madison\n",
       "389              WINTHROP       Buchanan\n",
       "390              WOODBINE       Harrison\n",
       "391              WOODWARD         Dallas\n",
       "392               ZWINGLE        Jackson\n",
       "\n",
       "[385 rows x 2 columns]"
      ]
     },
     "execution_count": 237,
     "metadata": {},
     "output_type": "execute_result"
    }
   ],
   "source": [
    "# Remove from iowa dataframe: index [32, 74, 134, 260, 263, 276, 288, 336]\n",
    "df_county.drop([32, 74, 134, 260, 263, 276, 288, 336], inplace=True)\n",
    "\n",
    "# Rename Ackley, Clive, and West Des Moines to account for parts of town in different counties\n",
    "df_county.set_value([1,66,380], 'city', ['ACKLEY_WEBSTER', 'CLIVE_POLK', 'WEST_DES_MOINES_POLK'])"
   ]
  },
  {
   "cell_type": "code",
   "execution_count": 238,
   "metadata": {
    "collapsed": false
   },
   "outputs": [
    {
     "data": {
      "text/html": [
       "<div>\n",
       "<table border=\"1\" class=\"dataframe\">\n",
       "  <thead>\n",
       "    <tr style=\"text-align: right;\">\n",
       "      <th></th>\n",
       "      <th>date</th>\n",
       "      <th>store_number</th>\n",
       "      <th>city</th>\n",
       "      <th>zip_code</th>\n",
       "      <th>county_x</th>\n",
       "      <th>category_name</th>\n",
       "      <th>vendor_number</th>\n",
       "      <th>item_description</th>\n",
       "      <th>bottle_volume</th>\n",
       "      <th>state_bottle_cost</th>\n",
       "      <th>state_bottle_retail</th>\n",
       "      <th>bottles_sold</th>\n",
       "      <th>sales</th>\n",
       "      <th>volume_sold</th>\n",
       "      <th>county_y</th>\n",
       "    </tr>\n",
       "  </thead>\n",
       "  <tbody>\n",
       "    <tr>\n",
       "      <th>0</th>\n",
       "      <td>2015-11-04</td>\n",
       "      <td>3717</td>\n",
       "      <td>SUMNER</td>\n",
       "      <td>50674</td>\n",
       "      <td>Bremer</td>\n",
       "      <td>APRICOT BRANDIES</td>\n",
       "      <td>55</td>\n",
       "      <td>Mr. Boston Apricot Brandy</td>\n",
       "      <td>750</td>\n",
       "      <td>4.50</td>\n",
       "      <td>6.75</td>\n",
       "      <td>12</td>\n",
       "      <td>81.00</td>\n",
       "      <td>9.0</td>\n",
       "      <td>Bremer</td>\n",
       "    </tr>\n",
       "    <tr>\n",
       "      <th>1</th>\n",
       "      <td>2016-03-02</td>\n",
       "      <td>2614</td>\n",
       "      <td>DAVENPORT</td>\n",
       "      <td>52807</td>\n",
       "      <td>Scott</td>\n",
       "      <td>BLENDED WHISKIES</td>\n",
       "      <td>395</td>\n",
       "      <td>Tin Cup</td>\n",
       "      <td>750</td>\n",
       "      <td>13.75</td>\n",
       "      <td>20.63</td>\n",
       "      <td>2</td>\n",
       "      <td>41.26</td>\n",
       "      <td>1.5</td>\n",
       "      <td>Scott</td>\n",
       "    </tr>\n",
       "    <tr>\n",
       "      <th>2</th>\n",
       "      <td>2016-02-11</td>\n",
       "      <td>2106</td>\n",
       "      <td>CEDAR FALLS</td>\n",
       "      <td>50613</td>\n",
       "      <td>Black Hawk</td>\n",
       "      <td>STRAIGHT BOURBON WHISKIES</td>\n",
       "      <td>65</td>\n",
       "      <td>Jim Beam</td>\n",
       "      <td>1000</td>\n",
       "      <td>12.59</td>\n",
       "      <td>18.89</td>\n",
       "      <td>24</td>\n",
       "      <td>453.36</td>\n",
       "      <td>24.0</td>\n",
       "      <td>Black Hawk</td>\n",
       "    </tr>\n",
       "    <tr>\n",
       "      <th>3</th>\n",
       "      <td>2016-02-03</td>\n",
       "      <td>2501</td>\n",
       "      <td>AMES</td>\n",
       "      <td>50010</td>\n",
       "      <td>Story</td>\n",
       "      <td>AMERICAN COCKTAILS</td>\n",
       "      <td>395</td>\n",
       "      <td>1800 Ultimate Margarita</td>\n",
       "      <td>1750</td>\n",
       "      <td>9.50</td>\n",
       "      <td>14.25</td>\n",
       "      <td>6</td>\n",
       "      <td>85.50</td>\n",
       "      <td>10.5</td>\n",
       "      <td>Story</td>\n",
       "    </tr>\n",
       "    <tr>\n",
       "      <th>4</th>\n",
       "      <td>2015-08-18</td>\n",
       "      <td>3654</td>\n",
       "      <td>BELMOND</td>\n",
       "      <td>50421</td>\n",
       "      <td>Wright</td>\n",
       "      <td>VODKA 80 PROOF</td>\n",
       "      <td>297</td>\n",
       "      <td>Five O'clock Vodka</td>\n",
       "      <td>1750</td>\n",
       "      <td>7.20</td>\n",
       "      <td>10.80</td>\n",
       "      <td>12</td>\n",
       "      <td>129.60</td>\n",
       "      <td>21.0</td>\n",
       "      <td>Wright</td>\n",
       "    </tr>\n",
       "  </tbody>\n",
       "</table>\n",
       "</div>"
      ],
      "text/plain": [
       "        date  store_number         city zip_code    county_x  \\\n",
       "0 2015-11-04          3717       SUMNER    50674      Bremer   \n",
       "1 2016-03-02          2614    DAVENPORT    52807       Scott   \n",
       "2 2016-02-11          2106  CEDAR FALLS    50613  Black Hawk   \n",
       "3 2016-02-03          2501         AMES    50010       Story   \n",
       "4 2015-08-18          3654      BELMOND    50421      Wright   \n",
       "\n",
       "               category_name  vendor_number           item_description  \\\n",
       "0           APRICOT BRANDIES             55  Mr. Boston Apricot Brandy   \n",
       "1           BLENDED WHISKIES            395                    Tin Cup   \n",
       "2  STRAIGHT BOURBON WHISKIES             65                   Jim Beam   \n",
       "3         AMERICAN COCKTAILS            395    1800 Ultimate Margarita   \n",
       "4             VODKA 80 PROOF            297         Five O'clock Vodka   \n",
       "\n",
       "   bottle_volume  state_bottle_cost  state_bottle_retail  bottles_sold  \\\n",
       "0            750               4.50                 6.75            12   \n",
       "1            750              13.75                20.63             2   \n",
       "2           1000              12.59                18.89            24   \n",
       "3           1750               9.50                14.25             6   \n",
       "4           1750               7.20                10.80            12   \n",
       "\n",
       "    sales  volume_sold    county_y  \n",
       "0   81.00          9.0      Bremer  \n",
       "1   41.26          1.5       Scott  \n",
       "2  453.36         24.0  Black Hawk  \n",
       "3   85.50         10.5       Story  \n",
       "4  129.60         21.0      Wright  "
      ]
     },
     "execution_count": 238,
     "metadata": {},
     "output_type": "execute_result"
    }
   ],
   "source": [
    "# Merge df_county into original iowa df\n",
    "# Note: Original \"county\" renamed \"county_x\" and new \"county_y\" col created\n",
    "iowa2 = pd.merge(iowa,df_county, on = \"city\", how = \"left\")\n",
    "iowa2.head()"
   ]
  },
  {
   "cell_type": "code",
   "execution_count": 246,
   "metadata": {
    "collapsed": false
   },
   "outputs": [
    {
     "data": {
      "text/plain": [
       "date                     0\n",
       "store_number             0\n",
       "city                     0\n",
       "zip_code                 0\n",
       "county_x                12\n",
       "category_name          632\n",
       "vendor_number            0\n",
       "item_description         0\n",
       "bottle_volume            0\n",
       "state_bottle_cost        0\n",
       "state_bottle_retail      0\n",
       "bottles_sold             0\n",
       "sales                    0\n",
       "volume_sold              0\n",
       "county_y                12\n",
       "dtype: int64"
      ]
     },
     "execution_count": 246,
     "metadata": {},
     "output_type": "execute_result"
    }
   ],
   "source": [
    "# Fill missing county names in \"county_x\" with county names from \"county_y\"\n",
    "iowa2[\"county_x\"].fillna(iowa2[\"county_y\"], inplace=True)\n",
    "iowa2.isnull().sum()"
   ]
  },
  {
   "cell_type": "code",
   "execution_count": 252,
   "metadata": {
    "collapsed": false
   },
   "outputs": [
    {
     "data": {
      "text/plain": [
       "array(['TABOR', 'SEYMOUR', 'RUNNELLS'], dtype=object)"
      ]
     },
     "execution_count": 252,
     "metadata": {},
     "output_type": "execute_result"
    }
   ],
   "source": [
    "# Check for remaining missing counties\n",
    "iowa[iowa2[\"county_x\"].isnull()]['city'].unique()"
   ]
  },
  {
   "cell_type": "code",
   "execution_count": 257,
   "metadata": {
    "collapsed": false
   },
   "outputs": [],
   "source": [
    "# Fill in missing counties by mapping to city\n",
    "def county_name(city):\n",
    "    if city == \"TABOR\":\n",
    "        return \"Fremont\"\n",
    "    elif city == \"SEYMOUR\":\n",
    "        return \"Wayne\"\n",
    "    elif city == \"RUNNELLS\":\n",
    "        return \"Polk\"\n",
    "    else:\n",
    "        pass\n",
    "\n",
    "iowa2[\"county_y\"] = iowa2[\"city\"].apply(county_name)\n",
    "iowa2['county_x'].fillna(iowa2['county_y'], inplace=True)"
   ]
  },
  {
   "cell_type": "code",
   "execution_count": 270,
   "metadata": {
    "collapsed": false
   },
   "outputs": [
    {
     "data": {
      "text/plain": [
       "date                        0\n",
       "store_number                0\n",
       "city                        0\n",
       "zip_code                    0\n",
       "county_x                    0\n",
       "category_name             632\n",
       "vendor_number               0\n",
       "item_description            0\n",
       "bottle_volume               0\n",
       "state_bottle_cost           0\n",
       "state_bottle_retail         0\n",
       "bottles_sold                0\n",
       "sales                       0\n",
       "volume_sold                 0\n",
       "county_y               270943\n",
       "dtype: int64"
      ]
     },
     "execution_count": 270,
     "metadata": {},
     "output_type": "execute_result"
    }
   ],
   "source": [
    "iowa2.isnull().sum()"
   ]
  },
  {
   "cell_type": "markdown",
   "metadata": {},
   "source": [
    "### Fill in Missing Category Names"
   ]
  },
  {
   "cell_type": "code",
   "execution_count": 260,
   "metadata": {
    "collapsed": false
   },
   "outputs": [
    {
     "data": {
      "text/html": [
       "<div>\n",
       "<table border=\"1\" class=\"dataframe\">\n",
       "  <thead>\n",
       "    <tr style=\"text-align: right;\">\n",
       "      <th></th>\n",
       "      <th>date</th>\n",
       "      <th>store_number</th>\n",
       "      <th>city</th>\n",
       "      <th>zip_code</th>\n",
       "      <th>county_x</th>\n",
       "      <th>category_name</th>\n",
       "      <th>vendor_number</th>\n",
       "      <th>item_description</th>\n",
       "      <th>bottle_volume</th>\n",
       "      <th>state_bottle_cost</th>\n",
       "      <th>state_bottle_retail</th>\n",
       "      <th>bottles_sold</th>\n",
       "      <th>sales</th>\n",
       "      <th>volume_sold</th>\n",
       "      <th>county_y</th>\n",
       "    </tr>\n",
       "  </thead>\n",
       "  <tbody>\n",
       "    <tr>\n",
       "      <th>0</th>\n",
       "      <td>2015-11-04</td>\n",
       "      <td>3717</td>\n",
       "      <td>SUMNER</td>\n",
       "      <td>50674</td>\n",
       "      <td>Bremer</td>\n",
       "      <td>APRICOT BRANDIES</td>\n",
       "      <td>55</td>\n",
       "      <td>Mr. Boston Apricot Brandy</td>\n",
       "      <td>750</td>\n",
       "      <td>4.50</td>\n",
       "      <td>6.75</td>\n",
       "      <td>12</td>\n",
       "      <td>81.00</td>\n",
       "      <td>9.0</td>\n",
       "      <td>None</td>\n",
       "    </tr>\n",
       "    <tr>\n",
       "      <th>1</th>\n",
       "      <td>2016-03-02</td>\n",
       "      <td>2614</td>\n",
       "      <td>DAVENPORT</td>\n",
       "      <td>52807</td>\n",
       "      <td>Scott</td>\n",
       "      <td>BLENDED WHISKIES</td>\n",
       "      <td>395</td>\n",
       "      <td>Tin Cup</td>\n",
       "      <td>750</td>\n",
       "      <td>13.75</td>\n",
       "      <td>20.63</td>\n",
       "      <td>2</td>\n",
       "      <td>41.26</td>\n",
       "      <td>1.5</td>\n",
       "      <td>None</td>\n",
       "    </tr>\n",
       "  </tbody>\n",
       "</table>\n",
       "</div>"
      ],
      "text/plain": [
       "        date  store_number       city zip_code county_x     category_name  \\\n",
       "0 2015-11-04          3717     SUMNER    50674   Bremer  APRICOT BRANDIES   \n",
       "1 2016-03-02          2614  DAVENPORT    52807    Scott  BLENDED WHISKIES   \n",
       "\n",
       "   vendor_number           item_description  bottle_volume  state_bottle_cost  \\\n",
       "0             55  Mr. Boston Apricot Brandy            750               4.50   \n",
       "1            395                    Tin Cup            750              13.75   \n",
       "\n",
       "   state_bottle_retail  bottles_sold  sales  volume_sold county_y  \n",
       "0                 6.75            12  81.00          9.0     None  \n",
       "1                20.63             2  41.26          1.5     None  "
      ]
     },
     "execution_count": 260,
     "metadata": {},
     "output_type": "execute_result"
    }
   ],
   "source": [
    "iowa2.head(2)"
   ]
  },
  {
   "cell_type": "code",
   "execution_count": 265,
   "metadata": {
    "collapsed": true
   },
   "outputs": [],
   "source": [
    "# repeat same process to impute missing category values from item\n",
    "df_category_name = pd.pivot_table(iowa2,index = [\"item_description\",\"category_name\"], \\\n",
    "                                  values = [\"sales\"], aggfunc = sum)\n",
    "df_category_name.reset_index(inplace = True)\n",
    "df_category_name.drop(\"sales\", axis=1, inplace=True)\n"
   ]
  },
  {
   "cell_type": "code",
   "execution_count": 266,
   "metadata": {
    "collapsed": false
   },
   "outputs": [
    {
     "data": {
      "text/plain": [
       "item_description    0\n",
       "category_name       0\n",
       "dtype: int64"
      ]
     },
     "execution_count": 266,
     "metadata": {},
     "output_type": "execute_result"
    }
   ],
   "source": [
    "df_category_name.isnull().sum()"
   ]
  },
  {
   "cell_type": "code",
   "execution_count": 269,
   "metadata": {
    "collapsed": false
   },
   "outputs": [
    {
     "data": {
      "text/plain": [
       "array(['BARBADOS RUM', 'STRAIGHT BOURBON WHISKIES', 'TEQUILA',\n",
       "       'AMERICAN COCKTAILS', 'CREAM LIQUEURS', 'IRISH WHISKIES',\n",
       "       'DECANTERS & SPECIALTY PACKAGES', 'BLENDED WHISKIES',\n",
       "       'VODKA FLAVORED', 'VODKA 80 PROOF', 'APPLE SCHNAPPS',\n",
       "       'MISCELLANEOUS SCHNAPPS', 'SINGLE MALT SCOTCH',\n",
       "       'MISC. IMPORTED CORDIALS & LIQUEURS', 'IMPORTED VODKA - MISC',\n",
       "       'IMPORTED VODKA', 'SPICED RUM', 'FLAVORED RUM', 'CINNAMON SCHNAPPS',\n",
       "       'CANADIAN WHISKIES', 'DISTILLED SPIRITS SPECIALTY',\n",
       "       'AMERICAN AMARETTO', 'IMPORTED AMARETTO',\n",
       "       'MISC. AMERICAN CORDIALS & LIQUEURS', 'JAMAICA RUM',\n",
       "       'SCOTCH WHISKIES', 'MISCELLANEOUS  BRANDIES',\n",
       "       'IMPORTED GRAPE BRANDIES', 'ANISETTE', 'APRICOT BRANDIES',\n",
       "       'BLACKBERRY BRANDIES', 'GREEN CREME DE MENTHE',\n",
       "       'PEPPERMINT SCHNAPPS', 'CREME DE ALMOND', 'DARK CREME DE CACAO',\n",
       "       'WHITE CREME DE CACAO', 'AMERICAN DRY GINS',\n",
       "       'BUTTERSCOTCH SCHNAPPS', 'PEACH SCHNAPPS', 'RASPBERRY SCHNAPPS',\n",
       "       'AMERICAN SLOE GINS', 'SPEARMINT SCHNAPPS', 'CHERRY BRANDIES',\n",
       "       'AMERICAN ALCOHOL', 'WHISKEY LIQUEUR',\n",
       "       'PUERTO RICO & VIRGIN ISLANDS RUM', '100 PROOF VODKA', 'TRIPLE SEC',\n",
       "       'IMPORTED DRY GINS', 'IMPORTED SCHNAPPS', 'TROPICAL FRUIT SCHNAPPS',\n",
       "       'TENNESSEE WHISKIES', 'STRAIGHT RYE WHISKIES', 'COFFEE LIQUEURS',\n",
       "       'AMERICAN GRAPE BRANDIES', 'CORN WHISKIES', 'AMARETTO - IMPORTED',\n",
       "       'PEACH BRANDIES', 'SINGLE BARREL BOURBON WHISKIES',\n",
       "       'JAPANESE WHISKY', 'GRAPE SCHNAPPS', 'ROOT BEER SCHNAPPS',\n",
       "       'STRAWBERRY SCHNAPPS', 'WATERMELON SCHNAPPS', 'OTHER PROOF VODKA',\n",
       "       'BOTTLED IN BOND BOURBON', 'ROCK & RYE', 'WHITE CREME DE MENTHE',\n",
       "       'HIGH PROOF BEER - AMERICAN', 'FLAVORED GINS', 'LOW PROOF VODKA'], dtype=object)"
      ]
     },
     "execution_count": 269,
     "metadata": {},
     "output_type": "execute_result"
    }
   ],
   "source": [
    "df_category_name['category_name'].unique()"
   ]
  },
  {
   "cell_type": "code",
   "execution_count": null,
   "metadata": {
    "collapsed": true
   },
   "outputs": [],
   "source": [
    "df_category_name.drop_duplicates(['item'], inplace=True)\n",
    "df_category_name.drop(\"bottles sold\", axis=1, inplace = True)\n",
    "df = pd.merge(df,item_category, on = \"item\", how = \"left\")\n",
    "df['category_x'].fillna(df['category_y'], inplace=True)\n",
    "np.sum(df.isnull())"
   ]
  },
  {
   "cell_type": "code",
   "execution_count": null,
   "metadata": {
    "collapsed": true
   },
   "outputs": [],
   "source": []
  },
  {
   "cell_type": "code",
   "execution_count": null,
   "metadata": {
    "collapsed": true
   },
   "outputs": [],
   "source": []
  },
  {
   "cell_type": "code",
   "execution_count": null,
   "metadata": {
    "collapsed": true
   },
   "outputs": [],
   "source": []
  },
  {
   "cell_type": "code",
   "execution_count": null,
   "metadata": {
    "collapsed": true
   },
   "outputs": [],
   "source": []
  },
  {
   "cell_type": "code",
   "execution_count": 94,
   "metadata": {
    "collapsed": true
   },
   "outputs": [],
   "source": [
    "iowa['zip_code'].fillna(value=np.nan, inplace=True)"
   ]
  },
  {
   "cell_type": "code",
   "execution_count": 93,
   "metadata": {
    "collapsed": false
   },
   "outputs": [
    {
     "data": {
      "text/plain": [
       "270955"
      ]
     },
     "execution_count": 93,
     "metadata": {},
     "output_type": "execute_result"
    }
   ],
   "source": [
    "null_zip_code = 0\n",
    "null_zip_list = iowa['zip_code'].isnull()\n",
    "len(null_zip_list)"
   ]
  },
  {
   "cell_type": "code",
   "execution_count": 95,
   "metadata": {
    "collapsed": false
   },
   "outputs": [
    {
     "data": {
      "text/plain": [
       "date                      0\n",
       "store_number              0\n",
       "city                      0\n",
       "zip_code                217\n",
       "county                 1077\n",
       "category_name           632\n",
       "vendor_number             0\n",
       "item_description          0\n",
       "bottle_volume             0\n",
       "state_bottle_cost         0\n",
       "state_bottle_retail       0\n",
       "bottles_sold              0\n",
       "sales                     0\n",
       "volume_sold               0\n",
       "dtype: int64"
      ]
     },
     "execution_count": 95,
     "metadata": {},
     "output_type": "execute_result"
    }
   ],
   "source": [
    "iowa.isnull().sum()"
   ]
  },
  {
   "cell_type": "code",
   "execution_count": null,
   "metadata": {
    "collapsed": true
   },
   "outputs": [],
   "source": []
  },
  {
   "cell_type": "markdown",
   "metadata": {},
   "source": [
    "### Drop NaNs"
   ]
  },
  {
   "cell_type": "code",
   "execution_count": null,
   "metadata": {
    "collapsed": true
   },
   "outputs": [],
   "source": [
    "#Assuming that none of the nans in the columns overlap, the percentage of nans in the iowa dataframe\n",
    "total_na = sum(iowa.isnull().sum())\n",
    "ratio_na = float(total_na)/(len(iowa.index.values))\n",
    "print 'Percent of nans before drop: ', str(round(ratio_na*100,2)), '%' \n",
    "\n",
    "#Drop all nans as percentage of nans is small enough to be negligible\n",
    "iowa.dropna(inplace=True)\n",
    "print 'Total nans:'\n",
    "print iowa.isnull().sum()\n",
    "print 'Percent of nans after drop: ', str(round((float(sum(iowa.isnull().sum())*100)),2)), '%'"
   ]
  },
  {
   "cell_type": "code",
   "execution_count": null,
   "metadata": {
    "collapsed": true
   },
   "outputs": [],
   "source": []
  },
  {
   "cell_type": "code",
   "execution_count": null,
   "metadata": {
    "collapsed": true
   },
   "outputs": [],
   "source": []
  },
  {
   "cell_type": "code",
   "execution_count": null,
   "metadata": {
    "collapsed": true
   },
   "outputs": [],
   "source": []
  },
  {
   "cell_type": "code",
   "execution_count": null,
   "metadata": {
    "collapsed": true
   },
   "outputs": [],
   "source": [
    "###################################################"
   ]
  },
  {
   "cell_type": "code",
   "execution_count": 113,
   "metadata": {
    "collapsed": false
   },
   "outputs": [],
   "source": [
    "iowa_df = pd.pivot_table(iowa, index=['store_number','county', 'item_description'], columns=None, values=['sales', 'volume_sold'], aggfunc=np.sum)"
   ]
  },
  {
   "cell_type": "code",
   "execution_count": 114,
   "metadata": {
    "collapsed": false
   },
   "outputs": [
    {
     "data": {
      "text/html": [
       "<div>\n",
       "<table border=\"1\" class=\"dataframe\">\n",
       "  <thead>\n",
       "    <tr style=\"text-align: right;\">\n",
       "      <th></th>\n",
       "      <th></th>\n",
       "      <th></th>\n",
       "      <th>sales</th>\n",
       "      <th>volume_sold</th>\n",
       "    </tr>\n",
       "    <tr>\n",
       "      <th>store_number</th>\n",
       "      <th>county</th>\n",
       "      <th>item_description</th>\n",
       "      <th></th>\n",
       "      <th></th>\n",
       "    </tr>\n",
       "  </thead>\n",
       "  <tbody>\n",
       "    <tr>\n",
       "      <th rowspan=\"30\" valign=\"top\">2106</th>\n",
       "      <th rowspan=\"30\" valign=\"top\">Black Hawk</th>\n",
       "      <th>1800 Reposado Tequila</th>\n",
       "      <td>834.84</td>\n",
       "      <td>27.00</td>\n",
       "    </tr>\n",
       "    <tr>\n",
       "      <th>360 Double Chocolate Vodka</th>\n",
       "      <td>42.00</td>\n",
       "      <td>3.00</td>\n",
       "    </tr>\n",
       "    <tr>\n",
       "      <th>Absolut Apeach</th>\n",
       "      <td>620.64</td>\n",
       "      <td>27.00</td>\n",
       "    </tr>\n",
       "    <tr>\n",
       "      <th>Absolut Citron (lemon Vodka)</th>\n",
       "      <td>1223.40</td>\n",
       "      <td>54.00</td>\n",
       "    </tr>\n",
       "    <tr>\n",
       "      <th>Absolut Hibiskus</th>\n",
       "      <td>206.88</td>\n",
       "      <td>9.00</td>\n",
       "    </tr>\n",
       "    <tr>\n",
       "      <th>Absolut Mango Vodka</th>\n",
       "      <td>413.76</td>\n",
       "      <td>18.00</td>\n",
       "    </tr>\n",
       "    <tr>\n",
       "      <th>Absolut Pears</th>\n",
       "      <td>413.76</td>\n",
       "      <td>18.00</td>\n",
       "    </tr>\n",
       "    <tr>\n",
       "      <th>Absolut Peppar</th>\n",
       "      <td>827.52</td>\n",
       "      <td>36.00</td>\n",
       "    </tr>\n",
       "    <tr>\n",
       "      <th>Absolut Swedish Vodka 80 Prf</th>\n",
       "      <td>5478.48</td>\n",
       "      <td>243.00</td>\n",
       "    </tr>\n",
       "    <tr>\n",
       "      <th>Admiral Nelson Coconut Rum</th>\n",
       "      <td>104.04</td>\n",
       "      <td>9.00</td>\n",
       "    </tr>\n",
       "    <tr>\n",
       "      <th>Admiral Nelson Spiced Rum</th>\n",
       "      <td>312.12</td>\n",
       "      <td>27.00</td>\n",
       "    </tr>\n",
       "    <tr>\n",
       "      <th>Ancient Age Bourbon</th>\n",
       "      <td>27.72</td>\n",
       "      <td>2.25</td>\n",
       "    </tr>\n",
       "    <tr>\n",
       "      <th>Arrow Blackberry Flav Brandy</th>\n",
       "      <td>96.84</td>\n",
       "      <td>9.00</td>\n",
       "    </tr>\n",
       "    <tr>\n",
       "      <th>Arrow Creme De Menthe Green</th>\n",
       "      <td>81.00</td>\n",
       "      <td>9.00</td>\n",
       "    </tr>\n",
       "    <tr>\n",
       "      <th>Arrow Mcdale's Butterscotch Schnapps</th>\n",
       "      <td>78.12</td>\n",
       "      <td>9.00</td>\n",
       "    </tr>\n",
       "    <tr>\n",
       "      <th>Arrow Peach Schnapps</th>\n",
       "      <td>630.00</td>\n",
       "      <td>84.00</td>\n",
       "    </tr>\n",
       "    <tr>\n",
       "      <th>Arrow Peppermint Schnapps</th>\n",
       "      <td>130.68</td>\n",
       "      <td>21.00</td>\n",
       "    </tr>\n",
       "    <tr>\n",
       "      <th>Arrow Raspberry Schnapps</th>\n",
       "      <td>180.00</td>\n",
       "      <td>24.00</td>\n",
       "    </tr>\n",
       "    <tr>\n",
       "      <th>Auchentoshan American Oak</th>\n",
       "      <td>94.47</td>\n",
       "      <td>2.25</td>\n",
       "    </tr>\n",
       "    <tr>\n",
       "      <th>Avion Reposado</th>\n",
       "      <td>39.74</td>\n",
       "      <td>0.75</td>\n",
       "    </tr>\n",
       "    <tr>\n",
       "      <th>Bacardi 151 Prf</th>\n",
       "      <td>486.00</td>\n",
       "      <td>18.00</td>\n",
       "    </tr>\n",
       "    <tr>\n",
       "      <th>Bacardi 151 Proof Rum</th>\n",
       "      <td>243.00</td>\n",
       "      <td>9.00</td>\n",
       "    </tr>\n",
       "    <tr>\n",
       "      <th>Bacardi 8 w/2 Glasses</th>\n",
       "      <td>94.50</td>\n",
       "      <td>4.50</td>\n",
       "    </tr>\n",
       "    <tr>\n",
       "      <th>Bacardi Black Razz</th>\n",
       "      <td>342.00</td>\n",
       "      <td>24.00</td>\n",
       "    </tr>\n",
       "    <tr>\n",
       "      <th>Bacardi Dragon Berry</th>\n",
       "      <td>684.00</td>\n",
       "      <td>48.00</td>\n",
       "    </tr>\n",
       "    <tr>\n",
       "      <th>Bacardi Limon</th>\n",
       "      <td>855.00</td>\n",
       "      <td>60.00</td>\n",
       "    </tr>\n",
       "    <tr>\n",
       "      <th>Bacardi O</th>\n",
       "      <td>513.00</td>\n",
       "      <td>36.00</td>\n",
       "    </tr>\n",
       "    <tr>\n",
       "      <th>Bacardi Superior Rum</th>\n",
       "      <td>1827.36</td>\n",
       "      <td>126.00</td>\n",
       "    </tr>\n",
       "    <tr>\n",
       "      <th>Bailey's Original Irish Cream</th>\n",
       "      <td>931.68</td>\n",
       "      <td>36.00</td>\n",
       "    </tr>\n",
       "    <tr>\n",
       "      <th>Barton Gin</th>\n",
       "      <td>423.36</td>\n",
       "      <td>72.00</td>\n",
       "    </tr>\n",
       "    <tr>\n",
       "      <th>...</th>\n",
       "      <th>...</th>\n",
       "      <th>...</th>\n",
       "      <td>...</td>\n",
       "      <td>...</td>\n",
       "    </tr>\n",
       "    <tr>\n",
       "      <th rowspan=\"15\" valign=\"top\">9002</th>\n",
       "      <th rowspan=\"15\" valign=\"top\">Scott</th>\n",
       "      <th>Barrel River Rose Gin</th>\n",
       "      <td>327.36</td>\n",
       "      <td>9.00</td>\n",
       "    </tr>\n",
       "    <tr>\n",
       "      <th>Big Peach Liqueur</th>\n",
       "      <td>2455.20</td>\n",
       "      <td>67.50</td>\n",
       "    </tr>\n",
       "    <tr>\n",
       "      <th>Chick's Vodka</th>\n",
       "      <td>1090.08</td>\n",
       "      <td>54.00</td>\n",
       "    </tr>\n",
       "    <tr>\n",
       "      <th>Cody Road Bourbon</th>\n",
       "      <td>3796.32</td>\n",
       "      <td>99.00</td>\n",
       "    </tr>\n",
       "    <tr>\n",
       "      <th>Cody Road Rye</th>\n",
       "      <td>5004.24</td>\n",
       "      <td>130.50</td>\n",
       "    </tr>\n",
       "    <tr>\n",
       "      <th>Cody Road Single Barrel</th>\n",
       "      <td>1132.80</td>\n",
       "      <td>22.50</td>\n",
       "    </tr>\n",
       "    <tr>\n",
       "      <th>Iowa Coffee Company Liqueur</th>\n",
       "      <td>982.08</td>\n",
       "      <td>27.00</td>\n",
       "    </tr>\n",
       "    <tr>\n",
       "      <th>Iowish Cream Liqueur</th>\n",
       "      <td>6226.08</td>\n",
       "      <td>306.00</td>\n",
       "    </tr>\n",
       "    <tr>\n",
       "      <th>Iowish Whiskey</th>\n",
       "      <td>862.80</td>\n",
       "      <td>22.50</td>\n",
       "    </tr>\n",
       "    <tr>\n",
       "      <th>Pride of the Wapsi</th>\n",
       "      <td>1636.80</td>\n",
       "      <td>45.00</td>\n",
       "    </tr>\n",
       "    <tr>\n",
       "      <th>Queen Bee Honey Whiskey</th>\n",
       "      <td>8184.00</td>\n",
       "      <td>225.00</td>\n",
       "    </tr>\n",
       "    <tr>\n",
       "      <th>River Baron Artisian Spirit</th>\n",
       "      <td>757.08</td>\n",
       "      <td>27.00</td>\n",
       "    </tr>\n",
       "    <tr>\n",
       "      <th>River Pilot Vodka</th>\n",
       "      <td>3228.36</td>\n",
       "      <td>157.50</td>\n",
       "    </tr>\n",
       "    <tr>\n",
       "      <th>River Rose Gin</th>\n",
       "      <td>1601.16</td>\n",
       "      <td>49.50</td>\n",
       "    </tr>\n",
       "    <tr>\n",
       "      <th>Stone Fence Apple Cider Whiskey</th>\n",
       "      <td>1636.80</td>\n",
       "      <td>45.00</td>\n",
       "    </tr>\n",
       "    <tr>\n",
       "      <th rowspan=\"8\" valign=\"top\">9010</th>\n",
       "      <th rowspan=\"8\" valign=\"top\">Warren</th>\n",
       "      <th>Bella Limoncello</th>\n",
       "      <td>709.92</td>\n",
       "      <td>36.00</td>\n",
       "    </tr>\n",
       "    <tr>\n",
       "      <th>Hot Lil' Hooch Cherry Cinnamon Whiskey</th>\n",
       "      <td>717.84</td>\n",
       "      <td>27.00</td>\n",
       "    </tr>\n",
       "    <tr>\n",
       "      <th>Itty Bitty Juggs Sample Pack</th>\n",
       "      <td>324.00</td>\n",
       "      <td>14.40</td>\n",
       "    </tr>\n",
       "    <tr>\n",
       "      <th>Juggs Blueberry Bazoombas</th>\n",
       "      <td>478.56</td>\n",
       "      <td>18.00</td>\n",
       "    </tr>\n",
       "    <tr>\n",
       "      <th>Juggs Cherry Cha-Cha's</th>\n",
       "      <td>717.84</td>\n",
       "      <td>27.00</td>\n",
       "    </tr>\n",
       "    <tr>\n",
       "      <th>Two Jay's Country Style Blended Why.</th>\n",
       "      <td>1684.08</td>\n",
       "      <td>54.00</td>\n",
       "    </tr>\n",
       "    <tr>\n",
       "      <th>Two Jay's Grappa</th>\n",
       "      <td>304.32</td>\n",
       "      <td>9.00</td>\n",
       "    </tr>\n",
       "    <tr>\n",
       "      <th>Two Jay's Iowa Corn Whiskey</th>\n",
       "      <td>998.88</td>\n",
       "      <td>36.00</td>\n",
       "    </tr>\n",
       "    <tr>\n",
       "      <th rowspan=\"5\" valign=\"top\">9013</th>\n",
       "      <th rowspan=\"5\" valign=\"top\">Warren</th>\n",
       "      <th>Country Gal</th>\n",
       "      <td>721.92</td>\n",
       "      <td>99.00</td>\n",
       "    </tr>\n",
       "    <tr>\n",
       "      <th>Ingenioz</th>\n",
       "      <td>677.16</td>\n",
       "      <td>27.00</td>\n",
       "    </tr>\n",
       "    <tr>\n",
       "      <th>Prairie Fire</th>\n",
       "      <td>818.40</td>\n",
       "      <td>45.00</td>\n",
       "    </tr>\n",
       "    <tr>\n",
       "      <th>Rocket Fuel</th>\n",
       "      <td>232.32</td>\n",
       "      <td>18.00</td>\n",
       "    </tr>\n",
       "    <tr>\n",
       "      <th>Swell Vodka</th>\n",
       "      <td>129.24</td>\n",
       "      <td>12.00</td>\n",
       "    </tr>\n",
       "    <tr>\n",
       "      <th>9018</th>\n",
       "      <th>Dubuque</th>\n",
       "      <th>Paradise Island Bay Rum</th>\n",
       "      <td>6435.00</td>\n",
       "      <td>225.00</td>\n",
       "    </tr>\n",
       "    <tr>\n",
       "      <th>9023</th>\n",
       "      <th>Carroll</th>\n",
       "      <th>Iowa Legendary Rye Unaged</th>\n",
       "      <td>633.36</td>\n",
       "      <td>18.00</td>\n",
       "    </tr>\n",
       "  </tbody>\n",
       "</table>\n",
       "<p>126268 rows × 2 columns</p>\n",
       "</div>"
      ],
      "text/plain": [
       "                                                                  sales  \\\n",
       "store_number county     item_description                                  \n",
       "2106         Black Hawk 1800 Reposado Tequila                    834.84   \n",
       "                        360 Double Chocolate Vodka                42.00   \n",
       "                        Absolut Apeach                           620.64   \n",
       "                        Absolut Citron (lemon Vodka)            1223.40   \n",
       "                        Absolut Hibiskus                         206.88   \n",
       "                        Absolut Mango Vodka                      413.76   \n",
       "                        Absolut Pears                            413.76   \n",
       "                        Absolut Peppar                           827.52   \n",
       "                        Absolut Swedish Vodka 80 Prf            5478.48   \n",
       "                        Admiral Nelson Coconut Rum               104.04   \n",
       "                        Admiral Nelson Spiced Rum                312.12   \n",
       "                        Ancient Age Bourbon                       27.72   \n",
       "                        Arrow Blackberry Flav Brandy              96.84   \n",
       "                        Arrow Creme De Menthe Green               81.00   \n",
       "                        Arrow Mcdale's Butterscotch Schnapps      78.12   \n",
       "                        Arrow Peach Schnapps                     630.00   \n",
       "                        Arrow Peppermint Schnapps                130.68   \n",
       "                        Arrow Raspberry Schnapps                 180.00   \n",
       "                        Auchentoshan American Oak                 94.47   \n",
       "                        Avion Reposado                            39.74   \n",
       "                        Bacardi 151 Prf                          486.00   \n",
       "                        Bacardi 151 Proof Rum                    243.00   \n",
       "                        Bacardi 8 w/2 Glasses                     94.50   \n",
       "                        Bacardi Black Razz                       342.00   \n",
       "                        Bacardi Dragon Berry                     684.00   \n",
       "                        Bacardi Limon                            855.00   \n",
       "                        Bacardi O                                513.00   \n",
       "                        Bacardi Superior Rum                    1827.36   \n",
       "                        Bailey's Original Irish Cream            931.68   \n",
       "                        Barton Gin                               423.36   \n",
       "...                                                                 ...   \n",
       "9002         Scott      Barrel River Rose Gin                    327.36   \n",
       "                        Big Peach Liqueur                       2455.20   \n",
       "                        Chick's Vodka                           1090.08   \n",
       "                        Cody Road Bourbon                       3796.32   \n",
       "                        Cody Road Rye                           5004.24   \n",
       "                        Cody Road Single Barrel                 1132.80   \n",
       "                        Iowa Coffee Company Liqueur              982.08   \n",
       "                        Iowish Cream Liqueur                    6226.08   \n",
       "                        Iowish Whiskey                           862.80   \n",
       "                        Pride of the Wapsi                      1636.80   \n",
       "                        Queen Bee Honey Whiskey                 8184.00   \n",
       "                        River Baron Artisian Spirit              757.08   \n",
       "                        River Pilot Vodka                       3228.36   \n",
       "                        River Rose Gin                          1601.16   \n",
       "                        Stone Fence Apple Cider Whiskey         1636.80   \n",
       "9010         Warren     Bella Limoncello                         709.92   \n",
       "                        Hot Lil' Hooch Cherry Cinnamon Whiskey   717.84   \n",
       "                        Itty Bitty Juggs Sample Pack             324.00   \n",
       "                        Juggs Blueberry Bazoombas                478.56   \n",
       "                        Juggs Cherry Cha-Cha's                   717.84   \n",
       "                        Two Jay's Country Style Blended Why.    1684.08   \n",
       "                        Two Jay's Grappa                         304.32   \n",
       "                        Two Jay's Iowa Corn Whiskey              998.88   \n",
       "9013         Warren     Country Gal                              721.92   \n",
       "                        Ingenioz                                 677.16   \n",
       "                        Prairie Fire                             818.40   \n",
       "                        Rocket Fuel                              232.32   \n",
       "                        Swell Vodka                              129.24   \n",
       "9018         Dubuque    Paradise Island Bay Rum                 6435.00   \n",
       "9023         Carroll    Iowa Legendary Rye Unaged                633.36   \n",
       "\n",
       "                                                                volume_sold  \n",
       "store_number county     item_description                                     \n",
       "2106         Black Hawk 1800 Reposado Tequila                         27.00  \n",
       "                        360 Double Chocolate Vodka                     3.00  \n",
       "                        Absolut Apeach                                27.00  \n",
       "                        Absolut Citron (lemon Vodka)                  54.00  \n",
       "                        Absolut Hibiskus                               9.00  \n",
       "                        Absolut Mango Vodka                           18.00  \n",
       "                        Absolut Pears                                 18.00  \n",
       "                        Absolut Peppar                                36.00  \n",
       "                        Absolut Swedish Vodka 80 Prf                 243.00  \n",
       "                        Admiral Nelson Coconut Rum                     9.00  \n",
       "                        Admiral Nelson Spiced Rum                     27.00  \n",
       "                        Ancient Age Bourbon                            2.25  \n",
       "                        Arrow Blackberry Flav Brandy                   9.00  \n",
       "                        Arrow Creme De Menthe Green                    9.00  \n",
       "                        Arrow Mcdale's Butterscotch Schnapps           9.00  \n",
       "                        Arrow Peach Schnapps                          84.00  \n",
       "                        Arrow Peppermint Schnapps                     21.00  \n",
       "                        Arrow Raspberry Schnapps                      24.00  \n",
       "                        Auchentoshan American Oak                      2.25  \n",
       "                        Avion Reposado                                 0.75  \n",
       "                        Bacardi 151 Prf                               18.00  \n",
       "                        Bacardi 151 Proof Rum                          9.00  \n",
       "                        Bacardi 8 w/2 Glasses                          4.50  \n",
       "                        Bacardi Black Razz                            24.00  \n",
       "                        Bacardi Dragon Berry                          48.00  \n",
       "                        Bacardi Limon                                 60.00  \n",
       "                        Bacardi O                                     36.00  \n",
       "                        Bacardi Superior Rum                         126.00  \n",
       "                        Bailey's Original Irish Cream                 36.00  \n",
       "                        Barton Gin                                    72.00  \n",
       "...                                                                     ...  \n",
       "9002         Scott      Barrel River Rose Gin                          9.00  \n",
       "                        Big Peach Liqueur                             67.50  \n",
       "                        Chick's Vodka                                 54.00  \n",
       "                        Cody Road Bourbon                             99.00  \n",
       "                        Cody Road Rye                                130.50  \n",
       "                        Cody Road Single Barrel                       22.50  \n",
       "                        Iowa Coffee Company Liqueur                   27.00  \n",
       "                        Iowish Cream Liqueur                         306.00  \n",
       "                        Iowish Whiskey                                22.50  \n",
       "                        Pride of the Wapsi                            45.00  \n",
       "                        Queen Bee Honey Whiskey                      225.00  \n",
       "                        River Baron Artisian Spirit                   27.00  \n",
       "                        River Pilot Vodka                            157.50  \n",
       "                        River Rose Gin                                49.50  \n",
       "                        Stone Fence Apple Cider Whiskey               45.00  \n",
       "9010         Warren     Bella Limoncello                              36.00  \n",
       "                        Hot Lil' Hooch Cherry Cinnamon Whiskey        27.00  \n",
       "                        Itty Bitty Juggs Sample Pack                  14.40  \n",
       "                        Juggs Blueberry Bazoombas                     18.00  \n",
       "                        Juggs Cherry Cha-Cha's                        27.00  \n",
       "                        Two Jay's Country Style Blended Why.          54.00  \n",
       "                        Two Jay's Grappa                               9.00  \n",
       "                        Two Jay's Iowa Corn Whiskey                   36.00  \n",
       "9013         Warren     Country Gal                                   99.00  \n",
       "                        Ingenioz                                      27.00  \n",
       "                        Prairie Fire                                  45.00  \n",
       "                        Rocket Fuel                                   18.00  \n",
       "                        Swell Vodka                                   12.00  \n",
       "9018         Dubuque    Paradise Island Bay Rum                      225.00  \n",
       "9023         Carroll    Iowa Legendary Rye Unaged                     18.00  \n",
       "\n",
       "[126268 rows x 2 columns]"
      ]
     },
     "execution_count": 114,
     "metadata": {},
     "output_type": "execute_result"
    }
   ],
   "source": [
    "iowa_df"
   ]
  },
  {
   "cell_type": "code",
   "execution_count": 119,
   "metadata": {
    "collapsed": false,
    "scrolled": true
   },
   "outputs": [
    {
     "data": {
      "text/plain": [
       "<matplotlib.axes._subplots.AxesSubplot at 0x127ac95d0>"
      ]
     },
     "execution_count": 119,
     "metadata": {},
     "output_type": "execute_result"
    },
    {
     "data": {
      "image/png": "[encoded data removed]",
      "text/plain": [
       "<matplotlib.figure.Figure at 0x127c06910>"
      ]
     },
     "metadata": {},
     "output_type": "display_data"
    }
   ],
   "source": [
    "sns.heatmap(iowa.corr())"
   ]
  },
  {
   "cell_type": "code",
   "execution_count": 120,
   "metadata": {
    "collapsed": true
   },
   "outputs": [],
   "source": [
    "iowa_target = pd.DataFrame(iowa['sales'])"
   ]
  },
  {
   "cell_type": "code",
   "execution_count": 142,
   "metadata": {
    "collapsed": false
   },
   "outputs": [],
   "source": [
    "iowa_cols = []\n",
    "for x in iowa:\n",
    "    if iowa[x].dtype == float:\n",
    "        iowa_cols.append(x)\n",
    "    elif iowa[x].dtype == int:\n",
    "        iowa_cols.append(x)\n",
    "    else:\n",
    "        pass"
   ]
  },
  {
   "cell_type": "code",
   "execution_count": 143,
   "metadata": {
    "collapsed": false
   },
   "outputs": [
    {
     "data": {
      "text/plain": [
       "['store_number',\n",
       " 'zip_code',\n",
       " 'county_number',\n",
       " 'category',\n",
       " 'vendor_number',\n",
       " 'item_number',\n",
       " 'bottle_volume',\n",
       " 'state_bottle_cost',\n",
       " 'state_bottle_retail',\n",
       " 'bottles_sold',\n",
       " 'sales',\n",
       " 'volume_sold',\n",
       " 'volume_sold_gallons']"
      ]
     },
     "execution_count": 143,
     "metadata": {},
     "output_type": "execute_result"
    }
   ],
   "source": [
    "iowa_cols"
   ]
  },
  {
   "cell_type": "code",
   "execution_count": 145,
   "metadata": {
    "collapsed": false
   },
   "outputs": [],
   "source": [
    "iowa_df = iowa[iowa_cols]"
   ]
  },
  {
   "cell_type": "code",
   "execution_count": 147,
   "metadata": {
    "collapsed": false
   },
   "outputs": [
    {
     "name": "stderr",
     "output_type": "stream",
     "text": [
      "/anaconda/lib/python2.7/site-packages/ipykernel/__main__.py:1: SettingWithCopyWarning: \n",
      "A value is trying to be set on a copy of a slice from a DataFrame\n",
      "\n",
      "See the caveats in the documentation: http://pandas.pydata.org/pandas-docs/stable/indexing.html#indexing-view-versus-copy\n",
      "  if __name__ == '__main__':\n"
     ]
    }
   ],
   "source": [
    "iowa_df.drop('sales', axis=1, inplace=True)"
   ]
  },
  {
   "cell_type": "code",
   "execution_count": 158,
   "metadata": {
    "collapsed": false
   },
   "outputs": [],
   "source": [
    "X = iowa_df\n",
    "y =  iowa_target\n",
    "\n",
    "lr = linear_model.LinearRegression()\n",
    "lr_model = lr.fit(X,y)\n",
    "\n",
    "y_pred = lr_model.predict(iowa_df)\n",
    "y_pred_df =  pd.DataFrame(y_pred)"
   ]
  },
  {
   "cell_type": "code",
   "execution_count": 157,
   "metadata": {
    "collapsed": false
   },
   "outputs": [
    {
     "ename": "ValueError",
     "evalue": "Argument dimensions are incompatible",
     "output_type": "error",
     "traceback": [
      "\u001b[0;31m---------------------------------------------------------------------------\u001b[0m",
      "\u001b[0;31mValueError\u001b[0m                                Traceback (most recent call last)",
      "\u001b[0;32m<ipython-input-157-88a8d870f52c>\u001b[0m in \u001b[0;36m<module>\u001b[0;34m()\u001b[0m\n\u001b[0;32m----> 1\u001b[0;31m \u001b[0max\u001b[0m \u001b[0;34m=\u001b[0m \u001b[0msns\u001b[0m\u001b[0;34m.\u001b[0m\u001b[0mregplot\u001b[0m\u001b[0;34m(\u001b[0m\u001b[0my_pred\u001b[0m\u001b[0;34m,\u001b[0m \u001b[0my\u001b[0m\u001b[0;34m)\u001b[0m\u001b[0;34m\u001b[0m\u001b[0m\n\u001b[0m\u001b[1;32m      2\u001b[0m \u001b[0max\u001b[0m\u001b[0;34m.\u001b[0m\u001b[0mfigure\u001b[0m\u001b[0;34m.\u001b[0m\u001b[0mset_figheight\u001b[0m\u001b[0;34m(\u001b[0m\u001b[0;36m6\u001b[0m\u001b[0;34m)\u001b[0m\u001b[0;34m\u001b[0m\u001b[0m\n\u001b[1;32m      3\u001b[0m \u001b[0max\u001b[0m\u001b[0;34m.\u001b[0m\u001b[0mfigure\u001b[0m\u001b[0;34m.\u001b[0m\u001b[0mset_figwidth\u001b[0m\u001b[0;34m(\u001b[0m\u001b[0;36m14\u001b[0m\u001b[0;34m)\u001b[0m\u001b[0;34m\u001b[0m\u001b[0m\n\u001b[1;32m      4\u001b[0m \u001b[0;34m\u001b[0m\u001b[0m\n\u001b[1;32m      5\u001b[0m \u001b[0max\u001b[0m\u001b[0;34m.\u001b[0m\u001b[0mset_ylabel\u001b[0m\u001b[0;34m(\u001b[0m\u001b[0;34m'Actual Values'\u001b[0m\u001b[0;34m)\u001b[0m\u001b[0;34m\u001b[0m\u001b[0m\n",
      "\u001b[0;32m//anaconda/lib/python2.7/site-packages/seaborn/linearmodels.pyc\u001b[0m in \u001b[0;36mregplot\u001b[0;34m(x, y, data, x_estimator, x_bins, x_ci, scatter, fit_reg, ci, n_boot, units, order, logistic, lowess, robust, logx, x_partial, y_partial, truncate, dropna, x_jitter, y_jitter, label, color, marker, scatter_kws, line_kws, ax)\u001b[0m\n\u001b[1;32m    772\u001b[0m     \u001b[0mscatter_kws\u001b[0m\u001b[0;34m[\u001b[0m\u001b[0;34m\"marker\"\u001b[0m\u001b[0;34m]\u001b[0m \u001b[0;34m=\u001b[0m \u001b[0mmarker\u001b[0m\u001b[0;34m\u001b[0m\u001b[0m\n\u001b[1;32m    773\u001b[0m     \u001b[0mline_kws\u001b[0m \u001b[0;34m=\u001b[0m \u001b[0;34m{\u001b[0m\u001b[0;34m}\u001b[0m \u001b[0;32mif\u001b[0m \u001b[0mline_kws\u001b[0m \u001b[0;32mis\u001b[0m \u001b[0mNone\u001b[0m \u001b[0;32melse\u001b[0m \u001b[0mcopy\u001b[0m\u001b[0;34m.\u001b[0m\u001b[0mcopy\u001b[0m\u001b[0;34m(\u001b[0m\u001b[0mline_kws\u001b[0m\u001b[0;34m)\u001b[0m\u001b[0;34m\u001b[0m\u001b[0m\n\u001b[0;32m--> 774\u001b[0;31m     \u001b[0mplotter\u001b[0m\u001b[0;34m.\u001b[0m\u001b[0mplot\u001b[0m\u001b[0;34m(\u001b[0m\u001b[0max\u001b[0m\u001b[0;34m,\u001b[0m \u001b[0mscatter_kws\u001b[0m\u001b[0;34m,\u001b[0m \u001b[0mline_kws\u001b[0m\u001b[0;34m)\u001b[0m\u001b[0;34m\u001b[0m\u001b[0m\n\u001b[0m\u001b[1;32m    775\u001b[0m     \u001b[0;32mreturn\u001b[0m \u001b[0max\u001b[0m\u001b[0;34m\u001b[0m\u001b[0m\n\u001b[1;32m    776\u001b[0m \u001b[0;34m\u001b[0m\u001b[0m\n",
      "\u001b[0;32m//anaconda/lib/python2.7/site-packages/seaborn/linearmodels.pyc\u001b[0m in \u001b[0;36mplot\u001b[0;34m(self, ax, scatter_kws, line_kws)\u001b[0m\n\u001b[1;32m    325\u001b[0m             \u001b[0mself\u001b[0m\u001b[0;34m.\u001b[0m\u001b[0mscatterplot\u001b[0m\u001b[0;34m(\u001b[0m\u001b[0max\u001b[0m\u001b[0;34m,\u001b[0m \u001b[0mscatter_kws\u001b[0m\u001b[0;34m)\u001b[0m\u001b[0;34m\u001b[0m\u001b[0m\n\u001b[1;32m    326\u001b[0m         \u001b[0;32mif\u001b[0m \u001b[0mself\u001b[0m\u001b[0;34m.\u001b[0m\u001b[0mfit_reg\u001b[0m\u001b[0;34m:\u001b[0m\u001b[0;34m\u001b[0m\u001b[0m\n\u001b[0;32m--> 327\u001b[0;31m             \u001b[0mself\u001b[0m\u001b[0;34m.\u001b[0m\u001b[0mlineplot\u001b[0m\u001b[0;34m(\u001b[0m\u001b[0max\u001b[0m\u001b[0;34m,\u001b[0m \u001b[0mline_kws\u001b[0m\u001b[0;34m)\u001b[0m\u001b[0;34m\u001b[0m\u001b[0m\n\u001b[0m\u001b[1;32m    328\u001b[0m \u001b[0;34m\u001b[0m\u001b[0m\n\u001b[1;32m    329\u001b[0m         \u001b[0;31m# Label the axes\u001b[0m\u001b[0;34m\u001b[0m\u001b[0;34m\u001b[0m\u001b[0m\n",
      "\u001b[0;32m//anaconda/lib/python2.7/site-packages/seaborn/linearmodels.pyc\u001b[0m in \u001b[0;36mlineplot\u001b[0;34m(self, ax, kws)\u001b[0m\n\u001b[1;32m    380\u001b[0m         \u001b[0max\u001b[0m\u001b[0;34m.\u001b[0m\u001b[0mplot\u001b[0m\u001b[0;34m(\u001b[0m\u001b[0mgrid\u001b[0m\u001b[0;34m,\u001b[0m \u001b[0myhat\u001b[0m\u001b[0;34m,\u001b[0m \u001b[0;34m**\u001b[0m\u001b[0mkws\u001b[0m\u001b[0;34m)\u001b[0m\u001b[0;34m\u001b[0m\u001b[0m\n\u001b[1;32m    381\u001b[0m         \u001b[0;32mif\u001b[0m \u001b[0merr_bands\u001b[0m \u001b[0;32mis\u001b[0m \u001b[0;32mnot\u001b[0m \u001b[0mNone\u001b[0m\u001b[0;34m:\u001b[0m\u001b[0;34m\u001b[0m\u001b[0m\n\u001b[0;32m--> 382\u001b[0;31m             \u001b[0max\u001b[0m\u001b[0;34m.\u001b[0m\u001b[0mfill_between\u001b[0m\u001b[0;34m(\u001b[0m\u001b[0mgrid\u001b[0m\u001b[0;34m,\u001b[0m \u001b[0;34m*\u001b[0m\u001b[0merr_bands\u001b[0m\u001b[0;34m,\u001b[0m \u001b[0mfacecolor\u001b[0m\u001b[0;34m=\u001b[0m\u001b[0mfill_color\u001b[0m\u001b[0;34m,\u001b[0m \u001b[0malpha\u001b[0m\u001b[0;34m=\u001b[0m\u001b[0;36m.15\u001b[0m\u001b[0;34m)\u001b[0m\u001b[0;34m\u001b[0m\u001b[0m\n\u001b[0m\u001b[1;32m    383\u001b[0m         \u001b[0max\u001b[0m\u001b[0;34m.\u001b[0m\u001b[0mset_xlim\u001b[0m\u001b[0;34m(\u001b[0m\u001b[0;34m*\u001b[0m\u001b[0mxlim\u001b[0m\u001b[0;34m)\u001b[0m\u001b[0;34m\u001b[0m\u001b[0m\n\u001b[1;32m    384\u001b[0m \u001b[0;34m\u001b[0m\u001b[0m\n",
      "\u001b[0;32m//anaconda/lib/python2.7/site-packages/matplotlib/__init__.pyc\u001b[0m in \u001b[0;36minner\u001b[0;34m(ax, *args, **kwargs)\u001b[0m\n\u001b[1;32m   1810\u001b[0m                     warnings.warn(msg % (label_namer, func.__name__),\n\u001b[1;32m   1811\u001b[0m                                   RuntimeWarning, stacklevel=2)\n\u001b[0;32m-> 1812\u001b[0;31m             \u001b[0;32mreturn\u001b[0m \u001b[0mfunc\u001b[0m\u001b[0;34m(\u001b[0m\u001b[0max\u001b[0m\u001b[0;34m,\u001b[0m \u001b[0;34m*\u001b[0m\u001b[0margs\u001b[0m\u001b[0;34m,\u001b[0m \u001b[0;34m**\u001b[0m\u001b[0mkwargs\u001b[0m\u001b[0;34m)\u001b[0m\u001b[0;34m\u001b[0m\u001b[0m\n\u001b[0m\u001b[1;32m   1813\u001b[0m         \u001b[0mpre_doc\u001b[0m \u001b[0;34m=\u001b[0m \u001b[0minner\u001b[0m\u001b[0;34m.\u001b[0m\u001b[0m__doc__\u001b[0m\u001b[0;34m\u001b[0m\u001b[0m\n\u001b[1;32m   1814\u001b[0m         \u001b[0;32mif\u001b[0m \u001b[0mpre_doc\u001b[0m \u001b[0;32mis\u001b[0m \u001b[0mNone\u001b[0m\u001b[0;34m:\u001b[0m\u001b[0;34m\u001b[0m\u001b[0m\n",
      "\u001b[0;32m//anaconda/lib/python2.7/site-packages/matplotlib/axes/_axes.pyc\u001b[0m in \u001b[0;36mfill_between\u001b[0;34m(self, x, y1, y2, where, interpolate, step, **kwargs)\u001b[0m\n\u001b[1;32m   4619\u001b[0m \u001b[0;34m\u001b[0m\u001b[0m\n\u001b[1;32m   4620\u001b[0m         \u001b[0;32mif\u001b[0m \u001b[0;32mnot\u001b[0m \u001b[0;34m(\u001b[0m\u001b[0mx\u001b[0m\u001b[0;34m.\u001b[0m\u001b[0mshape\u001b[0m \u001b[0;34m==\u001b[0m \u001b[0my1\u001b[0m\u001b[0;34m.\u001b[0m\u001b[0mshape\u001b[0m \u001b[0;34m==\u001b[0m \u001b[0my2\u001b[0m\u001b[0;34m.\u001b[0m\u001b[0mshape\u001b[0m \u001b[0;34m==\u001b[0m \u001b[0mwhere\u001b[0m\u001b[0;34m.\u001b[0m\u001b[0mshape\u001b[0m\u001b[0;34m)\u001b[0m\u001b[0;34m:\u001b[0m\u001b[0;34m\u001b[0m\u001b[0m\n\u001b[0;32m-> 4621\u001b[0;31m             \u001b[0;32mraise\u001b[0m \u001b[0mValueError\u001b[0m\u001b[0;34m(\u001b[0m\u001b[0;34m\"Argument dimensions are incompatible\"\u001b[0m\u001b[0;34m)\u001b[0m\u001b[0;34m\u001b[0m\u001b[0m\n\u001b[0m\u001b[1;32m   4622\u001b[0m \u001b[0;34m\u001b[0m\u001b[0m\n\u001b[1;32m   4623\u001b[0m         \u001b[0mmask\u001b[0m \u001b[0;34m=\u001b[0m \u001b[0mreduce\u001b[0m\u001b[0;34m(\u001b[0m\u001b[0mma\u001b[0m\u001b[0;34m.\u001b[0m\u001b[0mmask_or\u001b[0m\u001b[0;34m,\u001b[0m \u001b[0;34m[\u001b[0m\u001b[0mma\u001b[0m\u001b[0;34m.\u001b[0m\u001b[0mgetmask\u001b[0m\u001b[0;34m(\u001b[0m\u001b[0ma\u001b[0m\u001b[0;34m)\u001b[0m \u001b[0;32mfor\u001b[0m \u001b[0ma\u001b[0m \u001b[0;32min\u001b[0m \u001b[0;34m(\u001b[0m\u001b[0mx\u001b[0m\u001b[0;34m,\u001b[0m \u001b[0my1\u001b[0m\u001b[0;34m,\u001b[0m \u001b[0my2\u001b[0m\u001b[0;34m)\u001b[0m\u001b[0;34m]\u001b[0m\u001b[0;34m)\u001b[0m\u001b[0;34m\u001b[0m\u001b[0m\n",
      "\u001b[0;31mValueError\u001b[0m: Argument dimensions are incompatible"
     ]
    },
    {
     "data": {
      "image/png": "[encoded data removed]",
      "text/plain": [
       "<matplotlib.figure.Figure at 0x129310ad0>"
      ]
     },
     "metadata": {},
     "output_type": "display_data"
    }
   ],
   "source": [
    "ax = sns.regplot(y_pred, y)\n",
    "ax.figure.set_figheight(6)\n",
    "ax.figure.set_figwidth(14)\n",
    "\n",
    "ax.set_ylabel('Actual Values')\n",
    "ax.set_xlabel('Predicted Values')\n",
    "ax.set_title('Predicted vs. Actual Values');"
   ]
  },
  {
   "cell_type": "code",
   "execution_count": 153,
   "metadata": {
    "collapsed": false
   },
   "outputs": [
    {
     "data": {
      "text/plain": [
       "0.77017501939506761"
      ]
     },
     "execution_count": 153,
     "metadata": {},
     "output_type": "execute_result"
    }
   ],
   "source": [
    "lr_r2 =  r2_score(y_true=y, y_pred=y_pred)\n",
    "lr_r2"
   ]
  },
  {
   "cell_type": "code",
   "execution_count": 154,
   "metadata": {
    "collapsed": false
   },
   "outputs": [
    {
     "data": {
      "text/plain": [
       "1"
      ]
     },
     "execution_count": 154,
     "metadata": {},
     "output_type": "execute_result"
    }
   ],
   "source": [
    "len(lr_model.coef_)"
   ]
  },
  {
   "cell_type": "code",
   "execution_count": 155,
   "metadata": {
    "collapsed": false
   },
   "outputs": [
    {
     "data": {
      "text/plain": [
       "array([[ -2.17204471e-03,  -1.82825396e-04,   5.84292343e-02,\n",
       "          9.54960175e-05,  -1.90054507e-02,  -7.69417890e-05,\n",
       "         -3.90405924e-02,   4.43882807e+01,  -2.33908950e+01,\n",
       "          6.04164932e+00,   2.59660979e+02,  -9.56992665e+02]])"
      ]
     },
     "execution_count": 155,
     "metadata": {},
     "output_type": "execute_result"
    }
   ],
   "source": [
    "lr_model.coef_"
   ]
  },
  {
   "cell_type": "code",
   "execution_count": 75,
   "metadata": {
    "collapsed": false
   },
   "outputs": [],
   "source": [
    "#df.groupby ( ‘key’ ) [ ‘ what to aggregate’ ].how_to_aggregate\n",
    "\n",
    "store_sales = iowa.groupby(['store_number'])['sales'a].sum().to_frame()"
   ]
  },
  {
   "cell_type": "code",
   "execution_count": 76,
   "metadata": {
    "collapsed": false
   },
   "outputs": [
    {
     "data": {
      "text/html": [
       "<div>\n",
       "<table border=\"1\" class=\"dataframe\">\n",
       "  <thead>\n",
       "    <tr style=\"text-align: right;\">\n",
       "      <th></th>\n",
       "      <th>sales</th>\n",
       "    </tr>\n",
       "    <tr>\n",
       "      <th>store_number</th>\n",
       "      <th></th>\n",
       "    </tr>\n",
       "  </thead>\n",
       "  <tbody>\n",
       "    <tr>\n",
       "      <th>2106</th>\n",
       "      <td>176517.45</td>\n",
       "    </tr>\n",
       "    <tr>\n",
       "      <th>2113</th>\n",
       "      <td>11376.12</td>\n",
       "    </tr>\n",
       "    <tr>\n",
       "      <th>2130</th>\n",
       "      <td>139440.02</td>\n",
       "    </tr>\n",
       "    <tr>\n",
       "      <th>2152</th>\n",
       "      <td>8625.74</td>\n",
       "    </tr>\n",
       "    <tr>\n",
       "      <th>2178</th>\n",
       "      <td>29912.68</td>\n",
       "    </tr>\n",
       "    <tr>\n",
       "      <th>2190</th>\n",
       "      <td>153492.12</td>\n",
       "    </tr>\n",
       "    <tr>\n",
       "      <th>2191</th>\n",
       "      <td>172431.69</td>\n",
       "    </tr>\n",
       "    <tr>\n",
       "      <th>2200</th>\n",
       "      <td>26986.42</td>\n",
       "    </tr>\n",
       "    <tr>\n",
       "      <th>2205</th>\n",
       "      <td>24623.01</td>\n",
       "    </tr>\n",
       "    <tr>\n",
       "      <th>2228</th>\n",
       "      <td>20548.45</td>\n",
       "    </tr>\n",
       "    <tr>\n",
       "      <th>2233</th>\n",
       "      <td>36075.99</td>\n",
       "    </tr>\n",
       "    <tr>\n",
       "      <th>2238</th>\n",
       "      <td>12171.88</td>\n",
       "    </tr>\n",
       "    <tr>\n",
       "      <th>2248</th>\n",
       "      <td>81680.50</td>\n",
       "    </tr>\n",
       "    <tr>\n",
       "      <th>2285</th>\n",
       "      <td>89165.92</td>\n",
       "    </tr>\n",
       "    <tr>\n",
       "      <th>2290</th>\n",
       "      <td>68737.73</td>\n",
       "    </tr>\n",
       "    <tr>\n",
       "      <th>2327</th>\n",
       "      <td>12441.71</td>\n",
       "    </tr>\n",
       "    <tr>\n",
       "      <th>2353</th>\n",
       "      <td>55899.13</td>\n",
       "    </tr>\n",
       "    <tr>\n",
       "      <th>2367</th>\n",
       "      <td>5010.83</td>\n",
       "    </tr>\n",
       "    <tr>\n",
       "      <th>2413</th>\n",
       "      <td>112990.69</td>\n",
       "    </tr>\n",
       "    <tr>\n",
       "      <th>2445</th>\n",
       "      <td>8612.85</td>\n",
       "    </tr>\n",
       "    <tr>\n",
       "      <th>2448</th>\n",
       "      <td>24478.88</td>\n",
       "    </tr>\n",
       "    <tr>\n",
       "      <th>2459</th>\n",
       "      <td>9156.23</td>\n",
       "    </tr>\n",
       "    <tr>\n",
       "      <th>2460</th>\n",
       "      <td>33731.76</td>\n",
       "    </tr>\n",
       "    <tr>\n",
       "      <th>2465</th>\n",
       "      <td>31101.60</td>\n",
       "    </tr>\n",
       "    <tr>\n",
       "      <th>2475</th>\n",
       "      <td>15471.14</td>\n",
       "    </tr>\n",
       "    <tr>\n",
       "      <th>2478</th>\n",
       "      <td>24303.27</td>\n",
       "    </tr>\n",
       "    <tr>\n",
       "      <th>2487</th>\n",
       "      <td>28900.96</td>\n",
       "    </tr>\n",
       "    <tr>\n",
       "      <th>2498</th>\n",
       "      <td>3040.01</td>\n",
       "    </tr>\n",
       "    <tr>\n",
       "      <th>2500</th>\n",
       "      <td>182871.72</td>\n",
       "    </tr>\n",
       "    <tr>\n",
       "      <th>2501</th>\n",
       "      <td>174349.30</td>\n",
       "    </tr>\n",
       "    <tr>\n",
       "      <th>...</th>\n",
       "      <td>...</td>\n",
       "    </tr>\n",
       "    <tr>\n",
       "      <th>5185</th>\n",
       "      <td>1586.07</td>\n",
       "    </tr>\n",
       "    <tr>\n",
       "      <th>5186</th>\n",
       "      <td>639.66</td>\n",
       "    </tr>\n",
       "    <tr>\n",
       "      <th>5187</th>\n",
       "      <td>5628.71</td>\n",
       "    </tr>\n",
       "    <tr>\n",
       "      <th>5188</th>\n",
       "      <td>2614.63</td>\n",
       "    </tr>\n",
       "    <tr>\n",
       "      <th>5189</th>\n",
       "      <td>672.60</td>\n",
       "    </tr>\n",
       "    <tr>\n",
       "      <th>5190</th>\n",
       "      <td>2884.64</td>\n",
       "    </tr>\n",
       "    <tr>\n",
       "      <th>5191</th>\n",
       "      <td>468.66</td>\n",
       "    </tr>\n",
       "    <tr>\n",
       "      <th>5192</th>\n",
       "      <td>123.60</td>\n",
       "    </tr>\n",
       "    <tr>\n",
       "      <th>5193</th>\n",
       "      <td>139.50</td>\n",
       "    </tr>\n",
       "    <tr>\n",
       "      <th>5195</th>\n",
       "      <td>92.50</td>\n",
       "    </tr>\n",
       "    <tr>\n",
       "      <th>5196</th>\n",
       "      <td>975.13</td>\n",
       "    </tr>\n",
       "    <tr>\n",
       "      <th>5198</th>\n",
       "      <td>10864.17</td>\n",
       "    </tr>\n",
       "    <tr>\n",
       "      <th>5199</th>\n",
       "      <td>5296.62</td>\n",
       "    </tr>\n",
       "    <tr>\n",
       "      <th>5201</th>\n",
       "      <td>289.78</td>\n",
       "    </tr>\n",
       "    <tr>\n",
       "      <th>5202</th>\n",
       "      <td>407.61</td>\n",
       "    </tr>\n",
       "    <tr>\n",
       "      <th>5203</th>\n",
       "      <td>3916.52</td>\n",
       "    </tr>\n",
       "    <tr>\n",
       "      <th>5204</th>\n",
       "      <td>2498.23</td>\n",
       "    </tr>\n",
       "    <tr>\n",
       "      <th>5205</th>\n",
       "      <td>362.16</td>\n",
       "    </tr>\n",
       "    <tr>\n",
       "      <th>5206</th>\n",
       "      <td>2712.63</td>\n",
       "    </tr>\n",
       "    <tr>\n",
       "      <th>5207</th>\n",
       "      <td>8311.30</td>\n",
       "    </tr>\n",
       "    <tr>\n",
       "      <th>5211</th>\n",
       "      <td>1210.13</td>\n",
       "    </tr>\n",
       "    <tr>\n",
       "      <th>5212</th>\n",
       "      <td>1231.72</td>\n",
       "    </tr>\n",
       "    <tr>\n",
       "      <th>5213</th>\n",
       "      <td>642.38</td>\n",
       "    </tr>\n",
       "    <tr>\n",
       "      <th>5215</th>\n",
       "      <td>2255.64</td>\n",
       "    </tr>\n",
       "    <tr>\n",
       "      <th>9001</th>\n",
       "      <td>28916.76</td>\n",
       "    </tr>\n",
       "    <tr>\n",
       "      <th>9002</th>\n",
       "      <td>39083.16</td>\n",
       "    </tr>\n",
       "    <tr>\n",
       "      <th>9010</th>\n",
       "      <td>5935.44</td>\n",
       "    </tr>\n",
       "    <tr>\n",
       "      <th>9013</th>\n",
       "      <td>2579.04</td>\n",
       "    </tr>\n",
       "    <tr>\n",
       "      <th>9018</th>\n",
       "      <td>6435.00</td>\n",
       "    </tr>\n",
       "    <tr>\n",
       "      <th>9023</th>\n",
       "      <td>633.36</td>\n",
       "    </tr>\n",
       "  </tbody>\n",
       "</table>\n",
       "<p>1377 rows × 1 columns</p>\n",
       "</div>"
      ],
      "text/plain": [
       "                  sales\n",
       "store_number           \n",
       "2106          176517.45\n",
       "2113           11376.12\n",
       "2130          139440.02\n",
       "2152            8625.74\n",
       "2178           29912.68\n",
       "2190          153492.12\n",
       "2191          172431.69\n",
       "2200           26986.42\n",
       "2205           24623.01\n",
       "2228           20548.45\n",
       "2233           36075.99\n",
       "2238           12171.88\n",
       "2248           81680.50\n",
       "2285           89165.92\n",
       "2290           68737.73\n",
       "2327           12441.71\n",
       "2353           55899.13\n",
       "2367            5010.83\n",
       "2413          112990.69\n",
       "2445            8612.85\n",
       "2448           24478.88\n",
       "2459            9156.23\n",
       "2460           33731.76\n",
       "2465           31101.60\n",
       "2475           15471.14\n",
       "2478           24303.27\n",
       "2487           28900.96\n",
       "2498            3040.01\n",
       "2500          182871.72\n",
       "2501          174349.30\n",
       "...                 ...\n",
       "5185            1586.07\n",
       "5186             639.66\n",
       "5187            5628.71\n",
       "5188            2614.63\n",
       "5189             672.60\n",
       "5190            2884.64\n",
       "5191             468.66\n",
       "5192             123.60\n",
       "5193             139.50\n",
       "5195              92.50\n",
       "5196             975.13\n",
       "5198           10864.17\n",
       "5199            5296.62\n",
       "5201             289.78\n",
       "5202             407.61\n",
       "5203            3916.52\n",
       "5204            2498.23\n",
       "5205             362.16\n",
       "5206            2712.63\n",
       "5207            8311.30\n",
       "5211            1210.13\n",
       "5212            1231.72\n",
       "5213             642.38\n",
       "5215            2255.64\n",
       "9001           28916.76\n",
       "9002           39083.16\n",
       "9010            5935.44\n",
       "9013            2579.04\n",
       "9018            6435.00\n",
       "9023             633.36\n",
       "\n",
       "[1377 rows x 1 columns]"
      ]
     },
     "execution_count": 76,
     "metadata": {},
     "output_type": "execute_result"
    }
   ],
   "source": [
    "store_sales"
   ]
  },
  {
   "cell_type": "code",
   "execution_count": 69,
   "metadata": {
    "collapsed": false
   },
   "outputs": [
    {
     "data": {
      "text/plain": [
       "array([ 750, 1000, 1750,  200,  300,  500,  375, 3000, 2400,  600,  100,\n",
       "       1200,  800, 4800,  150, 2250,  400, 3600,   50,  850,  950,  603,\n",
       "       2550, 1125, 6000, 4500,  900,  250, 1500])"
      ]
     },
     "execution_count": 69,
     "metadata": {},
     "output_type": "execute_result"
    }
   ],
   "source": [
    "iowa['bottle_volume'].unique()"
   ]
  },
  {
   "cell_type": "code",
   "execution_count": null,
   "metadata": {
    "collapsed": true
   },
   "outputs": [],
   "source": [
    "{'vodka': }\n",
    "#vodka\n",
    "#schnapps\n",
    "#whiskey\n",
    "#rum\n",
    "#scotch\n",
    "#gin\n",
    "#liqueurs\n",
    "#brandies\n",
    "#tequila\n",
    "#beer\n",
    "#other\n"
   ]
  },
  {
   "cell_type": "code",
   "execution_count": 63,
   "metadata": {
    "collapsed": false
   },
   "outputs": [
    {
     "data": {
      "text/plain": [
       "71"
      ]
     },
     "execution_count": 63,
     "metadata": {},
     "output_type": "execute_result"
    }
   ],
   "source": [
    "iowa['category_name'].nunique()"
   ]
  },
  {
   "cell_type": "code",
   "execution_count": 23,
   "metadata": {
    "collapsed": false
   },
   "outputs": [
    {
     "data": {
      "text/plain": [
       "dtype('O')"
      ]
     },
     "execution_count": 23,
     "metadata": {},
     "output_type": "execute_result"
    }
   ],
   "source": [
    "iowa['date'].dtypes"
   ]
  },
  {
   "cell_type": "code",
   "execution_count": 24,
   "metadata": {
    "collapsed": false
   },
   "outputs": [],
   "source": [
    "## Transform the dates if needed, e.g.\n",
    "iowa['date'] = iowa['date'].str.replace('/','-') \n",
    "iowa['date'] = pd.to_datetime(iowa['date'], format= '%m-%d-%Y')"
   ]
  },
  {
   "cell_type": "code",
   "execution_count": 29,
   "metadata": {
    "collapsed": false
   },
   "outputs": [
    {
     "data": {
      "text/plain": [
       "date                      0\n",
       "store_number              0\n",
       "city                      0\n",
       "zip_code                  0\n",
       "county_number          1077\n",
       "county                 1077\n",
       "category                 68\n",
       "category_name           632\n",
       "vendor_number             0\n",
       "item_number               0\n",
       "item_description          0\n",
       "bottle_volume             0\n",
       "state_bottle_cost         0\n",
       "state_bottle_retail       0\n",
       "bottles_sold              0\n",
       "sales                     0\n",
       "volume_sold               0\n",
       "volume_sold_gallons       0\n",
       "dtype: int64"
      ]
     },
     "execution_count": 29,
     "metadata": {},
     "output_type": "execute_result"
    }
   ],
   "source": [
    "# Check for null or other weird values\n",
    "iowa.isnull().sum()"
   ]
  },
  {
   "cell_type": "code",
   "execution_count": null,
   "metadata": {
    "collapsed": false
   },
   "outputs": [],
   "source": [
    "iowa.dtypes"
   ]
  },
  {
   "cell_type": "markdown",
   "metadata": {},
   "source": [
    "# Explore the data\n",
    "\n",
    "Perform some exploratory statistical analysis and make some plots, such as histograms of transaction totals, bottles sold, etc."
   ]
  },
  {
   "cell_type": "code",
   "execution_count": null,
   "metadata": {
    "collapsed": true
   },
   "outputs": [],
   "source": [
    "import seaborn as sns\n",
    "import matplotlib.pyplot as plt"
   ]
  },
  {
   "cell_type": "code",
   "execution_count": null,
   "metadata": {
    "collapsed": false
   },
   "outputs": [],
   "source": [
    "len(iowa['County'].value_counts())"
   ]
  },
  {
   "cell_type": "code",
   "execution_count": null,
   "metadata": {
    "collapsed": false
   },
   "outputs": [],
   "source": [
    "iowa_county = pd.pivot_table(iowa, index=iowa['County'], values=['Sale (Dollars)'])\n",
    "iowa_county.head()"
   ]
  },
  {
   "cell_type": "markdown",
   "metadata": {},
   "source": [
    "## Record your findings\n",
    "\n",
    "Be sure to write out anything observations from your exploratory analysis."
   ]
  },
  {
   "cell_type": "markdown",
   "metadata": {},
   "source": [
    "# Mine the data\n",
    "Now you are ready to compute the variables you will use for your regression from the data. For example, you may want to\n",
    "compute total sales per store from Jan to March of 2015, mean price per bottle, etc. Refer to the readme for more ideas appropriate to your scenario.\n",
    "\n",
    "Pandas is your friend for this task. Take a look at the operations [here](http://pandas.pydata.org/pandas-docs/stable/groupby.html) for ideas on how to make the best use of pandas and feel free to search for blog and Stack Overflow posts to help you group data by certain variables and compute sums, means, etc. You may find it useful to create a new data frame to house this summary data."
   ]
  },
  {
   "cell_type": "markdown",
   "metadata": {},
   "source": [
    "# Refine the data\n",
    "Look for any statistical relationships, correlations, or other relevant properties of the dataset."
   ]
  },
  {
   "cell_type": "code",
   "execution_count": null,
   "metadata": {
    "collapsed": true
   },
   "outputs": [],
   "source": []
  },
  {
   "cell_type": "markdown",
   "metadata": {},
   "source": [
    "# Build your models\n",
    "\n",
    "Using scikit-learn or statsmodels, build the necessary models for your scenario. Evaluate model fit."
   ]
  },
  {
   "cell_type": "code",
   "execution_count": null,
   "metadata": {
    "collapsed": true
   },
   "outputs": [],
   "source": [
    "from sklearn import linear_model\n"
   ]
  },
  {
   "cell_type": "markdown",
   "metadata": {},
   "source": [
    "## Plot your results\n",
    "\n",
    "Again make sure that you record any valuable information. For example, in the tax scenario, did you find the sales from the first three months of the year to be a good predictor of the total sales for the year? Plot the predictions versus the true values and discuss the successes and limitations of your models"
   ]
  },
  {
   "cell_type": "code",
   "execution_count": null,
   "metadata": {
    "collapsed": true
   },
   "outputs": [],
   "source": []
  },
  {
   "cell_type": "markdown",
   "metadata": {},
   "source": [
    "# Present the Results\n",
    "\n",
    "Present your conclusions and results. If you have more than one interesting model feel free to include more than one along with a discussion. Use your work in this notebook to prepare your write-up."
   ]
  },
  {
   "cell_type": "code",
   "execution_count": null,
   "metadata": {
    "collapsed": true
   },
   "outputs": [],
   "source": []
  }
 ],
 "metadata": {
  "kernelspec": {
   "display_name": "Python 2",
   "language": "python",
   "name": "python2"
  },
  "language_info": {
   "codemirror_mode": {
    "name": "ipython",
    "version": 2
   },
   "file_extension": ".py",
   "mimetype": "text/x-python",
   "name": "python",
   "nbconvert_exporter": "python",
   "pygments_lexer": "ipython2",
   "version": "2.7.11"
  }
 },
 "nbformat": 4,
 "nbformat_minor": 0
}
