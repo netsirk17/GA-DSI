{
 "cells": [
  {
   "cell_type": "markdown",
   "metadata": {},
   "source": [
    "### Notes"
   ]
  },
  {
   "cell_type": "code",
   "execution_count": null,
   "metadata": {
    "collapsed": true
   },
   "outputs": [],
   "source": [
    "#Base model:\n",
    "y = stores_df['2015-Q2-Q4_rev']\n",
    "X = pd.DataFrame(stores_df['Q1-15_total_revenue'])\n",
    "Score (R2): 0.945449500131\n",
    "MSE: 98106140.133\n",
    "Mean_Cross_Val_Score  R2: 0.659023233734\n",
    "Train_Test_Split R2: 0.964557791977\n",
    "\n",
    "#Updated model:\n",
    "y = stores_df['2015-Q2-Q4_rev']\n",
    "X = pd.DataFrame(stores_df[['Q1-15_total_revenue', 'bott_per_day_15Q1', \\\n",
    "                            'rev_per_day_15Q1', \\\n",
    "                            'Q1-15_bott', 'vol_per_day_15Q1']])\n",
    "Score (R2): 0.948894122157\n",
    "MSE: 91911172.6804\n",
    "Mean_Cross_Val_Score  R2: 0.392091676579\n",
    "Train_Test_Split R2: 0.9654024578\n",
    "\n",
    "#Updated model 2:\n",
    "y = stores_df['2015-Q2-Q4_rev']\n",
    "X = pd.DataFrame(stores_df[['Q1-15_total_revenue', 'bott_per_day_15Q1', \\\n",
    "                            'rev_per_day_15Q1', \\\n",
    "                            'Q1-15_bott', 'vol_per_day_15Q1', 'top_ten_city']])\n",
    "Score (R2): 0.94890127494\n",
    "MSE: 91898308.7854\n",
    "Mean_Cross_Val_Score  R2: 0.389930480624\n",
    "Train_Test_Split R2: 0.897281788231\n",
    "    \n",
    "Lasso R2: 0.948889722593\n",
    "Cross val mean R2: 0.335268647073\n",
    "Train_Test_Split Lasso Model Score: 0.949197013767\n",
    "    \n",
    "#Updated model 3:\n",
    "y = stores_df['2015-Q2-Q4_rev']\n",
    "X = pd.DataFrame(stores_df[['Q1-15_total_revenue', 'bott_per_day_15Q1', 'rev_per_day_15Q1', \\\n",
    "                            'vol_per_day_15Q1']])\n",
    "Score (R2): 0.947156702974\n",
    "Train_Test_Split R2: 0.960368949613  \n",
    "MSE: 95035827.6378\n",
    "Mean_Cross_Val_Score  R2: 0.636068734731\n",
    "Train_Test_Split R2: 0.863893312481\n",
    "Lasso R2: 0.94715670297\n",
    "Cross_Val_Mean R2: 0.485779758311\n",
    "Train_Test_Split Lasso Model Score: 0.943450691777"
   ]
  }
 ],
 "metadata": {
  "kernelspec": {
   "display_name": "Python 2",
   "language": "python",
   "name": "python2"
  },
  "language_info": {
   "codemirror_mode": {
    "name": "ipython",
    "version": 2
   },
   "file_extension": ".py",
   "mimetype": "text/x-python",
   "name": "python",
   "nbconvert_exporter": "python",
   "pygments_lexer": "ipython2",
   "version": "2.7.12"
  }
 },
 "nbformat": 4,
 "nbformat_minor": 0
}
