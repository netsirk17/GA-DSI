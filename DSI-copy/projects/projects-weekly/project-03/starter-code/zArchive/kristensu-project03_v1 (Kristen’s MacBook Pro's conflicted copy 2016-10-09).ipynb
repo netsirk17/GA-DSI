{
 "cells": [
  {
   "cell_type": "markdown",
   "metadata": {},
   "source": [
    "# Getting started\n",
    "\n",
    "Once you've chosen your scenario, download the data from [the Iowa website](https://data.iowa.gov/Economy/Iowa-Liquor-Sales/m3tr-qhgy) in csv format. Start by loading the data with pandas. You may need to parse the date columns appropriately."
   ]
  },
  {
   "cell_type": "code",
   "execution_count": 1,
   "metadata": {
    "collapsed": false
   },
   "outputs": [],
   "source": [
    "#import libraries\n",
    "import pandas as pd\n",
    "import numpy as np\n",
    "import seaborn as sns\n",
    "import matplotlib as plt\n",
    "%matplotlib inline \n",
    "\n",
    "from sklearn import datasets\n",
    "from sklearn import linear_model\n",
    "from sklearn.metrics import r2_score\n",
    "from sklearn.cross_validation import train_test_split\n",
    "from sklearn.cross_validation import cross_val_score\n",
    "from sklearn.cross_validation import cross_val_predict\n",
    "from sklearn.metrics import r2_score\n"
   ]
  },
  {
   "cell_type": "code",
   "execution_count": 2,
   "metadata": {
    "collapsed": true
   },
   "outputs": [],
   "source": [
    "## Load the data into a DataFrame\n",
    "iowa = pd.read_csv ('/Users/kristensu/downloads/Iowa_Liquor_sales_sample_10pct.csv')"
   ]
  },
  {
   "cell_type": "code",
   "execution_count": 3,
   "metadata": {
    "collapsed": false
   },
   "outputs": [
    {
     "data": {
      "text/html": [
       "<div>\n",
       "<table border=\"1\" class=\"dataframe\">\n",
       "  <thead>\n",
       "    <tr style=\"text-align: right;\">\n",
       "      <th></th>\n",
       "      <th>Date</th>\n",
       "      <th>Store Number</th>\n",
       "      <th>City</th>\n",
       "      <th>Zip Code</th>\n",
       "      <th>County Number</th>\n",
       "      <th>County</th>\n",
       "      <th>Category</th>\n",
       "      <th>Category Name</th>\n",
       "      <th>Vendor Number</th>\n",
       "      <th>Item Number</th>\n",
       "      <th>Item Description</th>\n",
       "      <th>Bottle Volume (ml)</th>\n",
       "      <th>State Bottle Cost</th>\n",
       "      <th>State Bottle Retail</th>\n",
       "      <th>Bottles Sold</th>\n",
       "      <th>Sale (Dollars)</th>\n",
       "      <th>Volume Sold (Liters)</th>\n",
       "      <th>Volume Sold (Gallons)</th>\n",
       "    </tr>\n",
       "  </thead>\n",
       "  <tbody>\n",
       "    <tr>\n",
       "      <th>0</th>\n",
       "      <td>11/04/2015</td>\n",
       "      <td>3717</td>\n",
       "      <td>SUMNER</td>\n",
       "      <td>50674</td>\n",
       "      <td>9.0</td>\n",
       "      <td>Bremer</td>\n",
       "      <td>1051100.0</td>\n",
       "      <td>APRICOT BRANDIES</td>\n",
       "      <td>55</td>\n",
       "      <td>54436</td>\n",
       "      <td>Mr. Boston Apricot Brandy</td>\n",
       "      <td>750</td>\n",
       "      <td>$4.50</td>\n",
       "      <td>$6.75</td>\n",
       "      <td>12</td>\n",
       "      <td>$81.00</td>\n",
       "      <td>9.0</td>\n",
       "      <td>2.38</td>\n",
       "    </tr>\n",
       "    <tr>\n",
       "      <th>1</th>\n",
       "      <td>03/02/2016</td>\n",
       "      <td>2614</td>\n",
       "      <td>DAVENPORT</td>\n",
       "      <td>52807</td>\n",
       "      <td>82.0</td>\n",
       "      <td>Scott</td>\n",
       "      <td>1011100.0</td>\n",
       "      <td>BLENDED WHISKIES</td>\n",
       "      <td>395</td>\n",
       "      <td>27605</td>\n",
       "      <td>Tin Cup</td>\n",
       "      <td>750</td>\n",
       "      <td>$13.75</td>\n",
       "      <td>$20.63</td>\n",
       "      <td>2</td>\n",
       "      <td>$41.26</td>\n",
       "      <td>1.5</td>\n",
       "      <td>0.40</td>\n",
       "    </tr>\n",
       "    <tr>\n",
       "      <th>2</th>\n",
       "      <td>02/11/2016</td>\n",
       "      <td>2106</td>\n",
       "      <td>CEDAR FALLS</td>\n",
       "      <td>50613</td>\n",
       "      <td>7.0</td>\n",
       "      <td>Black Hawk</td>\n",
       "      <td>1011200.0</td>\n",
       "      <td>STRAIGHT BOURBON WHISKIES</td>\n",
       "      <td>65</td>\n",
       "      <td>19067</td>\n",
       "      <td>Jim Beam</td>\n",
       "      <td>1000</td>\n",
       "      <td>$12.59</td>\n",
       "      <td>$18.89</td>\n",
       "      <td>24</td>\n",
       "      <td>$453.36</td>\n",
       "      <td>24.0</td>\n",
       "      <td>6.34</td>\n",
       "    </tr>\n",
       "  </tbody>\n",
       "</table>\n",
       "</div>"
      ],
      "text/plain": [
       "         Date  Store Number         City Zip Code  County Number      County  \\\n",
       "0  11/04/2015          3717       SUMNER    50674            9.0      Bremer   \n",
       "1  03/02/2016          2614    DAVENPORT    52807           82.0       Scott   \n",
       "2  02/11/2016          2106  CEDAR FALLS    50613            7.0  Black Hawk   \n",
       "\n",
       "    Category              Category Name  Vendor Number  Item Number  \\\n",
       "0  1051100.0           APRICOT BRANDIES             55        54436   \n",
       "1  1011100.0           BLENDED WHISKIES            395        27605   \n",
       "2  1011200.0  STRAIGHT BOURBON WHISKIES             65        19067   \n",
       "\n",
       "            Item Description  Bottle Volume (ml) State Bottle Cost  \\\n",
       "0  Mr. Boston Apricot Brandy                 750             $4.50   \n",
       "1                    Tin Cup                 750            $13.75   \n",
       "2                   Jim Beam                1000            $12.59   \n",
       "\n",
       "  State Bottle Retail  Bottles Sold Sale (Dollars)  Volume Sold (Liters)  \\\n",
       "0               $6.75            12         $81.00                   9.0   \n",
       "1              $20.63             2         $41.26                   1.5   \n",
       "2              $18.89            24        $453.36                  24.0   \n",
       "\n",
       "   Volume Sold (Gallons)  \n",
       "0                   2.38  \n",
       "1                   0.40  \n",
       "2                   6.34  "
      ]
     },
     "execution_count": 3,
     "metadata": {},
     "output_type": "execute_result"
    }
   ],
   "source": [
    "iowa.head(3)"
   ]
  },
  {
   "cell_type": "code",
   "execution_count": 4,
   "metadata": {
    "collapsed": false
   },
   "outputs": [
    {
     "data": {
      "text/plain": [
       "Index([u'Date', u'Store Number', u'City', u'Zip Code', u'County Number',\n",
       "       u'County', u'Category', u'Category Name', u'Vendor Number',\n",
       "       u'Item Number', u'Item Description', u'Bottle Volume (ml)',\n",
       "       u'State Bottle Cost', u'State Bottle Retail', u'Bottles Sold',\n",
       "       u'Sale (Dollars)', u'Volume Sold (Liters)', u'Volume Sold (Gallons)'],\n",
       "      dtype='object')"
      ]
     },
     "execution_count": 4,
     "metadata": {},
     "output_type": "execute_result"
    }
   ],
   "source": [
    "iowa.columns"
   ]
  },
  {
   "cell_type": "code",
   "execution_count": 5,
   "metadata": {
    "collapsed": false
   },
   "outputs": [
    {
     "data": {
      "text/plain": [
       "(270955, 18)"
      ]
     },
     "execution_count": 5,
     "metadata": {},
     "output_type": "execute_result"
    }
   ],
   "source": [
    "iowa.shape"
   ]
  },
  {
   "cell_type": "markdown",
   "metadata": {},
   "source": [
    "# Clean Data"
   ]
  },
  {
   "cell_type": "markdown",
   "metadata": {},
   "source": [
    "### Clean up column names"
   ]
  },
  {
   "cell_type": "code",
   "execution_count": 7,
   "metadata": {
    "collapsed": false
   },
   "outputs": [
    {
     "data": {
      "text/plain": [
       "Index([u'Date', u'Store Number', u'City', u'Zip Code', u'County',\n",
       "       u'Category Name', u'Vendor Number', u'Item Description',\n",
       "       u'Bottle Volume (ml)', u'State Bottle Cost', u'State Bottle Retail',\n",
       "       u'Bottles Sold', u'Sale (Dollars)', u'Volume Sold (Liters)'],\n",
       "      dtype='object')"
      ]
     },
     "execution_count": 7,
     "metadata": {},
     "output_type": "execute_result"
    }
   ],
   "source": [
    "# Drop duplicate columns (cols that contain same info as another col)\n",
    "iowa.drop(['County Number', 'Category', 'Item Number', 'Volume Sold (Gallons)'], axis=1, inplace=True)\n",
    "iowa.columns"
   ]
  },
  {
   "cell_type": "code",
   "execution_count": 8,
   "metadata": {
    "collapsed": true
   },
   "outputs": [],
   "source": [
    "# Clean up column names 1: remove units of measurement\n",
    "iowa.rename(columns = {'Bottle Volume (ml)': 'Bottle Volume', 'Sale (Dollars)': 'Sales', \\\n",
    "                      'Volume Sold (Liters)': 'Volume Sold'}, inplace=True)\n",
    "\n",
    "# Clean up column names 2: convert all to lowercase letters\n",
    "import string \n",
    "lower = string.ascii_lowercase\n",
    "iowa.rename(columns = lambda x: x.lower(), inplace=True)\n",
    "\n",
    "# Clean up column names 3: replace '', '(' and ')'\n",
    "iowa.rename(columns = lambda x: x.replace(' ', '_'), inplace=True)"
   ]
  },
  {
   "cell_type": "markdown",
   "metadata": {},
   "source": [
    "### Check and clean NaNs"
   ]
  },
  {
   "cell_type": "code",
   "execution_count": 9,
   "metadata": {
    "collapsed": false
   },
   "outputs": [
    {
     "data": {
      "text/plain": [
       "date                      0\n",
       "store_number              0\n",
       "city                      0\n",
       "zip_code                  0\n",
       "county                 1077\n",
       "category_name           632\n",
       "vendor_number             0\n",
       "item_description          0\n",
       "bottle_volume             0\n",
       "state_bottle_cost         0\n",
       "state_bottle_retail       0\n",
       "bottles_sold              0\n",
       "sales                     0\n",
       "volume_sold               0\n",
       "dtype: int64"
      ]
     },
     "execution_count": 9,
     "metadata": {},
     "output_type": "execute_result"
    }
   ],
   "source": [
    "iowa.isnull().sum()"
   ]
  },
  {
   "cell_type": "code",
   "execution_count": 22,
   "metadata": {
    "collapsed": false
   },
   "outputs": [],
   "source": [
    "# Try and map County NaNs by matching to City\n",
    "iowa_county = pd.pivot_table(iowa, index=['city', 'county'], values=['sales'], aggfunc=(sum))\n",
    "iowa_county.drop('sales', axis=1, inplace=True)"
   ]
  },
  {
   "cell_type": "code",
   "execution_count": 24,
   "metadata": {
    "collapsed": false
   },
   "outputs": [],
   "source": [
    "iowa_county.reset_index(inplace=True)"
   ]
  },
  {
   "cell_type": "code",
   "execution_count": 35,
   "metadata": {
    "collapsed": false
   },
   "outputs": [
    {
     "data": {
      "text/plain": [
       "0"
      ]
     },
     "execution_count": 35,
     "metadata": {},
     "output_type": "execute_result"
    }
   ],
   "source": [
    "duplicate_county = 0\n",
    "for x in iowa_county['city']:\n",
    "    if iowa_county['city'].duplicated == True:\n",
    "        duplicate_count += 1\n",
    "duplicate_county"
   ]
  },
  {
   "cell_type": "code",
   "execution_count": 38,
   "metadata": {
    "collapsed": false
   },
   "outputs": [],
   "source": [
    "x = iowa_county['city'].duplicated()"
   ]
  },
  {
   "cell_type": "code",
   "execution_count": 40,
   "metadata": {
    "collapsed": false
   },
   "outputs": [],
   "source": [
    "duplicate_county = [i for i in x if i == True]"
   ]
  },
  {
   "cell_type": "code",
   "execution_count": 41,
   "metadata": {
    "collapsed": false
   },
   "outputs": [
    {
     "data": {
      "text/plain": [
       "[True, True, True, True, True, True, True, True, True, True, True]"
      ]
     },
     "execution_count": 41,
     "metadata": {},
     "output_type": "execute_result"
    }
   ],
   "source": [
    "duplicate_county"
   ]
  },
  {
   "cell_type": "markdown",
   "metadata": {},
   "source": [
    "### Clean values in columns with currency, zip_code and date"
   ]
  },
  {
   "cell_type": "code",
   "execution_count": 70,
   "metadata": {
    "collapsed": true
   },
   "outputs": [],
   "source": [
    "# Convert columns with dollar amounts from object to numeric float\n",
    "currency = ['sales', 'state_bottle_cost', 'state_bottle_retail']\n",
    "iowa[currency] = iowa[currency].apply(lambda x: x.str.replace('$', ''))\n",
    "iowa[currency] = iowa[currency].apply(lambda x: pd.to_numeric(x))\n",
    "\n",
    "# Convert zip_code from object to int\n",
    "iowa['zip_code'] = pd.to_numeric(iowa['zip_code'], errors='coerce')\n",
    "iowa= iowa.dropna()\n",
    "iowa['zip_code'] = iowa.loc[:, ['zip_code']].astype(int)\n",
    "\n",
    "# Convert date from object to datetime\n",
    "iowa['date'] = pd.to_datetime(iowa['date'], format='%m/%d/%Y')\n",
    "iowa['date'] = pd.to_datetime(iowa['date'], format='%m-%d-%Y')"
   ]
  },
  {
   "cell_type": "code",
   "execution_count": 71,
   "metadata": {
    "collapsed": false
   },
   "outputs": [
    {
     "name": "stdout",
     "output_type": "stream",
     "text": [
      "<class 'pandas.core.frame.DataFrame'>\n",
      "Int64Index: 269073 entries, 0 to 270954\n",
      "Data columns (total 14 columns):\n",
      "date                   269073 non-null datetime64[ns]\n",
      "store_number           269073 non-null int64\n",
      "city                   269073 non-null object\n",
      "zip_code               269073 non-null int64\n",
      "county                 269073 non-null object\n",
      "category_name          269073 non-null object\n",
      "vendor_number          269073 non-null int64\n",
      "item_description       269073 non-null object\n",
      "bottle_volume          269073 non-null int64\n",
      "state_bottle_cost      269073 non-null float64\n",
      "state_bottle_retail    269073 non-null float64\n",
      "bottles_sold           269073 non-null int64\n",
      "sales                  269073 non-null float64\n",
      "volume_sold            269073 non-null float64\n",
      "dtypes: datetime64[ns](1), float64(4), int64(5), object(4)\n",
      "memory usage: 30.8+ MB\n"
     ]
    }
   ],
   "source": [
    "iowa.info()"
   ]
  },
  {
   "cell_type": "code",
   "execution_count": 75,
   "metadata": {
    "collapsed": false
   },
   "outputs": [
    {
     "name": "stdout",
     "output_type": "stream",
     "text": [
      "Percent of nans before drop:  0.0 %\n",
      "Total nans:\n",
      "date                   0\n",
      "store_number           0\n",
      "city                   0\n",
      "zip_code               0\n",
      "county                 0\n",
      "category_name          0\n",
      "vendor_number          0\n",
      "item_description       0\n",
      "bottle_volume          0\n",
      "state_bottle_cost      0\n",
      "state_bottle_retail    0\n",
      "bottles_sold           0\n",
      "sales                  0\n",
      "volume_sold            0\n",
      "dtype: int64\n",
      "Percent of nans after drop:  0.0 %\n"
     ]
    }
   ],
   "source": [
    "#Assuming that none of the nans in the columns overlap, the percentage of nans in the iowa dataframe\n",
    "total_na = sum(iowa.isnull().sum())\n",
    "ratio_na = float(total_na)/(len(iowa.index.values))\n",
    "print 'Percent of nans before drop: ', str(round(ratio_na*100,2)), '%' \n",
    "\n",
    "#Drop all nans since percentage of nans is small enough to be negligible\n",
    "iowa.dropna(inplace=True)\n",
    "print 'Total nans:'\n",
    "print iowa.isnull().sum()\n",
    "print 'Percent of nans after drop: ', str(round((float(sum(iowa.isnull().sum())*100)),2)), '%'"
   ]
  },
  {
   "cell_type": "code",
   "execution_count": 13,
   "metadata": {
    "collapsed": false
   },
   "outputs": [],
   "source": [
    "iowa_df = pd.pivot_table(iowa, index=['county','store_number', 'item_description'], \\\n",
    "                         columns=None, values=['sales', 'volume_sold','bottles_sold'], aggfunc=np.sum)"
   ]
  },
  {
   "cell_type": "code",
   "execution_count": 14,
   "metadata": {
    "collapsed": false
   },
   "outputs": [
    {
     "data": {
      "text/html": [
       "<div>\n",
       "<table border=\"1\" class=\"dataframe\">\n",
       "  <thead>\n",
       "    <tr style=\"text-align: right;\">\n",
       "      <th></th>\n",
       "      <th></th>\n",
       "      <th></th>\n",
       "      <th>bottles_sold</th>\n",
       "      <th>sales</th>\n",
       "      <th>volume_sold</th>\n",
       "    </tr>\n",
       "    <tr>\n",
       "      <th>county</th>\n",
       "      <th>store_number</th>\n",
       "      <th>item_description</th>\n",
       "      <th></th>\n",
       "      <th></th>\n",
       "      <th></th>\n",
       "    </tr>\n",
       "  </thead>\n",
       "  <tbody>\n",
       "    <tr>\n",
       "      <th rowspan=\"30\" valign=\"top\">Adair</th>\n",
       "      <th rowspan=\"30\" valign=\"top\">3461</th>\n",
       "      <th>1800 Reposado Tequila</th>\n",
       "      <td>3</td>\n",
       "      <td>69.57</td>\n",
       "      <td>2.25</td>\n",
       "    </tr>\n",
       "    <tr>\n",
       "      <th>Absolut Citron (lemon Vodka)</th>\n",
       "      <td>7</td>\n",
       "      <td>105.68</td>\n",
       "      <td>5.25</td>\n",
       "    </tr>\n",
       "    <tr>\n",
       "      <th>Absolut Raspberri</th>\n",
       "      <td>3</td>\n",
       "      <td>51.72</td>\n",
       "      <td>2.25</td>\n",
       "    </tr>\n",
       "    <tr>\n",
       "      <th>Absolut Swedish Vodka 80 Prf</th>\n",
       "      <td>24</td>\n",
       "      <td>413.76</td>\n",
       "      <td>18.00</td>\n",
       "    </tr>\n",
       "    <tr>\n",
       "      <th>Admiral Nelson Spiced Rum</th>\n",
       "      <td>17</td>\n",
       "      <td>101.79</td>\n",
       "      <td>9.01</td>\n",
       "    </tr>\n",
       "    <tr>\n",
       "      <th>Ancient Age Bourbon</th>\n",
       "      <td>6</td>\n",
       "      <td>55.44</td>\n",
       "      <td>4.50</td>\n",
       "    </tr>\n",
       "    <tr>\n",
       "      <th>Bacardi Superior Rum</th>\n",
       "      <td>8</td>\n",
       "      <td>82.20</td>\n",
       "      <td>4.87</td>\n",
       "    </tr>\n",
       "    <tr>\n",
       "      <th>Barton Vodka</th>\n",
       "      <td>24</td>\n",
       "      <td>249.12</td>\n",
       "      <td>42.00</td>\n",
       "    </tr>\n",
       "    <tr>\n",
       "      <th>Beefeater Gin</th>\n",
       "      <td>2</td>\n",
       "      <td>32.98</td>\n",
       "      <td>1.50</td>\n",
       "    </tr>\n",
       "    <tr>\n",
       "      <th>Black Velvet</th>\n",
       "      <td>131</td>\n",
       "      <td>1383.31</td>\n",
       "      <td>149.25</td>\n",
       "    </tr>\n",
       "    <tr>\n",
       "      <th>Black Velvet Cinnamon Rush</th>\n",
       "      <td>3</td>\n",
       "      <td>30.39</td>\n",
       "      <td>2.25</td>\n",
       "    </tr>\n",
       "    <tr>\n",
       "      <th>Black Velvet Toasted Caramel</th>\n",
       "      <td>3</td>\n",
       "      <td>30.39</td>\n",
       "      <td>2.25</td>\n",
       "    </tr>\n",
       "    <tr>\n",
       "      <th>Canadian Ltd Whisky</th>\n",
       "      <td>36</td>\n",
       "      <td>486.36</td>\n",
       "      <td>63.00</td>\n",
       "    </tr>\n",
       "    <tr>\n",
       "      <th>Canadian Reserve Whisky</th>\n",
       "      <td>21</td>\n",
       "      <td>200.55</td>\n",
       "      <td>25.50</td>\n",
       "    </tr>\n",
       "    <tr>\n",
       "      <th>Captain Morgan Original Spiced</th>\n",
       "      <td>3</td>\n",
       "      <td>40.50</td>\n",
       "      <td>2.25</td>\n",
       "    </tr>\n",
       "    <tr>\n",
       "      <th>Captain Morgan Spiced Rum</th>\n",
       "      <td>29</td>\n",
       "      <td>685.50</td>\n",
       "      <td>43.88</td>\n",
       "    </tr>\n",
       "    <tr>\n",
       "      <th>Chi-Chi's Margarita W/tequila</th>\n",
       "      <td>8</td>\n",
       "      <td>78.00</td>\n",
       "      <td>14.00</td>\n",
       "    </tr>\n",
       "    <tr>\n",
       "      <th>Christian Bros Brandy</th>\n",
       "      <td>8</td>\n",
       "      <td>50.89</td>\n",
       "      <td>4.12</td>\n",
       "    </tr>\n",
       "    <tr>\n",
       "      <th>Crown Royal</th>\n",
       "      <td>12</td>\n",
       "      <td>270.00</td>\n",
       "      <td>9.00</td>\n",
       "    </tr>\n",
       "    <tr>\n",
       "      <th>Crown Royal Canadian Whisky</th>\n",
       "      <td>3</td>\n",
       "      <td>34.89</td>\n",
       "      <td>1.12</td>\n",
       "    </tr>\n",
       "    <tr>\n",
       "      <th>Crown Royal Regal Apple</th>\n",
       "      <td>6</td>\n",
       "      <td>135.00</td>\n",
       "      <td>4.50</td>\n",
       "    </tr>\n",
       "    <tr>\n",
       "      <th>Crystal Head Vodka</th>\n",
       "      <td>3</td>\n",
       "      <td>104.94</td>\n",
       "      <td>2.25</td>\n",
       "    </tr>\n",
       "    <tr>\n",
       "      <th>Dekuyper Buttershots Schnapps</th>\n",
       "      <td>3</td>\n",
       "      <td>28.35</td>\n",
       "      <td>2.25</td>\n",
       "    </tr>\n",
       "    <tr>\n",
       "      <th>Dekuyper Hot Damn!</th>\n",
       "      <td>3</td>\n",
       "      <td>28.35</td>\n",
       "      <td>2.25</td>\n",
       "    </tr>\n",
       "    <tr>\n",
       "      <th>Dekuyper Luscious Peachtree Schnapps</th>\n",
       "      <td>8</td>\n",
       "      <td>75.60</td>\n",
       "      <td>6.00</td>\n",
       "    </tr>\n",
       "    <tr>\n",
       "      <th>Dekuyper Peachtree Schnapps</th>\n",
       "      <td>6</td>\n",
       "      <td>27.66</td>\n",
       "      <td>2.25</td>\n",
       "    </tr>\n",
       "    <tr>\n",
       "      <th>Dekuyper Peachtree Schnapps Pet</th>\n",
       "      <td>2</td>\n",
       "      <td>34.62</td>\n",
       "      <td>3.50</td>\n",
       "    </tr>\n",
       "    <tr>\n",
       "      <th>Don Julio Reposado</th>\n",
       "      <td>2</td>\n",
       "      <td>88.48</td>\n",
       "      <td>1.50</td>\n",
       "    </tr>\n",
       "    <tr>\n",
       "      <th>El Jimador Reposado Tequila</th>\n",
       "      <td>2</td>\n",
       "      <td>34.96</td>\n",
       "      <td>1.50</td>\n",
       "    </tr>\n",
       "    <tr>\n",
       "      <th>Evan Williams Str Bourbon</th>\n",
       "      <td>3</td>\n",
       "      <td>33.63</td>\n",
       "      <td>2.25</td>\n",
       "    </tr>\n",
       "    <tr>\n",
       "      <th>...</th>\n",
       "      <th>...</th>\n",
       "      <th>...</th>\n",
       "      <td>...</td>\n",
       "      <td>...</td>\n",
       "      <td>...</td>\n",
       "    </tr>\n",
       "    <tr>\n",
       "      <th rowspan=\"30\" valign=\"top\">Wright</th>\n",
       "      <th rowspan=\"6\" valign=\"top\">4515</th>\n",
       "      <th>Five O'clock Vodka</th>\n",
       "      <td>36</td>\n",
       "      <td>319.92</td>\n",
       "      <td>51.00</td>\n",
       "    </tr>\n",
       "    <tr>\n",
       "      <th>Jim Beam</th>\n",
       "      <td>24</td>\n",
       "      <td>377.76</td>\n",
       "      <td>18.00</td>\n",
       "    </tr>\n",
       "    <tr>\n",
       "      <th>Jose Cuervo Authentic Lime Margarita</th>\n",
       "      <td>6</td>\n",
       "      <td>41.58</td>\n",
       "      <td>4.80</td>\n",
       "    </tr>\n",
       "    <tr>\n",
       "      <th>Jose Cuervo Especial Reposado Flask</th>\n",
       "      <td>24</td>\n",
       "      <td>198.00</td>\n",
       "      <td>9.00</td>\n",
       "    </tr>\n",
       "    <tr>\n",
       "      <th>Jose Cuervo Especial Reposado Tequila</th>\n",
       "      <td>24</td>\n",
       "      <td>377.76</td>\n",
       "      <td>18.00</td>\n",
       "    </tr>\n",
       "    <tr>\n",
       "      <th>Mccormick Vodka Pet</th>\n",
       "      <td>24</td>\n",
       "      <td>64.80</td>\n",
       "      <td>9.00</td>\n",
       "    </tr>\n",
       "    <tr>\n",
       "      <th rowspan=\"11\" valign=\"top\">4556</th>\n",
       "      <th>Admiral Nelson Spiced Rum</th>\n",
       "      <td>24</td>\n",
       "      <td>208.08</td>\n",
       "      <td>18.00</td>\n",
       "    </tr>\n",
       "    <tr>\n",
       "      <th>Black Velvet</th>\n",
       "      <td>36</td>\n",
       "      <td>367.56</td>\n",
       "      <td>39.00</td>\n",
       "    </tr>\n",
       "    <tr>\n",
       "      <th>Black Velvet Toasted Caramel</th>\n",
       "      <td>12</td>\n",
       "      <td>121.56</td>\n",
       "      <td>9.00</td>\n",
       "    </tr>\n",
       "    <tr>\n",
       "      <th>Captain Morgan Original Spiced</th>\n",
       "      <td>24</td>\n",
       "      <td>324.00</td>\n",
       "      <td>18.00</td>\n",
       "    </tr>\n",
       "    <tr>\n",
       "      <th>Evan Williams Str Bourbon</th>\n",
       "      <td>12</td>\n",
       "      <td>126.60</td>\n",
       "      <td>9.00</td>\n",
       "    </tr>\n",
       "    <tr>\n",
       "      <th>Five O'clock PET Vodka</th>\n",
       "      <td>36</td>\n",
       "      <td>182.16</td>\n",
       "      <td>27.00</td>\n",
       "    </tr>\n",
       "    <tr>\n",
       "      <th>Five O'clock Vodka</th>\n",
       "      <td>48</td>\n",
       "      <td>518.40</td>\n",
       "      <td>84.00</td>\n",
       "    </tr>\n",
       "    <tr>\n",
       "      <th>Jim Beam</th>\n",
       "      <td>24</td>\n",
       "      <td>179.28</td>\n",
       "      <td>9.00</td>\n",
       "    </tr>\n",
       "    <tr>\n",
       "      <th>Mccormick Vodka</th>\n",
       "      <td>48</td>\n",
       "      <td>81.60</td>\n",
       "      <td>9.60</td>\n",
       "    </tr>\n",
       "    <tr>\n",
       "      <th>Mccormick Vodka Pet</th>\n",
       "      <td>24</td>\n",
       "      <td>64.80</td>\n",
       "      <td>9.00</td>\n",
       "    </tr>\n",
       "    <tr>\n",
       "      <th>Seagrams 7 Crown Bl Whiskey</th>\n",
       "      <td>24</td>\n",
       "      <td>126.00</td>\n",
       "      <td>9.00</td>\n",
       "    </tr>\n",
       "    <tr>\n",
       "      <th rowspan=\"13\" valign=\"top\">4591</th>\n",
       "      <th>Black Velvet</th>\n",
       "      <td>12</td>\n",
       "      <td>179.16</td>\n",
       "      <td>21.00</td>\n",
       "    </tr>\n",
       "    <tr>\n",
       "      <th>Canadian Ltd Whisky</th>\n",
       "      <td>12</td>\n",
       "      <td>150.12</td>\n",
       "      <td>21.00</td>\n",
       "    </tr>\n",
       "    <tr>\n",
       "      <th>Captain Morgan Original Spiced Rum Pet</th>\n",
       "      <td>12</td>\n",
       "      <td>162.00</td>\n",
       "      <td>9.00</td>\n",
       "    </tr>\n",
       "    <tr>\n",
       "      <th>Captain Morgan Spiced Barrel</th>\n",
       "      <td>12</td>\n",
       "      <td>324.00</td>\n",
       "      <td>21.00</td>\n",
       "    </tr>\n",
       "    <tr>\n",
       "      <th>Dekuyper Blustery Peppermint Burst Schnapps</th>\n",
       "      <td>12</td>\n",
       "      <td>61.92</td>\n",
       "      <td>9.00</td>\n",
       "    </tr>\n",
       "    <tr>\n",
       "      <th>Five O'clock Vodka</th>\n",
       "      <td>12</td>\n",
       "      <td>60.72</td>\n",
       "      <td>9.00</td>\n",
       "    </tr>\n",
       "    <tr>\n",
       "      <th>Goldschlager Cinnamon Schnapps</th>\n",
       "      <td>12</td>\n",
       "      <td>234.00</td>\n",
       "      <td>9.00</td>\n",
       "    </tr>\n",
       "    <tr>\n",
       "      <th>Jack Daniels Old #7 Black Lbl</th>\n",
       "      <td>12</td>\n",
       "      <td>271.32</td>\n",
       "      <td>9.00</td>\n",
       "    </tr>\n",
       "    <tr>\n",
       "      <th>Jim Beam</th>\n",
       "      <td>6</td>\n",
       "      <td>94.44</td>\n",
       "      <td>4.50</td>\n",
       "    </tr>\n",
       "    <tr>\n",
       "      <th>Mccormick Vodka</th>\n",
       "      <td>72</td>\n",
       "      <td>122.40</td>\n",
       "      <td>14.40</td>\n",
       "    </tr>\n",
       "    <tr>\n",
       "      <th>Seagrams 7 Crown Bl Whiskey</th>\n",
       "      <td>12</td>\n",
       "      <td>126.00</td>\n",
       "      <td>9.00</td>\n",
       "    </tr>\n",
       "    <tr>\n",
       "      <th>Southern Comfort</th>\n",
       "      <td>12</td>\n",
       "      <td>177.36</td>\n",
       "      <td>9.00</td>\n",
       "    </tr>\n",
       "    <tr>\n",
       "      <th>Southern Comfort Mini</th>\n",
       "      <td>12</td>\n",
       "      <td>84.84</td>\n",
       "      <td>6.00</td>\n",
       "    </tr>\n",
       "  </tbody>\n",
       "</table>\n",
       "<p>126268 rows × 3 columns</p>\n",
       "</div>"
      ],
      "text/plain": [
       "                                                                 bottles_sold  \\\n",
       "county store_number item_description                                            \n",
       "Adair  3461         1800 Reposado Tequila                                   3   \n",
       "                    Absolut Citron (lemon Vodka)                            7   \n",
       "                    Absolut Raspberri                                       3   \n",
       "                    Absolut Swedish Vodka 80 Prf                           24   \n",
       "                    Admiral Nelson Spiced Rum                              17   \n",
       "                    Ancient Age Bourbon                                     6   \n",
       "                    Bacardi Superior Rum                                    8   \n",
       "                    Barton Vodka                                           24   \n",
       "                    Beefeater Gin                                           2   \n",
       "                    Black Velvet                                          131   \n",
       "                    Black Velvet Cinnamon Rush                              3   \n",
       "                    Black Velvet Toasted Caramel                            3   \n",
       "                    Canadian Ltd Whisky                                    36   \n",
       "                    Canadian Reserve Whisky                                21   \n",
       "                    Captain Morgan Original Spiced                          3   \n",
       "                    Captain Morgan Spiced Rum                              29   \n",
       "                    Chi-Chi's Margarita W/tequila                           8   \n",
       "                    Christian Bros Brandy                                   8   \n",
       "                    Crown Royal                                            12   \n",
       "                    Crown Royal Canadian Whisky                             3   \n",
       "                    Crown Royal Regal Apple                                 6   \n",
       "                    Crystal Head Vodka                                      3   \n",
       "                    Dekuyper Buttershots Schnapps                           3   \n",
       "                    Dekuyper Hot Damn!                                      3   \n",
       "                    Dekuyper Luscious Peachtree Schnapps                    8   \n",
       "                    Dekuyper Peachtree Schnapps                             6   \n",
       "                    Dekuyper Peachtree Schnapps Pet                         2   \n",
       "                    Don Julio Reposado                                      2   \n",
       "                    El Jimador Reposado Tequila                             2   \n",
       "                    Evan Williams Str Bourbon                               3   \n",
       "...                                                                       ...   \n",
       "Wright 4515         Five O'clock Vodka                                     36   \n",
       "                    Jim Beam                                               24   \n",
       "                    Jose Cuervo Authentic Lime Margarita                    6   \n",
       "                    Jose Cuervo Especial Reposado Flask                    24   \n",
       "                    Jose Cuervo Especial Reposado Tequila                  24   \n",
       "                    Mccormick Vodka Pet                                    24   \n",
       "       4556         Admiral Nelson Spiced Rum                              24   \n",
       "                    Black Velvet                                           36   \n",
       "                    Black Velvet Toasted Caramel                           12   \n",
       "                    Captain Morgan Original Spiced                         24   \n",
       "                    Evan Williams Str Bourbon                              12   \n",
       "                    Five O'clock PET Vodka                                 36   \n",
       "                    Five O'clock Vodka                                     48   \n",
       "                    Jim Beam                                               24   \n",
       "                    Mccormick Vodka                                        48   \n",
       "                    Mccormick Vodka Pet                                    24   \n",
       "                    Seagrams 7 Crown Bl Whiskey                            24   \n",
       "       4591         Black Velvet                                           12   \n",
       "                    Canadian Ltd Whisky                                    12   \n",
       "                    Captain Morgan Original Spiced Rum Pet                 12   \n",
       "                    Captain Morgan Spiced Barrel                           12   \n",
       "                    Dekuyper Blustery Peppermint Burst Schnapps            12   \n",
       "                    Five O'clock Vodka                                     12   \n",
       "                    Goldschlager Cinnamon Schnapps                         12   \n",
       "                    Jack Daniels Old #7 Black Lbl                          12   \n",
       "                    Jim Beam                                                6   \n",
       "                    Mccormick Vodka                                        72   \n",
       "                    Seagrams 7 Crown Bl Whiskey                            12   \n",
       "                    Southern Comfort                                       12   \n",
       "                    Southern Comfort Mini                                  12   \n",
       "\n",
       "                                                                   sales  \\\n",
       "county store_number item_description                                       \n",
       "Adair  3461         1800 Reposado Tequila                          69.57   \n",
       "                    Absolut Citron (lemon Vodka)                  105.68   \n",
       "                    Absolut Raspberri                              51.72   \n",
       "                    Absolut Swedish Vodka 80 Prf                  413.76   \n",
       "                    Admiral Nelson Spiced Rum                     101.79   \n",
       "                    Ancient Age Bourbon                            55.44   \n",
       "                    Bacardi Superior Rum                           82.20   \n",
       "                    Barton Vodka                                  249.12   \n",
       "                    Beefeater Gin                                  32.98   \n",
       "                    Black Velvet                                 1383.31   \n",
       "                    Black Velvet Cinnamon Rush                     30.39   \n",
       "                    Black Velvet Toasted Caramel                   30.39   \n",
       "                    Canadian Ltd Whisky                           486.36   \n",
       "                    Canadian Reserve Whisky                       200.55   \n",
       "                    Captain Morgan Original Spiced                 40.50   \n",
       "                    Captain Morgan Spiced Rum                     685.50   \n",
       "                    Chi-Chi's Margarita W/tequila                  78.00   \n",
       "                    Christian Bros Brandy                          50.89   \n",
       "                    Crown Royal                                   270.00   \n",
       "                    Crown Royal Canadian Whisky                    34.89   \n",
       "                    Crown Royal Regal Apple                       135.00   \n",
       "                    Crystal Head Vodka                            104.94   \n",
       "                    Dekuyper Buttershots Schnapps                  28.35   \n",
       "                    Dekuyper Hot Damn!                             28.35   \n",
       "                    Dekuyper Luscious Peachtree Schnapps           75.60   \n",
       "                    Dekuyper Peachtree Schnapps                    27.66   \n",
       "                    Dekuyper Peachtree Schnapps Pet                34.62   \n",
       "                    Don Julio Reposado                             88.48   \n",
       "                    El Jimador Reposado Tequila                    34.96   \n",
       "                    Evan Williams Str Bourbon                      33.63   \n",
       "...                                                                  ...   \n",
       "Wright 4515         Five O'clock Vodka                            319.92   \n",
       "                    Jim Beam                                      377.76   \n",
       "                    Jose Cuervo Authentic Lime Margarita           41.58   \n",
       "                    Jose Cuervo Especial Reposado Flask           198.00   \n",
       "                    Jose Cuervo Especial Reposado Tequila         377.76   \n",
       "                    Mccormick Vodka Pet                            64.80   \n",
       "       4556         Admiral Nelson Spiced Rum                     208.08   \n",
       "                    Black Velvet                                  367.56   \n",
       "                    Black Velvet Toasted Caramel                  121.56   \n",
       "                    Captain Morgan Original Spiced                324.00   \n",
       "                    Evan Williams Str Bourbon                     126.60   \n",
       "                    Five O'clock PET Vodka                        182.16   \n",
       "                    Five O'clock Vodka                            518.40   \n",
       "                    Jim Beam                                      179.28   \n",
       "                    Mccormick Vodka                                81.60   \n",
       "                    Mccormick Vodka Pet                            64.80   \n",
       "                    Seagrams 7 Crown Bl Whiskey                   126.00   \n",
       "       4591         Black Velvet                                  179.16   \n",
       "                    Canadian Ltd Whisky                           150.12   \n",
       "                    Captain Morgan Original Spiced Rum Pet        162.00   \n",
       "                    Captain Morgan Spiced Barrel                  324.00   \n",
       "                    Dekuyper Blustery Peppermint Burst Schnapps    61.92   \n",
       "                    Five O'clock Vodka                             60.72   \n",
       "                    Goldschlager Cinnamon Schnapps                234.00   \n",
       "                    Jack Daniels Old #7 Black Lbl                 271.32   \n",
       "                    Jim Beam                                       94.44   \n",
       "                    Mccormick Vodka                               122.40   \n",
       "                    Seagrams 7 Crown Bl Whiskey                   126.00   \n",
       "                    Southern Comfort                              177.36   \n",
       "                    Southern Comfort Mini                          84.84   \n",
       "\n",
       "                                                                 volume_sold  \n",
       "county store_number item_description                                          \n",
       "Adair  3461         1800 Reposado Tequila                               2.25  \n",
       "                    Absolut Citron (lemon Vodka)                        5.25  \n",
       "                    Absolut Raspberri                                   2.25  \n",
       "                    Absolut Swedish Vodka 80 Prf                       18.00  \n",
       "                    Admiral Nelson Spiced Rum                           9.01  \n",
       "                    Ancient Age Bourbon                                 4.50  \n",
       "                    Bacardi Superior Rum                                4.87  \n",
       "                    Barton Vodka                                       42.00  \n",
       "                    Beefeater Gin                                       1.50  \n",
       "                    Black Velvet                                      149.25  \n",
       "                    Black Velvet Cinnamon Rush                          2.25  \n",
       "                    Black Velvet Toasted Caramel                        2.25  \n",
       "                    Canadian Ltd Whisky                                63.00  \n",
       "                    Canadian Reserve Whisky                            25.50  \n",
       "                    Captain Morgan Original Spiced                      2.25  \n",
       "                    Captain Morgan Spiced Rum                          43.88  \n",
       "                    Chi-Chi's Margarita W/tequila                      14.00  \n",
       "                    Christian Bros Brandy                               4.12  \n",
       "                    Crown Royal                                         9.00  \n",
       "                    Crown Royal Canadian Whisky                         1.12  \n",
       "                    Crown Royal Regal Apple                             4.50  \n",
       "                    Crystal Head Vodka                                  2.25  \n",
       "                    Dekuyper Buttershots Schnapps                       2.25  \n",
       "                    Dekuyper Hot Damn!                                  2.25  \n",
       "                    Dekuyper Luscious Peachtree Schnapps                6.00  \n",
       "                    Dekuyper Peachtree Schnapps                         2.25  \n",
       "                    Dekuyper Peachtree Schnapps Pet                     3.50  \n",
       "                    Don Julio Reposado                                  1.50  \n",
       "                    El Jimador Reposado Tequila                         1.50  \n",
       "                    Evan Williams Str Bourbon                           2.25  \n",
       "...                                                                      ...  \n",
       "Wright 4515         Five O'clock Vodka                                 51.00  \n",
       "                    Jim Beam                                           18.00  \n",
       "                    Jose Cuervo Authentic Lime Margarita                4.80  \n",
       "                    Jose Cuervo Especial Reposado Flask                 9.00  \n",
       "                    Jose Cuervo Especial Reposado Tequila              18.00  \n",
       "                    Mccormick Vodka Pet                                 9.00  \n",
       "       4556         Admiral Nelson Spiced Rum                          18.00  \n",
       "                    Black Velvet                                       39.00  \n",
       "                    Black Velvet Toasted Caramel                        9.00  \n",
       "                    Captain Morgan Original Spiced                     18.00  \n",
       "                    Evan Williams Str Bourbon                           9.00  \n",
       "                    Five O'clock PET Vodka                             27.00  \n",
       "                    Five O'clock Vodka                                 84.00  \n",
       "                    Jim Beam                                            9.00  \n",
       "                    Mccormick Vodka                                     9.60  \n",
       "                    Mccormick Vodka Pet                                 9.00  \n",
       "                    Seagrams 7 Crown Bl Whiskey                         9.00  \n",
       "       4591         Black Velvet                                       21.00  \n",
       "                    Canadian Ltd Whisky                                21.00  \n",
       "                    Captain Morgan Original Spiced Rum Pet              9.00  \n",
       "                    Captain Morgan Spiced Barrel                       21.00  \n",
       "                    Dekuyper Blustery Peppermint Burst Schnapps         9.00  \n",
       "                    Five O'clock Vodka                                  9.00  \n",
       "                    Goldschlager Cinnamon Schnapps                      9.00  \n",
       "                    Jack Daniels Old #7 Black Lbl                       9.00  \n",
       "                    Jim Beam                                            4.50  \n",
       "                    Mccormick Vodka                                    14.40  \n",
       "                    Seagrams 7 Crown Bl Whiskey                         9.00  \n",
       "                    Southern Comfort                                    9.00  \n",
       "                    Southern Comfort Mini                               6.00  \n",
       "\n",
       "[126268 rows x 3 columns]"
      ]
     },
     "execution_count": 14,
     "metadata": {},
     "output_type": "execute_result"
    }
   ],
   "source": [
    "iowa_df"
   ]
  },
  {
   "cell_type": "code",
   "execution_count": 15,
   "metadata": {
    "collapsed": false,
    "scrolled": true
   },
   "outputs": [
    {
     "data": {
      "text/plain": [
       "<matplotlib.axes._subplots.AxesSubplot at 0x103dc2b90>"
      ]
     },
     "execution_count": 15,
     "metadata": {},
     "output_type": "execute_result"
    },
    {
     "data": {
      "image/png": "[encoded data removed]",
      "text/plain": [
       "<matplotlib.figure.Figure at 0x11df33750>"
      ]
     },
     "metadata": {},
     "output_type": "display_data"
    }
   ],
   "source": [
    "sns.heatmap(iowa.corr())"
   ]
  },
  {
   "cell_type": "code",
   "execution_count": 16,
   "metadata": {
    "collapsed": true
   },
   "outputs": [],
   "source": [
    "iowa_target = pd.DataFrame(iowa['sales'])"
   ]
  },
  {
   "cell_type": "code",
   "execution_count": 18,
   "metadata": {
    "collapsed": false
   },
   "outputs": [],
   "source": [
    "iowa_cols = []\n",
    "for x in iowa:\n",
    "    if iowa[x].dtype == float:\n",
    "        iowa_cols.append(x)\n",
    "    elif iowa[x].dtype == int:\n",
    "        iowa_cols.append(x)\n",
    "    else:\n",
    "        pass"
   ]
  },
  {
   "cell_type": "code",
   "execution_count": 19,
   "metadata": {
    "collapsed": false
   },
   "outputs": [
    {
     "data": {
      "text/plain": [
       "['store_number',\n",
       " 'zip_code',\n",
       " 'county_number',\n",
       " 'category',\n",
       " 'vendor_number',\n",
       " 'item_number',\n",
       " 'bottle_volume',\n",
       " 'state_bottle_cost',\n",
       " 'state_bottle_retail',\n",
       " 'bottles_sold',\n",
       " 'sales',\n",
       " 'volume_sold',\n",
       " 'volume_sold_gallons']"
      ]
     },
     "execution_count": 19,
     "metadata": {},
     "output_type": "execute_result"
    }
   ],
   "source": [
    "iowa_cols"
   ]
  },
  {
   "cell_type": "code",
   "execution_count": 20,
   "metadata": {
    "collapsed": false
   },
   "outputs": [],
   "source": [
    "iowa_df = iowa[iowa_cols]"
   ]
  },
  {
   "cell_type": "code",
   "execution_count": 21,
   "metadata": {
    "collapsed": false
   },
   "outputs": [
    {
     "name": "stderr",
     "output_type": "stream",
     "text": [
      "/anaconda/lib/python2.7/site-packages/ipykernel/__main__.py:1: SettingWithCopyWarning: \n",
      "A value is trying to be set on a copy of a slice from a DataFrame\n",
      "\n",
      "See the caveats in the documentation: http://pandas.pydata.org/pandas-docs/stable/indexing.html#indexing-view-versus-copy\n",
      "  if __name__ == '__main__':\n"
     ]
    }
   ],
   "source": [
    "iowa_df.drop('sales', axis=1, inplace=True)"
   ]
  },
  {
   "cell_type": "code",
   "execution_count": 22,
   "metadata": {
    "collapsed": false
   },
   "outputs": [],
   "source": [
    "X = iowa_df\n",
    "y =  iowa_target\n",
    "\n",
    "lr = linear_model.LinearRegression()\n",
    "lr_model = lr.fit(X,y)\n",
    "\n",
    "y_pred = lr_model.predict(iowa_df)\n",
    "y_pred_df =  pd.DataFrame(y_pred)"
   ]
  },
  {
   "cell_type": "code",
   "execution_count": 23,
   "metadata": {
    "collapsed": false
   },
   "outputs": [
    {
     "ename": "ValueError",
     "evalue": "Argument dimensions are incompatible",
     "output_type": "error",
     "traceback": [
      "\u001b[0;31m---------------------------------------------------------------------------\u001b[0m",
      "\u001b[0;31mValueError\u001b[0m                                Traceback (most recent call last)",
      "\u001b[0;32m<ipython-input-23-88a8d870f52c>\u001b[0m in \u001b[0;36m<module>\u001b[0;34m()\u001b[0m\n\u001b[0;32m----> 1\u001b[0;31m \u001b[0max\u001b[0m \u001b[0;34m=\u001b[0m \u001b[0msns\u001b[0m\u001b[0;34m.\u001b[0m\u001b[0mregplot\u001b[0m\u001b[0;34m(\u001b[0m\u001b[0my_pred\u001b[0m\u001b[0;34m,\u001b[0m \u001b[0my\u001b[0m\u001b[0;34m)\u001b[0m\u001b[0;34m\u001b[0m\u001b[0m\n\u001b[0m\u001b[1;32m      2\u001b[0m \u001b[0max\u001b[0m\u001b[0;34m.\u001b[0m\u001b[0mfigure\u001b[0m\u001b[0;34m.\u001b[0m\u001b[0mset_figheight\u001b[0m\u001b[0;34m(\u001b[0m\u001b[0;36m6\u001b[0m\u001b[0;34m)\u001b[0m\u001b[0;34m\u001b[0m\u001b[0m\n\u001b[1;32m      3\u001b[0m \u001b[0max\u001b[0m\u001b[0;34m.\u001b[0m\u001b[0mfigure\u001b[0m\u001b[0;34m.\u001b[0m\u001b[0mset_figwidth\u001b[0m\u001b[0;34m(\u001b[0m\u001b[0;36m14\u001b[0m\u001b[0;34m)\u001b[0m\u001b[0;34m\u001b[0m\u001b[0m\n\u001b[1;32m      4\u001b[0m \u001b[0;34m\u001b[0m\u001b[0m\n\u001b[1;32m      5\u001b[0m \u001b[0max\u001b[0m\u001b[0;34m.\u001b[0m\u001b[0mset_ylabel\u001b[0m\u001b[0;34m(\u001b[0m\u001b[0;34m'Actual Values'\u001b[0m\u001b[0;34m)\u001b[0m\u001b[0;34m\u001b[0m\u001b[0m\n",
      "\u001b[0;32m//anaconda/lib/python2.7/site-packages/seaborn/linearmodels.pyc\u001b[0m in \u001b[0;36mregplot\u001b[0;34m(x, y, data, x_estimator, x_bins, x_ci, scatter, fit_reg, ci, n_boot, units, order, logistic, lowess, robust, logx, x_partial, y_partial, truncate, dropna, x_jitter, y_jitter, label, color, marker, scatter_kws, line_kws, ax)\u001b[0m\n\u001b[1;32m    772\u001b[0m     \u001b[0mscatter_kws\u001b[0m\u001b[0;34m[\u001b[0m\u001b[0;34m\"marker\"\u001b[0m\u001b[0;34m]\u001b[0m \u001b[0;34m=\u001b[0m \u001b[0mmarker\u001b[0m\u001b[0;34m\u001b[0m\u001b[0m\n\u001b[1;32m    773\u001b[0m     \u001b[0mline_kws\u001b[0m \u001b[0;34m=\u001b[0m \u001b[0;34m{\u001b[0m\u001b[0;34m}\u001b[0m \u001b[0;32mif\u001b[0m \u001b[0mline_kws\u001b[0m \u001b[0;32mis\u001b[0m \u001b[0mNone\u001b[0m \u001b[0;32melse\u001b[0m \u001b[0mcopy\u001b[0m\u001b[0;34m.\u001b[0m\u001b[0mcopy\u001b[0m\u001b[0;34m(\u001b[0m\u001b[0mline_kws\u001b[0m\u001b[0;34m)\u001b[0m\u001b[0;34m\u001b[0m\u001b[0m\n\u001b[0;32m--> 774\u001b[0;31m     \u001b[0mplotter\u001b[0m\u001b[0;34m.\u001b[0m\u001b[0mplot\u001b[0m\u001b[0;34m(\u001b[0m\u001b[0max\u001b[0m\u001b[0;34m,\u001b[0m \u001b[0mscatter_kws\u001b[0m\u001b[0;34m,\u001b[0m \u001b[0mline_kws\u001b[0m\u001b[0;34m)\u001b[0m\u001b[0;34m\u001b[0m\u001b[0m\n\u001b[0m\u001b[1;32m    775\u001b[0m     \u001b[0;32mreturn\u001b[0m \u001b[0max\u001b[0m\u001b[0;34m\u001b[0m\u001b[0m\n\u001b[1;32m    776\u001b[0m \u001b[0;34m\u001b[0m\u001b[0m\n",
      "\u001b[0;32m//anaconda/lib/python2.7/site-packages/seaborn/linearmodels.pyc\u001b[0m in \u001b[0;36mplot\u001b[0;34m(self, ax, scatter_kws, line_kws)\u001b[0m\n\u001b[1;32m    325\u001b[0m             \u001b[0mself\u001b[0m\u001b[0;34m.\u001b[0m\u001b[0mscatterplot\u001b[0m\u001b[0;34m(\u001b[0m\u001b[0max\u001b[0m\u001b[0;34m,\u001b[0m \u001b[0mscatter_kws\u001b[0m\u001b[0;34m)\u001b[0m\u001b[0;34m\u001b[0m\u001b[0m\n\u001b[1;32m    326\u001b[0m         \u001b[0;32mif\u001b[0m \u001b[0mself\u001b[0m\u001b[0;34m.\u001b[0m\u001b[0mfit_reg\u001b[0m\u001b[0;34m:\u001b[0m\u001b[0;34m\u001b[0m\u001b[0m\n\u001b[0;32m--> 327\u001b[0;31m             \u001b[0mself\u001b[0m\u001b[0;34m.\u001b[0m\u001b[0mlineplot\u001b[0m\u001b[0;34m(\u001b[0m\u001b[0max\u001b[0m\u001b[0;34m,\u001b[0m \u001b[0mline_kws\u001b[0m\u001b[0;34m)\u001b[0m\u001b[0;34m\u001b[0m\u001b[0m\n\u001b[0m\u001b[1;32m    328\u001b[0m \u001b[0;34m\u001b[0m\u001b[0m\n\u001b[1;32m    329\u001b[0m         \u001b[0;31m# Label the axes\u001b[0m\u001b[0;34m\u001b[0m\u001b[0;34m\u001b[0m\u001b[0m\n",
      "\u001b[0;32m//anaconda/lib/python2.7/site-packages/seaborn/linearmodels.pyc\u001b[0m in \u001b[0;36mlineplot\u001b[0;34m(self, ax, kws)\u001b[0m\n\u001b[1;32m    380\u001b[0m         \u001b[0max\u001b[0m\u001b[0;34m.\u001b[0m\u001b[0mplot\u001b[0m\u001b[0;34m(\u001b[0m\u001b[0mgrid\u001b[0m\u001b[0;34m,\u001b[0m \u001b[0myhat\u001b[0m\u001b[0;34m,\u001b[0m \u001b[0;34m**\u001b[0m\u001b[0mkws\u001b[0m\u001b[0;34m)\u001b[0m\u001b[0;34m\u001b[0m\u001b[0m\n\u001b[1;32m    381\u001b[0m         \u001b[0;32mif\u001b[0m \u001b[0merr_bands\u001b[0m \u001b[0;32mis\u001b[0m \u001b[0;32mnot\u001b[0m \u001b[0mNone\u001b[0m\u001b[0;34m:\u001b[0m\u001b[0;34m\u001b[0m\u001b[0m\n\u001b[0;32m--> 382\u001b[0;31m             \u001b[0max\u001b[0m\u001b[0;34m.\u001b[0m\u001b[0mfill_between\u001b[0m\u001b[0;34m(\u001b[0m\u001b[0mgrid\u001b[0m\u001b[0;34m,\u001b[0m \u001b[0;34m*\u001b[0m\u001b[0merr_bands\u001b[0m\u001b[0;34m,\u001b[0m \u001b[0mfacecolor\u001b[0m\u001b[0;34m=\u001b[0m\u001b[0mfill_color\u001b[0m\u001b[0;34m,\u001b[0m \u001b[0malpha\u001b[0m\u001b[0;34m=\u001b[0m\u001b[0;36m.15\u001b[0m\u001b[0;34m)\u001b[0m\u001b[0;34m\u001b[0m\u001b[0m\n\u001b[0m\u001b[1;32m    383\u001b[0m         \u001b[0max\u001b[0m\u001b[0;34m.\u001b[0m\u001b[0mset_xlim\u001b[0m\u001b[0;34m(\u001b[0m\u001b[0;34m*\u001b[0m\u001b[0mxlim\u001b[0m\u001b[0;34m)\u001b[0m\u001b[0;34m\u001b[0m\u001b[0m\n\u001b[1;32m    384\u001b[0m \u001b[0;34m\u001b[0m\u001b[0m\n",
      "\u001b[0;32m//anaconda/lib/python2.7/site-packages/matplotlib/__init__.pyc\u001b[0m in \u001b[0;36minner\u001b[0;34m(ax, *args, **kwargs)\u001b[0m\n\u001b[1;32m   1810\u001b[0m                     warnings.warn(msg % (label_namer, func.__name__),\n\u001b[1;32m   1811\u001b[0m                                   RuntimeWarning, stacklevel=2)\n\u001b[0;32m-> 1812\u001b[0;31m             \u001b[0;32mreturn\u001b[0m \u001b[0mfunc\u001b[0m\u001b[0;34m(\u001b[0m\u001b[0max\u001b[0m\u001b[0;34m,\u001b[0m \u001b[0;34m*\u001b[0m\u001b[0margs\u001b[0m\u001b[0;34m,\u001b[0m \u001b[0;34m**\u001b[0m\u001b[0mkwargs\u001b[0m\u001b[0;34m)\u001b[0m\u001b[0;34m\u001b[0m\u001b[0m\n\u001b[0m\u001b[1;32m   1813\u001b[0m         \u001b[0mpre_doc\u001b[0m \u001b[0;34m=\u001b[0m \u001b[0minner\u001b[0m\u001b[0;34m.\u001b[0m\u001b[0m__doc__\u001b[0m\u001b[0;34m\u001b[0m\u001b[0m\n\u001b[1;32m   1814\u001b[0m         \u001b[0;32mif\u001b[0m \u001b[0mpre_doc\u001b[0m \u001b[0;32mis\u001b[0m \u001b[0mNone\u001b[0m\u001b[0;34m:\u001b[0m\u001b[0;34m\u001b[0m\u001b[0m\n",
      "\u001b[0;32m//anaconda/lib/python2.7/site-packages/matplotlib/axes/_axes.pyc\u001b[0m in \u001b[0;36mfill_between\u001b[0;34m(self, x, y1, y2, where, interpolate, step, **kwargs)\u001b[0m\n\u001b[1;32m   4619\u001b[0m \u001b[0;34m\u001b[0m\u001b[0m\n\u001b[1;32m   4620\u001b[0m         \u001b[0;32mif\u001b[0m \u001b[0;32mnot\u001b[0m \u001b[0;34m(\u001b[0m\u001b[0mx\u001b[0m\u001b[0;34m.\u001b[0m\u001b[0mshape\u001b[0m \u001b[0;34m==\u001b[0m \u001b[0my1\u001b[0m\u001b[0;34m.\u001b[0m\u001b[0mshape\u001b[0m \u001b[0;34m==\u001b[0m \u001b[0my2\u001b[0m\u001b[0;34m.\u001b[0m\u001b[0mshape\u001b[0m \u001b[0;34m==\u001b[0m \u001b[0mwhere\u001b[0m\u001b[0;34m.\u001b[0m\u001b[0mshape\u001b[0m\u001b[0;34m)\u001b[0m\u001b[0;34m:\u001b[0m\u001b[0;34m\u001b[0m\u001b[0m\n\u001b[0;32m-> 4621\u001b[0;31m             \u001b[0;32mraise\u001b[0m \u001b[0mValueError\u001b[0m\u001b[0;34m(\u001b[0m\u001b[0;34m\"Argument dimensions are incompatible\"\u001b[0m\u001b[0;34m)\u001b[0m\u001b[0;34m\u001b[0m\u001b[0m\n\u001b[0m\u001b[1;32m   4622\u001b[0m \u001b[0;34m\u001b[0m\u001b[0m\n\u001b[1;32m   4623\u001b[0m         \u001b[0mmask\u001b[0m \u001b[0;34m=\u001b[0m \u001b[0mreduce\u001b[0m\u001b[0;34m(\u001b[0m\u001b[0mma\u001b[0m\u001b[0;34m.\u001b[0m\u001b[0mmask_or\u001b[0m\u001b[0;34m,\u001b[0m \u001b[0;34m[\u001b[0m\u001b[0mma\u001b[0m\u001b[0;34m.\u001b[0m\u001b[0mgetmask\u001b[0m\u001b[0;34m(\u001b[0m\u001b[0ma\u001b[0m\u001b[0;34m)\u001b[0m \u001b[0;32mfor\u001b[0m \u001b[0ma\u001b[0m \u001b[0;32min\u001b[0m \u001b[0;34m(\u001b[0m\u001b[0mx\u001b[0m\u001b[0;34m,\u001b[0m \u001b[0my1\u001b[0m\u001b[0;34m,\u001b[0m \u001b[0my2\u001b[0m\u001b[0;34m)\u001b[0m\u001b[0;34m]\u001b[0m\u001b[0;34m)\u001b[0m\u001b[0;34m\u001b[0m\u001b[0m\n",
      "\u001b[0;31mValueError\u001b[0m: Argument dimensions are incompatible"
     ]
    },
    {
     "data": {
      "image/png": "[encoded data removed]",
      "text/plain": [
       "<matplotlib.figure.Figure at 0x1150f8250>"
      ]
     },
     "metadata": {},
     "output_type": "display_data"
    }
   ],
   "source": [
    "ax = sns.regplot(y_pred, y)\n",
    "ax.figure.set_figheight(6)\n",
    "ax.figure.set_figwidth(14)\n",
    "\n",
    "ax.set_ylabel('Actual Values')\n",
    "ax.set_xlabel('Predicted Values')\n",
    "ax.set_title('Predicted vs. Actual Values');"
   ]
  },
  {
   "cell_type": "code",
   "execution_count": 153,
   "metadata": {
    "collapsed": false
   },
   "outputs": [
    {
     "data": {
      "text/plain": [
       "0.77017501939506761"
      ]
     },
     "execution_count": 153,
     "metadata": {},
     "output_type": "execute_result"
    }
   ],
   "source": [
    "lr_r2 =  r2_score(y_true=y, y_pred=y_pred)\n",
    "lr_r2"
   ]
  },
  {
   "cell_type": "code",
   "execution_count": 154,
   "metadata": {
    "collapsed": false
   },
   "outputs": [
    {
     "data": {
      "text/plain": [
       "1"
      ]
     },
     "execution_count": 154,
     "metadata": {},
     "output_type": "execute_result"
    }
   ],
   "source": [
    "len(lr_model.coef_)"
   ]
  },
  {
   "cell_type": "code",
   "execution_count": 155,
   "metadata": {
    "collapsed": false
   },
   "outputs": [
    {
     "data": {
      "text/plain": [
       "array([[ -2.17204471e-03,  -1.82825396e-04,   5.84292343e-02,\n",
       "          9.54960175e-05,  -1.90054507e-02,  -7.69417890e-05,\n",
       "         -3.90405924e-02,   4.43882807e+01,  -2.33908950e+01,\n",
       "          6.04164932e+00,   2.59660979e+02,  -9.56992665e+02]])"
      ]
     },
     "execution_count": 155,
     "metadata": {},
     "output_type": "execute_result"
    }
   ],
   "source": [
    "lr_model.coef_"
   ]
  },
  {
   "cell_type": "code",
   "execution_count": 75,
   "metadata": {
    "collapsed": false
   },
   "outputs": [],
   "source": [
    "#df.groupby ( ‘key’ ) [ ‘ what to aggregate’ ].how_to_aggregate\n",
    "\n",
    "store_sales = iowa.groupby(['store_number'])['sales'a].sum().to_frame()"
   ]
  },
  {
   "cell_type": "code",
   "execution_count": 76,
   "metadata": {
    "collapsed": false
   },
   "outputs": [
    {
     "data": {
      "text/html": [
       "<div>\n",
       "<table border=\"1\" class=\"dataframe\">\n",
       "  <thead>\n",
       "    <tr style=\"text-align: right;\">\n",
       "      <th></th>\n",
       "      <th>sales</th>\n",
       "    </tr>\n",
       "    <tr>\n",
       "      <th>store_number</th>\n",
       "      <th></th>\n",
       "    </tr>\n",
       "  </thead>\n",
       "  <tbody>\n",
       "    <tr>\n",
       "      <th>2106</th>\n",
       "      <td>176517.45</td>\n",
       "    </tr>\n",
       "    <tr>\n",
       "      <th>2113</th>\n",
       "      <td>11376.12</td>\n",
       "    </tr>\n",
       "    <tr>\n",
       "      <th>2130</th>\n",
       "      <td>139440.02</td>\n",
       "    </tr>\n",
       "    <tr>\n",
       "      <th>2152</th>\n",
       "      <td>8625.74</td>\n",
       "    </tr>\n",
       "    <tr>\n",
       "      <th>2178</th>\n",
       "      <td>29912.68</td>\n",
       "    </tr>\n",
       "    <tr>\n",
       "      <th>2190</th>\n",
       "      <td>153492.12</td>\n",
       "    </tr>\n",
       "    <tr>\n",
       "      <th>2191</th>\n",
       "      <td>172431.69</td>\n",
       "    </tr>\n",
       "    <tr>\n",
       "      <th>2200</th>\n",
       "      <td>26986.42</td>\n",
       "    </tr>\n",
       "    <tr>\n",
       "      <th>2205</th>\n",
       "      <td>24623.01</td>\n",
       "    </tr>\n",
       "    <tr>\n",
       "      <th>2228</th>\n",
       "      <td>20548.45</td>\n",
       "    </tr>\n",
       "    <tr>\n",
       "      <th>2233</th>\n",
       "      <td>36075.99</td>\n",
       "    </tr>\n",
       "    <tr>\n",
       "      <th>2238</th>\n",
       "      <td>12171.88</td>\n",
       "    </tr>\n",
       "    <tr>\n",
       "      <th>2248</th>\n",
       "      <td>81680.50</td>\n",
       "    </tr>\n",
       "    <tr>\n",
       "      <th>2285</th>\n",
       "      <td>89165.92</td>\n",
       "    </tr>\n",
       "    <tr>\n",
       "      <th>2290</th>\n",
       "      <td>68737.73</td>\n",
       "    </tr>\n",
       "    <tr>\n",
       "      <th>2327</th>\n",
       "      <td>12441.71</td>\n",
       "    </tr>\n",
       "    <tr>\n",
       "      <th>2353</th>\n",
       "      <td>55899.13</td>\n",
       "    </tr>\n",
       "    <tr>\n",
       "      <th>2367</th>\n",
       "      <td>5010.83</td>\n",
       "    </tr>\n",
       "    <tr>\n",
       "      <th>2413</th>\n",
       "      <td>112990.69</td>\n",
       "    </tr>\n",
       "    <tr>\n",
       "      <th>2445</th>\n",
       "      <td>8612.85</td>\n",
       "    </tr>\n",
       "    <tr>\n",
       "      <th>2448</th>\n",
       "      <td>24478.88</td>\n",
       "    </tr>\n",
       "    <tr>\n",
       "      <th>2459</th>\n",
       "      <td>9156.23</td>\n",
       "    </tr>\n",
       "    <tr>\n",
       "      <th>2460</th>\n",
       "      <td>33731.76</td>\n",
       "    </tr>\n",
       "    <tr>\n",
       "      <th>2465</th>\n",
       "      <td>31101.60</td>\n",
       "    </tr>\n",
       "    <tr>\n",
       "      <th>2475</th>\n",
       "      <td>15471.14</td>\n",
       "    </tr>\n",
       "    <tr>\n",
       "      <th>2478</th>\n",
       "      <td>24303.27</td>\n",
       "    </tr>\n",
       "    <tr>\n",
       "      <th>2487</th>\n",
       "      <td>28900.96</td>\n",
       "    </tr>\n",
       "    <tr>\n",
       "      <th>2498</th>\n",
       "      <td>3040.01</td>\n",
       "    </tr>\n",
       "    <tr>\n",
       "      <th>2500</th>\n",
       "      <td>182871.72</td>\n",
       "    </tr>\n",
       "    <tr>\n",
       "      <th>2501</th>\n",
       "      <td>174349.30</td>\n",
       "    </tr>\n",
       "    <tr>\n",
       "      <th>...</th>\n",
       "      <td>...</td>\n",
       "    </tr>\n",
       "    <tr>\n",
       "      <th>5185</th>\n",
       "      <td>1586.07</td>\n",
       "    </tr>\n",
       "    <tr>\n",
       "      <th>5186</th>\n",
       "      <td>639.66</td>\n",
       "    </tr>\n",
       "    <tr>\n",
       "      <th>5187</th>\n",
       "      <td>5628.71</td>\n",
       "    </tr>\n",
       "    <tr>\n",
       "      <th>5188</th>\n",
       "      <td>2614.63</td>\n",
       "    </tr>\n",
       "    <tr>\n",
       "      <th>5189</th>\n",
       "      <td>672.60</td>\n",
       "    </tr>\n",
       "    <tr>\n",
       "      <th>5190</th>\n",
       "      <td>2884.64</td>\n",
       "    </tr>\n",
       "    <tr>\n",
       "      <th>5191</th>\n",
       "      <td>468.66</td>\n",
       "    </tr>\n",
       "    <tr>\n",
       "      <th>5192</th>\n",
       "      <td>123.60</td>\n",
       "    </tr>\n",
       "    <tr>\n",
       "      <th>5193</th>\n",
       "      <td>139.50</td>\n",
       "    </tr>\n",
       "    <tr>\n",
       "      <th>5195</th>\n",
       "      <td>92.50</td>\n",
       "    </tr>\n",
       "    <tr>\n",
       "      <th>5196</th>\n",
       "      <td>975.13</td>\n",
       "    </tr>\n",
       "    <tr>\n",
       "      <th>5198</th>\n",
       "      <td>10864.17</td>\n",
       "    </tr>\n",
       "    <tr>\n",
       "      <th>5199</th>\n",
       "      <td>5296.62</td>\n",
       "    </tr>\n",
       "    <tr>\n",
       "      <th>5201</th>\n",
       "      <td>289.78</td>\n",
       "    </tr>\n",
       "    <tr>\n",
       "      <th>5202</th>\n",
       "      <td>407.61</td>\n",
       "    </tr>\n",
       "    <tr>\n",
       "      <th>5203</th>\n",
       "      <td>3916.52</td>\n",
       "    </tr>\n",
       "    <tr>\n",
       "      <th>5204</th>\n",
       "      <td>2498.23</td>\n",
       "    </tr>\n",
       "    <tr>\n",
       "      <th>5205</th>\n",
       "      <td>362.16</td>\n",
       "    </tr>\n",
       "    <tr>\n",
       "      <th>5206</th>\n",
       "      <td>2712.63</td>\n",
       "    </tr>\n",
       "    <tr>\n",
       "      <th>5207</th>\n",
       "      <td>8311.30</td>\n",
       "    </tr>\n",
       "    <tr>\n",
       "      <th>5211</th>\n",
       "      <td>1210.13</td>\n",
       "    </tr>\n",
       "    <tr>\n",
       "      <th>5212</th>\n",
       "      <td>1231.72</td>\n",
       "    </tr>\n",
       "    <tr>\n",
       "      <th>5213</th>\n",
       "      <td>642.38</td>\n",
       "    </tr>\n",
       "    <tr>\n",
       "      <th>5215</th>\n",
       "      <td>2255.64</td>\n",
       "    </tr>\n",
       "    <tr>\n",
       "      <th>9001</th>\n",
       "      <td>28916.76</td>\n",
       "    </tr>\n",
       "    <tr>\n",
       "      <th>9002</th>\n",
       "      <td>39083.16</td>\n",
       "    </tr>\n",
       "    <tr>\n",
       "      <th>9010</th>\n",
       "      <td>5935.44</td>\n",
       "    </tr>\n",
       "    <tr>\n",
       "      <th>9013</th>\n",
       "      <td>2579.04</td>\n",
       "    </tr>\n",
       "    <tr>\n",
       "      <th>9018</th>\n",
       "      <td>6435.00</td>\n",
       "    </tr>\n",
       "    <tr>\n",
       "      <th>9023</th>\n",
       "      <td>633.36</td>\n",
       "    </tr>\n",
       "  </tbody>\n",
       "</table>\n",
       "<p>1377 rows × 1 columns</p>\n",
       "</div>"
      ],
      "text/plain": [
       "                  sales\n",
       "store_number           \n",
       "2106          176517.45\n",
       "2113           11376.12\n",
       "2130          139440.02\n",
       "2152            8625.74\n",
       "2178           29912.68\n",
       "2190          153492.12\n",
       "2191          172431.69\n",
       "2200           26986.42\n",
       "2205           24623.01\n",
       "2228           20548.45\n",
       "2233           36075.99\n",
       "2238           12171.88\n",
       "2248           81680.50\n",
       "2285           89165.92\n",
       "2290           68737.73\n",
       "2327           12441.71\n",
       "2353           55899.13\n",
       "2367            5010.83\n",
       "2413          112990.69\n",
       "2445            8612.85\n",
       "2448           24478.88\n",
       "2459            9156.23\n",
       "2460           33731.76\n",
       "2465           31101.60\n",
       "2475           15471.14\n",
       "2478           24303.27\n",
       "2487           28900.96\n",
       "2498            3040.01\n",
       "2500          182871.72\n",
       "2501          174349.30\n",
       "...                 ...\n",
       "5185            1586.07\n",
       "5186             639.66\n",
       "5187            5628.71\n",
       "5188            2614.63\n",
       "5189             672.60\n",
       "5190            2884.64\n",
       "5191             468.66\n",
       "5192             123.60\n",
       "5193             139.50\n",
       "5195              92.50\n",
       "5196             975.13\n",
       "5198           10864.17\n",
       "5199            5296.62\n",
       "5201             289.78\n",
       "5202             407.61\n",
       "5203            3916.52\n",
       "5204            2498.23\n",
       "5205             362.16\n",
       "5206            2712.63\n",
       "5207            8311.30\n",
       "5211            1210.13\n",
       "5212            1231.72\n",
       "5213             642.38\n",
       "5215            2255.64\n",
       "9001           28916.76\n",
       "9002           39083.16\n",
       "9010            5935.44\n",
       "9013            2579.04\n",
       "9018            6435.00\n",
       "9023             633.36\n",
       "\n",
       "[1377 rows x 1 columns]"
      ]
     },
     "execution_count": 76,
     "metadata": {},
     "output_type": "execute_result"
    }
   ],
   "source": [
    "store_sales"
   ]
  },
  {
   "cell_type": "code",
   "execution_count": 69,
   "metadata": {
    "collapsed": false
   },
   "outputs": [
    {
     "data": {
      "text/plain": [
       "array([ 750, 1000, 1750,  200,  300,  500,  375, 3000, 2400,  600,  100,\n",
       "       1200,  800, 4800,  150, 2250,  400, 3600,   50,  850,  950,  603,\n",
       "       2550, 1125, 6000, 4500,  900,  250, 1500])"
      ]
     },
     "execution_count": 69,
     "metadata": {},
     "output_type": "execute_result"
    }
   ],
   "source": [
    "iowa['bottle_volume'].unique()"
   ]
  },
  {
   "cell_type": "code",
   "execution_count": null,
   "metadata": {
    "collapsed": true
   },
   "outputs": [],
   "source": [
    "{'vodka': }\n",
    "#vodka\n",
    "#schnapps\n",
    "#whiskey\n",
    "#rum\n",
    "#scotch\n",
    "#gin\n",
    "#liqueurs\n",
    "#brandies\n",
    "#tequila\n",
    "#beer\n",
    "#other\n"
   ]
  },
  {
   "cell_type": "code",
   "execution_count": 63,
   "metadata": {
    "collapsed": false
   },
   "outputs": [
    {
     "data": {
      "text/plain": [
       "71"
      ]
     },
     "execution_count": 63,
     "metadata": {},
     "output_type": "execute_result"
    }
   ],
   "source": [
    "iowa['category_name'].nunique()"
   ]
  },
  {
   "cell_type": "code",
   "execution_count": 23,
   "metadata": {
    "collapsed": false
   },
   "outputs": [
    {
     "data": {
      "text/plain": [
       "dtype('O')"
      ]
     },
     "execution_count": 23,
     "metadata": {},
     "output_type": "execute_result"
    }
   ],
   "source": [
    "iowa['date'].dtypes"
   ]
  },
  {
   "cell_type": "code",
   "execution_count": 24,
   "metadata": {
    "collapsed": false
   },
   "outputs": [],
   "source": [
    "## Transform the dates if needed, e.g.\n",
    "iowa['date'] = iowa['date'].str.replace('/','-') \n",
    "iowa['date'] = pd.to_datetime(iowa['date'], format= '%m-%d-%Y')"
   ]
  },
  {
   "cell_type": "code",
   "execution_count": 29,
   "metadata": {
    "collapsed": false
   },
   "outputs": [
    {
     "data": {
      "text/plain": [
       "date                      0\n",
       "store_number              0\n",
       "city                      0\n",
       "zip_code                  0\n",
       "county_number          1077\n",
       "county                 1077\n",
       "category                 68\n",
       "category_name           632\n",
       "vendor_number             0\n",
       "item_number               0\n",
       "item_description          0\n",
       "bottle_volume             0\n",
       "state_bottle_cost         0\n",
       "state_bottle_retail       0\n",
       "bottles_sold              0\n",
       "sales                     0\n",
       "volume_sold               0\n",
       "volume_sold_gallons       0\n",
       "dtype: int64"
      ]
     },
     "execution_count": 29,
     "metadata": {},
     "output_type": "execute_result"
    }
   ],
   "source": [
    "# Check for null or other weird values\n",
    "iowa.isnull().sum()"
   ]
  },
  {
   "cell_type": "code",
   "execution_count": null,
   "metadata": {
    "collapsed": false
   },
   "outputs": [],
   "source": [
    "iowa.dtypes"
   ]
  },
  {
   "cell_type": "markdown",
   "metadata": {},
   "source": [
    "# Explore the data\n",
    "\n",
    "Perform some exploratory statistical analysis and make some plots, such as histograms of transaction totals, bottles sold, etc."
   ]
  },
  {
   "cell_type": "code",
   "execution_count": null,
   "metadata": {
    "collapsed": true
   },
   "outputs": [],
   "source": [
    "import seaborn as sns\n",
    "import matplotlib.pyplot as plt"
   ]
  },
  {
   "cell_type": "code",
   "execution_count": null,
   "metadata": {
    "collapsed": false
   },
   "outputs": [],
   "source": [
    "len(iowa['County'].value_counts())"
   ]
  },
  {
   "cell_type": "code",
   "execution_count": null,
   "metadata": {
    "collapsed": false
   },
   "outputs": [],
   "source": [
    "iowa_county = pd.pivot_table(iowa, index=iowa['County'], values=['Sale (Dollars)'])\n",
    "iowa_county.head()"
   ]
  },
  {
   "cell_type": "markdown",
   "metadata": {},
   "source": [
    "## Record your findings\n",
    "\n",
    "Be sure to write out anything observations from your exploratory analysis."
   ]
  },
  {
   "cell_type": "markdown",
   "metadata": {},
   "source": [
    "# Mine the data\n",
    "Now you are ready to compute the variables you will use for your regression from the data. For example, you may want to\n",
    "compute total sales per store from Jan to March of 2015, mean price per bottle, etc. Refer to the readme for more ideas appropriate to your scenario.\n",
    "\n",
    "Pandas is your friend for this task. Take a look at the operations [here](http://pandas.pydata.org/pandas-docs/stable/groupby.html) for ideas on how to make the best use of pandas and feel free to search for blog and Stack Overflow posts to help you group data by certain variables and compute sums, means, etc. You may find it useful to create a new data frame to house this summary data."
   ]
  },
  {
   "cell_type": "markdown",
   "metadata": {},
   "source": [
    "# Refine the data\n",
    "Look for any statistical relationships, correlations, or other relevant properties of the dataset."
   ]
  },
  {
   "cell_type": "code",
   "execution_count": null,
   "metadata": {
    "collapsed": true
   },
   "outputs": [],
   "source": []
  },
  {
   "cell_type": "markdown",
   "metadata": {},
   "source": [
    "# Build your models\n",
    "\n",
    "Using scikit-learn or statsmodels, build the necessary models for your scenario. Evaluate model fit."
   ]
  },
  {
   "cell_type": "code",
   "execution_count": null,
   "metadata": {
    "collapsed": true
   },
   "outputs": [],
   "source": [
    "from sklearn import linear_model\n"
   ]
  },
  {
   "cell_type": "markdown",
   "metadata": {},
   "source": [
    "## Plot your results\n",
    "\n",
    "Again make sure that you record any valuable information. For example, in the tax scenario, did you find the sales from the first three months of the year to be a good predictor of the total sales for the year? Plot the predictions versus the true values and discuss the successes and limitations of your models"
   ]
  },
  {
   "cell_type": "code",
   "execution_count": null,
   "metadata": {
    "collapsed": true
   },
   "outputs": [],
   "source": []
  },
  {
   "cell_type": "markdown",
   "metadata": {},
   "source": [
    "# Present the Results\n",
    "\n",
    "Present your conclusions and results. If you have more than one interesting model feel free to include more than one along with a discussion. Use your work in this notebook to prepare your write-up."
   ]
  },
  {
   "cell_type": "code",
   "execution_count": null,
   "metadata": {
    "collapsed": true
   },
   "outputs": [],
   "source": []
  }
 ],
 "metadata": {
  "kernelspec": {
   "display_name": "Python 2",
   "language": "python",
   "name": "python2"
  },
  "language_info": {
   "codemirror_mode": {
    "name": "ipython",
    "version": 2
   },
   "file_extension": ".py",
   "mimetype": "text/x-python",
   "name": "python",
   "nbconvert_exporter": "python",
   "pygments_lexer": "ipython2",
   "version": "2.7.12"
  }
 },
 "nbformat": 4,
 "nbformat_minor": 0
}
