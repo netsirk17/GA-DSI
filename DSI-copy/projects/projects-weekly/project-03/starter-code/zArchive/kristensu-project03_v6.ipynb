{
 "cells": [
  {
   "cell_type": "markdown",
   "metadata": {},
   "source": [
    "# Getting started\n",
    "\n",
    "Once you've chosen your scenario, download the data from [the Iowa website](https://data.iowa.gov/Economy/Iowa-Liquor-Sales/m3tr-qhgy) in csv format. Start by loading the data with pandas. You may need to parse the date columns appropriately."
   ]
  },
  {
   "cell_type": "code",
   "execution_count": 50,
   "metadata": {
    "collapsed": false
   },
   "outputs": [],
   "source": [
    "#import libraries\n",
    "import pandas as pd\n",
    "import numpy as np\n",
    "import seaborn as sns\n",
    "import matplotlib.pyplot as plt\n",
    "%matplotlib inline \n",
    "\n",
    "from sklearn import datasets\n",
    "from sklearn import linear_model\n",
    "from sklearn.metrics import r2_score\n",
    "from sklearn.cross_validation import train_test_split\n",
    "from sklearn.cross_validation import cross_val_score\n",
    "from sklearn.cross_validation import cross_val_predict\n",
    "from sklearn.metrics import r2_score\n",
    "from sklearn.metrics import mean_squared_error"
   ]
  },
  {
   "cell_type": "code",
   "execution_count": 51,
   "metadata": {
    "collapsed": false
   },
   "outputs": [],
   "source": [
    "## Load the data into a DataFrame\n",
    "csv_filepath = '/Users/kristensu/downloads/Iowa_Liquor_sales_sample_10pct.csv'\n",
    "iowa = pd.read_csv(csv_filepath)"
   ]
  },
  {
   "cell_type": "code",
   "execution_count": null,
   "metadata": {
    "collapsed": true
   },
   "outputs": [],
   "source": [
    "iowa.head(3)"
   ]
  },
  {
   "cell_type": "code",
   "execution_count": null,
   "metadata": {
    "collapsed": true
   },
   "outputs": [],
   "source": [
    "iowa.dtypes"
   ]
  },
  {
   "cell_type": "code",
   "execution_count": null,
   "metadata": {
    "collapsed": false
   },
   "outputs": [],
   "source": [
    "print iowa.columns\n",
    "print iowa.shape"
   ]
  },
  {
   "cell_type": "markdown",
   "metadata": {},
   "source": [
    "# Clean Data"
   ]
  },
  {
   "cell_type": "markdown",
   "metadata": {},
   "source": [
    "### Drop duplicate (unnecessary) columns"
   ]
  },
  {
   "cell_type": "code",
   "execution_count": 52,
   "metadata": {
    "collapsed": false
   },
   "outputs": [],
   "source": [
    "# Drop cols that contain same info as another col\n",
    "iowa.drop(['County Number', 'Item Number', 'Volume Sold (Gallons)'], axis=1, inplace=True)"
   ]
  },
  {
   "cell_type": "code",
   "execution_count": 53,
   "metadata": {
    "collapsed": false
   },
   "outputs": [
    {
     "data": {
      "text/html": [
       "<div>\n",
       "<table border=\"1\" class=\"dataframe\">\n",
       "  <thead>\n",
       "    <tr style=\"text-align: right;\">\n",
       "      <th></th>\n",
       "      <th></th>\n",
       "    </tr>\n",
       "    <tr>\n",
       "      <th>Category</th>\n",
       "      <th>Category Name</th>\n",
       "    </tr>\n",
       "  </thead>\n",
       "  <tbody>\n",
       "    <tr>\n",
       "      <th>1011100.0</th>\n",
       "      <th>BLENDED WHISKIES</th>\n",
       "    </tr>\n",
       "    <tr>\n",
       "      <th>1011200.0</th>\n",
       "      <th>STRAIGHT BOURBON WHISKIES</th>\n",
       "    </tr>\n",
       "  </tbody>\n",
       "</table>\n",
       "</div>"
      ],
      "text/plain": [
       "Empty DataFrame\n",
       "Columns: []\n",
       "Index: [(1011100.0, BLENDED WHISKIES), (1011200.0, STRAIGHT BOURBON WHISKIES)]"
      ]
     },
     "execution_count": 53,
     "metadata": {},
     "output_type": "execute_result"
    }
   ],
   "source": [
    "# Made a separate df for category to category name mapping for future reference\n",
    "category_df = pd.pivot_table(iowa, index=['Category', 'Category Name'], values=['Bottles Sold'])\n",
    "category_df.drop('Bottles Sold', axis=1, inplace=True)\n",
    "category_df.head(2)"
   ]
  },
  {
   "cell_type": "markdown",
   "metadata": {},
   "source": [
    "### Clean column names"
   ]
  },
  {
   "cell_type": "code",
   "execution_count": 54,
   "metadata": {
    "collapsed": false
   },
   "outputs": [],
   "source": [
    "# Clean column name 1: Rename columns\n",
    "iowa.rename(columns={'Store Number':'Store', 'Bottle Volume (ml)':'Bottle Volume', 'Sale (Dollars)':'Sales', \\\n",
    "               'Volume Sold (Liters)':'Volume Sold'}, inplace=True)\n",
    "\n",
    "# Clean column names 2: Change all column names to lowercase letters\n",
    "iowa.rename(columns=lambda x: x.lower(), inplace=True)\n",
    "\n",
    "# Clean column names 3: Replace ' ' with '_'\n",
    "iowa.rename(columns=lambda x: x.replace(\" \",\"_\"), inplace=True)"
   ]
  },
  {
   "cell_type": "markdown",
   "metadata": {},
   "source": [
    "\n",
    "### Clean values in columns with currency and date"
   ]
  },
  {
   "cell_type": "code",
   "execution_count": 55,
   "metadata": {
    "collapsed": false
   },
   "outputs": [],
   "source": [
    "# Convert columns with dollar amounts from object to numeric float\n",
    "currency = ['sales', 'state_bottle_cost', 'state_bottle_retail']\n",
    "iowa[currency] = iowa[currency].apply(lambda x: x.str.replace('$',''))\n",
    "iowa[currency] = iowa[currency].apply(lambda x: x.str.replace(',',''))\n",
    "iowa[currency] = iowa[currency].apply(lambda x: pd.to_numeric(x))"
   ]
  },
  {
   "cell_type": "code",
   "execution_count": 56,
   "metadata": {
    "collapsed": false
   },
   "outputs": [],
   "source": [
    "# Convert date from object to datetime\n",
    "iowa['date'] = pd.to_datetime(iowa['date'])"
   ]
  },
  {
   "cell_type": "code",
   "execution_count": 57,
   "metadata": {
    "collapsed": false
   },
   "outputs": [
    {
     "data": {
      "text/html": [
       "<div>\n",
       "<table border=\"1\" class=\"dataframe\">\n",
       "  <thead>\n",
       "    <tr style=\"text-align: right;\">\n",
       "      <th></th>\n",
       "      <th>date</th>\n",
       "      <th>store</th>\n",
       "      <th>city</th>\n",
       "      <th>zip_code</th>\n",
       "      <th>county</th>\n",
       "      <th>category</th>\n",
       "      <th>category_name</th>\n",
       "      <th>vendor_number</th>\n",
       "      <th>item_description</th>\n",
       "      <th>bottle_volume</th>\n",
       "      <th>state_bottle_cost</th>\n",
       "      <th>state_bottle_retail</th>\n",
       "      <th>bottles_sold</th>\n",
       "      <th>sales</th>\n",
       "      <th>volume_sold</th>\n",
       "    </tr>\n",
       "  </thead>\n",
       "  <tbody>\n",
       "    <tr>\n",
       "      <th>0</th>\n",
       "      <td>2015-11-04</td>\n",
       "      <td>3717</td>\n",
       "      <td>SUMNER</td>\n",
       "      <td>50674</td>\n",
       "      <td>Bremer</td>\n",
       "      <td>1051100.0</td>\n",
       "      <td>APRICOT BRANDIES</td>\n",
       "      <td>55</td>\n",
       "      <td>Mr. Boston Apricot Brandy</td>\n",
       "      <td>750</td>\n",
       "      <td>4.50</td>\n",
       "      <td>6.75</td>\n",
       "      <td>12</td>\n",
       "      <td>81.00</td>\n",
       "      <td>9.0</td>\n",
       "    </tr>\n",
       "    <tr>\n",
       "      <th>1</th>\n",
       "      <td>2016-03-02</td>\n",
       "      <td>2614</td>\n",
       "      <td>DAVENPORT</td>\n",
       "      <td>52807</td>\n",
       "      <td>Scott</td>\n",
       "      <td>1011100.0</td>\n",
       "      <td>BLENDED WHISKIES</td>\n",
       "      <td>395</td>\n",
       "      <td>Tin Cup</td>\n",
       "      <td>750</td>\n",
       "      <td>13.75</td>\n",
       "      <td>20.63</td>\n",
       "      <td>2</td>\n",
       "      <td>41.26</td>\n",
       "      <td>1.5</td>\n",
       "    </tr>\n",
       "    <tr>\n",
       "      <th>2</th>\n",
       "      <td>2016-02-11</td>\n",
       "      <td>2106</td>\n",
       "      <td>CEDAR FALLS</td>\n",
       "      <td>50613</td>\n",
       "      <td>Black Hawk</td>\n",
       "      <td>1011200.0</td>\n",
       "      <td>STRAIGHT BOURBON WHISKIES</td>\n",
       "      <td>65</td>\n",
       "      <td>Jim Beam</td>\n",
       "      <td>1000</td>\n",
       "      <td>12.59</td>\n",
       "      <td>18.89</td>\n",
       "      <td>24</td>\n",
       "      <td>453.36</td>\n",
       "      <td>24.0</td>\n",
       "    </tr>\n",
       "  </tbody>\n",
       "</table>\n",
       "</div>"
      ],
      "text/plain": [
       "        date  store         city zip_code      county   category  \\\n",
       "0 2015-11-04   3717       SUMNER    50674      Bremer  1051100.0   \n",
       "1 2016-03-02   2614    DAVENPORT    52807       Scott  1011100.0   \n",
       "2 2016-02-11   2106  CEDAR FALLS    50613  Black Hawk  1011200.0   \n",
       "\n",
       "               category_name  vendor_number           item_description  \\\n",
       "0           APRICOT BRANDIES             55  Mr. Boston Apricot Brandy   \n",
       "1           BLENDED WHISKIES            395                    Tin Cup   \n",
       "2  STRAIGHT BOURBON WHISKIES             65                   Jim Beam   \n",
       "\n",
       "   bottle_volume  state_bottle_cost  state_bottle_retail  bottles_sold  \\\n",
       "0            750               4.50                 6.75            12   \n",
       "1            750              13.75                20.63             2   \n",
       "2           1000              12.59                18.89            24   \n",
       "\n",
       "    sales  volume_sold  \n",
       "0   81.00          9.0  \n",
       "1   41.26          1.5  \n",
       "2  453.36         24.0  "
      ]
     },
     "execution_count": 57,
     "metadata": {},
     "output_type": "execute_result"
    }
   ],
   "source": [
    "iowa.head(3)"
   ]
  },
  {
   "cell_type": "code",
   "execution_count": 61,
   "metadata": {
    "collapsed": false
   },
   "outputs": [],
   "source": [
    "# Convert zip code to int\n",
    "print iowa['zip_code'].nunique()\n",
    "print iowa['zip_code'].unique()\n",
    "# One problematic value: 712-2"
   ]
  },
  {
   "cell_type": "code",
   "execution_count": 59,
   "metadata": {
    "collapsed": false
   },
   "outputs": [
    {
     "data": {
      "text/plain": [
       "0    50674.0\n",
       "1    52807.0\n",
       "Name: zip_code, dtype: float64"
      ]
     },
     "execution_count": 59,
     "metadata": {},
     "output_type": "execute_result"
    }
   ],
   "source": [
    "# Drop problematic zip code and convert rest to int\n",
    "iowa['zip_code'] = pd.to_numeric(iowa[\"zip_code\"], errors='coerce')\n",
    "iowa.fillna(np.nan)\n",
    "iowa['zip_code'].dropna().astype(int)\n",
    "iowa['zip_code'].head(2)"
   ]
  },
  {
   "cell_type": "code",
   "execution_count": 62,
   "metadata": {
    "collapsed": false
   },
   "outputs": [
    {
     "data": {
      "text/plain": [
       "date                      0\n",
       "store                     0\n",
       "city                      0\n",
       "zip_code                217\n",
       "county                 1077\n",
       "category                 68\n",
       "category_name           632\n",
       "vendor_number             0\n",
       "item_description          0\n",
       "bottle_volume             0\n",
       "state_bottle_cost         0\n",
       "state_bottle_retail       0\n",
       "bottles_sold              0\n",
       "sales                     0\n",
       "volume_sold               0\n",
       "dtype: int64"
      ]
     },
     "execution_count": 62,
     "metadata": {},
     "output_type": "execute_result"
    }
   ],
   "source": [
    "iowa.isnull().sum()"
   ]
  },
  {
   "cell_type": "code",
   "execution_count": 15,
   "metadata": {
    "collapsed": false
   },
   "outputs": [
    {
     "name": "stdout",
     "output_type": "stream",
     "text": [
      "<class 'pandas.core.frame.DataFrame'>\n",
      "RangeIndex: 270955 entries, 0 to 270954\n",
      "Data columns (total 15 columns):\n",
      "date                   270955 non-null datetime64[ns]\n",
      "store                  270955 non-null int64\n",
      "city                   270955 non-null object\n",
      "zip_code               270738 non-null float64\n",
      "county                 270955 non-null object\n",
      "category               270887 non-null float64\n",
      "category_name          270955 non-null object\n",
      "vendor_number          270955 non-null int64\n",
      "item_description       270955 non-null object\n",
      "bottle_volume          270955 non-null int64\n",
      "state_bottle_cost      270955 non-null float64\n",
      "state_bottle_retail    270955 non-null float64\n",
      "bottles_sold           270955 non-null int64\n",
      "sales                  270955 non-null float64\n",
      "volume_sold            270955 non-null float64\n",
      "dtypes: datetime64[ns](1), float64(6), int64(4), object(4)\n",
      "memory usage: 31.0+ MB\n"
     ]
    }
   ],
   "source": [
    "iowa.info()"
   ]
  },
  {
   "cell_type": "markdown",
   "metadata": {},
   "source": [
    "### Convert dtype object to str"
   ]
  },
  {
   "cell_type": "code",
   "execution_count": 48,
   "metadata": {
    "collapsed": true
   },
   "outputs": [],
   "source": [
    "iowa['city'] = iowa['city'].astype(object)\n",
    "iowa['county'] = iowa['county'].astype(object)\n",
    "iowa['category_name'] = iowa['category_name'].astype(object)\n",
    "iowa['item_description'] = iowa['item_description'].astype(object)"
   ]
  },
  {
   "cell_type": "markdown",
   "metadata": {},
   "source": [
    "### Extract dates into year, quarter and month"
   ]
  },
  {
   "cell_type": "code",
   "execution_count": 63,
   "metadata": {
    "collapsed": false
   },
   "outputs": [],
   "source": [
    "def extract_month(x):\n",
    "    month = str('{:02d}'.format(x.month)) + \"-\" + str((x.year))\n",
    "    return month\n",
    "def extract_quarter(x):\n",
    "    quarter = \"Q\" + str(x.quarter) + \"-\" + str(x.year)\n",
    "    return quarter\n",
    "\n",
    "iowa[\"year\"] = iowa[\"date\"].dt.year\n",
    "iowa[\"quarter\"] = iowa[\"date\"].apply(extract_quarter)\n",
    "iowa[\"month\"] = iowa[\"date\"].apply(extract_month)"
   ]
  },
  {
   "cell_type": "markdown",
   "metadata": {},
   "source": [
    "### Check for and replace NaNs"
   ]
  },
  {
   "cell_type": "code",
   "execution_count": 64,
   "metadata": {
    "collapsed": false
   },
   "outputs": [
    {
     "data": {
      "text/plain": [
       "date                      0\n",
       "store                     0\n",
       "city                      0\n",
       "zip_code                217\n",
       "county                 1077\n",
       "category                 68\n",
       "category_name           632\n",
       "vendor_number             0\n",
       "item_description          0\n",
       "bottle_volume             0\n",
       "state_bottle_cost         0\n",
       "state_bottle_retail       0\n",
       "bottles_sold              0\n",
       "sales                     0\n",
       "volume_sold               0\n",
       "year                      0\n",
       "quarter                   0\n",
       "month                     0\n",
       "dtype: int64"
      ]
     },
     "execution_count": 64,
     "metadata": {},
     "output_type": "execute_result"
    }
   ],
   "source": [
    "iowa.isnull().sum()\n",
    "#Will leave zip_code NaNs as I filled problematic zip code with np.nan above"
   ]
  },
  {
   "cell_type": "markdown",
   "metadata": {},
   "source": [
    "### Remove Duplicate County Names & Fill in Missing Counties"
   ]
  },
  {
   "cell_type": "code",
   "execution_count": 65,
   "metadata": {
    "collapsed": false
   },
   "outputs": [
    {
     "data": {
      "text/html": [
       "<div>\n",
       "<table border=\"1\" class=\"dataframe\">\n",
       "  <thead>\n",
       "    <tr style=\"text-align: right;\">\n",
       "      <th></th>\n",
       "      <th>city</th>\n",
       "      <th>county</th>\n",
       "    </tr>\n",
       "  </thead>\n",
       "  <tbody>\n",
       "    <tr>\n",
       "      <th>0</th>\n",
       "      <td>ACKLEY</td>\n",
       "      <td>Hardin</td>\n",
       "    </tr>\n",
       "    <tr>\n",
       "      <th>1</th>\n",
       "      <td>ACKLEY</td>\n",
       "      <td>Webster</td>\n",
       "    </tr>\n",
       "    <tr>\n",
       "      <th>2</th>\n",
       "      <td>ADAIR</td>\n",
       "      <td>Adair</td>\n",
       "    </tr>\n",
       "    <tr>\n",
       "      <th>3</th>\n",
       "      <td>ADEL</td>\n",
       "      <td>Dallas</td>\n",
       "    </tr>\n",
       "    <tr>\n",
       "      <th>4</th>\n",
       "      <td>AFTON</td>\n",
       "      <td>Union</td>\n",
       "    </tr>\n",
       "  </tbody>\n",
       "</table>\n",
       "</div>"
      ],
      "text/plain": [
       "     city   county\n",
       "0  ACKLEY   Hardin\n",
       "1  ACKLEY  Webster\n",
       "2   ADAIR    Adair\n",
       "3    ADEL   Dallas\n",
       "4   AFTON    Union"
      ]
     },
     "execution_count": 65,
     "metadata": {},
     "output_type": "execute_result"
    }
   ],
   "source": [
    "# Match missing County with City\n",
    "df_county = pd.pivot_table(iowa, index=['city', 'county'], values=['sales'], aggfunc=sum)\n",
    "df_county.drop('sales', axis=1, inplace=True)\n",
    "df_county.reset_index(inplace=True)\n",
    "df_county.head()"
   ]
  },
  {
   "cell_type": "code",
   "execution_count": 66,
   "metadata": {
    "collapsed": false
   },
   "outputs": [
    {
     "name": "stdout",
     "output_type": "stream",
     "text": [
      "11\n"
     ]
    },
    {
     "data": {
      "text/plain": [
       "1               ACKLEY\n",
       "33          BETTENDORF\n",
       "66               CLIVE\n",
       "74             CORNING\n",
       "135         FORT DODGE\n",
       "260             NEWTON\n",
       "264      NORTH LIBERTY\n",
       "277          OSKALOOSA\n",
       "289              PERRY\n",
       "337       STATE CENTER\n",
       "380    WEST DES MOINES\n",
       "Name: city, dtype: object"
      ]
     },
     "execution_count": 66,
     "metadata": {},
     "output_type": "execute_result"
    }
   ],
   "source": [
    "print df_county['city'].duplicated().sum()\n",
    "a = df_county[df_county['city'].duplicated() == True].index.tolist()\n",
    "df_county['city'].loc[a]"
   ]
  },
  {
   "cell_type": "code",
   "execution_count": 67,
   "metadata": {
    "collapsed": false
   },
   "outputs": [],
   "source": [
    "# Did not use drop_duplicates() because I did not want to automatically drop the second duplicate\n",
    "# So I checked the counties of duplicate cities and dropped incorrect city-county mappings\n",
    "# It also turns out some towns (Ackley, Clive, and West Des Moines are located in multiple counties)\n",
    "# Remove from iowa dataframe: index [32, 74, 134, 260, 263, 276, 288, 336]\n",
    "\n",
    "b = [i+1 for i in a]\n",
    "c = [i-1 for i in a]\n",
    "d = a + b + c\n",
    "e = sorted(d)\n",
    "\n",
    "df_county.loc[e, :]\n",
    "county_dict = {'bettendorf':'scott', 'corning':'adams', 'fort dodge': 'webster','newton':'jasper', \\\n",
    "               'north libery':'johnson', 'OSKALOOSA': 'mahaska', 'PERRY':'dallas', 'STATE CENTER': 'marshall'}"
   ]
  },
  {
   "cell_type": "code",
   "execution_count": 68,
   "metadata": {
    "collapsed": false
   },
   "outputs": [
    {
     "data": {
      "text/html": [
       "<div>\n",
       "<table border=\"1\" class=\"dataframe\">\n",
       "  <thead>\n",
       "    <tr style=\"text-align: right;\">\n",
       "      <th></th>\n",
       "      <th>city</th>\n",
       "      <th>county</th>\n",
       "    </tr>\n",
       "  </thead>\n",
       "  <tbody>\n",
       "    <tr>\n",
       "      <th>0</th>\n",
       "      <td>ACKLEY</td>\n",
       "      <td>Hardin</td>\n",
       "    </tr>\n",
       "    <tr>\n",
       "      <th>1</th>\n",
       "      <td>ACKLEY_WEBSTER</td>\n",
       "      <td>Webster</td>\n",
       "    </tr>\n",
       "    <tr>\n",
       "      <th>2</th>\n",
       "      <td>ADAIR</td>\n",
       "      <td>Adair</td>\n",
       "    </tr>\n",
       "    <tr>\n",
       "      <th>3</th>\n",
       "      <td>ADEL</td>\n",
       "      <td>Dallas</td>\n",
       "    </tr>\n",
       "    <tr>\n",
       "      <th>4</th>\n",
       "      <td>AFTON</td>\n",
       "      <td>Union</td>\n",
       "    </tr>\n",
       "    <tr>\n",
       "      <th>5</th>\n",
       "      <td>AKRON</td>\n",
       "      <td>Plymouth</td>\n",
       "    </tr>\n",
       "    <tr>\n",
       "      <th>6</th>\n",
       "      <td>ALBIA</td>\n",
       "      <td>Monroe</td>\n",
       "    </tr>\n",
       "    <tr>\n",
       "      <th>7</th>\n",
       "      <td>ALDEN</td>\n",
       "      <td>Hardin</td>\n",
       "    </tr>\n",
       "    <tr>\n",
       "      <th>8</th>\n",
       "      <td>ALGONA</td>\n",
       "      <td>Kossuth</td>\n",
       "    </tr>\n",
       "    <tr>\n",
       "      <th>9</th>\n",
       "      <td>ALLISON</td>\n",
       "      <td>Butler</td>\n",
       "    </tr>\n",
       "    <tr>\n",
       "      <th>10</th>\n",
       "      <td>ALTA</td>\n",
       "      <td>Buena Vista</td>\n",
       "    </tr>\n",
       "    <tr>\n",
       "      <th>11</th>\n",
       "      <td>ALTOONA</td>\n",
       "      <td>Polk</td>\n",
       "    </tr>\n",
       "    <tr>\n",
       "      <th>12</th>\n",
       "      <td>AMES</td>\n",
       "      <td>Story</td>\n",
       "    </tr>\n",
       "    <tr>\n",
       "      <th>13</th>\n",
       "      <td>ANAMOSA</td>\n",
       "      <td>Jones</td>\n",
       "    </tr>\n",
       "    <tr>\n",
       "      <th>14</th>\n",
       "      <td>ANITA</td>\n",
       "      <td>Cass</td>\n",
       "    </tr>\n",
       "    <tr>\n",
       "      <th>15</th>\n",
       "      <td>ANKENY</td>\n",
       "      <td>Polk</td>\n",
       "    </tr>\n",
       "    <tr>\n",
       "      <th>16</th>\n",
       "      <td>ANTHON</td>\n",
       "      <td>Woodbury</td>\n",
       "    </tr>\n",
       "    <tr>\n",
       "      <th>17</th>\n",
       "      <td>ARLINGTON</td>\n",
       "      <td>Fayette</td>\n",
       "    </tr>\n",
       "    <tr>\n",
       "      <th>18</th>\n",
       "      <td>ARMSTRONG</td>\n",
       "      <td>Emmet</td>\n",
       "    </tr>\n",
       "    <tr>\n",
       "      <th>19</th>\n",
       "      <td>ARNOLD'S PARK</td>\n",
       "      <td>Dickinson</td>\n",
       "    </tr>\n",
       "    <tr>\n",
       "      <th>20</th>\n",
       "      <td>ARNOLDS PARK</td>\n",
       "      <td>Dickinson</td>\n",
       "    </tr>\n",
       "    <tr>\n",
       "      <th>21</th>\n",
       "      <td>ATLANTIC</td>\n",
       "      <td>Cass</td>\n",
       "    </tr>\n",
       "    <tr>\n",
       "      <th>22</th>\n",
       "      <td>AUDUBON</td>\n",
       "      <td>Audubon</td>\n",
       "    </tr>\n",
       "    <tr>\n",
       "      <th>23</th>\n",
       "      <td>AURELIA</td>\n",
       "      <td>Cherokee</td>\n",
       "    </tr>\n",
       "    <tr>\n",
       "      <th>24</th>\n",
       "      <td>AVOCA</td>\n",
       "      <td>Pottawattamie</td>\n",
       "    </tr>\n",
       "    <tr>\n",
       "      <th>25</th>\n",
       "      <td>BALDWIN</td>\n",
       "      <td>Jackson</td>\n",
       "    </tr>\n",
       "    <tr>\n",
       "      <th>26</th>\n",
       "      <td>BANCROFT</td>\n",
       "      <td>Kossuth</td>\n",
       "    </tr>\n",
       "    <tr>\n",
       "      <th>27</th>\n",
       "      <td>BAXTER</td>\n",
       "      <td>Jasper</td>\n",
       "    </tr>\n",
       "    <tr>\n",
       "      <th>28</th>\n",
       "      <td>BEDFORD</td>\n",
       "      <td>Taylor</td>\n",
       "    </tr>\n",
       "    <tr>\n",
       "      <th>29</th>\n",
       "      <td>BELLE PLAINE</td>\n",
       "      <td>Benton</td>\n",
       "    </tr>\n",
       "    <tr>\n",
       "      <th>...</th>\n",
       "      <td>...</td>\n",
       "      <td>...</td>\n",
       "    </tr>\n",
       "    <tr>\n",
       "      <th>363</th>\n",
       "      <td>WALL LAKE</td>\n",
       "      <td>Sac</td>\n",
       "    </tr>\n",
       "    <tr>\n",
       "      <th>364</th>\n",
       "      <td>WALNUT</td>\n",
       "      <td>Pottawattamie</td>\n",
       "    </tr>\n",
       "    <tr>\n",
       "      <th>365</th>\n",
       "      <td>WAPELLO</td>\n",
       "      <td>Louisa</td>\n",
       "    </tr>\n",
       "    <tr>\n",
       "      <th>366</th>\n",
       "      <td>WASHBURN</td>\n",
       "      <td>Black Hawk</td>\n",
       "    </tr>\n",
       "    <tr>\n",
       "      <th>367</th>\n",
       "      <td>WASHINGTON</td>\n",
       "      <td>Washington</td>\n",
       "    </tr>\n",
       "    <tr>\n",
       "      <th>368</th>\n",
       "      <td>WATERLOO</td>\n",
       "      <td>Black Hawk</td>\n",
       "    </tr>\n",
       "    <tr>\n",
       "      <th>369</th>\n",
       "      <td>WAUKEE</td>\n",
       "      <td>Dallas</td>\n",
       "    </tr>\n",
       "    <tr>\n",
       "      <th>370</th>\n",
       "      <td>WAUKON</td>\n",
       "      <td>Allamakee</td>\n",
       "    </tr>\n",
       "    <tr>\n",
       "      <th>371</th>\n",
       "      <td>WAVERLY</td>\n",
       "      <td>Bremer</td>\n",
       "    </tr>\n",
       "    <tr>\n",
       "      <th>372</th>\n",
       "      <td>WEBSTER CITY</td>\n",
       "      <td>Hamilton</td>\n",
       "    </tr>\n",
       "    <tr>\n",
       "      <th>373</th>\n",
       "      <td>WELLMAN</td>\n",
       "      <td>Wapello</td>\n",
       "    </tr>\n",
       "    <tr>\n",
       "      <th>374</th>\n",
       "      <td>WELLSBURG</td>\n",
       "      <td>Grundy</td>\n",
       "    </tr>\n",
       "    <tr>\n",
       "      <th>375</th>\n",
       "      <td>WESLEY</td>\n",
       "      <td>Kossuth</td>\n",
       "    </tr>\n",
       "    <tr>\n",
       "      <th>376</th>\n",
       "      <td>WEST BEND</td>\n",
       "      <td>Kossuth</td>\n",
       "    </tr>\n",
       "    <tr>\n",
       "      <th>377</th>\n",
       "      <td>WEST BRANCH</td>\n",
       "      <td>Cedar</td>\n",
       "    </tr>\n",
       "    <tr>\n",
       "      <th>378</th>\n",
       "      <td>WEST BURLINGTON</td>\n",
       "      <td>Des Moines</td>\n",
       "    </tr>\n",
       "    <tr>\n",
       "      <th>379</th>\n",
       "      <td>WEST DES MOINES</td>\n",
       "      <td>Dallas</td>\n",
       "    </tr>\n",
       "    <tr>\n",
       "      <th>380</th>\n",
       "      <td>WEST_DES_MOINES_POLK</td>\n",
       "      <td>Polk</td>\n",
       "    </tr>\n",
       "    <tr>\n",
       "      <th>381</th>\n",
       "      <td>WEST LIBERTY</td>\n",
       "      <td>Muscatine</td>\n",
       "    </tr>\n",
       "    <tr>\n",
       "      <th>382</th>\n",
       "      <td>WEST POINT</td>\n",
       "      <td>Lee</td>\n",
       "    </tr>\n",
       "    <tr>\n",
       "      <th>383</th>\n",
       "      <td>WEST UNION</td>\n",
       "      <td>Fayette</td>\n",
       "    </tr>\n",
       "    <tr>\n",
       "      <th>384</th>\n",
       "      <td>WHEATLAND</td>\n",
       "      <td>Clinton</td>\n",
       "    </tr>\n",
       "    <tr>\n",
       "      <th>385</th>\n",
       "      <td>WILLIAMSBURG</td>\n",
       "      <td>Iowa</td>\n",
       "    </tr>\n",
       "    <tr>\n",
       "      <th>386</th>\n",
       "      <td>WILTON</td>\n",
       "      <td>Muscatine</td>\n",
       "    </tr>\n",
       "    <tr>\n",
       "      <th>387</th>\n",
       "      <td>WINDSOR HEIGHTS</td>\n",
       "      <td>Polk</td>\n",
       "    </tr>\n",
       "    <tr>\n",
       "      <th>388</th>\n",
       "      <td>WINTERSET</td>\n",
       "      <td>Madison</td>\n",
       "    </tr>\n",
       "    <tr>\n",
       "      <th>389</th>\n",
       "      <td>WINTHROP</td>\n",
       "      <td>Buchanan</td>\n",
       "    </tr>\n",
       "    <tr>\n",
       "      <th>390</th>\n",
       "      <td>WOODBINE</td>\n",
       "      <td>Harrison</td>\n",
       "    </tr>\n",
       "    <tr>\n",
       "      <th>391</th>\n",
       "      <td>WOODWARD</td>\n",
       "      <td>Dallas</td>\n",
       "    </tr>\n",
       "    <tr>\n",
       "      <th>392</th>\n",
       "      <td>ZWINGLE</td>\n",
       "      <td>Jackson</td>\n",
       "    </tr>\n",
       "  </tbody>\n",
       "</table>\n",
       "<p>385 rows × 2 columns</p>\n",
       "</div>"
      ],
      "text/plain": [
       "                     city         county\n",
       "0                  ACKLEY         Hardin\n",
       "1          ACKLEY_WEBSTER        Webster\n",
       "2                   ADAIR          Adair\n",
       "3                    ADEL         Dallas\n",
       "4                   AFTON          Union\n",
       "5                   AKRON       Plymouth\n",
       "6                   ALBIA         Monroe\n",
       "7                   ALDEN         Hardin\n",
       "8                  ALGONA        Kossuth\n",
       "9                 ALLISON         Butler\n",
       "10                   ALTA    Buena Vista\n",
       "11                ALTOONA           Polk\n",
       "12                   AMES          Story\n",
       "13                ANAMOSA          Jones\n",
       "14                  ANITA           Cass\n",
       "15                 ANKENY           Polk\n",
       "16                 ANTHON       Woodbury\n",
       "17              ARLINGTON        Fayette\n",
       "18              ARMSTRONG          Emmet\n",
       "19          ARNOLD'S PARK      Dickinson\n",
       "20           ARNOLDS PARK      Dickinson\n",
       "21               ATLANTIC           Cass\n",
       "22                AUDUBON        Audubon\n",
       "23                AURELIA       Cherokee\n",
       "24                  AVOCA  Pottawattamie\n",
       "25                BALDWIN        Jackson\n",
       "26               BANCROFT        Kossuth\n",
       "27                 BAXTER         Jasper\n",
       "28                BEDFORD         Taylor\n",
       "29           BELLE PLAINE         Benton\n",
       "..                    ...            ...\n",
       "363             WALL LAKE            Sac\n",
       "364                WALNUT  Pottawattamie\n",
       "365               WAPELLO         Louisa\n",
       "366              WASHBURN     Black Hawk\n",
       "367            WASHINGTON     Washington\n",
       "368              WATERLOO     Black Hawk\n",
       "369                WAUKEE         Dallas\n",
       "370                WAUKON      Allamakee\n",
       "371               WAVERLY         Bremer\n",
       "372          WEBSTER CITY       Hamilton\n",
       "373               WELLMAN        Wapello\n",
       "374             WELLSBURG         Grundy\n",
       "375                WESLEY        Kossuth\n",
       "376             WEST BEND        Kossuth\n",
       "377           WEST BRANCH          Cedar\n",
       "378       WEST BURLINGTON     Des Moines\n",
       "379       WEST DES MOINES         Dallas\n",
       "380  WEST_DES_MOINES_POLK           Polk\n",
       "381          WEST LIBERTY      Muscatine\n",
       "382            WEST POINT            Lee\n",
       "383            WEST UNION        Fayette\n",
       "384             WHEATLAND        Clinton\n",
       "385          WILLIAMSBURG           Iowa\n",
       "386                WILTON      Muscatine\n",
       "387       WINDSOR HEIGHTS           Polk\n",
       "388             WINTERSET        Madison\n",
       "389              WINTHROP       Buchanan\n",
       "390              WOODBINE       Harrison\n",
       "391              WOODWARD         Dallas\n",
       "392               ZWINGLE        Jackson\n",
       "\n",
       "[385 rows x 2 columns]"
      ]
     },
     "execution_count": 68,
     "metadata": {},
     "output_type": "execute_result"
    }
   ],
   "source": [
    "# Remove from iowa dataframe: index [32, 74, 134, 260, 263, 276, 288, 336]\n",
    "df_county.drop([32, 74, 134, 260, 263, 276, 288, 336], inplace=True)\n",
    "\n",
    "# Rename Ackley, Clive, and West Des Moines to account for parts of town in different counties\n",
    "df_county.set_value([1,66,380], 'city', ['ACKLEY_WEBSTER', 'CLIVE_POLK', 'WEST_DES_MOINES_POLK'])"
   ]
  },
  {
   "cell_type": "code",
   "execution_count": 69,
   "metadata": {
    "collapsed": false
   },
   "outputs": [
    {
     "data": {
      "text/html": [
       "<div>\n",
       "<table border=\"1\" class=\"dataframe\">\n",
       "  <thead>\n",
       "    <tr style=\"text-align: right;\">\n",
       "      <th></th>\n",
       "      <th>date</th>\n",
       "      <th>store</th>\n",
       "      <th>city</th>\n",
       "      <th>zip_code</th>\n",
       "      <th>county_x</th>\n",
       "      <th>category</th>\n",
       "      <th>category_name</th>\n",
       "      <th>vendor_number</th>\n",
       "      <th>item_description</th>\n",
       "      <th>bottle_volume</th>\n",
       "      <th>state_bottle_cost</th>\n",
       "      <th>state_bottle_retail</th>\n",
       "      <th>bottles_sold</th>\n",
       "      <th>sales</th>\n",
       "      <th>volume_sold</th>\n",
       "      <th>year</th>\n",
       "      <th>quarter</th>\n",
       "      <th>month</th>\n",
       "      <th>county_y</th>\n",
       "    </tr>\n",
       "  </thead>\n",
       "  <tbody>\n",
       "    <tr>\n",
       "      <th>0</th>\n",
       "      <td>2015-11-04</td>\n",
       "      <td>3717</td>\n",
       "      <td>SUMNER</td>\n",
       "      <td>50674.0</td>\n",
       "      <td>Bremer</td>\n",
       "      <td>1051100.0</td>\n",
       "      <td>APRICOT BRANDIES</td>\n",
       "      <td>55</td>\n",
       "      <td>Mr. Boston Apricot Brandy</td>\n",
       "      <td>750</td>\n",
       "      <td>4.50</td>\n",
       "      <td>6.75</td>\n",
       "      <td>12</td>\n",
       "      <td>81.00</td>\n",
       "      <td>9.0</td>\n",
       "      <td>2015</td>\n",
       "      <td>Q4-2015</td>\n",
       "      <td>11-2015</td>\n",
       "      <td>Bremer</td>\n",
       "    </tr>\n",
       "    <tr>\n",
       "      <th>1</th>\n",
       "      <td>2016-03-02</td>\n",
       "      <td>2614</td>\n",
       "      <td>DAVENPORT</td>\n",
       "      <td>52807.0</td>\n",
       "      <td>Scott</td>\n",
       "      <td>1011100.0</td>\n",
       "      <td>BLENDED WHISKIES</td>\n",
       "      <td>395</td>\n",
       "      <td>Tin Cup</td>\n",
       "      <td>750</td>\n",
       "      <td>13.75</td>\n",
       "      <td>20.63</td>\n",
       "      <td>2</td>\n",
       "      <td>41.26</td>\n",
       "      <td>1.5</td>\n",
       "      <td>2016</td>\n",
       "      <td>Q1-2016</td>\n",
       "      <td>03-2016</td>\n",
       "      <td>Scott</td>\n",
       "    </tr>\n",
       "    <tr>\n",
       "      <th>2</th>\n",
       "      <td>2016-02-11</td>\n",
       "      <td>2106</td>\n",
       "      <td>CEDAR FALLS</td>\n",
       "      <td>50613.0</td>\n",
       "      <td>Black Hawk</td>\n",
       "      <td>1011200.0</td>\n",
       "      <td>STRAIGHT BOURBON WHISKIES</td>\n",
       "      <td>65</td>\n",
       "      <td>Jim Beam</td>\n",
       "      <td>1000</td>\n",
       "      <td>12.59</td>\n",
       "      <td>18.89</td>\n",
       "      <td>24</td>\n",
       "      <td>453.36</td>\n",
       "      <td>24.0</td>\n",
       "      <td>2016</td>\n",
       "      <td>Q1-2016</td>\n",
       "      <td>02-2016</td>\n",
       "      <td>Black Hawk</td>\n",
       "    </tr>\n",
       "  </tbody>\n",
       "</table>\n",
       "</div>"
      ],
      "text/plain": [
       "        date  store         city  zip_code    county_x   category  \\\n",
       "0 2015-11-04   3717       SUMNER   50674.0      Bremer  1051100.0   \n",
       "1 2016-03-02   2614    DAVENPORT   52807.0       Scott  1011100.0   \n",
       "2 2016-02-11   2106  CEDAR FALLS   50613.0  Black Hawk  1011200.0   \n",
       "\n",
       "               category_name  vendor_number           item_description  \\\n",
       "0           APRICOT BRANDIES             55  Mr. Boston Apricot Brandy   \n",
       "1           BLENDED WHISKIES            395                    Tin Cup   \n",
       "2  STRAIGHT BOURBON WHISKIES             65                   Jim Beam   \n",
       "\n",
       "   bottle_volume  state_bottle_cost  state_bottle_retail  bottles_sold  \\\n",
       "0            750               4.50                 6.75            12   \n",
       "1            750              13.75                20.63             2   \n",
       "2           1000              12.59                18.89            24   \n",
       "\n",
       "    sales  volume_sold  year  quarter    month    county_y  \n",
       "0   81.00          9.0  2015  Q4-2015  11-2015      Bremer  \n",
       "1   41.26          1.5  2016  Q1-2016  03-2016       Scott  \n",
       "2  453.36         24.0  2016  Q1-2016  02-2016  Black Hawk  "
      ]
     },
     "execution_count": 69,
     "metadata": {},
     "output_type": "execute_result"
    }
   ],
   "source": [
    "# Merge df_county into original iowa df\n",
    "# Note: Original \"county\" renamed \"county_x\" and new \"county_y\" col created\n",
    "iowa = pd.merge(iowa,df_county, on = 'city', how = 'left')\n",
    "iowa.head(3)"
   ]
  },
  {
   "cell_type": "code",
   "execution_count": 70,
   "metadata": {
    "collapsed": false
   },
   "outputs": [
    {
     "data": {
      "text/plain": [
       "date                     0\n",
       "store                    0\n",
       "city                     0\n",
       "zip_code               217\n",
       "county_x                12\n",
       "category                68\n",
       "category_name          632\n",
       "vendor_number            0\n",
       "item_description         0\n",
       "bottle_volume            0\n",
       "state_bottle_cost        0\n",
       "state_bottle_retail      0\n",
       "bottles_sold             0\n",
       "sales                    0\n",
       "volume_sold              0\n",
       "year                     0\n",
       "quarter                  0\n",
       "month                    0\n",
       "county_y                12\n",
       "dtype: int64"
      ]
     },
     "execution_count": 70,
     "metadata": {},
     "output_type": "execute_result"
    }
   ],
   "source": [
    "# Fill missing county names in \"county_x\" with county names from \"county_y\"\n",
    "iowa['county_x'].fillna(iowa['county_y'], inplace=True)\n",
    "iowa.isnull().sum()"
   ]
  },
  {
   "cell_type": "code",
   "execution_count": 71,
   "metadata": {
    "collapsed": false
   },
   "outputs": [
    {
     "data": {
      "text/plain": [
       "array(['TABOR', 'SEYMOUR', 'RUNNELLS'], dtype=object)"
      ]
     },
     "execution_count": 71,
     "metadata": {},
     "output_type": "execute_result"
    }
   ],
   "source": [
    "# Check for remaining missing counties\n",
    "iowa[iowa[\"county_x\"].isnull()]['city'].unique()"
   ]
  },
  {
   "cell_type": "code",
   "execution_count": 72,
   "metadata": {
    "collapsed": false
   },
   "outputs": [],
   "source": [
    "# Fill in missing counties by mapping to city\n",
    "def county_name(city):\n",
    "    if city == \"TABOR\":\n",
    "        return \"Fremont\"\n",
    "    elif city == \"SEYMOUR\":\n",
    "        return \"Wayne\"\n",
    "    elif city == \"RUNNELLS\":\n",
    "        return \"Polk\"\n",
    "    else:\n",
    "        pass\n",
    "\n",
    "iowa['county_y'] = iowa['city'].apply(county_name)\n",
    "iowa['county_x'].fillna(iowa['county_y'], inplace=True)"
   ]
  },
  {
   "cell_type": "code",
   "execution_count": 73,
   "metadata": {
    "collapsed": false
   },
   "outputs": [
    {
     "data": {
      "text/plain": [
       "date                        0\n",
       "store                       0\n",
       "city                        0\n",
       "zip_code                  217\n",
       "county_x                    0\n",
       "category                   68\n",
       "category_name             632\n",
       "vendor_number               0\n",
       "item_description            0\n",
       "bottle_volume               0\n",
       "state_bottle_cost           0\n",
       "state_bottle_retail         0\n",
       "bottles_sold                0\n",
       "sales                       0\n",
       "volume_sold                 0\n",
       "year                        0\n",
       "quarter                     0\n",
       "month                       0\n",
       "county_y               270943\n",
       "dtype: int64"
      ]
     },
     "execution_count": 73,
     "metadata": {},
     "output_type": "execute_result"
    }
   ],
   "source": [
    "iowa.isnull().sum()"
   ]
  },
  {
   "cell_type": "markdown",
   "metadata": {},
   "source": [
    "### Drop Missing Values in \"category_name\""
   ]
  },
  {
   "cell_type": "code",
   "execution_count": 75,
   "metadata": {
    "collapsed": false
   },
   "outputs": [
    {
     "data": {
      "text/plain": [
       "0"
      ]
     },
     "execution_count": 75,
     "metadata": {},
     "output_type": "execute_result"
    }
   ],
   "source": [
    "# Find duplicates in category name\n",
    "df_category_name = pd.pivot_table(iowa,index = ['item_description','category_name'], \\\n",
    "                                  values = ['sales'], aggfunc = sum)\n",
    "df_category_name.reset_index(inplace = True)\n",
    "df_category_name.drop('sales', axis=1, inplace=True)\n",
    "df_category_name.duplicated().sum()\n",
    "# No duplicates"
   ]
  },
  {
   "cell_type": "code",
   "execution_count": 76,
   "metadata": {
    "collapsed": false
   },
   "outputs": [
    {
     "data": {
      "text/plain": [
       "68"
      ]
     },
     "execution_count": 76,
     "metadata": {},
     "output_type": "execute_result"
    }
   ],
   "source": [
    "iowa['category'].isnull().sum()"
   ]
  },
  {
   "cell_type": "code",
   "execution_count": 78,
   "metadata": {
    "collapsed": false
   },
   "outputs": [
    {
     "name": "stdout",
     "output_type": "stream",
     "text": [
      "0.0% of total rows is null\n",
      "These 632 rows will be dropped from analysis\n"
     ]
    },
    {
     "data": {
      "text/html": [
       "<div>\n",
       "<table border=\"1\" class=\"dataframe\">\n",
       "  <thead>\n",
       "    <tr style=\"text-align: right;\">\n",
       "      <th></th>\n",
       "      <th>category_name</th>\n",
       "    </tr>\n",
       "  </thead>\n",
       "  <tbody>\n",
       "    <tr>\n",
       "      <th>0</th>\n",
       "      <td>APRICOT BRANDIES</td>\n",
       "    </tr>\n",
       "    <tr>\n",
       "      <th>1</th>\n",
       "      <td>BLENDED WHISKIES</td>\n",
       "    </tr>\n",
       "    <tr>\n",
       "      <th>2</th>\n",
       "      <td>STRAIGHT BOURBON WHISKIES</td>\n",
       "    </tr>\n",
       "  </tbody>\n",
       "</table>\n",
       "</div>"
      ],
      "text/plain": [
       "               category_name\n",
       "0           APRICOT BRANDIES\n",
       "1           BLENDED WHISKIES\n",
       "2  STRAIGHT BOURBON WHISKIES"
      ]
     },
     "execution_count": 78,
     "metadata": {},
     "output_type": "execute_result"
    }
   ],
   "source": [
    "# Drop rows with NaN in \"category_name\" col as it is only 0.233% of total \n",
    "# Did not have the time (as I did for counties above) to go through the 632 NaN rows\n",
    "null_cat_percent = (iowa['category_name'].isnull().sum())/ \\\n",
    "                    float(len(iowa['category_name']))*100\n",
    "print str(round(null_cat_percent, 3)) + '% of total rows ' + 'is null'\n",
    "print 'These 632 rows will be dropped from analysis'\n",
    "\n",
    "iowa.dropna(subset=[['category_name']], inplace=True)\n",
    "iowa[['category_name']].head(3)"
   ]
  },
  {
   "cell_type": "code",
   "execution_count": 79,
   "metadata": {
    "collapsed": false
   },
   "outputs": [
    {
     "data": {
      "text/plain": [
       "date                        0\n",
       "store                       0\n",
       "city                        0\n",
       "zip_code                  216\n",
       "county_x                    0\n",
       "category                    0\n",
       "category_name               0\n",
       "vendor_number               0\n",
       "item_description            0\n",
       "bottle_volume               0\n",
       "state_bottle_cost           0\n",
       "state_bottle_retail         0\n",
       "bottles_sold                0\n",
       "sales                       0\n",
       "volume_sold                 0\n",
       "year                        0\n",
       "quarter                     0\n",
       "month                       0\n",
       "county_y               270311\n",
       "dtype: int64"
      ]
     },
     "execution_count": 79,
     "metadata": {},
     "output_type": "execute_result"
    }
   ],
   "source": [
    "iowa.isnull().sum()"
   ]
  },
  {
   "cell_type": "code",
   "execution_count": 80,
   "metadata": {
    "collapsed": false
   },
   "outputs": [],
   "source": [
    "# Drop county_y column and rename county_x as county\n",
    "iowa.drop('county_y', axis=1, inplace=True)\n",
    "iowa.rename(columns={'county_x':'county'}, inplace=True)"
   ]
  },
  {
   "cell_type": "code",
   "execution_count": 81,
   "metadata": {
    "collapsed": false
   },
   "outputs": [
    {
     "data": {
      "text/html": [
       "<div>\n",
       "<table border=\"1\" class=\"dataframe\">\n",
       "  <thead>\n",
       "    <tr style=\"text-align: right;\">\n",
       "      <th></th>\n",
       "      <th>date</th>\n",
       "      <th>store</th>\n",
       "      <th>city</th>\n",
       "      <th>zip_code</th>\n",
       "      <th>county</th>\n",
       "      <th>category</th>\n",
       "      <th>category_name</th>\n",
       "      <th>vendor_number</th>\n",
       "      <th>item_description</th>\n",
       "      <th>bottle_volume</th>\n",
       "      <th>state_bottle_cost</th>\n",
       "      <th>state_bottle_retail</th>\n",
       "      <th>bottles_sold</th>\n",
       "      <th>sales</th>\n",
       "      <th>volume_sold</th>\n",
       "      <th>year</th>\n",
       "      <th>quarter</th>\n",
       "      <th>month</th>\n",
       "    </tr>\n",
       "  </thead>\n",
       "  <tbody>\n",
       "    <tr>\n",
       "      <th>0</th>\n",
       "      <td>2015-11-04</td>\n",
       "      <td>3717</td>\n",
       "      <td>SUMNER</td>\n",
       "      <td>50674.0</td>\n",
       "      <td>Bremer</td>\n",
       "      <td>1051100.0</td>\n",
       "      <td>APRICOT BRANDIES</td>\n",
       "      <td>55</td>\n",
       "      <td>Mr. Boston Apricot Brandy</td>\n",
       "      <td>750</td>\n",
       "      <td>4.50</td>\n",
       "      <td>6.75</td>\n",
       "      <td>12</td>\n",
       "      <td>81.00</td>\n",
       "      <td>9.0</td>\n",
       "      <td>2015</td>\n",
       "      <td>Q4-2015</td>\n",
       "      <td>11-2015</td>\n",
       "    </tr>\n",
       "    <tr>\n",
       "      <th>1</th>\n",
       "      <td>2016-03-02</td>\n",
       "      <td>2614</td>\n",
       "      <td>DAVENPORT</td>\n",
       "      <td>52807.0</td>\n",
       "      <td>Scott</td>\n",
       "      <td>1011100.0</td>\n",
       "      <td>BLENDED WHISKIES</td>\n",
       "      <td>395</td>\n",
       "      <td>Tin Cup</td>\n",
       "      <td>750</td>\n",
       "      <td>13.75</td>\n",
       "      <td>20.63</td>\n",
       "      <td>2</td>\n",
       "      <td>41.26</td>\n",
       "      <td>1.5</td>\n",
       "      <td>2016</td>\n",
       "      <td>Q1-2016</td>\n",
       "      <td>03-2016</td>\n",
       "    </tr>\n",
       "    <tr>\n",
       "      <th>2</th>\n",
       "      <td>2016-02-11</td>\n",
       "      <td>2106</td>\n",
       "      <td>CEDAR FALLS</td>\n",
       "      <td>50613.0</td>\n",
       "      <td>Black Hawk</td>\n",
       "      <td>1011200.0</td>\n",
       "      <td>STRAIGHT BOURBON WHISKIES</td>\n",
       "      <td>65</td>\n",
       "      <td>Jim Beam</td>\n",
       "      <td>1000</td>\n",
       "      <td>12.59</td>\n",
       "      <td>18.89</td>\n",
       "      <td>24</td>\n",
       "      <td>453.36</td>\n",
       "      <td>24.0</td>\n",
       "      <td>2016</td>\n",
       "      <td>Q1-2016</td>\n",
       "      <td>02-2016</td>\n",
       "    </tr>\n",
       "  </tbody>\n",
       "</table>\n",
       "</div>"
      ],
      "text/plain": [
       "        date  store         city  zip_code      county   category  \\\n",
       "0 2015-11-04   3717       SUMNER   50674.0      Bremer  1051100.0   \n",
       "1 2016-03-02   2614    DAVENPORT   52807.0       Scott  1011100.0   \n",
       "2 2016-02-11   2106  CEDAR FALLS   50613.0  Black Hawk  1011200.0   \n",
       "\n",
       "               category_name  vendor_number           item_description  \\\n",
       "0           APRICOT BRANDIES             55  Mr. Boston Apricot Brandy   \n",
       "1           BLENDED WHISKIES            395                    Tin Cup   \n",
       "2  STRAIGHT BOURBON WHISKIES             65                   Jim Beam   \n",
       "\n",
       "   bottle_volume  state_bottle_cost  state_bottle_retail  bottles_sold  \\\n",
       "0            750               4.50                 6.75            12   \n",
       "1            750              13.75                20.63             2   \n",
       "2           1000              12.59                18.89            24   \n",
       "\n",
       "    sales  volume_sold  year  quarter    month  \n",
       "0   81.00          9.0  2015  Q4-2015  11-2015  \n",
       "1   41.26          1.5  2016  Q1-2016  03-2016  \n",
       "2  453.36         24.0  2016  Q1-2016  02-2016  "
      ]
     },
     "execution_count": 81,
     "metadata": {},
     "output_type": "execute_result"
    }
   ],
   "source": [
    "iowa.head(3)"
   ]
  },
  {
   "cell_type": "code",
   "execution_count": 82,
   "metadata": {
    "collapsed": false
   },
   "outputs": [
    {
     "name": "stdout",
     "output_type": "stream",
     "text": [
      "Sales growth Jan 16: 1.19%\n"
     ]
    }
   ],
   "source": [
    "january = iowa[iowa['month'] == '01-2015']\n",
    "january2 = iowa[iowa['month'] == '01-2016']\n",
    "y = sum(january['sales'])\n",
    "x = sum(january2['sales']) - sum(january['sales'])\n",
    "jan_growth = x/y*100\n",
    "print 'Sales growth Jan 16: ' + str(round(jan_growth,2)) + '%'\n"
   ]
  },
  {
   "cell_type": "markdown",
   "metadata": {},
   "source": [
    "### Create new columns with metrics"
   ]
  },
  {
   "cell_type": "code",
   "execution_count": 83,
   "metadata": {
    "collapsed": false
   },
   "outputs": [
    {
     "name": "stdout",
     "output_type": "stream",
     "text": [
      "2.71302980082e-11\n"
     ]
    }
   ],
   "source": [
    "# Just checking to make that that the 'sales' columns represents total revenue\n",
    "iowa['sales_check'] = iowa['state_bottle_retail'] * iowa['bottles_sold']\n",
    "print sum(iowa['sales_check']-iowa['sales'])\n",
    "iowa.drop('sales_check', axis=1, inplace=True)"
   ]
  },
  {
   "cell_type": "code",
   "execution_count": 84,
   "metadata": {
    "collapsed": false
   },
   "outputs": [],
   "source": [
    "# New metrics added to iowa\n",
    "iowa['profit'] = (iowa['state_bottle_retail'] - iowa['state_bottle_cost']) * iowa['bottles_sold']\n",
    "iowa['rev_per_ml'] = iowa['sales'] / iowa['volume_sold']\n",
    "iowa['price_per_ml'] = iowa['state_bottle_retail'] / iowa['volume_sold']\n",
    "iowa['margin_percent'] = iowa['profit'] / iowa['sales']\n",
    "iowa['profit_per_ml'] = iowa['profit'] / iowa['volume_sold']\n",
    "iowa['profit_%_per_ml'] = iowa['profit_per_ml'] / iowa['rev_per_ml']"
   ]
  },
  {
   "cell_type": "code",
   "execution_count": 85,
   "metadata": {
    "collapsed": false
   },
   "outputs": [
    {
     "name": "stdout",
     "output_type": "stream",
     "text": [
      "Iowa is a \"control state\", meaning the state has direct control over the wholesale alcohol market. The state dictates retail prices at a set margin of 33.3%.\n",
      "See Iowa Alcoholic Beverages Division for more info.\n"
     ]
    },
    {
     "data": {
      "text/html": [
       "<div>\n",
       "<table border=\"1\" class=\"dataframe\">\n",
       "  <thead>\n",
       "    <tr style=\"text-align: right;\">\n",
       "      <th></th>\n",
       "      <th>state_bottle_retail</th>\n",
       "      <th>bottles_sold</th>\n",
       "      <th>sales</th>\n",
       "      <th>volume_sold</th>\n",
       "      <th>year</th>\n",
       "      <th>quarter</th>\n",
       "      <th>month</th>\n",
       "      <th>profit</th>\n",
       "      <th>rev_per_ml</th>\n",
       "      <th>price_per_ml</th>\n",
       "      <th>margin_percent</th>\n",
       "      <th>profit_per_ml</th>\n",
       "      <th>profit_%_per_ml</th>\n",
       "    </tr>\n",
       "  </thead>\n",
       "  <tbody>\n",
       "    <tr>\n",
       "      <th>0</th>\n",
       "      <td>6.75</td>\n",
       "      <td>12</td>\n",
       "      <td>81.00</td>\n",
       "      <td>9.0</td>\n",
       "      <td>2015</td>\n",
       "      <td>Q4-2015</td>\n",
       "      <td>11-2015</td>\n",
       "      <td>27.00</td>\n",
       "      <td>9.000000</td>\n",
       "      <td>0.750000</td>\n",
       "      <td>0.333333</td>\n",
       "      <td>3.000000</td>\n",
       "      <td>0.333333</td>\n",
       "    </tr>\n",
       "    <tr>\n",
       "      <th>1</th>\n",
       "      <td>20.63</td>\n",
       "      <td>2</td>\n",
       "      <td>41.26</td>\n",
       "      <td>1.5</td>\n",
       "      <td>2016</td>\n",
       "      <td>Q1-2016</td>\n",
       "      <td>03-2016</td>\n",
       "      <td>13.76</td>\n",
       "      <td>27.506667</td>\n",
       "      <td>13.753333</td>\n",
       "      <td>0.333495</td>\n",
       "      <td>9.173333</td>\n",
       "      <td>0.333495</td>\n",
       "    </tr>\n",
       "    <tr>\n",
       "      <th>2</th>\n",
       "      <td>18.89</td>\n",
       "      <td>24</td>\n",
       "      <td>453.36</td>\n",
       "      <td>24.0</td>\n",
       "      <td>2016</td>\n",
       "      <td>Q1-2016</td>\n",
       "      <td>02-2016</td>\n",
       "      <td>151.20</td>\n",
       "      <td>18.890000</td>\n",
       "      <td>0.787083</td>\n",
       "      <td>0.333510</td>\n",
       "      <td>6.300000</td>\n",
       "      <td>0.333510</td>\n",
       "    </tr>\n",
       "  </tbody>\n",
       "</table>\n",
       "</div>"
      ],
      "text/plain": [
       "   state_bottle_retail  bottles_sold   sales  volume_sold  year  quarter  \\\n",
       "0                 6.75            12   81.00          9.0  2015  Q4-2015   \n",
       "1                20.63             2   41.26          1.5  2016  Q1-2016   \n",
       "2                18.89            24  453.36         24.0  2016  Q1-2016   \n",
       "\n",
       "     month  profit  rev_per_ml  price_per_ml  margin_percent  profit_per_ml  \\\n",
       "0  11-2015   27.00    9.000000      0.750000        0.333333       3.000000   \n",
       "1  03-2016   13.76   27.506667     13.753333        0.333495       9.173333   \n",
       "2  02-2016  151.20   18.890000      0.787083        0.333510       6.300000   \n",
       "\n",
       "   profit_%_per_ml  \n",
       "0         0.333333  \n",
       "1         0.333495  \n",
       "2         0.333510  "
      ]
     },
     "execution_count": 85,
     "metadata": {},
     "output_type": "execute_result"
    }
   ],
   "source": [
    "print 'Iowa is a \"control state\", meaning the state has direct control over the wholesale alcohol \\\n",
    "market. The state dictates retail prices at a set margin of 33.3%.'\n",
    "print 'See Iowa Alcoholic Beverages Division for more info.'\n",
    "iowa.iloc[:3,11:28]"
   ]
  },
  {
   "cell_type": "code",
   "execution_count": 86,
   "metadata": {
    "collapsed": false
   },
   "outputs": [
    {
     "data": {
      "text/html": [
       "<div>\n",
       "<table border=\"1\" class=\"dataframe\">\n",
       "  <thead>\n",
       "    <tr style=\"text-align: right;\">\n",
       "      <th></th>\n",
       "      <th>state_bottle_retail</th>\n",
       "      <th>bottles_sold</th>\n",
       "      <th>sales</th>\n",
       "      <th>volume_sold</th>\n",
       "      <th>year</th>\n",
       "      <th>quarter</th>\n",
       "      <th>month</th>\n",
       "      <th>profit</th>\n",
       "      <th>rev_per_ml</th>\n",
       "      <th>price_per_ml</th>\n",
       "      <th>profit_per_ml</th>\n",
       "      <th>profit_per_bottle</th>\n",
       "    </tr>\n",
       "  </thead>\n",
       "  <tbody>\n",
       "    <tr>\n",
       "      <th>0</th>\n",
       "      <td>6.75</td>\n",
       "      <td>12</td>\n",
       "      <td>81.00</td>\n",
       "      <td>9.0</td>\n",
       "      <td>2015</td>\n",
       "      <td>Q4-2015</td>\n",
       "      <td>11-2015</td>\n",
       "      <td>27.00</td>\n",
       "      <td>9.000000</td>\n",
       "      <td>0.750000</td>\n",
       "      <td>3.000000</td>\n",
       "      <td>2.25</td>\n",
       "    </tr>\n",
       "    <tr>\n",
       "      <th>1</th>\n",
       "      <td>20.63</td>\n",
       "      <td>2</td>\n",
       "      <td>41.26</td>\n",
       "      <td>1.5</td>\n",
       "      <td>2016</td>\n",
       "      <td>Q1-2016</td>\n",
       "      <td>03-2016</td>\n",
       "      <td>13.76</td>\n",
       "      <td>27.506667</td>\n",
       "      <td>13.753333</td>\n",
       "      <td>9.173333</td>\n",
       "      <td>6.88</td>\n",
       "    </tr>\n",
       "  </tbody>\n",
       "</table>\n",
       "</div>"
      ],
      "text/plain": [
       "   state_bottle_retail  bottles_sold  sales  volume_sold  year  quarter  \\\n",
       "0                 6.75            12  81.00          9.0  2015  Q4-2015   \n",
       "1                20.63             2  41.26          1.5  2016  Q1-2016   \n",
       "\n",
       "     month  profit  rev_per_ml  price_per_ml  profit_per_ml  profit_per_bottle  \n",
       "0  11-2015   27.00    9.000000      0.750000       3.000000               2.25  \n",
       "1  03-2016   13.76   27.506667     13.753333       9.173333               6.88  "
      ]
     },
     "execution_count": 86,
     "metadata": {},
     "output_type": "execute_result"
    }
   ],
   "source": [
    "# Drop margin % columns (they are constant and will not affect model)\n",
    "iowa.drop(['margin_percent', 'profit_%_per_ml'], inplace=True,axis=1)\n",
    "\n",
    "# Add margin per bottle as this is not a constant measure\n",
    "iowa['profit_per_bottle'] = iowa['state_bottle_retail'] - iowa['state_bottle_cost']\n",
    "iowa.iloc[:2,11:28]"
   ]
  },
  {
   "cell_type": "markdown",
   "metadata": {},
   "source": [
    "### Drop stores that were only partially open in 2015"
   ]
  },
  {
   "cell_type": "code",
   "execution_count": 87,
   "metadata": {
    "collapsed": false
   },
   "outputs": [
    {
     "data": {
      "text/html": [
       "<div>\n",
       "<table border=\"1\" class=\"dataframe\">\n",
       "  <thead>\n",
       "    <tr style=\"text-align: right;\">\n",
       "      <th></th>\n",
       "      <th>store</th>\n",
       "      <th>min</th>\n",
       "      <th>max</th>\n",
       "    </tr>\n",
       "  </thead>\n",
       "  <tbody>\n",
       "    <tr>\n",
       "      <th>1397</th>\n",
       "      <td>9013</td>\n",
       "      <td>2015-06-04</td>\n",
       "      <td>2016-03-09</td>\n",
       "    </tr>\n",
       "    <tr>\n",
       "      <th>1398</th>\n",
       "      <td>9018</td>\n",
       "      <td>2015-10-27</td>\n",
       "      <td>2015-10-27</td>\n",
       "    </tr>\n",
       "    <tr>\n",
       "      <th>1399</th>\n",
       "      <td>9023</td>\n",
       "      <td>2016-03-08</td>\n",
       "      <td>2016-03-08</td>\n",
       "    </tr>\n",
       "  </tbody>\n",
       "</table>\n",
       "</div>"
      ],
      "text/plain": [
       "      store        min        max\n",
       "1397   9013 2015-06-04 2016-03-09\n",
       "1398   9018 2015-10-27 2015-10-27\n",
       "1399   9023 2016-03-08 2016-03-08"
      ]
     },
     "execution_count": 87,
     "metadata": {},
     "output_type": "execute_result"
    }
   ],
   "source": [
    "# Check for stores that were not open for the full year or closed during the year\n",
    "dates_open = iowa.groupby([\"store\"])[\"date\"].agg([min, max])\n",
    "dates_open.reset_index(inplace=True)\n",
    "dates_open.tail(3)"
   ]
  },
  {
   "cell_type": "code",
   "execution_count": 88,
   "metadata": {
    "collapsed": false
   },
   "outputs": [],
   "source": [
    "def open_date(x):\n",
    "    if x > pd.to_datetime('2015-03-31'):\n",
    "        return 1\n",
    "    else:\n",
    "        return 0\n",
    "    \n",
    "def close_date(x):\n",
    "    if x <= pd.to_datetime('2015-12-31'):\n",
    "        return 1\n",
    "    else:\n",
    "        return 0\n",
    "    \n",
    "dates_open[\"closed\"] = dates_open[\"max\"].apply(close_date)\n",
    "dates_open[\"opened\"] = dates_open[\"min\"].apply(open_date)\n",
    "dates_open[\"partial_year\"] = dates_open[\"closed\"] + dates_open[\"opened\"]"
   ]
  },
  {
   "cell_type": "code",
   "execution_count": null,
   "metadata": {
    "collapsed": false
   },
   "outputs": [],
   "source": [
    "dates_open.tail(3)"
   ]
  },
  {
   "cell_type": "code",
   "execution_count": 89,
   "metadata": {
    "collapsed": false
   },
   "outputs": [
    {
     "name": "stdout",
     "output_type": "stream",
     "text": [
      "Number of stores not open for full year 2015: 217\n",
      "Total stores: 1400\n",
      "Total stores open all of 2015: 1183\n"
     ]
    }
   ],
   "source": [
    "# List of 217 stores not open full year in 2015\n",
    "partial_stores = list(dates_open[dates_open[\"partial_year\"]!=0][\"store\"].values)\n",
    "print 'Number of stores not open for full year 2015: ' + str(len(partial_stores))\n",
    "\n",
    "open_stores = list(dates_open[dates_open['partial_year'] == 0]['store'].values)\n",
    "print 'Total stores: '+ str(len(partial_stores) + len(open_stores))\n",
    "print 'Total stores open all of 2015: ' + str(len(open_stores))\n"
   ]
  },
  {
   "cell_type": "code",
   "execution_count": 90,
   "metadata": {
    "collapsed": false
   },
   "outputs": [
    {
     "name": "stdout",
     "output_type": "stream",
     "text": [
      "Only 3.73% of sales from stores partially open in 2015\n",
      "Sales from these 217 stores will be dropped from analysis\n"
     ]
    }
   ],
   "source": [
    "# Amount of revenue generated by stores only partially open in 2015\n",
    "partial_rev = sum(iowa[iowa['store'].isin(partial_stores)]['sales']) / sum(iowa['sales']) \n",
    "print 'Only ' + str(round(partial_rev*100,2)) + '% of sales from stores partially open in 2015'\n",
    "print 'Sales from these 217 stores will be dropped from analysis'"
   ]
  },
  {
   "cell_type": "markdown",
   "metadata": {},
   "source": [
    "## Create a new df with only stores open for full year 2015"
   ]
  },
  {
   "cell_type": "code",
   "execution_count": 91,
   "metadata": {
    "collapsed": false
   },
   "outputs": [],
   "source": [
    "# Create new df consisting only of stores open for full year 2015\n",
    "idf = iowa[iowa['store'].isin(open_stores)]"
   ]
  },
  {
   "cell_type": "markdown",
   "metadata": {},
   "source": [
    "## Create a new df summarizing 2015 data only"
   ]
  },
  {
   "cell_type": "code",
   "execution_count": 92,
   "metadata": {
    "collapsed": false
   },
   "outputs": [
    {
     "name": "stdout",
     "output_type": "stream",
     "text": [
      "1183\n"
     ]
    },
    {
     "data": {
      "text/html": [
       "<div>\n",
       "<table border=\"1\" class=\"dataframe\">\n",
       "  <thead>\n",
       "    <tr style=\"text-align: right;\">\n",
       "      <th></th>\n",
       "      <th>store</th>\n",
       "      <th>2015_total_rev</th>\n",
       "      <th>2015_bottles_sold</th>\n",
       "      <th>2015_vol_sold</th>\n",
       "    </tr>\n",
       "  </thead>\n",
       "  <tbody>\n",
       "    <tr>\n",
       "      <th>count</th>\n",
       "      <td>1183.000000</td>\n",
       "      <td>1183.000000</td>\n",
       "      <td>1183.000000</td>\n",
       "      <td>1183.000000</td>\n",
       "    </tr>\n",
       "    <tr>\n",
       "      <th>mean</th>\n",
       "      <td>4165.122570</td>\n",
       "      <td>23218.195748</td>\n",
       "      <td>1616.755680</td>\n",
       "      <td>1762.295013</td>\n",
       "    </tr>\n",
       "    <tr>\n",
       "      <th>std</th>\n",
       "      <td>812.526287</td>\n",
       "      <td>54099.137842</td>\n",
       "      <td>3421.465445</td>\n",
       "      <td>3427.349652</td>\n",
       "    </tr>\n",
       "    <tr>\n",
       "      <th>min</th>\n",
       "      <td>2106.000000</td>\n",
       "      <td>450.010000</td>\n",
       "      <td>21.630000</td>\n",
       "      <td>36.000000</td>\n",
       "    </tr>\n",
       "    <tr>\n",
       "      <th>25%</th>\n",
       "      <td>3805.500000</td>\n",
       "      <td>3897.355000</td>\n",
       "      <td>280.600000</td>\n",
       "      <td>365.500000</td>\n",
       "    </tr>\n",
       "    <tr>\n",
       "      <th>50%</th>\n",
       "      <td>4376.000000</td>\n",
       "      <td>8407.240000</td>\n",
       "      <td>630.280000</td>\n",
       "      <td>764.000000</td>\n",
       "    </tr>\n",
       "    <tr>\n",
       "      <th>75%</th>\n",
       "      <td>4740.500000</td>\n",
       "      <td>21844.450000</td>\n",
       "      <td>1593.975000</td>\n",
       "      <td>1848.000000</td>\n",
       "    </tr>\n",
       "    <tr>\n",
       "      <th>max</th>\n",
       "      <td>9010.000000</td>\n",
       "      <td>997924.420000</td>\n",
       "      <td>61831.750000</td>\n",
       "      <td>62827.000000</td>\n",
       "    </tr>\n",
       "  </tbody>\n",
       "</table>\n",
       "</div>"
      ],
      "text/plain": [
       "             store  2015_total_rev  2015_bottles_sold  2015_vol_sold\n",
       "count  1183.000000     1183.000000        1183.000000    1183.000000\n",
       "mean   4165.122570    23218.195748        1616.755680    1762.295013\n",
       "std     812.526287    54099.137842        3421.465445    3427.349652\n",
       "min    2106.000000      450.010000          21.630000      36.000000\n",
       "25%    3805.500000     3897.355000         280.600000     365.500000\n",
       "50%    4376.000000     8407.240000         630.280000     764.000000\n",
       "75%    4740.500000    21844.450000        1593.975000    1848.000000\n",
       "max    9010.000000   997924.420000       61831.750000   62827.000000"
      ]
     },
     "execution_count": 92,
     "metadata": {},
     "output_type": "execute_result"
    }
   ],
   "source": [
    "# Create a df summarizing total sales and revenues in 2015 at store-level\n",
    "sum_metrics = ['sales', 'volume_sold', 'bottles_sold']\n",
    "iowa_sum_2015 = idf[idf['year'] == 2015].groupby(['store'])[sum_metrics].agg(np.sum)\n",
    "iowa_sum_2015.columns = ['2015_total_rev','2015_bottles_sold', '2015_vol_sold']\n",
    "iowa_sum_2015.reset_index(inplace=True)\n",
    "print len(iowa_sum_2015)\n",
    "iowa_sum_2015.describe(include='all')"
   ]
  },
  {
   "cell_type": "code",
   "execution_count": 93,
   "metadata": {
    "collapsed": false
   },
   "outputs": [
    {
     "name": "stdout",
     "output_type": "stream",
     "text": [
      "1183\n"
     ]
    },
    {
     "data": {
      "text/html": [
       "<div>\n",
       "<table border=\"1\" class=\"dataframe\">\n",
       "  <thead>\n",
       "    <tr style=\"text-align: right;\">\n",
       "      <th></th>\n",
       "      <th>store</th>\n",
       "      <th>2015_avg_rev</th>\n",
       "      <th>2015_avg_bott_sold</th>\n",
       "      <th>2015_avg_vol</th>\n",
       "      <th>2015_avg_price_per_ml</th>\n",
       "      <th>2015_avg_profit_per_ml</th>\n",
       "      <th>2015_avg_profit_per_bottle</th>\n",
       "    </tr>\n",
       "  </thead>\n",
       "  <tbody>\n",
       "    <tr>\n",
       "      <th>count</th>\n",
       "      <td>1183.000000</td>\n",
       "      <td>1183.000000</td>\n",
       "      <td>1183.000000</td>\n",
       "      <td>1183.000000</td>\n",
       "      <td>1183.000000</td>\n",
       "      <td>1183.000000</td>\n",
       "      <td>1183.000000</td>\n",
       "    </tr>\n",
       "    <tr>\n",
       "      <th>mean</th>\n",
       "      <td>4165.122570</td>\n",
       "      <td>123.926313</td>\n",
       "      <td>10.560021</td>\n",
       "      <td>8.964779</td>\n",
       "      <td>4.714215</td>\n",
       "      <td>5.685850</td>\n",
       "      <td>4.564185</td>\n",
       "    </tr>\n",
       "    <tr>\n",
       "      <th>std</th>\n",
       "      <td>812.526287</td>\n",
       "      <td>117.577581</td>\n",
       "      <td>6.827043</td>\n",
       "      <td>7.096459</td>\n",
       "      <td>2.914395</td>\n",
       "      <td>1.249910</td>\n",
       "      <td>0.988594</td>\n",
       "    </tr>\n",
       "    <tr>\n",
       "      <th>min</th>\n",
       "      <td>2106.000000</td>\n",
       "      <td>24.757826</td>\n",
       "      <td>2.169600</td>\n",
       "      <td>1.692663</td>\n",
       "      <td>0.543021</td>\n",
       "      <td>3.173605</td>\n",
       "      <td>1.488667</td>\n",
       "    </tr>\n",
       "    <tr>\n",
       "      <th>25%</th>\n",
       "      <td>3805.500000</td>\n",
       "      <td>76.632554</td>\n",
       "      <td>6.782909</td>\n",
       "      <td>5.655741</td>\n",
       "      <td>2.198975</td>\n",
       "      <td>4.945446</td>\n",
       "      <td>3.935385</td>\n",
       "    </tr>\n",
       "    <tr>\n",
       "      <th>50%</th>\n",
       "      <td>4376.000000</td>\n",
       "      <td>106.078333</td>\n",
       "      <td>9.575000</td>\n",
       "      <td>7.821006</td>\n",
       "      <td>4.280716</td>\n",
       "      <td>5.537004</td>\n",
       "      <td>4.540980</td>\n",
       "    </tr>\n",
       "    <tr>\n",
       "      <th>75%</th>\n",
       "      <td>4740.500000</td>\n",
       "      <td>143.660356</td>\n",
       "      <td>12.392333</td>\n",
       "      <td>10.500000</td>\n",
       "      <td>6.397115</td>\n",
       "      <td>6.228304</td>\n",
       "      <td>5.098574</td>\n",
       "    </tr>\n",
       "    <tr>\n",
       "      <th>max</th>\n",
       "      <td>9010.000000</td>\n",
       "      <td>2061.811833</td>\n",
       "      <td>87.266667</td>\n",
       "      <td>108.200000</td>\n",
       "      <td>19.266372</td>\n",
       "      <td>27.428178</td>\n",
       "      <td>11.653750</td>\n",
       "    </tr>\n",
       "  </tbody>\n",
       "</table>\n",
       "</div>"
      ],
      "text/plain": [
       "             store  2015_avg_rev  2015_avg_bott_sold  2015_avg_vol  \\\n",
       "count  1183.000000   1183.000000         1183.000000   1183.000000   \n",
       "mean   4165.122570    123.926313           10.560021      8.964779   \n",
       "std     812.526287    117.577581            6.827043      7.096459   \n",
       "min    2106.000000     24.757826            2.169600      1.692663   \n",
       "25%    3805.500000     76.632554            6.782909      5.655741   \n",
       "50%    4376.000000    106.078333            9.575000      7.821006   \n",
       "75%    4740.500000    143.660356           12.392333     10.500000   \n",
       "max    9010.000000   2061.811833           87.266667    108.200000   \n",
       "\n",
       "       2015_avg_price_per_ml  2015_avg_profit_per_ml  \\\n",
       "count            1183.000000             1183.000000   \n",
       "mean                4.714215                5.685850   \n",
       "std                 2.914395                1.249910   \n",
       "min                 0.543021                3.173605   \n",
       "25%                 2.198975                4.945446   \n",
       "50%                 4.280716                5.537004   \n",
       "75%                 6.397115                6.228304   \n",
       "max                19.266372               27.428178   \n",
       "\n",
       "       2015_avg_profit_per_bottle  \n",
       "count                 1183.000000  \n",
       "mean                     4.564185  \n",
       "std                      0.988594  \n",
       "min                      1.488667  \n",
       "25%                      3.935385  \n",
       "50%                      4.540980  \n",
       "75%                      5.098574  \n",
       "max                     11.653750  "
      ]
     },
     "execution_count": 93,
     "metadata": {},
     "output_type": "execute_result"
    }
   ],
   "source": [
    "# Create a df summarizing mean metrics for 2015 at store-level\n",
    "mean_metrics = ['sales', 'bottles_sold', 'volume_sold', 'price_per_ml', 'profit_per_ml', 'profit_per_bottle']\n",
    "iowa_mean_2015 = idf[idf['year'] == 2015].groupby(['store'])[mean_metrics].agg(np.mean)\n",
    "iowa_mean_2015.columns = ['2015_avg_rev','2015_avg_bott_sold', '2015_avg_vol', '2015_avg_price_per_ml', \\\n",
    "                         '2015_avg_profit_per_ml', '2015_avg_profit_per_bottle']\n",
    "iowa_mean_2015.reset_index(inplace=True)\n",
    "print len(iowa_mean_2015)\n",
    "iowa_mean_2015.describe(include='all')"
   ]
  },
  {
   "cell_type": "code",
   "execution_count": 94,
   "metadata": {
    "collapsed": false
   },
   "outputs": [],
   "source": [
    "# Create a df showing all days with sales for each store\n",
    "idf_open = idf.loc[:,['store', 'date', 'year', 'quarter']]\n",
    "idf_open.drop_duplicates(['store', 'date'], inplace=True)\n",
    "idf.sort_values('store').head()\n",
    "\n",
    "days_open_15 = idf_open[idf_open['year'] == 2015].groupby(['store'])[['date']].agg(len)\n",
    "days_open_15.reset_index(inplace=True)\n",
    "days_open_15.columns = ['store', 'days_open_15']\n",
    "days_open_15['days_open_15'] = days_open_15['days_open_15'].astype(int)"
   ]
  },
  {
   "cell_type": "code",
   "execution_count": 95,
   "metadata": {
    "collapsed": false
   },
   "outputs": [
    {
     "data": {
      "text/html": [
       "<div>\n",
       "<table border=\"1\" class=\"dataframe\">\n",
       "  <thead>\n",
       "    <tr style=\"text-align: right;\">\n",
       "      <th></th>\n",
       "      <th>store</th>\n",
       "      <th>2015_total_rev</th>\n",
       "      <th>2015_bottles_sold</th>\n",
       "      <th>2015_vol_sold</th>\n",
       "      <th>2015_rev_per_day</th>\n",
       "      <th>2015_bott_per_day</th>\n",
       "      <th>2015_vol_per_day</th>\n",
       "    </tr>\n",
       "  </thead>\n",
       "  <tbody>\n",
       "    <tr>\n",
       "      <th>0</th>\n",
       "      <td>2106</td>\n",
       "      <td>146038.70</td>\n",
       "      <td>9719.85</td>\n",
       "      <td>10355</td>\n",
       "      <td>2808.436538</td>\n",
       "      <td>186.920192</td>\n",
       "      <td>199.134615</td>\n",
       "    </tr>\n",
       "    <tr>\n",
       "      <th>1</th>\n",
       "      <td>2113</td>\n",
       "      <td>9310.22</td>\n",
       "      <td>659.85</td>\n",
       "      <td>671</td>\n",
       "      <td>198.089787</td>\n",
       "      <td>14.039362</td>\n",
       "      <td>14.276596</td>\n",
       "    </tr>\n",
       "    <tr>\n",
       "      <th>2</th>\n",
       "      <td>2130</td>\n",
       "      <td>111583.91</td>\n",
       "      <td>6879.37</td>\n",
       "      <td>7418</td>\n",
       "      <td>2145.844423</td>\n",
       "      <td>132.295577</td>\n",
       "      <td>142.653846</td>\n",
       "    </tr>\n",
       "    <tr>\n",
       "      <th>3</th>\n",
       "      <td>2152</td>\n",
       "      <td>7721.08</td>\n",
       "      <td>633.37</td>\n",
       "      <td>573</td>\n",
       "      <td>157.573061</td>\n",
       "      <td>12.925918</td>\n",
       "      <td>11.693878</td>\n",
       "    </tr>\n",
       "    <tr>\n",
       "      <th>4</th>\n",
       "      <td>2178</td>\n",
       "      <td>24324.18</td>\n",
       "      <td>1917.12</td>\n",
       "      <td>1928</td>\n",
       "      <td>476.944706</td>\n",
       "      <td>37.590588</td>\n",
       "      <td>37.803922</td>\n",
       "    </tr>\n",
       "  </tbody>\n",
       "</table>\n",
       "</div>"
      ],
      "text/plain": [
       "   store  2015_total_rev  2015_bottles_sold  2015_vol_sold  2015_rev_per_day  \\\n",
       "0   2106       146038.70            9719.85          10355       2808.436538   \n",
       "1   2113         9310.22             659.85            671        198.089787   \n",
       "2   2130       111583.91            6879.37           7418       2145.844423   \n",
       "3   2152         7721.08             633.37            573        157.573061   \n",
       "4   2178        24324.18            1917.12           1928        476.944706   \n",
       "\n",
       "   2015_bott_per_day  2015_vol_per_day  \n",
       "0         186.920192        199.134615  \n",
       "1          14.039362         14.276596  \n",
       "2         132.295577        142.653846  \n",
       "3          12.925918         11.693878  \n",
       "4          37.590588         37.803922  "
      ]
     },
     "execution_count": 95,
     "metadata": {},
     "output_type": "execute_result"
    }
   ],
   "source": [
    "# Create daily metrics (rev_per_day and profit_per_day) with days_open data \n",
    "iowa_sum_2015['2015_rev_per_day'] = iowa_sum_2015['2015_total_rev'] / days_open_15['days_open_15']\n",
    "iowa_sum_2015['2015_bott_per_day'] = iowa_sum_2015['2015_bottles_sold'] / days_open_15['days_open_15']\n",
    "iowa_sum_2015['2015_vol_per_day'] = iowa_sum_2015['2015_vol_sold'] / days_open_15['days_open_15']\n",
    "iowa_sum_2015.head()"
   ]
  },
  {
   "cell_type": "code",
   "execution_count": 99,
   "metadata": {
    "collapsed": false
   },
   "outputs": [
    {
     "name": "stdout",
     "output_type": "stream",
     "text": [
      "1185\n",
      "Note: discrepancy between len(idf) and len(idf_2015) result of 2 stores each counted twice. No time to remove.\n"
     ]
    },
    {
     "data": {
      "text/html": [
       "<div>\n",
       "<table border=\"1\" class=\"dataframe\">\n",
       "  <thead>\n",
       "    <tr style=\"text-align: right;\">\n",
       "      <th></th>\n",
       "      <th>store</th>\n",
       "      <th>city</th>\n",
       "      <th>county</th>\n",
       "      <th>zip_code</th>\n",
       "      <th>days_open_15</th>\n",
       "      <th>2015_total_rev</th>\n",
       "      <th>2015_bottles_sold</th>\n",
       "      <th>2015_vol_sold</th>\n",
       "      <th>2015_rev_per_day</th>\n",
       "      <th>2015_bott_per_day</th>\n",
       "      <th>2015_vol_per_day</th>\n",
       "      <th>2015_avg_rev</th>\n",
       "      <th>2015_avg_bott_sold</th>\n",
       "      <th>2015_avg_vol</th>\n",
       "      <th>2015_avg_price_per_ml</th>\n",
       "      <th>2015_avg_profit_per_ml</th>\n",
       "      <th>2015_avg_profit_per_bottle</th>\n",
       "    </tr>\n",
       "  </thead>\n",
       "  <tbody>\n",
       "    <tr>\n",
       "      <th>0</th>\n",
       "      <td>3717</td>\n",
       "      <td>SUMNER</td>\n",
       "      <td>Bremer</td>\n",
       "      <td>50674.0</td>\n",
       "      <td>50</td>\n",
       "      <td>9022.86</td>\n",
       "      <td>685.53</td>\n",
       "      <td>632</td>\n",
       "      <td>180.457200</td>\n",
       "      <td>13.710600</td>\n",
       "      <td>12.640000</td>\n",
       "      <td>34.438397</td>\n",
       "      <td>2.412214</td>\n",
       "      <td>2.616527</td>\n",
       "      <td>10.623053</td>\n",
       "      <td>5.389800</td>\n",
       "      <td>5.103779</td>\n",
       "    </tr>\n",
       "    <tr>\n",
       "      <th>1</th>\n",
       "      <td>2614</td>\n",
       "      <td>DAVENPORT</td>\n",
       "      <td>Scott</td>\n",
       "      <td>52807.0</td>\n",
       "      <td>52</td>\n",
       "      <td>142675.29</td>\n",
       "      <td>9868.23</td>\n",
       "      <td>10051</td>\n",
       "      <td>2743.755577</td>\n",
       "      <td>189.773654</td>\n",
       "      <td>193.288462</td>\n",
       "      <td>138.385344</td>\n",
       "      <td>9.748788</td>\n",
       "      <td>9.571513</td>\n",
       "      <td>7.146836</td>\n",
       "      <td>6.427207</td>\n",
       "      <td>5.232396</td>\n",
       "    </tr>\n",
       "    <tr>\n",
       "      <th>2</th>\n",
       "      <td>2106</td>\n",
       "      <td>CEDAR FALLS</td>\n",
       "      <td>Black Hawk</td>\n",
       "      <td>50613.0</td>\n",
       "      <td>52</td>\n",
       "      <td>146038.70</td>\n",
       "      <td>9719.85</td>\n",
       "      <td>10355</td>\n",
       "      <td>2808.436538</td>\n",
       "      <td>186.920192</td>\n",
       "      <td>199.134615</td>\n",
       "      <td>277.640114</td>\n",
       "      <td>19.686312</td>\n",
       "      <td>18.478802</td>\n",
       "      <td>2.790379</td>\n",
       "      <td>5.957151</td>\n",
       "      <td>5.160951</td>\n",
       "    </tr>\n",
       "  </tbody>\n",
       "</table>\n",
       "</div>"
      ],
      "text/plain": [
       "   store         city      county  zip_code  days_open_15  2015_total_rev  \\\n",
       "0   3717       SUMNER      Bremer   50674.0            50         9022.86   \n",
       "1   2614    DAVENPORT       Scott   52807.0            52       142675.29   \n",
       "2   2106  CEDAR FALLS  Black Hawk   50613.0            52       146038.70   \n",
       "\n",
       "   2015_bottles_sold  2015_vol_sold  2015_rev_per_day  2015_bott_per_day  \\\n",
       "0             685.53            632        180.457200          13.710600   \n",
       "1            9868.23          10051       2743.755577         189.773654   \n",
       "2            9719.85          10355       2808.436538         186.920192   \n",
       "\n",
       "   2015_vol_per_day  2015_avg_rev  2015_avg_bott_sold  2015_avg_vol  \\\n",
       "0         12.640000     34.438397            2.412214      2.616527   \n",
       "1        193.288462    138.385344            9.748788      9.571513   \n",
       "2        199.134615    277.640114           19.686312     18.478802   \n",
       "\n",
       "   2015_avg_price_per_ml  2015_avg_profit_per_ml  2015_avg_profit_per_bottle  \n",
       "0              10.623053                5.389800                    5.103779  \n",
       "1               7.146836                6.427207                    5.232396  \n",
       "2               2.790379                5.957151                    5.160951  "
      ]
     },
     "execution_count": 99,
     "metadata": {},
     "output_type": "execute_result"
    }
   ],
   "source": [
    "# Create df of categorical variables only \n",
    "idf_category = idf.loc[:,['store', 'city', 'county', 'zip_code']].drop_duplicates()\n",
    "\n",
    "# Merge (left join) iowa_sum, iowa_mean and days_open_15 to create df of all stores for 2015 data \n",
    "idf_2015 = pd.merge(idf_category, days_open_15, how='left', on='store'). \\\n",
    "merge(iowa_sum_2015, how='left', on='store').merge(iowa_mean_2015, how='left', on='store')\n",
    "idf_2015.drop_duplicates(inplace=True)\n",
    "print len(idf_2015)\n",
    "print 'Note: discrepancy between len(idf) and len(idf_2015) result of 2 stores each counted twice. No time to remove.'\n",
    "idf_2015.head(3)"
   ]
  },
  {
   "cell_type": "code",
   "execution_count": 100,
   "metadata": {
    "collapsed": false
   },
   "outputs": [
    {
     "data": {
      "text/plain": [
       "0"
      ]
     },
     "execution_count": 100,
     "metadata": {},
     "output_type": "execute_result"
    }
   ],
   "source": [
    "idf_2015.duplicated().sum()"
   ]
  },
  {
   "cell_type": "markdown",
   "metadata": {},
   "source": [
    "## Create a new df summarzing Q1-2015 data only"
   ]
  },
  {
   "cell_type": "code",
   "execution_count": 101,
   "metadata": {
    "collapsed": false
   },
   "outputs": [
    {
     "name": "stdout",
     "output_type": "stream",
     "text": [
      "1183\n",
      "1183\n"
     ]
    }
   ],
   "source": [
    "# Create a df summarizing total sales and revenues in 2015 at store-level\n",
    "iowa_sum_2015Q1 = idf[idf['quarter'] == 'Q1-2015'].groupby(['store'])[sum_metrics].agg(np.sum)\n",
    "iowa_sum_2015Q1.columns = ['Q1-15_total_revenue','Q1-15_bott', 'Q1-15_vol']\n",
    "iowa_sum_2015Q1.reset_index(inplace=True)\n",
    "print len(iowa_sum_2015Q1)\n",
    "\n",
    "# Create a df summarizing mean metrics\n",
    "mean_metrics = ['sales', 'bottles_sold', 'volume_sold', 'price_per_ml', 'profit_per_ml', 'profit_per_bottle']\n",
    "iowa_mean_2015Q1 = idf[idf['quarter'] == 'Q1-2015'].groupby(['store'])[mean_metrics].agg(np.mean)\n",
    "iowa_mean_2015Q1.columns = ['Q1-15_avg_rev','Q1-15_avg_bott','Q1-15_avg_vol', 'Q1-15_avg_price_per_ml', \\\n",
    "                         'Q1-15_avg_profit_per_ml', 'Q1-15_avg_profit_per_bottle']\n",
    "iowa_mean_2015Q1.reset_index(inplace=True)\n",
    "print len(iowa_mean_2015Q1)\n",
    "\n",
    "# Create days_open df for Q1-2015\n",
    "days_open_15Q1 = idf_open[idf_open['quarter'] == 'Q1-2015'].groupby(['store'])[['date']].agg(len)\n",
    "days_open_15Q1.reset_index(inplace=True)\n",
    "days_open_15Q1.columns = ['store', 'days_open_15Q1']\n",
    "days_open_15Q1['days_open_15Q1'] = days_open_15Q1['days_open_15Q1'].astype(int)"
   ]
  },
  {
   "cell_type": "code",
   "execution_count": 102,
   "metadata": {
    "collapsed": false
   },
   "outputs": [
    {
     "data": {
      "text/html": [
       "<div>\n",
       "<table border=\"1\" class=\"dataframe\">\n",
       "  <thead>\n",
       "    <tr style=\"text-align: right;\">\n",
       "      <th></th>\n",
       "      <th>store</th>\n",
       "      <th>Q1-15_total_revenue</th>\n",
       "      <th>Q1-15_bott</th>\n",
       "      <th>Q1-15_vol</th>\n",
       "      <th>rev_per_day_15Q1</th>\n",
       "      <th>bott_per_day_15Q1</th>\n",
       "      <th>vol_per_day_15Q1</th>\n",
       "    </tr>\n",
       "  </thead>\n",
       "  <tbody>\n",
       "    <tr>\n",
       "      <th>0</th>\n",
       "      <td>2106</td>\n",
       "      <td>39287.29</td>\n",
       "      <td>2526.10</td>\n",
       "      <td>2705</td>\n",
       "      <td>3273.940833</td>\n",
       "      <td>210.508333</td>\n",
       "      <td>225.416667</td>\n",
       "    </tr>\n",
       "    <tr>\n",
       "      <th>1</th>\n",
       "      <td>2113</td>\n",
       "      <td>2833.25</td>\n",
       "      <td>177.11</td>\n",
       "      <td>196</td>\n",
       "      <td>257.568182</td>\n",
       "      <td>16.100909</td>\n",
       "      <td>17.818182</td>\n",
       "    </tr>\n",
       "    <tr>\n",
       "      <th>2</th>\n",
       "      <td>2130</td>\n",
       "      <td>24272.57</td>\n",
       "      <td>1447.25</td>\n",
       "      <td>1533</td>\n",
       "      <td>2022.714167</td>\n",
       "      <td>120.604167</td>\n",
       "      <td>127.750000</td>\n",
       "    </tr>\n",
       "    <tr>\n",
       "      <th>3</th>\n",
       "      <td>2152</td>\n",
       "      <td>2003.46</td>\n",
       "      <td>151.74</td>\n",
       "      <td>154</td>\n",
       "      <td>166.955000</td>\n",
       "      <td>12.645000</td>\n",
       "      <td>12.833333</td>\n",
       "    </tr>\n",
       "    <tr>\n",
       "      <th>4</th>\n",
       "      <td>2178</td>\n",
       "      <td>5856.41</td>\n",
       "      <td>409.81</td>\n",
       "      <td>490</td>\n",
       "      <td>488.034167</td>\n",
       "      <td>34.150833</td>\n",
       "      <td>40.833333</td>\n",
       "    </tr>\n",
       "  </tbody>\n",
       "</table>\n",
       "</div>"
      ],
      "text/plain": [
       "   store  Q1-15_total_revenue  Q1-15_bott  Q1-15_vol  rev_per_day_15Q1  \\\n",
       "0   2106             39287.29     2526.10       2705       3273.940833   \n",
       "1   2113              2833.25      177.11        196        257.568182   \n",
       "2   2130             24272.57     1447.25       1533       2022.714167   \n",
       "3   2152              2003.46      151.74        154        166.955000   \n",
       "4   2178              5856.41      409.81        490        488.034167   \n",
       "\n",
       "   bott_per_day_15Q1  vol_per_day_15Q1  \n",
       "0         210.508333        225.416667  \n",
       "1          16.100909         17.818182  \n",
       "2         120.604167        127.750000  \n",
       "3          12.645000         12.833333  \n",
       "4          34.150833         40.833333  "
      ]
     },
     "execution_count": 102,
     "metadata": {},
     "output_type": "execute_result"
    }
   ],
   "source": [
    "# Create daily metrics (rev_per_day and profit_per_day) with days_open data \n",
    "iowa_sum_2015Q1['rev_per_day_15Q1'] = iowa_sum_2015Q1['Q1-15_total_revenue'] / days_open_15Q1['days_open_15Q1']\n",
    "iowa_sum_2015Q1['bott_per_day_15Q1'] = iowa_sum_2015Q1['Q1-15_bott'] / days_open_15Q1['days_open_15Q1']\n",
    "iowa_sum_2015Q1['vol_per_day_15Q1'] = iowa_sum_2015Q1['Q1-15_vol'] / days_open_15Q1['days_open_15Q1']\n",
    "iowa_sum_2015Q1.head()"
   ]
  },
  {
   "cell_type": "code",
   "execution_count": 103,
   "metadata": {
    "collapsed": false
   },
   "outputs": [
    {
     "name": "stdout",
     "output_type": "stream",
     "text": [
      "1185\n",
      "Note: discrepancy between len(idf) and len(idf_2015) result of 2 stores each counted twice. No time to remove.\n"
     ]
    },
    {
     "data": {
      "text/html": [
       "<div>\n",
       "<table border=\"1\" class=\"dataframe\">\n",
       "  <thead>\n",
       "    <tr style=\"text-align: right;\">\n",
       "      <th></th>\n",
       "      <th>store</th>\n",
       "      <th>city</th>\n",
       "      <th>county</th>\n",
       "      <th>zip_code</th>\n",
       "      <th>days_open_15Q1</th>\n",
       "      <th>Q1-15_total_revenue</th>\n",
       "      <th>Q1-15_bott</th>\n",
       "      <th>Q1-15_vol</th>\n",
       "      <th>rev_per_day_15Q1</th>\n",
       "      <th>bott_per_day_15Q1</th>\n",
       "      <th>vol_per_day_15Q1</th>\n",
       "      <th>Q1-15_avg_rev</th>\n",
       "      <th>Q1-15_avg_bott</th>\n",
       "      <th>Q1-15_avg_vol</th>\n",
       "      <th>Q1-15_avg_price_per_ml</th>\n",
       "      <th>Q1-15_avg_profit_per_ml</th>\n",
       "      <th>Q1-15_avg_profit_per_bottle</th>\n",
       "    </tr>\n",
       "  </thead>\n",
       "  <tbody>\n",
       "    <tr>\n",
       "      <th>0</th>\n",
       "      <td>3717</td>\n",
       "      <td>SUMNER</td>\n",
       "      <td>Bremer</td>\n",
       "      <td>50674.0</td>\n",
       "      <td>11</td>\n",
       "      <td>1583.13</td>\n",
       "      <td>117.35</td>\n",
       "      <td>112</td>\n",
       "      <td>143.920909</td>\n",
       "      <td>10.668182</td>\n",
       "      <td>10.181818</td>\n",
       "      <td>35.980227</td>\n",
       "      <td>2.545455</td>\n",
       "      <td>2.667045</td>\n",
       "      <td>11.149558</td>\n",
       "      <td>5.540246</td>\n",
       "      <td>4.902955</td>\n",
       "    </tr>\n",
       "    <tr>\n",
       "      <th>1</th>\n",
       "      <td>2614</td>\n",
       "      <td>DAVENPORT</td>\n",
       "      <td>Scott</td>\n",
       "      <td>52807.0</td>\n",
       "      <td>12</td>\n",
       "      <td>32260.12</td>\n",
       "      <td>1978.11</td>\n",
       "      <td>2276</td>\n",
       "      <td>2688.343333</td>\n",
       "      <td>164.842500</td>\n",
       "      <td>189.666667</td>\n",
       "      <td>135.546723</td>\n",
       "      <td>9.563025</td>\n",
       "      <td>8.311387</td>\n",
       "      <td>5.584630</td>\n",
       "      <td>5.687667</td>\n",
       "      <td>4.805462</td>\n",
       "    </tr>\n",
       "    <tr>\n",
       "      <th>2</th>\n",
       "      <td>2106</td>\n",
       "      <td>CEDAR FALLS</td>\n",
       "      <td>Black Hawk</td>\n",
       "      <td>50613.0</td>\n",
       "      <td>12</td>\n",
       "      <td>39287.29</td>\n",
       "      <td>2526.10</td>\n",
       "      <td>2705</td>\n",
       "      <td>3273.940833</td>\n",
       "      <td>210.508333</td>\n",
       "      <td>225.416667</td>\n",
       "      <td>304.552636</td>\n",
       "      <td>20.968992</td>\n",
       "      <td>19.582171</td>\n",
       "      <td>3.432935</td>\n",
       "      <td>5.959059</td>\n",
       "      <td>5.033721</td>\n",
       "    </tr>\n",
       "  </tbody>\n",
       "</table>\n",
       "</div>"
      ],
      "text/plain": [
       "   store         city      county  zip_code  days_open_15Q1  \\\n",
       "0   3717       SUMNER      Bremer   50674.0              11   \n",
       "1   2614    DAVENPORT       Scott   52807.0              12   \n",
       "2   2106  CEDAR FALLS  Black Hawk   50613.0              12   \n",
       "\n",
       "   Q1-15_total_revenue  Q1-15_bott  Q1-15_vol  rev_per_day_15Q1  \\\n",
       "0              1583.13      117.35        112        143.920909   \n",
       "1             32260.12     1978.11       2276       2688.343333   \n",
       "2             39287.29     2526.10       2705       3273.940833   \n",
       "\n",
       "   bott_per_day_15Q1  vol_per_day_15Q1  Q1-15_avg_rev  Q1-15_avg_bott  \\\n",
       "0          10.668182         10.181818      35.980227        2.545455   \n",
       "1         164.842500        189.666667     135.546723        9.563025   \n",
       "2         210.508333        225.416667     304.552636       20.968992   \n",
       "\n",
       "   Q1-15_avg_vol  Q1-15_avg_price_per_ml  Q1-15_avg_profit_per_ml  \\\n",
       "0       2.667045               11.149558                 5.540246   \n",
       "1       8.311387                5.584630                 5.687667   \n",
       "2      19.582171                3.432935                 5.959059   \n",
       "\n",
       "   Q1-15_avg_profit_per_bottle  \n",
       "0                     4.902955  \n",
       "1                     4.805462  \n",
       "2                     5.033721  "
      ]
     },
     "execution_count": 103,
     "metadata": {},
     "output_type": "execute_result"
    }
   ],
   "source": [
    "# Merge (left join) iowa_sum, iowa_mean and days_open_15 to create df of all stores for 2015 data \n",
    "idf_2015Q1 = pd.merge(idf_category, days_open_15Q1, how='left', on='store')\n",
    "idf_2015Q1 = pd.merge(idf_2015Q1,iowa_sum_2015Q1, how='left', on='store'). \\\n",
    "merge(iowa_mean_2015Q1, how='left', on='store')\n",
    "\n",
    "print len(idf_2015Q1)\n",
    "print 'Note: discrepancy between len(idf) and len(idf_2015) result of 2 stores each counted twice. No time to remove.'\n",
    "idf_2015Q1.head(3)"
   ]
  },
  {
   "cell_type": "markdown",
   "metadata": {},
   "source": [
    "## Create a new df summarzing Q1-2016 data only"
   ]
  },
  {
   "cell_type": "code",
   "execution_count": 104,
   "metadata": {
    "collapsed": false
   },
   "outputs": [
    {
     "name": "stdout",
     "output_type": "stream",
     "text": [
      "1183\n",
      "1183\n"
     ]
    }
   ],
   "source": [
    "# Create a df summarizing total sales and revenues in 2016 at store-level\n",
    "iowa_sum_2016Q1 = idf[idf['quarter'] == 'Q1-2016'].groupby(['store'])[sum_metrics].agg(np.sum)\n",
    "iowa_sum_2016Q1.columns = ['Q1-16_total_revenue','Q1-16_bott', 'Q1-16_vol']\n",
    "iowa_sum_2016Q1.reset_index(inplace=True)\n",
    "print len(iowa_sum_2016Q1)\n",
    "\n",
    "# Create a df summarizing mean metrics\n",
    "mean_metrics = ['sales', 'profit', 'volume_sold', 'price_per_ml', 'profit_per_ml', 'profit_per_bottle']\n",
    "iowa_mean_2016Q1 = idf[idf['quarter'] == 'Q1-2016'].groupby(['store'])[mean_metrics].agg(np.mean)\n",
    "iowa_mean_2016Q1.columns = ['Q1-16_avg_rev','Q1-16_avg_bott', 'Q1-16_avg_vol', 'Q1-16_avg_price_per_ml', \\\n",
    "                         'Q1-16_avg_profit_per_ml', 'Q1-16_avg_profit_per_bottle']\n",
    "iowa_mean_2016Q1.reset_index(inplace=True)\n",
    "print len(iowa_mean_2016Q1)\n",
    "\n",
    "# Create days_open df for Q1-2016\n",
    "days_open_16Q1 = idf_open[idf_open['quarter'] == 'Q1-2016'].groupby(['store'])[['date']].agg(len)\n",
    "days_open_16Q1.reset_index(inplace=True)\n",
    "days_open_16Q1.columns = ['store', 'days_open_16Q1']\n",
    "days_open_16Q1['days_open_16Q1'] = days_open_16Q1['days_open_16Q1'].astype(int)"
   ]
  },
  {
   "cell_type": "code",
   "execution_count": 105,
   "metadata": {
    "collapsed": false
   },
   "outputs": [
    {
     "name": "stdout",
     "output_type": "stream",
     "text": [
      "1185\n",
      "Note: discrepancy between len(idf) and len(idf_2016) result of 2 stores each counted twice. No time to remove.\n"
     ]
    },
    {
     "data": {
      "text/html": [
       "<div>\n",
       "<table border=\"1\" class=\"dataframe\">\n",
       "  <thead>\n",
       "    <tr style=\"text-align: right;\">\n",
       "      <th></th>\n",
       "      <th>store</th>\n",
       "      <th>city</th>\n",
       "      <th>county</th>\n",
       "      <th>zip_code</th>\n",
       "      <th>days_open_16Q1</th>\n",
       "      <th>Q1-16_total_revenue</th>\n",
       "      <th>Q1-16_bott</th>\n",
       "      <th>Q1-16_vol</th>\n",
       "      <th>rev_per_day_16Q1</th>\n",
       "      <th>bott_per_day_16Q1</th>\n",
       "      <th>vol_per_day_16Q1</th>\n",
       "      <th>Q1-16_avg_rev</th>\n",
       "      <th>Q1-16_avg_bott</th>\n",
       "      <th>Q1-16_avg_vol</th>\n",
       "      <th>Q1-16_avg_price_per_ml</th>\n",
       "      <th>Q1-16_avg_profit_per_ml</th>\n",
       "      <th>Q1-16_avg_profit_per_bottle</th>\n",
       "    </tr>\n",
       "  </thead>\n",
       "  <tbody>\n",
       "    <tr>\n",
       "      <th>0</th>\n",
       "      <td>3717</td>\n",
       "      <td>SUMNER</td>\n",
       "      <td>Bremer</td>\n",
       "      <td>50674.0</td>\n",
       "      <td>13</td>\n",
       "      <td>2510.46</td>\n",
       "      <td>187.00</td>\n",
       "      <td>169</td>\n",
       "      <td>193.112308</td>\n",
       "      <td>14.384615</td>\n",
       "      <td>13.000000</td>\n",
       "      <td>34.867500</td>\n",
       "      <td>11.632917</td>\n",
       "      <td>2.597222</td>\n",
       "      <td>10.805656</td>\n",
       "      <td>5.511753</td>\n",
       "      <td>5.455972</td>\n",
       "    </tr>\n",
       "    <tr>\n",
       "      <th>1</th>\n",
       "      <td>2614</td>\n",
       "      <td>DAVENPORT</td>\n",
       "      <td>Scott</td>\n",
       "      <td>52807.0</td>\n",
       "      <td>13</td>\n",
       "      <td>36360.48</td>\n",
       "      <td>2955.61</td>\n",
       "      <td>2723</td>\n",
       "      <td>2796.960000</td>\n",
       "      <td>227.354615</td>\n",
       "      <td>209.461538</td>\n",
       "      <td>133.188571</td>\n",
       "      <td>44.436337</td>\n",
       "      <td>10.826410</td>\n",
       "      <td>7.705376</td>\n",
       "      <td>6.472363</td>\n",
       "      <td>5.056520</td>\n",
       "    </tr>\n",
       "    <tr>\n",
       "      <th>2</th>\n",
       "      <td>2106</td>\n",
       "      <td>CEDAR FALLS</td>\n",
       "      <td>Black Hawk</td>\n",
       "      <td>50613.0</td>\n",
       "      <td>13</td>\n",
       "      <td>30478.75</td>\n",
       "      <td>2116.25</td>\n",
       "      <td>2218</td>\n",
       "      <td>2344.519231</td>\n",
       "      <td>162.788462</td>\n",
       "      <td>170.615385</td>\n",
       "      <td>241.894841</td>\n",
       "      <td>80.751429</td>\n",
       "      <td>16.795635</td>\n",
       "      <td>3.686858</td>\n",
       "      <td>5.997147</td>\n",
       "      <td>5.196508</td>\n",
       "    </tr>\n",
       "  </tbody>\n",
       "</table>\n",
       "</div>"
      ],
      "text/plain": [
       "   store         city      county  zip_code  days_open_16Q1  \\\n",
       "0   3717       SUMNER      Bremer   50674.0              13   \n",
       "1   2614    DAVENPORT       Scott   52807.0              13   \n",
       "2   2106  CEDAR FALLS  Black Hawk   50613.0              13   \n",
       "\n",
       "   Q1-16_total_revenue  Q1-16_bott  Q1-16_vol  rev_per_day_16Q1  \\\n",
       "0              2510.46      187.00        169        193.112308   \n",
       "1             36360.48     2955.61       2723       2796.960000   \n",
       "2             30478.75     2116.25       2218       2344.519231   \n",
       "\n",
       "   bott_per_day_16Q1  vol_per_day_16Q1  Q1-16_avg_rev  Q1-16_avg_bott  \\\n",
       "0          14.384615         13.000000      34.867500       11.632917   \n",
       "1         227.354615        209.461538     133.188571       44.436337   \n",
       "2         162.788462        170.615385     241.894841       80.751429   \n",
       "\n",
       "   Q1-16_avg_vol  Q1-16_avg_price_per_ml  Q1-16_avg_profit_per_ml  \\\n",
       "0       2.597222               10.805656                 5.511753   \n",
       "1      10.826410                7.705376                 6.472363   \n",
       "2      16.795635                3.686858                 5.997147   \n",
       "\n",
       "   Q1-16_avg_profit_per_bottle  \n",
       "0                     5.455972  \n",
       "1                     5.056520  \n",
       "2                     5.196508  "
      ]
     },
     "execution_count": 105,
     "metadata": {},
     "output_type": "execute_result"
    }
   ],
   "source": [
    "# Create daily metrics (rev_per_day and profit_per_day) with days_open data \n",
    "iowa_sum_2016Q1['rev_per_day_16Q1'] = iowa_sum_2016Q1['Q1-16_total_revenue'] / days_open_16Q1['days_open_16Q1']\n",
    "iowa_sum_2016Q1['bott_per_day_16Q1'] = iowa_sum_2016Q1['Q1-16_bott'] / days_open_16Q1['days_open_16Q1']\n",
    "iowa_sum_2016Q1['vol_per_day_16Q1'] = iowa_sum_2016Q1['Q1-16_vol'] / days_open_16Q1['days_open_16Q1']\n",
    "\n",
    "# Merge (left join) iowa_sum, iowa_mean and days_open_15 to create df of all stores for 2016 data \n",
    "idf_2016Q1 = pd.merge(idf_category, days_open_16Q1, how='left', on='store')\n",
    "idf_2016Q1 = pd.merge(idf_2016Q1,iowa_sum_2016Q1, how='left', on='store'). \\\n",
    "merge(iowa_mean_2016Q1, how='left', on='store')\n",
    "\n",
    "idf_2016Q1.head(3)\n",
    "print len(idf_2016Q1)\n",
    "print 'Note: discrepancy between len(idf) and len(idf_2016) result of 2 stores each counted twice. No time to remove.'\n",
    "idf_2016Q1.head(3)"
   ]
  },
  {
   "cell_type": "code",
   "execution_count": 106,
   "metadata": {
    "collapsed": false
   },
   "outputs": [
    {
     "name": "stdout",
     "output_type": "stream",
     "text": [
      "(1185, 17)\n",
      "(1185, 17)\n",
      "(1185, 17)\n"
     ]
    }
   ],
   "source": [
    "# Make sure all three new dfs are shame shape\n",
    "print idf_2015.shape\n",
    "print idf_2015Q1.shape\n",
    "print idf_2016Q1.shape"
   ]
  },
  {
   "cell_type": "code",
   "execution_count": 107,
   "metadata": {
    "collapsed": true
   },
   "outputs": [],
   "source": [
    "###################################################\n",
    "a1 = idf_2015.copy()\n",
    "a2 = idf_2015Q1.copy()\n",
    "a3 = idf_2016Q1.copy()"
   ]
  },
  {
   "cell_type": "markdown",
   "metadata": {},
   "source": [
    "## Merge 2015, Q1-2015 and Q2-2015 dfs"
   ]
  },
  {
   "cell_type": "code",
   "execution_count": 108,
   "metadata": {
    "collapsed": false
   },
   "outputs": [],
   "source": [
    "stores_df = idf_2015.merge(idf_2015Q1, on=['store', 'county', 'city', 'zip_code'], how ='left')\\\n",
    ".merge(idf_2016Q1, on= ['store', 'county', 'city', 'zip_code'], how =\"left\")"
   ]
  },
  {
   "cell_type": "code",
   "execution_count": 109,
   "metadata": {
    "collapsed": false
   },
   "outputs": [
    {
     "name": "stdout",
     "output_type": "stream",
     "text": [
      "(1185, 43)\n",
      "                              0\n",
      "0                         store\n",
      "1                          city\n",
      "2                        county\n",
      "3                      zip_code\n",
      "4                  days_open_15\n",
      "5                2015_total_rev\n",
      "6             2015_bottles_sold\n",
      "7                 2015_vol_sold\n",
      "8              2015_rev_per_day\n",
      "9             2015_bott_per_day\n",
      "10             2015_vol_per_day\n",
      "11                 2015_avg_rev\n",
      "12           2015_avg_bott_sold\n",
      "13                 2015_avg_vol\n",
      "14        2015_avg_price_per_ml\n",
      "15       2015_avg_profit_per_ml\n",
      "16   2015_avg_profit_per_bottle\n",
      "17               days_open_15Q1\n",
      "18          Q1-15_total_revenue\n",
      "19                   Q1-15_bott\n",
      "20                    Q1-15_vol\n",
      "21             rev_per_day_15Q1\n",
      "22            bott_per_day_15Q1\n",
      "23             vol_per_day_15Q1\n",
      "24                Q1-15_avg_rev\n",
      "25               Q1-15_avg_bott\n",
      "26                Q1-15_avg_vol\n",
      "27       Q1-15_avg_price_per_ml\n",
      "28      Q1-15_avg_profit_per_ml\n",
      "29  Q1-15_avg_profit_per_bottle\n",
      "30               days_open_16Q1\n",
      "31          Q1-16_total_revenue\n",
      "32                   Q1-16_bott\n",
      "33                    Q1-16_vol\n",
      "34             rev_per_day_16Q1\n",
      "35            bott_per_day_16Q1\n",
      "36             vol_per_day_16Q1\n",
      "37                Q1-16_avg_rev\n",
      "38               Q1-16_avg_bott\n",
      "39                Q1-16_avg_vol\n",
      "40       Q1-16_avg_price_per_ml\n",
      "41      Q1-16_avg_profit_per_ml\n",
      "42  Q1-16_avg_profit_per_bottle\n"
     ]
    },
    {
     "data": {
      "text/html": [
       "<div>\n",
       "<table border=\"1\" class=\"dataframe\">\n",
       "  <thead>\n",
       "    <tr style=\"text-align: right;\">\n",
       "      <th></th>\n",
       "      <th>store</th>\n",
       "      <th>city</th>\n",
       "      <th>county</th>\n",
       "      <th>zip_code</th>\n",
       "      <th>days_open_15</th>\n",
       "      <th>2015_total_rev</th>\n",
       "      <th>2015_bottles_sold</th>\n",
       "      <th>2015_vol_sold</th>\n",
       "      <th>2015_rev_per_day</th>\n",
       "      <th>2015_bott_per_day</th>\n",
       "      <th>...</th>\n",
       "      <th>Q1-16_vol</th>\n",
       "      <th>rev_per_day_16Q1</th>\n",
       "      <th>bott_per_day_16Q1</th>\n",
       "      <th>vol_per_day_16Q1</th>\n",
       "      <th>Q1-16_avg_rev</th>\n",
       "      <th>Q1-16_avg_bott</th>\n",
       "      <th>Q1-16_avg_vol</th>\n",
       "      <th>Q1-16_avg_price_per_ml</th>\n",
       "      <th>Q1-16_avg_profit_per_ml</th>\n",
       "      <th>Q1-16_avg_profit_per_bottle</th>\n",
       "    </tr>\n",
       "  </thead>\n",
       "  <tbody>\n",
       "    <tr>\n",
       "      <th>0</th>\n",
       "      <td>3717</td>\n",
       "      <td>SUMNER</td>\n",
       "      <td>Bremer</td>\n",
       "      <td>50674.0</td>\n",
       "      <td>50</td>\n",
       "      <td>9022.86</td>\n",
       "      <td>685.53</td>\n",
       "      <td>632</td>\n",
       "      <td>180.457200</td>\n",
       "      <td>13.710600</td>\n",
       "      <td>...</td>\n",
       "      <td>169</td>\n",
       "      <td>193.112308</td>\n",
       "      <td>14.384615</td>\n",
       "      <td>13.000000</td>\n",
       "      <td>34.867500</td>\n",
       "      <td>11.632917</td>\n",
       "      <td>2.597222</td>\n",
       "      <td>10.805656</td>\n",
       "      <td>5.511753</td>\n",
       "      <td>5.455972</td>\n",
       "    </tr>\n",
       "    <tr>\n",
       "      <th>1</th>\n",
       "      <td>2614</td>\n",
       "      <td>DAVENPORT</td>\n",
       "      <td>Scott</td>\n",
       "      <td>52807.0</td>\n",
       "      <td>52</td>\n",
       "      <td>142675.29</td>\n",
       "      <td>9868.23</td>\n",
       "      <td>10051</td>\n",
       "      <td>2743.755577</td>\n",
       "      <td>189.773654</td>\n",
       "      <td>...</td>\n",
       "      <td>2723</td>\n",
       "      <td>2796.960000</td>\n",
       "      <td>227.354615</td>\n",
       "      <td>209.461538</td>\n",
       "      <td>133.188571</td>\n",
       "      <td>44.436337</td>\n",
       "      <td>10.826410</td>\n",
       "      <td>7.705376</td>\n",
       "      <td>6.472363</td>\n",
       "      <td>5.056520</td>\n",
       "    </tr>\n",
       "    <tr>\n",
       "      <th>2</th>\n",
       "      <td>2106</td>\n",
       "      <td>CEDAR FALLS</td>\n",
       "      <td>Black Hawk</td>\n",
       "      <td>50613.0</td>\n",
       "      <td>52</td>\n",
       "      <td>146038.70</td>\n",
       "      <td>9719.85</td>\n",
       "      <td>10355</td>\n",
       "      <td>2808.436538</td>\n",
       "      <td>186.920192</td>\n",
       "      <td>...</td>\n",
       "      <td>2218</td>\n",
       "      <td>2344.519231</td>\n",
       "      <td>162.788462</td>\n",
       "      <td>170.615385</td>\n",
       "      <td>241.894841</td>\n",
       "      <td>80.751429</td>\n",
       "      <td>16.795635</td>\n",
       "      <td>3.686858</td>\n",
       "      <td>5.997147</td>\n",
       "      <td>5.196508</td>\n",
       "    </tr>\n",
       "  </tbody>\n",
       "</table>\n",
       "<p>3 rows × 43 columns</p>\n",
       "</div>"
      ],
      "text/plain": [
       "   store         city      county  zip_code  days_open_15  2015_total_rev  \\\n",
       "0   3717       SUMNER      Bremer   50674.0            50         9022.86   \n",
       "1   2614    DAVENPORT       Scott   52807.0            52       142675.29   \n",
       "2   2106  CEDAR FALLS  Black Hawk   50613.0            52       146038.70   \n",
       "\n",
       "   2015_bottles_sold  2015_vol_sold  2015_rev_per_day  2015_bott_per_day  \\\n",
       "0             685.53            632        180.457200          13.710600   \n",
       "1            9868.23          10051       2743.755577         189.773654   \n",
       "2            9719.85          10355       2808.436538         186.920192   \n",
       "\n",
       "              ...               Q1-16_vol  rev_per_day_16Q1  \\\n",
       "0             ...                     169        193.112308   \n",
       "1             ...                    2723       2796.960000   \n",
       "2             ...                    2218       2344.519231   \n",
       "\n",
       "   bott_per_day_16Q1  vol_per_day_16Q1  Q1-16_avg_rev  Q1-16_avg_bott  \\\n",
       "0          14.384615         13.000000      34.867500       11.632917   \n",
       "1         227.354615        209.461538     133.188571       44.436337   \n",
       "2         162.788462        170.615385     241.894841       80.751429   \n",
       "\n",
       "   Q1-16_avg_vol  Q1-16_avg_price_per_ml  Q1-16_avg_profit_per_ml  \\\n",
       "0       2.597222               10.805656                 5.511753   \n",
       "1      10.826410                7.705376                 6.472363   \n",
       "2      16.795635                3.686858                 5.997147   \n",
       "\n",
       "   Q1-16_avg_profit_per_bottle  \n",
       "0                     5.455972  \n",
       "1                     5.056520  \n",
       "2                     5.196508  \n",
       "\n",
       "[3 rows x 43 columns]"
      ]
     },
     "execution_count": 109,
     "metadata": {},
     "output_type": "execute_result"
    }
   ],
   "source": [
    "print stores_df.shape\n",
    "print pd.DataFrame(stores_df.columns)\n",
    "stores_df.head(3)"
   ]
  },
  {
   "cell_type": "code",
   "execution_count": 115,
   "metadata": {
    "collapsed": false
   },
   "outputs": [
    {
     "data": {
      "text/html": [
       "<div>\n",
       "<table border=\"1\" class=\"dataframe\">\n",
       "  <thead>\n",
       "    <tr style=\"text-align: right;\">\n",
       "      <th></th>\n",
       "      <th>store</th>\n",
       "      <th>city</th>\n",
       "      <th>county</th>\n",
       "      <th>zip_code</th>\n",
       "      <th>days_open_15</th>\n",
       "      <th>2015_total_rev</th>\n",
       "      <th>2015_bottles_sold</th>\n",
       "      <th>2015_vol_sold</th>\n",
       "      <th>2015_rev_per_day</th>\n",
       "      <th>2015_bott_per_day</th>\n",
       "      <th>...</th>\n",
       "      <th>vol_per_day_16Q1</th>\n",
       "      <th>Q1-16_avg_rev</th>\n",
       "      <th>Q1-16_avg_bott</th>\n",
       "      <th>Q1-16_avg_vol</th>\n",
       "      <th>Q1-16_avg_price_per_ml</th>\n",
       "      <th>Q1-16_avg_profit_per_ml</th>\n",
       "      <th>Q1-16_avg_profit_per_bottle</th>\n",
       "      <th>2015-Q2-Q4_rev</th>\n",
       "      <th>2015-Q2-Q4_bott</th>\n",
       "      <th>2015-Q2-Q4_vol</th>\n",
       "    </tr>\n",
       "  </thead>\n",
       "  <tbody>\n",
       "    <tr>\n",
       "      <th>0</th>\n",
       "      <td>3717</td>\n",
       "      <td>SUMNER</td>\n",
       "      <td>Bremer</td>\n",
       "      <td>50674.0</td>\n",
       "      <td>50</td>\n",
       "      <td>9022.86</td>\n",
       "      <td>685.53</td>\n",
       "      <td>632</td>\n",
       "      <td>180.457200</td>\n",
       "      <td>13.710600</td>\n",
       "      <td>...</td>\n",
       "      <td>13.000000</td>\n",
       "      <td>34.867500</td>\n",
       "      <td>11.632917</td>\n",
       "      <td>2.597222</td>\n",
       "      <td>10.805656</td>\n",
       "      <td>5.511753</td>\n",
       "      <td>5.455972</td>\n",
       "      <td>7439.73</td>\n",
       "      <td>568.18</td>\n",
       "      <td>520</td>\n",
       "    </tr>\n",
       "    <tr>\n",
       "      <th>1</th>\n",
       "      <td>2614</td>\n",
       "      <td>DAVENPORT</td>\n",
       "      <td>Scott</td>\n",
       "      <td>52807.0</td>\n",
       "      <td>52</td>\n",
       "      <td>142675.29</td>\n",
       "      <td>9868.23</td>\n",
       "      <td>10051</td>\n",
       "      <td>2743.755577</td>\n",
       "      <td>189.773654</td>\n",
       "      <td>...</td>\n",
       "      <td>209.461538</td>\n",
       "      <td>133.188571</td>\n",
       "      <td>44.436337</td>\n",
       "      <td>10.826410</td>\n",
       "      <td>7.705376</td>\n",
       "      <td>6.472363</td>\n",
       "      <td>5.056520</td>\n",
       "      <td>110415.17</td>\n",
       "      <td>7890.12</td>\n",
       "      <td>7775</td>\n",
       "    </tr>\n",
       "    <tr>\n",
       "      <th>2</th>\n",
       "      <td>2106</td>\n",
       "      <td>CEDAR FALLS</td>\n",
       "      <td>Black Hawk</td>\n",
       "      <td>50613.0</td>\n",
       "      <td>52</td>\n",
       "      <td>146038.70</td>\n",
       "      <td>9719.85</td>\n",
       "      <td>10355</td>\n",
       "      <td>2808.436538</td>\n",
       "      <td>186.920192</td>\n",
       "      <td>...</td>\n",
       "      <td>170.615385</td>\n",
       "      <td>241.894841</td>\n",
       "      <td>80.751429</td>\n",
       "      <td>16.795635</td>\n",
       "      <td>3.686858</td>\n",
       "      <td>5.997147</td>\n",
       "      <td>5.196508</td>\n",
       "      <td>106751.41</td>\n",
       "      <td>7193.75</td>\n",
       "      <td>7650</td>\n",
       "    </tr>\n",
       "  </tbody>\n",
       "</table>\n",
       "<p>3 rows × 46 columns</p>\n",
       "</div>"
      ],
      "text/plain": [
       "   store         city      county  zip_code  days_open_15  2015_total_rev  \\\n",
       "0   3717       SUMNER      Bremer   50674.0            50         9022.86   \n",
       "1   2614    DAVENPORT       Scott   52807.0            52       142675.29   \n",
       "2   2106  CEDAR FALLS  Black Hawk   50613.0            52       146038.70   \n",
       "\n",
       "   2015_bottles_sold  2015_vol_sold  2015_rev_per_day  2015_bott_per_day  \\\n",
       "0             685.53            632        180.457200          13.710600   \n",
       "1            9868.23          10051       2743.755577         189.773654   \n",
       "2            9719.85          10355       2808.436538         186.920192   \n",
       "\n",
       "        ...        vol_per_day_16Q1  Q1-16_avg_rev  Q1-16_avg_bott  \\\n",
       "0       ...               13.000000      34.867500       11.632917   \n",
       "1       ...              209.461538     133.188571       44.436337   \n",
       "2       ...              170.615385     241.894841       80.751429   \n",
       "\n",
       "   Q1-16_avg_vol  Q1-16_avg_price_per_ml  Q1-16_avg_profit_per_ml  \\\n",
       "0       2.597222               10.805656                 5.511753   \n",
       "1      10.826410                7.705376                 6.472363   \n",
       "2      16.795635                3.686858                 5.997147   \n",
       "\n",
       "   Q1-16_avg_profit_per_bottle  2015-Q2-Q4_rev  2015-Q2-Q4_bott  \\\n",
       "0                     5.455972         7439.73           568.18   \n",
       "1                     5.056520       110415.17          7890.12   \n",
       "2                     5.196508       106751.41          7193.75   \n",
       "\n",
       "   2015-Q2-Q4_vol  \n",
       "0             520  \n",
       "1            7775  \n",
       "2            7650  \n",
       "\n",
       "[3 rows x 46 columns]"
      ]
     },
     "execution_count": 115,
     "metadata": {},
     "output_type": "execute_result"
    }
   ],
   "source": [
    "# Create new column for sales and profit for Q2-Q4 2015\n",
    "\n",
    "stores_df['2015-Q2-Q4_rev'] = stores_df['2015_total_rev'] - stores_df['Q1-15_total_revenue']\n",
    "stores_df['2015-Q2-Q4_bott'] = stores_df['2015_bottles_sold'] - stores_df['Q1-15_bott']\n",
    "stores_df['2015-Q2-Q4_vol'] = stores_df['2015_vol_sold'] - stores_df['Q1-15_vol']\n",
    "stores_df.head(3)"
   ]
  },
  {
   "cell_type": "markdown",
   "metadata": {},
   "source": [
    "## Data Exploration"
   ]
  },
  {
   "cell_type": "code",
   "execution_count": 116,
   "metadata": {
    "collapsed": false
   },
   "outputs": [
    {
     "data": {
      "text/plain": [
       "Index([u'store', u'city', u'county', u'zip_code', u'days_open_15',\n",
       "       u'2015_total_rev', u'2015_bottles_sold', u'2015_vol_sold',\n",
       "       u'2015_rev_per_day', u'2015_bott_per_day', u'2015_vol_per_day',\n",
       "       u'2015_avg_rev', u'2015_avg_bott_sold', u'2015_avg_vol',\n",
       "       u'2015_avg_price_per_ml', u'2015_avg_profit_per_ml',\n",
       "       u'2015_avg_profit_per_bottle', u'days_open_15Q1',\n",
       "       u'Q1-15_total_revenue', u'Q1-15_bott', u'Q1-15_vol',\n",
       "       u'rev_per_day_15Q1', u'bott_per_day_15Q1', u'vol_per_day_15Q1',\n",
       "       u'Q1-15_avg_rev', u'Q1-15_avg_bott', u'Q1-15_avg_vol',\n",
       "       u'Q1-15_avg_price_per_ml', u'Q1-15_avg_profit_per_ml',\n",
       "       u'Q1-15_avg_profit_per_bottle', u'days_open_16Q1',\n",
       "       u'Q1-16_total_revenue', u'Q1-16_bott', u'Q1-16_vol',\n",
       "       u'rev_per_day_16Q1', u'bott_per_day_16Q1', u'vol_per_day_16Q1',\n",
       "       u'Q1-16_avg_rev', u'Q1-16_avg_bott', u'Q1-16_avg_vol',\n",
       "       u'Q1-16_avg_price_per_ml', u'Q1-16_avg_profit_per_ml',\n",
       "       u'Q1-16_avg_profit_per_bottle', u'2015-Q2-Q4_rev', u'2015-Q2-Q4_bott',\n",
       "       u'2015-Q2-Q4_vol'],\n",
       "      dtype='object')"
      ]
     },
     "execution_count": 116,
     "metadata": {},
     "output_type": "execute_result"
    }
   ],
   "source": [
    "stores_df.columns"
   ]
  },
  {
   "cell_type": "code",
   "execution_count": 117,
   "metadata": {
    "collapsed": true
   },
   "outputs": [],
   "source": [
    "metrics_2015Q1 = ['days_open_15Q1',\n",
    "       'Q1-15_total_revenue', 'Q1-15_bott', 'Q1-15_vol', 'rev_per_day_15Q1',\n",
    "       'bott_per_day_15Q1', 'vol_per_day_15Q1', 'Q1-15_avg_rev', 'Q1-15_avg_bott',\n",
    "       'Q1-15_avg_vol', 'Q1-15_avg_price_per_ml', 'Q1-15_avg_profit_per_ml',\n",
    "       'Q1-15_avg_profit_per_bottle']"
   ]
  },
  {
   "cell_type": "code",
   "execution_count": 118,
   "metadata": {
    "collapsed": false
   },
   "outputs": [
    {
     "data": {
      "text/html": [
       "<div>\n",
       "<table border=\"1\" class=\"dataframe\">\n",
       "  <thead>\n",
       "    <tr style=\"text-align: right;\">\n",
       "      <th></th>\n",
       "      <th>days_open_15Q1</th>\n",
       "      <th>Q1-15_total_revenue</th>\n",
       "      <th>Q1-15_bott</th>\n",
       "      <th>Q1-15_vol</th>\n",
       "      <th>rev_per_day_15Q1</th>\n",
       "      <th>bott_per_day_15Q1</th>\n",
       "      <th>vol_per_day_15Q1</th>\n",
       "      <th>Q1-15_avg_rev</th>\n",
       "      <th>Q1-15_avg_bott</th>\n",
       "      <th>Q1-15_avg_vol</th>\n",
       "      <th>Q1-15_avg_price_per_ml</th>\n",
       "      <th>Q1-15_avg_profit_per_ml</th>\n",
       "      <th>Q1-15_avg_profit_per_bottle</th>\n",
       "    </tr>\n",
       "  </thead>\n",
       "  <tbody>\n",
       "    <tr>\n",
       "      <th>days_open_15Q1</th>\n",
       "      <td>1.000000</td>\n",
       "      <td>0.551125</td>\n",
       "      <td>0.564332</td>\n",
       "      <td>0.588737</td>\n",
       "      <td>0.390086</td>\n",
       "      <td>0.403153</td>\n",
       "      <td>0.395309</td>\n",
       "      <td>0.042034</td>\n",
       "      <td>-0.073099</td>\n",
       "      <td>0.046919</td>\n",
       "      <td>0.256643</td>\n",
       "      <td>0.025956</td>\n",
       "      <td>0.206651</td>\n",
       "    </tr>\n",
       "    <tr>\n",
       "      <th>Q1-15_total_revenue</th>\n",
       "      <td>0.551125</td>\n",
       "      <td>1.000000</td>\n",
       "      <td>0.986673</td>\n",
       "      <td>0.986000</td>\n",
       "      <td>0.850546</td>\n",
       "      <td>0.826354</td>\n",
       "      <td>0.827970</td>\n",
       "      <td>0.426378</td>\n",
       "      <td>0.328493</td>\n",
       "      <td>0.393824</td>\n",
       "      <td>0.039547</td>\n",
       "      <td>0.110101</td>\n",
       "      <td>0.222833</td>\n",
       "    </tr>\n",
       "    <tr>\n",
       "      <th>Q1-15_bott</th>\n",
       "      <td>0.564332</td>\n",
       "      <td>0.986673</td>\n",
       "      <td>1.000000</td>\n",
       "      <td>0.984267</td>\n",
       "      <td>0.856370</td>\n",
       "      <td>0.868610</td>\n",
       "      <td>0.848660</td>\n",
       "      <td>0.419736</td>\n",
       "      <td>0.336190</td>\n",
       "      <td>0.435126</td>\n",
       "      <td>0.024380</td>\n",
       "      <td>0.064790</td>\n",
       "      <td>0.208406</td>\n",
       "    </tr>\n",
       "    <tr>\n",
       "      <th>Q1-15_vol</th>\n",
       "      <td>0.588737</td>\n",
       "      <td>0.986000</td>\n",
       "      <td>0.984267</td>\n",
       "      <td>1.000000</td>\n",
       "      <td>0.834214</td>\n",
       "      <td>0.825781</td>\n",
       "      <td>0.852613</td>\n",
       "      <td>0.373889</td>\n",
       "      <td>0.328555</td>\n",
       "      <td>0.358870</td>\n",
       "      <td>0.051498</td>\n",
       "      <td>0.108215</td>\n",
       "      <td>0.175165</td>\n",
       "    </tr>\n",
       "    <tr>\n",
       "      <th>rev_per_day_15Q1</th>\n",
       "      <td>0.390086</td>\n",
       "      <td>0.850546</td>\n",
       "      <td>0.856370</td>\n",
       "      <td>0.834214</td>\n",
       "      <td>1.000000</td>\n",
       "      <td>0.969156</td>\n",
       "      <td>0.956230</td>\n",
       "      <td>0.654195</td>\n",
       "      <td>0.496237</td>\n",
       "      <td>0.584186</td>\n",
       "      <td>-0.004445</td>\n",
       "      <td>0.150649</td>\n",
       "      <td>0.282708</td>\n",
       "    </tr>\n",
       "    <tr>\n",
       "      <th>bott_per_day_15Q1</th>\n",
       "      <td>0.403153</td>\n",
       "      <td>0.826354</td>\n",
       "      <td>0.868610</td>\n",
       "      <td>0.825781</td>\n",
       "      <td>0.969156</td>\n",
       "      <td>1.000000</td>\n",
       "      <td>0.954355</td>\n",
       "      <td>0.597517</td>\n",
       "      <td>0.485429</td>\n",
       "      <td>0.626912</td>\n",
       "      <td>-0.038831</td>\n",
       "      <td>0.039219</td>\n",
       "      <td>0.227539</td>\n",
       "    </tr>\n",
       "    <tr>\n",
       "      <th>vol_per_day_15Q1</th>\n",
       "      <td>0.395309</td>\n",
       "      <td>0.827970</td>\n",
       "      <td>0.848660</td>\n",
       "      <td>0.852613</td>\n",
       "      <td>0.956230</td>\n",
       "      <td>0.954355</td>\n",
       "      <td>1.000000</td>\n",
       "      <td>0.537701</td>\n",
       "      <td>0.530029</td>\n",
       "      <td>0.512265</td>\n",
       "      <td>-0.013983</td>\n",
       "      <td>0.125931</td>\n",
       "      <td>0.140304</td>\n",
       "    </tr>\n",
       "    <tr>\n",
       "      <th>Q1-15_avg_rev</th>\n",
       "      <td>0.042034</td>\n",
       "      <td>0.426378</td>\n",
       "      <td>0.419736</td>\n",
       "      <td>0.373889</td>\n",
       "      <td>0.654195</td>\n",
       "      <td>0.597517</td>\n",
       "      <td>0.537701</td>\n",
       "      <td>1.000000</td>\n",
       "      <td>0.797251</td>\n",
       "      <td>0.885196</td>\n",
       "      <td>-0.274877</td>\n",
       "      <td>0.126329</td>\n",
       "      <td>0.302673</td>\n",
       "    </tr>\n",
       "    <tr>\n",
       "      <th>Q1-15_avg_bott</th>\n",
       "      <td>-0.073099</td>\n",
       "      <td>0.328493</td>\n",
       "      <td>0.336190</td>\n",
       "      <td>0.328555</td>\n",
       "      <td>0.496237</td>\n",
       "      <td>0.485429</td>\n",
       "      <td>0.530029</td>\n",
       "      <td>0.797251</td>\n",
       "      <td>1.000000</td>\n",
       "      <td>0.797425</td>\n",
       "      <td>-0.402223</td>\n",
       "      <td>-0.001203</td>\n",
       "      <td>-0.085196</td>\n",
       "    </tr>\n",
       "    <tr>\n",
       "      <th>Q1-15_avg_vol</th>\n",
       "      <td>0.046919</td>\n",
       "      <td>0.393824</td>\n",
       "      <td>0.435126</td>\n",
       "      <td>0.358870</td>\n",
       "      <td>0.584186</td>\n",
       "      <td>0.626912</td>\n",
       "      <td>0.512265</td>\n",
       "      <td>0.885196</td>\n",
       "      <td>0.797425</td>\n",
       "      <td>1.000000</td>\n",
       "      <td>-0.372618</td>\n",
       "      <td>-0.147444</td>\n",
       "      <td>0.152214</td>\n",
       "    </tr>\n",
       "    <tr>\n",
       "      <th>Q1-15_avg_price_per_ml</th>\n",
       "      <td>0.256643</td>\n",
       "      <td>0.039547</td>\n",
       "      <td>0.024380</td>\n",
       "      <td>0.051498</td>\n",
       "      <td>-0.004445</td>\n",
       "      <td>-0.038831</td>\n",
       "      <td>-0.013983</td>\n",
       "      <td>-0.274877</td>\n",
       "      <td>-0.402223</td>\n",
       "      <td>-0.372618</td>\n",
       "      <td>1.000000</td>\n",
       "      <td>0.518825</td>\n",
       "      <td>0.329755</td>\n",
       "    </tr>\n",
       "    <tr>\n",
       "      <th>Q1-15_avg_profit_per_ml</th>\n",
       "      <td>0.025956</td>\n",
       "      <td>0.110101</td>\n",
       "      <td>0.064790</td>\n",
       "      <td>0.108215</td>\n",
       "      <td>0.150649</td>\n",
       "      <td>0.039219</td>\n",
       "      <td>0.125931</td>\n",
       "      <td>0.126329</td>\n",
       "      <td>-0.001203</td>\n",
       "      <td>-0.147444</td>\n",
       "      <td>0.518825</td>\n",
       "      <td>1.000000</td>\n",
       "      <td>0.522116</td>\n",
       "    </tr>\n",
       "    <tr>\n",
       "      <th>Q1-15_avg_profit_per_bottle</th>\n",
       "      <td>0.206651</td>\n",
       "      <td>0.222833</td>\n",
       "      <td>0.208406</td>\n",
       "      <td>0.175165</td>\n",
       "      <td>0.282708</td>\n",
       "      <td>0.227539</td>\n",
       "      <td>0.140304</td>\n",
       "      <td>0.302673</td>\n",
       "      <td>-0.085196</td>\n",
       "      <td>0.152214</td>\n",
       "      <td>0.329755</td>\n",
       "      <td>0.522116</td>\n",
       "      <td>1.000000</td>\n",
       "    </tr>\n",
       "  </tbody>\n",
       "</table>\n",
       "</div>"
      ],
      "text/plain": [
       "                             days_open_15Q1  Q1-15_total_revenue  Q1-15_bott  \\\n",
       "days_open_15Q1                     1.000000             0.551125    0.564332   \n",
       "Q1-15_total_revenue                0.551125             1.000000    0.986673   \n",
       "Q1-15_bott                         0.564332             0.986673    1.000000   \n",
       "Q1-15_vol                          0.588737             0.986000    0.984267   \n",
       "rev_per_day_15Q1                   0.390086             0.850546    0.856370   \n",
       "bott_per_day_15Q1                  0.403153             0.826354    0.868610   \n",
       "vol_per_day_15Q1                   0.395309             0.827970    0.848660   \n",
       "Q1-15_avg_rev                      0.042034             0.426378    0.419736   \n",
       "Q1-15_avg_bott                    -0.073099             0.328493    0.336190   \n",
       "Q1-15_avg_vol                      0.046919             0.393824    0.435126   \n",
       "Q1-15_avg_price_per_ml             0.256643             0.039547    0.024380   \n",
       "Q1-15_avg_profit_per_ml            0.025956             0.110101    0.064790   \n",
       "Q1-15_avg_profit_per_bottle        0.206651             0.222833    0.208406   \n",
       "\n",
       "                             Q1-15_vol  rev_per_day_15Q1  bott_per_day_15Q1  \\\n",
       "days_open_15Q1                0.588737          0.390086           0.403153   \n",
       "Q1-15_total_revenue           0.986000          0.850546           0.826354   \n",
       "Q1-15_bott                    0.984267          0.856370           0.868610   \n",
       "Q1-15_vol                     1.000000          0.834214           0.825781   \n",
       "rev_per_day_15Q1              0.834214          1.000000           0.969156   \n",
       "bott_per_day_15Q1             0.825781          0.969156           1.000000   \n",
       "vol_per_day_15Q1              0.852613          0.956230           0.954355   \n",
       "Q1-15_avg_rev                 0.373889          0.654195           0.597517   \n",
       "Q1-15_avg_bott                0.328555          0.496237           0.485429   \n",
       "Q1-15_avg_vol                 0.358870          0.584186           0.626912   \n",
       "Q1-15_avg_price_per_ml        0.051498         -0.004445          -0.038831   \n",
       "Q1-15_avg_profit_per_ml       0.108215          0.150649           0.039219   \n",
       "Q1-15_avg_profit_per_bottle   0.175165          0.282708           0.227539   \n",
       "\n",
       "                             vol_per_day_15Q1  Q1-15_avg_rev  Q1-15_avg_bott  \\\n",
       "days_open_15Q1                       0.395309       0.042034       -0.073099   \n",
       "Q1-15_total_revenue                  0.827970       0.426378        0.328493   \n",
       "Q1-15_bott                           0.848660       0.419736        0.336190   \n",
       "Q1-15_vol                            0.852613       0.373889        0.328555   \n",
       "rev_per_day_15Q1                     0.956230       0.654195        0.496237   \n",
       "bott_per_day_15Q1                    0.954355       0.597517        0.485429   \n",
       "vol_per_day_15Q1                     1.000000       0.537701        0.530029   \n",
       "Q1-15_avg_rev                        0.537701       1.000000        0.797251   \n",
       "Q1-15_avg_bott                       0.530029       0.797251        1.000000   \n",
       "Q1-15_avg_vol                        0.512265       0.885196        0.797425   \n",
       "Q1-15_avg_price_per_ml              -0.013983      -0.274877       -0.402223   \n",
       "Q1-15_avg_profit_per_ml              0.125931       0.126329       -0.001203   \n",
       "Q1-15_avg_profit_per_bottle          0.140304       0.302673       -0.085196   \n",
       "\n",
       "                             Q1-15_avg_vol  Q1-15_avg_price_per_ml  \\\n",
       "days_open_15Q1                    0.046919                0.256643   \n",
       "Q1-15_total_revenue               0.393824                0.039547   \n",
       "Q1-15_bott                        0.435126                0.024380   \n",
       "Q1-15_vol                         0.358870                0.051498   \n",
       "rev_per_day_15Q1                  0.584186               -0.004445   \n",
       "bott_per_day_15Q1                 0.626912               -0.038831   \n",
       "vol_per_day_15Q1                  0.512265               -0.013983   \n",
       "Q1-15_avg_rev                     0.885196               -0.274877   \n",
       "Q1-15_avg_bott                    0.797425               -0.402223   \n",
       "Q1-15_avg_vol                     1.000000               -0.372618   \n",
       "Q1-15_avg_price_per_ml           -0.372618                1.000000   \n",
       "Q1-15_avg_profit_per_ml          -0.147444                0.518825   \n",
       "Q1-15_avg_profit_per_bottle       0.152214                0.329755   \n",
       "\n",
       "                             Q1-15_avg_profit_per_ml  \\\n",
       "days_open_15Q1                              0.025956   \n",
       "Q1-15_total_revenue                         0.110101   \n",
       "Q1-15_bott                                  0.064790   \n",
       "Q1-15_vol                                   0.108215   \n",
       "rev_per_day_15Q1                            0.150649   \n",
       "bott_per_day_15Q1                           0.039219   \n",
       "vol_per_day_15Q1                            0.125931   \n",
       "Q1-15_avg_rev                               0.126329   \n",
       "Q1-15_avg_bott                             -0.001203   \n",
       "Q1-15_avg_vol                              -0.147444   \n",
       "Q1-15_avg_price_per_ml                      0.518825   \n",
       "Q1-15_avg_profit_per_ml                     1.000000   \n",
       "Q1-15_avg_profit_per_bottle                 0.522116   \n",
       "\n",
       "                             Q1-15_avg_profit_per_bottle  \n",
       "days_open_15Q1                                  0.206651  \n",
       "Q1-15_total_revenue                             0.222833  \n",
       "Q1-15_bott                                      0.208406  \n",
       "Q1-15_vol                                       0.175165  \n",
       "rev_per_day_15Q1                                0.282708  \n",
       "bott_per_day_15Q1                               0.227539  \n",
       "vol_per_day_15Q1                                0.140304  \n",
       "Q1-15_avg_rev                                   0.302673  \n",
       "Q1-15_avg_bott                                 -0.085196  \n",
       "Q1-15_avg_vol                                   0.152214  \n",
       "Q1-15_avg_price_per_ml                          0.329755  \n",
       "Q1-15_avg_profit_per_ml                         0.522116  \n",
       "Q1-15_avg_profit_per_bottle                     1.000000  "
      ]
     },
     "execution_count": 118,
     "metadata": {},
     "output_type": "execute_result"
    }
   ],
   "source": [
    "stores_df.loc[:,metrics_2015Q1].corr()"
   ]
  },
  {
   "cell_type": "code",
   "execution_count": null,
   "metadata": {
    "collapsed": false
   },
   "outputs": [],
   "source": [
    "stores_df.loc[:,metrics_2016Q1].corr()['Q1-16_total_revenue']"
   ]
  },
  {
   "cell_type": "code",
   "execution_count": 121,
   "metadata": {
    "collapsed": false
   },
   "outputs": [
    {
     "data": {
      "image/png": "[encoded data removed]",
      "text/plain": [
       "<matplotlib.figure.Figure at 0x12996c190>"
      ]
     },
     "metadata": {},
     "output_type": "display_data"
    },
    {
     "data": {
      "image/png": "[encoded data removed]",
      "text/plain": [
       "<matplotlib.figure.Figure at 0x129952d10>"
      ]
     },
     "metadata": {},
     "output_type": "display_data"
    },
    {
     "data": {
      "image/png": "[encoded data removed]",
      "text/plain": [
       "<matplotlib.figure.Figure at 0x12e1a2690>"
      ]
     },
     "metadata": {},
     "output_type": "display_data"
    },
    {
     "data": {
      "image/png": "[encoded data removed]",
      "text/plain": [
       "<matplotlib.figure.Figure at 0x12998f110>"
      ]
     },
     "metadata": {},
     "output_type": "display_data"
    },
    {
     "data": {
      "image/png": "[encoded data removed]",
      "text/plain": [
       "<matplotlib.figure.Figure at 0x123699450>"
      ]
     },
     "metadata": {},
     "output_type": "display_data"
    },
    {
     "data": {
      "image/png": "[encoded data removed]",
      "text/plain": [
       "<matplotlib.figure.Figure at 0x1296adf90>"
      ]
     },
     "metadata": {},
     "output_type": "display_data"
    }
   ],
   "source": [
    "metrics_sub_15Q1 = ['Q1-15_total_revenue', 'rev_per_day_15Q1',\n",
    "       'bott_per_day_15Q1', 'vol_per_day_15Q1', 'Q1-15_avg_rev', 'Q1-15_avg_bott']\n",
    "for metric in metrics_sub_15Q1:\n",
    "    sns.jointplot(x=stores_df[metric], y=stores_df['Q1-15_total_revenue'])"
   ]
  },
  {
   "cell_type": "markdown",
   "metadata": {},
   "source": [
    "# Build Models"
   ]
  },
  {
   "cell_type": "markdown",
   "metadata": {},
   "source": [
    "### Base Model"
   ]
  },
  {
   "cell_type": "code",
   "execution_count": 126,
   "metadata": {
    "collapsed": false
   },
   "outputs": [
    {
     "name": "stdout",
     "output_type": "stream",
     "text": [
      "Coef: [ 3.46972483]\n",
      "Intercept: 721.38063466\n",
      "Score (R2): 0.945449500131\n",
      "MSE: 98106140.133\n"
     ]
    }
   ],
   "source": [
    "# Create a base model from stores_idf to predict 2015 Q2-Q4 sales from Q1 sales\n",
    "\n",
    "y = stores_df['2015-Q2-Q4_rev']\n",
    "X = pd.DataFrame(stores_df['Q1-15_total_revenue'])\n",
    "\n",
    "lm = linear_model.LinearRegression()\n",
    "base_model = lm.fit(X,y)\n",
    "\n",
    "print 'Coef:', base_model.coef_\n",
    "print 'Intercept:', base_model.intercept_\n",
    "print \"Score (R2):\", base_model.score(X, y) \n",
    "print \"MSE:\", mean_squared_error(y, base_model.predict(X))"
   ]
  },
  {
   "cell_type": "code",
   "execution_count": 127,
   "metadata": {
    "collapsed": false
   },
   "outputs": [
    {
     "name": "stdout",
     "output_type": "stream",
     "text": [
      "Cross_Val_Score R2: [ 0.96248933  0.91725016  0.82798944  0.37006993  0.2173173 ]\n",
      "Mean_Cross_Val_Score  R2: 0.659023233734\n"
     ]
    }
   ],
   "source": [
    "# Cross validate base model (folds = 5)\n",
    "print \"Cross_Val_Score R2:\", cross_val_score(lm, X, y, cv=5)\n",
    "print \"Mean_Cross_Val_Score  R2:\", cross_val_score(lm, X, y, cv=5).mean()"
   ]
  },
  {
   "cell_type": "code",
   "execution_count": 128,
   "metadata": {
    "collapsed": false
   },
   "outputs": [
    {
     "name": "stdout",
     "output_type": "stream",
     "text": [
      "Train_Test_Split R2: 0.964557791977\n"
     ]
    }
   ],
   "source": [
    "# Cross validate base model with train test split\n",
    "X_train, X_test, y_train, y_test = train_test_split(X, y, test_size=0.33)\n",
    "\n",
    "lm = linear_model.LinearRegression()\n",
    "\n",
    "tts_base_model = lm.fit(X_train, y_train)\n",
    "predictions = lm.predict(X_test)\n",
    "\n",
    "print \"Train_Test_Split R2:\", tts_base_model.score(X_test, y_test) "
   ]
  },
  {
   "cell_type": "markdown",
   "metadata": {},
   "source": [
    "### Base model predictions (Q2-Q4 2015 sales) from Q1 sales results:\n",
    "* Base model R2: 0.946\n",
    "* Base model MSE: 98,106,140.133 \n",
    "* Cross val score R2 (5 folds): 0.659\n",
    "* Train test split R2: 0.966"
   ]
  },
  {
   "cell_type": "markdown",
   "metadata": {},
   "source": [
    "## Updated base model"
   ]
  },
  {
   "cell_type": "code",
   "execution_count": 129,
   "metadata": {
    "collapsed": false
   },
   "outputs": [
    {
     "name": "stdout",
     "output_type": "stream",
     "text": [
      "['Q1-15_total_revenue', 'rev_per_day_15Q1', 'bott_per_day_15Q1', 'vol_per_day_15Q1', 'Q1-15_avg_rev', 'Q1-15_avg_bott']\n"
     ]
    }
   ],
   "source": [
    "print metrics_sub_15Q1"
   ]
  },
  {
   "cell_type": "code",
   "execution_count": 197,
   "metadata": {
    "collapsed": false
   },
   "outputs": [
    {
     "data": {
      "text/plain": [
       "Index([u'store', u'city', u'county', u'zip_code', u'days_open_15',\n",
       "       u'2015_total_rev', u'2015_bottles_sold', u'2015_vol_sold',\n",
       "       u'2015_rev_per_day', u'2015_bott_per_day', u'2015_vol_per_day',\n",
       "       u'2015_avg_rev', u'2015_avg_bott_sold', u'2015_avg_vol',\n",
       "       u'2015_avg_price_per_ml', u'2015_avg_profit_per_ml',\n",
       "       u'2015_avg_profit_per_bottle', u'days_open_15Q1',\n",
       "       u'Q1-15_total_revenue', u'Q1-15_bott', u'Q1-15_vol',\n",
       "       u'rev_per_day_15Q1', u'bott_per_day_15Q1', u'vol_per_day_15Q1',\n",
       "       u'Q1-15_avg_rev', u'Q1-15_avg_bott', u'Q1-15_avg_vol',\n",
       "       u'Q1-15_avg_price_per_ml', u'Q1-15_avg_profit_per_ml',\n",
       "       u'Q1-15_avg_profit_per_bottle', u'days_open_16Q1',\n",
       "       u'Q1-16_total_revenue', u'Q1-16_bott', u'Q1-16_vol',\n",
       "       u'rev_per_day_16Q1', u'bott_per_day_16Q1', u'vol_per_day_16Q1',\n",
       "       u'Q1-16_avg_rev', u'Q1-16_avg_bott', u'Q1-16_avg_vol',\n",
       "       u'Q1-16_avg_price_per_ml', u'Q1-16_avg_profit_per_ml',\n",
       "       u'Q1-16_avg_profit_per_bottle', u'2015-Q2-Q4_rev', u'2015-Q2-Q4_bott',\n",
       "       u'2015-Q2-Q4_vol', u'top_ten_city'],\n",
       "      dtype='object')"
      ]
     },
     "execution_count": 197,
     "metadata": {},
     "output_type": "execute_result"
    }
   ],
   "source": [
    "stores_df.columns"
   ]
  },
  {
   "cell_type": "code",
   "execution_count": 309,
   "metadata": {
    "collapsed": false
   },
   "outputs": [
    {
     "name": "stdout",
     "output_type": "stream",
     "text": [
      "Coef: [   1.10918267 -595.45083759   30.80707932   41.71809867   29.56336139]\n",
      "Intercept: 2113.38137364\n",
      "Score (R2): 0.948894122157\n",
      "MSE: 91911172.6804\n"
     ]
    }
   ],
   "source": [
    "# Update base model to predict 2015 Q2-Q4 sales from Q1 sales, vol per day, \n",
    "\n",
    "y = stores_df['2015-Q2-Q4_rev']\n",
    "X = pd.DataFrame(stores_df[['Q1-15_total_revenue', 'bott_per_day_15Q1', \\\n",
    "                            'rev_per_day_15Q1', \\\n",
    "                            'Q1-15_bott', 'vol_per_day_15Q1']])\n",
    "\n",
    "lm = linear_model.LinearRegression()\n",
    "base_model = lm.fit(X,y)\n",
    "\n",
    "print 'Coef:', base_model.coef_\n",
    "print 'Intercept:', base_model.intercept_\n",
    "print \"Score (R2):\", base_model.score(X, y) \n",
    "print \"MSE:\", mean_squared_error(y, base_model.predict(X))"
   ]
  },
  {
   "cell_type": "code",
   "execution_count": 310,
   "metadata": {
    "collapsed": false
   },
   "outputs": [
    {
     "name": "stdout",
     "output_type": "stream",
     "text": [
      "Cross_Val_Score R2: [ 0.9560539   0.92229893  0.80419942  0.43244325 -1.15453712]\n",
      "Mean_Cross_Val_Score  R2: 0.392091676579\n",
      "Train_Test_Split R2: 0.918787133285\n"
     ]
    }
   ],
   "source": [
    "# Cross validate updated base model (folds = 5)\n",
    "print \"Cross_Val_Score R2:\", cross_val_score(lm, X, y, cv=5)\n",
    "print \"Mean_Cross_Val_Score  R2:\", cross_val_score(lm, X, y, cv=5).mean()\n",
    "\n",
    "# Cross validate base model with train test split\n",
    "X_train, X_test, y_train, y_test = train_test_split(X, y, test_size=0.33)\n",
    "lm = linear_model.LinearRegression()\n",
    "tts_base_model = lm.fit(X_train, y_train)\n",
    "predictions = lm.predict(X_test)\n",
    "\n",
    "print \"Train_Test_Split R2:\", tts_base_model.score(X_test, y_test) "
   ]
  },
  {
   "cell_type": "code",
   "execution_count": 311,
   "metadata": {
    "collapsed": false
   },
   "outputs": [
    {
     "name": "stdout",
     "output_type": "stream",
     "text": [
      "Lasso R2: 0.948882955725\n",
      "Cross_Val_Mean R2: 0.337570186175\n"
     ]
    }
   ],
   "source": [
    "# Test if lasso model performs better\n",
    "lasso = linear_model.Lasso(alpha=0.5)\n",
    "lasso_model = lasso.fit(X, y)\n",
    "lasso_r2 =  r2_score(y_true=y, y_pred=lasso_model.predict(X))\n",
    "print \"Lasso R2:\",lasso_r2\n",
    "print \"Cross_Val_Mean R2:\", cross_val_score(lasso, X, y, n_jobs=1, cv=10).mean()"
   ]
  },
  {
   "cell_type": "markdown",
   "metadata": {},
   "source": [
    "### Updated base model predictions (Q2-Q4 2015 sales) from Q1 sales results:\n",
    "* Base model R2: 0.947\n",
    "* Base model MSE: 95,110,822.012 \n",
    "* Cross val score R2 (5 folds): 0.642\n",
    "* Train test split R2: 0.924"
   ]
  },
  {
   "cell_type": "code",
   "execution_count": 303,
   "metadata": {
    "collapsed": false
   },
   "outputs": [
    {
     "data": {
      "text/plain": [
       "[(0, 300000),\n",
       " <matplotlib.text.Text at 0x11c21bc10>,\n",
       " (0, 300000),\n",
       " <matplotlib.text.Text at 0x11a5feb50>,\n",
       " <matplotlib.text.Text at 0x11b2245d0>]"
      ]
     },
     "execution_count": 303,
     "metadata": {},
     "output_type": "execute_result"
    },
    {
     "data": {
      "image/png": "[encoded data removed]",
      "text/plain": [
       "<matplotlib.figure.Figure at 0x11c2d6bd0>"
      ]
     },
     "metadata": {},
     "output_type": "display_data"
    }
   ],
   "source": [
    "predictions = lm.predict(X_test)\n",
    "\n",
    "fig,ax = plt.subplots(figsize=(10,10))\n",
    "ax.scatter(y_test, predictions)\n",
    "ax.set(xlabel = 'Actual Values', ylabel= 'Predicted Sales', \\\n",
    "       xlim=[0,300000],ylim=[0,300000], \\\n",
    "       title = 'Actual Sales vs Predicted Sales Base Model 1')"
   ]
  },
  {
   "cell_type": "markdown",
   "metadata": {},
   "source": [
    "### Updated base model 2|"
   ]
  },
  {
   "cell_type": "code",
   "execution_count": 136,
   "metadata": {
    "collapsed": false
   },
   "outputs": [
    {
     "name": "stdout",
     "output_type": "stream",
     "text": [
      "373\n",
      "13128182.02\n",
      "0.477716318989\n",
      "The top ten cities accounted for 48% of alcohol sales.\n"
     ]
    }
   ],
   "source": [
    "# Create df for top 10 cities by population\n",
    "top_ten_cities = ['DES MOINES', 'CEDAR RAPIDS', 'DAVENPORT', 'SIOUX CITY', 'IOWA CITY', \\\n",
    "'WATERLOO', 'COUNCIL BLUFFS', 'AMES', 'WEST DES MOINES', 'DUBUQUE']\n",
    "\n",
    "def cities(i):\n",
    "    if i in top_ten_cities:\n",
    "        return 1\n",
    "    else:\n",
    "        return 0\n",
    "\n",
    "stores_df['top_ten_city'] = stores_df['city'].map(cities)\n",
    "print sum(stores_df['top_ten_city'])\n",
    "\n",
    "top_df = stores_df[stores_df['top_ten_city'] == 1]\n",
    "print sum(top_df['2015_total_rev'])\n",
    "print sum(top_df['2015_total_rev']) / sum(stores_df['2015_total_rev'])\n",
    "print 'The top ten cities accounted for 48% of alcohol sales.'"
   ]
  },
  {
   "cell_type": "code",
   "execution_count": 262,
   "metadata": {
    "collapsed": false
   },
   "outputs": [
    {
     "name": "stdout",
     "output_type": "stream",
     "text": [
      "Coef: [   1.09987166 -599.93979415   30.93106759   41.87525812   32.49263654\n",
      " -260.96241803]\n",
      "Intercept: 2167.62639652\n",
      "Score (R2): 0.94890127494\n",
      "MSE: 91898308.7854\n"
     ]
    }
   ],
   "source": [
    "# Update base model to predict 2015 Q2-Q4 sales from Q1 sales, vol per day AND top ten cities\n",
    "\n",
    "y = stores_df['2015-Q2-Q4_rev']\n",
    "X = pd.DataFrame(stores_df[['Q1-15_total_revenue', 'bott_per_day_15Q1', 'rev_per_day_15Q1', \\\n",
    "                            'Q1-15_bott', 'vol_per_day_15Q1', 'top_ten_city']])\n",
    "\n",
    "lm = linear_model.LinearRegression()\n",
    "base_model = lm.fit(X,y)\n",
    "\n",
    "print 'Coef:', base_model.coef_\n",
    "print 'Intercept:', base_model.intercept_\n",
    "print \"Score (R2):\", base_model.score(X, y) \n",
    "print \"MSE:\", mean_squared_error(y, base_model.predict(X))"
   ]
  },
  {
   "cell_type": "code",
   "execution_count": 263,
   "metadata": {
    "collapsed": false
   },
   "outputs": [
    {
     "name": "stdout",
     "output_type": "stream",
     "text": [
      "Cross_Val_Score R2: [ 0.95580185  0.92149742  0.80425263  0.43270102 -1.16460052]\n",
      "Mean_Cross_Val_Score  R2: 0.389930480624\n",
      "Train_Test_Split R2: 0.865586473962\n"
     ]
    }
   ],
   "source": [
    "# Cross validate updated base model (folds = 5)\n",
    "print \"Cross_Val_Score R2:\", cross_val_score(lm, X, y, cv=5)\n",
    "print \"Mean_Cross_Val_Score  R2:\", cross_val_score(lm, X, y, cv=5).mean()\n",
    "\n",
    "# Cross validate base model with train test split\n",
    "X_train, X_test, y_train, y_test = train_test_split(X, y, test_size=0.33)\n",
    "lm = linear_model.LinearRegression()\n",
    "tts_base_model = lm.fit(X_train, y_train)\n",
    "predictions = lm.predict(X_test)\n",
    "\n",
    "print \"Train_Test_Split R2:\", tts_base_model.score(X_test, y_test) "
   ]
  },
  {
   "cell_type": "code",
   "execution_count": 264,
   "metadata": {
    "collapsed": false
   },
   "outputs": [
    {
     "name": "stdout",
     "output_type": "stream",
     "text": [
      "Lasso R2: 0.948889722593\n",
      "Cross_Val_Mean R2: 0.335268647073\n"
     ]
    }
   ],
   "source": [
    "# Test if lasso model performs better\n",
    "lasso = linear_model.Lasso(alpha=0.5)\n",
    "lasso_model = lasso.fit(X, y)\n",
    "lasso_r2 =  r2_score(y_true=y, y_pred=lasso_model.predict(X))\n",
    "print \"Lasso R2:\",lasso_r2\n",
    "print \"Cross_Val_Mean R2:\", cross_val_score(lasso, X, y, n_jobs=1, cv=10).mean()"
   ]
  },
  {
   "cell_type": "code",
   "execution_count": 265,
   "metadata": {
    "collapsed": false
   },
   "outputs": [
    {
     "name": "stdout",
     "output_type": "stream",
     "text": [
      "Train_Test_Split Lasso Model Score: 0.921728544651\n"
     ]
    }
   ],
   "source": [
    "# Test if tts model performs better\n",
    "X_train, X_test, y_train, y_test = \\\n",
    "train_test_split(X, y, test_size=0.33)\n",
    "lasso_train= lasso.fit(X_train, y_train)\n",
    "predictions = lasso.predict(X_test)\n",
    "print \"Train_Test_Split Lasso Model Score:\", lasso_train.score(X_test, y_test) "
   ]
  },
  {
   "cell_type": "code",
   "execution_count": 266,
   "metadata": {
    "collapsed": false
   },
   "outputs": [
    {
     "data": {
      "text/plain": [
       "[(0, 300000),\n",
       " <matplotlib.text.Text at 0x129bca250>,\n",
       " (0, 300000),\n",
       " <matplotlib.text.Text at 0x12944d210>,\n",
       " <matplotlib.text.Text at 0x125a36490>]"
      ]
     },
     "execution_count": 266,
     "metadata": {},
     "output_type": "execute_result"
    },
    {
     "data": {
      "image/png": "[encoded data removed]",
      "text/plain": [
       "<matplotlib.figure.Figure at 0x11c2d67d0>"
      ]
     },
     "metadata": {},
     "output_type": "display_data"
    }
   ],
   "source": [
    "predictions = lm.predict(X_test)\n",
    "\n",
    "fig,ax = plt.subplots(figsize=(10,10))\n",
    "ax.scatter(y_test, predictions)\n",
    "ax.set(xlabel = 'Actual Values', ylabel= 'Predicted Sales', \\\n",
    "       xlim=[0,300000],ylim=[0,300000], \\\n",
    "       title = 'Actual Sales vs Predicted Sales Base Model 2')"
   ]
  },
  {
   "cell_type": "markdown",
   "metadata": {},
   "source": [
    "### Updated base model 3"
   ]
  },
  {
   "cell_type": "code",
   "execution_count": 267,
   "metadata": {
    "collapsed": false
   },
   "outputs": [
    {
     "name": "stdout",
     "output_type": "stream",
     "text": [
      "Coef: [   3.56599727 -157.39631617    6.49389639   23.87596211]\n",
      "Intercept: 1521.62396938\n",
      "Score (R2): 0.947156702974\n",
      "MSE: 95035827.6378\n",
      "Mean_Cross_Val_Score  R2: 0.636068734731\n",
      "Train_Test_Split R2: 0.967611867911\n",
      "Lasso R2: 0.94715670297\n",
      "Cross_Val_Mean R2: 0.485779758311\n",
      "Train_Test_Split Lasso Model Score: 0.929285609727\n"
     ]
    }
   ],
   "source": [
    "# Update base model to predict 2015 Q2-Q4 sales from Q1 sales, vol per day AND top ten cities\n",
    "\n",
    "y = stores_df['2015-Q2-Q4_rev']\n",
    "X = pd.DataFrame(stores_df[['Q1-15_total_revenue', 'bott_per_day_15Q1', 'rev_per_day_15Q1', \\\n",
    "                            'vol_per_day_15Q1']])\n",
    "\n",
    "lm = linear_model.LinearRegression()\n",
    "base_model = lm.fit(X,y)\n",
    "\n",
    "print 'Coef:', base_model.coef_\n",
    "print 'Intercept:', base_model.intercept_\n",
    "print \"Score (R2):\", base_model.score(X, y) \n",
    "print \"MSE:\", mean_squared_error(y, base_model.predict(X))\n",
    "\n",
    "# Cross validate updated base model (folds = 5)\n",
    "print \"Mean_Cross_Val_Score  R2:\", cross_val_score(lm, X, y, cv=5).mean()\n",
    "\n",
    "# Cross validate base model with train test split\n",
    "X_train, X_test, y_train, y_test = train_test_split(X, y, test_size=0.33)\n",
    "lm = linear_model.LinearRegression()\n",
    "tts_base_model = lm.fit(X_train, y_train)\n",
    "predictions = lm.predict(X_test)\n",
    "\n",
    "print \"Train_Test_Split R2:\", tts_base_model.score(X_test, y_test) \n",
    "\n",
    "# Test if lasso model performs better\n",
    "lasso = linear_model.Lasso(alpha=0.5)\n",
    "lasso_model = lasso.fit(X, y)\n",
    "lasso_r2 =  r2_score(y_true=y, y_pred=lasso_model.predict(X))\n",
    "print \"Lasso R2:\",lasso_r2\n",
    "print \"Cross_Val_Mean R2:\", cross_val_score(lasso, X, y, n_jobs=1, cv=10).mean()\n",
    "\n",
    "X_train, X_test, y_train, y_test = \\\n",
    "train_test_split(X, y, test_size=0.33)\n",
    "lasso_train= lasso.fit(X_train, y_train)\n",
    "predictions = lasso.predict(X_test)\n",
    "print \"Train_Test_Split Lasso Model Score:\", lasso_train.score(X_test, y_test) "
   ]
  },
  {
   "cell_type": "code",
   "execution_count": 268,
   "metadata": {
    "collapsed": false
   },
   "outputs": [
    {
     "data": {
      "text/plain": [
       "[(0, 300000),\n",
       " <matplotlib.text.Text at 0x119905250>,\n",
       " (0, 300000),\n",
       " <matplotlib.text.Text at 0x11cbca5d0>,\n",
       " <matplotlib.text.Text at 0x12e37c090>]"
      ]
     },
     "execution_count": 268,
     "metadata": {},
     "output_type": "execute_result"
    },
    {
     "data": {
      "image/png": "[encoded data removed]",
      "text/plain": [
       "<matplotlib.figure.Figure at 0x124e60dd0>"
      ]
     },
     "metadata": {},
     "output_type": "display_data"
    }
   ],
   "source": [
    "predictions = lm.predict(X_test)\n",
    "\n",
    "fig,ax = plt.subplots(figsize=(10,10))\n",
    "ax.scatter(y_test, predictions)\n",
    "ax.set(xlabel = 'Actual Values', ylabel= 'Predicted Sales', \\\n",
    "       xlim=[0,300000],ylim=[0,300000], \\\n",
    "       title = 'Actual Sales vs Predicted Sales Base Model 3')"
   ]
  },
  {
   "cell_type": "markdown",
   "metadata": {},
   "source": [
    "# Make Predictions"
   ]
  },
  {
   "cell_type": "code",
   "execution_count": 341,
   "metadata": {
    "collapsed": false
   },
   "outputs": [
    {
     "name": "stdout",
     "output_type": "stream",
     "text": [
      "Coef: [ 12.30276387]\n",
      "Inercept: -1704.7532961\n",
      "Score: 0.982898543236\n",
      "MSE: 30756050.2255\n",
      "Mean cross-val R2: 0.847318116502\n",
      "Train_Test_Split R2: 0.983116130198\n",
      "\n",
      "21524094.33\n"
     ]
    },
    {
     "data": {
      "text/plain": [
       "array([   6729.16041997,  119701.75021269,  117876.2661096 , ...,\n",
       "          -671.32113099,     140.66128446,    -800.50015163])"
      ]
     },
     "execution_count": 341,
     "metadata": {},
     "output_type": "execute_result"
    }
   ],
   "source": [
    "# Final model (3rd updated model from above)\n",
    "y = stores_df['2015-Q2-Q4_rev']\n",
    "X = stores_df[['Q1-15_total_revenue', 'bott_per_day_15Q1', 'rev_per_day_15Q1', \\\n",
    "                            'vol_per_day_15Q1', '2015_bottles_sold']]\n",
    "\n",
    "lm = linear_model.LinearRegression()\n",
    "final_model = lm.fit(X,y)\n",
    "\n",
    "print \"Coef:\", final_model.coef_\n",
    "print \"Inercept:\", final_model.intercept_\n",
    "print \"Score:\", final_model.score(X, y) \n",
    "print \"MSE:\", mean_squared_error(y, final_model.predict(X))\n",
    "\n",
    "print \"Mean cross-val R2:\", cross_val_score(lm, X, y, cv=5).mean()\n",
    "\n",
    "X_train, X_test, y_train, y_test = \\\n",
    "train_test_split(X, y, test_size=0.33)\n",
    "\n",
    "\n",
    "lm = linear_model.LinearRegression()\n",
    "\n",
    "final_model_train = lm.fit(X_train, y_train)\n",
    "\n",
    "print \"Train_Test_Split R2:\", final_model_train.score(X_test, y_test) \n",
    "\n",
    "print ''\n",
    "print sum(final_model.predict(X))\n",
    "final_pred = np.array(final_model.predict(X))\n",
    "np.transpose(final_pred)"
   ]
  },
  {
   "cell_type": "code",
   "execution_count": 332,
   "metadata": {
    "collapsed": false
   },
   "outputs": [
    {
     "name": "stdout",
     "output_type": "stream",
     "text": [
      "Coef: [ 3.46972483]\n",
      "Inercept: 721.38063466\n",
      "Score: 0.945449500131\n",
      "MSE: 98106140.133\n",
      "Mean cross-val R2: 0.659023233734\n",
      "Train_Test_Split R2: 0.947341208283\n",
      "21524094.33\n"
     ]
    },
    {
     "data": {
      "text/plain": [
       "array([   6214.40610697,  112655.12006206,  137037.46630541, ...,\n",
       "          2737.42955069,    1465.84479448,    3259.34555982])"
      ]
     },
     "execution_count": 332,
     "metadata": {},
     "output_type": "execute_result"
    }
   ],
   "source": [
    "# Final model alternate (2nd updated model from above)\n",
    "y = stores_df['2015-Q2-Q4_rev']\n",
    "X = stores_df[['Q1-15_total_revenue', 'bott_per_day_15Q1', 'rev_per_day_15Q1', \\\n",
    "                            'Q1-15_bott', 'vol_per_day_15Q1', 'top_ten_city']]\n",
    "\n",
    "lm = linear_model.LinearRegression()\n",
    "final_model_alt = lm.fit(X,y)\n",
    "\n",
    "print \"Coef:\", final_model_alt.coef_\n",
    "print \"Inercept:\", final_model_alt.intercept_\n",
    "print \"Score:\", final_model_alt.score(X, y) \n",
    "print \"MSE:\", mean_squared_error(y, final_model_alt.predict(X))\n",
    "\n",
    "print \"Mean cross-val R2:\", cross_val_score(lm, X, y, cv=5).mean()\n",
    "\n",
    "X_train, X_test, y_train, y_test = \\\n",
    "train_test_split(X, y, test_size=0.33)\n",
    "\n",
    "\n",
    "lm = linear_model.LinearRegression()\n",
    "\n",
    "final_model_train_alt = lm.fit(X_train, y_train)\n",
    "\n",
    "print \"Train_Test_Split R2:\", final_model_train_alt.score(X_test, y_test)\n",
    "\n",
    "print sum(final_model_alt.predict(X))\n",
    "final_pred_alt = np.array(final_model_alt.predict(X))\n",
    "np.transpose(final_pred_alt)\n",
    "final_12 = sum(final_pred_alt)*10\n",
    "jj = final_12 - sum(iowa['sales'])\n",
    "print jj"
   ]
  },
  {
   "cell_type": "markdown",
   "metadata": {},
   "source": [
    "## Create new df with model predictions included"
   ]
  },
  {
   "cell_type": "code",
   "execution_count": 342,
   "metadata": {
    "collapsed": false
   },
   "outputs": [],
   "source": [
    "# Create a new df of 2016 data (Q1-16 actual and Q2-Q4-16 predicted rev)\n",
    "\n",
    "pred_df = stores_df.loc[:,['store','county', 'Q1-16_total_revenue']]\n",
    "pred_df['base_pred'] = base_pred\n",
    "pred_df['final_pred'] = final_pred\n",
    "\n",
    "# Add predictions to actual Q1-16 rev\n",
    "pred_df['pred_rev_2016_base'] = pred_df['Q1-16_total_revenue'] + pred_df['base_pred']\n",
    "pred_df['pred_rev_2016_final'] = pred_df['Q1-16_total_revenue'] + pred_df['final_pred']\n",
    "\n",
    "# Add 2015 rev\n",
    "pred_df = pred_df.merge(stores_df.loc[:,['store','2015_total_rev', 'Q1-15_total_revenue']], \\\n",
    "                        on = 'store', how=\"outer\")"
   ]
  },
  {
   "cell_type": "code",
   "execution_count": 327,
   "metadata": {
    "collapsed": false
   },
   "outputs": [
    {
     "name": "stdout",
     "output_type": "stream",
     "text": [
      "<class 'pandas.core.frame.DataFrame'>\n",
      "Int64Index: 1189 entries, 0 to 1188\n",
      "Data columns (total 9 columns):\n",
      "store                  1189 non-null int64\n",
      "county                 1189 non-null object\n",
      "Q1-16_total_revenue    1189 non-null float64\n",
      "base_pred              1189 non-null float64\n",
      "final_pred             1189 non-null float64\n",
      "pred_rev_2016_base     1189 non-null float64\n",
      "pred_rev_2016_final    1189 non-null float64\n",
      "2015_total_rev         1189 non-null float64\n",
      "Q1-15_total_revenue    1189 non-null float64\n",
      "dtypes: float64(7), int64(1), object(1)\n",
      "memory usage: 92.9+ KB\n"
     ]
    }
   ],
   "source": [
    "pred_df.info()\n",
    "pred_df.fillna(0, inplace = True)"
   ]
  },
  {
   "cell_type": "code",
   "execution_count": 343,
   "metadata": {
    "collapsed": false
   },
   "outputs": [
    {
     "name": "stdout",
     "output_type": "stream",
     "text": [
      "2016 sales predictions from base model: 27587521.0939\n",
      "2016 sales predictions from final model: 27594530.6081\n",
      "2015 sales: 27509124.76\n"
     ]
    }
   ],
   "source": [
    "print'2016 sales predictions from base model:', sum(pred_df['pred_rev_2016_base'])\n",
    "print '2016 sales predictions from final model:', sum(pred_df['pred_rev_2016_final'])\n",
    "\n",
    "print '2015 sales:', sum(pred_df['2015_total_rev'])"
   ]
  },
  {
   "cell_type": "code",
   "execution_count": 324,
   "metadata": {
    "collapsed": false
   },
   "outputs": [],
   "source": [
    "asdf = sum(pred_df['pred_rev_2016_base']) - sum(pred_df['2015_total_rev'])"
   ]
  },
  {
   "cell_type": "code",
   "execution_count": 288,
   "metadata": {
    "collapsed": false
   },
   "outputs": [
    {
     "data": {
      "text/plain": [
       "0.28498301791858766"
      ]
     },
     "execution_count": 288,
     "metadata": {},
     "output_type": "execute_result"
    }
   ],
   "source": [
    "asdf/sum(pred_df['2015_total_rev']) * 100"
   ]
  },
  {
   "cell_type": "code",
   "execution_count": 331,
   "metadata": {
    "collapsed": false
   },
   "outputs": [
    {
     "data": {
      "text/html": [
       "<div>\n",
       "<table border=\"1\" class=\"dataframe\">\n",
       "  <thead>\n",
       "    <tr style=\"text-align: right;\">\n",
       "      <th></th>\n",
       "      <th>county</th>\n",
       "      <th>2015_total_rev</th>\n",
       "      <th>pred_rev_2016_base</th>\n",
       "      <th>pred_rev_2016_base</th>\n",
       "    </tr>\n",
       "  </thead>\n",
       "  <tbody>\n",
       "    <tr>\n",
       "      <th>0</th>\n",
       "      <td>Adair</td>\n",
       "      <td>42353.24</td>\n",
       "      <td>46999.497441</td>\n",
       "      <td>46999.497441</td>\n",
       "    </tr>\n",
       "    <tr>\n",
       "      <th>1</th>\n",
       "      <td>Adams</td>\n",
       "      <td>10245.14</td>\n",
       "      <td>11372.709969</td>\n",
       "      <td>11372.709969</td>\n",
       "    </tr>\n",
       "    <tr>\n",
       "      <th>2</th>\n",
       "      <td>Allamakee</td>\n",
       "      <td>79918.47</td>\n",
       "      <td>70368.177045</td>\n",
       "      <td>70368.177045</td>\n",
       "    </tr>\n",
       "    <tr>\n",
       "      <th>3</th>\n",
       "      <td>Appanoose</td>\n",
       "      <td>77033.64</td>\n",
       "      <td>77128.368053</td>\n",
       "      <td>77128.368053</td>\n",
       "    </tr>\n",
       "    <tr>\n",
       "      <th>4</th>\n",
       "      <td>Audubon</td>\n",
       "      <td>2869.68</td>\n",
       "      <td>3053.149083</td>\n",
       "      <td>3053.149083</td>\n",
       "    </tr>\n",
       "  </tbody>\n",
       "</table>\n",
       "</div>"
      ],
      "text/plain": [
       "      county  2015_total_rev  pred_rev_2016_base  pred_rev_2016_base\n",
       "0      Adair        42353.24        46999.497441        46999.497441\n",
       "1      Adams        10245.14        11372.709969        11372.709969\n",
       "2  Allamakee        79918.47        70368.177045        70368.177045\n",
       "3  Appanoose        77033.64        77128.368053        77128.368053\n",
       "4    Audubon         2869.68         3053.149083         3053.149083"
      ]
     },
     "execution_count": 331,
     "metadata": {},
     "output_type": "execute_result"
    }
   ],
   "source": [
    "final_county_data = pred_df.pivot_table(index=['county'], values = \\\n",
    "                                      ['2015_total_rev','pred_rev_2016_final', 'pred_rev_2016_base'] \\\n",
    "                                      , aggfunc = (np.sum))\n",
    "final_county_data.reset_index(inplace=True)\n",
    "final_county_data = final_county_data[final_county_data['county']!=0]\n",
    "final_county_data.head()"
   ]
  },
  {
   "cell_type": "code",
   "execution_count": 352,
   "metadata": {
    "collapsed": false
   },
   "outputs": [
    {
     "name": "stdout",
     "output_type": "stream",
     "text": [
      "2016 predicted revenue: 275091247600.0\n"
     ]
    }
   ],
   "source": [
    "final_county_data.columns = ['county','2016 Predicted Annual Sales', '2015 Sales', \\\n",
    "                             '2016 Q1 Sales',]\n",
    "final_county_data.iloc[:,1] = final_county_data.iloc[:,1].apply(lambda x: x*10)\n",
    "final_county_data.iloc[:,2] = final_county_data.iloc[:,2].apply(lambda x: x*10)\n",
    "final_county_data.iloc[:,3] = final_county_data.iloc[:,3].apply(lambda x: x*10)\n",
    "print '2016 predicted revenue:', sum(final_county_data['2016 Predicted Annual Sales'])"
   ]
  },
  {
   "cell_type": "markdown",
   "metadata": {},
   "source": [
    "#### The model predicts 2016 sales will be roughly $295m or 3.8% increase over 2015"
   ]
  },
  {
   "cell_type": "code",
   "execution_count": 374,
   "metadata": {
    "collapsed": false
   },
   "outputs": [],
   "source": [
    "pred_by_county = pred_df.pivot_table(index=['county'], values = ['2015_total_rev', \\\n",
    "                                            'pred_rev_2016_final'], aggfunc = (np.sum))\n",
    "pred_by_county = pred_by_county[(pred_by_county['pred_rev_2016_final']!=0) & \\\n",
    "                               (pred_by_county['pred_rev_2016_final']!=0)]"
   ]
  },
  {
   "cell_type": "code",
   "execution_count": 402,
   "metadata": {
    "collapsed": false
   },
   "outputs": [
    {
     "data": {
      "text/plain": [
       "27594530.608085558"
      ]
     },
     "execution_count": 402,
     "metadata": {},
     "output_type": "execute_result"
    }
   ],
   "source": [
    "sum(pred_by_county['2015_Rev'])"
   ]
  },
  {
   "cell_type": "code",
   "execution_count": 376,
   "metadata": {
    "collapsed": false
   },
   "outputs": [
    {
     "data": {
      "text/html": [
       "<div>\n",
       "<table border=\"1\" class=\"dataframe\">\n",
       "  <thead>\n",
       "    <tr style=\"text-align: right;\">\n",
       "      <th></th>\n",
       "      <th>Predicted_2016_Rev</th>\n",
       "      <th>2015_Rev</th>\n",
       "      <th>%_Change</th>\n",
       "    </tr>\n",
       "    <tr>\n",
       "      <th>county</th>\n",
       "      <th></th>\n",
       "      <th></th>\n",
       "      <th></th>\n",
       "    </tr>\n",
       "  </thead>\n",
       "  <tbody>\n",
       "    <tr>\n",
       "      <th>Winnebago</th>\n",
       "      <td>67091.48</td>\n",
       "      <td>7.815776e+04</td>\n",
       "      <td>16.494317</td>\n",
       "    </tr>\n",
       "    <tr>\n",
       "      <th>Winneshiek</th>\n",
       "      <td>118943.94</td>\n",
       "      <td>1.319780e+05</td>\n",
       "      <td>10.958148</td>\n",
       "    </tr>\n",
       "    <tr>\n",
       "      <th>Woodbury</th>\n",
       "      <td>994395.39</td>\n",
       "      <td>1.028179e+06</td>\n",
       "      <td>3.397385</td>\n",
       "    </tr>\n",
       "    <tr>\n",
       "      <th>Worth</th>\n",
       "      <td>25740.94</td>\n",
       "      <td>3.452484e+04</td>\n",
       "      <td>34.124238</td>\n",
       "    </tr>\n",
       "    <tr>\n",
       "      <th>Wright</th>\n",
       "      <td>76552.22</td>\n",
       "      <td>8.073804e+04</td>\n",
       "      <td>5.467927</td>\n",
       "    </tr>\n",
       "  </tbody>\n",
       "</table>\n",
       "</div>"
      ],
      "text/plain": [
       "            Predicted_2016_Rev      2015_Rev   %_Change\n",
       "county                                                 \n",
       "Winnebago             67091.48  7.815776e+04  16.494317\n",
       "Winneshiek           118943.94  1.319780e+05  10.958148\n",
       "Woodbury             994395.39  1.028179e+06   3.397385\n",
       "Worth                 25740.94  3.452484e+04  34.124238\n",
       "Wright                76552.22  8.073804e+04   5.467927"
      ]
     },
     "execution_count": 376,
     "metadata": {},
     "output_type": "execute_result"
    }
   ],
   "source": [
    "# Calculate predicted % change in sales from 2015 by county\n",
    "\n",
    "pred_by_county['perc_change'] = 100*(pred_by_county['pred_rev_2016_final'] / \\\n",
    "                                     pred_by_county['2015_total_rev']-1)\n",
    "pred_by_county.columns=['Predicted_2016_Rev', '2015_Rev', '%_Change']\n",
    "pred_by_county.tail()"
   ]
  },
  {
   "cell_type": "code",
   "execution_count": 380,
   "metadata": {
    "collapsed": false
   },
   "outputs": [
    {
     "data": {
      "text/plain": [
       "[<matplotlib.text.Text at 0x1240874d0>, <matplotlib.text.Text at 0x1247fd410>]"
      ]
     },
     "execution_count": 380,
     "metadata": {},
     "output_type": "execute_result"
    },
    {
     "data": {
      "image/png": "[encoded data removed]",
      "text/plain": [
       "<matplotlib.figure.Figure at 0x129b7fb50>"
      ]
     },
     "metadata": {},
     "output_type": "display_data"
    }
   ],
   "source": [
    "# Plot distribution of predicted year over year change in sales by county\n",
    "\n",
    "ax = pred_by_county.loc[:,'%_Change'].hist(bins = 20)\n",
    "ax.set(title = 'Distribution of Predicted Percentage Change in Revenue by County', \\\n",
    "       xlabel = '% Change in Rev by County')"
   ]
  },
  {
   "cell_type": "code",
   "execution_count": 381,
   "metadata": {
    "collapsed": false
   },
   "outputs": [
    {
     "data": {
      "text/html": [
       "<div>\n",
       "<table border=\"1\" class=\"dataframe\">\n",
       "  <thead>\n",
       "    <tr style=\"text-align: right;\">\n",
       "      <th></th>\n",
       "    </tr>\n",
       "  </thead>\n",
       "  <tbody>\n",
       "  </tbody>\n",
       "</table>\n",
       "</div>"
      ],
      "text/plain": [
       "Empty DataFrame\n",
       "Columns: []\n",
       "Index: []"
      ]
     },
     "execution_count": 381,
     "metadata": {},
     "output_type": "execute_result"
    }
   ],
   "source": [
    "pd.DataFrame(pred_by_county.to_csv(\"predsales.csv\"))"
   ]
  },
  {
   "cell_type": "code",
   "execution_count": 383,
   "metadata": {
    "collapsed": false
   },
   "outputs": [
    {
     "data": {
      "text/plain": [
       "Index([u'Predicted_2016_Rev', u'2015_Rev', u'%_Change'], dtype='object')"
      ]
     },
     "execution_count": 383,
     "metadata": {},
     "output_type": "execute_result"
    }
   ],
   "source": [
    "pred_by_county.columns"
   ]
  },
  {
   "cell_type": "code",
   "execution_count": 400,
   "metadata": {
    "collapsed": false
   },
   "outputs": [
    {
     "name": "stdout",
     "output_type": "stream",
     "text": [
      "0.498353600109\n"
     ]
    },
    {
     "data": {
      "text/plain": [
       "<matplotlib.figure.Figure at 0x129c718d0>"
      ]
     },
     "metadata": {},
     "output_type": "display_data"
    },
    {
     "data": {
      "image/png": "[encoded data removed]",
      "text/plain": [
       "<matplotlib.figure.Figure at 0x12ddd2350>"
      ]
     },
     "metadata": {},
     "output_type": "display_data"
    }
   ],
   "source": [
    "pred_by_county.sort_values('Predicted_2016_Rev', ascending= False, inplace=True)\n",
    "top_5 = pred_by_county.iloc[:5,:1]\n",
    "top_5 = top_5.applymap(lambda x: x/100000)\n",
    "\n",
    "print sum(top_5['Predicted_2016_Rev']) / sum(pred_by_county['Predicted_2016_Rev']) *100000\n",
    "\n",
    "fig = plt.figure(figsize = (16,20))\n",
    "ax = top_5.plot(kind = 'bar')\n",
    "ax.set_title('Top 5 Counties Projected 2016',fontsize = 12)\n",
    "ax.set_xlabel('County',fontsize = 12) \n",
    "ax.set_ylabel('$ Revueen (m)', fontsize = 12)\n",
    "plt.tick_params(axis='both', which='major', labelsize = 12)\n",
    "locs, labels = plt.xticks()\n",
    "plt.setp(labels, rotation=45)\n",
    "ax.legend(loc=1,prop={'size':16})\n",
    "\n",
    "plt.show()"
   ]
  },
  {
   "cell_type": "markdown",
   "metadata": {},
   "source": [
    "# Explore the data\n",
    "\n",
    "Perform some exploratory statistical analysis and make some plots, such as histograms of transaction totals, bottles sold, etc."
   ]
  },
  {
   "cell_type": "code",
   "execution_count": null,
   "metadata": {
    "collapsed": true
   },
   "outputs": [],
   "source": [
    "import seaborn as sns\n",
    "import matplotlib.pyplot as plt"
   ]
  },
  {
   "cell_type": "code",
   "execution_count": null,
   "metadata": {
    "collapsed": false
   },
   "outputs": [],
   "source": [
    "len(iowa['County'].value_counts())"
   ]
  },
  {
   "cell_type": "code",
   "execution_count": null,
   "metadata": {
    "collapsed": false
   },
   "outputs": [],
   "source": [
    "iowa_county = pd.pivot_table(iowa, index=iowa['County'], values=['Sale (Dollars)'])\n",
    "iowa_county.head()"
   ]
  },
  {
   "cell_type": "markdown",
   "metadata": {},
   "source": [
    "## Record your findings\n",
    "\n",
    "Be sure to write out anything observations from your exploratory analysis."
   ]
  },
  {
   "cell_type": "markdown",
   "metadata": {},
   "source": [
    "# Mine the data\n",
    "Now you are ready to compute the variables you will use for your regression from the data. For example, you may want to\n",
    "compute total sales per store from Jan to March of 2015, mean price per bottle, etc. Refer to the readme for more ideas appropriate to your scenario.\n",
    "\n",
    "Pandas is your friend for this task. Take a look at the operations [here](http://pandas.pydata.org/pandas-docs/stable/groupby.html) for ideas on how to make the best use of pandas and feel free to search for blog and Stack Overflow posts to help you group data by certain variables and compute sums, means, etc. You may find it useful to create a new data frame to house this summary data."
   ]
  },
  {
   "cell_type": "markdown",
   "metadata": {},
   "source": [
    "# Refine the data\n",
    "Look for any statistical relationships, correlations, or other relevant properties of the dataset."
   ]
  },
  {
   "cell_type": "code",
   "execution_count": null,
   "metadata": {
    "collapsed": true
   },
   "outputs": [],
   "source": []
  },
  {
   "cell_type": "markdown",
   "metadata": {},
   "source": [
    "# Build your models\n",
    "\n",
    "Using scikit-learn or statsmodels, build the necessary models for your scenario. Evaluate model fit."
   ]
  },
  {
   "cell_type": "code",
   "execution_count": null,
   "metadata": {
    "collapsed": true
   },
   "outputs": [],
   "source": [
    "from sklearn import linear_model\n"
   ]
  },
  {
   "cell_type": "markdown",
   "metadata": {},
   "source": [
    "## Plot your results\n",
    "\n",
    "Again make sure that you record any valuable information. For example, in the tax scenario, did you find the sales from the first three months of the year to be a good predictor of the total sales for the year? Plot the predictions versus the true values and discuss the successes and limitations of your models"
   ]
  },
  {
   "cell_type": "code",
   "execution_count": null,
   "metadata": {
    "collapsed": true
   },
   "outputs": [],
   "source": []
  },
  {
   "cell_type": "markdown",
   "metadata": {},
   "source": [
    "# Present the Results\n",
    "\n",
    "Present your conclusions and results. If you have more than one interesting model feel free to include more than one along with a discussion. Use your work in this notebook to prepare your write-up."
   ]
  },
  {
   "cell_type": "code",
   "execution_count": null,
   "metadata": {
    "collapsed": true
   },
   "outputs": [],
   "source": []
  }
 ],
 "metadata": {
  "kernelspec": {
   "display_name": "Python 2",
   "language": "python",
   "name": "python2"
  },
  "language_info": {
   "codemirror_mode": {
    "name": "ipython",
    "version": 2
   },
   "file_extension": ".py",
   "mimetype": "text/x-python",
   "name": "python",
   "nbconvert_exporter": "python",
   "pygments_lexer": "ipython2",
   "version": "2.7.12"
  }
 },
 "nbformat": 4,
 "nbformat_minor": 0
}
