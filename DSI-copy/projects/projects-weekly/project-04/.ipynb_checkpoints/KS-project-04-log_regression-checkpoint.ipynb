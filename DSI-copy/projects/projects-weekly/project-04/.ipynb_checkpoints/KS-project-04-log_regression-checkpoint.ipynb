{
 "cells": [
  {
   "cell_type": "code",
   "execution_count": 1,
   "metadata": {
    "collapsed": true
   },
   "outputs": [],
   "source": [
    "import requests\n",
    "import bs4\n",
    "from bs4 import BeautifulSoup\n",
    "from IPython.display import HTML\n",
    "\n",
    "import numpy as np\n",
    "import pandas as pd\n",
    "\n",
    "import matplotlib.pyplot as plt\n",
    "%matplotlib inline\n",
    "\n",
    "import statsmodels.api as sm\n",
    "\n",
    "from sklearn.linear_model import LogisticRegression, LogisticRegressionCV\n",
    "from sklearn.grid_search import GridSearchCV\n",
    "from sklearn.cross_validation import train_test_split"
   ]
  },
  {
   "cell_type": "code",
   "execution_count": 2,
   "metadata": {
    "collapsed": false
   },
   "outputs": [
    {
     "data": {
      "text/html": [
       "<div>\n",
       "<table border=\"1\" class=\"dataframe\">\n",
       "  <thead>\n",
       "    <tr style=\"text-align: right;\">\n",
       "      <th></th>\n",
       "      <th>city</th>\n",
       "      <th>location</th>\n",
       "      <th>company</th>\n",
       "      <th>title</th>\n",
       "      <th>salary</th>\n",
       "      <th>description</th>\n",
       "      <th>low_range</th>\n",
       "      <th>high_range</th>\n",
       "      <th>avg_salary</th>\n",
       "    </tr>\n",
       "  </thead>\n",
       "  <tbody>\n",
       "    <tr>\n",
       "      <th>0</th>\n",
       "      <td>Boulder</td>\n",
       "      <td>Boulder, CO</td>\n",
       "      <td>CaliberMind</td>\n",
       "      <td>Senior Data Scientist</td>\n",
       "      <td>[$120,000 ]</td>\n",
       "      <td>The Chief Data Scientist is a critical role in...</td>\n",
       "      <td>120000</td>\n",
       "      <td>120000</td>\n",
       "      <td>120000.0</td>\n",
       "    </tr>\n",
       "    <tr>\n",
       "      <th>1</th>\n",
       "      <td>Boulder</td>\n",
       "      <td>Boulder, CO</td>\n",
       "      <td>University of Colorado</td>\n",
       "      <td>Managing Director for STROBE</td>\n",
       "      <td>[$100,000 ,  $115,000 ]</td>\n",
       "      <td>Of visiting scientists; In use of excel, data ...</td>\n",
       "      <td>100000</td>\n",
       "      <td>115000</td>\n",
       "      <td>107500.0</td>\n",
       "    </tr>\n",
       "    <tr>\n",
       "      <th>2</th>\n",
       "      <td>Boulder</td>\n",
       "      <td>Denver, CO</td>\n",
       "      <td>Denver Public Schools</td>\n",
       "      <td>RESEARCH ANALYST – 16996</td>\n",
       "      <td>[$57,580 ,  $69,098 ]</td>\n",
       "      <td>Fulfill internal data requests, and coordinate...</td>\n",
       "      <td>57580</td>\n",
       "      <td>69098</td>\n",
       "      <td>63339.0</td>\n",
       "    </tr>\n",
       "    <tr>\n",
       "      <th>3</th>\n",
       "      <td>Boulder</td>\n",
       "      <td>Denver, CO</td>\n",
       "      <td>xentity corporation</td>\n",
       "      <td>Government Enterprise Architect</td>\n",
       "      <td>[$95,000 ,  $127,000 ]</td>\n",
       "      <td>Validate data models (logical and physical) fo...</td>\n",
       "      <td>95000</td>\n",
       "      <td>127000</td>\n",
       "      <td>111000.0</td>\n",
       "    </tr>\n",
       "    <tr>\n",
       "      <th>4</th>\n",
       "      <td>Boulder</td>\n",
       "      <td>Denver, CO 80226</td>\n",
       "      <td>Patsy's Craft Confections | Summit Soap | Maui...</td>\n",
       "      <td>Food Scientist: Chemistry &amp; Formulations</td>\n",
       "      <td>[$35,000 ]</td>\n",
       "      <td>Looking for a Food Scientist:. Secondary and/o...</td>\n",
       "      <td>35000</td>\n",
       "      <td>35000</td>\n",
       "      <td>35000.0</td>\n",
       "    </tr>\n",
       "  </tbody>\n",
       "</table>\n",
       "</div>"
      ],
      "text/plain": [
       "      city          location  \\\n",
       "0  Boulder       Boulder, CO   \n",
       "1  Boulder       Boulder, CO   \n",
       "2  Boulder        Denver, CO   \n",
       "3  Boulder        Denver, CO   \n",
       "4  Boulder  Denver, CO 80226   \n",
       "\n",
       "                                             company  \\\n",
       "0                                        CaliberMind   \n",
       "1                             University of Colorado   \n",
       "2                              Denver Public Schools   \n",
       "3                                xentity corporation   \n",
       "4  Patsy's Craft Confections | Summit Soap | Maui...   \n",
       "\n",
       "                                      title                   salary  \\\n",
       "0                     Senior Data Scientist              [$120,000 ]   \n",
       "1              Managing Director for STROBE  [$100,000 ,  $115,000 ]   \n",
       "2                  RESEARCH ANALYST – 16996    [$57,580 ,  $69,098 ]   \n",
       "3           Government Enterprise Architect   [$95,000 ,  $127,000 ]   \n",
       "4  Food Scientist: Chemistry & Formulations               [$35,000 ]   \n",
       "\n",
       "                                         description  low_range  high_range  \\\n",
       "0  The Chief Data Scientist is a critical role in...     120000      120000   \n",
       "1  Of visiting scientists; In use of excel, data ...     100000      115000   \n",
       "2  Fulfill internal data requests, and coordinate...      57580       69098   \n",
       "3  Validate data models (logical and physical) fo...      95000      127000   \n",
       "4  Looking for a Food Scientist:. Secondary and/o...      35000       35000   \n",
       "\n",
       "   avg_salary  \n",
       "0    120000.0  \n",
       "1    107500.0  \n",
       "2     63339.0  \n",
       "3    111000.0  \n",
       "4     35000.0  "
      ]
     },
     "execution_count": 2,
     "metadata": {},
     "output_type": "execute_result"
    }
   ],
   "source": [
    "# Load df from csv file of previously scraped indeed.com search results\n",
    "\n",
    "df = pd.read_csv(\"indeed_salary.csv\")\n",
    "df.drop('Unnamed: 0', axis=1, inplace=True)\n",
    "df.rename(columns={'avg': 'avg_salary'}, inplace=True)\n",
    "df.head()"
   ]
  },
  {
   "cell_type": "code",
   "execution_count": 3,
   "metadata": {
    "collapsed": false
   },
   "outputs": [
    {
     "data": {
      "text/plain": [
       "(119, 9)"
      ]
     },
     "execution_count": 3,
     "metadata": {},
     "output_type": "execute_result"
    }
   ],
   "source": [
    "df.shape"
   ]
  },
  {
   "cell_type": "code",
   "execution_count": 4,
   "metadata": {
    "collapsed": false
   },
   "outputs": [
    {
     "data": {
      "text/plain": [
       "New+York                  34\n",
       "Atlanta                   20\n",
       "Denver                    14\n",
       "Boston                    12\n",
       "San+Jose                  11\n",
       "Boulder                    9\n",
       "Seattle                    7\n",
       "San+Francisco              5\n",
       "Austin                     4\n",
       "Minneapolis-Saint+Paul     3\n",
       "Name: city, dtype: int64"
      ]
     },
     "execution_count": 4,
     "metadata": {},
     "output_type": "execute_result"
    }
   ],
   "source": [
    "# Check number of jobs per city\n",
    "\n",
    "df[\"city\"].value_counts()"
   ]
  },
  {
   "cell_type": "code",
   "execution_count": 5,
   "metadata": {
    "collapsed": false
   },
   "outputs": [
    {
     "name": "stdout",
     "output_type": "stream",
     "text": [
      "Median salary:  112500.0\n"
     ]
    },
    {
     "data": {
      "text/html": [
       "<div>\n",
       "<table border=\"1\" class=\"dataframe\">\n",
       "  <thead>\n",
       "    <tr style=\"text-align: right;\">\n",
       "      <th></th>\n",
       "      <th>city</th>\n",
       "      <th>location</th>\n",
       "      <th>company</th>\n",
       "      <th>title</th>\n",
       "      <th>salary</th>\n",
       "      <th>description</th>\n",
       "      <th>low_range</th>\n",
       "      <th>high_range</th>\n",
       "      <th>avg_salary</th>\n",
       "      <th>high_salary</th>\n",
       "    </tr>\n",
       "  </thead>\n",
       "  <tbody>\n",
       "    <tr>\n",
       "      <th>114</th>\n",
       "      <td>New+York</td>\n",
       "      <td>New York, NY</td>\n",
       "      <td>Beeswax</td>\n",
       "      <td>Senior / Director Data Science</td>\n",
       "      <td>[$130,000 ,  $165,000 ]</td>\n",
       "      <td>A minimum of 5 years experience in Machine lea...</td>\n",
       "      <td>130000</td>\n",
       "      <td>165000</td>\n",
       "      <td>147500.0</td>\n",
       "      <td>1</td>\n",
       "    </tr>\n",
       "    <tr>\n",
       "      <th>115</th>\n",
       "      <td>New+York</td>\n",
       "      <td>New York, NY</td>\n",
       "      <td>Averity</td>\n",
       "      <td>Senior Data Scientist for Hedge Fund</td>\n",
       "      <td>[$150,000 ,  $250,000 ]</td>\n",
       "      <td>Are you Senior Data Scientist looking to join ...</td>\n",
       "      <td>150000</td>\n",
       "      <td>250000</td>\n",
       "      <td>200000.0</td>\n",
       "      <td>1</td>\n",
       "    </tr>\n",
       "    <tr>\n",
       "      <th>116</th>\n",
       "      <td>New+York</td>\n",
       "      <td>New York, NY</td>\n",
       "      <td>Harnham</td>\n",
       "      <td>Big Data Engineer</td>\n",
       "      <td>[$110,000 ]</td>\n",
       "      <td>You will join the data engineering team and wo...</td>\n",
       "      <td>110000</td>\n",
       "      <td>110000</td>\n",
       "      <td>110000.0</td>\n",
       "      <td>0</td>\n",
       "    </tr>\n",
       "    <tr>\n",
       "      <th>117</th>\n",
       "      <td>New+York</td>\n",
       "      <td>New York, NY</td>\n",
       "      <td>Columbia University</td>\n",
       "      <td>Senior Research Staff Assistant</td>\n",
       "      <td>[$50,000 ]</td>\n",
       "      <td>Work with scientists to conduct quality contro...</td>\n",
       "      <td>50000</td>\n",
       "      <td>50000</td>\n",
       "      <td>50000.0</td>\n",
       "      <td>0</td>\n",
       "    </tr>\n",
       "    <tr>\n",
       "      <th>118</th>\n",
       "      <td>New+York</td>\n",
       "      <td>New York, NY 10018 (Clinton area)</td>\n",
       "      <td>ingenium</td>\n",
       "      <td>Lead Data Engineer</td>\n",
       "      <td>[$200,000 ]</td>\n",
       "      <td>Lead and manage a team of data engineers and s...</td>\n",
       "      <td>200000</td>\n",
       "      <td>200000</td>\n",
       "      <td>200000.0</td>\n",
       "      <td>1</td>\n",
       "    </tr>\n",
       "  </tbody>\n",
       "</table>\n",
       "</div>"
      ],
      "text/plain": [
       "         city                           location              company  \\\n",
       "114  New+York                       New York, NY              Beeswax   \n",
       "115  New+York                       New York, NY              Averity   \n",
       "116  New+York                       New York, NY              Harnham   \n",
       "117  New+York                       New York, NY  Columbia University   \n",
       "118  New+York  New York, NY 10018 (Clinton area)             ingenium   \n",
       "\n",
       "                                    title                   salary  \\\n",
       "114        Senior / Director Data Science  [$130,000 ,  $165,000 ]   \n",
       "115  Senior Data Scientist for Hedge Fund  [$150,000 ,  $250,000 ]   \n",
       "116                     Big Data Engineer              [$110,000 ]   \n",
       "117       Senior Research Staff Assistant               [$50,000 ]   \n",
       "118                    Lead Data Engineer              [$200,000 ]   \n",
       "\n",
       "                                           description  low_range  high_range  \\\n",
       "114  A minimum of 5 years experience in Machine lea...     130000      165000   \n",
       "115  Are you Senior Data Scientist looking to join ...     150000      250000   \n",
       "116  You will join the data engineering team and wo...     110000      110000   \n",
       "117  Work with scientists to conduct quality contro...      50000       50000   \n",
       "118  Lead and manage a team of data engineers and s...     200000      200000   \n",
       "\n",
       "     avg_salary  high_salary  \n",
       "114    147500.0            1  \n",
       "115    200000.0            1  \n",
       "116    110000.0            0  \n",
       "117     50000.0            0  \n",
       "118    200000.0            1  "
      ]
     },
     "execution_count": 5,
     "metadata": {},
     "output_type": "execute_result"
    }
   ],
   "source": [
    "# Calculate median salary and set binary 0 or 1 for low/high salary\n",
    "\n",
    "median_salary = np.median(df[\"avg_salary\"])\n",
    "df[\"high_salary\"] = df[\"avg_salary\"].apply(lambda x: 1 if x >= median_salary else 0)\n",
    "print \"Median salary: \", median_salary\n",
    "df.tail()"
   ]
  },
  {
   "cell_type": "code",
   "execution_count": 6,
   "metadata": {
    "collapsed": false
   },
   "outputs": [
    {
     "data": {
      "image/png": "[encoded data removed]",
      "text/plain": [
       "<matplotlib.figure.Figure at 0x1176aa450>"
      ]
     },
     "metadata": {},
     "output_type": "display_data"
    }
   ],
   "source": [
    "# Plot distribution of salaries\n",
    "\n",
    "fig = plt.figure(figsize= (6,4)) \n",
    "ax = df[\"avg_salary\"].plot(kind=\"hist\")\n",
    "plt.title(\"Indeed.com Data Science Salary Distribution\", y=1.01, fontsize=14)\n",
    "ax.set_xlabel('Salary',fontsize = 14)\n",
    "ax.set_ylabel('Frequency', fontsize = 14)\n",
    "plt.tick_params(axis='both', which='major', labelsize=10)"
   ]
  },
  {
   "cell_type": "code",
   "execution_count": 7,
   "metadata": {
    "collapsed": true
   },
   "outputs": [],
   "source": [
    "# Create dummy variables for city \n",
    "\n",
    "df = df.join(pd.get_dummies(df['city'], prefix='dum'))"
   ]
  },
  {
   "cell_type": "code",
   "execution_count": 8,
   "metadata": {
    "collapsed": false
   },
   "outputs": [
    {
     "data": {
      "text/html": [
       "<div>\n",
       "<table border=\"1\" class=\"dataframe\">\n",
       "  <thead>\n",
       "    <tr style=\"text-align: right;\">\n",
       "      <th></th>\n",
       "      <th>city</th>\n",
       "      <th>location</th>\n",
       "      <th>company</th>\n",
       "      <th>title</th>\n",
       "      <th>salary</th>\n",
       "      <th>description</th>\n",
       "      <th>low_range</th>\n",
       "      <th>high_range</th>\n",
       "      <th>avg_salary</th>\n",
       "      <th>high_salary</th>\n",
       "      <th>dum_Atlanta</th>\n",
       "      <th>dum_Austin</th>\n",
       "      <th>dum_Boston</th>\n",
       "      <th>dum_Boulder</th>\n",
       "      <th>dum_Denver</th>\n",
       "      <th>dum_Minneapolis-Saint+Paul</th>\n",
       "      <th>dum_New+York</th>\n",
       "      <th>dum_San+Francisco</th>\n",
       "      <th>dum_San+Jose</th>\n",
       "      <th>dum_Seattle</th>\n",
       "    </tr>\n",
       "  </thead>\n",
       "  <tbody>\n",
       "    <tr>\n",
       "      <th>0</th>\n",
       "      <td>Boulder</td>\n",
       "      <td>Boulder, CO</td>\n",
       "      <td>CaliberMind</td>\n",
       "      <td>Senior Data Scientist</td>\n",
       "      <td>[$120,000 ]</td>\n",
       "      <td>The Chief Data Scientist is a critical role in...</td>\n",
       "      <td>120000</td>\n",
       "      <td>120000</td>\n",
       "      <td>120000.0</td>\n",
       "      <td>1</td>\n",
       "      <td>0.0</td>\n",
       "      <td>0.0</td>\n",
       "      <td>0.0</td>\n",
       "      <td>1.0</td>\n",
       "      <td>0.0</td>\n",
       "      <td>0.0</td>\n",
       "      <td>0.0</td>\n",
       "      <td>0.0</td>\n",
       "      <td>0.0</td>\n",
       "      <td>0.0</td>\n",
       "    </tr>\n",
       "    <tr>\n",
       "      <th>1</th>\n",
       "      <td>Boulder</td>\n",
       "      <td>Boulder, CO</td>\n",
       "      <td>University of Colorado</td>\n",
       "      <td>Managing Director for STROBE</td>\n",
       "      <td>[$100,000 ,  $115,000 ]</td>\n",
       "      <td>Of visiting scientists; In use of excel, data ...</td>\n",
       "      <td>100000</td>\n",
       "      <td>115000</td>\n",
       "      <td>107500.0</td>\n",
       "      <td>0</td>\n",
       "      <td>0.0</td>\n",
       "      <td>0.0</td>\n",
       "      <td>0.0</td>\n",
       "      <td>1.0</td>\n",
       "      <td>0.0</td>\n",
       "      <td>0.0</td>\n",
       "      <td>0.0</td>\n",
       "      <td>0.0</td>\n",
       "      <td>0.0</td>\n",
       "      <td>0.0</td>\n",
       "    </tr>\n",
       "    <tr>\n",
       "      <th>2</th>\n",
       "      <td>Boulder</td>\n",
       "      <td>Denver, CO</td>\n",
       "      <td>Denver Public Schools</td>\n",
       "      <td>RESEARCH ANALYST – 16996</td>\n",
       "      <td>[$57,580 ,  $69,098 ]</td>\n",
       "      <td>Fulfill internal data requests, and coordinate...</td>\n",
       "      <td>57580</td>\n",
       "      <td>69098</td>\n",
       "      <td>63339.0</td>\n",
       "      <td>0</td>\n",
       "      <td>0.0</td>\n",
       "      <td>0.0</td>\n",
       "      <td>0.0</td>\n",
       "      <td>1.0</td>\n",
       "      <td>0.0</td>\n",
       "      <td>0.0</td>\n",
       "      <td>0.0</td>\n",
       "      <td>0.0</td>\n",
       "      <td>0.0</td>\n",
       "      <td>0.0</td>\n",
       "    </tr>\n",
       "  </tbody>\n",
       "</table>\n",
       "</div>"
      ],
      "text/plain": [
       "      city     location                 company                         title  \\\n",
       "0  Boulder  Boulder, CO             CaliberMind         Senior Data Scientist   \n",
       "1  Boulder  Boulder, CO  University of Colorado  Managing Director for STROBE   \n",
       "2  Boulder   Denver, CO   Denver Public Schools      RESEARCH ANALYST – 16996   \n",
       "\n",
       "                    salary                                        description  \\\n",
       "0              [$120,000 ]  The Chief Data Scientist is a critical role in...   \n",
       "1  [$100,000 ,  $115,000 ]  Of visiting scientists; In use of excel, data ...   \n",
       "2    [$57,580 ,  $69,098 ]  Fulfill internal data requests, and coordinate...   \n",
       "\n",
       "   low_range  high_range  avg_salary  high_salary  dum_Atlanta  dum_Austin  \\\n",
       "0     120000      120000    120000.0            1          0.0         0.0   \n",
       "1     100000      115000    107500.0            0          0.0         0.0   \n",
       "2      57580       69098     63339.0            0          0.0         0.0   \n",
       "\n",
       "   dum_Boston  dum_Boulder  dum_Denver  dum_Minneapolis-Saint+Paul  \\\n",
       "0         0.0          1.0         0.0                         0.0   \n",
       "1         0.0          1.0         0.0                         0.0   \n",
       "2         0.0          1.0         0.0                         0.0   \n",
       "\n",
       "   dum_New+York  dum_San+Francisco  dum_San+Jose  dum_Seattle  \n",
       "0           0.0                0.0           0.0          0.0  \n",
       "1           0.0                0.0           0.0          0.0  \n",
       "2           0.0                0.0           0.0          0.0  "
      ]
     },
     "execution_count": 8,
     "metadata": {},
     "output_type": "execute_result"
    }
   ],
   "source": [
    "df.head(3)"
   ]
  },
  {
   "cell_type": "code",
   "execution_count": 12,
   "metadata": {
    "collapsed": false
   },
   "outputs": [
    {
     "data": {
      "text/plain": [
       "<matplotlib.figure.Figure at 0x11a376890>"
      ]
     },
     "metadata": {},
     "output_type": "display_data"
    },
    {
     "data": {
      "image/png": "[encoded data removed]",
      "text/plain": [
       "<matplotlib.figure.Figure at 0x117669d90>"
      ]
     },
     "metadata": {},
     "output_type": "display_data"
    }
   ],
   "source": [
    "# Plot high vs low salary job count per city\n",
    "\n",
    "plt.figure() \n",
    "ax = pd.pivot_table(df, index=[\"city\"], values=[\"avg_salary\"], columns = [\"high_salary\"], \\\n",
    "                    aggfunc = (len)).plot(kind=\"bar\", figsize=(10,4))\n",
    "plt.title(\"Salary by Location\", y=1.01, fontsize=14)\n",
    "ax.set_xlabel('City',fontsize = 14)\n",
    "ax.set_ylabel('Job Count', fontsize = 14)\n",
    "plt.tick_params(axis='both', which='major', labelsize=10)\n",
    "locs, labels = plt.xticks()\n",
    "plt.setp(labels, rotation=30)\n",
    "plt.legend(loc=2,prop={'size':20})\n",
    "plt.legend(['Low salary', 'High salary'])\n",
    "plt.show()"
   ]
  },
  {
   "cell_type": "code",
   "execution_count": 13,
   "metadata": {
    "collapsed": false
   },
   "outputs": [
    {
     "data": {
      "text/plain": [
       "Index([u'city', u'location', u'company', u'title', u'salary', u'description',\n",
       "       u'low_range', u'high_range', u'avg_salary', u'high_salary',\n",
       "       u'dum_Atlanta', u'dum_Austin', u'dum_Boston', u'dum_Boulder',\n",
       "       u'dum_Denver', u'dum_Minneapolis-Saint+Paul', u'dum_New+York',\n",
       "       u'dum_San+Francisco', u'dum_San+Jose', u'dum_Seattle'],\n",
       "      dtype='object')"
      ]
     },
     "execution_count": 13,
     "metadata": {},
     "output_type": "execute_result"
    }
   ],
   "source": [
    "df.columns"
   ]
  },
  {
   "cell_type": "code",
   "execution_count": 17,
   "metadata": {
    "collapsed": false
   },
   "outputs": [
    {
     "name": "stdout",
     "output_type": "stream",
     "text": [
      "Warning: Maximum number of iterations has been exceeded.\n",
      "         Current function value: 0.523631\n",
      "         Iterations: 35\n",
      "                           Logit Regression Results                           \n",
      "==============================================================================\n",
      "Dep. Variable:            high_salary   No. Observations:                  119\n",
      "Model:                          Logit   Df Residuals:                      110\n",
      "Method:                           MLE   Df Model:                            8\n",
      "Date:                Sun, 16 Oct 2016   Pseudo R-squ.:                  0.2445\n",
      "Time:                        12:17:30   Log-Likelihood:                -62.312\n",
      "converged:                      False   LL-Null:                       -82.480\n",
      "                                        LLR p-value:                 2.773e-06\n",
      "==============================================================================================\n",
      "                                 coef    std err          z      P>|z|      [95.0% Conf. Int.]\n",
      "----------------------------------------------------------------------------------------------\n",
      "dum_Atlanta                   -0.6190      0.469     -1.320      0.187        -1.538     0.300\n",
      "dum_Austin                          0      1.000          0      1.000        -1.960     1.960\n",
      "dum_Boston                     0.3365      0.586      0.575      0.566        -0.811     1.484\n",
      "dum_Boulder                   -2.0794      1.061     -1.961      0.050        -4.158    -0.001\n",
      "dum_Denver                    -2.5649      1.038     -2.472      0.013        -4.599    -0.531\n",
      "dum_Minneapolis-Saint+Paul     0.6931      1.225      0.566      0.571        -1.707     3.094\n",
      "dum_San+Francisco             23.7424    6.4e+04      0.000      1.000     -1.25e+05  1.25e+05\n",
      "dum_San+Jose                   2.3026      1.049      2.195      0.028         0.247     4.358\n",
      "dum_Seattle                    1.7918      1.080      1.659      0.097        -0.325     3.909\n",
      "==============================================================================================\n",
      "Odds Ratios:\n",
      "dum_Atlanta                   5.384615e-01\n",
      "dum_Austin                    1.000000e+00\n",
      "dum_Boston                    1.400000e+00\n",
      "dum_Boulder                   1.250000e-01\n",
      "dum_Denver                    7.692308e-02\n",
      "dum_Minneapolis-Saint+Paul    2.000000e+00\n",
      "dum_San+Francisco             2.047314e+10\n",
      "dum_San+Jose                  1.000000e+01\n",
      "dum_Seattle                   6.000000e+00\n",
      "dtype: float64\n"
     ]
    },
    {
     "name": "stderr",
     "output_type": "stream",
     "text": [
      "/Users/kristensu/anaconda/lib/python2.7/site-packages/statsmodels/base/model.py:466: ConvergenceWarning: Maximum Likelihood optimization failed to converge. Check mle_retvals\n",
      "  \"Check mle_retvals\", ConvergenceWarning)\n"
     ]
    }
   ],
   "source": [
    "# Run logistic regression only using city dummy vars (drop NY, will be used as reference)\n",
    "non_reg_cols = [\"city\", \"location\", \"company\", \"title\", \"salary\", \"description\",\"low_range\", \\\n",
    "             \"high_range\",\"avg_salary\", \"high_salary\"]\n",
    "pred_df = df.drop(non_reg_cols, axis=1)\n",
    "pred_df.drop(\"dum_New+York\",axis=1,inplace=True)\n",
    "y = df[\"high_salary\"]\n",
    "X = pred_df\n",
    "\n",
    "logit = sm.Logit(y, X)\n",
    "result = logit.fit()\n",
    "\n",
    "print result.summary()\n",
    "print \"Odds Ratios:\"\n",
    "print np.exp(result.params)"
   ]
  },
  {
   "cell_type": "code",
   "execution_count": null,
   "metadata": {
    "collapsed": true
   },
   "outputs": [],
   "source": []
  }
 ],
 "metadata": {
  "kernelspec": {
   "display_name": "Python 2",
   "language": "python",
   "name": "python2"
  },
  "language_info": {
   "codemirror_mode": {
    "name": "ipython",
    "version": 2
   },
   "file_extension": ".py",
   "mimetype": "text/x-python",
   "name": "python",
   "nbconvert_exporter": "python",
   "pygments_lexer": "ipython2",
   "version": "2.7.11"
  }
 },
 "nbformat": 4,
 "nbformat_minor": 0
}
