{
 "cells": [
  {
   "cell_type": "code",
   "execution_count": 4,
   "metadata": {
    "ExecuteTime": {
     "end_time": "2016-10-31T12:12:59.135323",
     "start_time": "2016-10-31T12:12:59.115503"
    },
    "collapsed": false
   },
   "outputs": [],
   "source": [
    "import bs4\n",
    "from bs4 import BeautifulSoup\n",
    "import requests\n",
    "import re\n",
    "import json\n",
    "import pandas as pd\n",
    "import numpy as np\n",
    "\n",
    "from sklearn.feature_extraction.text import CountVectorizer\n",
    "import matplotlib.pyplot as plt\n",
    "%matplotlib inline\n",
    "plt.style.use('fivethirtyeight')\n",
    "import seaborn as sns\n",
    "\n",
    "from sklearn.linear_model import LinearRegression\n",
    "from sklearn.metrics import r2_score, classification_report, confusion_matrix, accuracy_score\n",
    "from sklearn.tree import DecisionTreeRegressor, DecisionTreeClassifier\n",
    "from sklearn.cross_validation import KFold, StratifiedKFold, train_test_split\n",
    "from sklearn.model_selection import cross_val_score\n",
    "from sklearn.grid_search import GridSearchCV\n",
    "from sklearn.ensemble import RandomForestRegressor, AdaBoostRegressor, GradientBoostingRegressor,\\\n",
    "AdaBoostClassifier, GradientBoostingClassifier, BaggingClassifier, \\\n",
    "RandomForestClassifier, BaggingRegressor\n",
    "from sklearn.neighbors import KNeighborsRegressor"
   ]
  },
  {
   "cell_type": "code",
   "execution_count": 5,
   "metadata": {
    "ExecuteTime": {
     "end_time": "2016-10-31T12:13:16.406966",
     "start_time": "2016-10-31T12:13:14.643993"
    },
    "collapsed": true
   },
   "outputs": [],
   "source": [
    "# get list of top 250 movies from imdb\n",
    "URL =\"http://www.imdb.com/chart/top\"\n",
    "r = requests.get(URL)\n",
    "top250_soup = BeautifulSoup(r.content, \"lxml\")"
   ]
  },
  {
   "cell_type": "code",
   "execution_count": 6,
   "metadata": {
    "ExecuteTime": {
     "end_time": "2016-10-31T12:13:30.127805",
     "start_time": "2016-10-31T12:13:29.788567"
    },
    "collapsed": true
   },
   "outputs": [],
   "source": [
    "# create list of imdb ids and names\n",
    "name_list = []\n",
    "id_list = []\n",
    "for movie in top250_soup.find_all('a', href=re.compile('/title/')):\n",
    "    name_list.append(movie.text.strip())\n",
    "    id_list.append(movie[\"href\"])\n",
    "\n",
    "id_list = [x.split(\"/\")[2] for x in id_list]\n",
    "id_list = [j for i,j in enumerate(id_list) if i%2]\n",
    "name_list = [j.encode(\"utf-8\") for i,j in enumerate(name_list) if i%2]"
   ]
  },
  {
   "cell_type": "code",
   "execution_count": 8,
   "metadata": {
    "ExecuteTime": {
     "end_time": "2016-10-31T12:13:40.522720",
     "start_time": "2016-10-31T12:13:40.517383"
    },
    "collapsed": false
   },
   "outputs": [
    {
     "data": {
      "text/plain": [
       "250"
      ]
     },
     "execution_count": 8,
     "metadata": {},
     "output_type": "execute_result"
    }
   ],
   "source": [
    "len(name_list)"
   ]
  },
  {
   "cell_type": "code",
   "execution_count": 9,
   "metadata": {
    "ExecuteTime": {
     "end_time": "2016-10-31T12:16:48.752243",
     "start_time": "2016-10-31T12:14:15.972722"
    },
    "collapsed": true
   },
   "outputs": [],
   "source": [
    "# use id list to send requests to API\n",
    "URL_base = \"http://www.omdbapi.com/?i={}&plot=full&r=json&tomatoes=true\"\n",
    "# loop over id list to put json output in list\n",
    "json_list = []\n",
    "for i in id_list:\n",
    "    r = requests.get(URL_base.format(i))\n",
    "    json_list.append(json.loads(r.content))"
   ]
  },
  {
   "cell_type": "code",
   "execution_count": 10,
   "metadata": {
    "ExecuteTime": {
     "end_time": "2016-10-31T12:16:48.769877",
     "start_time": "2016-10-31T12:16:48.755647"
    },
    "collapsed": false
   },
   "outputs": [
    {
     "data": {
      "text/plain": [
       "{u'Actors': u'Tim Robbins, Morgan Freeman, Bob Gunton, William Sadler',\n",
       " u'Awards': u'Nominated for 7 Oscars. Another 18 wins & 30 nominations.',\n",
       " u'BoxOffice': u'N/A',\n",
       " u'Country': u'USA',\n",
       " u'DVD': u'27 Jan 1998',\n",
       " u'Director': u'Frank Darabont',\n",
       " u'Genre': u'Crime, Drama',\n",
       " u'Language': u'English',\n",
       " u'Metascore': u'80',\n",
       " u'Plot': u\"Chronicles the experiences of a formerly successful banker as a prisoner in the gloomy jailhouse of Shawshank after being found guilty of a crime he did not commit. The film portrays the man's unique way of dealing with his new, torturous life; along the way he befriends a number of fellow prisoners, most notably a wise long-term inmate named Red.\",\n",
       " u'Poster': u'https://images-na.ssl-images-amazon.com/images/M/MV5BODU4MjU4NjIwNl5BMl5BanBnXkFtZTgwMDU2MjEyMDE@._V1_SX300.jpg',\n",
       " u'Production': u'Columbia Pictures',\n",
       " u'Rated': u'R',\n",
       " u'Released': u'14 Oct 1994',\n",
       " u'Response': u'True',\n",
       " u'Runtime': u'142 min',\n",
       " u'Title': u'The Shawshank Redemption',\n",
       " u'Type': u'movie',\n",
       " u'Website': u'N/A',\n",
       " u'Writer': u'Stephen King (short story \"Rita Hayworth and Shawshank Redemption\"), Frank Darabont (screenplay)',\n",
       " u'Year': u'1994',\n",
       " u'imdbID': u'tt0111161',\n",
       " u'imdbRating': u'9.3',\n",
       " u'imdbVotes': u'1,711,064',\n",
       " u'tomatoConsensus': u'The Shawshank Redemption is an uplifting, deeply satisfying prison drama with sensitive direction and fine performances.',\n",
       " u'tomatoFresh': u'61',\n",
       " u'tomatoImage': u'certified',\n",
       " u'tomatoMeter': u'91',\n",
       " u'tomatoRating': u'8.2',\n",
       " u'tomatoReviews': u'67',\n",
       " u'tomatoRotten': u'6',\n",
       " u'tomatoURL': u'http://www.rottentomatoes.com/m/shawshank_redemption/',\n",
       " u'tomatoUserMeter': u'98',\n",
       " u'tomatoUserRating': u'4.4',\n",
       " u'tomatoUserReviews': u'881671'}"
      ]
     },
     "execution_count": 10,
     "metadata": {},
     "output_type": "execute_result"
    }
   ],
   "source": [
    "json_list[0]"
   ]
  },
  {
   "cell_type": "code",
   "execution_count": 11,
   "metadata": {
    "ExecuteTime": {
     "end_time": "2016-10-31T12:16:59.829066",
     "start_time": "2016-10-31T12:16:59.823880"
    },
    "collapsed": true
   },
   "outputs": [],
   "source": [
    "# create list of features to extract from json\n",
    "cols = [\"imdbRating\", \"Title\",\"Rated\",\"Country\", \"Genre\", \"Year\",\"Awards\",\"Runtime\",\"Director\",\\\n",
    "       \"Actors\",\"Plot\",\"Metascore\",\"imdbVotes\", \"Language\",\"tomatoMeter\",\"tomatoRotten\",\"tomatoFresh\"]"
   ]
  },
  {
   "cell_type": "code",
   "execution_count": 12,
   "metadata": {
    "ExecuteTime": {
     "end_time": "2016-10-31T12:17:00.709385",
     "start_time": "2016-10-31T12:17:00.697778"
    },
    "collapsed": true
   },
   "outputs": [],
   "source": [
    "# create dictionary of results for movies; key is id, value is dictionary of fields\n",
    "movie_dict={}\n",
    "for i, j in zip(id_list,json_list):\n",
    "    temp_dict = {}\n",
    "    for col in cols:\n",
    "        temp_dict[col]=j[col]\n",
    "    movie_dict[i] = temp_dict "
   ]
  },
  {
   "cell_type": "code",
   "execution_count": 13,
   "metadata": {
    "ExecuteTime": {
     "end_time": "2016-10-31T12:17:01.581391",
     "start_time": "2016-10-31T12:17:01.402655"
    },
    "collapsed": true
   },
   "outputs": [],
   "source": [
    "# create df of data from API\n",
    "movie_df = pd.DataFrame([k for k,v in movie_dict.iteritems()], columns=[\"id\"])\n",
    "for col in cols:\n",
    "    movie_df = pd.merge(movie_df,pd.DataFrame([(k,v[col]) for k,v in movie_dict.iteritems()], columns=[\"id\",\"var\"]),\\\n",
    "                        on =\"id\", how=\"left\")"
   ]
  },
  {
   "cell_type": "code",
   "execution_count": 14,
   "metadata": {
    "ExecuteTime": {
     "end_time": "2016-10-31T12:17:02.775277",
     "start_time": "2016-10-31T12:17:02.770563"
    },
    "collapsed": true
   },
   "outputs": [],
   "source": [
    "# rename columns\n",
    "col_names = [\"id\"]\n",
    "col_names.extend(cols)\n",
    "movie_df.columns = col_names"
   ]
  },
  {
   "cell_type": "code",
   "execution_count": 15,
   "metadata": {
    "ExecuteTime": {
     "end_time": "2016-10-31T12:20:13.907286",
     "start_time": "2016-10-31T12:17:03.249032"
    },
    "collapsed": true
   },
   "outputs": [],
   "source": [
    "# visit imdb page for each movie (by imdb id) and collect content\n",
    "URL_base = \"http://www.imdb.com/title/{}\"\n",
    "imdb_list = []\n",
    "for i in id_list:\n",
    "    r = requests.get(URL_base.format(i))\n",
    "    imdb_soup = BeautifulSoup(r.content, \"lxml\")\n",
    "    imdb_list.append(imdb_soup)"
   ]
  },
  {
   "cell_type": "code",
   "execution_count": 16,
   "metadata": {
    "ExecuteTime": {
     "end_time": "2016-10-31T12:20:13.914893",
     "start_time": "2016-10-31T12:20:13.909314"
    },
    "collapsed": true
   },
   "outputs": [],
   "source": [
    "# functions to extract gross and budget from pages\n",
    "def extract_gross(page):\n",
    "    for i in page.find_all(\"h4\", class_=\"inline\"):\n",
    "        if i.text == \"Gross:\":\n",
    "            return i.next_sibling.strip()\n",
    "def extract_budget(page):\n",
    "    for i in page.find_all(\"h4\", class_=\"inline\"):\n",
    "        if i.text == \"Budget:\":\n",
    "            return i.next_sibling.strip()"
   ]
  },
  {
   "cell_type": "code",
   "execution_count": 18,
   "metadata": {
    "ExecuteTime": {
     "end_time": "2016-10-31T12:20:55.859723",
     "start_time": "2016-10-31T12:20:24.948377"
    },
    "collapsed": true
   },
   "outputs": [],
   "source": [
    "# scrape budget and gross from pages, create a df\n",
    "gross_list = []\n",
    "budget_list = []\n",
    "for page in imdb_list:\n",
    "    gross_list.append(extract_gross(page))\n",
    "    budget_list.append(extract_budget(page))\n",
    "\n",
    "imdb_df = pd.DataFrame(id_list, columns = [\"id\"])\n",
    "imdb_df[\"Budget\"] = budget_list\n",
    "imdb_df[\"Gross\"] = gross_list"
   ]
  },
  {
   "cell_type": "code",
   "execution_count": 19,
   "metadata": {
    "ExecuteTime": {
     "end_time": "2016-10-31T12:20:55.918073",
     "start_time": "2016-10-31T12:20:55.861457"
    },
    "collapsed": false
   },
   "outputs": [
    {
     "data": {
      "text/html": [
       "<div>\n",
       "<table border=\"1\" class=\"dataframe\">\n",
       "  <thead>\n",
       "    <tr style=\"text-align: right;\">\n",
       "      <th></th>\n",
       "      <th>id</th>\n",
       "      <th>imdbRating</th>\n",
       "      <th>Title</th>\n",
       "      <th>Rated</th>\n",
       "      <th>Country</th>\n",
       "      <th>Genre</th>\n",
       "      <th>Year</th>\n",
       "      <th>Awards</th>\n",
       "      <th>Runtime</th>\n",
       "      <th>Director</th>\n",
       "      <th>Actors</th>\n",
       "      <th>Plot</th>\n",
       "      <th>Metascore</th>\n",
       "      <th>imdbVotes</th>\n",
       "      <th>Language</th>\n",
       "      <th>tomatoMeter</th>\n",
       "      <th>tomatoRotten</th>\n",
       "      <th>tomatoFresh</th>\n",
       "      <th>Budget</th>\n",
       "      <th>Gross</th>\n",
       "    </tr>\n",
       "  </thead>\n",
       "  <tbody>\n",
       "    <tr>\n",
       "      <th>0</th>\n",
       "      <td>tt2582802</td>\n",
       "      <td>8.5</td>\n",
       "      <td>Whiplash</td>\n",
       "      <td>R</td>\n",
       "      <td>USA</td>\n",
       "      <td>Drama, Music</td>\n",
       "      <td>2014</td>\n",
       "      <td>Won 3 Oscars. Another 87 wins &amp; 131 nominations.</td>\n",
       "      <td>107 min</td>\n",
       "      <td>Damien Chazelle</td>\n",
       "      <td>Miles Teller, J.K. Simmons, Paul Reiser, Melis...</td>\n",
       "      <td>A promising young drummer enrolls at a cut-thr...</td>\n",
       "      <td>88</td>\n",
       "      <td>413,720</td>\n",
       "      <td>English</td>\n",
       "      <td>94</td>\n",
       "      <td>15</td>\n",
       "      <td>246</td>\n",
       "      <td>$3,300,000</td>\n",
       "      <td>$13,092,000</td>\n",
       "    </tr>\n",
       "    <tr>\n",
       "      <th>1</th>\n",
       "      <td>tt0047478</td>\n",
       "      <td>8.7</td>\n",
       "      <td>Seven Samurai</td>\n",
       "      <td>UNRATED</td>\n",
       "      <td>Japan</td>\n",
       "      <td>Action, Adventure, Drama</td>\n",
       "      <td>1954</td>\n",
       "      <td>Nominated for 2 Oscars. Another 5 wins &amp; 6 nom...</td>\n",
       "      <td>207 min</td>\n",
       "      <td>Akira Kurosawa</td>\n",
       "      <td>Toshirô Mifune, Takashi Shimura, Keiko Tsushim...</td>\n",
       "      <td>A veteran samurai, who has fallen on hard time...</td>\n",
       "      <td>98</td>\n",
       "      <td>232,249</td>\n",
       "      <td>Japanese</td>\n",
       "      <td>100</td>\n",
       "      <td>0</td>\n",
       "      <td>57</td>\n",
       "      <td>$2,000,000</td>\n",
       "      <td>$269,061</td>\n",
       "    </tr>\n",
       "    <tr>\n",
       "      <th>2</th>\n",
       "      <td>tt0082971</td>\n",
       "      <td>8.5</td>\n",
       "      <td>Raiders of the Lost Ark</td>\n",
       "      <td>PG</td>\n",
       "      <td>USA</td>\n",
       "      <td>Action, Adventure</td>\n",
       "      <td>1981</td>\n",
       "      <td>Won 4 Oscars. Another 30 wins &amp; 23 nominations.</td>\n",
       "      <td>115 min</td>\n",
       "      <td>Steven Spielberg</td>\n",
       "      <td>Harrison Ford, Karen Allen, Paul Freeman, Rona...</td>\n",
       "      <td>The year is 1936. An archeology professor name...</td>\n",
       "      <td>85</td>\n",
       "      <td>671,034</td>\n",
       "      <td>English, German, Hebrew, Spanish, Arabic, Nepali</td>\n",
       "      <td>94</td>\n",
       "      <td>4</td>\n",
       "      <td>67</td>\n",
       "      <td>$18,000,000</td>\n",
       "      <td>$242,374,454</td>\n",
       "    </tr>\n",
       "  </tbody>\n",
       "</table>\n",
       "</div>"
      ],
      "text/plain": [
       "          id imdbRating                    Title    Rated Country  \\\n",
       "0  tt2582802        8.5                 Whiplash        R     USA   \n",
       "1  tt0047478        8.7            Seven Samurai  UNRATED   Japan   \n",
       "2  tt0082971        8.5  Raiders of the Lost Ark       PG     USA   \n",
       "\n",
       "                      Genre  Year  \\\n",
       "0              Drama, Music  2014   \n",
       "1  Action, Adventure, Drama  1954   \n",
       "2         Action, Adventure  1981   \n",
       "\n",
       "                                              Awards  Runtime  \\\n",
       "0   Won 3 Oscars. Another 87 wins & 131 nominations.  107 min   \n",
       "1  Nominated for 2 Oscars. Another 5 wins & 6 nom...  207 min   \n",
       "2    Won 4 Oscars. Another 30 wins & 23 nominations.  115 min   \n",
       "\n",
       "           Director                                             Actors  \\\n",
       "0   Damien Chazelle  Miles Teller, J.K. Simmons, Paul Reiser, Melis...   \n",
       "1    Akira Kurosawa  Toshirô Mifune, Takashi Shimura, Keiko Tsushim...   \n",
       "2  Steven Spielberg  Harrison Ford, Karen Allen, Paul Freeman, Rona...   \n",
       "\n",
       "                                                Plot Metascore imdbVotes  \\\n",
       "0  A promising young drummer enrolls at a cut-thr...        88   413,720   \n",
       "1  A veteran samurai, who has fallen on hard time...        98   232,249   \n",
       "2  The year is 1936. An archeology professor name...        85   671,034   \n",
       "\n",
       "                                           Language tomatoMeter tomatoRotten  \\\n",
       "0                                           English          94           15   \n",
       "1                                          Japanese         100            0   \n",
       "2  English, German, Hebrew, Spanish, Arabic, Nepali          94            4   \n",
       "\n",
       "  tomatoFresh       Budget         Gross  \n",
       "0         246   $3,300,000   $13,092,000  \n",
       "1          57   $2,000,000      $269,061  \n",
       "2          67  $18,000,000  $242,374,454  "
      ]
     },
     "execution_count": 19,
     "metadata": {},
     "output_type": "execute_result"
    }
   ],
   "source": [
    "# merge the two dfs on id\n",
    "df = pd.merge(movie_df, imdb_df, on=\"id\", how=\"left\")\n",
    "df.head(3)"
   ]
  },
  {
   "cell_type": "code",
   "execution_count": null,
   "metadata": {
    "collapsed": true
   },
   "outputs": [],
   "source": []
  },
  {
   "cell_type": "code",
   "execution_count": null,
   "metadata": {
    "collapsed": true
   },
   "outputs": [],
   "source": []
  },
  {
   "cell_type": "code",
   "execution_count": null,
   "metadata": {
    "collapsed": true
   },
   "outputs": [],
   "source": []
  },
  {
   "cell_type": "code",
   "execution_count": null,
   "metadata": {
    "collapsed": true
   },
   "outputs": [],
   "source": []
  }
 ],
 "metadata": {
  "kernelspec": {
   "display_name": "Python 2",
   "language": "python",
   "name": "python2"
  },
  "language_info": {
   "codemirror_mode": {
    "name": "ipython",
    "version": 2
   },
   "file_extension": ".py",
   "mimetype": "text/x-python",
   "name": "python",
   "nbconvert_exporter": "python",
   "pygments_lexer": "ipython2",
   "version": "2.7.12"
  }
 },
 "nbformat": 4,
 "nbformat_minor": 0
}
