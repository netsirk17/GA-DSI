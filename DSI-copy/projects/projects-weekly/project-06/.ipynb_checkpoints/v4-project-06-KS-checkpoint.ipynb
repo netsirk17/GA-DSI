{
 "cells": [
  {
   "cell_type": "code",
   "execution_count": 336,
   "metadata": {
    "ExecuteTime": {
     "end_time": "2016-11-02T21:48:56.676722",
     "start_time": "2016-11-02T21:48:56.640678"
    },
    "collapsed": false
   },
   "outputs": [],
   "source": [
    "import bs4\n",
    "from bs4 import BeautifulSoup\n",
    "import requests\n",
    "import re\n",
    "import json\n",
    "import pandas as pd\n",
    "import numpy as np\n",
    "from datetime import datetime\n",
    "\n",
    "from sklearn.feature_extraction.text import CountVectorizer\n",
    "import matplotlib.pyplot as plt\n",
    "%matplotlib inline\n",
    "plt.style.use('fivethirtyeight')\n",
    "import seaborn as sns\n",
    "sns.set_palette('muted')\n",
    "sns.set_style('whitegrid')\n",
    "\n",
    "from sklearn.linear_model import LinearRegression\n",
    "from sklearn.metrics import r2_score, classification_report, confusion_matrix, accuracy_score\n",
    "from sklearn.tree import DecisionTreeRegressor, DecisionTreeClassifier\n",
    "from sklearn.model_selection import cross_val_score, KFold, StratifiedKFold, train_test_split\n",
    "from sklearn.grid_search import GridSearchCV\n",
    "from sklearn.ensemble import RandomForestRegressor, AdaBoostRegressor, GradientBoostingRegressor,\\\n",
    "AdaBoostClassifier, GradientBoostingClassifier, BaggingClassifier, \\\n",
    "RandomForestClassifier, BaggingRegressor\n",
    "from sklearn.neighbors import KNeighborsRegressor"
   ]
  },
  {
   "cell_type": "markdown",
   "metadata": {},
   "source": [
    "## Webscraping"
   ]
  },
  {
   "cell_type": "markdown",
   "metadata": {
    "heading_collapsed": true
   },
   "source": [
    "### IMDB: Get film ids"
   ]
  },
  {
   "cell_type": "code",
   "execution_count": 3,
   "metadata": {
    "ExecuteTime": {
     "end_time": "2016-11-02T17:38:01.633133",
     "start_time": "2016-11-02T17:38:00.257580"
    },
    "code_folding": [],
    "collapsed": true,
    "hidden": true
   },
   "outputs": [],
   "source": [
    "# Function that will make an api call to omdbapi.com and return film id\n",
    "\n",
    "def get_id_250():\n",
    "    response = requests.get('http://www.imdb.com/chart/top')\n",
    "    html = response.text\n",
    "    entries = re.findall(\"<a href.*?/title/(.*?)/\", html)\n",
    "    return list(set(entries))\n",
    "\n",
    "entries = get_id_250()"
   ]
  },
  {
   "cell_type": "code",
   "execution_count": 7,
   "metadata": {
    "ExecuteTime": {
     "end_time": "2016-11-02T17:38:29.824263",
     "start_time": "2016-11-02T17:38:29.820196"
    },
    "collapsed": false,
    "hidden": true
   },
   "outputs": [
    {
     "name": "stdout",
     "output_type": "stream",
     "text": [
      "250\n",
      "[u'tt2582802', u'tt0047478']\n"
     ]
    }
   ],
   "source": [
    "print len(entries)\n",
    "print entries[:2]"
   ]
  },
  {
   "cell_type": "markdown",
   "metadata": {
    "heading_collapsed": true
   },
   "source": [
    "### Fill in film data from omdapi.com"
   ]
  },
  {
   "cell_type": "code",
   "execution_count": 8,
   "metadata": {
    "ExecuteTime": {
     "end_time": "2016-11-02T17:39:44.857803",
     "start_time": "2016-11-02T17:38:39.158997"
    },
    "collapsed": false,
    "hidden": true
   },
   "outputs": [
    {
     "name": "stdout",
     "output_type": "stream",
     "text": [
      ". . . . . . . . . . . . . . . . . . . . . . . . . . . . . . . . . . . . . . . . . . . . . . . . . . . . . . . . . . . . . . . . . . . . . . . . . . . . . . . . . . . . . . . . . . . . . . . . . . . . . . . . . . . . . . . . . . . . . . . . . . . . . . . . . . . . . . . . . . . . . . . . . . . . . . . . . . . . . . . . . . . . . . . . . . . . . . . . . . . . . . . . . . . . . . . . . . . . . . . . . . . . . . . . . . . . . . . . . . . . . . . . . . . . . . . . . . . . . . . . . . . . . . . . . .\n"
     ]
    }
   ],
   "source": [
    "# Function that will make an api call to omdbapi.com and return film data by film id\n",
    "\"\"\"  \n",
    "     Decided to include full plot summary in case I choose to use NLTK for predicting in future\n",
    "     Decided to include Rotten Tomatoes ratings and metrics as it may also be a useful feature in models \n",
    "\"\"\"\n",
    "\n",
    "# From JSON/APIs lab\n",
    "def get_entry(entry):\n",
    "    res = requests.get('http://www.omdbapi.com/?i='+entry+'&plot=full&r=json&tomatoes=true')\n",
    "    if res.status_code != 200:\n",
    "        print entry, res.status_code\n",
    "    else:\n",
    "        print '.',\n",
    "    try:\n",
    "        j = json.loads(res.text)\n",
    "    except ValueError:\n",
    "        j = None\n",
    "    return j\n",
    "\n",
    "entries_dict_list = [get_entry(e) for e in entries]"
   ]
  },
  {
   "cell_type": "code",
   "execution_count": 9,
   "metadata": {
    "ExecuteTime": {
     "end_time": "2016-11-02T17:42:28.995524",
     "start_time": "2016-11-02T17:42:28.982611"
    },
    "collapsed": false,
    "hidden": true
   },
   "outputs": [
    {
     "data": {
      "text/plain": [
       "250"
      ]
     },
     "execution_count": 9,
     "metadata": {},
     "output_type": "execute_result"
    }
   ],
   "source": [
    "len(entries_dict_list)"
   ]
  },
  {
   "cell_type": "code",
   "execution_count": 10,
   "metadata": {
    "ExecuteTime": {
     "end_time": "2016-11-02T17:42:32.898836",
     "start_time": "2016-11-02T17:42:32.818463"
    },
    "collapsed": false,
    "hidden": true
   },
   "outputs": [
    {
     "data": {
      "text/html": [
       "<div>\n",
       "<table border=\"1\" class=\"dataframe\">\n",
       "  <thead>\n",
       "    <tr style=\"text-align: right;\">\n",
       "      <th></th>\n",
       "      <th>Actors</th>\n",
       "      <th>Awards</th>\n",
       "      <th>BoxOffice</th>\n",
       "      <th>Country</th>\n",
       "      <th>DVD</th>\n",
       "      <th>Director</th>\n",
       "      <th>Genre</th>\n",
       "      <th>Language</th>\n",
       "      <th>Metascore</th>\n",
       "      <th>Plot</th>\n",
       "      <th>...</th>\n",
       "      <th>tomatoFresh</th>\n",
       "      <th>tomatoImage</th>\n",
       "      <th>tomatoMeter</th>\n",
       "      <th>tomatoRating</th>\n",
       "      <th>tomatoReviews</th>\n",
       "      <th>tomatoRotten</th>\n",
       "      <th>tomatoURL</th>\n",
       "      <th>tomatoUserMeter</th>\n",
       "      <th>tomatoUserRating</th>\n",
       "      <th>tomatoUserReviews</th>\n",
       "    </tr>\n",
       "  </thead>\n",
       "  <tbody>\n",
       "    <tr>\n",
       "      <th>0</th>\n",
       "      <td>Miles Teller, J.K. Simmons, Paul Reiser, Melis...</td>\n",
       "      <td>Won 3 Oscars. Another 87 wins &amp; 131 nominations.</td>\n",
       "      <td>N/A</td>\n",
       "      <td>USA</td>\n",
       "      <td>24 Feb 2015</td>\n",
       "      <td>Damien Chazelle</td>\n",
       "      <td>Drama, Music</td>\n",
       "      <td>English</td>\n",
       "      <td>88</td>\n",
       "      <td>A promising young drummer enrolls at a cut-thr...</td>\n",
       "      <td>...</td>\n",
       "      <td>246</td>\n",
       "      <td>certified</td>\n",
       "      <td>94</td>\n",
       "      <td>8.6</td>\n",
       "      <td>261</td>\n",
       "      <td>15</td>\n",
       "      <td>http://www.rottentomatoes.com/m/whiplash_2014/</td>\n",
       "      <td>94</td>\n",
       "      <td>4.5</td>\n",
       "      <td>66092</td>\n",
       "    </tr>\n",
       "  </tbody>\n",
       "</table>\n",
       "<p>1 rows × 35 columns</p>\n",
       "</div>"
      ],
      "text/plain": [
       "                                              Actors  \\\n",
       "0  Miles Teller, J.K. Simmons, Paul Reiser, Melis...   \n",
       "\n",
       "                                             Awards BoxOffice Country  \\\n",
       "0  Won 3 Oscars. Another 87 wins & 131 nominations.       N/A     USA   \n",
       "\n",
       "           DVD         Director         Genre Language Metascore  \\\n",
       "0  24 Feb 2015  Damien Chazelle  Drama, Music  English        88   \n",
       "\n",
       "                                                Plot        ...         \\\n",
       "0  A promising young drummer enrolls at a cut-thr...        ...          \n",
       "\n",
       "  tomatoFresh tomatoImage tomatoMeter tomatoRating tomatoReviews tomatoRotten  \\\n",
       "0         246   certified          94          8.6           261           15   \n",
       "\n",
       "                                        tomatoURL tomatoUserMeter  \\\n",
       "0  http://www.rottentomatoes.com/m/whiplash_2014/              94   \n",
       "\n",
       "  tomatoUserRating tomatoUserReviews  \n",
       "0              4.5             66092  \n",
       "\n",
       "[1 rows x 35 columns]"
      ]
     },
     "execution_count": 10,
     "metadata": {},
     "output_type": "execute_result"
    }
   ],
   "source": [
    "df = pd.DataFrame(entries_dict_list)\n",
    "df.head(1)"
   ]
  },
  {
   "cell_type": "code",
   "execution_count": 12,
   "metadata": {
    "ExecuteTime": {
     "end_time": "2016-11-02T17:42:42.897931",
     "start_time": "2016-11-02T17:42:42.894184"
    },
    "collapsed": false,
    "hidden": true
   },
   "outputs": [
    {
     "name": "stdout",
     "output_type": "stream",
     "text": [
      "(250, 35)\n"
     ]
    }
   ],
   "source": [
    "print df.shape"
   ]
  },
  {
   "cell_type": "markdown",
   "metadata": {
    "heading_collapsed": true
   },
   "source": [
    "### IMDB: Get gross, opening weekend and budget"
   ]
  },
  {
   "cell_type": "code",
   "execution_count": 13,
   "metadata": {
    "ExecuteTime": {
     "end_time": "2016-11-02T17:42:51.602238",
     "start_time": "2016-11-02T17:42:51.594105"
    },
    "collapsed": true,
    "hidden": true
   },
   "outputs": [],
   "source": [
    "def get_gross(entry):\n",
    "    response = requests.get('http://www.imdb.com/title/' + entry)\n",
    "    html = response.text\n",
    "    try:\n",
    "        gross_list = re.findall(\"Gross:</h4>[ ]*\\$([^ ]*)\", html)\n",
    "        gross = int(gross_list[0].replace(',', ''))\n",
    "        print '.',\n",
    "        return gross\n",
    "    except Exception as ex:\n",
    "        print\n",
    "        print ex, entry, response.status_code\n",
    "        return None"
   ]
  },
  {
   "cell_type": "code",
   "execution_count": 14,
   "metadata": {
    "ExecuteTime": {
     "end_time": "2016-11-02T17:46:13.256239",
     "start_time": "2016-11-02T17:43:37.471828"
    },
    "collapsed": false,
    "hidden": true
   },
   "outputs": [
    {
     "name": "stdout",
     "output_type": "stream",
     "text": [
      ". . . . . . .\n",
      "list index out of range tt0046268 200\n",
      "\n",
      "list index out of range tt0055630 200\n",
      ". . . . .\n",
      "list index out of range tt0057115 200\n",
      ".\n",
      "list index out of range tt0071315 200\n",
      ". . . .\n",
      "list index out of range tt0074896 200\n",
      ". .\n",
      "list index out of range tt0021749 200\n",
      ". .\n",
      "list index out of range tt0053125 200\n",
      ". . .\n",
      "list index out of range tt1220719 200\n",
      "\n",
      "list index out of range tt0025316 200\n",
      ". .\n",
      "list index out of range tt0083922 200\n",
      ". . .\n",
      "list index out of range tt0072684 200\n",
      ".\n",
      "list index out of range tt0074958 200\n",
      ". . . .\n",
      "list index out of range tt0036775 200\n",
      ". . . . . .\n",
      "list index out of range tt0978762 200\n",
      ". .\n",
      "list index out of range tt0080678 200\n",
      ". .\n",
      "list index out of range tt0056592 200\n",
      ".\n",
      "list index out of range tt0095327 200\n",
      ". . . . . . . . .\n",
      "list index out of range tt0046438 200\n",
      ".\n",
      "list index out of range tt0015864 200\n",
      ".\n",
      "list index out of range tt0045152 200\n",
      ". . . .\n",
      "list index out of range tt0046911 200\n",
      ".\n",
      "list index out of range tt0050986 200\n",
      ".\n",
      "list index out of range tt0091251 200\n",
      ". . . . . . . . . .\n",
      "list index out of range tt0032553 200\n",
      "\n",
      "list index out of range tt0032551 200\n",
      ". . . . . .\n",
      "list index out of range tt0060827 200\n",
      ". . .\n",
      "list index out of range tt0031679 200\n",
      ". . . . . .\n",
      "list index out of range tt0053198 200\n",
      ". . .\n",
      "list index out of range tt0050825 200\n",
      "\n",
      "list index out of range tt0042876 200\n",
      "\n",
      "list index out of range tt0083987 200\n",
      ". . .\n",
      "list index out of range tt0044079 200\n",
      "\n",
      "list index out of range tt0041546 200\n",
      ". . . . . .\n",
      "list index out of range tt0092067 200\n",
      ". . . .\n",
      "list index out of range tt1954470 200\n",
      ". . . . . . . .\n",
      "list index out of range tt0057012 200\n",
      "\n",
      "list index out of range tt0096283 200\n",
      ".\n",
      "list index out of range tt0064116 200\n",
      ". . . . .\n",
      "list index out of range tt0081505 200\n",
      "\n",
      "list index out of range tt0038650 200\n",
      ".\n",
      "list index out of range tt0034583 200\n",
      ". . . . .\n",
      "list index out of range tt0046250 200\n",
      ". .\n",
      "list index out of range tt0033870 200\n",
      ". . .\n",
      "list index out of range tt0040897 200\n",
      ". .\n",
      "list index out of range tt0019254 200\n",
      "\n",
      "list index out of range tt0066921 200\n",
      "\n",
      "list index out of range tt0061512 200\n",
      "\n",
      "list index out of range tt0033467 200\n",
      ".\n",
      "list index out of range tt0169102 200\n",
      "\n",
      "list index out of range tt0017925 200\n",
      ". . . .\n",
      "list index out of range tt0055031 200\n",
      ".\n",
      "list index out of range tt0087544 200\n",
      ". . .\n",
      "list index out of range tt0050083 200\n",
      ". .\n",
      "list index out of range tt0018455 200\n",
      ". . . .\n",
      "list index out of range tt0077416 200\n",
      ". . . . . .\n",
      "list index out of range tt0087884 200\n",
      ". . .\n",
      "list index out of range tt0050976 200\n",
      ". . . . . . . . .\n",
      "list index out of range tt0043014 200\n",
      "\n",
      "list index out of range tt0079944 200\n",
      ".\n",
      "list index out of range tt0053604 200\n",
      ". . . . .\n",
      "list index out of range tt0051201 200\n",
      ".\n",
      "list index out of range tt0032976 200\n",
      ".\n",
      "list index out of range tt0059578 200\n",
      "\n",
      "list index out of range tt0072890 200\n",
      ". . . . . . .\n",
      "list index out of range tt1028532 200\n",
      ". . . . . .\n",
      "list index out of range tt0075314 200\n"
     ]
    }
   ],
   "source": [
    "grosses = [(e, get_gross(e)) for e in entries]"
   ]
  },
  {
   "cell_type": "code",
   "execution_count": 16,
   "metadata": {
    "ExecuteTime": {
     "end_time": "2016-11-02T17:46:21.531758",
     "start_time": "2016-11-02T17:46:21.518711"
    },
    "collapsed": false,
    "hidden": true
   },
   "outputs": [
    {
     "data": {
      "text/html": [
       "<div>\n",
       "<table border=\"1\" class=\"dataframe\">\n",
       "  <thead>\n",
       "    <tr style=\"text-align: right;\">\n",
       "      <th></th>\n",
       "      <th>imdbID</th>\n",
       "      <th>Gross</th>\n",
       "    </tr>\n",
       "  </thead>\n",
       "  <tbody>\n",
       "    <tr>\n",
       "      <th>0</th>\n",
       "      <td>tt2582802</td>\n",
       "      <td>13092000.0</td>\n",
       "    </tr>\n",
       "    <tr>\n",
       "      <th>1</th>\n",
       "      <td>tt0047478</td>\n",
       "      <td>269061.0</td>\n",
       "    </tr>\n",
       "    <tr>\n",
       "      <th>2</th>\n",
       "      <td>tt0082971</td>\n",
       "      <td>242374454.0</td>\n",
       "    </tr>\n",
       "  </tbody>\n",
       "</table>\n",
       "</div>"
      ],
      "text/plain": [
       "      imdbID        Gross\n",
       "0  tt2582802   13092000.0\n",
       "1  tt0047478     269061.0\n",
       "2  tt0082971  242374454.0"
      ]
     },
     "execution_count": 16,
     "metadata": {},
     "output_type": "execute_result"
    }
   ],
   "source": [
    "df1 = pd.DataFrame(grosses, columns=['imdbID', 'Gross'])\n",
    "df1.head(3)"
   ]
  },
  {
   "cell_type": "code",
   "execution_count": 17,
   "metadata": {
    "ExecuteTime": {
     "end_time": "2016-11-02T17:46:25.216554",
     "start_time": "2016-11-02T17:46:25.205780"
    },
    "collapsed": false,
    "hidden": true
   },
   "outputs": [],
   "source": [
    "def get_opening(entry):\n",
    "    response = requests.get('http://www.imdb.com/title/' + entry)\n",
    "    html = response.text\n",
    "    try:\n",
    "        opening_list = re.findall(\"Opening Weekend:</h4>[ ]*\\$([^ ]*)\", html)\n",
    "        opening = int(opening_list[0].replace(',', ''))\n",
    "        print '.',\n",
    "        return opening\n",
    "    except Exception as ex:\n",
    "        print\n",
    "        print ex, entry, response.status_code\n",
    "        return None"
   ]
  },
  {
   "cell_type": "code",
   "execution_count": 18,
   "metadata": {
    "ExecuteTime": {
     "end_time": "2016-11-02T17:49:10.104587",
     "start_time": "2016-11-02T17:46:30.805684"
    },
    "collapsed": false,
    "hidden": true
   },
   "outputs": [
    {
     "name": "stdout",
     "output_type": "stream",
     "text": [
      ". . .\n",
      "list index out of range tt0050212 200\n",
      ". . .\n",
      "list index out of range tt0046268 200\n",
      "\n",
      "list index out of range tt0055630 200\n",
      ". . . . .\n",
      "list index out of range tt0057115 200\n",
      ".\n",
      "list index out of range tt0071315 200\n",
      "\n",
      "list index out of range tt0114746 200\n",
      ". . .\n",
      "list index out of range tt0074896 200\n",
      ". .\n",
      "list index out of range tt0021749 200\n",
      ".\n",
      "list index out of range tt1187043 200\n",
      "\n",
      "list index out of range tt0053125 200\n",
      ".\n",
      "list index out of range tt0112471 200\n",
      ".\n",
      "list index out of range tt1220719 200\n",
      "\n",
      "list index out of range tt0025316 200\n",
      ". .\n",
      "list index out of range tt0083922 200\n",
      "\n",
      "list index out of range tt0088247 200\n",
      ".\n",
      "list index out of range tt0087843 200\n",
      "\n",
      "list index out of range tt0072684 200\n",
      ".\n",
      "list index out of range tt0074958 200\n",
      ".\n",
      "list index out of range tt0052618 200\n",
      ". .\n",
      "list index out of range tt0036775 200\n",
      ".\n",
      "list index out of range tt0110357 200\n",
      ". . .\n",
      "list index out of range tt0075148 200\n",
      "\n",
      "list index out of range tt0978762 200\n",
      ".\n",
      "list index out of range tt0036868 200\n",
      "\n",
      "list index out of range tt0080678 200\n",
      "\n",
      "list index out of range tt0093779 200\n",
      "\n",
      "list index out of range tt0108052 200\n",
      "\n",
      "list index out of range tt0056592 200\n",
      "\n",
      "list index out of range tt0088763 200\n",
      "\n",
      "list index out of range tt0095327 200\n",
      ".\n",
      "list index out of range tt0053291 200\n",
      ".\n",
      "list index out of range tt0407887 200\n",
      ". . . .\n",
      "list index out of range tt0114814 200\n",
      "\n",
      "list index out of range tt0046438 200\n",
      "\n",
      "list index out of range tt0107048 200\n",
      "\n",
      "list index out of range tt0015864 200\n",
      "\n",
      "list index out of range tt0107207 200\n",
      "\n",
      "list index out of range tt0045152 200\n",
      ".\n",
      "list index out of range tt0167261 200\n",
      "\n",
      "list index out of range tt0167260 200\n",
      "\n",
      "list index out of range tt0095016 200\n",
      "\n",
      "list index out of range tt0046911 200\n",
      ".\n",
      "list index out of range tt0050986 200\n",
      ".\n",
      "list index out of range tt0091251 200\n",
      ".\n",
      "list index out of range tt0078748 200\n",
      ".\n",
      "list index out of range tt0012349 200\n",
      "\n",
      "list index out of range tt0372784 200\n",
      "\n",
      "list index out of range tt0101414 200\n",
      "\n",
      "list index out of range tt0113247 200\n",
      "\n",
      "list index out of range tt0107290 200\n",
      ".\n",
      "list index out of range tt0070735 200\n",
      "\n",
      "list index out of range tt0032553 200\n",
      "\n",
      "list index out of range tt0032551 200\n",
      ".\n",
      "list index out of range tt0361748 200\n",
      ". . . .\n",
      "list index out of range tt0060827 200\n",
      "\n",
      "list index out of range tt0266697 200\n",
      ". .\n",
      "list index out of range tt0031679 200\n",
      "\n",
      "list index out of range tt0080684 200\n",
      ". . . .\n",
      "list index out of range tt0102926 200\n",
      "\n",
      "list index out of range tt0053198 200\n",
      ". . .\n",
      "list index out of range tt0050825 200\n",
      "\n",
      "list index out of range tt0042876 200\n",
      "\n",
      "list index out of range tt0083987 200\n",
      ". . .\n",
      "list index out of range tt0044079 200\n",
      "\n",
      "list index out of range tt0041546 200\n",
      ".\n",
      "list index out of range tt0114369 200\n",
      ".\n",
      "list index out of range tt0091763 200\n",
      ". . .\n",
      "list index out of range tt0090605 200\n",
      "\n",
      "list index out of range tt0120737 200\n",
      "\n",
      "list index out of range tt0120735 200\n",
      ".\n",
      "list index out of range tt1954470 200\n",
      ". .\n",
      "list index out of range tt0110413 200\n",
      "\n",
      "list index out of range tt0058461 200\n",
      ". . . .\n",
      "list index out of range tt0057012 200\n",
      "\n",
      "list index out of range tt0096283 200\n",
      ".\n",
      "list index out of range tt0064116 200\n",
      "\n",
      "list index out of range tt0114709 200\n",
      ". . .\n",
      "list index out of range tt0105236 200\n",
      "\n",
      "list index out of range tt0081505 200\n",
      "\n",
      "list index out of range tt0038650 200\n",
      ".\n",
      "list index out of range tt0034583 200\n",
      ". . .\n",
      "list index out of range tt0054215 200\n",
      ".\n",
      "list index out of range tt0046250 200\n",
      ". .\n",
      "list index out of range tt0033870 200\n",
      "\n",
      "list index out of range tt0112573 200\n",
      ".\n",
      "list index out of range tt0097576 200\n",
      "\n",
      "list index out of range tt0040897 200\n",
      "\n",
      "list index out of range tt0062622 200\n",
      ".\n",
      "list index out of range tt0019254 200\n",
      "\n",
      "list index out of range tt0066921 200\n",
      "\n",
      "list index out of range tt0061512 200\n",
      "\n",
      "list index out of range tt0033467 200\n",
      ".\n",
      "list index out of range tt0169102 200\n",
      "\n",
      "list index out of range tt0017925 200\n",
      ". . .\n",
      "list index out of range tt0064115 200\n",
      "\n",
      "list index out of range tt0055031 200\n",
      ".\n",
      "list index out of range tt0087544 200\n",
      "\n",
      "list index out of range tt0113277 200\n",
      "\n",
      "list index out of range tt0105695 200\n",
      ".\n",
      "list index out of range tt0050083 200\n",
      ".\n",
      "list index out of range tt0110912 200\n",
      "\n",
      "list index out of range tt0018455 200\n",
      ". .\n",
      "list index out of range tt0434409 200\n",
      "\n",
      "list index out of range tt0117951 200\n",
      "\n",
      "list index out of range tt0077416 200\n",
      ". . . . .\n",
      "list index out of range tt0099685 200\n",
      "\n",
      "list index out of range tt0087884 200\n",
      ".\n",
      "list index out of range tt0060196 200\n",
      "\n",
      "list index out of range tt0112641 200\n",
      "\n",
      "list index out of range tt0050976 200\n",
      "\n",
      "list index out of range tt0092005 200\n",
      ".\n",
      "list index out of range tt0111161 200\n",
      ".\n",
      "list index out of range tt0071562 200\n",
      ". . . .\n",
      "list index out of range tt0043014 200\n",
      "\n",
      "list index out of range tt0079944 200\n",
      "\n",
      "list index out of range tt0093058 200\n",
      "\n",
      "list index out of range tt0053604 200\n",
      "\n",
      "list index out of range tt0109830 200\n",
      ".\n",
      "list index out of range tt0073195 200\n",
      ". .\n",
      "list index out of range tt0051201 200\n",
      "\n",
      "list index out of range tt0075686 200\n",
      "\n",
      "list index out of range tt0032976 200\n",
      "\n",
      "list index out of range tt1375666 200\n",
      "\n",
      "list index out of range tt0059578 200\n",
      "\n",
      "list index out of range tt0072890 200\n",
      ".\n",
      "list index out of range tt0103064 200\n",
      ". . . .\n",
      "list index out of range tt0047296 200\n",
      "\n",
      "list index out of range tt1028532 200\n",
      ". .\n",
      "list index out of range tt0073486 200\n",
      "\n",
      "list index out of range tt0209144 200\n",
      "\n",
      "list index out of range tt0208092 200\n",
      ".\n",
      "list index out of range tt0075314 200\n"
     ]
    }
   ],
   "source": [
    "opening = [(e, get_opening(e)) for e in entries]"
   ]
  },
  {
   "cell_type": "code",
   "execution_count": 19,
   "metadata": {
    "ExecuteTime": {
     "end_time": "2016-11-02T17:58:04.074386",
     "start_time": "2016-11-02T17:58:04.040590"
    },
    "collapsed": false,
    "hidden": true
   },
   "outputs": [
    {
     "data": {
      "text/html": [
       "<div>\n",
       "<table border=\"1\" class=\"dataframe\">\n",
       "  <thead>\n",
       "    <tr style=\"text-align: right;\">\n",
       "      <th></th>\n",
       "      <th>imdbID</th>\n",
       "      <th>Opening</th>\n",
       "    </tr>\n",
       "  </thead>\n",
       "  <tbody>\n",
       "    <tr>\n",
       "      <th>0</th>\n",
       "      <td>tt2582802</td>\n",
       "      <td>135388.0</td>\n",
       "    </tr>\n",
       "    <tr>\n",
       "      <th>1</th>\n",
       "      <td>tt0047478</td>\n",
       "      <td>21830.0</td>\n",
       "    </tr>\n",
       "    <tr>\n",
       "      <th>2</th>\n",
       "      <td>tt0082971</td>\n",
       "      <td>1673731.0</td>\n",
       "    </tr>\n",
       "  </tbody>\n",
       "</table>\n",
       "</div>"
      ],
      "text/plain": [
       "      imdbID    Opening\n",
       "0  tt2582802   135388.0\n",
       "1  tt0047478    21830.0\n",
       "2  tt0082971  1673731.0"
      ]
     },
     "execution_count": 19,
     "metadata": {},
     "output_type": "execute_result"
    }
   ],
   "source": [
    "df2 = pd.DataFrame(opening, columns=['imdbID', 'Opening'])\n",
    "df2.head(3)"
   ]
  },
  {
   "cell_type": "code",
   "execution_count": 20,
   "metadata": {
    "ExecuteTime": {
     "end_time": "2016-11-02T17:59:15.001411",
     "start_time": "2016-11-02T17:59:14.987046"
    },
    "collapsed": true,
    "hidden": true
   },
   "outputs": [],
   "source": [
    "def get_budget(entry):\n",
    "    response = requests.get('http://www.imdb.com/title/' + entry)\n",
    "    html = response.text\n",
    "    try:\n",
    "        budget_list = re.findall(\"Budget:</h4>[ ]*\\$([^ ]*)\", html)\n",
    "        budget = int(budget_list[0].replace(',', ''))\n",
    "        print '.',\n",
    "        return budget\n",
    "    except Exception as ex:\n",
    "        print\n",
    "        print ex, entry, response.status_code\n",
    "        return None"
   ]
  },
  {
   "cell_type": "code",
   "execution_count": 21,
   "metadata": {
    "ExecuteTime": {
     "end_time": "2016-11-02T18:01:44.957244",
     "start_time": "2016-11-02T17:59:16.839831"
    },
    "collapsed": false,
    "hidden": true
   },
   "outputs": [
    {
     "name": "stdout",
     "output_type": "stream",
     "text": [
      ". . . . . . .\n",
      "list index out of range tt0046268 200\n",
      "\n",
      "list index out of range tt0055630 200\n",
      ". . . . . . . . .\n",
      "list index out of range tt0363163 200\n",
      ".\n",
      "list index out of range tt1865505 200\n",
      ". . . . .\n",
      "list index out of range tt1187043 200\n",
      ". . . . . . . . . . . . . . . . . . . . . . .\n",
      "list index out of range tt0071853 200\n",
      ". .\n",
      "list index out of range tt0978762 200\n",
      ". . . . . . . . . . . .\n",
      "list index out of range tt0044741 200\n",
      ". . . .\n",
      "list index out of range tt0046438 200\n",
      ". . . . . . . .\n",
      "list index out of range tt0046911 200\n",
      ".\n",
      "list index out of range tt0050986 200\n",
      ".\n",
      "list index out of range tt0091251 200\n",
      ". . . . . .\n",
      "list index out of range tt0113247 200\n",
      ". . . . . . . . . . .\n",
      "list index out of range tt0060827 200\n",
      ". .\n",
      "list index out of range tt0211915 200\n",
      ". . . . . . .\n",
      "list index out of range tt0053198 200\n",
      ". . . . . . . . . .\n",
      "list index out of range tt0041546 200\n",
      ". . . . . .\n",
      "list index out of range tt0092067 200\n",
      ". .\n",
      "list index out of range tt0120735 200\n",
      ".\n",
      "list index out of range tt1954470 200\n",
      ". .\n",
      "list index out of range tt0110413 200\n",
      ".\n",
      "list index out of range tt0119698 200\n",
      ". . . . . . . . .\n",
      "list index out of range tt0022100 200\n",
      ". . . .\n",
      "list index out of range tt0041959 200\n",
      ". . . . . . . . . . . . . . . .\n",
      "list index out of range tt0019254 200\n",
      ". . .\n",
      "list index out of range tt0050783 200\n",
      ". . . . . . . . . . . . . . .\n",
      "list index out of range tt0018455 200\n",
      "\n",
      "list index out of range tt1675434 200\n",
      ". . . . . . . . . .\n",
      "list index out of range tt0087884 200\n",
      "\n",
      "list index out of range tt0457430 200\n",
      ". . . .\n",
      "list index out of range tt0017136 200\n",
      ". . . . . . . .\n",
      "list index out of range tt0079944 200\n",
      ". . . . . . . . . . . . . . .\n",
      "list index out of range tt0056801 200\n",
      ". . . . . . . . .\n",
      "list index out of range tt0208092 200\n",
      ". .\n"
     ]
    }
   ],
   "source": [
    "budgets = [(e, get_budget(e)) for e in entries]"
   ]
  },
  {
   "cell_type": "code",
   "execution_count": 22,
   "metadata": {
    "ExecuteTime": {
     "end_time": "2016-11-02T18:02:48.618691",
     "start_time": "2016-11-02T18:02:48.588796"
    },
    "collapsed": false,
    "hidden": true
   },
   "outputs": [
    {
     "data": {
      "text/html": [
       "<div>\n",
       "<table border=\"1\" class=\"dataframe\">\n",
       "  <thead>\n",
       "    <tr style=\"text-align: right;\">\n",
       "      <th></th>\n",
       "      <th>imdbID</th>\n",
       "      <th>Budget</th>\n",
       "    </tr>\n",
       "  </thead>\n",
       "  <tbody>\n",
       "    <tr>\n",
       "      <th>0</th>\n",
       "      <td>tt2582802</td>\n",
       "      <td>3300000.0</td>\n",
       "    </tr>\n",
       "    <tr>\n",
       "      <th>1</th>\n",
       "      <td>tt0047478</td>\n",
       "      <td>2000000.0</td>\n",
       "    </tr>\n",
       "    <tr>\n",
       "      <th>2</th>\n",
       "      <td>tt0082971</td>\n",
       "      <td>18000000.0</td>\n",
       "    </tr>\n",
       "    <tr>\n",
       "      <th>3</th>\n",
       "      <td>tt0050212</td>\n",
       "      <td>3000000.0</td>\n",
       "    </tr>\n",
       "    <tr>\n",
       "      <th>4</th>\n",
       "      <td>tt0848228</td>\n",
       "      <td>220000000.0</td>\n",
       "    </tr>\n",
       "  </tbody>\n",
       "</table>\n",
       "</div>"
      ],
      "text/plain": [
       "      imdbID       Budget\n",
       "0  tt2582802    3300000.0\n",
       "1  tt0047478    2000000.0\n",
       "2  tt0082971   18000000.0\n",
       "3  tt0050212    3000000.0\n",
       "4  tt0848228  220000000.0"
      ]
     },
     "execution_count": 22,
     "metadata": {},
     "output_type": "execute_result"
    }
   ],
   "source": [
    "df3 = pd.DataFrame(budgets, columns=['imdbID', 'Budget'])\n",
    "df3.head()"
   ]
  },
  {
   "cell_type": "code",
   "execution_count": 23,
   "metadata": {
    "ExecuteTime": {
     "end_time": "2016-11-02T18:02:50.070563",
     "start_time": "2016-11-02T18:02:50.064546"
    },
    "collapsed": false,
    "hidden": true
   },
   "outputs": [
    {
     "name": "stdout",
     "output_type": "stream",
     "text": [
      "Index([u'imdbID', u'Gross'], dtype='object')\n",
      "Index([u'imdbID', u'Opening'], dtype='object')\n",
      "Index([u'imdbID', u'Budget'], dtype='object')\n"
     ]
    }
   ],
   "source": [
    "print df1.columns\n",
    "print df2.columns\n",
    "print df3.columns"
   ]
  },
  {
   "cell_type": "code",
   "execution_count": 24,
   "metadata": {
    "ExecuteTime": {
     "end_time": "2016-11-02T18:02:52.784095",
     "start_time": "2016-11-02T18:02:52.775440"
    },
    "collapsed": true,
    "hidden": true
   },
   "outputs": [],
   "source": [
    "df_gross = df1.copy()\n",
    "df_opening = df2.copy()\n",
    "df_budget = df3.copy()"
   ]
  },
  {
   "cell_type": "code",
   "execution_count": 25,
   "metadata": {
    "ExecuteTime": {
     "end_time": "2016-11-02T18:02:54.309480",
     "start_time": "2016-11-02T18:02:54.303082"
    },
    "collapsed": false,
    "hidden": true
   },
   "outputs": [
    {
     "name": "stdout",
     "output_type": "stream",
     "text": [
      "Index([u'imdbID', u'Gross'], dtype='object') (250, 2)\n",
      "Index([u'imdbID', u'Opening'], dtype='object') (250, 2)\n",
      "Index([u'imdbID', u'Budget'], dtype='object') (250, 2)\n"
     ]
    }
   ],
   "source": [
    "print df_gross.columns, df_gross.shape\n",
    "print df_opening.columns, df_opening.shape\n",
    "print df_budget.columns, df_opening.shape"
   ]
  },
  {
   "cell_type": "markdown",
   "metadata": {
    "heading_collapsed": true
   },
   "source": [
    "### Merge all dataframes into 1 master df"
   ]
  },
  {
   "cell_type": "code",
   "execution_count": 26,
   "metadata": {
    "ExecuteTime": {
     "end_time": "2016-11-02T18:03:16.831911",
     "start_time": "2016-11-02T18:03:16.793251"
    },
    "collapsed": false,
    "hidden": true
   },
   "outputs": [
    {
     "data": {
      "text/html": [
       "<div>\n",
       "<table border=\"1\" class=\"dataframe\">\n",
       "  <thead>\n",
       "    <tr style=\"text-align: right;\">\n",
       "      <th></th>\n",
       "      <th>imdbID</th>\n",
       "      <th>Gross</th>\n",
       "      <th>Opening</th>\n",
       "      <th>Budget</th>\n",
       "    </tr>\n",
       "  </thead>\n",
       "  <tbody>\n",
       "    <tr>\n",
       "      <th>0</th>\n",
       "      <td>tt2582802</td>\n",
       "      <td>13092000.0</td>\n",
       "      <td>135388.0</td>\n",
       "      <td>3300000.0</td>\n",
       "    </tr>\n",
       "    <tr>\n",
       "      <th>1</th>\n",
       "      <td>tt0047478</td>\n",
       "      <td>269061.0</td>\n",
       "      <td>21830.0</td>\n",
       "      <td>2000000.0</td>\n",
       "    </tr>\n",
       "    <tr>\n",
       "      <th>2</th>\n",
       "      <td>tt0082971</td>\n",
       "      <td>242374454.0</td>\n",
       "      <td>1673731.0</td>\n",
       "      <td>18000000.0</td>\n",
       "    </tr>\n",
       "  </tbody>\n",
       "</table>\n",
       "</div>"
      ],
      "text/plain": [
       "      imdbID        Gross    Opening      Budget\n",
       "0  tt2582802   13092000.0   135388.0   3300000.0\n",
       "1  tt0047478     269061.0    21830.0   2000000.0\n",
       "2  tt0082971  242374454.0  1673731.0  18000000.0"
      ]
     },
     "execution_count": 26,
     "metadata": {},
     "output_type": "execute_result"
    }
   ],
   "source": [
    "# Merge gross, opening and budget dfs\n",
    "df_imdb = pd.merge(df_gross, df_opening, on=\"imdbID\")\n",
    "df_imdb = pd.merge(df_imdb, df_budget, on=\"imdbID\")\n",
    "df_imdb.head(3)"
   ]
  },
  {
   "cell_type": "code",
   "execution_count": 27,
   "metadata": {
    "ExecuteTime": {
     "end_time": "2016-11-02T18:03:31.890889",
     "start_time": "2016-11-02T18:03:31.827028"
    },
    "collapsed": false,
    "hidden": true
   },
   "outputs": [
    {
     "name": "stdout",
     "output_type": "stream",
     "text": [
      "(250, 38)\n"
     ]
    },
    {
     "data": {
      "text/html": [
       "<div>\n",
       "<table border=\"1\" class=\"dataframe\">\n",
       "  <thead>\n",
       "    <tr style=\"text-align: right;\">\n",
       "      <th></th>\n",
       "      <th>Actors</th>\n",
       "      <th>Awards</th>\n",
       "      <th>BoxOffice</th>\n",
       "      <th>Country</th>\n",
       "      <th>DVD</th>\n",
       "      <th>Director</th>\n",
       "      <th>Genre</th>\n",
       "      <th>Language</th>\n",
       "      <th>Metascore</th>\n",
       "      <th>Plot</th>\n",
       "      <th>...</th>\n",
       "      <th>tomatoRating</th>\n",
       "      <th>tomatoReviews</th>\n",
       "      <th>tomatoRotten</th>\n",
       "      <th>tomatoURL</th>\n",
       "      <th>tomatoUserMeter</th>\n",
       "      <th>tomatoUserRating</th>\n",
       "      <th>tomatoUserReviews</th>\n",
       "      <th>Gross</th>\n",
       "      <th>Opening</th>\n",
       "      <th>Budget</th>\n",
       "    </tr>\n",
       "  </thead>\n",
       "  <tbody>\n",
       "    <tr>\n",
       "      <th>0</th>\n",
       "      <td>Miles Teller, J.K. Simmons, Paul Reiser, Melis...</td>\n",
       "      <td>Won 3 Oscars. Another 87 wins &amp; 131 nominations.</td>\n",
       "      <td>N/A</td>\n",
       "      <td>USA</td>\n",
       "      <td>24 Feb 2015</td>\n",
       "      <td>Damien Chazelle</td>\n",
       "      <td>Drama, Music</td>\n",
       "      <td>English</td>\n",
       "      <td>88</td>\n",
       "      <td>A promising young drummer enrolls at a cut-thr...</td>\n",
       "      <td>...</td>\n",
       "      <td>8.6</td>\n",
       "      <td>261</td>\n",
       "      <td>15</td>\n",
       "      <td>http://www.rottentomatoes.com/m/whiplash_2014/</td>\n",
       "      <td>94</td>\n",
       "      <td>4.5</td>\n",
       "      <td>66092</td>\n",
       "      <td>13092000.0</td>\n",
       "      <td>135388.0</td>\n",
       "      <td>3300000.0</td>\n",
       "    </tr>\n",
       "    <tr>\n",
       "      <th>1</th>\n",
       "      <td>Toshirô Mifune, Takashi Shimura, Keiko Tsushim...</td>\n",
       "      <td>Nominated for 2 Oscars. Another 5 wins &amp; 6 nom...</td>\n",
       "      <td>N/A</td>\n",
       "      <td>Japan</td>\n",
       "      <td>01 Mar 1999</td>\n",
       "      <td>Akira Kurosawa</td>\n",
       "      <td>Action, Adventure, Drama</td>\n",
       "      <td>Japanese</td>\n",
       "      <td>98</td>\n",
       "      <td>A veteran samurai, who has fallen on hard time...</td>\n",
       "      <td>...</td>\n",
       "      <td>9.3</td>\n",
       "      <td>57</td>\n",
       "      <td>0</td>\n",
       "      <td>http://www.rottentomatoes.com/m/1018639-seven_...</td>\n",
       "      <td>97</td>\n",
       "      <td>4.5</td>\n",
       "      <td>89264</td>\n",
       "      <td>269061.0</td>\n",
       "      <td>21830.0</td>\n",
       "      <td>2000000.0</td>\n",
       "    </tr>\n",
       "    <tr>\n",
       "      <th>2</th>\n",
       "      <td>Harrison Ford, Karen Allen, Paul Freeman, Rona...</td>\n",
       "      <td>Won 4 Oscars. Another 30 wins &amp; 23 nominations.</td>\n",
       "      <td>N/A</td>\n",
       "      <td>USA</td>\n",
       "      <td>21 Oct 2003</td>\n",
       "      <td>Steven Spielberg</td>\n",
       "      <td>Action, Adventure</td>\n",
       "      <td>English, German, Hebrew, Spanish, Arabic, Nepali</td>\n",
       "      <td>85</td>\n",
       "      <td>The year is 1936. An archeology professor name...</td>\n",
       "      <td>...</td>\n",
       "      <td>9.2</td>\n",
       "      <td>71</td>\n",
       "      <td>4</td>\n",
       "      <td>http://www.rottentomatoes.com/m/raiders_of_the...</td>\n",
       "      <td>96</td>\n",
       "      <td>4.1</td>\n",
       "      <td>823404</td>\n",
       "      <td>242374454.0</td>\n",
       "      <td>1673731.0</td>\n",
       "      <td>18000000.0</td>\n",
       "    </tr>\n",
       "  </tbody>\n",
       "</table>\n",
       "<p>3 rows × 38 columns</p>\n",
       "</div>"
      ],
      "text/plain": [
       "                                              Actors  \\\n",
       "0  Miles Teller, J.K. Simmons, Paul Reiser, Melis...   \n",
       "1  Toshirô Mifune, Takashi Shimura, Keiko Tsushim...   \n",
       "2  Harrison Ford, Karen Allen, Paul Freeman, Rona...   \n",
       "\n",
       "                                              Awards BoxOffice Country  \\\n",
       "0   Won 3 Oscars. Another 87 wins & 131 nominations.       N/A     USA   \n",
       "1  Nominated for 2 Oscars. Another 5 wins & 6 nom...       N/A   Japan   \n",
       "2    Won 4 Oscars. Another 30 wins & 23 nominations.       N/A     USA   \n",
       "\n",
       "           DVD          Director                     Genre  \\\n",
       "0  24 Feb 2015   Damien Chazelle              Drama, Music   \n",
       "1  01 Mar 1999    Akira Kurosawa  Action, Adventure, Drama   \n",
       "2  21 Oct 2003  Steven Spielberg         Action, Adventure   \n",
       "\n",
       "                                           Language Metascore  \\\n",
       "0                                           English        88   \n",
       "1                                          Japanese        98   \n",
       "2  English, German, Hebrew, Spanish, Arabic, Nepali        85   \n",
       "\n",
       "                                                Plot     ...     tomatoRating  \\\n",
       "0  A promising young drummer enrolls at a cut-thr...     ...              8.6   \n",
       "1  A veteran samurai, who has fallen on hard time...     ...              9.3   \n",
       "2  The year is 1936. An archeology professor name...     ...              9.2   \n",
       "\n",
       "  tomatoReviews tomatoRotten  \\\n",
       "0           261           15   \n",
       "1            57            0   \n",
       "2            71            4   \n",
       "\n",
       "                                           tomatoURL tomatoUserMeter  \\\n",
       "0     http://www.rottentomatoes.com/m/whiplash_2014/              94   \n",
       "1  http://www.rottentomatoes.com/m/1018639-seven_...              97   \n",
       "2  http://www.rottentomatoes.com/m/raiders_of_the...              96   \n",
       "\n",
       "  tomatoUserRating tomatoUserReviews        Gross    Opening      Budget  \n",
       "0              4.5             66092   13092000.0   135388.0   3300000.0  \n",
       "1              4.5             89264     269061.0    21830.0   2000000.0  \n",
       "2              4.1            823404  242374454.0  1673731.0  18000000.0  \n",
       "\n",
       "[3 rows x 38 columns]"
      ]
     },
     "execution_count": 27,
     "metadata": {},
     "output_type": "execute_result"
    }
   ],
   "source": [
    "# Merge original df (from omdbapi) with df_imdb\n",
    "df = pd.merge(df, df_imdb)\n",
    "print df.shape\n",
    "df.head(3)"
   ]
  },
  {
   "cell_type": "code",
   "execution_count": 28,
   "metadata": {
    "ExecuteTime": {
     "end_time": "2016-11-02T18:03:35.619866",
     "start_time": "2016-11-02T18:03:35.614230"
    },
    "collapsed": true,
    "hidden": true
   },
   "outputs": [],
   "source": [
    "dfc = df.copy()"
   ]
  },
  {
   "cell_type": "code",
   "execution_count": 29,
   "metadata": {
    "ExecuteTime": {
     "end_time": "2016-11-02T18:03:49.080178",
     "start_time": "2016-11-02T18:03:48.853081"
    },
    "collapsed": false,
    "hidden": true
   },
   "outputs": [],
   "source": [
    "df.to_csv('film_df_v4.csv', sep=',', encoding='utf-8')"
   ]
  },
  {
   "cell_type": "markdown",
   "metadata": {},
   "source": [
    "### Reorder and drop columns"
   ]
  },
  {
   "cell_type": "code",
   "execution_count": 30,
   "metadata": {
    "ExecuteTime": {
     "end_time": "2016-11-02T18:03:51.635684",
     "start_time": "2016-11-02T18:03:51.621991"
    },
    "collapsed": false
   },
   "outputs": [
    {
     "data": {
      "text/plain": [
       "array(['Actors', 'Awards', 'BoxOffice', 'Country', 'DVD', 'Director',\n",
       "       'Genre', 'Language', 'Metascore', 'Plot', 'Poster', 'Production',\n",
       "       'Rated', 'Released', 'Response', 'Runtime', 'Title', 'Type',\n",
       "       'Website', 'Writer', 'Year', 'imdbID', 'imdbRating', 'imdbVotes',\n",
       "       'tomatoConsensus', 'tomatoFresh', 'tomatoImage', 'tomatoMeter',\n",
       "       'tomatoRating', 'tomatoReviews', 'tomatoRotten', 'tomatoURL',\n",
       "       'tomatoUserMeter', 'tomatoUserRating', 'tomatoUserReviews', 'Gross',\n",
       "       'Opening', 'Budget'], dtype=object)"
      ]
     },
     "execution_count": 30,
     "metadata": {},
     "output_type": "execute_result"
    }
   ],
   "source": [
    "df.columns = [i.encode(\"utf-8\") for i in df.columns]\n",
    "df.columns.values"
   ]
  },
  {
   "cell_type": "code",
   "execution_count": 31,
   "metadata": {
    "ExecuteTime": {
     "end_time": "2016-11-02T18:03:56.253000",
     "start_time": "2016-11-02T18:03:56.241034"
    },
    "collapsed": false
   },
   "outputs": [
    {
     "name": "stdout",
     "output_type": "stream",
     "text": [
      "38\n",
      "38\n"
     ]
    }
   ],
   "source": [
    "original_cols = df.columns.values\n",
    "cols_list = [\n",
    "    'imdbID', 'Title', \n",
    "    'BoxOffice', 'Gross', 'Opening', 'Budget', \n",
    "    'Year', 'Released', \n",
    "    'Metascore', 'imdbRating', 'imdbVotes',\n",
    "    'tomatoMeter', 'tomatoRating', 'tomatoReviews', \n",
    "    'tomatoUserMeter', 'tomatoUserRating', 'tomatoUserReviews', \n",
    "    'tomatoFresh', 'tomatoRotten',\n",
    "    'Awards', 'Actors', 'Director', 'Writer', 'Production',  \n",
    "    'Country', 'Language', 'Genre', 'Rated', 'Runtime', 'Plot', \n",
    "    'tomatoConsensus', 'tomatoImage',  'tomatoURL',\n",
    "    'Website',  'DVD',  'Poster', 'Type', 'Response']\n",
    "\n",
    "# columns to delete:\n",
    "# ['tomatoConsensus', 'tomatoImage',  'tomatoURL', 'Response',\n",
    "# 'Type', 'Poster', 'Website', 'DVD']\n",
    "\n",
    "print len(original_cols)\n",
    "print len(cols_list)"
   ]
  },
  {
   "cell_type": "code",
   "execution_count": 53,
   "metadata": {
    "ExecuteTime": {
     "end_time": "2016-11-02T18:12:08.661166",
     "start_time": "2016-11-02T18:12:08.637605"
    },
    "collapsed": false
   },
   "outputs": [
    {
     "name": "stdout",
     "output_type": "stream",
     "text": [
      "movie    250\n",
      "Name: Type, dtype: int64\n",
      "True    250\n",
      "Name: Response, dtype: int64\n"
     ]
    }
   ],
   "source": [
    "print df['Type'].value_counts()\n",
    "print df['Response'].value_counts()"
   ]
  },
  {
   "cell_type": "code",
   "execution_count": 49,
   "metadata": {
    "ExecuteTime": {
     "end_time": "2016-11-02T18:09:14.832356",
     "start_time": "2016-11-02T18:09:14.777298"
    },
    "collapsed": false
   },
   "outputs": [
    {
     "name": "stdout",
     "output_type": "stream",
     "text": [
      "(250, 38)\n",
      "['imdbID' 'Title' 'BoxOffice' 'Gross' 'Opening' 'Budget' 'Year' 'Released'\n",
      " 'Metascore' 'imdbRating' 'imdbVotes' 'tomatoMeter' 'tomatoRating'\n",
      " 'tomatoReviews' 'tomatoUserMeter' 'tomatoUserRating' 'tomatoUserReviews'\n",
      " 'tomatoFresh' 'tomatoRotten' 'Awards' 'Actors' 'Director' 'Writer'\n",
      " 'Production' 'Country' 'Language' 'Genre' 'Rated' 'Runtime' 'Plot'\n",
      " 'tomatoConsensus' 'tomatoImage' 'tomatoURL' 'Website' 'DVD' 'Poster'\n",
      " 'Type' 'Response']\n"
     ]
    },
    {
     "data": {
      "text/html": [
       "<div>\n",
       "<table border=\"1\" class=\"dataframe\">\n",
       "  <thead>\n",
       "    <tr style=\"text-align: right;\">\n",
       "      <th></th>\n",
       "      <th>imdbID</th>\n",
       "      <th>Title</th>\n",
       "      <th>BoxOffice</th>\n",
       "      <th>Gross</th>\n",
       "      <th>Opening</th>\n",
       "      <th>Budget</th>\n",
       "      <th>Year</th>\n",
       "      <th>Released</th>\n",
       "      <th>Metascore</th>\n",
       "      <th>imdbRating</th>\n",
       "      <th>...</th>\n",
       "      <th>Runtime</th>\n",
       "      <th>Plot</th>\n",
       "      <th>tomatoConsensus</th>\n",
       "      <th>tomatoImage</th>\n",
       "      <th>tomatoURL</th>\n",
       "      <th>Website</th>\n",
       "      <th>DVD</th>\n",
       "      <th>Poster</th>\n",
       "      <th>Type</th>\n",
       "      <th>Response</th>\n",
       "    </tr>\n",
       "  </thead>\n",
       "  <tbody>\n",
       "    <tr>\n",
       "      <th>0</th>\n",
       "      <td>tt2582802</td>\n",
       "      <td>Whiplash</td>\n",
       "      <td>N/A</td>\n",
       "      <td>13092000.0</td>\n",
       "      <td>135388.0</td>\n",
       "      <td>3300000.0</td>\n",
       "      <td>2014</td>\n",
       "      <td>15 Oct 2014</td>\n",
       "      <td>88</td>\n",
       "      <td>8.5</td>\n",
       "      <td>...</td>\n",
       "      <td>107 min</td>\n",
       "      <td>A promising young drummer enrolls at a cut-thr...</td>\n",
       "      <td>Intense, inspiring, and well-acted, Whiplash i...</td>\n",
       "      <td>certified</td>\n",
       "      <td>http://www.rottentomatoes.com/m/whiplash_2014/</td>\n",
       "      <td>http://sonyclassics.com/whiplash/</td>\n",
       "      <td>24 Feb 2015</td>\n",
       "      <td>https://images-na.ssl-images-amazon.com/images...</td>\n",
       "      <td>movie</td>\n",
       "      <td>True</td>\n",
       "    </tr>\n",
       "  </tbody>\n",
       "</table>\n",
       "<p>1 rows × 38 columns</p>\n",
       "</div>"
      ],
      "text/plain": [
       "      imdbID     Title BoxOffice       Gross   Opening     Budget  Year  \\\n",
       "0  tt2582802  Whiplash       N/A  13092000.0  135388.0  3300000.0  2014   \n",
       "\n",
       "      Released Metascore imdbRating   ...     Runtime  \\\n",
       "0  15 Oct 2014        88        8.5   ...     107 min   \n",
       "\n",
       "                                                Plot  \\\n",
       "0  A promising young drummer enrolls at a cut-thr...   \n",
       "\n",
       "                                     tomatoConsensus tomatoImage  \\\n",
       "0  Intense, inspiring, and well-acted, Whiplash i...   certified   \n",
       "\n",
       "                                        tomatoURL  \\\n",
       "0  http://www.rottentomatoes.com/m/whiplash_2014/   \n",
       "\n",
       "                             Website          DVD  \\\n",
       "0  http://sonyclassics.com/whiplash/  24 Feb 2015   \n",
       "\n",
       "                                              Poster   Type Response  \n",
       "0  https://images-na.ssl-images-amazon.com/images...  movie     True  \n",
       "\n",
       "[1 rows x 38 columns]"
      ]
     },
     "execution_count": 49,
     "metadata": {},
     "output_type": "execute_result"
    }
   ],
   "source": [
    "# Reindex column order\n",
    "df = df.reindex(columns=cols_list)\n",
    "print df.shape\n",
    "print df.columns.values\n",
    "df.head(1)"
   ]
  },
  {
   "cell_type": "code",
   "execution_count": 54,
   "metadata": {
    "ExecuteTime": {
     "end_time": "2016-11-02T18:13:01.019929",
     "start_time": "2016-11-02T18:13:01.015950"
    },
    "collapsed": true
   },
   "outputs": [],
   "source": [
    "cols_to_delete = ['tomatoConsensus', 'tomatoImage',  'tomatoURL', 'Response',\n",
    "                  'Type', 'Poster', 'Website', 'DVD']"
   ]
  },
  {
   "cell_type": "code",
   "execution_count": 55,
   "metadata": {
    "ExecuteTime": {
     "end_time": "2016-11-02T18:13:21.884180",
     "start_time": "2016-11-02T18:13:21.875515"
    },
    "collapsed": false
   },
   "outputs": [
    {
     "name": "stdout",
     "output_type": "stream",
     "text": [
      "True    250\n",
      "Name: Response, dtype: int64\n",
      "movie    250\n",
      "Name: Type, dtype: int64\n"
     ]
    }
   ],
   "source": [
    "print df['Response'].value_counts()\n",
    "print df['Type'].value_counts()"
   ]
  },
  {
   "cell_type": "code",
   "execution_count": 64,
   "metadata": {
    "ExecuteTime": {
     "end_time": "2016-11-02T18:18:51.963520",
     "start_time": "2016-11-02T18:18:51.913281"
    },
    "collapsed": false
   },
   "outputs": [
    {
     "name": "stdout",
     "output_type": "stream",
     "text": [
      "(250, 30)\n"
     ]
    },
    {
     "data": {
      "text/html": [
       "<div>\n",
       "<table border=\"1\" class=\"dataframe\">\n",
       "  <thead>\n",
       "    <tr style=\"text-align: right;\">\n",
       "      <th></th>\n",
       "      <th>imdbID</th>\n",
       "      <th>Title</th>\n",
       "      <th>BoxOffice</th>\n",
       "      <th>Gross</th>\n",
       "      <th>Opening</th>\n",
       "      <th>Budget</th>\n",
       "      <th>Year</th>\n",
       "      <th>Released</th>\n",
       "      <th>Metascore</th>\n",
       "      <th>imdbRating</th>\n",
       "      <th>...</th>\n",
       "      <th>Actors</th>\n",
       "      <th>Director</th>\n",
       "      <th>Writer</th>\n",
       "      <th>Production</th>\n",
       "      <th>Country</th>\n",
       "      <th>Language</th>\n",
       "      <th>Genre</th>\n",
       "      <th>Rated</th>\n",
       "      <th>Runtime</th>\n",
       "      <th>Plot</th>\n",
       "    </tr>\n",
       "  </thead>\n",
       "  <tbody>\n",
       "    <tr>\n",
       "      <th>0</th>\n",
       "      <td>tt2582802</td>\n",
       "      <td>Whiplash</td>\n",
       "      <td>N/A</td>\n",
       "      <td>13092000.0</td>\n",
       "      <td>135388.0</td>\n",
       "      <td>3300000.0</td>\n",
       "      <td>2014</td>\n",
       "      <td>15 Oct 2014</td>\n",
       "      <td>88</td>\n",
       "      <td>8.5</td>\n",
       "      <td>...</td>\n",
       "      <td>Miles Teller, J.K. Simmons, Paul Reiser, Melis...</td>\n",
       "      <td>Damien Chazelle</td>\n",
       "      <td>Damien Chazelle</td>\n",
       "      <td>Sony Pictures Classics</td>\n",
       "      <td>USA</td>\n",
       "      <td>English</td>\n",
       "      <td>Drama, Music</td>\n",
       "      <td>R</td>\n",
       "      <td>107 min</td>\n",
       "      <td>A promising young drummer enrolls at a cut-thr...</td>\n",
       "    </tr>\n",
       "    <tr>\n",
       "      <th>1</th>\n",
       "      <td>tt0047478</td>\n",
       "      <td>Seven Samurai</td>\n",
       "      <td>N/A</td>\n",
       "      <td>269061.0</td>\n",
       "      <td>21830.0</td>\n",
       "      <td>2000000.0</td>\n",
       "      <td>1954</td>\n",
       "      <td>19 Nov 1956</td>\n",
       "      <td>98</td>\n",
       "      <td>8.7</td>\n",
       "      <td>...</td>\n",
       "      <td>Toshirô Mifune, Takashi Shimura, Keiko Tsushim...</td>\n",
       "      <td>Akira Kurosawa</td>\n",
       "      <td>Akira Kurosawa (screenplay), Shinobu Hashimoto...</td>\n",
       "      <td>Columbia Pictures</td>\n",
       "      <td>Japan</td>\n",
       "      <td>Japanese</td>\n",
       "      <td>Action, Adventure, Drama</td>\n",
       "      <td>UNRATED</td>\n",
       "      <td>207 min</td>\n",
       "      <td>A veteran samurai, who has fallen on hard time...</td>\n",
       "    </tr>\n",
       "  </tbody>\n",
       "</table>\n",
       "<p>2 rows × 30 columns</p>\n",
       "</div>"
      ],
      "text/plain": [
       "      imdbID          Title BoxOffice       Gross   Opening     Budget  Year  \\\n",
       "0  tt2582802       Whiplash       N/A  13092000.0  135388.0  3300000.0  2014   \n",
       "1  tt0047478  Seven Samurai       N/A    269061.0   21830.0  2000000.0  1954   \n",
       "\n",
       "      Released Metascore imdbRating  \\\n",
       "0  15 Oct 2014        88        8.5   \n",
       "1  19 Nov 1956        98        8.7   \n",
       "\n",
       "                         ...                          \\\n",
       "0                        ...                           \n",
       "1                        ...                           \n",
       "\n",
       "                                              Actors         Director  \\\n",
       "0  Miles Teller, J.K. Simmons, Paul Reiser, Melis...  Damien Chazelle   \n",
       "1  Toshirô Mifune, Takashi Shimura, Keiko Tsushim...   Akira Kurosawa   \n",
       "\n",
       "                                              Writer              Production  \\\n",
       "0                                    Damien Chazelle  Sony Pictures Classics   \n",
       "1  Akira Kurosawa (screenplay), Shinobu Hashimoto...       Columbia Pictures   \n",
       "\n",
       "  Country  Language                     Genre    Rated  Runtime  \\\n",
       "0     USA   English              Drama, Music        R  107 min   \n",
       "1   Japan  Japanese  Action, Adventure, Drama  UNRATED  207 min   \n",
       "\n",
       "                                                Plot  \n",
       "0  A promising young drummer enrolls at a cut-thr...  \n",
       "1  A veteran samurai, who has fallen on hard time...  \n",
       "\n",
       "[2 rows x 30 columns]"
      ]
     },
     "execution_count": 64,
     "metadata": {},
     "output_type": "execute_result"
    }
   ],
   "source": [
    "# Create final master df with only 30 columns\n",
    "df = df[['imdbID', 'Title', \n",
    "    'BoxOffice', 'Gross', 'Opening', 'Budget', \n",
    "    'Year', 'Released', \n",
    "    'Metascore', 'imdbRating', 'imdbVotes',\n",
    "    'tomatoMeter', 'tomatoRating', 'tomatoReviews', \n",
    "    'tomatoUserMeter', 'tomatoUserRating', 'tomatoUserReviews', \n",
    "    'tomatoFresh', 'tomatoRotten',\n",
    "    'Awards', 'Actors', 'Director', 'Writer', 'Production',  \n",
    "    'Country', 'Language', 'Genre', 'Rated', 'Runtime', 'Plot']]\n",
    "\n",
    "print df.shape\n",
    "df.head(2)"
   ]
  },
  {
   "cell_type": "raw",
   "metadata": {
    "ExecuteTime": {
     "end_time": "2016-11-02T18:46:58.738424",
     "start_time": "2016-11-02T18:46:58.733230"
    }
   },
   "source": [
    "### !!!!! DO NOT RUN !!!!! ###\n",
    "#######################\n",
    "#######################\n",
    "\n",
    "dfc = df.copy()\n",
    "\n",
    "#######################\n",
    "#######################"
   ]
  },
  {
   "cell_type": "code",
   "execution_count": 112,
   "metadata": {
    "ExecuteTime": {
     "end_time": "2016-11-02T18:49:06.947060",
     "start_time": "2016-11-02T18:49:06.944220"
    },
    "collapsed": true
   },
   "outputs": [],
   "source": [
    "df = dfc"
   ]
  },
  {
   "cell_type": "markdown",
   "metadata": {},
   "source": [
    "## Data Cleaning / Munging"
   ]
  },
  {
   "cell_type": "markdown",
   "metadata": {
    "heading_collapsed": true
   },
   "source": [
    "### Converting dtypes"
   ]
  },
  {
   "cell_type": "code",
   "execution_count": 113,
   "metadata": {
    "ExecuteTime": {
     "end_time": "2016-11-02T18:49:12.613898",
     "start_time": "2016-11-02T18:49:12.594491"
    },
    "collapsed": false,
    "hidden": true
   },
   "outputs": [
    {
     "name": "stdout",
     "output_type": "stream",
     "text": [
      "<class 'pandas.core.frame.DataFrame'>\n",
      "Int64Index: 250 entries, 0 to 249\n",
      "Data columns (total 30 columns):\n",
      "imdbID               250 non-null object\n",
      "Title                250 non-null object\n",
      "BoxOffice            250 non-null object\n",
      "Gross                184 non-null float64\n",
      "Opening              118 non-null float64\n",
      "Budget               216 non-null float64\n",
      "Year                 250 non-null int64\n",
      "Released             250 non-null object\n",
      "Metascore            169 non-null float64\n",
      "imdbRating           250 non-null float64\n",
      "imdbVotes            250 non-null int64\n",
      "tomatoMeter          245 non-null float64\n",
      "tomatoRating         245 non-null float64\n",
      "tomatoReviews        245 non-null float64\n",
      "tomatoUserMeter      247 non-null float64\n",
      "tomatoUserRating     247 non-null float64\n",
      "tomatoUserReviews    249 non-null float64\n",
      "tomatoFresh          245 non-null float64\n",
      "tomatoRotten         245 non-null float64\n",
      "Awards               250 non-null object\n",
      "Actors               250 non-null object\n",
      "Director             250 non-null object\n",
      "Writer               250 non-null object\n",
      "Production           250 non-null object\n",
      "Country              250 non-null object\n",
      "Language             250 non-null object\n",
      "Genre                250 non-null object\n",
      "Rated                250 non-null object\n",
      "Runtime              250 non-null object\n",
      "Plot                 250 non-null object\n",
      "dtypes: float64(13), int64(2), object(15)\n",
      "memory usage: 60.5+ KB\n"
     ]
    }
   ],
   "source": [
    "df.info()"
   ]
  },
  {
   "cell_type": "markdown",
   "metadata": {
    "heading_collapsed": true
   },
   "source": [
    "### Convert numeric dtypes (floats and int)"
   ]
  },
  {
   "cell_type": "code",
   "execution_count": 74,
   "metadata": {
    "ExecuteTime": {
     "end_time": "2016-11-02T18:27:59.416828",
     "start_time": "2016-11-02T18:27:59.401013"
    },
    "collapsed": false,
    "hidden": true
   },
   "outputs": [],
   "source": [
    "# Convert Metascore to float with np.nan for N/A\n",
    "df['Metascore'] = df['Metascore'].apply(lambda x: np.nan if x == 'N/A' else x)\n",
    "df['Metascore'] = df['Metascore'].astype(float)"
   ]
  },
  {
   "cell_type": "code",
   "execution_count": 84,
   "metadata": {
    "ExecuteTime": {
     "end_time": "2016-11-02T18:31:56.044503",
     "start_time": "2016-11-02T18:31:56.034517"
    },
    "collapsed": false,
    "hidden": true
   },
   "outputs": [
    {
     "data": {
      "text/plain": [
       "dtype('float64')"
      ]
     },
     "execution_count": 84,
     "metadata": {},
     "output_type": "execute_result"
    }
   ],
   "source": [
    "# Convert imdbRating to float\n",
    "df['imdbRating'] = df['imdbRating'].astype(float)"
   ]
  },
  {
   "cell_type": "code",
   "execution_count": 87,
   "metadata": {
    "ExecuteTime": {
     "end_time": "2016-11-02T18:34:24.747259",
     "start_time": "2016-11-02T18:34:24.739128"
    },
    "collapsed": false,
    "hidden": true
   },
   "outputs": [],
   "source": [
    "# Convert imdbVotes to int\n",
    "df['imdbVotes'] = df['imdbVotes'].apply(lambda x: x.replace(',', ''))\n",
    "df['imdbVotes'] = df['imdbVotes'].astype(int)"
   ]
  },
  {
   "cell_type": "code",
   "execution_count": null,
   "metadata": {
    "collapsed": true,
    "hidden": true
   },
   "outputs": [],
   "source": [
    "# Convert all tomato columns to int\n",
    "tomato_list = ['tomatoMeter', 'tomatoReviews', 'tomatoUserMeter', 'tomatoUserReviews',\n",
    "           'tomatoFresh', 'tomatoRotten', 'tomatoRating', 'tomatoUserRating']\n",
    "\n",
    "def convert_num(some_list):\n",
    "    for i in some_list:\n",
    "        df[i] = df[i].apply(lambda x: np.nan if x == 'N/A' else x)\n",
    "        df[i] = df[i].astype(float)\n",
    "    return df[i]\n",
    "\n",
    "convert_num(tomato_list)"
   ]
  },
  {
   "cell_type": "markdown",
   "metadata": {
    "heading_collapsed": true
   },
   "source": [
    "### Unused tomato convert cells"
   ]
  },
  {
   "cell_type": "code",
   "execution_count": null,
   "metadata": {
    "collapsed": true,
    "hidden": true
   },
   "outputs": [],
   "source": [
    "# Convert tomatoRating to float"
   ]
  },
  {
   "cell_type": "code",
   "execution_count": null,
   "metadata": {
    "collapsed": true,
    "hidden": true
   },
   "outputs": [],
   "source": [
    "# Convert tomatoReviews to int"
   ]
  },
  {
   "cell_type": "code",
   "execution_count": null,
   "metadata": {
    "collapsed": true,
    "hidden": true
   },
   "outputs": [],
   "source": [
    "# Convert tomatoUserMeter to int"
   ]
  },
  {
   "cell_type": "code",
   "execution_count": null,
   "metadata": {
    "collapsed": true,
    "hidden": true
   },
   "outputs": [],
   "source": [
    "# Convert tomatoUserRating to float"
   ]
  },
  {
   "cell_type": "code",
   "execution_count": null,
   "metadata": {
    "collapsed": true,
    "hidden": true
   },
   "outputs": [],
   "source": [
    "# Convert tomatoUserReviews to int"
   ]
  },
  {
   "cell_type": "code",
   "execution_count": null,
   "metadata": {
    "collapsed": true,
    "hidden": true
   },
   "outputs": [],
   "source": [
    "# Convert tomatoFresh to int"
   ]
  },
  {
   "cell_type": "code",
   "execution_count": null,
   "metadata": {
    "collapsed": true,
    "hidden": true
   },
   "outputs": [],
   "source": [
    "# Convert tomatoRotten to int"
   ]
  },
  {
   "cell_type": "code",
   "execution_count": null,
   "metadata": {
    "collapsed": true,
    "hidden": true
   },
   "outputs": [],
   "source": [
    "# Convert"
   ]
  },
  {
   "cell_type": "markdown",
   "metadata": {
    "heading_collapsed": true
   },
   "source": [
    "### Convert date-related columns (Year and Released)"
   ]
  },
  {
   "cell_type": "code",
   "execution_count": null,
   "metadata": {
    "collapsed": true,
    "hidden": true
   },
   "outputs": [],
   "source": [
    "# Convert Year to int\n",
    "df['Year'] = df['Year'].astype(int)"
   ]
  },
  {
   "cell_type": "code",
   "execution_count": 117,
   "metadata": {
    "ExecuteTime": {
     "end_time": "2016-11-02T18:54:08.608202",
     "start_time": "2016-11-02T18:54:08.593419"
    },
    "collapsed": false,
    "hidden": true
   },
   "outputs": [
    {
     "data": {
      "text/plain": [
       "0    15 Oct 2014\n",
       "1    19 Nov 1956\n",
       "2    12 Jun 1981\n",
       "Name: Released, dtype: object"
      ]
     },
     "execution_count": 117,
     "metadata": {},
     "output_type": "execute_result"
    }
   ],
   "source": [
    "# Convert Release to datetime\n",
    "df['Released'].head(3)"
   ]
  },
  {
   "cell_type": "code",
   "execution_count": 189,
   "metadata": {
    "ExecuteTime": {
     "end_time": "2016-11-02T19:37:56.789080",
     "start_time": "2016-11-02T19:37:56.749282"
    },
    "collapsed": false,
    "hidden": true
   },
   "outputs": [],
   "source": [
    "# Extract month from release date\n",
    "df['Released'] = df['Released'].apply(lambda x: x.replace(' ', '-'))\n",
    "df['Month'] = [x[3:6] for x in df['Released']]"
   ]
  },
  {
   "cell_type": "code",
   "execution_count": 274,
   "metadata": {
    "ExecuteTime": {
     "end_time": "2016-11-02T21:12:31.088228",
     "start_time": "2016-11-02T21:12:31.061435"
    },
    "collapsed": false,
    "hidden": true
   },
   "outputs": [
    {
     "data": {
      "text/plain": [
       "Winter     82\n",
       "Fall       60\n",
       "Summer     59\n",
       "Holiday    48\n",
       "            1\n",
       "Name: Season, dtype: int64"
      ]
     },
     "execution_count": 274,
     "metadata": {},
     "output_type": "execute_result"
    }
   ],
   "source": [
    "# Create new season bins for release dates\n",
    "winter = ['Jan', 'Feb', 'Mar', 'Apr']\n",
    "peak = ['May', 'Jun', 'Jul']\n",
    "fall = ['Aug', 'Sep', 'Oct']\n",
    "holiday = ['Nov', 'Dec']\n",
    "\n",
    "def bin_months(i):\n",
    "    if i in winter:\n",
    "        i = 'Winter'\n",
    "    elif i in peak:\n",
    "        i = 'Summer'\n",
    "    elif i in fall:\n",
    "        i = 'Fall'\n",
    "    elif i in holiday:\n",
    "        i = 'Holiday'\n",
    "    return i\n",
    "\n",
    "df['Season'] = [bin_months(x) for x in df['Month']]\n",
    "df['Season'].value_counts()"
   ]
  },
  {
   "cell_type": "markdown",
   "metadata": {},
   "source": [
    "### Fill in missing values"
   ]
  },
  {
   "cell_type": "code",
   "execution_count": 277,
   "metadata": {
    "ExecuteTime": {
     "end_time": "2016-11-02T21:21:11.631566",
     "start_time": "2016-11-02T21:21:11.592854"
    },
    "collapsed": false
   },
   "outputs": [
    {
     "data": {
      "text/plain": [
       "imdbID                 0\n",
       "Title                  0\n",
       "BoxOffice              0\n",
       "Gross                 66\n",
       "Opening              132\n",
       "Budget                34\n",
       "Year                   0\n",
       "Released               0\n",
       "Metascore             81\n",
       "imdbRating             0\n",
       "imdbVotes              0\n",
       "tomatoMeter            5\n",
       "tomatoRating           5\n",
       "tomatoReviews          5\n",
       "tomatoUserMeter        3\n",
       "tomatoUserRating       3\n",
       "tomatoUserReviews      1\n",
       "tomatoFresh            5\n",
       "tomatoRotten           5\n",
       "Awards                 0\n",
       "Actors                 0\n",
       "Director               0\n",
       "Writer                 0\n",
       "Production             0\n",
       "Country                0\n",
       "Language               0\n",
       "Genre                  0\n",
       "Rated                  0\n",
       "Runtime                0\n",
       "Plot                   0\n",
       "Month                  0\n",
       "Season                 0\n",
       "dtype: int64"
      ]
     },
     "execution_count": 277,
     "metadata": {},
     "output_type": "execute_result"
    }
   ],
   "source": [
    "df.isnull().sum()"
   ]
  },
  {
   "cell_type": "code",
   "execution_count": 323,
   "metadata": {
    "ExecuteTime": {
     "end_time": "2016-11-02T21:44:55.069951",
     "start_time": "2016-11-02T21:44:55.018054"
    },
    "collapsed": false
   },
   "outputs": [
    {
     "data": {
      "text/html": [
       "<div>\n",
       "<table border=\"1\" class=\"dataframe\">\n",
       "  <thead>\n",
       "    <tr style=\"text-align: right;\">\n",
       "      <th></th>\n",
       "      <th>Gross</th>\n",
       "    </tr>\n",
       "  </thead>\n",
       "  <tbody>\n",
       "    <tr>\n",
       "      <th>count</th>\n",
       "      <td>184.00</td>\n",
       "    </tr>\n",
       "    <tr>\n",
       "      <th>mean</th>\n",
       "      <td>109,564,275.12</td>\n",
       "    </tr>\n",
       "    <tr>\n",
       "      <th>std</th>\n",
       "      <td>139,114,010.45</td>\n",
       "    </tr>\n",
       "    <tr>\n",
       "      <th>min</th>\n",
       "      <td>10,177.00</td>\n",
       "    </tr>\n",
       "    <tr>\n",
       "      <th>25%</th>\n",
       "      <td>9,937,414.50</td>\n",
       "    </tr>\n",
       "    <tr>\n",
       "      <th>50%</th>\n",
       "      <td>54,875,306.50</td>\n",
       "    </tr>\n",
       "    <tr>\n",
       "      <th>75%</th>\n",
       "      <td>165,260,264.75</td>\n",
       "    </tr>\n",
       "    <tr>\n",
       "      <th>max</th>\n",
       "      <td>936,627,416.00</td>\n",
       "    </tr>\n",
       "  </tbody>\n",
       "</table>\n",
       "</div>"
      ],
      "text/plain": [
       "                 Gross\n",
       "count           184.00\n",
       "mean    109,564,275.12\n",
       "std     139,114,010.45\n",
       "min          10,177.00\n",
       "25%       9,937,414.50\n",
       "50%      54,875,306.50\n",
       "75%     165,260,264.75\n",
       "max     936,627,416.00"
      ]
     },
     "execution_count": 323,
     "metadata": {},
     "output_type": "execute_result"
    }
   ],
   "source": [
    "summary = df.describe()\n",
    "summary1 = pd.DataFrame(summary.loc[:, 'Gross'].apply(lambda x: '{0: ,.2f}'.format(x)))\n",
    "summary1"
   ]
  },
  {
   "cell_type": "code",
   "execution_count": 337,
   "metadata": {
    "ExecuteTime": {
     "end_time": "2016-11-02T21:49:03.687396",
     "start_time": "2016-11-02T21:49:02.996494"
    },
    "collapsed": false
   },
   "outputs": [
    {
     "data": {
      "text/plain": [
       "<matplotlib.axes._subplots.AxesSubplot at 0x11fbe5190>"
      ]
     },
     "execution_count": 337,
     "metadata": {},
     "output_type": "execute_result"
    },
    {
     "data": {
      "image/png": "[encoded data removed]",
      "text/plain": [
       "<matplotlib.figure.Figure at 0x11e12f250>"
      ]
     },
     "metadata": {},
     "output_type": "display_data"
    }
   ],
   "source": [
    "df['Gross'].hist(bins=100, figsize=(8,6))"
   ]
  },
  {
   "cell_type": "markdown",
   "metadata": {},
   "source": [
    "## Count Vectorization"
   ]
  },
  {
   "cell_type": "code",
   "execution_count": null,
   "metadata": {
    "collapsed": true
   },
   "outputs": [],
   "source": []
  }
 ],
 "metadata": {
  "kernelspec": {
   "display_name": "Python 2",
   "language": "python",
   "name": "python2"
  },
  "language_info": {
   "codemirror_mode": {
    "name": "ipython",
    "version": 2
   },
   "file_extension": ".py",
   "mimetype": "text/x-python",
   "name": "python",
   "nbconvert_exporter": "python",
   "pygments_lexer": "ipython2",
   "version": "2.7.12"
  },
  "toc": {
   "nav_menu": {
    "height": "102px",
    "width": "252px"
   },
   "navigate_menu": true,
   "number_sections": true,
   "sideBar": true,
   "threshold": 4,
   "toc_cell": false,
   "toc_section_display": "block",
   "toc_window_display": false
  }
 },
 "nbformat": 4,
 "nbformat_minor": 0
}
