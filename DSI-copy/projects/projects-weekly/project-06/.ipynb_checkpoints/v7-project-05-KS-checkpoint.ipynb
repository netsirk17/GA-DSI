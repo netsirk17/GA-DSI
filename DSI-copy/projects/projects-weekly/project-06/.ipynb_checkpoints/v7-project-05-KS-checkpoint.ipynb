{
 "cells": [
  {
   "cell_type": "code",
   "execution_count": 408,
   "metadata": {
    "ExecuteTime": {
     "end_time": "2016-11-07T17:58:28.267647",
     "start_time": "2016-11-07T17:58:28.235972"
    },
    "collapsed": false
   },
   "outputs": [],
   "source": [
    "import bs4\n",
    "from bs4 import BeautifulSoup\n",
    "import requests\n",
    "import re\n",
    "import json\n",
    "import pandas as pd\n",
    "import numpy as np\n",
    "from datetime import datetime\n",
    "\n",
    "from sklearn.feature_extraction.text import CountVectorizer\n",
    "import matplotlib.pyplot as plt\n",
    "%matplotlib inline\n",
    "plt.style.use('fivethirtyeight')\n",
    "import seaborn as sns\n",
    "sns.set_palette('muted')\n",
    "sns.set_style('whitegrid')\n",
    "\n",
    "from sklearn.linear_model import LinearRegression\n",
    "from sklearn.metrics import r2_score, classification_report, confusion_matrix, accuracy_score\n",
    "from sklearn.tree import DecisionTreeRegressor, DecisionTreeClassifier\n",
    "from sklearn.model_selection import cross_val_score, KFold, StratifiedKFold, train_test_split\n",
    "from sklearn.grid_search import GridSearchCV\n",
    "from sklearn.ensemble import RandomForestRegressor, AdaBoostRegressor, \\\n",
    "ExtraTreesRegressor, GradientBoostingRegressor,\\\n",
    "AdaBoostClassifier, GradientBoostingClassifier, BaggingClassifier, \\\n",
    "RandomForestClassifier, BaggingRegressor\n",
    "from sklearn.neighbors import KNeighborsRegressor\n",
    "from sklearn.preprocessing import StandardScaler"
   ]
  },
  {
   "cell_type": "markdown",
   "metadata": {
    "heading_collapsed": true
   },
   "source": [
    "## Webscraping"
   ]
  },
  {
   "cell_type": "markdown",
   "metadata": {
    "hidden": true
   },
   "source": [
    "### IMDB: Get film ids"
   ]
  },
  {
   "cell_type": "code",
   "execution_count": 3,
   "metadata": {
    "ExecuteTime": {
     "end_time": "2016-11-07T09:25:00.671575",
     "start_time": "2016-11-07T09:24:59.597366"
    },
    "code_folding": [],
    "collapsed": true,
    "hidden": true
   },
   "outputs": [],
   "source": [
    "# Function that will make an api call to omdbapi.com and return film id\n",
    "\n",
    "def get_id_250():\n",
    "    response = requests.get('http://www.imdb.com/chart/top')\n",
    "    html = response.text\n",
    "    entries = re.findall(\"<a href.*?/title/(.*?)/\", html)\n",
    "    return list(set(entries))\n",
    "\n",
    "entries = get_id_250()"
   ]
  },
  {
   "cell_type": "code",
   "execution_count": 4,
   "metadata": {
    "ExecuteTime": {
     "end_time": "2016-11-07T09:25:00.680705",
     "start_time": "2016-11-07T09:25:00.673402"
    },
    "collapsed": false,
    "hidden": true
   },
   "outputs": [
    {
     "name": "stdout",
     "output_type": "stream",
     "text": [
      "250\n",
      "[u'tt2582802', u'tt0047478']\n"
     ]
    }
   ],
   "source": [
    "print len(entries)\n",
    "print entries[:2]"
   ]
  },
  {
   "cell_type": "markdown",
   "metadata": {
    "hidden": true
   },
   "source": [
    "### Fill in film data from omdapi.com"
   ]
  },
  {
   "cell_type": "code",
   "execution_count": 5,
   "metadata": {
    "ExecuteTime": {
     "end_time": "2016-11-07T09:25:52.716295",
     "start_time": "2016-11-07T09:25:35.465266"
    },
    "collapsed": false,
    "hidden": true
   },
   "outputs": [
    {
     "name": "stdout",
     "output_type": "stream",
     "text": [
      ". . . . . . . . . . . . . . . . . . . . . . . . . . . . . . . . . . . . . . . . . . . . . . . . . . . . . . . . . . . . . . . . . . . . . . . . . . . . . . . . . . . . . . . . . . . . . . . . . . . . . . . . . . . . . . . . . . . . . . . . . . . . . . . . . . . . . . . . . . . . . . . . . . . . . . . . . . . . . . . . . . . . . . . . . . . . . . . . . . . . . . . . . . . . . . . . . . . . . . . . . . . . . . . . . . . . . . . . . . . . . . . . . . . . . . . . . . . . . . . . . . . . . . . . . .\n"
     ]
    }
   ],
   "source": [
    "# Function that will make an api call to omdbapi.com and return film data by film id\n",
    "\n",
    "#Decided to include Rotten Tomatoes ratings and metrics as it may also be a useful feature in models \n",
    "\n",
    "# From JSON/APIs lab\n",
    "def get_entry(entry):\n",
    "    res = requests.get('http://www.omdbapi.com/?i='+entry+'&plot=full&r=json&tomatoes=true')\n",
    "    if res.status_code != 200:\n",
    "        print entry, res.status_code\n",
    "    else:\n",
    "        print '.',\n",
    "    try:\n",
    "        j = json.loads(res.text)\n",
    "    except ValueError:\n",
    "        j = None\n",
    "    return j\n",
    "\n",
    "entries_dict_list = [get_entry(e) for e in entries]"
   ]
  },
  {
   "cell_type": "code",
   "execution_count": 6,
   "metadata": {
    "ExecuteTime": {
     "end_time": "2016-11-07T09:25:52.725724",
     "start_time": "2016-11-07T09:25:52.718905"
    },
    "collapsed": false,
    "hidden": true
   },
   "outputs": [
    {
     "data": {
      "text/plain": [
       "250"
      ]
     },
     "execution_count": 6,
     "metadata": {},
     "output_type": "execute_result"
    }
   ],
   "source": [
    "len(entries_dict_list)"
   ]
  },
  {
   "cell_type": "code",
   "execution_count": 7,
   "metadata": {
    "ExecuteTime": {
     "end_time": "2016-11-07T09:25:52.798747",
     "start_time": "2016-11-07T09:25:52.727848"
    },
    "collapsed": false,
    "hidden": true
   },
   "outputs": [
    {
     "data": {
      "text/html": [
       "<div>\n",
       "<table border=\"1\" class=\"dataframe\">\n",
       "  <thead>\n",
       "    <tr style=\"text-align: right;\">\n",
       "      <th></th>\n",
       "      <th>Actors</th>\n",
       "      <th>Awards</th>\n",
       "      <th>BoxOffice</th>\n",
       "      <th>Country</th>\n",
       "      <th>DVD</th>\n",
       "      <th>Director</th>\n",
       "      <th>Genre</th>\n",
       "      <th>Language</th>\n",
       "      <th>Metascore</th>\n",
       "      <th>Plot</th>\n",
       "      <th>...</th>\n",
       "      <th>tomatoFresh</th>\n",
       "      <th>tomatoImage</th>\n",
       "      <th>tomatoMeter</th>\n",
       "      <th>tomatoRating</th>\n",
       "      <th>tomatoReviews</th>\n",
       "      <th>tomatoRotten</th>\n",
       "      <th>tomatoURL</th>\n",
       "      <th>tomatoUserMeter</th>\n",
       "      <th>tomatoUserRating</th>\n",
       "      <th>tomatoUserReviews</th>\n",
       "    </tr>\n",
       "  </thead>\n",
       "  <tbody>\n",
       "    <tr>\n",
       "      <th>0</th>\n",
       "      <td>Miles Teller, J.K. Simmons, Paul Reiser, Melis...</td>\n",
       "      <td>Won 3 Oscars. Another 87 wins &amp; 131 nominations.</td>\n",
       "      <td>N/A</td>\n",
       "      <td>USA</td>\n",
       "      <td>24 Feb 2015</td>\n",
       "      <td>Damien Chazelle</td>\n",
       "      <td>Drama, Music</td>\n",
       "      <td>English</td>\n",
       "      <td>88</td>\n",
       "      <td>A promising young drummer enrolls at a cut-thr...</td>\n",
       "      <td>...</td>\n",
       "      <td>246</td>\n",
       "      <td>certified</td>\n",
       "      <td>94</td>\n",
       "      <td>8.6</td>\n",
       "      <td>261</td>\n",
       "      <td>15</td>\n",
       "      <td>http://www.rottentomatoes.com/m/whiplash_2014/</td>\n",
       "      <td>94</td>\n",
       "      <td>4.5</td>\n",
       "      <td>66092</td>\n",
       "    </tr>\n",
       "  </tbody>\n",
       "</table>\n",
       "<p>1 rows × 35 columns</p>\n",
       "</div>"
      ],
      "text/plain": [
       "                                              Actors  \\\n",
       "0  Miles Teller, J.K. Simmons, Paul Reiser, Melis...   \n",
       "\n",
       "                                             Awards BoxOffice Country  \\\n",
       "0  Won 3 Oscars. Another 87 wins & 131 nominations.       N/A     USA   \n",
       "\n",
       "           DVD         Director         Genre Language Metascore  \\\n",
       "0  24 Feb 2015  Damien Chazelle  Drama, Music  English        88   \n",
       "\n",
       "                                                Plot        ...         \\\n",
       "0  A promising young drummer enrolls at a cut-thr...        ...          \n",
       "\n",
       "  tomatoFresh tomatoImage tomatoMeter tomatoRating tomatoReviews tomatoRotten  \\\n",
       "0         246   certified          94          8.6           261           15   \n",
       "\n",
       "                                        tomatoURL tomatoUserMeter  \\\n",
       "0  http://www.rottentomatoes.com/m/whiplash_2014/              94   \n",
       "\n",
       "  tomatoUserRating tomatoUserReviews  \n",
       "0              4.5             66092  \n",
       "\n",
       "[1 rows x 35 columns]"
      ]
     },
     "execution_count": 7,
     "metadata": {},
     "output_type": "execute_result"
    }
   ],
   "source": [
    "df = pd.DataFrame(entries_dict_list)\n",
    "df.head(1)"
   ]
  },
  {
   "cell_type": "code",
   "execution_count": null,
   "metadata": {
    "ExecuteTime": {
     "end_time": "2016-11-06T15:30:02.795793",
     "start_time": "2016-11-06T15:30:02.792965"
    },
    "collapsed": false,
    "hidden": true
   },
   "outputs": [],
   "source": [
    "print df.shape"
   ]
  },
  {
   "cell_type": "markdown",
   "metadata": {
    "hidden": true
   },
   "source": [
    "### IMDB: Get gross, opening weekend and budget"
   ]
  },
  {
   "cell_type": "code",
   "execution_count": 8,
   "metadata": {
    "ExecuteTime": {
     "end_time": "2016-11-07T09:25:52.809763",
     "start_time": "2016-11-07T09:25:52.801267"
    },
    "collapsed": true,
    "hidden": true
   },
   "outputs": [],
   "source": [
    "def get_gross(entry):\n",
    "    response = requests.get('http://www.imdb.com/title/' + entry)\n",
    "    html = response.text\n",
    "    try:\n",
    "        gross_list = re.findall(\"Gross:</h4>[ ]*\\$([^ ]*)\", html)\n",
    "        gross = int(gross_list[0].replace(',', ''))\n",
    "        print '.',\n",
    "        return gross\n",
    "    except Exception as ex:\n",
    "        print\n",
    "        print ex, entry, response.status_code\n",
    "        return None"
   ]
  },
  {
   "cell_type": "code",
   "execution_count": 9,
   "metadata": {
    "ExecuteTime": {
     "end_time": "2016-11-07T09:28:30.993702",
     "start_time": "2016-11-07T09:25:52.811335"
    },
    "collapsed": false,
    "hidden": true
   },
   "outputs": [
    {
     "name": "stdout",
     "output_type": "stream",
     "text": [
      ". . . . . . .\n",
      "list index out of range tt0046268 200\n",
      "\n",
      "list index out of range tt0055630 200\n",
      ". . . . .\n",
      "list index out of range tt0057115 200\n",
      ".\n",
      "list index out of range tt0071315 200\n",
      ". . . .\n",
      "list index out of range tt0074896 200\n",
      ". .\n",
      "list index out of range tt0021749 200\n",
      ". .\n",
      "list index out of range tt0053125 200\n",
      ". . .\n",
      "list index out of range tt1220719 200\n",
      "\n",
      "list index out of range tt0025316 200\n",
      ". .\n",
      "list index out of range tt0083922 200\n",
      ". . .\n",
      "list index out of range tt0072684 200\n",
      ".\n",
      "list index out of range tt0074958 200\n",
      ". . . .\n",
      "list index out of range tt0036775 200\n",
      ". . . . . .\n",
      "list index out of range tt0978762 200\n",
      "\n",
      "list index out of range tt0109117 200\n",
      ". .\n",
      "list index out of range tt0080678 200\n",
      ". .\n",
      "list index out of range tt0056592 200\n",
      ".\n",
      "list index out of range tt0095327 200\n",
      ". . .\n",
      "list index out of range tt0476735 200\n",
      "\n",
      "list index out of range tt1821480 200\n",
      ". . . . . .\n",
      "list index out of range tt0046438 200\n",
      ".\n",
      "list index out of range tt0015864 200\n",
      ".\n",
      "list index out of range tt0045152 200\n",
      ". . . .\n",
      "list index out of range tt0046911 200\n",
      ".\n",
      "list index out of range tt0050986 200\n",
      ".\n",
      "list index out of range tt0091251 200\n",
      ". . . . . . . . .\n",
      "list index out of range tt0032553 200\n",
      "\n",
      "list index out of range tt0032551 200\n",
      ". . . . . .\n",
      "list index out of range tt0060827 200\n",
      ". . .\n",
      "list index out of range tt0031679 200\n",
      ". . . . . .\n",
      "list index out of range tt0053198 200\n",
      ". . .\n",
      "list index out of range tt0050825 200\n",
      "\n",
      "list index out of range tt0042876 200\n",
      "\n",
      "list index out of range tt0083987 200\n",
      ". . .\n",
      "list index out of range tt0044079 200\n",
      "\n",
      "list index out of range tt0041546 200\n",
      ". . . . . .\n",
      "list index out of range tt0092067 200\n",
      ". . . .\n",
      "list index out of range tt1954470 200\n",
      ". . . . . . . .\n",
      "list index out of range tt0057012 200\n",
      "\n",
      "list index out of range tt0096283 200\n",
      ".\n",
      "list index out of range tt0064116 200\n",
      ". . . . .\n",
      "list index out of range tt0081505 200\n",
      "\n",
      "list index out of range tt0038650 200\n",
      ".\n",
      "list index out of range tt0034583 200\n",
      ". . . . .\n",
      "list index out of range tt0046250 200\n",
      ". .\n",
      "list index out of range tt0033870 200\n",
      ". . .\n",
      "list index out of range tt0040897 200\n",
      ". .\n",
      "list index out of range tt0019254 200\n",
      "\n",
      "list index out of range tt0066921 200\n",
      "\n",
      "list index out of range tt0061512 200\n",
      "\n",
      "list index out of range tt0033467 200\n",
      ".\n",
      "list index out of range tt0017925 200\n",
      ". . . .\n",
      "list index out of range tt0055031 200\n",
      ".\n",
      "list index out of range tt0087544 200\n",
      ". . .\n",
      "list index out of range tt0050083 200\n",
      ". .\n",
      "list index out of range tt0018455 200\n",
      ". . . .\n",
      "list index out of range tt0077416 200\n",
      ". . . . . . . . .\n",
      "list index out of range tt0050976 200\n",
      ". . . . . . . . .\n",
      "list index out of range tt0043014 200\n",
      "\n",
      "list index out of range tt0079944 200\n",
      ".\n",
      "list index out of range tt0053604 200\n",
      ". . . . .\n",
      "list index out of range tt0051201 200\n",
      ".\n",
      "list index out of range tt0032976 200\n",
      ".\n",
      "list index out of range tt0059578 200\n",
      "\n",
      "list index out of range tt0072890 200\n",
      ". . . . . . .\n",
      "list index out of range tt1028532 200\n",
      ". . . . . .\n",
      "list index out of range tt0075314 200\n"
     ]
    }
   ],
   "source": [
    "grosses = [(e, get_gross(e)) for e in entries]"
   ]
  },
  {
   "cell_type": "code",
   "execution_count": 10,
   "metadata": {
    "ExecuteTime": {
     "end_time": "2016-11-07T09:28:31.019765",
     "start_time": "2016-11-07T09:28:30.995833"
    },
    "collapsed": false,
    "hidden": true
   },
   "outputs": [
    {
     "data": {
      "text/html": [
       "<div>\n",
       "<table border=\"1\" class=\"dataframe\">\n",
       "  <thead>\n",
       "    <tr style=\"text-align: right;\">\n",
       "      <th></th>\n",
       "      <th>imdbID</th>\n",
       "      <th>Gross</th>\n",
       "    </tr>\n",
       "  </thead>\n",
       "  <tbody>\n",
       "    <tr>\n",
       "      <th>0</th>\n",
       "      <td>tt2582802</td>\n",
       "      <td>13092000.0</td>\n",
       "    </tr>\n",
       "    <tr>\n",
       "      <th>1</th>\n",
       "      <td>tt0047478</td>\n",
       "      <td>269061.0</td>\n",
       "    </tr>\n",
       "    <tr>\n",
       "      <th>2</th>\n",
       "      <td>tt0082971</td>\n",
       "      <td>242374454.0</td>\n",
       "    </tr>\n",
       "  </tbody>\n",
       "</table>\n",
       "</div>"
      ],
      "text/plain": [
       "      imdbID        Gross\n",
       "0  tt2582802   13092000.0\n",
       "1  tt0047478     269061.0\n",
       "2  tt0082971  242374454.0"
      ]
     },
     "execution_count": 10,
     "metadata": {},
     "output_type": "execute_result"
    }
   ],
   "source": [
    "df1 = pd.DataFrame(grosses, columns=['imdbID', 'Gross'])\n",
    "df1.head(3)"
   ]
  },
  {
   "cell_type": "code",
   "execution_count": 11,
   "metadata": {
    "ExecuteTime": {
     "end_time": "2016-11-07T09:28:31.030433",
     "start_time": "2016-11-07T09:28:31.021899"
    },
    "collapsed": false,
    "hidden": true
   },
   "outputs": [],
   "source": [
    "def get_opening(entry):\n",
    "    response = requests.get('http://www.imdb.com/title/' + entry)\n",
    "    html = response.text\n",
    "    try:\n",
    "        opening_list = re.findall(\"Opening Weekend:</h4>[ ]*\\$([^ ]*)\", html)\n",
    "        opening = int(opening_list[0].replace(',', ''))\n",
    "        print '.',\n",
    "        return opening\n",
    "    except Exception as ex:\n",
    "        print\n",
    "        print ex, entry, response.status_code\n",
    "        return None"
   ]
  },
  {
   "cell_type": "code",
   "execution_count": 12,
   "metadata": {
    "ExecuteTime": {
     "end_time": "2016-11-07T09:30:59.376061",
     "start_time": "2016-11-07T09:28:31.033345"
    },
    "collapsed": false,
    "hidden": true
   },
   "outputs": [
    {
     "name": "stdout",
     "output_type": "stream",
     "text": [
      ". . .\n",
      "list index out of range tt0050212 200\n",
      "\n",
      "list index out of range tt0986264 200\n",
      ". .\n",
      "list index out of range tt0046268 200\n",
      "\n",
      "list index out of range tt0055630 200\n",
      ". . . . .\n",
      "list index out of range tt0057115 200\n",
      ".\n",
      "list index out of range tt0071315 200\n",
      "\n",
      "list index out of range tt0114746 200\n",
      ". . .\n",
      "list index out of range tt0074896 200\n",
      ". .\n",
      "list index out of range tt0021749 200\n",
      ".\n",
      "list index out of range tt1187043 200\n",
      "\n",
      "list index out of range tt0053125 200\n",
      ".\n",
      "list index out of range tt0112471 200\n",
      ".\n",
      "list index out of range tt1220719 200\n",
      "\n",
      "list index out of range tt0025316 200\n",
      ". .\n",
      "list index out of range tt0083922 200\n",
      "\n",
      "list index out of range tt0088247 200\n",
      ".\n",
      "list index out of range tt0087843 200\n",
      "\n",
      "list index out of range tt0072684 200\n",
      ".\n",
      "list index out of range tt0074958 200\n",
      ".\n",
      "list index out of range tt0052618 200\n",
      ". .\n",
      "list index out of range tt0036775 200\n",
      ".\n",
      "list index out of range tt0110357 200\n",
      ". . .\n",
      "list index out of range tt0075148 200\n",
      "\n",
      "list index out of range tt0978762 200\n",
      "\n",
      "list index out of range tt0109117 200\n",
      ".\n",
      "list index out of range tt0036868 200\n",
      "\n",
      "list index out of range tt0080678 200\n",
      "\n",
      "list index out of range tt0093779 200\n",
      "\n",
      "list index out of range tt0108052 200\n",
      "\n",
      "list index out of range tt0056592 200\n",
      "\n",
      "list index out of range tt0088763 200\n",
      "\n",
      "list index out of range tt0095327 200\n",
      ".\n",
      "list index out of range tt0053291 200\n",
      ". .\n",
      "list index out of range tt1821480 200\n",
      "\n",
      "list index out of range tt0407887 200\n",
      ". . . .\n",
      "list index out of range tt0114814 200\n",
      "\n",
      "list index out of range tt0046438 200\n",
      "\n",
      "list index out of range tt0107048 200\n",
      "\n",
      "list index out of range tt0015864 200\n",
      "\n",
      "list index out of range tt0107207 200\n",
      "\n",
      "list index out of range tt0045152 200\n",
      ".\n",
      "list index out of range tt0167261 200\n",
      "\n",
      "list index out of range tt0167260 200\n",
      "\n",
      "list index out of range tt0095016 200\n",
      "\n",
      "list index out of range tt0046911 200\n",
      ".\n",
      "list index out of range tt0050986 200\n",
      ".\n",
      "list index out of range tt0091251 200\n",
      ".\n",
      "list index out of range tt0078748 200\n",
      ".\n",
      "list index out of range tt0012349 200\n",
      "\n",
      "list index out of range tt0372784 200\n",
      "\n",
      "list index out of range tt0113247 200\n",
      "\n",
      "list index out of range tt0107290 200\n",
      ".\n",
      "list index out of range tt0070735 200\n",
      "\n",
      "list index out of range tt0032553 200\n",
      "\n",
      "list index out of range tt0032551 200\n",
      ".\n",
      "list index out of range tt0361748 200\n",
      ". . . .\n",
      "list index out of range tt0060827 200\n",
      "\n",
      "list index out of range tt0266697 200\n",
      ". .\n",
      "list index out of range tt0031679 200\n",
      "\n",
      "list index out of range tt0080684 200\n",
      ". . . .\n",
      "list index out of range tt0102926 200\n",
      "\n",
      "list index out of range tt0053198 200\n",
      ". . .\n",
      "list index out of range tt0050825 200\n",
      "\n",
      "list index out of range tt0042876 200\n",
      "\n",
      "list index out of range tt0083987 200\n",
      ". . .\n",
      "list index out of range tt0044079 200\n",
      "\n",
      "list index out of range tt0041546 200\n",
      ".\n",
      "list index out of range tt0114369 200\n",
      ".\n",
      "list index out of range tt0091763 200\n",
      ". . .\n",
      "list index out of range tt0090605 200\n",
      "\n",
      "list index out of range tt0120737 200\n",
      "\n",
      "list index out of range tt0120735 200\n",
      ".\n",
      "list index out of range tt1954470 200\n",
      ". .\n",
      "list index out of range tt0110413 200\n",
      "\n",
      "list index out of range tt0058461 200\n",
      ". . . .\n",
      "list index out of range tt0057012 200\n",
      "\n",
      "list index out of range tt0096283 200\n",
      ".\n",
      "list index out of range tt0064116 200\n",
      "\n",
      "list index out of range tt0114709 200\n",
      ". . .\n",
      "list index out of range tt0105236 200\n",
      "\n",
      "list index out of range tt0081505 200\n",
      "\n",
      "list index out of range tt0038650 200\n",
      ".\n",
      "list index out of range tt0034583 200\n",
      ". . .\n",
      "list index out of range tt0054215 200\n",
      ".\n",
      "list index out of range tt0046250 200\n",
      ". .\n",
      "list index out of range tt0033870 200\n",
      "\n",
      "list index out of range tt0112573 200\n",
      ".\n",
      "list index out of range tt0097576 200\n",
      "\n",
      "list index out of range tt0040897 200\n",
      "\n",
      "list index out of range tt0062622 200\n",
      ".\n",
      "list index out of range tt0019254 200\n",
      "\n",
      "list index out of range tt0066921 200\n",
      "\n",
      "list index out of range tt0061512 200\n",
      "\n",
      "list index out of range tt0033467 200\n",
      ".\n",
      "list index out of range tt0017925 200\n",
      ". . .\n",
      "list index out of range tt0064115 200\n",
      "\n",
      "list index out of range tt0055031 200\n",
      ".\n",
      "list index out of range tt0087544 200\n",
      "\n",
      "list index out of range tt0113277 200\n",
      "\n",
      "list index out of range tt0105695 200\n",
      ".\n",
      "list index out of range tt0050083 200\n",
      ".\n",
      "list index out of range tt0110912 200\n",
      "\n",
      "list index out of range tt0018455 200\n",
      ". .\n",
      "list index out of range tt0434409 200\n",
      "\n",
      "list index out of range tt0117951 200\n",
      "\n",
      "list index out of range tt0077416 200\n",
      ". . . . .\n",
      "list index out of range tt0099685 200\n",
      ".\n",
      "list index out of range tt0060196 200\n",
      "\n",
      "list index out of range tt0112641 200\n",
      "\n",
      "list index out of range tt0050976 200\n",
      "\n",
      "list index out of range tt0092005 200\n",
      ".\n",
      "list index out of range tt0111161 200\n",
      ".\n",
      "list index out of range tt0071562 200\n",
      ". . . .\n",
      "list index out of range tt0043014 200\n",
      "\n",
      "list index out of range tt0079944 200\n",
      "\n",
      "list index out of range tt0093058 200\n",
      "\n",
      "list index out of range tt0053604 200\n",
      "\n",
      "list index out of range tt0109830 200\n",
      ".\n",
      "list index out of range tt0073195 200\n",
      ". .\n",
      "list index out of range tt0051201 200\n",
      "\n",
      "list index out of range tt0075686 200\n",
      "\n",
      "list index out of range tt0032976 200\n",
      "\n",
      "list index out of range tt1375666 200\n",
      "\n",
      "list index out of range tt0059578 200\n",
      "\n",
      "list index out of range tt0072890 200\n",
      ".\n",
      "list index out of range tt0103064 200\n",
      ". . . .\n",
      "list index out of range tt0047296 200\n",
      "\n",
      "list index out of range tt1028532 200\n",
      ". .\n",
      "list index out of range tt0073486 200\n",
      "\n",
      "list index out of range tt0209144 200\n",
      "\n",
      "list index out of range tt0208092 200\n",
      ".\n",
      "list index out of range tt0075314 200\n"
     ]
    }
   ],
   "source": [
    "opening = [(e, get_opening(e)) for e in entries]"
   ]
  },
  {
   "cell_type": "code",
   "execution_count": 13,
   "metadata": {
    "ExecuteTime": {
     "end_time": "2016-11-07T09:30:59.390065",
     "start_time": "2016-11-07T09:30:59.378381"
    },
    "collapsed": false,
    "hidden": true
   },
   "outputs": [
    {
     "data": {
      "text/html": [
       "<div>\n",
       "<table border=\"1\" class=\"dataframe\">\n",
       "  <thead>\n",
       "    <tr style=\"text-align: right;\">\n",
       "      <th></th>\n",
       "      <th>imdbID</th>\n",
       "      <th>Opening</th>\n",
       "    </tr>\n",
       "  </thead>\n",
       "  <tbody>\n",
       "    <tr>\n",
       "      <th>0</th>\n",
       "      <td>tt2582802</td>\n",
       "      <td>135388.0</td>\n",
       "    </tr>\n",
       "    <tr>\n",
       "      <th>1</th>\n",
       "      <td>tt0047478</td>\n",
       "      <td>21830.0</td>\n",
       "    </tr>\n",
       "    <tr>\n",
       "      <th>2</th>\n",
       "      <td>tt0082971</td>\n",
       "      <td>1673731.0</td>\n",
       "    </tr>\n",
       "  </tbody>\n",
       "</table>\n",
       "</div>"
      ],
      "text/plain": [
       "      imdbID    Opening\n",
       "0  tt2582802   135388.0\n",
       "1  tt0047478    21830.0\n",
       "2  tt0082971  1673731.0"
      ]
     },
     "execution_count": 13,
     "metadata": {},
     "output_type": "execute_result"
    }
   ],
   "source": [
    "df2 = pd.DataFrame(opening, columns=['imdbID', 'Opening'])\n",
    "df2.head(3)"
   ]
  },
  {
   "cell_type": "code",
   "execution_count": 14,
   "metadata": {
    "ExecuteTime": {
     "end_time": "2016-11-07T09:30:59.403085",
     "start_time": "2016-11-07T09:30:59.392787"
    },
    "collapsed": true,
    "hidden": true
   },
   "outputs": [],
   "source": [
    "def get_budget(entry):\n",
    "    response = requests.get('http://www.imdb.com/title/' + entry)\n",
    "    html = response.text\n",
    "    try:\n",
    "        budget_list = re.findall(\"Budget:</h4>[ ]*\\$([^ ]*)\", html)\n",
    "        budget = int(budget_list[0].replace(',', ''))\n",
    "        print '.',\n",
    "        return budget\n",
    "    except Exception as ex:\n",
    "        print\n",
    "        print ex, entry, response.status_code\n",
    "        return None"
   ]
  },
  {
   "cell_type": "code",
   "execution_count": 15,
   "metadata": {
    "ExecuteTime": {
     "end_time": "2016-11-07T09:33:30.242446",
     "start_time": "2016-11-07T09:30:59.405850"
    },
    "collapsed": false,
    "hidden": true
   },
   "outputs": [
    {
     "name": "stdout",
     "output_type": "stream",
     "text": [
      ". . . .\n",
      "list index out of range tt0986264 200\n",
      ". .\n",
      "list index out of range tt0046268 200\n",
      "\n",
      "list index out of range tt0055630 200\n",
      ". . . . . . . . .\n",
      "list index out of range tt0363163 200\n",
      ".\n",
      "list index out of range tt1865505 200\n",
      ". . . . .\n",
      "list index out of range tt1187043 200\n",
      ". . . . . . . . . . . . . . . . . . . . . . .\n",
      "list index out of range tt0071853 200\n",
      ". .\n",
      "list index out of range tt0978762 200\n",
      "\n",
      "list index out of range tt0109117 200\n",
      ". . . . . . . . . . .\n",
      "list index out of range tt0476735 200\n",
      "\n",
      "list index out of range tt1821480 200\n",
      ".\n",
      "list index out of range tt0044741 200\n",
      ". . . .\n",
      "list index out of range tt0046438 200\n",
      ". . . . . . . .\n",
      "list index out of range tt0046911 200\n",
      ".\n",
      "list index out of range tt0050986 200\n",
      ".\n",
      "list index out of range tt0091251 200\n",
      ". . . . .\n",
      "list index out of range tt0113247 200\n",
      ". . . . . . . . . . .\n",
      "list index out of range tt0060827 200\n",
      ". .\n",
      "list index out of range tt0211915 200\n",
      ". . . . . . .\n",
      "list index out of range tt0053198 200\n",
      ". . . . . . . . . .\n",
      "list index out of range tt0041546 200\n",
      ". . . . . .\n",
      "list index out of range tt0092067 200\n",
      ". .\n",
      "list index out of range tt0120735 200\n",
      ".\n",
      "list index out of range tt1954470 200\n",
      ". .\n",
      "list index out of range tt0110413 200\n",
      ".\n",
      "list index out of range tt0119698 200\n",
      ". . . . . . . . .\n",
      "list index out of range tt0022100 200\n",
      ". . . .\n",
      "list index out of range tt0041959 200\n",
      ". . . . . . . . . . . . . . . .\n",
      "list index out of range tt0019254 200\n",
      ". . .\n",
      "list index out of range tt0050783 200\n",
      ". . . . . . . . . . . . . .\n",
      "list index out of range tt0018455 200\n",
      "\n",
      "list index out of range tt1675434 200\n",
      ". . . . . . . . . .\n",
      "list index out of range tt0457430 200\n",
      ". . . .\n",
      "list index out of range tt0017136 200\n",
      ". . . . . . . .\n",
      "list index out of range tt0079944 200\n",
      ". . . . . . . . . . . . . . .\n",
      "list index out of range tt0056801 200\n",
      ". . . . . . . . .\n",
      "list index out of range tt0208092 200\n",
      ". .\n"
     ]
    }
   ],
   "source": [
    "budgets = [(e, get_budget(e)) for e in entries]"
   ]
  },
  {
   "cell_type": "code",
   "execution_count": 16,
   "metadata": {
    "ExecuteTime": {
     "end_time": "2016-11-07T09:33:30.264274",
     "start_time": "2016-11-07T09:33:30.244536"
    },
    "collapsed": false,
    "hidden": true
   },
   "outputs": [
    {
     "data": {
      "text/html": [
       "<div>\n",
       "<table border=\"1\" class=\"dataframe\">\n",
       "  <thead>\n",
       "    <tr style=\"text-align: right;\">\n",
       "      <th></th>\n",
       "      <th>imdbID</th>\n",
       "      <th>Budget</th>\n",
       "    </tr>\n",
       "  </thead>\n",
       "  <tbody>\n",
       "    <tr>\n",
       "      <th>0</th>\n",
       "      <td>tt2582802</td>\n",
       "      <td>3300000.0</td>\n",
       "    </tr>\n",
       "    <tr>\n",
       "      <th>1</th>\n",
       "      <td>tt0047478</td>\n",
       "      <td>2000000.0</td>\n",
       "    </tr>\n",
       "    <tr>\n",
       "      <th>2</th>\n",
       "      <td>tt0082971</td>\n",
       "      <td>18000000.0</td>\n",
       "    </tr>\n",
       "    <tr>\n",
       "      <th>3</th>\n",
       "      <td>tt0050212</td>\n",
       "      <td>3000000.0</td>\n",
       "    </tr>\n",
       "    <tr>\n",
       "      <th>4</th>\n",
       "      <td>tt0986264</td>\n",
       "      <td>NaN</td>\n",
       "    </tr>\n",
       "  </tbody>\n",
       "</table>\n",
       "</div>"
      ],
      "text/plain": [
       "      imdbID      Budget\n",
       "0  tt2582802   3300000.0\n",
       "1  tt0047478   2000000.0\n",
       "2  tt0082971  18000000.0\n",
       "3  tt0050212   3000000.0\n",
       "4  tt0986264         NaN"
      ]
     },
     "execution_count": 16,
     "metadata": {},
     "output_type": "execute_result"
    }
   ],
   "source": [
    "df3 = pd.DataFrame(budgets, columns=['imdbID', 'Budget'])\n",
    "df3.head()"
   ]
  },
  {
   "cell_type": "code",
   "execution_count": 17,
   "metadata": {
    "ExecuteTime": {
     "end_time": "2016-11-07T09:33:30.274873",
     "start_time": "2016-11-07T09:33:30.266657"
    },
    "collapsed": false,
    "hidden": true
   },
   "outputs": [
    {
     "name": "stdout",
     "output_type": "stream",
     "text": [
      "Index([u'imdbID', u'Gross'], dtype='object')\n",
      "Index([u'imdbID', u'Opening'], dtype='object')\n",
      "Index([u'imdbID', u'Budget'], dtype='object')\n"
     ]
    }
   ],
   "source": [
    "print df1.columns\n",
    "print df2.columns\n",
    "print df3.columns"
   ]
  },
  {
   "cell_type": "code",
   "execution_count": 18,
   "metadata": {
    "ExecuteTime": {
     "end_time": "2016-11-07T09:33:30.286160",
     "start_time": "2016-11-07T09:33:30.277202"
    },
    "collapsed": true,
    "hidden": true
   },
   "outputs": [],
   "source": [
    "df_gross = df1.copy()\n",
    "df_opening = df2.copy()\n",
    "df_budget = df3.copy()"
   ]
  },
  {
   "cell_type": "code",
   "execution_count": 19,
   "metadata": {
    "ExecuteTime": {
     "end_time": "2016-11-07T09:33:30.297542",
     "start_time": "2016-11-07T09:33:30.290873"
    },
    "collapsed": false,
    "hidden": true
   },
   "outputs": [
    {
     "name": "stdout",
     "output_type": "stream",
     "text": [
      "Index([u'imdbID', u'Gross'], dtype='object') (250, 2)\n",
      "Index([u'imdbID', u'Opening'], dtype='object') (250, 2)\n",
      "Index([u'imdbID', u'Budget'], dtype='object') (250, 2)\n"
     ]
    }
   ],
   "source": [
    "print df_gross.columns, df_gross.shape\n",
    "print df_opening.columns, df_opening.shape\n",
    "print df_budget.columns, df_opening.shape"
   ]
  },
  {
   "cell_type": "markdown",
   "metadata": {
    "hidden": true
   },
   "source": [
    "### Merge all dataframes into 1 master df"
   ]
  },
  {
   "cell_type": "code",
   "execution_count": 21,
   "metadata": {
    "ExecuteTime": {
     "end_time": "2016-11-07T09:33:30.353186",
     "start_time": "2016-11-07T09:33:30.310694"
    },
    "collapsed": false,
    "hidden": true
   },
   "outputs": [
    {
     "data": {
      "text/html": [
       "<div>\n",
       "<table border=\"1\" class=\"dataframe\">\n",
       "  <thead>\n",
       "    <tr style=\"text-align: right;\">\n",
       "      <th></th>\n",
       "      <th>imdbID</th>\n",
       "      <th>Gross</th>\n",
       "      <th>Opening</th>\n",
       "      <th>Budget</th>\n",
       "    </tr>\n",
       "  </thead>\n",
       "  <tbody>\n",
       "    <tr>\n",
       "      <th>0</th>\n",
       "      <td>tt2582802</td>\n",
       "      <td>13092000.0</td>\n",
       "      <td>135388.0</td>\n",
       "      <td>3300000.0</td>\n",
       "    </tr>\n",
       "    <tr>\n",
       "      <th>1</th>\n",
       "      <td>tt0047478</td>\n",
       "      <td>269061.0</td>\n",
       "      <td>21830.0</td>\n",
       "      <td>2000000.0</td>\n",
       "    </tr>\n",
       "    <tr>\n",
       "      <th>2</th>\n",
       "      <td>tt0082971</td>\n",
       "      <td>242374454.0</td>\n",
       "      <td>1673731.0</td>\n",
       "      <td>18000000.0</td>\n",
       "    </tr>\n",
       "  </tbody>\n",
       "</table>\n",
       "</div>"
      ],
      "text/plain": [
       "      imdbID        Gross    Opening      Budget\n",
       "0  tt2582802   13092000.0   135388.0   3300000.0\n",
       "1  tt0047478     269061.0    21830.0   2000000.0\n",
       "2  tt0082971  242374454.0  1673731.0  18000000.0"
      ]
     },
     "execution_count": 21,
     "metadata": {},
     "output_type": "execute_result"
    }
   ],
   "source": [
    "# Merge gross, opening and budget dfs\n",
    "df_imdb = pd.merge(df_gross, df_opening, on=\"imdbID\")\n",
    "df_imdb = pd.merge(df_imdb, df_budget, on=\"imdbID\")\n",
    "df_imdb.head(3)"
   ]
  },
  {
   "cell_type": "code",
   "execution_count": 22,
   "metadata": {
    "ExecuteTime": {
     "end_time": "2016-11-07T09:33:30.424480",
     "start_time": "2016-11-07T09:33:30.355676"
    },
    "collapsed": false,
    "hidden": true
   },
   "outputs": [
    {
     "name": "stdout",
     "output_type": "stream",
     "text": [
      "(250, 38)\n"
     ]
    },
    {
     "data": {
      "text/html": [
       "<div>\n",
       "<table border=\"1\" class=\"dataframe\">\n",
       "  <thead>\n",
       "    <tr style=\"text-align: right;\">\n",
       "      <th></th>\n",
       "      <th>Actors</th>\n",
       "      <th>Awards</th>\n",
       "      <th>BoxOffice</th>\n",
       "      <th>Country</th>\n",
       "      <th>DVD</th>\n",
       "      <th>Director</th>\n",
       "      <th>Genre</th>\n",
       "      <th>Language</th>\n",
       "      <th>Metascore</th>\n",
       "      <th>Plot</th>\n",
       "      <th>...</th>\n",
       "      <th>tomatoRating</th>\n",
       "      <th>tomatoReviews</th>\n",
       "      <th>tomatoRotten</th>\n",
       "      <th>tomatoURL</th>\n",
       "      <th>tomatoUserMeter</th>\n",
       "      <th>tomatoUserRating</th>\n",
       "      <th>tomatoUserReviews</th>\n",
       "      <th>Gross</th>\n",
       "      <th>Opening</th>\n",
       "      <th>Budget</th>\n",
       "    </tr>\n",
       "  </thead>\n",
       "  <tbody>\n",
       "    <tr>\n",
       "      <th>0</th>\n",
       "      <td>Miles Teller, J.K. Simmons, Paul Reiser, Melis...</td>\n",
       "      <td>Won 3 Oscars. Another 87 wins &amp; 131 nominations.</td>\n",
       "      <td>N/A</td>\n",
       "      <td>USA</td>\n",
       "      <td>24 Feb 2015</td>\n",
       "      <td>Damien Chazelle</td>\n",
       "      <td>Drama, Music</td>\n",
       "      <td>English</td>\n",
       "      <td>88</td>\n",
       "      <td>A promising young drummer enrolls at a cut-thr...</td>\n",
       "      <td>...</td>\n",
       "      <td>8.6</td>\n",
       "      <td>261</td>\n",
       "      <td>15</td>\n",
       "      <td>http://www.rottentomatoes.com/m/whiplash_2014/</td>\n",
       "      <td>94</td>\n",
       "      <td>4.5</td>\n",
       "      <td>66092</td>\n",
       "      <td>13092000.0</td>\n",
       "      <td>135388.0</td>\n",
       "      <td>3300000.0</td>\n",
       "    </tr>\n",
       "    <tr>\n",
       "      <th>1</th>\n",
       "      <td>Toshirô Mifune, Takashi Shimura, Keiko Tsushim...</td>\n",
       "      <td>Nominated for 2 Oscars. Another 5 wins &amp; 6 nom...</td>\n",
       "      <td>N/A</td>\n",
       "      <td>Japan</td>\n",
       "      <td>01 Mar 1999</td>\n",
       "      <td>Akira Kurosawa</td>\n",
       "      <td>Action, Adventure, Drama</td>\n",
       "      <td>Japanese</td>\n",
       "      <td>98</td>\n",
       "      <td>A veteran samurai, who has fallen on hard time...</td>\n",
       "      <td>...</td>\n",
       "      <td>9.3</td>\n",
       "      <td>57</td>\n",
       "      <td>0</td>\n",
       "      <td>http://www.rottentomatoes.com/m/1018639-seven_...</td>\n",
       "      <td>97</td>\n",
       "      <td>4.5</td>\n",
       "      <td>89264</td>\n",
       "      <td>269061.0</td>\n",
       "      <td>21830.0</td>\n",
       "      <td>2000000.0</td>\n",
       "    </tr>\n",
       "    <tr>\n",
       "      <th>2</th>\n",
       "      <td>Harrison Ford, Karen Allen, Paul Freeman, Rona...</td>\n",
       "      <td>Won 4 Oscars. Another 30 wins &amp; 23 nominations.</td>\n",
       "      <td>N/A</td>\n",
       "      <td>USA</td>\n",
       "      <td>21 Oct 2003</td>\n",
       "      <td>Steven Spielberg</td>\n",
       "      <td>Action, Adventure</td>\n",
       "      <td>English, German, Hebrew, Spanish, Arabic, Nepali</td>\n",
       "      <td>85</td>\n",
       "      <td>The year is 1936. An archeology professor name...</td>\n",
       "      <td>...</td>\n",
       "      <td>9.2</td>\n",
       "      <td>71</td>\n",
       "      <td>4</td>\n",
       "      <td>http://www.rottentomatoes.com/m/raiders_of_the...</td>\n",
       "      <td>96</td>\n",
       "      <td>4.1</td>\n",
       "      <td>823404</td>\n",
       "      <td>242374454.0</td>\n",
       "      <td>1673731.0</td>\n",
       "      <td>18000000.0</td>\n",
       "    </tr>\n",
       "  </tbody>\n",
       "</table>\n",
       "<p>3 rows × 38 columns</p>\n",
       "</div>"
      ],
      "text/plain": [
       "                                              Actors  \\\n",
       "0  Miles Teller, J.K. Simmons, Paul Reiser, Melis...   \n",
       "1  Toshirô Mifune, Takashi Shimura, Keiko Tsushim...   \n",
       "2  Harrison Ford, Karen Allen, Paul Freeman, Rona...   \n",
       "\n",
       "                                              Awards BoxOffice Country  \\\n",
       "0   Won 3 Oscars. Another 87 wins & 131 nominations.       N/A     USA   \n",
       "1  Nominated for 2 Oscars. Another 5 wins & 6 nom...       N/A   Japan   \n",
       "2    Won 4 Oscars. Another 30 wins & 23 nominations.       N/A     USA   \n",
       "\n",
       "           DVD          Director                     Genre  \\\n",
       "0  24 Feb 2015   Damien Chazelle              Drama, Music   \n",
       "1  01 Mar 1999    Akira Kurosawa  Action, Adventure, Drama   \n",
       "2  21 Oct 2003  Steven Spielberg         Action, Adventure   \n",
       "\n",
       "                                           Language Metascore  \\\n",
       "0                                           English        88   \n",
       "1                                          Japanese        98   \n",
       "2  English, German, Hebrew, Spanish, Arabic, Nepali        85   \n",
       "\n",
       "                                                Plot     ...     tomatoRating  \\\n",
       "0  A promising young drummer enrolls at a cut-thr...     ...              8.6   \n",
       "1  A veteran samurai, who has fallen on hard time...     ...              9.3   \n",
       "2  The year is 1936. An archeology professor name...     ...              9.2   \n",
       "\n",
       "  tomatoReviews tomatoRotten  \\\n",
       "0           261           15   \n",
       "1            57            0   \n",
       "2            71            4   \n",
       "\n",
       "                                           tomatoURL tomatoUserMeter  \\\n",
       "0     http://www.rottentomatoes.com/m/whiplash_2014/              94   \n",
       "1  http://www.rottentomatoes.com/m/1018639-seven_...              97   \n",
       "2  http://www.rottentomatoes.com/m/raiders_of_the...              96   \n",
       "\n",
       "  tomatoUserRating tomatoUserReviews        Gross    Opening      Budget  \n",
       "0              4.5             66092   13092000.0   135388.0   3300000.0  \n",
       "1              4.5             89264     269061.0    21830.0   2000000.0  \n",
       "2              4.1            823404  242374454.0  1673731.0  18000000.0  \n",
       "\n",
       "[3 rows x 38 columns]"
      ]
     },
     "execution_count": 22,
     "metadata": {},
     "output_type": "execute_result"
    }
   ],
   "source": [
    "# Merge original df (from omdbapi) with df_imdb\n",
    "df = pd.merge(df, df_imdb)\n",
    "print df.shape\n",
    "df.head(3)"
   ]
  },
  {
   "cell_type": "code",
   "execution_count": 20,
   "metadata": {
    "ExecuteTime": {
     "end_time": "2016-11-07T09:33:30.308177",
     "start_time": "2016-11-07T09:33:30.300213"
    },
    "collapsed": false,
    "hidden": true
   },
   "outputs": [],
   "source": [
    "#################\n",
    "#################\n",
    "\n",
    "# Copy of merged raw dfs without dropping/rearranging columns or cleaning\n",
    "#dfc1 = df.copy()\n",
    "\n",
    "#################\n",
    "#################"
   ]
  },
  {
   "cell_type": "code",
   "execution_count": null,
   "metadata": {
    "ExecuteTime": {
     "end_time": "2016-11-06T15:38:14.416277",
     "start_time": "2016-11-06T20:28:25.957Z"
    },
    "collapsed": true,
    "hidden": true
   },
   "outputs": [],
   "source": [
    "#df.to_csv('film_df_v6.csv', sep=',', encoding='utf-8')"
   ]
  },
  {
   "cell_type": "markdown",
   "metadata": {
    "hidden": true
   },
   "source": [
    "### Reorder and drop columns"
   ]
  },
  {
   "cell_type": "code",
   "execution_count": 23,
   "metadata": {
    "ExecuteTime": {
     "end_time": "2016-11-07T09:36:44.297652",
     "start_time": "2016-11-07T09:36:44.283284"
    },
    "collapsed": false,
    "hidden": true
   },
   "outputs": [
    {
     "data": {
      "text/plain": [
       "array(['Actors', 'Awards', 'BoxOffice', 'Country', 'DVD', 'Director',\n",
       "       'Genre', 'Language', 'Metascore', 'Plot', 'Poster', 'Production',\n",
       "       'Rated', 'Released', 'Response', 'Runtime', 'Title', 'Type',\n",
       "       'Website', 'Writer', 'Year', 'imdbID', 'imdbRating', 'imdbVotes',\n",
       "       'tomatoConsensus', 'tomatoFresh', 'tomatoImage', 'tomatoMeter',\n",
       "       'tomatoRating', 'tomatoReviews', 'tomatoRotten', 'tomatoURL',\n",
       "       'tomatoUserMeter', 'tomatoUserRating', 'tomatoUserReviews', 'Gross',\n",
       "       'Opening', 'Budget'], dtype=object)"
      ]
     },
     "execution_count": 23,
     "metadata": {},
     "output_type": "execute_result"
    }
   ],
   "source": [
    "df.columns = [i.encode(\"utf-8\") for i in df.columns]\n",
    "df.columns.values"
   ]
  },
  {
   "cell_type": "code",
   "execution_count": 24,
   "metadata": {
    "ExecuteTime": {
     "end_time": "2016-11-07T09:36:45.196986",
     "start_time": "2016-11-07T09:36:45.186415"
    },
    "collapsed": false,
    "hidden": true
   },
   "outputs": [
    {
     "name": "stdout",
     "output_type": "stream",
     "text": [
      "38\n",
      "38\n"
     ]
    }
   ],
   "source": [
    "original_cols = df.columns.values\n",
    "cols_list = [\n",
    "    'imdbID', 'Title', \n",
    "    'BoxOffice', 'Gross', 'Opening', 'Budget', \n",
    "    'Year', 'Released', \n",
    "    'Metascore', 'imdbRating', 'imdbVotes',\n",
    "    'tomatoMeter', 'tomatoRating', 'tomatoReviews', \n",
    "    'tomatoUserMeter', 'tomatoUserRating', 'tomatoUserReviews', \n",
    "    'tomatoFresh', 'tomatoRotten',\n",
    "    'Awards', 'Actors', 'Director', 'Writer', 'Production',  \n",
    "    'Country', 'Language', 'Genre', 'Rated', 'Runtime', 'Plot', \n",
    "    'tomatoConsensus', 'tomatoImage',  'tomatoURL',\n",
    "    'Website',  'DVD',  'Poster', 'Type', 'Response']\n",
    "\n",
    "# columns to delete:\n",
    "# ['tomatoConsensus', 'tomatoImage',  'tomatoURL', 'Response',\n",
    "# 'Type', 'Poster', 'Website', 'DVD']\n",
    "\n",
    "print len(original_cols)\n",
    "print len(cols_list)"
   ]
  },
  {
   "cell_type": "code",
   "execution_count": 25,
   "metadata": {
    "ExecuteTime": {
     "end_time": "2016-11-07T09:36:46.660236",
     "start_time": "2016-11-07T09:36:46.649984"
    },
    "collapsed": false,
    "hidden": true
   },
   "outputs": [
    {
     "name": "stdout",
     "output_type": "stream",
     "text": [
      "movie    250\n",
      "Name: Type, dtype: int64\n",
      "True    250\n",
      "Name: Response, dtype: int64\n"
     ]
    }
   ],
   "source": [
    "print df['Type'].value_counts()\n",
    "print df['Response'].value_counts()"
   ]
  },
  {
   "cell_type": "code",
   "execution_count": 26,
   "metadata": {
    "ExecuteTime": {
     "end_time": "2016-11-07T09:37:01.187137",
     "start_time": "2016-11-07T09:37:01.146325"
    },
    "collapsed": false,
    "hidden": true
   },
   "outputs": [
    {
     "name": "stdout",
     "output_type": "stream",
     "text": [
      "(250, 38)\n",
      "['imdbID' 'Title' 'BoxOffice' 'Gross' 'Opening' 'Budget' 'Year' 'Released'\n",
      " 'Metascore' 'imdbRating' 'imdbVotes' 'tomatoMeter' 'tomatoRating'\n",
      " 'tomatoReviews' 'tomatoUserMeter' 'tomatoUserRating' 'tomatoUserReviews'\n",
      " 'tomatoFresh' 'tomatoRotten' 'Awards' 'Actors' 'Director' 'Writer'\n",
      " 'Production' 'Country' 'Language' 'Genre' 'Rated' 'Runtime' 'Plot'\n",
      " 'tomatoConsensus' 'tomatoImage' 'tomatoURL' 'Website' 'DVD' 'Poster'\n",
      " 'Type' 'Response']\n"
     ]
    },
    {
     "data": {
      "text/html": [
       "<div>\n",
       "<table border=\"1\" class=\"dataframe\">\n",
       "  <thead>\n",
       "    <tr style=\"text-align: right;\">\n",
       "      <th></th>\n",
       "      <th>imdbID</th>\n",
       "      <th>Title</th>\n",
       "      <th>BoxOffice</th>\n",
       "      <th>Gross</th>\n",
       "      <th>Opening</th>\n",
       "      <th>Budget</th>\n",
       "      <th>Year</th>\n",
       "      <th>Released</th>\n",
       "      <th>Metascore</th>\n",
       "      <th>imdbRating</th>\n",
       "      <th>...</th>\n",
       "      <th>Runtime</th>\n",
       "      <th>Plot</th>\n",
       "      <th>tomatoConsensus</th>\n",
       "      <th>tomatoImage</th>\n",
       "      <th>tomatoURL</th>\n",
       "      <th>Website</th>\n",
       "      <th>DVD</th>\n",
       "      <th>Poster</th>\n",
       "      <th>Type</th>\n",
       "      <th>Response</th>\n",
       "    </tr>\n",
       "  </thead>\n",
       "  <tbody>\n",
       "    <tr>\n",
       "      <th>0</th>\n",
       "      <td>tt2582802</td>\n",
       "      <td>Whiplash</td>\n",
       "      <td>N/A</td>\n",
       "      <td>13092000.0</td>\n",
       "      <td>135388.0</td>\n",
       "      <td>3300000.0</td>\n",
       "      <td>2014</td>\n",
       "      <td>15 Oct 2014</td>\n",
       "      <td>88</td>\n",
       "      <td>8.5</td>\n",
       "      <td>...</td>\n",
       "      <td>107 min</td>\n",
       "      <td>A promising young drummer enrolls at a cut-thr...</td>\n",
       "      <td>Intense, inspiring, and well-acted, Whiplash i...</td>\n",
       "      <td>certified</td>\n",
       "      <td>http://www.rottentomatoes.com/m/whiplash_2014/</td>\n",
       "      <td>http://sonyclassics.com/whiplash/</td>\n",
       "      <td>24 Feb 2015</td>\n",
       "      <td>https://images-na.ssl-images-amazon.com/images...</td>\n",
       "      <td>movie</td>\n",
       "      <td>True</td>\n",
       "    </tr>\n",
       "  </tbody>\n",
       "</table>\n",
       "<p>1 rows × 38 columns</p>\n",
       "</div>"
      ],
      "text/plain": [
       "      imdbID     Title BoxOffice       Gross   Opening     Budget  Year  \\\n",
       "0  tt2582802  Whiplash       N/A  13092000.0  135388.0  3300000.0  2014   \n",
       "\n",
       "      Released Metascore imdbRating   ...     Runtime  \\\n",
       "0  15 Oct 2014        88        8.5   ...     107 min   \n",
       "\n",
       "                                                Plot  \\\n",
       "0  A promising young drummer enrolls at a cut-thr...   \n",
       "\n",
       "                                     tomatoConsensus tomatoImage  \\\n",
       "0  Intense, inspiring, and well-acted, Whiplash i...   certified   \n",
       "\n",
       "                                        tomatoURL  \\\n",
       "0  http://www.rottentomatoes.com/m/whiplash_2014/   \n",
       "\n",
       "                             Website          DVD  \\\n",
       "0  http://sonyclassics.com/whiplash/  24 Feb 2015   \n",
       "\n",
       "                                              Poster   Type Response  \n",
       "0  https://images-na.ssl-images-amazon.com/images...  movie     True  \n",
       "\n",
       "[1 rows x 38 columns]"
      ]
     },
     "execution_count": 26,
     "metadata": {},
     "output_type": "execute_result"
    }
   ],
   "source": [
    "# Reindex column order\n",
    "df = df.reindex(columns=cols_list)\n",
    "print df.shape\n",
    "print df.columns.values\n",
    "df.head(1)"
   ]
  },
  {
   "cell_type": "code",
   "execution_count": 27,
   "metadata": {
    "ExecuteTime": {
     "end_time": "2016-11-07T09:37:02.077113",
     "start_time": "2016-11-07T09:37:02.073763"
    },
    "collapsed": true,
    "hidden": true
   },
   "outputs": [],
   "source": [
    "cols_to_delete = ['tomatoConsensus', 'tomatoImage',  'tomatoURL', 'Response',\n",
    "                  'Type', 'Poster', 'Website', 'DVD']"
   ]
  },
  {
   "cell_type": "code",
   "execution_count": 28,
   "metadata": {
    "ExecuteTime": {
     "end_time": "2016-11-07T09:37:05.394585",
     "start_time": "2016-11-07T09:37:05.338562"
    },
    "collapsed": false,
    "hidden": true
   },
   "outputs": [
    {
     "name": "stdout",
     "output_type": "stream",
     "text": [
      "(250, 30)\n"
     ]
    },
    {
     "data": {
      "text/html": [
       "<div>\n",
       "<table border=\"1\" class=\"dataframe\">\n",
       "  <thead>\n",
       "    <tr style=\"text-align: right;\">\n",
       "      <th></th>\n",
       "      <th>imdbID</th>\n",
       "      <th>Title</th>\n",
       "      <th>BoxOffice</th>\n",
       "      <th>Gross</th>\n",
       "      <th>Opening</th>\n",
       "      <th>Budget</th>\n",
       "      <th>Year</th>\n",
       "      <th>Released</th>\n",
       "      <th>Metascore</th>\n",
       "      <th>imdbRating</th>\n",
       "      <th>...</th>\n",
       "      <th>Actors</th>\n",
       "      <th>Director</th>\n",
       "      <th>Writer</th>\n",
       "      <th>Production</th>\n",
       "      <th>Country</th>\n",
       "      <th>Language</th>\n",
       "      <th>Genre</th>\n",
       "      <th>Rated</th>\n",
       "      <th>Runtime</th>\n",
       "      <th>Plot</th>\n",
       "    </tr>\n",
       "  </thead>\n",
       "  <tbody>\n",
       "    <tr>\n",
       "      <th>0</th>\n",
       "      <td>tt2582802</td>\n",
       "      <td>Whiplash</td>\n",
       "      <td>N/A</td>\n",
       "      <td>13092000.0</td>\n",
       "      <td>135388.0</td>\n",
       "      <td>3300000.0</td>\n",
       "      <td>2014</td>\n",
       "      <td>15 Oct 2014</td>\n",
       "      <td>88</td>\n",
       "      <td>8.5</td>\n",
       "      <td>...</td>\n",
       "      <td>Miles Teller, J.K. Simmons, Paul Reiser, Melis...</td>\n",
       "      <td>Damien Chazelle</td>\n",
       "      <td>Damien Chazelle</td>\n",
       "      <td>Sony Pictures Classics</td>\n",
       "      <td>USA</td>\n",
       "      <td>English</td>\n",
       "      <td>Drama, Music</td>\n",
       "      <td>R</td>\n",
       "      <td>107 min</td>\n",
       "      <td>A promising young drummer enrolls at a cut-thr...</td>\n",
       "    </tr>\n",
       "    <tr>\n",
       "      <th>1</th>\n",
       "      <td>tt0047478</td>\n",
       "      <td>Seven Samurai</td>\n",
       "      <td>N/A</td>\n",
       "      <td>269061.0</td>\n",
       "      <td>21830.0</td>\n",
       "      <td>2000000.0</td>\n",
       "      <td>1954</td>\n",
       "      <td>19 Nov 1956</td>\n",
       "      <td>98</td>\n",
       "      <td>8.7</td>\n",
       "      <td>...</td>\n",
       "      <td>Toshirô Mifune, Takashi Shimura, Keiko Tsushim...</td>\n",
       "      <td>Akira Kurosawa</td>\n",
       "      <td>Akira Kurosawa (screenplay), Shinobu Hashimoto...</td>\n",
       "      <td>Columbia Pictures</td>\n",
       "      <td>Japan</td>\n",
       "      <td>Japanese</td>\n",
       "      <td>Action, Adventure, Drama</td>\n",
       "      <td>UNRATED</td>\n",
       "      <td>207 min</td>\n",
       "      <td>A veteran samurai, who has fallen on hard time...</td>\n",
       "    </tr>\n",
       "  </tbody>\n",
       "</table>\n",
       "<p>2 rows × 30 columns</p>\n",
       "</div>"
      ],
      "text/plain": [
       "      imdbID          Title BoxOffice       Gross   Opening     Budget  Year  \\\n",
       "0  tt2582802       Whiplash       N/A  13092000.0  135388.0  3300000.0  2014   \n",
       "1  tt0047478  Seven Samurai       N/A    269061.0   21830.0  2000000.0  1954   \n",
       "\n",
       "      Released Metascore imdbRating  \\\n",
       "0  15 Oct 2014        88        8.5   \n",
       "1  19 Nov 1956        98        8.7   \n",
       "\n",
       "                         ...                          \\\n",
       "0                        ...                           \n",
       "1                        ...                           \n",
       "\n",
       "                                              Actors         Director  \\\n",
       "0  Miles Teller, J.K. Simmons, Paul Reiser, Melis...  Damien Chazelle   \n",
       "1  Toshirô Mifune, Takashi Shimura, Keiko Tsushim...   Akira Kurosawa   \n",
       "\n",
       "                                              Writer              Production  \\\n",
       "0                                    Damien Chazelle  Sony Pictures Classics   \n",
       "1  Akira Kurosawa (screenplay), Shinobu Hashimoto...       Columbia Pictures   \n",
       "\n",
       "  Country  Language                     Genre    Rated  Runtime  \\\n",
       "0     USA   English              Drama, Music        R  107 min   \n",
       "1   Japan  Japanese  Action, Adventure, Drama  UNRATED  207 min   \n",
       "\n",
       "                                                Plot  \n",
       "0  A promising young drummer enrolls at a cut-thr...  \n",
       "1  A veteran samurai, who has fallen on hard time...  \n",
       "\n",
       "[2 rows x 30 columns]"
      ]
     },
     "execution_count": 28,
     "metadata": {},
     "output_type": "execute_result"
    }
   ],
   "source": [
    "# Create final master df with only 30 columns\n",
    "df = df[['imdbID', 'Title', \n",
    "    'BoxOffice', 'Gross', 'Opening', 'Budget', \n",
    "    'Year', 'Released', \n",
    "    'Metascore', 'imdbRating', 'imdbVotes',\n",
    "    'tomatoMeter', 'tomatoRating', 'tomatoReviews', \n",
    "    'tomatoUserMeter', 'tomatoUserRating', 'tomatoUserReviews', \n",
    "    'tomatoFresh', 'tomatoRotten',\n",
    "    'Awards', 'Actors', 'Director', 'Writer', 'Production',  \n",
    "    'Country', 'Language', 'Genre', 'Rated', 'Runtime', 'Plot']]\n",
    "\n",
    "print df.shape\n",
    "df.head(2)"
   ]
  },
  {
   "cell_type": "code",
   "execution_count": 29,
   "metadata": {
    "ExecuteTime": {
     "end_time": "2016-11-07T09:37:09.238796",
     "start_time": "2016-11-07T09:37:09.234820"
    },
    "collapsed": false,
    "hidden": true
   },
   "outputs": [],
   "source": [
    "#######################\n",
    "#######################\n",
    "\n",
    "# Copy of merged df with columns cleaned\n",
    "#dfc2 = df.copy()\n",
    "\n",
    "#######################\n",
    "#######################"
   ]
  },
  {
   "cell_type": "code",
   "execution_count": null,
   "metadata": {
    "ExecuteTime": {
     "end_time": "2016-11-06T09:52:43.052685",
     "start_time": "2016-11-06T09:52:43.000385"
    },
    "collapsed": true,
    "hidden": true
   },
   "outputs": [],
   "source": [
    "#df.to_csv('film_df_v6_2.csv', sep=',', encoding='utf-8')"
   ]
  },
  {
   "cell_type": "markdown",
   "metadata": {},
   "source": [
    "## Data Cleaning / Munging"
   ]
  },
  {
   "cell_type": "markdown",
   "metadata": {
    "heading_collapsed": true
   },
   "source": [
    "### Converting dtypes"
   ]
  },
  {
   "cell_type": "code",
   "execution_count": null,
   "metadata": {
    "ExecuteTime": {
     "end_time": "2016-11-06T09:54:01.621570",
     "start_time": "2016-11-06T09:54:01.584912"
    },
    "collapsed": false,
    "hidden": true
   },
   "outputs": [],
   "source": [
    "df.info()"
   ]
  },
  {
   "cell_type": "markdown",
   "metadata": {},
   "source": [
    "### Convert numeric dtypes (floats and int)"
   ]
  },
  {
   "cell_type": "code",
   "execution_count": 52,
   "metadata": {
    "ExecuteTime": {
     "end_time": "2016-11-07T09:40:09.298618",
     "start_time": "2016-11-07T09:40:09.292526"
    },
    "collapsed": false
   },
   "outputs": [],
   "source": [
    "# Convert Metascore to float with np.nan for N/A\n",
    "df['Metascore'] = df['Metascore'].apply(lambda x: np.nan if x == 'N/A' else x)\n",
    "df['Metascore'] = df['Metascore'].astype(float)"
   ]
  },
  {
   "cell_type": "code",
   "execution_count": 53,
   "metadata": {
    "ExecuteTime": {
     "end_time": "2016-11-07T09:40:09.944901",
     "start_time": "2016-11-07T09:40:09.940492"
    },
    "collapsed": false
   },
   "outputs": [],
   "source": [
    "# Convert imdbRating to float\n",
    "df['imdbRating'] = df['imdbRating'].astype(float)"
   ]
  },
  {
   "cell_type": "code",
   "execution_count": 54,
   "metadata": {
    "ExecuteTime": {
     "end_time": "2016-11-07T09:40:11.442608",
     "start_time": "2016-11-07T09:40:11.436721"
    },
    "collapsed": true
   },
   "outputs": [],
   "source": [
    "# Convert imdbVotes to int\n",
    "df['imdbVotes'] = df['imdbVotes'].apply(lambda x: x.replace(',', ''))\n",
    "df['imdbVotes'] = df['imdbVotes'].astype(int)"
   ]
  },
  {
   "cell_type": "code",
   "execution_count": null,
   "metadata": {
    "ExecuteTime": {
     "end_time": "2016-11-07T09:40:12.349306",
     "start_time": "2016-11-07T09:40:12.323423"
    },
    "collapsed": true
   },
   "outputs": [],
   "source": [
    "# Convert all tomato columns to int\n",
    "tomato_list = ['tomatoMeter', 'tomatoReviews', 'tomatoUserMeter', 'tomatoUserReviews',\n",
    "           'tomatoFresh', 'tomatoRotten', 'tomatoRating', 'tomatoUserRating']\n",
    "\n",
    "def convert_num(some_list):\n",
    "    for i in some_list:\n",
    "        df[i] = df[i].apply(lambda x: np.nan if x == 'N/A' else x)\n",
    "        df[i] = df[i].astype(float)\n",
    "    return df[i]\n",
    "\n",
    "convert_num(tomato_list)"
   ]
  },
  {
   "cell_type": "markdown",
   "metadata": {},
   "source": [
    "### Convert datetime-related columns (Year, Released and Runtime)"
   ]
  },
  {
   "cell_type": "code",
   "execution_count": 56,
   "metadata": {
    "ExecuteTime": {
     "end_time": "2016-11-07T09:40:17.953225",
     "start_time": "2016-11-07T09:40:17.948758"
    },
    "collapsed": true
   },
   "outputs": [],
   "source": [
    "# Convert Year to int\n",
    "df['Year'] = df['Year'].astype(int)"
   ]
  },
  {
   "cell_type": "code",
   "execution_count": null,
   "metadata": {
    "ExecuteTime": {
     "end_time": "2016-11-07T09:21:22.675900",
     "start_time": "2016-11-07T09:21:22.669892"
    },
    "collapsed": false
   },
   "outputs": [],
   "source": [
    "df.columns"
   ]
  },
  {
   "cell_type": "code",
   "execution_count": null,
   "metadata": {
    "ExecuteTime": {
     "end_time": "2016-11-07T09:40:19.095449",
     "start_time": "2016-11-07T09:40:19.084498"
    },
    "collapsed": true
   },
   "outputs": [],
   "source": [
    "df['Released'].value_counts()"
   ]
  },
  {
   "cell_type": "code",
   "execution_count": 58,
   "metadata": {
    "ExecuteTime": {
     "end_time": "2016-11-07T09:40:31.147594",
     "start_time": "2016-11-07T09:40:31.141287"
    },
    "collapsed": true
   },
   "outputs": [],
   "source": [
    "# Extract month from release date\n",
    "df['Month'] = [x[3:6] for x in df['Released']]"
   ]
  },
  {
   "cell_type": "code",
   "execution_count": 59,
   "metadata": {
    "ExecuteTime": {
     "end_time": "2016-11-07T09:40:32.605878",
     "start_time": "2016-11-07T09:40:32.589394"
    },
    "collapsed": false
   },
   "outputs": [
    {
     "data": {
      "text/plain": [
       "0   2014-10-15\n",
       "1   1956-11-19\n",
       "2   1981-06-12\n",
       "Name: Released, dtype: datetime64[ns]"
      ]
     },
     "execution_count": 59,
     "metadata": {},
     "output_type": "execute_result"
    }
   ],
   "source": [
    "# Convert Release to datetime\n",
    "\n",
    "# Only N/A value is Charlie Chaplin's The Gold Rush\n",
    "df['Released'] = ['1925-06-25' if i=='N/A' else datetime.strptime(str(i), '%d %b %Y') \\\n",
    "                 for i in df['Released']]\n",
    "df['Released'].head(3)"
   ]
  },
  {
   "cell_type": "code",
   "execution_count": 60,
   "metadata": {
    "ExecuteTime": {
     "end_time": "2016-11-07T09:40:35.093075",
     "start_time": "2016-11-07T09:40:35.069794"
    },
    "code_folding": [],
    "collapsed": false
   },
   "outputs": [
    {
     "data": {
      "text/plain": [
       "Winter     83\n",
       "Fall       59\n",
       "Summer     58\n",
       "Holiday    50\n",
       "Name: Season, dtype: int64"
      ]
     },
     "execution_count": 60,
     "metadata": {},
     "output_type": "execute_result"
    }
   ],
   "source": [
    "# Create new season bins for release dates\n",
    "\n",
    "# Only missing value is Charlie Chaplin's The Gold Rush\n",
    "winter = ['Jan', 'Feb', 'Mar', 'Apr']\n",
    "summer = ['May', 'Jun', 'Jul']\n",
    "fall = ['Aug', 'Sep', 'Oct']\n",
    "holiday = ['Nov', 'Dec']\n",
    "\n",
    "def bin_months(i):\n",
    "    if i in winter:\n",
    "        i = 'Winter'\n",
    "    elif i in summer:\n",
    "        i = 'Summer'\n",
    "    elif i in fall:\n",
    "        i = 'Fall'\n",
    "    elif i in holiday:\n",
    "        i = 'Holiday'\n",
    "    else:\n",
    "        i = 'Summer'\n",
    "    return i\n",
    "\n",
    "df['Season'] = [bin_months(x) for x in df['Month']]\n",
    "df['Season'].value_counts()"
   ]
  },
  {
   "cell_type": "code",
   "execution_count": 61,
   "metadata": {
    "ExecuteTime": {
     "end_time": "2016-11-07T09:40:36.816003",
     "start_time": "2016-11-07T09:40:36.805894"
    },
    "collapsed": false
   },
   "outputs": [
    {
     "data": {
      "text/plain": [
       "0    107\n",
       "1    207\n",
       "Name: Runtime, dtype: int64"
      ]
     },
     "execution_count": 61,
     "metadata": {},
     "output_type": "execute_result"
    }
   ],
   "source": [
    "# Convert Runtime to int\n",
    "def runtime_int(x):\n",
    "    return int(x.replace(' min', ''))\n",
    "\n",
    "df['Runtime'] = df['Runtime'].apply(runtime_int)\n",
    "df['Runtime'].head(2)"
   ]
  },
  {
   "cell_type": "markdown",
   "metadata": {},
   "source": [
    "### Clean up Awards, Rating and Genres"
   ]
  },
  {
   "cell_type": "code",
   "execution_count": 62,
   "metadata": {
    "ExecuteTime": {
     "end_time": "2016-11-07T09:40:38.795969",
     "start_time": "2016-11-07T09:40:38.789327"
    },
    "collapsed": false
   },
   "outputs": [
    {
     "data": {
      "text/plain": [
       "0     Won 3 Oscars. Another 87 wins & 131 nominations.\n",
       "1    Nominated for 2 Oscars. Another 5 wins & 6 nom...\n",
       "2      Won 4 Oscars. Another 30 wins & 23 nominations.\n",
       "3       Won 7 Oscars. Another 23 wins & 7 nominations.\n",
       "4                            14 wins & 15 nominations.\n",
       "Name: Awards, dtype: object"
      ]
     },
     "execution_count": 62,
     "metadata": {},
     "output_type": "execute_result"
    }
   ],
   "source": [
    "df['Awards'].head()"
   ]
  },
  {
   "cell_type": "code",
   "execution_count": 63,
   "metadata": {
    "ExecuteTime": {
     "end_time": "2016-11-07T09:40:39.334176",
     "start_time": "2016-11-07T09:40:39.310820"
    },
    "collapsed": false
   },
   "outputs": [
    {
     "data": {
      "text/plain": [
       "0    3\n",
       "1    0\n",
       "2    4\n",
       "Name: Oscars_Won, dtype: int64"
      ]
     },
     "execution_count": 63,
     "metadata": {},
     "output_type": "execute_result"
    }
   ],
   "source": [
    "# Make Oscars_Won column with number of Oscars won\n",
    "def oscar_winners(x):\n",
    "    try:\n",
    "        oscar_winner = re.findall(r'([^.]*?Oscar[^.]*\\.)',x)[0].split()\n",
    "        if type(oscar_winner[0]) == int:\n",
    "            return int(oscar_winner[0])\n",
    "        elif oscar_winner[0] == 'Won':\n",
    "            return int(oscar_winner[1])\n",
    "        else:\n",
    "            return 0\n",
    "    except:\n",
    "        return 0\n",
    "    \n",
    "df['Oscars_Won'] = df['Awards'].apply(oscar_winners)\n",
    "df['Oscars_Won'].head(3)"
   ]
  },
  {
   "cell_type": "code",
   "execution_count": 78,
   "metadata": {
    "ExecuteTime": {
     "end_time": "2016-11-07T09:41:56.391814",
     "start_time": "2016-11-07T09:41:56.376171"
    },
    "collapsed": false
   },
   "outputs": [
    {
     "data": {
      "text/plain": [
       "0    179\n",
       "1     28\n",
       "2     12\n",
       "4      9\n",
       "3      8\n",
       "5      6\n",
       "7      4\n",
       "6      3\n",
       "8      1\n",
       "Name: Oscar_Noms, dtype: int64"
      ]
     },
     "execution_count": 78,
     "metadata": {},
     "output_type": "execute_result"
    }
   ],
   "source": [
    "# Make Oscar_Noms columns\n",
    "def oscar_noms(x):\n",
    "    try:\n",
    "        oscar_noms = re.findall('Nominated\\sfor\\s(\\d)\\sOscar',x)[0]\n",
    "        return int(oscar_noms)\n",
    "    except:\n",
    "        return 0\n",
    "\n",
    "df['Oscar_Noms'] = df['Awards'].apply(oscar_noms)\n",
    "df['Oscar_Noms'].value_counts()"
   ]
  },
  {
   "cell_type": "code",
   "execution_count": 79,
   "metadata": {
    "ExecuteTime": {
     "end_time": "2016-11-07T09:41:59.387245",
     "start_time": "2016-11-07T09:41:59.376778"
    },
    "collapsed": false
   },
   "outputs": [
    {
     "data": {
      "text/plain": [
       "0    87\n",
       "1     5\n",
       "2    30\n",
       "Name: Awards_Won, dtype: int64"
      ]
     },
     "execution_count": 79,
     "metadata": {},
     "output_type": "execute_result"
    }
   ],
   "source": [
    "# Make Awards_Won column with sum of other awards won\n",
    "def awards_won(x):\n",
    "    try:\n",
    "        awards_won = re.findall('Another\\s(\\d+)\\swins', x)[0]\n",
    "        return int(awards_won)\n",
    "    except:\n",
    "        return 0\n",
    "\n",
    "df['Awards_Won'] = df['Awards'].apply(awards_won)\n",
    "df['Awards_Won'].head(3)"
   ]
  },
  {
   "cell_type": "code",
   "execution_count": 80,
   "metadata": {
    "ExecuteTime": {
     "end_time": "2016-11-07T09:42:00.656006",
     "start_time": "2016-11-07T09:42:00.639842"
    },
    "collapsed": false
   },
   "outputs": [
    {
     "data": {
      "text/plain": [
       "0    131\n",
       "1      6\n",
       "2     23\n",
       "Name: Other_Noms, dtype: int64"
      ]
     },
     "execution_count": 80,
     "metadata": {},
     "output_type": "execute_result"
    }
   ],
   "source": [
    "# Make Other_Noms column with sum of other nominations\n",
    "def other_noms(x):\n",
    "    try:\n",
    "        other_noms = re.findall('(\\d+)\\snomination', x)[0]\n",
    "        return int(other_noms)\n",
    "    except:\n",
    "        return 0\n",
    "\n",
    "df['Other_Noms'] = df['Awards'].apply(other_noms)\n",
    "df['Other_Noms'].head(3)"
   ]
  },
  {
   "cell_type": "code",
   "execution_count": 81,
   "metadata": {
    "ExecuteTime": {
     "end_time": "2016-11-07T09:42:02.659753",
     "start_time": "2016-11-07T09:42:02.648384"
    },
    "collapsed": false
   },
   "outputs": [
    {
     "name": "stdout",
     "output_type": "stream",
     "text": [
      "R        105\n",
      "OTHER     63\n",
      "PG        38\n",
      "PG-13     32\n",
      "G         12\n",
      "Name: Rated, dtype: int64\n"
     ]
    },
    {
     "data": {
      "text/plain": [
       "R        105\n",
       "OTHER     63\n",
       "PG        38\n",
       "PG-13     32\n",
       "G         12\n",
       "Name: Rated, dtype: int64"
      ]
     },
     "execution_count": 81,
     "metadata": {},
     "output_type": "execute_result"
    }
   ],
   "source": [
    "# Clean up Rating column\n",
    "print df['Rated'].value_counts()\n",
    "rated_other = ['NOT RATED', 'APPROVED', 'UNRATED', 'PASSED', 'N/A', 'M']\n",
    "\n",
    "df['Rated'] = df['Rated'].apply(lambda x: x if x not in rated_other else 'OTHER')\n",
    "df['Rated'].value_counts()"
   ]
  },
  {
   "cell_type": "code",
   "execution_count": 67,
   "metadata": {
    "ExecuteTime": {
     "end_time": "2016-11-07T09:40:45.040388",
     "start_time": "2016-11-07T09:40:45.029470"
    },
    "collapsed": false
   },
   "outputs": [
    {
     "data": {
      "text/plain": [
       "Drama        69\n",
       "Crime        39\n",
       "Action       34\n",
       "Adventure    28\n",
       "Comedy       26\n",
       "Biography    21\n",
       "Animation    19\n",
       "Mystery       5\n",
       "Horror        3\n",
       "Western       3\n",
       "Film-Noir     2\n",
       "Sci-Fi        1\n",
       "Name: Genre_1, dtype: int64"
      ]
     },
     "execution_count": 67,
     "metadata": {},
     "output_type": "execute_result"
    }
   ],
   "source": [
    "# Clean up Genre column\n",
    "df['Genre_1'] = df['Genre'].apply(lambda x: x.split(',')[0])\n",
    "df['Genre_1'].value_counts()"
   ]
  },
  {
   "cell_type": "code",
   "execution_count": 68,
   "metadata": {
    "ExecuteTime": {
     "end_time": "2016-11-07T09:40:46.143234",
     "start_time": "2016-11-07T09:40:46.111631"
    },
    "collapsed": false
   },
   "outputs": [
    {
     "name": "stdout",
     "output_type": "stream",
     "text": [
      "<class 'pandas.core.frame.DataFrame'>\n",
      "Int64Index: 250 entries, 0 to 249\n",
      "Data columns (total 36 columns):\n",
      "imdbID               250 non-null object\n",
      "Title                250 non-null object\n",
      "BoxOffice            250 non-null object\n",
      "Gross                183 non-null float64\n",
      "Opening              118 non-null float64\n",
      "Budget               213 non-null float64\n",
      "Year                 250 non-null int64\n",
      "Released             250 non-null datetime64[ns]\n",
      "Metascore            167 non-null float64\n",
      "imdbRating           250 non-null float64\n",
      "imdbVotes            250 non-null int64\n",
      "tomatoMeter          242 non-null float64\n",
      "tomatoRating         242 non-null float64\n",
      "tomatoReviews        242 non-null float64\n",
      "tomatoUserMeter      247 non-null float64\n",
      "tomatoUserRating     247 non-null float64\n",
      "tomatoUserReviews    249 non-null float64\n",
      "tomatoFresh          242 non-null float64\n",
      "tomatoRotten         242 non-null float64\n",
      "Awards               250 non-null object\n",
      "Actors               250 non-null object\n",
      "Director             250 non-null object\n",
      "Writer               250 non-null object\n",
      "Production           250 non-null object\n",
      "Country              250 non-null object\n",
      "Language             250 non-null object\n",
      "Genre                250 non-null object\n",
      "Rated                250 non-null object\n",
      "Runtime              250 non-null int64\n",
      "Plot                 250 non-null object\n",
      "Month                250 non-null object\n",
      "Season               250 non-null object\n",
      "Oscars_Won           250 non-null int64\n",
      "Awards_Won           250 non-null int64\n",
      "Other_Noms           250 non-null int64\n",
      "Genre_1              250 non-null object\n",
      "dtypes: datetime64[ns](1), float64(13), int64(6), object(16)\n",
      "memory usage: 72.3+ KB\n"
     ]
    }
   ],
   "source": [
    "df.info()"
   ]
  },
  {
   "cell_type": "code",
   "execution_count": 82,
   "metadata": {
    "ExecuteTime": {
     "end_time": "2016-11-07T09:42:10.502379",
     "start_time": "2016-11-07T09:42:10.496836"
    },
    "collapsed": true
   },
   "outputs": [],
   "source": [
    "#######################\n",
    "#######################\n",
    "\n",
    "# Copy of cleaned df\n",
    "#dfc3 = df.copy()\n",
    "\n",
    "#######################\n",
    "#######################"
   ]
  },
  {
   "cell_type": "markdown",
   "metadata": {
    "heading_collapsed": true
   },
   "source": [
    "### Convert all dtype object columns to strings"
   ]
  },
  {
   "cell_type": "code",
   "execution_count": null,
   "metadata": {
    "ExecuteTime": {
     "end_time": "2016-11-03T17:00:37.616956",
     "start_time": "2016-11-03T17:00:37.587421"
    },
    "collapsed": false,
    "hidden": true
   },
   "outputs": [],
   "source": [
    "#####################\n",
    "#####################\n",
    "# DO NOT RUN!!!\n",
    "objects = [x for x in df.columns if df[x].dtype == 'object']\n",
    "def objects_to_string(x):\n",
    "    return str(x)\n",
    "\n",
    "def df_to_string():\n",
    "    for i in objects:\n",
    "        return objects_to_string(df[i])\n",
    "\n",
    "df_to_string()"
   ]
  },
  {
   "cell_type": "markdown",
   "metadata": {},
   "source": [
    "### Fill in missing values"
   ]
  },
  {
   "cell_type": "code",
   "execution_count": 70,
   "metadata": {
    "ExecuteTime": {
     "end_time": "2016-11-07T09:40:53.855686",
     "start_time": "2016-11-07T09:40:53.846587"
    },
    "collapsed": false
   },
   "outputs": [
    {
     "data": {
      "text/plain": [
       "imdbID                 0\n",
       "Title                  0\n",
       "BoxOffice              0\n",
       "Gross                 67\n",
       "Opening              132\n",
       "Budget                37\n",
       "Year                   0\n",
       "Released               0\n",
       "Metascore             83\n",
       "imdbRating             0\n",
       "imdbVotes              0\n",
       "tomatoMeter            8\n",
       "tomatoRating           8\n",
       "tomatoReviews          8\n",
       "tomatoUserMeter        3\n",
       "tomatoUserRating       3\n",
       "tomatoUserReviews      1\n",
       "tomatoFresh            8\n",
       "tomatoRotten           8\n",
       "Awards                 0\n",
       "Actors                 0\n",
       "Director               0\n",
       "Writer                 0\n",
       "Production             0\n",
       "Country                0\n",
       "Language               0\n",
       "Genre                  0\n",
       "Rated                  0\n",
       "Runtime                0\n",
       "Plot                   0\n",
       "Month                  0\n",
       "Season                 0\n",
       "Oscars_Won             0\n",
       "Awards_Won             0\n",
       "Other_Noms             0\n",
       "Genre_1                0\n",
       "dtype: int64"
      ]
     },
     "execution_count": 70,
     "metadata": {},
     "output_type": "execute_result"
    }
   ],
   "source": [
    "df.isnull().sum()"
   ]
  },
  {
   "cell_type": "code",
   "execution_count": 71,
   "metadata": {
    "ExecuteTime": {
     "end_time": "2016-11-07T09:40:56.778035",
     "start_time": "2016-11-07T09:40:56.772945"
    },
    "collapsed": true
   },
   "outputs": [],
   "source": [
    "# Drop columns with a large proportion of missing values \n",
    "# (columns whose values are difficult to impute)\n",
    "# Also drop Language column as most\n",
    "cols_to_drop2 = ['Opening', 'Budget', 'Language']\n",
    "df.drop(['Opening', 'Budget', 'Language'], axis=1, inplace=True)"
   ]
  },
  {
   "cell_type": "code",
   "execution_count": 72,
   "metadata": {
    "ExecuteTime": {
     "end_time": "2016-11-07T09:40:57.441138",
     "start_time": "2016-11-07T09:40:57.412501"
    },
    "collapsed": false
   },
   "outputs": [
    {
     "data": {
      "text/plain": [
       "imdbID                0\n",
       "Title                 0\n",
       "BoxOffice             0\n",
       "Gross                67\n",
       "Year                  0\n",
       "Released              0\n",
       "Metascore            83\n",
       "imdbRating            0\n",
       "imdbVotes             0\n",
       "tomatoMeter           0\n",
       "tomatoRating          0\n",
       "tomatoReviews         0\n",
       "tomatoUserMeter       0\n",
       "tomatoUserRating      0\n",
       "tomatoUserReviews     0\n",
       "tomatoFresh           0\n",
       "tomatoRotten          0\n",
       "Awards                0\n",
       "Actors                0\n",
       "Director              0\n",
       "Writer                0\n",
       "Production            0\n",
       "Country               0\n",
       "Genre                 0\n",
       "Rated                 0\n",
       "Runtime               0\n",
       "Plot                  0\n",
       "Month                 0\n",
       "Season                0\n",
       "Oscars_Won            0\n",
       "Awards_Won            0\n",
       "Other_Noms            0\n",
       "Genre_1               0\n",
       "dtype: int64"
      ]
     },
     "execution_count": 72,
     "metadata": {},
     "output_type": "execute_result"
    }
   ],
   "source": [
    "# For columns with small number of missing values, fill missing values\n",
    "# with median column values\n",
    "\n",
    "df['tomatoMeter'].fillna((df['tomatoMeter'].median()), inplace=True)\n",
    "df['tomatoRating'].fillna((df['tomatoRating'].median()), inplace=True)\n",
    "df['tomatoReviews'].fillna((df['tomatoReviews'].median()), inplace=True)\n",
    "df['tomatoUserMeter'].fillna((df['tomatoUserMeter'].median()), inplace=True)\n",
    "df['tomatoUserRating'].fillna((df['tomatoUserRating'].median()), inplace=True)\n",
    "df['tomatoUserReviews'].fillna((df['tomatoUserReviews'].median()), inplace=True)\n",
    "df['tomatoFresh'].fillna((df['tomatoFresh'].median()), inplace=True)\n",
    "df['tomatoRotten'].fillna((df['tomatoRotten'].median()), inplace=True)\n",
    "\n",
    "df.isnull().sum()"
   ]
  },
  {
   "cell_type": "code",
   "execution_count": 73,
   "metadata": {
    "ExecuteTime": {
     "end_time": "2016-11-07T09:41:00.929730",
     "start_time": "2016-11-07T09:41:00.904846"
    },
    "collapsed": false
   },
   "outputs": [
    {
     "data": {
      "text/html": [
       "<div>\n",
       "<table border=\"1\" class=\"dataframe\">\n",
       "  <thead>\n",
       "    <tr style=\"text-align: right;\">\n",
       "      <th></th>\n",
       "      <th>Metascore</th>\n",
       "      <th>tomatoMeter</th>\n",
       "      <th>tomatoRating</th>\n",
       "    </tr>\n",
       "  </thead>\n",
       "  <tbody>\n",
       "    <tr>\n",
       "      <th>Metascore</th>\n",
       "      <td>1.000000</td>\n",
       "      <td>0.718633</td>\n",
       "      <td>0.804856</td>\n",
       "    </tr>\n",
       "    <tr>\n",
       "      <th>tomatoMeter</th>\n",
       "      <td>0.718633</td>\n",
       "      <td>1.000000</td>\n",
       "      <td>0.834373</td>\n",
       "    </tr>\n",
       "    <tr>\n",
       "      <th>tomatoRating</th>\n",
       "      <td>0.804856</td>\n",
       "      <td>0.834373</td>\n",
       "      <td>1.000000</td>\n",
       "    </tr>\n",
       "  </tbody>\n",
       "</table>\n",
       "</div>"
      ],
      "text/plain": [
       "              Metascore  tomatoMeter  tomatoRating\n",
       "Metascore      1.000000     0.718633      0.804856\n",
       "tomatoMeter    0.718633     1.000000      0.834373\n",
       "tomatoRating   0.804856     0.834373      1.000000"
      ]
     },
     "execution_count": 73,
     "metadata": {},
     "output_type": "execute_result"
    }
   ],
   "source": [
    "df.loc[:, ['Metascore', 'tomatoMeter', 'tomatoRating']].corr()"
   ]
  },
  {
   "cell_type": "code",
   "execution_count": 74,
   "metadata": {
    "ExecuteTime": {
     "end_time": "2016-11-07T09:41:03.610993",
     "start_time": "2016-11-07T09:41:03.606171"
    },
    "collapsed": true
   },
   "outputs": [],
   "source": [
    "# Drop Metascore as it is highly correlated to both tomatoMeter and tomatoRating\n",
    "df.drop('Metascore', inplace=True, axis=1)"
   ]
  },
  {
   "cell_type": "markdown",
   "metadata": {},
   "source": [
    "### Try to fill in missing values for Gross column with linear regression"
   ]
  },
  {
   "cell_type": "code",
   "execution_count": 75,
   "metadata": {
    "ExecuteTime": {
     "end_time": "2016-11-07T09:41:12.673707",
     "start_time": "2016-11-07T09:41:12.630439"
    },
    "collapsed": false
   },
   "outputs": [
    {
     "data": {
      "text/html": [
       "<div>\n",
       "<table border=\"1\" class=\"dataframe\">\n",
       "  <thead>\n",
       "    <tr style=\"text-align: right;\">\n",
       "      <th></th>\n",
       "      <th>Gross</th>\n",
       "    </tr>\n",
       "  </thead>\n",
       "  <tbody>\n",
       "    <tr>\n",
       "      <th>count</th>\n",
       "      <td>183.00</td>\n",
       "    </tr>\n",
       "    <tr>\n",
       "      <th>mean</th>\n",
       "      <td>105,567,126.31</td>\n",
       "    </tr>\n",
       "    <tr>\n",
       "      <th>std</th>\n",
       "      <td>134,133,176.66</td>\n",
       "    </tr>\n",
       "    <tr>\n",
       "      <th>min</th>\n",
       "      <td>10,177.00</td>\n",
       "    </tr>\n",
       "    <tr>\n",
       "      <th>25%</th>\n",
       "      <td>8,581,698.50</td>\n",
       "    </tr>\n",
       "    <tr>\n",
       "      <th>50%</th>\n",
       "      <td>52,287,414.00</td>\n",
       "    </tr>\n",
       "    <tr>\n",
       "      <th>75%</th>\n",
       "      <td>161,202,324.00</td>\n",
       "    </tr>\n",
       "    <tr>\n",
       "      <th>max</th>\n",
       "      <td>936,627,416.00</td>\n",
       "    </tr>\n",
       "  </tbody>\n",
       "</table>\n",
       "</div>"
      ],
      "text/plain": [
       "                 Gross\n",
       "count           183.00\n",
       "mean    105,567,126.31\n",
       "std     134,133,176.66\n",
       "min          10,177.00\n",
       "25%       8,581,698.50\n",
       "50%      52,287,414.00\n",
       "75%     161,202,324.00\n",
       "max     936,627,416.00"
      ]
     },
     "execution_count": 75,
     "metadata": {},
     "output_type": "execute_result"
    }
   ],
   "source": [
    "summary = df.describe()\n",
    "summary1 = pd.DataFrame(summary.loc[:, 'Gross'].apply(lambda x: '{0: ,.2f}'.format(x)))\n",
    "summary1"
   ]
  },
  {
   "cell_type": "code",
   "execution_count": 83,
   "metadata": {
    "ExecuteTime": {
     "end_time": "2016-11-07T09:42:24.384820",
     "start_time": "2016-11-07T09:42:24.377855"
    },
    "collapsed": false
   },
   "outputs": [],
   "source": [
    "lm_test = df[df['Gross'].notnull() == True] \n",
    "lm_pred = df[df['Gross'].notnull() == False] "
   ]
  },
  {
   "cell_type": "code",
   "execution_count": 84,
   "metadata": {
    "ExecuteTime": {
     "end_time": "2016-11-07T09:42:25.345159",
     "start_time": "2016-11-07T09:42:25.163817"
    },
    "collapsed": false
   },
   "outputs": [
    {
     "name": "stdout",
     "output_type": "stream",
     "text": [
      "model_score: 0.532080542201\n",
      "MSE: 8.37266709272e+15\n",
      "coeffs:  [ -1.38846274e+08   2.62625382e+02   2.68551894e+05  -1.56664810e+07\n",
      "   1.73784872e+07  -2.07353958e+06   7.48035051e+07  -2.42790656e-01\n",
      "  -1.61379578e+07  -1.95627340e+07  -3.35658294e+05   1.60485618e+07\n",
      "   8.46121209e+06  -7.34117966e+05  -7.23864041e+05  -3.53634472e+04]\n",
      "\n",
      "***Note: Model score is too low to predict missing gross revenue values***\n"
     ]
    }
   ],
   "source": [
    "from sklearn.linear_model import LinearRegression\n",
    "from sklearn.metrics import mean_squared_error\n",
    "lm = LinearRegression()\n",
    "X = lm_test[['imdbRating', 'imdbVotes', 'tomatoMeter', \\\n",
    "              'tomatoRating', 'tomatoReviews', 'tomatoUserMeter', 'tomatoUserRating', \\\n",
    "              'tomatoUserReviews', 'tomatoFresh', 'tomatoRotten', 'Year', 'Oscars_Won', \\\n",
    "            'Oscar_Noms', 'Awards_Won', 'Other_Noms', 'Runtime']]\n",
    "y = lm_test['Gross']\n",
    "\n",
    "linear = lm.fit(X, y)\n",
    "y_pred = linear.predict(X)\n",
    "\n",
    "\n",
    "print 'model_score:', linear.score(X, y)\n",
    "print 'MSE:', mean_squared_error(y, y_pred)\n",
    "print 'coeffs: ', linear.coef_\n",
    "print ''\n",
    "print '***Note: Model score is too low to predict missing gross revenue values***'"
   ]
  },
  {
   "cell_type": "raw",
   "metadata": {
    "ExecuteTime": {
     "end_time": "2016-11-06T14:20:31.188565",
     "start_time": "2016-11-06T14:20:31.171060"
    }
   },
   "source": [
    "coeffs = []\n",
    "labels = ['imdbRating', 'imdbVotes', 'tomatoMeter', \\\n",
    "              'tomatoRating', 'tomatoReviews', 'tomatoUserMeter', 'tomatoUserRating', \\\n",
    "              'tomatoUserReviews', 'tomatoFresh', 'tomatoRotten', 'Year', 'Oscars_Won', \\\n",
    "            'Oscar_Noms', 'Awards_Won', 'Other_Noms', 'Runtime']\n",
    "coef = list(linear.coef_)\n",
    "coeffs.append(labels)\n",
    "coeffs.append(coef)\n",
    "pd.DataFrame(coeffs).T"
   ]
  },
  {
   "cell_type": "markdown",
   "metadata": {},
   "source": [
    "#### Model score of 0.5319 is too low to predict missing gross values"
   ]
  },
  {
   "cell_type": "markdown",
   "metadata": {},
   "source": [
    "### Fill in missing Gross values with median"
   ]
  },
  {
   "cell_type": "code",
   "execution_count": null,
   "metadata": {
    "collapsed": true
   },
   "outputs": [],
   "source": [
    "# Tried to fill in missing Gross values with BoxOffice values but no results"
   ]
  },
  {
   "cell_type": "code",
   "execution_count": 85,
   "metadata": {
    "ExecuteTime": {
     "end_time": "2016-11-07T09:42:47.432975",
     "start_time": "2016-11-07T09:42:47.411882"
    },
    "collapsed": false
   },
   "outputs": [
    {
     "data": {
      "text/html": [
       "<div>\n",
       "<table border=\"1\" class=\"dataframe\">\n",
       "  <thead>\n",
       "    <tr style=\"text-align: right;\">\n",
       "      <th></th>\n",
       "      <th>Gross</th>\n",
       "    </tr>\n",
       "  </thead>\n",
       "  <tbody>\n",
       "    <tr>\n",
       "      <th>Gross</th>\n",
       "      <td>1.000000</td>\n",
       "    </tr>\n",
       "    <tr>\n",
       "      <th>Year</th>\n",
       "      <td>0.302644</td>\n",
       "    </tr>\n",
       "    <tr>\n",
       "      <th>imdbRating</th>\n",
       "      <td>0.107955</td>\n",
       "    </tr>\n",
       "    <tr>\n",
       "      <th>imdbVotes</th>\n",
       "      <td>0.504040</td>\n",
       "    </tr>\n",
       "    <tr>\n",
       "      <th>tomatoMeter</th>\n",
       "      <td>-0.046865</td>\n",
       "    </tr>\n",
       "    <tr>\n",
       "      <th>tomatoRating</th>\n",
       "      <td>-0.021182</td>\n",
       "    </tr>\n",
       "    <tr>\n",
       "      <th>tomatoReviews</th>\n",
       "      <td>0.526588</td>\n",
       "    </tr>\n",
       "    <tr>\n",
       "      <th>tomatoUserMeter</th>\n",
       "      <td>-0.159802</td>\n",
       "    </tr>\n",
       "    <tr>\n",
       "      <th>tomatoUserRating</th>\n",
       "      <td>-0.079481</td>\n",
       "    </tr>\n",
       "    <tr>\n",
       "      <th>tomatoUserReviews</th>\n",
       "      <td>0.158635</td>\n",
       "    </tr>\n",
       "    <tr>\n",
       "      <th>tomatoFresh</th>\n",
       "      <td>0.538130</td>\n",
       "    </tr>\n",
       "    <tr>\n",
       "      <th>tomatoRotten</th>\n",
       "      <td>0.241637</td>\n",
       "    </tr>\n",
       "    <tr>\n",
       "      <th>Runtime</th>\n",
       "      <td>0.070784</td>\n",
       "    </tr>\n",
       "    <tr>\n",
       "      <th>Oscars_Won</th>\n",
       "      <td>0.182850</td>\n",
       "    </tr>\n",
       "    <tr>\n",
       "      <th>Awards_Won</th>\n",
       "      <td>0.292018</td>\n",
       "    </tr>\n",
       "    <tr>\n",
       "      <th>Other_Noms</th>\n",
       "      <td>0.344504</td>\n",
       "    </tr>\n",
       "    <tr>\n",
       "      <th>Oscar_Noms</th>\n",
       "      <td>0.100867</td>\n",
       "    </tr>\n",
       "  </tbody>\n",
       "</table>\n",
       "</div>"
      ],
      "text/plain": [
       "                      Gross\n",
       "Gross              1.000000\n",
       "Year               0.302644\n",
       "imdbRating         0.107955\n",
       "imdbVotes          0.504040\n",
       "tomatoMeter       -0.046865\n",
       "tomatoRating      -0.021182\n",
       "tomatoReviews      0.526588\n",
       "tomatoUserMeter   -0.159802\n",
       "tomatoUserRating  -0.079481\n",
       "tomatoUserReviews  0.158635\n",
       "tomatoFresh        0.538130\n",
       "tomatoRotten       0.241637\n",
       "Runtime            0.070784\n",
       "Oscars_Won         0.182850\n",
       "Awards_Won         0.292018\n",
       "Other_Noms         0.344504\n",
       "Oscar_Noms         0.100867"
      ]
     },
     "execution_count": 85,
     "metadata": {},
     "output_type": "execute_result"
    }
   ],
   "source": [
    "lm_test.corr().loc[:, ['Gross']]"
   ]
  },
  {
   "cell_type": "code",
   "execution_count": 86,
   "metadata": {
    "ExecuteTime": {
     "end_time": "2016-11-07T09:42:53.857096",
     "start_time": "2016-11-07T09:42:53.850098"
    },
    "collapsed": false
   },
   "outputs": [
    {
     "data": {
      "text/plain": [
       "0.53812969768401808"
      ]
     },
     "execution_count": 86,
     "metadata": {},
     "output_type": "execute_result"
    }
   ],
   "source": [
    "corr_index = lm_test.corr().loc['tomatoFresh', 'Gross']\n",
    "corr_index\n",
    "# Gross is most correlated with tomatoFresh"
   ]
  },
  {
   "cell_type": "code",
   "execution_count": 87,
   "metadata": {
    "ExecuteTime": {
     "end_time": "2016-11-07T09:42:54.290546",
     "start_time": "2016-11-07T09:42:54.284148"
    },
    "collapsed": false
   },
   "outputs": [
    {
     "data": {
      "text/plain": [
       "52287414.0"
      ]
     },
     "execution_count": 87,
     "metadata": {},
     "output_type": "execute_result"
    }
   ],
   "source": [
    "df['Gross'].median()"
   ]
  },
  {
   "cell_type": "code",
   "execution_count": 112,
   "metadata": {
    "ExecuteTime": {
     "end_time": "2016-11-07T09:50:56.301928",
     "start_time": "2016-11-07T09:50:56.290463"
    },
    "collapsed": false
   },
   "outputs": [
    {
     "name": "stdout",
     "output_type": "stream",
     "text": [
      "0\n"
     ]
    },
    {
     "data": {
      "text/plain": [
       "0    7.045194e+06\n",
       "1    1.447897e+05\n",
       "2    1.304289e+08\n",
       "3    1.463713e+07\n",
       "4    6.482633e+05\n",
       "Name: Adj_Gross, dtype: float64"
      ]
     },
     "execution_count": 112,
     "metadata": {},
     "output_type": "execute_result"
    }
   ],
   "source": [
    "# I attempted to standardize Gross and fill in for missing values by making\n",
    "# an adjusted Gross column which is the Gross * corr_index or median Gross *\n",
    "# corr_index for missing values (so Gross is represented in relation to corr_index)\n",
    "\n",
    "gross_median = df['Gross'].median()\n",
    "df['Adj_Gross'] = df['Gross'].apply(lambda x: x * corr_index if x > 0 else\\\n",
    "                                   gross_median * corr_index)\n",
    "\n",
    "print df['Adj_Gross'].isnull().sum()\n",
    "df['Adj_Gross'].head()"
   ]
  },
  {
   "cell_type": "markdown",
   "metadata": {},
   "source": [
    "## Count Vectorization"
   ]
  },
  {
   "cell_type": "code",
   "execution_count": null,
   "metadata": {
    "collapsed": true
   },
   "outputs": [],
   "source": [
    "# Actor, Director, Plot, Title, Genre, Production"
   ]
  },
  {
   "cell_type": "code",
   "execution_count": 352,
   "metadata": {
    "ExecuteTime": {
     "end_time": "2016-11-07T17:22:09.699774",
     "start_time": "2016-11-07T17:22:09.679010"
    },
    "collapsed": true
   },
   "outputs": [],
   "source": [
    "# CountVectorizer w/parameters\n",
    "cvec = CountVectorizer(stop_words='english', lowercase=True, \\\n",
    "                      max_features=25, binary=True)"
   ]
  },
  {
   "cell_type": "markdown",
   "metadata": {},
   "source": [
    "#### Actors"
   ]
  },
  {
   "cell_type": "code",
   "execution_count": 353,
   "metadata": {
    "ExecuteTime": {
     "end_time": "2016-11-07T17:22:12.130450",
     "start_time": "2016-11-07T17:22:12.091580"
    },
    "collapsed": false
   },
   "outputs": [
    {
     "name": "stdout",
     "output_type": "stream",
     "text": [
      "0    MilesTeller,J.K.Simmons,PaulReiser,MelissaBenoist\n",
      "1    ToshirôMifune,TakashiShimura,KeikoTsushima,Yuk...\n",
      "2      HarrisonFord,KarenAllen,PaulFreeman,RonaldLacey\n",
      "Name: Actor_First_Name, dtype: object\n",
      "0      MilesTeller\n",
      "1    ToshirôMifune\n",
      "2     HarrisonFord\n",
      "Name: Lead_Actor, dtype: object\n",
      "0    MilesTeller,J.K.Simmons,PaulReiser,MelissaBenoist\n",
      "1    ToshirôMifune,TakashiShimura,KeikoTsushima,Yuk...\n",
      "2      HarrisonFord,KarenAllen,PaulFreeman,RonaldLacey\n",
      "Name: Actors, dtype: object\n"
     ]
    }
   ],
   "source": [
    "# Create column of first names only\n",
    "df['Actor_First_Name'] = df['Actors'].apply(lambda x: x.split(',')[0])\n",
    "df['Actor_First_Name'] = df['Actors'].apply(lambda x: x.split(' ')[0])\n",
    "print df['Actor_First_Name'].head(3)\n",
    "\n",
    "# Create column of lead actors only\n",
    "df['Lead_Actor'] = df['Actors'].apply(lambda x: x.split(',')[0])\n",
    "print df['Lead_Actor'].head(3)\n",
    "\n",
    "# Create column of concatenated names to identify unique people\n",
    "df['Actors'] = df['Actors'].apply(lambda x: x.replace(' ',''))\n",
    "print df['Actors'].head(3)"
   ]
  },
  {
   "cell_type": "code",
   "execution_count": 354,
   "metadata": {
    "ExecuteTime": {
     "end_time": "2016-11-07T17:22:14.187070",
     "start_time": "2016-11-07T17:22:14.180611"
    },
    "collapsed": false
   },
   "outputs": [
    {
     "data": {
      "text/plain": [
       "(250, 856)"
      ]
     },
     "execution_count": 354,
     "metadata": {},
     "output_type": "execute_result"
    }
   ],
   "source": [
    "actors_df.shape"
   ]
  },
  {
   "cell_type": "code",
   "execution_count": 355,
   "metadata": {
    "ExecuteTime": {
     "end_time": "2016-11-07T17:22:28.478480",
     "start_time": "2016-11-07T17:22:28.438677"
    },
    "collapsed": false
   },
   "outputs": [
    {
     "data": {
      "text/html": [
       "<div>\n",
       "<table border=\"1\" class=\"dataframe\">\n",
       "  <thead>\n",
       "    <tr style=\"text-align: right;\">\n",
       "      <th></th>\n",
       "      <th>Count</th>\n",
       "    </tr>\n",
       "  </thead>\n",
       "  <tbody>\n",
       "    <tr>\n",
       "      <th>leonardodicaprio</th>\n",
       "      <td>7</td>\n",
       "    </tr>\n",
       "    <tr>\n",
       "      <th>robertdeniro</th>\n",
       "      <td>7</td>\n",
       "    </tr>\n",
       "    <tr>\n",
       "      <th>harrisonford</th>\n",
       "      <td>7</td>\n",
       "    </tr>\n",
       "    <tr>\n",
       "      <th>tomhanks</th>\n",
       "      <td>6</td>\n",
       "    </tr>\n",
       "    <tr>\n",
       "      <th>clinteastwood</th>\n",
       "      <td>6</td>\n",
       "    </tr>\n",
       "  </tbody>\n",
       "</table>\n",
       "</div>"
      ],
      "text/plain": [
       "                  Count\n",
       "leonardodicaprio      7\n",
       "robertdeniro          7\n",
       "harrisonford          7\n",
       "tomhanks              6\n",
       "clinteastwood         6"
      ]
     },
     "execution_count": 355,
     "metadata": {},
     "output_type": "execute_result"
    }
   ],
   "source": [
    "actors_df = cvec.fit_transform(df['Actors']).todense()\n",
    "actor_col = cvec.get_feature_names()\n",
    "actors_df = pd.DataFrame(actors_df, columns=actor_col)\n",
    "\n",
    "actors = pd.DataFrame(actors_df.sum())\n",
    "actors.columns = ['Count']\n",
    "actors.sort_values(['Count'], ascending=False, inplace=True)\n",
    "actors.head()"
   ]
  },
  {
   "cell_type": "code",
   "execution_count": 356,
   "metadata": {
    "ExecuteTime": {
     "end_time": "2016-11-07T17:22:35.243567",
     "start_time": "2016-11-07T17:22:34.000254"
    },
    "collapsed": false
   },
   "outputs": [
    {
     "name": "stdout",
     "output_type": "stream",
     "text": [
      "4    9\n",
      "3    9\n",
      "7    3\n",
      "6    2\n",
      "5    2\n",
      "Name: Count, dtype: int64\n",
      "(16, 1)\n",
      "                  Count\n",
      "tomhanks              6\n",
      "clinteastwood         6\n",
      "leonardodicaprio      7\n",
      "robertdeniro          7\n",
      "harrisonford          7\n"
     ]
    },
    {
     "name": "stderr",
     "output_type": "stream",
     "text": [
      "/anaconda/lib/python2.7/site-packages/ipykernel/__main__.py:3: SettingWithCopyWarning: \n",
      "A value is trying to be set on a copy of a slice from a DataFrame\n",
      "\n",
      "See the caveats in the documentation: http://pandas.pydata.org/pandas-docs/stable/indexing.html#indexing-view-versus-copy\n",
      "  app.launch_new_instance()\n"
     ]
    },
    {
     "data": {
      "text/plain": [
       "<matplotlib.legend.Legend at 0x140839bd0>"
      ]
     },
     "execution_count": 356,
     "metadata": {},
     "output_type": "execute_result"
    },
    {
     "data": {
      "image/png": "[encoded data removed]",
      "text/plain": [
       "<matplotlib.figure.Figure at 0x12cb58090>"
      ]
     },
     "metadata": {},
     "output_type": "display_data"
    }
   ],
   "source": [
    "print actors['Count'].value_counts()\n",
    "top_actors = actors[actors['Count'] > 3]\n",
    "top_actors.sort_values('Count', ascending=True, inplace=True)\n",
    "print top_actors.shape\n",
    "print top_actors.tail()\n",
    "\n",
    "ax = top_actors.plot(kind='barh', figsize=(16,10), color='royalblue')\n",
    "ax.set_title('Top Actors in IMDB Top 250 Films', y=1.01)\n",
    "ax.tick_params(labelsize=16)\n",
    "ax.legend(fontsize=16, loc='center right')"
   ]
  },
  {
   "cell_type": "code",
   "execution_count": 357,
   "metadata": {
    "ExecuteTime": {
     "end_time": "2016-11-07T17:22:42.020551",
     "start_time": "2016-11-07T17:22:41.140508"
    },
    "collapsed": false
   },
   "outputs": [
    {
     "name": "stdout",
     "output_type": "stream",
     "text": [
      "                  Count\n",
      "clinteastwood         6\n",
      "tomhanks              6\n",
      "harrisonford          7\n",
      "robertdeniro          7\n",
      "leonardodicaprio      7\n",
      "4    9\n",
      "3    9\n",
      "7    3\n",
      "6    2\n",
      "5    2\n",
      "Name: Count, dtype: int64\n"
     ]
    },
    {
     "data": {
      "text/plain": [
       "<matplotlib.legend.Legend at 0x1408efd90>"
      ]
     },
     "execution_count": 357,
     "metadata": {},
     "output_type": "execute_result"
    },
    {
     "data": {
      "image/png": "[encoded data removed]",
      "text/plain": [
       "<matplotlib.figure.Figure at 0x11e4f94d0>"
      ]
     },
     "metadata": {},
     "output_type": "display_data"
    }
   ],
   "source": [
    "actor_first = cvec.fit_transform(df['Actor_First_Name']).todense()\n",
    "actor_first_col = cvec.get_feature_names()\n",
    "actor_first = pd.DataFrame(actor_first, columns=actor_first_col)\n",
    "\n",
    "actor_first = pd.DataFrame(actor_first.sum())\n",
    "actor_first.columns = ['Count']\n",
    "actor_first.sort_values(['Count'], inplace=True)\n",
    "print actor_first.tail()\n",
    "print actor_first['Count'].value_counts()\n",
    "\n",
    "top_actor_first = actor_first[actor_first['Count'] > 2]\n",
    "\n",
    "\"\"\"self, x=None, y=None, kind='line', ax=None, subplots=False, sharex=None, \\\n",
    "sharey=False, layout=None, figsize=None, use_index=True, title=None, \\\n",
    "grid=None, legend=True, style=None, logx=False, logy=False, loglog=False, \\\n",
    "xticks=None, yticks=None, xlim=None, ylim=None, rot=None, fontsize=None, \\\n",
    "colormap=None, table=False, yerr=None, xerr=None, secondary_y=False, \\\n",
    "sort_columns=False, **kwds\"\"\"\n",
    "\n",
    "ax = top_actor_first.plot(kind='barh', figsize=(16,12), color='dodgerblue')\n",
    "ax.set_title('Top Actor First Names in IMDB Top 250 Films', y=1.01)\n",
    "ax.tick_params(labelsize=16)\n",
    "ax.legend(fontsize=16, loc='center right')"
   ]
  },
  {
   "cell_type": "markdown",
   "metadata": {
    "heading_collapsed": true
   },
   "source": [
    "#### Unused Categorical Histograms"
   ]
  },
  {
   "cell_type": "code",
   "execution_count": null,
   "metadata": {
    "ExecuteTime": {
     "end_time": "2016-11-06T11:21:51.529266",
     "start_time": "2016-11-06T11:21:50.094079"
    },
    "collapsed": true,
    "hidden": true
   },
   "outputs": [],
   "source": [
    "# Ask how to create barh subplots with categorical histograms\n",
    "\n",
    "fig, (ax1, ax2) = plt.subplots(1,2, figsize=(16,30), sharex=True)\n",
    "\n",
    "ax1.barh( color='royalblue')\n",
    "ax1.set_title('Top Actors in IMDB Top 250 Films', y=1.01)\n",
    "ax1.tick_params(labelsize=16)\n",
    "ax1.legend(fontsize=16, loc='center right')\n",
    "\n",
    "ax2 = top_actor_first.plot(kind='barh', figsize=(16,12), color='dodgerblue')\n",
    "ax2.set_title('Top Actor First Names in IMDB Top 250 Films', y=1.01)\n",
    "ax2.tick_params(labelsize=16)\n",
    "ax2.legend(fontsize=16, loc='center right')"
   ]
  },
  {
   "cell_type": "markdown",
   "metadata": {},
   "source": [
    "#### Directors "
   ]
  },
  {
   "cell_type": "code",
   "execution_count": 358,
   "metadata": {
    "ExecuteTime": {
     "end_time": "2016-11-07T17:23:05.969221",
     "start_time": "2016-11-07T17:23:05.015749"
    },
    "collapsed": false
   },
   "outputs": [
    {
     "name": "stdout",
     "output_type": "stream",
     "text": [
      "3    12\n",
      "7     5\n",
      "5     4\n",
      "6     2\n",
      "4     2\n",
      "Name: Count, dtype: int64\n",
      "(13, 1)\n",
      "                  Count\n",
      "stevenspielberg       7\n",
      "christophernolan      7\n",
      "martinscorsese        7\n",
      "alfredhitchcock       7\n",
      "stanleykubrick        7\n"
     ]
    },
    {
     "name": "stderr",
     "output_type": "stream",
     "text": [
      "/anaconda/lib/python2.7/site-packages/ipykernel/__main__.py:13: SettingWithCopyWarning: \n",
      "A value is trying to be set on a copy of a slice from a DataFrame\n",
      "\n",
      "See the caveats in the documentation: http://pandas.pydata.org/pandas-docs/stable/indexing.html#indexing-view-versus-copy\n"
     ]
    },
    {
     "data": {
      "text/plain": [
       "<matplotlib.legend.Legend at 0x142fcf190>"
      ]
     },
     "execution_count": 358,
     "metadata": {},
     "output_type": "execute_result"
    },
    {
     "data": {
      "image/png": "[encoded data removed]",
      "text/plain": [
       "<matplotlib.figure.Figure at 0x12be36dd0>"
      ]
     },
     "metadata": {},
     "output_type": "display_data"
    }
   ],
   "source": [
    "# Create column of concatenated directors to identify unique people\n",
    "df['Director'] = df['Director'].apply(lambda x: x.replace(' ',''))\n",
    "\n",
    "directors_df = cvec.fit_transform(df['Director']).todense()\n",
    "directors_col = cvec.get_feature_names()\n",
    "directors_df = pd.DataFrame(directors_df, columns=directors_col)\n",
    "directors = pd.DataFrame(directors_df.sum())\n",
    "directors.columns = ['Count']\n",
    "directors.sort_values(['Count'], inplace=True)\n",
    "\n",
    "print directors['Count'].value_counts()\n",
    "top_directors = directors[directors['Count'] > 3]\n",
    "top_directors.sort_values('Count', inplace=True)\n",
    "print top_directors.shape\n",
    "print top_directors.tail()\n",
    "\n",
    "ax = top_directors.plot(kind='barh', figsize=(16,12), color='seagreen')\n",
    "ax.set_title('Top Directors in IMDB Top 250 Films', y=1.01)\n",
    "ax.tick_params(labelsize=16)\n",
    "ax.legend(fontsize=16, loc='bottom right')"
   ]
  },
  {
   "cell_type": "markdown",
   "metadata": {},
   "source": [
    "#### Plot"
   ]
  },
  {
   "cell_type": "code",
   "execution_count": 359,
   "metadata": {
    "ExecuteTime": {
     "end_time": "2016-11-07T17:23:14.011347",
     "start_time": "2016-11-07T17:23:13.160510"
    },
    "collapsed": false
   },
   "outputs": [
    {
     "name": "stdout",
     "output_type": "stream",
     "text": [
      "(25, 1)\n",
      "        Count\n",
      "story      22\n",
      "time       23\n",
      "father     24\n",
      "police     26\n",
      "war        28\n",
      "new        30\n",
      "man        34\n",
      "world      37\n",
      "young      37\n",
      "life       48\n"
     ]
    },
    {
     "data": {
      "text/plain": [
       "<matplotlib.legend.Legend at 0x148651d90>"
      ]
     },
     "execution_count": 359,
     "metadata": {},
     "output_type": "execute_result"
    },
    {
     "data": {
      "image/png": "[encoded data removed]",
      "text/plain": [
       "<matplotlib.figure.Figure at 0x13b645110>"
      ]
     },
     "metadata": {},
     "output_type": "display_data"
    }
   ],
   "source": [
    "plot_df = cvec.fit_transform(df['Plot']).todense()\n",
    "plot_col = cvec.get_feature_names()\n",
    "plot_df = pd.DataFrame(plot_df, columns=plot_col)\n",
    "plot = pd.DataFrame(plot_df.sum())\n",
    "plot.columns = ['Count']\n",
    "plot.sort_values(['Count'], inplace=True)\n",
    "plot['Count'].value_counts().sort_values(ascending=True)\n",
    "\n",
    "# print plot['Count'].value_counts()\n",
    "top_plot = plot[plot['Count'] > 15]\n",
    "top_plot.sort_values('Count', inplace=True)\n",
    "print top_plot.shape\n",
    "print top_plot.tail(10)\n",
    "\n",
    "ax = top_plot.plot(kind='barh', figsize=(16,12), color='mediumslateblue')\n",
    "ax.set_title('Top Plot Words in IMDB Top 250 Films', y=1.01)\n",
    "ax.tick_params(labelsize=16)\n",
    "ax.legend(fontsize=16, loc='center right')"
   ]
  },
  {
   "cell_type": "markdown",
   "metadata": {},
   "source": [
    "#### Title"
   ]
  },
  {
   "cell_type": "code",
   "execution_count": 360,
   "metadata": {
    "ExecuteTime": {
     "end_time": "2016-11-07T17:23:17.990171",
     "start_time": "2016-11-07T17:23:17.056413"
    },
    "collapsed": false
   },
   "outputs": [
    {
     "name": "stdout",
     "output_type": "stream",
     "text": [
      "(25, 1)\n",
      "         Count\n",
      "city         3\n",
      "day          3\n",
      "episode      3\n",
      "man          3\n",
      "king         3\n",
      "rings        3\n",
      "story        3\n",
      "life         3\n",
      "wars         4\n",
      "star         4\n"
     ]
    },
    {
     "data": {
      "text/plain": [
       "<matplotlib.legend.Legend at 0x148651610>"
      ]
     },
     "execution_count": 360,
     "metadata": {},
     "output_type": "execute_result"
    },
    {
     "data": {
      "image/png": "[encoded data removed]",
      "text/plain": [
       "<matplotlib.figure.Figure at 0x13b645710>"
      ]
     },
     "metadata": {},
     "output_type": "display_data"
    }
   ],
   "source": [
    "title_df = cvec.fit_transform(df['Title']).todense()\n",
    "title_col = cvec.get_feature_names()\n",
    "title_df = pd.DataFrame(title_df, columns=title_col)\n",
    "title = pd.DataFrame(title_df.sum())\n",
    "title.columns = ['Count']\n",
    "title.sort_values(['Count'], inplace=True)\n",
    "title['Count'].value_counts().sort_values(ascending=True)\n",
    "\n",
    "# print plot['Count'].value_counts()\n",
    "top_title = title[title['Count'] > 1]\n",
    "top_title.sort_values('Count', inplace=True)\n",
    "print top_title.shape\n",
    "print top_title.tail(10)\n",
    "\n",
    "ax = top_title.plot(kind='barh', figsize=(16,12), color='sage')\n",
    "ax.set_title('Top Title Words in IMDB Top 250 Films', y=1.01)\n",
    "ax.tick_params(labelsize=16)\n",
    "ax.legend(fontsize=16, loc='center right')"
   ]
  },
  {
   "cell_type": "markdown",
   "metadata": {},
   "source": [
    "#### Genre"
   ]
  },
  {
   "cell_type": "code",
   "execution_count": 361,
   "metadata": {
    "ExecuteTime": {
     "end_time": "2016-11-07T17:23:20.868104",
     "start_time": "2016-11-07T17:23:20.057511"
    },
    "collapsed": false
   },
   "outputs": [
    {
     "name": "stdout",
     "output_type": "stream",
     "text": [
      "(23, 1)\n",
      "           Count\n",
      "sci           22\n",
      "fantasy       23\n",
      "biography     26\n",
      "mystery       31\n",
      "action        35\n",
      "thriller      40\n",
      "comedy        42\n",
      "crime         55\n",
      "adventure     61\n",
      "drama        173\n"
     ]
    },
    {
     "data": {
      "text/plain": [
       "<matplotlib.legend.Legend at 0x14d253ed0>"
      ]
     },
     "execution_count": 361,
     "metadata": {},
     "output_type": "execute_result"
    },
    {
     "data": {
      "image/png": "[encoded data removed]",
      "text/plain": [
       "<matplotlib.figure.Figure at 0x14d253690>"
      ]
     },
     "metadata": {},
     "output_type": "display_data"
    }
   ],
   "source": [
    "genre_df = cvec.fit_transform(df['Genre']).todense()\n",
    "genre_col = cvec.get_feature_names()\n",
    "genre_df = pd.DataFrame(genre_df, columns=genre_col)\n",
    "genre = pd.DataFrame(genre_df.sum())\n",
    "genre.columns = ['Count']\n",
    "genre.sort_values(['Count'], inplace=True)\n",
    "genre['Count'].value_counts().sort_values(ascending=True)\n",
    "\n",
    "# print plot['Count'].value_counts()\n",
    "top_genre = genre[genre['Count'] > 0]\n",
    "top_genre.sort_values('Count', inplace=True)\n",
    "print top_genre.shape\n",
    "print top_genre.tail(10)\n",
    "\n",
    "ax = top_genre.plot(kind='barh', figsize=(16,12), color='darkseagreen')\n",
    "ax.set_title('Top Genres in IMDB Top 250 Films', y=1.01)\n",
    "ax.tick_params(labelsize=16)\n",
    "ax.legend(fontsize=16, loc='center right')"
   ]
  },
  {
   "cell_type": "markdown",
   "metadata": {},
   "source": [
    "#### Production Company"
   ]
  },
  {
   "cell_type": "code",
   "execution_count": 362,
   "metadata": {
    "ExecuteTime": {
     "end_time": "2016-11-07T17:23:28.448610",
     "start_time": "2016-11-07T17:23:27.376035"
    },
    "collapsed": false
   },
   "outputs": [
    {
     "name": "stdout",
     "output_type": "stream",
     "text": [
      "0    SonyPicturesClassics\n",
      "1        ColumbiaPictures\n",
      "2       ParamountPictures\n",
      "Name: Production, dtype: object\n",
      "(19, 1)\n",
      "                    Count\n",
      "mgm                     6\n",
      "waltdisneypictures      7\n",
      "columbiapictures       10\n",
      "miramaxfilms           10\n",
      "20thcenturyfox         11\n",
      "universalpictures      12\n",
      "unitedartists          13\n",
      "paramountpictures      18\n",
      "pictures               21\n",
      "warnerbros             30\n"
     ]
    },
    {
     "name": "stderr",
     "output_type": "stream",
     "text": [
      "/anaconda/lib/python2.7/site-packages/ipykernel/__main__.py:15: SettingWithCopyWarning: \n",
      "A value is trying to be set on a copy of a slice from a DataFrame\n",
      "\n",
      "See the caveats in the documentation: http://pandas.pydata.org/pandas-docs/stable/indexing.html#indexing-view-versus-copy\n"
     ]
    },
    {
     "data": {
      "text/plain": [
       "<matplotlib.legend.Legend at 0x147a6fe50>"
      ]
     },
     "execution_count": 362,
     "metadata": {},
     "output_type": "execute_result"
    },
    {
     "data": {
      "image/png": "[encoded data removed]",
      "text/plain": [
       "<matplotlib.figure.Figure at 0x12becfc10>"
      ]
     },
     "metadata": {},
     "output_type": "display_data"
    }
   ],
   "source": [
    "# Create column of concatenated production company names to identify unique companies\n",
    "df['Production'] = df['Production'].apply(lambda x: x.replace(' ',''))\n",
    "print df['Production'].head(3)\n",
    "\n",
    "production_df = cvec.fit_transform(df['Production']).todense()\n",
    "production_col = cvec.get_feature_names()\n",
    "production_df = pd.DataFrame(production_df, columns=production_col)\n",
    "production = pd.DataFrame(production_df.sum())\n",
    "production.columns = ['Count']\n",
    "production.sort_values(['Count'], inplace=True)\n",
    "production['Count'].value_counts().sort_values(ascending=True)\n",
    "\n",
    "# print production['Count'].value_counts()\n",
    "top_production = production[production['Count'] > 2]\n",
    "top_production.sort_values('Count', inplace=True)\n",
    "print top_production.shape\n",
    "print top_production.tail(10)\n",
    "\n",
    "ax = top_production.plot(kind='barh', figsize=(16,12), color='darkorchid')\n",
    "ax.set_title('Top Plot Words in IMDB Top 250 Films', y=1.01)\n",
    "ax.tick_params(labelsize=16)\n",
    "ax.legend(fontsize=16, loc='center right')"
   ]
  },
  {
   "cell_type": "markdown",
   "metadata": {},
   "source": [
    "### New dataframes for limited top categorical columns"
   ]
  },
  {
   "cell_type": "code",
   "execution_count": 363,
   "metadata": {
    "ExecuteTime": {
     "end_time": "2016-11-07T17:23:32.556958",
     "start_time": "2016-11-07T17:23:32.551989"
    },
    "collapsed": false
   },
   "outputs": [
    {
     "name": "stdout",
     "output_type": "stream",
     "text": [
      "(16, 1)\n",
      "(13, 1)\n",
      "(25, 1)\n",
      "(25, 1)\n",
      "(23, 1)\n",
      "(19, 1)\n"
     ]
    }
   ],
   "source": [
    "print top_actors.shape\n",
    "print top_directors.shape\n",
    "print top_plot.shape\n",
    "print top_title.shape\n",
    "print top_genre.shape\n",
    "print top_production.shape"
   ]
  },
  {
   "cell_type": "code",
   "execution_count": 364,
   "metadata": {
    "ExecuteTime": {
     "end_time": "2016-11-07T17:23:37.410917",
     "start_time": "2016-11-07T17:23:36.592952"
    },
    "collapsed": false
   },
   "outputs": [
    {
     "name": "stdout",
     "output_type": "stream",
     "text": [
      "(10, 1)\n",
      "(12, 1)\n",
      "(14, 1)\n",
      "(8, 1)\n"
     ]
    },
    {
     "name": "stderr",
     "output_type": "stream",
     "text": [
      "/anaconda/lib/python2.7/site-packages/ipykernel/__main__.py:5: SettingWithCopyWarning: \n",
      "A value is trying to be set on a copy of a slice from a DataFrame\n",
      "\n",
      "See the caveats in the documentation: http://pandas.pydata.org/pandas-docs/stable/indexing.html#indexing-view-versus-copy\n",
      "/anaconda/lib/python2.7/site-packages/ipykernel/__main__.py:9: SettingWithCopyWarning: \n",
      "A value is trying to be set on a copy of a slice from a DataFrame\n",
      "\n",
      "See the caveats in the documentation: http://pandas.pydata.org/pandas-docs/stable/indexing.html#indexing-view-versus-copy\n",
      "/anaconda/lib/python2.7/site-packages/ipykernel/__main__.py:13: SettingWithCopyWarning: \n",
      "A value is trying to be set on a copy of a slice from a DataFrame\n",
      "\n",
      "See the caveats in the documentation: http://pandas.pydata.org/pandas-docs/stable/indexing.html#indexing-view-versus-copy\n",
      "/anaconda/lib/python2.7/site-packages/ipykernel/__main__.py:17: SettingWithCopyWarning: \n",
      "A value is trying to be set on a copy of a slice from a DataFrame\n",
      "\n",
      "See the caveats in the documentation: http://pandas.pydata.org/pandas-docs/stable/indexing.html#indexing-view-versus-copy\n"
     ]
    }
   ],
   "source": [
    "top_actors1 = top_actors\n",
    "top_directors1 = top_directors\n",
    "\n",
    "top_plot1 = plot[plot['Count'] > 20]\n",
    "top_plot1.sort_values('Count', inplace=True)\n",
    "print top_plot1.shape\n",
    "\n",
    "top_title1 = title[title['Count'] > 2]\n",
    "top_title1.sort_values('Count', inplace=True)\n",
    "print top_title1.shape\n",
    "\n",
    "top_genre1 = genre[genre['Count'] > 15]\n",
    "top_genre1.sort_values('Count', inplace=True)\n",
    "print top_genre1.shape\n",
    "\n",
    "top_production1 = production[production['Count'] > 8]\n",
    "top_production1.sort_values('Count', inplace=True)\n",
    "print top_production1.shape"
   ]
  },
  {
   "cell_type": "markdown",
   "metadata": {},
   "source": [
    "## EDA"
   ]
  },
  {
   "cell_type": "markdown",
   "metadata": {},
   "source": [
    "### Histograms"
   ]
  },
  {
   "cell_type": "markdown",
   "metadata": {},
   "source": [
    "#### Year, Runtime, Gross"
   ]
  },
  {
   "cell_type": "code",
   "execution_count": 123,
   "metadata": {
    "ExecuteTime": {
     "end_time": "2016-11-07T09:54:17.601904",
     "start_time": "2016-11-07T09:54:16.103419"
    },
    "collapsed": false
   },
   "outputs": [
    {
     "data": {
      "image/png": "[encoded data removed]",
      "text/plain": [
       "<matplotlib.figure.Figure at 0x12205f890>"
      ]
     },
     "metadata": {},
     "output_type": "display_data"
    }
   ],
   "source": [
    "plt.style.use('ggplot')\n",
    "fig = plt.figure(figsize=(16,24))\n",
    "\n",
    "ax1 = fig.add_subplot(3, 1, 1)\n",
    "ax2 = fig.add_subplot(3, 1, 2)\n",
    "ax3 = fig.add_subplot(3, 1, 3)\n",
    "\n",
    "ax1.hist(df['Year'], bins=50, color='royalblue')\n",
    "ax1.set_title('Distribution of Release Year in IMDB Top 250 Films', \\\n",
    "             fontsize=18, y=1.01)\n",
    "ax1.set_xlabel('Year', fontsize=14)\n",
    "ax1.set_ylim(top=16)\n",
    "ax1.tick_params(labelsize=14)\n",
    "\n",
    "ax2.hist(df['Runtime'], bins=50, color='lightseagreen')\n",
    "ax2.set_title('Distribution of Runtime in IMDB Top 250 Films', \\\n",
    "             fontsize=18, y=1.01)\n",
    "ax2.set_xlabel('Runtime (in minutes)', fontsize=14)\n",
    "ax2.tick_params(labelsize=14)\n",
    "\n",
    "gross_hist = df[df['Gross'] < 100000000]\n",
    "gross_hist = gross_hist[gross_hist['Gross'] > 0]\n",
    "ax3.hist(gross_hist['Gross']/1000, bins=50, color='dodgerblue')\n",
    "ax3.set_title('Distribution of Gross Revenue in IMDB Top 250 Films', \\\n",
    "             fontsize=18, y=1.01)\n",
    "ax3.set_xlabel('Gross Revenue (in $1000s)', fontsize=14, y = -2.01)\n",
    "ax3.tick_params(labelsize=14)"
   ]
  },
  {
   "cell_type": "code",
   "execution_count": 161,
   "metadata": {
    "ExecuteTime": {
     "end_time": "2016-11-07T10:11:52.806987",
     "start_time": "2016-11-07T10:11:51.992501"
    },
    "collapsed": false
   },
   "outputs": [
    {
     "data": {
      "text/plain": [
       "<matplotlib.lines.Line2D at 0x129f63250>"
      ]
     },
     "execution_count": 161,
     "metadata": {},
     "output_type": "execute_result"
    },
    {
     "data": {
      "image/png": "[encoded data removed]",
      "text/plain": [
       "<matplotlib.figure.Figure at 0x12bd79a90>"
      ]
     },
     "metadata": {},
     "output_type": "display_data"
    }
   ],
   "source": [
    "plt.style.use('ggplot')\n",
    "fig = plt.figure(figsize=(16,12))\n",
    "\n",
    "ax1 = fig.add_subplot(2, 1, 1)\n",
    "ax2 = fig.add_subplot(2, 1, 2)\n",
    "\n",
    "\n",
    "gross_hist = df[df['Gross'] < 10000000]\n",
    "gross_hist = gross_hist[gross_hist['Gross'] > 0]\n",
    "ax1.hist(gross_hist['Gross']/1000, bins=25, color='dodgerblue')\n",
    "ax1.set_title('Distribution of Gross Revenue in IMDB Top 250 Films', \\\n",
    "             fontsize=18, y=1.01)\n",
    "ax1.set_xlabel('Gross Revenue (in $1000s)', fontsize=14, y = -2.01)\n",
    "ax1.set_ylim(top=15)\n",
    "ax1.tick_params(labelsize=14)\n",
    "ax1.axvline(x=((gross_median*corr_index)),ymin=0,ymax=None,\\\n",
    "            c=\"red\",linewidth=5,zorder=0)\n"
   ]
  },
  {
   "cell_type": "markdown",
   "metadata": {},
   "source": [
    "#### Reviews"
   ]
  },
  {
   "cell_type": "code",
   "execution_count": 125,
   "metadata": {
    "ExecuteTime": {
     "end_time": "2016-11-07T09:55:47.920497",
     "start_time": "2016-11-07T09:55:47.195257"
    },
    "collapsed": false
   },
   "outputs": [
    {
     "data": {
      "image/png": "[encoded data removed]",
      "text/plain": [
       "<matplotlib.figure.Figure at 0x12424f350>"
      ]
     },
     "metadata": {},
     "output_type": "display_data"
    }
   ],
   "source": [
    "plt.style.use('ggplot')\n",
    "fig, (ax1, ax2) = plt.subplots(nrows=1, ncols=2,figsize=(16,6))\n",
    "\n",
    "# metascore = df[df['Metascore'] > 0]\n",
    "# ax1.hist(metascore['Metascore'], color='royalblue')\n",
    "# ax1.set_title('Distribution of Metascores', \\\n",
    "#              fontsize=14, y=1.01)\n",
    "# ax1.tick_params(labelsize=12)\n",
    "\n",
    "tomatoMeter = df[df['tomatoMeter'] > 0]\n",
    "ax2.hist(tomatoMeter['tomatoMeter'], color='steelblue')\n",
    "ax2.set_title('Distribution of tomatoMeter Scores', \\\n",
    "             fontsize=14, y=1.01)\n",
    "ax2.tick_params(labelsize=12)"
   ]
  },
  {
   "cell_type": "code",
   "execution_count": 127,
   "metadata": {
    "ExecuteTime": {
     "end_time": "2016-11-07T09:56:40.337559",
     "start_time": "2016-11-07T09:56:39.303088"
    },
    "collapsed": false
   },
   "outputs": [
    {
     "data": {
      "image/png": "[encoded data removed]",
      "text/plain": [
       "<matplotlib.figure.Figure at 0x1253e3b50>"
      ]
     },
     "metadata": {},
     "output_type": "display_data"
    }
   ],
   "source": [
    "plt.style.use('ggplot')\n",
    "fig, (ax1, ax2, ax3) = plt.subplots(nrows=1, ncols=3,figsize=(20,6))\n",
    "\n",
    "imdbRating = df[df['imdbRating'] > 0]\n",
    "ax1.hist(df['imdbRating'], color='royalblue')\n",
    "ax1.set_title('Distribution of imdbRatings', \\\n",
    "             fontsize=18, y=1.01)\n",
    "ax1.tick_params(labelsize=12)\n",
    "\n",
    "tomatoRating = df[df['tomatoRating'] > 0]\n",
    "ax2.hist(tomatoMeter['tomatoRating'], color='steelblue')\n",
    "ax2.set_title('Distribution of tomatoRatings Scores', \\\n",
    "             fontsize=18, y=1.01)\n",
    "ax2.tick_params(labelsize=12)\n",
    "\n",
    "tomatoRating = df[df['tomatoRating'] > 0]\n",
    "ax2.hist(tomatoMeter['tomatoRating'], color='steelblue')\n",
    "ax2.set_title('Distribution of tomatoRatings Scores', \\\n",
    "             fontsize=18, y=1.01)\n",
    "\n",
    "\n",
    "tomatoUserRating = df[df['tomatoUserRating'] > 0]\n",
    "ax3.hist(tomatoMeter['tomatoUserRating'], color='navy')\n",
    "ax3.set_title('Distribution of tomatoUserRatings Scores', \\\n",
    "             fontsize=18, y=1.01)\n",
    "ax3.tick_params(labelsize=12)"
   ]
  },
  {
   "cell_type": "markdown",
   "metadata": {},
   "source": [
    "### Scatterplots"
   ]
  },
  {
   "cell_type": "raw",
   "metadata": {
    "ExecuteTime": {
     "end_time": "2016-11-07T10:25:19.557452",
     "start_time": "2016-11-07T10:25:17.935816"
    }
   },
   "source": [
    "pairplot_cols = ['Gross', 'imdbRating', 'imdbVotes']\n",
    "pairplot_df = df.loc[:, pairplot_cols]\n",
    "sns.pairplot(pairplot_df)"
   ]
  },
  {
   "cell_type": "code",
   "execution_count": null,
   "metadata": {
    "ExecuteTime": {
     "end_time": "2016-11-07T10:24:55.512360",
     "start_time": "2016-11-07T10:24:34.015238"
    },
    "collapsed": true
   },
   "outputs": [],
   "source": [
    "pairplot_cols = ['Gross', 'imdbRating', 'imdbVotes', \\\n",
    "                 'tomatoMeter', 'tomatoRating', 'tomatoReviews', 'tomatoFresh', \\\n",
    "                 'tomatoRotten', 'Oscars_Won', 'Oscar_Noms', 'Awards_Won', 'Other_Noms']\n",
    "pairplot_df = df.loc[:, pairplot_cols]\n",
    "sns.pairplot(pairplot_df)"
   ]
  },
  {
   "cell_type": "code",
   "execution_count": null,
   "metadata": {
    "collapsed": true
   },
   "outputs": [],
   "source": []
  },
  {
   "cell_type": "code",
   "execution_count": null,
   "metadata": {
    "collapsed": true
   },
   "outputs": [],
   "source": []
  },
  {
   "cell_type": "markdown",
   "metadata": {
    "heading_collapsed": true
   },
   "source": [
    "### Unused Separate Histograms"
   ]
  },
  {
   "cell_type": "code",
   "execution_count": null,
   "metadata": {
    "ExecuteTime": {
     "end_time": "2016-11-05T12:51:02.545299",
     "start_time": "2016-11-05T12:51:01.055899"
    },
    "collapsed": false,
    "hidden": true
   },
   "outputs": [],
   "source": [
    "bins_dict = {'Year': 50, 'Runtime': 50, 'imdbRating': 50}\n",
    "facecolor_dict = {'Year': 'royalblue', 'Runtime': 'coral', 'imdbRating': 'lightseagreen'}\n",
    "axis_titles = {'Year': 'Distribution of Years in IMDB Top 250 Films',\n",
    "              'Runtime': 'Distribution of Runtime in IMDB Top 250 Films',\n",
    "              'imdbRating': 'Distribution of Years in IMDB Top 250 Films'}\n",
    "#data, column=None, by=None, grid=True, xlabelsize=None, \n",
    "#xrot=None, ylabelsize=None, yrot=None, ax=None, sharex=False, \n",
    "#sharey=False, figsize=None, layout=None, bins=10, **kwds)¶\n",
    "xlabel = 14\n",
    "ylabel = 14\n",
    "year_bins = 50\n",
    "df['Year'].hist(figsize=(16,4),xlabelsize=xlabel, ylabelsize=ylabel, bins=bins_dict['Year'],\n",
    "               facecolor=facecolor_dict['Year'], alpha = .85)"
   ]
  },
  {
   "cell_type": "code",
   "execution_count": null,
   "metadata": {
    "ExecuteTime": {
     "end_time": "2016-11-05T00:06:30.345443",
     "start_time": "2016-11-05T00:06:30.317181"
    },
    "collapsed": true,
    "hidden": true
   },
   "outputs": [],
   "source": [
    "bins_dict = {'Year': 50, 'Runtime': 50, 'imdbRating': 50}\n",
    "facecolor_dict = {'Year': 'royalblue', 'Runtime': 'coral', 'imdbRating': 'lightseagreen'}\n",
    "axis_titles = {'Year': 'Distribution of Years in IMDB Top 250 Films',\n",
    "              'Runtime': 'Distribution of Runtime in IMDB Top 250 Films',\n",
    "              'imdbRating': 'Distribution of Years in IMDB Top 250 Films'}\n",
    "\n",
    "\n",
    "def hist_plot(x):\n",
    "    fig = plt.figure(figsize=(16,6))\n",
    "    ax = fig.add_subplot(111)\n",
    "    n, bins, patches = ax.hist(x,  bins=bins_dict[x], facecolor=facecolor_dict[x], alpha=0.85)\n",
    "    ax.set_title(axis_titles[x], fontsize=20, y=1.02)\n",
    "    #ax.set_xticklabels(labels, fontsize=16)\n",
    "    #ax.set_xticks(labels)\n",
    "    #ax.set_ylim(0, 16)\n",
    "    #y_labels = [i for i in range(18) if i%2 == 0]\n",
    "    #ax.set_yticklabels(y_labels, fontsize=16)"
   ]
  },
  {
   "cell_type": "code",
   "execution_count": null,
   "metadata": {
    "ExecuteTime": {
     "end_time": "2016-11-04T17:34:38.654718",
     "start_time": "2016-11-04T17:34:38.016353"
    },
    "code_folding": [],
    "collapsed": false,
    "hidden": true
   },
   "outputs": [],
   "source": [
    "# Years\n",
    "fig = plt.figure(figsize=(16,6))\n",
    "ax = fig.add_subplot(111)\n",
    "n, bins, patches = ax.hist(df['Year'],  bins=50, facecolor='royalblue', alpha=0.85)\n",
    "\n",
    "def decades():\n",
    "    i = 1910\n",
    "    labels = []\n",
    "    while i < 2020:\n",
    "        labels.append(i + 10)\n",
    "        i += 10\n",
    "    return labels\n",
    "labels = decades()\n",
    "\n",
    "ax.set_title('Distribution of Years in IMDB Top 250 Films', fontsize=20, y=1.02)\n",
    "ax.set_xticklabels(labels, fontsize=16)\n",
    "ax.set_xticks(labels)\n",
    "ax.set_ylim(0, 16)\n",
    "y_labels = [i for i in range(18) if i%2 == 0]\n",
    "ax.set_yticklabels(y_labels, fontsize=16)"
   ]
  },
  {
   "cell_type": "code",
   "execution_count": null,
   "metadata": {
    "ExecuteTime": {
     "end_time": "2016-11-06T12:01:08.514453",
     "start_time": "2016-11-06T12:01:08.169207"
    },
    "collapsed": false,
    "hidden": true
   },
   "outputs": [],
   "source": [
    "# Runtime\n",
    "fig = plt.figure(figsize=(16,6))\n",
    "ax = fig.add_subplot(111)\n",
    "n, bins, patches = ax.hist(df['Runtime'],  bins=50, facecolor='coral', alpha=0.85)\n",
    "\n",
    "ax.set_title('Distribution of Runtime in IMDB Top 250 Films', fontsize=20, y=1.02)"
   ]
  },
  {
   "cell_type": "markdown",
   "metadata": {
    "collapsed": true
   },
   "source": [
    "### Other"
   ]
  },
  {
   "cell_type": "code",
   "execution_count": null,
   "metadata": {
    "collapsed": true
   },
   "outputs": [],
   "source": []
  },
  {
   "cell_type": "markdown",
   "metadata": {},
   "source": [
    "## Standardizing and Dummies"
   ]
  },
  {
   "cell_type": "markdown",
   "metadata": {},
   "source": [
    "### Use StandardScaler to standardize numerical data"
   ]
  },
  {
   "cell_type": "code",
   "execution_count": 365,
   "metadata": {
    "ExecuteTime": {
     "end_time": "2016-11-07T17:23:56.805489",
     "start_time": "2016-11-07T17:23:56.794018"
    },
    "collapsed": false
   },
   "outputs": [
    {
     "data": {
      "text/plain": [
       "['Year',\n",
       " 'imdbRating',\n",
       " 'imdbVotes',\n",
       " 'tomatoMeter',\n",
       " 'tomatoRating',\n",
       " 'tomatoReviews',\n",
       " 'tomatoUserMeter',\n",
       " 'tomatoUserRating',\n",
       " 'tomatoUserReviews',\n",
       " 'tomatoFresh',\n",
       " 'tomatoRotten',\n",
       " 'Runtime',\n",
       " 'Oscars_Won',\n",
       " 'Awards_Won',\n",
       " 'Other_Noms',\n",
       " 'Oscar_Noms',\n",
       " 'Adj_Gross']"
      ]
     },
     "execution_count": 365,
     "metadata": {},
     "output_type": "execute_result"
    }
   ],
   "source": [
    "# Isolate numeric columns for standardizing\n",
    "number_cols = [i for i in df.columns if df[i].dtype == 'float64' \\\n",
    "              or df[i].dtype == 'int']\n",
    "number_cols.remove('Gross')\n",
    "number_cols"
   ]
  },
  {
   "cell_type": "code",
   "execution_count": 366,
   "metadata": {
    "ExecuteTime": {
     "end_time": "2016-11-07T17:23:58.857714",
     "start_time": "2016-11-07T17:23:58.844681"
    },
    "collapsed": false
   },
   "outputs": [],
   "source": [
    "# Standardize numeric columns\n",
    "standardscaler = StandardScaler()\n",
    "df.loc[:, number_cols] = standardscaler.fit_transform(df[number_cols])"
   ]
  },
  {
   "cell_type": "code",
   "execution_count": 367,
   "metadata": {
    "ExecuteTime": {
     "end_time": "2016-11-07T17:24:01.350438",
     "start_time": "2016-11-07T17:24:01.344858"
    },
    "collapsed": false
   },
   "outputs": [
    {
     "name": "stdout",
     "output_type": "stream",
     "text": [
      "(16, 1)\n",
      "(13, 1)\n",
      "(10, 1)\n",
      "(12, 1)\n",
      "(14, 1)\n",
      "(8, 1)\n"
     ]
    }
   ],
   "source": [
    "# Create dummy variables for categorical columns\n",
    "print top_actors1.shape\n",
    "print top_directors1.shape\n",
    "print top_plot1.shape\n",
    "print top_title1.shape\n",
    "print top_genre1.shape\n",
    "print top_production1.shape\n",
    "\n",
    "# actors, directors, plot, title, genre, production, rated, genre1"
   ]
  },
  {
   "cell_type": "markdown",
   "metadata": {},
   "source": [
    "### Create dummy variables"
   ]
  },
  {
   "cell_type": "code",
   "execution_count": 368,
   "metadata": {
    "ExecuteTime": {
     "end_time": "2016-11-07T17:24:06.294155",
     "start_time": "2016-11-07T17:24:06.279762"
    },
    "collapsed": false
   },
   "outputs": [
    {
     "data": {
      "text/html": [
       "<div>\n",
       "<table border=\"1\" class=\"dataframe\">\n",
       "  <thead>\n",
       "    <tr style=\"text-align: right;\">\n",
       "      <th></th>\n",
       "      <th>Rated_G</th>\n",
       "      <th>Rated_OTHER</th>\n",
       "      <th>Rated_PG</th>\n",
       "      <th>Rated_PG-13</th>\n",
       "      <th>Rated_R</th>\n",
       "    </tr>\n",
       "  </thead>\n",
       "  <tbody>\n",
       "    <tr>\n",
       "      <th>0</th>\n",
       "      <td>0</td>\n",
       "      <td>0</td>\n",
       "      <td>0</td>\n",
       "      <td>0</td>\n",
       "      <td>1</td>\n",
       "    </tr>\n",
       "    <tr>\n",
       "      <th>1</th>\n",
       "      <td>0</td>\n",
       "      <td>1</td>\n",
       "      <td>0</td>\n",
       "      <td>0</td>\n",
       "      <td>0</td>\n",
       "    </tr>\n",
       "    <tr>\n",
       "      <th>2</th>\n",
       "      <td>0</td>\n",
       "      <td>0</td>\n",
       "      <td>1</td>\n",
       "      <td>0</td>\n",
       "      <td>0</td>\n",
       "    </tr>\n",
       "  </tbody>\n",
       "</table>\n",
       "</div>"
      ],
      "text/plain": [
       "   Rated_G  Rated_OTHER  Rated_PG  Rated_PG-13  Rated_R\n",
       "0        0            0         0            0        1\n",
       "1        0            1         0            0        0\n",
       "2        0            0         1            0        0"
      ]
     },
     "execution_count": 368,
     "metadata": {},
     "output_type": "execute_result"
    }
   ],
   "source": [
    "# Create dummy variables for rated column\n",
    "rated = pd.get_dummies(df['Rated'], prefix='Rated')\n",
    "rated.head(3)"
   ]
  },
  {
   "cell_type": "code",
   "execution_count": 369,
   "metadata": {
    "ExecuteTime": {
     "end_time": "2016-11-07T17:24:09.665133",
     "start_time": "2016-11-07T17:24:09.641979"
    },
    "collapsed": false
   },
   "outputs": [
    {
     "data": {
      "text/html": [
       "<div>\n",
       "<table border=\"1\" class=\"dataframe\">\n",
       "  <thead>\n",
       "    <tr style=\"text-align: right;\">\n",
       "      <th></th>\n",
       "      <th>Genre_Action</th>\n",
       "      <th>Genre_Adventure</th>\n",
       "      <th>Genre_Animation</th>\n",
       "      <th>Genre_Biography</th>\n",
       "      <th>Genre_Comedy</th>\n",
       "      <th>Genre_Crime</th>\n",
       "      <th>Genre_Drama</th>\n",
       "      <th>Genre_Film-Noir</th>\n",
       "      <th>Genre_Horror</th>\n",
       "      <th>Genre_Mystery</th>\n",
       "      <th>Genre_Sci-Fi</th>\n",
       "      <th>Genre_Western</th>\n",
       "    </tr>\n",
       "  </thead>\n",
       "  <tbody>\n",
       "    <tr>\n",
       "      <th>0</th>\n",
       "      <td>0</td>\n",
       "      <td>0</td>\n",
       "      <td>0</td>\n",
       "      <td>0</td>\n",
       "      <td>0</td>\n",
       "      <td>0</td>\n",
       "      <td>1</td>\n",
       "      <td>0</td>\n",
       "      <td>0</td>\n",
       "      <td>0</td>\n",
       "      <td>0</td>\n",
       "      <td>0</td>\n",
       "    </tr>\n",
       "    <tr>\n",
       "      <th>1</th>\n",
       "      <td>1</td>\n",
       "      <td>0</td>\n",
       "      <td>0</td>\n",
       "      <td>0</td>\n",
       "      <td>0</td>\n",
       "      <td>0</td>\n",
       "      <td>0</td>\n",
       "      <td>0</td>\n",
       "      <td>0</td>\n",
       "      <td>0</td>\n",
       "      <td>0</td>\n",
       "      <td>0</td>\n",
       "    </tr>\n",
       "    <tr>\n",
       "      <th>2</th>\n",
       "      <td>1</td>\n",
       "      <td>0</td>\n",
       "      <td>0</td>\n",
       "      <td>0</td>\n",
       "      <td>0</td>\n",
       "      <td>0</td>\n",
       "      <td>0</td>\n",
       "      <td>0</td>\n",
       "      <td>0</td>\n",
       "      <td>0</td>\n",
       "      <td>0</td>\n",
       "      <td>0</td>\n",
       "    </tr>\n",
       "  </tbody>\n",
       "</table>\n",
       "</div>"
      ],
      "text/plain": [
       "   Genre_Action  Genre_Adventure  Genre_Animation  Genre_Biography  \\\n",
       "0             0                0                0                0   \n",
       "1             1                0                0                0   \n",
       "2             1                0                0                0   \n",
       "\n",
       "   Genre_Comedy  Genre_Crime  Genre_Drama  Genre_Film-Noir  Genre_Horror  \\\n",
       "0             0            0            1                0             0   \n",
       "1             0            0            0                0             0   \n",
       "2             0            0            0                0             0   \n",
       "\n",
       "   Genre_Mystery  Genre_Sci-Fi  Genre_Western  \n",
       "0              0             0              0  \n",
       "1              0             0              0  \n",
       "2              0             0              0  "
      ]
     },
     "execution_count": 369,
     "metadata": {},
     "output_type": "execute_result"
    }
   ],
   "source": [
    "# Create dummy variables for genre column\n",
    "genre = pd.get_dummies(df['Genre_1'], prefix='Genre')\n",
    "genre.head(3)"
   ]
  },
  {
   "cell_type": "code",
   "execution_count": 370,
   "metadata": {
    "ExecuteTime": {
     "end_time": "2016-11-07T17:24:11.823995",
     "start_time": "2016-11-07T17:24:11.809064"
    },
    "collapsed": false
   },
   "outputs": [
    {
     "data": {
      "text/html": [
       "<div>\n",
       "<table border=\"1\" class=\"dataframe\">\n",
       "  <thead>\n",
       "    <tr style=\"text-align: right;\">\n",
       "      <th></th>\n",
       "      <th>Season_Fall</th>\n",
       "      <th>Season_Holiday</th>\n",
       "      <th>Season_Summer</th>\n",
       "      <th>Season_Winter</th>\n",
       "    </tr>\n",
       "  </thead>\n",
       "  <tbody>\n",
       "    <tr>\n",
       "      <th>0</th>\n",
       "      <td>1</td>\n",
       "      <td>0</td>\n",
       "      <td>0</td>\n",
       "      <td>0</td>\n",
       "    </tr>\n",
       "    <tr>\n",
       "      <th>1</th>\n",
       "      <td>0</td>\n",
       "      <td>1</td>\n",
       "      <td>0</td>\n",
       "      <td>0</td>\n",
       "    </tr>\n",
       "    <tr>\n",
       "      <th>2</th>\n",
       "      <td>0</td>\n",
       "      <td>0</td>\n",
       "      <td>1</td>\n",
       "      <td>0</td>\n",
       "    </tr>\n",
       "  </tbody>\n",
       "</table>\n",
       "</div>"
      ],
      "text/plain": [
       "   Season_Fall  Season_Holiday  Season_Summer  Season_Winter\n",
       "0            1               0              0              0\n",
       "1            0               1              0              0\n",
       "2            0               0              1              0"
      ]
     },
     "execution_count": 370,
     "metadata": {},
     "output_type": "execute_result"
    }
   ],
   "source": [
    "# Create dummy variables for genre column\n",
    "season = pd.get_dummies(df['Season'], prefix='Season')\n",
    "season.head(3)"
   ]
  },
  {
   "cell_type": "code",
   "execution_count": 579,
   "metadata": {
    "ExecuteTime": {
     "end_time": "2016-11-07T21:34:25.400217",
     "start_time": "2016-11-07T21:34:25.374738"
    },
    "collapsed": false
   },
   "outputs": [
    {
     "data": {
      "text/html": [
       "<div>\n",
       "<table border=\"1\" class=\"dataframe\">\n",
       "  <thead>\n",
       "    <tr style=\"text-align: right;\">\n",
       "      <th></th>\n",
       "      <th>Month_</th>\n",
       "      <th>Month_Apr</th>\n",
       "      <th>Month_Aug</th>\n",
       "      <th>Month_Dec</th>\n",
       "      <th>Month_Feb</th>\n",
       "      <th>Month_Jan</th>\n",
       "      <th>Month_Jul</th>\n",
       "      <th>Month_Jun</th>\n",
       "      <th>Month_Mar</th>\n",
       "      <th>Month_May</th>\n",
       "      <th>Month_Nov</th>\n",
       "      <th>Month_Oct</th>\n",
       "      <th>Month_Sep</th>\n",
       "    </tr>\n",
       "  </thead>\n",
       "  <tbody>\n",
       "    <tr>\n",
       "      <th>0</th>\n",
       "      <td>0</td>\n",
       "      <td>0</td>\n",
       "      <td>0</td>\n",
       "      <td>0</td>\n",
       "      <td>0</td>\n",
       "      <td>0</td>\n",
       "      <td>0</td>\n",
       "      <td>0</td>\n",
       "      <td>0</td>\n",
       "      <td>0</td>\n",
       "      <td>0</td>\n",
       "      <td>1</td>\n",
       "      <td>0</td>\n",
       "    </tr>\n",
       "    <tr>\n",
       "      <th>1</th>\n",
       "      <td>0</td>\n",
       "      <td>0</td>\n",
       "      <td>0</td>\n",
       "      <td>0</td>\n",
       "      <td>0</td>\n",
       "      <td>0</td>\n",
       "      <td>0</td>\n",
       "      <td>0</td>\n",
       "      <td>0</td>\n",
       "      <td>0</td>\n",
       "      <td>1</td>\n",
       "      <td>0</td>\n",
       "      <td>0</td>\n",
       "    </tr>\n",
       "    <tr>\n",
       "      <th>2</th>\n",
       "      <td>0</td>\n",
       "      <td>0</td>\n",
       "      <td>0</td>\n",
       "      <td>0</td>\n",
       "      <td>0</td>\n",
       "      <td>0</td>\n",
       "      <td>0</td>\n",
       "      <td>1</td>\n",
       "      <td>0</td>\n",
       "      <td>0</td>\n",
       "      <td>0</td>\n",
       "      <td>0</td>\n",
       "      <td>0</td>\n",
       "    </tr>\n",
       "  </tbody>\n",
       "</table>\n",
       "</div>"
      ],
      "text/plain": [
       "   Month_  Month_Apr  Month_Aug  Month_Dec  Month_Feb  Month_Jan  Month_Jul  \\\n",
       "0       0          0          0          0          0          0          0   \n",
       "1       0          0          0          0          0          0          0   \n",
       "2       0          0          0          0          0          0          0   \n",
       "\n",
       "   Month_Jun  Month_Mar  Month_May  Month_Nov  Month_Oct  Month_Sep  \n",
       "0          0          0          0          0          1          0  \n",
       "1          0          0          0          1          0          0  \n",
       "2          1          0          0          0          0          0  "
      ]
     },
     "execution_count": 579,
     "metadata": {},
     "output_type": "execute_result"
    }
   ],
   "source": [
    "# Create dummy variables for month column\n",
    "month = pd.get_dummies(df['Month'], prefix='Month')\n",
    "month.head(3)"
   ]
  },
  {
   "cell_type": "markdown",
   "metadata": {},
   "source": [
    "### Create a new model_df by concatenating other dataframes together"
   ]
  },
  {
   "cell_type": "code",
   "execution_count": null,
   "metadata": {
    "collapsed": true
   },
   "outputs": [],
   "source": [
    "# list of dataframes:\n",
    "\"\"\"\n",
    "df\n",
    "actors_df\n",
    "directors_df\n",
    "plot_df\n",
    "title_df\n",
    "genre_df\n",
    "production_df\n",
    "rated\n",
    "genre\n",
    "season\n",
    "month\n",
    "\"\"\""
   ]
  },
  {
   "cell_type": "code",
   "execution_count": 580,
   "metadata": {
    "ExecuteTime": {
     "end_time": "2016-11-07T21:34:41.858012",
     "start_time": "2016-11-07T21:34:41.824709"
    },
    "collapsed": false
   },
   "outputs": [
    {
     "data": {
      "text/html": [
       "<div>\n",
       "<table border=\"1\" class=\"dataframe\">\n",
       "  <thead>\n",
       "    <tr style=\"text-align: right;\">\n",
       "      <th></th>\n",
       "      <th>Year</th>\n",
       "      <th>Released</th>\n",
       "      <th>imdbRating</th>\n",
       "      <th>imdbVotes</th>\n",
       "      <th>tomatoMeter</th>\n",
       "      <th>tomatoRating</th>\n",
       "      <th>tomatoReviews</th>\n",
       "      <th>tomatoUserMeter</th>\n",
       "      <th>tomatoUserRating</th>\n",
       "      <th>tomatoUserReviews</th>\n",
       "      <th>tomatoFresh</th>\n",
       "      <th>tomatoRotten</th>\n",
       "      <th>Runtime</th>\n",
       "      <th>Oscars_Won</th>\n",
       "      <th>Awards_Won</th>\n",
       "      <th>Oscar_Noms</th>\n",
       "      <th>Other_Noms</th>\n",
       "      <th>Adj_Gross</th>\n",
       "    </tr>\n",
       "  </thead>\n",
       "  <tbody>\n",
       "    <tr>\n",
       "      <th>0</th>\n",
       "      <td>1.229622</td>\n",
       "      <td>2014-10-15</td>\n",
       "      <td>0.785598</td>\n",
       "      <td>0.016558</td>\n",
       "      <td>0.267304</td>\n",
       "      <td>0.430101</td>\n",
       "      <td>1.707688</td>\n",
       "      <td>0.432796</td>\n",
       "      <td>1.663009</td>\n",
       "      <td>-0.240090</td>\n",
       "      <td>1.853135</td>\n",
       "      <td>0.302536</td>\n",
       "      <td>-0.689298</td>\n",
       "      <td>0.719495</td>\n",
       "      <td>1.646788</td>\n",
       "      <td>-0.483864</td>\n",
       "      <td>1.991285</td>\n",
       "      <td>-0.669178</td>\n",
       "    </tr>\n",
       "    <tr>\n",
       "      <th>1</th>\n",
       "      <td>-1.242477</td>\n",
       "      <td>1956-11-19</td>\n",
       "      <td>1.645114</td>\n",
       "      <td>-0.519615</td>\n",
       "      <td>1.087254</td>\n",
       "      <td>1.431001</td>\n",
       "      <td>-0.642785</td>\n",
       "      <td>1.168845</td>\n",
       "      <td>1.663009</td>\n",
       "      <td>-0.236487</td>\n",
       "      <td>-0.582894</td>\n",
       "      <td>-0.727900</td>\n",
       "      <td>2.440462</td>\n",
       "      <td>-0.657090</td>\n",
       "      <td>-0.588474</td>\n",
       "      <td>0.750482</td>\n",
       "      <td>-0.623542</td>\n",
       "      <td>-0.778913</td>\n",
       "    </tr>\n",
       "  </tbody>\n",
       "</table>\n",
       "</div>"
      ],
      "text/plain": [
       "       Year   Released  imdbRating  imdbVotes  tomatoMeter  tomatoRating  \\\n",
       "0  1.229622 2014-10-15    0.785598   0.016558     0.267304      0.430101   \n",
       "1 -1.242477 1956-11-19    1.645114  -0.519615     1.087254      1.431001   \n",
       "\n",
       "   tomatoReviews  tomatoUserMeter  tomatoUserRating  tomatoUserReviews  \\\n",
       "0       1.707688         0.432796          1.663009          -0.240090   \n",
       "1      -0.642785         1.168845          1.663009          -0.236487   \n",
       "\n",
       "   tomatoFresh  tomatoRotten   Runtime  Oscars_Won  Awards_Won  Oscar_Noms  \\\n",
       "0     1.853135      0.302536 -0.689298    0.719495    1.646788   -0.483864   \n",
       "1    -0.582894     -0.727900  2.440462   -0.657090   -0.588474    0.750482   \n",
       "\n",
       "   Other_Noms  Adj_Gross  \n",
       "0    1.991285  -0.669178  \n",
       "1   -0.623542  -0.778913  "
      ]
     },
     "execution_count": 580,
     "metadata": {},
     "output_type": "execute_result"
    }
   ],
   "source": [
    "model_df = df[['Year', 'Released', 'imdbRating', 'imdbVotes', \\\n",
    "             'tomatoMeter', 'tomatoRating', 'tomatoReviews', \\\n",
    "             'tomatoUserMeter', 'tomatoUserRating', 'tomatoUserReviews', \\\n",
    "             'tomatoFresh', 'tomatoRotten', 'Runtime', \\\n",
    "              'Oscars_Won', 'Awards_Won', 'Oscar_Noms', 'Other_Noms', \\\n",
    "             'Adj_Gross']]\n",
    "model_df.head(2)"
   ]
  },
  {
   "cell_type": "code",
   "execution_count": 581,
   "metadata": {
    "ExecuteTime": {
     "end_time": "2016-11-07T21:34:49.599568",
     "start_time": "2016-11-07T21:34:49.591372"
    },
    "collapsed": false
   },
   "outputs": [
    {
     "name": "stdout",
     "output_type": "stream",
     "text": [
      "df (250, 36)\n",
      "actors_df (250, 25)\n",
      "directors_df (250, 25)\n",
      "plot_df (250, 25)\n",
      "title_df (250, 25)\n",
      "genre_df (250, 23)\n",
      "production_df (250, 25)\n",
      "rated (250, 5)\n",
      "genre (250, 12)\n",
      "season (250, 4)\n",
      "month (250, 13)\n"
     ]
    }
   ],
   "source": [
    "print 'df', df.shape\n",
    "print 'actors_df', actors_df.shape\n",
    "print 'directors_df', directors_df.shape\n",
    "print 'plot_df', plot_df.shape\n",
    "print 'title_df', title_df.shape\n",
    "print 'genre_df', genre_df.shape\n",
    "print 'production_df', production_df.shape\n",
    "print 'rated', rated.shape\n",
    "print 'genre', genre.shape\n",
    "print 'season', season.shape\n",
    "print 'month', month.shape"
   ]
  },
  {
   "cell_type": "code",
   "execution_count": null,
   "metadata": {
    "ExecuteTime": {
     "end_time": "2016-11-07T14:59:56.745576",
     "start_time": "2016-11-07T14:59:56.607530"
    },
    "collapsed": true
   },
   "outputs": [],
   "source": [
    "# model_df = pd.concat([model_df, actors_df, directors_df, plot_df, title_df, \\\n",
    "#                      genre_df, production_df, rated, genre, season], axis=1)\n",
    "# print model_df.shape\n",
    "# model_df.head(2)"
   ]
  },
  {
   "cell_type": "code",
   "execution_count": 625,
   "metadata": {
    "ExecuteTime": {
     "end_time": "2016-11-07T21:41:23.209839",
     "start_time": "2016-11-07T21:41:23.172436"
    },
    "collapsed": false
   },
   "outputs": [
    {
     "name": "stdout",
     "output_type": "stream",
     "text": [
      "(250, 200)\n"
     ]
    },
    {
     "data": {
      "text/html": [
       "<div>\n",
       "<table border=\"1\" class=\"dataframe\">\n",
       "  <thead>\n",
       "    <tr style=\"text-align: right;\">\n",
       "      <th></th>\n",
       "      <th>Year</th>\n",
       "      <th>Released</th>\n",
       "      <th>imdbRating</th>\n",
       "      <th>imdbVotes</th>\n",
       "      <th>tomatoMeter</th>\n",
       "      <th>tomatoRating</th>\n",
       "      <th>tomatoReviews</th>\n",
       "      <th>tomatoUserMeter</th>\n",
       "      <th>tomatoUserRating</th>\n",
       "      <th>tomatoUserReviews</th>\n",
       "      <th>...</th>\n",
       "      <th>Month_Dec</th>\n",
       "      <th>Month_Feb</th>\n",
       "      <th>Month_Jan</th>\n",
       "      <th>Month_Jul</th>\n",
       "      <th>Month_Jun</th>\n",
       "      <th>Month_Mar</th>\n",
       "      <th>Month_May</th>\n",
       "      <th>Month_Nov</th>\n",
       "      <th>Month_Oct</th>\n",
       "      <th>Month_Sep</th>\n",
       "    </tr>\n",
       "  </thead>\n",
       "  <tbody>\n",
       "    <tr>\n",
       "      <th>0</th>\n",
       "      <td>1.229622</td>\n",
       "      <td>2014-10-15</td>\n",
       "      <td>0.785598</td>\n",
       "      <td>0.016558</td>\n",
       "      <td>0.267304</td>\n",
       "      <td>0.430101</td>\n",
       "      <td>1.707688</td>\n",
       "      <td>0.432796</td>\n",
       "      <td>1.663009</td>\n",
       "      <td>-0.240090</td>\n",
       "      <td>...</td>\n",
       "      <td>0</td>\n",
       "      <td>0</td>\n",
       "      <td>0</td>\n",
       "      <td>0</td>\n",
       "      <td>0</td>\n",
       "      <td>0</td>\n",
       "      <td>0</td>\n",
       "      <td>0</td>\n",
       "      <td>1</td>\n",
       "      <td>0</td>\n",
       "    </tr>\n",
       "    <tr>\n",
       "      <th>1</th>\n",
       "      <td>-1.242477</td>\n",
       "      <td>1956-11-19</td>\n",
       "      <td>1.645114</td>\n",
       "      <td>-0.519615</td>\n",
       "      <td>1.087254</td>\n",
       "      <td>1.431001</td>\n",
       "      <td>-0.642785</td>\n",
       "      <td>1.168845</td>\n",
       "      <td>1.663009</td>\n",
       "      <td>-0.236487</td>\n",
       "      <td>...</td>\n",
       "      <td>0</td>\n",
       "      <td>0</td>\n",
       "      <td>0</td>\n",
       "      <td>0</td>\n",
       "      <td>0</td>\n",
       "      <td>0</td>\n",
       "      <td>0</td>\n",
       "      <td>1</td>\n",
       "      <td>0</td>\n",
       "      <td>0</td>\n",
       "    </tr>\n",
       "  </tbody>\n",
       "</table>\n",
       "<p>2 rows × 200 columns</p>\n",
       "</div>"
      ],
      "text/plain": [
       "       Year   Released  imdbRating  imdbVotes  tomatoMeter  tomatoRating  \\\n",
       "0  1.229622 2014-10-15    0.785598   0.016558     0.267304      0.430101   \n",
       "1 -1.242477 1956-11-19    1.645114  -0.519615     1.087254      1.431001   \n",
       "\n",
       "   tomatoReviews  tomatoUserMeter  tomatoUserRating  tomatoUserReviews  \\\n",
       "0       1.707688         0.432796          1.663009          -0.240090   \n",
       "1      -0.642785         1.168845          1.663009          -0.236487   \n",
       "\n",
       "     ...      Month_Dec  Month_Feb  Month_Jan  Month_Jul  Month_Jun  \\\n",
       "0    ...              0          0          0          0          0   \n",
       "1    ...              0          0          0          0          0   \n",
       "\n",
       "   Month_Mar  Month_May  Month_Nov  Month_Oct  Month_Sep  \n",
       "0          0          0          0          1          0  \n",
       "1          0          0          1          0          0  \n",
       "\n",
       "[2 rows x 200 columns]"
      ]
     },
     "execution_count": 625,
     "metadata": {},
     "output_type": "execute_result"
    }
   ],
   "source": [
    "model_df1 = pd.concat([model_df, actors_df, directors_df, plot_df, title_df,\n",
    "                      genre_df, production_df, rated, genre, season, month], \n",
    "                      axis=1)\n",
    "print model_df1.shape\n",
    "model_df1.head(2)"
   ]
  },
  {
   "cell_type": "markdown",
   "metadata": {},
   "source": [
    "## Modeling"
   ]
  },
  {
   "cell_type": "code",
   "execution_count": 626,
   "metadata": {
    "ExecuteTime": {
     "end_time": "2016-11-07T21:41:31.329852",
     "start_time": "2016-11-07T21:41:31.322732"
    },
    "collapsed": false
   },
   "outputs": [],
   "source": [
    "X = model_df1.drop(['imdbRating', 'Released'], axis=1)\n",
    "y = model_df1['imdbRating']"
   ]
  },
  {
   "cell_type": "markdown",
   "metadata": {},
   "source": [
    "### Regressions"
   ]
  },
  {
   "cell_type": "code",
   "execution_count": 658,
   "metadata": {
    "ExecuteTime": {
     "end_time": "2016-11-07T22:33:24.406504",
     "start_time": "2016-11-07T22:33:24.389325"
    },
    "collapsed": true
   },
   "outputs": [],
   "source": [
    "### Regressors ###\n",
    "# dt = DecisionTreeRegressor()\n",
    "# bdt = BaggingRegressor(DecisionTreeRegressor())\n",
    "# rf = RandomForestRegressor()\n",
    "# ada = AdaBoostRegressor()\n",
    "# gd = GradientDescentRegressor()\n",
    "#models_list = [dt, bdt, rf, ada, gd]\n",
    "model_list = [\n",
    "    ['DecisionTree_Reg', DecisionTreeRegressor(random_state=7)],\n",
    "    ['Bagging_Reg', BaggingRegressor(random_state=7)],\n",
    "    ['RandomForest_Reg', RandomForestRegressor(n_jobs=-1, random_state=7)],\n",
    "    ['ExtraTrees_Reg', ExtraTreesRegressor(n_jobs=-1, random_state=7)],\n",
    "    ['AdaBoost_Reg', AdaBoostRegressor(random_state=7)],\n",
    "    ['GradientBoost_Reg', GradientBoostingRegressor(criterion='mse', \n",
    "                                                          random_state=7)]]"
   ]
  },
  {
   "cell_type": "code",
   "execution_count": 640,
   "metadata": {
    "ExecuteTime": {
     "end_time": "2016-11-07T21:47:26.147988",
     "start_time": "2016-11-07T21:47:26.142318"
    },
    "collapsed": false
   },
   "outputs": [
    {
     "data": {
      "text/plain": [
       "KFold(n_splits=5, random_state=7, shuffle=True)"
      ]
     },
     "execution_count": 640,
     "metadata": {},
     "output_type": "execute_result"
    }
   ],
   "source": [
    "cv = KFold(5, random_state=7, shuffle=True)\n",
    "cv"
   ]
  },
  {
   "cell_type": "code",
   "execution_count": 659,
   "metadata": {
    "ExecuteTime": {
     "end_time": "2016-11-07T22:33:27.014835",
     "start_time": "2016-11-07T22:33:27.011722"
    },
    "collapsed": false
   },
   "outputs": [],
   "source": [
    "model_metrics = []"
   ]
  },
  {
   "cell_type": "code",
   "execution_count": 660,
   "metadata": {
    "ExecuteTime": {
     "end_time": "2016-11-07T22:33:27.287874",
     "start_time": "2016-11-07T22:33:27.281769"
    },
    "collapsed": false
   },
   "outputs": [],
   "source": [
    "# Return cross_val_score from model\n",
    "def run_model(regressor):\n",
    "    score = cross_val_score(regressor, X, y,\n",
    "                            scoring='neg_mean_squared_error', cv=cv)\n",
    "    return score\n",
    "\n",
    "####### Error #######\n",
    "# Error when trying to set n_job=-1\n",
    "# //anaconda/lib/python2.7/site-packages/sklearn/externals/joblib/parallel.py:540: \n",
    "# UserWarning: Multiprocessing-backed parallel loops cannot be nested, \n",
    "# setting n_jobs=1 **self._backend_args) "
   ]
  },
  {
   "cell_type": "code",
   "execution_count": 679,
   "metadata": {
    "ExecuteTime": {
     "end_time": "2016-11-07T22:40:11.870061",
     "start_time": "2016-11-07T22:40:11.864795"
    },
    "collapsed": true
   },
   "outputs": [],
   "source": [
    "# Run model and return mean and std of mse and append to model_list\n",
    "def get_metrics(model_list):\n",
    "    for i in model_list:\n",
    "        result = run_model(i[1])\n",
    "        mean = result.mean()*-1.0\n",
    "        std = result.std()\n",
    "        model_2.append([i[0], mean, std])\n",
    "    return model_2"
   ]
  },
  {
   "cell_type": "code",
   "execution_count": 680,
   "metadata": {
    "ExecuteTime": {
     "end_time": "2016-11-07T22:40:25.877076",
     "start_time": "2016-11-07T22:40:20.529048"
    },
    "collapsed": false
   },
   "outputs": [
    {
     "data": {
      "text/plain": [
       "[['DecisionTree_Reg', 0.54890499732565867, 0.070186895881003047],\n",
       " ['Bagging_Reg', 0.3416508816463309, 0.093575631694918282],\n",
       " ['RandomForest_Reg', 0.32709714214792535, 0.11792093011821979],\n",
       " ['ExtraTrees_Reg', 0.3839970922071746, 0.094098535422980967],\n",
       " ['AdaBoost_Reg', 0.33631590790973676, 0.098506352802442132],\n",
       " ['GradientBoost_Reg', 0.28402476428058493, 0.085374055018251363]]"
      ]
     },
     "execution_count": 680,
     "metadata": {},
     "output_type": "execute_result"
    }
   ],
   "source": [
    "get_metrics(model_list)"
   ]
  },
  {
   "cell_type": "markdown",
   "metadata": {},
   "source": [
    "### Bagging + Regressors"
   ]
  },
  {
   "cell_type": "code",
   "execution_count": 682,
   "metadata": {
    "ExecuteTime": {
     "end_time": "2016-11-07T22:42:56.827912",
     "start_time": "2016-11-07T22:42:56.821670"
    },
    "collapsed": true
   },
   "outputs": [],
   "source": [
    "bagging_model_list = [\n",
    "    ['DecisionTree_Reg_BAGGING', DecisionTreeRegressor(random_state=7)],\n",
    "    ['RandomForest_Reg_BAGGING', RandomForestRegressor(n_jobs=-1, random_state=7)],\n",
    "    ['ExtraTrees_Reg_BAGGING', ExtraTreesRegressor(n_jobs=-1, random_state=7)],\n",
    "    ['AdaBoost_Reg_BAGGING', AdaBoostRegressor(random_state=7)],\n",
    "    ['GradientBoost_Reg_BAGGING', GradientBoostingRegressor(criterion='mse', \n",
    "                                                          random_state=7)]]"
   ]
  },
  {
   "cell_type": "code",
   "execution_count": 686,
   "metadata": {
    "ExecuteTime": {
     "end_time": "2016-11-07T22:46:48.727746",
     "start_time": "2016-11-07T22:46:48.724566"
    },
    "collapsed": true
   },
   "outputs": [],
   "source": [
    "bagging_metrics = []"
   ]
  },
  {
   "cell_type": "code",
   "execution_count": 687,
   "metadata": {
    "ExecuteTime": {
     "end_time": "2016-11-07T22:47:47.019691",
     "start_time": "2016-11-07T22:47:01.927641"
    },
    "collapsed": false
   },
   "outputs": [
    {
     "data": {
      "text/plain": [
       "[['DecisionTree_Reg_BAGGING', 0.3314780393674962, 0.095940948579522595],\n",
       " ['RandomForest_Reg_BAGGING', 0.32642855665320158, 0.1145147187308688],\n",
       " ['ExtraTrees_Reg_BAGGING', 0.37598211884716681, 0.13678278748793674],\n",
       " ['AdaBoost_Reg_BAGGING', 0.34492710442417984, 0.12186522657054653],\n",
       " ['GradientBoost_Reg_BAGGING', 0.29125800810415298, 0.10642077923654408]]"
      ]
     },
     "execution_count": 687,
     "metadata": {},
     "output_type": "execute_result"
    }
   ],
   "source": [
    "def get_bagging_metrics(model_list):\n",
    "    for i in model_list:\n",
    "        result = run_model(BaggingRegressor(i[1], random_state=7))\n",
    "        mean = result.mean()*-1.0\n",
    "        std = result.std()\n",
    "        bagging_metrics.append([i[0], mean, std])\n",
    "    return bagging_metrics\n",
    "\n",
    "get_bagging_metrics(bagging_model_list)"
   ]
  },
  {
   "cell_type": "markdown",
   "metadata": {},
   "source": [
    "### GridSearch Regressors"
   ]
  },
  {
   "cell_type": "code",
   "execution_count": null,
   "metadata": {
    "collapsed": true
   },
   "outputs": [],
   "source": [
    "GS_model_list = [\n",
    "    ['DecisionTree_GS', DecisionTreeRegressor(random_state=7)],\n",
    "    ['RandomForest_GS', RandomForestRegressor(n_jobs=-1, random_state=7)],\n",
    "    ['GradientBosst_GS', GradientBoostingRegressor(criterion='mse', \n",
    "                                                          random_state=7)]]"
   ]
  },
  {
   "cell_type": "code",
   "execution_count": 649,
   "metadata": {
    "ExecuteTime": {
     "end_time": "2016-11-07T21:53:38.670591",
     "start_time": "2016-11-07T21:53:38.665894"
    },
    "collapsed": true
   },
   "outputs": [],
   "source": [
    "parameters = {'max_features':[3,4,5,6], 'max_leaf_nodes':[9,10,11,12], \n",
    "              'min_samples_split':[2,3,4], 'max_depth':[5,6,7,8,9], \n",
    "              'min_samples_leaf':[1,2,3,4]}\n",
    "\n",
    "scoring = 'neg_mean_squared_error'"
   ]
  },
  {
   "cell_type": "code",
   "execution_count": null,
   "metadata": {
    "collapsed": true
   },
   "outputs": [],
   "source": [
    "def get_bagging_metrics(model_list):\n",
    "    for i in model_list:\n",
    "        result = run_model(BaggingRegressor(i[1], random_state=7))\n",
    "        mean = result.mean()*-1.0\n",
    "        std = result.std()\n",
    "        bagging_metrics.append([i[0], mean, std])\n",
    "    return bagging_metrics"
   ]
  },
  {
   "cell_type": "code",
   "execution_count": null,
   "metadata": {
    "collapsed": true
   },
   "outputs": [],
   "source": [
    "GS_metrics = []"
   ]
  },
  {
   "cell_type": "code",
   "execution_count": 694,
   "metadata": {
    "ExecuteTime": {
     "end_time": "2016-11-07T22:52:17.281962",
     "start_time": "2016-11-07T22:52:17.271767"
    },
    "collapsed": true
   },
   "outputs": [],
   "source": [
    "def run_model(regressor):\n",
    "    score = cross_val_score(regressor, X, y,\n",
    "                            scoring='neg_mean_squared_error', cv=cv)\n",
    "    return score\n",
    "\n",
    "def run_GS(regressor):\n",
    "    GS = GridSearchCV(regressor, param_grid=parameters, scoring=scoring, cv=5, \n",
    "                     verbose=True, n_jobs=-1)\n",
    "    GS.fit(X,y)\n",
    "    print 'GS best params: ', GSdt.best_params_\n",
    "    result = run_model(GS.best_estimator_)\n",
    "    mean = result.mean()*1.0\n",
    "    std = result.std()\n",
    "    GS_metrics.append\n",
    "    \n",
    "    \n",
    "# result = run_model(GSdt.best_estimator_)\n",
    "# result.mean()"
   ]
  },
  {
   "cell_type": "code",
   "execution_count": 695,
   "metadata": {
    "ExecuteTime": {
     "end_time": "2016-11-07T22:52:32.939841",
     "start_time": "2016-11-07T22:52:19.640796"
    },
    "collapsed": false
   },
   "outputs": [
    {
     "name": "stdout",
     "output_type": "stream",
     "text": [
      "Fitting 5 folds for each of 960 candidates, totalling 4800 fits\n"
     ]
    },
    {
     "name": "stderr",
     "output_type": "stream",
     "text": [
      "[Parallel(n_jobs=-1)]: Done 540 tasks      | elapsed:    2.0s\n",
      "[Parallel(n_jobs=-1)]: Done 3240 tasks      | elapsed:    9.0s\n"
     ]
    },
    {
     "name": "stdout",
     "output_type": "stream",
     "text": [
      "GS best params:  {'max_features': 4, 'max_leaf_nodes': 11, 'min_samples_split': 3, 'max_depth': 7, 'min_samples_leaf': 1}\n"
     ]
    },
    {
     "name": "stderr",
     "output_type": "stream",
     "text": [
      "[Parallel(n_jobs=-1)]: Done 4800 out of 4800 | elapsed:   12.8s finished\n"
     ]
    },
    {
     "data": {
      "text/plain": [
       "-0.81761958460781803"
      ]
     },
     "execution_count": 695,
     "metadata": {},
     "output_type": "execute_result"
    }
   ],
   "source": [
    "run_GS(model)"
   ]
  },
  {
   "cell_type": "code",
   "execution_count": 650,
   "metadata": {
    "ExecuteTime": {
     "end_time": "2016-11-07T21:53:52.333492",
     "start_time": "2016-11-07T21:53:39.537929"
    },
    "collapsed": false
   },
   "outputs": [
    {
     "name": "stdout",
     "output_type": "stream",
     "text": [
      "Fitting 5 folds for each of 960 candidates, totalling 4800 fits\n"
     ]
    },
    {
     "name": "stderr",
     "output_type": "stream",
     "text": [
      "[Parallel(n_jobs=-1)]: Done 628 tasks      | elapsed:    2.2s\n",
      "[Parallel(n_jobs=-1)]: Done 3928 tasks      | elapsed:   10.5s\n",
      "[Parallel(n_jobs=-1)]: Done 4800 out of 4800 | elapsed:   12.4s finished\n"
     ]
    },
    {
     "data": {
      "text/plain": [
       "GridSearchCV(cv=5, error_score='raise',\n",
       "       estimator=DecisionTreeRegressor(criterion='mse', max_depth=None, max_features=None,\n",
       "           max_leaf_nodes=None, min_impurity_split=1e-07,\n",
       "           min_samples_leaf=1, min_samples_split=2,\n",
       "           min_weight_fraction_leaf=0.0, presort=False, random_state=7,\n",
       "           splitter='best'),\n",
       "       fit_params={}, iid=True, n_jobs=-1,\n",
       "       param_grid={'max_features': [3, 4, 5, 6], 'max_leaf_nodes': [9, 10, 11, 12], 'min_samples_split': [2, 3, 4], 'max_depth': [5, 6, 7, 8, 9], 'min_samples_leaf': [1, 2, 3, 4]},\n",
       "       pre_dispatch='2*n_jobs', refit=True,\n",
       "       scoring='neg_mean_squared_error', verbose=True)"
      ]
     },
     "execution_count": 650,
     "metadata": {},
     "output_type": "execute_result"
    }
   ],
   "source": [
    "model = DecisionTreeRegressor(random_state=7)\n",
    "GSdt = GridSearchCV(model, param_grid=parameters, scoring=scoring, cv=5,\n",
    "                   verbose=True, n_jobs=-1)\n",
    "GSdt.fit(X,y)"
   ]
  },
  {
   "cell_type": "code",
   "execution_count": 651,
   "metadata": {
    "ExecuteTime": {
     "end_time": "2016-11-07T21:53:54.687061",
     "start_time": "2016-11-07T21:53:54.682472"
    },
    "collapsed": false
   },
   "outputs": [
    {
     "name": "stdout",
     "output_type": "stream",
     "text": [
      "GSdt best params:  {'max_features': 4, 'max_leaf_nodes': 11, 'min_samples_split': 3, 'max_depth': 7, 'min_samples_leaf': 1}\n"
     ]
    }
   ],
   "source": [
    "print 'GSdt best params: ', GSdt.best_params_"
   ]
  },
  {
   "cell_type": "raw",
   "metadata": {
    "ExecuteTime": {
     "end_time": "2016-11-07T22:17:32.016636",
     "start_time": "2016-11-07T22:17:31.902134"
    },
    "collapsed": false
   },
   "source": [
    "GSdt.grid_scores_"
   ]
  },
  {
   "cell_type": "code",
   "execution_count": 653,
   "metadata": {
    "ExecuteTime": {
     "end_time": "2016-11-07T21:55:23.229830",
     "start_time": "2016-11-07T21:55:23.196963"
    },
    "collapsed": false
   },
   "outputs": [
    {
     "data": {
      "text/plain": [
       "-0.81761958460781803"
      ]
     },
     "execution_count": 653,
     "metadata": {},
     "output_type": "execute_result"
    }
   ],
   "source": [
    "result = run_model(GSdt.best_estimator_)\n",
    "result.mean()"
   ]
  },
  {
   "cell_type": "code",
   "execution_count": 310,
   "metadata": {
    "ExecuteTime": {
     "end_time": "2016-11-07T15:18:50.220576",
     "start_time": "2016-11-07T15:18:50.208909"
    },
    "collapsed": true
   },
   "outputs": [],
   "source": [
    "# functions to print out results of model fits\n",
    "def grid_search_results(model, x, y, cv):\n",
    "    \n",
    "    m = np.mean(cross_val_score(model,x,y,cv=cv))\n",
    "    s = np.std(cross_val_score(model,x,y,cv=cv))\n",
    "    print\"Mean R2 score from cross validation:\\t{:0.3} ± {:0.3}\".format(round(m,3), round(s,3))\n",
    "    \n",
    "def train_test_results(model):\n",
    "    model.fit(X_train,y_train)\n",
    "    y_pred = model.predict(X_test)\n",
    "    r = r2_score(y_test,y_pred)\n",
    "    print(\"R2 score from train/test:\\t\\t{:0.3}\".format(round(r,3)))"
   ]
  },
  {
   "cell_type": "code",
   "execution_count": 312,
   "metadata": {
    "ExecuteTime": {
     "end_time": "2016-11-07T15:19:18.514377",
     "start_time": "2016-11-07T15:19:18.474460"
    },
    "collapsed": false
   },
   "outputs": [
    {
     "name": "stdout",
     "output_type": "stream",
     "text": [
      "Mean R2 score from cross validation:\t-0.012 ± 0.018\n",
      "R2 score from train/test:\t\t-0.034\n"
     ]
    }
   ],
   "source": [
    "grid_search_results(reg.best_estimator_, X, y, cv)\n",
    "train_test_results(reg.best_estimator_)"
   ]
  },
  {
   "cell_type": "code",
   "execution_count": 304,
   "metadata": {
    "ExecuteTime": {
     "end_time": "2016-11-07T15:16:54.515841",
     "start_time": "2016-11-07T15:16:54.508072"
    },
    "code_folding": [
     0
    ],
    "collapsed": true
   },
   "outputs": [],
   "source": [
    "# functions to print results\n",
    "def grid_search_class(model, x, y, cv):\n",
    "    \n",
    "    m = np.mean(cross_val_score(model,x,y,cv=cv))\n",
    "    s = np.std(cross_val_score(model,x,y,cv=cv))\n",
    "    print\"Mean Accuracy score from cross validation:\\t{:0.3} ± {:0.3}\".format(round(m,3), round(s,3))\n",
    "    \n",
    "def train_test_class(model):\n",
    "    model.fit(X_train,y_train)\n",
    "    y_pred = model.predict(X_test)\n",
    "    print classification_report(y_test,y_pred)"
   ]
  },
  {
   "cell_type": "markdown",
   "metadata": {},
   "source": [
    "### Bagged Decision Trees"
   ]
  },
  {
   "cell_type": "code",
   "execution_count": 314,
   "metadata": {
    "ExecuteTime": {
     "end_time": "2016-11-07T15:24:54.968496",
     "start_time": "2016-11-07T15:21:28.820431"
    },
    "collapsed": false
   },
   "outputs": [
    {
     "name": "stdout",
     "output_type": "stream",
     "text": [
      "Fitting 3 folds for each of 4320 candidates, totalling 12960 fits\n"
     ]
    },
    {
     "name": "stderr",
     "output_type": "stream",
     "text": [
      "//anaconda/lib/python2.7/site-packages/sklearn/externals/joblib/parallel.py:540: UserWarning: Multiprocessing-backed parallel loops cannot be nested, setting n_jobs=1\n",
      "  **self._backend_args)\n",
      "//anaconda/lib/python2.7/site-packages/sklearn/externals/joblib/parallel.py:540: UserWarning: Multiprocessing-backed parallel loops cannot be nested, setting n_jobs=1\n",
      "  **self._backend_args)\n",
      "//anaconda/lib/python2.7/site-packages/sklearn/externals/joblib/parallel.py:540: UserWarning: Multiprocessing-backed parallel loops cannot be nested, setting n_jobs=1\n",
      "  **self._backend_args)\n",
      "//anaconda/lib/python2.7/site-packages/sklearn/externals/joblib/parallel.py:540: UserWarning: Multiprocessing-backed parallel loops cannot be nested, setting n_jobs=1\n",
      "  **self._backend_args)\n",
      "[Parallel(n_jobs=-1)]: Done  76 tasks      | elapsed:    1.6s\n",
      "[Parallel(n_jobs=-1)]: Done 586 tasks      | elapsed:    8.9s\n",
      "[Parallel(n_jobs=-1)]: Done 1586 tasks      | elapsed:   23.6s\n",
      "[Parallel(n_jobs=-1)]: Done 2986 tasks      | elapsed:   44.0s\n",
      "[Parallel(n_jobs=-1)]: Done 4786 tasks      | elapsed:  1.2min\n",
      "[Parallel(n_jobs=-1)]: Done 6986 tasks      | elapsed:  1.8min\n",
      "[Parallel(n_jobs=-1)]: Done 9586 tasks      | elapsed:  2.5min\n",
      "[Parallel(n_jobs=-1)]: Done 12586 tasks      | elapsed:  3.3min\n",
      "[Parallel(n_jobs=-1)]: Done 12960 out of 12960 | elapsed:  3.4min finished\n"
     ]
    },
    {
     "data": {
      "text/plain": [
       "GridSearchCV(cv=None, error_score='raise',\n",
       "       estimator=BaggingRegressor(base_estimator=DecisionTreeRegressor(criterion='mse', max_depth=None, max_features=None,\n",
       "           max_leaf_nodes=None, min_impurity_split=1e-07,\n",
       "           min_samples_leaf=1, min_samples_split=2,\n",
       "           min_weight_fraction_leaf=0.0, presort=False, random_state=None,...n_estimators=10, n_jobs=1, oob_score=False,\n",
       "         random_state=None, verbose=0, warm_start=False),\n",
       "       fit_params={}, iid=True, n_jobs=-1,\n",
       "       param_grid={'max_samples': [0.5, 0.7, 1.0], 'base_estimator__min_samples_split': [2, 7], 'base_estimator__max_depth': [1, 3, 5, 10], 'base_estimator__max_features': [1, 2, 3, 4], 'n_estimators': [2, 5, 10], 'max_features': [0.5, 0.7, 1.0], 'base_estimator__min_samples_leaf': [1, 3, 5, 7, 10]},\n",
       "       pre_dispatch='2*n_jobs', refit=True, scoring=None, verbose=True)"
      ]
     },
     "execution_count": 314,
     "metadata": {},
     "output_type": "execute_result"
    }
   ],
   "source": [
    "# bagged decision trees\n",
    "bag = BaggingRegressor(DecisionTreeRegressor())\n",
    "\n",
    "params = {\"base_estimator__max_depth\": [1,3,5,10],\n",
    "          \"base_estimator__max_features\": [1,2,3,4],\n",
    "          \"base_estimator__min_samples_leaf\": [1,3, 5, 7, 10],\n",
    "          \"base_estimator__min_samples_split\": [2, 7],\n",
    "          'max_features': [0.5, 0.7, 1.0],\n",
    "          'max_samples': [0.5, 0.7, 1.0],\n",
    "          'n_estimators': [2, 5, 10],\n",
    "         }\n",
    "\n",
    "grid_bag = GridSearchCV(BaggingRegressor(DecisionTreeRegressor()), params, n_jobs=-1, verbose=True)\n",
    "grid_bag.fit(X,y)"
   ]
  },
  {
   "cell_type": "code",
   "execution_count": 316,
   "metadata": {
    "ExecuteTime": {
     "end_time": "2016-11-07T15:25:19.941423",
     "start_time": "2016-11-07T15:25:19.586217"
    },
    "collapsed": false
   },
   "outputs": [
    {
     "name": "stdout",
     "output_type": "stream",
     "text": [
      "Mean R2 score from cross validation:\t0.216 ± 0.083\n",
      "R2 score from train/test:\t\t0.251\n"
     ]
    }
   ],
   "source": [
    "grid_search_results(grid_bag.best_estimator_,X,y,cv)\n",
    "train_test_results(grid_bag.best_estimator_)"
   ]
  },
  {
   "cell_type": "markdown",
   "metadata": {},
   "source": [
    "### Random Forest GridSearch"
   ]
  },
  {
   "cell_type": "code",
   "execution_count": 317,
   "metadata": {
    "ExecuteTime": {
     "end_time": "2016-11-07T15:26:15.731989",
     "start_time": "2016-11-07T15:25:57.547541"
    },
    "collapsed": false
   },
   "outputs": [
    {
     "name": "stdout",
     "output_type": "stream",
     "text": [
      "Fitting 3 folds for each of 160 candidates, totalling 480 fits\n"
     ]
    },
    {
     "name": "stderr",
     "output_type": "stream",
     "text": [
      "[Parallel(n_jobs=-1)]: Done  52 tasks      | elapsed:    1.6s\n",
      "[Parallel(n_jobs=-1)]: Done 352 tasks      | elapsed:   13.0s\n",
      "[Parallel(n_jobs=-1)]: Done 480 out of 480 | elapsed:   17.8s finished\n"
     ]
    },
    {
     "data": {
      "text/plain": [
       "GridSearchCV(cv=None, error_score='raise',\n",
       "       estimator=RandomForestRegressor(bootstrap=True, criterion='mse', max_depth=None,\n",
       "           max_features='auto', max_leaf_nodes=None,\n",
       "           min_impurity_split=1e-07, min_samples_leaf=1,\n",
       "           min_samples_split=2, min_weight_fraction_leaf=0.0,\n",
       "           n_estimators=10, n_jobs=1, oob_score=False, random_state=None,\n",
       "           verbose=0, warm_start=False),\n",
       "       fit_params={}, iid=True, n_jobs=-1,\n",
       "       param_grid={'max_features': [1, 2, 3, 4], 'min_samples_split': [2, 7], 'max_depth': [1, 3, 5, 10], 'min_samples_leaf': [1, 3, 5, 7, 10]},\n",
       "       pre_dispatch='2*n_jobs', refit=True, scoring=None, verbose=True)"
      ]
     },
     "execution_count": 317,
     "metadata": {},
     "output_type": "execute_result"
    }
   ],
   "source": [
    "# random forest\n",
    "rf = RandomForestRegressor()\n",
    "params = {\"max_depth\": [1,3,5,10],\n",
    "          \"max_features\": [1,2,3,4],\n",
    "          \"min_samples_leaf\": [1,3, 5, 7, 10],\n",
    "          \"min_samples_split\": [2, 7]}\n",
    "\n",
    "grid_rf = GridSearchCV(rf, params, n_jobs=-1, verbose=True)\n",
    "grid_rf.fit(X,y)"
   ]
  },
  {
   "cell_type": "code",
   "execution_count": 319,
   "metadata": {
    "ExecuteTime": {
     "end_time": "2016-11-07T15:26:28.908152",
     "start_time": "2016-11-07T15:26:28.485880"
    },
    "collapsed": false
   },
   "outputs": [
    {
     "name": "stdout",
     "output_type": "stream",
     "text": [
      "Mean R2 score from cross validation:\t0.137 ± 0.071\n",
      "R2 score from train/test:\t\t0.169\n"
     ]
    }
   ],
   "source": [
    "grid_search_results(grid_rf.best_estimator_,X,y,cv)\n",
    "train_test_results(grid_rf.best_estimator_)"
   ]
  },
  {
   "cell_type": "markdown",
   "metadata": {},
   "source": [
    "### Adaboost"
   ]
  },
  {
   "cell_type": "code",
   "execution_count": 321,
   "metadata": {
    "ExecuteTime": {
     "end_time": "2016-11-07T15:28:17.353782",
     "start_time": "2016-11-07T15:28:15.345553"
    },
    "collapsed": false
   },
   "outputs": [
    {
     "name": "stdout",
     "output_type": "stream",
     "text": [
      "Mean R2 score from cross validation:\t0.652 ± 0.031\n",
      "R2 score from train/test:\t\t0.522\n"
     ]
    }
   ],
   "source": [
    "ada = AdaBoostRegressor()\n",
    "ada.fit(X,y)\n",
    "\n",
    "grid_search_results(ada,X,y,cv)\n",
    "train_test_results(ada)"
   ]
  },
  {
   "cell_type": "code",
   "execution_count": 322,
   "metadata": {
    "ExecuteTime": {
     "end_time": "2016-11-07T15:28:59.041612",
     "start_time": "2016-11-07T15:28:57.914265"
    },
    "collapsed": false
   },
   "outputs": [
    {
     "name": "stdout",
     "output_type": "stream",
     "text": [
      "Mean R2 score from cross validation:\t0.674 ± 0.025\n",
      "R2 score from train/test:\t\t0.575\n"
     ]
    }
   ],
   "source": [
    "grad = GradientBoostingRegressor()\n",
    "grad.fit(X,y)\n",
    "\n",
    "grid_search_results(grad,X,y,cv)\n",
    "train_test_results(grad)"
   ]
  },
  {
   "cell_type": "code",
   "execution_count": 344,
   "metadata": {
    "ExecuteTime": {
     "end_time": "2016-11-07T15:48:10.521019",
     "start_time": "2016-11-07T15:48:09.413239"
    },
    "collapsed": false
   },
   "outputs": [
    {
     "data": {
      "text/plain": [
       "-0.33112077969084869"
      ]
     },
     "execution_count": 344,
     "metadata": {},
     "output_type": "execute_result"
    }
   ],
   "source": [
    "cross_val_score(ada, X, y=y, scoring='neg_mean_squared_error', cv=5).mean()"
   ]
  },
  {
   "cell_type": "code",
   "execution_count": 345,
   "metadata": {
    "ExecuteTime": {
     "end_time": "2016-11-07T15:48:40.575555",
     "start_time": "2016-11-07T15:48:39.945096"
    },
    "collapsed": false
   },
   "outputs": [
    {
     "data": {
      "text/plain": [
       "-0.29603871857518493"
      ]
     },
     "execution_count": 345,
     "metadata": {},
     "output_type": "execute_result"
    }
   ],
   "source": [
    "cross_val_score(grad, X, y=y, scoring='neg_mean_squared_error', cv=5).mean()"
   ]
  },
  {
   "cell_type": "code",
   "execution_count": 346,
   "metadata": {
    "ExecuteTime": {
     "end_time": "2016-11-07T15:50:12.801675",
     "start_time": "2016-11-07T15:48:59.034972"
    },
    "collapsed": false
   },
   "outputs": [
    {
     "name": "stdout",
     "output_type": "stream",
     "text": [
      "Fitting 3 folds for each of 160 candidates, totalling 480 fits\n"
     ]
    },
    {
     "name": "stderr",
     "output_type": "stream",
     "text": [
      "[Parallel(n_jobs=-1)]: Done  60 tasks      | elapsed:    1.7s\n",
      "[Parallel(n_jobs=-1)]: Done 360 tasks      | elapsed:    9.8s\n",
      "[Parallel(n_jobs=-1)]: Done 480 out of 480 | elapsed:   13.1s finished\n"
     ]
    },
    {
     "name": "stdout",
     "output_type": "stream",
     "text": [
      "Fitting 3 folds for each of 160 candidates, totalling 480 fits\n"
     ]
    },
    {
     "name": "stderr",
     "output_type": "stream",
     "text": [
      "[Parallel(n_jobs=-1)]: Done  42 tasks      | elapsed:    1.5s\n",
      "[Parallel(n_jobs=-1)]: Done 192 tasks      | elapsed:    5.9s\n",
      "[Parallel(n_jobs=-1)]: Done 442 tasks      | elapsed:   13.0s\n",
      "[Parallel(n_jobs=-1)]: Done 480 out of 480 | elapsed:   14.1s finished\n"
     ]
    },
    {
     "name": "stdout",
     "output_type": "stream",
     "text": [
      "Fitting 3 folds for each of 160 candidates, totalling 480 fits\n"
     ]
    },
    {
     "name": "stderr",
     "output_type": "stream",
     "text": [
      "[Parallel(n_jobs=-1)]: Done  42 tasks      | elapsed:    1.4s\n",
      "[Parallel(n_jobs=-1)]: Done 192 tasks      | elapsed:    6.4s\n",
      "[Parallel(n_jobs=-1)]: Done 442 tasks      | elapsed:   13.7s\n",
      "[Parallel(n_jobs=-1)]: Done 480 out of 480 | elapsed:   15.6s finished\n"
     ]
    },
    {
     "name": "stdout",
     "output_type": "stream",
     "text": [
      "Fitting 3 folds for each of 160 candidates, totalling 480 fits\n"
     ]
    },
    {
     "name": "stderr",
     "output_type": "stream",
     "text": [
      "[Parallel(n_jobs=-1)]: Done  42 tasks      | elapsed:    1.8s\n",
      "[Parallel(n_jobs=-1)]: Done 192 tasks      | elapsed:    7.1s\n",
      "[Parallel(n_jobs=-1)]: Done 442 tasks      | elapsed:   16.1s\n",
      "[Parallel(n_jobs=-1)]: Done 480 out of 480 | elapsed:   17.5s finished\n"
     ]
    },
    {
     "name": "stdout",
     "output_type": "stream",
     "text": [
      "Fitting 3 folds for each of 160 candidates, totalling 480 fits\n"
     ]
    },
    {
     "name": "stderr",
     "output_type": "stream",
     "text": [
      "[Parallel(n_jobs=-1)]: Done  76 tasks      | elapsed:    2.2s\n",
      "[Parallel(n_jobs=-1)]: Done 376 tasks      | elapsed:    8.9s\n",
      "[Parallel(n_jobs=-1)]: Done 480 out of 480 | elapsed:   11.4s finished\n"
     ]
    },
    {
     "data": {
      "text/plain": [
       "-0.82017707100786907"
      ]
     },
     "execution_count": 346,
     "metadata": {},
     "output_type": "execute_result"
    }
   ],
   "source": [
    "cross_val_score(grid_rf, X, y=y, scoring='neg_mean_squared_error', cv=5).mean()"
   ]
  },
  {
   "cell_type": "raw",
   "metadata": {
    "ExecuteTime": {
     "end_time": "2016-11-07T15:45:21.774733",
     "start_time": "2016-11-07T15:36:35.698903"
    }
   },
   "source": [
    "def cvs(model):\n",
    "    score = cross_val_score(model, X, y, scoring='neg_mean_squared_error', cv = 10)\n",
    "    return score"
   ]
  },
  {
   "cell_type": "code",
   "execution_count": 338,
   "metadata": {
    "ExecuteTime": {
     "end_time": "2016-11-07T15:36:23.017365",
     "start_time": "2016-11-07T15:36:23.014583"
    },
    "collapsed": false
   },
   "outputs": [],
   "source": [
    "models.remove(reg)"
   ]
  },
  {
   "cell_type": "code",
   "execution_count": null,
   "metadata": {
    "collapsed": true
   },
   "outputs": [],
   "source": []
  }
 ],
 "metadata": {
  "kernelspec": {
   "display_name": "Python 2",
   "language": "python",
   "name": "python2"
  },
  "language_info": {
   "codemirror_mode": {
    "name": "ipython",
    "version": 2
   },
   "file_extension": ".py",
   "mimetype": "text/x-python",
   "name": "python",
   "nbconvert_exporter": "python",
   "pygments_lexer": "ipython2",
   "version": "2.7.12"
  },
  "latex_envs": {
   "bibliofile": "biblio.bib",
   "cite_by": "apalike",
   "current_citInitial": 1,
   "eqLabelWithNumbers": true,
   "eqNumInitial": 0
  },
  "toc": {
   "nav_menu": {
    "height": "102px",
    "width": "252px"
   },
   "navigate_menu": true,
   "number_sections": true,
   "sideBar": true,
   "threshold": 4,
   "toc_cell": false,
   "toc_section_display": "block",
   "toc_window_display": true
  }
 },
 "nbformat": 4,
 "nbformat_minor": 0
}
