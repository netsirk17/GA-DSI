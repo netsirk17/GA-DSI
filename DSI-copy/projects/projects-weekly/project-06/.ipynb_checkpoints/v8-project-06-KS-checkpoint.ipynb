{
 "cells": [
  {
   "cell_type": "code",
   "execution_count": 203,
   "metadata": {
    "ExecuteTime": {
     "end_time": "2016-11-08T10:29:37.220826",
     "start_time": "2016-11-08T10:29:37.172072"
    },
    "collapsed": false,
    "scrolled": true
   },
   "outputs": [
    {
     "ename": "ImportError",
     "evalue": "cannot import name DecisionTreeClassifier",
     "output_type": "error",
     "traceback": [
      "\u001b[0;31m---------------------------------------------------------------------------\u001b[0m",
      "\u001b[0;31mImportError\u001b[0m                               Traceback (most recent call last)",
      "\u001b[0;32m<ipython-input-203-7ec1ddcc3c0a>\u001b[0m in \u001b[0;36m<module>\u001b[0;34m()\u001b[0m\n\u001b[1;32m     21\u001b[0m \u001b[0;32mfrom\u001b[0m \u001b[0msklearn\u001b[0m\u001b[0;34m.\u001b[0m\u001b[0mmodel_selection\u001b[0m \u001b[0;32mimport\u001b[0m \u001b[0mcross_val_score\u001b[0m\u001b[0;34m,\u001b[0m \u001b[0mKFold\u001b[0m\u001b[0;34m,\u001b[0m \u001b[0mStratifiedKFold\u001b[0m\u001b[0;34m,\u001b[0m \u001b[0mtrain_test_split\u001b[0m\u001b[0;34m\u001b[0m\u001b[0m\n\u001b[1;32m     22\u001b[0m \u001b[0;32mfrom\u001b[0m \u001b[0msklearn\u001b[0m\u001b[0;34m.\u001b[0m\u001b[0mgrid_search\u001b[0m \u001b[0;32mimport\u001b[0m \u001b[0mGridSearchCV\u001b[0m\u001b[0;34m\u001b[0m\u001b[0m\n\u001b[0;32m---> 23\u001b[0;31m \u001b[0;32mfrom\u001b[0m \u001b[0msklearn\u001b[0m\u001b[0;34m.\u001b[0m\u001b[0mensemble\u001b[0m \u001b[0;32mimport\u001b[0m \u001b[0mRandomForestRegressor\u001b[0m\u001b[0;34m,\u001b[0m \u001b[0mAdaBoostRegressor\u001b[0m\u001b[0;34m,\u001b[0m \u001b[0mExtraTreesRegressor\u001b[0m\u001b[0;34m,\u001b[0m \u001b[0mGradientBoostingRegressor\u001b[0m\u001b[0;34m,\u001b[0m\u001b[0mAdaBoostClassifier\u001b[0m\u001b[0;34m,\u001b[0m \u001b[0mGradientBoostingClassifier\u001b[0m\u001b[0;34m,\u001b[0m \u001b[0mBaggingClassifier\u001b[0m\u001b[0;34m,\u001b[0m \u001b[0mRandomForestClassifier\u001b[0m\u001b[0;34m,\u001b[0m \u001b[0mBaggingRegressor\u001b[0m\u001b[0;34m,\u001b[0m \u001b[0mDecisionTreeClassifier\u001b[0m\u001b[0;34m\u001b[0m\u001b[0m\n\u001b[0m\u001b[1;32m     24\u001b[0m \u001b[0;32mfrom\u001b[0m \u001b[0msklearn\u001b[0m\u001b[0;34m.\u001b[0m\u001b[0mneighbors\u001b[0m \u001b[0;32mimport\u001b[0m \u001b[0mKNeighborsRegressor\u001b[0m\u001b[0;34m\u001b[0m\u001b[0m\n\u001b[1;32m     25\u001b[0m \u001b[0;32mfrom\u001b[0m \u001b[0msklearn\u001b[0m\u001b[0;34m.\u001b[0m\u001b[0mpreprocessing\u001b[0m \u001b[0;32mimport\u001b[0m \u001b[0mStandardScaler\u001b[0m\u001b[0;34m\u001b[0m\u001b[0m\n",
      "\u001b[0;31mImportError\u001b[0m: cannot import name DecisionTreeClassifier"
     ]
    }
   ],
   "source": [
    "import bs4\n",
    "from bs4 import BeautifulSoup\n",
    "import requests\n",
    "import re\n",
    "import json\n",
    "import pandas as pd\n",
    "import numpy as np\n",
    "from datetime import datetime\n",
    "\n",
    "from sklearn.feature_extraction.text import CountVectorizer\n",
    "import matplotlib.pyplot as plt\n",
    "%matplotlib inline\n",
    "plt.style.use('fivethirtyeight')\n",
    "import seaborn as sns\n",
    "sns.set_palette('muted')\n",
    "sns.set_style('whitegrid')\n",
    "\n",
    "from sklearn.linear_model import LinearRegression\n",
    "from sklearn.metrics import r2_score, classification_report, confusion_matrix, accuracy_score\n",
    "from sklearn.tree import DecisionTreeRegressor, DecisionTreeClassifier\n",
    "from sklearn.model_selection import cross_val_score, KFold, StratifiedKFold, train_test_split\n",
    "from sklearn.grid_search import GridSearchCV\n",
    "from sklearn.ensemble import RandomForestRegressor, AdaBoostRegressor, \\\n",
    "ExtraTreesRegressor, GradientBoostingRegressor,\\\n",
    "AdaBoostClassifier, GradientBoostingClassifier, BaggingClassifier, \\\n",
    "RandomForestClassifier, BaggingRegressor\n",
    "from sklearn.neighbors import KNeighborsRegressor\n",
    "from sklearn.preprocessing import StandardScaler"
   ]
  },
  {
   "cell_type": "markdown",
   "metadata": {
    "heading_collapsed": true
   },
   "source": [
    "## Webscraping"
   ]
  },
  {
   "cell_type": "markdown",
   "metadata": {
    "hidden": true
   },
   "source": [
    "### IMDB: Get film ids"
   ]
  },
  {
   "cell_type": "code",
   "execution_count": 3,
   "metadata": {
    "ExecuteTime": {
     "end_time": "2016-11-08T08:31:58.470996",
     "start_time": "2016-11-08T08:31:57.713735"
    },
    "code_folding": [],
    "collapsed": true,
    "hidden": true
   },
   "outputs": [],
   "source": [
    "# Function that will make an api call to omdbapi.com and return film id\n",
    "\n",
    "def get_id_250():\n",
    "    response = requests.get('http://www.imdb.com/chart/top')\n",
    "    html = response.text\n",
    "    entries = re.findall(\"<a href.*?/title/(.*?)/\", html)\n",
    "    return list(set(entries))\n",
    "\n",
    "entries = get_id_250()"
   ]
  },
  {
   "cell_type": "code",
   "execution_count": 4,
   "metadata": {
    "ExecuteTime": {
     "end_time": "2016-11-08T08:31:58.476575",
     "start_time": "2016-11-08T08:31:58.472641"
    },
    "collapsed": false,
    "hidden": true
   },
   "outputs": [
    {
     "name": "stdout",
     "output_type": "stream",
     "text": [
      "250\n",
      "[u'tt2582802', u'tt0047478']\n"
     ]
    }
   ],
   "source": [
    "print len(entries)\n",
    "print entries[:2]"
   ]
  },
  {
   "cell_type": "markdown",
   "metadata": {
    "hidden": true
   },
   "source": [
    "### Fill in film data from omdapi.com"
   ]
  },
  {
   "cell_type": "code",
   "execution_count": 5,
   "metadata": {
    "ExecuteTime": {
     "end_time": "2016-11-08T08:33:00.635331",
     "start_time": "2016-11-08T08:32:00.529970"
    },
    "collapsed": false,
    "hidden": true
   },
   "outputs": [
    {
     "name": "stdout",
     "output_type": "stream",
     "text": [
      ". . . . . . . . . . . . . . . . . . . . . . . . . . . . . . . . . . . . . . . . . . . . . . . . . . . . . . . . . . . . . . . . . . . . . . . . . . . . . . . . . . . . . . . . . . . . . . . . . . . . . . . . . . . . . . . . . . . . . . . . . . . . . . . . . . . . . . . . . . . . . . . . . . . . . . . . . . . . . . . . . . . . . . . . . . . . . . . . . . . . . . . . . . . . . . . . . . . . . . . . . . . . . . . . . . . . . . . . . . . . . . . . . . . . . . . . . . . . . . . . . . . . . . . . . .\n"
     ]
    }
   ],
   "source": [
    "# Function that will make an api call to omdbapi.com and return film data by film id\n",
    "\n",
    "#Decided to include Rotten Tomatoes ratings and metrics as it may also be a useful feature in models \n",
    "\n",
    "# From JSON/APIs lab\n",
    "def get_entry(entry):\n",
    "    res = requests.get('http://www.omdbapi.com/?i='+entry+'&plot=full&r=json&tomatoes=true')\n",
    "    if res.status_code != 200:\n",
    "        print entry, res.status_code\n",
    "    else:\n",
    "        print '.',\n",
    "    try:\n",
    "        j = json.loads(res.text)\n",
    "    except ValueError:\n",
    "        j = None\n",
    "    return j\n",
    "\n",
    "entries_dict_list = [get_entry(e) for e in entries]"
   ]
  },
  {
   "cell_type": "code",
   "execution_count": 6,
   "metadata": {
    "ExecuteTime": {
     "end_time": "2016-11-08T08:33:00.646712",
     "start_time": "2016-11-08T08:33:00.637437"
    },
    "collapsed": false,
    "hidden": true
   },
   "outputs": [
    {
     "data": {
      "text/plain": [
       "250"
      ]
     },
     "execution_count": 6,
     "metadata": {},
     "output_type": "execute_result"
    }
   ],
   "source": [
    "len(entries_dict_list)"
   ]
  },
  {
   "cell_type": "code",
   "execution_count": 7,
   "metadata": {
    "ExecuteTime": {
     "end_time": "2016-11-08T08:33:00.734600",
     "start_time": "2016-11-08T08:33:00.649573"
    },
    "collapsed": false,
    "hidden": true
   },
   "outputs": [
    {
     "data": {
      "text/html": [
       "<div>\n",
       "<table border=\"1\" class=\"dataframe\">\n",
       "  <thead>\n",
       "    <tr style=\"text-align: right;\">\n",
       "      <th></th>\n",
       "      <th>Actors</th>\n",
       "      <th>Awards</th>\n",
       "      <th>BoxOffice</th>\n",
       "      <th>Country</th>\n",
       "      <th>DVD</th>\n",
       "      <th>Director</th>\n",
       "      <th>Genre</th>\n",
       "      <th>Language</th>\n",
       "      <th>Metascore</th>\n",
       "      <th>Plot</th>\n",
       "      <th>...</th>\n",
       "      <th>tomatoFresh</th>\n",
       "      <th>tomatoImage</th>\n",
       "      <th>tomatoMeter</th>\n",
       "      <th>tomatoRating</th>\n",
       "      <th>tomatoReviews</th>\n",
       "      <th>tomatoRotten</th>\n",
       "      <th>tomatoURL</th>\n",
       "      <th>tomatoUserMeter</th>\n",
       "      <th>tomatoUserRating</th>\n",
       "      <th>tomatoUserReviews</th>\n",
       "    </tr>\n",
       "  </thead>\n",
       "  <tbody>\n",
       "    <tr>\n",
       "      <th>0</th>\n",
       "      <td>Miles Teller, J.K. Simmons, Paul Reiser, Melis...</td>\n",
       "      <td>Won 3 Oscars. Another 87 wins &amp; 131 nominations.</td>\n",
       "      <td>N/A</td>\n",
       "      <td>USA</td>\n",
       "      <td>24 Feb 2015</td>\n",
       "      <td>Damien Chazelle</td>\n",
       "      <td>Drama, Music</td>\n",
       "      <td>English</td>\n",
       "      <td>88</td>\n",
       "      <td>A promising young drummer enrolls at a cut-thr...</td>\n",
       "      <td>...</td>\n",
       "      <td>246</td>\n",
       "      <td>certified</td>\n",
       "      <td>94</td>\n",
       "      <td>8.6</td>\n",
       "      <td>261</td>\n",
       "      <td>15</td>\n",
       "      <td>http://www.rottentomatoes.com/m/whiplash_2014/</td>\n",
       "      <td>94</td>\n",
       "      <td>4.5</td>\n",
       "      <td>66092</td>\n",
       "    </tr>\n",
       "  </tbody>\n",
       "</table>\n",
       "<p>1 rows × 35 columns</p>\n",
       "</div>"
      ],
      "text/plain": [
       "                                              Actors  \\\n",
       "0  Miles Teller, J.K. Simmons, Paul Reiser, Melis...   \n",
       "\n",
       "                                             Awards BoxOffice Country  \\\n",
       "0  Won 3 Oscars. Another 87 wins & 131 nominations.       N/A     USA   \n",
       "\n",
       "           DVD         Director         Genre Language Metascore  \\\n",
       "0  24 Feb 2015  Damien Chazelle  Drama, Music  English        88   \n",
       "\n",
       "                                                Plot        ...         \\\n",
       "0  A promising young drummer enrolls at a cut-thr...        ...          \n",
       "\n",
       "  tomatoFresh tomatoImage tomatoMeter tomatoRating tomatoReviews tomatoRotten  \\\n",
       "0         246   certified          94          8.6           261           15   \n",
       "\n",
       "                                        tomatoURL tomatoUserMeter  \\\n",
       "0  http://www.rottentomatoes.com/m/whiplash_2014/              94   \n",
       "\n",
       "  tomatoUserRating tomatoUserReviews  \n",
       "0              4.5             66092  \n",
       "\n",
       "[1 rows x 35 columns]"
      ]
     },
     "execution_count": 7,
     "metadata": {},
     "output_type": "execute_result"
    }
   ],
   "source": [
    "df = pd.DataFrame(entries_dict_list)\n",
    "df.head(1)"
   ]
  },
  {
   "cell_type": "code",
   "execution_count": 8,
   "metadata": {
    "ExecuteTime": {
     "end_time": "2016-11-08T08:33:00.742904",
     "start_time": "2016-11-08T08:33:00.737773"
    },
    "collapsed": false,
    "hidden": true
   },
   "outputs": [
    {
     "name": "stdout",
     "output_type": "stream",
     "text": [
      "(250, 35)\n"
     ]
    }
   ],
   "source": [
    "print df.shape"
   ]
  },
  {
   "cell_type": "markdown",
   "metadata": {
    "hidden": true
   },
   "source": [
    "### IMDB: Get gross, opening weekend and budget"
   ]
  },
  {
   "cell_type": "code",
   "execution_count": 9,
   "metadata": {
    "ExecuteTime": {
     "end_time": "2016-11-08T08:33:00.758799",
     "start_time": "2016-11-08T08:33:00.747329"
    },
    "collapsed": true,
    "hidden": true
   },
   "outputs": [],
   "source": [
    "def get_gross(entry):\n",
    "    response = requests.get('http://www.imdb.com/title/' + entry)\n",
    "    html = response.text\n",
    "    try:\n",
    "        gross_list = re.findall(\"Gross:</h4>[ ]*\\$([^ ]*)\", html)\n",
    "        gross = int(gross_list[0].replace(',', ''))\n",
    "        print '.',\n",
    "        return gross\n",
    "    except Exception as ex:\n",
    "        print\n",
    "        print ex, entry, response.status_code\n",
    "        return None"
   ]
  },
  {
   "cell_type": "code",
   "execution_count": 10,
   "metadata": {
    "ExecuteTime": {
     "end_time": "2016-11-08T08:35:00.666197",
     "start_time": "2016-11-08T08:33:00.762226"
    },
    "collapsed": false,
    "hidden": true
   },
   "outputs": [
    {
     "name": "stdout",
     "output_type": "stream",
     "text": [
      ". . . . . . .\n",
      "list index out of range tt0046268 200\n",
      "\n",
      "list index out of range tt0055630 200\n",
      ". . . . .\n",
      "list index out of range tt0057115 200\n",
      ".\n",
      "list index out of range tt0071315 200\n",
      ". . . .\n",
      "list index out of range tt0074896 200\n",
      ". .\n",
      "list index out of range tt0021749 200\n",
      ". .\n",
      "list index out of range tt0053125 200\n",
      ". . .\n",
      "list index out of range tt1220719 200\n",
      "\n",
      "list index out of range tt0025316 200\n",
      ". .\n",
      "list index out of range tt0083922 200\n",
      ". . .\n",
      "list index out of range tt0072684 200\n",
      ".\n",
      "list index out of range tt0074958 200\n",
      ". . . .\n",
      "list index out of range tt0036775 200\n",
      ". . . . . .\n",
      "list index out of range tt0978762 200\n",
      "\n",
      "list index out of range tt0109117 200\n",
      ". .\n",
      "list index out of range tt0080678 200\n",
      ". .\n",
      "list index out of range tt0056592 200\n",
      ".\n",
      "list index out of range tt0095327 200\n",
      ". . .\n",
      "list index out of range tt0476735 200\n",
      ". . . . . .\n",
      "list index out of range tt0046438 200\n",
      ".\n",
      "list index out of range tt0015864 200\n",
      ".\n",
      "list index out of range tt0045152 200\n",
      ". . . .\n",
      "list index out of range tt0046911 200\n",
      ".\n",
      "list index out of range tt0050986 200\n",
      ".\n",
      "list index out of range tt0091251 200\n",
      ". . . . . . . . .\n",
      "list index out of range tt0032553 200\n",
      "\n",
      "list index out of range tt0032551 200\n",
      ". . . . . .\n",
      "list index out of range tt0060827 200\n",
      ". . .\n",
      "list index out of range tt0031679 200\n",
      ". . . . . .\n",
      "list index out of range tt0053198 200\n",
      ". . .\n",
      "list index out of range tt0050825 200\n",
      "\n",
      "list index out of range tt0042876 200\n",
      "\n",
      "list index out of range tt0083987 200\n",
      ". . .\n",
      "list index out of range tt0044079 200\n",
      "\n",
      "list index out of range tt0041546 200\n",
      ". . . . . .\n",
      "list index out of range tt0092067 200\n",
      ". . . .\n",
      "list index out of range tt1954470 200\n",
      "\n",
      "list index out of range tt0242519 200\n",
      ". . . . . . . .\n",
      "list index out of range tt0057012 200\n",
      "\n",
      "list index out of range tt0096283 200\n",
      ".\n",
      "list index out of range tt0064116 200\n",
      ". . . . .\n",
      "list index out of range tt0081505 200\n",
      "\n",
      "list index out of range tt0038650 200\n",
      ".\n",
      "list index out of range tt0034583 200\n",
      ". . . . .\n",
      "list index out of range tt0046250 200\n",
      ". .\n",
      "list index out of range tt0033870 200\n",
      ". . .\n",
      "list index out of range tt0040897 200\n",
      ". .\n",
      "list index out of range tt0019254 200\n",
      "\n",
      "list index out of range tt0066921 200\n",
      "\n",
      "list index out of range tt0061512 200\n",
      "\n",
      "list index out of range tt0033467 200\n",
      ".\n",
      "list index out of range tt0017925 200\n",
      ". . .\n",
      "list index out of range tt0055031 200\n",
      ".\n",
      "list index out of range tt0087544 200\n",
      ". . .\n",
      "list index out of range tt0050083 200\n",
      ". .\n",
      "list index out of range tt0018455 200\n",
      ". . . .\n",
      "list index out of range tt0077416 200\n",
      ". . . . . . . . .\n",
      "list index out of range tt0050976 200\n",
      ". . . . . . . . .\n",
      "list index out of range tt0043014 200\n",
      "\n",
      "list index out of range tt0079944 200\n",
      ".\n",
      "list index out of range tt0053604 200\n",
      ". . . . .\n",
      "list index out of range tt0051201 200\n",
      ".\n",
      "list index out of range tt0032976 200\n",
      ".\n",
      "list index out of range tt0059578 200\n",
      "\n",
      "list index out of range tt0072890 200\n",
      ". . . . . . .\n",
      "list index out of range tt1028532 200\n",
      ". . . . . .\n",
      "list index out of range tt0075314 200\n",
      "\n",
      "list index out of range tt0116231 200\n"
     ]
    }
   ],
   "source": [
    "grosses = [(e, get_gross(e)) for e in entries]"
   ]
  },
  {
   "cell_type": "code",
   "execution_count": 11,
   "metadata": {
    "ExecuteTime": {
     "end_time": "2016-11-08T08:35:00.695842",
     "start_time": "2016-11-08T08:35:00.669472"
    },
    "collapsed": false,
    "hidden": true
   },
   "outputs": [
    {
     "data": {
      "text/html": [
       "<div>\n",
       "<table border=\"1\" class=\"dataframe\">\n",
       "  <thead>\n",
       "    <tr style=\"text-align: right;\">\n",
       "      <th></th>\n",
       "      <th>imdbID</th>\n",
       "      <th>Gross</th>\n",
       "    </tr>\n",
       "  </thead>\n",
       "  <tbody>\n",
       "    <tr>\n",
       "      <th>0</th>\n",
       "      <td>tt2582802</td>\n",
       "      <td>13092000.0</td>\n",
       "    </tr>\n",
       "    <tr>\n",
       "      <th>1</th>\n",
       "      <td>tt0047478</td>\n",
       "      <td>269061.0</td>\n",
       "    </tr>\n",
       "    <tr>\n",
       "      <th>2</th>\n",
       "      <td>tt0082971</td>\n",
       "      <td>242374454.0</td>\n",
       "    </tr>\n",
       "  </tbody>\n",
       "</table>\n",
       "</div>"
      ],
      "text/plain": [
       "      imdbID        Gross\n",
       "0  tt2582802   13092000.0\n",
       "1  tt0047478     269061.0\n",
       "2  tt0082971  242374454.0"
      ]
     },
     "execution_count": 11,
     "metadata": {},
     "output_type": "execute_result"
    }
   ],
   "source": [
    "df1 = pd.DataFrame(grosses, columns=['imdbID', 'Gross'])\n",
    "df1.head(3)"
   ]
  },
  {
   "cell_type": "code",
   "execution_count": 12,
   "metadata": {
    "ExecuteTime": {
     "end_time": "2016-11-08T08:35:00.706144",
     "start_time": "2016-11-08T08:35:00.697778"
    },
    "collapsed": false,
    "hidden": true
   },
   "outputs": [],
   "source": [
    "def get_opening(entry):\n",
    "    response = requests.get('http://www.imdb.com/title/' + entry)\n",
    "    html = response.text\n",
    "    try:\n",
    "        opening_list = re.findall(\"Opening Weekend:</h4>[ ]*\\$([^ ]*)\", html)\n",
    "        opening = int(opening_list[0].replace(',', ''))\n",
    "        print '.',\n",
    "        return opening\n",
    "    except Exception as ex:\n",
    "        print\n",
    "        print ex, entry, response.status_code\n",
    "        return None"
   ]
  },
  {
   "cell_type": "code",
   "execution_count": 13,
   "metadata": {
    "ExecuteTime": {
     "end_time": "2016-11-08T08:37:02.235465",
     "start_time": "2016-11-08T08:35:00.709191"
    },
    "collapsed": false,
    "hidden": true
   },
   "outputs": [
    {
     "name": "stdout",
     "output_type": "stream",
     "text": [
      ". . .\n",
      "list index out of range tt0050212 200\n",
      "\n",
      "list index out of range tt0986264 200\n",
      ". .\n",
      "list index out of range tt0046268 200\n",
      "\n",
      "list index out of range tt0055630 200\n",
      ". . . . .\n",
      "list index out of range tt0057115 200\n",
      ".\n",
      "list index out of range tt0071315 200\n",
      "\n",
      "list index out of range tt0114746 200\n",
      ". . .\n",
      "list index out of range tt0074896 200\n",
      ". .\n",
      "list index out of range tt0021749 200\n",
      ".\n",
      "list index out of range tt1187043 200\n",
      "\n",
      "list index out of range tt0053125 200\n",
      ".\n",
      "list index out of range tt0112471 200\n",
      ".\n",
      "list index out of range tt1220719 200\n",
      "\n",
      "list index out of range tt0025316 200\n",
      ". .\n",
      "list index out of range tt0083922 200\n",
      "\n",
      "list index out of range tt0088247 200\n",
      ".\n",
      "list index out of range tt0087843 200\n",
      "\n",
      "list index out of range tt0072684 200\n",
      ".\n",
      "list index out of range tt0074958 200\n",
      ".\n",
      "list index out of range tt0052618 200\n",
      ". .\n",
      "list index out of range tt0036775 200\n",
      ".\n",
      "list index out of range tt0110357 200\n",
      ". . .\n",
      "list index out of range tt0075148 200\n",
      "\n",
      "list index out of range tt0978762 200\n",
      "\n",
      "list index out of range tt0109117 200\n",
      ".\n",
      "list index out of range tt0036868 200\n",
      "\n",
      "list index out of range tt0080678 200\n",
      "\n",
      "list index out of range tt0093779 200\n",
      "\n",
      "list index out of range tt0108052 200\n",
      "\n",
      "list index out of range tt0056592 200\n",
      "\n",
      "list index out of range tt0088763 200\n",
      "\n",
      "list index out of range tt0095327 200\n",
      ".\n",
      "list index out of range tt0053291 200\n",
      ". .\n",
      "list index out of range tt0407887 200\n",
      ". . . .\n",
      "list index out of range tt0114814 200\n",
      "\n",
      "list index out of range tt0046438 200\n",
      "\n",
      "list index out of range tt0107048 200\n",
      "\n",
      "list index out of range tt0015864 200\n",
      "\n",
      "list index out of range tt0107207 200\n",
      "\n",
      "list index out of range tt0045152 200\n",
      ".\n",
      "list index out of range tt0167261 200\n",
      "\n",
      "list index out of range tt0167260 200\n",
      "\n",
      "list index out of range tt0095016 200\n",
      "\n",
      "list index out of range tt0046911 200\n",
      ".\n",
      "list index out of range tt0050986 200\n",
      ".\n",
      "list index out of range tt0091251 200\n",
      ".\n",
      "list index out of range tt0078748 200\n",
      ".\n",
      "list index out of range tt0012349 200\n",
      "\n",
      "list index out of range tt0372784 200\n",
      "\n",
      "list index out of range tt0113247 200\n",
      "\n",
      "list index out of range tt0107290 200\n",
      ".\n",
      "list index out of range tt0070735 200\n",
      "\n",
      "list index out of range tt0032553 200\n",
      "\n",
      "list index out of range tt0032551 200\n",
      ".\n",
      "list index out of range tt0361748 200\n",
      ". . . .\n",
      "list index out of range tt0060827 200\n",
      "\n",
      "list index out of range tt0266697 200\n",
      ". .\n",
      "list index out of range tt0031679 200\n",
      "\n",
      "list index out of range tt0080684 200\n",
      ". . . .\n",
      "list index out of range tt0102926 200\n",
      "\n",
      "list index out of range tt0053198 200\n",
      ". . .\n",
      "list index out of range tt0050825 200\n",
      "\n",
      "list index out of range tt0042876 200\n",
      "\n",
      "list index out of range tt0083987 200\n",
      ". . .\n",
      "list index out of range tt0044079 200\n",
      "\n",
      "list index out of range tt0041546 200\n",
      ".\n",
      "list index out of range tt0114369 200\n",
      ".\n",
      "list index out of range tt0091763 200\n",
      ". . .\n",
      "list index out of range tt0090605 200\n",
      "\n",
      "list index out of range tt0120737 200\n",
      "\n",
      "list index out of range tt0120735 200\n",
      ".\n",
      "list index out of range tt1954470 200\n",
      "\n",
      "list index out of range tt0242519 200\n",
      ". .\n",
      "list index out of range tt0110413 200\n",
      "\n",
      "list index out of range tt0058461 200\n",
      ". . . .\n",
      "list index out of range tt0057012 200\n",
      "\n",
      "list index out of range tt0096283 200\n",
      ".\n",
      "list index out of range tt0064116 200\n",
      "\n",
      "list index out of range tt0114709 200\n",
      ". . .\n",
      "list index out of range tt0105236 200\n",
      "\n",
      "list index out of range tt0081505 200\n",
      "\n",
      "list index out of range tt0038650 200\n",
      ".\n",
      "list index out of range tt0034583 200\n",
      ". . .\n",
      "list index out of range tt0054215 200\n",
      ".\n",
      "list index out of range tt0046250 200\n",
      ". .\n",
      "list index out of range tt0033870 200\n",
      "\n",
      "list index out of range tt0112573 200\n",
      ".\n",
      "list index out of range tt0097576 200\n",
      "\n",
      "list index out of range tt0040897 200\n",
      "\n",
      "list index out of range tt0062622 200\n",
      ".\n",
      "list index out of range tt0019254 200\n",
      "\n",
      "list index out of range tt0066921 200\n",
      "\n",
      "list index out of range tt0061512 200\n",
      "\n",
      "list index out of range tt0033467 200\n",
      ".\n",
      "list index out of range tt0017925 200\n",
      ". .\n",
      "list index out of range tt0064115 200\n",
      "\n",
      "list index out of range tt0055031 200\n",
      ".\n",
      "list index out of range tt0087544 200\n",
      "\n",
      "list index out of range tt0113277 200\n",
      "\n",
      "list index out of range tt0105695 200\n",
      ".\n",
      "list index out of range tt0050083 200\n",
      ".\n",
      "list index out of range tt0110912 200\n",
      "\n",
      "list index out of range tt0018455 200\n",
      ". .\n",
      "list index out of range tt0434409 200\n",
      "\n",
      "list index out of range tt0117951 200\n",
      "\n",
      "list index out of range tt0077416 200\n",
      ". . . . .\n",
      "list index out of range tt0099685 200\n",
      ".\n",
      "list index out of range tt0060196 200\n",
      "\n",
      "list index out of range tt0112641 200\n",
      "\n",
      "list index out of range tt0050976 200\n",
      "\n",
      "list index out of range tt0092005 200\n",
      ".\n",
      "list index out of range tt0111161 200\n",
      ".\n",
      "list index out of range tt0071562 200\n",
      ". . . .\n",
      "list index out of range tt0043014 200\n",
      "\n",
      "list index out of range tt0079944 200\n",
      "\n",
      "list index out of range tt0093058 200\n",
      "\n",
      "list index out of range tt0053604 200\n",
      "\n",
      "list index out of range tt0109830 200\n",
      ".\n",
      "list index out of range tt0073195 200\n",
      ". .\n",
      "list index out of range tt0051201 200\n",
      "\n",
      "list index out of range tt0075686 200\n",
      "\n",
      "list index out of range tt0032976 200\n",
      "\n",
      "list index out of range tt1375666 200\n",
      "\n",
      "list index out of range tt0059578 200\n",
      "\n",
      "list index out of range tt0072890 200\n",
      ".\n",
      "list index out of range tt0103064 200\n",
      ". . . .\n",
      "list index out of range tt0047296 200\n",
      "\n",
      "list index out of range tt1028532 200\n",
      ". .\n",
      "list index out of range tt0073486 200\n",
      "\n",
      "list index out of range tt0209144 200\n",
      "\n",
      "list index out of range tt0208092 200\n",
      ".\n",
      "list index out of range tt0075314 200\n",
      "\n",
      "list index out of range tt0116231 200\n"
     ]
    }
   ],
   "source": [
    "opening = [(e, get_opening(e)) for e in entries]"
   ]
  },
  {
   "cell_type": "code",
   "execution_count": 14,
   "metadata": {
    "ExecuteTime": {
     "end_time": "2016-11-08T08:37:02.258203",
     "start_time": "2016-11-08T08:37:02.238604"
    },
    "collapsed": false,
    "hidden": true
   },
   "outputs": [
    {
     "data": {
      "text/html": [
       "<div>\n",
       "<table border=\"1\" class=\"dataframe\">\n",
       "  <thead>\n",
       "    <tr style=\"text-align: right;\">\n",
       "      <th></th>\n",
       "      <th>imdbID</th>\n",
       "      <th>Opening</th>\n",
       "    </tr>\n",
       "  </thead>\n",
       "  <tbody>\n",
       "    <tr>\n",
       "      <th>0</th>\n",
       "      <td>tt2582802</td>\n",
       "      <td>135388.0</td>\n",
       "    </tr>\n",
       "    <tr>\n",
       "      <th>1</th>\n",
       "      <td>tt0047478</td>\n",
       "      <td>21830.0</td>\n",
       "    </tr>\n",
       "    <tr>\n",
       "      <th>2</th>\n",
       "      <td>tt0082971</td>\n",
       "      <td>1673731.0</td>\n",
       "    </tr>\n",
       "  </tbody>\n",
       "</table>\n",
       "</div>"
      ],
      "text/plain": [
       "      imdbID    Opening\n",
       "0  tt2582802   135388.0\n",
       "1  tt0047478    21830.0\n",
       "2  tt0082971  1673731.0"
      ]
     },
     "execution_count": 14,
     "metadata": {},
     "output_type": "execute_result"
    }
   ],
   "source": [
    "df2 = pd.DataFrame(opening, columns=['imdbID', 'Opening'])\n",
    "df2.head(3)"
   ]
  },
  {
   "cell_type": "code",
   "execution_count": 15,
   "metadata": {
    "ExecuteTime": {
     "end_time": "2016-11-08T08:37:02.272181",
     "start_time": "2016-11-08T08:37:02.261823"
    },
    "collapsed": true,
    "hidden": true
   },
   "outputs": [],
   "source": [
    "def get_budget(entry):\n",
    "    response = requests.get('http://www.imdb.com/title/' + entry)\n",
    "    html = response.text\n",
    "    try:\n",
    "        budget_list = re.findall(\"Budget:</h4>[ ]*\\$([^ ]*)\", html)\n",
    "        budget = int(budget_list[0].replace(',', ''))\n",
    "        print '.',\n",
    "        return budget\n",
    "    except Exception as ex:\n",
    "        print\n",
    "        print ex, entry, response.status_code\n",
    "        return None"
   ]
  },
  {
   "cell_type": "code",
   "execution_count": 16,
   "metadata": {
    "ExecuteTime": {
     "end_time": "2016-11-08T08:39:01.207063",
     "start_time": "2016-11-08T08:37:02.275820"
    },
    "collapsed": false,
    "hidden": true
   },
   "outputs": [
    {
     "name": "stdout",
     "output_type": "stream",
     "text": [
      ". . . .\n",
      "list index out of range tt0986264 200\n",
      ". .\n",
      "list index out of range tt0046268 200\n",
      "\n",
      "list index out of range tt0055630 200\n",
      ". . . . . . . . .\n",
      "list index out of range tt0363163 200\n",
      ".\n",
      "list index out of range tt1865505 200\n",
      ". . . . .\n",
      "list index out of range tt1187043 200\n",
      ". . . . . . . . . . . . . . . . . . . . . . .\n",
      "list index out of range tt0071853 200\n",
      ". .\n",
      "list index out of range tt0978762 200\n",
      "\n",
      "list index out of range tt0109117 200\n",
      ". . . . . . . . . . .\n",
      "list index out of range tt0476735 200\n",
      ".\n",
      "list index out of range tt0044741 200\n",
      ". . . .\n",
      "list index out of range tt0046438 200\n",
      ". . . . . . . .\n",
      "list index out of range tt0046911 200\n",
      ".\n",
      "list index out of range tt0050986 200\n",
      ".\n",
      "list index out of range tt0091251 200\n",
      ". . . . .\n",
      "list index out of range tt0113247 200\n",
      ". . . . . . . . . . .\n",
      "list index out of range tt0060827 200\n",
      ". .\n",
      "list index out of range tt0211915 200\n",
      ". . . . . . .\n",
      "list index out of range tt0053198 200\n",
      ". . . . . . . . . .\n",
      "list index out of range tt0041546 200\n",
      ". . . . . .\n",
      "list index out of range tt0092067 200\n",
      ". .\n",
      "list index out of range tt0120735 200\n",
      ".\n",
      "list index out of range tt1954470 200\n",
      "\n",
      "list index out of range tt0242519 200\n",
      ". .\n",
      "list index out of range tt0110413 200\n",
      ".\n",
      "list index out of range tt0119698 200\n",
      ". . . . . . . . .\n",
      "list index out of range tt0022100 200\n",
      ". . . .\n",
      "list index out of range tt0041959 200\n",
      ". . . . . . . . . . . . . . . .\n",
      "list index out of range tt0019254 200\n",
      ". . .\n",
      "list index out of range tt0050783 200\n",
      ". . . . . . . . . . . . .\n",
      "list index out of range tt0018455 200\n",
      "\n",
      "list index out of range tt1675434 200\n",
      ". . . . . . . . . .\n",
      "list index out of range tt0457430 200\n",
      ". . . .\n",
      "list index out of range tt0017136 200\n",
      ". . . . . . . .\n",
      "list index out of range tt0079944 200\n",
      ". . . . . . . . . . . . . . .\n",
      "list index out of range tt0056801 200\n",
      ". . . . . . . . .\n",
      "list index out of range tt0208092 200\n",
      ". .\n",
      "list index out of range tt0116231 200\n"
     ]
    }
   ],
   "source": [
    "budgets = [(e, get_budget(e)) for e in entries]"
   ]
  },
  {
   "cell_type": "code",
   "execution_count": 17,
   "metadata": {
    "ExecuteTime": {
     "end_time": "2016-11-08T08:39:01.227390",
     "start_time": "2016-11-08T08:39:01.209458"
    },
    "collapsed": false,
    "hidden": true
   },
   "outputs": [
    {
     "data": {
      "text/html": [
       "<div>\n",
       "<table border=\"1\" class=\"dataframe\">\n",
       "  <thead>\n",
       "    <tr style=\"text-align: right;\">\n",
       "      <th></th>\n",
       "      <th>imdbID</th>\n",
       "      <th>Budget</th>\n",
       "    </tr>\n",
       "  </thead>\n",
       "  <tbody>\n",
       "    <tr>\n",
       "      <th>0</th>\n",
       "      <td>tt2582802</td>\n",
       "      <td>3300000.0</td>\n",
       "    </tr>\n",
       "    <tr>\n",
       "      <th>1</th>\n",
       "      <td>tt0047478</td>\n",
       "      <td>2000000.0</td>\n",
       "    </tr>\n",
       "    <tr>\n",
       "      <th>2</th>\n",
       "      <td>tt0082971</td>\n",
       "      <td>18000000.0</td>\n",
       "    </tr>\n",
       "    <tr>\n",
       "      <th>3</th>\n",
       "      <td>tt0050212</td>\n",
       "      <td>3000000.0</td>\n",
       "    </tr>\n",
       "    <tr>\n",
       "      <th>4</th>\n",
       "      <td>tt0986264</td>\n",
       "      <td>NaN</td>\n",
       "    </tr>\n",
       "  </tbody>\n",
       "</table>\n",
       "</div>"
      ],
      "text/plain": [
       "      imdbID      Budget\n",
       "0  tt2582802   3300000.0\n",
       "1  tt0047478   2000000.0\n",
       "2  tt0082971  18000000.0\n",
       "3  tt0050212   3000000.0\n",
       "4  tt0986264         NaN"
      ]
     },
     "execution_count": 17,
     "metadata": {},
     "output_type": "execute_result"
    }
   ],
   "source": [
    "df3 = pd.DataFrame(budgets, columns=['imdbID', 'Budget'])\n",
    "df3.head()"
   ]
  },
  {
   "cell_type": "code",
   "execution_count": 18,
   "metadata": {
    "ExecuteTime": {
     "end_time": "2016-11-08T08:39:01.236699",
     "start_time": "2016-11-08T08:39:01.229538"
    },
    "collapsed": false,
    "hidden": true
   },
   "outputs": [
    {
     "name": "stdout",
     "output_type": "stream",
     "text": [
      "Index([u'imdbID', u'Gross'], dtype='object')\n",
      "Index([u'imdbID', u'Opening'], dtype='object')\n",
      "Index([u'imdbID', u'Budget'], dtype='object')\n"
     ]
    }
   ],
   "source": [
    "print df1.columns\n",
    "print df2.columns\n",
    "print df3.columns"
   ]
  },
  {
   "cell_type": "code",
   "execution_count": 19,
   "metadata": {
    "ExecuteTime": {
     "end_time": "2016-11-08T08:39:01.245810",
     "start_time": "2016-11-08T08:39:01.240401"
    },
    "collapsed": true,
    "hidden": true
   },
   "outputs": [],
   "source": [
    "df_gross = df1.copy()\n",
    "df_opening = df2.copy()\n",
    "df_budget = df3.copy()"
   ]
  },
  {
   "cell_type": "code",
   "execution_count": 20,
   "metadata": {
    "ExecuteTime": {
     "end_time": "2016-11-08T08:39:01.256597",
     "start_time": "2016-11-08T08:39:01.248699"
    },
    "collapsed": false,
    "hidden": true
   },
   "outputs": [
    {
     "name": "stdout",
     "output_type": "stream",
     "text": [
      "Index([u'imdbID', u'Gross'], dtype='object') (250, 2)\n",
      "Index([u'imdbID', u'Opening'], dtype='object') (250, 2)\n",
      "Index([u'imdbID', u'Budget'], dtype='object') (250, 2)\n"
     ]
    }
   ],
   "source": [
    "print df_gross.columns, df_gross.shape\n",
    "print df_opening.columns, df_opening.shape\n",
    "print df_budget.columns, df_opening.shape"
   ]
  },
  {
   "cell_type": "markdown",
   "metadata": {
    "hidden": true
   },
   "source": [
    "### Merge all dataframes into 1 master df"
   ]
  },
  {
   "cell_type": "code",
   "execution_count": 21,
   "metadata": {
    "ExecuteTime": {
     "end_time": "2016-11-08T08:39:01.312740",
     "start_time": "2016-11-08T08:39:01.259433"
    },
    "collapsed": false,
    "hidden": true
   },
   "outputs": [
    {
     "data": {
      "text/html": [
       "<div>\n",
       "<table border=\"1\" class=\"dataframe\">\n",
       "  <thead>\n",
       "    <tr style=\"text-align: right;\">\n",
       "      <th></th>\n",
       "      <th>imdbID</th>\n",
       "      <th>Gross</th>\n",
       "      <th>Opening</th>\n",
       "      <th>Budget</th>\n",
       "    </tr>\n",
       "  </thead>\n",
       "  <tbody>\n",
       "    <tr>\n",
       "      <th>0</th>\n",
       "      <td>tt2582802</td>\n",
       "      <td>13092000.0</td>\n",
       "      <td>135388.0</td>\n",
       "      <td>3300000.0</td>\n",
       "    </tr>\n",
       "    <tr>\n",
       "      <th>1</th>\n",
       "      <td>tt0047478</td>\n",
       "      <td>269061.0</td>\n",
       "      <td>21830.0</td>\n",
       "      <td>2000000.0</td>\n",
       "    </tr>\n",
       "    <tr>\n",
       "      <th>2</th>\n",
       "      <td>tt0082971</td>\n",
       "      <td>242374454.0</td>\n",
       "      <td>1673731.0</td>\n",
       "      <td>18000000.0</td>\n",
       "    </tr>\n",
       "  </tbody>\n",
       "</table>\n",
       "</div>"
      ],
      "text/plain": [
       "      imdbID        Gross    Opening      Budget\n",
       "0  tt2582802   13092000.0   135388.0   3300000.0\n",
       "1  tt0047478     269061.0    21830.0   2000000.0\n",
       "2  tt0082971  242374454.0  1673731.0  18000000.0"
      ]
     },
     "execution_count": 21,
     "metadata": {},
     "output_type": "execute_result"
    }
   ],
   "source": [
    "# Merge gross, opening and budget dfs\n",
    "df_imdb = pd.merge(df_gross, df_opening, on=\"imdbID\")\n",
    "df_imdb = pd.merge(df_imdb, df_budget, on=\"imdbID\")\n",
    "df_imdb.head(3)"
   ]
  },
  {
   "cell_type": "code",
   "execution_count": 22,
   "metadata": {
    "ExecuteTime": {
     "end_time": "2016-11-08T08:39:01.398161",
     "start_time": "2016-11-08T08:39:01.320796"
    },
    "collapsed": false,
    "hidden": true
   },
   "outputs": [
    {
     "name": "stdout",
     "output_type": "stream",
     "text": [
      "(250, 38)\n"
     ]
    },
    {
     "data": {
      "text/html": [
       "<div>\n",
       "<table border=\"1\" class=\"dataframe\">\n",
       "  <thead>\n",
       "    <tr style=\"text-align: right;\">\n",
       "      <th></th>\n",
       "      <th>Actors</th>\n",
       "      <th>Awards</th>\n",
       "      <th>BoxOffice</th>\n",
       "      <th>Country</th>\n",
       "      <th>DVD</th>\n",
       "      <th>Director</th>\n",
       "      <th>Genre</th>\n",
       "      <th>Language</th>\n",
       "      <th>Metascore</th>\n",
       "      <th>Plot</th>\n",
       "      <th>...</th>\n",
       "      <th>tomatoRating</th>\n",
       "      <th>tomatoReviews</th>\n",
       "      <th>tomatoRotten</th>\n",
       "      <th>tomatoURL</th>\n",
       "      <th>tomatoUserMeter</th>\n",
       "      <th>tomatoUserRating</th>\n",
       "      <th>tomatoUserReviews</th>\n",
       "      <th>Gross</th>\n",
       "      <th>Opening</th>\n",
       "      <th>Budget</th>\n",
       "    </tr>\n",
       "  </thead>\n",
       "  <tbody>\n",
       "    <tr>\n",
       "      <th>0</th>\n",
       "      <td>Miles Teller, J.K. Simmons, Paul Reiser, Melis...</td>\n",
       "      <td>Won 3 Oscars. Another 87 wins &amp; 131 nominations.</td>\n",
       "      <td>N/A</td>\n",
       "      <td>USA</td>\n",
       "      <td>24 Feb 2015</td>\n",
       "      <td>Damien Chazelle</td>\n",
       "      <td>Drama, Music</td>\n",
       "      <td>English</td>\n",
       "      <td>88</td>\n",
       "      <td>A promising young drummer enrolls at a cut-thr...</td>\n",
       "      <td>...</td>\n",
       "      <td>8.6</td>\n",
       "      <td>261</td>\n",
       "      <td>15</td>\n",
       "      <td>http://www.rottentomatoes.com/m/whiplash_2014/</td>\n",
       "      <td>94</td>\n",
       "      <td>4.5</td>\n",
       "      <td>66092</td>\n",
       "      <td>13092000.0</td>\n",
       "      <td>135388.0</td>\n",
       "      <td>3300000.0</td>\n",
       "    </tr>\n",
       "    <tr>\n",
       "      <th>1</th>\n",
       "      <td>Toshirô Mifune, Takashi Shimura, Keiko Tsushim...</td>\n",
       "      <td>Nominated for 2 Oscars. Another 5 wins &amp; 6 nom...</td>\n",
       "      <td>N/A</td>\n",
       "      <td>Japan</td>\n",
       "      <td>01 Mar 1999</td>\n",
       "      <td>Akira Kurosawa</td>\n",
       "      <td>Action, Adventure, Drama</td>\n",
       "      <td>Japanese</td>\n",
       "      <td>98</td>\n",
       "      <td>A veteran samurai, who has fallen on hard time...</td>\n",
       "      <td>...</td>\n",
       "      <td>9.3</td>\n",
       "      <td>57</td>\n",
       "      <td>0</td>\n",
       "      <td>http://www.rottentomatoes.com/m/1018639-seven_...</td>\n",
       "      <td>97</td>\n",
       "      <td>4.5</td>\n",
       "      <td>89264</td>\n",
       "      <td>269061.0</td>\n",
       "      <td>21830.0</td>\n",
       "      <td>2000000.0</td>\n",
       "    </tr>\n",
       "    <tr>\n",
       "      <th>2</th>\n",
       "      <td>Harrison Ford, Karen Allen, Paul Freeman, Rona...</td>\n",
       "      <td>Won 4 Oscars. Another 30 wins &amp; 23 nominations.</td>\n",
       "      <td>N/A</td>\n",
       "      <td>USA</td>\n",
       "      <td>21 Oct 2003</td>\n",
       "      <td>Steven Spielberg</td>\n",
       "      <td>Action, Adventure</td>\n",
       "      <td>English, German, Hebrew, Spanish, Arabic, Nepali</td>\n",
       "      <td>85</td>\n",
       "      <td>The year is 1936. An archeology professor name...</td>\n",
       "      <td>...</td>\n",
       "      <td>9.2</td>\n",
       "      <td>71</td>\n",
       "      <td>4</td>\n",
       "      <td>http://www.rottentomatoes.com/m/raiders_of_the...</td>\n",
       "      <td>96</td>\n",
       "      <td>4.1</td>\n",
       "      <td>823404</td>\n",
       "      <td>242374454.0</td>\n",
       "      <td>1673731.0</td>\n",
       "      <td>18000000.0</td>\n",
       "    </tr>\n",
       "  </tbody>\n",
       "</table>\n",
       "<p>3 rows × 38 columns</p>\n",
       "</div>"
      ],
      "text/plain": [
       "                                              Actors  \\\n",
       "0  Miles Teller, J.K. Simmons, Paul Reiser, Melis...   \n",
       "1  Toshirô Mifune, Takashi Shimura, Keiko Tsushim...   \n",
       "2  Harrison Ford, Karen Allen, Paul Freeman, Rona...   \n",
       "\n",
       "                                              Awards BoxOffice Country  \\\n",
       "0   Won 3 Oscars. Another 87 wins & 131 nominations.       N/A     USA   \n",
       "1  Nominated for 2 Oscars. Another 5 wins & 6 nom...       N/A   Japan   \n",
       "2    Won 4 Oscars. Another 30 wins & 23 nominations.       N/A     USA   \n",
       "\n",
       "           DVD          Director                     Genre  \\\n",
       "0  24 Feb 2015   Damien Chazelle              Drama, Music   \n",
       "1  01 Mar 1999    Akira Kurosawa  Action, Adventure, Drama   \n",
       "2  21 Oct 2003  Steven Spielberg         Action, Adventure   \n",
       "\n",
       "                                           Language Metascore  \\\n",
       "0                                           English        88   \n",
       "1                                          Japanese        98   \n",
       "2  English, German, Hebrew, Spanish, Arabic, Nepali        85   \n",
       "\n",
       "                                                Plot     ...     tomatoRating  \\\n",
       "0  A promising young drummer enrolls at a cut-thr...     ...              8.6   \n",
       "1  A veteran samurai, who has fallen on hard time...     ...              9.3   \n",
       "2  The year is 1936. An archeology professor name...     ...              9.2   \n",
       "\n",
       "  tomatoReviews tomatoRotten  \\\n",
       "0           261           15   \n",
       "1            57            0   \n",
       "2            71            4   \n",
       "\n",
       "                                           tomatoURL tomatoUserMeter  \\\n",
       "0     http://www.rottentomatoes.com/m/whiplash_2014/              94   \n",
       "1  http://www.rottentomatoes.com/m/1018639-seven_...              97   \n",
       "2  http://www.rottentomatoes.com/m/raiders_of_the...              96   \n",
       "\n",
       "  tomatoUserRating tomatoUserReviews        Gross    Opening      Budget  \n",
       "0              4.5             66092   13092000.0   135388.0   3300000.0  \n",
       "1              4.5             89264     269061.0    21830.0   2000000.0  \n",
       "2              4.1            823404  242374454.0  1673731.0  18000000.0  \n",
       "\n",
       "[3 rows x 38 columns]"
      ]
     },
     "execution_count": 22,
     "metadata": {},
     "output_type": "execute_result"
    }
   ],
   "source": [
    "# Merge original df (from omdbapi) with df_imdb\n",
    "df = pd.merge(df, df_imdb)\n",
    "print df.shape\n",
    "df.head(3)"
   ]
  },
  {
   "cell_type": "code",
   "execution_count": null,
   "metadata": {
    "ExecuteTime": {
     "end_time": "2016-11-07T09:33:30.308177",
     "start_time": "2016-11-07T09:33:30.300213"
    },
    "collapsed": false,
    "hidden": true
   },
   "outputs": [],
   "source": [
    "#################\n",
    "#################\n",
    "\n",
    "# Copy of merged raw dfs without dropping/rearranging columns or cleaning\n",
    "#dfc1 = df.copy()\n",
    "\n",
    "#################\n",
    "#################"
   ]
  },
  {
   "cell_type": "code",
   "execution_count": null,
   "metadata": {
    "ExecuteTime": {
     "end_time": "2016-11-06T15:38:14.416277",
     "start_time": "2016-11-06T20:28:25.957Z"
    },
    "collapsed": true,
    "hidden": true
   },
   "outputs": [],
   "source": [
    "#df.to_csv('film_df_v6.csv', sep=',', encoding='utf-8')"
   ]
  },
  {
   "cell_type": "markdown",
   "metadata": {
    "hidden": true
   },
   "source": [
    "### Reorder and drop columns"
   ]
  },
  {
   "cell_type": "code",
   "execution_count": 23,
   "metadata": {
    "ExecuteTime": {
     "end_time": "2016-11-08T08:39:01.407065",
     "start_time": "2016-11-08T08:39:01.399996"
    },
    "collapsed": false,
    "hidden": true
   },
   "outputs": [
    {
     "data": {
      "text/plain": [
       "array(['Actors', 'Awards', 'BoxOffice', 'Country', 'DVD', 'Director',\n",
       "       'Genre', 'Language', 'Metascore', 'Plot', 'Poster', 'Production',\n",
       "       'Rated', 'Released', 'Response', 'Runtime', 'Title', 'Type',\n",
       "       'Website', 'Writer', 'Year', 'imdbID', 'imdbRating', 'imdbVotes',\n",
       "       'tomatoConsensus', 'tomatoFresh', 'tomatoImage', 'tomatoMeter',\n",
       "       'tomatoRating', 'tomatoReviews', 'tomatoRotten', 'tomatoURL',\n",
       "       'tomatoUserMeter', 'tomatoUserRating', 'tomatoUserReviews', 'Gross',\n",
       "       'Opening', 'Budget'], dtype=object)"
      ]
     },
     "execution_count": 23,
     "metadata": {},
     "output_type": "execute_result"
    }
   ],
   "source": [
    "df.columns = [i.encode(\"utf-8\") for i in df.columns]\n",
    "df.columns.values"
   ]
  },
  {
   "cell_type": "code",
   "execution_count": 24,
   "metadata": {
    "ExecuteTime": {
     "end_time": "2016-11-08T08:39:01.424564",
     "start_time": "2016-11-08T08:39:01.409199"
    },
    "collapsed": false,
    "hidden": true
   },
   "outputs": [
    {
     "name": "stdout",
     "output_type": "stream",
     "text": [
      "38\n",
      "38\n"
     ]
    }
   ],
   "source": [
    "original_cols = df.columns.values\n",
    "cols_list = [\n",
    "    'imdbID', 'Title', \n",
    "    'BoxOffice', 'Gross', 'Opening', 'Budget', \n",
    "    'Year', 'Released', \n",
    "    'Metascore', 'imdbRating', 'imdbVotes',\n",
    "    'tomatoMeter', 'tomatoRating', 'tomatoReviews', \n",
    "    'tomatoUserMeter', 'tomatoUserRating', 'tomatoUserReviews', \n",
    "    'tomatoFresh', 'tomatoRotten',\n",
    "    'Awards', 'Actors', 'Director', 'Writer', 'Production',  \n",
    "    'Country', 'Language', 'Genre', 'Rated', 'Runtime', 'Plot', \n",
    "    'tomatoConsensus', 'tomatoImage',  'tomatoURL',\n",
    "    'Website',  'DVD',  'Poster', 'Type', 'Response']\n",
    "\n",
    "# columns to delete:\n",
    "# ['tomatoConsensus', 'tomatoImage',  'tomatoURL', 'Response',\n",
    "# 'Type', 'Poster', 'Website', 'DVD']\n",
    "\n",
    "print len(original_cols)\n",
    "print len(cols_list)"
   ]
  },
  {
   "cell_type": "code",
   "execution_count": 25,
   "metadata": {
    "ExecuteTime": {
     "end_time": "2016-11-08T08:39:01.437005",
     "start_time": "2016-11-08T08:39:01.426632"
    },
    "collapsed": false,
    "hidden": true
   },
   "outputs": [
    {
     "name": "stdout",
     "output_type": "stream",
     "text": [
      "movie    250\n",
      "Name: Type, dtype: int64\n",
      "True    250\n",
      "Name: Response, dtype: int64\n"
     ]
    }
   ],
   "source": [
    "print df['Type'].value_counts()\n",
    "print df['Response'].value_counts()"
   ]
  },
  {
   "cell_type": "code",
   "execution_count": 26,
   "metadata": {
    "ExecuteTime": {
     "end_time": "2016-11-08T08:39:01.521881",
     "start_time": "2016-11-08T08:39:01.440057"
    },
    "collapsed": false,
    "hidden": true
   },
   "outputs": [
    {
     "name": "stdout",
     "output_type": "stream",
     "text": [
      "(250, 38)\n",
      "['imdbID' 'Title' 'BoxOffice' 'Gross' 'Opening' 'Budget' 'Year' 'Released'\n",
      " 'Metascore' 'imdbRating' 'imdbVotes' 'tomatoMeter' 'tomatoRating'\n",
      " 'tomatoReviews' 'tomatoUserMeter' 'tomatoUserRating' 'tomatoUserReviews'\n",
      " 'tomatoFresh' 'tomatoRotten' 'Awards' 'Actors' 'Director' 'Writer'\n",
      " 'Production' 'Country' 'Language' 'Genre' 'Rated' 'Runtime' 'Plot'\n",
      " 'tomatoConsensus' 'tomatoImage' 'tomatoURL' 'Website' 'DVD' 'Poster'\n",
      " 'Type' 'Response']\n"
     ]
    },
    {
     "data": {
      "text/html": [
       "<div>\n",
       "<table border=\"1\" class=\"dataframe\">\n",
       "  <thead>\n",
       "    <tr style=\"text-align: right;\">\n",
       "      <th></th>\n",
       "      <th>imdbID</th>\n",
       "      <th>Title</th>\n",
       "      <th>BoxOffice</th>\n",
       "      <th>Gross</th>\n",
       "      <th>Opening</th>\n",
       "      <th>Budget</th>\n",
       "      <th>Year</th>\n",
       "      <th>Released</th>\n",
       "      <th>Metascore</th>\n",
       "      <th>imdbRating</th>\n",
       "      <th>...</th>\n",
       "      <th>Runtime</th>\n",
       "      <th>Plot</th>\n",
       "      <th>tomatoConsensus</th>\n",
       "      <th>tomatoImage</th>\n",
       "      <th>tomatoURL</th>\n",
       "      <th>Website</th>\n",
       "      <th>DVD</th>\n",
       "      <th>Poster</th>\n",
       "      <th>Type</th>\n",
       "      <th>Response</th>\n",
       "    </tr>\n",
       "  </thead>\n",
       "  <tbody>\n",
       "    <tr>\n",
       "      <th>0</th>\n",
       "      <td>tt2582802</td>\n",
       "      <td>Whiplash</td>\n",
       "      <td>N/A</td>\n",
       "      <td>13092000.0</td>\n",
       "      <td>135388.0</td>\n",
       "      <td>3300000.0</td>\n",
       "      <td>2014</td>\n",
       "      <td>15 Oct 2014</td>\n",
       "      <td>88</td>\n",
       "      <td>8.5</td>\n",
       "      <td>...</td>\n",
       "      <td>107 min</td>\n",
       "      <td>A promising young drummer enrolls at a cut-thr...</td>\n",
       "      <td>Intense, inspiring, and well-acted, Whiplash i...</td>\n",
       "      <td>certified</td>\n",
       "      <td>http://www.rottentomatoes.com/m/whiplash_2014/</td>\n",
       "      <td>http://sonyclassics.com/whiplash/</td>\n",
       "      <td>24 Feb 2015</td>\n",
       "      <td>https://images-na.ssl-images-amazon.com/images...</td>\n",
       "      <td>movie</td>\n",
       "      <td>True</td>\n",
       "    </tr>\n",
       "  </tbody>\n",
       "</table>\n",
       "<p>1 rows × 38 columns</p>\n",
       "</div>"
      ],
      "text/plain": [
       "      imdbID     Title BoxOffice       Gross   Opening     Budget  Year  \\\n",
       "0  tt2582802  Whiplash       N/A  13092000.0  135388.0  3300000.0  2014   \n",
       "\n",
       "      Released Metascore imdbRating   ...     Runtime  \\\n",
       "0  15 Oct 2014        88        8.5   ...     107 min   \n",
       "\n",
       "                                                Plot  \\\n",
       "0  A promising young drummer enrolls at a cut-thr...   \n",
       "\n",
       "                                     tomatoConsensus tomatoImage  \\\n",
       "0  Intense, inspiring, and well-acted, Whiplash i...   certified   \n",
       "\n",
       "                                        tomatoURL  \\\n",
       "0  http://www.rottentomatoes.com/m/whiplash_2014/   \n",
       "\n",
       "                             Website          DVD  \\\n",
       "0  http://sonyclassics.com/whiplash/  24 Feb 2015   \n",
       "\n",
       "                                              Poster   Type Response  \n",
       "0  https://images-na.ssl-images-amazon.com/images...  movie     True  \n",
       "\n",
       "[1 rows x 38 columns]"
      ]
     },
     "execution_count": 26,
     "metadata": {},
     "output_type": "execute_result"
    }
   ],
   "source": [
    "# Reindex column order\n",
    "df = df.reindex(columns=cols_list)\n",
    "print df.shape\n",
    "print df.columns.values\n",
    "df.head(1)"
   ]
  },
  {
   "cell_type": "code",
   "execution_count": 27,
   "metadata": {
    "ExecuteTime": {
     "end_time": "2016-11-08T08:39:01.528936",
     "start_time": "2016-11-08T08:39:01.525282"
    },
    "collapsed": true,
    "hidden": true
   },
   "outputs": [],
   "source": [
    "cols_to_delete = ['tomatoConsensus', 'tomatoImage',  'tomatoURL', 'Response',\n",
    "                  'Type', 'Poster', 'Website', 'DVD']"
   ]
  },
  {
   "cell_type": "code",
   "execution_count": 28,
   "metadata": {
    "ExecuteTime": {
     "end_time": "2016-11-08T08:39:01.596732",
     "start_time": "2016-11-08T08:39:01.531901"
    },
    "collapsed": false,
    "hidden": true
   },
   "outputs": [
    {
     "name": "stdout",
     "output_type": "stream",
     "text": [
      "(250, 30)\n"
     ]
    },
    {
     "data": {
      "text/html": [
       "<div>\n",
       "<table border=\"1\" class=\"dataframe\">\n",
       "  <thead>\n",
       "    <tr style=\"text-align: right;\">\n",
       "      <th></th>\n",
       "      <th>imdbID</th>\n",
       "      <th>Title</th>\n",
       "      <th>BoxOffice</th>\n",
       "      <th>Gross</th>\n",
       "      <th>Opening</th>\n",
       "      <th>Budget</th>\n",
       "      <th>Year</th>\n",
       "      <th>Released</th>\n",
       "      <th>Metascore</th>\n",
       "      <th>imdbRating</th>\n",
       "      <th>...</th>\n",
       "      <th>Actors</th>\n",
       "      <th>Director</th>\n",
       "      <th>Writer</th>\n",
       "      <th>Production</th>\n",
       "      <th>Country</th>\n",
       "      <th>Language</th>\n",
       "      <th>Genre</th>\n",
       "      <th>Rated</th>\n",
       "      <th>Runtime</th>\n",
       "      <th>Plot</th>\n",
       "    </tr>\n",
       "  </thead>\n",
       "  <tbody>\n",
       "    <tr>\n",
       "      <th>0</th>\n",
       "      <td>tt2582802</td>\n",
       "      <td>Whiplash</td>\n",
       "      <td>N/A</td>\n",
       "      <td>13092000.0</td>\n",
       "      <td>135388.0</td>\n",
       "      <td>3300000.0</td>\n",
       "      <td>2014</td>\n",
       "      <td>15 Oct 2014</td>\n",
       "      <td>88</td>\n",
       "      <td>8.5</td>\n",
       "      <td>...</td>\n",
       "      <td>Miles Teller, J.K. Simmons, Paul Reiser, Melis...</td>\n",
       "      <td>Damien Chazelle</td>\n",
       "      <td>Damien Chazelle</td>\n",
       "      <td>Sony Pictures Classics</td>\n",
       "      <td>USA</td>\n",
       "      <td>English</td>\n",
       "      <td>Drama, Music</td>\n",
       "      <td>R</td>\n",
       "      <td>107 min</td>\n",
       "      <td>A promising young drummer enrolls at a cut-thr...</td>\n",
       "    </tr>\n",
       "    <tr>\n",
       "      <th>1</th>\n",
       "      <td>tt0047478</td>\n",
       "      <td>Seven Samurai</td>\n",
       "      <td>N/A</td>\n",
       "      <td>269061.0</td>\n",
       "      <td>21830.0</td>\n",
       "      <td>2000000.0</td>\n",
       "      <td>1954</td>\n",
       "      <td>19 Nov 1956</td>\n",
       "      <td>98</td>\n",
       "      <td>8.7</td>\n",
       "      <td>...</td>\n",
       "      <td>Toshirô Mifune, Takashi Shimura, Keiko Tsushim...</td>\n",
       "      <td>Akira Kurosawa</td>\n",
       "      <td>Akira Kurosawa (screenplay), Shinobu Hashimoto...</td>\n",
       "      <td>Columbia Pictures</td>\n",
       "      <td>Japan</td>\n",
       "      <td>Japanese</td>\n",
       "      <td>Action, Adventure, Drama</td>\n",
       "      <td>UNRATED</td>\n",
       "      <td>207 min</td>\n",
       "      <td>A veteran samurai, who has fallen on hard time...</td>\n",
       "    </tr>\n",
       "  </tbody>\n",
       "</table>\n",
       "<p>2 rows × 30 columns</p>\n",
       "</div>"
      ],
      "text/plain": [
       "      imdbID          Title BoxOffice       Gross   Opening     Budget  Year  \\\n",
       "0  tt2582802       Whiplash       N/A  13092000.0  135388.0  3300000.0  2014   \n",
       "1  tt0047478  Seven Samurai       N/A    269061.0   21830.0  2000000.0  1954   \n",
       "\n",
       "      Released Metascore imdbRating  \\\n",
       "0  15 Oct 2014        88        8.5   \n",
       "1  19 Nov 1956        98        8.7   \n",
       "\n",
       "                         ...                          \\\n",
       "0                        ...                           \n",
       "1                        ...                           \n",
       "\n",
       "                                              Actors         Director  \\\n",
       "0  Miles Teller, J.K. Simmons, Paul Reiser, Melis...  Damien Chazelle   \n",
       "1  Toshirô Mifune, Takashi Shimura, Keiko Tsushim...   Akira Kurosawa   \n",
       "\n",
       "                                              Writer              Production  \\\n",
       "0                                    Damien Chazelle  Sony Pictures Classics   \n",
       "1  Akira Kurosawa (screenplay), Shinobu Hashimoto...       Columbia Pictures   \n",
       "\n",
       "  Country  Language                     Genre    Rated  Runtime  \\\n",
       "0     USA   English              Drama, Music        R  107 min   \n",
       "1   Japan  Japanese  Action, Adventure, Drama  UNRATED  207 min   \n",
       "\n",
       "                                                Plot  \n",
       "0  A promising young drummer enrolls at a cut-thr...  \n",
       "1  A veteran samurai, who has fallen on hard time...  \n",
       "\n",
       "[2 rows x 30 columns]"
      ]
     },
     "execution_count": 28,
     "metadata": {},
     "output_type": "execute_result"
    }
   ],
   "source": [
    "# Create final master df with only 30 columns\n",
    "df = df[['imdbID', 'Title', \n",
    "    'BoxOffice', 'Gross', 'Opening', 'Budget', \n",
    "    'Year', 'Released', \n",
    "    'Metascore', 'imdbRating', 'imdbVotes',\n",
    "    'tomatoMeter', 'tomatoRating', 'tomatoReviews', \n",
    "    'tomatoUserMeter', 'tomatoUserRating', 'tomatoUserReviews', \n",
    "    'tomatoFresh', 'tomatoRotten',\n",
    "    'Awards', 'Actors', 'Director', 'Writer', 'Production',  \n",
    "    'Country', 'Language', 'Genre', 'Rated', 'Runtime', 'Plot']]\n",
    "\n",
    "print df.shape\n",
    "df.head(2)"
   ]
  },
  {
   "cell_type": "code",
   "execution_count": null,
   "metadata": {
    "ExecuteTime": {
     "end_time": "2016-11-07T09:37:09.238796",
     "start_time": "2016-11-07T09:37:09.234820"
    },
    "collapsed": false,
    "hidden": true
   },
   "outputs": [],
   "source": [
    "#######################\n",
    "#######################\n",
    "\n",
    "# Copy of merged df with columns cleaned\n",
    "#dfc2 = df.copy()\n",
    "\n",
    "#######################\n",
    "#######################"
   ]
  },
  {
   "cell_type": "code",
   "execution_count": null,
   "metadata": {
    "ExecuteTime": {
     "end_time": "2016-11-06T09:52:43.052685",
     "start_time": "2016-11-06T09:52:43.000385"
    },
    "collapsed": true,
    "hidden": true
   },
   "outputs": [],
   "source": [
    "#df.to_csv('film_df_v6_2.csv', sep=',', encoding='utf-8')"
   ]
  },
  {
   "cell_type": "markdown",
   "metadata": {
    "heading_collapsed": true
   },
   "source": [
    "## Data Cleaning / Munging"
   ]
  },
  {
   "cell_type": "markdown",
   "metadata": {
    "heading_collapsed": true,
    "hidden": true
   },
   "source": [
    "### Converting dtypes"
   ]
  },
  {
   "cell_type": "code",
   "execution_count": null,
   "metadata": {
    "ExecuteTime": {
     "end_time": "2016-11-06T09:54:01.621570",
     "start_time": "2016-11-06T09:54:01.584912"
    },
    "collapsed": false,
    "hidden": true
   },
   "outputs": [],
   "source": [
    "df.info()"
   ]
  },
  {
   "cell_type": "markdown",
   "metadata": {
    "hidden": true
   },
   "source": [
    "### Convert numeric dtypes (floats and int)"
   ]
  },
  {
   "cell_type": "code",
   "execution_count": 29,
   "metadata": {
    "ExecuteTime": {
     "end_time": "2016-11-08T08:39:01.658140",
     "start_time": "2016-11-08T08:39:01.599839"
    },
    "collapsed": false,
    "hidden": true
   },
   "outputs": [],
   "source": [
    "# Convert Metascore to float with np.nan for N/A\n",
    "df['Metascore'] = df['Metascore'].apply(lambda x: np.nan if x == 'N/A' else x)\n",
    "df['Metascore'] = df['Metascore'].astype(float)"
   ]
  },
  {
   "cell_type": "code",
   "execution_count": 30,
   "metadata": {
    "ExecuteTime": {
     "end_time": "2016-11-08T08:39:01.679826",
     "start_time": "2016-11-08T08:39:01.673400"
    },
    "collapsed": false,
    "hidden": true
   },
   "outputs": [],
   "source": [
    "# Convert imdbRating to float\n",
    "df['imdbRating'] = df['imdbRating'].astype(float)"
   ]
  },
  {
   "cell_type": "code",
   "execution_count": 31,
   "metadata": {
    "ExecuteTime": {
     "end_time": "2016-11-08T08:39:01.691324",
     "start_time": "2016-11-08T08:39:01.682663"
    },
    "collapsed": true,
    "hidden": true
   },
   "outputs": [],
   "source": [
    "# Convert imdbVotes to int\n",
    "df['imdbVotes'] = df['imdbVotes'].apply(lambda x: x.replace(',', ''))\n",
    "df['imdbVotes'] = df['imdbVotes'].astype(int)"
   ]
  },
  {
   "cell_type": "code",
   "execution_count": 32,
   "metadata": {
    "ExecuteTime": {
     "end_time": "2016-11-08T08:39:01.748442",
     "start_time": "2016-11-08T08:39:01.695160"
    },
    "collapsed": false,
    "hidden": true
   },
   "outputs": [
    {
     "data": {
      "text/plain": [
       "0      4.5\n",
       "1      4.5\n",
       "2      4.1\n",
       "3      4.0\n",
       "4      4.6\n",
       "5      4.1\n",
       "6      4.2\n",
       "7      4.4\n",
       "8      4.4\n",
       "9      3.8\n",
       "10     4.2\n",
       "11     3.8\n",
       "12     4.1\n",
       "13     3.8\n",
       "14     NaN\n",
       "15     4.1\n",
       "16     4.2\n",
       "17     3.7\n",
       "18     NaN\n",
       "19     3.9\n",
       "20     4.3\n",
       "21     4.3\n",
       "22     4.3\n",
       "23     4.1\n",
       "24     4.4\n",
       "25     3.8\n",
       "26     4.4\n",
       "27     4.2\n",
       "28     3.9\n",
       "29     4.1\n",
       "      ... \n",
       "220    4.4\n",
       "221    4.1\n",
       "222    4.2\n",
       "223    4.1\n",
       "224    4.3\n",
       "225    3.5\n",
       "226    3.8\n",
       "227    4.1\n",
       "228    4.2\n",
       "229    3.9\n",
       "230    4.1\n",
       "231    4.2\n",
       "232    4.0\n",
       "233    4.0\n",
       "234    4.1\n",
       "235    3.8\n",
       "236    4.3\n",
       "237    4.0\n",
       "238    3.9\n",
       "239    4.0\n",
       "240    4.2\n",
       "241    4.1\n",
       "242    4.0\n",
       "243    4.1\n",
       "244    4.2\n",
       "245    4.1\n",
       "246    4.0\n",
       "247    4.3\n",
       "248    4.1\n",
       "249    4.5\n",
       "Name: tomatoUserRating, dtype: float64"
      ]
     },
     "execution_count": 32,
     "metadata": {},
     "output_type": "execute_result"
    }
   ],
   "source": [
    "# Convert all tomato columns to int\n",
    "tomato_list = ['tomatoMeter', 'tomatoReviews', 'tomatoUserMeter', 'tomatoUserReviews',\n",
    "           'tomatoFresh', 'tomatoRotten', 'tomatoRating', 'tomatoUserRating']\n",
    "\n",
    "def convert_num(some_list):\n",
    "    for i in some_list:\n",
    "        df[i] = df[i].apply(lambda x: np.nan if x == 'N/A' else x)\n",
    "        df[i] = df[i].astype(float)\n",
    "    return df[i]\n",
    "\n",
    "convert_num(tomato_list)"
   ]
  },
  {
   "cell_type": "markdown",
   "metadata": {
    "hidden": true
   },
   "source": [
    "### Convert datetime-related columns (Year, Released and Runtime)"
   ]
  },
  {
   "cell_type": "code",
   "execution_count": 33,
   "metadata": {
    "ExecuteTime": {
     "end_time": "2016-11-08T08:39:01.756052",
     "start_time": "2016-11-08T08:39:01.750832"
    },
    "collapsed": true,
    "hidden": true
   },
   "outputs": [],
   "source": [
    "# Convert Year to int\n",
    "df['Year'] = df['Year'].astype(int)"
   ]
  },
  {
   "cell_type": "code",
   "execution_count": null,
   "metadata": {
    "ExecuteTime": {
     "end_time": "2016-11-07T09:21:22.675900",
     "start_time": "2016-11-07T09:21:22.669892"
    },
    "collapsed": false,
    "hidden": true
   },
   "outputs": [],
   "source": [
    "df.columns"
   ]
  },
  {
   "cell_type": "code",
   "execution_count": null,
   "metadata": {
    "ExecuteTime": {
     "end_time": "2016-11-08T08:39:01.770088",
     "start_time": "2016-11-08T08:39:01.758658"
    },
    "collapsed": true,
    "hidden": true
   },
   "outputs": [],
   "source": [
    "df['Released'].value_counts()"
   ]
  },
  {
   "cell_type": "code",
   "execution_count": 35,
   "metadata": {
    "ExecuteTime": {
     "end_time": "2016-11-08T08:39:01.779120",
     "start_time": "2016-11-08T08:39:01.774068"
    },
    "collapsed": true,
    "hidden": true
   },
   "outputs": [],
   "source": [
    "# Extract month from release date\n",
    "df['Month'] = [x[3:6] for x in df['Released']]"
   ]
  },
  {
   "cell_type": "code",
   "execution_count": 36,
   "metadata": {
    "ExecuteTime": {
     "end_time": "2016-11-08T08:39:01.817900",
     "start_time": "2016-11-08T08:39:01.781238"
    },
    "collapsed": false,
    "hidden": true
   },
   "outputs": [
    {
     "data": {
      "text/plain": [
       "0   2014-10-15\n",
       "1   1956-11-19\n",
       "2   1981-06-12\n",
       "Name: Released, dtype: datetime64[ns]"
      ]
     },
     "execution_count": 36,
     "metadata": {},
     "output_type": "execute_result"
    }
   ],
   "source": [
    "# Convert Release to datetime\n",
    "\n",
    "# Only N/A value is Charlie Chaplin's The Gold Rush\n",
    "df['Released'] = ['1925-06-25' if i=='N/A' else datetime.strptime(str(i), '%d %b %Y') \\\n",
    "                 for i in df['Released']]\n",
    "df['Released'].head(3)"
   ]
  },
  {
   "cell_type": "code",
   "execution_count": 37,
   "metadata": {
    "ExecuteTime": {
     "end_time": "2016-11-08T08:39:01.866650",
     "start_time": "2016-11-08T08:39:01.822783"
    },
    "code_folding": [],
    "collapsed": false,
    "hidden": true
   },
   "outputs": [
    {
     "data": {
      "text/plain": [
       "Winter     83\n",
       "Fall       59\n",
       "Summer     58\n",
       "Holiday    50\n",
       "Name: Season, dtype: int64"
      ]
     },
     "execution_count": 37,
     "metadata": {},
     "output_type": "execute_result"
    }
   ],
   "source": [
    "# Create new season bins for release dates\n",
    "\n",
    "# Only missing value is Charlie Chaplin's The Gold Rush\n",
    "winter = ['Jan', 'Feb', 'Mar', 'Apr']\n",
    "summer = ['May', 'Jun', 'Jul']\n",
    "fall = ['Aug', 'Sep', 'Oct']\n",
    "holiday = ['Nov', 'Dec']\n",
    "\n",
    "def bin_months(i):\n",
    "    if i in winter:\n",
    "        i = 'Winter'\n",
    "    elif i in summer:\n",
    "        i = 'Summer'\n",
    "    elif i in fall:\n",
    "        i = 'Fall'\n",
    "    elif i in holiday:\n",
    "        i = 'Holiday'\n",
    "    else:\n",
    "        i = 'Summer'\n",
    "    return i\n",
    "\n",
    "df['Season'] = [bin_months(x) for x in df['Month']]\n",
    "df['Season'].value_counts()"
   ]
  },
  {
   "cell_type": "code",
   "execution_count": 38,
   "metadata": {
    "ExecuteTime": {
     "end_time": "2016-11-08T08:39:01.898149",
     "start_time": "2016-11-08T08:39:01.872367"
    },
    "collapsed": false,
    "hidden": true
   },
   "outputs": [
    {
     "data": {
      "text/plain": [
       "0    107\n",
       "1    207\n",
       "Name: Runtime, dtype: int64"
      ]
     },
     "execution_count": 38,
     "metadata": {},
     "output_type": "execute_result"
    }
   ],
   "source": [
    "# Convert Runtime to int\n",
    "def runtime_int(x):\n",
    "    return int(x.replace(' min', ''))\n",
    "\n",
    "df['Runtime'] = df['Runtime'].apply(runtime_int)\n",
    "df['Runtime'].head(2)"
   ]
  },
  {
   "cell_type": "markdown",
   "metadata": {
    "hidden": true
   },
   "source": [
    "### Clean up Awards, Rating and Genres"
   ]
  },
  {
   "cell_type": "code",
   "execution_count": 39,
   "metadata": {
    "ExecuteTime": {
     "end_time": "2016-11-08T08:39:01.909942",
     "start_time": "2016-11-08T08:39:01.900802"
    },
    "collapsed": false,
    "hidden": true
   },
   "outputs": [
    {
     "data": {
      "text/plain": [
       "0     Won 3 Oscars. Another 87 wins & 131 nominations.\n",
       "1    Nominated for 2 Oscars. Another 5 wins & 6 nom...\n",
       "2      Won 4 Oscars. Another 30 wins & 23 nominations.\n",
       "3       Won 7 Oscars. Another 23 wins & 7 nominations.\n",
       "4                            14 wins & 15 nominations.\n",
       "Name: Awards, dtype: object"
      ]
     },
     "execution_count": 39,
     "metadata": {},
     "output_type": "execute_result"
    }
   ],
   "source": [
    "df['Awards'].head()"
   ]
  },
  {
   "cell_type": "code",
   "execution_count": 40,
   "metadata": {
    "ExecuteTime": {
     "end_time": "2016-11-08T08:39:01.931466",
     "start_time": "2016-11-08T08:39:01.912070"
    },
    "collapsed": false,
    "hidden": true
   },
   "outputs": [
    {
     "data": {
      "text/plain": [
       "0    3\n",
       "1    0\n",
       "2    4\n",
       "Name: Oscars_Won, dtype: int64"
      ]
     },
     "execution_count": 40,
     "metadata": {},
     "output_type": "execute_result"
    }
   ],
   "source": [
    "# Make Oscars_Won column with number of Oscars won\n",
    "def oscar_winners(x):\n",
    "    try:\n",
    "        oscar_winner = re.findall(r'([^.]*?Oscar[^.]*\\.)',x)[0].split()\n",
    "        if type(oscar_winner[0]) == int:\n",
    "            return int(oscar_winner[0])\n",
    "        elif oscar_winner[0] == 'Won':\n",
    "            return int(oscar_winner[1])\n",
    "        else:\n",
    "            return 0\n",
    "    except:\n",
    "        return 0\n",
    "    \n",
    "df['Oscars_Won'] = df['Awards'].apply(oscar_winners)\n",
    "df['Oscars_Won'].head(3)"
   ]
  },
  {
   "cell_type": "code",
   "execution_count": 41,
   "metadata": {
    "ExecuteTime": {
     "end_time": "2016-11-08T08:39:01.948307",
     "start_time": "2016-11-08T08:39:01.934342"
    },
    "collapsed": false,
    "hidden": true
   },
   "outputs": [
    {
     "data": {
      "text/plain": [
       "0    179\n",
       "1     28\n",
       "2     12\n",
       "4      9\n",
       "3      8\n",
       "5      6\n",
       "7      4\n",
       "6      3\n",
       "8      1\n",
       "Name: Oscar_Noms, dtype: int64"
      ]
     },
     "execution_count": 41,
     "metadata": {},
     "output_type": "execute_result"
    }
   ],
   "source": [
    "# Make Oscar_Noms columns\n",
    "def oscar_noms(x):\n",
    "    try:\n",
    "        oscar_noms = re.findall('Nominated\\sfor\\s(\\d)\\sOscar',x)[0]\n",
    "        return int(oscar_noms)\n",
    "    except:\n",
    "        return 0\n",
    "\n",
    "df['Oscar_Noms'] = df['Awards'].apply(oscar_noms)\n",
    "df['Oscar_Noms'].value_counts()"
   ]
  },
  {
   "cell_type": "code",
   "execution_count": 42,
   "metadata": {
    "ExecuteTime": {
     "end_time": "2016-11-08T08:39:01.992786",
     "start_time": "2016-11-08T08:39:01.954372"
    },
    "collapsed": false,
    "hidden": true
   },
   "outputs": [
    {
     "data": {
      "text/plain": [
       "0    87\n",
       "1     5\n",
       "2    30\n",
       "Name: Awards_Won, dtype: int64"
      ]
     },
     "execution_count": 42,
     "metadata": {},
     "output_type": "execute_result"
    }
   ],
   "source": [
    "# Make Awards_Won column with sum of other awards won\n",
    "def awards_won(x):\n",
    "    try:\n",
    "        awards_won = re.findall('Another\\s(\\d+)\\swins', x)[0]\n",
    "        return int(awards_won)\n",
    "    except:\n",
    "        return 0\n",
    "\n",
    "df['Awards_Won'] = df['Awards'].apply(awards_won)\n",
    "df['Awards_Won'].head(3)"
   ]
  },
  {
   "cell_type": "code",
   "execution_count": 43,
   "metadata": {
    "ExecuteTime": {
     "end_time": "2016-11-08T08:39:02.031330",
     "start_time": "2016-11-08T08:39:01.999916"
    },
    "collapsed": false,
    "hidden": true
   },
   "outputs": [
    {
     "data": {
      "text/plain": [
       "0    131\n",
       "1      6\n",
       "2     23\n",
       "Name: Other_Noms, dtype: int64"
      ]
     },
     "execution_count": 43,
     "metadata": {},
     "output_type": "execute_result"
    }
   ],
   "source": [
    "# Make Other_Noms column with sum of other nominations\n",
    "def other_noms(x):\n",
    "    try:\n",
    "        other_noms = re.findall('(\\d+)\\snomination', x)[0]\n",
    "        return int(other_noms)\n",
    "    except:\n",
    "        return 0\n",
    "\n",
    "df['Other_Noms'] = df['Awards'].apply(other_noms)\n",
    "df['Other_Noms'].head(3)"
   ]
  },
  {
   "cell_type": "code",
   "execution_count": 44,
   "metadata": {
    "ExecuteTime": {
     "end_time": "2016-11-08T08:39:02.063454",
     "start_time": "2016-11-08T08:39:02.037842"
    },
    "collapsed": false,
    "hidden": true
   },
   "outputs": [
    {
     "name": "stdout",
     "output_type": "stream",
     "text": [
      "R            104\n",
      "PG            38\n",
      "PG-13         32\n",
      "NOT RATED     24\n",
      "APPROVED      20\n",
      "G             12\n",
      "UNRATED        9\n",
      "PASSED         6\n",
      "N/A            4\n",
      "M              1\n",
      "Name: Rated, dtype: int64\n"
     ]
    },
    {
     "data": {
      "text/plain": [
       "R        104\n",
       "OTHER     64\n",
       "PG        38\n",
       "PG-13     32\n",
       "G         12\n",
       "Name: Rated, dtype: int64"
      ]
     },
     "execution_count": 44,
     "metadata": {},
     "output_type": "execute_result"
    }
   ],
   "source": [
    "# Clean up Rating column\n",
    "print df['Rated'].value_counts()\n",
    "rated_other = ['NOT RATED', 'APPROVED', 'UNRATED', 'PASSED', 'N/A', 'M']\n",
    "\n",
    "df['Rated'] = df['Rated'].apply(lambda x: x if x not in rated_other else 'OTHER')\n",
    "df['Rated'].value_counts()"
   ]
  },
  {
   "cell_type": "code",
   "execution_count": 45,
   "metadata": {
    "ExecuteTime": {
     "end_time": "2016-11-08T08:39:02.076403",
     "start_time": "2016-11-08T08:39:02.065703"
    },
    "collapsed": false,
    "hidden": true
   },
   "outputs": [
    {
     "data": {
      "text/plain": [
       "Drama        68\n",
       "Crime        40\n",
       "Action       34\n",
       "Adventure    28\n",
       "Comedy       27\n",
       "Biography    20\n",
       "Animation    19\n",
       "Mystery       5\n",
       "Horror        3\n",
       "Western       3\n",
       "Film-Noir     2\n",
       "Sci-Fi        1\n",
       "Name: Genre_1, dtype: int64"
      ]
     },
     "execution_count": 45,
     "metadata": {},
     "output_type": "execute_result"
    }
   ],
   "source": [
    "# Clean up Genre column\n",
    "df['Genre_1'] = df['Genre'].apply(lambda x: x.split(',')[0])\n",
    "df['Genre_1'].value_counts()"
   ]
  },
  {
   "cell_type": "code",
   "execution_count": 46,
   "metadata": {
    "ExecuteTime": {
     "end_time": "2016-11-08T08:39:02.096791",
     "start_time": "2016-11-08T08:39:02.078814"
    },
    "collapsed": false,
    "hidden": true
   },
   "outputs": [
    {
     "name": "stdout",
     "output_type": "stream",
     "text": [
      "<class 'pandas.core.frame.DataFrame'>\n",
      "Int64Index: 250 entries, 0 to 249\n",
      "Data columns (total 37 columns):\n",
      "imdbID               250 non-null object\n",
      "Title                250 non-null object\n",
      "BoxOffice            250 non-null object\n",
      "Gross                182 non-null float64\n",
      "Opening              117 non-null float64\n",
      "Budget               212 non-null float64\n",
      "Year                 250 non-null int64\n",
      "Released             250 non-null datetime64[ns]\n",
      "Metascore            166 non-null float64\n",
      "imdbRating           250 non-null float64\n",
      "imdbVotes            250 non-null int64\n",
      "tomatoMeter          241 non-null float64\n",
      "tomatoRating         241 non-null float64\n",
      "tomatoReviews        241 non-null float64\n",
      "tomatoUserMeter      247 non-null float64\n",
      "tomatoUserRating     247 non-null float64\n",
      "tomatoUserReviews    249 non-null float64\n",
      "tomatoFresh          241 non-null float64\n",
      "tomatoRotten         241 non-null float64\n",
      "Awards               250 non-null object\n",
      "Actors               250 non-null object\n",
      "Director             250 non-null object\n",
      "Writer               250 non-null object\n",
      "Production           250 non-null object\n",
      "Country              250 non-null object\n",
      "Language             250 non-null object\n",
      "Genre                250 non-null object\n",
      "Rated                250 non-null object\n",
      "Runtime              250 non-null int64\n",
      "Plot                 250 non-null object\n",
      "Month                250 non-null object\n",
      "Season               250 non-null object\n",
      "Oscars_Won           250 non-null int64\n",
      "Oscar_Noms           250 non-null int64\n",
      "Awards_Won           250 non-null int64\n",
      "Other_Noms           250 non-null int64\n",
      "Genre_1              250 non-null object\n",
      "dtypes: datetime64[ns](1), float64(13), int64(7), object(16)\n",
      "memory usage: 74.2+ KB\n"
     ]
    }
   ],
   "source": [
    "df.info()"
   ]
  },
  {
   "cell_type": "code",
   "execution_count": 47,
   "metadata": {
    "ExecuteTime": {
     "end_time": "2016-11-08T08:39:02.106087",
     "start_time": "2016-11-08T08:39:02.099997"
    },
    "collapsed": true,
    "hidden": true
   },
   "outputs": [],
   "source": [
    "#######################\n",
    "#######################\n",
    "\n",
    "# Copy of cleaned df\n",
    "#dfc3 = df.copy()\n",
    "\n",
    "#######################\n",
    "#######################"
   ]
  },
  {
   "cell_type": "markdown",
   "metadata": {
    "heading_collapsed": true,
    "hidden": true
   },
   "source": [
    "### Convert all dtype object columns to strings"
   ]
  },
  {
   "cell_type": "code",
   "execution_count": null,
   "metadata": {
    "ExecuteTime": {
     "end_time": "2016-11-03T17:00:37.616956",
     "start_time": "2016-11-03T17:00:37.587421"
    },
    "collapsed": false,
    "hidden": true
   },
   "outputs": [],
   "source": [
    "#####################\n",
    "#####################\n",
    "# DO NOT RUN!!!\n",
    "objects = [x for x in df.columns if df[x].dtype == 'object']\n",
    "def objects_to_string(x):\n",
    "    return str(x)\n",
    "\n",
    "def df_to_string():\n",
    "    for i in objects:\n",
    "        return objects_to_string(df[i])\n",
    "\n",
    "df_to_string()"
   ]
  },
  {
   "cell_type": "markdown",
   "metadata": {
    "hidden": true
   },
   "source": [
    "### Fill in missing values"
   ]
  },
  {
   "cell_type": "code",
   "execution_count": 48,
   "metadata": {
    "ExecuteTime": {
     "end_time": "2016-11-08T08:39:02.136195",
     "start_time": "2016-11-08T08:39:02.108350"
    },
    "collapsed": false,
    "hidden": true
   },
   "outputs": [
    {
     "data": {
      "text/plain": [
       "imdbID                 0\n",
       "Title                  0\n",
       "BoxOffice              0\n",
       "Gross                 68\n",
       "Opening              133\n",
       "Budget                38\n",
       "Year                   0\n",
       "Released               0\n",
       "Metascore             84\n",
       "imdbRating             0\n",
       "imdbVotes              0\n",
       "tomatoMeter            9\n",
       "tomatoRating           9\n",
       "tomatoReviews          9\n",
       "tomatoUserMeter        3\n",
       "tomatoUserRating       3\n",
       "tomatoUserReviews      1\n",
       "tomatoFresh            9\n",
       "tomatoRotten           9\n",
       "Awards                 0\n",
       "Actors                 0\n",
       "Director               0\n",
       "Writer                 0\n",
       "Production             0\n",
       "Country                0\n",
       "Language               0\n",
       "Genre                  0\n",
       "Rated                  0\n",
       "Runtime                0\n",
       "Plot                   0\n",
       "Month                  0\n",
       "Season                 0\n",
       "Oscars_Won             0\n",
       "Oscar_Noms             0\n",
       "Awards_Won             0\n",
       "Other_Noms             0\n",
       "Genre_1                0\n",
       "dtype: int64"
      ]
     },
     "execution_count": 48,
     "metadata": {},
     "output_type": "execute_result"
    }
   ],
   "source": [
    "df.isnull().sum()"
   ]
  },
  {
   "cell_type": "code",
   "execution_count": null,
   "metadata": {
    "ExecuteTime": {
     "end_time": "2016-11-08T08:42:29.083885",
     "start_time": "2016-11-08T08:42:28.604542"
    },
    "collapsed": true,
    "hidden": true
   },
   "outputs": [],
   "source": [
    "# Drop columns with a large proportion of missing values \n",
    "# (columns whose values are difficult to impute)\n",
    "# Also drop Language column as most\n",
    "cols_to_drop2 = ['Opening', 'Budget', 'Language']\n",
    "df.drop(['Opening', 'Budget', 'Language'], axis=1, inplace=True)"
   ]
  },
  {
   "cell_type": "code",
   "execution_count": 50,
   "metadata": {
    "ExecuteTime": {
     "end_time": "2016-11-08T08:39:02.223136",
     "start_time": "2016-11-08T08:39:02.163417"
    },
    "collapsed": false,
    "hidden": true
   },
   "outputs": [
    {
     "data": {
      "text/plain": [
       "imdbID                0\n",
       "Title                 0\n",
       "BoxOffice             0\n",
       "Gross                68\n",
       "Year                  0\n",
       "Released              0\n",
       "Metascore            84\n",
       "imdbRating            0\n",
       "imdbVotes             0\n",
       "tomatoMeter           0\n",
       "tomatoRating          0\n",
       "tomatoReviews         0\n",
       "tomatoUserMeter       0\n",
       "tomatoUserRating      0\n",
       "tomatoUserReviews     0\n",
       "tomatoFresh           0\n",
       "tomatoRotten          0\n",
       "Awards                0\n",
       "Actors                0\n",
       "Director              0\n",
       "Writer                0\n",
       "Production            0\n",
       "Country               0\n",
       "Genre                 0\n",
       "Rated                 0\n",
       "Runtime               0\n",
       "Plot                  0\n",
       "Month                 0\n",
       "Season                0\n",
       "Oscars_Won            0\n",
       "Oscar_Noms            0\n",
       "Awards_Won            0\n",
       "Other_Noms            0\n",
       "Genre_1               0\n",
       "dtype: int64"
      ]
     },
     "execution_count": 50,
     "metadata": {},
     "output_type": "execute_result"
    }
   ],
   "source": [
    "# For columns with small number of missing values, fill missing values\n",
    "# with median column values\n",
    "\n",
    "df['tomatoMeter'].fillna((df['tomatoMeter'].median()), inplace=True)\n",
    "df['tomatoRating'].fillna((df['tomatoRating'].median()), inplace=True)\n",
    "df['tomatoReviews'].fillna((df['tomatoReviews'].median()), inplace=True)\n",
    "df['tomatoUserMeter'].fillna((df['tomatoUserMeter'].median()), inplace=True)\n",
    "df['tomatoUserRating'].fillna((df['tomatoUserRating'].median()), inplace=True)\n",
    "df['tomatoUserReviews'].fillna((df['tomatoUserReviews'].median()), inplace=True)\n",
    "df['tomatoFresh'].fillna((df['tomatoFresh'].median()), inplace=True)\n",
    "df['tomatoRotten'].fillna((df['tomatoRotten'].median()), inplace=True)\n",
    "\n",
    "df.isnull().sum()"
   ]
  },
  {
   "cell_type": "code",
   "execution_count": 51,
   "metadata": {
    "ExecuteTime": {
     "end_time": "2016-11-08T08:39:02.238708",
     "start_time": "2016-11-08T08:39:02.225166"
    },
    "collapsed": false,
    "hidden": true
   },
   "outputs": [
    {
     "data": {
      "text/html": [
       "<div>\n",
       "<table border=\"1\" class=\"dataframe\">\n",
       "  <thead>\n",
       "    <tr style=\"text-align: right;\">\n",
       "      <th></th>\n",
       "      <th>Metascore</th>\n",
       "      <th>tomatoMeter</th>\n",
       "      <th>tomatoRating</th>\n",
       "    </tr>\n",
       "  </thead>\n",
       "  <tbody>\n",
       "    <tr>\n",
       "      <th>Metascore</th>\n",
       "      <td>1.000000</td>\n",
       "      <td>0.717959</td>\n",
       "      <td>0.804335</td>\n",
       "    </tr>\n",
       "    <tr>\n",
       "      <th>tomatoMeter</th>\n",
       "      <td>0.717959</td>\n",
       "      <td>1.000000</td>\n",
       "      <td>0.834259</td>\n",
       "    </tr>\n",
       "    <tr>\n",
       "      <th>tomatoRating</th>\n",
       "      <td>0.804335</td>\n",
       "      <td>0.834259</td>\n",
       "      <td>1.000000</td>\n",
       "    </tr>\n",
       "  </tbody>\n",
       "</table>\n",
       "</div>"
      ],
      "text/plain": [
       "              Metascore  tomatoMeter  tomatoRating\n",
       "Metascore      1.000000     0.717959      0.804335\n",
       "tomatoMeter    0.717959     1.000000      0.834259\n",
       "tomatoRating   0.804335     0.834259      1.000000"
      ]
     },
     "execution_count": 51,
     "metadata": {},
     "output_type": "execute_result"
    }
   ],
   "source": [
    "df.loc[:, ['Metascore', 'tomatoMeter', 'tomatoRating']].corr()"
   ]
  },
  {
   "cell_type": "code",
   "execution_count": 52,
   "metadata": {
    "ExecuteTime": {
     "end_time": "2016-11-08T08:39:02.245024",
     "start_time": "2016-11-08T08:39:02.240426"
    },
    "collapsed": true,
    "hidden": true
   },
   "outputs": [],
   "source": [
    "# Drop Metascore as it is highly correlated to both tomatoMeter and tomatoRating\n",
    "df.drop('Metascore', inplace=True, axis=1)"
   ]
  },
  {
   "cell_type": "markdown",
   "metadata": {
    "hidden": true
   },
   "source": [
    "### Try to fill in missing values for Gross column with linear regression"
   ]
  },
  {
   "cell_type": "code",
   "execution_count": 54,
   "metadata": {
    "ExecuteTime": {
     "end_time": "2016-11-08T08:43:39.764297",
     "start_time": "2016-11-08T08:43:39.711419"
    },
    "collapsed": false,
    "hidden": true
   },
   "outputs": [
    {
     "data": {
      "text/html": [
       "<div>\n",
       "<table border=\"1\" class=\"dataframe\">\n",
       "  <thead>\n",
       "    <tr style=\"text-align: right;\">\n",
       "      <th></th>\n",
       "      <th>Gross</th>\n",
       "    </tr>\n",
       "  </thead>\n",
       "  <tbody>\n",
       "    <tr>\n",
       "      <th>count</th>\n",
       "      <td>182.00</td>\n",
       "    </tr>\n",
       "    <tr>\n",
       "      <th>mean</th>\n",
       "      <td>105,384,553.70</td>\n",
       "    </tr>\n",
       "    <tr>\n",
       "      <th>std</th>\n",
       "      <td>134,480,397.06</td>\n",
       "    </tr>\n",
       "    <tr>\n",
       "      <th>min</th>\n",
       "      <td>10,177.00</td>\n",
       "    </tr>\n",
       "    <tr>\n",
       "      <th>25%</th>\n",
       "      <td>8,072,547.75</td>\n",
       "    </tr>\n",
       "    <tr>\n",
       "      <th>50%</th>\n",
       "      <td>51,943,707.00</td>\n",
       "    </tr>\n",
       "    <tr>\n",
       "      <th>75%</th>\n",
       "      <td>162,003,486.00</td>\n",
       "    </tr>\n",
       "    <tr>\n",
       "      <th>max</th>\n",
       "      <td>936,627,416.00</td>\n",
       "    </tr>\n",
       "  </tbody>\n",
       "</table>\n",
       "</div>"
      ],
      "text/plain": [
       "                 Gross\n",
       "count           182.00\n",
       "mean    105,384,553.70\n",
       "std     134,480,397.06\n",
       "min          10,177.00\n",
       "25%       8,072,547.75\n",
       "50%      51,943,707.00\n",
       "75%     162,003,486.00\n",
       "max     936,627,416.00"
      ]
     },
     "execution_count": 54,
     "metadata": {},
     "output_type": "execute_result"
    }
   ],
   "source": [
    "summary = df.describe()\n",
    "summary1 = pd.DataFrame(summary.loc[:, 'Gross'].apply(lambda x: '{0: ,.2f}'.format(x)))\n",
    "summary1"
   ]
  },
  {
   "cell_type": "code",
   "execution_count": 55,
   "metadata": {
    "ExecuteTime": {
     "end_time": "2016-11-08T08:43:41.879915",
     "start_time": "2016-11-08T08:43:41.863680"
    },
    "collapsed": false,
    "hidden": true
   },
   "outputs": [],
   "source": [
    "lm_test = df[df['Gross'].notnull() == True] \n",
    "lm_pred = df[df['Gross'].notnull() == False] "
   ]
  },
  {
   "cell_type": "code",
   "execution_count": 56,
   "metadata": {
    "ExecuteTime": {
     "end_time": "2016-11-08T08:43:42.536847",
     "start_time": "2016-11-08T08:43:42.322344"
    },
    "collapsed": false,
    "hidden": true
   },
   "outputs": [
    {
     "name": "stdout",
     "output_type": "stream",
     "text": [
      "model_score: 0.533361406244\n",
      "MSE: 8.39277937845e+15\n",
      "coeffs:  [ -1.43988228e+08   2.64905330e+02   1.44794871e+05  -1.44660917e+07\n",
      "   1.46288719e+07  -1.90271076e+06   7.80562365e+07  -1.73755910e-01\n",
      "  -1.33929154e+07  -1.68853278e+07  -3.34963771e+05   1.62857422e+07\n",
      "   8.17524156e+06  -7.89301328e+05  -6.57694490e+05  -4.69445692e+04]\n",
      "\n",
      "***Note: Model score is too low to predict missing gross revenue values***\n"
     ]
    }
   ],
   "source": [
    "from sklearn.linear_model import LinearRegression\n",
    "from sklearn.metrics import mean_squared_error\n",
    "lm = LinearRegression()\n",
    "X = lm_test[['imdbRating', 'imdbVotes', 'tomatoMeter', \\\n",
    "              'tomatoRating', 'tomatoReviews', 'tomatoUserMeter', 'tomatoUserRating', \\\n",
    "              'tomatoUserReviews', 'tomatoFresh', 'tomatoRotten', 'Year', 'Oscars_Won', \\\n",
    "            'Oscar_Noms', 'Awards_Won', 'Other_Noms', 'Runtime']]\n",
    "y = lm_test['Gross']\n",
    "\n",
    "linear = lm.fit(X, y)\n",
    "y_pred = linear.predict(X)\n",
    "\n",
    "\n",
    "print 'model_score:', linear.score(X, y)\n",
    "print 'MSE:', mean_squared_error(y, y_pred)\n",
    "print 'coeffs: ', linear.coef_\n",
    "print ''\n",
    "print '***Note: Model score is too low to predict missing gross revenue values***'"
   ]
  },
  {
   "cell_type": "raw",
   "metadata": {
    "ExecuteTime": {
     "end_time": "2016-11-06T14:20:31.188565",
     "start_time": "2016-11-06T14:20:31.171060"
    },
    "hidden": true
   },
   "source": [
    "coeffs = []\n",
    "labels = ['imdbRating', 'imdbVotes', 'tomatoMeter', \\\n",
    "              'tomatoRating', 'tomatoReviews', 'tomatoUserMeter', 'tomatoUserRating', \\\n",
    "              'tomatoUserReviews', 'tomatoFresh', 'tomatoRotten', 'Year', 'Oscars_Won', \\\n",
    "            'Oscar_Noms', 'Awards_Won', 'Other_Noms', 'Runtime']\n",
    "coef = list(linear.coef_)\n",
    "coeffs.append(labels)\n",
    "coeffs.append(coef)\n",
    "pd.DataFrame(coeffs).T"
   ]
  },
  {
   "cell_type": "markdown",
   "metadata": {
    "hidden": true
   },
   "source": [
    "#### Model score of 0.5319 is too low to predict missing gross values"
   ]
  },
  {
   "cell_type": "markdown",
   "metadata": {
    "hidden": true
   },
   "source": [
    "### Fill in missing Gross values with median"
   ]
  },
  {
   "cell_type": "code",
   "execution_count": null,
   "metadata": {
    "collapsed": true,
    "hidden": true
   },
   "outputs": [],
   "source": [
    "# Tried to fill in missing Gross values with BoxOffice values but no results"
   ]
  },
  {
   "cell_type": "code",
   "execution_count": 57,
   "metadata": {
    "ExecuteTime": {
     "end_time": "2016-11-08T08:44:07.387563",
     "start_time": "2016-11-08T08:44:07.369240"
    },
    "collapsed": false,
    "hidden": true
   },
   "outputs": [
    {
     "data": {
      "text/html": [
       "<div>\n",
       "<table border=\"1\" class=\"dataframe\">\n",
       "  <thead>\n",
       "    <tr style=\"text-align: right;\">\n",
       "      <th></th>\n",
       "      <th>Gross</th>\n",
       "    </tr>\n",
       "  </thead>\n",
       "  <tbody>\n",
       "    <tr>\n",
       "      <th>Gross</th>\n",
       "      <td>1.000000</td>\n",
       "    </tr>\n",
       "    <tr>\n",
       "      <th>Year</th>\n",
       "      <td>0.302139</td>\n",
       "    </tr>\n",
       "    <tr>\n",
       "      <th>imdbRating</th>\n",
       "      <td>0.110846</td>\n",
       "    </tr>\n",
       "    <tr>\n",
       "      <th>imdbVotes</th>\n",
       "      <td>0.505074</td>\n",
       "    </tr>\n",
       "    <tr>\n",
       "      <th>tomatoMeter</th>\n",
       "      <td>-0.047643</td>\n",
       "    </tr>\n",
       "    <tr>\n",
       "      <th>tomatoRating</th>\n",
       "      <td>-0.022033</td>\n",
       "    </tr>\n",
       "    <tr>\n",
       "      <th>tomatoReviews</th>\n",
       "      <td>0.527692</td>\n",
       "    </tr>\n",
       "    <tr>\n",
       "      <th>tomatoUserMeter</th>\n",
       "      <td>-0.159849</td>\n",
       "    </tr>\n",
       "    <tr>\n",
       "      <th>tomatoUserRating</th>\n",
       "      <td>-0.080927</td>\n",
       "    </tr>\n",
       "    <tr>\n",
       "      <th>tomatoUserReviews</th>\n",
       "      <td>0.159068</td>\n",
       "    </tr>\n",
       "    <tr>\n",
       "      <th>tomatoFresh</th>\n",
       "      <td>0.539793</td>\n",
       "    </tr>\n",
       "    <tr>\n",
       "      <th>tomatoRotten</th>\n",
       "      <td>0.241649</td>\n",
       "    </tr>\n",
       "    <tr>\n",
       "      <th>Runtime</th>\n",
       "      <td>0.071412</td>\n",
       "    </tr>\n",
       "    <tr>\n",
       "      <th>Oscars_Won</th>\n",
       "      <td>0.182003</td>\n",
       "    </tr>\n",
       "    <tr>\n",
       "      <th>Oscar_Noms</th>\n",
       "      <td>0.101606</td>\n",
       "    </tr>\n",
       "    <tr>\n",
       "      <th>Awards_Won</th>\n",
       "      <td>0.292111</td>\n",
       "    </tr>\n",
       "    <tr>\n",
       "      <th>Other_Noms</th>\n",
       "      <td>0.349458</td>\n",
       "    </tr>\n",
       "  </tbody>\n",
       "</table>\n",
       "</div>"
      ],
      "text/plain": [
       "                      Gross\n",
       "Gross              1.000000\n",
       "Year               0.302139\n",
       "imdbRating         0.110846\n",
       "imdbVotes          0.505074\n",
       "tomatoMeter       -0.047643\n",
       "tomatoRating      -0.022033\n",
       "tomatoReviews      0.527692\n",
       "tomatoUserMeter   -0.159849\n",
       "tomatoUserRating  -0.080927\n",
       "tomatoUserReviews  0.159068\n",
       "tomatoFresh        0.539793\n",
       "tomatoRotten       0.241649\n",
       "Runtime            0.071412\n",
       "Oscars_Won         0.182003\n",
       "Oscar_Noms         0.101606\n",
       "Awards_Won         0.292111\n",
       "Other_Noms         0.349458"
      ]
     },
     "execution_count": 57,
     "metadata": {},
     "output_type": "execute_result"
    }
   ],
   "source": [
    "lm_test.corr().loc[:, ['Gross']]"
   ]
  },
  {
   "cell_type": "code",
   "execution_count": 58,
   "metadata": {
    "ExecuteTime": {
     "end_time": "2016-11-08T08:44:13.346059",
     "start_time": "2016-11-08T08:44:13.338474"
    },
    "collapsed": false,
    "hidden": true
   },
   "outputs": [
    {
     "data": {
      "text/plain": [
       "0.53979309291468913"
      ]
     },
     "execution_count": 58,
     "metadata": {},
     "output_type": "execute_result"
    }
   ],
   "source": [
    "corr_index = lm_test.corr().loc['tomatoFresh', 'Gross']\n",
    "corr_index\n",
    "# Gross is most correlated with tomatoFresh"
   ]
  },
  {
   "cell_type": "code",
   "execution_count": 59,
   "metadata": {
    "ExecuteTime": {
     "end_time": "2016-11-08T08:44:14.735640",
     "start_time": "2016-11-08T08:44:14.729940"
    },
    "collapsed": false,
    "hidden": true
   },
   "outputs": [
    {
     "data": {
      "text/plain": [
       "51943707.0"
      ]
     },
     "execution_count": 59,
     "metadata": {},
     "output_type": "execute_result"
    }
   ],
   "source": [
    "df['Gross'].median()"
   ]
  },
  {
   "cell_type": "code",
   "execution_count": 60,
   "metadata": {
    "ExecuteTime": {
     "end_time": "2016-11-08T08:44:15.723902",
     "start_time": "2016-11-08T08:44:15.704889"
    },
    "collapsed": false,
    "hidden": true
   },
   "outputs": [
    {
     "name": "stdout",
     "output_type": "stream",
     "text": [
      "0\n"
     ]
    },
    {
     "data": {
      "text/plain": [
       "0    7.066971e+06\n",
       "1    1.452373e+05\n",
       "2    1.308321e+08\n",
       "3    1.468237e+07\n",
       "4    6.502671e+05\n",
       "Name: Adj_Gross, dtype: float64"
      ]
     },
     "execution_count": 60,
     "metadata": {},
     "output_type": "execute_result"
    }
   ],
   "source": [
    "# I attempted to standardize Gross and fill in for missing values by making\n",
    "# an adjusted Gross column which is the Gross * corr_index or median Gross *\n",
    "# corr_index for missing values (so Gross is represented in relation to corr_index)\n",
    "\n",
    "gross_median = df['Gross'].median()\n",
    "df['Adj_Gross'] = df['Gross'].apply(lambda x: x * corr_index if x > 0 else\\\n",
    "                                   gross_median * corr_index)\n",
    "\n",
    "print df['Adj_Gross'].isnull().sum()\n",
    "df['Adj_Gross'].head()"
   ]
  },
  {
   "cell_type": "markdown",
   "metadata": {
    "heading_collapsed": true
   },
   "source": [
    "## Count Vectorization"
   ]
  },
  {
   "cell_type": "code",
   "execution_count": null,
   "metadata": {
    "collapsed": true,
    "hidden": true
   },
   "outputs": [],
   "source": [
    "# Actor, Director, Plot, Title, Genre, Production"
   ]
  },
  {
   "cell_type": "code",
   "execution_count": 61,
   "metadata": {
    "ExecuteTime": {
     "end_time": "2016-11-08T08:44:24.238866",
     "start_time": "2016-11-08T08:44:24.235459"
    },
    "collapsed": true,
    "hidden": true
   },
   "outputs": [],
   "source": [
    "# CountVectorizer w/parameters\n",
    "cvec = CountVectorizer(stop_words='english', lowercase=True, \\\n",
    "                      max_features=25, binary=True)\n",
    "\n",
    "\"\"\"I chose to limit max features to 25 because:\n",
    "1. Avoid overfitting: In a dataset with only 250 rows, \n",
    "I don't want to blow up features (curse of dimensionality?) \n",
    "2. Operational efficiency: Processing time too slow with too many features)\"\"\""
   ]
  },
  {
   "cell_type": "markdown",
   "metadata": {
    "hidden": true
   },
   "source": [
    "#### Actors"
   ]
  },
  {
   "cell_type": "code",
   "execution_count": 62,
   "metadata": {
    "ExecuteTime": {
     "end_time": "2016-11-08T08:44:42.794062",
     "start_time": "2016-11-08T08:44:42.774187"
    },
    "collapsed": false,
    "hidden": true
   },
   "outputs": [
    {
     "name": "stdout",
     "output_type": "stream",
     "text": [
      "0       Miles\n",
      "1     Toshirô\n",
      "2    Harrison\n",
      "Name: Actor_First_Name, dtype: object\n",
      "0      Miles Teller\n",
      "1    Toshirô Mifune\n",
      "2     Harrison Ford\n",
      "Name: Lead_Actor, dtype: object\n",
      "0    MilesTeller,J.K.Simmons,PaulReiser,MelissaBenoist\n",
      "1    ToshirôMifune,TakashiShimura,KeikoTsushima,Yuk...\n",
      "2      HarrisonFord,KarenAllen,PaulFreeman,RonaldLacey\n",
      "Name: Actors, dtype: object\n"
     ]
    }
   ],
   "source": [
    "# Create column of first names only\n",
    "df['Actor_First_Name'] = df['Actors'].apply(lambda x: x.split(',')[0])\n",
    "df['Actor_First_Name'] = df['Actors'].apply(lambda x: x.split(' ')[0])\n",
    "print df['Actor_First_Name'].head(3)\n",
    "\n",
    "# Create column of lead actors only\n",
    "df['Lead_Actor'] = df['Actors'].apply(lambda x: x.split(',')[0])\n",
    "print df['Lead_Actor'].head(3)\n",
    "\n",
    "# Create column of concatenated names to identify unique people\n",
    "df['Actors'] = df['Actors'].apply(lambda x: x.replace(' ',''))\n",
    "print df['Actors'].head(3)"
   ]
  },
  {
   "cell_type": "code",
   "execution_count": 65,
   "metadata": {
    "ExecuteTime": {
     "end_time": "2016-11-08T08:44:51.658995",
     "start_time": "2016-11-08T08:44:51.653828"
    },
    "collapsed": false,
    "hidden": true
   },
   "outputs": [
    {
     "data": {
      "text/plain": [
       "(250, 25)"
      ]
     },
     "execution_count": 65,
     "metadata": {},
     "output_type": "execute_result"
    }
   ],
   "source": [
    "actors_df.shape"
   ]
  },
  {
   "cell_type": "code",
   "execution_count": 64,
   "metadata": {
    "ExecuteTime": {
     "end_time": "2016-11-08T08:44:49.711718",
     "start_time": "2016-11-08T08:44:49.678516"
    },
    "collapsed": false,
    "hidden": true
   },
   "outputs": [
    {
     "data": {
      "text/html": [
       "<div>\n",
       "<table border=\"1\" class=\"dataframe\">\n",
       "  <thead>\n",
       "    <tr style=\"text-align: right;\">\n",
       "      <th></th>\n",
       "      <th>Count</th>\n",
       "    </tr>\n",
       "  </thead>\n",
       "  <tbody>\n",
       "    <tr>\n",
       "      <th>leonardodicaprio</th>\n",
       "      <td>7</td>\n",
       "    </tr>\n",
       "    <tr>\n",
       "      <th>robertdeniro</th>\n",
       "      <td>7</td>\n",
       "    </tr>\n",
       "    <tr>\n",
       "      <th>harrisonford</th>\n",
       "      <td>7</td>\n",
       "    </tr>\n",
       "    <tr>\n",
       "      <th>tomhanks</th>\n",
       "      <td>6</td>\n",
       "    </tr>\n",
       "    <tr>\n",
       "      <th>clinteastwood</th>\n",
       "      <td>6</td>\n",
       "    </tr>\n",
       "  </tbody>\n",
       "</table>\n",
       "</div>"
      ],
      "text/plain": [
       "                  Count\n",
       "leonardodicaprio      7\n",
       "robertdeniro          7\n",
       "harrisonford          7\n",
       "tomhanks              6\n",
       "clinteastwood         6"
      ]
     },
     "execution_count": 64,
     "metadata": {},
     "output_type": "execute_result"
    }
   ],
   "source": [
    "actors_df = cvec.fit_transform(df['Actors']).todense()\n",
    "actor_col = cvec.get_feature_names()\n",
    "actors_df = pd.DataFrame(actors_df, columns=actor_col)\n",
    "\n",
    "actors = pd.DataFrame(actors_df.sum())\n",
    "actors.columns = ['Count']\n",
    "actors.sort_values(['Count'], ascending=False, inplace=True)\n",
    "actors.head()"
   ]
  },
  {
   "cell_type": "code",
   "execution_count": 67,
   "metadata": {
    "ExecuteTime": {
     "end_time": "2016-11-08T08:48:47.836134",
     "start_time": "2016-11-08T08:48:46.913483"
    },
    "collapsed": false,
    "hidden": true
   },
   "outputs": [
    {
     "name": "stdout",
     "output_type": "stream",
     "text": [
      "4    9\n",
      "3    9\n",
      "7    3\n",
      "6    2\n",
      "5    2\n",
      "Name: Count, dtype: int64\n",
      "(16, 1)\n",
      "                  Count\n",
      "tomhanks              6\n",
      "clinteastwood         6\n",
      "leonardodicaprio      7\n",
      "robertdeniro          7\n",
      "harrisonford          7\n"
     ]
    },
    {
     "name": "stderr",
     "output_type": "stream",
     "text": [
      "/anaconda/lib/python2.7/site-packages/ipykernel/__main__.py:3: SettingWithCopyWarning: \n",
      "A value is trying to be set on a copy of a slice from a DataFrame\n",
      "\n",
      "See the caveats in the documentation: http://pandas.pydata.org/pandas-docs/stable/indexing.html#indexing-view-versus-copy\n",
      "  app.launch_new_instance()\n"
     ]
    },
    {
     "data": {
      "text/plain": [
       "<matplotlib.legend.Legend at 0x11e858290>"
      ]
     },
     "execution_count": 67,
     "metadata": {},
     "output_type": "execute_result"
    },
    {
     "data": {
      "image/png": "[encoded data removed]",
      "text/plain": [
       "<matplotlib.figure.Figure at 0x11defa690>"
      ]
     },
     "metadata": {},
     "output_type": "display_data"
    }
   ],
   "source": [
    "print actors['Count'].value_counts()\n",
    "top_actors = actors[actors['Count'] > 3]\n",
    "top_actors.sort_values('Count', ascending=True, inplace=True)\n",
    "print top_actors.shape\n",
    "print top_actors.tail()\n",
    "\n",
    "ax = top_actors.plot(kind='barh', figsize=(16,10), color='royalblue')\n",
    "ax.set_title('Top Actors in IMDB Top 250 Films', y=1.01)\n",
    "ax.tick_params(labelsize=16)\n",
    "ax.legend(fontsize=16, loc='center right')"
   ]
  },
  {
   "cell_type": "code",
   "execution_count": 68,
   "metadata": {
    "ExecuteTime": {
     "end_time": "2016-11-08T08:48:50.730501",
     "start_time": "2016-11-08T08:48:49.804147"
    },
    "collapsed": false,
    "hidden": true
   },
   "outputs": [
    {
     "name": "stdout",
     "output_type": "stream",
     "text": [
      "          Count\n",
      "james         4\n",
      "clint         5\n",
      "robert        5\n",
      "leonardo      6\n",
      "tom           8\n",
      "3    16\n",
      "4     4\n",
      "5     2\n",
      "8     1\n",
      "6     1\n",
      "2     1\n",
      "Name: Count, dtype: int64\n"
     ]
    },
    {
     "data": {
      "text/plain": [
       "<matplotlib.legend.Legend at 0x11ecb37d0>"
      ]
     },
     "execution_count": 68,
     "metadata": {},
     "output_type": "execute_result"
    },
    {
     "data": {
      "image/png": "[encoded data removed]",
      "text/plain": [
       "<matplotlib.figure.Figure at 0x11e71fbd0>"
      ]
     },
     "metadata": {},
     "output_type": "display_data"
    }
   ],
   "source": [
    "actor_first = cvec.fit_transform(df['Actor_First_Name']).todense()\n",
    "actor_first_col = cvec.get_feature_names()\n",
    "actor_first = pd.DataFrame(actor_first, columns=actor_first_col)\n",
    "\n",
    "actor_first = pd.DataFrame(actor_first.sum())\n",
    "actor_first.columns = ['Count']\n",
    "actor_first.sort_values(['Count'], inplace=True)\n",
    "print actor_first.tail()\n",
    "print actor_first['Count'].value_counts()\n",
    "\n",
    "top_actor_first = actor_first[actor_first['Count'] > 2]\n",
    "\n",
    "\"\"\"self, x=None, y=None, kind='line', ax=None, subplots=False, sharex=None, \\\n",
    "sharey=False, layout=None, figsize=None, use_index=True, title=None, \\\n",
    "grid=None, legend=True, style=None, logx=False, logy=False, loglog=False, \\\n",
    "xticks=None, yticks=None, xlim=None, ylim=None, rot=None, fontsize=None, \\\n",
    "colormap=None, table=False, yerr=None, xerr=None, secondary_y=False, \\\n",
    "sort_columns=False, **kwds\"\"\"\n",
    "\n",
    "ax = top_actor_first.plot(kind='barh', figsize=(16,12), color='dodgerblue')\n",
    "ax.set_title('Top Actor First Names in IMDB Top 250 Films', y=1.01)\n",
    "ax.tick_params(labelsize=16)\n",
    "ax.legend(fontsize=16, loc='center right')"
   ]
  },
  {
   "cell_type": "markdown",
   "metadata": {
    "heading_collapsed": true,
    "hidden": true
   },
   "source": [
    "#### Unused Categorical Histograms"
   ]
  },
  {
   "cell_type": "code",
   "execution_count": null,
   "metadata": {
    "ExecuteTime": {
     "end_time": "2016-11-06T11:21:51.529266",
     "start_time": "2016-11-06T11:21:50.094079"
    },
    "collapsed": true,
    "hidden": true
   },
   "outputs": [],
   "source": [
    "# Ask how to create barh subplots with categorical histograms\n",
    "\n",
    "fig, (ax1, ax2) = plt.subplots(1,2, figsize=(16,30), sharex=True)\n",
    "\n",
    "ax1.barh( color='royalblue')\n",
    "ax1.set_title('Top Actors in IMDB Top 250 Films', y=1.01)\n",
    "ax1.tick_params(labelsize=16)\n",
    "ax1.legend(fontsize=16, loc='center right')\n",
    "\n",
    "ax2 = top_actor_first.plot(kind='barh', figsize=(16,12), color='dodgerblue')\n",
    "ax2.set_title('Top Actor First Names in IMDB Top 250 Films', y=1.01)\n",
    "ax2.tick_params(labelsize=16)\n",
    "ax2.legend(fontsize=16, loc='center right')"
   ]
  },
  {
   "cell_type": "markdown",
   "metadata": {
    "hidden": true
   },
   "source": [
    "#### Directors "
   ]
  },
  {
   "cell_type": "code",
   "execution_count": 70,
   "metadata": {
    "ExecuteTime": {
     "end_time": "2016-11-08T08:49:19.820431",
     "start_time": "2016-11-08T08:49:18.981890"
    },
    "collapsed": false,
    "hidden": true
   },
   "outputs": [
    {
     "name": "stdout",
     "output_type": "stream",
     "text": [
      "3    12\n",
      "7     5\n",
      "5     4\n",
      "6     2\n",
      "4     2\n",
      "Name: Count, dtype: int64\n",
      "(13, 1)\n",
      "                  Count\n",
      "stevenspielberg       7\n",
      "christophernolan      7\n",
      "martinscorsese        7\n",
      "alfredhitchcock       7\n",
      "stanleykubrick        7\n"
     ]
    },
    {
     "name": "stderr",
     "output_type": "stream",
     "text": [
      "/anaconda/lib/python2.7/site-packages/ipykernel/__main__.py:13: SettingWithCopyWarning: \n",
      "A value is trying to be set on a copy of a slice from a DataFrame\n",
      "\n",
      "See the caveats in the documentation: http://pandas.pydata.org/pandas-docs/stable/indexing.html#indexing-view-versus-copy\n"
     ]
    },
    {
     "data": {
      "text/plain": [
       "<matplotlib.legend.Legend at 0x11f792110>"
      ]
     },
     "execution_count": 70,
     "metadata": {},
     "output_type": "execute_result"
    },
    {
     "data": {
      "image/png": "[encoded data removed]",
      "text/plain": [
       "<matplotlib.figure.Figure at 0x11dab02d0>"
      ]
     },
     "metadata": {},
     "output_type": "display_data"
    }
   ],
   "source": [
    "# Create column of concatenated directors to identify unique people\n",
    "df['Director'] = df['Director'].apply(lambda x: x.replace(' ',''))\n",
    "\n",
    "directors_df = cvec.fit_transform(df['Director']).todense()\n",
    "directors_col = cvec.get_feature_names()\n",
    "directors_df = pd.DataFrame(directors_df, columns=directors_col)\n",
    "directors = pd.DataFrame(directors_df.sum())\n",
    "directors.columns = ['Count']\n",
    "directors.sort_values(['Count'], inplace=True)\n",
    "\n",
    "print directors['Count'].value_counts()\n",
    "top_directors = directors[directors['Count'] > 3]\n",
    "top_directors.sort_values('Count', inplace=True)\n",
    "print top_directors.shape\n",
    "print top_directors.tail()\n",
    "\n",
    "ax = top_directors.plot(kind='barh', figsize=(16,12), color='seagreen')\n",
    "ax.set_title('Top Directors in IMDB Top 250 Films', y=1.01)\n",
    "ax.tick_params(labelsize=16)\n",
    "ax.legend(fontsize=16, loc='lower right')"
   ]
  },
  {
   "cell_type": "markdown",
   "metadata": {
    "hidden": true
   },
   "source": [
    "#### Plot"
   ]
  },
  {
   "cell_type": "code",
   "execution_count": 71,
   "metadata": {
    "ExecuteTime": {
     "end_time": "2016-11-08T08:49:31.821598",
     "start_time": "2016-11-08T08:49:30.870042"
    },
    "collapsed": false,
    "hidden": true
   },
   "outputs": [
    {
     "name": "stdout",
     "output_type": "stream",
     "text": [
      "(25, 1)\n",
      "        Count\n",
      "story      23\n",
      "father     24\n",
      "time       25\n",
      "police     26\n",
      "war        28\n",
      "new        31\n",
      "man        36\n",
      "young      39\n",
      "world      40\n",
      "life       49\n"
     ]
    },
    {
     "data": {
      "text/plain": [
       "<matplotlib.legend.Legend at 0x1204adb90>"
      ]
     },
     "execution_count": 71,
     "metadata": {},
     "output_type": "execute_result"
    },
    {
     "data": {
      "image/png": "[encoded data removed]",
      "text/plain": [
       "<matplotlib.figure.Figure at 0x11e800b10>"
      ]
     },
     "metadata": {},
     "output_type": "display_data"
    }
   ],
   "source": [
    "plot_df = cvec.fit_transform(df['Plot']).todense()\n",
    "plot_col = cvec.get_feature_names()\n",
    "plot_df = pd.DataFrame(plot_df, columns=plot_col)\n",
    "plot = pd.DataFrame(plot_df.sum())\n",
    "plot.columns = ['Count']\n",
    "plot.sort_values(['Count'], inplace=True)\n",
    "plot['Count'].value_counts().sort_values(ascending=True)\n",
    "\n",
    "# print plot['Count'].value_counts()\n",
    "top_plot = plot[plot['Count'] > 15]\n",
    "top_plot.sort_values('Count', inplace=True)\n",
    "print top_plot.shape\n",
    "print top_plot.tail(10)\n",
    "\n",
    "ax = top_plot.plot(kind='barh', figsize=(16,12), color='mediumslateblue')\n",
    "ax.set_title('Top Plot Words in IMDB Top 250 Films', y=1.01)\n",
    "ax.tick_params(labelsize=16)\n",
    "ax.legend(fontsize=16, loc='center right')"
   ]
  },
  {
   "cell_type": "markdown",
   "metadata": {
    "hidden": true
   },
   "source": [
    "#### Title"
   ]
  },
  {
   "cell_type": "code",
   "execution_count": 72,
   "metadata": {
    "ExecuteTime": {
     "end_time": "2016-11-08T08:49:37.754618",
     "start_time": "2016-11-08T08:49:36.677588"
    },
    "collapsed": false,
    "hidden": true
   },
   "outputs": [
    {
     "name": "stdout",
     "output_type": "stream",
     "text": [
      "(25, 1)\n",
      "         Count\n",
      "city         3\n",
      "day          3\n",
      "episode      3\n",
      "man          3\n",
      "rings        3\n",
      "lord         3\n",
      "life         3\n",
      "story        3\n",
      "wars         4\n",
      "star         4\n"
     ]
    },
    {
     "data": {
      "text/plain": [
       "<matplotlib.legend.Legend at 0x120bebd90>"
      ]
     },
     "execution_count": 72,
     "metadata": {},
     "output_type": "execute_result"
    },
    {
     "data": {
      "image/png": "[encoded data removed]",
      "text/plain": [
       "<matplotlib.figure.Figure at 0x12044a090>"
      ]
     },
     "metadata": {},
     "output_type": "display_data"
    }
   ],
   "source": [
    "title_df = cvec.fit_transform(df['Title']).todense()\n",
    "title_col = cvec.get_feature_names()\n",
    "title_df = pd.DataFrame(title_df, columns=title_col)\n",
    "title = pd.DataFrame(title_df.sum())\n",
    "title.columns = ['Count']\n",
    "title.sort_values(['Count'], inplace=True)\n",
    "title['Count'].value_counts().sort_values(ascending=True)\n",
    "\n",
    "# print plot['Count'].value_counts()\n",
    "top_title = title[title['Count'] > 1]\n",
    "top_title.sort_values('Count', inplace=True)\n",
    "print top_title.shape\n",
    "print top_title.tail(10)\n",
    "\n",
    "ax = top_title.plot(kind='barh', figsize=(16,12), color='sage')\n",
    "ax.set_title('Top Title Words in IMDB Top 250 Films', y=1.01)\n",
    "ax.tick_params(labelsize=16)\n",
    "ax.legend(fontsize=16, loc='center right')"
   ]
  },
  {
   "cell_type": "markdown",
   "metadata": {
    "hidden": true
   },
   "source": [
    "#### Genre"
   ]
  },
  {
   "cell_type": "code",
   "execution_count": 73,
   "metadata": {
    "ExecuteTime": {
     "end_time": "2016-11-08T08:49:41.854498",
     "start_time": "2016-11-08T08:49:40.892856"
    },
    "collapsed": false,
    "hidden": true
   },
   "outputs": [
    {
     "name": "stdout",
     "output_type": "stream",
     "text": [
      "(23, 1)\n",
      "           Count\n",
      "sci           22\n",
      "fantasy       23\n",
      "biography     25\n",
      "mystery       30\n",
      "action        35\n",
      "thriller      41\n",
      "comedy        43\n",
      "crime         57\n",
      "adventure     61\n",
      "drama        172\n"
     ]
    },
    {
     "data": {
      "text/plain": [
       "<matplotlib.legend.Legend at 0x120d4d350>"
      ]
     },
     "execution_count": 73,
     "metadata": {},
     "output_type": "execute_result"
    },
    {
     "data": {
      "image/png": "[encoded data removed]",
      "text/plain": [
       "<matplotlib.figure.Figure at 0x120d4ded0>"
      ]
     },
     "metadata": {},
     "output_type": "display_data"
    }
   ],
   "source": [
    "genre_df = cvec.fit_transform(df['Genre']).todense()\n",
    "genre_col = cvec.get_feature_names()\n",
    "genre_df = pd.DataFrame(genre_df, columns=genre_col)\n",
    "genre = pd.DataFrame(genre_df.sum())\n",
    "genre.columns = ['Count']\n",
    "genre.sort_values(['Count'], inplace=True)\n",
    "genre['Count'].value_counts().sort_values(ascending=True)\n",
    "\n",
    "# print plot['Count'].value_counts()\n",
    "top_genre = genre[genre['Count'] > 0]\n",
    "top_genre.sort_values('Count', inplace=True)\n",
    "print top_genre.shape\n",
    "print top_genre.tail(10)\n",
    "\n",
    "ax = top_genre.plot(kind='barh', figsize=(16,12), color='darkseagreen')\n",
    "ax.set_title('Top Genres in IMDB Top 250 Films', y=1.01)\n",
    "ax.tick_params(labelsize=16)\n",
    "ax.legend(fontsize=16, loc='center right')"
   ]
  },
  {
   "cell_type": "markdown",
   "metadata": {
    "hidden": true
   },
   "source": [
    "#### Production Company"
   ]
  },
  {
   "cell_type": "code",
   "execution_count": 74,
   "metadata": {
    "ExecuteTime": {
     "end_time": "2016-11-08T08:49:45.851082",
     "start_time": "2016-11-08T08:49:44.804832"
    },
    "collapsed": false,
    "hidden": true
   },
   "outputs": [
    {
     "name": "stdout",
     "output_type": "stream",
     "text": [
      "0    SonyPicturesClassics\n",
      "1        ColumbiaPictures\n",
      "2       ParamountPictures\n",
      "Name: Production, dtype: object\n",
      "(19, 1)\n",
      "                    Count\n",
      "mgm                     6\n",
      "waltdisneypictures      7\n",
      "miramaxfilms           10\n",
      "columbiapictures       10\n",
      "20thcenturyfox         11\n",
      "universalpictures      12\n",
      "unitedartists          13\n",
      "paramountpictures      18\n",
      "pictures               21\n",
      "warnerbros             30\n"
     ]
    },
    {
     "name": "stderr",
     "output_type": "stream",
     "text": [
      "/anaconda/lib/python2.7/site-packages/ipykernel/__main__.py:15: SettingWithCopyWarning: \n",
      "A value is trying to be set on a copy of a slice from a DataFrame\n",
      "\n",
      "See the caveats in the documentation: http://pandas.pydata.org/pandas-docs/stable/indexing.html#indexing-view-versus-copy\n"
     ]
    },
    {
     "data": {
      "text/plain": [
       "<matplotlib.legend.Legend at 0x1214a7890>"
      ]
     },
     "execution_count": 74,
     "metadata": {},
     "output_type": "execute_result"
    },
    {
     "data": {
      "image/png": "[encoded data removed]",
      "text/plain": [
       "<matplotlib.figure.Figure at 0x12149d2d0>"
      ]
     },
     "metadata": {},
     "output_type": "display_data"
    }
   ],
   "source": [
    "# Create column of concatenated production company names to identify unique companies\n",
    "df['Production'] = df['Production'].apply(lambda x: x.replace(' ',''))\n",
    "print df['Production'].head(3)\n",
    "\n",
    "production_df = cvec.fit_transform(df['Production']).todense()\n",
    "production_col = cvec.get_feature_names()\n",
    "production_df = pd.DataFrame(production_df, columns=production_col)\n",
    "production = pd.DataFrame(production_df.sum())\n",
    "production.columns = ['Count']\n",
    "production.sort_values(['Count'], inplace=True)\n",
    "production['Count'].value_counts().sort_values(ascending=True)\n",
    "\n",
    "# print production['Count'].value_counts()\n",
    "top_production = production[production['Count'] > 2]\n",
    "top_production.sort_values('Count', inplace=True)\n",
    "print top_production.shape\n",
    "print top_production.tail(10)\n",
    "\n",
    "ax = top_production.plot(kind='barh', figsize=(16,12), color='darkorchid')\n",
    "ax.set_title('Top Plot Words in IMDB Top 250 Films', y=1.01)\n",
    "ax.tick_params(labelsize=16)\n",
    "ax.legend(fontsize=16, loc='center right')"
   ]
  },
  {
   "cell_type": "markdown",
   "metadata": {
    "hidden": true
   },
   "source": [
    "### New dataframes for limited top categorical columns"
   ]
  },
  {
   "cell_type": "code",
   "execution_count": 75,
   "metadata": {
    "ExecuteTime": {
     "end_time": "2016-11-08T08:49:51.419438",
     "start_time": "2016-11-08T08:49:51.411239"
    },
    "collapsed": false,
    "hidden": true
   },
   "outputs": [
    {
     "name": "stdout",
     "output_type": "stream",
     "text": [
      "(16, 1)\n",
      "(13, 1)\n",
      "(25, 1)\n",
      "(25, 1)\n",
      "(23, 1)\n",
      "(19, 1)\n"
     ]
    }
   ],
   "source": [
    "print top_actors.shape\n",
    "print top_directors.shape\n",
    "print top_plot.shape\n",
    "print top_title.shape\n",
    "print top_genre.shape\n",
    "print top_production.shape"
   ]
  },
  {
   "cell_type": "markdown",
   "metadata": {},
   "source": [
    "## EDA"
   ]
  },
  {
   "cell_type": "markdown",
   "metadata": {},
   "source": [
    "### Histograms"
   ]
  },
  {
   "cell_type": "markdown",
   "metadata": {},
   "source": [
    "#### Year, Runtime, Gross"
   ]
  },
  {
   "cell_type": "code",
   "execution_count": 77,
   "metadata": {
    "ExecuteTime": {
     "end_time": "2016-11-08T08:50:03.751009",
     "start_time": "2016-11-08T08:50:02.043440"
    },
    "collapsed": false
   },
   "outputs": [
    {
     "data": {
      "image/png": "[encoded data removed]",
      "text/plain": [
       "<matplotlib.figure.Figure at 0x12149de10>"
      ]
     },
     "metadata": {},
     "output_type": "display_data"
    }
   ],
   "source": [
    "plt.style.use('ggplot')\n",
    "fig = plt.figure(figsize=(16,24))\n",
    "\n",
    "ax1 = fig.add_subplot(3, 1, 1)\n",
    "ax2 = fig.add_subplot(3, 1, 2)\n",
    "ax3 = fig.add_subplot(3, 1, 3)\n",
    "\n",
    "ax1.hist(df['Year'], bins=50, color='royalblue')\n",
    "ax1.set_title('Distribution of Release Year in IMDB Top 250 Films', \\\n",
    "             fontsize=18, y=1.01)\n",
    "ax1.set_xlabel('Year', fontsize=14)\n",
    "ax1.set_ylim(top=16)\n",
    "ax1.tick_params(labelsize=14)\n",
    "\n",
    "ax2.hist(df['Runtime'], bins=50, color='lightseagreen')\n",
    "ax2.set_title('Distribution of Runtime in IMDB Top 250 Films', \\\n",
    "             fontsize=18, y=1.01)\n",
    "ax2.set_xlabel('Runtime (in minutes)', fontsize=14)\n",
    "ax2.tick_params(labelsize=14)\n",
    "\n",
    "gross_hist = df[df['Gross'] < 100000000]\n",
    "gross_hist = gross_hist[gross_hist['Gross'] > 0]\n",
    "ax3.hist(gross_hist['Gross']/1000, bins=50, color='dodgerblue')\n",
    "ax3.set_title('Distribution of Gross Revenue in IMDB Top 250 Films', \\\n",
    "             fontsize=18, y=1.01)\n",
    "ax3.set_xlabel('Gross Revenue (in $1000s)', fontsize=14, y = -2.01)\n",
    "ax3.tick_params(labelsize=14)"
   ]
  },
  {
   "cell_type": "code",
   "execution_count": 79,
   "metadata": {
    "ExecuteTime": {
     "end_time": "2016-11-08T08:50:08.272741",
     "start_time": "2016-11-08T08:50:07.354877"
    },
    "collapsed": false
   },
   "outputs": [
    {
     "data": {
      "text/plain": [
       "<matplotlib.lines.Line2D at 0x11e7e6f90>"
      ]
     },
     "execution_count": 79,
     "metadata": {},
     "output_type": "execute_result"
    },
    {
     "data": {
      "image/png": "[encoded data removed]",
      "text/plain": [
       "<matplotlib.figure.Figure at 0x123f43f10>"
      ]
     },
     "metadata": {},
     "output_type": "display_data"
    }
   ],
   "source": [
    "plt.style.use('ggplot')\n",
    "fig = plt.figure(figsize=(16,12))\n",
    "\n",
    "ax1 = fig.add_subplot(2, 1, 1)\n",
    "ax2 = fig.add_subplot(2, 1, 2)\n",
    "\n",
    "\n",
    "gross_hist = df[df['Gross'] < 10000000]\n",
    "gross_hist = gross_hist[gross_hist['Gross'] > 0]\n",
    "ax1.hist(gross_hist['Gross']/1000, bins=25, color='dodgerblue')\n",
    "ax1.set_title('Distribution of Gross Revenue in IMDB Top 250 Films', \\\n",
    "             fontsize=18, y=1.01)\n",
    "ax1.set_xlabel('Gross Revenue (in $1000s)', fontsize=14, y = -2.01)\n",
    "ax1.set_ylim(top=15)\n",
    "ax1.tick_params(labelsize=14)\n",
    "ax1.axvline(x=((gross_median*corr_index)),ymin=0,ymax=None,\\\n",
    "            c=\"red\",linewidth=5,zorder=0)\n"
   ]
  },
  {
   "cell_type": "markdown",
   "metadata": {},
   "source": [
    "#### Reviews"
   ]
  },
  {
   "cell_type": "code",
   "execution_count": 80,
   "metadata": {
    "ExecuteTime": {
     "end_time": "2016-11-08T08:50:14.132285",
     "start_time": "2016-11-08T08:50:13.494230"
    },
    "collapsed": false
   },
   "outputs": [
    {
     "data": {
      "image/png": "[encoded data removed]",
      "text/plain": [
       "<matplotlib.figure.Figure at 0x1206292d0>"
      ]
     },
     "metadata": {},
     "output_type": "display_data"
    }
   ],
   "source": [
    "plt.style.use('ggplot')\n",
    "fig, (ax1, ax2) = plt.subplots(nrows=1, ncols=2,figsize=(16,6))\n",
    "\n",
    "# metascore = df[df['Metascore'] > 0]\n",
    "# ax1.hist(metascore['Metascore'], color='royalblue')\n",
    "# ax1.set_title('Distribution of Metascores', \\\n",
    "#              fontsize=14, y=1.01)\n",
    "# ax1.tick_params(labelsize=12)\n",
    "\n",
    "tomatoMeter = df[df['tomatoMeter'] > 0]\n",
    "ax2.hist(tomatoMeter['tomatoMeter'], color='steelblue')\n",
    "ax2.set_title('Distribution of tomatoMeter Scores', \\\n",
    "             fontsize=14, y=1.01)\n",
    "ax2.tick_params(labelsize=12)"
   ]
  },
  {
   "cell_type": "code",
   "execution_count": 81,
   "metadata": {
    "ExecuteTime": {
     "end_time": "2016-11-08T08:50:15.484546",
     "start_time": "2016-11-08T08:50:14.239376"
    },
    "collapsed": false
   },
   "outputs": [
    {
     "data": {
      "image/png": "[encoded data removed]",
      "text/plain": [
       "<matplotlib.figure.Figure at 0x1248db490>"
      ]
     },
     "metadata": {},
     "output_type": "display_data"
    }
   ],
   "source": [
    "plt.style.use('ggplot')\n",
    "fig, (ax1, ax2, ax3) = plt.subplots(nrows=1, ncols=3,figsize=(20,6))\n",
    "\n",
    "imdbRating = df[df['imdbRating'] > 0]\n",
    "ax1.hist(df['imdbRating'], color='royalblue')\n",
    "ax1.set_title('Distribution of imdbRatings', \\\n",
    "             fontsize=18, y=1.01)\n",
    "ax1.tick_params(labelsize=12)\n",
    "\n",
    "tomatoRating = df[df['tomatoRating'] > 0]\n",
    "ax2.hist(tomatoMeter['tomatoRating'], color='steelblue')\n",
    "ax2.set_title('Distribution of tomatoRatings Scores', \\\n",
    "             fontsize=18, y=1.01)\n",
    "ax2.tick_params(labelsize=12)\n",
    "\n",
    "tomatoRating = df[df['tomatoRating'] > 0]\n",
    "ax2.hist(tomatoMeter['tomatoRating'], color='steelblue')\n",
    "ax2.set_title('Distribution of tomatoRatings Scores', \\\n",
    "             fontsize=18, y=1.01)\n",
    "\n",
    "\n",
    "tomatoUserRating = df[df['tomatoUserRating'] > 0]\n",
    "ax3.hist(tomatoMeter['tomatoUserRating'], color='navy')\n",
    "ax3.set_title('Distribution of tomatoUserRatings Scores', \\\n",
    "             fontsize=18, y=1.01)\n",
    "ax3.tick_params(labelsize=12)"
   ]
  },
  {
   "cell_type": "markdown",
   "metadata": {
    "heading_collapsed": true
   },
   "source": [
    "### Scatterplots"
   ]
  },
  {
   "cell_type": "raw",
   "metadata": {
    "ExecuteTime": {
     "end_time": "2016-11-07T10:25:19.557452",
     "start_time": "2016-11-07T10:25:17.935816"
    },
    "hidden": true
   },
   "source": [
    "pairplot_cols = ['Gross', 'imdbRating', 'imdbVotes']\n",
    "pairplot_df = df.loc[:, pairplot_cols]\n",
    "sns.pairplot(pairplot_df)"
   ]
  },
  {
   "cell_type": "code",
   "execution_count": null,
   "metadata": {
    "ExecuteTime": {
     "end_time": "2016-11-07T10:24:55.512360",
     "start_time": "2016-11-07T10:24:34.015238"
    },
    "collapsed": true,
    "hidden": true
   },
   "outputs": [],
   "source": [
    "pairplot_cols = ['Gross', 'imdbRating', 'imdbVotes', \\\n",
    "                 'tomatoMeter', 'tomatoRating', 'tomatoReviews', 'tomatoFresh', \\\n",
    "                 'tomatoRotten', 'Oscars_Won', 'Oscar_Noms', 'Awards_Won', 'Other_Noms']\n",
    "pairplot_df = df.loc[:, pairplot_cols]\n",
    "sns.pairplot(pairplot_df)"
   ]
  },
  {
   "cell_type": "code",
   "execution_count": null,
   "metadata": {
    "collapsed": true,
    "hidden": true
   },
   "outputs": [],
   "source": []
  },
  {
   "cell_type": "code",
   "execution_count": null,
   "metadata": {
    "collapsed": true,
    "hidden": true
   },
   "outputs": [],
   "source": []
  },
  {
   "cell_type": "markdown",
   "metadata": {
    "heading_collapsed": true
   },
   "source": [
    "### Unused Separate Histograms"
   ]
  },
  {
   "cell_type": "code",
   "execution_count": null,
   "metadata": {
    "ExecuteTime": {
     "end_time": "2016-11-05T12:51:02.545299",
     "start_time": "2016-11-05T12:51:01.055899"
    },
    "collapsed": false,
    "hidden": true
   },
   "outputs": [],
   "source": [
    "bins_dict = {'Year': 50, 'Runtime': 50, 'imdbRating': 50}\n",
    "facecolor_dict = {'Year': 'royalblue', 'Runtime': 'coral', 'imdbRating': 'lightseagreen'}\n",
    "axis_titles = {'Year': 'Distribution of Years in IMDB Top 250 Films',\n",
    "              'Runtime': 'Distribution of Runtime in IMDB Top 250 Films',\n",
    "              'imdbRating': 'Distribution of Years in IMDB Top 250 Films'}\n",
    "#data, column=None, by=None, grid=True, xlabelsize=None, \n",
    "#xrot=None, ylabelsize=None, yrot=None, ax=None, sharex=False, \n",
    "#sharey=False, figsize=None, layout=None, bins=10, **kwds)¶\n",
    "xlabel = 14\n",
    "ylabel = 14\n",
    "year_bins = 50\n",
    "df['Year'].hist(figsize=(16,4),xlabelsize=xlabel, ylabelsize=ylabel, bins=bins_dict['Year'],\n",
    "               facecolor=facecolor_dict['Year'], alpha = .85)"
   ]
  },
  {
   "cell_type": "code",
   "execution_count": null,
   "metadata": {
    "ExecuteTime": {
     "end_time": "2016-11-05T00:06:30.345443",
     "start_time": "2016-11-05T00:06:30.317181"
    },
    "collapsed": true,
    "hidden": true
   },
   "outputs": [],
   "source": [
    "bins_dict = {'Year': 50, 'Runtime': 50, 'imdbRating': 50}\n",
    "facecolor_dict = {'Year': 'royalblue', 'Runtime': 'coral', 'imdbRating': 'lightseagreen'}\n",
    "axis_titles = {'Year': 'Distribution of Years in IMDB Top 250 Films',\n",
    "              'Runtime': 'Distribution of Runtime in IMDB Top 250 Films',\n",
    "              'imdbRating': 'Distribution of Years in IMDB Top 250 Films'}\n",
    "\n",
    "\n",
    "def hist_plot(x):\n",
    "    fig = plt.figure(figsize=(16,6))\n",
    "    ax = fig.add_subplot(111)\n",
    "    n, bins, patches = ax.hist(x,  bins=bins_dict[x], facecolor=facecolor_dict[x], alpha=0.85)\n",
    "    ax.set_title(axis_titles[x], fontsize=20, y=1.02)\n",
    "    #ax.set_xticklabels(labels, fontsize=16)\n",
    "    #ax.set_xticks(labels)\n",
    "    #ax.set_ylim(0, 16)\n",
    "    #y_labels = [i for i in range(18) if i%2 == 0]\n",
    "    #ax.set_yticklabels(y_labels, fontsize=16)"
   ]
  },
  {
   "cell_type": "code",
   "execution_count": null,
   "metadata": {
    "ExecuteTime": {
     "end_time": "2016-11-04T17:34:38.654718",
     "start_time": "2016-11-04T17:34:38.016353"
    },
    "code_folding": [],
    "collapsed": false,
    "hidden": true
   },
   "outputs": [],
   "source": [
    "# Years\n",
    "fig = plt.figure(figsize=(16,6))\n",
    "ax = fig.add_subplot(111)\n",
    "n, bins, patches = ax.hist(df['Year'],  bins=50, facecolor='royalblue', alpha=0.85)\n",
    "\n",
    "def decades():\n",
    "    i = 1910\n",
    "    labels = []\n",
    "    while i < 2020:\n",
    "        labels.append(i + 10)\n",
    "        i += 10\n",
    "    return labels\n",
    "labels = decades()\n",
    "\n",
    "ax.set_title('Distribution of Years in IMDB Top 250 Films', fontsize=20, y=1.02)\n",
    "ax.set_xticklabels(labels, fontsize=16)\n",
    "ax.set_xticks(labels)\n",
    "ax.set_ylim(0, 16)\n",
    "y_labels = [i for i in range(18) if i%2 == 0]\n",
    "ax.set_yticklabels(y_labels, fontsize=16)"
   ]
  },
  {
   "cell_type": "code",
   "execution_count": null,
   "metadata": {
    "ExecuteTime": {
     "end_time": "2016-11-06T12:01:08.514453",
     "start_time": "2016-11-06T12:01:08.169207"
    },
    "collapsed": false,
    "hidden": true
   },
   "outputs": [],
   "source": [
    "# Runtime\n",
    "fig = plt.figure(figsize=(16,6))\n",
    "ax = fig.add_subplot(111)\n",
    "n, bins, patches = ax.hist(df['Runtime'],  bins=50, facecolor='coral', alpha=0.85)\n",
    "\n",
    "ax.set_title('Distribution of Runtime in IMDB Top 250 Films', fontsize=20, y=1.02)"
   ]
  },
  {
   "cell_type": "markdown",
   "metadata": {
    "heading_collapsed": true
   },
   "source": [
    "## Standardizing and Dummies"
   ]
  },
  {
   "cell_type": "markdown",
   "metadata": {
    "hidden": true
   },
   "source": [
    "### Use StandardScaler to standardize numerical data"
   ]
  },
  {
   "cell_type": "code",
   "execution_count": 82,
   "metadata": {
    "ExecuteTime": {
     "end_time": "2016-11-08T08:50:43.671168",
     "start_time": "2016-11-08T08:50:43.657405"
    },
    "collapsed": false,
    "hidden": true
   },
   "outputs": [
    {
     "data": {
      "text/plain": [
       "['Year',\n",
       " 'imdbRating',\n",
       " 'imdbVotes',\n",
       " 'tomatoMeter',\n",
       " 'tomatoRating',\n",
       " 'tomatoReviews',\n",
       " 'tomatoUserMeter',\n",
       " 'tomatoUserRating',\n",
       " 'tomatoUserReviews',\n",
       " 'tomatoFresh',\n",
       " 'tomatoRotten',\n",
       " 'Runtime',\n",
       " 'Oscars_Won',\n",
       " 'Oscar_Noms',\n",
       " 'Awards_Won',\n",
       " 'Other_Noms',\n",
       " 'Adj_Gross']"
      ]
     },
     "execution_count": 82,
     "metadata": {},
     "output_type": "execute_result"
    }
   ],
   "source": [
    "# Isolate numeric columns for standardizing\n",
    "number_cols = [i for i in df.columns if df[i].dtype == 'float64' \\\n",
    "              or df[i].dtype == 'int']\n",
    "number_cols.remove('Gross')\n",
    "number_cols"
   ]
  },
  {
   "cell_type": "code",
   "execution_count": 83,
   "metadata": {
    "ExecuteTime": {
     "end_time": "2016-11-08T08:50:48.494109",
     "start_time": "2016-11-08T08:50:48.475874"
    },
    "collapsed": false,
    "hidden": true
   },
   "outputs": [],
   "source": [
    "# Standardize numeric columns\n",
    "standardscaler = StandardScaler()\n",
    "df.loc[:, number_cols] = standardscaler.fit_transform(df[number_cols])"
   ]
  },
  {
   "cell_type": "markdown",
   "metadata": {
    "hidden": true
   },
   "source": [
    "### Create dummy variables"
   ]
  },
  {
   "cell_type": "code",
   "execution_count": 85,
   "metadata": {
    "ExecuteTime": {
     "end_time": "2016-11-08T08:51:41.684198",
     "start_time": "2016-11-08T08:51:41.651602"
    },
    "collapsed": false,
    "hidden": true
   },
   "outputs": [
    {
     "data": {
      "text/html": [
       "<div>\n",
       "<table border=\"1\" class=\"dataframe\">\n",
       "  <thead>\n",
       "    <tr style=\"text-align: right;\">\n",
       "      <th></th>\n",
       "      <th>Rated_G</th>\n",
       "      <th>Rated_OTHER</th>\n",
       "      <th>Rated_PG</th>\n",
       "      <th>Rated_PG-13</th>\n",
       "      <th>Rated_R</th>\n",
       "    </tr>\n",
       "  </thead>\n",
       "  <tbody>\n",
       "    <tr>\n",
       "      <th>0</th>\n",
       "      <td>0</td>\n",
       "      <td>0</td>\n",
       "      <td>0</td>\n",
       "      <td>0</td>\n",
       "      <td>1</td>\n",
       "    </tr>\n",
       "    <tr>\n",
       "      <th>1</th>\n",
       "      <td>0</td>\n",
       "      <td>1</td>\n",
       "      <td>0</td>\n",
       "      <td>0</td>\n",
       "      <td>0</td>\n",
       "    </tr>\n",
       "    <tr>\n",
       "      <th>2</th>\n",
       "      <td>0</td>\n",
       "      <td>0</td>\n",
       "      <td>1</td>\n",
       "      <td>0</td>\n",
       "      <td>0</td>\n",
       "    </tr>\n",
       "  </tbody>\n",
       "</table>\n",
       "</div>"
      ],
      "text/plain": [
       "   Rated_G  Rated_OTHER  Rated_PG  Rated_PG-13  Rated_R\n",
       "0        0            0         0            0        1\n",
       "1        0            1         0            0        0\n",
       "2        0            0         1            0        0"
      ]
     },
     "execution_count": 85,
     "metadata": {},
     "output_type": "execute_result"
    }
   ],
   "source": [
    "# Create dummy variables for rated column\n",
    "rated = pd.get_dummies(df['Rated'], prefix='Rated')\n",
    "rated.head(3)"
   ]
  },
  {
   "cell_type": "code",
   "execution_count": 86,
   "metadata": {
    "ExecuteTime": {
     "end_time": "2016-11-08T08:51:42.786647",
     "start_time": "2016-11-08T08:51:42.761591"
    },
    "collapsed": false,
    "hidden": true
   },
   "outputs": [
    {
     "data": {
      "text/html": [
       "<div>\n",
       "<table border=\"1\" class=\"dataframe\">\n",
       "  <thead>\n",
       "    <tr style=\"text-align: right;\">\n",
       "      <th></th>\n",
       "      <th>Genre_Action</th>\n",
       "      <th>Genre_Adventure</th>\n",
       "      <th>Genre_Animation</th>\n",
       "      <th>Genre_Biography</th>\n",
       "      <th>Genre_Comedy</th>\n",
       "      <th>Genre_Crime</th>\n",
       "      <th>Genre_Drama</th>\n",
       "      <th>Genre_Film-Noir</th>\n",
       "      <th>Genre_Horror</th>\n",
       "      <th>Genre_Mystery</th>\n",
       "      <th>Genre_Sci-Fi</th>\n",
       "      <th>Genre_Western</th>\n",
       "    </tr>\n",
       "  </thead>\n",
       "  <tbody>\n",
       "    <tr>\n",
       "      <th>0</th>\n",
       "      <td>0</td>\n",
       "      <td>0</td>\n",
       "      <td>0</td>\n",
       "      <td>0</td>\n",
       "      <td>0</td>\n",
       "      <td>0</td>\n",
       "      <td>1</td>\n",
       "      <td>0</td>\n",
       "      <td>0</td>\n",
       "      <td>0</td>\n",
       "      <td>0</td>\n",
       "      <td>0</td>\n",
       "    </tr>\n",
       "    <tr>\n",
       "      <th>1</th>\n",
       "      <td>1</td>\n",
       "      <td>0</td>\n",
       "      <td>0</td>\n",
       "      <td>0</td>\n",
       "      <td>0</td>\n",
       "      <td>0</td>\n",
       "      <td>0</td>\n",
       "      <td>0</td>\n",
       "      <td>0</td>\n",
       "      <td>0</td>\n",
       "      <td>0</td>\n",
       "      <td>0</td>\n",
       "    </tr>\n",
       "    <tr>\n",
       "      <th>2</th>\n",
       "      <td>1</td>\n",
       "      <td>0</td>\n",
       "      <td>0</td>\n",
       "      <td>0</td>\n",
       "      <td>0</td>\n",
       "      <td>0</td>\n",
       "      <td>0</td>\n",
       "      <td>0</td>\n",
       "      <td>0</td>\n",
       "      <td>0</td>\n",
       "      <td>0</td>\n",
       "      <td>0</td>\n",
       "    </tr>\n",
       "  </tbody>\n",
       "</table>\n",
       "</div>"
      ],
      "text/plain": [
       "   Genre_Action  Genre_Adventure  Genre_Animation  Genre_Biography  \\\n",
       "0             0                0                0                0   \n",
       "1             1                0                0                0   \n",
       "2             1                0                0                0   \n",
       "\n",
       "   Genre_Comedy  Genre_Crime  Genre_Drama  Genre_Film-Noir  Genre_Horror  \\\n",
       "0             0            0            1                0             0   \n",
       "1             0            0            0                0             0   \n",
       "2             0            0            0                0             0   \n",
       "\n",
       "   Genre_Mystery  Genre_Sci-Fi  Genre_Western  \n",
       "0              0             0              0  \n",
       "1              0             0              0  \n",
       "2              0             0              0  "
      ]
     },
     "execution_count": 86,
     "metadata": {},
     "output_type": "execute_result"
    }
   ],
   "source": [
    "# Create dummy variables for genre column\n",
    "genre = pd.get_dummies(df['Genre_1'], prefix='Genre')\n",
    "genre.head(3)"
   ]
  },
  {
   "cell_type": "code",
   "execution_count": 87,
   "metadata": {
    "ExecuteTime": {
     "end_time": "2016-11-08T08:51:45.049564",
     "start_time": "2016-11-08T08:51:45.032433"
    },
    "collapsed": false,
    "hidden": true
   },
   "outputs": [
    {
     "data": {
      "text/html": [
       "<div>\n",
       "<table border=\"1\" class=\"dataframe\">\n",
       "  <thead>\n",
       "    <tr style=\"text-align: right;\">\n",
       "      <th></th>\n",
       "      <th>Season_Fall</th>\n",
       "      <th>Season_Holiday</th>\n",
       "      <th>Season_Summer</th>\n",
       "      <th>Season_Winter</th>\n",
       "    </tr>\n",
       "  </thead>\n",
       "  <tbody>\n",
       "    <tr>\n",
       "      <th>0</th>\n",
       "      <td>1</td>\n",
       "      <td>0</td>\n",
       "      <td>0</td>\n",
       "      <td>0</td>\n",
       "    </tr>\n",
       "    <tr>\n",
       "      <th>1</th>\n",
       "      <td>0</td>\n",
       "      <td>1</td>\n",
       "      <td>0</td>\n",
       "      <td>0</td>\n",
       "    </tr>\n",
       "    <tr>\n",
       "      <th>2</th>\n",
       "      <td>0</td>\n",
       "      <td>0</td>\n",
       "      <td>1</td>\n",
       "      <td>0</td>\n",
       "    </tr>\n",
       "  </tbody>\n",
       "</table>\n",
       "</div>"
      ],
      "text/plain": [
       "   Season_Fall  Season_Holiday  Season_Summer  Season_Winter\n",
       "0            1               0              0              0\n",
       "1            0               1              0              0\n",
       "2            0               0              1              0"
      ]
     },
     "execution_count": 87,
     "metadata": {},
     "output_type": "execute_result"
    }
   ],
   "source": [
    "# Create dummy variables for genre column\n",
    "season = pd.get_dummies(df['Season'], prefix='Season')\n",
    "season.head(3)"
   ]
  },
  {
   "cell_type": "code",
   "execution_count": 88,
   "metadata": {
    "ExecuteTime": {
     "end_time": "2016-11-08T08:51:46.697570",
     "start_time": "2016-11-08T08:51:46.665146"
    },
    "collapsed": false,
    "hidden": true
   },
   "outputs": [
    {
     "data": {
      "text/html": [
       "<div>\n",
       "<table border=\"1\" class=\"dataframe\">\n",
       "  <thead>\n",
       "    <tr style=\"text-align: right;\">\n",
       "      <th></th>\n",
       "      <th>Month_</th>\n",
       "      <th>Month_Apr</th>\n",
       "      <th>Month_Aug</th>\n",
       "      <th>Month_Dec</th>\n",
       "      <th>Month_Feb</th>\n",
       "      <th>Month_Jan</th>\n",
       "      <th>Month_Jul</th>\n",
       "      <th>Month_Jun</th>\n",
       "      <th>Month_Mar</th>\n",
       "      <th>Month_May</th>\n",
       "      <th>Month_Nov</th>\n",
       "      <th>Month_Oct</th>\n",
       "      <th>Month_Sep</th>\n",
       "    </tr>\n",
       "  </thead>\n",
       "  <tbody>\n",
       "    <tr>\n",
       "      <th>0</th>\n",
       "      <td>0</td>\n",
       "      <td>0</td>\n",
       "      <td>0</td>\n",
       "      <td>0</td>\n",
       "      <td>0</td>\n",
       "      <td>0</td>\n",
       "      <td>0</td>\n",
       "      <td>0</td>\n",
       "      <td>0</td>\n",
       "      <td>0</td>\n",
       "      <td>0</td>\n",
       "      <td>1</td>\n",
       "      <td>0</td>\n",
       "    </tr>\n",
       "    <tr>\n",
       "      <th>1</th>\n",
       "      <td>0</td>\n",
       "      <td>0</td>\n",
       "      <td>0</td>\n",
       "      <td>0</td>\n",
       "      <td>0</td>\n",
       "      <td>0</td>\n",
       "      <td>0</td>\n",
       "      <td>0</td>\n",
       "      <td>0</td>\n",
       "      <td>0</td>\n",
       "      <td>1</td>\n",
       "      <td>0</td>\n",
       "      <td>0</td>\n",
       "    </tr>\n",
       "    <tr>\n",
       "      <th>2</th>\n",
       "      <td>0</td>\n",
       "      <td>0</td>\n",
       "      <td>0</td>\n",
       "      <td>0</td>\n",
       "      <td>0</td>\n",
       "      <td>0</td>\n",
       "      <td>0</td>\n",
       "      <td>1</td>\n",
       "      <td>0</td>\n",
       "      <td>0</td>\n",
       "      <td>0</td>\n",
       "      <td>0</td>\n",
       "      <td>0</td>\n",
       "    </tr>\n",
       "  </tbody>\n",
       "</table>\n",
       "</div>"
      ],
      "text/plain": [
       "   Month_  Month_Apr  Month_Aug  Month_Dec  Month_Feb  Month_Jan  Month_Jul  \\\n",
       "0       0          0          0          0          0          0          0   \n",
       "1       0          0          0          0          0          0          0   \n",
       "2       0          0          0          0          0          0          0   \n",
       "\n",
       "   Month_Jun  Month_Mar  Month_May  Month_Nov  Month_Oct  Month_Sep  \n",
       "0          0          0          0          0          1          0  \n",
       "1          0          0          0          1          0          0  \n",
       "2          1          0          0          0          0          0  "
      ]
     },
     "execution_count": 88,
     "metadata": {},
     "output_type": "execute_result"
    }
   ],
   "source": [
    "# Create dummy variables for month column\n",
    "month = pd.get_dummies(df['Month'], prefix='Month')\n",
    "month.head(3)"
   ]
  },
  {
   "cell_type": "markdown",
   "metadata": {
    "hidden": true
   },
   "source": [
    "### Create a new model_df by concatenating other dataframes together"
   ]
  },
  {
   "cell_type": "code",
   "execution_count": null,
   "metadata": {
    "collapsed": true,
    "hidden": true
   },
   "outputs": [],
   "source": [
    "# list of dataframes:\n",
    "\"\"\"\n",
    "df\n",
    "actors_df\n",
    "directors_df\n",
    "plot_df\n",
    "title_df\n",
    "genre_df\n",
    "production_df\n",
    "rated\n",
    "genre\n",
    "season\n",
    "month\n",
    "\"\"\""
   ]
  },
  {
   "cell_type": "code",
   "execution_count": 89,
   "metadata": {
    "ExecuteTime": {
     "end_time": "2016-11-08T08:51:52.408898",
     "start_time": "2016-11-08T08:51:52.360875"
    },
    "collapsed": false,
    "hidden": true
   },
   "outputs": [
    {
     "data": {
      "text/html": [
       "<div>\n",
       "<table border=\"1\" class=\"dataframe\">\n",
       "  <thead>\n",
       "    <tr style=\"text-align: right;\">\n",
       "      <th></th>\n",
       "      <th>Year</th>\n",
       "      <th>Released</th>\n",
       "      <th>imdbRating</th>\n",
       "      <th>imdbVotes</th>\n",
       "      <th>tomatoMeter</th>\n",
       "      <th>tomatoRating</th>\n",
       "      <th>tomatoReviews</th>\n",
       "      <th>tomatoUserMeter</th>\n",
       "      <th>tomatoUserRating</th>\n",
       "      <th>tomatoUserReviews</th>\n",
       "      <th>tomatoFresh</th>\n",
       "      <th>tomatoRotten</th>\n",
       "      <th>Runtime</th>\n",
       "      <th>Oscars_Won</th>\n",
       "      <th>Awards_Won</th>\n",
       "      <th>Oscar_Noms</th>\n",
       "      <th>Other_Noms</th>\n",
       "      <th>Adj_Gross</th>\n",
       "    </tr>\n",
       "  </thead>\n",
       "  <tbody>\n",
       "    <tr>\n",
       "      <th>0</th>\n",
       "      <td>1.238348</td>\n",
       "      <td>2014-10-15</td>\n",
       "      <td>0.770426</td>\n",
       "      <td>0.021450</td>\n",
       "      <td>0.2679</td>\n",
       "      <td>0.431387</td>\n",
       "      <td>1.726528</td>\n",
       "      <td>0.423738</td>\n",
       "      <td>1.647332</td>\n",
       "      <td>-0.239997</td>\n",
       "      <td>1.875754</td>\n",
       "      <td>0.304953</td>\n",
       "      <td>-0.694059</td>\n",
       "      <td>0.728251</td>\n",
       "      <td>1.669233</td>\n",
       "      <td>-0.483864</td>\n",
       "      <td>2.047323</td>\n",
       "      <td>-0.665315</td>\n",
       "    </tr>\n",
       "    <tr>\n",
       "      <th>1</th>\n",
       "      <td>-1.242649</td>\n",
       "      <td>1956-11-19</td>\n",
       "      <td>1.628362</td>\n",
       "      <td>-0.513096</td>\n",
       "      <td>1.0880</td>\n",
       "      <td>1.432616</td>\n",
       "      <td>-0.637626</td>\n",
       "      <td>1.159394</td>\n",
       "      <td>1.647332</td>\n",
       "      <td>-0.236394</td>\n",
       "      <td>-0.577586</td>\n",
       "      <td>-0.725294</td>\n",
       "      <td>2.432333</td>\n",
       "      <td>-0.651013</td>\n",
       "      <td>-0.581591</td>\n",
       "      <td>0.750482</td>\n",
       "      <td>-0.619018</td>\n",
       "      <td>-0.775033</td>\n",
       "    </tr>\n",
       "  </tbody>\n",
       "</table>\n",
       "</div>"
      ],
      "text/plain": [
       "       Year   Released  imdbRating  imdbVotes  tomatoMeter  tomatoRating  \\\n",
       "0  1.238348 2014-10-15    0.770426   0.021450       0.2679      0.431387   \n",
       "1 -1.242649 1956-11-19    1.628362  -0.513096       1.0880      1.432616   \n",
       "\n",
       "   tomatoReviews  tomatoUserMeter  tomatoUserRating  tomatoUserReviews  \\\n",
       "0       1.726528         0.423738          1.647332          -0.239997   \n",
       "1      -0.637626         1.159394          1.647332          -0.236394   \n",
       "\n",
       "   tomatoFresh  tomatoRotten   Runtime  Oscars_Won  Awards_Won  Oscar_Noms  \\\n",
       "0     1.875754      0.304953 -0.694059    0.728251    1.669233   -0.483864   \n",
       "1    -0.577586     -0.725294  2.432333   -0.651013   -0.581591    0.750482   \n",
       "\n",
       "   Other_Noms  Adj_Gross  \n",
       "0    2.047323  -0.665315  \n",
       "1   -0.619018  -0.775033  "
      ]
     },
     "execution_count": 89,
     "metadata": {},
     "output_type": "execute_result"
    }
   ],
   "source": [
    "model_df = df[['Year', 'Released', 'imdbRating', 'imdbVotes', \\\n",
    "             'tomatoMeter', 'tomatoRating', 'tomatoReviews', \\\n",
    "             'tomatoUserMeter', 'tomatoUserRating', 'tomatoUserReviews', \\\n",
    "             'tomatoFresh', 'tomatoRotten', 'Runtime', \\\n",
    "              'Oscars_Won', 'Awards_Won', 'Oscar_Noms', 'Other_Noms', \\\n",
    "             'Adj_Gross']]\n",
    "model_df.head(2)"
   ]
  },
  {
   "cell_type": "code",
   "execution_count": 92,
   "metadata": {
    "ExecuteTime": {
     "end_time": "2016-11-08T08:52:15.600570",
     "start_time": "2016-11-08T08:52:15.592501"
    },
    "collapsed": false,
    "hidden": true
   },
   "outputs": [
    {
     "name": "stdout",
     "output_type": "stream",
     "text": [
      "df (250, 36)\n",
      "actors_df (250, 25)\n",
      "directors_df (250, 25)\n",
      "plot_df (250, 25)\n",
      "title_df (250, 25)\n",
      "genre_df (250, 23)\n",
      "production_df (250, 25)\n",
      "rated (250, 5)\n",
      "genre (250, 12)\n",
      "season (250, 4)\n",
      "month (250, 13)\n"
     ]
    }
   ],
   "source": [
    "print 'df', df.shape\n",
    "print 'actors_df', actors_df.shape\n",
    "print 'directors_df', directors_df.shape\n",
    "print 'plot_df', plot_df.shape\n",
    "print 'title_df', title_df.shape\n",
    "print 'genre_df', genre_df.shape\n",
    "print 'production_df', production_df.shape\n",
    "print 'rated', rated.shape\n",
    "print 'genre', genre.shape\n",
    "print 'season', season.shape\n",
    "print 'month', month.shape"
   ]
  },
  {
   "cell_type": "code",
   "execution_count": null,
   "metadata": {
    "ExecuteTime": {
     "end_time": "2016-11-07T14:59:56.745576",
     "start_time": "2016-11-07T14:59:56.607530"
    },
    "collapsed": true,
    "hidden": true
   },
   "outputs": [],
   "source": [
    "# model_df = pd.concat([model_df, actors_df, directors_df, plot_df, title_df, \\\n",
    "#                      genre_df, production_df, rated, genre, season], axis=1)\n",
    "# print model_df.shape\n",
    "# model_df.head(2)"
   ]
  },
  {
   "cell_type": "code",
   "execution_count": 93,
   "metadata": {
    "ExecuteTime": {
     "end_time": "2016-11-08T08:52:30.666782",
     "start_time": "2016-11-08T08:52:30.625534"
    },
    "collapsed": false,
    "hidden": true
   },
   "outputs": [
    {
     "name": "stdout",
     "output_type": "stream",
     "text": [
      "(250, 200)\n"
     ]
    },
    {
     "data": {
      "text/html": [
       "<div>\n",
       "<table border=\"1\" class=\"dataframe\">\n",
       "  <thead>\n",
       "    <tr style=\"text-align: right;\">\n",
       "      <th></th>\n",
       "      <th>Year</th>\n",
       "      <th>Released</th>\n",
       "      <th>imdbRating</th>\n",
       "      <th>imdbVotes</th>\n",
       "      <th>tomatoMeter</th>\n",
       "      <th>tomatoRating</th>\n",
       "      <th>tomatoReviews</th>\n",
       "      <th>tomatoUserMeter</th>\n",
       "      <th>tomatoUserRating</th>\n",
       "      <th>tomatoUserReviews</th>\n",
       "      <th>...</th>\n",
       "      <th>Month_Dec</th>\n",
       "      <th>Month_Feb</th>\n",
       "      <th>Month_Jan</th>\n",
       "      <th>Month_Jul</th>\n",
       "      <th>Month_Jun</th>\n",
       "      <th>Month_Mar</th>\n",
       "      <th>Month_May</th>\n",
       "      <th>Month_Nov</th>\n",
       "      <th>Month_Oct</th>\n",
       "      <th>Month_Sep</th>\n",
       "    </tr>\n",
       "  </thead>\n",
       "  <tbody>\n",
       "    <tr>\n",
       "      <th>0</th>\n",
       "      <td>1.238348</td>\n",
       "      <td>2014-10-15</td>\n",
       "      <td>0.770426</td>\n",
       "      <td>0.021450</td>\n",
       "      <td>0.2679</td>\n",
       "      <td>0.431387</td>\n",
       "      <td>1.726528</td>\n",
       "      <td>0.423738</td>\n",
       "      <td>1.647332</td>\n",
       "      <td>-0.239997</td>\n",
       "      <td>...</td>\n",
       "      <td>0</td>\n",
       "      <td>0</td>\n",
       "      <td>0</td>\n",
       "      <td>0</td>\n",
       "      <td>0</td>\n",
       "      <td>0</td>\n",
       "      <td>0</td>\n",
       "      <td>0</td>\n",
       "      <td>1</td>\n",
       "      <td>0</td>\n",
       "    </tr>\n",
       "    <tr>\n",
       "      <th>1</th>\n",
       "      <td>-1.242649</td>\n",
       "      <td>1956-11-19</td>\n",
       "      <td>1.628362</td>\n",
       "      <td>-0.513096</td>\n",
       "      <td>1.0880</td>\n",
       "      <td>1.432616</td>\n",
       "      <td>-0.637626</td>\n",
       "      <td>1.159394</td>\n",
       "      <td>1.647332</td>\n",
       "      <td>-0.236394</td>\n",
       "      <td>...</td>\n",
       "      <td>0</td>\n",
       "      <td>0</td>\n",
       "      <td>0</td>\n",
       "      <td>0</td>\n",
       "      <td>0</td>\n",
       "      <td>0</td>\n",
       "      <td>0</td>\n",
       "      <td>1</td>\n",
       "      <td>0</td>\n",
       "      <td>0</td>\n",
       "    </tr>\n",
       "  </tbody>\n",
       "</table>\n",
       "<p>2 rows × 200 columns</p>\n",
       "</div>"
      ],
      "text/plain": [
       "       Year   Released  imdbRating  imdbVotes  tomatoMeter  tomatoRating  \\\n",
       "0  1.238348 2014-10-15    0.770426   0.021450       0.2679      0.431387   \n",
       "1 -1.242649 1956-11-19    1.628362  -0.513096       1.0880      1.432616   \n",
       "\n",
       "   tomatoReviews  tomatoUserMeter  tomatoUserRating  tomatoUserReviews  \\\n",
       "0       1.726528         0.423738          1.647332          -0.239997   \n",
       "1      -0.637626         1.159394          1.647332          -0.236394   \n",
       "\n",
       "     ...      Month_Dec  Month_Feb  Month_Jan  Month_Jul  Month_Jun  \\\n",
       "0    ...              0          0          0          0          0   \n",
       "1    ...              0          0          0          0          0   \n",
       "\n",
       "   Month_Mar  Month_May  Month_Nov  Month_Oct  Month_Sep  \n",
       "0          0          0          0          1          0  \n",
       "1          0          0          1          0          0  \n",
       "\n",
       "[2 rows x 200 columns]"
      ]
     },
     "execution_count": 93,
     "metadata": {},
     "output_type": "execute_result"
    }
   ],
   "source": [
    "model_df1 = pd.concat([model_df, actors_df, directors_df, plot_df, title_df,\n",
    "                      genre_df, production_df, rated, genre, season, month], \n",
    "                      axis=1)\n",
    "print model_df1.shape\n",
    "model_df1.head(2)"
   ]
  },
  {
   "cell_type": "markdown",
   "metadata": {},
   "source": [
    "## Modeling"
   ]
  },
  {
   "cell_type": "code",
   "execution_count": 94,
   "metadata": {
    "ExecuteTime": {
     "end_time": "2016-11-08T08:52:34.555537",
     "start_time": "2016-11-08T08:52:34.538815"
    },
    "collapsed": false
   },
   "outputs": [],
   "source": [
    "X = model_df1.drop(['imdbRating', 'Released'], axis=1)\n",
    "y = model_df1['imdbRating']"
   ]
  },
  {
   "cell_type": "markdown",
   "metadata": {},
   "source": [
    "### Regressions"
   ]
  },
  {
   "cell_type": "code",
   "execution_count": 117,
   "metadata": {
    "ExecuteTime": {
     "end_time": "2016-11-08T08:57:02.658504",
     "start_time": "2016-11-08T08:57:02.651060"
    },
    "collapsed": true
   },
   "outputs": [],
   "source": [
    "### Regressors ###\n",
    "# dt = DecisionTreeRegressor()\n",
    "# bdt = BaggingRegressor(DecisionTreeRegressor())\n",
    "# rf = RandomForestRegressor()\n",
    "# ada = AdaBoostRegressor()\n",
    "# gd = GradientDescentRegressor()\n",
    "#models_list = [dt, bdt, rf, ada, gd]\n",
    "model_list = [\n",
    "    ['DecisionTree_Reg', DecisionTreeRegressor(random_state=7)],\n",
    "    ['Bagging_Reg', BaggingRegressor(random_state=7)],\n",
    "    ['RandomForest_Reg', RandomForestRegressor(n_jobs=-1, random_state=7)],\n",
    "    ['ExtraTrees_Reg', ExtraTreesRegressor(n_jobs=-1, random_state=7)],\n",
    "    ['AdaBoost_Reg', AdaBoostRegressor(random_state=7)],\n",
    "    ['GradientBoost_Reg', GradientBoostingRegressor(criterion='mse', \n",
    "                                                          random_state=7)]]"
   ]
  },
  {
   "cell_type": "code",
   "execution_count": 96,
   "metadata": {
    "ExecuteTime": {
     "end_time": "2016-11-08T08:52:37.790791",
     "start_time": "2016-11-08T08:52:37.785039"
    },
    "collapsed": false
   },
   "outputs": [
    {
     "data": {
      "text/plain": [
       "KFold(n_splits=5, random_state=7, shuffle=True)"
      ]
     },
     "execution_count": 96,
     "metadata": {},
     "output_type": "execute_result"
    }
   ],
   "source": [
    "cv = KFold(5, random_state=7, shuffle=True)\n",
    "cv"
   ]
  },
  {
   "cell_type": "code",
   "execution_count": 179,
   "metadata": {
    "ExecuteTime": {
     "end_time": "2016-11-08T10:14:37.520264",
     "start_time": "2016-11-08T10:14:37.516703"
    },
    "collapsed": false
   },
   "outputs": [],
   "source": [
    "model_metrics = []"
   ]
  },
  {
   "cell_type": "code",
   "execution_count": 180,
   "metadata": {
    "ExecuteTime": {
     "end_time": "2016-11-08T10:14:38.137409",
     "start_time": "2016-11-08T10:14:38.131695"
    },
    "collapsed": false
   },
   "outputs": [],
   "source": [
    "# Return cross_val_score from model\n",
    "def run_model(regressor):\n",
    "    score = cross_val_score(regressor, X, y,\n",
    "                            scoring='neg_mean_squared_error', cv=cv)\n",
    "    return score\n",
    "\n",
    "####### Error #######\n",
    "# Error when trying to set n_job=-1\n",
    "# //anaconda/lib/python2.7/site-packages/sklearn/externals/joblib/parallel.py:540: \n",
    "# UserWarning: Multiprocessing-backed parallel loops cannot be nested, \n",
    "# setting n_jobs=1 **self._backend_args) "
   ]
  },
  {
   "cell_type": "code",
   "execution_count": 181,
   "metadata": {
    "ExecuteTime": {
     "end_time": "2016-11-08T10:14:46.297315",
     "start_time": "2016-11-08T10:14:46.290868"
    },
    "collapsed": true
   },
   "outputs": [],
   "source": [
    "# Run model and return mean and std of mse and append to model_list\n",
    "def get_metrics(model_list):\n",
    "    for i in model_list:\n",
    "        result = run_model(i[1])\n",
    "        mean = result.mean()*-1.0\n",
    "        std = result.std()\n",
    "        model_metrics.append([i[0], mean, std])\n",
    "    return model_metrics"
   ]
  },
  {
   "cell_type": "code",
   "execution_count": 182,
   "metadata": {
    "ExecuteTime": {
     "end_time": "2016-11-08T10:14:51.890549",
     "start_time": "2016-11-08T10:14:47.004200"
    },
    "collapsed": false
   },
   "outputs": [
    {
     "data": {
      "text/plain": [
       "[['DecisionTree_Reg', 0.54026362509531922, 0.06439525945343387],\n",
       " ['Bagging_Reg', 0.33801807159744335, 0.077113058896790029],\n",
       " ['RandomForest_Reg', 0.3321958845749583, 0.080784051182433772],\n",
       " ['ExtraTrees_Reg', 0.34926497649043592, 0.043135441376481135],\n",
       " ['AdaBoost_Reg', 0.35063239175792854, 0.06520579840930632],\n",
       " ['GradientBoost_Reg', 0.27072314182664542, 0.057937829644585236]]"
      ]
     },
     "execution_count": 182,
     "metadata": {},
     "output_type": "execute_result"
    }
   ],
   "source": [
    "get_metrics(model_list)"
   ]
  },
  {
   "cell_type": "markdown",
   "metadata": {
    "heading_collapsed": true
   },
   "source": [
    "### Bagging + Regressors"
   ]
  },
  {
   "cell_type": "code",
   "execution_count": 121,
   "metadata": {
    "ExecuteTime": {
     "end_time": "2016-11-08T08:57:39.100542",
     "start_time": "2016-11-08T08:57:39.094453"
    },
    "collapsed": true,
    "hidden": true
   },
   "outputs": [],
   "source": [
    "bagging_model_list = [\n",
    "    ['DecisionTree_Reg_BAGGING', DecisionTreeRegressor(random_state=7)],\n",
    "    ['RandomForest_Reg_BAGGING', RandomForestRegressor(n_jobs=-1, random_state=7)],\n",
    "    ['ExtraTrees_Reg_BAGGING', ExtraTreesRegressor(n_jobs=-1, random_state=7)],\n",
    "    ['AdaBoost_Reg_BAGGING', AdaBoostRegressor(random_state=7)],\n",
    "    ['GradientBoost_Reg_BAGGING', GradientBoostingRegressor(criterion='mse', \n",
    "                                                          random_state=7)]]"
   ]
  },
  {
   "cell_type": "code",
   "execution_count": 125,
   "metadata": {
    "ExecuteTime": {
     "end_time": "2016-11-08T08:59:40.972726",
     "start_time": "2016-11-08T08:59:40.969046"
    },
    "collapsed": true,
    "hidden": true
   },
   "outputs": [],
   "source": [
    "bagging_metrics = []"
   ]
  },
  {
   "cell_type": "code",
   "execution_count": 126,
   "metadata": {
    "ExecuteTime": {
     "end_time": "2016-11-08T09:00:30.060870",
     "start_time": "2016-11-08T08:59:43.008152"
    },
    "collapsed": false,
    "hidden": true
   },
   "outputs": [
    {
     "data": {
      "text/plain": [
       "[['DecisionTree_Reg_BAGGING', 0.33801807159744335, 0.077113058896790029],\n",
       " ['RandomForest_Reg_BAGGING', 0.32813485392272623, 0.062388366876521745],\n",
       " ['ExtraTrees_Reg_BAGGING', 0.36137527270800168, 0.04700253864808223],\n",
       " ['AdaBoost_Reg_BAGGING', 0.34707607393354756, 0.049843955917829953],\n",
       " ['GradientBoost_Reg_BAGGING', 0.27731007826106141, 0.050716239840331072]]"
      ]
     },
     "execution_count": 126,
     "metadata": {},
     "output_type": "execute_result"
    }
   ],
   "source": [
    "def get_bagging_metrics(model_list):\n",
    "    for i in model_list:\n",
    "        result = run_model(BaggingRegressor(i[1], random_state=7))\n",
    "        mean = result.mean()*-1.0\n",
    "        std = result.std()\n",
    "        bagging_metrics.append([i[0], mean, std])\n",
    "    return bagging_metrics\n",
    "\n",
    "get_bagging_metrics(bagging_model_list)"
   ]
  },
  {
   "cell_type": "markdown",
   "metadata": {},
   "source": [
    "### GridSearch Regressors"
   ]
  },
  {
   "cell_type": "code",
   "execution_count": 136,
   "metadata": {
    "ExecuteTime": {
     "end_time": "2016-11-08T09:23:04.001488",
     "start_time": "2016-11-08T09:23:03.997547"
    },
    "collapsed": true
   },
   "outputs": [],
   "source": [
    "def run_model(regressor):\n",
    "    score = cross_val_score(regressor, X, y,\n",
    "                            scoring='neg_mean_squared_error', cv=cv)\n",
    "    return score"
   ]
  },
  {
   "cell_type": "code",
   "execution_count": 137,
   "metadata": {
    "ExecuteTime": {
     "end_time": "2016-11-08T09:23:04.397262",
     "start_time": "2016-11-08T09:23:04.389170"
    },
    "collapsed": true
   },
   "outputs": [],
   "source": [
    "GS_model_list = [\n",
    "    ['DecisionTree_GS', DecisionTreeRegressor(random_state=7)],\n",
    "    ['RandomForest_GS', RandomForestRegressor(n_jobs=-1, random_state=7)],\n",
    "    ['GradientBoost_GS', GradientBoostingRegressor(criterion='mse', \n",
    "                                                          random_state=7)]]"
   ]
  },
  {
   "cell_type": "code",
   "execution_count": 144,
   "metadata": {
    "ExecuteTime": {
     "end_time": "2016-11-08T09:28:34.476324",
     "start_time": "2016-11-08T09:28:34.473101"
    },
    "collapsed": true
   },
   "outputs": [],
   "source": [
    "GS_metrics = []"
   ]
  },
  {
   "cell_type": "markdown",
   "metadata": {},
   "source": [
    "#### DecisionTree GridSearch"
   ]
  },
  {
   "cell_type": "code",
   "execution_count": 145,
   "metadata": {
    "ExecuteTime": {
     "end_time": "2016-11-08T09:28:53.156227",
     "start_time": "2016-11-08T09:28:37.897039"
    },
    "collapsed": false
   },
   "outputs": [
    {
     "name": "stdout",
     "output_type": "stream",
     "text": [
      "Fitting 5 folds for each of 960 candidates, totalling 4800 fits\n"
     ]
    },
    {
     "name": "stderr",
     "output_type": "stream",
     "text": [
      "[Parallel(n_jobs=-1)]: Done 408 tasks      | elapsed:    1.8s\n",
      "[Parallel(n_jobs=-1)]: Done 2808 tasks      | elapsed:    9.0s\n"
     ]
    },
    {
     "name": "stdout",
     "output_type": "stream",
     "text": [
      "GS best params:  {'max_features': 4, 'max_leaf_nodes': 9, 'min_samples_split': 2, 'max_depth': 7, 'min_samples_leaf': 4}\n"
     ]
    },
    {
     "name": "stderr",
     "output_type": "stream",
     "text": [
      "[Parallel(n_jobs=-1)]: Done 4800 out of 4800 | elapsed:   15.0s finished\n"
     ]
    }
   ],
   "source": [
    "# DecisionTree GridSearch\n",
    "parameters = {'max_features':[3,4,5,6], 'max_leaf_nodes':[9,10,11,12], \n",
    "              'min_samples_split':[2,3,4], 'max_depth':[5,6,7,8,9], \n",
    "              'min_samples_leaf':[1,2,3,4]}\n",
    "scoring = 'neg_mean_squared_error'\n",
    "\n",
    "GS = GridSearchCV(GS_model_list[0][1], param_grid=parameters, scoring=scoring, cv=5, \n",
    "                 verbose=True, n_jobs=-1)\n",
    "GS.fit(X,y)\n",
    "print 'GS best params: ', GS.best_params_\n",
    "result = run_model(GS.best_estimator_)\n",
    "mean = result.mean()*-1.0\n",
    "std = result.std()\n",
    "GS_metrics.append([GS_model_list[0][0], mean, std])"
   ]
  },
  {
   "cell_type": "code",
   "execution_count": 146,
   "metadata": {
    "ExecuteTime": {
     "end_time": "2016-11-08T09:28:53.165552",
     "start_time": "2016-11-08T09:28:53.159174"
    },
    "collapsed": false
   },
   "outputs": [
    {
     "data": {
      "text/plain": [
       "[['DecisionTree_GS', 0.78149650038472429, 0.20661954660954565]]"
      ]
     },
     "execution_count": 146,
     "metadata": {},
     "output_type": "execute_result"
    }
   ],
   "source": [
    "GS_metrics"
   ]
  },
  {
   "cell_type": "markdown",
   "metadata": {},
   "source": [
    "#### RandomForest GridSearch"
   ]
  },
  {
   "cell_type": "code",
   "execution_count": 156,
   "metadata": {
    "ExecuteTime": {
     "end_time": "2016-11-08T09:43:33.362631",
     "start_time": "2016-11-08T09:43:11.253183"
    },
    "collapsed": false
   },
   "outputs": [
    {
     "name": "stdout",
     "output_type": "stream",
     "text": [
      "Fitting 5 folds for each of 54 candidates, totalling 270 fits\n"
     ]
    },
    {
     "name": "stderr",
     "output_type": "stream",
     "text": [
      "[Parallel(n_jobs=-1)]: Done  42 tasks      | elapsed:    3.7s\n",
      "[Parallel(n_jobs=-1)]: Done 192 tasks      | elapsed:   15.4s\n",
      "[Parallel(n_jobs=-1)]: Done 270 out of 270 | elapsed:   21.7s finished\n"
     ]
    },
    {
     "name": "stdout",
     "output_type": "stream",
     "text": [
      "GS best params:  {'max_features': 5, 'max_leaf_nodes': 28, 'min_samples_split': 10, 'max_depth': 30, 'min_samples_leaf': 1}\n"
     ]
    }
   ],
   "source": [
    "# RandomForest GridSearch\n",
    "parameters = {'max_features':[4,5,6], 'max_leaf_nodes':[28,30], \n",
    "              'min_samples_split':[9,10,12], 'max_depth':[30,32, 35], \n",
    "              'min_samples_leaf':[1]}\n",
    "scoring = 'neg_mean_squared_error'\n",
    "\n",
    "GS = GridSearchCV(GS_model_list[1][1], param_grid=parameters, scoring=scoring, cv=5, \n",
    "                 verbose=True, n_jobs=-1)\n",
    "GS.fit(X,y)\n",
    "print 'GS best params: ', GS.best_params_"
   ]
  },
  {
   "cell_type": "code",
   "execution_count": 157,
   "metadata": {
    "ExecuteTime": {
     "end_time": "2016-11-08T09:44:30.945793",
     "start_time": "2016-11-08T09:44:29.247722"
    },
    "collapsed": false
   },
   "outputs": [
    {
     "data": {
      "text/plain": [
       "[['DecisionTree_GS', 0.78149650038472429, 0.20661954660954565],\n",
       " ['RandomForest_GS', 0.61929128240020648, 0.092159867261356596]]"
      ]
     },
     "execution_count": 157,
     "metadata": {},
     "output_type": "execute_result"
    }
   ],
   "source": [
    "result = run_model(GS.best_estimator_)\n",
    "mean = result.mean()*-1.0\n",
    "std = result.std()\n",
    "GS_metrics.append([GS_model_list[1][0], mean, std])\n",
    "GS_metrics"
   ]
  },
  {
   "cell_type": "markdown",
   "metadata": {},
   "source": [
    "#### GradientBoosting GridSearch"
   ]
  },
  {
   "cell_type": "code",
   "execution_count": 175,
   "metadata": {
    "ExecuteTime": {
     "end_time": "2016-11-08T10:11:10.200723",
     "start_time": "2016-11-08T10:10:52.349491"
    },
    "collapsed": false
   },
   "outputs": [
    {
     "name": "stdout",
     "output_type": "stream",
     "text": [
      "Fitting 5 folds for each of 16 candidates, totalling 80 fits\n"
     ]
    },
    {
     "name": "stderr",
     "output_type": "stream",
     "text": [
      "[Parallel(n_jobs=-1)]: Done  42 tasks      | elapsed:    9.4s\n",
      "[Parallel(n_jobs=-1)]: Done  80 out of  80 | elapsed:   16.9s finished\n"
     ]
    },
    {
     "name": "stdout",
     "output_type": "stream",
     "text": [
      "GS best params:  {'max_leaf_nodes': 5, 'min_samples_leaf': 2, 'n_estimators': 1800, 'max_features': 35, 'min_samples_split': 1, 'max_depth': 4}\n"
     ]
    }
   ],
   "source": [
    "# RandomForest GridSearch\n",
    "parameters = {'n_estimators':[1600,1800],\n",
    "              'max_features':[25,35], 'max_leaf_nodes':[4,5], \n",
    "              'min_samples_split':[1], 'max_depth':[4,5], \n",
    "              'min_samples_leaf':[2]}\n",
    "scoring = 'neg_mean_squared_error'\n",
    "\n",
    "GS = GridSearchCV(GS_model_list[2][1], param_grid=parameters, scoring=scoring, cv=5, \n",
    "                 verbose=True, n_jobs=-1)\n",
    "GS.fit(X,y)\n",
    "print 'GS best params: ', GS.best_params_"
   ]
  },
  {
   "cell_type": "code",
   "execution_count": 176,
   "metadata": {
    "ExecuteTime": {
     "end_time": "2016-11-08T10:11:51.272834",
     "start_time": "2016-11-08T10:11:48.412649"
    },
    "collapsed": false
   },
   "outputs": [
    {
     "data": {
      "text/plain": [
       "[['DecisionTree_GS', 0.78149650038472429, 0.20661954660954565],\n",
       " ['RandomForest_GS', 0.61929128240020648, 0.092159867261356596],\n",
       " ['GradientBoost_GS', 0.29560906664681702, 0.038834226668743567]]"
      ]
     },
     "execution_count": 176,
     "metadata": {},
     "output_type": "execute_result"
    }
   ],
   "source": [
    "result = run_model(GS.best_estimator_)\n",
    "mean = result.mean()*-1.0\n",
    "std = result.std()\n",
    "GS_metrics.append([GS_model_list[2][0], mean, std])\n",
    "GS_metrics"
   ]
  },
  {
   "cell_type": "markdown",
   "metadata": {
    "heading_collapsed": true
   },
   "source": [
    "### Regressor DataFrame"
   ]
  },
  {
   "cell_type": "code",
   "execution_count": 194,
   "metadata": {
    "ExecuteTime": {
     "end_time": "2016-11-08T10:16:42.090965",
     "start_time": "2016-11-08T10:16:42.086853"
    },
    "collapsed": false,
    "hidden": true
   },
   "outputs": [],
   "source": [
    "# Combine all regressor metrics lists\n",
    "# model_metrics, bagging_metrics, GS_metrics\n",
    "regressor_metrics = []\n",
    "regressor_metrics.extend(model_metrics)\n",
    "regressor_metrics.extend(bagging_metrics)\n",
    "regressor_metrics.extend(GS_metrics)"
   ]
  },
  {
   "cell_type": "code",
   "execution_count": 195,
   "metadata": {
    "ExecuteTime": {
     "end_time": "2016-11-08T10:16:42.628260",
     "start_time": "2016-11-08T10:16:42.618774"
    },
    "collapsed": false,
    "hidden": true
   },
   "outputs": [
    {
     "data": {
      "text/plain": [
       "[['DecisionTree_Reg', 0.54026362509531922, 0.06439525945343387],\n",
       " ['Bagging_Reg', 0.33801807159744335, 0.077113058896790029],\n",
       " ['RandomForest_Reg', 0.3321958845749583, 0.080784051182433772],\n",
       " ['ExtraTrees_Reg', 0.34926497649043592, 0.043135441376481135],\n",
       " ['AdaBoost_Reg', 0.35063239175792854, 0.06520579840930632],\n",
       " ['GradientBoost_Reg', 0.27072314182664542, 0.057937829644585236],\n",
       " ['DecisionTree_Reg_BAGGING', 0.33801807159744335, 0.077113058896790029],\n",
       " ['RandomForest_Reg_BAGGING', 0.32813485392272623, 0.062388366876521745],\n",
       " ['ExtraTrees_Reg_BAGGING', 0.36137527270800168, 0.04700253864808223],\n",
       " ['AdaBoost_Reg_BAGGING', 0.34707607393354756, 0.049843955917829953],\n",
       " ['GradientBoost_Reg_BAGGING', 0.27731007826106141, 0.050716239840331072],\n",
       " ['DecisionTree_GS', 0.78149650038472429, 0.20661954660954565],\n",
       " ['RandomForest_GS', 0.61929128240020648, 0.092159867261356596],\n",
       " ['GradientBoost_GS', 0.29560906664681702, 0.038834226668743567]]"
      ]
     },
     "execution_count": 195,
     "metadata": {},
     "output_type": "execute_result"
    }
   ],
   "source": [
    "regressor_metrics"
   ]
  },
  {
   "cell_type": "code",
   "execution_count": 196,
   "metadata": {
    "ExecuteTime": {
     "end_time": "2016-11-08T10:18:41.123514",
     "start_time": "2016-11-08T10:18:41.092832"
    },
    "collapsed": false,
    "hidden": true
   },
   "outputs": [
    {
     "data": {
      "text/html": [
       "<div>\n",
       "<table border=\"1\" class=\"dataframe\">\n",
       "  <thead>\n",
       "    <tr style=\"text-align: right;\">\n",
       "      <th></th>\n",
       "      <th>Model_Name</th>\n",
       "      <th>MSE_Mean</th>\n",
       "      <th>MSE_Std</th>\n",
       "    </tr>\n",
       "  </thead>\n",
       "  <tbody>\n",
       "    <tr>\n",
       "      <th>0</th>\n",
       "      <td>DecisionTree_Reg</td>\n",
       "      <td>0.540264</td>\n",
       "      <td>0.064395</td>\n",
       "    </tr>\n",
       "    <tr>\n",
       "      <th>1</th>\n",
       "      <td>Bagging_Reg</td>\n",
       "      <td>0.338018</td>\n",
       "      <td>0.077113</td>\n",
       "    </tr>\n",
       "    <tr>\n",
       "      <th>2</th>\n",
       "      <td>RandomForest_Reg</td>\n",
       "      <td>0.332196</td>\n",
       "      <td>0.080784</td>\n",
       "    </tr>\n",
       "    <tr>\n",
       "      <th>3</th>\n",
       "      <td>ExtraTrees_Reg</td>\n",
       "      <td>0.349265</td>\n",
       "      <td>0.043135</td>\n",
       "    </tr>\n",
       "    <tr>\n",
       "      <th>4</th>\n",
       "      <td>AdaBoost_Reg</td>\n",
       "      <td>0.350632</td>\n",
       "      <td>0.065206</td>\n",
       "    </tr>\n",
       "    <tr>\n",
       "      <th>5</th>\n",
       "      <td>GradientBoost_Reg</td>\n",
       "      <td>0.270723</td>\n",
       "      <td>0.057938</td>\n",
       "    </tr>\n",
       "    <tr>\n",
       "      <th>6</th>\n",
       "      <td>DecisionTree_Reg_BAGGING</td>\n",
       "      <td>0.338018</td>\n",
       "      <td>0.077113</td>\n",
       "    </tr>\n",
       "    <tr>\n",
       "      <th>7</th>\n",
       "      <td>RandomForest_Reg_BAGGING</td>\n",
       "      <td>0.328135</td>\n",
       "      <td>0.062388</td>\n",
       "    </tr>\n",
       "    <tr>\n",
       "      <th>8</th>\n",
       "      <td>ExtraTrees_Reg_BAGGING</td>\n",
       "      <td>0.361375</td>\n",
       "      <td>0.047003</td>\n",
       "    </tr>\n",
       "    <tr>\n",
       "      <th>9</th>\n",
       "      <td>AdaBoost_Reg_BAGGING</td>\n",
       "      <td>0.347076</td>\n",
       "      <td>0.049844</td>\n",
       "    </tr>\n",
       "    <tr>\n",
       "      <th>10</th>\n",
       "      <td>GradientBoost_Reg_BAGGING</td>\n",
       "      <td>0.277310</td>\n",
       "      <td>0.050716</td>\n",
       "    </tr>\n",
       "    <tr>\n",
       "      <th>11</th>\n",
       "      <td>DecisionTree_GS</td>\n",
       "      <td>0.781497</td>\n",
       "      <td>0.206620</td>\n",
       "    </tr>\n",
       "    <tr>\n",
       "      <th>12</th>\n",
       "      <td>RandomForest_GS</td>\n",
       "      <td>0.619291</td>\n",
       "      <td>0.092160</td>\n",
       "    </tr>\n",
       "    <tr>\n",
       "      <th>13</th>\n",
       "      <td>GradientBoost_GS</td>\n",
       "      <td>0.295609</td>\n",
       "      <td>0.038834</td>\n",
       "    </tr>\n",
       "  </tbody>\n",
       "</table>\n",
       "</div>"
      ],
      "text/plain": [
       "                   Model_Name  MSE_Mean   MSE_Std\n",
       "0            DecisionTree_Reg  0.540264  0.064395\n",
       "1                 Bagging_Reg  0.338018  0.077113\n",
       "2            RandomForest_Reg  0.332196  0.080784\n",
       "3              ExtraTrees_Reg  0.349265  0.043135\n",
       "4                AdaBoost_Reg  0.350632  0.065206\n",
       "5           GradientBoost_Reg  0.270723  0.057938\n",
       "6    DecisionTree_Reg_BAGGING  0.338018  0.077113\n",
       "7    RandomForest_Reg_BAGGING  0.328135  0.062388\n",
       "8      ExtraTrees_Reg_BAGGING  0.361375  0.047003\n",
       "9        AdaBoost_Reg_BAGGING  0.347076  0.049844\n",
       "10  GradientBoost_Reg_BAGGING  0.277310  0.050716\n",
       "11            DecisionTree_GS  0.781497  0.206620\n",
       "12            RandomForest_GS  0.619291  0.092160\n",
       "13           GradientBoost_GS  0.295609  0.038834"
      ]
     },
     "execution_count": 196,
     "metadata": {},
     "output_type": "execute_result"
    }
   ],
   "source": [
    "reg_df = pd.DataFrame(regressor_metrics, columns=['Model_Name', \n",
    "                                                 'MSE_Mean', 'MSE_Std'])\n",
    "reg_df"
   ]
  },
  {
   "cell_type": "code",
   "execution_count": null,
   "metadata": {
    "collapsed": true,
    "hidden": true
   },
   "outputs": [],
   "source": [
    "mp_df = pd.DataFrame(model_performance, columns = ['ML Model', 'MSE Mean', 'MSE Std'])\n",
    "mp_df.sort_values('MSE Mean', ascending = True, inplace= True)\n",
    "mp_df"
   ]
  },
  {
   "cell_type": "code",
   "execution_count": null,
   "metadata": {
    "ExecuteTime": {
     "end_time": "2016-11-07T15:16:54.515841",
     "start_time": "2016-11-07T15:16:54.508072"
    },
    "code_folding": [],
    "collapsed": true,
    "hidden": true
   },
   "outputs": [],
   "source": [
    "# functions to print results\n",
    "def grid_search_class(model, x, y, cv):\n",
    "    \n",
    "    m = np.mean(cross_val_score(model,x,y,cv=cv))\n",
    "    s = np.std(cross_val_score(model,x,y,cv=cv))\n",
    "    print\"Mean Accuracy score from cross validation:\\t{:0.3} ± {:0.3}\".format(round(m,3), round(s,3))\n",
    "    \n",
    "def train_test_class(model):\n",
    "    model.fit(X_train,y_train)\n",
    "    y_pred = model.predict(X_test)\n",
    "    print classification_report(y_test,y_pred)"
   ]
  },
  {
   "cell_type": "markdown",
   "metadata": {},
   "source": [
    "### Classifications"
   ]
  },
  {
   "cell_type": "markdown",
   "metadata": {},
   "source": [
    "#### Create classification bins"
   ]
  },
  {
   "cell_type": "code",
   "execution_count": 213,
   "metadata": {
    "ExecuteTime": {
     "end_time": "2016-11-08T10:39:10.504291",
     "start_time": "2016-11-08T10:39:10.068292"
    },
    "collapsed": false
   },
   "outputs": [
    {
     "data": {
      "image/png": "[encoded data removed]",
      "text/plain": [
       "<matplotlib.figure.Figure at 0x1229f0d90>"
      ]
     },
     "metadata": {},
     "output_type": "display_data"
    }
   ],
   "source": [
    "plt.style.use('ggplot')\n",
    "fig, ax = plt.subplots(figsize=(16,6))\n",
    "\n",
    "imdbRating = df[df['imdbRating'] > 0]\n",
    "ax.hist(df['imdbRating'], color='royalblue')\n",
    "ax.set_title('Distribution of imdbRatings', \\\n",
    "             fontsize=18, y=1.01)\n",
    "ax.tick_params(labelsize=12)"
   ]
  },
  {
   "cell_type": "code",
   "execution_count": 216,
   "metadata": {
    "ExecuteTime": {
     "end_time": "2016-11-08T10:47:42.667947",
     "start_time": "2016-11-08T10:47:42.646967"
    },
    "collapsed": false
   },
   "outputs": [
    {
     "data": {
      "text/plain": [
       "0    average\n",
       "1    average\n",
       "2    average\n",
       "Name: rating, dtype: object"
      ]
     },
     "execution_count": 216,
     "metadata": {},
     "output_type": "execute_result"
    }
   ],
   "source": [
    "# Create three class bins\n",
    "excellent = df['imdbRating'].quantile(0.33)\n",
    "good = df['imdbRating'].quantile(0.67)   \n",
    "average = df['imdbRating'].quantile(1.0)   \n",
    "\n",
    "def class_bins(x):\n",
    "    if x <= excellent:\n",
    "        return 'excellent'\n",
    "    elif x <= good:\n",
    "        return 'good'\n",
    "    else:\n",
    "        return 'average'\n",
    "    \n",
    "df['rating'] = df['imdbRating'].apply(class_bins)\n",
    "df['rating'].head(3)"
   ]
  },
  {
   "cell_type": "code",
   "execution_count": 217,
   "metadata": {
    "ExecuteTime": {
     "end_time": "2016-11-08T10:47:51.850518",
     "start_time": "2016-11-08T10:47:51.842445"
    },
    "collapsed": false
   },
   "outputs": [
    {
     "data": {
      "text/plain": [
       "excellent    117\n",
       "good          68\n",
       "average       65\n",
       "Name: rating, dtype: int64"
      ]
     },
     "execution_count": 217,
     "metadata": {},
     "output_type": "execute_result"
    }
   ],
   "source": [
    "df['rating'].value_counts()"
   ]
  },
  {
   "cell_type": "code",
   "execution_count": null,
   "metadata": {
    "collapsed": true
   },
   "outputs": [],
   "source": [
    "X_train, X_test, y_train, y_test = train_test_split(X, y, test_size=0.30, \n",
    "                                                    random_state=7)"
   ]
  },
  {
   "cell_type": "code",
   "execution_count": 220,
   "metadata": {
    "ExecuteTime": {
     "end_time": "2016-11-08T10:50:13.599096",
     "start_time": "2016-11-08T10:50:13.591692"
    },
    "collapsed": true
   },
   "outputs": [],
   "source": [
    "# Set X and y\n",
    "Xc = model_df1.drop(['imdbRating', 'Released', 'imdbVotes', 'rating'], axis=1)\n",
    "yc = df['rating']"
   ]
  },
  {
   "cell_type": "code",
   "execution_count": null,
   "metadata": {
    "collapsed": true
   },
   "outputs": [],
   "source": [
    "# DecisionTreeClassifier\n",
    "# RandomForestClassifier\n",
    "# AdaBoostClassifier\n",
    "# GradientBoostingClassifier"
   ]
  },
  {
   "cell_type": "code",
   "execution_count": 248,
   "metadata": {
    "ExecuteTime": {
     "end_time": "2016-11-08T13:30:24.277953",
     "start_time": "2016-11-08T13:30:24.271021"
    },
    "collapsed": true
   },
   "outputs": [],
   "source": [
    "# Return cross_val_score from model\n",
    "def run_classifier(classifier):\n",
    "    classifier.fit(Xc, yc)\n",
    "    cv_score = cross_val_score(classifier, Xc, yc, cv=cv, scoring='accuracy').mean()\n",
    "    score = classifier.score(Xc, yc)\n",
    "    return score"
   ]
  },
  {
   "cell_type": "code",
   "execution_count": 250,
   "metadata": {
    "ExecuteTime": {
     "end_time": "2016-11-08T13:30:56.918701",
     "start_time": "2016-11-08T13:30:56.907757"
    },
    "collapsed": false
   },
   "outputs": [
    {
     "data": {
      "text/plain": [
       "1.0"
      ]
     },
     "execution_count": 250,
     "metadata": {},
     "output_type": "execute_result"
    }
   ],
   "source": [
    "dt = DecisionTreeClassifier()\n",
    "dt.fit(Xc,yc)\n",
    "dt.score(Xc,yc)"
   ]
  },
  {
   "cell_type": "code",
   "execution_count": 251,
   "metadata": {
    "ExecuteTime": {
     "end_time": "2016-11-08T13:31:54.443368",
     "start_time": "2016-11-08T13:31:54.359790"
    },
    "collapsed": false
   },
   "outputs": [
    {
     "data": {
      "text/plain": [
       "0.98399999999999999"
      ]
     },
     "execution_count": 251,
     "metadata": {},
     "output_type": "execute_result"
    }
   ],
   "source": [
    "rf = RandomForestClassifier()\n",
    "rf.fit(Xc, yc)\n",
    "rf.score(Xc,yc)"
   ]
  },
  {
   "cell_type": "code",
   "execution_count": 245,
   "metadata": {
    "ExecuteTime": {
     "end_time": "2016-11-08T13:23:35.392347",
     "start_time": "2016-11-08T13:23:35.348332"
    },
    "collapsed": false
   },
   "outputs": [
    {
     "data": {
      "text/plain": [
       "0.49167634533488186"
      ]
     },
     "execution_count": 245,
     "metadata": {},
     "output_type": "execute_result"
    }
   ],
   "source": [
    "cross_val_score(DecisionTreeClassifier(), Xc, yc, scoring='accuracy').mean()"
   ]
  },
  {
   "cell_type": "code",
   "execution_count": null,
   "metadata": {
    "ExecuteTime": {
     "end_time": "2016-11-08T13:28:10.532655",
     "start_time": "2016-11-08T13:28:10.503223"
    },
    "collapsed": true
   },
   "outputs": [],
   "source": [
    "DecisionTreeClassifier.score(Xc,yc)"
   ]
  },
  {
   "cell_type": "code",
   "execution_count": 252,
   "metadata": {
    "ExecuteTime": {
     "end_time": "2016-11-08T13:32:10.638893",
     "start_time": "2016-11-08T13:32:10.603797"
    },
    "collapsed": false
   },
   "outputs": [
    {
     "data": {
      "text/plain": [
       "array([ 0.47619048,  0.52380952,  0.35365854])"
      ]
     },
     "execution_count": 252,
     "metadata": {},
     "output_type": "execute_result"
    }
   ],
   "source": [
    "cross_val_score(DecisionTreeClassifier(), Xc, yc)"
   ]
  },
  {
   "cell_type": "code",
   "execution_count": 253,
   "metadata": {
    "ExecuteTime": {
     "end_time": "2016-11-08T13:32:19.083593",
     "start_time": "2016-11-08T13:32:19.032552"
    },
    "collapsed": false
   },
   "outputs": [
    {
     "data": {
      "text/plain": [
       "1.0"
      ]
     },
     "execution_count": 253,
     "metadata": {},
     "output_type": "execute_result"
    }
   ],
   "source": [
    "run_classifier(DecisionTreeClassifier())"
   ]
  },
  {
   "cell_type": "code",
   "execution_count": null,
   "metadata": {
    "collapsed": true
   },
   "outputs": [],
   "source": [
    "# Run model and return mean and std of mse and append to model_list\n",
    "def get_metrics(model_list):\n",
    "    for i in model_list:\n",
    "        result = run_model(i[1])\n",
    "        mean = result.mean()*-1.0\n",
    "        std = result.std()\n",
    "        model_metrics.append([i[0], mean, std])\n",
    "    return model_metrics"
   ]
  },
  {
   "cell_type": "markdown",
   "metadata": {},
   "source": [
    "#### DecisionTree Classifier"
   ]
  },
  {
   "cell_type": "code",
   "execution_count": 221,
   "metadata": {
    "ExecuteTime": {
     "end_time": "2016-11-08T10:50:39.287764",
     "start_time": "2016-11-08T10:50:38.241360"
    },
    "collapsed": false
   },
   "outputs": [
    {
     "name": "stdout",
     "output_type": "stream",
     "text": [
      "Fitting 3 folds for each of 32 candidates, totalling 96 fits\n"
     ]
    },
    {
     "name": "stderr",
     "output_type": "stream",
     "text": [
      "[Parallel(n_jobs=-1)]: Done  96 out of  96 | elapsed:    0.5s finished\n"
     ]
    },
    {
     "data": {
      "text/plain": [
       "GridSearchCV(cv=None, error_score='raise',\n",
       "       estimator=DecisionTreeClassifier(class_weight=None, criterion='gini', max_depth=None,\n",
       "            max_features=None, max_leaf_nodes=None,\n",
       "            min_impurity_split=1e-07, min_samples_leaf=1,\n",
       "            min_samples_split=2, min_weight_fraction_leaf=0.0,\n",
       "            presort=False, random_state=None, splitter='best'),\n",
       "       fit_params={}, iid=True, n_jobs=-1,\n",
       "       param_grid={'max_features': [3, 4], 'max_leaf_nodes': [7, 8], 'min_samples_split': [1, 2], 'max_depth': [5, 6], 'min_samples_leaf': [3, 4]},\n",
       "       pre_dispatch='2*n_jobs', refit=True, scoring=None, verbose=True)"
      ]
     },
     "execution_count": 221,
     "metadata": {},
     "output_type": "execute_result"
    }
   ],
   "source": [
    "# decision tree classifier\n",
    "parameters = {'max_depth':[5,6], 'max_features':[3,4], \n",
    "              'max_leaf_nodes':[7,8], 'min_samples_leaf':[3,4],\n",
    "              'min_samples_split':[1,2]}\n",
    "\n",
    "dt = DecisionTreeClassifier()\n",
    "clf = GridSearchCV(dt, parameters, verbose=True, n_jobs=-1)\n",
    "clf.fit(Xc,yc)"
   ]
  },
  {
   "cell_type": "code",
   "execution_count": 223,
   "metadata": {
    "ExecuteTime": {
     "end_time": "2016-11-08T10:51:13.712011",
     "start_time": "2016-11-08T10:51:13.681087"
    },
    "collapsed": false
   },
   "outputs": [
    {
     "data": {
      "text/plain": [
       "0.43960511033681771"
      ]
     },
     "execution_count": 223,
     "metadata": {},
     "output_type": "execute_result"
    }
   ],
   "source": [
    "cross_val_score(DecisionTreeClassifier(), Xc, yc).mean()"
   ]
  },
  {
   "cell_type": "code",
   "execution_count": null,
   "metadata": {
    "collapsed": true
   },
   "outputs": [],
   "source": []
  },
  {
   "cell_type": "raw",
   "metadata": {
    "ExecuteTime": {
     "end_time": "2016-11-08T10:31:18.716076",
     "start_time": "2016-11-08T10:31:18.687734"
    }
   },
   "source": [
    "from sklearn.tree import DecisionTreeClassifier\n",
    "dt = DecisionTreeClassifier()\n",
    "dt.fit(X,y)\n",
    "#cross_val_score(DecisionTreeClassifier(), X, y=None)"
   ]
  },
  {
   "cell_type": "code",
   "execution_count": null,
   "metadata": {
    "collapsed": true
   },
   "outputs": [],
   "source": [
    "# Return cross_val_score from model\n",
    "def run_model(classifier):\n",
    "    score = cross_val_score(regressor, X, y,\n",
    "                            scoring='neg_mean_squared_error', cv=cv)\n",
    "    return score"
   ]
  },
  {
   "cell_type": "code",
   "execution_count": null,
   "metadata": {
    "collapsed": true
   },
   "outputs": [],
   "source": [
    "# Run model and return mean and std of mse and append to model_list\n",
    "def get_metrics(model_list):\n",
    "    for i in model_list:\n",
    "        result = run_model(i[1])\n",
    "        mean = result.mean()*-1.0\n",
    "        std = result.std()\n",
    "        model_metrics.append([i[0], mean, std])\n",
    "    return model_metrics"
   ]
  },
  {
   "cell_type": "code",
   "execution_count": null,
   "metadata": {
    "collapsed": true
   },
   "outputs": [],
   "source": []
  },
  {
   "cell_type": "code",
   "execution_count": null,
   "metadata": {
    "collapsed": true
   },
   "outputs": [],
   "source": []
  },
  {
   "cell_type": "code",
   "execution_count": null,
   "metadata": {
    "collapsed": true
   },
   "outputs": [],
   "source": []
  },
  {
   "cell_type": "code",
   "execution_count": null,
   "metadata": {
    "collapsed": true
   },
   "outputs": [],
   "source": []
  },
  {
   "cell_type": "code",
   "execution_count": null,
   "metadata": {
    "collapsed": true
   },
   "outputs": [],
   "source": []
  },
  {
   "cell_type": "code",
   "execution_count": null,
   "metadata": {
    "collapsed": true
   },
   "outputs": [],
   "source": []
  }
 ],
 "metadata": {
  "kernelspec": {
   "display_name": "Python 2",
   "language": "python",
   "name": "python2"
  },
  "language_info": {
   "codemirror_mode": {
    "name": "ipython",
    "version": 2
   },
   "file_extension": ".py",
   "mimetype": "text/x-python",
   "name": "python",
   "nbconvert_exporter": "python",
   "pygments_lexer": "ipython2",
   "version": "2.7.12"
  },
  "latex_envs": {
   "bibliofile": "biblio.bib",
   "cite_by": "apalike",
   "current_citInitial": 1,
   "eqLabelWithNumbers": true,
   "eqNumInitial": 0
  },
  "toc": {
   "nav_menu": {
    "height": "102px",
    "width": "252px"
   },
   "navigate_menu": true,
   "number_sections": true,
   "sideBar": true,
   "threshold": 4,
   "toc_cell": false,
   "toc_section_display": "block",
   "toc_window_display": true
  }
 },
 "nbformat": 4,
 "nbformat_minor": 0
}
