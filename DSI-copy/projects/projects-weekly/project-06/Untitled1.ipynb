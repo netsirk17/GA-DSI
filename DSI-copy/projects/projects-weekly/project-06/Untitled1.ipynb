{
 "cells": [
  {
   "cell_type": "code",
   "execution_count": 2,
   "metadata": {
    "ExecuteTime": {
     "end_time": "2016-11-07T14:34:10.941909",
     "start_time": "2016-11-07T14:34:10.661420"
    },
    "collapsed": false
   },
   "outputs": [],
   "source": [
    "% matplotlib inline\n",
    "import numpy as np\n",
    "import pandas as pd\n",
    "import matplotlib.pyplot as plt\n",
    "import seaborn as sns\n",
    "import re\n",
    "import requests\n",
    "import json\n",
    "import datetime\n",
    "import random\n",
    "\n",
    "# Using IMDBpie API to get data from IMDB website\n",
    "from imdbpie import Imdb\n",
    "\n",
    "from sklearn.feature_extraction.text import CountVectorizer\n",
    "from sklearn.preprocessing import StandardScaler\n",
    "from sklearn.preprocessing import Imputer"
   ]
  },
  {
   "cell_type": "code",
   "execution_count": 3,
   "metadata": {
    "ExecuteTime": {
     "end_time": "2016-11-07T14:34:44.575558",
     "start_time": "2016-11-07T14:34:43.006704"
    },
    "collapsed": false
   },
   "outputs": [
    {
     "data": {
      "text/plain": [
       "list"
      ]
     },
     "execution_count": 3,
     "metadata": {},
     "output_type": "execute_result"
    }
   ],
   "source": [
    "# Create an instance of imdbpie\n",
    "\n",
    "imdb = Imdb()\n",
    "imdb = Imdb(anonymize=True) # to proxy requests\n",
    "\n",
    "# Getting top 250 ever\n",
    "\n",
    "top250 = imdb.top_250()\n",
    "\n",
    "type(top250)\n"
   ]
  },
  {
   "cell_type": "code",
   "execution_count": 4,
   "metadata": {
    "ExecuteTime": {
     "end_time": "2016-11-07T14:36:09.266796",
     "start_time": "2016-11-07T14:36:09.225482"
    },
    "collapsed": false
   },
   "outputs": [
    {
     "data": {
      "text/html": [
       "<div>\n",
       "<table border=\"1\" class=\"dataframe\">\n",
       "  <thead>\n",
       "    <tr style=\"text-align: right;\">\n",
       "      <th></th>\n",
       "      <th>can_rate</th>\n",
       "      <th>image</th>\n",
       "      <th>num_votes</th>\n",
       "      <th>rating</th>\n",
       "      <th>tconst</th>\n",
       "      <th>title</th>\n",
       "      <th>type</th>\n",
       "      <th>year</th>\n",
       "    </tr>\n",
       "  </thead>\n",
       "  <tbody>\n",
       "    <tr>\n",
       "      <th>0</th>\n",
       "      <td>True</td>\n",
       "      <td>{u'url': u'https://images-na.ssl-images-amazon...</td>\n",
       "      <td>1724776</td>\n",
       "      <td>9.3</td>\n",
       "      <td>tt0111161</td>\n",
       "      <td>The Shawshank Redemption</td>\n",
       "      <td>feature</td>\n",
       "      <td>1994</td>\n",
       "    </tr>\n",
       "    <tr>\n",
       "      <th>1</th>\n",
       "      <td>True</td>\n",
       "      <td>{u'url': u'https://images-na.ssl-images-amazon...</td>\n",
       "      <td>1178676</td>\n",
       "      <td>9.2</td>\n",
       "      <td>tt0068646</td>\n",
       "      <td>The Godfather</td>\n",
       "      <td>feature</td>\n",
       "      <td>1972</td>\n",
       "    </tr>\n",
       "  </tbody>\n",
       "</table>\n",
       "</div>"
      ],
      "text/plain": [
       "  can_rate                                              image  num_votes  \\\n",
       "0     True  {u'url': u'https://images-na.ssl-images-amazon...    1724776   \n",
       "1     True  {u'url': u'https://images-na.ssl-images-amazon...    1178676   \n",
       "\n",
       "   rating     tconst                     title     type  year  \n",
       "0     9.3  tt0111161  The Shawshank Redemption  feature  1994  \n",
       "1     9.2  tt0068646             The Godfather  feature  1972  "
      ]
     },
     "execution_count": 4,
     "metadata": {},
     "output_type": "execute_result"
    }
   ],
   "source": [
    "df250 = pd.DataFrame(top250)\n",
    "df250.head(2)"
   ]
  },
  {
   "cell_type": "code",
   "execution_count": 5,
   "metadata": {
    "ExecuteTime": {
     "end_time": "2016-11-07T14:36:29.051806",
     "start_time": "2016-11-07T14:36:29.036450"
    },
    "collapsed": true
   },
   "outputs": [],
   "source": [
    "# Function to get movie entries using OMDB API, code obtained from lab\n",
    "\n",
    "def get_entry(entry):\n",
    "    res = requests.get('http://www.omdbapi.com/?i='+entry)\n",
    "    if res.status_code != 200:\n",
    "        print entry, res.status_code\n",
    "    else:\n",
    "        print '.',\n",
    "    try:\n",
    "        j = json.loads(res.text)\n",
    "    except ValueError:\n",
    "        j = None\n",
    "    return j\n",
    "\n",
    "# Getting a list of title code for top250 movies\n",
    "entries = list(df250['tconst'].values)"
   ]
  },
  {
   "cell_type": "code",
   "execution_count": 6,
   "metadata": {
    "ExecuteTime": {
     "end_time": "2016-11-07T14:36:51.898394",
     "start_time": "2016-11-07T14:36:46.673656"
    },
    "collapsed": false
   },
   "outputs": [
    {
     "name": "stdout",
     "output_type": "stream",
     "text": [
      ". . . . . . . . . . . . . . . . . . . . . . . . . . . . . . . . . . . . . . . . . . . . . . . . . . . . . . . . . . . . . . . . . . . . . . . . . . . . . . . . . . . . . . . . . . . . . . . . . . . . . . . . . . . . . . . . . . . . . . . . . . . . . . . . . . . . . . . . . . . . . . . . . . . . . . . . . . . . . . . . . . . . . . . . . . . . . . . . . . . . . . . . . . . . . . . . . . . . . . . . . . . . . . . . . . . . . . . . . . . . . . . . . . . . . . . . . . . . . . . . . . . . . . . . . .\n"
     ]
    }
   ],
   "source": [
    "entries_dict_list = [get_entry(e) for e in entries]"
   ]
  },
  {
   "cell_type": "code",
   "execution_count": 7,
   "metadata": {
    "ExecuteTime": {
     "end_time": "2016-11-07T14:36:51.927144",
     "start_time": "2016-11-07T14:36:51.902078"
    },
    "collapsed": true
   },
   "outputs": [],
   "source": [
    "df = pd.DataFrame(entries_dict_list)"
   ]
  },
  {
   "cell_type": "code",
   "execution_count": 9,
   "metadata": {
    "ExecuteTime": {
     "end_time": "2016-11-07T14:37:05.822263",
     "start_time": "2016-11-07T14:37:05.764021"
    },
    "collapsed": false
   },
   "outputs": [
    {
     "data": {
      "text/html": [
       "<div>\n",
       "<table border=\"1\" class=\"dataframe\">\n",
       "  <thead>\n",
       "    <tr style=\"text-align: right;\">\n",
       "      <th></th>\n",
       "      <th>Actors</th>\n",
       "      <th>Awards</th>\n",
       "      <th>Country</th>\n",
       "      <th>Director</th>\n",
       "      <th>Genre</th>\n",
       "      <th>Language</th>\n",
       "      <th>Metascore</th>\n",
       "      <th>Plot</th>\n",
       "      <th>Poster</th>\n",
       "      <th>Rated</th>\n",
       "      <th>Released</th>\n",
       "      <th>Response</th>\n",
       "      <th>Runtime</th>\n",
       "      <th>Title</th>\n",
       "      <th>Type</th>\n",
       "      <th>Writer</th>\n",
       "      <th>Year</th>\n",
       "      <th>imdbID</th>\n",
       "      <th>imdbRating</th>\n",
       "      <th>imdbVotes</th>\n",
       "    </tr>\n",
       "  </thead>\n",
       "  <tbody>\n",
       "    <tr>\n",
       "      <th>0</th>\n",
       "      <td>Tim Robbins, Morgan Freeman, Bob Gunton, Willi...</td>\n",
       "      <td>Nominated for 7 Oscars. Another 18 wins &amp; 30 n...</td>\n",
       "      <td>USA</td>\n",
       "      <td>Frank Darabont</td>\n",
       "      <td>Crime, Drama</td>\n",
       "      <td>English</td>\n",
       "      <td>80</td>\n",
       "      <td>Two imprisoned men bond over a number of years...</td>\n",
       "      <td>https://images-na.ssl-images-amazon.com/images...</td>\n",
       "      <td>R</td>\n",
       "      <td>14 Oct 1994</td>\n",
       "      <td>True</td>\n",
       "      <td>142 min</td>\n",
       "      <td>The Shawshank Redemption</td>\n",
       "      <td>movie</td>\n",
       "      <td>Stephen King (short story \"Rita Hayworth and S...</td>\n",
       "      <td>1994</td>\n",
       "      <td>tt0111161</td>\n",
       "      <td>9.3</td>\n",
       "      <td>1,711,064</td>\n",
       "    </tr>\n",
       "  </tbody>\n",
       "</table>\n",
       "</div>"
      ],
      "text/plain": [
       "                                              Actors  \\\n",
       "0  Tim Robbins, Morgan Freeman, Bob Gunton, Willi...   \n",
       "\n",
       "                                              Awards Country        Director  \\\n",
       "0  Nominated for 7 Oscars. Another 18 wins & 30 n...     USA  Frank Darabont   \n",
       "\n",
       "          Genre Language Metascore  \\\n",
       "0  Crime, Drama  English        80   \n",
       "\n",
       "                                                Plot  \\\n",
       "0  Two imprisoned men bond over a number of years...   \n",
       "\n",
       "                                              Poster Rated     Released  \\\n",
       "0  https://images-na.ssl-images-amazon.com/images...     R  14 Oct 1994   \n",
       "\n",
       "  Response  Runtime                     Title   Type  \\\n",
       "0     True  142 min  The Shawshank Redemption  movie   \n",
       "\n",
       "                                              Writer  Year     imdbID  \\\n",
       "0  Stephen King (short story \"Rita Hayworth and S...  1994  tt0111161   \n",
       "\n",
       "  imdbRating  imdbVotes  \n",
       "0        9.3  1,711,064  "
      ]
     },
     "execution_count": 9,
     "metadata": {},
     "output_type": "execute_result"
    }
   ],
   "source": [
    "df.head(1)"
   ]
  },
  {
   "cell_type": "code",
   "execution_count": 10,
   "metadata": {
    "ExecuteTime": {
     "end_time": "2016-11-07T14:37:20.111296",
     "start_time": "2016-11-07T14:37:20.105433"
    },
    "collapsed": false
   },
   "outputs": [
    {
     "data": {
      "text/plain": [
       "(250, 20)"
      ]
     },
     "execution_count": 10,
     "metadata": {},
     "output_type": "execute_result"
    }
   ],
   "source": [
    "df.shape"
   ]
  },
  {
   "cell_type": "code",
   "execution_count": 15,
   "metadata": {
    "ExecuteTime": {
     "end_time": "2016-11-07T14:38:52.697526",
     "start_time": "2016-11-07T14:38:52.687174"
    },
    "collapsed": false
   },
   "outputs": [],
   "source": [
    "# Reverting to webscrapping to get gross of each movie\n",
    "# Creating a function to scrap gross, company credits and technical details of each movie\n",
    "\n",
    "def get_gross(entry):\n",
    "    response = requests.get('http://www.imdb.com/title/' + entry)\n",
    "    html = response.text\n",
    "    try:\n",
    "        \n",
    "        gross = re.findall('Gross:</h4>\\s*\\$([^ ]*)', html)\n",
    "        return int(gross[0].replace(',',''))\n",
    "    except Exception as ex:\n",
    "        print ex, entry, requests.status_codes\n",
    "        return None"
   ]
  },
  {
   "cell_type": "code",
   "execution_count": 16,
   "metadata": {
    "ExecuteTime": {
     "end_time": "2016-11-07T14:41:29.220084",
     "start_time": "2016-11-07T14:38:54.085374"
    },
    "collapsed": false
   },
   "outputs": [
    {
     "name": "stdout",
     "output_type": "stream",
     "text": [
      "list index out of range tt0050083 <module 'requests.status_codes' from '//anaconda/lib/python2.7/site-packages/requests/status_codes.pyc'>\n",
      "list index out of range tt0038650 <module 'requests.status_codes' from '//anaconda/lib/python2.7/site-packages/requests/status_codes.pyc'>\n",
      "list index out of range tt0064116 <module 'requests.status_codes' from '//anaconda/lib/python2.7/site-packages/requests/status_codes.pyc'>\n",
      "list index out of range tt0034583 <module 'requests.status_codes' from '//anaconda/lib/python2.7/site-packages/requests/status_codes.pyc'>\n",
      "list index out of range tt0021749 <module 'requests.status_codes' from '//anaconda/lib/python2.7/site-packages/requests/status_codes.pyc'>\n",
      "list index out of range tt0057012 <module 'requests.status_codes' from '//anaconda/lib/python2.7/site-packages/requests/status_codes.pyc'>\n",
      "list index out of range tt0043014 <module 'requests.status_codes' from '//anaconda/lib/python2.7/site-packages/requests/status_codes.pyc'>\n",
      "list index out of range tt0032553 <module 'requests.status_codes' from '//anaconda/lib/python2.7/site-packages/requests/status_codes.pyc'>\n",
      "list index out of range tt0050825 <module 'requests.status_codes' from '//anaconda/lib/python2.7/site-packages/requests/status_codes.pyc'>\n",
      "list index out of range tt0081505 <module 'requests.status_codes' from '//anaconda/lib/python2.7/site-packages/requests/status_codes.pyc'>\n",
      "list index out of range tt0095327 <module 'requests.status_codes' from '//anaconda/lib/python2.7/site-packages/requests/status_codes.pyc'>\n",
      "list index out of range tt0033467 <module 'requests.status_codes' from '//anaconda/lib/python2.7/site-packages/requests/status_codes.pyc'>\n",
      "list index out of range tt0051201 <module 'requests.status_codes' from '//anaconda/lib/python2.7/site-packages/requests/status_codes.pyc'>\n",
      "list index out of range tt0053125 <module 'requests.status_codes' from '//anaconda/lib/python2.7/site-packages/requests/status_codes.pyc'>\n",
      "list index out of range tt0476735 <module 'requests.status_codes' from '//anaconda/lib/python2.7/site-packages/requests/status_codes.pyc'>\n",
      "list index out of range tt0066921 <module 'requests.status_codes' from '//anaconda/lib/python2.7/site-packages/requests/status_codes.pyc'>\n",
      "list index out of range tt0075314 <module 'requests.status_codes' from '//anaconda/lib/python2.7/site-packages/requests/status_codes.pyc'>\n",
      "list index out of range tt0036775 <module 'requests.status_codes' from '//anaconda/lib/python2.7/site-packages/requests/status_codes.pyc'>\n",
      "list index out of range tt0056592 <module 'requests.status_codes' from '//anaconda/lib/python2.7/site-packages/requests/status_codes.pyc'>\n",
      "list index out of range tt0109117 <module 'requests.status_codes' from '//anaconda/lib/python2.7/site-packages/requests/status_codes.pyc'>\n",
      "list index out of range tt0045152 <module 'requests.status_codes' from '//anaconda/lib/python2.7/site-packages/requests/status_codes.pyc'>\n",
      "list index out of range tt0059578 <module 'requests.status_codes' from '//anaconda/lib/python2.7/site-packages/requests/status_codes.pyc'>\n",
      "list index out of range tt0042876 <module 'requests.status_codes' from '//anaconda/lib/python2.7/site-packages/requests/status_codes.pyc'>\n",
      "list index out of range tt0053604 <module 'requests.status_codes' from '//anaconda/lib/python2.7/site-packages/requests/status_codes.pyc'>\n",
      "list index out of range tt0055630 <module 'requests.status_codes' from '//anaconda/lib/python2.7/site-packages/requests/status_codes.pyc'>\n",
      "list index out of range tt0040897 <module 'requests.status_codes' from '//anaconda/lib/python2.7/site-packages/requests/status_codes.pyc'>\n",
      "list index out of range tt0057115 <module 'requests.status_codes' from '//anaconda/lib/python2.7/site-packages/requests/status_codes.pyc'>\n",
      "list index out of range tt0071315 <module 'requests.status_codes' from '//anaconda/lib/python2.7/site-packages/requests/status_codes.pyc'>\n",
      "list index out of range tt0096283 <module 'requests.status_codes' from '//anaconda/lib/python2.7/site-packages/requests/status_codes.pyc'>\n",
      "list index out of range tt0015864 <module 'requests.status_codes' from '//anaconda/lib/python2.7/site-packages/requests/status_codes.pyc'>\n",
      "list index out of range tt0031679 <module 'requests.status_codes' from '//anaconda/lib/python2.7/site-packages/requests/status_codes.pyc'>\n",
      "list index out of range tt0050976 <module 'requests.status_codes' from '//anaconda/lib/python2.7/site-packages/requests/status_codes.pyc'>\n",
      "list index out of range tt0055031 <module 'requests.status_codes' from '//anaconda/lib/python2.7/site-packages/requests/status_codes.pyc'>\n",
      "list index out of range tt0050986 <module 'requests.status_codes' from '//anaconda/lib/python2.7/site-packages/requests/status_codes.pyc'>\n",
      "list index out of range tt0019254 <module 'requests.status_codes' from '//anaconda/lib/python2.7/site-packages/requests/status_codes.pyc'>\n",
      "list index out of range tt0017925 <module 'requests.status_codes' from '//anaconda/lib/python2.7/site-packages/requests/status_codes.pyc'>\n",
      "list index out of range tt0080678 <module 'requests.status_codes' from '//anaconda/lib/python2.7/site-packages/requests/status_codes.pyc'>\n",
      "list index out of range tt0018455 <module 'requests.status_codes' from '//anaconda/lib/python2.7/site-packages/requests/status_codes.pyc'>\n",
      "list index out of range tt0046438 <module 'requests.status_codes' from '//anaconda/lib/python2.7/site-packages/requests/status_codes.pyc'>\n",
      "list index out of range tt0077416 <module 'requests.status_codes' from '//anaconda/lib/python2.7/site-packages/requests/status_codes.pyc'>\n",
      "list index out of range tt0032976 <module 'requests.status_codes' from '//anaconda/lib/python2.7/site-packages/requests/status_codes.pyc'>\n",
      "list index out of range tt0061512 <module 'requests.status_codes' from '//anaconda/lib/python2.7/site-packages/requests/status_codes.pyc'>\n",
      "list index out of range tt0978762 <module 'requests.status_codes' from '//anaconda/lib/python2.7/site-packages/requests/status_codes.pyc'>\n",
      "list index out of range tt0091251 <module 'requests.status_codes' from '//anaconda/lib/python2.7/site-packages/requests/status_codes.pyc'>\n",
      "list index out of range tt0025316 <module 'requests.status_codes' from '//anaconda/lib/python2.7/site-packages/requests/status_codes.pyc'>\n",
      "list index out of range tt0074896 <module 'requests.status_codes' from '//anaconda/lib/python2.7/site-packages/requests/status_codes.pyc'>\n",
      "list index out of range tt0074958 <module 'requests.status_codes' from '//anaconda/lib/python2.7/site-packages/requests/status_codes.pyc'>\n",
      "list index out of range tt0046268 <module 'requests.status_codes' from '//anaconda/lib/python2.7/site-packages/requests/status_codes.pyc'>\n",
      "list index out of range tt0033870 <module 'requests.status_codes' from '//anaconda/lib/python2.7/site-packages/requests/status_codes.pyc'>\n",
      "list index out of range tt0053198 <module 'requests.status_codes' from '//anaconda/lib/python2.7/site-packages/requests/status_codes.pyc'>\n",
      "list index out of range tt0060827 <module 'requests.status_codes' from '//anaconda/lib/python2.7/site-packages/requests/status_codes.pyc'>\n",
      "list index out of range tt1028532 <module 'requests.status_codes' from '//anaconda/lib/python2.7/site-packages/requests/status_codes.pyc'>\n",
      "list index out of range tt0087544 <module 'requests.status_codes' from '//anaconda/lib/python2.7/site-packages/requests/status_codes.pyc'>\n",
      "list index out of range tt0079944 <module 'requests.status_codes' from '//anaconda/lib/python2.7/site-packages/requests/status_codes.pyc'>\n",
      "list index out of range tt0032551 <module 'requests.status_codes' from '//anaconda/lib/python2.7/site-packages/requests/status_codes.pyc'>\n",
      "list index out of range tt0083987 <module 'requests.status_codes' from '//anaconda/lib/python2.7/site-packages/requests/status_codes.pyc'>\n",
      "list index out of range tt0046911 <module 'requests.status_codes' from '//anaconda/lib/python2.7/site-packages/requests/status_codes.pyc'>\n",
      "list index out of range tt0072684 <module 'requests.status_codes' from '//anaconda/lib/python2.7/site-packages/requests/status_codes.pyc'>\n",
      "list index out of range tt0044079 <module 'requests.status_codes' from '//anaconda/lib/python2.7/site-packages/requests/status_codes.pyc'>\n",
      "list index out of range tt0072890 <module 'requests.status_codes' from '//anaconda/lib/python2.7/site-packages/requests/status_codes.pyc'>\n",
      "list index out of range tt0041546 <module 'requests.status_codes' from '//anaconda/lib/python2.7/site-packages/requests/status_codes.pyc'>\n",
      "list index out of range tt1954470 <module 'requests.status_codes' from '//anaconda/lib/python2.7/site-packages/requests/status_codes.pyc'>\n",
      "list index out of range tt1220719 <module 'requests.status_codes' from '//anaconda/lib/python2.7/site-packages/requests/status_codes.pyc'>\n",
      "list index out of range tt0092067 <module 'requests.status_codes' from '//anaconda/lib/python2.7/site-packages/requests/status_codes.pyc'>\n",
      "list index out of range tt0046250 <module 'requests.status_codes' from '//anaconda/lib/python2.7/site-packages/requests/status_codes.pyc'>\n",
      "list index out of range tt0083922 <module 'requests.status_codes' from '//anaconda/lib/python2.7/site-packages/requests/status_codes.pyc'>\n",
      "list index out of range tt1821480 <module 'requests.status_codes' from '//anaconda/lib/python2.7/site-packages/requests/status_codes.pyc'>\n"
     ]
    }
   ],
   "source": [
    "gross_list = [(x,get_gross(x)) for x in entries]"
   ]
  },
  {
   "cell_type": "code",
   "execution_count": 17,
   "metadata": {
    "ExecuteTime": {
     "end_time": "2016-11-07T14:41:29.234398",
     "start_time": "2016-11-07T14:41:29.222362"
    },
    "collapsed": false
   },
   "outputs": [
    {
     "data": {
      "text/html": [
       "<div>\n",
       "<table border=\"1\" class=\"dataframe\">\n",
       "  <thead>\n",
       "    <tr style=\"text-align: right;\">\n",
       "      <th></th>\n",
       "      <th>imdbID</th>\n",
       "      <th>Gross</th>\n",
       "    </tr>\n",
       "  </thead>\n",
       "  <tbody>\n",
       "    <tr>\n",
       "      <th>0</th>\n",
       "      <td>tt0111161</td>\n",
       "      <td>28341469.0</td>\n",
       "    </tr>\n",
       "    <tr>\n",
       "      <th>1</th>\n",
       "      <td>tt0068646</td>\n",
       "      <td>134821952.0</td>\n",
       "    </tr>\n",
       "  </tbody>\n",
       "</table>\n",
       "</div>"
      ],
      "text/plain": [
       "      imdbID        Gross\n",
       "0  tt0111161   28341469.0\n",
       "1  tt0068646  134821952.0"
      ]
     },
     "execution_count": 17,
     "metadata": {},
     "output_type": "execute_result"
    }
   ],
   "source": [
    "df_gross = pd.DataFrame(gross_list, columns = ['imdbID','Gross'])\n",
    "df_gross.head(2)"
   ]
  },
  {
   "cell_type": "code",
   "execution_count": 18,
   "metadata": {
    "ExecuteTime": {
     "end_time": "2016-11-07T14:44:09.429872",
     "start_time": "2016-11-07T14:41:53.041506"
    },
    "collapsed": true
   },
   "outputs": [],
   "source": [
    "# function to get technical details of movie\n",
    "\n",
    "def get_sound(entry):\n",
    "    response = requests.get('http://www.imdb.com/title/' + entry)\n",
    "    html = response.text\n",
    "    try:\n",
    "        sound_list = re.findall('sound_mixes=([^&]*)', html)\n",
    "        sound = ''\n",
    "        for i in sound_list:\n",
    "            sound = sound + ' ' + i\n",
    "        return sound\n",
    "        \n",
    "    except Exception as ex:\n",
    "        print entry, ex, requests.status_codes\n",
    "        return None\n",
    "\n",
    "sound_list = [(x, get_sound(x)) for x in entries]"
   ]
  },
  {
   "cell_type": "code",
   "execution_count": 22,
   "metadata": {
    "ExecuteTime": {
     "end_time": "2016-11-07T14:45:24.073183",
     "start_time": "2016-11-07T14:45:24.060574"
    },
    "collapsed": false
   },
   "outputs": [
    {
     "data": {
      "text/html": [
       "<div>\n",
       "<table border=\"1\" class=\"dataframe\">\n",
       "  <thead>\n",
       "    <tr style=\"text-align: right;\">\n",
       "      <th></th>\n",
       "      <th>imdbID</th>\n",
       "      <th>sound</th>\n",
       "    </tr>\n",
       "  </thead>\n",
       "  <tbody>\n",
       "    <tr>\n",
       "      <th>0</th>\n",
       "      <td>tt0111161</td>\n",
       "      <td>dolby_digital</td>\n",
       "    </tr>\n",
       "    <tr>\n",
       "      <th>1</th>\n",
       "      <td>tt0068646</td>\n",
       "      <td>dts mono</td>\n",
       "    </tr>\n",
       "  </tbody>\n",
       "</table>\n",
       "</div>"
      ],
      "text/plain": [
       "      imdbID           sound\n",
       "0  tt0111161   dolby_digital\n",
       "1  tt0068646        dts mono"
      ]
     },
     "execution_count": 22,
     "metadata": {},
     "output_type": "execute_result"
    }
   ],
   "source": [
    "df_sound = pd.DataFrame(sound_list, columns = ['imdbID','sound'])\n",
    "df_sound.head(2)"
   ]
  },
  {
   "cell_type": "code",
   "execution_count": 19,
   "metadata": {
    "ExecuteTime": {
     "end_time": "2016-11-07T14:44:30.134979",
     "start_time": "2016-11-07T14:44:30.085497"
    },
    "collapsed": true
   },
   "outputs": [],
   "source": [
    "# Deleting Poster and Response columns\n",
    "del df['Poster']\n",
    "del df['Response']\n",
    "\n",
    "# Replace \"N/A\" with ''\n",
    "df.loc[:,'Awards'] = df['Awards'].apply(lambda x: (x).replace(\"N/A\", ''))\n",
    "\n",
    "# Converting runtime to integer of minutes\n",
    "df.loc[:,'Runtime'] = df['Runtime'].apply(lambda x: int(x.split()[0]))\n",
    "\n",
    "# Converting ratings to float\n",
    "df.loc[:, 'imdbRating'] = df['imdbRating'].astype(float)\n",
    "\n",
    "# Converting votes to int\n",
    "df.loc[:, 'imdbVotes'] = df['imdbVotes'].apply(lambda x: int(x.replace(',','')))\n",
    "\n",
    "# Replace \"N/A\" with np.nan\n",
    "df.loc[:,'Metascore'] = df['Metascore'].apply(lambda x: (x).replace(\"N/A\", '0'))\n",
    "df.loc[:,'Metascore'] = df['Metascore'].astype(float)\n",
    "df.loc[:,'Metascore'] = df['Metascore'].apply(lambda x: np.nan if x == 0 else x)\n",
    "\n",
    "\n",
    "def change_date(x):\n",
    "    try:\n",
    "        return datetime.datetime.strptime(x, \"%d %b %Y\")\n",
    "    except:\n",
    "        return None\n",
    "df.loc[:,'Released'] = df['Released'].apply(change_date)\n",
    "\n",
    "df.loc[:,'Year'] = df[\"Year\"].astype(int)"
   ]
  },
  {
   "cell_type": "code",
   "execution_count": 20,
   "metadata": {
    "ExecuteTime": {
     "end_time": "2016-11-07T14:44:44.018482",
     "start_time": "2016-11-07T14:44:43.955636"
    },
    "collapsed": false
   },
   "outputs": [
    {
     "data": {
      "text/html": [
       "<div>\n",
       "<table border=\"1\" class=\"dataframe\">\n",
       "  <thead>\n",
       "    <tr style=\"text-align: right;\">\n",
       "      <th></th>\n",
       "      <th>Actors</th>\n",
       "      <th>Awards</th>\n",
       "      <th>Country</th>\n",
       "      <th>Director</th>\n",
       "      <th>Genre</th>\n",
       "      <th>Language</th>\n",
       "      <th>Metascore</th>\n",
       "      <th>Plot</th>\n",
       "      <th>Rated</th>\n",
       "      <th>Released</th>\n",
       "      <th>Runtime</th>\n",
       "      <th>Title</th>\n",
       "      <th>Type</th>\n",
       "      <th>Writer</th>\n",
       "      <th>Year</th>\n",
       "      <th>imdbID</th>\n",
       "      <th>imdbRating</th>\n",
       "      <th>imdbVotes</th>\n",
       "      <th>Gross</th>\n",
       "    </tr>\n",
       "  </thead>\n",
       "  <tbody>\n",
       "    <tr>\n",
       "      <th>0</th>\n",
       "      <td>Tim Robbins, Morgan Freeman, Bob Gunton, Willi...</td>\n",
       "      <td>Nominated for 7 Oscars. Another 18 wins &amp; 30 n...</td>\n",
       "      <td>USA</td>\n",
       "      <td>Frank Darabont</td>\n",
       "      <td>Crime, Drama</td>\n",
       "      <td>English</td>\n",
       "      <td>80.0</td>\n",
       "      <td>Two imprisoned men bond over a number of years...</td>\n",
       "      <td>R</td>\n",
       "      <td>1994-10-14</td>\n",
       "      <td>142</td>\n",
       "      <td>The Shawshank Redemption</td>\n",
       "      <td>movie</td>\n",
       "      <td>Stephen King (short story \"Rita Hayworth and S...</td>\n",
       "      <td>1994</td>\n",
       "      <td>tt0111161</td>\n",
       "      <td>9.3</td>\n",
       "      <td>1711064</td>\n",
       "      <td>28341469.0</td>\n",
       "    </tr>\n",
       "    <tr>\n",
       "      <th>1</th>\n",
       "      <td>Marlon Brando, Al Pacino, James Caan, Richard ...</td>\n",
       "      <td>Won 3 Oscars. Another 23 wins &amp; 27 nominations.</td>\n",
       "      <td>USA</td>\n",
       "      <td>Francis Ford Coppola</td>\n",
       "      <td>Crime, Drama</td>\n",
       "      <td>English, Italian, Latin</td>\n",
       "      <td>100.0</td>\n",
       "      <td>The aging patriarch of an organized crime dyna...</td>\n",
       "      <td>R</td>\n",
       "      <td>1972-03-24</td>\n",
       "      <td>175</td>\n",
       "      <td>The Godfather</td>\n",
       "      <td>movie</td>\n",
       "      <td>Mario Puzo (screenplay), Francis Ford Coppola ...</td>\n",
       "      <td>1972</td>\n",
       "      <td>tt0068646</td>\n",
       "      <td>9.2</td>\n",
       "      <td>1177812</td>\n",
       "      <td>134821952.0</td>\n",
       "    </tr>\n",
       "  </tbody>\n",
       "</table>\n",
       "</div>"
      ],
      "text/plain": [
       "                                              Actors  \\\n",
       "0  Tim Robbins, Morgan Freeman, Bob Gunton, Willi...   \n",
       "1  Marlon Brando, Al Pacino, James Caan, Richard ...   \n",
       "\n",
       "                                              Awards Country  \\\n",
       "0  Nominated for 7 Oscars. Another 18 wins & 30 n...     USA   \n",
       "1    Won 3 Oscars. Another 23 wins & 27 nominations.     USA   \n",
       "\n",
       "               Director         Genre                 Language  Metascore  \\\n",
       "0        Frank Darabont  Crime, Drama                  English       80.0   \n",
       "1  Francis Ford Coppola  Crime, Drama  English, Italian, Latin      100.0   \n",
       "\n",
       "                                                Plot Rated   Released  \\\n",
       "0  Two imprisoned men bond over a number of years...     R 1994-10-14   \n",
       "1  The aging patriarch of an organized crime dyna...     R 1972-03-24   \n",
       "\n",
       "   Runtime                     Title   Type  \\\n",
       "0      142  The Shawshank Redemption  movie   \n",
       "1      175             The Godfather  movie   \n",
       "\n",
       "                                              Writer  Year     imdbID  \\\n",
       "0  Stephen King (short story \"Rita Hayworth and S...  1994  tt0111161   \n",
       "1  Mario Puzo (screenplay), Francis Ford Coppola ...  1972  tt0068646   \n",
       "\n",
       "   imdbRating  imdbVotes        Gross  \n",
       "0         9.3    1711064   28341469.0  \n",
       "1         9.2    1177812  134821952.0  "
      ]
     },
     "execution_count": 20,
     "metadata": {},
     "output_type": "execute_result"
    }
   ],
   "source": [
    "df = pd.merge(df, df_gross, on= 'imdbID')\n",
    "df.head(2)"
   ]
  },
  {
   "cell_type": "code",
   "execution_count": 23,
   "metadata": {
    "ExecuteTime": {
     "end_time": "2016-11-07T14:45:27.324641",
     "start_time": "2016-11-07T14:45:27.269217"
    },
    "collapsed": false
   },
   "outputs": [
    {
     "data": {
      "text/html": [
       "<div>\n",
       "<table border=\"1\" class=\"dataframe\">\n",
       "  <thead>\n",
       "    <tr style=\"text-align: right;\">\n",
       "      <th></th>\n",
       "      <th>Actors</th>\n",
       "      <th>Awards</th>\n",
       "      <th>Country</th>\n",
       "      <th>Director</th>\n",
       "      <th>Genre</th>\n",
       "      <th>Language</th>\n",
       "      <th>Metascore</th>\n",
       "      <th>Plot</th>\n",
       "      <th>Rated</th>\n",
       "      <th>Released</th>\n",
       "      <th>Runtime</th>\n",
       "      <th>Title</th>\n",
       "      <th>Type</th>\n",
       "      <th>Writer</th>\n",
       "      <th>Year</th>\n",
       "      <th>imdbID</th>\n",
       "      <th>imdbRating</th>\n",
       "      <th>imdbVotes</th>\n",
       "      <th>Gross</th>\n",
       "      <th>sound</th>\n",
       "    </tr>\n",
       "  </thead>\n",
       "  <tbody>\n",
       "    <tr>\n",
       "      <th>0</th>\n",
       "      <td>Tim Robbins, Morgan Freeman, Bob Gunton, Willi...</td>\n",
       "      <td>Nominated for 7 Oscars. Another 18 wins &amp; 30 n...</td>\n",
       "      <td>USA</td>\n",
       "      <td>Frank Darabont</td>\n",
       "      <td>Crime, Drama</td>\n",
       "      <td>English</td>\n",
       "      <td>80.0</td>\n",
       "      <td>Two imprisoned men bond over a number of years...</td>\n",
       "      <td>R</td>\n",
       "      <td>1994-10-14</td>\n",
       "      <td>142</td>\n",
       "      <td>The Shawshank Redemption</td>\n",
       "      <td>movie</td>\n",
       "      <td>Stephen King (short story \"Rita Hayworth and S...</td>\n",
       "      <td>1994</td>\n",
       "      <td>tt0111161</td>\n",
       "      <td>9.3</td>\n",
       "      <td>1711064</td>\n",
       "      <td>28341469.0</td>\n",
       "      <td>dolby_digital</td>\n",
       "    </tr>\n",
       "    <tr>\n",
       "      <th>1</th>\n",
       "      <td>Marlon Brando, Al Pacino, James Caan, Richard ...</td>\n",
       "      <td>Won 3 Oscars. Another 23 wins &amp; 27 nominations.</td>\n",
       "      <td>USA</td>\n",
       "      <td>Francis Ford Coppola</td>\n",
       "      <td>Crime, Drama</td>\n",
       "      <td>English, Italian, Latin</td>\n",
       "      <td>100.0</td>\n",
       "      <td>The aging patriarch of an organized crime dyna...</td>\n",
       "      <td>R</td>\n",
       "      <td>1972-03-24</td>\n",
       "      <td>175</td>\n",
       "      <td>The Godfather</td>\n",
       "      <td>movie</td>\n",
       "      <td>Mario Puzo (screenplay), Francis Ford Coppola ...</td>\n",
       "      <td>1972</td>\n",
       "      <td>tt0068646</td>\n",
       "      <td>9.2</td>\n",
       "      <td>1177812</td>\n",
       "      <td>134821952.0</td>\n",
       "      <td>dts mono</td>\n",
       "    </tr>\n",
       "  </tbody>\n",
       "</table>\n",
       "</div>"
      ],
      "text/plain": [
       "                                              Actors  \\\n",
       "0  Tim Robbins, Morgan Freeman, Bob Gunton, Willi...   \n",
       "1  Marlon Brando, Al Pacino, James Caan, Richard ...   \n",
       "\n",
       "                                              Awards Country  \\\n",
       "0  Nominated for 7 Oscars. Another 18 wins & 30 n...     USA   \n",
       "1    Won 3 Oscars. Another 23 wins & 27 nominations.     USA   \n",
       "\n",
       "               Director         Genre                 Language  Metascore  \\\n",
       "0        Frank Darabont  Crime, Drama                  English       80.0   \n",
       "1  Francis Ford Coppola  Crime, Drama  English, Italian, Latin      100.0   \n",
       "\n",
       "                                                Plot Rated   Released  \\\n",
       "0  Two imprisoned men bond over a number of years...     R 1994-10-14   \n",
       "1  The aging patriarch of an organized crime dyna...     R 1972-03-24   \n",
       "\n",
       "   Runtime                     Title   Type  \\\n",
       "0      142  The Shawshank Redemption  movie   \n",
       "1      175             The Godfather  movie   \n",
       "\n",
       "                                              Writer  Year     imdbID  \\\n",
       "0  Stephen King (short story \"Rita Hayworth and S...  1994  tt0111161   \n",
       "1  Mario Puzo (screenplay), Francis Ford Coppola ...  1972  tt0068646   \n",
       "\n",
       "   imdbRating  imdbVotes        Gross           sound  \n",
       "0         9.3    1711064   28341469.0   dolby_digital  \n",
       "1         9.2    1177812  134821952.0        dts mono  "
      ]
     },
     "execution_count": 23,
     "metadata": {},
     "output_type": "execute_result"
    }
   ],
   "source": [
    "df = pd.merge(df, df_sound, on= 'imdbID')\n",
    "df.head(2)"
   ]
  },
  {
   "cell_type": "code",
   "execution_count": 24,
   "metadata": {
    "ExecuteTime": {
     "end_time": "2016-11-07T14:46:57.666514",
     "start_time": "2016-11-07T14:46:57.647163"
    },
    "collapsed": true
   },
   "outputs": [],
   "source": [
    "# Merging actors' name so we can countvectorizer FirstLast name together\n",
    "df.loc[:, 'Actors'] = df['Actors'].apply(lambda x: x.replace('-',''))\n",
    "df.loc[:, 'Director'] = df['Director'].apply(lambda x: x.replace(' ',''))\n",
    "df.loc[:, 'Genre'] = df['Genre'].apply(lambda x: x.replace(' ',''))\n",
    "df.loc[:, 'Writer'] = df['Writer'].apply(lambda x: x.replace(' ',''))\n",
    "df.loc[:, 'Country'] = df['Country'].apply(lambda x: x.replace(' ',''))\n",
    "df.loc[:, 'sound'] = df['sound'].apply(lambda x: x.replace('_',''))"
   ]
  },
  {
   "cell_type": "code",
   "execution_count": 25,
   "metadata": {
    "ExecuteTime": {
     "end_time": "2016-11-07T14:47:56.257447",
     "start_time": "2016-11-07T14:47:56.231951"
    },
    "collapsed": true
   },
   "outputs": [],
   "source": [
    "def win_oscar(x):\n",
    "    try:\n",
    "        return int(re.findall('Won\\s(\\d)\\sOscars',x)[0])\n",
    "    except:\n",
    "        return 0\n",
    "df['win_oscar'] = df['Awards'].apply(win_oscar)\n",
    "\n",
    "\n",
    "def nom_oscar(x):\n",
    "    try:\n",
    "        return int(re.findall('Nominated\\sfor\\s(\\d)\\sOscar',x)[0])\n",
    "    except:\n",
    "        return 0\n",
    "df['nom_oscar'] = df['Awards'].apply(nom_oscar)\n",
    "\n",
    "def wins(x):\n",
    "    try:\n",
    "        return int(re.findall('(\\d+)\\swin',x)[0])\n",
    "    except:\n",
    "        return 0\n",
    "df['awards_won'] = df['Awards'].apply(wins)\n",
    "\n",
    "def nom(x):\n",
    "    try:\n",
    "        return int(re.findall('(\\d+)\\snomination',x)[0])\n",
    "    except:\n",
    "        return 0\n",
    "df['nominations'] = df['Awards'].apply(nom)\n"
   ]
  },
  {
   "cell_type": "code",
   "execution_count": 27,
   "metadata": {
    "ExecuteTime": {
     "end_time": "2016-11-07T14:48:38.513698",
     "start_time": "2016-11-07T14:48:38.509070"
    },
    "collapsed": true
   },
   "outputs": [],
   "source": [
    "# Generic vectorizer\n",
    "\n",
    "v = CountVectorizer(\n",
    "    binary=True,  # Create binary features\n",
    "    stop_words='english', # Ignore common words such as 'the', 'and'\n",
    "    max_features=50, # Only use the top 50 most common words\n",
    ")"
   ]
  },
  {
   "cell_type": "code",
   "execution_count": 29,
   "metadata": {
    "ExecuteTime": {
     "end_time": "2016-11-07T14:48:55.065397",
     "start_time": "2016-11-07T14:48:55.043470"
    },
    "collapsed": false
   },
   "outputs": [],
   "source": [
    "# This builds a matrix with a row per website (or data point) and column per word (using all words in the dataset)\n",
    "actors = v.fit_transform(df.Actors).todense()\n",
    "col = v.get_feature_names()\n",
    "# To differentiate key words\n",
    "col_n = []\n",
    "\n",
    "for i in col:\n",
    "    j = \"actor_\"+ i    \n",
    "    col_n.append(j)\n",
    "\n",
    "actors = pd.DataFrame(actors, columns= col_n)\n",
    "actors_df = pd.DataFrame(actors.sum())\n",
    "actors_df.columns = ['Count']\n",
    "actors_df.sort_values(['Count'],inplace = True)"
   ]
  },
  {
   "cell_type": "code",
   "execution_count": 55,
   "metadata": {
    "ExecuteTime": {
     "end_time": "2016-11-07T14:58:22.052927",
     "start_time": "2016-11-07T14:58:22.047501"
    },
    "collapsed": false
   },
   "outputs": [
    {
     "data": {
      "text/plain": [
       "(250, 50)"
      ]
     },
     "execution_count": 55,
     "metadata": {},
     "output_type": "execute_result"
    }
   ],
   "source": [
    "actors.shape"
   ]
  },
  {
   "cell_type": "code",
   "execution_count": 34,
   "metadata": {
    "ExecuteTime": {
     "end_time": "2016-11-07T14:53:42.714010",
     "start_time": "2016-11-07T14:53:42.699049"
    },
    "collapsed": true
   },
   "outputs": [],
   "source": [
    "#Director\n",
    "direct = v.fit_transform(df.Director).todense()\n",
    "col = v.get_feature_names()\n",
    "col_n = []\n",
    "for i in col:\n",
    "    j = \"dir_\"+ i    \n",
    "    col_n.append(j)\n",
    "direct = pd.DataFrame(direct, columns= col_n)\n",
    "direct_df = pd.DataFrame(direct.sum())\n",
    "direct_df.columns = ['Count']\n",
    "direct_df.sort_values(['Count'],inplace = True)"
   ]
  },
  {
   "cell_type": "code",
   "execution_count": 35,
   "metadata": {
    "ExecuteTime": {
     "end_time": "2016-11-07T14:53:43.575474",
     "start_time": "2016-11-07T14:53:43.563342"
    },
    "collapsed": true
   },
   "outputs": [],
   "source": [
    "#Genre\n",
    "genre = v.fit_transform(df.Genre).todense()\n",
    "col = v.get_feature_names()\n",
    "col_n = []\n",
    "for i in col:\n",
    "    j = \"genre_\"+ i    \n",
    "    col_n.append(j)\n",
    "genre = pd.DataFrame(genre, columns= col_n)"
   ]
  },
  {
   "cell_type": "code",
   "execution_count": 36,
   "metadata": {
    "ExecuteTime": {
     "end_time": "2016-11-07T14:53:44.236051",
     "start_time": "2016-11-07T14:53:44.225779"
    },
    "collapsed": true
   },
   "outputs": [],
   "source": [
    "#Language\n",
    "lang = v.fit_transform(df.Language).todense()\n",
    "col = v.get_feature_names()\n",
    "lang = pd.DataFrame(lang, columns= col)"
   ]
  },
  {
   "cell_type": "code",
   "execution_count": 37,
   "metadata": {
    "ExecuteTime": {
     "end_time": "2016-11-07T14:53:45.270825",
     "start_time": "2016-11-07T14:53:45.243453"
    },
    "collapsed": true
   },
   "outputs": [],
   "source": [
    "#Plot\n",
    "plot = v.fit_transform(df.Plot).todense()\n",
    "col = v.get_feature_names()\n",
    "col_n = []\n",
    "for i in col:\n",
    "    j = \"plot_\"+ i    \n",
    "    col_n.append(j)\n",
    "plot = pd.DataFrame(plot, columns= col_n)\n",
    "plot_df = pd.DataFrame(plot.sum())\n",
    "plot_df.columns = ['Count']\n",
    "plot_df.sort_values(['Count'],inplace = True)"
   ]
  },
  {
   "cell_type": "code",
   "execution_count": 38,
   "metadata": {
    "ExecuteTime": {
     "end_time": "2016-11-07T14:53:45.672812",
     "start_time": "2016-11-07T14:53:45.653027"
    },
    "collapsed": true
   },
   "outputs": [],
   "source": [
    "#Title\n",
    "title = v.fit_transform(df.Title).todense()\n",
    "col = v.get_feature_names()\n",
    "col_n = []\n",
    "for i in col:\n",
    "    j = \"title_\"+ i    \n",
    "    col_n.append(j)\n",
    "title = pd.DataFrame(title, columns= col_n)\n",
    "title_df = pd.DataFrame(title.sum())\n",
    "title_df.columns = ['Count']\n",
    "title_df.sort_values(['Count'],inplace = True)"
   ]
  },
  {
   "cell_type": "code",
   "execution_count": 39,
   "metadata": {
    "ExecuteTime": {
     "end_time": "2016-11-07T14:53:46.055020",
     "start_time": "2016-11-07T14:53:46.037082"
    },
    "collapsed": true
   },
   "outputs": [],
   "source": [
    "#Country\n",
    "country = v.fit_transform(df.Country).todense()\n",
    "col = v.get_feature_names()\n",
    "country = pd.DataFrame(country, columns= col)\n",
    "country = v.fit_transform(df.Country).todense()\n",
    "col = v.get_feature_names()\n",
    "country = pd.DataFrame(country, columns= col)"
   ]
  },
  {
   "cell_type": "code",
   "execution_count": 40,
   "metadata": {
    "ExecuteTime": {
     "end_time": "2016-11-07T14:53:47.087983",
     "start_time": "2016-11-07T14:53:47.074988"
    },
    "collapsed": false
   },
   "outputs": [],
   "source": [
    "#Sound\n",
    "sound = v.fit_transform(df.sound).todense()\n",
    "col = v.get_feature_names()\n",
    "sound = pd.DataFrame(sound, columns= col)\n",
    "sound_df = pd.DataFrame(sound.sum())\n",
    "sound_df.columns = ['Count']\n",
    "sound_df.sort_values(['Count'],inplace = True)"
   ]
  },
  {
   "cell_type": "code",
   "execution_count": 42,
   "metadata": {
    "ExecuteTime": {
     "end_time": "2016-11-07T14:54:01.282768",
     "start_time": "2016-11-07T14:54:01.276705"
    },
    "collapsed": false
   },
   "outputs": [],
   "source": [
    "df_rate = pd.get_dummies(df['Rated'])\n",
    "\n",
    "#Dropping \"N/A\" column\n",
    "del df_rate['N/A']"
   ]
  },
  {
   "cell_type": "code",
   "execution_count": 43,
   "metadata": {
    "ExecuteTime": {
     "end_time": "2016-11-07T14:54:24.091681",
     "start_time": "2016-11-07T14:54:24.076918"
    },
    "collapsed": true
   },
   "outputs": [],
   "source": [
    "df.loc[:, ['nom_oscar', 'awards_won']] = df[['nom_oscar', 'awards_won']].astype(int)"
   ]
  },
  {
   "cell_type": "code",
   "execution_count": 44,
   "metadata": {
    "ExecuteTime": {
     "end_time": "2016-11-07T14:54:40.077799",
     "start_time": "2016-11-07T14:54:40.069495"
    },
    "collapsed": true
   },
   "outputs": [],
   "source": [
    "a = df['Gross'].median()\n",
    "b = df['Gross'].mad()\n",
    "df.loc[:, 'Gross'] = df['Gross'].apply(lambda x:x if x > 0 else abs(a + (np.random.normal() * b)))"
   ]
  },
  {
   "cell_type": "code",
   "execution_count": 45,
   "metadata": {
    "ExecuteTime": {
     "end_time": "2016-11-07T14:54:50.052693",
     "start_time": "2016-11-07T14:54:50.045617"
    },
    "collapsed": true
   },
   "outputs": [],
   "source": [
    "a = df['Metascore'].mean()\n",
    "b = df['Metascore'].std()\n",
    "df.loc[:, 'Metascore'] = df['Metascore'].apply(lambda x:x if x > 0 else abs(a + (np.random.normal() * b)))"
   ]
  },
  {
   "cell_type": "code",
   "execution_count": 46,
   "metadata": {
    "ExecuteTime": {
     "end_time": "2016-11-07T14:55:18.066569",
     "start_time": "2016-11-07T14:55:18.055081"
    },
    "collapsed": true
   },
   "outputs": [],
   "source": [
    "want_list = ['Metascore', 'Year', 'Runtime', \\\n",
    "             'imdbVotes', 'Gross', 'win_oscar', \\\n",
    "             'nom_oscar', 'awards_won', 'nominations']\n",
    "\n",
    "scaler = StandardScaler()\n",
    "df.loc[:, want_list] = scaler.fit_transform(df[want_list])"
   ]
  },
  {
   "cell_type": "code",
   "execution_count": 47,
   "metadata": {
    "ExecuteTime": {
     "end_time": "2016-11-07T14:55:36.090197",
     "start_time": "2016-11-07T14:55:36.079124"
    },
    "collapsed": false
   },
   "outputs": [
    {
     "data": {
      "text/plain": [
       "(250, 351)"
      ]
     },
     "execution_count": 47,
     "metadata": {},
     "output_type": "execute_result"
    }
   ],
   "source": [
    "y = df['imdbRating']\n",
    "X = pd.concat([df[want_list], actors, direct, genre, lang, plot, title, country, sound, df_rate], axis=1)\n",
    "X.shape"
   ]
  },
  {
   "cell_type": "code",
   "execution_count": 49,
   "metadata": {
    "ExecuteTime": {
     "end_time": "2016-11-07T14:55:59.730359",
     "start_time": "2016-11-07T14:55:59.589883"
    },
    "collapsed": false
   },
   "outputs": [
    {
     "name": "stderr",
     "output_type": "stream",
     "text": [
      "//anaconda/lib/python2.7/site-packages/sklearn/cross_validation.py:44: DeprecationWarning: This module was deprecated in version 0.18 in favor of the model_selection module into which all the refactored classes and functions are moved. Also note that the interface of the new CV iterators are different from that of this module. This module will be removed in 0.20.\n",
      "  \"This module will be removed in 0.20.\", DeprecationWarning)\n",
      "//anaconda/lib/python2.7/site-packages/sklearn/grid_search.py:43: DeprecationWarning: This module was deprecated in version 0.18 in favor of the model_selection module into which all the refactored classes and functions are moved. This module will be removed in 0.20.\n",
      "  DeprecationWarning)\n"
     ]
    }
   ],
   "source": [
    "from sklearn.cross_validation import cross_val_score, KFold, cross_val_predict\n",
    "\n",
    "from sklearn.grid_search import GridSearchCV\n",
    "\n",
    "from sklearn.tree import DecisionTreeRegressor\n",
    "from sklearn.ensemble import BaggingRegressor\n",
    "from sklearn.ensemble import RandomForestRegressor\n",
    "from sklearn.ensemble import ExtraTreesRegressor\n",
    "from sklearn.ensemble import GradientBoostingRegressor\n",
    "from sklearn.ensemble import AdaBoostRegressor"
   ]
  },
  {
   "cell_type": "code",
   "execution_count": 60,
   "metadata": {
    "ExecuteTime": {
     "end_time": "2016-11-07T17:07:23.695905",
     "start_time": "2016-11-07T17:07:23.683119"
    },
    "collapsed": false
   },
   "outputs": [],
   "source": [
    "rand_state = 4\n",
    "model_list = [('DecisionTreeRegressor',DecisionTreeRegressor(random_state=rand_state)),\n",
    "    ('RandomForestRegressor', RandomForestRegressor(random_state=rand_state)),\n",
    "    ('ExtraTreesRegressor', ExtraTreesRegressor(random_state=rand_state)),\n",
    "    ('GradientBoostingRegressor', GradientBoostingRegressor(random_state=rand_state)),\n",
    "    ('AdaBoostRegressor', AdaBoostRegressor(random_state=rand_state))]"
   ]
  },
  {
   "cell_type": "code",
   "execution_count": 65,
   "metadata": {
    "ExecuteTime": {
     "end_time": "2016-11-07T17:10:33.582927",
     "start_time": "2016-11-07T17:10:33.577143"
    },
    "collapsed": false
   },
   "outputs": [],
   "source": [
    "def plain_model(clf):\n",
    "    score = cross_val_score(clf, X, y, scoring='neg_mean_squared_error', cv = 10)\n",
    "    return score\n",
    "\n",
    "model_performance = []\n",
    "\n",
    "# for i in model_list:\n",
    "#     result = plain_model(i[1])\n",
    "#     model_performance.append([i[0], abs(result.mean()), result.std()])"
   ]
  },
  {
   "cell_type": "code",
   "execution_count": 66,
   "metadata": {
    "ExecuteTime": {
     "end_time": "2016-11-07T17:10:36.269828",
     "start_time": "2016-11-07T17:10:34.312910"
    },
    "collapsed": false
   },
   "outputs": [
    {
     "data": {
      "text/plain": [
       "array([-0.25023485, -0.05701261, -0.01958868, -0.0222512 , -0.00566137,\n",
       "       -0.01369055, -0.02123456, -0.03289753, -0.04254678, -0.04877537])"
      ]
     },
     "execution_count": 66,
     "metadata": {},
     "output_type": "execute_result"
    }
   ],
   "source": [
    "plain_model(model_list[4][1])"
   ]
  },
  {
   "cell_type": "code",
   "execution_count": null,
   "metadata": {
    "collapsed": true
   },
   "outputs": [],
   "source": [
    "cross_val_score"
   ]
  }
 ],
 "metadata": {
  "kernelspec": {
   "display_name": "Python 2",
   "language": "python",
   "name": "python2"
  },
  "language_info": {
   "codemirror_mode": {
    "name": "ipython",
    "version": 2
   },
   "file_extension": ".py",
   "mimetype": "text/x-python",
   "name": "python",
   "nbconvert_exporter": "python",
   "pygments_lexer": "ipython2",
   "version": "2.7.12"
  },
  "toc": {
   "nav_menu": {
    "height": "12px",
    "width": "252px"
   },
   "navigate_menu": true,
   "number_sections": true,
   "sideBar": true,
   "threshold": 4,
   "toc_cell": false,
   "toc_section_display": "block",
   "toc_window_display": false
  }
 },
 "nbformat": 4,
 "nbformat_minor": 0
}
