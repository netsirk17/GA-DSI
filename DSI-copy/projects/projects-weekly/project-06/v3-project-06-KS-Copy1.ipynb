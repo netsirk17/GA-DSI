{
 "cells": [
  {
   "cell_type": "code",
   "execution_count": 2,
   "metadata": {
    "ExecuteTime": {
     "end_time": "2016-11-01T22:38:56.027937",
     "start_time": "2016-11-01T22:38:56.014004"
    },
    "collapsed": false
   },
   "outputs": [],
   "source": [
    "import bs4\n",
    "from bs4 import BeautifulSoup\n",
    "import requests\n",
    "import re\n",
    "import json\n",
    "import pandas as pd\n",
    "import numpy as np\n",
    "\n",
    "from sklearn.feature_extraction.text import CountVectorizer\n",
    "import matplotlib.pyplot as plt\n",
    "%matplotlib inline\n",
    "plt.style.use('fivethirtyeight')\n",
    "import seaborn as sns\n",
    "\n",
    "from sklearn.linear_model import LinearRegression\n",
    "from sklearn.metrics import r2_score, classification_report, confusion_matrix, accuracy_score\n",
    "from sklearn.tree import DecisionTreeRegressor, DecisionTreeClassifier\n",
    "from sklearn.model_selection import cross_val_score, KFold, StratifiedKFold, train_test_split\n",
    "from sklearn.grid_search import GridSearchCV\n",
    "from sklearn.ensemble import RandomForestRegressor, AdaBoostRegressor, GradientBoostingRegressor,\\\n",
    "AdaBoostClassifier, GradientBoostingClassifier, BaggingClassifier, \\\n",
    "RandomForestClassifier, BaggingRegressor\n",
    "from sklearn.neighbors import KNeighborsRegressor"
   ]
  },
  {
   "cell_type": "markdown",
   "metadata": {},
   "source": [
    "## Webscraping"
   ]
  },
  {
   "cell_type": "markdown",
   "metadata": {
    "heading_collapsed": true
   },
   "source": [
    "### IMDB: Get film ids"
   ]
  },
  {
   "cell_type": "code",
   "execution_count": 11,
   "metadata": {
    "ExecuteTime": {
     "end_time": "2016-11-01T23:05:54.114107",
     "start_time": "2016-11-01T23:05:53.259910"
    },
    "code_folding": [],
    "collapsed": true,
    "hidden": true
   },
   "outputs": [],
   "source": [
    "# Function that will make an api call to omdbapi.com and return film id\n",
    "\n",
    "def get_id_250():\n",
    "    response = requests.get('http://www.imdb.com/chart/top')\n",
    "    html = response.text\n",
    "    entries = re.findall(\"<a href.*?/title/(.*?)/\", html)\n",
    "    return list(set(entries))\n",
    "\n",
    "entries = get_id_250()"
   ]
  },
  {
   "cell_type": "code",
   "execution_count": 12,
   "metadata": {
    "ExecuteTime": {
     "end_time": "2016-11-01T23:05:54.755618",
     "start_time": "2016-11-01T23:05:54.749194"
    },
    "collapsed": false,
    "hidden": true
   },
   "outputs": [
    {
     "data": {
      "text/plain": [
       "250"
      ]
     },
     "execution_count": 12,
     "metadata": {},
     "output_type": "execute_result"
    }
   ],
   "source": [
    "len(entries)"
   ]
  },
  {
   "cell_type": "markdown",
   "metadata": {
    "heading_collapsed": true
   },
   "source": [
    "### Fill in film data from omdapi.com"
   ]
  },
  {
   "cell_type": "code",
   "execution_count": null,
   "metadata": {
    "ExecuteTime": {
     "end_time": "2016-11-01T22:44:27.789394",
     "start_time": "2016-11-01T22:40:32.614077"
    },
    "collapsed": true,
    "hidden": true
   },
   "outputs": [],
   "source": [
    "# Function that will make an api call to omdbapi.com and return film data by film id\n",
    "\"\"\"  \n",
    "     Decided to include full plot summary in case I choose to use NLTK for predicting in future\n",
    "     Decided to include Rotten Tomatoes ratings and metrics as it may also be a useful feature in models \n",
    "\"\"\"\n",
    "\n",
    "# From JSON/APIs lab\n",
    "def get_entry(entry):\n",
    "    res = requests.get('http://www.omdbapi.com/?i='+entry+'&plot=full&r=json&tomatoes=true')\n",
    "    if res.status_code != 200:\n",
    "        print entry, res.status_code\n",
    "    else:\n",
    "        print '.',\n",
    "    try:\n",
    "        j = json.loads(res.text)\n",
    "    except ValueError:\n",
    "        j = None\n",
    "    return j\n",
    "\n",
    "entries_dict_list = [get_entry(e) for e in entries]"
   ]
  },
  {
   "cell_type": "code",
   "execution_count": 7,
   "metadata": {
    "ExecuteTime": {
     "end_time": "2016-11-01T22:47:51.555521",
     "start_time": "2016-11-01T22:47:51.551041"
    },
    "collapsed": false,
    "hidden": true
   },
   "outputs": [
    {
     "data": {
      "text/plain": [
       "250"
      ]
     },
     "execution_count": 7,
     "metadata": {},
     "output_type": "execute_result"
    }
   ],
   "source": [
    "len(entries_dict_list)"
   ]
  },
  {
   "cell_type": "raw",
   "metadata": {
    "ExecuteTime": {
     "end_time": "2016-11-02T12:29:26.023372",
     "start_time": "2016-11-02T12:29:25.996934"
    },
    "code_folding": [
     1
    ],
    "hidden": true
   },
   "source": [
    "key_list = []\n",
    "for key, values in entries_dict_list[0].items():\n",
    "    key_list.append(key)\n",
    "    \n",
    "key_list"
   ]
  },
  {
   "cell_type": "code",
   "execution_count": 57,
   "metadata": {
    "ExecuteTime": {
     "end_time": "2016-11-02T16:53:07.520733",
     "start_time": "2016-11-02T16:53:07.466806"
    },
    "collapsed": false,
    "hidden": true
   },
   "outputs": [
    {
     "data": {
      "text/html": [
       "<div>\n",
       "<table border=\"1\" class=\"dataframe\">\n",
       "  <thead>\n",
       "    <tr style=\"text-align: right;\">\n",
       "      <th></th>\n",
       "      <th>Actors</th>\n",
       "      <th>Awards</th>\n",
       "      <th>BoxOffice</th>\n",
       "      <th>Country</th>\n",
       "      <th>DVD</th>\n",
       "      <th>Director</th>\n",
       "      <th>Genre</th>\n",
       "      <th>Language</th>\n",
       "      <th>Metascore</th>\n",
       "      <th>Plot</th>\n",
       "      <th>...</th>\n",
       "      <th>tomatoFresh</th>\n",
       "      <th>tomatoImage</th>\n",
       "      <th>tomatoMeter</th>\n",
       "      <th>tomatoRating</th>\n",
       "      <th>tomatoReviews</th>\n",
       "      <th>tomatoRotten</th>\n",
       "      <th>tomatoURL</th>\n",
       "      <th>tomatoUserMeter</th>\n",
       "      <th>tomatoUserRating</th>\n",
       "      <th>tomatoUserReviews</th>\n",
       "    </tr>\n",
       "  </thead>\n",
       "  <tbody>\n",
       "    <tr>\n",
       "      <th>0</th>\n",
       "      <td>Miles Teller, J.K. Simmons, Paul Reiser, Melis...</td>\n",
       "      <td>Won 3 Oscars. Another 87 wins &amp; 131 nominations.</td>\n",
       "      <td>N/A</td>\n",
       "      <td>USA</td>\n",
       "      <td>24 Feb 2015</td>\n",
       "      <td>Damien Chazelle</td>\n",
       "      <td>Drama, Music</td>\n",
       "      <td>English</td>\n",
       "      <td>88</td>\n",
       "      <td>A promising young drummer enrolls at a cut-thr...</td>\n",
       "      <td>...</td>\n",
       "      <td>246</td>\n",
       "      <td>certified</td>\n",
       "      <td>94</td>\n",
       "      <td>8.6</td>\n",
       "      <td>261</td>\n",
       "      <td>15</td>\n",
       "      <td>http://www.rottentomatoes.com/m/whiplash_2014/</td>\n",
       "      <td>94</td>\n",
       "      <td>4.5</td>\n",
       "      <td>66092</td>\n",
       "    </tr>\n",
       "  </tbody>\n",
       "</table>\n",
       "<p>1 rows × 35 columns</p>\n",
       "</div>"
      ],
      "text/plain": [
       "                                              Actors  \\\n",
       "0  Miles Teller, J.K. Simmons, Paul Reiser, Melis...   \n",
       "\n",
       "                                             Awards BoxOffice Country  \\\n",
       "0  Won 3 Oscars. Another 87 wins & 131 nominations.       N/A     USA   \n",
       "\n",
       "           DVD         Director         Genre Language Metascore  \\\n",
       "0  24 Feb 2015  Damien Chazelle  Drama, Music  English        88   \n",
       "\n",
       "                                                Plot        ...         \\\n",
       "0  A promising young drummer enrolls at a cut-thr...        ...          \n",
       "\n",
       "  tomatoFresh tomatoImage tomatoMeter tomatoRating tomatoReviews tomatoRotten  \\\n",
       "0         246   certified          94          8.6           261           15   \n",
       "\n",
       "                                        tomatoURL tomatoUserMeter  \\\n",
       "0  http://www.rottentomatoes.com/m/whiplash_2014/              94   \n",
       "\n",
       "  tomatoUserRating tomatoUserReviews  \n",
       "0              4.5             66092  \n",
       "\n",
       "[1 rows x 35 columns]"
      ]
     },
     "execution_count": 57,
     "metadata": {},
     "output_type": "execute_result"
    }
   ],
   "source": [
    "df = pd.DataFrame(entries_dict_list)\n",
    "df.head(1)"
   ]
  },
  {
   "cell_type": "code",
   "execution_count": 59,
   "metadata": {
    "ExecuteTime": {
     "end_time": "2016-11-02T16:53:48.521852",
     "start_time": "2016-11-02T16:53:48.515701"
    },
    "collapsed": false,
    "hidden": true
   },
   "outputs": [
    {
     "name": "stdout",
     "output_type": "stream",
     "text": [
      "(250, 35)\n",
      "Index([u'Actors', u'Awards', u'BoxOffice', u'Country', u'DVD', u'Director',\n",
      "       u'Genre', u'Language', u'Metascore', u'Plot', u'Poster', u'Production',\n",
      "       u'Rated', u'Released', u'Response', u'Runtime', u'Title', u'Type',\n",
      "       u'Website', u'Writer', u'Year', u'imdbID', u'imdbRating', u'imdbVotes',\n",
      "       u'tomatoConsensus', u'tomatoFresh', u'tomatoImage', u'tomatoMeter',\n",
      "       u'tomatoRating', u'tomatoReviews', u'tomatoRotten', u'tomatoURL',\n",
      "       u'tomatoUserMeter', u'tomatoUserRating', u'tomatoUserReviews'],\n",
      "      dtype='object')\n"
     ]
    }
   ],
   "source": [
    "print df.shape\n",
    "print df.columns"
   ]
  },
  {
   "cell_type": "markdown",
   "metadata": {},
   "source": [
    "### IMDB: Get gross, opening weekend and budget"
   ]
  },
  {
   "cell_type": "code",
   "execution_count": 21,
   "metadata": {
    "ExecuteTime": {
     "end_time": "2016-11-02T12:30:17.720707",
     "start_time": "2016-11-02T12:30:17.694369"
    },
    "collapsed": true
   },
   "outputs": [],
   "source": [
    "def get_gross(entry):\n",
    "    response = requests.get('http://www.imdb.com/title/' + entry)\n",
    "    html = response.text\n",
    "    try:\n",
    "        gross_list = re.findall(\"Gross:</h4>[ ]*\\$([^ ]*)\", html)\n",
    "        gross = int(gross_list[0].replace(',', ''))\n",
    "        print '.',\n",
    "        return gross\n",
    "    except Exception as ex:\n",
    "        print\n",
    "        print ex, entry, response.status_code\n",
    "        return None"
   ]
  },
  {
   "cell_type": "code",
   "execution_count": 22,
   "metadata": {
    "ExecuteTime": {
     "end_time": "2016-11-02T12:34:03.130453",
     "start_time": "2016-11-02T12:30:20.155563"
    },
    "collapsed": false
   },
   "outputs": [
    {
     "name": "stdout",
     "output_type": "stream",
     "text": [
      ". . . . . . .\n",
      "list index out of range tt0046268 200\n",
      "\n",
      "list index out of range tt0055630 200\n",
      ". . . . .\n",
      "list index out of range tt0057115 200\n",
      ".\n",
      "list index out of range tt0071315 200\n",
      ". . . .\n",
      "list index out of range tt0074896 200\n",
      ". .\n",
      "list index out of range tt0021749 200\n",
      ". .\n",
      "list index out of range tt0053125 200\n",
      ". . .\n",
      "list index out of range tt1220719 200\n",
      "\n",
      "list index out of range tt0025316 200\n",
      ". .\n",
      "list index out of range tt0083922 200\n",
      ". . .\n",
      "list index out of range tt0072684 200\n",
      ".\n",
      "list index out of range tt0074958 200\n",
      ". . . .\n",
      "list index out of range tt0036775 200\n",
      ". . . . . .\n",
      "list index out of range tt0978762 200\n",
      ". .\n",
      "list index out of range tt0080678 200\n",
      ". .\n",
      "list index out of range tt0056592 200\n",
      ".\n",
      "list index out of range tt0095327 200\n",
      ". . . . . . . . .\n",
      "list index out of range tt0046438 200\n",
      ".\n",
      "list index out of range tt0015864 200\n",
      ".\n",
      "list index out of range tt0045152 200\n",
      ". . . .\n",
      "list index out of range tt0046911 200\n",
      ".\n",
      "list index out of range tt0050986 200\n",
      ".\n",
      "list index out of range tt0091251 200\n",
      ". . . . . . . . . .\n",
      "list index out of range tt0032553 200\n",
      "\n",
      "list index out of range tt0032551 200\n",
      ". . . . . .\n",
      "list index out of range tt0060827 200\n",
      ". . .\n",
      "list index out of range tt0031679 200\n",
      ". . . . . .\n",
      "list index out of range tt0053198 200\n",
      ". . .\n",
      "list index out of range tt0050825 200\n",
      "\n",
      "list index out of range tt0042876 200\n",
      "\n",
      "list index out of range tt0083987 200\n",
      ". . .\n",
      "list index out of range tt0044079 200\n",
      "\n",
      "list index out of range tt0041546 200\n",
      ". . . . . .\n",
      "list index out of range tt0092067 200\n",
      ". . . .\n",
      "list index out of range tt1954470 200\n",
      ". . . . . . . .\n",
      "list index out of range tt0057012 200\n",
      "\n",
      "list index out of range tt0096283 200\n",
      ".\n",
      "list index out of range tt0064116 200\n",
      ". . . . .\n",
      "list index out of range tt0081505 200\n",
      "\n",
      "list index out of range tt0038650 200\n",
      ".\n",
      "list index out of range tt0034583 200\n",
      ". . . . .\n",
      "list index out of range tt0046250 200\n",
      ". .\n",
      "list index out of range tt0033870 200\n",
      ". . .\n",
      "list index out of range tt0040897 200\n",
      ". .\n",
      "list index out of range tt0019254 200\n",
      "\n",
      "list index out of range tt0066921 200\n",
      "\n",
      "list index out of range tt0061512 200\n",
      "\n",
      "list index out of range tt0033467 200\n",
      ".\n",
      "list index out of range tt0169102 200\n",
      "\n",
      "list index out of range tt0017925 200\n",
      ". . . .\n",
      "list index out of range tt0055031 200\n",
      ".\n",
      "list index out of range tt0087544 200\n",
      ". . .\n",
      "list index out of range tt0050083 200\n",
      ". .\n",
      "list index out of range tt0018455 200\n",
      ". . . .\n",
      "list index out of range tt0077416 200\n",
      ". . . . . .\n",
      "list index out of range tt0087884 200\n",
      ". . .\n",
      "list index out of range tt0050976 200\n",
      ". . . . . . . . .\n",
      "list index out of range tt0043014 200\n",
      "\n",
      "list index out of range tt0079944 200\n",
      ".\n",
      "list index out of range tt0053604 200\n",
      ". . . . .\n",
      "list index out of range tt0051201 200\n",
      ".\n",
      "list index out of range tt0032976 200\n",
      ".\n",
      "list index out of range tt0059578 200\n",
      "\n",
      "list index out of range tt0072890 200\n",
      ". . . . . . .\n",
      "list index out of range tt1028532 200\n",
      ". . . . . .\n",
      "list index out of range tt0075314 200\n"
     ]
    }
   ],
   "source": [
    "grosses = [(e, get_gross(e)) for e in entries]"
   ]
  },
  {
   "cell_type": "code",
   "execution_count": 23,
   "metadata": {
    "ExecuteTime": {
     "end_time": "2016-11-02T16:13:55.699148",
     "start_time": "2016-11-02T16:13:55.632383"
    },
    "collapsed": false
   },
   "outputs": [
    {
     "data": {
      "text/html": [
       "<div>\n",
       "<table border=\"1\" class=\"dataframe\">\n",
       "  <thead>\n",
       "    <tr style=\"text-align: right;\">\n",
       "      <th></th>\n",
       "      <th>imdbID</th>\n",
       "      <th>Gross</th>\n",
       "    </tr>\n",
       "  </thead>\n",
       "  <tbody>\n",
       "    <tr>\n",
       "      <th>0</th>\n",
       "      <td>tt2582802</td>\n",
       "      <td>13092000.0</td>\n",
       "    </tr>\n",
       "    <tr>\n",
       "      <th>1</th>\n",
       "      <td>tt0047478</td>\n",
       "      <td>269061.0</td>\n",
       "    </tr>\n",
       "    <tr>\n",
       "      <th>2</th>\n",
       "      <td>tt0082971</td>\n",
       "      <td>242374454.0</td>\n",
       "    </tr>\n",
       "    <tr>\n",
       "      <th>3</th>\n",
       "      <td>tt0050212</td>\n",
       "      <td>27200000.0</td>\n",
       "    </tr>\n",
       "    <tr>\n",
       "      <th>4</th>\n",
       "      <td>tt0848228</td>\n",
       "      <td>623279547.0</td>\n",
       "    </tr>\n",
       "  </tbody>\n",
       "</table>\n",
       "</div>"
      ],
      "text/plain": [
       "      imdbID        Gross\n",
       "0  tt2582802   13092000.0\n",
       "1  tt0047478     269061.0\n",
       "2  tt0082971  242374454.0\n",
       "3  tt0050212   27200000.0\n",
       "4  tt0848228  623279547.0"
      ]
     },
     "execution_count": 23,
     "metadata": {},
     "output_type": "execute_result"
    }
   ],
   "source": [
    "df1 = pd.DataFrame(grosses, columns=['imdbID', 'Gross'])\n",
    "df1.head()"
   ]
  },
  {
   "cell_type": "code",
   "execution_count": 26,
   "metadata": {
    "ExecuteTime": {
     "end_time": "2016-11-02T16:19:14.623036",
     "start_time": "2016-11-02T16:19:14.615880"
    },
    "collapsed": false
   },
   "outputs": [],
   "source": [
    "def get_opening(entry):\n",
    "    response = requests.get('http://www.imdb.com/title/' + entry)\n",
    "    html = response.text\n",
    "    try:\n",
    "        opening_list = re.findall(\"Opening Weekend:</h4>[ ]*\\$([^ ]*)\", html)\n",
    "        opening = int(opening_list[0].replace(',', ''))\n",
    "        print '.',\n",
    "        return opening\n",
    "    except Exception as ex:\n",
    "        print\n",
    "        print ex, entry, response.status_code\n",
    "        return None"
   ]
  },
  {
   "cell_type": "code",
   "execution_count": 28,
   "metadata": {
    "ExecuteTime": {
     "end_time": "2016-11-02T16:22:29.128321",
     "start_time": "2016-11-02T16:20:02.870322"
    },
    "collapsed": false
   },
   "outputs": [
    {
     "name": "stdout",
     "output_type": "stream",
     "text": [
      " . . .\n",
      "list index out of range tt0050212 200\n",
      ". . .\n",
      "list index out of range tt0046268 200\n",
      "\n",
      "list index out of range tt0055630 200\n",
      ". . . . .\n",
      "list index out of range tt0057115 200\n",
      ".\n",
      "list index out of range tt0071315 200\n",
      "\n",
      "list index out of range tt0114746 200\n",
      ". . .\n",
      "list index out of range tt0074896 200\n",
      ". .\n",
      "list index out of range tt0021749 200\n",
      ".\n",
      "list index out of range tt1187043 200\n",
      "\n",
      "list index out of range tt0053125 200\n",
      ".\n",
      "list index out of range tt0112471 200\n",
      ".\n",
      "list index out of range tt1220719 200\n",
      "\n",
      "list index out of range tt0025316 200\n",
      ". .\n",
      "list index out of range tt0083922 200\n",
      "\n",
      "list index out of range tt0088247 200\n",
      ".\n",
      "list index out of range tt0087843 200\n",
      "\n",
      "list index out of range tt0072684 200\n",
      ".\n",
      "list index out of range tt0074958 200\n",
      ".\n",
      "list index out of range tt0052618 200\n",
      ". .\n",
      "list index out of range tt0036775 200\n",
      ".\n",
      "list index out of range tt0110357 200\n",
      ". . .\n",
      "list index out of range tt0075148 200\n",
      "\n",
      "list index out of range tt0978762 200\n",
      ".\n",
      "list index out of range tt0036868 200\n",
      "\n",
      "list index out of range tt0080678 200\n",
      "\n",
      "list index out of range tt0093779 200\n",
      "\n",
      "list index out of range tt0108052 200\n",
      "\n",
      "list index out of range tt0056592 200\n",
      "\n",
      "list index out of range tt0088763 200\n",
      "\n",
      "list index out of range tt0095327 200\n",
      ".\n",
      "list index out of range tt0053291 200\n",
      ".\n",
      "list index out of range tt0407887 200\n",
      ". . . .\n",
      "list index out of range tt0114814 200\n",
      "\n",
      "list index out of range tt0046438 200\n",
      "\n",
      "list index out of range tt0107048 200\n",
      "\n",
      "list index out of range tt0015864 200\n",
      "\n",
      "list index out of range tt0107207 200\n",
      "\n",
      "list index out of range tt0045152 200\n",
      ".\n",
      "list index out of range tt0167261 200\n",
      "\n",
      "list index out of range tt0167260 200\n",
      "\n",
      "list index out of range tt0095016 200\n",
      "\n",
      "list index out of range tt0046911 200\n",
      ".\n",
      "list index out of range tt0050986 200\n",
      ".\n",
      "list index out of range tt0091251 200\n",
      ".\n",
      "list index out of range tt0078748 200\n",
      ".\n",
      "list index out of range tt0012349 200\n",
      "\n",
      "list index out of range tt0372784 200\n",
      "\n",
      "list index out of range tt0101414 200\n",
      "\n",
      "list index out of range tt0113247 200\n",
      "\n",
      "list index out of range tt0107290 200\n",
      ".\n",
      "list index out of range tt0070735 200\n",
      "\n",
      "list index out of range tt0032553 200\n",
      "\n",
      "list index out of range tt0032551 200\n",
      ".\n",
      "list index out of range tt0361748 200\n",
      ". . . .\n",
      "list index out of range tt0060827 200\n",
      "\n",
      "list index out of range tt0266697 200\n",
      ". .\n",
      "list index out of range tt0031679 200\n",
      "\n",
      "list index out of range tt0080684 200\n",
      ". . . .\n",
      "list index out of range tt0102926 200\n",
      "\n",
      "list index out of range tt0053198 200\n",
      ". . .\n",
      "list index out of range tt0050825 200\n",
      "\n",
      "list index out of range tt0042876 200\n",
      "\n",
      "list index out of range tt0083987 200\n",
      ". . .\n",
      "list index out of range tt0044079 200\n",
      "\n",
      "list index out of range tt0041546 200\n",
      ".\n",
      "list index out of range tt0114369 200\n",
      ".\n",
      "list index out of range tt0091763 200\n",
      ". . .\n",
      "list index out of range tt0090605 200\n",
      "\n",
      "list index out of range tt0120737 200\n",
      "\n",
      "list index out of range tt0120735 200\n",
      ".\n",
      "list index out of range tt1954470 200\n",
      ". .\n",
      "list index out of range tt0110413 200\n",
      "\n",
      "list index out of range tt0058461 200\n",
      ". . . .\n",
      "list index out of range tt0057012 200\n",
      "\n",
      "list index out of range tt0096283 200\n",
      ".\n",
      "list index out of range tt0064116 200\n",
      "\n",
      "list index out of range tt0114709 200\n",
      ". . .\n",
      "list index out of range tt0105236 200\n",
      "\n",
      "list index out of range tt0081505 200\n",
      "\n",
      "list index out of range tt0038650 200\n",
      ".\n",
      "list index out of range tt0034583 200\n",
      ". . .\n",
      "list index out of range tt0054215 200\n",
      ".\n",
      "list index out of range tt0046250 200\n",
      ". .\n",
      "list index out of range tt0033870 200\n",
      "\n",
      "list index out of range tt0112573 200\n",
      ".\n",
      "list index out of range tt0097576 200\n",
      "\n",
      "list index out of range tt0040897 200\n",
      "\n",
      "list index out of range tt0062622 200\n",
      ".\n",
      "list index out of range tt0019254 200\n",
      "\n",
      "list index out of range tt0066921 200\n",
      "\n",
      "list index out of range tt0061512 200\n",
      "\n",
      "list index out of range tt0033467 200\n",
      ".\n",
      "list index out of range tt0169102 200\n",
      "\n",
      "list index out of range tt0017925 200\n",
      ". . .\n",
      "list index out of range tt0064115 200\n",
      "\n",
      "list index out of range tt0055031 200\n",
      ".\n",
      "list index out of range tt0087544 200\n",
      "\n",
      "list index out of range tt0113277 200\n",
      "\n",
      "list index out of range tt0105695 200\n",
      ".\n",
      "list index out of range tt0050083 200\n",
      ".\n",
      "list index out of range tt0110912 200\n",
      "\n",
      "list index out of range tt0018455 200\n",
      ". .\n",
      "list index out of range tt0434409 200\n",
      "\n",
      "list index out of range tt0117951 200\n",
      "\n",
      "list index out of range tt0077416 200\n",
      ". . . . .\n",
      "list index out of range tt0099685 200\n",
      "\n",
      "list index out of range tt0087884 200\n",
      ".\n",
      "list index out of range tt0060196 200\n",
      "\n",
      "list index out of range tt0112641 200\n",
      "\n",
      "list index out of range tt0050976 200\n",
      "\n",
      "list index out of range tt0092005 200\n",
      ".\n",
      "list index out of range tt0111161 200\n",
      ".\n",
      "list index out of range tt0071562 200\n",
      ". . . .\n",
      "list index out of range tt0043014 200\n",
      "\n",
      "list index out of range tt0079944 200\n",
      "\n",
      "list index out of range tt0093058 200\n",
      "\n",
      "list index out of range tt0053604 200\n",
      "\n",
      "list index out of range tt0109830 200\n",
      ".\n",
      "list index out of range tt0073195 200\n",
      ". .\n",
      "list index out of range tt0051201 200\n",
      "\n",
      "list index out of range tt0075686 200\n",
      "\n",
      "list index out of range tt0032976 200\n",
      "\n",
      "list index out of range tt1375666 200\n",
      "\n",
      "list index out of range tt0059578 200\n",
      "\n",
      "list index out of range tt0072890 200\n",
      ".\n",
      "list index out of range tt0103064 200\n",
      ". . . .\n",
      "list index out of range tt0047296 200\n",
      "\n",
      "list index out of range tt1028532 200\n",
      ". .\n",
      "list index out of range tt0073486 200\n",
      "\n",
      "list index out of range tt0209144 200\n",
      "\n",
      "list index out of range tt0208092 200\n",
      ".\n",
      "list index out of range tt0075314 200\n"
     ]
    }
   ],
   "source": [
    "opening = [(e, get_opening(e)) for e in entries]"
   ]
  },
  {
   "cell_type": "code",
   "execution_count": 29,
   "metadata": {
    "ExecuteTime": {
     "end_time": "2016-11-02T16:23:15.121091",
     "start_time": "2016-11-02T16:23:15.082521"
    },
    "collapsed": false
   },
   "outputs": [
    {
     "data": {
      "text/html": [
       "<div>\n",
       "<table border=\"1\" class=\"dataframe\">\n",
       "  <thead>\n",
       "    <tr style=\"text-align: right;\">\n",
       "      <th></th>\n",
       "      <th>imdbID</th>\n",
       "      <th>Opening</th>\n",
       "    </tr>\n",
       "  </thead>\n",
       "  <tbody>\n",
       "    <tr>\n",
       "      <th>0</th>\n",
       "      <td>tt2582802</td>\n",
       "      <td>135388.0</td>\n",
       "    </tr>\n",
       "    <tr>\n",
       "      <th>1</th>\n",
       "      <td>tt0047478</td>\n",
       "      <td>21830.0</td>\n",
       "    </tr>\n",
       "    <tr>\n",
       "      <th>2</th>\n",
       "      <td>tt0082971</td>\n",
       "      <td>1673731.0</td>\n",
       "    </tr>\n",
       "    <tr>\n",
       "      <th>3</th>\n",
       "      <td>tt0050212</td>\n",
       "      <td>NaN</td>\n",
       "    </tr>\n",
       "    <tr>\n",
       "      <th>4</th>\n",
       "      <td>tt0848228</td>\n",
       "      <td>207438708.0</td>\n",
       "    </tr>\n",
       "  </tbody>\n",
       "</table>\n",
       "</div>"
      ],
      "text/plain": [
       "      imdbID      Opening\n",
       "0  tt2582802     135388.0\n",
       "1  tt0047478      21830.0\n",
       "2  tt0082971    1673731.0\n",
       "3  tt0050212          NaN\n",
       "4  tt0848228  207438708.0"
      ]
     },
     "execution_count": 29,
     "metadata": {},
     "output_type": "execute_result"
    }
   ],
   "source": [
    "df2 = pd.DataFrame(opening, columns=['imdbID', 'Opening'])\n",
    "df2.head()"
   ]
  },
  {
   "cell_type": "code",
   "execution_count": 34,
   "metadata": {
    "ExecuteTime": {
     "end_time": "2016-11-02T16:43:18.259881",
     "start_time": "2016-11-02T16:43:18.241767"
    },
    "collapsed": true
   },
   "outputs": [],
   "source": [
    "def get_budget(entry):\n",
    "    response = requests.get('http://www.imdb.com/title/' + entry)\n",
    "    html = response.text\n",
    "    try:\n",
    "        budget_list = re.findall(\"Budget:</h4>[ ]*\\$([^ ]*)\", html)\n",
    "        budget = int(budget_list[0].replace(',', ''))\n",
    "        print '.',\n",
    "        return budget\n",
    "    except Exception as ex:\n",
    "        print\n",
    "        print ex, entry, response.status_code\n",
    "        return None"
   ]
  },
  {
   "cell_type": "code",
   "execution_count": 35,
   "metadata": {
    "ExecuteTime": {
     "end_time": "2016-11-02T16:45:48.137436",
     "start_time": "2016-11-02T16:43:20.217735"
    },
    "collapsed": false
   },
   "outputs": [
    {
     "name": "stdout",
     "output_type": "stream",
     "text": [
      ". . . . . . .\n",
      "list index out of range tt0046268 200\n",
      "\n",
      "list index out of range tt0055630 200\n",
      ". . . . . . . . .\n",
      "list index out of range tt0363163 200\n",
      ".\n",
      "list index out of range tt1865505 200\n",
      ". . . . .\n",
      "list index out of range tt1187043 200\n",
      ". . . . . . . . . . . . . . . . . . . . . . .\n",
      "list index out of range tt0071853 200\n",
      ". .\n",
      "list index out of range tt0978762 200\n",
      ". . . . . . . . . . . .\n",
      "list index out of range tt0044741 200\n",
      ". . . .\n",
      "list index out of range tt0046438 200\n",
      ". . . . . . . .\n",
      "list index out of range tt0046911 200\n",
      ".\n",
      "list index out of range tt0050986 200\n",
      ".\n",
      "list index out of range tt0091251 200\n",
      ". . . . . .\n",
      "list index out of range tt0113247 200\n",
      ". . . . . . . . . . .\n",
      "list index out of range tt0060827 200\n",
      ". .\n",
      "list index out of range tt0211915 200\n",
      ". . . . . . .\n",
      "list index out of range tt0053198 200\n",
      ". . . . . . . . . .\n",
      "list index out of range tt0041546 200\n",
      ". . . . . .\n",
      "list index out of range tt0092067 200\n",
      ". .\n",
      "list index out of range tt0120735 200\n",
      ".\n",
      "list index out of range tt1954470 200\n",
      ". .\n",
      "list index out of range tt0110413 200\n",
      ".\n",
      "list index out of range tt0119698 200\n",
      ". . . . . . . . .\n",
      "list index out of range tt0022100 200\n",
      ". . . .\n",
      "list index out of range tt0041959 200\n",
      ". . . . . . . . . . . . . . . .\n",
      "list index out of range tt0019254 200\n",
      ". . .\n",
      "list index out of range tt0050783 200\n",
      ". . . . . . . . . . . . . . .\n",
      "list index out of range tt0018455 200\n",
      "\n",
      "list index out of range tt1675434 200\n",
      ". . . . . . . . . .\n",
      "list index out of range tt0087884 200\n",
      "\n",
      "list index out of range tt0457430 200\n",
      ". . . .\n",
      "list index out of range tt0017136 200\n",
      ". . . . . . . .\n",
      "list index out of range tt0079944 200\n",
      ". . . . . . . . . . . . . . .\n",
      "list index out of range tt0056801 200\n",
      ". . . . . . . . .\n",
      "list index out of range tt0208092 200\n",
      ". .\n"
     ]
    }
   ],
   "source": [
    "budgets = [(e, get_budget(e)) for e in entries]"
   ]
  },
  {
   "cell_type": "code",
   "execution_count": 36,
   "metadata": {
    "ExecuteTime": {
     "end_time": "2016-11-02T16:45:48.166283",
     "start_time": "2016-11-02T16:45:48.140768"
    },
    "collapsed": false
   },
   "outputs": [
    {
     "data": {
      "text/html": [
       "<div>\n",
       "<table border=\"1\" class=\"dataframe\">\n",
       "  <thead>\n",
       "    <tr style=\"text-align: right;\">\n",
       "      <th></th>\n",
       "      <th>imdbID</th>\n",
       "      <th>Budget</th>\n",
       "    </tr>\n",
       "  </thead>\n",
       "  <tbody>\n",
       "    <tr>\n",
       "      <th>0</th>\n",
       "      <td>tt2582802</td>\n",
       "      <td>135388.0</td>\n",
       "    </tr>\n",
       "    <tr>\n",
       "      <th>1</th>\n",
       "      <td>tt0047478</td>\n",
       "      <td>21830.0</td>\n",
       "    </tr>\n",
       "    <tr>\n",
       "      <th>2</th>\n",
       "      <td>tt0082971</td>\n",
       "      <td>1673731.0</td>\n",
       "    </tr>\n",
       "    <tr>\n",
       "      <th>3</th>\n",
       "      <td>tt0050212</td>\n",
       "      <td>NaN</td>\n",
       "    </tr>\n",
       "    <tr>\n",
       "      <th>4</th>\n",
       "      <td>tt0848228</td>\n",
       "      <td>207438708.0</td>\n",
       "    </tr>\n",
       "  </tbody>\n",
       "</table>\n",
       "</div>"
      ],
      "text/plain": [
       "      imdbID       Budget\n",
       "0  tt2582802     135388.0\n",
       "1  tt0047478      21830.0\n",
       "2  tt0082971    1673731.0\n",
       "3  tt0050212          NaN\n",
       "4  tt0848228  207438708.0"
      ]
     },
     "execution_count": 36,
     "metadata": {},
     "output_type": "execute_result"
    }
   ],
   "source": [
    "df3 = pd.DataFrame(opening, columns=['imdbID', 'Budget'])\n",
    "df3.head()"
   ]
  },
  {
   "cell_type": "code",
   "execution_count": 38,
   "metadata": {
    "ExecuteTime": {
     "end_time": "2016-11-02T16:46:08.673629",
     "start_time": "2016-11-02T16:46:08.667456"
    },
    "collapsed": false
   },
   "outputs": [
    {
     "name": "stdout",
     "output_type": "stream",
     "text": [
      "Index([u'imdbID', u'Gross'], dtype='object')\n",
      "Index([u'imdbID', u'Opening'], dtype='object')\n",
      "Index([u'imdbID', u'Budget'], dtype='object')\n"
     ]
    }
   ],
   "source": [
    "print df1.columns\n",
    "print df2.columns\n",
    "print df3.columns"
   ]
  },
  {
   "cell_type": "code",
   "execution_count": 40,
   "metadata": {
    "ExecuteTime": {
     "end_time": "2016-11-02T16:46:46.919806",
     "start_time": "2016-11-02T16:46:46.903052"
    },
    "collapsed": true
   },
   "outputs": [],
   "source": [
    "df_gross = df1.copy()\n",
    "df_opening = df2.copy()\n",
    "df_budget = df3.copy()"
   ]
  },
  {
   "cell_type": "code",
   "execution_count": 43,
   "metadata": {
    "ExecuteTime": {
     "end_time": "2016-11-02T16:47:35.369331",
     "start_time": "2016-11-02T16:47:35.364206"
    },
    "collapsed": false
   },
   "outputs": [
    {
     "name": "stdout",
     "output_type": "stream",
     "text": [
      "Index([u'imdbID', u'Gross'], dtype='object') (250, 2)\n",
      "Index([u'imdbID', u'Opening'], dtype='object') (250, 2)\n",
      "Index([u'imdbID', u'Budget'], dtype='object') (250, 2)\n"
     ]
    }
   ],
   "source": [
    "print df_gross.columns, df_gross.shape\n",
    "print df_opening.columns, df_opening.shape\n",
    "print df_budget.columns, df_opening.shape"
   ]
  },
  {
   "cell_type": "markdown",
   "metadata": {},
   "source": [
    "### Merge all dataframes into 1 master df"
   ]
  },
  {
   "cell_type": "code",
   "execution_count": 60,
   "metadata": {
    "ExecuteTime": {
     "end_time": "2016-11-02T16:59:46.311871",
     "start_time": "2016-11-02T16:59:46.241275"
    },
    "collapsed": false
   },
   "outputs": [
    {
     "data": {
      "text/html": [
       "<div>\n",
       "<table border=\"1\" class=\"dataframe\">\n",
       "  <thead>\n",
       "    <tr style=\"text-align: right;\">\n",
       "      <th></th>\n",
       "      <th>imdbID</th>\n",
       "      <th>Gross</th>\n",
       "      <th>Opening</th>\n",
       "      <th>Budget</th>\n",
       "    </tr>\n",
       "  </thead>\n",
       "  <tbody>\n",
       "    <tr>\n",
       "      <th>0</th>\n",
       "      <td>tt2582802</td>\n",
       "      <td>13092000.0</td>\n",
       "      <td>135388.0</td>\n",
       "      <td>135388.0</td>\n",
       "    </tr>\n",
       "    <tr>\n",
       "      <th>1</th>\n",
       "      <td>tt0047478</td>\n",
       "      <td>269061.0</td>\n",
       "      <td>21830.0</td>\n",
       "      <td>21830.0</td>\n",
       "    </tr>\n",
       "    <tr>\n",
       "      <th>2</th>\n",
       "      <td>tt0082971</td>\n",
       "      <td>242374454.0</td>\n",
       "      <td>1673731.0</td>\n",
       "      <td>1673731.0</td>\n",
       "    </tr>\n",
       "  </tbody>\n",
       "</table>\n",
       "</div>"
      ],
      "text/plain": [
       "      imdbID        Gross    Opening     Budget\n",
       "0  tt2582802   13092000.0   135388.0   135388.0\n",
       "1  tt0047478     269061.0    21830.0    21830.0\n",
       "2  tt0082971  242374454.0  1673731.0  1673731.0"
      ]
     },
     "execution_count": 60,
     "metadata": {},
     "output_type": "execute_result"
    }
   ],
   "source": [
    "# Merge gross, opening and budget dfs\n",
    "df_imdb = pd.merge(df1, df2, on=\"imdbID\")\n",
    "df_imdb = pd.merge(df_imdb, df3, on=\"imdbID\")\n",
    "df_imdb.head(3)"
   ]
  },
  {
   "cell_type": "code",
   "execution_count": 61,
   "metadata": {
    "ExecuteTime": {
     "end_time": "2016-11-02T17:00:40.867747",
     "start_time": "2016-11-02T17:00:40.788890"
    },
    "collapsed": false
   },
   "outputs": [
    {
     "name": "stdout",
     "output_type": "stream",
     "text": [
      "(250, 38)\n"
     ]
    },
    {
     "data": {
      "text/html": [
       "<div>\n",
       "<table border=\"1\" class=\"dataframe\">\n",
       "  <thead>\n",
       "    <tr style=\"text-align: right;\">\n",
       "      <th></th>\n",
       "      <th>Actors</th>\n",
       "      <th>Awards</th>\n",
       "      <th>BoxOffice</th>\n",
       "      <th>Country</th>\n",
       "      <th>DVD</th>\n",
       "      <th>Director</th>\n",
       "      <th>Genre</th>\n",
       "      <th>Language</th>\n",
       "      <th>Metascore</th>\n",
       "      <th>Plot</th>\n",
       "      <th>...</th>\n",
       "      <th>tomatoRating</th>\n",
       "      <th>tomatoReviews</th>\n",
       "      <th>tomatoRotten</th>\n",
       "      <th>tomatoURL</th>\n",
       "      <th>tomatoUserMeter</th>\n",
       "      <th>tomatoUserRating</th>\n",
       "      <th>tomatoUserReviews</th>\n",
       "      <th>Gross</th>\n",
       "      <th>Opening</th>\n",
       "      <th>Budget</th>\n",
       "    </tr>\n",
       "  </thead>\n",
       "  <tbody>\n",
       "    <tr>\n",
       "      <th>0</th>\n",
       "      <td>Miles Teller, J.K. Simmons, Paul Reiser, Melis...</td>\n",
       "      <td>Won 3 Oscars. Another 87 wins &amp; 131 nominations.</td>\n",
       "      <td>N/A</td>\n",
       "      <td>USA</td>\n",
       "      <td>24 Feb 2015</td>\n",
       "      <td>Damien Chazelle</td>\n",
       "      <td>Drama, Music</td>\n",
       "      <td>English</td>\n",
       "      <td>88</td>\n",
       "      <td>A promising young drummer enrolls at a cut-thr...</td>\n",
       "      <td>...</td>\n",
       "      <td>8.6</td>\n",
       "      <td>261</td>\n",
       "      <td>15</td>\n",
       "      <td>http://www.rottentomatoes.com/m/whiplash_2014/</td>\n",
       "      <td>94</td>\n",
       "      <td>4.5</td>\n",
       "      <td>66092</td>\n",
       "      <td>13092000.0</td>\n",
       "      <td>135388.0</td>\n",
       "      <td>135388.0</td>\n",
       "    </tr>\n",
       "    <tr>\n",
       "      <th>1</th>\n",
       "      <td>Toshirô Mifune, Takashi Shimura, Keiko Tsushim...</td>\n",
       "      <td>Nominated for 2 Oscars. Another 5 wins &amp; 6 nom...</td>\n",
       "      <td>N/A</td>\n",
       "      <td>Japan</td>\n",
       "      <td>01 Mar 1999</td>\n",
       "      <td>Akira Kurosawa</td>\n",
       "      <td>Action, Adventure, Drama</td>\n",
       "      <td>Japanese</td>\n",
       "      <td>98</td>\n",
       "      <td>A veteran samurai, who has fallen on hard time...</td>\n",
       "      <td>...</td>\n",
       "      <td>9.3</td>\n",
       "      <td>57</td>\n",
       "      <td>0</td>\n",
       "      <td>http://www.rottentomatoes.com/m/1018639-seven_...</td>\n",
       "      <td>97</td>\n",
       "      <td>4.5</td>\n",
       "      <td>89264</td>\n",
       "      <td>269061.0</td>\n",
       "      <td>21830.0</td>\n",
       "      <td>21830.0</td>\n",
       "    </tr>\n",
       "    <tr>\n",
       "      <th>2</th>\n",
       "      <td>Harrison Ford, Karen Allen, Paul Freeman, Rona...</td>\n",
       "      <td>Won 4 Oscars. Another 30 wins &amp; 23 nominations.</td>\n",
       "      <td>N/A</td>\n",
       "      <td>USA</td>\n",
       "      <td>21 Oct 2003</td>\n",
       "      <td>Steven Spielberg</td>\n",
       "      <td>Action, Adventure</td>\n",
       "      <td>English, German, Hebrew, Spanish, Arabic, Nepali</td>\n",
       "      <td>85</td>\n",
       "      <td>The year is 1936. An archeology professor name...</td>\n",
       "      <td>...</td>\n",
       "      <td>9.2</td>\n",
       "      <td>71</td>\n",
       "      <td>4</td>\n",
       "      <td>http://www.rottentomatoes.com/m/raiders_of_the...</td>\n",
       "      <td>96</td>\n",
       "      <td>4.1</td>\n",
       "      <td>823404</td>\n",
       "      <td>242374454.0</td>\n",
       "      <td>1673731.0</td>\n",
       "      <td>1673731.0</td>\n",
       "    </tr>\n",
       "    <tr>\n",
       "      <th>3</th>\n",
       "      <td>William Holden, Alec Guinness, Jack Hawkins, S...</td>\n",
       "      <td>Won 7 Oscars. Another 23 wins &amp; 7 nominations.</td>\n",
       "      <td>N/A</td>\n",
       "      <td>UK, USA</td>\n",
       "      <td>21 Nov 2000</td>\n",
       "      <td>David Lean</td>\n",
       "      <td>Adventure, Drama, War</td>\n",
       "      <td>English, Japanese, Thai</td>\n",
       "      <td>N/A</td>\n",
       "      <td>After settling his differences with a Japanese...</td>\n",
       "      <td>...</td>\n",
       "      <td>9.2</td>\n",
       "      <td>53</td>\n",
       "      <td>3</td>\n",
       "      <td>http://www.rottentomatoes.com/m/bridge_on_the_...</td>\n",
       "      <td>93</td>\n",
       "      <td>4.0</td>\n",
       "      <td>53967</td>\n",
       "      <td>27200000.0</td>\n",
       "      <td>NaN</td>\n",
       "      <td>NaN</td>\n",
       "    </tr>\n",
       "    <tr>\n",
       "      <th>4</th>\n",
       "      <td>Robert Downey Jr., Chris Evans, Mark Ruffalo, ...</td>\n",
       "      <td>Nominated for 1 Oscar. Another 34 wins &amp; 75 no...</td>\n",
       "      <td>$623,279,547.00</td>\n",
       "      <td>USA</td>\n",
       "      <td>25 Sep 2012</td>\n",
       "      <td>Joss Whedon</td>\n",
       "      <td>Action, Sci-Fi, Thriller</td>\n",
       "      <td>English, Russian</td>\n",
       "      <td>69</td>\n",
       "      <td>Nick Fury is the director of S.H.I.E.L.D., an ...</td>\n",
       "      <td>...</td>\n",
       "      <td>8.0</td>\n",
       "      <td>318</td>\n",
       "      <td>26</td>\n",
       "      <td>http://www.rottentomatoes.com/m/marvels_the_av...</td>\n",
       "      <td>91</td>\n",
       "      <td>4.4</td>\n",
       "      <td>1128701</td>\n",
       "      <td>623279547.0</td>\n",
       "      <td>207438708.0</td>\n",
       "      <td>207438708.0</td>\n",
       "    </tr>\n",
       "  </tbody>\n",
       "</table>\n",
       "<p>5 rows × 38 columns</p>\n",
       "</div>"
      ],
      "text/plain": [
       "                                              Actors  \\\n",
       "0  Miles Teller, J.K. Simmons, Paul Reiser, Melis...   \n",
       "1  Toshirô Mifune, Takashi Shimura, Keiko Tsushim...   \n",
       "2  Harrison Ford, Karen Allen, Paul Freeman, Rona...   \n",
       "3  William Holden, Alec Guinness, Jack Hawkins, S...   \n",
       "4  Robert Downey Jr., Chris Evans, Mark Ruffalo, ...   \n",
       "\n",
       "                                              Awards        BoxOffice  \\\n",
       "0   Won 3 Oscars. Another 87 wins & 131 nominations.              N/A   \n",
       "1  Nominated for 2 Oscars. Another 5 wins & 6 nom...              N/A   \n",
       "2    Won 4 Oscars. Another 30 wins & 23 nominations.              N/A   \n",
       "3     Won 7 Oscars. Another 23 wins & 7 nominations.              N/A   \n",
       "4  Nominated for 1 Oscar. Another 34 wins & 75 no...  $623,279,547.00   \n",
       "\n",
       "   Country          DVD          Director                     Genre  \\\n",
       "0      USA  24 Feb 2015   Damien Chazelle              Drama, Music   \n",
       "1    Japan  01 Mar 1999    Akira Kurosawa  Action, Adventure, Drama   \n",
       "2      USA  21 Oct 2003  Steven Spielberg         Action, Adventure   \n",
       "3  UK, USA  21 Nov 2000        David Lean     Adventure, Drama, War   \n",
       "4      USA  25 Sep 2012       Joss Whedon  Action, Sci-Fi, Thriller   \n",
       "\n",
       "                                           Language Metascore  \\\n",
       "0                                           English        88   \n",
       "1                                          Japanese        98   \n",
       "2  English, German, Hebrew, Spanish, Arabic, Nepali        85   \n",
       "3                           English, Japanese, Thai       N/A   \n",
       "4                                  English, Russian        69   \n",
       "\n",
       "                                                Plot     ...       \\\n",
       "0  A promising young drummer enrolls at a cut-thr...     ...        \n",
       "1  A veteran samurai, who has fallen on hard time...     ...        \n",
       "2  The year is 1936. An archeology professor name...     ...        \n",
       "3  After settling his differences with a Japanese...     ...        \n",
       "4  Nick Fury is the director of S.H.I.E.L.D., an ...     ...        \n",
       "\n",
       "  tomatoRating tomatoReviews tomatoRotten  \\\n",
       "0          8.6           261           15   \n",
       "1          9.3            57            0   \n",
       "2          9.2            71            4   \n",
       "3          9.2            53            3   \n",
       "4          8.0           318           26   \n",
       "\n",
       "                                           tomatoURL tomatoUserMeter  \\\n",
       "0     http://www.rottentomatoes.com/m/whiplash_2014/              94   \n",
       "1  http://www.rottentomatoes.com/m/1018639-seven_...              97   \n",
       "2  http://www.rottentomatoes.com/m/raiders_of_the...              96   \n",
       "3  http://www.rottentomatoes.com/m/bridge_on_the_...              93   \n",
       "4  http://www.rottentomatoes.com/m/marvels_the_av...              91   \n",
       "\n",
       "  tomatoUserRating tomatoUserReviews        Gross      Opening       Budget  \n",
       "0              4.5             66092   13092000.0     135388.0     135388.0  \n",
       "1              4.5             89264     269061.0      21830.0      21830.0  \n",
       "2              4.1            823404  242374454.0    1673731.0    1673731.0  \n",
       "3              4.0             53967   27200000.0          NaN          NaN  \n",
       "4              4.4           1128701  623279547.0  207438708.0  207438708.0  \n",
       "\n",
       "[5 rows x 38 columns]"
      ]
     },
     "execution_count": 61,
     "metadata": {},
     "output_type": "execute_result"
    }
   ],
   "source": [
    "# Merge original df (from omdbapi) with df_imdb\n",
    "df = pd.merge(df, df_imdb)\n",
    "print df.shape\n",
    "df.head()"
   ]
  },
  {
   "cell_type": "code",
   "execution_count": 62,
   "metadata": {
    "ExecuteTime": {
     "end_time": "2016-11-02T17:02:14.876387",
     "start_time": "2016-11-02T17:02:14.851075"
    },
    "collapsed": true
   },
   "outputs": [],
   "source": [
    "dfc = df.copy()"
   ]
  },
  {
   "cell_type": "code",
   "execution_count": 70,
   "metadata": {
    "ExecuteTime": {
     "end_time": "2016-11-02T17:07:12.137696",
     "start_time": "2016-11-02T17:07:12.128098"
    },
    "collapsed": false
   },
   "outputs": [
    {
     "data": {
      "text/plain": [
       "array(['Actors', 'Awards', 'BoxOffice', 'Country', 'DVD', 'Director',\n",
       "       'Genre', 'Language', 'Metascore', 'Plot', 'Poster', 'Production',\n",
       "       'Rated', 'Released', 'Response', 'Runtime', 'Title', 'Type',\n",
       "       'Website', 'Writer', 'Year', 'imdbID', 'imdbRating', 'imdbVotes',\n",
       "       'tomatoConsensus', 'tomatoFresh', 'tomatoImage', 'tomatoMeter',\n",
       "       'tomatoRating', 'tomatoReviews', 'tomatoRotten', 'tomatoURL',\n",
       "       'tomatoUserMeter', 'tomatoUserRating', 'tomatoUserReviews', 'Gross',\n",
       "       'Opening', 'Budget'], dtype=object)"
      ]
     },
     "execution_count": 70,
     "metadata": {},
     "output_type": "execute_result"
    }
   ],
   "source": [
    "df.columns = [i.encode(\"utf-8\") for i in df.columns]\n",
    "df.columns.values"
   ]
  },
  {
   "cell_type": "code",
   "execution_count": 75,
   "metadata": {
    "ExecuteTime": {
     "end_time": "2016-11-02T17:08:02.465922",
     "start_time": "2016-11-02T17:08:02.461543"
    },
    "collapsed": false
   },
   "outputs": [
    {
     "name": "stdout",
     "output_type": "stream",
     "text": [
      "['Actors' 'Awards' 'BoxOffice' 'Country' 'DVD' 'Director' 'Genre'\n",
      " 'Language' 'Metascore' 'Plot' 'Poster' 'Production' 'Rated' 'Released'\n",
      " 'Response' 'Runtime' 'Title' 'Type' 'Website' 'Writer' 'Year' 'imdbID'\n",
      " 'imdbRating' 'imdbVotes' 'tomatoConsensus' 'tomatoFresh' 'tomatoImage'\n",
      " 'tomatoMeter' 'tomatoRating' 'tomatoReviews' 'tomatoRotten' 'tomatoURL'\n",
      " 'tomatoUserMeter' 'tomatoUserRating' 'tomatoUserReviews' 'Gross' 'Opening'\n",
      " 'Budget']\n"
     ]
    }
   ],
   "source": [
    "original_cols = df.columns.values\n",
    "df.columns.values = [\n",
    "    'imdbID', 'Title', 'Gross', 'Opening', 'Budget',\n",
    "    'Actors', 'Awards', 'BoxOffice', 'Country', 'DVD', 'Director',\n",
    "    'Genre', 'Language', 'Metascore', 'Plot', 'Poster', 'Production',\n",
    "    'Rated', 'Released', 'Response', 'Runtime',  'Type',\n",
    "    'Website', 'Writer', 'Year',  'imdbRating', 'imdbVotes',\n",
    "    'tomatoConsensus', 'tomatoFresh', 'tomatoImage', 'tomatoMeter',\n",
    "    'tomatoRating', 'tomatoReviews', 'tomatoRotten', 'tomatoURL',\n",
    "    'tomatoUserMeter', 'tomatoUserRating', 'tomatoUserReviews']"
   ]
  },
  {
   "cell_type": "code",
   "execution_count": null,
   "metadata": {
    "collapsed": true
   },
   "outputs": [],
   "source": []
  }
 ],
 "metadata": {
  "kernelspec": {
   "display_name": "Python 2",
   "language": "python",
   "name": "python2"
  },
  "language_info": {
   "codemirror_mode": {
    "name": "ipython",
    "version": 2
   },
   "file_extension": ".py",
   "mimetype": "text/x-python",
   "name": "python",
   "nbconvert_exporter": "python",
   "pygments_lexer": "ipython2",
   "version": "2.7.12"
  },
  "toc": {
   "nav_menu": {
    "height": "102px",
    "width": "252px"
   },
   "navigate_menu": true,
   "number_sections": true,
   "sideBar": true,
   "threshold": 4,
   "toc_cell": false,
   "toc_section_display": "block",
   "toc_window_display": false
  }
 },
 "nbformat": 4,
 "nbformat_minor": 0
}
