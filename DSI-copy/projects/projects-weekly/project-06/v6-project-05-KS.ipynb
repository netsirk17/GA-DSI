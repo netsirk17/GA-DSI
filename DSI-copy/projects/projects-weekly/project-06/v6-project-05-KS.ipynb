{
 "cells": [
  {
   "cell_type": "code",
   "execution_count": 560,
   "metadata": {
    "ExecuteTime": {
     "end_time": "2016-11-06T14:00:40.563653",
     "start_time": "2016-11-06T14:00:40.478062"
    },
    "collapsed": false
   },
   "outputs": [],
   "source": [
    "import bs4\n",
    "from bs4 import BeautifulSoup\n",
    "import requests\n",
    "import re\n",
    "import json\n",
    "import pandas as pd\n",
    "import numpy as np\n",
    "from datetime import datetime\n",
    "\n",
    "from sklearn.feature_extraction.text import CountVectorizer\n",
    "import matplotlib.pyplot as plt\n",
    "%matplotlib inline\n",
    "plt.style.use('fivethirtyeight')\n",
    "import seaborn as sns\n",
    "sns.set_palette('muted')\n",
    "sns.set_style('whitegrid')\n",
    "\n",
    "from sklearn.linear_model import LinearRegression\n",
    "from sklearn.metrics import r2_score, classification_report, confusion_matrix, accuracy_score\n",
    "from sklearn.tree import DecisionTreeRegressor, DecisionTreeClassifier\n",
    "from sklearn.model_selection import cross_val_score, KFold, StratifiedKFold, train_test_split\n",
    "from sklearn.grid_search import GridSearchCV\n",
    "from sklearn.ensemble import RandomForestRegressor, AdaBoostRegressor, GradientBoostingRegressor,\\\n",
    "AdaBoostClassifier, GradientBoostingClassifier, BaggingClassifier, \\\n",
    "RandomForestClassifier, BaggingRegressor\n",
    "from sklearn.neighbors import KNeighborsRegressor"
   ]
  },
  {
   "cell_type": "markdown",
   "metadata": {},
   "source": [
    "## Webscraping"
   ]
  },
  {
   "cell_type": "markdown",
   "metadata": {
    "heading_collapsed": true
   },
   "source": [
    "### IMDB: Get film ids"
   ]
  },
  {
   "cell_type": "code",
   "execution_count": 3,
   "metadata": {
    "ExecuteTime": {
     "end_time": "2016-11-06T09:33:54.122976",
     "start_time": "2016-11-06T09:33:53.240480"
    },
    "code_folding": [],
    "collapsed": true,
    "hidden": true
   },
   "outputs": [],
   "source": [
    "# Function that will make an api call to omdbapi.com and return film id\n",
    "\n",
    "def get_id_250():\n",
    "    response = requests.get('http://www.imdb.com/chart/top')\n",
    "    html = response.text\n",
    "    entries = re.findall(\"<a href.*?/title/(.*?)/\", html)\n",
    "    return list(set(entries))\n",
    "\n",
    "entries = get_id_250()"
   ]
  },
  {
   "cell_type": "code",
   "execution_count": 4,
   "metadata": {
    "ExecuteTime": {
     "end_time": "2016-11-06T09:33:57.665644",
     "start_time": "2016-11-06T09:33:57.662221"
    },
    "collapsed": false,
    "hidden": true
   },
   "outputs": [
    {
     "name": "stdout",
     "output_type": "stream",
     "text": [
      "250\n",
      "[u'tt2582802', u'tt0047478']\n"
     ]
    }
   ],
   "source": [
    "print len(entries)\n",
    "print entries[:2]"
   ]
  },
  {
   "cell_type": "markdown",
   "metadata": {
    "heading_collapsed": true
   },
   "source": [
    "### Fill in film data from omdapi.com"
   ]
  },
  {
   "cell_type": "code",
   "execution_count": 5,
   "metadata": {
    "ExecuteTime": {
     "end_time": "2016-11-06T09:41:15.675188",
     "start_time": "2016-11-06T09:34:00.823938"
    },
    "collapsed": false,
    "hidden": true
   },
   "outputs": [
    {
     "name": "stdout",
     "output_type": "stream",
     "text": [
      ". . . . . . . . . . . . . . . . . . . . . . . . . . . . . . . . . . . . . . . . . . . . . . . . . . . . . . . . . . . . . . . . . . . . . . . . . . . . . . . . . . . . . . . . . . . . . . . . . . . . . . . . . . . . . . . . . . . . . . . . . . . . . . . . . . . . . . . . . . . . . . . . . . . . . . . . . . . . . . . . . . . . . . . . . . . . . . . . . . . . . . . . . . . . . . . . . . . . . . . . . . . . . . . . . . . . . . . . . . . . . . . . . . . . . . . . . . . . . . . . . . . . . . . . . .\n"
     ]
    }
   ],
   "source": [
    "# Function that will make an api call to omdbapi.com and return film data by film id\n",
    "\"\"\"  \n",
    "     Decided to include full plot summary in case I choose to use NLTK for predicting in future\n",
    "     Decided to include Rotten Tomatoes ratings and metrics as it may also be a useful feature in models \n",
    "\"\"\"\n",
    "\n",
    "# From JSON/APIs lab\n",
    "def get_entry(entry):\n",
    "    res = requests.get('http://www.omdbapi.com/?i='+entry+'&plot=full&r=json&tomatoes=true')\n",
    "    if res.status_code != 200:\n",
    "        print entry, res.status_code\n",
    "    else:\n",
    "        print '.',\n",
    "    try:\n",
    "        j = json.loads(res.text)\n",
    "    except ValueError:\n",
    "        j = None\n",
    "    return j\n",
    "\n",
    "entries_dict_list = [get_entry(e) for e in entries]"
   ]
  },
  {
   "cell_type": "code",
   "execution_count": 6,
   "metadata": {
    "ExecuteTime": {
     "end_time": "2016-11-06T09:41:15.682785",
     "start_time": "2016-11-06T09:41:15.677087"
    },
    "collapsed": false,
    "hidden": true
   },
   "outputs": [
    {
     "data": {
      "text/plain": [
       "250"
      ]
     },
     "execution_count": 6,
     "metadata": {},
     "output_type": "execute_result"
    }
   ],
   "source": [
    "len(entries_dict_list)"
   ]
  },
  {
   "cell_type": "code",
   "execution_count": 7,
   "metadata": {
    "ExecuteTime": {
     "end_time": "2016-11-06T09:41:15.780093",
     "start_time": "2016-11-06T09:41:15.684249"
    },
    "collapsed": false,
    "hidden": true
   },
   "outputs": [
    {
     "data": {
      "text/html": [
       "<div>\n",
       "<table border=\"1\" class=\"dataframe\">\n",
       "  <thead>\n",
       "    <tr style=\"text-align: right;\">\n",
       "      <th></th>\n",
       "      <th>Actors</th>\n",
       "      <th>Awards</th>\n",
       "      <th>BoxOffice</th>\n",
       "      <th>Country</th>\n",
       "      <th>DVD</th>\n",
       "      <th>Director</th>\n",
       "      <th>Genre</th>\n",
       "      <th>Language</th>\n",
       "      <th>Metascore</th>\n",
       "      <th>Plot</th>\n",
       "      <th>...</th>\n",
       "      <th>tomatoFresh</th>\n",
       "      <th>tomatoImage</th>\n",
       "      <th>tomatoMeter</th>\n",
       "      <th>tomatoRating</th>\n",
       "      <th>tomatoReviews</th>\n",
       "      <th>tomatoRotten</th>\n",
       "      <th>tomatoURL</th>\n",
       "      <th>tomatoUserMeter</th>\n",
       "      <th>tomatoUserRating</th>\n",
       "      <th>tomatoUserReviews</th>\n",
       "    </tr>\n",
       "  </thead>\n",
       "  <tbody>\n",
       "    <tr>\n",
       "      <th>0</th>\n",
       "      <td>Miles Teller, J.K. Simmons, Paul Reiser, Melis...</td>\n",
       "      <td>Won 3 Oscars. Another 87 wins &amp; 131 nominations.</td>\n",
       "      <td>N/A</td>\n",
       "      <td>USA</td>\n",
       "      <td>24 Feb 2015</td>\n",
       "      <td>Damien Chazelle</td>\n",
       "      <td>Drama, Music</td>\n",
       "      <td>English</td>\n",
       "      <td>88</td>\n",
       "      <td>A promising young drummer enrolls at a cut-thr...</td>\n",
       "      <td>...</td>\n",
       "      <td>246</td>\n",
       "      <td>certified</td>\n",
       "      <td>94</td>\n",
       "      <td>8.6</td>\n",
       "      <td>261</td>\n",
       "      <td>15</td>\n",
       "      <td>http://www.rottentomatoes.com/m/whiplash_2014/</td>\n",
       "      <td>94</td>\n",
       "      <td>4.5</td>\n",
       "      <td>66092</td>\n",
       "    </tr>\n",
       "  </tbody>\n",
       "</table>\n",
       "<p>1 rows × 35 columns</p>\n",
       "</div>"
      ],
      "text/plain": [
       "                                              Actors  \\\n",
       "0  Miles Teller, J.K. Simmons, Paul Reiser, Melis...   \n",
       "\n",
       "                                             Awards BoxOffice Country  \\\n",
       "0  Won 3 Oscars. Another 87 wins & 131 nominations.       N/A     USA   \n",
       "\n",
       "           DVD         Director         Genre Language Metascore  \\\n",
       "0  24 Feb 2015  Damien Chazelle  Drama, Music  English        88   \n",
       "\n",
       "                                                Plot        ...         \\\n",
       "0  A promising young drummer enrolls at a cut-thr...        ...          \n",
       "\n",
       "  tomatoFresh tomatoImage tomatoMeter tomatoRating tomatoReviews tomatoRotten  \\\n",
       "0         246   certified          94          8.6           261           15   \n",
       "\n",
       "                                        tomatoURL tomatoUserMeter  \\\n",
       "0  http://www.rottentomatoes.com/m/whiplash_2014/              94   \n",
       "\n",
       "  tomatoUserRating tomatoUserReviews  \n",
       "0              4.5             66092  \n",
       "\n",
       "[1 rows x 35 columns]"
      ]
     },
     "execution_count": 7,
     "metadata": {},
     "output_type": "execute_result"
    }
   ],
   "source": [
    "df = pd.DataFrame(entries_dict_list)\n",
    "df.head(1)"
   ]
  },
  {
   "cell_type": "code",
   "execution_count": 8,
   "metadata": {
    "ExecuteTime": {
     "end_time": "2016-11-06T09:41:15.784562",
     "start_time": "2016-11-06T09:41:15.781604"
    },
    "collapsed": false,
    "hidden": true
   },
   "outputs": [
    {
     "name": "stdout",
     "output_type": "stream",
     "text": [
      "(250, 35)\n"
     ]
    }
   ],
   "source": [
    "print df.shape"
   ]
  },
  {
   "cell_type": "markdown",
   "metadata": {
    "heading_collapsed": true
   },
   "source": [
    "### IMDB: Get gross, opening weekend and budget"
   ]
  },
  {
   "cell_type": "code",
   "execution_count": 9,
   "metadata": {
    "ExecuteTime": {
     "end_time": "2016-11-06T09:41:15.792146",
     "start_time": "2016-11-06T09:41:15.785918"
    },
    "collapsed": true,
    "hidden": true
   },
   "outputs": [],
   "source": [
    "def get_gross(entry):\n",
    "    response = requests.get('http://www.imdb.com/title/' + entry)\n",
    "    html = response.text\n",
    "    try:\n",
    "        gross_list = re.findall(\"Gross:</h4>[ ]*\\$([^ ]*)\", html)\n",
    "        gross = int(gross_list[0].replace(',', ''))\n",
    "        print '.',\n",
    "        return gross\n",
    "    except Exception as ex:\n",
    "        print\n",
    "        print ex, entry, response.status_code\n",
    "        return None"
   ]
  },
  {
   "cell_type": "code",
   "execution_count": 10,
   "metadata": {
    "ExecuteTime": {
     "end_time": "2016-11-06T09:44:00.795891",
     "start_time": "2016-11-06T09:41:15.793903"
    },
    "collapsed": false,
    "hidden": true
   },
   "outputs": [
    {
     "name": "stdout",
     "output_type": "stream",
     "text": [
      ". . . . . . .\n",
      "list index out of range tt0046268 200\n",
      "\n",
      "list index out of range tt0055630 200\n",
      ". . . . .\n",
      "list index out of range tt0057115 200\n",
      ".\n",
      "list index out of range tt0071315 200\n",
      ". . . .\n",
      "list index out of range tt0074896 200\n",
      ". .\n",
      "list index out of range tt0021749 200\n",
      ". .\n",
      "list index out of range tt0053125 200\n",
      ". . .\n",
      "list index out of range tt1220719 200\n",
      "\n",
      "list index out of range tt0025316 200\n",
      ". .\n",
      "list index out of range tt0083922 200\n",
      ". . .\n",
      "list index out of range tt0072684 200\n",
      ".\n",
      "list index out of range tt0074958 200\n",
      ". . . .\n",
      "list index out of range tt0036775 200\n",
      ". . . . . .\n",
      "list index out of range tt0978762 200\n",
      "\n",
      "list index out of range tt0109117 200\n",
      ". .\n",
      "list index out of range tt0080678 200\n",
      ". .\n",
      "list index out of range tt0056592 200\n",
      ".\n",
      "list index out of range tt0095327 200\n",
      ". . .\n",
      "list index out of range tt0476735 200\n",
      ". . . . . .\n",
      "list index out of range tt0046438 200\n",
      ".\n",
      "list index out of range tt0015864 200\n",
      ".\n",
      "list index out of range tt0045152 200\n",
      ". . . .\n",
      "list index out of range tt0046911 200\n",
      ".\n",
      "list index out of range tt0050986 200\n",
      ".\n",
      "list index out of range tt0091251 200\n",
      ". . . . . . . . .\n",
      "list index out of range tt0032553 200\n",
      "\n",
      "list index out of range tt0032551 200\n",
      ". . . . . .\n",
      "list index out of range tt0060827 200\n",
      ". . .\n",
      "list index out of range tt0031679 200\n",
      ". . . . . .\n",
      "list index out of range tt0053198 200\n",
      ". . .\n",
      "list index out of range tt0050825 200\n",
      "\n",
      "list index out of range tt0042876 200\n",
      "\n",
      "list index out of range tt0083987 200\n",
      ". . .\n",
      "list index out of range tt0044079 200\n",
      "\n",
      "list index out of range tt0041546 200\n",
      ". . . . . .\n",
      "list index out of range tt0092067 200\n",
      ". . . .\n",
      "list index out of range tt1954470 200\n",
      ". . . . . . . .\n",
      "list index out of range tt0057012 200\n",
      "\n",
      "list index out of range tt0096283 200\n",
      ".\n",
      "list index out of range tt0064116 200\n",
      ". . . . .\n",
      "list index out of range tt0081505 200\n",
      "\n",
      "list index out of range tt0038650 200\n",
      ".\n",
      "list index out of range tt0034583 200\n",
      ". . . . .\n",
      "list index out of range tt0046250 200\n",
      ". .\n",
      "list index out of range tt0033870 200\n",
      ". . .\n",
      "list index out of range tt0040897 200\n",
      ". .\n",
      "list index out of range tt0019254 200\n",
      "\n",
      "list index out of range tt0066921 200\n",
      "\n",
      "list index out of range tt0061512 200\n",
      "\n",
      "list index out of range tt0033467 200\n",
      ".\n",
      "list index out of range tt0017925 200\n",
      ". . . .\n",
      "list index out of range tt0055031 200\n",
      ".\n",
      "list index out of range tt0087544 200\n",
      ". . .\n",
      "list index out of range tt0050083 200\n",
      ". .\n",
      "list index out of range tt0018455 200\n",
      ". . . .\n",
      "list index out of range tt0077416 200\n",
      ". . . . . .\n",
      "list index out of range tt0087884 200\n",
      ". . .\n",
      "list index out of range tt0050976 200\n",
      ". . . . . . . . .\n",
      "list index out of range tt0043014 200\n",
      "\n",
      "list index out of range tt0079944 200\n",
      ".\n",
      "list index out of range tt0053604 200\n",
      ". . . . .\n",
      "list index out of range tt0051201 200\n",
      ".\n",
      "list index out of range tt0032976 200\n",
      ".\n",
      "list index out of range tt0059578 200\n",
      "\n",
      "list index out of range tt0072890 200\n",
      ". . . . . . .\n",
      "list index out of range tt1028532 200\n",
      ". . . . . .\n",
      "list index out of range tt0075314 200\n"
     ]
    }
   ],
   "source": [
    "grosses = [(e, get_gross(e)) for e in entries]"
   ]
  },
  {
   "cell_type": "code",
   "execution_count": 11,
   "metadata": {
    "ExecuteTime": {
     "end_time": "2016-11-06T09:44:00.807347",
     "start_time": "2016-11-06T09:44:00.797401"
    },
    "collapsed": false,
    "hidden": true
   },
   "outputs": [
    {
     "data": {
      "text/html": [
       "<div>\n",
       "<table border=\"1\" class=\"dataframe\">\n",
       "  <thead>\n",
       "    <tr style=\"text-align: right;\">\n",
       "      <th></th>\n",
       "      <th>imdbID</th>\n",
       "      <th>Gross</th>\n",
       "    </tr>\n",
       "  </thead>\n",
       "  <tbody>\n",
       "    <tr>\n",
       "      <th>0</th>\n",
       "      <td>tt2582802</td>\n",
       "      <td>13092000.0</td>\n",
       "    </tr>\n",
       "    <tr>\n",
       "      <th>1</th>\n",
       "      <td>tt0047478</td>\n",
       "      <td>269061.0</td>\n",
       "    </tr>\n",
       "    <tr>\n",
       "      <th>2</th>\n",
       "      <td>tt0082971</td>\n",
       "      <td>242374454.0</td>\n",
       "    </tr>\n",
       "  </tbody>\n",
       "</table>\n",
       "</div>"
      ],
      "text/plain": [
       "      imdbID        Gross\n",
       "0  tt2582802   13092000.0\n",
       "1  tt0047478     269061.0\n",
       "2  tt0082971  242374454.0"
      ]
     },
     "execution_count": 11,
     "metadata": {},
     "output_type": "execute_result"
    }
   ],
   "source": [
    "df1 = pd.DataFrame(grosses, columns=['imdbID', 'Gross'])\n",
    "df1.head(3)"
   ]
  },
  {
   "cell_type": "code",
   "execution_count": 12,
   "metadata": {
    "ExecuteTime": {
     "end_time": "2016-11-06T09:44:00.814437",
     "start_time": "2016-11-06T09:44:00.808731"
    },
    "collapsed": false,
    "hidden": true
   },
   "outputs": [],
   "source": [
    "def get_opening(entry):\n",
    "    response = requests.get('http://www.imdb.com/title/' + entry)\n",
    "    html = response.text\n",
    "    try:\n",
    "        opening_list = re.findall(\"Opening Weekend:</h4>[ ]*\\$([^ ]*)\", html)\n",
    "        opening = int(opening_list[0].replace(',', ''))\n",
    "        print '.',\n",
    "        return opening\n",
    "    except Exception as ex:\n",
    "        print\n",
    "        print ex, entry, response.status_code\n",
    "        return None"
   ]
  },
  {
   "cell_type": "code",
   "execution_count": 13,
   "metadata": {
    "ExecuteTime": {
     "end_time": "2016-11-06T09:46:18.350770",
     "start_time": "2016-11-06T09:44:00.815923"
    },
    "collapsed": false,
    "hidden": true
   },
   "outputs": [
    {
     "name": "stdout",
     "output_type": "stream",
     "text": [
      ". . .\n",
      "list index out of range tt0050212 200\n",
      "\n",
      "list index out of range tt0986264 200\n",
      ". .\n",
      "list index out of range tt0046268 200\n",
      "\n",
      "list index out of range tt0055630 200\n",
      ". . . . .\n",
      "list index out of range tt0057115 200\n",
      ".\n",
      "list index out of range tt0071315 200\n",
      "\n",
      "list index out of range tt0114746 200\n",
      ". . .\n",
      "list index out of range tt0074896 200\n",
      ". .\n",
      "list index out of range tt0021749 200\n",
      ".\n",
      "list index out of range tt1187043 200\n",
      "\n",
      "list index out of range tt0053125 200\n",
      ".\n",
      "list index out of range tt0112471 200\n",
      ".\n",
      "list index out of range tt1220719 200\n",
      "\n",
      "list index out of range tt0025316 200\n",
      ". .\n",
      "list index out of range tt0083922 200\n",
      "\n",
      "list index out of range tt0088247 200\n",
      ".\n",
      "list index out of range tt0087843 200\n",
      "\n",
      "list index out of range tt0072684 200\n",
      ".\n",
      "list index out of range tt0074958 200\n",
      ".\n",
      "list index out of range tt0052618 200\n",
      ". .\n",
      "list index out of range tt0036775 200\n",
      ".\n",
      "list index out of range tt0110357 200\n",
      ". . .\n",
      "list index out of range tt0075148 200\n",
      "\n",
      "list index out of range tt0978762 200\n",
      "\n",
      "list index out of range tt0109117 200\n",
      ".\n",
      "list index out of range tt0036868 200\n",
      "\n",
      "list index out of range tt0080678 200\n",
      "\n",
      "list index out of range tt0093779 200\n",
      "\n",
      "list index out of range tt0108052 200\n",
      "\n",
      "list index out of range tt0056592 200\n",
      "\n",
      "list index out of range tt0088763 200\n",
      "\n",
      "list index out of range tt0095327 200\n",
      ".\n",
      "list index out of range tt0053291 200\n",
      ". .\n",
      "list index out of range tt0407887 200\n",
      ". . . .\n",
      "list index out of range tt0114814 200\n",
      "\n",
      "list index out of range tt0046438 200\n",
      "\n",
      "list index out of range tt0107048 200\n",
      "\n",
      "list index out of range tt0015864 200\n",
      "\n",
      "list index out of range tt0107207 200\n",
      "\n",
      "list index out of range tt0045152 200\n",
      ".\n",
      "list index out of range tt0167261 200\n",
      "\n",
      "list index out of range tt0167260 200\n",
      "\n",
      "list index out of range tt0095016 200\n",
      "\n",
      "list index out of range tt0046911 200\n",
      ".\n",
      "list index out of range tt0050986 200\n",
      ".\n",
      "list index out of range tt0091251 200\n",
      ".\n",
      "list index out of range tt0078748 200\n",
      ".\n",
      "list index out of range tt0012349 200\n",
      "\n",
      "list index out of range tt0372784 200\n",
      "\n",
      "list index out of range tt0113247 200\n",
      "\n",
      "list index out of range tt0107290 200\n",
      ".\n",
      "list index out of range tt0070735 200\n",
      "\n",
      "list index out of range tt0032553 200\n",
      "\n",
      "list index out of range tt0032551 200\n",
      ".\n",
      "list index out of range tt0361748 200\n",
      ". . . .\n",
      "list index out of range tt0060827 200\n",
      "\n",
      "list index out of range tt0266697 200\n",
      ". .\n",
      "list index out of range tt0031679 200\n",
      "\n",
      "list index out of range tt0080684 200\n",
      ". . . .\n",
      "list index out of range tt0102926 200\n",
      "\n",
      "list index out of range tt0053198 200\n",
      ". . .\n",
      "list index out of range tt0050825 200\n",
      "\n",
      "list index out of range tt0042876 200\n",
      "\n",
      "list index out of range tt0083987 200\n",
      ". . .\n",
      "list index out of range tt0044079 200\n",
      "\n",
      "list index out of range tt0041546 200\n",
      ".\n",
      "list index out of range tt0114369 200\n",
      ".\n",
      "list index out of range tt0091763 200\n",
      ". . .\n",
      "list index out of range tt0090605 200\n",
      "\n",
      "list index out of range tt0120737 200\n",
      "\n",
      "list index out of range tt0120735 200\n",
      ".\n",
      "list index out of range tt1954470 200\n",
      ". .\n",
      "list index out of range tt0110413 200\n",
      "\n",
      "list index out of range tt0058461 200\n",
      ". . . .\n",
      "list index out of range tt0057012 200\n",
      "\n",
      "list index out of range tt0096283 200\n",
      ".\n",
      "list index out of range tt0064116 200\n",
      "\n",
      "list index out of range tt0114709 200\n",
      ". . .\n",
      "list index out of range tt0105236 200\n",
      "\n",
      "list index out of range tt0081505 200\n",
      "\n",
      "list index out of range tt0038650 200\n",
      ".\n",
      "list index out of range tt0034583 200\n",
      ". . .\n",
      "list index out of range tt0054215 200\n",
      ".\n",
      "list index out of range tt0046250 200\n",
      ". .\n",
      "list index out of range tt0033870 200\n",
      "\n",
      "list index out of range tt0112573 200\n",
      ".\n",
      "list index out of range tt0097576 200\n",
      "\n",
      "list index out of range tt0040897 200\n",
      "\n",
      "list index out of range tt0062622 200\n",
      ".\n",
      "list index out of range tt0019254 200\n",
      "\n",
      "list index out of range tt0066921 200\n",
      "\n",
      "list index out of range tt0061512 200\n",
      "\n",
      "list index out of range tt0033467 200\n",
      ".\n",
      "list index out of range tt0017925 200\n",
      ". . .\n",
      "list index out of range tt0064115 200\n",
      "\n",
      "list index out of range tt0055031 200\n",
      ".\n",
      "list index out of range tt0087544 200\n",
      "\n",
      "list index out of range tt0113277 200\n",
      "\n",
      "list index out of range tt0105695 200\n",
      ".\n",
      "list index out of range tt0050083 200\n",
      ".\n",
      "list index out of range tt0110912 200\n",
      "\n",
      "list index out of range tt0018455 200\n",
      ". .\n",
      "list index out of range tt0434409 200\n",
      "\n",
      "list index out of range tt0117951 200\n",
      "\n",
      "list index out of range tt0077416 200\n",
      ". . . . .\n",
      "list index out of range tt0099685 200\n",
      "\n",
      "list index out of range tt0087884 200\n",
      ".\n",
      "list index out of range tt0060196 200\n",
      "\n",
      "list index out of range tt0112641 200\n",
      "\n",
      "list index out of range tt0050976 200\n",
      "\n",
      "list index out of range tt0092005 200\n",
      ".\n",
      "list index out of range tt0111161 200\n",
      ".\n",
      "list index out of range tt0071562 200\n",
      ". . . .\n",
      "list index out of range tt0043014 200\n",
      "\n",
      "list index out of range tt0079944 200\n",
      "\n",
      "list index out of range tt0093058 200\n",
      "\n",
      "list index out of range tt0053604 200\n",
      "\n",
      "list index out of range tt0109830 200\n",
      ".\n",
      "list index out of range tt0073195 200\n",
      ". .\n",
      "list index out of range tt0051201 200\n",
      "\n",
      "list index out of range tt0075686 200\n",
      "\n",
      "list index out of range tt0032976 200\n",
      "\n",
      "list index out of range tt1375666 200\n",
      "\n",
      "list index out of range tt0059578 200\n",
      "\n",
      "list index out of range tt0072890 200\n",
      ".\n",
      "list index out of range tt0103064 200\n",
      ". . . .\n",
      "list index out of range tt0047296 200\n",
      "\n",
      "list index out of range tt1028532 200\n",
      ". .\n",
      "list index out of range tt0073486 200\n",
      "\n",
      "list index out of range tt0209144 200\n",
      "\n",
      "list index out of range tt0208092 200\n",
      ".\n",
      "list index out of range tt0075314 200\n"
     ]
    }
   ],
   "source": [
    "opening = [(e, get_opening(e)) for e in entries]"
   ]
  },
  {
   "cell_type": "code",
   "execution_count": 14,
   "metadata": {
    "ExecuteTime": {
     "end_time": "2016-11-06T09:46:18.361959",
     "start_time": "2016-11-06T09:46:18.352342"
    },
    "collapsed": false,
    "hidden": true
   },
   "outputs": [
    {
     "data": {
      "text/html": [
       "<div>\n",
       "<table border=\"1\" class=\"dataframe\">\n",
       "  <thead>\n",
       "    <tr style=\"text-align: right;\">\n",
       "      <th></th>\n",
       "      <th>imdbID</th>\n",
       "      <th>Opening</th>\n",
       "    </tr>\n",
       "  </thead>\n",
       "  <tbody>\n",
       "    <tr>\n",
       "      <th>0</th>\n",
       "      <td>tt2582802</td>\n",
       "      <td>135388.0</td>\n",
       "    </tr>\n",
       "    <tr>\n",
       "      <th>1</th>\n",
       "      <td>tt0047478</td>\n",
       "      <td>21830.0</td>\n",
       "    </tr>\n",
       "    <tr>\n",
       "      <th>2</th>\n",
       "      <td>tt0082971</td>\n",
       "      <td>1673731.0</td>\n",
       "    </tr>\n",
       "  </tbody>\n",
       "</table>\n",
       "</div>"
      ],
      "text/plain": [
       "      imdbID    Opening\n",
       "0  tt2582802   135388.0\n",
       "1  tt0047478    21830.0\n",
       "2  tt0082971  1673731.0"
      ]
     },
     "execution_count": 14,
     "metadata": {},
     "output_type": "execute_result"
    }
   ],
   "source": [
    "df2 = pd.DataFrame(opening, columns=['imdbID', 'Opening'])\n",
    "df2.head(3)"
   ]
  },
  {
   "cell_type": "code",
   "execution_count": 15,
   "metadata": {
    "ExecuteTime": {
     "end_time": "2016-11-06T09:46:18.369531",
     "start_time": "2016-11-06T09:46:18.363687"
    },
    "collapsed": true,
    "hidden": true
   },
   "outputs": [],
   "source": [
    "def get_budget(entry):\n",
    "    response = requests.get('http://www.imdb.com/title/' + entry)\n",
    "    html = response.text\n",
    "    try:\n",
    "        budget_list = re.findall(\"Budget:</h4>[ ]*\\$([^ ]*)\", html)\n",
    "        budget = int(budget_list[0].replace(',', ''))\n",
    "        print '.',\n",
    "        return budget\n",
    "    except Exception as ex:\n",
    "        print\n",
    "        print ex, entry, response.status_code\n",
    "        return None"
   ]
  },
  {
   "cell_type": "code",
   "execution_count": 16,
   "metadata": {
    "ExecuteTime": {
     "end_time": "2016-11-06T09:48:49.449367",
     "start_time": "2016-11-06T09:46:18.370858"
    },
    "collapsed": false,
    "hidden": true
   },
   "outputs": [
    {
     "name": "stdout",
     "output_type": "stream",
     "text": [
      ". . . .\n",
      "list index out of range tt0986264 200\n",
      ". .\n",
      "list index out of range tt0046268 200\n",
      "\n",
      "list index out of range tt0055630 200\n",
      ". . . . . . . . .\n",
      "list index out of range tt0363163 200\n",
      ".\n",
      "list index out of range tt1865505 200\n",
      ". . . . .\n",
      "list index out of range tt1187043 200\n",
      ". . . . . . . . . . . . . . . . . . . . . . .\n",
      "list index out of range tt0071853 200\n",
      ". .\n",
      "list index out of range tt0978762 200\n",
      "\n",
      "list index out of range tt0109117 200\n",
      ". . . . . . . . . . .\n",
      "list index out of range tt0476735 200\n",
      ".\n",
      "list index out of range tt0044741 200\n",
      ". . . .\n",
      "list index out of range tt0046438 200\n",
      ". . . . . . . .\n",
      "list index out of range tt0046911 200\n",
      ".\n",
      "list index out of range tt0050986 200\n",
      ".\n",
      "list index out of range tt0091251 200\n",
      ". . . . .\n",
      "list index out of range tt0113247 200\n",
      ". . . . . . . . . . .\n",
      "list index out of range tt0060827 200\n",
      ". .\n",
      "list index out of range tt0211915 200\n",
      ". . . . . . .\n",
      "list index out of range tt0053198 200\n",
      ". . . . . . . . . .\n",
      "list index out of range tt0041546 200\n",
      ". . . . . .\n",
      "list index out of range tt0092067 200\n",
      ". .\n",
      "list index out of range tt0120735 200\n",
      ".\n",
      "list index out of range tt1954470 200\n",
      ". .\n",
      "list index out of range tt0110413 200\n",
      ".\n",
      "list index out of range tt0119698 200\n",
      ". . . . . . . . .\n",
      "list index out of range tt0022100 200\n",
      ". . . .\n",
      "list index out of range tt0041959 200\n",
      ". . . . . . . . . . . . . . . .\n",
      "list index out of range tt0019254 200\n",
      ". . .\n",
      "list index out of range tt0050783 200\n",
      ". . . . . . . . . . . . . .\n",
      "list index out of range tt0018455 200\n",
      "\n",
      "list index out of range tt1675434 200\n",
      ". . . . . . . . . .\n",
      "list index out of range tt0087884 200\n",
      "\n",
      "list index out of range tt0457430 200\n",
      ". . . .\n",
      "list index out of range tt0017136 200\n",
      ". . . . . . . .\n",
      "list index out of range tt0079944 200\n",
      ". . . . . . . . . . . . . . .\n",
      "list index out of range tt0056801 200\n",
      ". . . . . . . . .\n",
      "list index out of range tt0208092 200\n",
      ". .\n"
     ]
    }
   ],
   "source": [
    "budgets = [(e, get_budget(e)) for e in entries]"
   ]
  },
  {
   "cell_type": "code",
   "execution_count": 17,
   "metadata": {
    "ExecuteTime": {
     "end_time": "2016-11-06T09:48:49.461989",
     "start_time": "2016-11-06T09:48:49.450974"
    },
    "collapsed": false,
    "hidden": true
   },
   "outputs": [
    {
     "data": {
      "text/html": [
       "<div>\n",
       "<table border=\"1\" class=\"dataframe\">\n",
       "  <thead>\n",
       "    <tr style=\"text-align: right;\">\n",
       "      <th></th>\n",
       "      <th>imdbID</th>\n",
       "      <th>Budget</th>\n",
       "    </tr>\n",
       "  </thead>\n",
       "  <tbody>\n",
       "    <tr>\n",
       "      <th>0</th>\n",
       "      <td>tt2582802</td>\n",
       "      <td>3300000.0</td>\n",
       "    </tr>\n",
       "    <tr>\n",
       "      <th>1</th>\n",
       "      <td>tt0047478</td>\n",
       "      <td>2000000.0</td>\n",
       "    </tr>\n",
       "    <tr>\n",
       "      <th>2</th>\n",
       "      <td>tt0082971</td>\n",
       "      <td>18000000.0</td>\n",
       "    </tr>\n",
       "    <tr>\n",
       "      <th>3</th>\n",
       "      <td>tt0050212</td>\n",
       "      <td>3000000.0</td>\n",
       "    </tr>\n",
       "    <tr>\n",
       "      <th>4</th>\n",
       "      <td>tt0986264</td>\n",
       "      <td>NaN</td>\n",
       "    </tr>\n",
       "  </tbody>\n",
       "</table>\n",
       "</div>"
      ],
      "text/plain": [
       "      imdbID      Budget\n",
       "0  tt2582802   3300000.0\n",
       "1  tt0047478   2000000.0\n",
       "2  tt0082971  18000000.0\n",
       "3  tt0050212   3000000.0\n",
       "4  tt0986264         NaN"
      ]
     },
     "execution_count": 17,
     "metadata": {},
     "output_type": "execute_result"
    }
   ],
   "source": [
    "df3 = pd.DataFrame(budgets, columns=['imdbID', 'Budget'])\n",
    "df3.head()"
   ]
  },
  {
   "cell_type": "code",
   "execution_count": 18,
   "metadata": {
    "ExecuteTime": {
     "end_time": "2016-11-06T09:48:49.467437",
     "start_time": "2016-11-06T09:48:49.463274"
    },
    "collapsed": false,
    "hidden": true
   },
   "outputs": [
    {
     "name": "stdout",
     "output_type": "stream",
     "text": [
      "Index([u'imdbID', u'Gross'], dtype='object')\n",
      "Index([u'imdbID', u'Opening'], dtype='object')\n",
      "Index([u'imdbID', u'Budget'], dtype='object')\n"
     ]
    }
   ],
   "source": [
    "print df1.columns\n",
    "print df2.columns\n",
    "print df3.columns"
   ]
  },
  {
   "cell_type": "code",
   "execution_count": 19,
   "metadata": {
    "ExecuteTime": {
     "end_time": "2016-11-06T09:48:49.472650",
     "start_time": "2016-11-06T09:48:49.469288"
    },
    "collapsed": true,
    "hidden": true
   },
   "outputs": [],
   "source": [
    "df_gross = df1.copy()\n",
    "df_opening = df2.copy()\n",
    "df_budget = df3.copy()"
   ]
  },
  {
   "cell_type": "code",
   "execution_count": 20,
   "metadata": {
    "ExecuteTime": {
     "end_time": "2016-11-06T09:48:49.479247",
     "start_time": "2016-11-06T09:48:49.474418"
    },
    "collapsed": false,
    "hidden": true
   },
   "outputs": [
    {
     "name": "stdout",
     "output_type": "stream",
     "text": [
      "Index([u'imdbID', u'Gross'], dtype='object') (250, 2)\n",
      "Index([u'imdbID', u'Opening'], dtype='object') (250, 2)\n",
      "Index([u'imdbID', u'Budget'], dtype='object') (250, 2)\n"
     ]
    }
   ],
   "source": [
    "print df_gross.columns, df_gross.shape\n",
    "print df_opening.columns, df_opening.shape\n",
    "print df_budget.columns, df_opening.shape"
   ]
  },
  {
   "cell_type": "markdown",
   "metadata": {
    "heading_collapsed": true
   },
   "source": [
    "### Merge all dataframes into 1 master df"
   ]
  },
  {
   "cell_type": "code",
   "execution_count": 21,
   "metadata": {
    "ExecuteTime": {
     "end_time": "2016-11-06T09:48:49.547964",
     "start_time": "2016-11-06T09:48:49.480535"
    },
    "collapsed": false,
    "hidden": true
   },
   "outputs": [
    {
     "data": {
      "text/html": [
       "<div>\n",
       "<table border=\"1\" class=\"dataframe\">\n",
       "  <thead>\n",
       "    <tr style=\"text-align: right;\">\n",
       "      <th></th>\n",
       "      <th>imdbID</th>\n",
       "      <th>Gross</th>\n",
       "      <th>Opening</th>\n",
       "      <th>Budget</th>\n",
       "    </tr>\n",
       "  </thead>\n",
       "  <tbody>\n",
       "    <tr>\n",
       "      <th>0</th>\n",
       "      <td>tt2582802</td>\n",
       "      <td>13092000.0</td>\n",
       "      <td>135388.0</td>\n",
       "      <td>3300000.0</td>\n",
       "    </tr>\n",
       "    <tr>\n",
       "      <th>1</th>\n",
       "      <td>tt0047478</td>\n",
       "      <td>269061.0</td>\n",
       "      <td>21830.0</td>\n",
       "      <td>2000000.0</td>\n",
       "    </tr>\n",
       "    <tr>\n",
       "      <th>2</th>\n",
       "      <td>tt0082971</td>\n",
       "      <td>242374454.0</td>\n",
       "      <td>1673731.0</td>\n",
       "      <td>18000000.0</td>\n",
       "    </tr>\n",
       "  </tbody>\n",
       "</table>\n",
       "</div>"
      ],
      "text/plain": [
       "      imdbID        Gross    Opening      Budget\n",
       "0  tt2582802   13092000.0   135388.0   3300000.0\n",
       "1  tt0047478     269061.0    21830.0   2000000.0\n",
       "2  tt0082971  242374454.0  1673731.0  18000000.0"
      ]
     },
     "execution_count": 21,
     "metadata": {},
     "output_type": "execute_result"
    }
   ],
   "source": [
    "# Merge gross, opening and budget dfs\n",
    "df_imdb = pd.merge(df_gross, df_opening, on=\"imdbID\")\n",
    "df_imdb = pd.merge(df_imdb, df_budget, on=\"imdbID\")\n",
    "df_imdb.head(3)"
   ]
  },
  {
   "cell_type": "code",
   "execution_count": 22,
   "metadata": {
    "ExecuteTime": {
     "end_time": "2016-11-06T09:48:49.615532",
     "start_time": "2016-11-06T09:48:49.550567"
    },
    "collapsed": false,
    "hidden": true
   },
   "outputs": [
    {
     "name": "stdout",
     "output_type": "stream",
     "text": [
      "(250, 38)\n"
     ]
    },
    {
     "data": {
      "text/html": [
       "<div>\n",
       "<table border=\"1\" class=\"dataframe\">\n",
       "  <thead>\n",
       "    <tr style=\"text-align: right;\">\n",
       "      <th></th>\n",
       "      <th>Actors</th>\n",
       "      <th>Awards</th>\n",
       "      <th>BoxOffice</th>\n",
       "      <th>Country</th>\n",
       "      <th>DVD</th>\n",
       "      <th>Director</th>\n",
       "      <th>Genre</th>\n",
       "      <th>Language</th>\n",
       "      <th>Metascore</th>\n",
       "      <th>Plot</th>\n",
       "      <th>...</th>\n",
       "      <th>tomatoRating</th>\n",
       "      <th>tomatoReviews</th>\n",
       "      <th>tomatoRotten</th>\n",
       "      <th>tomatoURL</th>\n",
       "      <th>tomatoUserMeter</th>\n",
       "      <th>tomatoUserRating</th>\n",
       "      <th>tomatoUserReviews</th>\n",
       "      <th>Gross</th>\n",
       "      <th>Opening</th>\n",
       "      <th>Budget</th>\n",
       "    </tr>\n",
       "  </thead>\n",
       "  <tbody>\n",
       "    <tr>\n",
       "      <th>0</th>\n",
       "      <td>Miles Teller, J.K. Simmons, Paul Reiser, Melis...</td>\n",
       "      <td>Won 3 Oscars. Another 87 wins &amp; 131 nominations.</td>\n",
       "      <td>N/A</td>\n",
       "      <td>USA</td>\n",
       "      <td>24 Feb 2015</td>\n",
       "      <td>Damien Chazelle</td>\n",
       "      <td>Drama, Music</td>\n",
       "      <td>English</td>\n",
       "      <td>88</td>\n",
       "      <td>A promising young drummer enrolls at a cut-thr...</td>\n",
       "      <td>...</td>\n",
       "      <td>8.6</td>\n",
       "      <td>261</td>\n",
       "      <td>15</td>\n",
       "      <td>http://www.rottentomatoes.com/m/whiplash_2014/</td>\n",
       "      <td>94</td>\n",
       "      <td>4.5</td>\n",
       "      <td>66092</td>\n",
       "      <td>13092000.0</td>\n",
       "      <td>135388.0</td>\n",
       "      <td>3300000.0</td>\n",
       "    </tr>\n",
       "    <tr>\n",
       "      <th>1</th>\n",
       "      <td>Toshirô Mifune, Takashi Shimura, Keiko Tsushim...</td>\n",
       "      <td>Nominated for 2 Oscars. Another 5 wins &amp; 6 nom...</td>\n",
       "      <td>N/A</td>\n",
       "      <td>Japan</td>\n",
       "      <td>01 Mar 1999</td>\n",
       "      <td>Akira Kurosawa</td>\n",
       "      <td>Action, Adventure, Drama</td>\n",
       "      <td>Japanese</td>\n",
       "      <td>98</td>\n",
       "      <td>A veteran samurai, who has fallen on hard time...</td>\n",
       "      <td>...</td>\n",
       "      <td>9.3</td>\n",
       "      <td>57</td>\n",
       "      <td>0</td>\n",
       "      <td>http://www.rottentomatoes.com/m/1018639-seven_...</td>\n",
       "      <td>97</td>\n",
       "      <td>4.5</td>\n",
       "      <td>89264</td>\n",
       "      <td>269061.0</td>\n",
       "      <td>21830.0</td>\n",
       "      <td>2000000.0</td>\n",
       "    </tr>\n",
       "    <tr>\n",
       "      <th>2</th>\n",
       "      <td>Harrison Ford, Karen Allen, Paul Freeman, Rona...</td>\n",
       "      <td>Won 4 Oscars. Another 30 wins &amp; 23 nominations.</td>\n",
       "      <td>N/A</td>\n",
       "      <td>USA</td>\n",
       "      <td>21 Oct 2003</td>\n",
       "      <td>Steven Spielberg</td>\n",
       "      <td>Action, Adventure</td>\n",
       "      <td>English, German, Hebrew, Spanish, Arabic, Nepali</td>\n",
       "      <td>85</td>\n",
       "      <td>The year is 1936. An archeology professor name...</td>\n",
       "      <td>...</td>\n",
       "      <td>9.2</td>\n",
       "      <td>71</td>\n",
       "      <td>4</td>\n",
       "      <td>http://www.rottentomatoes.com/m/raiders_of_the...</td>\n",
       "      <td>96</td>\n",
       "      <td>4.1</td>\n",
       "      <td>823404</td>\n",
       "      <td>242374454.0</td>\n",
       "      <td>1673731.0</td>\n",
       "      <td>18000000.0</td>\n",
       "    </tr>\n",
       "  </tbody>\n",
       "</table>\n",
       "<p>3 rows × 38 columns</p>\n",
       "</div>"
      ],
      "text/plain": [
       "                                              Actors  \\\n",
       "0  Miles Teller, J.K. Simmons, Paul Reiser, Melis...   \n",
       "1  Toshirô Mifune, Takashi Shimura, Keiko Tsushim...   \n",
       "2  Harrison Ford, Karen Allen, Paul Freeman, Rona...   \n",
       "\n",
       "                                              Awards BoxOffice Country  \\\n",
       "0   Won 3 Oscars. Another 87 wins & 131 nominations.       N/A     USA   \n",
       "1  Nominated for 2 Oscars. Another 5 wins & 6 nom...       N/A   Japan   \n",
       "2    Won 4 Oscars. Another 30 wins & 23 nominations.       N/A     USA   \n",
       "\n",
       "           DVD          Director                     Genre  \\\n",
       "0  24 Feb 2015   Damien Chazelle              Drama, Music   \n",
       "1  01 Mar 1999    Akira Kurosawa  Action, Adventure, Drama   \n",
       "2  21 Oct 2003  Steven Spielberg         Action, Adventure   \n",
       "\n",
       "                                           Language Metascore  \\\n",
       "0                                           English        88   \n",
       "1                                          Japanese        98   \n",
       "2  English, German, Hebrew, Spanish, Arabic, Nepali        85   \n",
       "\n",
       "                                                Plot     ...     tomatoRating  \\\n",
       "0  A promising young drummer enrolls at a cut-thr...     ...              8.6   \n",
       "1  A veteran samurai, who has fallen on hard time...     ...              9.3   \n",
       "2  The year is 1936. An archeology professor name...     ...              9.2   \n",
       "\n",
       "  tomatoReviews tomatoRotten  \\\n",
       "0           261           15   \n",
       "1            57            0   \n",
       "2            71            4   \n",
       "\n",
       "                                           tomatoURL tomatoUserMeter  \\\n",
       "0     http://www.rottentomatoes.com/m/whiplash_2014/              94   \n",
       "1  http://www.rottentomatoes.com/m/1018639-seven_...              97   \n",
       "2  http://www.rottentomatoes.com/m/raiders_of_the...              96   \n",
       "\n",
       "  tomatoUserRating tomatoUserReviews        Gross    Opening      Budget  \n",
       "0              4.5             66092   13092000.0   135388.0   3300000.0  \n",
       "1              4.5             89264     269061.0    21830.0   2000000.0  \n",
       "2              4.1            823404  242374454.0  1673731.0  18000000.0  \n",
       "\n",
       "[3 rows x 38 columns]"
      ]
     },
     "execution_count": 22,
     "metadata": {},
     "output_type": "execute_result"
    }
   ],
   "source": [
    "# Merge original df (from omdbapi) with df_imdb\n",
    "df = pd.merge(df, df_imdb)\n",
    "print df.shape\n",
    "df.head(3)"
   ]
  },
  {
   "cell_type": "code",
   "execution_count": 24,
   "metadata": {
    "ExecuteTime": {
     "end_time": "2016-11-06T09:50:47.805007",
     "start_time": "2016-11-06T09:50:47.801202"
    },
    "collapsed": false,
    "hidden": true
   },
   "outputs": [],
   "source": [
    "#################\n",
    "#################\n",
    "\n",
    "# Copy of merged raw dfs without dropping/rearranging columns or cleaning\n",
    "#dfc1 = df.copy()\n",
    "\n",
    "#################\n",
    "#################"
   ]
  },
  {
   "cell_type": "code",
   "execution_count": 25,
   "metadata": {
    "ExecuteTime": {
     "end_time": "2016-11-06T09:50:53.802163",
     "start_time": "2016-11-06T09:50:53.727734"
    },
    "collapsed": true,
    "hidden": true
   },
   "outputs": [],
   "source": [
    "#df.to_csv('film_df_v6.csv', sep=',', encoding='utf-8')"
   ]
  },
  {
   "cell_type": "markdown",
   "metadata": {
    "heading_collapsed": true
   },
   "source": [
    "### Reorder and drop columns"
   ]
  },
  {
   "cell_type": "code",
   "execution_count": 34,
   "metadata": {
    "ExecuteTime": {
     "end_time": "2016-11-06T09:53:01.928748",
     "start_time": "2016-11-06T09:53:01.923980"
    },
    "collapsed": false,
    "hidden": true
   },
   "outputs": [
    {
     "data": {
      "text/plain": [
       "array(['imdbID', 'Title', 'BoxOffice', 'Gross', 'Opening', 'Budget',\n",
       "       'Year', 'Released', 'Metascore', 'imdbRating', 'imdbVotes',\n",
       "       'tomatoMeter', 'tomatoRating', 'tomatoReviews', 'tomatoUserMeter',\n",
       "       'tomatoUserRating', 'tomatoUserReviews', 'tomatoFresh',\n",
       "       'tomatoRotten', 'Awards', 'Actors', 'Director', 'Writer',\n",
       "       'Production', 'Country', 'Language', 'Genre', 'Rated', 'Runtime',\n",
       "       'Plot'], dtype=object)"
      ]
     },
     "execution_count": 34,
     "metadata": {},
     "output_type": "execute_result"
    }
   ],
   "source": [
    "df.columns = [i.encode(\"utf-8\") for i in df.columns]\n",
    "df.columns.values"
   ]
  },
  {
   "cell_type": "code",
   "execution_count": 35,
   "metadata": {
    "ExecuteTime": {
     "end_time": "2016-11-06T09:53:03.259030",
     "start_time": "2016-11-06T09:53:03.250519"
    },
    "collapsed": false,
    "hidden": true
   },
   "outputs": [
    {
     "name": "stdout",
     "output_type": "stream",
     "text": [
      "30\n",
      "38\n"
     ]
    }
   ],
   "source": [
    "original_cols = df.columns.values\n",
    "cols_list = [\n",
    "    'imdbID', 'Title', \n",
    "    'BoxOffice', 'Gross', 'Opening', 'Budget', \n",
    "    'Year', 'Released', \n",
    "    'Metascore', 'imdbRating', 'imdbVotes',\n",
    "    'tomatoMeter', 'tomatoRating', 'tomatoReviews', \n",
    "    'tomatoUserMeter', 'tomatoUserRating', 'tomatoUserReviews', \n",
    "    'tomatoFresh', 'tomatoRotten',\n",
    "    'Awards', 'Actors', 'Director', 'Writer', 'Production',  \n",
    "    'Country', 'Language', 'Genre', 'Rated', 'Runtime', 'Plot', \n",
    "    'tomatoConsensus', 'tomatoImage',  'tomatoURL',\n",
    "    'Website',  'DVD',  'Poster', 'Type', 'Response']\n",
    "\n",
    "# columns to delete:\n",
    "# ['tomatoConsensus', 'tomatoImage',  'tomatoURL', 'Response',\n",
    "# 'Type', 'Poster', 'Website', 'DVD']\n",
    "\n",
    "print len(original_cols)\n",
    "print len(cols_list)"
   ]
  },
  {
   "cell_type": "code",
   "execution_count": null,
   "metadata": {
    "ExecuteTime": {
     "end_time": "2016-11-06T09:53:16.002661",
     "start_time": "2016-11-06T09:53:15.659755"
    },
    "collapsed": true,
    "hidden": true
   },
   "outputs": [],
   "source": [
    "print df['Type'].value_counts()\n",
    "print df['Response'].value_counts()"
   ]
  },
  {
   "cell_type": "code",
   "execution_count": 29,
   "metadata": {
    "ExecuteTime": {
     "end_time": "2016-11-06T09:51:40.837885",
     "start_time": "2016-11-06T09:51:40.810838"
    },
    "collapsed": false,
    "hidden": true
   },
   "outputs": [
    {
     "name": "stdout",
     "output_type": "stream",
     "text": [
      "(250, 38)\n",
      "['imdbID' 'Title' 'BoxOffice' 'Gross' 'Opening' 'Budget' 'Year' 'Released'\n",
      " 'Metascore' 'imdbRating' 'imdbVotes' 'tomatoMeter' 'tomatoRating'\n",
      " 'tomatoReviews' 'tomatoUserMeter' 'tomatoUserRating' 'tomatoUserReviews'\n",
      " 'tomatoFresh' 'tomatoRotten' 'Awards' 'Actors' 'Director' 'Writer'\n",
      " 'Production' 'Country' 'Language' 'Genre' 'Rated' 'Runtime' 'Plot'\n",
      " 'tomatoConsensus' 'tomatoImage' 'tomatoURL' 'Website' 'DVD' 'Poster'\n",
      " 'Type' 'Response']\n"
     ]
    },
    {
     "data": {
      "text/html": [
       "<div>\n",
       "<table border=\"1\" class=\"dataframe\">\n",
       "  <thead>\n",
       "    <tr style=\"text-align: right;\">\n",
       "      <th></th>\n",
       "      <th>imdbID</th>\n",
       "      <th>Title</th>\n",
       "      <th>BoxOffice</th>\n",
       "      <th>Gross</th>\n",
       "      <th>Opening</th>\n",
       "      <th>Budget</th>\n",
       "      <th>Year</th>\n",
       "      <th>Released</th>\n",
       "      <th>Metascore</th>\n",
       "      <th>imdbRating</th>\n",
       "      <th>...</th>\n",
       "      <th>Runtime</th>\n",
       "      <th>Plot</th>\n",
       "      <th>tomatoConsensus</th>\n",
       "      <th>tomatoImage</th>\n",
       "      <th>tomatoURL</th>\n",
       "      <th>Website</th>\n",
       "      <th>DVD</th>\n",
       "      <th>Poster</th>\n",
       "      <th>Type</th>\n",
       "      <th>Response</th>\n",
       "    </tr>\n",
       "  </thead>\n",
       "  <tbody>\n",
       "    <tr>\n",
       "      <th>0</th>\n",
       "      <td>tt2582802</td>\n",
       "      <td>Whiplash</td>\n",
       "      <td>N/A</td>\n",
       "      <td>13092000.0</td>\n",
       "      <td>135388.0</td>\n",
       "      <td>3300000.0</td>\n",
       "      <td>2014</td>\n",
       "      <td>15 Oct 2014</td>\n",
       "      <td>88</td>\n",
       "      <td>8.5</td>\n",
       "      <td>...</td>\n",
       "      <td>107 min</td>\n",
       "      <td>A promising young drummer enrolls at a cut-thr...</td>\n",
       "      <td>Intense, inspiring, and well-acted, Whiplash i...</td>\n",
       "      <td>certified</td>\n",
       "      <td>http://www.rottentomatoes.com/m/whiplash_2014/</td>\n",
       "      <td>http://sonyclassics.com/whiplash/</td>\n",
       "      <td>24 Feb 2015</td>\n",
       "      <td>https://images-na.ssl-images-amazon.com/images...</td>\n",
       "      <td>movie</td>\n",
       "      <td>True</td>\n",
       "    </tr>\n",
       "  </tbody>\n",
       "</table>\n",
       "<p>1 rows × 38 columns</p>\n",
       "</div>"
      ],
      "text/plain": [
       "      imdbID     Title BoxOffice       Gross   Opening     Budget  Year  \\\n",
       "0  tt2582802  Whiplash       N/A  13092000.0  135388.0  3300000.0  2014   \n",
       "\n",
       "      Released Metascore imdbRating   ...     Runtime  \\\n",
       "0  15 Oct 2014        88        8.5   ...     107 min   \n",
       "\n",
       "                                                Plot  \\\n",
       "0  A promising young drummer enrolls at a cut-thr...   \n",
       "\n",
       "                                     tomatoConsensus tomatoImage  \\\n",
       "0  Intense, inspiring, and well-acted, Whiplash i...   certified   \n",
       "\n",
       "                                        tomatoURL  \\\n",
       "0  http://www.rottentomatoes.com/m/whiplash_2014/   \n",
       "\n",
       "                             Website          DVD  \\\n",
       "0  http://sonyclassics.com/whiplash/  24 Feb 2015   \n",
       "\n",
       "                                              Poster   Type Response  \n",
       "0  https://images-na.ssl-images-amazon.com/images...  movie     True  \n",
       "\n",
       "[1 rows x 38 columns]"
      ]
     },
     "execution_count": 29,
     "metadata": {},
     "output_type": "execute_result"
    }
   ],
   "source": [
    "# Reindex column order\n",
    "df = df.reindex(columns=cols_list)\n",
    "print df.shape\n",
    "print df.columns.values\n",
    "df.head(1)"
   ]
  },
  {
   "cell_type": "code",
   "execution_count": 30,
   "metadata": {
    "ExecuteTime": {
     "end_time": "2016-11-06T09:51:55.540198",
     "start_time": "2016-11-06T09:51:55.536820"
    },
    "collapsed": true,
    "hidden": true
   },
   "outputs": [],
   "source": [
    "cols_to_delete = ['tomatoConsensus', 'tomatoImage',  'tomatoURL', 'Response',\n",
    "                  'Type', 'Poster', 'Website', 'DVD']"
   ]
  },
  {
   "cell_type": "code",
   "execution_count": 31,
   "metadata": {
    "ExecuteTime": {
     "end_time": "2016-11-06T09:51:58.522493",
     "start_time": "2016-11-06T09:51:58.485167"
    },
    "collapsed": false,
    "hidden": true
   },
   "outputs": [
    {
     "name": "stdout",
     "output_type": "stream",
     "text": [
      "(250, 30)\n"
     ]
    },
    {
     "data": {
      "text/html": [
       "<div>\n",
       "<table border=\"1\" class=\"dataframe\">\n",
       "  <thead>\n",
       "    <tr style=\"text-align: right;\">\n",
       "      <th></th>\n",
       "      <th>imdbID</th>\n",
       "      <th>Title</th>\n",
       "      <th>BoxOffice</th>\n",
       "      <th>Gross</th>\n",
       "      <th>Opening</th>\n",
       "      <th>Budget</th>\n",
       "      <th>Year</th>\n",
       "      <th>Released</th>\n",
       "      <th>Metascore</th>\n",
       "      <th>imdbRating</th>\n",
       "      <th>...</th>\n",
       "      <th>Actors</th>\n",
       "      <th>Director</th>\n",
       "      <th>Writer</th>\n",
       "      <th>Production</th>\n",
       "      <th>Country</th>\n",
       "      <th>Language</th>\n",
       "      <th>Genre</th>\n",
       "      <th>Rated</th>\n",
       "      <th>Runtime</th>\n",
       "      <th>Plot</th>\n",
       "    </tr>\n",
       "  </thead>\n",
       "  <tbody>\n",
       "    <tr>\n",
       "      <th>0</th>\n",
       "      <td>tt2582802</td>\n",
       "      <td>Whiplash</td>\n",
       "      <td>N/A</td>\n",
       "      <td>13092000.0</td>\n",
       "      <td>135388.0</td>\n",
       "      <td>3300000.0</td>\n",
       "      <td>2014</td>\n",
       "      <td>15 Oct 2014</td>\n",
       "      <td>88</td>\n",
       "      <td>8.5</td>\n",
       "      <td>...</td>\n",
       "      <td>Miles Teller, J.K. Simmons, Paul Reiser, Melis...</td>\n",
       "      <td>Damien Chazelle</td>\n",
       "      <td>Damien Chazelle</td>\n",
       "      <td>Sony Pictures Classics</td>\n",
       "      <td>USA</td>\n",
       "      <td>English</td>\n",
       "      <td>Drama, Music</td>\n",
       "      <td>R</td>\n",
       "      <td>107 min</td>\n",
       "      <td>A promising young drummer enrolls at a cut-thr...</td>\n",
       "    </tr>\n",
       "    <tr>\n",
       "      <th>1</th>\n",
       "      <td>tt0047478</td>\n",
       "      <td>Seven Samurai</td>\n",
       "      <td>N/A</td>\n",
       "      <td>269061.0</td>\n",
       "      <td>21830.0</td>\n",
       "      <td>2000000.0</td>\n",
       "      <td>1954</td>\n",
       "      <td>19 Nov 1956</td>\n",
       "      <td>98</td>\n",
       "      <td>8.7</td>\n",
       "      <td>...</td>\n",
       "      <td>Toshirô Mifune, Takashi Shimura, Keiko Tsushim...</td>\n",
       "      <td>Akira Kurosawa</td>\n",
       "      <td>Akira Kurosawa (screenplay), Shinobu Hashimoto...</td>\n",
       "      <td>Columbia Pictures</td>\n",
       "      <td>Japan</td>\n",
       "      <td>Japanese</td>\n",
       "      <td>Action, Adventure, Drama</td>\n",
       "      <td>UNRATED</td>\n",
       "      <td>207 min</td>\n",
       "      <td>A veteran samurai, who has fallen on hard time...</td>\n",
       "    </tr>\n",
       "  </tbody>\n",
       "</table>\n",
       "<p>2 rows × 30 columns</p>\n",
       "</div>"
      ],
      "text/plain": [
       "      imdbID          Title BoxOffice       Gross   Opening     Budget  Year  \\\n",
       "0  tt2582802       Whiplash       N/A  13092000.0  135388.0  3300000.0  2014   \n",
       "1  tt0047478  Seven Samurai       N/A    269061.0   21830.0  2000000.0  1954   \n",
       "\n",
       "      Released Metascore imdbRating  \\\n",
       "0  15 Oct 2014        88        8.5   \n",
       "1  19 Nov 1956        98        8.7   \n",
       "\n",
       "                         ...                          \\\n",
       "0                        ...                           \n",
       "1                        ...                           \n",
       "\n",
       "                                              Actors         Director  \\\n",
       "0  Miles Teller, J.K. Simmons, Paul Reiser, Melis...  Damien Chazelle   \n",
       "1  Toshirô Mifune, Takashi Shimura, Keiko Tsushim...   Akira Kurosawa   \n",
       "\n",
       "                                              Writer              Production  \\\n",
       "0                                    Damien Chazelle  Sony Pictures Classics   \n",
       "1  Akira Kurosawa (screenplay), Shinobu Hashimoto...       Columbia Pictures   \n",
       "\n",
       "  Country  Language                     Genre    Rated  Runtime  \\\n",
       "0     USA   English              Drama, Music        R  107 min   \n",
       "1   Japan  Japanese  Action, Adventure, Drama  UNRATED  207 min   \n",
       "\n",
       "                                                Plot  \n",
       "0  A promising young drummer enrolls at a cut-thr...  \n",
       "1  A veteran samurai, who has fallen on hard time...  \n",
       "\n",
       "[2 rows x 30 columns]"
      ]
     },
     "execution_count": 31,
     "metadata": {},
     "output_type": "execute_result"
    }
   ],
   "source": [
    "# Create final master df with only 30 columns\n",
    "df = df[['imdbID', 'Title', \n",
    "    'BoxOffice', 'Gross', 'Opening', 'Budget', \n",
    "    'Year', 'Released', \n",
    "    'Metascore', 'imdbRating', 'imdbVotes',\n",
    "    'tomatoMeter', 'tomatoRating', 'tomatoReviews', \n",
    "    'tomatoUserMeter', 'tomatoUserRating', 'tomatoUserReviews', \n",
    "    'tomatoFresh', 'tomatoRotten',\n",
    "    'Awards', 'Actors', 'Director', 'Writer', 'Production',  \n",
    "    'Country', 'Language', 'Genre', 'Rated', 'Runtime', 'Plot']]\n",
    "\n",
    "print df.shape\n",
    "df.head(2)"
   ]
  },
  {
   "cell_type": "code",
   "execution_count": 32,
   "metadata": {
    "ExecuteTime": {
     "end_time": "2016-11-06T09:52:39.914878",
     "start_time": "2016-11-06T09:52:39.911019"
    },
    "collapsed": false,
    "hidden": true
   },
   "outputs": [],
   "source": [
    "#######################\n",
    "#######################\n",
    "\n",
    "# Copy of merged df with columns cleaned\n",
    "#dfc2 = df.copy()\n",
    "\n",
    "#######################\n",
    "#######################"
   ]
  },
  {
   "cell_type": "code",
   "execution_count": 33,
   "metadata": {
    "ExecuteTime": {
     "end_time": "2016-11-06T09:52:43.052685",
     "start_time": "2016-11-06T09:52:43.000385"
    },
    "collapsed": true,
    "hidden": true
   },
   "outputs": [],
   "source": [
    "#df.to_csv('film_df_v6_2.csv', sep=',', encoding='utf-8')"
   ]
  },
  {
   "cell_type": "markdown",
   "metadata": {},
   "source": [
    "## Data Cleaning / Munging"
   ]
  },
  {
   "cell_type": "markdown",
   "metadata": {
    "heading_collapsed": true
   },
   "source": [
    "### Converting dtypes"
   ]
  },
  {
   "cell_type": "code",
   "execution_count": 37,
   "metadata": {
    "ExecuteTime": {
     "end_time": "2016-11-06T09:54:01.621570",
     "start_time": "2016-11-06T09:54:01.584912"
    },
    "collapsed": false,
    "hidden": true
   },
   "outputs": [
    {
     "name": "stdout",
     "output_type": "stream",
     "text": [
      "<class 'pandas.core.frame.DataFrame'>\n",
      "Int64Index: 250 entries, 0 to 249\n",
      "Data columns (total 30 columns):\n",
      "imdbID               250 non-null object\n",
      "Title                250 non-null object\n",
      "BoxOffice            250 non-null object\n",
      "Gross                183 non-null float64\n",
      "Opening              118 non-null float64\n",
      "Budget               213 non-null float64\n",
      "Year                 250 non-null object\n",
      "Released             250 non-null object\n",
      "Metascore            250 non-null object\n",
      "imdbRating           250 non-null object\n",
      "imdbVotes            250 non-null object\n",
      "tomatoMeter          250 non-null object\n",
      "tomatoRating         250 non-null object\n",
      "tomatoReviews        250 non-null object\n",
      "tomatoUserMeter      250 non-null object\n",
      "tomatoUserRating     250 non-null object\n",
      "tomatoUserReviews    250 non-null object\n",
      "tomatoFresh          250 non-null object\n",
      "tomatoRotten         250 non-null object\n",
      "Awards               250 non-null object\n",
      "Actors               250 non-null object\n",
      "Director             250 non-null object\n",
      "Writer               250 non-null object\n",
      "Production           250 non-null object\n",
      "Country              250 non-null object\n",
      "Language             250 non-null object\n",
      "Genre                250 non-null object\n",
      "Rated                250 non-null object\n",
      "Runtime              250 non-null object\n",
      "Plot                 250 non-null object\n",
      "dtypes: float64(3), object(27)\n",
      "memory usage: 60.5+ KB\n"
     ]
    }
   ],
   "source": [
    "df.info()"
   ]
  },
  {
   "cell_type": "markdown",
   "metadata": {
    "heading_collapsed": true
   },
   "source": [
    "### Convert numeric dtypes (floats and int)"
   ]
  },
  {
   "cell_type": "code",
   "execution_count": 411,
   "metadata": {
    "ExecuteTime": {
     "end_time": "2016-11-06T13:01:08.074081",
     "start_time": "2016-11-06T13:01:08.069362"
    },
    "collapsed": false,
    "hidden": true
   },
   "outputs": [],
   "source": [
    "# Convert Metascore to float with np.nan for N/A\n",
    "df['Metascore'] = df['Metascore'].apply(lambda x: np.nan if x == 'N/A' else x)\n",
    "df['Metascore'] = df['Metascore'].astype(float)"
   ]
  },
  {
   "cell_type": "code",
   "execution_count": 412,
   "metadata": {
    "ExecuteTime": {
     "end_time": "2016-11-06T13:01:08.589749",
     "start_time": "2016-11-06T13:01:08.586139"
    },
    "collapsed": false,
    "hidden": true
   },
   "outputs": [],
   "source": [
    "# Convert imdbRating to float\n",
    "df['imdbRating'] = df['imdbRating'].astype(float)"
   ]
  },
  {
   "cell_type": "code",
   "execution_count": 413,
   "metadata": {
    "ExecuteTime": {
     "end_time": "2016-11-06T13:01:08.996955",
     "start_time": "2016-11-06T13:01:08.992818"
    },
    "collapsed": true,
    "hidden": true
   },
   "outputs": [],
   "source": [
    "# Convert imdbVotes to int\n",
    "df['imdbVotes'] = df['imdbVotes'].apply(lambda x: x.replace(',', ''))\n",
    "df['imdbVotes'] = df['imdbVotes'].astype(int)"
   ]
  },
  {
   "cell_type": "code",
   "execution_count": null,
   "metadata": {
    "ExecuteTime": {
     "end_time": "2016-11-06T13:01:09.709868",
     "start_time": "2016-11-06T13:01:09.690031"
    },
    "collapsed": true,
    "hidden": true
   },
   "outputs": [],
   "source": [
    "# Convert all tomato columns to int\n",
    "tomato_list = ['tomatoMeter', 'tomatoReviews', 'tomatoUserMeter', 'tomatoUserReviews',\n",
    "           'tomatoFresh', 'tomatoRotten', 'tomatoRating', 'tomatoUserRating']\n",
    "\n",
    "def convert_num(some_list):\n",
    "    for i in some_list:\n",
    "        df[i] = df[i].apply(lambda x: np.nan if x == 'N/A' else x)\n",
    "        df[i] = df[i].astype(float)\n",
    "    return df[i]\n",
    "\n",
    "convert_num(tomato_list)"
   ]
  },
  {
   "cell_type": "markdown",
   "metadata": {
    "heading_collapsed": true
   },
   "source": [
    "### Unused tomato convert cells"
   ]
  },
  {
   "cell_type": "code",
   "execution_count": null,
   "metadata": {
    "collapsed": true,
    "hidden": true
   },
   "outputs": [],
   "source": [
    "# Convert tomatoRating to float"
   ]
  },
  {
   "cell_type": "code",
   "execution_count": null,
   "metadata": {
    "collapsed": true,
    "hidden": true
   },
   "outputs": [],
   "source": [
    "# Convert tomatoReviews to int"
   ]
  },
  {
   "cell_type": "code",
   "execution_count": null,
   "metadata": {
    "collapsed": true,
    "hidden": true
   },
   "outputs": [],
   "source": [
    "# Convert tomatoUserMeter to int"
   ]
  },
  {
   "cell_type": "code",
   "execution_count": null,
   "metadata": {
    "collapsed": true,
    "hidden": true
   },
   "outputs": [],
   "source": [
    "# Convert tomatoUserRating to float"
   ]
  },
  {
   "cell_type": "code",
   "execution_count": null,
   "metadata": {
    "collapsed": true,
    "hidden": true
   },
   "outputs": [],
   "source": [
    "# Convert tomatoUserReviews to int"
   ]
  },
  {
   "cell_type": "code",
   "execution_count": null,
   "metadata": {
    "collapsed": true,
    "hidden": true
   },
   "outputs": [],
   "source": [
    "# Convert tomatoFresh to int"
   ]
  },
  {
   "cell_type": "code",
   "execution_count": null,
   "metadata": {
    "collapsed": true,
    "hidden": true
   },
   "outputs": [],
   "source": [
    "# Convert tomatoRotten to int"
   ]
  },
  {
   "cell_type": "code",
   "execution_count": null,
   "metadata": {
    "collapsed": true,
    "hidden": true
   },
   "outputs": [],
   "source": [
    "# Convert"
   ]
  },
  {
   "cell_type": "markdown",
   "metadata": {
    "heading_collapsed": true
   },
   "source": [
    "### Convert datetime-related columns (Year, Released and Runtime)"
   ]
  },
  {
   "cell_type": "code",
   "execution_count": 415,
   "metadata": {
    "ExecuteTime": {
     "end_time": "2016-11-06T13:01:18.895349",
     "start_time": "2016-11-06T13:01:18.891267"
    },
    "collapsed": true,
    "hidden": true
   },
   "outputs": [],
   "source": [
    "# Convert Year to int\n",
    "df['Year'] = df['Year'].astype(int)"
   ]
  },
  {
   "cell_type": "code",
   "execution_count": 416,
   "metadata": {
    "ExecuteTime": {
     "end_time": "2016-11-06T13:01:19.240946",
     "start_time": "2016-11-06T13:01:19.231648"
    },
    "collapsed": false,
    "hidden": true
   },
   "outputs": [
    {
     "data": {
      "text/plain": [
       "0   2014-10-15\n",
       "1   1956-11-19\n",
       "2   1981-06-12\n",
       "Name: Release, dtype: datetime64[ns]"
      ]
     },
     "execution_count": 416,
     "metadata": {},
     "output_type": "execute_result"
    }
   ],
   "source": [
    "# Convert Release to datetime\n",
    "\n",
    "# Only N/A value is Charlie Chaplin's The Gold Rush\n",
    "df['Release'] = ['1925-06-25' if i=='N/A' else datetime.strptime(i, '%d %b %Y') \\\n",
    "                 for i in df['Released']]\n",
    "df['Release'].head(3)"
   ]
  },
  {
   "cell_type": "code",
   "execution_count": 417,
   "metadata": {
    "ExecuteTime": {
     "end_time": "2016-11-06T13:01:19.559354",
     "start_time": "2016-11-06T13:01:19.555197"
    },
    "collapsed": false,
    "hidden": true
   },
   "outputs": [],
   "source": [
    "# Extract month from release date\n",
    "df['Month'] = [x[3:6] for x in df['Released']]"
   ]
  },
  {
   "cell_type": "code",
   "execution_count": 418,
   "metadata": {
    "ExecuteTime": {
     "end_time": "2016-11-06T13:01:20.266226",
     "start_time": "2016-11-06T13:01:20.253443"
    },
    "code_folding": [
     0
    ],
    "collapsed": false,
    "hidden": true
   },
   "outputs": [
    {
     "data": {
      "text/plain": [
       "Winter     82\n",
       "Fall       60\n",
       "Summer     58\n",
       "Holiday    50\n",
       "Name: Season, dtype: int64"
      ]
     },
     "execution_count": 418,
     "metadata": {},
     "output_type": "execute_result"
    }
   ],
   "source": [
    "# Create new season bins for release dates\n",
    "\n",
    "# Only missing value is Charlie Chaplin's The Gold Rush\n",
    "winter = ['Jan', 'Feb', 'Mar', 'Apr']\n",
    "summer = ['May', 'Jun', 'Jul']\n",
    "fall = ['Aug', 'Sep', 'Oct']\n",
    "holiday = ['Nov', 'Dec']\n",
    "\n",
    "def bin_months(i):\n",
    "    if i in winter:\n",
    "        i = 'Winter'\n",
    "    elif i in summer:\n",
    "        i = 'Summer'\n",
    "    elif i in fall:\n",
    "        i = 'Fall'\n",
    "    elif i in holiday:\n",
    "        i = 'Holiday'\n",
    "    else:\n",
    "        i = 'Summer'\n",
    "    return i\n",
    "\n",
    "df['Season'] = [bin_months(x) for x in df['Month']]\n",
    "df['Season'].value_counts()"
   ]
  },
  {
   "cell_type": "code",
   "execution_count": 419,
   "metadata": {
    "ExecuteTime": {
     "end_time": "2016-11-06T13:01:21.340544",
     "start_time": "2016-11-06T13:01:21.333171"
    },
    "collapsed": false,
    "hidden": true
   },
   "outputs": [
    {
     "data": {
      "text/plain": [
       "0    107\n",
       "1    207\n",
       "Name: Runtime, dtype: int64"
      ]
     },
     "execution_count": 419,
     "metadata": {},
     "output_type": "execute_result"
    }
   ],
   "source": [
    "# Convert Runtime to int\n",
    "def runtime_int(x):\n",
    "    return int(x.replace(' min', ''))\n",
    "\n",
    "df['Runtime'] = df['Runtime'].apply(runtime_int)\n",
    "df['Runtime'].head(2)"
   ]
  },
  {
   "cell_type": "markdown",
   "metadata": {
    "heading_collapsed": true
   },
   "source": [
    "### Clean up Awards, Rating and Genres"
   ]
  },
  {
   "cell_type": "code",
   "execution_count": 420,
   "metadata": {
    "ExecuteTime": {
     "end_time": "2016-11-06T13:01:27.775847",
     "start_time": "2016-11-06T13:01:27.770203"
    },
    "collapsed": false,
    "hidden": true
   },
   "outputs": [
    {
     "data": {
      "text/plain": [
       "0     Won 3 Oscars. Another 87 wins & 131 nominations.\n",
       "1    Nominated for 2 Oscars. Another 5 wins & 6 nom...\n",
       "2      Won 4 Oscars. Another 30 wins & 23 nominations.\n",
       "3       Won 7 Oscars. Another 23 wins & 7 nominations.\n",
       "4                            14 wins & 15 nominations.\n",
       "Name: Awards, dtype: object"
      ]
     },
     "execution_count": 420,
     "metadata": {},
     "output_type": "execute_result"
    }
   ],
   "source": [
    "df['Awards'].head()"
   ]
  },
  {
   "cell_type": "code",
   "execution_count": 421,
   "metadata": {
    "ExecuteTime": {
     "end_time": "2016-11-06T13:01:28.267013",
     "start_time": "2016-11-06T13:01:28.254334"
    },
    "collapsed": false,
    "hidden": true
   },
   "outputs": [
    {
     "data": {
      "text/plain": [
       "0    3\n",
       "1    0\n",
       "2    4\n",
       "Name: Oscars_Won, dtype: int64"
      ]
     },
     "execution_count": 421,
     "metadata": {},
     "output_type": "execute_result"
    }
   ],
   "source": [
    "# Make Oscars_Won column with number of Oscars won\n",
    "def oscar_winners(x):\n",
    "    try:\n",
    "        oscar_winner = re.findall(r'([^.]*?Oscar[^.]*\\.)',x)[0].split()\n",
    "        if type(oscar_winner[0]) == int:\n",
    "            return int(oscar_winner[0])\n",
    "        elif oscar_winner[0] == 'Won':\n",
    "            return int(oscar_winner[1])\n",
    "        else:\n",
    "            return 0\n",
    "    except:\n",
    "        return 0\n",
    "    \n",
    "df['Oscars_Won'] = df['Awards'].apply(oscar_winners)\n",
    "df['Oscars_Won'].head(3)"
   ]
  },
  {
   "cell_type": "code",
   "execution_count": 422,
   "metadata": {
    "ExecuteTime": {
     "end_time": "2016-11-06T13:01:28.801058",
     "start_time": "2016-11-06T13:01:28.791757"
    },
    "collapsed": false,
    "hidden": true
   },
   "outputs": [
    {
     "data": {
      "text/plain": [
       "0    179\n",
       "1     28\n",
       "2     12\n",
       "4      9\n",
       "3      8\n",
       "5      6\n",
       "7      4\n",
       "6      3\n",
       "8      1\n",
       "Name: Oscar_Noms, dtype: int64"
      ]
     },
     "execution_count": 422,
     "metadata": {},
     "output_type": "execute_result"
    }
   ],
   "source": [
    "# Make Oscar_Noms columns\n",
    "def oscar_noms(x):\n",
    "    try:\n",
    "        oscar_noms = re.findall('Nominated\\sfor\\s(\\d)\\sOscar',x)[0]\n",
    "        return int(oscar_noms)\n",
    "    except:\n",
    "        return 0\n",
    "\n",
    "df['Oscar_Noms'] = df['Awards'].apply(oscar_noms)\n",
    "df['Oscar_Noms'].value_counts()"
   ]
  },
  {
   "cell_type": "code",
   "execution_count": 423,
   "metadata": {
    "ExecuteTime": {
     "end_time": "2016-11-06T13:01:29.543853",
     "start_time": "2016-11-06T13:01:29.534466"
    },
    "collapsed": false,
    "hidden": true
   },
   "outputs": [
    {
     "data": {
      "text/plain": [
       "0    87\n",
       "1     5\n",
       "2    30\n",
       "Name: Awards_Won, dtype: int64"
      ]
     },
     "execution_count": 423,
     "metadata": {},
     "output_type": "execute_result"
    }
   ],
   "source": [
    "# Make Awards_Won column with sum of other awards won\n",
    "def awards_won(x):\n",
    "    try:\n",
    "        awards_won = re.findall('Another\\s(\\d+)\\swins', x)[0]\n",
    "        return int(awards_won)\n",
    "    except:\n",
    "        return 0\n",
    "\n",
    "df['Awards_Won'] = df['Awards'].apply(awards_won)\n",
    "df['Awards_Won'].head(3)"
   ]
  },
  {
   "cell_type": "code",
   "execution_count": 424,
   "metadata": {
    "ExecuteTime": {
     "end_time": "2016-11-06T13:01:30.420610",
     "start_time": "2016-11-06T13:01:30.411796"
    },
    "collapsed": false,
    "hidden": true
   },
   "outputs": [
    {
     "data": {
      "text/plain": [
       "0    131\n",
       "1      6\n",
       "2     23\n",
       "Name: Other_Noms, dtype: int64"
      ]
     },
     "execution_count": 424,
     "metadata": {},
     "output_type": "execute_result"
    }
   ],
   "source": [
    "# Make Other_Noms column with sum of other nominations\n",
    "def other_noms(x):\n",
    "    try:\n",
    "        other_noms = re.findall('(\\d+)\\snomination', x)[0]\n",
    "        return int(other_noms)\n",
    "    except:\n",
    "        return 0\n",
    "\n",
    "df['Other_Noms'] = df['Awards'].apply(other_noms)\n",
    "df['Other_Noms'].head(3)"
   ]
  },
  {
   "cell_type": "code",
   "execution_count": 425,
   "metadata": {
    "ExecuteTime": {
     "end_time": "2016-11-06T13:01:31.074821",
     "start_time": "2016-11-06T13:01:31.064580"
    },
    "collapsed": false,
    "hidden": true
   },
   "outputs": [
    {
     "name": "stdout",
     "output_type": "stream",
     "text": [
      "R            106\n",
      "PG            38\n",
      "PG-13         32\n",
      "NOT RATED     26\n",
      "APPROVED      19\n",
      "G             12\n",
      "UNRATED        9\n",
      "PASSED         5\n",
      "N/A            2\n",
      "M              1\n",
      "Name: Rated, dtype: int64\n"
     ]
    },
    {
     "data": {
      "text/plain": [
       "R        106\n",
       "OTHER     62\n",
       "PG        38\n",
       "PG-13     32\n",
       "G         12\n",
       "Name: Rated, dtype: int64"
      ]
     },
     "execution_count": 425,
     "metadata": {},
     "output_type": "execute_result"
    }
   ],
   "source": [
    "# Clean up Rating column\n",
    "print df['Rated'].value_counts()\n",
    "rated_other = ['NOT RATED', 'APPROVED', 'UNRATED', 'PASSED', 'N/A', 'M']\n",
    "\n",
    "df['Rated'] = df['Rated'].apply(lambda x: x if x not in rated_other else 'OTHER')\n",
    "df['Rated'].value_counts()"
   ]
  },
  {
   "cell_type": "code",
   "execution_count": 426,
   "metadata": {
    "ExecuteTime": {
     "end_time": "2016-11-06T13:01:34.120349",
     "start_time": "2016-11-06T13:01:34.112949"
    },
    "collapsed": false,
    "hidden": true
   },
   "outputs": [
    {
     "data": {
      "text/plain": [
       "Drama        69\n",
       "Crime        39\n",
       "Action       34\n",
       "Adventure    28\n",
       "Comedy       26\n",
       "Biography    21\n",
       "Animation    19\n",
       "Mystery       5\n",
       "Horror        3\n",
       "Western       3\n",
       "Film-Noir     2\n",
       "Sci-Fi        1\n",
       "Name: Genre_1, dtype: int64"
      ]
     },
     "execution_count": 426,
     "metadata": {},
     "output_type": "execute_result"
    }
   ],
   "source": [
    "# Clean up Genre column\n",
    "df['Genre_1'] = df['Genre'].apply(lambda x: x.split(',')[0])\n",
    "df['Genre_1'].value_counts()"
   ]
  },
  {
   "cell_type": "code",
   "execution_count": 427,
   "metadata": {
    "ExecuteTime": {
     "end_time": "2016-11-06T13:01:38.334446",
     "start_time": "2016-11-06T13:01:38.321808"
    },
    "collapsed": false,
    "hidden": true
   },
   "outputs": [
    {
     "name": "stdout",
     "output_type": "stream",
     "text": [
      "<class 'pandas.core.frame.DataFrame'>\n",
      "Int64Index: 250 entries, 0 to 249\n",
      "Data columns (total 38 columns):\n",
      "imdbID               250 non-null object\n",
      "Title                250 non-null object\n",
      "BoxOffice            250 non-null object\n",
      "Gross                183 non-null float64\n",
      "Opening              118 non-null float64\n",
      "Budget               213 non-null float64\n",
      "Year                 250 non-null int64\n",
      "Released             250 non-null object\n",
      "Metascore            167 non-null float64\n",
      "imdbRating           250 non-null float64\n",
      "imdbVotes            250 non-null int64\n",
      "tomatoMeter          243 non-null float64\n",
      "tomatoRating         243 non-null float64\n",
      "tomatoReviews        243 non-null float64\n",
      "tomatoUserMeter      247 non-null float64\n",
      "tomatoUserRating     247 non-null float64\n",
      "tomatoUserReviews    249 non-null float64\n",
      "tomatoFresh          243 non-null float64\n",
      "tomatoRotten         243 non-null float64\n",
      "Awards               250 non-null object\n",
      "Actors               250 non-null object\n",
      "Director             250 non-null object\n",
      "Writer               250 non-null object\n",
      "Production           250 non-null object\n",
      "Country              250 non-null object\n",
      "Language             250 non-null object\n",
      "Genre                250 non-null object\n",
      "Rated                250 non-null object\n",
      "Runtime              250 non-null int64\n",
      "Plot                 250 non-null object\n",
      "Release              250 non-null datetime64[ns]\n",
      "Month                250 non-null object\n",
      "Season               250 non-null object\n",
      "Oscars_Won           250 non-null int64\n",
      "Oscar_Noms           250 non-null int64\n",
      "Awards_Won           250 non-null int64\n",
      "Other_Noms           250 non-null int64\n",
      "Genre_1              250 non-null object\n",
      "dtypes: datetime64[ns](1), float64(13), int64(7), object(17)\n",
      "memory usage: 76.2+ KB\n"
     ]
    }
   ],
   "source": [
    "df.info()"
   ]
  },
  {
   "cell_type": "code",
   "execution_count": 428,
   "metadata": {
    "ExecuteTime": {
     "end_time": "2016-11-06T13:01:51.904577",
     "start_time": "2016-11-06T13:01:51.901218"
    },
    "collapsed": true,
    "hidden": true
   },
   "outputs": [],
   "source": [
    "#######################\n",
    "#######################\n",
    "\n",
    "# Copy of cleaned df\n",
    "#dfc3 = df.copy()\n",
    "\n",
    "#######################\n",
    "#######################"
   ]
  },
  {
   "cell_type": "markdown",
   "metadata": {
    "heading_collapsed": true
   },
   "source": [
    "### Convert all dtype object columns to strings"
   ]
  },
  {
   "cell_type": "code",
   "execution_count": 333,
   "metadata": {
    "ExecuteTime": {
     "end_time": "2016-11-03T17:00:37.616956",
     "start_time": "2016-11-03T17:00:37.587421"
    },
    "collapsed": false,
    "hidden": true
   },
   "outputs": [
    {
     "data": {
      "text/plain": [
       "'0      tt2582802\\n1      tt0047478\\n2      tt0082971\\n3      tt0050212\\n4      tt0848228\\n5      tt1663202\\n6      tt0338564\\n7      tt0046268\\n8      tt0055630\\n9      tt0266543\\n10     tt0042192\\n11     tt0198781\\n12     tt1979320\\n13     tt0405159\\n14     tt0057115\\n15     tt0253474\\n16     tt0071315\\n17     tt0114746\\n18     tt0363163\\n19     tt0119217\\n20     tt1865505\\n21     tt0074896\\n22     tt1895587\\n23     tt0347149\\n24     tt0021749\\n25     tt0119488\\n26     tt1187043\\n27     tt0053125\\n28     tt0268978\\n29     tt0112471\\n         ...    \\n220    tt0043014\\n221    tt0079944\\n222    tt0093058\\n223    tt0053604\\n224    tt0109830\\n225    tt0118799\\n226    tt0073195\\n227    tt0169547\\n228    tt1392214\\n229    tt0051201\\n230    tt0075686\\n231    tt0032976\\n232    tt1375666\\n233    tt0059578\\n234    tt0072890\\n235    tt0076759\\n236    tt0103064\\n237    tt0056801\\n238    tt0395169\\n239    tt0031381\\n240    tt0477348\\n241    tt0047296\\n242    tt1028532\\n243    tt0120815\\n244    tt0086250\\n245    tt0073486\\n246    tt0209144\\n247    tt0208092\\n248    tt0089881\\n249    tt0075314\\nName: imdbID, dtype: object'"
      ]
     },
     "execution_count": 333,
     "metadata": {},
     "output_type": "execute_result"
    }
   ],
   "source": [
    "#####################\n",
    "#####################\n",
    "# DO NOT RUN!!!\n",
    "objects = [x for x in df.columns if df[x].dtype == 'object']\n",
    "def objects_to_string(x):\n",
    "    return str(x)\n",
    "\n",
    "def df_to_string():\n",
    "    for i in objects:\n",
    "        return objects_to_string(df[i])\n",
    "\n",
    "df_to_string()"
   ]
  },
  {
   "cell_type": "markdown",
   "metadata": {
    "heading_collapsed": true
   },
   "source": [
    "### Fill in missing values"
   ]
  },
  {
   "cell_type": "code",
   "execution_count": 529,
   "metadata": {
    "ExecuteTime": {
     "end_time": "2016-11-06T13:45:54.128866",
     "start_time": "2016-11-06T13:45:54.121734"
    },
    "collapsed": false,
    "hidden": true
   },
   "outputs": [
    {
     "data": {
      "text/plain": [
       "imdbID                 0\n",
       "Title                  0\n",
       "BoxOffice              0\n",
       "Gross                 67\n",
       "Opening              132\n",
       "Budget                37\n",
       "Year                   0\n",
       "Released               0\n",
       "Metascore             83\n",
       "imdbRating             0\n",
       "imdbVotes              0\n",
       "tomatoMeter            7\n",
       "tomatoRating           7\n",
       "tomatoReviews          7\n",
       "tomatoUserMeter        3\n",
       "tomatoUserRating       3\n",
       "tomatoUserReviews      1\n",
       "tomatoFresh            7\n",
       "tomatoRotten           7\n",
       "Awards                 0\n",
       "Actors                 0\n",
       "Director               0\n",
       "Writer                 0\n",
       "Production             0\n",
       "Country                0\n",
       "Language               0\n",
       "Genre                  0\n",
       "Rated                  0\n",
       "Runtime                0\n",
       "Plot                   0\n",
       "Release                0\n",
       "Month                  0\n",
       "Season                 0\n",
       "Oscars_Won             0\n",
       "Oscar_Noms             0\n",
       "Awards_Won             0\n",
       "Other_Noms             0\n",
       "Genre_1                0\n",
       "dtype: int64"
      ]
     },
     "execution_count": 529,
     "metadata": {},
     "output_type": "execute_result"
    }
   ],
   "source": [
    "df.isnull().sum()"
   ]
  },
  {
   "cell_type": "code",
   "execution_count": 530,
   "metadata": {
    "ExecuteTime": {
     "end_time": "2016-11-06T13:45:58.828801",
     "start_time": "2016-11-06T13:45:58.823776"
    },
    "collapsed": true,
    "hidden": true
   },
   "outputs": [],
   "source": [
    "# Drop columns with a large proportion of missing values \n",
    "# (columns whose values are difficult to impute)\n",
    "# Also drop Language column as most\n",
    "cols_to_drop2 = ['Metascore', 'Opening', 'Budget', 'Language']\n",
    "df.drop(['Metascore', 'Opening', 'Budget', 'Language'], axis=1, inplace=True)"
   ]
  },
  {
   "cell_type": "code",
   "execution_count": 531,
   "metadata": {
    "ExecuteTime": {
     "end_time": "2016-11-06T13:46:00.505701",
     "start_time": "2016-11-06T13:46:00.489378"
    },
    "collapsed": false,
    "hidden": true
   },
   "outputs": [
    {
     "data": {
      "text/plain": [
       "imdbID                0\n",
       "Title                 0\n",
       "BoxOffice             0\n",
       "Gross                67\n",
       "Year                  0\n",
       "Released              0\n",
       "imdbRating            0\n",
       "imdbVotes             0\n",
       "tomatoMeter           0\n",
       "tomatoRating          0\n",
       "tomatoReviews         0\n",
       "tomatoUserMeter       0\n",
       "tomatoUserRating      0\n",
       "tomatoUserReviews     0\n",
       "tomatoFresh           0\n",
       "tomatoRotten          0\n",
       "Awards                0\n",
       "Actors                0\n",
       "Director              0\n",
       "Writer                0\n",
       "Production            0\n",
       "Country               0\n",
       "Genre                 0\n",
       "Rated                 0\n",
       "Runtime               0\n",
       "Plot                  0\n",
       "Release               0\n",
       "Month                 0\n",
       "Season                0\n",
       "Oscars_Won            0\n",
       "Oscar_Noms            0\n",
       "Awards_Won            0\n",
       "Other_Noms            0\n",
       "Genre_1               0\n",
       "dtype: int64"
      ]
     },
     "execution_count": 531,
     "metadata": {},
     "output_type": "execute_result"
    }
   ],
   "source": [
    "# For columns with small number of missing values, fill missing values\n",
    "# with median column values\n",
    "\n",
    "df['tomatoMeter'].fillna((df['tomatoMeter'].median()), inplace=True)\n",
    "df['tomatoRating'].fillna((df['tomatoRating'].median()), inplace=True)\n",
    "df['tomatoReviews'].fillna((df['tomatoReviews'].median()), inplace=True)\n",
    "df['tomatoUserMeter'].fillna((df['tomatoUserMeter'].median()), inplace=True)\n",
    "df['tomatoUserRating'].fillna((df['tomatoUserRating'].median()), inplace=True)\n",
    "df['tomatoUserReviews'].fillna((df['tomatoUserReviews'].median()), inplace=True)\n",
    "df['tomatoFresh'].fillna((df['tomatoFresh'].median()), inplace=True)\n",
    "df['tomatoRotten'].fillna((df['tomatoRotten'].median()), inplace=True)\n",
    "\n",
    "df.isnull().sum()"
   ]
  },
  {
   "cell_type": "markdown",
   "metadata": {
    "heading_collapsed": true
   },
   "source": [
    "### Try to fill in missing values for Gross column with linear regression"
   ]
  },
  {
   "cell_type": "code",
   "execution_count": 395,
   "metadata": {
    "ExecuteTime": {
     "end_time": "2016-11-06T12:48:24.171713",
     "start_time": "2016-11-06T12:48:23.993785"
    },
    "collapsed": false,
    "hidden": true
   },
   "outputs": [
    {
     "data": {
      "text/html": [
       "<div>\n",
       "<table border=\"1\" class=\"dataframe\">\n",
       "  <thead>\n",
       "    <tr style=\"text-align: right;\">\n",
       "      <th></th>\n",
       "      <th>Gross</th>\n",
       "    </tr>\n",
       "  </thead>\n",
       "  <tbody>\n",
       "    <tr>\n",
       "      <th>count</th>\n",
       "      <td>183.00</td>\n",
       "    </tr>\n",
       "    <tr>\n",
       "      <th>mean</th>\n",
       "      <td>105,567,126.31</td>\n",
       "    </tr>\n",
       "    <tr>\n",
       "      <th>std</th>\n",
       "      <td>134,133,176.66</td>\n",
       "    </tr>\n",
       "    <tr>\n",
       "      <th>min</th>\n",
       "      <td>10,177.00</td>\n",
       "    </tr>\n",
       "    <tr>\n",
       "      <th>25%</th>\n",
       "      <td>8,581,698.50</td>\n",
       "    </tr>\n",
       "    <tr>\n",
       "      <th>50%</th>\n",
       "      <td>52,287,414.00</td>\n",
       "    </tr>\n",
       "    <tr>\n",
       "      <th>75%</th>\n",
       "      <td>161,202,324.00</td>\n",
       "    </tr>\n",
       "    <tr>\n",
       "      <th>max</th>\n",
       "      <td>936,627,416.00</td>\n",
       "    </tr>\n",
       "  </tbody>\n",
       "</table>\n",
       "</div>"
      ],
      "text/plain": [
       "                 Gross\n",
       "count           183.00\n",
       "mean    105,567,126.31\n",
       "std     134,133,176.66\n",
       "min          10,177.00\n",
       "25%       8,581,698.50\n",
       "50%      52,287,414.00\n",
       "75%     161,202,324.00\n",
       "max     936,627,416.00"
      ]
     },
     "execution_count": 395,
     "metadata": {},
     "output_type": "execute_result"
    }
   ],
   "source": [
    "summary = df.describe()\n",
    "summary1 = pd.DataFrame(summary.loc[:, 'Gross'].apply(lambda x: '{0: ,.2f}'.format(x)))\n",
    "summary1"
   ]
  },
  {
   "cell_type": "code",
   "execution_count": 639,
   "metadata": {
    "ExecuteTime": {
     "end_time": "2016-11-06T14:55:56.362348",
     "start_time": "2016-11-06T14:55:56.357340"
    },
    "collapsed": false,
    "hidden": true
   },
   "outputs": [],
   "source": [
    "lm_test = df[df['Gross'].notnull() == True] \n",
    "lm_pred = df[df['Gross'].notnull() == False] "
   ]
  },
  {
   "cell_type": "code",
   "execution_count": 618,
   "metadata": {
    "ExecuteTime": {
     "end_time": "2016-11-06T14:34:05.503181",
     "start_time": "2016-11-06T14:34:05.456379"
    },
    "collapsed": false,
    "hidden": true
   },
   "outputs": [
    {
     "name": "stdout",
     "output_type": "stream",
     "text": [
      "model_score: 0.531888862681\n",
      "MSE: 8.37609688985e+15\n",
      "coeffs:  [ -1.38219887e+08   2.62173393e+02   2.79865945e+05  -1.56789557e+07\n",
      "   1.74463386e+07  -2.07664272e+06   7.45621527e+07  -2.46101355e-01\n",
      "  -1.62062691e+07  -1.96188748e+07  -3.34552246e+05   1.60532152e+07\n",
      "   8.46109770e+06  -7.34879751e+05  -7.22682733e+05  -3.59189186e+04]\n",
      "\n",
      "***Note: Model score is too low to predict missing gross revenue values***\n"
     ]
    }
   ],
   "source": [
    "from sklearn.linear_model import LinearRegression\n",
    "from sklearn.metrics import mean_squared_error\n",
    "lm = LinearRegression()\n",
    "X = lm_test[['imdbRating', 'imdbVotes', 'tomatoMeter', \\\n",
    "              'tomatoRating', 'tomatoReviews', 'tomatoUserMeter', 'tomatoUserRating', \\\n",
    "              'tomatoUserReviews', 'tomatoFresh', 'tomatoRotten', 'Year', 'Oscars_Won', \\\n",
    "            'Oscar_Noms', 'Awards_Won', 'Other_Noms', 'Runtime']]\n",
    "y = lm_test['Gross']\n",
    "\n",
    "linear = lm.fit(X, y)\n",
    "y_pred = linear.predict(X)\n",
    "\n",
    "\n",
    "print 'model_score:', linear.score(X, y)\n",
    "print 'MSE:', mean_squared_error(y, y_pred)\n",
    "print 'coeffs: ', linear.coef_\n",
    "print ''\n",
    "print '***Note: Model score is too low to predict missing gross revenue values***'"
   ]
  },
  {
   "cell_type": "raw",
   "metadata": {
    "ExecuteTime": {
     "end_time": "2016-11-06T14:20:31.188565",
     "start_time": "2016-11-06T14:20:31.171060"
    },
    "hidden": true
   },
   "source": [
    "coeffs = []\n",
    "labels = ['imdbRating', 'imdbVotes', 'tomatoMeter', \\\n",
    "              'tomatoRating', 'tomatoReviews', 'tomatoUserMeter', 'tomatoUserRating', \\\n",
    "              'tomatoUserReviews', 'tomatoFresh', 'tomatoRotten', 'Year', 'Oscars_Won', \\\n",
    "            'Oscar_Noms', 'Awards_Won', 'Other_Noms', 'Runtime']\n",
    "coef = list(linear.coef_)\n",
    "coeffs.append(labels)\n",
    "coeffs.append(coef)\n",
    "pd.DataFrame(coeffs).T"
   ]
  },
  {
   "cell_type": "markdown",
   "metadata": {
    "heading_collapsed": true,
    "hidden": true
   },
   "source": [
    "#### Model score of 0.5319 is too low to predict missing gross values"
   ]
  },
  {
   "cell_type": "markdown",
   "metadata": {
    "heading_collapsed": true
   },
   "source": [
    "### Unused Fill in missing Gross values"
   ]
  },
  {
   "cell_type": "code",
   "execution_count": 660,
   "metadata": {
    "ExecuteTime": {
     "end_time": "2016-11-06T15:09:06.269563",
     "start_time": "2016-11-06T15:09:06.264575"
    },
    "collapsed": false,
    "hidden": true
   },
   "outputs": [
    {
     "data": {
      "text/plain": [
       "67"
      ]
     },
     "execution_count": 660,
     "metadata": {},
     "output_type": "execute_result"
    }
   ],
   "source": [
    "df['Gross'].isnull().sum()"
   ]
  },
  {
   "cell_type": "code",
   "execution_count": null,
   "metadata": {
    "ExecuteTime": {
     "end_time": "2016-11-06T15:09:07.713116",
     "start_time": "2016-11-06T15:09:07.703603"
    },
    "collapsed": true,
    "hidden": true
   },
   "outputs": [],
   "source": [
    "# Trying to fill Gross na's with BoxOffice does not help at all\n",
    "df['Gross'].fillna(value=df['BoxOffice'])"
   ]
  },
  {
   "cell_type": "code",
   "execution_count": 656,
   "metadata": {
    "ExecuteTime": {
     "end_time": "2016-11-06T15:04:32.071475",
     "start_time": "2016-11-06T15:04:32.064882"
    },
    "collapsed": false,
    "hidden": true
   },
   "outputs": [
    {
     "data": {
      "text/plain": [
       "[u'The Wages of Fear',\n",
       " u'Yojimbo',\n",
       " u'The Great Escape',\n",
       " u'Chinatown',\n",
       " u'The Message',\n",
       " u'City Lights',\n",
       " u'North by Northwest',\n",
       " u'Ip Man',\n",
       " u'It Happened One Night',\n",
       " u'Fanny and Alexander',\n",
       " u'Barry Lyndon',\n",
       " u'Network',\n",
       " u'Double Indemnity',\n",
       " u'Mary and Max',\n",
       " u'Andaz Apna Apna',\n",
       " u'The Elephant Man',\n",
       " u'To Kill a Mockingbird',\n",
       " u'Grave of the Fireflies',\n",
       " u'My Father and My Son',\n",
       " u'Tokyo Story',\n",
       " u'The Gold Rush',\n",
       " u\"Singin' in the Rain\",\n",
       " u'Diabolique',\n",
       " u'Wild Strawberries',\n",
       " u'Come and See',\n",
       " u'The Great Dictator',\n",
       " u'The Grapes of Wrath',\n",
       " u'Persona',\n",
       " u'Mr. Smith Goes to Washington',\n",
       " u'The 400 Blows',\n",
       " u'Paths of Glory',\n",
       " u'Rashomon',\n",
       " u'Gandhi',\n",
       " u'Strangers on a Train',\n",
       " u'Kind Hearts and Coronets',\n",
       " u'Castle in the Sky',\n",
       " u'Gangs of Wasseypur',\n",
       " u'Dr. Strangelove or: How I Learned to Stop Worrying and Love the Bomb',\n",
       " u'My Neighbor Totoro',\n",
       " u'Once Upon a Time in the West',\n",
       " u'The Shining',\n",
       " u\"It's a Wonderful Life\",\n",
       " u'Casablanca',\n",
       " u'Roman Holiday',\n",
       " u'The Maltese Falcon',\n",
       " u'The Treasure of the Sierra Madre',\n",
       " u'The Passion of Joan of Arc',\n",
       " u'A Clockwork Orange',\n",
       " u'Cool Hand Luke',\n",
       " u'Citizen Kane',\n",
       " u'The General',\n",
       " u'Judgment at Nuremberg',\n",
       " u'Nausica\\xe4 of the Valley of the Wind',\n",
       " u'12 Angry Men',\n",
       " u'Sunrise',\n",
       " u'The Deer Hunter',\n",
       " u'Paris, Texas',\n",
       " u'The Seventh Seal',\n",
       " u'Sunset Boulevard',\n",
       " u'Stalker',\n",
       " u'The Apartment',\n",
       " u'Witness for the Prosecution',\n",
       " u'Rebecca',\n",
       " u'For a Few Dollars More',\n",
       " u'Dog Day Afternoon',\n",
       " u\"Hachi: A Dog's Tale\",\n",
       " u'Taxi Driver']"
      ]
     },
     "execution_count": 656,
     "metadata": {},
     "output_type": "execute_result"
    }
   ],
   "source": [
    "title_list = [i for i in missing_gross['Title']]\n",
    "title_list"
   ]
  },
  {
   "cell_type": "code",
   "execution_count": 678,
   "metadata": {
    "ExecuteTime": {
     "end_time": "2016-11-06T15:16:02.411529",
     "start_time": "2016-11-06T15:16:02.407802"
    },
    "collapsed": true,
    "hidden": true
   },
   "outputs": [],
   "source": [
    "dollars = [0, 0, 11744471., 0, 3270000., 0, 9800000., 21889820., 2500000., 6700000., ]"
   ]
  },
  {
   "cell_type": "code",
   "execution_count": 679,
   "metadata": {
    "ExecuteTime": {
     "end_time": "2016-11-06T15:16:02.649852",
     "start_time": "2016-11-06T15:16:02.646765"
    },
    "collapsed": false,
    "hidden": true
   },
   "outputs": [],
   "source": [
    "full_list = []\n",
    "full_list.append(title_list)\n",
    "full_list.append(dollars)"
   ]
  },
  {
   "cell_type": "code",
   "execution_count": 680,
   "metadata": {
    "ExecuteTime": {
     "end_time": "2016-11-06T15:16:07.426050",
     "start_time": "2016-11-06T15:16:07.393243"
    },
    "collapsed": false,
    "hidden": true
   },
   "outputs": [
    {
     "data": {
      "text/html": [
       "<div>\n",
       "<table border=\"1\" class=\"dataframe\">\n",
       "  <thead>\n",
       "    <tr style=\"text-align: right;\">\n",
       "      <th></th>\n",
       "      <th>0</th>\n",
       "      <th>1</th>\n",
       "    </tr>\n",
       "  </thead>\n",
       "  <tbody>\n",
       "    <tr>\n",
       "      <th>0</th>\n",
       "      <td>The Wages of Fear</td>\n",
       "      <td>0</td>\n",
       "    </tr>\n",
       "    <tr>\n",
       "      <th>1</th>\n",
       "      <td>Yojimbo</td>\n",
       "      <td>0</td>\n",
       "    </tr>\n",
       "    <tr>\n",
       "      <th>2</th>\n",
       "      <td>The Great Escape</td>\n",
       "      <td>1.17445e+07</td>\n",
       "    </tr>\n",
       "    <tr>\n",
       "      <th>3</th>\n",
       "      <td>Chinatown</td>\n",
       "      <td>0</td>\n",
       "    </tr>\n",
       "    <tr>\n",
       "      <th>4</th>\n",
       "      <td>The Message</td>\n",
       "      <td>3.27e+06</td>\n",
       "    </tr>\n",
       "    <tr>\n",
       "      <th>5</th>\n",
       "      <td>City Lights</td>\n",
       "      <td>0</td>\n",
       "    </tr>\n",
       "    <tr>\n",
       "      <th>6</th>\n",
       "      <td>North by Northwest</td>\n",
       "      <td>9.8e+06</td>\n",
       "    </tr>\n",
       "    <tr>\n",
       "      <th>7</th>\n",
       "      <td>Ip Man</td>\n",
       "      <td>2.18898e+07</td>\n",
       "    </tr>\n",
       "    <tr>\n",
       "      <th>8</th>\n",
       "      <td>It Happened One Night</td>\n",
       "      <td>2.5e+06</td>\n",
       "    </tr>\n",
       "    <tr>\n",
       "      <th>9</th>\n",
       "      <td>Fanny and Alexander</td>\n",
       "      <td>6.7e+06</td>\n",
       "    </tr>\n",
       "    <tr>\n",
       "      <th>10</th>\n",
       "      <td>Barry Lyndon</td>\n",
       "      <td>None</td>\n",
       "    </tr>\n",
       "    <tr>\n",
       "      <th>11</th>\n",
       "      <td>Network</td>\n",
       "      <td>None</td>\n",
       "    </tr>\n",
       "    <tr>\n",
       "      <th>12</th>\n",
       "      <td>Double Indemnity</td>\n",
       "      <td>None</td>\n",
       "    </tr>\n",
       "    <tr>\n",
       "      <th>13</th>\n",
       "      <td>Mary and Max</td>\n",
       "      <td>None</td>\n",
       "    </tr>\n",
       "    <tr>\n",
       "      <th>14</th>\n",
       "      <td>Andaz Apna Apna</td>\n",
       "      <td>None</td>\n",
       "    </tr>\n",
       "    <tr>\n",
       "      <th>15</th>\n",
       "      <td>The Elephant Man</td>\n",
       "      <td>None</td>\n",
       "    </tr>\n",
       "    <tr>\n",
       "      <th>16</th>\n",
       "      <td>To Kill a Mockingbird</td>\n",
       "      <td>None</td>\n",
       "    </tr>\n",
       "    <tr>\n",
       "      <th>17</th>\n",
       "      <td>Grave of the Fireflies</td>\n",
       "      <td>None</td>\n",
       "    </tr>\n",
       "    <tr>\n",
       "      <th>18</th>\n",
       "      <td>My Father and My Son</td>\n",
       "      <td>None</td>\n",
       "    </tr>\n",
       "    <tr>\n",
       "      <th>19</th>\n",
       "      <td>Tokyo Story</td>\n",
       "      <td>None</td>\n",
       "    </tr>\n",
       "    <tr>\n",
       "      <th>20</th>\n",
       "      <td>The Gold Rush</td>\n",
       "      <td>None</td>\n",
       "    </tr>\n",
       "    <tr>\n",
       "      <th>21</th>\n",
       "      <td>Singin' in the Rain</td>\n",
       "      <td>None</td>\n",
       "    </tr>\n",
       "    <tr>\n",
       "      <th>22</th>\n",
       "      <td>Diabolique</td>\n",
       "      <td>None</td>\n",
       "    </tr>\n",
       "    <tr>\n",
       "      <th>23</th>\n",
       "      <td>Wild Strawberries</td>\n",
       "      <td>None</td>\n",
       "    </tr>\n",
       "    <tr>\n",
       "      <th>24</th>\n",
       "      <td>Come and See</td>\n",
       "      <td>None</td>\n",
       "    </tr>\n",
       "    <tr>\n",
       "      <th>25</th>\n",
       "      <td>The Great Dictator</td>\n",
       "      <td>None</td>\n",
       "    </tr>\n",
       "    <tr>\n",
       "      <th>26</th>\n",
       "      <td>The Grapes of Wrath</td>\n",
       "      <td>None</td>\n",
       "    </tr>\n",
       "    <tr>\n",
       "      <th>27</th>\n",
       "      <td>Persona</td>\n",
       "      <td>None</td>\n",
       "    </tr>\n",
       "    <tr>\n",
       "      <th>28</th>\n",
       "      <td>Mr. Smith Goes to Washington</td>\n",
       "      <td>None</td>\n",
       "    </tr>\n",
       "    <tr>\n",
       "      <th>29</th>\n",
       "      <td>The 400 Blows</td>\n",
       "      <td>None</td>\n",
       "    </tr>\n",
       "    <tr>\n",
       "      <th>...</th>\n",
       "      <td>...</td>\n",
       "      <td>...</td>\n",
       "    </tr>\n",
       "    <tr>\n",
       "      <th>37</th>\n",
       "      <td>Dr. Strangelove or: How I Learned to Stop Worr...</td>\n",
       "      <td>None</td>\n",
       "    </tr>\n",
       "    <tr>\n",
       "      <th>38</th>\n",
       "      <td>My Neighbor Totoro</td>\n",
       "      <td>None</td>\n",
       "    </tr>\n",
       "    <tr>\n",
       "      <th>39</th>\n",
       "      <td>Once Upon a Time in the West</td>\n",
       "      <td>None</td>\n",
       "    </tr>\n",
       "    <tr>\n",
       "      <th>40</th>\n",
       "      <td>The Shining</td>\n",
       "      <td>None</td>\n",
       "    </tr>\n",
       "    <tr>\n",
       "      <th>41</th>\n",
       "      <td>It's a Wonderful Life</td>\n",
       "      <td>None</td>\n",
       "    </tr>\n",
       "    <tr>\n",
       "      <th>42</th>\n",
       "      <td>Casablanca</td>\n",
       "      <td>None</td>\n",
       "    </tr>\n",
       "    <tr>\n",
       "      <th>43</th>\n",
       "      <td>Roman Holiday</td>\n",
       "      <td>None</td>\n",
       "    </tr>\n",
       "    <tr>\n",
       "      <th>44</th>\n",
       "      <td>The Maltese Falcon</td>\n",
       "      <td>None</td>\n",
       "    </tr>\n",
       "    <tr>\n",
       "      <th>45</th>\n",
       "      <td>The Treasure of the Sierra Madre</td>\n",
       "      <td>None</td>\n",
       "    </tr>\n",
       "    <tr>\n",
       "      <th>46</th>\n",
       "      <td>The Passion of Joan of Arc</td>\n",
       "      <td>None</td>\n",
       "    </tr>\n",
       "    <tr>\n",
       "      <th>47</th>\n",
       "      <td>A Clockwork Orange</td>\n",
       "      <td>None</td>\n",
       "    </tr>\n",
       "    <tr>\n",
       "      <th>48</th>\n",
       "      <td>Cool Hand Luke</td>\n",
       "      <td>None</td>\n",
       "    </tr>\n",
       "    <tr>\n",
       "      <th>49</th>\n",
       "      <td>Citizen Kane</td>\n",
       "      <td>None</td>\n",
       "    </tr>\n",
       "    <tr>\n",
       "      <th>50</th>\n",
       "      <td>The General</td>\n",
       "      <td>None</td>\n",
       "    </tr>\n",
       "    <tr>\n",
       "      <th>51</th>\n",
       "      <td>Judgment at Nuremberg</td>\n",
       "      <td>None</td>\n",
       "    </tr>\n",
       "    <tr>\n",
       "      <th>52</th>\n",
       "      <td>Nausicaä of the Valley of the Wind</td>\n",
       "      <td>None</td>\n",
       "    </tr>\n",
       "    <tr>\n",
       "      <th>53</th>\n",
       "      <td>12 Angry Men</td>\n",
       "      <td>None</td>\n",
       "    </tr>\n",
       "    <tr>\n",
       "      <th>54</th>\n",
       "      <td>Sunrise</td>\n",
       "      <td>None</td>\n",
       "    </tr>\n",
       "    <tr>\n",
       "      <th>55</th>\n",
       "      <td>The Deer Hunter</td>\n",
       "      <td>None</td>\n",
       "    </tr>\n",
       "    <tr>\n",
       "      <th>56</th>\n",
       "      <td>Paris, Texas</td>\n",
       "      <td>None</td>\n",
       "    </tr>\n",
       "    <tr>\n",
       "      <th>57</th>\n",
       "      <td>The Seventh Seal</td>\n",
       "      <td>None</td>\n",
       "    </tr>\n",
       "    <tr>\n",
       "      <th>58</th>\n",
       "      <td>Sunset Boulevard</td>\n",
       "      <td>None</td>\n",
       "    </tr>\n",
       "    <tr>\n",
       "      <th>59</th>\n",
       "      <td>Stalker</td>\n",
       "      <td>None</td>\n",
       "    </tr>\n",
       "    <tr>\n",
       "      <th>60</th>\n",
       "      <td>The Apartment</td>\n",
       "      <td>None</td>\n",
       "    </tr>\n",
       "    <tr>\n",
       "      <th>61</th>\n",
       "      <td>Witness for the Prosecution</td>\n",
       "      <td>None</td>\n",
       "    </tr>\n",
       "    <tr>\n",
       "      <th>62</th>\n",
       "      <td>Rebecca</td>\n",
       "      <td>None</td>\n",
       "    </tr>\n",
       "    <tr>\n",
       "      <th>63</th>\n",
       "      <td>For a Few Dollars More</td>\n",
       "      <td>None</td>\n",
       "    </tr>\n",
       "    <tr>\n",
       "      <th>64</th>\n",
       "      <td>Dog Day Afternoon</td>\n",
       "      <td>None</td>\n",
       "    </tr>\n",
       "    <tr>\n",
       "      <th>65</th>\n",
       "      <td>Hachi: A Dog's Tale</td>\n",
       "      <td>None</td>\n",
       "    </tr>\n",
       "    <tr>\n",
       "      <th>66</th>\n",
       "      <td>Taxi Driver</td>\n",
       "      <td>None</td>\n",
       "    </tr>\n",
       "  </tbody>\n",
       "</table>\n",
       "<p>67 rows × 2 columns</p>\n",
       "</div>"
      ],
      "text/plain": [
       "                                                    0            1\n",
       "0                                   The Wages of Fear            0\n",
       "1                                             Yojimbo            0\n",
       "2                                    The Great Escape  1.17445e+07\n",
       "3                                           Chinatown            0\n",
       "4                                         The Message     3.27e+06\n",
       "5                                         City Lights            0\n",
       "6                                  North by Northwest      9.8e+06\n",
       "7                                              Ip Man  2.18898e+07\n",
       "8                               It Happened One Night      2.5e+06\n",
       "9                                 Fanny and Alexander      6.7e+06\n",
       "10                                       Barry Lyndon         None\n",
       "11                                            Network         None\n",
       "12                                   Double Indemnity         None\n",
       "13                                       Mary and Max         None\n",
       "14                                    Andaz Apna Apna         None\n",
       "15                                   The Elephant Man         None\n",
       "16                              To Kill a Mockingbird         None\n",
       "17                             Grave of the Fireflies         None\n",
       "18                               My Father and My Son         None\n",
       "19                                        Tokyo Story         None\n",
       "20                                      The Gold Rush         None\n",
       "21                                Singin' in the Rain         None\n",
       "22                                         Diabolique         None\n",
       "23                                  Wild Strawberries         None\n",
       "24                                       Come and See         None\n",
       "25                                 The Great Dictator         None\n",
       "26                                The Grapes of Wrath         None\n",
       "27                                            Persona         None\n",
       "28                       Mr. Smith Goes to Washington         None\n",
       "29                                      The 400 Blows         None\n",
       "..                                                ...          ...\n",
       "37  Dr. Strangelove or: How I Learned to Stop Worr...         None\n",
       "38                                 My Neighbor Totoro         None\n",
       "39                       Once Upon a Time in the West         None\n",
       "40                                        The Shining         None\n",
       "41                              It's a Wonderful Life         None\n",
       "42                                         Casablanca         None\n",
       "43                                      Roman Holiday         None\n",
       "44                                 The Maltese Falcon         None\n",
       "45                   The Treasure of the Sierra Madre         None\n",
       "46                         The Passion of Joan of Arc         None\n",
       "47                                 A Clockwork Orange         None\n",
       "48                                     Cool Hand Luke         None\n",
       "49                                       Citizen Kane         None\n",
       "50                                        The General         None\n",
       "51                              Judgment at Nuremberg         None\n",
       "52                 Nausicaä of the Valley of the Wind         None\n",
       "53                                       12 Angry Men         None\n",
       "54                                            Sunrise         None\n",
       "55                                    The Deer Hunter         None\n",
       "56                                       Paris, Texas         None\n",
       "57                                   The Seventh Seal         None\n",
       "58                                   Sunset Boulevard         None\n",
       "59                                            Stalker         None\n",
       "60                                      The Apartment         None\n",
       "61                        Witness for the Prosecution         None\n",
       "62                                            Rebecca         None\n",
       "63                             For a Few Dollars More         None\n",
       "64                                  Dog Day Afternoon         None\n",
       "65                                Hachi: A Dog's Tale         None\n",
       "66                                        Taxi Driver         None\n",
       "\n",
       "[67 rows x 2 columns]"
      ]
     },
     "execution_count": 680,
     "metadata": {},
     "output_type": "execute_result"
    }
   ],
   "source": [
    "pd.DataFrame(full_list).T"
   ]
  },
  {
   "cell_type": "code",
   "execution_count": 652,
   "metadata": {
    "ExecuteTime": {
     "end_time": "2016-11-06T15:03:07.238016",
     "start_time": "2016-11-06T15:03:07.227024"
    },
    "collapsed": false,
    "hidden": true
   },
   "outputs": [
    {
     "data": {
      "text/plain": [
       "{(u'12 Angry Men', 0),\n",
       " (u'A Clockwork Orange', 0),\n",
       " (u'Andaz Apna Apna', 0),\n",
       " (u'Barry Lyndon', 0),\n",
       " (u'Casablanca', 0),\n",
       " (u'Castle in the Sky', 0),\n",
       " (u'Chinatown', 0),\n",
       " (u'Citizen Kane', 0),\n",
       " (u'City Lights', 0),\n",
       " (u'Come and See', 0),\n",
       " (u'Cool Hand Luke', 0),\n",
       " (u'Diabolique', 0),\n",
       " (u'Dog Day Afternoon', 0),\n",
       " (u'Double Indemnity', 0),\n",
       " (u'Dr. Strangelove or: How I Learned to Stop Worrying and Love the Bomb', 0),\n",
       " (u'Fanny and Alexander', 0),\n",
       " (u'For a Few Dollars More', 0),\n",
       " (u'Gandhi', 0),\n",
       " (u'Gangs of Wasseypur', 0),\n",
       " (u'Grave of the Fireflies', 0),\n",
       " (u\"Hachi: A Dog's Tale\", 0),\n",
       " (u'Ip Man', 0),\n",
       " (u'It Happened One Night', 0),\n",
       " (u\"It's a Wonderful Life\", 0),\n",
       " (u'Judgment at Nuremberg', 0),\n",
       " (u'Kind Hearts and Coronets', 0),\n",
       " (u'Mary and Max', 0),\n",
       " (u'Mr. Smith Goes to Washington', 0),\n",
       " (u'My Father and My Son', 0),\n",
       " (u'My Neighbor Totoro', 0),\n",
       " (u'Nausica\\xe4 of the Valley of the Wind', 0),\n",
       " (u'Network', 0),\n",
       " (u'North by Northwest', 0),\n",
       " (u'Once Upon a Time in the West', 0),\n",
       " (u'Paris, Texas', 0),\n",
       " (u'Paths of Glory', 0),\n",
       " (u'Persona', 0),\n",
       " (u'Rashomon', 0),\n",
       " (u'Rebecca', 0),\n",
       " (u'Roman Holiday', 0),\n",
       " (u\"Singin' in the Rain\", 0),\n",
       " (u'Stalker', 0),\n",
       " (u'Strangers on a Train', 0),\n",
       " (u'Sunrise', 0),\n",
       " (u'Sunset Boulevard', 0),\n",
       " (u'Taxi Driver', 0),\n",
       " (u'The 400 Blows', 0),\n",
       " (u'The Apartment', 0),\n",
       " (u'The Deer Hunter', 0),\n",
       " (u'The Elephant Man', 0),\n",
       " (u'The General', 0),\n",
       " (u'The Gold Rush', 0),\n",
       " (u'The Grapes of Wrath', 0),\n",
       " (u'The Great Dictator', 0),\n",
       " (u'The Great Escape', 0),\n",
       " (u'The Maltese Falcon', 0),\n",
       " (u'The Message', 0),\n",
       " (u'The Passion of Joan of Arc', 0),\n",
       " (u'The Seventh Seal', 0),\n",
       " (u'The Shining', 0),\n",
       " (u'The Treasure of the Sierra Madre', 0),\n",
       " (u'The Wages of Fear', 0),\n",
       " (u'To Kill a Mockingbird', 0),\n",
       " (u'Tokyo Story', 0),\n",
       " (u'Wild Strawberries', 0),\n",
       " (u'Witness for the Prosecution', 0),\n",
       " (u'Yojimbo', 0)}"
      ]
     },
     "execution_count": 652,
     "metadata": {},
     "output_type": "execute_result"
    }
   ],
   "source": [
    "missing_gross_dict = {(k, 0) for k in missing_gross['Title']}"
   ]
  },
  {
   "cell_type": "code",
   "execution_count": 640,
   "metadata": {
    "ExecuteTime": {
     "end_time": "2016-11-06T14:56:10.046121",
     "start_time": "2016-11-06T14:56:10.006805"
    },
    "collapsed": false,
    "hidden": true
   },
   "outputs": [
    {
     "data": {
      "text/html": [
       "<div>\n",
       "<table border=\"1\" class=\"dataframe\">\n",
       "  <thead>\n",
       "    <tr style=\"text-align: right;\">\n",
       "      <th></th>\n",
       "      <th>imdbID</th>\n",
       "      <th>Title</th>\n",
       "      <th>Gross</th>\n",
       "    </tr>\n",
       "  </thead>\n",
       "  <tbody>\n",
       "    <tr>\n",
       "      <th>0</th>\n",
       "      <td>tt0046268</td>\n",
       "      <td>The Wages of Fear</td>\n",
       "      <td>NaN</td>\n",
       "    </tr>\n",
       "    <tr>\n",
       "      <th>1</th>\n",
       "      <td>tt0055630</td>\n",
       "      <td>Yojimbo</td>\n",
       "      <td>NaN</td>\n",
       "    </tr>\n",
       "    <tr>\n",
       "      <th>2</th>\n",
       "      <td>tt0057115</td>\n",
       "      <td>The Great Escape</td>\n",
       "      <td>NaN</td>\n",
       "    </tr>\n",
       "    <tr>\n",
       "      <th>3</th>\n",
       "      <td>tt0071315</td>\n",
       "      <td>Chinatown</td>\n",
       "      <td>NaN</td>\n",
       "    </tr>\n",
       "    <tr>\n",
       "      <th>4</th>\n",
       "      <td>tt0074896</td>\n",
       "      <td>The Message</td>\n",
       "      <td>NaN</td>\n",
       "    </tr>\n",
       "    <tr>\n",
       "      <th>5</th>\n",
       "      <td>tt0021749</td>\n",
       "      <td>City Lights</td>\n",
       "      <td>NaN</td>\n",
       "    </tr>\n",
       "    <tr>\n",
       "      <th>6</th>\n",
       "      <td>tt0053125</td>\n",
       "      <td>North by Northwest</td>\n",
       "      <td>NaN</td>\n",
       "    </tr>\n",
       "    <tr>\n",
       "      <th>7</th>\n",
       "      <td>tt1220719</td>\n",
       "      <td>Ip Man</td>\n",
       "      <td>NaN</td>\n",
       "    </tr>\n",
       "    <tr>\n",
       "      <th>8</th>\n",
       "      <td>tt0025316</td>\n",
       "      <td>It Happened One Night</td>\n",
       "      <td>NaN</td>\n",
       "    </tr>\n",
       "    <tr>\n",
       "      <th>9</th>\n",
       "      <td>tt0083922</td>\n",
       "      <td>Fanny and Alexander</td>\n",
       "      <td>NaN</td>\n",
       "    </tr>\n",
       "    <tr>\n",
       "      <th>10</th>\n",
       "      <td>tt0072684</td>\n",
       "      <td>Barry Lyndon</td>\n",
       "      <td>NaN</td>\n",
       "    </tr>\n",
       "    <tr>\n",
       "      <th>11</th>\n",
       "      <td>tt0074958</td>\n",
       "      <td>Network</td>\n",
       "      <td>NaN</td>\n",
       "    </tr>\n",
       "    <tr>\n",
       "      <th>12</th>\n",
       "      <td>tt0036775</td>\n",
       "      <td>Double Indemnity</td>\n",
       "      <td>NaN</td>\n",
       "    </tr>\n",
       "    <tr>\n",
       "      <th>13</th>\n",
       "      <td>tt0978762</td>\n",
       "      <td>Mary and Max</td>\n",
       "      <td>NaN</td>\n",
       "    </tr>\n",
       "    <tr>\n",
       "      <th>14</th>\n",
       "      <td>tt0109117</td>\n",
       "      <td>Andaz Apna Apna</td>\n",
       "      <td>NaN</td>\n",
       "    </tr>\n",
       "    <tr>\n",
       "      <th>15</th>\n",
       "      <td>tt0080678</td>\n",
       "      <td>The Elephant Man</td>\n",
       "      <td>NaN</td>\n",
       "    </tr>\n",
       "    <tr>\n",
       "      <th>16</th>\n",
       "      <td>tt0056592</td>\n",
       "      <td>To Kill a Mockingbird</td>\n",
       "      <td>NaN</td>\n",
       "    </tr>\n",
       "    <tr>\n",
       "      <th>17</th>\n",
       "      <td>tt0095327</td>\n",
       "      <td>Grave of the Fireflies</td>\n",
       "      <td>NaN</td>\n",
       "    </tr>\n",
       "    <tr>\n",
       "      <th>18</th>\n",
       "      <td>tt0476735</td>\n",
       "      <td>My Father and My Son</td>\n",
       "      <td>NaN</td>\n",
       "    </tr>\n",
       "    <tr>\n",
       "      <th>19</th>\n",
       "      <td>tt0046438</td>\n",
       "      <td>Tokyo Story</td>\n",
       "      <td>NaN</td>\n",
       "    </tr>\n",
       "    <tr>\n",
       "      <th>20</th>\n",
       "      <td>tt0015864</td>\n",
       "      <td>The Gold Rush</td>\n",
       "      <td>NaN</td>\n",
       "    </tr>\n",
       "    <tr>\n",
       "      <th>21</th>\n",
       "      <td>tt0045152</td>\n",
       "      <td>Singin' in the Rain</td>\n",
       "      <td>NaN</td>\n",
       "    </tr>\n",
       "    <tr>\n",
       "      <th>22</th>\n",
       "      <td>tt0046911</td>\n",
       "      <td>Diabolique</td>\n",
       "      <td>NaN</td>\n",
       "    </tr>\n",
       "    <tr>\n",
       "      <th>23</th>\n",
       "      <td>tt0050986</td>\n",
       "      <td>Wild Strawberries</td>\n",
       "      <td>NaN</td>\n",
       "    </tr>\n",
       "    <tr>\n",
       "      <th>24</th>\n",
       "      <td>tt0091251</td>\n",
       "      <td>Come and See</td>\n",
       "      <td>NaN</td>\n",
       "    </tr>\n",
       "    <tr>\n",
       "      <th>25</th>\n",
       "      <td>tt0032553</td>\n",
       "      <td>The Great Dictator</td>\n",
       "      <td>NaN</td>\n",
       "    </tr>\n",
       "    <tr>\n",
       "      <th>26</th>\n",
       "      <td>tt0032551</td>\n",
       "      <td>The Grapes of Wrath</td>\n",
       "      <td>NaN</td>\n",
       "    </tr>\n",
       "    <tr>\n",
       "      <th>27</th>\n",
       "      <td>tt0060827</td>\n",
       "      <td>Persona</td>\n",
       "      <td>NaN</td>\n",
       "    </tr>\n",
       "    <tr>\n",
       "      <th>28</th>\n",
       "      <td>tt0031679</td>\n",
       "      <td>Mr. Smith Goes to Washington</td>\n",
       "      <td>NaN</td>\n",
       "    </tr>\n",
       "    <tr>\n",
       "      <th>29</th>\n",
       "      <td>tt0053198</td>\n",
       "      <td>The 400 Blows</td>\n",
       "      <td>NaN</td>\n",
       "    </tr>\n",
       "    <tr>\n",
       "      <th>...</th>\n",
       "      <td>...</td>\n",
       "      <td>...</td>\n",
       "      <td>...</td>\n",
       "    </tr>\n",
       "    <tr>\n",
       "      <th>37</th>\n",
       "      <td>tt0057012</td>\n",
       "      <td>Dr. Strangelove or: How I Learned to Stop Worr...</td>\n",
       "      <td>NaN</td>\n",
       "    </tr>\n",
       "    <tr>\n",
       "      <th>38</th>\n",
       "      <td>tt0096283</td>\n",
       "      <td>My Neighbor Totoro</td>\n",
       "      <td>NaN</td>\n",
       "    </tr>\n",
       "    <tr>\n",
       "      <th>39</th>\n",
       "      <td>tt0064116</td>\n",
       "      <td>Once Upon a Time in the West</td>\n",
       "      <td>NaN</td>\n",
       "    </tr>\n",
       "    <tr>\n",
       "      <th>40</th>\n",
       "      <td>tt0081505</td>\n",
       "      <td>The Shining</td>\n",
       "      <td>NaN</td>\n",
       "    </tr>\n",
       "    <tr>\n",
       "      <th>41</th>\n",
       "      <td>tt0038650</td>\n",
       "      <td>It's a Wonderful Life</td>\n",
       "      <td>NaN</td>\n",
       "    </tr>\n",
       "    <tr>\n",
       "      <th>42</th>\n",
       "      <td>tt0034583</td>\n",
       "      <td>Casablanca</td>\n",
       "      <td>NaN</td>\n",
       "    </tr>\n",
       "    <tr>\n",
       "      <th>43</th>\n",
       "      <td>tt0046250</td>\n",
       "      <td>Roman Holiday</td>\n",
       "      <td>NaN</td>\n",
       "    </tr>\n",
       "    <tr>\n",
       "      <th>44</th>\n",
       "      <td>tt0033870</td>\n",
       "      <td>The Maltese Falcon</td>\n",
       "      <td>NaN</td>\n",
       "    </tr>\n",
       "    <tr>\n",
       "      <th>45</th>\n",
       "      <td>tt0040897</td>\n",
       "      <td>The Treasure of the Sierra Madre</td>\n",
       "      <td>NaN</td>\n",
       "    </tr>\n",
       "    <tr>\n",
       "      <th>46</th>\n",
       "      <td>tt0019254</td>\n",
       "      <td>The Passion of Joan of Arc</td>\n",
       "      <td>NaN</td>\n",
       "    </tr>\n",
       "    <tr>\n",
       "      <th>47</th>\n",
       "      <td>tt0066921</td>\n",
       "      <td>A Clockwork Orange</td>\n",
       "      <td>NaN</td>\n",
       "    </tr>\n",
       "    <tr>\n",
       "      <th>48</th>\n",
       "      <td>tt0061512</td>\n",
       "      <td>Cool Hand Luke</td>\n",
       "      <td>NaN</td>\n",
       "    </tr>\n",
       "    <tr>\n",
       "      <th>49</th>\n",
       "      <td>tt0033467</td>\n",
       "      <td>Citizen Kane</td>\n",
       "      <td>NaN</td>\n",
       "    </tr>\n",
       "    <tr>\n",
       "      <th>50</th>\n",
       "      <td>tt0017925</td>\n",
       "      <td>The General</td>\n",
       "      <td>NaN</td>\n",
       "    </tr>\n",
       "    <tr>\n",
       "      <th>51</th>\n",
       "      <td>tt0055031</td>\n",
       "      <td>Judgment at Nuremberg</td>\n",
       "      <td>NaN</td>\n",
       "    </tr>\n",
       "    <tr>\n",
       "      <th>52</th>\n",
       "      <td>tt0087544</td>\n",
       "      <td>Nausicaä of the Valley of the Wind</td>\n",
       "      <td>NaN</td>\n",
       "    </tr>\n",
       "    <tr>\n",
       "      <th>53</th>\n",
       "      <td>tt0050083</td>\n",
       "      <td>12 Angry Men</td>\n",
       "      <td>NaN</td>\n",
       "    </tr>\n",
       "    <tr>\n",
       "      <th>54</th>\n",
       "      <td>tt0018455</td>\n",
       "      <td>Sunrise</td>\n",
       "      <td>NaN</td>\n",
       "    </tr>\n",
       "    <tr>\n",
       "      <th>55</th>\n",
       "      <td>tt0077416</td>\n",
       "      <td>The Deer Hunter</td>\n",
       "      <td>NaN</td>\n",
       "    </tr>\n",
       "    <tr>\n",
       "      <th>56</th>\n",
       "      <td>tt0087884</td>\n",
       "      <td>Paris, Texas</td>\n",
       "      <td>NaN</td>\n",
       "    </tr>\n",
       "    <tr>\n",
       "      <th>57</th>\n",
       "      <td>tt0050976</td>\n",
       "      <td>The Seventh Seal</td>\n",
       "      <td>NaN</td>\n",
       "    </tr>\n",
       "    <tr>\n",
       "      <th>58</th>\n",
       "      <td>tt0043014</td>\n",
       "      <td>Sunset Boulevard</td>\n",
       "      <td>NaN</td>\n",
       "    </tr>\n",
       "    <tr>\n",
       "      <th>59</th>\n",
       "      <td>tt0079944</td>\n",
       "      <td>Stalker</td>\n",
       "      <td>NaN</td>\n",
       "    </tr>\n",
       "    <tr>\n",
       "      <th>60</th>\n",
       "      <td>tt0053604</td>\n",
       "      <td>The Apartment</td>\n",
       "      <td>NaN</td>\n",
       "    </tr>\n",
       "    <tr>\n",
       "      <th>61</th>\n",
       "      <td>tt0051201</td>\n",
       "      <td>Witness for the Prosecution</td>\n",
       "      <td>NaN</td>\n",
       "    </tr>\n",
       "    <tr>\n",
       "      <th>62</th>\n",
       "      <td>tt0032976</td>\n",
       "      <td>Rebecca</td>\n",
       "      <td>NaN</td>\n",
       "    </tr>\n",
       "    <tr>\n",
       "      <th>63</th>\n",
       "      <td>tt0059578</td>\n",
       "      <td>For a Few Dollars More</td>\n",
       "      <td>NaN</td>\n",
       "    </tr>\n",
       "    <tr>\n",
       "      <th>64</th>\n",
       "      <td>tt0072890</td>\n",
       "      <td>Dog Day Afternoon</td>\n",
       "      <td>NaN</td>\n",
       "    </tr>\n",
       "    <tr>\n",
       "      <th>65</th>\n",
       "      <td>tt1028532</td>\n",
       "      <td>Hachi: A Dog's Tale</td>\n",
       "      <td>NaN</td>\n",
       "    </tr>\n",
       "    <tr>\n",
       "      <th>66</th>\n",
       "      <td>tt0075314</td>\n",
       "      <td>Taxi Driver</td>\n",
       "      <td>NaN</td>\n",
       "    </tr>\n",
       "  </tbody>\n",
       "</table>\n",
       "<p>67 rows × 3 columns</p>\n",
       "</div>"
      ],
      "text/plain": [
       "       imdbID                                              Title  Gross\n",
       "0   tt0046268                                  The Wages of Fear    NaN\n",
       "1   tt0055630                                            Yojimbo    NaN\n",
       "2   tt0057115                                   The Great Escape    NaN\n",
       "3   tt0071315                                          Chinatown    NaN\n",
       "4   tt0074896                                        The Message    NaN\n",
       "5   tt0021749                                        City Lights    NaN\n",
       "6   tt0053125                                 North by Northwest    NaN\n",
       "7   tt1220719                                             Ip Man    NaN\n",
       "8   tt0025316                              It Happened One Night    NaN\n",
       "9   tt0083922                                Fanny and Alexander    NaN\n",
       "10  tt0072684                                       Barry Lyndon    NaN\n",
       "11  tt0074958                                            Network    NaN\n",
       "12  tt0036775                                   Double Indemnity    NaN\n",
       "13  tt0978762                                       Mary and Max    NaN\n",
       "14  tt0109117                                    Andaz Apna Apna    NaN\n",
       "15  tt0080678                                   The Elephant Man    NaN\n",
       "16  tt0056592                              To Kill a Mockingbird    NaN\n",
       "17  tt0095327                             Grave of the Fireflies    NaN\n",
       "18  tt0476735                               My Father and My Son    NaN\n",
       "19  tt0046438                                        Tokyo Story    NaN\n",
       "20  tt0015864                                      The Gold Rush    NaN\n",
       "21  tt0045152                                Singin' in the Rain    NaN\n",
       "22  tt0046911                                         Diabolique    NaN\n",
       "23  tt0050986                                  Wild Strawberries    NaN\n",
       "24  tt0091251                                       Come and See    NaN\n",
       "25  tt0032553                                 The Great Dictator    NaN\n",
       "26  tt0032551                                The Grapes of Wrath    NaN\n",
       "27  tt0060827                                            Persona    NaN\n",
       "28  tt0031679                       Mr. Smith Goes to Washington    NaN\n",
       "29  tt0053198                                      The 400 Blows    NaN\n",
       "..        ...                                                ...    ...\n",
       "37  tt0057012  Dr. Strangelove or: How I Learned to Stop Worr...    NaN\n",
       "38  tt0096283                                 My Neighbor Totoro    NaN\n",
       "39  tt0064116                       Once Upon a Time in the West    NaN\n",
       "40  tt0081505                                        The Shining    NaN\n",
       "41  tt0038650                              It's a Wonderful Life    NaN\n",
       "42  tt0034583                                         Casablanca    NaN\n",
       "43  tt0046250                                      Roman Holiday    NaN\n",
       "44  tt0033870                                 The Maltese Falcon    NaN\n",
       "45  tt0040897                   The Treasure of the Sierra Madre    NaN\n",
       "46  tt0019254                         The Passion of Joan of Arc    NaN\n",
       "47  tt0066921                                 A Clockwork Orange    NaN\n",
       "48  tt0061512                                     Cool Hand Luke    NaN\n",
       "49  tt0033467                                       Citizen Kane    NaN\n",
       "50  tt0017925                                        The General    NaN\n",
       "51  tt0055031                              Judgment at Nuremberg    NaN\n",
       "52  tt0087544                 Nausicaä of the Valley of the Wind    NaN\n",
       "53  tt0050083                                       12 Angry Men    NaN\n",
       "54  tt0018455                                            Sunrise    NaN\n",
       "55  tt0077416                                    The Deer Hunter    NaN\n",
       "56  tt0087884                                       Paris, Texas    NaN\n",
       "57  tt0050976                                   The Seventh Seal    NaN\n",
       "58  tt0043014                                   Sunset Boulevard    NaN\n",
       "59  tt0079944                                            Stalker    NaN\n",
       "60  tt0053604                                      The Apartment    NaN\n",
       "61  tt0051201                        Witness for the Prosecution    NaN\n",
       "62  tt0032976                                            Rebecca    NaN\n",
       "63  tt0059578                             For a Few Dollars More    NaN\n",
       "64  tt0072890                                  Dog Day Afternoon    NaN\n",
       "65  tt1028532                                Hachi: A Dog's Tale    NaN\n",
       "66  tt0075314                                        Taxi Driver    NaN\n",
       "\n",
       "[67 rows x 3 columns]"
      ]
     },
     "execution_count": 640,
     "metadata": {},
     "output_type": "execute_result"
    }
   ],
   "source": [
    "missing_gross = lm_pred[['imdbID', 'Title', 'Gross']].reset_index(drop=True)\n",
    "missing_gross"
   ]
  },
  {
   "cell_type": "markdown",
   "metadata": {},
   "source": [
    "### Fill in missing Gross values with median"
   ]
  },
  {
   "cell_type": "code",
   "execution_count": null,
   "metadata": {
    "collapsed": true
   },
   "outputs": [],
   "source": []
  },
  {
   "cell_type": "code",
   "execution_count": 681,
   "metadata": {
    "ExecuteTime": {
     "end_time": "2016-11-06T15:26:35.943223",
     "start_time": "2016-11-06T15:26:35.938191"
    },
    "collapsed": false
   },
   "outputs": [
    {
     "data": {
      "text/plain": [
       "Index([u'imdbID', u'Title', u'BoxOffice', u'Gross', u'Year', u'Released',\n",
       "       u'imdbRating', u'imdbVotes', u'tomatoMeter', u'tomatoRating',\n",
       "       u'tomatoReviews', u'tomatoUserMeter', u'tomatoUserRating',\n",
       "       u'tomatoUserReviews', u'tomatoFresh', u'tomatoRotten', u'Awards',\n",
       "       u'Actors', u'Director', u'Writer', u'Production', u'Country', u'Genre',\n",
       "       u'Rated', u'Runtime', u'Plot', u'Release', u'Month', u'Season',\n",
       "       u'Oscars_Won', u'Oscar_Noms', u'Awards_Won', u'Other_Noms', u'Genre_1'],\n",
       "      dtype='object')"
      ]
     },
     "execution_count": 681,
     "metadata": {},
     "output_type": "execute_result"
    }
   ],
   "source": [
    "df.columns"
   ]
  },
  {
   "cell_type": "code",
   "execution_count": null,
   "metadata": {
    "collapsed": true
   },
   "outputs": [],
   "source": []
  },
  {
   "cell_type": "markdown",
   "metadata": {
    "heading_collapsed": true
   },
   "source": [
    "## Count Vectorization"
   ]
  },
  {
   "cell_type": "code",
   "execution_count": null,
   "metadata": {
    "collapsed": true,
    "hidden": true
   },
   "outputs": [],
   "source": [
    "# Actor, Director, Plot, Title, Genre, Production"
   ]
  },
  {
   "cell_type": "code",
   "execution_count": 111,
   "metadata": {
    "ExecuteTime": {
     "end_time": "2016-11-06T10:30:12.829675",
     "start_time": "2016-11-06T10:30:12.826834"
    },
    "collapsed": true,
    "hidden": true
   },
   "outputs": [],
   "source": [
    "# CountVectorizer w/parameters\n",
    "cvec = CountVectorizer(stop_words='english', lowercase=True)"
   ]
  },
  {
   "cell_type": "markdown",
   "metadata": {
    "heading_collapsed": true,
    "hidden": true
   },
   "source": [
    "#### Actors"
   ]
  },
  {
   "cell_type": "code",
   "execution_count": 112,
   "metadata": {
    "ExecuteTime": {
     "end_time": "2016-11-06T10:30:22.133423",
     "start_time": "2016-11-06T10:30:22.119707"
    },
    "collapsed": false,
    "hidden": true
   },
   "outputs": [
    {
     "name": "stdout",
     "output_type": "stream",
     "text": [
      "0       Miles\n",
      "1     Toshirô\n",
      "2    Harrison\n",
      "Name: Actor_First_Name, dtype: object\n",
      "0      Miles Teller\n",
      "1    Toshirô Mifune\n",
      "2     Harrison Ford\n",
      "Name: Lead_Actor, dtype: object\n",
      "0    MilesTeller,J.K.Simmons,PaulReiser,MelissaBenoist\n",
      "1    ToshirôMifune,TakashiShimura,KeikoTsushima,Yuk...\n",
      "2      HarrisonFord,KarenAllen,PaulFreeman,RonaldLacey\n",
      "Name: Actors, dtype: object\n"
     ]
    }
   ],
   "source": [
    "# Create column of first names only\n",
    "df['Actor_First_Name'] = df['Actors'].apply(lambda x: x.split(',')[0])\n",
    "df['Actor_First_Name'] = df['Actors'].apply(lambda x: x.split(' ')[0])\n",
    "print df['Actor_First_Name'].head(3)\n",
    "\n",
    "# Create column of lead actors only\n",
    "df['Lead_Actor'] = df['Actors'].apply(lambda x: x.split(',')[0])\n",
    "print df['Lead_Actor'].head(3)\n",
    "\n",
    "# Create column of concatenated names to identify unique people\n",
    "df['Actors'] = df['Actors'].apply(lambda x: x.replace(' ',''))\n",
    "print df['Actors'].head(3)"
   ]
  },
  {
   "cell_type": "code",
   "execution_count": 167,
   "metadata": {
    "ExecuteTime": {
     "end_time": "2016-11-06T10:57:51.825238",
     "start_time": "2016-11-06T10:57:51.809103"
    },
    "collapsed": false,
    "hidden": true
   },
   "outputs": [
    {
     "data": {
      "text/html": [
       "<div>\n",
       "<table border=\"1\" class=\"dataframe\">\n",
       "  <thead>\n",
       "    <tr style=\"text-align: right;\">\n",
       "      <th></th>\n",
       "      <th>Count</th>\n",
       "    </tr>\n",
       "  </thead>\n",
       "  <tbody>\n",
       "    <tr>\n",
       "      <th>leonardodicaprio</th>\n",
       "      <td>7</td>\n",
       "    </tr>\n",
       "    <tr>\n",
       "      <th>harrisonford</th>\n",
       "      <td>7</td>\n",
       "    </tr>\n",
       "    <tr>\n",
       "      <th>robertdeniro</th>\n",
       "      <td>7</td>\n",
       "    </tr>\n",
       "    <tr>\n",
       "      <th>clinteastwood</th>\n",
       "      <td>6</td>\n",
       "    </tr>\n",
       "    <tr>\n",
       "      <th>tomhanks</th>\n",
       "      <td>6</td>\n",
       "    </tr>\n",
       "  </tbody>\n",
       "</table>\n",
       "</div>"
      ],
      "text/plain": [
       "                  Count\n",
       "leonardodicaprio      7\n",
       "harrisonford          7\n",
       "robertdeniro          7\n",
       "clinteastwood         6\n",
       "tomhanks              6"
      ]
     },
     "execution_count": 167,
     "metadata": {},
     "output_type": "execute_result"
    }
   ],
   "source": [
    "actors_df = cvec.fit_transform(df['Actors']).todense()\n",
    "actor_col = cvec.get_feature_names()\n",
    "actors_df = pd.DataFrame(actors_df, columns=actor_col)\n",
    "\n",
    "actors = pd.DataFrame(actors_df.sum())\n",
    "actors.columns = ['Count']\n",
    "actors.sort_values(['Count'], ascending=False, inplace=True)\n",
    "actors.head()"
   ]
  },
  {
   "cell_type": "code",
   "execution_count": 206,
   "metadata": {
    "ExecuteTime": {
     "end_time": "2016-11-06T11:15:54.979613",
     "start_time": "2016-11-06T11:15:54.386797"
    },
    "collapsed": false,
    "hidden": true
   },
   "outputs": [
    {
     "name": "stdout",
     "output_type": "stream",
     "text": [
      "1    733\n",
      "2     87\n",
      "3     19\n",
      "4      9\n",
      "7      3\n",
      "6      2\n",
      "5      2\n",
      "Name: Count, dtype: int64\n",
      "(16, 1)\n",
      "                  Count\n",
      "clinteastwood         6\n",
      "tomhanks              6\n",
      "leonardodicaprio      7\n",
      "harrisonford          7\n",
      "robertdeniro          7\n"
     ]
    },
    {
     "name": "stderr",
     "output_type": "stream",
     "text": [
      "/Users/kristensu/anaconda/lib/python2.7/site-packages/ipykernel/__main__.py:3: SettingWithCopyWarning: \n",
      "A value is trying to be set on a copy of a slice from a DataFrame\n",
      "\n",
      "See the caveats in the documentation: http://pandas.pydata.org/pandas-docs/stable/indexing.html#indexing-view-versus-copy\n",
      "  app.launch_new_instance()\n"
     ]
    },
    {
     "data": {
      "text/plain": [
       "<matplotlib.legend.Legend at 0x115e531d0>"
      ]
     },
     "execution_count": 206,
     "metadata": {},
     "output_type": "execute_result"
    },
    {
     "data": {
      "image/png": "[encoded data removed]",
      "text/plain": [
       "<matplotlib.figure.Figure at 0x116cbd250>"
      ]
     },
     "metadata": {},
     "output_type": "display_data"
    }
   ],
   "source": [
    "print actors['Count'].value_counts()\n",
    "top_actors = actors[actors['Count'] > 3]\n",
    "top_actors.sort_values('Count', ascending=True, inplace=True)\n",
    "print top_actors.shape\n",
    "print top_actors.tail()\n",
    "\n",
    "ax = top_actors.plot(kind='barh', figsize=(16,10), color='royalblue')\n",
    "ax.set_title('Top Actors in IMDB Top 250 Films', y=1.01)\n",
    "ax.tick_params(labelsize=16)\n",
    "ax.legend(fontsize=16, loc='center right')"
   ]
  },
  {
   "cell_type": "code",
   "execution_count": 207,
   "metadata": {
    "ExecuteTime": {
     "end_time": "2016-11-06T11:16:10.811122",
     "start_time": "2016-11-06T11:16:10.261058"
    },
    "collapsed": false,
    "hidden": true
   },
   "outputs": [
    {
     "name": "stdout",
     "output_type": "stream",
     "text": [
      "          Count\n",
      "jean          4\n",
      "robert        5\n",
      "clint         5\n",
      "leonardo      6\n",
      "tom           8\n",
      "1    129\n",
      "2     17\n",
      "3     16\n",
      "4      4\n",
      "5      2\n",
      "8      1\n",
      "6      1\n",
      "Name: Count, dtype: int64\n"
     ]
    },
    {
     "data": {
      "text/plain": [
       "<matplotlib.legend.Legend at 0x118072650>"
      ]
     },
     "execution_count": 207,
     "metadata": {},
     "output_type": "execute_result"
    },
    {
     "data": {
      "image/png": "[encoded data removed]",
      "text/plain": [
       "<matplotlib.figure.Figure at 0x119aeded0>"
      ]
     },
     "metadata": {},
     "output_type": "display_data"
    }
   ],
   "source": [
    "actor_first = cvec.fit_transform(df['Actor_First_Name']).todense()\n",
    "actor_first_col = cvec.get_feature_names()\n",
    "actor_first = pd.DataFrame(actor_first, columns=actor_first_col)\n",
    "\n",
    "actor_first = pd.DataFrame(actor_first.sum())\n",
    "actor_first.columns = ['Count']\n",
    "actor_first.sort_values(['Count'], inplace=True)\n",
    "print actor_first.tail()\n",
    "print actor_first['Count'].value_counts()\n",
    "\n",
    "top_actor_first = actor_first[actor_first['Count'] > 2]\n",
    "\n",
    "\"\"\"self, x=None, y=None, kind='line', ax=None, subplots=False, sharex=None, \\\n",
    "sharey=False, layout=None, figsize=None, use_index=True, title=None, \\\n",
    "grid=None, legend=True, style=None, logx=False, logy=False, loglog=False, \\\n",
    "xticks=None, yticks=None, xlim=None, ylim=None, rot=None, fontsize=None, \\\n",
    "colormap=None, table=False, yerr=None, xerr=None, secondary_y=False, \\\n",
    "sort_columns=False, **kwds\"\"\"\n",
    "\n",
    "ax = top_actor_first.plot(kind='barh', figsize=(16,12), color='dodgerblue')\n",
    "ax.set_title('Top Actor First Names in IMDB Top 250 Films', y=1.01)\n",
    "ax.tick_params(labelsize=16)\n",
    "ax.legend(fontsize=16, loc='center right')"
   ]
  },
  {
   "cell_type": "markdown",
   "metadata": {
    "heading_collapsed": true,
    "hidden": true
   },
   "source": [
    "#### Unused Categorical Histograms"
   ]
  },
  {
   "cell_type": "code",
   "execution_count": null,
   "metadata": {
    "ExecuteTime": {
     "end_time": "2016-11-06T11:21:51.529266",
     "start_time": "2016-11-06T11:21:50.094079"
    },
    "collapsed": true,
    "hidden": true
   },
   "outputs": [],
   "source": [
    "# Ask how to create barh subplots with categorical histograms\n",
    "\n",
    "fig, (ax1, ax2) = plt.subplots(1,2, figsize=(16,30), sharex=True)\n",
    "\n",
    "ax1.barh( color='royalblue')\n",
    "ax1.set_title('Top Actors in IMDB Top 250 Films', y=1.01)\n",
    "ax1.tick_params(labelsize=16)\n",
    "ax1.legend(fontsize=16, loc='center right')\n",
    "\n",
    "ax2 = top_actor_first.plot(kind='barh', figsize=(16,12), color='dodgerblue')\n",
    "ax2.set_title('Top Actor First Names in IMDB Top 250 Films', y=1.01)\n",
    "ax2.tick_params(labelsize=16)\n",
    "ax2.legend(fontsize=16, loc='center right')"
   ]
  },
  {
   "cell_type": "markdown",
   "metadata": {
    "heading_collapsed": true,
    "hidden": true
   },
   "source": [
    "#### Directors "
   ]
  },
  {
   "cell_type": "code",
   "execution_count": 219,
   "metadata": {
    "ExecuteTime": {
     "end_time": "2016-11-06T11:25:39.321314",
     "start_time": "2016-11-06T11:25:38.562219"
    },
    "collapsed": false,
    "hidden": true
   },
   "outputs": [
    {
     "name": "stdout",
     "output_type": "stream",
     "text": [
      "1    133\n",
      "2     23\n",
      "3     12\n",
      "7      5\n",
      "5      4\n",
      "6      2\n",
      "4      2\n",
      "Name: Count, dtype: int64\n",
      "(13, 1)\n",
      "                  Count\n",
      "stevenspielberg       7\n",
      "christophernolan      7\n",
      "martinscorsese        7\n",
      "alfredhitchcock       7\n",
      "stanleykubrick        7\n"
     ]
    },
    {
     "name": "stderr",
     "output_type": "stream",
     "text": [
      "/Users/kristensu/anaconda/lib/python2.7/site-packages/ipykernel/__main__.py:13: SettingWithCopyWarning: \n",
      "A value is trying to be set on a copy of a slice from a DataFrame\n",
      "\n",
      "See the caveats in the documentation: http://pandas.pydata.org/pandas-docs/stable/indexing.html#indexing-view-versus-copy\n",
      "/Users/kristensu/anaconda/lib/python2.7/site-packages/matplotlib/legend.py:325: UserWarning: Unrecognized location \"bottom right\". Falling back on \"best\"; valid locations are\n",
      "\tright\n",
      "\tcenter left\n",
      "\tupper right\n",
      "\tlower right\n",
      "\tbest\n",
      "\tcenter\n",
      "\tlower left\n",
      "\tcenter right\n",
      "\tupper left\n",
      "\tupper center\n",
      "\tlower center\n",
      "\n",
      "  six.iterkeys(self.codes))))\n"
     ]
    },
    {
     "data": {
      "text/plain": [
       "<matplotlib.legend.Legend at 0x11df447d0>"
      ]
     },
     "execution_count": 219,
     "metadata": {},
     "output_type": "execute_result"
    },
    {
     "data": {
      "image/png": "[encoded data removed]",
      "text/plain": [
       "<matplotlib.figure.Figure at 0x11741ead0>"
      ]
     },
     "metadata": {},
     "output_type": "display_data"
    }
   ],
   "source": [
    "# Create column of concatenated directors to identify unique people\n",
    "df['Director'] = df['Director'].apply(lambda x: x.replace(' ',''))\n",
    "\n",
    "directors_df = cvec.fit_transform(df['Director']).todense()\n",
    "directors_col = cvec.get_feature_names()\n",
    "directors_df = pd.DataFrame(directors_df, columns=directors_col)\n",
    "directors = pd.DataFrame(directors_df.sum())\n",
    "directors.columns = ['Count']\n",
    "directors.sort_values(['Count'], inplace=True)\n",
    "\n",
    "print directors['Count'].value_counts()\n",
    "top_directors = directors[directors['Count'] > 3]\n",
    "top_directors.sort_values('Count', inplace=True)\n",
    "print top_directors.shape\n",
    "print top_directors.tail()\n",
    "\n",
    "ax = top_directors.plot(kind='barh', figsize=(16,12), color='seagreen')\n",
    "ax.set_title('Top Directors in IMDB Top 250 Films', y=1.01)\n",
    "ax.tick_params(labelsize=16)\n",
    "ax.legend(fontsize=16, loc='bottom right')"
   ]
  },
  {
   "cell_type": "markdown",
   "metadata": {
    "heading_collapsed": true,
    "hidden": true
   },
   "source": [
    "#### Plot"
   ]
  },
  {
   "cell_type": "code",
   "execution_count": 235,
   "metadata": {
    "ExecuteTime": {
     "end_time": "2016-11-06T11:33:48.589495",
     "start_time": "2016-11-06T11:33:47.639468"
    },
    "collapsed": false,
    "hidden": true
   },
   "outputs": [
    {
     "name": "stdout",
     "output_type": "stream",
     "text": [
      "(36, 1)\n",
      "        Count\n",
      "love       26\n",
      "family     31\n",
      "police     32\n",
      "father     33\n",
      "new        34\n",
      "war        36\n",
      "man        40\n",
      "world      43\n",
      "young      46\n",
      "life       66\n"
     ]
    },
    {
     "name": "stderr",
     "output_type": "stream",
     "text": [
      "/Users/kristensu/anaconda/lib/python2.7/site-packages/ipykernel/__main__.py:11: SettingWithCopyWarning: \n",
      "A value is trying to be set on a copy of a slice from a DataFrame\n",
      "\n",
      "See the caveats in the documentation: http://pandas.pydata.org/pandas-docs/stable/indexing.html#indexing-view-versus-copy\n"
     ]
    },
    {
     "data": {
      "text/plain": [
       "<matplotlib.legend.Legend at 0x12b575290>"
      ]
     },
     "execution_count": 235,
     "metadata": {},
     "output_type": "execute_result"
    },
    {
     "data": {
      "image/png": "[encoded data removed]",
      "text/plain": [
       "<matplotlib.figure.Figure at 0x1249f0550>"
      ]
     },
     "metadata": {},
     "output_type": "display_data"
    }
   ],
   "source": [
    "plot_df = cvec.fit_transform(df['Plot']).todense()\n",
    "plot_col = cvec.get_feature_names()\n",
    "plot_df = pd.DataFrame(plot_df, columns=plot_col)\n",
    "plot = pd.DataFrame(plot_df.sum())\n",
    "plot.columns = ['Count']\n",
    "plot.sort_values(['Count'], inplace=True)\n",
    "plot['Count'].value_counts().sort_values(ascending=True)\n",
    "\n",
    "# print plot['Count'].value_counts()\n",
    "top_plot = plot[plot['Count'] > 15]\n",
    "top_plot.sort_values('Count', inplace=True)\n",
    "print top_plot.shape\n",
    "print top_plot.tail(10)\n",
    "\n",
    "ax = top_plot.plot(kind='barh', figsize=(16,12), color='mediumslateblue')\n",
    "ax.set_title('Top Plot Words in IMDB Top 250 Films', y=1.01)\n",
    "ax.tick_params(labelsize=16)\n",
    "ax.legend(fontsize=16, loc='center right')"
   ]
  },
  {
   "cell_type": "markdown",
   "metadata": {
    "heading_collapsed": true,
    "hidden": true
   },
   "source": [
    "#### Title"
   ]
  },
  {
   "cell_type": "code",
   "execution_count": 252,
   "metadata": {
    "ExecuteTime": {
     "end_time": "2016-11-06T11:41:51.600559",
     "start_time": "2016-11-06T11:41:50.484658"
    },
    "collapsed": false,
    "hidden": true
   },
   "outputs": [
    {
     "name": "stdout",
     "output_type": "stream",
     "text": [
      "(47, 1)\n",
      "         Count\n",
      "episode      3\n",
      "day          3\n",
      "man          3\n",
      "life         3\n",
      "wild         3\n",
      "king         3\n",
      "story        3\n",
      "lord         3\n",
      "star         4\n",
      "wars         4\n"
     ]
    },
    {
     "name": "stderr",
     "output_type": "stream",
     "text": [
      "/Users/kristensu/anaconda/lib/python2.7/site-packages/ipykernel/__main__.py:11: SettingWithCopyWarning: \n",
      "A value is trying to be set on a copy of a slice from a DataFrame\n",
      "\n",
      "See the caveats in the documentation: http://pandas.pydata.org/pandas-docs/stable/indexing.html#indexing-view-versus-copy\n"
     ]
    },
    {
     "data": {
      "text/plain": [
       "<matplotlib.legend.Legend at 0x12106f890>"
      ]
     },
     "execution_count": 252,
     "metadata": {},
     "output_type": "execute_result"
    },
    {
     "data": {
      "image/png": "[encoded data removed]",
      "text/plain": [
       "<matplotlib.figure.Figure at 0x1318b8d10>"
      ]
     },
     "metadata": {},
     "output_type": "display_data"
    }
   ],
   "source": [
    "title_df = cvec.fit_transform(df['Title']).todense()\n",
    "title_col = cvec.get_feature_names()\n",
    "title_df = pd.DataFrame(title_df, columns=title_col)\n",
    "title = pd.DataFrame(title_df.sum())\n",
    "title.columns = ['Count']\n",
    "title.sort_values(['Count'], inplace=True)\n",
    "title['Count'].value_counts().sort_values(ascending=True)\n",
    "\n",
    "# print plot['Count'].value_counts()\n",
    "top_title = title[title['Count'] > 1]\n",
    "top_title.sort_values('Count', inplace=True)\n",
    "print top_title.shape\n",
    "print top_title.tail(10)\n",
    "\n",
    "ax = top_title.plot(kind='barh', figsize=(16,12), color='sage')\n",
    "ax.set_title('Top Title Words in IMDB Top 250 Films', y=1.01)\n",
    "ax.tick_params(labelsize=16)\n",
    "ax.legend(fontsize=16, loc='center right')"
   ]
  },
  {
   "cell_type": "markdown",
   "metadata": {
    "heading_collapsed": true,
    "hidden": true
   },
   "source": [
    "#### Genre"
   ]
  },
  {
   "cell_type": "code",
   "execution_count": 258,
   "metadata": {
    "ExecuteTime": {
     "end_time": "2016-11-06T11:44:44.424303",
     "start_time": "2016-11-06T11:44:43.871444"
    },
    "collapsed": false,
    "hidden": true
   },
   "outputs": [
    {
     "name": "stdout",
     "output_type": "stream",
     "text": [
      "(23, 1)\n",
      "           Count\n",
      "sci           22\n",
      "fantasy       23\n",
      "biography     26\n",
      "mystery       30\n",
      "action        35\n",
      "thriller      39\n",
      "comedy        42\n",
      "crime         55\n",
      "adventure     61\n",
      "drama        173\n"
     ]
    },
    {
     "data": {
      "text/plain": [
       "<matplotlib.legend.Legend at 0x137e5cb10>"
      ]
     },
     "execution_count": 258,
     "metadata": {},
     "output_type": "execute_result"
    },
    {
     "data": {
      "image/png": "[encoded data removed]",
      "text/plain": [
       "<matplotlib.figure.Figure at 0x137711f10>"
      ]
     },
     "metadata": {},
     "output_type": "display_data"
    }
   ],
   "source": [
    "genre_df = cvec.fit_transform(df['Genre']).todense()\n",
    "genre_col = cvec.get_feature_names()\n",
    "genre_df = pd.DataFrame(genre_df, columns=genre_col)\n",
    "genre = pd.DataFrame(genre_df.sum())\n",
    "genre.columns = ['Count']\n",
    "genre.sort_values(['Count'], inplace=True)\n",
    "genre['Count'].value_counts().sort_values(ascending=True)\n",
    "\n",
    "# print plot['Count'].value_counts()\n",
    "top_genre = genre[genre['Count'] > 0]\n",
    "top_genre.sort_values('Count', inplace=True)\n",
    "print top_genre.shape\n",
    "print top_genre.tail(10)\n",
    "\n",
    "ax = top_genre.plot(kind='barh', figsize=(16,12), color='darkseagreen')\n",
    "ax.set_title('Top Genres in IMDB Top 250 Films', y=1.01)\n",
    "ax.tick_params(labelsize=16)\n",
    "ax.legend(fontsize=16, loc='center right')"
   ]
  },
  {
   "cell_type": "markdown",
   "metadata": {
    "heading_collapsed": true,
    "hidden": true
   },
   "source": [
    "#### Production Company"
   ]
  },
  {
   "cell_type": "code",
   "execution_count": 270,
   "metadata": {
    "ExecuteTime": {
     "end_time": "2016-11-06T11:50:42.791451",
     "start_time": "2016-11-06T11:50:41.795286"
    },
    "collapsed": false,
    "hidden": true
   },
   "outputs": [
    {
     "name": "stdout",
     "output_type": "stream",
     "text": [
      "0    SonyPicturesClassics\n",
      "1        ColumbiaPictures\n",
      "2       ParamountPictures\n",
      "Name: Production, dtype: object\n",
      "(19, 1)\n",
      "                    Count\n",
      "mgm                     6\n",
      "waltdisneypictures      7\n",
      "miramaxfilms           10\n",
      "columbiapictures       10\n",
      "universalpictures      12\n",
      "20thcenturyfox         12\n",
      "unitedartists          13\n",
      "paramountpictures      18\n",
      "pictures               21\n",
      "warnerbros             30\n"
     ]
    },
    {
     "name": "stderr",
     "output_type": "stream",
     "text": [
      "/Users/kristensu/anaconda/lib/python2.7/site-packages/ipykernel/__main__.py:15: SettingWithCopyWarning: \n",
      "A value is trying to be set on a copy of a slice from a DataFrame\n",
      "\n",
      "See the caveats in the documentation: http://pandas.pydata.org/pandas-docs/stable/indexing.html#indexing-view-versus-copy\n"
     ]
    },
    {
     "data": {
      "text/plain": [
       "<matplotlib.legend.Legend at 0x13adde590>"
      ]
     },
     "execution_count": 270,
     "metadata": {},
     "output_type": "execute_result"
    },
    {
     "data": {
      "image/png": "[encoded data removed]",
      "text/plain": [
       "<matplotlib.figure.Figure at 0x13ac844d0>"
      ]
     },
     "metadata": {},
     "output_type": "display_data"
    }
   ],
   "source": [
    "# Create column of concatenated production company names to identify unique companies\n",
    "df['Production'] = df['Production'].apply(lambda x: x.replace(' ',''))\n",
    "print df['Production'].head(3)\n",
    "\n",
    "production_df = cvec.fit_transform(df['Production']).todense()\n",
    "production_col = cvec.get_feature_names()\n",
    "production_df = pd.DataFrame(production_df, columns=production_col)\n",
    "production = pd.DataFrame(production_df.sum())\n",
    "production.columns = ['Count']\n",
    "production.sort_values(['Count'], inplace=True)\n",
    "production['Count'].value_counts().sort_values(ascending=True)\n",
    "\n",
    "# print production['Count'].value_counts()\n",
    "top_production = production[production['Count'] > 2]\n",
    "top_production.sort_values('Count', inplace=True)\n",
    "print top_production.shape\n",
    "print top_production.tail(10)\n",
    "\n",
    "ax = top_production.plot(kind='barh', figsize=(16,12), color='darkorchid')\n",
    "ax.set_title('Top Plot Words in IMDB Top 250 Films', y=1.01)\n",
    "ax.tick_params(labelsize=16)\n",
    "ax.legend(fontsize=16, loc='center right')"
   ]
  },
  {
   "cell_type": "markdown",
   "metadata": {},
   "source": [
    "## EDA"
   ]
  },
  {
   "cell_type": "markdown",
   "metadata": {
    "heading_collapsed": true
   },
   "source": [
    "### Histograms"
   ]
  },
  {
   "cell_type": "markdown",
   "metadata": {
    "heading_collapsed": true,
    "hidden": true
   },
   "source": [
    "#### Year, Runtime, Gross"
   ]
  },
  {
   "cell_type": "code",
   "execution_count": 326,
   "metadata": {
    "ExecuteTime": {
     "end_time": "2016-11-06T12:20:02.040588",
     "start_time": "2016-11-06T12:20:00.979981"
    },
    "collapsed": false,
    "hidden": true
   },
   "outputs": [
    {
     "data": {
      "image/png": "[encoded data removed]",
      "text/plain": [
       "<matplotlib.figure.Figure at 0x15944cfd0>"
      ]
     },
     "metadata": {},
     "output_type": "display_data"
    }
   ],
   "source": [
    "plt.style.use('ggplot')\n",
    "fig = plt.figure(figsize=(16,24))\n",
    "\n",
    "ax1 = fig.add_subplot(3, 1, 1)\n",
    "ax2 = fig.add_subplot(3, 1, 2)\n",
    "ax3 = fig.add_subplot(3, 1, 3)\n",
    "\n",
    "ax1.hist(df['Year'], bins=50, color='royalblue')\n",
    "ax1.set_title('Distribution of Release Year in IMDB Top 250 Films', \\\n",
    "             fontsize=18, y=1.01)\n",
    "ax1.set_xlabel('Year', fontsize=14)\n",
    "ax1.set_ylim(top=16)\n",
    "ax1.tick_params(labelsize=14)\n",
    "\n",
    "ax2.hist(df['Runtime'], bins=50, color='lightseagreen')\n",
    "ax2.set_title('Distribution of Runtime in IMDB Top 250 Films', \\\n",
    "             fontsize=18, y=1.01)\n",
    "ax2.set_xlabel('Runtime (in minutes)', fontsize=14)\n",
    "ax2.tick_params(labelsize=14)\n",
    "\n",
    "gross_hist = df[df['Gross'] < 100000000]\n",
    "gross_hist = gross_hist[gross_hist['Gross'] > 0]\n",
    "ax3.hist(gross_hist['Gross']/1000, bins=50, color='dodgerblue')\n",
    "ax3.set_title('Distribution of Gross Revenue in IMDB Top 250 Films', \\\n",
    "             fontsize=18, y=1.01)\n",
    "ax3.set_xlabel('Gross Revenue (in $1000s)', fontsize=14, y = -2.01)\n",
    "ax3.tick_params(labelsize=14)"
   ]
  },
  {
   "cell_type": "markdown",
   "metadata": {
    "hidden": true
   },
   "source": [
    "#### Reviews"
   ]
  },
  {
   "cell_type": "code",
   "execution_count": 371,
   "metadata": {
    "ExecuteTime": {
     "end_time": "2016-11-06T12:34:28.753413",
     "start_time": "2016-11-06T12:34:28.332390"
    },
    "collapsed": false,
    "hidden": true
   },
   "outputs": [
    {
     "data": {
      "image/png": "[encoded data removed]",
      "text/plain": [
       "<matplotlib.figure.Figure at 0x151fe15d0>"
      ]
     },
     "metadata": {},
     "output_type": "display_data"
    }
   ],
   "source": [
    "plt.style.use('ggplot')\n",
    "fig, (ax1, ax2) = plt.subplots(nrows=1, ncols=2,figsize=(16,6))\n",
    "\n",
    "metascore = df[df['Metascore'] > 0]\n",
    "ax1.hist(metascore['Metascore'], color='royalblue')\n",
    "ax1.set_title('Distribution of Metascores', \\\n",
    "             fontsize=14, y=1.01)\n",
    "ax1.tick_params(labelsize=12)\n",
    "\n",
    "tomatoMeter = df[df['tomatoMeter'] > 0]\n",
    "ax2.hist(tomatoMeter['tomatoMeter'], color='steelblue')\n",
    "ax2.set_title('Distribution of tomatoMeter Scores', \\\n",
    "             fontsize=14, y=1.01)\n",
    "ax2.tick_params(labelsize=12)"
   ]
  },
  {
   "cell_type": "code",
   "execution_count": 391,
   "metadata": {
    "ExecuteTime": {
     "end_time": "2016-11-06T12:43:28.857886",
     "start_time": "2016-11-06T12:43:28.260538"
    },
    "collapsed": false,
    "hidden": true
   },
   "outputs": [
    {
     "data": {
      "image/png": "[encoded data removed]",
      "text/plain": [
       "<matplotlib.figure.Figure at 0x153d3c610>"
      ]
     },
     "metadata": {},
     "output_type": "display_data"
    }
   ],
   "source": [
    "plt.style.use('ggplot')\n",
    "fig, (ax1, ax2, ax3) = plt.subplots(nrows=1, ncols=3,figsize=(20,6))\n",
    "\n",
    "imdbRating = df[df['imdbRating'] > 0]\n",
    "ax1.hist(metascore['imdbRating'], color='royalblue')\n",
    "ax1.set_title('Distribution of imdbRatings', \\\n",
    "             fontsize=18, y=1.01)\n",
    "ax1.tick_params(labelsize=12)\n",
    "\n",
    "tomatoRating = df[df['tomatoRating'] > 0]\n",
    "ax2.hist(tomatoMeter['tomatoRating'], color='steelblue')\n",
    "ax2.set_title('Distribution of tomatoRatings Scores', \\\n",
    "             fontsize=18, y=1.01)\n",
    "ax2.tick_params(labelsize=12)\n",
    "\n",
    "tomatoRating = df[df['tomatoRating'] > 0]\n",
    "ax2.hist(tomatoMeter['tomatoRating'], color='steelblue')\n",
    "ax2.set_title('Distribution of tomatoRatings Scores', \\\n",
    "             fontsize=18, y=1.01)\n",
    "\n",
    "\n",
    "tomatoUserRating = df[df['tomatoUserRating'] > 0]\n",
    "ax3.hist(tomatoMeter['tomatoUserRating'], color='navy')\n",
    "ax3.set_title('Distribution of tomatoUserRatings Scores', \\\n",
    "             fontsize=18, y=1.01)\n",
    "ax3.tick_params(labelsize=12)"
   ]
  },
  {
   "cell_type": "markdown",
   "metadata": {},
   "source": [
    "### Scatterplots"
   ]
  },
  {
   "cell_type": "raw",
   "metadata": {
    "ExecuteTime": {
     "end_time": "2016-11-06T12:54:53.227157",
     "start_time": "2016-11-06T12:54:43.992393"
    }
   },
   "source": [
    "pairplot_cols = ['Gross', 'Opening', 'Budget', 'Metascore', 'imdbRating', 'imdbVotes', \\\n",
    "                'tomatoMeter', 'tomatoRating', 'tomatoReviews', 'tomatoFresh', \\\n",
    "                 'tomatoRotten', 'Oscars_Won', 'Oscar_Noms', 'Awards_Won', 'Other_Noms']\n",
    "pairplot_df = df.loc[:, pairplot_cols]\n",
    "sns.pairplot(pairplot_df)"
   ]
  },
  {
   "cell_type": "code",
   "execution_count": null,
   "metadata": {
    "collapsed": true
   },
   "outputs": [],
   "source": []
  },
  {
   "cell_type": "code",
   "execution_count": null,
   "metadata": {
    "collapsed": true
   },
   "outputs": [],
   "source": []
  },
  {
   "cell_type": "markdown",
   "metadata": {
    "heading_collapsed": true
   },
   "source": [
    "### Unused Separate Histograms"
   ]
  },
  {
   "cell_type": "code",
   "execution_count": 572,
   "metadata": {
    "ExecuteTime": {
     "end_time": "2016-11-05T12:51:02.545299",
     "start_time": "2016-11-05T12:51:01.055899"
    },
    "collapsed": false,
    "hidden": true
   },
   "outputs": [
    {
     "data": {
      "text/plain": [
       "<matplotlib.axes._subplots.AxesSubplot at 0x13a4aa710>"
      ]
     },
     "execution_count": 572,
     "metadata": {},
     "output_type": "execute_result"
    },
    {
     "data": {
      "image/png": "[encoded data removed]",
      "text/plain": [
       "<matplotlib.figure.Figure at 0x13a462850>"
      ]
     },
     "metadata": {},
     "output_type": "display_data"
    }
   ],
   "source": [
    "bins_dict = {'Year': 50, 'Runtime': 50, 'imdbRating': 50}\n",
    "facecolor_dict = {'Year': 'royalblue', 'Runtime': 'coral', 'imdbRating': 'lightseagreen'}\n",
    "axis_titles = {'Year': 'Distribution of Years in IMDB Top 250 Films',\n",
    "              'Runtime': 'Distribution of Runtime in IMDB Top 250 Films',\n",
    "              'imdbRating': 'Distribution of Years in IMDB Top 250 Films'}\n",
    "#data, column=None, by=None, grid=True, xlabelsize=None, \n",
    "#xrot=None, ylabelsize=None, yrot=None, ax=None, sharex=False, \n",
    "#sharey=False, figsize=None, layout=None, bins=10, **kwds)¶\n",
    "xlabel = 14\n",
    "ylabel = 14\n",
    "year_bins = 50\n",
    "df['Year'].hist(figsize=(16,4),xlabelsize=xlabel, ylabelsize=ylabel, bins=bins_dict['Year'],\n",
    "               facecolor=facecolor_dict['Year'], alpha = .85)"
   ]
  },
  {
   "cell_type": "code",
   "execution_count": null,
   "metadata": {
    "ExecuteTime": {
     "end_time": "2016-11-05T00:06:30.345443",
     "start_time": "2016-11-05T00:06:30.317181"
    },
    "collapsed": true,
    "hidden": true
   },
   "outputs": [],
   "source": [
    "bins_dict = {'Year': 50, 'Runtime': 50, 'imdbRating': 50}\n",
    "facecolor_dict = {'Year': 'royalblue', 'Runtime': 'coral', 'imdbRating': 'lightseagreen'}\n",
    "axis_titles = {'Year': 'Distribution of Years in IMDB Top 250 Films',\n",
    "              'Runtime': 'Distribution of Runtime in IMDB Top 250 Films',\n",
    "              'imdbRating': 'Distribution of Years in IMDB Top 250 Films'}\n",
    "\n",
    "\n",
    "def hist_plot(x):\n",
    "    fig = plt.figure(figsize=(16,6))\n",
    "    ax = fig.add_subplot(111)\n",
    "    n, bins, patches = ax.hist(x,  bins=bins_dict[x], facecolor=facecolor_dict[x], alpha=0.85)\n",
    "    ax.set_title(axis_titles[x], fontsize=20, y=1.02)\n",
    "    #ax.set_xticklabels(labels, fontsize=16)\n",
    "    #ax.set_xticks(labels)\n",
    "    #ax.set_ylim(0, 16)\n",
    "    #y_labels = [i for i in range(18) if i%2 == 0]\n",
    "    #ax.set_yticklabels(y_labels, fontsize=16)"
   ]
  },
  {
   "cell_type": "code",
   "execution_count": 525,
   "metadata": {
    "ExecuteTime": {
     "end_time": "2016-11-04T17:34:38.654718",
     "start_time": "2016-11-04T17:34:38.016353"
    },
    "code_folding": [],
    "collapsed": false,
    "hidden": true
   },
   "outputs": [
    {
     "data": {
      "text/plain": [
       "[<matplotlib.text.Text at 0x137187d10>,\n",
       " <matplotlib.text.Text at 0x1371fb610>,\n",
       " <matplotlib.text.Text at 0x13781ebd0>,\n",
       " <matplotlib.text.Text at 0x137814510>,\n",
       " <matplotlib.text.Text at 0x13780c150>,\n",
       " <matplotlib.text.Text at 0x137826390>,\n",
       " <matplotlib.text.Text at 0x137826b10>,\n",
       " <matplotlib.text.Text at 0x1378302d0>,\n",
       " <matplotlib.text.Text at 0x137830a50>]"
      ]
     },
     "execution_count": 525,
     "metadata": {},
     "output_type": "execute_result"
    },
    {
     "data": {
      "image/png": "[encoded data removed]",
      "text/plain": [
       "<matplotlib.figure.Figure at 0x13124d490>"
      ]
     },
     "metadata": {},
     "output_type": "display_data"
    }
   ],
   "source": [
    "# Years\n",
    "fig = plt.figure(figsize=(16,6))\n",
    "ax = fig.add_subplot(111)\n",
    "n, bins, patches = ax.hist(df['Year'],  bins=50, facecolor='royalblue', alpha=0.85)\n",
    "\n",
    "def decades():\n",
    "    i = 1910\n",
    "    labels = []\n",
    "    while i < 2020:\n",
    "        labels.append(i + 10)\n",
    "        i += 10\n",
    "    return labels\n",
    "labels = decades()\n",
    "\n",
    "ax.set_title('Distribution of Years in IMDB Top 250 Films', fontsize=20, y=1.02)\n",
    "ax.set_xticklabels(labels, fontsize=16)\n",
    "ax.set_xticks(labels)\n",
    "ax.set_ylim(0, 16)\n",
    "y_labels = [i for i in range(18) if i%2 == 0]\n",
    "ax.set_yticklabels(y_labels, fontsize=16)"
   ]
  },
  {
   "cell_type": "code",
   "execution_count": 286,
   "metadata": {
    "ExecuteTime": {
     "end_time": "2016-11-06T12:01:08.514453",
     "start_time": "2016-11-06T12:01:08.169207"
    },
    "collapsed": false,
    "hidden": true
   },
   "outputs": [
    {
     "data": {
      "text/plain": [
       "<matplotlib.text.Text at 0x145437cd0>"
      ]
     },
     "execution_count": 286,
     "metadata": {},
     "output_type": "execute_result"
    },
    {
     "data": {
      "image/png": "[encoded data removed]",
      "text/plain": [
       "<matplotlib.figure.Figure at 0x121c75250>"
      ]
     },
     "metadata": {},
     "output_type": "display_data"
    }
   ],
   "source": [
    "# Runtime\n",
    "fig = plt.figure(figsize=(16,6))\n",
    "ax = fig.add_subplot(111)\n",
    "n, bins, patches = ax.hist(df['Runtime'],  bins=50, facecolor='coral', alpha=0.85)\n",
    "\n",
    "ax.set_title('Distribution of Runtime in IMDB Top 250 Films', fontsize=20, y=1.02)"
   ]
  },
  {
   "cell_type": "markdown",
   "metadata": {
    "collapsed": true
   },
   "source": [
    "### Other"
   ]
  },
  {
   "cell_type": "code",
   "execution_count": null,
   "metadata": {
    "collapsed": true
   },
   "outputs": [],
   "source": []
  }
 ],
 "metadata": {
  "kernelspec": {
   "display_name": "Python 2",
   "language": "python",
   "name": "python2"
  },
  "language_info": {
   "codemirror_mode": {
    "name": "ipython",
    "version": 2
   },
   "file_extension": ".py",
   "mimetype": "text/x-python",
   "name": "python",
   "nbconvert_exporter": "python",
   "pygments_lexer": "ipython2",
   "version": "2.7.12"
  },
  "latex_envs": {
   "bibliofile": "biblio.bib",
   "cite_by": "apalike",
   "current_citInitial": 1,
   "eqLabelWithNumbers": true,
   "eqNumInitial": 0
  },
  "toc": {
   "nav_menu": {
    "height": "102px",
    "width": "252px"
   },
   "navigate_menu": true,
   "number_sections": true,
   "sideBar": true,
   "threshold": 4,
   "toc_cell": false,
   "toc_section_display": "block",
   "toc_window_display": false
  }
 },
 "nbformat": 4,
 "nbformat_minor": 0
}
