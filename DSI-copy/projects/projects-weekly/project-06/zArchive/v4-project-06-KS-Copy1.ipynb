{
 "cells": [
  {
   "cell_type": "code",
   "execution_count": 2,
   "metadata": {
    "ExecuteTime": {
     "end_time": "2016-11-02T17:37:52.996793",
     "start_time": "2016-11-02T17:37:52.981675"
    },
    "collapsed": false
   },
   "outputs": [],
   "source": [
    "import bs4\n",
    "from bs4 import BeautifulSoup\n",
    "import requests\n",
    "import re\n",
    "import json\n",
    "import pandas as pd\n",
    "import numpy as np\n",
    "\n",
    "from sklearn.feature_extraction.text import CountVectorizer\n",
    "import matplotlib.pyplot as plt\n",
    "%matplotlib inline\n",
    "plt.style.use('fivethirtyeight')\n",
    "import seaborn as sns\n",
    "\n",
    "from sklearn.linear_model import LinearRegression\n",
    "from sklearn.metrics import r2_score, classification_report, confusion_matrix, accuracy_score\n",
    "from sklearn.tree import DecisionTreeRegressor, DecisionTreeClassifier\n",
    "from sklearn.model_selection import cross_val_score, KFold, StratifiedKFold, train_test_split\n",
    "from sklearn.grid_search import GridSearchCV\n",
    "from sklearn.ensemble import RandomForestRegressor, AdaBoostRegressor, GradientBoostingRegressor,\\\n",
    "AdaBoostClassifier, GradientBoostingClassifier, BaggingClassifier, \\\n",
    "RandomForestClassifier, BaggingRegressor\n",
    "from sklearn.neighbors import KNeighborsRegressor"
   ]
  },
  {
   "cell_type": "markdown",
   "metadata": {},
   "source": [
    "## Webscraping"
   ]
  },
  {
   "cell_type": "markdown",
   "metadata": {
    "heading_collapsed": true
   },
   "source": [
    "### IMDB: Get film ids"
   ]
  },
  {
   "cell_type": "code",
   "execution_count": 3,
   "metadata": {
    "ExecuteTime": {
     "end_time": "2016-11-02T17:38:01.633133",
     "start_time": "2016-11-02T17:38:00.257580"
    },
    "code_folding": [],
    "collapsed": true,
    "hidden": true
   },
   "outputs": [],
   "source": [
    "# Function that will make an api call to omdbapi.com and return film id\n",
    "\n",
    "def get_id_250():\n",
    "    response = requests.get('http://www.imdb.com/chart/top')\n",
    "    html = response.text\n",
    "    entries = re.findall(\"<a href.*?/title/(.*?)/\", html)\n",
    "    return list(set(entries))\n",
    "\n",
    "entries = get_id_250()"
   ]
  },
  {
   "cell_type": "code",
   "execution_count": 7,
   "metadata": {
    "ExecuteTime": {
     "end_time": "2016-11-02T17:38:29.824263",
     "start_time": "2016-11-02T17:38:29.820196"
    },
    "collapsed": false,
    "hidden": true
   },
   "outputs": [
    {
     "name": "stdout",
     "output_type": "stream",
     "text": [
      "250\n",
      "[u'tt2582802', u'tt0047478']\n"
     ]
    }
   ],
   "source": [
    "print len(entries)\n",
    "print entries[:2]"
   ]
  },
  {
   "cell_type": "markdown",
   "metadata": {
    "heading_collapsed": true
   },
   "source": [
    "### Fill in film data from omdapi.com"
   ]
  },
  {
   "cell_type": "code",
   "execution_count": 8,
   "metadata": {
    "ExecuteTime": {
     "end_time": "2016-11-02T17:39:44.857803",
     "start_time": "2016-11-02T17:38:39.158997"
    },
    "collapsed": false,
    "hidden": true
   },
   "outputs": [
    {
     "name": "stdout",
     "output_type": "stream",
     "text": [
      ". . . . . . . . . . . . . . . . . . . . . . . . . . . . . . . . . . . . . . . . . . . . . . . . . . . . . . . . . . . . . . . . . . . . . . . . . . . . . . . . . . . . . . . . . . . . . . . . . . . . . . . . . . . . . . . . . . . . . . . . . . . . . . . . . . . . . . . . . . . . . . . . . . . . . . . . . . . . . . . . . . . . . . . . . . . . . . . . . . . . . . . . . . . . . . . . . . . . . . . . . . . . . . . . . . . . . . . . . . . . . . . . . . . . . . . . . . . . . . . . . . . . . . . . . .\n"
     ]
    }
   ],
   "source": [
    "# Function that will make an api call to omdbapi.com and return film data by film id\n",
    "\"\"\"  \n",
    "     Decided to include full plot summary in case I choose to use NLTK for predicting in future\n",
    "     Decided to include Rotten Tomatoes ratings and metrics as it may also be a useful feature in models \n",
    "\"\"\"\n",
    "\n",
    "# From JSON/APIs lab\n",
    "def get_entry(entry):\n",
    "    res = requests.get('http://www.omdbapi.com/?i='+entry+'&plot=full&r=json&tomatoes=true')\n",
    "    if res.status_code != 200:\n",
    "        print entry, res.status_code\n",
    "    else:\n",
    "        print '.',\n",
    "    try:\n",
    "        j = json.loads(res.text)\n",
    "    except ValueError:\n",
    "        j = None\n",
    "    return j\n",
    "\n",
    "entries_dict_list = [get_entry(e) for e in entries]"
   ]
  },
  {
   "cell_type": "code",
   "execution_count": 9,
   "metadata": {
    "ExecuteTime": {
     "end_time": "2016-11-02T17:42:28.995524",
     "start_time": "2016-11-02T17:42:28.982611"
    },
    "collapsed": false,
    "hidden": true
   },
   "outputs": [
    {
     "data": {
      "text/plain": [
       "250"
      ]
     },
     "execution_count": 9,
     "metadata": {},
     "output_type": "execute_result"
    }
   ],
   "source": [
    "len(entries_dict_list)"
   ]
  },
  {
   "cell_type": "code",
   "execution_count": 10,
   "metadata": {
    "ExecuteTime": {
     "end_time": "2016-11-02T17:42:32.898836",
     "start_time": "2016-11-02T17:42:32.818463"
    },
    "collapsed": false,
    "hidden": true
   },
   "outputs": [
    {
     "data": {
      "text/html": [
       "<div>\n",
       "<table border=\"1\" class=\"dataframe\">\n",
       "  <thead>\n",
       "    <tr style=\"text-align: right;\">\n",
       "      <th></th>\n",
       "      <th>Actors</th>\n",
       "      <th>Awards</th>\n",
       "      <th>BoxOffice</th>\n",
       "      <th>Country</th>\n",
       "      <th>DVD</th>\n",
       "      <th>Director</th>\n",
       "      <th>Genre</th>\n",
       "      <th>Language</th>\n",
       "      <th>Metascore</th>\n",
       "      <th>Plot</th>\n",
       "      <th>...</th>\n",
       "      <th>tomatoFresh</th>\n",
       "      <th>tomatoImage</th>\n",
       "      <th>tomatoMeter</th>\n",
       "      <th>tomatoRating</th>\n",
       "      <th>tomatoReviews</th>\n",
       "      <th>tomatoRotten</th>\n",
       "      <th>tomatoURL</th>\n",
       "      <th>tomatoUserMeter</th>\n",
       "      <th>tomatoUserRating</th>\n",
       "      <th>tomatoUserReviews</th>\n",
       "    </tr>\n",
       "  </thead>\n",
       "  <tbody>\n",
       "    <tr>\n",
       "      <th>0</th>\n",
       "      <td>Miles Teller, J.K. Simmons, Paul Reiser, Melis...</td>\n",
       "      <td>Won 3 Oscars. Another 87 wins &amp; 131 nominations.</td>\n",
       "      <td>N/A</td>\n",
       "      <td>USA</td>\n",
       "      <td>24 Feb 2015</td>\n",
       "      <td>Damien Chazelle</td>\n",
       "      <td>Drama, Music</td>\n",
       "      <td>English</td>\n",
       "      <td>88</td>\n",
       "      <td>A promising young drummer enrolls at a cut-thr...</td>\n",
       "      <td>...</td>\n",
       "      <td>246</td>\n",
       "      <td>certified</td>\n",
       "      <td>94</td>\n",
       "      <td>8.6</td>\n",
       "      <td>261</td>\n",
       "      <td>15</td>\n",
       "      <td>http://www.rottentomatoes.com/m/whiplash_2014/</td>\n",
       "      <td>94</td>\n",
       "      <td>4.5</td>\n",
       "      <td>66092</td>\n",
       "    </tr>\n",
       "  </tbody>\n",
       "</table>\n",
       "<p>1 rows × 35 columns</p>\n",
       "</div>"
      ],
      "text/plain": [
       "                                              Actors  \\\n",
       "0  Miles Teller, J.K. Simmons, Paul Reiser, Melis...   \n",
       "\n",
       "                                             Awards BoxOffice Country  \\\n",
       "0  Won 3 Oscars. Another 87 wins & 131 nominations.       N/A     USA   \n",
       "\n",
       "           DVD         Director         Genre Language Metascore  \\\n",
       "0  24 Feb 2015  Damien Chazelle  Drama, Music  English        88   \n",
       "\n",
       "                                                Plot        ...         \\\n",
       "0  A promising young drummer enrolls at a cut-thr...        ...          \n",
       "\n",
       "  tomatoFresh tomatoImage tomatoMeter tomatoRating tomatoReviews tomatoRotten  \\\n",
       "0         246   certified          94          8.6           261           15   \n",
       "\n",
       "                                        tomatoURL tomatoUserMeter  \\\n",
       "0  http://www.rottentomatoes.com/m/whiplash_2014/              94   \n",
       "\n",
       "  tomatoUserRating tomatoUserReviews  \n",
       "0              4.5             66092  \n",
       "\n",
       "[1 rows x 35 columns]"
      ]
     },
     "execution_count": 10,
     "metadata": {},
     "output_type": "execute_result"
    }
   ],
   "source": [
    "df = pd.DataFrame(entries_dict_list)\n",
    "df.head(1)"
   ]
  },
  {
   "cell_type": "code",
   "execution_count": 12,
   "metadata": {
    "ExecuteTime": {
     "end_time": "2016-11-02T17:42:42.897931",
     "start_time": "2016-11-02T17:42:42.894184"
    },
    "collapsed": false,
    "hidden": true
   },
   "outputs": [
    {
     "name": "stdout",
     "output_type": "stream",
     "text": [
      "(250, 35)\n"
     ]
    }
   ],
   "source": [
    "print df.shape"
   ]
  },
  {
   "cell_type": "markdown",
   "metadata": {
    "heading_collapsed": true
   },
   "source": [
    "### IMDB: Get gross, opening weekend and budget"
   ]
  },
  {
   "cell_type": "code",
   "execution_count": 13,
   "metadata": {
    "ExecuteTime": {
     "end_time": "2016-11-02T17:42:51.602238",
     "start_time": "2016-11-02T17:42:51.594105"
    },
    "collapsed": true,
    "hidden": true
   },
   "outputs": [],
   "source": [
    "def get_gross(entry):\n",
    "    response = requests.get('http://www.imdb.com/title/' + entry)\n",
    "    html = response.text\n",
    "    try:\n",
    "        gross_list = re.findall(\"Gross:</h4>[ ]*\\$([^ ]*)\", html)\n",
    "        gross = int(gross_list[0].replace(',', ''))\n",
    "        print '.',\n",
    "        return gross\n",
    "    except Exception as ex:\n",
    "        print\n",
    "        print ex, entry, response.status_code\n",
    "        return None"
   ]
  },
  {
   "cell_type": "code",
   "execution_count": 14,
   "metadata": {
    "ExecuteTime": {
     "end_time": "2016-11-02T17:46:13.256239",
     "start_time": "2016-11-02T17:43:37.471828"
    },
    "collapsed": false,
    "hidden": true
   },
   "outputs": [
    {
     "name": "stdout",
     "output_type": "stream",
     "text": [
      ". . . . . . .\n",
      "list index out of range tt0046268 200\n",
      "\n",
      "list index out of range tt0055630 200\n",
      ". . . . .\n",
      "list index out of range tt0057115 200\n",
      ".\n",
      "list index out of range tt0071315 200\n",
      ". . . .\n",
      "list index out of range tt0074896 200\n",
      ". .\n",
      "list index out of range tt0021749 200\n",
      ". .\n",
      "list index out of range tt0053125 200\n",
      ". . .\n",
      "list index out of range tt1220719 200\n",
      "\n",
      "list index out of range tt0025316 200\n",
      ". .\n",
      "list index out of range tt0083922 200\n",
      ". . .\n",
      "list index out of range tt0072684 200\n",
      ".\n",
      "list index out of range tt0074958 200\n",
      ". . . .\n",
      "list index out of range tt0036775 200\n",
      ". . . . . .\n",
      "list index out of range tt0978762 200\n",
      ". .\n",
      "list index out of range tt0080678 200\n",
      ". .\n",
      "list index out of range tt0056592 200\n",
      ".\n",
      "list index out of range tt0095327 200\n",
      ". . . . . . . . .\n",
      "list index out of range tt0046438 200\n",
      ".\n",
      "list index out of range tt0015864 200\n",
      ".\n",
      "list index out of range tt0045152 200\n",
      ". . . .\n",
      "list index out of range tt0046911 200\n",
      ".\n",
      "list index out of range tt0050986 200\n",
      ".\n",
      "list index out of range tt0091251 200\n",
      ". . . . . . . . . .\n",
      "list index out of range tt0032553 200\n",
      "\n",
      "list index out of range tt0032551 200\n",
      ". . . . . .\n",
      "list index out of range tt0060827 200\n",
      ". . .\n",
      "list index out of range tt0031679 200\n",
      ". . . . . .\n",
      "list index out of range tt0053198 200\n",
      ". . .\n",
      "list index out of range tt0050825 200\n",
      "\n",
      "list index out of range tt0042876 200\n",
      "\n",
      "list index out of range tt0083987 200\n",
      ". . .\n",
      "list index out of range tt0044079 200\n",
      "\n",
      "list index out of range tt0041546 200\n",
      ". . . . . .\n",
      "list index out of range tt0092067 200\n",
      ". . . .\n",
      "list index out of range tt1954470 200\n",
      ". . . . . . . .\n",
      "list index out of range tt0057012 200\n",
      "\n",
      "list index out of range tt0096283 200\n",
      ".\n",
      "list index out of range tt0064116 200\n",
      ". . . . .\n",
      "list index out of range tt0081505 200\n",
      "\n",
      "list index out of range tt0038650 200\n",
      ".\n",
      "list index out of range tt0034583 200\n",
      ". . . . .\n",
      "list index out of range tt0046250 200\n",
      ". .\n",
      "list index out of range tt0033870 200\n",
      ". . .\n",
      "list index out of range tt0040897 200\n",
      ". .\n",
      "list index out of range tt0019254 200\n",
      "\n",
      "list index out of range tt0066921 200\n",
      "\n",
      "list index out of range tt0061512 200\n",
      "\n",
      "list index out of range tt0033467 200\n",
      ".\n",
      "list index out of range tt0169102 200\n",
      "\n",
      "list index out of range tt0017925 200\n",
      ". . . .\n",
      "list index out of range tt0055031 200\n",
      ".\n",
      "list index out of range tt0087544 200\n",
      ". . .\n",
      "list index out of range tt0050083 200\n",
      ". .\n",
      "list index out of range tt0018455 200\n",
      ". . . .\n",
      "list index out of range tt0077416 200\n",
      ". . . . . .\n",
      "list index out of range tt0087884 200\n",
      ". . .\n",
      "list index out of range tt0050976 200\n",
      ". . . . . . . . .\n",
      "list index out of range tt0043014 200\n",
      "\n",
      "list index out of range tt0079944 200\n",
      ".\n",
      "list index out of range tt0053604 200\n",
      ". . . . .\n",
      "list index out of range tt0051201 200\n",
      ".\n",
      "list index out of range tt0032976 200\n",
      ".\n",
      "list index out of range tt0059578 200\n",
      "\n",
      "list index out of range tt0072890 200\n",
      ". . . . . . .\n",
      "list index out of range tt1028532 200\n",
      ". . . . . .\n",
      "list index out of range tt0075314 200\n"
     ]
    }
   ],
   "source": [
    "grosses = [(e, get_gross(e)) for e in entries]"
   ]
  },
  {
   "cell_type": "code",
   "execution_count": 16,
   "metadata": {
    "ExecuteTime": {
     "end_time": "2016-11-02T17:46:21.531758",
     "start_time": "2016-11-02T17:46:21.518711"
    },
    "collapsed": false,
    "hidden": true
   },
   "outputs": [
    {
     "data": {
      "text/html": [
       "<div>\n",
       "<table border=\"1\" class=\"dataframe\">\n",
       "  <thead>\n",
       "    <tr style=\"text-align: right;\">\n",
       "      <th></th>\n",
       "      <th>imdbID</th>\n",
       "      <th>Gross</th>\n",
       "    </tr>\n",
       "  </thead>\n",
       "  <tbody>\n",
       "    <tr>\n",
       "      <th>0</th>\n",
       "      <td>tt2582802</td>\n",
       "      <td>13092000.0</td>\n",
       "    </tr>\n",
       "    <tr>\n",
       "      <th>1</th>\n",
       "      <td>tt0047478</td>\n",
       "      <td>269061.0</td>\n",
       "    </tr>\n",
       "    <tr>\n",
       "      <th>2</th>\n",
       "      <td>tt0082971</td>\n",
       "      <td>242374454.0</td>\n",
       "    </tr>\n",
       "  </tbody>\n",
       "</table>\n",
       "</div>"
      ],
      "text/plain": [
       "      imdbID        Gross\n",
       "0  tt2582802   13092000.0\n",
       "1  tt0047478     269061.0\n",
       "2  tt0082971  242374454.0"
      ]
     },
     "execution_count": 16,
     "metadata": {},
     "output_type": "execute_result"
    }
   ],
   "source": [
    "df1 = pd.DataFrame(grosses, columns=['imdbID', 'Gross'])\n",
    "df1.head(3)"
   ]
  },
  {
   "cell_type": "code",
   "execution_count": 17,
   "metadata": {
    "ExecuteTime": {
     "end_time": "2016-11-02T17:46:25.216554",
     "start_time": "2016-11-02T17:46:25.205780"
    },
    "collapsed": false,
    "hidden": true
   },
   "outputs": [],
   "source": [
    "def get_opening(entry):\n",
    "    response = requests.get('http://www.imdb.com/title/' + entry)\n",
    "    html = response.text\n",
    "    try:\n",
    "        opening_list = re.findall(\"Opening Weekend:</h4>[ ]*\\$([^ ]*)\", html)\n",
    "        opening = int(opening_list[0].replace(',', ''))\n",
    "        print '.',\n",
    "        return opening\n",
    "    except Exception as ex:\n",
    "        print\n",
    "        print ex, entry, response.status_code\n",
    "        return None"
   ]
  },
  {
   "cell_type": "code",
   "execution_count": 18,
   "metadata": {
    "ExecuteTime": {
     "end_time": "2016-11-02T17:49:10.104587",
     "start_time": "2016-11-02T17:46:30.805684"
    },
    "collapsed": false,
    "hidden": true
   },
   "outputs": [
    {
     "name": "stdout",
     "output_type": "stream",
     "text": [
      ". . .\n",
      "list index out of range tt0050212 200\n",
      ". . .\n",
      "list index out of range tt0046268 200\n",
      "\n",
      "list index out of range tt0055630 200\n",
      ". . . . .\n",
      "list index out of range tt0057115 200\n",
      ".\n",
      "list index out of range tt0071315 200\n",
      "\n",
      "list index out of range tt0114746 200\n",
      ". . .\n",
      "list index out of range tt0074896 200\n",
      ". .\n",
      "list index out of range tt0021749 200\n",
      ".\n",
      "list index out of range tt1187043 200\n",
      "\n",
      "list index out of range tt0053125 200\n",
      ".\n",
      "list index out of range tt0112471 200\n",
      ".\n",
      "list index out of range tt1220719 200\n",
      "\n",
      "list index out of range tt0025316 200\n",
      ". .\n",
      "list index out of range tt0083922 200\n",
      "\n",
      "list index out of range tt0088247 200\n",
      ".\n",
      "list index out of range tt0087843 200\n",
      "\n",
      "list index out of range tt0072684 200\n",
      ".\n",
      "list index out of range tt0074958 200\n",
      ".\n",
      "list index out of range tt0052618 200\n",
      ". .\n",
      "list index out of range tt0036775 200\n",
      ".\n",
      "list index out of range tt0110357 200\n",
      ". . .\n",
      "list index out of range tt0075148 200\n",
      "\n",
      "list index out of range tt0978762 200\n",
      ".\n",
      "list index out of range tt0036868 200\n",
      "\n",
      "list index out of range tt0080678 200\n",
      "\n",
      "list index out of range tt0093779 200\n",
      "\n",
      "list index out of range tt0108052 200\n",
      "\n",
      "list index out of range tt0056592 200\n",
      "\n",
      "list index out of range tt0088763 200\n",
      "\n",
      "list index out of range tt0095327 200\n",
      ".\n",
      "list index out of range tt0053291 200\n",
      ".\n",
      "list index out of range tt0407887 200\n",
      ". . . .\n",
      "list index out of range tt0114814 200\n",
      "\n",
      "list index out of range tt0046438 200\n",
      "\n",
      "list index out of range tt0107048 200\n",
      "\n",
      "list index out of range tt0015864 200\n",
      "\n",
      "list index out of range tt0107207 200\n",
      "\n",
      "list index out of range tt0045152 200\n",
      ".\n",
      "list index out of range tt0167261 200\n",
      "\n",
      "list index out of range tt0167260 200\n",
      "\n",
      "list index out of range tt0095016 200\n",
      "\n",
      "list index out of range tt0046911 200\n",
      ".\n",
      "list index out of range tt0050986 200\n",
      ".\n",
      "list index out of range tt0091251 200\n",
      ".\n",
      "list index out of range tt0078748 200\n",
      ".\n",
      "list index out of range tt0012349 200\n",
      "\n",
      "list index out of range tt0372784 200\n",
      "\n",
      "list index out of range tt0101414 200\n",
      "\n",
      "list index out of range tt0113247 200\n",
      "\n",
      "list index out of range tt0107290 200\n",
      ".\n",
      "list index out of range tt0070735 200\n",
      "\n",
      "list index out of range tt0032553 200\n",
      "\n",
      "list index out of range tt0032551 200\n",
      ".\n",
      "list index out of range tt0361748 200\n",
      ". . . .\n",
      "list index out of range tt0060827 200\n",
      "\n",
      "list index out of range tt0266697 200\n",
      ". .\n",
      "list index out of range tt0031679 200\n",
      "\n",
      "list index out of range tt0080684 200\n",
      ". . . .\n",
      "list index out of range tt0102926 200\n",
      "\n",
      "list index out of range tt0053198 200\n",
      ". . .\n",
      "list index out of range tt0050825 200\n",
      "\n",
      "list index out of range tt0042876 200\n",
      "\n",
      "list index out of range tt0083987 200\n",
      ". . .\n",
      "list index out of range tt0044079 200\n",
      "\n",
      "list index out of range tt0041546 200\n",
      ".\n",
      "list index out of range tt0114369 200\n",
      ".\n",
      "list index out of range tt0091763 200\n",
      ". . .\n",
      "list index out of range tt0090605 200\n",
      "\n",
      "list index out of range tt0120737 200\n",
      "\n",
      "list index out of range tt0120735 200\n",
      ".\n",
      "list index out of range tt1954470 200\n",
      ". .\n",
      "list index out of range tt0110413 200\n",
      "\n",
      "list index out of range tt0058461 200\n",
      ". . . .\n",
      "list index out of range tt0057012 200\n",
      "\n",
      "list index out of range tt0096283 200\n",
      ".\n",
      "list index out of range tt0064116 200\n",
      "\n",
      "list index out of range tt0114709 200\n",
      ". . .\n",
      "list index out of range tt0105236 200\n",
      "\n",
      "list index out of range tt0081505 200\n",
      "\n",
      "list index out of range tt0038650 200\n",
      ".\n",
      "list index out of range tt0034583 200\n",
      ". . .\n",
      "list index out of range tt0054215 200\n",
      ".\n",
      "list index out of range tt0046250 200\n",
      ". .\n",
      "list index out of range tt0033870 200\n",
      "\n",
      "list index out of range tt0112573 200\n",
      ".\n",
      "list index out of range tt0097576 200\n",
      "\n",
      "list index out of range tt0040897 200\n",
      "\n",
      "list index out of range tt0062622 200\n",
      ".\n",
      "list index out of range tt0019254 200\n",
      "\n",
      "list index out of range tt0066921 200\n",
      "\n",
      "list index out of range tt0061512 200\n",
      "\n",
      "list index out of range tt0033467 200\n",
      ".\n",
      "list index out of range tt0169102 200\n",
      "\n",
      "list index out of range tt0017925 200\n",
      ". . .\n",
      "list index out of range tt0064115 200\n",
      "\n",
      "list index out of range tt0055031 200\n",
      ".\n",
      "list index out of range tt0087544 200\n",
      "\n",
      "list index out of range tt0113277 200\n",
      "\n",
      "list index out of range tt0105695 200\n",
      ".\n",
      "list index out of range tt0050083 200\n",
      ".\n",
      "list index out of range tt0110912 200\n",
      "\n",
      "list index out of range tt0018455 200\n",
      ". .\n",
      "list index out of range tt0434409 200\n",
      "\n",
      "list index out of range tt0117951 200\n",
      "\n",
      "list index out of range tt0077416 200\n",
      ". . . . .\n",
      "list index out of range tt0099685 200\n",
      "\n",
      "list index out of range tt0087884 200\n",
      ".\n",
      "list index out of range tt0060196 200\n",
      "\n",
      "list index out of range tt0112641 200\n",
      "\n",
      "list index out of range tt0050976 200\n",
      "\n",
      "list index out of range tt0092005 200\n",
      ".\n",
      "list index out of range tt0111161 200\n",
      ".\n",
      "list index out of range tt0071562 200\n",
      ". . . .\n",
      "list index out of range tt0043014 200\n",
      "\n",
      "list index out of range tt0079944 200\n",
      "\n",
      "list index out of range tt0093058 200\n",
      "\n",
      "list index out of range tt0053604 200\n",
      "\n",
      "list index out of range tt0109830 200\n",
      ".\n",
      "list index out of range tt0073195 200\n",
      ". .\n",
      "list index out of range tt0051201 200\n",
      "\n",
      "list index out of range tt0075686 200\n",
      "\n",
      "list index out of range tt0032976 200\n",
      "\n",
      "list index out of range tt1375666 200\n",
      "\n",
      "list index out of range tt0059578 200\n",
      "\n",
      "list index out of range tt0072890 200\n",
      ".\n",
      "list index out of range tt0103064 200\n",
      ". . . .\n",
      "list index out of range tt0047296 200\n",
      "\n",
      "list index out of range tt1028532 200\n",
      ". .\n",
      "list index out of range tt0073486 200\n",
      "\n",
      "list index out of range tt0209144 200\n",
      "\n",
      "list index out of range tt0208092 200\n",
      ".\n",
      "list index out of range tt0075314 200\n"
     ]
    }
   ],
   "source": [
    "opening = [(e, get_opening(e)) for e in entries]"
   ]
  },
  {
   "cell_type": "code",
   "execution_count": 19,
   "metadata": {
    "ExecuteTime": {
     "end_time": "2016-11-02T17:58:04.074386",
     "start_time": "2016-11-02T17:58:04.040590"
    },
    "collapsed": false,
    "hidden": true
   },
   "outputs": [
    {
     "data": {
      "text/html": [
       "<div>\n",
       "<table border=\"1\" class=\"dataframe\">\n",
       "  <thead>\n",
       "    <tr style=\"text-align: right;\">\n",
       "      <th></th>\n",
       "      <th>imdbID</th>\n",
       "      <th>Opening</th>\n",
       "    </tr>\n",
       "  </thead>\n",
       "  <tbody>\n",
       "    <tr>\n",
       "      <th>0</th>\n",
       "      <td>tt2582802</td>\n",
       "      <td>135388.0</td>\n",
       "    </tr>\n",
       "    <tr>\n",
       "      <th>1</th>\n",
       "      <td>tt0047478</td>\n",
       "      <td>21830.0</td>\n",
       "    </tr>\n",
       "    <tr>\n",
       "      <th>2</th>\n",
       "      <td>tt0082971</td>\n",
       "      <td>1673731.0</td>\n",
       "    </tr>\n",
       "  </tbody>\n",
       "</table>\n",
       "</div>"
      ],
      "text/plain": [
       "      imdbID    Opening\n",
       "0  tt2582802   135388.0\n",
       "1  tt0047478    21830.0\n",
       "2  tt0082971  1673731.0"
      ]
     },
     "execution_count": 19,
     "metadata": {},
     "output_type": "execute_result"
    }
   ],
   "source": [
    "df2 = pd.DataFrame(opening, columns=['imdbID', 'Opening'])\n",
    "df2.head(3)"
   ]
  },
  {
   "cell_type": "code",
   "execution_count": 20,
   "metadata": {
    "ExecuteTime": {
     "end_time": "2016-11-02T17:59:15.001411",
     "start_time": "2016-11-02T17:59:14.987046"
    },
    "collapsed": true,
    "hidden": true
   },
   "outputs": [],
   "source": [
    "def get_budget(entry):\n",
    "    response = requests.get('http://www.imdb.com/title/' + entry)\n",
    "    html = response.text\n",
    "    try:\n",
    "        budget_list = re.findall(\"Budget:</h4>[ ]*\\$([^ ]*)\", html)\n",
    "        budget = int(budget_list[0].replace(',', ''))\n",
    "        print '.',\n",
    "        return budget\n",
    "    except Exception as ex:\n",
    "        print\n",
    "        print ex, entry, response.status_code\n",
    "        return None"
   ]
  },
  {
   "cell_type": "code",
   "execution_count": 21,
   "metadata": {
    "ExecuteTime": {
     "end_time": "2016-11-02T18:01:44.957244",
     "start_time": "2016-11-02T17:59:16.839831"
    },
    "collapsed": false,
    "hidden": true
   },
   "outputs": [
    {
     "name": "stdout",
     "output_type": "stream",
     "text": [
      ". . . . . . .\n",
      "list index out of range tt0046268 200\n",
      "\n",
      "list index out of range tt0055630 200\n",
      ". . . . . . . . .\n",
      "list index out of range tt0363163 200\n",
      ".\n",
      "list index out of range tt1865505 200\n",
      ". . . . .\n",
      "list index out of range tt1187043 200\n",
      ". . . . . . . . . . . . . . . . . . . . . . .\n",
      "list index out of range tt0071853 200\n",
      ". .\n",
      "list index out of range tt0978762 200\n",
      ". . . . . . . . . . . .\n",
      "list index out of range tt0044741 200\n",
      ". . . .\n",
      "list index out of range tt0046438 200\n",
      ". . . . . . . .\n",
      "list index out of range tt0046911 200\n",
      ".\n",
      "list index out of range tt0050986 200\n",
      ".\n",
      "list index out of range tt0091251 200\n",
      ". . . . . .\n",
      "list index out of range tt0113247 200\n",
      ". . . . . . . . . . .\n",
      "list index out of range tt0060827 200\n",
      ". .\n",
      "list index out of range tt0211915 200\n",
      ". . . . . . .\n",
      "list index out of range tt0053198 200\n",
      ". . . . . . . . . .\n",
      "list index out of range tt0041546 200\n",
      ". . . . . .\n",
      "list index out of range tt0092067 200\n",
      ". .\n",
      "list index out of range tt0120735 200\n",
      ".\n",
      "list index out of range tt1954470 200\n",
      ". .\n",
      "list index out of range tt0110413 200\n",
      ".\n",
      "list index out of range tt0119698 200\n",
      ". . . . . . . . .\n",
      "list index out of range tt0022100 200\n",
      ". . . .\n",
      "list index out of range tt0041959 200\n",
      ". . . . . . . . . . . . . . . .\n",
      "list index out of range tt0019254 200\n",
      ". . .\n",
      "list index out of range tt0050783 200\n",
      ". . . . . . . . . . . . . . .\n",
      "list index out of range tt0018455 200\n",
      "\n",
      "list index out of range tt1675434 200\n",
      ". . . . . . . . . .\n",
      "list index out of range tt0087884 200\n",
      "\n",
      "list index out of range tt0457430 200\n",
      ". . . .\n",
      "list index out of range tt0017136 200\n",
      ". . . . . . . .\n",
      "list index out of range tt0079944 200\n",
      ". . . . . . . . . . . . . . .\n",
      "list index out of range tt0056801 200\n",
      ". . . . . . . . .\n",
      "list index out of range tt0208092 200\n",
      ". .\n"
     ]
    }
   ],
   "source": [
    "budgets = [(e, get_budget(e)) for e in entries]"
   ]
  },
  {
   "cell_type": "code",
   "execution_count": 22,
   "metadata": {
    "ExecuteTime": {
     "end_time": "2016-11-02T18:02:48.618691",
     "start_time": "2016-11-02T18:02:48.588796"
    },
    "collapsed": false,
    "hidden": true
   },
   "outputs": [
    {
     "data": {
      "text/html": [
       "<div>\n",
       "<table border=\"1\" class=\"dataframe\">\n",
       "  <thead>\n",
       "    <tr style=\"text-align: right;\">\n",
       "      <th></th>\n",
       "      <th>imdbID</th>\n",
       "      <th>Budget</th>\n",
       "    </tr>\n",
       "  </thead>\n",
       "  <tbody>\n",
       "    <tr>\n",
       "      <th>0</th>\n",
       "      <td>tt2582802</td>\n",
       "      <td>3300000.0</td>\n",
       "    </tr>\n",
       "    <tr>\n",
       "      <th>1</th>\n",
       "      <td>tt0047478</td>\n",
       "      <td>2000000.0</td>\n",
       "    </tr>\n",
       "    <tr>\n",
       "      <th>2</th>\n",
       "      <td>tt0082971</td>\n",
       "      <td>18000000.0</td>\n",
       "    </tr>\n",
       "    <tr>\n",
       "      <th>3</th>\n",
       "      <td>tt0050212</td>\n",
       "      <td>3000000.0</td>\n",
       "    </tr>\n",
       "    <tr>\n",
       "      <th>4</th>\n",
       "      <td>tt0848228</td>\n",
       "      <td>220000000.0</td>\n",
       "    </tr>\n",
       "  </tbody>\n",
       "</table>\n",
       "</div>"
      ],
      "text/plain": [
       "      imdbID       Budget\n",
       "0  tt2582802    3300000.0\n",
       "1  tt0047478    2000000.0\n",
       "2  tt0082971   18000000.0\n",
       "3  tt0050212    3000000.0\n",
       "4  tt0848228  220000000.0"
      ]
     },
     "execution_count": 22,
     "metadata": {},
     "output_type": "execute_result"
    }
   ],
   "source": [
    "df3 = pd.DataFrame(budgets, columns=['imdbID', 'Budget'])\n",
    "df3.head()"
   ]
  },
  {
   "cell_type": "code",
   "execution_count": 23,
   "metadata": {
    "ExecuteTime": {
     "end_time": "2016-11-02T18:02:50.070563",
     "start_time": "2016-11-02T18:02:50.064546"
    },
    "collapsed": false,
    "hidden": true
   },
   "outputs": [
    {
     "name": "stdout",
     "output_type": "stream",
     "text": [
      "Index([u'imdbID', u'Gross'], dtype='object')\n",
      "Index([u'imdbID', u'Opening'], dtype='object')\n",
      "Index([u'imdbID', u'Budget'], dtype='object')\n"
     ]
    }
   ],
   "source": [
    "print df1.columns\n",
    "print df2.columns\n",
    "print df3.columns"
   ]
  },
  {
   "cell_type": "code",
   "execution_count": 24,
   "metadata": {
    "ExecuteTime": {
     "end_time": "2016-11-02T18:02:52.784095",
     "start_time": "2016-11-02T18:02:52.775440"
    },
    "collapsed": true,
    "hidden": true
   },
   "outputs": [],
   "source": [
    "df_gross = df1.copy()\n",
    "df_opening = df2.copy()\n",
    "df_budget = df3.copy()"
   ]
  },
  {
   "cell_type": "code",
   "execution_count": 25,
   "metadata": {
    "ExecuteTime": {
     "end_time": "2016-11-02T18:02:54.309480",
     "start_time": "2016-11-02T18:02:54.303082"
    },
    "collapsed": false,
    "hidden": true
   },
   "outputs": [
    {
     "name": "stdout",
     "output_type": "stream",
     "text": [
      "Index([u'imdbID', u'Gross'], dtype='object') (250, 2)\n",
      "Index([u'imdbID', u'Opening'], dtype='object') (250, 2)\n",
      "Index([u'imdbID', u'Budget'], dtype='object') (250, 2)\n"
     ]
    }
   ],
   "source": [
    "print df_gross.columns, df_gross.shape\n",
    "print df_opening.columns, df_opening.shape\n",
    "print df_budget.columns, df_opening.shape"
   ]
  },
  {
   "cell_type": "markdown",
   "metadata": {
    "heading_collapsed": true
   },
   "source": [
    "### Merge all dataframes into 1 master df"
   ]
  },
  {
   "cell_type": "code",
   "execution_count": 26,
   "metadata": {
    "ExecuteTime": {
     "end_time": "2016-11-02T18:03:16.831911",
     "start_time": "2016-11-02T18:03:16.793251"
    },
    "collapsed": false,
    "hidden": true
   },
   "outputs": [
    {
     "data": {
      "text/html": [
       "<div>\n",
       "<table border=\"1\" class=\"dataframe\">\n",
       "  <thead>\n",
       "    <tr style=\"text-align: right;\">\n",
       "      <th></th>\n",
       "      <th>imdbID</th>\n",
       "      <th>Gross</th>\n",
       "      <th>Opening</th>\n",
       "      <th>Budget</th>\n",
       "    </tr>\n",
       "  </thead>\n",
       "  <tbody>\n",
       "    <tr>\n",
       "      <th>0</th>\n",
       "      <td>tt2582802</td>\n",
       "      <td>13092000.0</td>\n",
       "      <td>135388.0</td>\n",
       "      <td>3300000.0</td>\n",
       "    </tr>\n",
       "    <tr>\n",
       "      <th>1</th>\n",
       "      <td>tt0047478</td>\n",
       "      <td>269061.0</td>\n",
       "      <td>21830.0</td>\n",
       "      <td>2000000.0</td>\n",
       "    </tr>\n",
       "    <tr>\n",
       "      <th>2</th>\n",
       "      <td>tt0082971</td>\n",
       "      <td>242374454.0</td>\n",
       "      <td>1673731.0</td>\n",
       "      <td>18000000.0</td>\n",
       "    </tr>\n",
       "  </tbody>\n",
       "</table>\n",
       "</div>"
      ],
      "text/plain": [
       "      imdbID        Gross    Opening      Budget\n",
       "0  tt2582802   13092000.0   135388.0   3300000.0\n",
       "1  tt0047478     269061.0    21830.0   2000000.0\n",
       "2  tt0082971  242374454.0  1673731.0  18000000.0"
      ]
     },
     "execution_count": 26,
     "metadata": {},
     "output_type": "execute_result"
    }
   ],
   "source": [
    "# Merge gross, opening and budget dfs\n",
    "df_imdb = pd.merge(df_gross, df_opening, on=\"imdbID\")\n",
    "df_imdb = pd.merge(df_imdb, df_budget, on=\"imdbID\")\n",
    "df_imdb.head(3)"
   ]
  },
  {
   "cell_type": "code",
   "execution_count": 27,
   "metadata": {
    "ExecuteTime": {
     "end_time": "2016-11-02T18:03:31.890889",
     "start_time": "2016-11-02T18:03:31.827028"
    },
    "collapsed": false,
    "hidden": true
   },
   "outputs": [
    {
     "name": "stdout",
     "output_type": "stream",
     "text": [
      "(250, 38)\n"
     ]
    },
    {
     "data": {
      "text/html": [
       "<div>\n",
       "<table border=\"1\" class=\"dataframe\">\n",
       "  <thead>\n",
       "    <tr style=\"text-align: right;\">\n",
       "      <th></th>\n",
       "      <th>Actors</th>\n",
       "      <th>Awards</th>\n",
       "      <th>BoxOffice</th>\n",
       "      <th>Country</th>\n",
       "      <th>DVD</th>\n",
       "      <th>Director</th>\n",
       "      <th>Genre</th>\n",
       "      <th>Language</th>\n",
       "      <th>Metascore</th>\n",
       "      <th>Plot</th>\n",
       "      <th>...</th>\n",
       "      <th>tomatoRating</th>\n",
       "      <th>tomatoReviews</th>\n",
       "      <th>tomatoRotten</th>\n",
       "      <th>tomatoURL</th>\n",
       "      <th>tomatoUserMeter</th>\n",
       "      <th>tomatoUserRating</th>\n",
       "      <th>tomatoUserReviews</th>\n",
       "      <th>Gross</th>\n",
       "      <th>Opening</th>\n",
       "      <th>Budget</th>\n",
       "    </tr>\n",
       "  </thead>\n",
       "  <tbody>\n",
       "    <tr>\n",
       "      <th>0</th>\n",
       "      <td>Miles Teller, J.K. Simmons, Paul Reiser, Melis...</td>\n",
       "      <td>Won 3 Oscars. Another 87 wins &amp; 131 nominations.</td>\n",
       "      <td>N/A</td>\n",
       "      <td>USA</td>\n",
       "      <td>24 Feb 2015</td>\n",
       "      <td>Damien Chazelle</td>\n",
       "      <td>Drama, Music</td>\n",
       "      <td>English</td>\n",
       "      <td>88</td>\n",
       "      <td>A promising young drummer enrolls at a cut-thr...</td>\n",
       "      <td>...</td>\n",
       "      <td>8.6</td>\n",
       "      <td>261</td>\n",
       "      <td>15</td>\n",
       "      <td>http://www.rottentomatoes.com/m/whiplash_2014/</td>\n",
       "      <td>94</td>\n",
       "      <td>4.5</td>\n",
       "      <td>66092</td>\n",
       "      <td>13092000.0</td>\n",
       "      <td>135388.0</td>\n",
       "      <td>3300000.0</td>\n",
       "    </tr>\n",
       "    <tr>\n",
       "      <th>1</th>\n",
       "      <td>Toshirô Mifune, Takashi Shimura, Keiko Tsushim...</td>\n",
       "      <td>Nominated for 2 Oscars. Another 5 wins &amp; 6 nom...</td>\n",
       "      <td>N/A</td>\n",
       "      <td>Japan</td>\n",
       "      <td>01 Mar 1999</td>\n",
       "      <td>Akira Kurosawa</td>\n",
       "      <td>Action, Adventure, Drama</td>\n",
       "      <td>Japanese</td>\n",
       "      <td>98</td>\n",
       "      <td>A veteran samurai, who has fallen on hard time...</td>\n",
       "      <td>...</td>\n",
       "      <td>9.3</td>\n",
       "      <td>57</td>\n",
       "      <td>0</td>\n",
       "      <td>http://www.rottentomatoes.com/m/1018639-seven_...</td>\n",
       "      <td>97</td>\n",
       "      <td>4.5</td>\n",
       "      <td>89264</td>\n",
       "      <td>269061.0</td>\n",
       "      <td>21830.0</td>\n",
       "      <td>2000000.0</td>\n",
       "    </tr>\n",
       "    <tr>\n",
       "      <th>2</th>\n",
       "      <td>Harrison Ford, Karen Allen, Paul Freeman, Rona...</td>\n",
       "      <td>Won 4 Oscars. Another 30 wins &amp; 23 nominations.</td>\n",
       "      <td>N/A</td>\n",
       "      <td>USA</td>\n",
       "      <td>21 Oct 2003</td>\n",
       "      <td>Steven Spielberg</td>\n",
       "      <td>Action, Adventure</td>\n",
       "      <td>English, German, Hebrew, Spanish, Arabic, Nepali</td>\n",
       "      <td>85</td>\n",
       "      <td>The year is 1936. An archeology professor name...</td>\n",
       "      <td>...</td>\n",
       "      <td>9.2</td>\n",
       "      <td>71</td>\n",
       "      <td>4</td>\n",
       "      <td>http://www.rottentomatoes.com/m/raiders_of_the...</td>\n",
       "      <td>96</td>\n",
       "      <td>4.1</td>\n",
       "      <td>823404</td>\n",
       "      <td>242374454.0</td>\n",
       "      <td>1673731.0</td>\n",
       "      <td>18000000.0</td>\n",
       "    </tr>\n",
       "  </tbody>\n",
       "</table>\n",
       "<p>3 rows × 38 columns</p>\n",
       "</div>"
      ],
      "text/plain": [
       "                                              Actors  \\\n",
       "0  Miles Teller, J.K. Simmons, Paul Reiser, Melis...   \n",
       "1  Toshirô Mifune, Takashi Shimura, Keiko Tsushim...   \n",
       "2  Harrison Ford, Karen Allen, Paul Freeman, Rona...   \n",
       "\n",
       "                                              Awards BoxOffice Country  \\\n",
       "0   Won 3 Oscars. Another 87 wins & 131 nominations.       N/A     USA   \n",
       "1  Nominated for 2 Oscars. Another 5 wins & 6 nom...       N/A   Japan   \n",
       "2    Won 4 Oscars. Another 30 wins & 23 nominations.       N/A     USA   \n",
       "\n",
       "           DVD          Director                     Genre  \\\n",
       "0  24 Feb 2015   Damien Chazelle              Drama, Music   \n",
       "1  01 Mar 1999    Akira Kurosawa  Action, Adventure, Drama   \n",
       "2  21 Oct 2003  Steven Spielberg         Action, Adventure   \n",
       "\n",
       "                                           Language Metascore  \\\n",
       "0                                           English        88   \n",
       "1                                          Japanese        98   \n",
       "2  English, German, Hebrew, Spanish, Arabic, Nepali        85   \n",
       "\n",
       "                                                Plot     ...     tomatoRating  \\\n",
       "0  A promising young drummer enrolls at a cut-thr...     ...              8.6   \n",
       "1  A veteran samurai, who has fallen on hard time...     ...              9.3   \n",
       "2  The year is 1936. An archeology professor name...     ...              9.2   \n",
       "\n",
       "  tomatoReviews tomatoRotten  \\\n",
       "0           261           15   \n",
       "1            57            0   \n",
       "2            71            4   \n",
       "\n",
       "                                           tomatoURL tomatoUserMeter  \\\n",
       "0     http://www.rottentomatoes.com/m/whiplash_2014/              94   \n",
       "1  http://www.rottentomatoes.com/m/1018639-seven_...              97   \n",
       "2  http://www.rottentomatoes.com/m/raiders_of_the...              96   \n",
       "\n",
       "  tomatoUserRating tomatoUserReviews        Gross    Opening      Budget  \n",
       "0              4.5             66092   13092000.0   135388.0   3300000.0  \n",
       "1              4.5             89264     269061.0    21830.0   2000000.0  \n",
       "2              4.1            823404  242374454.0  1673731.0  18000000.0  \n",
       "\n",
       "[3 rows x 38 columns]"
      ]
     },
     "execution_count": 27,
     "metadata": {},
     "output_type": "execute_result"
    }
   ],
   "source": [
    "# Merge original df (from omdbapi) with df_imdb\n",
    "df = pd.merge(df, df_imdb)\n",
    "print df.shape\n",
    "df.head(3)"
   ]
  },
  {
   "cell_type": "code",
   "execution_count": 28,
   "metadata": {
    "ExecuteTime": {
     "end_time": "2016-11-02T18:03:35.619866",
     "start_time": "2016-11-02T18:03:35.614230"
    },
    "collapsed": true,
    "hidden": true
   },
   "outputs": [],
   "source": [
    "dfc = df.copy()"
   ]
  },
  {
   "cell_type": "code",
   "execution_count": 29,
   "metadata": {
    "ExecuteTime": {
     "end_time": "2016-11-02T18:03:49.080178",
     "start_time": "2016-11-02T18:03:48.853081"
    },
    "collapsed": false,
    "hidden": true
   },
   "outputs": [],
   "source": [
    "df.to_csv('film_df_v4.csv', sep=',', encoding='utf-8')"
   ]
  },
  {
   "cell_type": "markdown",
   "metadata": {},
   "source": [
    "### Reorder and drop columns"
   ]
  },
  {
   "cell_type": "code",
   "execution_count": 30,
   "metadata": {
    "ExecuteTime": {
     "end_time": "2016-11-02T18:03:51.635684",
     "start_time": "2016-11-02T18:03:51.621991"
    },
    "collapsed": false
   },
   "outputs": [
    {
     "data": {
      "text/plain": [
       "array(['Actors', 'Awards', 'BoxOffice', 'Country', 'DVD', 'Director',\n",
       "       'Genre', 'Language', 'Metascore', 'Plot', 'Poster', 'Production',\n",
       "       'Rated', 'Released', 'Response', 'Runtime', 'Title', 'Type',\n",
       "       'Website', 'Writer', 'Year', 'imdbID', 'imdbRating', 'imdbVotes',\n",
       "       'tomatoConsensus', 'tomatoFresh', 'tomatoImage', 'tomatoMeter',\n",
       "       'tomatoRating', 'tomatoReviews', 'tomatoRotten', 'tomatoURL',\n",
       "       'tomatoUserMeter', 'tomatoUserRating', 'tomatoUserReviews', 'Gross',\n",
       "       'Opening', 'Budget'], dtype=object)"
      ]
     },
     "execution_count": 30,
     "metadata": {},
     "output_type": "execute_result"
    }
   ],
   "source": [
    "df.columns = [i.encode(\"utf-8\") for i in df.columns]\n",
    "df.columns.values"
   ]
  },
  {
   "cell_type": "code",
   "execution_count": 31,
   "metadata": {
    "ExecuteTime": {
     "end_time": "2016-11-02T18:03:56.253000",
     "start_time": "2016-11-02T18:03:56.241034"
    },
    "collapsed": false
   },
   "outputs": [
    {
     "name": "stdout",
     "output_type": "stream",
     "text": [
      "38\n",
      "38\n"
     ]
    }
   ],
   "source": [
    "original_cols = df.columns.values\n",
    "cols_list = [\n",
    "    'imdbID', 'Title', \n",
    "    'BoxOffice', 'Gross', 'Opening', 'Budget', \n",
    "    'Year', 'Released', \n",
    "    'Metascore', 'imdbRating', 'imdbVotes',\n",
    "    'tomatoMeter', 'tomatoRating', 'tomatoReviews', \n",
    "    'tomatoUserMeter', 'tomatoUserRating', 'tomatoUserReviews', \n",
    "    'tomatoFresh', 'tomatoRotten',\n",
    "    'Awards', 'Actors', 'Director', 'Writer', 'Production',  \n",
    "    'Country', 'Language', 'Genre', 'Rated', 'Runtime', 'Plot', \n",
    "    'tomatoConsensus', 'tomatoImage',  'tomatoURL',\n",
    "    'Website',  'DVD',  'Poster', 'Type', 'Response']\n",
    "\n",
    "# columns to delete:\n",
    "# ['tomatoConsensus', 'tomatoImage',  'tomatoURL', 'Response',\n",
    "# 'Type', 'Poster', 'Website', 'DVD']\n",
    "\n",
    "print len(original_cols)\n",
    "print len(cols_list)"
   ]
  },
  {
   "cell_type": "code",
   "execution_count": 53,
   "metadata": {
    "ExecuteTime": {
     "end_time": "2016-11-02T18:12:08.661166",
     "start_time": "2016-11-02T18:12:08.637605"
    },
    "collapsed": false
   },
   "outputs": [
    {
     "name": "stdout",
     "output_type": "stream",
     "text": [
      "movie    250\n",
      "Name: Type, dtype: int64\n",
      "True    250\n",
      "Name: Response, dtype: int64\n"
     ]
    }
   ],
   "source": [
    "print df['Type'].value_counts()\n",
    "print df['Response'].value_counts()"
   ]
  },
  {
   "cell_type": "code",
   "execution_count": 49,
   "metadata": {
    "ExecuteTime": {
     "end_time": "2016-11-02T18:09:14.832356",
     "start_time": "2016-11-02T18:09:14.777298"
    },
    "collapsed": false
   },
   "outputs": [
    {
     "name": "stdout",
     "output_type": "stream",
     "text": [
      "(250, 38)\n",
      "['imdbID' 'Title' 'BoxOffice' 'Gross' 'Opening' 'Budget' 'Year' 'Released'\n",
      " 'Metascore' 'imdbRating' 'imdbVotes' 'tomatoMeter' 'tomatoRating'\n",
      " 'tomatoReviews' 'tomatoUserMeter' 'tomatoUserRating' 'tomatoUserReviews'\n",
      " 'tomatoFresh' 'tomatoRotten' 'Awards' 'Actors' 'Director' 'Writer'\n",
      " 'Production' 'Country' 'Language' 'Genre' 'Rated' 'Runtime' 'Plot'\n",
      " 'tomatoConsensus' 'tomatoImage' 'tomatoURL' 'Website' 'DVD' 'Poster'\n",
      " 'Type' 'Response']\n"
     ]
    },
    {
     "data": {
      "text/html": [
       "<div>\n",
       "<table border=\"1\" class=\"dataframe\">\n",
       "  <thead>\n",
       "    <tr style=\"text-align: right;\">\n",
       "      <th></th>\n",
       "      <th>imdbID</th>\n",
       "      <th>Title</th>\n",
       "      <th>BoxOffice</th>\n",
       "      <th>Gross</th>\n",
       "      <th>Opening</th>\n",
       "      <th>Budget</th>\n",
       "      <th>Year</th>\n",
       "      <th>Released</th>\n",
       "      <th>Metascore</th>\n",
       "      <th>imdbRating</th>\n",
       "      <th>...</th>\n",
       "      <th>Runtime</th>\n",
       "      <th>Plot</th>\n",
       "      <th>tomatoConsensus</th>\n",
       "      <th>tomatoImage</th>\n",
       "      <th>tomatoURL</th>\n",
       "      <th>Website</th>\n",
       "      <th>DVD</th>\n",
       "      <th>Poster</th>\n",
       "      <th>Type</th>\n",
       "      <th>Response</th>\n",
       "    </tr>\n",
       "  </thead>\n",
       "  <tbody>\n",
       "    <tr>\n",
       "      <th>0</th>\n",
       "      <td>tt2582802</td>\n",
       "      <td>Whiplash</td>\n",
       "      <td>N/A</td>\n",
       "      <td>13092000.0</td>\n",
       "      <td>135388.0</td>\n",
       "      <td>3300000.0</td>\n",
       "      <td>2014</td>\n",
       "      <td>15 Oct 2014</td>\n",
       "      <td>88</td>\n",
       "      <td>8.5</td>\n",
       "      <td>...</td>\n",
       "      <td>107 min</td>\n",
       "      <td>A promising young drummer enrolls at a cut-thr...</td>\n",
       "      <td>Intense, inspiring, and well-acted, Whiplash i...</td>\n",
       "      <td>certified</td>\n",
       "      <td>http://www.rottentomatoes.com/m/whiplash_2014/</td>\n",
       "      <td>http://sonyclassics.com/whiplash/</td>\n",
       "      <td>24 Feb 2015</td>\n",
       "      <td>https://images-na.ssl-images-amazon.com/images...</td>\n",
       "      <td>movie</td>\n",
       "      <td>True</td>\n",
       "    </tr>\n",
       "  </tbody>\n",
       "</table>\n",
       "<p>1 rows × 38 columns</p>\n",
       "</div>"
      ],
      "text/plain": [
       "      imdbID     Title BoxOffice       Gross   Opening     Budget  Year  \\\n",
       "0  tt2582802  Whiplash       N/A  13092000.0  135388.0  3300000.0  2014   \n",
       "\n",
       "      Released Metascore imdbRating   ...     Runtime  \\\n",
       "0  15 Oct 2014        88        8.5   ...     107 min   \n",
       "\n",
       "                                                Plot  \\\n",
       "0  A promising young drummer enrolls at a cut-thr...   \n",
       "\n",
       "                                     tomatoConsensus tomatoImage  \\\n",
       "0  Intense, inspiring, and well-acted, Whiplash i...   certified   \n",
       "\n",
       "                                        tomatoURL  \\\n",
       "0  http://www.rottentomatoes.com/m/whiplash_2014/   \n",
       "\n",
       "                             Website          DVD  \\\n",
       "0  http://sonyclassics.com/whiplash/  24 Feb 2015   \n",
       "\n",
       "                                              Poster   Type Response  \n",
       "0  https://images-na.ssl-images-amazon.com/images...  movie     True  \n",
       "\n",
       "[1 rows x 38 columns]"
      ]
     },
     "execution_count": 49,
     "metadata": {},
     "output_type": "execute_result"
    }
   ],
   "source": [
    "# Reindex column order\n",
    "df = df.reindex(columns=cols_list)\n",
    "print df.shape\n",
    "print df.columns.values\n",
    "df.head(1)"
   ]
  },
  {
   "cell_type": "code",
   "execution_count": 54,
   "metadata": {
    "ExecuteTime": {
     "end_time": "2016-11-02T18:13:01.019929",
     "start_time": "2016-11-02T18:13:01.015950"
    },
    "collapsed": true
   },
   "outputs": [],
   "source": [
    "cols_to_delete = ['tomatoConsensus', 'tomatoImage',  'tomatoURL', 'Response',\n",
    "                  'Type', 'Poster', 'Website', 'DVD']"
   ]
  },
  {
   "cell_type": "code",
   "execution_count": 55,
   "metadata": {
    "ExecuteTime": {
     "end_time": "2016-11-02T18:13:21.884180",
     "start_time": "2016-11-02T18:13:21.875515"
    },
    "collapsed": false
   },
   "outputs": [
    {
     "name": "stdout",
     "output_type": "stream",
     "text": [
      "True    250\n",
      "Name: Response, dtype: int64\n",
      "movie    250\n",
      "Name: Type, dtype: int64\n"
     ]
    }
   ],
   "source": [
    "print df['Response'].value_counts()\n",
    "print df['Type'].value_counts()"
   ]
  },
  {
   "cell_type": "code",
   "execution_count": 64,
   "metadata": {
    "ExecuteTime": {
     "end_time": "2016-11-02T18:18:51.963520",
     "start_time": "2016-11-02T18:18:51.913281"
    },
    "collapsed": false
   },
   "outputs": [
    {
     "name": "stdout",
     "output_type": "stream",
     "text": [
      "(250, 30)\n"
     ]
    },
    {
     "data": {
      "text/html": [
       "<div>\n",
       "<table border=\"1\" class=\"dataframe\">\n",
       "  <thead>\n",
       "    <tr style=\"text-align: right;\">\n",
       "      <th></th>\n",
       "      <th>imdbID</th>\n",
       "      <th>Title</th>\n",
       "      <th>BoxOffice</th>\n",
       "      <th>Gross</th>\n",
       "      <th>Opening</th>\n",
       "      <th>Budget</th>\n",
       "      <th>Year</th>\n",
       "      <th>Released</th>\n",
       "      <th>Metascore</th>\n",
       "      <th>imdbRating</th>\n",
       "      <th>...</th>\n",
       "      <th>Actors</th>\n",
       "      <th>Director</th>\n",
       "      <th>Writer</th>\n",
       "      <th>Production</th>\n",
       "      <th>Country</th>\n",
       "      <th>Language</th>\n",
       "      <th>Genre</th>\n",
       "      <th>Rated</th>\n",
       "      <th>Runtime</th>\n",
       "      <th>Plot</th>\n",
       "    </tr>\n",
       "  </thead>\n",
       "  <tbody>\n",
       "    <tr>\n",
       "      <th>0</th>\n",
       "      <td>tt2582802</td>\n",
       "      <td>Whiplash</td>\n",
       "      <td>N/A</td>\n",
       "      <td>13092000.0</td>\n",
       "      <td>135388.0</td>\n",
       "      <td>3300000.0</td>\n",
       "      <td>2014</td>\n",
       "      <td>15 Oct 2014</td>\n",
       "      <td>88</td>\n",
       "      <td>8.5</td>\n",
       "      <td>...</td>\n",
       "      <td>Miles Teller, J.K. Simmons, Paul Reiser, Melis...</td>\n",
       "      <td>Damien Chazelle</td>\n",
       "      <td>Damien Chazelle</td>\n",
       "      <td>Sony Pictures Classics</td>\n",
       "      <td>USA</td>\n",
       "      <td>English</td>\n",
       "      <td>Drama, Music</td>\n",
       "      <td>R</td>\n",
       "      <td>107 min</td>\n",
       "      <td>A promising young drummer enrolls at a cut-thr...</td>\n",
       "    </tr>\n",
       "    <tr>\n",
       "      <th>1</th>\n",
       "      <td>tt0047478</td>\n",
       "      <td>Seven Samurai</td>\n",
       "      <td>N/A</td>\n",
       "      <td>269061.0</td>\n",
       "      <td>21830.0</td>\n",
       "      <td>2000000.0</td>\n",
       "      <td>1954</td>\n",
       "      <td>19 Nov 1956</td>\n",
       "      <td>98</td>\n",
       "      <td>8.7</td>\n",
       "      <td>...</td>\n",
       "      <td>Toshirô Mifune, Takashi Shimura, Keiko Tsushim...</td>\n",
       "      <td>Akira Kurosawa</td>\n",
       "      <td>Akira Kurosawa (screenplay), Shinobu Hashimoto...</td>\n",
       "      <td>Columbia Pictures</td>\n",
       "      <td>Japan</td>\n",
       "      <td>Japanese</td>\n",
       "      <td>Action, Adventure, Drama</td>\n",
       "      <td>UNRATED</td>\n",
       "      <td>207 min</td>\n",
       "      <td>A veteran samurai, who has fallen on hard time...</td>\n",
       "    </tr>\n",
       "  </tbody>\n",
       "</table>\n",
       "<p>2 rows × 30 columns</p>\n",
       "</div>"
      ],
      "text/plain": [
       "      imdbID          Title BoxOffice       Gross   Opening     Budget  Year  \\\n",
       "0  tt2582802       Whiplash       N/A  13092000.0  135388.0  3300000.0  2014   \n",
       "1  tt0047478  Seven Samurai       N/A    269061.0   21830.0  2000000.0  1954   \n",
       "\n",
       "      Released Metascore imdbRating  \\\n",
       "0  15 Oct 2014        88        8.5   \n",
       "1  19 Nov 1956        98        8.7   \n",
       "\n",
       "                         ...                          \\\n",
       "0                        ...                           \n",
       "1                        ...                           \n",
       "\n",
       "                                              Actors         Director  \\\n",
       "0  Miles Teller, J.K. Simmons, Paul Reiser, Melis...  Damien Chazelle   \n",
       "1  Toshirô Mifune, Takashi Shimura, Keiko Tsushim...   Akira Kurosawa   \n",
       "\n",
       "                                              Writer              Production  \\\n",
       "0                                    Damien Chazelle  Sony Pictures Classics   \n",
       "1  Akira Kurosawa (screenplay), Shinobu Hashimoto...       Columbia Pictures   \n",
       "\n",
       "  Country  Language                     Genre    Rated  Runtime  \\\n",
       "0     USA   English              Drama, Music        R  107 min   \n",
       "1   Japan  Japanese  Action, Adventure, Drama  UNRATED  207 min   \n",
       "\n",
       "                                                Plot  \n",
       "0  A promising young drummer enrolls at a cut-thr...  \n",
       "1  A veteran samurai, who has fallen on hard time...  \n",
       "\n",
       "[2 rows x 30 columns]"
      ]
     },
     "execution_count": 64,
     "metadata": {},
     "output_type": "execute_result"
    }
   ],
   "source": [
    "# Create final master df with only 30 columns\n",
    "df = df[['imdbID', 'Title', \n",
    "    'BoxOffice', 'Gross', 'Opening', 'Budget', \n",
    "    'Year', 'Released', \n",
    "    'Metascore', 'imdbRating', 'imdbVotes',\n",
    "    'tomatoMeter', 'tomatoRating', 'tomatoReviews', \n",
    "    'tomatoUserMeter', 'tomatoUserRating', 'tomatoUserReviews', \n",
    "    'tomatoFresh', 'tomatoRotten',\n",
    "    'Awards', 'Actors', 'Director', 'Writer', 'Production',  \n",
    "    'Country', 'Language', 'Genre', 'Rated', 'Runtime', 'Plot']]\n",
    "\n",
    "print df.shape\n",
    "df.head(2)"
   ]
  },
  {
   "cell_type": "raw",
   "metadata": {
    "ExecuteTime": {
     "end_time": "2016-11-02T18:46:58.738424",
     "start_time": "2016-11-02T18:46:58.733230"
    }
   },
   "source": [
    "### !!!!! DO NOT RUN !!!!! ###\n",
    "#######################\n",
    "#######################\n",
    "\n",
    "dfc = df.copy()\n",
    "\n",
    "#######################\n",
    "#######################"
   ]
  },
  {
   "cell_type": "code",
   "execution_count": 112,
   "metadata": {
    "ExecuteTime": {
     "end_time": "2016-11-02T18:49:06.947060",
     "start_time": "2016-11-02T18:49:06.944220"
    },
    "collapsed": true
   },
   "outputs": [],
   "source": [
    "df = dfc"
   ]
  },
  {
   "cell_type": "markdown",
   "metadata": {},
   "source": [
    "## Data Cleaning / Munging"
   ]
  },
  {
   "cell_type": "markdown",
   "metadata": {},
   "source": [
    "### Converting dtypes"
   ]
  },
  {
   "cell_type": "code",
   "execution_count": 113,
   "metadata": {
    "ExecuteTime": {
     "end_time": "2016-11-02T18:49:12.613898",
     "start_time": "2016-11-02T18:49:12.594491"
    },
    "collapsed": false
   },
   "outputs": [
    {
     "name": "stdout",
     "output_type": "stream",
     "text": [
      "<class 'pandas.core.frame.DataFrame'>\n",
      "Int64Index: 250 entries, 0 to 249\n",
      "Data columns (total 30 columns):\n",
      "imdbID               250 non-null object\n",
      "Title                250 non-null object\n",
      "BoxOffice            250 non-null object\n",
      "Gross                184 non-null float64\n",
      "Opening              118 non-null float64\n",
      "Budget               216 non-null float64\n",
      "Year                 250 non-null int64\n",
      "Released             250 non-null object\n",
      "Metascore            169 non-null float64\n",
      "imdbRating           250 non-null float64\n",
      "imdbVotes            250 non-null int64\n",
      "tomatoMeter          245 non-null float64\n",
      "tomatoRating         245 non-null float64\n",
      "tomatoReviews        245 non-null float64\n",
      "tomatoUserMeter      247 non-null float64\n",
      "tomatoUserRating     247 non-null float64\n",
      "tomatoUserReviews    249 non-null float64\n",
      "tomatoFresh          245 non-null float64\n",
      "tomatoRotten         245 non-null float64\n",
      "Awards               250 non-null object\n",
      "Actors               250 non-null object\n",
      "Director             250 non-null object\n",
      "Writer               250 non-null object\n",
      "Production           250 non-null object\n",
      "Country              250 non-null object\n",
      "Language             250 non-null object\n",
      "Genre                250 non-null object\n",
      "Rated                250 non-null object\n",
      "Runtime              250 non-null object\n",
      "Plot                 250 non-null object\n",
      "dtypes: float64(13), int64(2), object(15)\n",
      "memory usage: 60.5+ KB\n"
     ]
    }
   ],
   "source": [
    "df.info()"
   ]
  },
  {
   "cell_type": "markdown",
   "metadata": {},
   "source": [
    "### Convert numeric dtypes (floats and int)"
   ]
  },
  {
   "cell_type": "code",
   "execution_count": 74,
   "metadata": {
    "ExecuteTime": {
     "end_time": "2016-11-02T18:27:59.416828",
     "start_time": "2016-11-02T18:27:59.401013"
    },
    "collapsed": false
   },
   "outputs": [],
   "source": [
    "# Convert Metascore to float with np.nan for N/A\n",
    "df['Metascore'] = df['Metascore'].apply(lambda x: np.nan if x == 'N/A' else x)\n",
    "df['Metascore'] = df['Metascore'].astype(float)"
   ]
  },
  {
   "cell_type": "code",
   "execution_count": 84,
   "metadata": {
    "ExecuteTime": {
     "end_time": "2016-11-02T18:31:56.044503",
     "start_time": "2016-11-02T18:31:56.034517"
    },
    "collapsed": false
   },
   "outputs": [
    {
     "data": {
      "text/plain": [
       "dtype('float64')"
      ]
     },
     "execution_count": 84,
     "metadata": {},
     "output_type": "execute_result"
    }
   ],
   "source": [
    "# Convert imdbRating to float\n",
    "df['imdbRating'] = df['imdbRating'].astype(float)"
   ]
  },
  {
   "cell_type": "code",
   "execution_count": 87,
   "metadata": {
    "ExecuteTime": {
     "end_time": "2016-11-02T18:34:24.747259",
     "start_time": "2016-11-02T18:34:24.739128"
    },
    "collapsed": false
   },
   "outputs": [],
   "source": [
    "# Convert imdbVotes to int\n",
    "df['imdbVotes'] = df['imdbVotes'].apply(lambda x: x.replace(',', ''))\n",
    "df['imdbVotes'] = df['imdbVotes'].astype(int)"
   ]
  },
  {
   "cell_type": "code",
   "execution_count": null,
   "metadata": {
    "collapsed": true
   },
   "outputs": [],
   "source": [
    "# Convert all tomato columns to int\n",
    "tomato_list = ['tomatoMeter', 'tomatoReviews', 'tomatoUserMeter', 'tomatoUserReviews',\n",
    "           'tomatoFresh', 'tomatoRotten', 'tomatoRating', 'tomatoUserRating']\n",
    "\n",
    "def convert_num(some_list):\n",
    "    for i in some_list:\n",
    "        df[i] = df[i].apply(lambda x: np.nan if x == 'N/A' else x)\n",
    "        df[i] = df[i].astype(float)\n",
    "    return df[i]\n",
    "\n",
    "convert_num(tomato_list)"
   ]
  },
  {
   "cell_type": "markdown",
   "metadata": {
    "heading_collapsed": true
   },
   "source": [
    "### Unused tomato convert cells"
   ]
  },
  {
   "cell_type": "code",
   "execution_count": null,
   "metadata": {
    "collapsed": true,
    "hidden": true
   },
   "outputs": [],
   "source": [
    "# Convert tomatoRating to float"
   ]
  },
  {
   "cell_type": "code",
   "execution_count": null,
   "metadata": {
    "collapsed": true,
    "hidden": true
   },
   "outputs": [],
   "source": [
    "# Convert tomatoReviews to int"
   ]
  },
  {
   "cell_type": "code",
   "execution_count": null,
   "metadata": {
    "collapsed": true,
    "hidden": true
   },
   "outputs": [],
   "source": [
    "# Convert tomatoUserMeter to int"
   ]
  },
  {
   "cell_type": "code",
   "execution_count": null,
   "metadata": {
    "collapsed": true,
    "hidden": true
   },
   "outputs": [],
   "source": [
    "# Convert tomatoUserRating to float"
   ]
  },
  {
   "cell_type": "code",
   "execution_count": null,
   "metadata": {
    "collapsed": true,
    "hidden": true
   },
   "outputs": [],
   "source": [
    "# Convert tomatoUserReviews to int"
   ]
  },
  {
   "cell_type": "code",
   "execution_count": null,
   "metadata": {
    "collapsed": true,
    "hidden": true
   },
   "outputs": [],
   "source": [
    "# Convert tomatoFresh to int"
   ]
  },
  {
   "cell_type": "code",
   "execution_count": null,
   "metadata": {
    "collapsed": true,
    "hidden": true
   },
   "outputs": [],
   "source": [
    "# Convert tomatoRotten to int"
   ]
  },
  {
   "cell_type": "code",
   "execution_count": null,
   "metadata": {
    "collapsed": true,
    "hidden": true
   },
   "outputs": [],
   "source": [
    "# Convert"
   ]
  },
  {
   "cell_type": "markdown",
   "metadata": {},
   "source": [
    "### Convert date-related columns (Year and Released)"
   ]
  },
  {
   "cell_type": "code",
   "execution_count": null,
   "metadata": {
    "collapsed": true
   },
   "outputs": [],
   "source": [
    "# Convert Year to int\n",
    "df['Year'] = df['Year'].astype(int)"
   ]
  },
  {
   "cell_type": "code",
   "execution_count": 117,
   "metadata": {
    "ExecuteTime": {
     "end_time": "2016-11-02T18:54:08.608202",
     "start_time": "2016-11-02T18:54:08.593419"
    },
    "collapsed": false
   },
   "outputs": [
    {
     "data": {
      "text/plain": [
       "0    15 Oct 2014\n",
       "1    19 Nov 1956\n",
       "2    12 Jun 1981\n",
       "Name: Released, dtype: object"
      ]
     },
     "execution_count": 117,
     "metadata": {},
     "output_type": "execute_result"
    }
   ],
   "source": [
    "# Convert Release to datetime\n",
    "df['Released'].head(3)"
   ]
  },
  {
   "cell_type": "code",
   "execution_count": 158,
   "metadata": {
    "ExecuteTime": {
     "end_time": "2016-11-02T19:14:04.941707",
     "start_time": "2016-11-02T19:14:04.889897"
    },
    "collapsed": false
   },
   "outputs": [
    {
     "name": "stderr",
     "output_type": "stream",
     "text": [
      "/anaconda/lib/python2.7/site-packages/ipykernel/__main__.py:2: SettingWithCopyWarning: \n",
      "A value is trying to be set on a copy of a slice from a DataFrame.\n",
      "Try using .loc[row_indexer,col_indexer] = value instead\n",
      "\n",
      "See the caveats in the documentation: http://pandas.pydata.org/pandas-docs/stable/indexing.html#indexing-view-versus-copy\n",
      "  from ipykernel import kernelapp as app\n"
     ]
    }
   ],
   "source": [
    "ndf = df[['Released', 'Year']]\n",
    "ndf['Released'] = ndf['Released'].apply(lambda x: x.replace(' ', '-'))"
   ]
  },
  {
   "cell_type": "code",
   "execution_count": 170,
   "metadata": {
    "ExecuteTime": {
     "end_time": "2016-11-02T19:19:23.461434",
     "start_time": "2016-11-02T19:19:23.413673"
    },
    "collapsed": false
   },
   "outputs": [],
   "source": [
    "ndf.loc[:,'Released'] = ndf.loc[:,'Released'].astype(str)"
   ]
  },
  {
   "cell_type": "code",
   "execution_count": 176,
   "metadata": {
    "ExecuteTime": {
     "end_time": "2016-11-02T19:20:20.435411",
     "start_time": "2016-11-02T19:20:20.427157"
    },
    "collapsed": false
   },
   "outputs": [
    {
     "name": "stdout",
     "output_type": "stream",
     "text": [
      "Oct\n",
      "Nov\n",
      "Jun\n",
      "Dec\n",
      "May\n",
      "Jan\n",
      "Dec\n",
      "Feb\n",
      "Sep\n",
      "May\n",
      "Jan\n",
      "Nov\n",
      "Sep\n",
      "Jan\n",
      "Jul\n",
      "Mar\n",
      "Jun\n",
      "Jan\n",
      "Apr\n",
      "Jan\n",
      "Dec\n",
      "Jul\n",
      "Nov\n",
      "Jun\n",
      "Mar\n",
      "Sep\n",
      "Dec\n",
      "Sep\n",
      "Jan\n",
      "Jan\n",
      "Dec\n",
      "Dec\n",
      "Feb\n",
      "Aug\n",
      "Jan\n",
      "Dec\n",
      "Oct\n",
      "Jul\n",
      "Jun\n",
      "Dec\n",
      "Nov\n",
      "Nov\n",
      "Jul\n",
      "Jan\n",
      "Nov\n",
      "Dec\n",
      "Apr\n",
      "Jun\n",
      "Jun\n",
      "Aug\n",
      "May\n",
      "Feb\n",
      "Dec\n",
      "Apr\n",
      "Jan\n",
      "Jun\n",
      "Oct\n",
      "Oct\n",
      "Feb\n",
      "Mar\n",
      "Jul\n",
      "Apr\n",
      "Oct\n",
      "Apr\n",
      "Apr\n",
      "Oct\n",
      "Mar\n",
      "Feb\n",
      "Jul\n",
      "Nov\n",
      "Sep\n",
      "Mar\n",
      "Feb\n",
      "\n",
      "Feb\n",
      "Apr\n",
      "Mar\n",
      "Dec\n",
      "Dec\n",
      "Jul\n",
      "Nov\n",
      "May\n",
      "Jun\n",
      "May\n",
      "Oct\n",
      "Dec\n",
      "Jun\n",
      "Jan\n",
      "Feb\n",
      "Jun\n",
      "Nov\n",
      "Feb\n",
      "Jun\n",
      "Jan\n",
      "Dec\n",
      "Mar\n",
      "Mar\n",
      "Jul\n",
      "Aug\n",
      "Aug\n",
      "Jun\n",
      "Feb\n",
      "May\n",
      "Mar\n",
      "Oct\n",
      "Dec\n",
      "Feb\n",
      "Oct\n",
      "Jun\n",
      "Mar\n",
      "Apr\n",
      "Oct\n",
      "Dec\n",
      "Feb\n",
      "Nov\n",
      "Dec\n",
      "Aug\n",
      "Jun\n",
      "Oct\n",
      "Dec\n",
      "Feb\n",
      "Mar\n",
      "May\n",
      "Mar\n",
      "Jun\n",
      "Jun\n",
      "Dec\n",
      "Sep\n",
      "Mar\n",
      "Feb\n",
      "Oct\n",
      "Aug\n",
      "Aug\n",
      "Jul\n",
      "Dec\n",
      "Aug\n",
      "Jan\n",
      "Aug\n",
      "May\n",
      "Jun\n",
      "Nov\n",
      "Jan\n",
      "Jul\n",
      "Mar\n",
      "May\n",
      "Dec\n",
      "Jan\n",
      "Apr\n",
      "Sep\n",
      "Jul\n",
      "Nov\n",
      "Feb\n",
      "Aug\n",
      "Aug\n",
      "Sep\n",
      "Jun\n",
      "Jan\n",
      "Aug\n",
      "Jan\n",
      "Jul\n",
      "Dec\n",
      "Sep\n",
      "Sep\n",
      "Nov\n",
      "Sep\n",
      "Aug\n",
      "Oct\n",
      "Oct\n",
      "May\n",
      "Jan\n",
      "May\n",
      "Jan\n",
      "May\n",
      "Sep\n",
      "Oct\n",
      "Feb\n",
      "Nov\n",
      "Sep\n",
      "Oct\n",
      "May\n",
      "Feb\n",
      "Oct\n",
      "Mar\n",
      "Dec\n",
      "Oct\n",
      "Dec\n",
      "Jun\n",
      "Mar\n",
      "Dec\n",
      "Aug\n",
      "May\n",
      "Apr\n",
      "Oct\n",
      "Oct\n",
      "Nov\n",
      "Nov\n",
      "Feb\n",
      "Mar\n",
      "Aug\n",
      "Feb\n",
      "Jun\n",
      "Feb\n",
      "Mar\n",
      "Mar\n",
      "Aug\n",
      "Sep\n",
      "Sep\n",
      "Jan\n",
      "Dec\n",
      "Nov\n",
      "Oct\n",
      "Aug\n",
      "Mar\n",
      "Oct\n",
      "Dec\n",
      "Dec\n",
      "Mar\n",
      "May\n",
      "Apr\n",
      "Sep\n",
      "Sep\n",
      "Apr\n",
      "Jul\n",
      "Sep\n",
      "Jul\n",
      "Feb\n",
      "Jun\n",
      "Oct\n",
      "Sep\n",
      "Feb\n",
      "Apr\n",
      "Apr\n",
      "Jul\n",
      "May\n",
      "Sep\n",
      "May\n",
      "Jul\n",
      "Jun\n",
      "Feb\n",
      "Jan\n",
      "Nov\n",
      "Jun\n",
      "Mar\n",
      "Jul\n",
      "Dec\n",
      "Nov\n",
      "May\n",
      "Jan\n",
      "Jun\n",
      "Feb\n"
     ]
    }
   ],
   "source": [
    "for i in ndf['Released']:\n",
    "    print i[3:6]"
   ]
  },
  {
   "cell_type": "code",
   "execution_count": 172,
   "metadata": {
    "ExecuteTime": {
     "end_time": "2016-11-02T19:19:40.093418",
     "start_time": "2016-11-02T19:19:40.088249"
    },
    "collapsed": false
   },
   "outputs": [
    {
     "data": {
      "text/plain": [
       "str"
      ]
     },
     "execution_count": 172,
     "metadata": {},
     "output_type": "execute_result"
    }
   ],
   "source": [
    "type(ndf['Released'][1])"
   ]
  },
  {
   "cell_type": "code",
   "execution_count": 177,
   "metadata": {
    "ExecuteTime": {
     "end_time": "2016-11-02T19:20:55.057609",
     "start_time": "2016-11-02T19:20:55.052175"
    },
    "collapsed": false
   },
   "outputs": [],
   "source": [
    "import calendar\n",
    "calendar_dict = {v: k for k,v in enumerate(calendar.month_abbr)}\n",
    "\n",
    "def get_month():\n",
    "    for i in ndf['Released']:\n",
    "        i[3:6] = i[3:6].replace([month], calendar_dict[month])\n",
    "    return i"
   ]
  },
  {
   "cell_type": "code",
   "execution_count": 187,
   "metadata": {
    "ExecuteTime": {
     "end_time": "2016-11-02T19:33:51.775571",
     "start_time": "2016-11-02T19:33:51.598134"
    },
    "collapsed": false
   },
   "outputs": [
    {
     "name": "stderr",
     "output_type": "stream",
     "text": [
      "/anaconda/lib/python2.7/site-packages/ipykernel/__main__.py:1: SettingWithCopyWarning: \n",
      "A value is trying to be set on a copy of a slice from a DataFrame.\n",
      "Try using .loc[row_indexer,col_indexer] = value instead\n",
      "\n",
      "See the caveats in the documentation: http://pandas.pydata.org/pandas-docs/stable/indexing.html#indexing-view-versus-copy\n",
      "  if __name__ == '__main__':\n"
     ]
    }
   ],
   "source": [
    "ndf['month'] = [i[3:6] for i in ndf['Released']]"
   ]
  },
  {
   "cell_type": "code",
   "execution_count": 188,
   "metadata": {
    "ExecuteTime": {
     "end_time": "2016-11-02T19:34:00.273158",
     "start_time": "2016-11-02T19:34:00.260600"
    },
    "collapsed": false
   },
   "outputs": [
    {
     "data": {
      "text/plain": [
       "0      Oct\n",
       "1      Nov\n",
       "2      Jun\n",
       "3      Dec\n",
       "4      May\n",
       "5      Jan\n",
       "6      Dec\n",
       "7      Feb\n",
       "8      Sep\n",
       "9      May\n",
       "10     Jan\n",
       "11     Nov\n",
       "12     Sep\n",
       "13     Jan\n",
       "14     Jul\n",
       "15     Mar\n",
       "16     Jun\n",
       "17     Jan\n",
       "18     Apr\n",
       "19     Jan\n",
       "20     Dec\n",
       "21     Jul\n",
       "22     Nov\n",
       "23     Jun\n",
       "24     Mar\n",
       "25     Sep\n",
       "26     Dec\n",
       "27     Sep\n",
       "28     Jan\n",
       "29     Jan\n",
       "      ... \n",
       "220    Sep\n",
       "221    Apr\n",
       "222    Jul\n",
       "223    Sep\n",
       "224    Jul\n",
       "225    Feb\n",
       "226    Jun\n",
       "227    Oct\n",
       "228    Sep\n",
       "229    Feb\n",
       "230    Apr\n",
       "231    Apr\n",
       "232    Jul\n",
       "233    May\n",
       "234    Sep\n",
       "235    May\n",
       "236    Jul\n",
       "237    Jun\n",
       "238    Feb\n",
       "239    Jan\n",
       "240    Nov\n",
       "241    Jun\n",
       "242    Mar\n",
       "243    Jul\n",
       "244    Dec\n",
       "245    Nov\n",
       "246    May\n",
       "247    Jan\n",
       "248    Jun\n",
       "249    Feb\n",
       "Name: month, dtype: object"
      ]
     },
     "execution_count": 188,
     "metadata": {},
     "output_type": "execute_result"
    }
   ],
   "source": [
    "ndf['month'] = "
   ]
  },
  {
   "cell_type": "code",
   "execution_count": 186,
   "metadata": {
    "ExecuteTime": {
     "end_time": "2016-11-02T19:24:25.279631",
     "start_time": "2016-11-02T19:24:25.201848"
    },
    "collapsed": false
   },
   "outputs": [
    {
     "ename": "TypeError",
     "evalue": "'dict' object is not callable",
     "output_type": "error",
     "traceback": [
      "\u001b[0;31m---------------------------------------------------------------------------\u001b[0m",
      "\u001b[0;31mTypeError\u001b[0m                                 Traceback (most recent call last)",
      "\u001b[0;32m<ipython-input-186-2ac76bf44d6d>\u001b[0m in \u001b[0;36m<module>\u001b[0;34m()\u001b[0m\n\u001b[0;32m----> 1\u001b[0;31m \u001b[0mget_month\u001b[0m\u001b[0;34m(\u001b[0m\u001b[0;34m)\u001b[0m\u001b[0;34m\u001b[0m\u001b[0m\n\u001b[0m",
      "\u001b[0;32m<ipython-input-185-c33a56320e83>\u001b[0m in \u001b[0;36mget_month\u001b[0;34m()\u001b[0m\n\u001b[1;32m      3\u001b[0m     \u001b[0;32mfor\u001b[0m \u001b[0mi\u001b[0m \u001b[0;32min\u001b[0m \u001b[0mndf\u001b[0m\u001b[0;34m[\u001b[0m\u001b[0;34m'Released'\u001b[0m\u001b[0;34m]\u001b[0m\u001b[0;34m:\u001b[0m\u001b[0;34m\u001b[0m\u001b[0m\n\u001b[1;32m      4\u001b[0m         \u001b[0mmonth\u001b[0m \u001b[0;34m=\u001b[0m \u001b[0mi\u001b[0m\u001b[0;34m[\u001b[0m\u001b[0;36m3\u001b[0m\u001b[0;34m:\u001b[0m\u001b[0;36m6\u001b[0m\u001b[0;34m]\u001b[0m\u001b[0;34m\u001b[0m\u001b[0m\n\u001b[0;32m----> 5\u001b[0;31m         \u001b[0mx\u001b[0m \u001b[0;34m=\u001b[0m \u001b[0;34m(\u001b[0m\u001b[0mi\u001b[0m\u001b[0;34m,\u001b[0m \u001b[0mcalendar_dict\u001b[0m\u001b[0;34m(\u001b[0m\u001b[0mmonth\u001b[0m\u001b[0;34m)\u001b[0m\u001b[0;34m)\u001b[0m\u001b[0;34m\u001b[0m\u001b[0m\n\u001b[0m\u001b[1;32m      6\u001b[0m         \u001b[0mmonths\u001b[0m\u001b[0;34m.\u001b[0m\u001b[0mappend\u001b[0m\u001b[0;34m(\u001b[0m\u001b[0mx\u001b[0m\u001b[0;34m)\u001b[0m\u001b[0;34m\u001b[0m\u001b[0m\n\u001b[1;32m      7\u001b[0m     \u001b[0;32mreturn\u001b[0m \u001b[0mmonths\u001b[0m\u001b[0;34m\u001b[0m\u001b[0m\n",
      "\u001b[0;31mTypeError\u001b[0m: 'dict' object is not callable"
     ]
    }
   ],
   "source": [
    "get_month()"
   ]
  },
  {
   "cell_type": "code",
   "execution_count": 141,
   "metadata": {
    "ExecuteTime": {
     "end_time": "2016-11-02T19:04:48.024213",
     "start_time": "2016-11-02T19:04:48.005721"
    },
    "collapsed": false
   },
   "outputs": [
    {
     "data": {
      "text/plain": [
       "0      15-Oct-2014\n",
       "1      19-Nov-1956\n",
       "2      12-Jun-1981\n",
       "3      14-Dec-1957\n",
       "4      04-May-2012\n",
       "5      08-Jan-2016\n",
       "6      12-Dec-2002\n",
       "7      16-Feb-1955\n",
       "8      13-Sep-1961\n",
       "9      30-May-2003\n",
       "10     15-Jan-1951\n",
       "11     02-Nov-2001\n",
       "12     27-Sep-2013\n",
       "13     28-Jan-2005\n",
       "14     04-Jul-1963\n",
       "15     28-Mar-2003\n",
       "16     20-Jun-1974\n",
       "17     05-Jan-1996\n",
       "18     08-Apr-2005\n",
       "19     09-Jan-1998\n",
       "20     10-Dec-2014\n",
       "21     08-Jul-1977\n",
       "22     20-Nov-2015\n",
       "23     17-Jun-2005\n",
       "24     07-Mar-1931\n",
       "25     19-Sep-1997\n",
       "26     25-Dec-2009\n",
       "27     26-Sep-1959\n",
       "28     04-Jan-2002\n",
       "29     27-Jan-1995\n",
       "          ...     \n",
       "220    29-Sep-1950\n",
       "221    17-Apr-1980\n",
       "222    10-Jul-1987\n",
       "223    16-Sep-1960\n",
       "224    06-Jul-1994\n",
       "225    12-Feb-1999\n",
       "226    20-Jun-1975\n",
       "227    01-Oct-1999\n",
       "228    20-Sep-2013\n",
       "229    06-Feb-1958\n",
       "230    20-Apr-1977\n",
       "231    12-Apr-1940\n",
       "232    16-Jul-2010\n",
       "233    10-May-1967\n",
       "234    21-Sep-1975\n",
       "235    25-May-1977\n",
       "236    03-Jul-1991\n",
       "237    25-Jun-1963\n",
       "238    04-Feb-2005\n",
       "239    17-Jan-1940\n",
       "240    21-Nov-2007\n",
       "241    22-Jun-1954\n",
       "242    12-Mar-2010\n",
       "243    24-Jul-1998\n",
       "244    09-Dec-1983\n",
       "245    21-Nov-1975\n",
       "246    25-May-2001\n",
       "247    19-Jan-2001\n",
       "248    01-Jun-1985\n",
       "249    08-Feb-1976\n",
       "Name: Released, dtype: object"
      ]
     },
     "execution_count": 141,
     "metadata": {},
     "output_type": "execute_result"
    }
   ],
   "source": [
    "ndf['Released']"
   ]
  },
  {
   "cell_type": "code",
   "execution_count": 118,
   "metadata": {
    "ExecuteTime": {
     "end_time": "2016-11-02T18:55:33.998069",
     "start_time": "2016-11-02T18:55:33.870190"
    },
    "collapsed": false
   },
   "outputs": [
    {
     "ename": "ValueError",
     "evalue": "Unknown string format",
     "output_type": "error",
     "traceback": [
      "\u001b[0;31m---------------------------------------------------------------------------\u001b[0m",
      "\u001b[0;31mValueError\u001b[0m                                Traceback (most recent call last)",
      "\u001b[0;32m<ipython-input-118-2297ded24d8b>\u001b[0m in \u001b[0;36m<module>\u001b[0;34m()\u001b[0m\n\u001b[0;32m----> 1\u001b[0;31m \u001b[0mpd\u001b[0m\u001b[0;34m.\u001b[0m\u001b[0mto_datetime\u001b[0m\u001b[0;34m(\u001b[0m\u001b[0mdf\u001b[0m\u001b[0;34m[\u001b[0m\u001b[0;34m'Released'\u001b[0m\u001b[0;34m]\u001b[0m\u001b[0;34m)\u001b[0m\u001b[0;34m\u001b[0m\u001b[0m\n\u001b[0m",
      "\u001b[0;32m//anaconda/lib/python2.7/site-packages/pandas/util/decorators.pyc\u001b[0m in \u001b[0;36mwrapper\u001b[0;34m(*args, **kwargs)\u001b[0m\n\u001b[1;32m     89\u001b[0m                 \u001b[0;32melse\u001b[0m\u001b[0;34m:\u001b[0m\u001b[0;34m\u001b[0m\u001b[0m\n\u001b[1;32m     90\u001b[0m                     \u001b[0mkwargs\u001b[0m\u001b[0;34m[\u001b[0m\u001b[0mnew_arg_name\u001b[0m\u001b[0;34m]\u001b[0m \u001b[0;34m=\u001b[0m \u001b[0mnew_arg_value\u001b[0m\u001b[0;34m\u001b[0m\u001b[0m\n\u001b[0;32m---> 91\u001b[0;31m             \u001b[0;32mreturn\u001b[0m \u001b[0mfunc\u001b[0m\u001b[0;34m(\u001b[0m\u001b[0;34m*\u001b[0m\u001b[0margs\u001b[0m\u001b[0;34m,\u001b[0m \u001b[0;34m**\u001b[0m\u001b[0mkwargs\u001b[0m\u001b[0;34m)\u001b[0m\u001b[0;34m\u001b[0m\u001b[0m\n\u001b[0m\u001b[1;32m     92\u001b[0m         \u001b[0;32mreturn\u001b[0m \u001b[0mwrapper\u001b[0m\u001b[0;34m\u001b[0m\u001b[0m\n\u001b[1;32m     93\u001b[0m     \u001b[0;32mreturn\u001b[0m \u001b[0m_deprecate_kwarg\u001b[0m\u001b[0;34m\u001b[0m\u001b[0m\n",
      "\u001b[0;32m//anaconda/lib/python2.7/site-packages/pandas/tseries/tools.pyc\u001b[0m in \u001b[0;36mto_datetime\u001b[0;34m(arg, errors, dayfirst, yearfirst, utc, box, format, exact, coerce, unit, infer_datetime_format)\u001b[0m\n\u001b[1;32m    413\u001b[0m     \u001b[0;32melif\u001b[0m \u001b[0misinstance\u001b[0m\u001b[0;34m(\u001b[0m\u001b[0marg\u001b[0m\u001b[0;34m,\u001b[0m \u001b[0mABCSeries\u001b[0m\u001b[0;34m)\u001b[0m\u001b[0;34m:\u001b[0m\u001b[0;34m\u001b[0m\u001b[0m\n\u001b[1;32m    414\u001b[0m         \u001b[0;32mfrom\u001b[0m \u001b[0mpandas\u001b[0m \u001b[0;32mimport\u001b[0m \u001b[0mSeries\u001b[0m\u001b[0;34m\u001b[0m\u001b[0m\n\u001b[0;32m--> 415\u001b[0;31m         \u001b[0mvalues\u001b[0m \u001b[0;34m=\u001b[0m \u001b[0m_convert_listlike\u001b[0m\u001b[0;34m(\u001b[0m\u001b[0marg\u001b[0m\u001b[0;34m.\u001b[0m\u001b[0m_values\u001b[0m\u001b[0;34m,\u001b[0m \u001b[0mFalse\u001b[0m\u001b[0;34m,\u001b[0m \u001b[0mformat\u001b[0m\u001b[0;34m)\u001b[0m\u001b[0;34m\u001b[0m\u001b[0m\n\u001b[0m\u001b[1;32m    416\u001b[0m         \u001b[0;32mreturn\u001b[0m \u001b[0mSeries\u001b[0m\u001b[0;34m(\u001b[0m\u001b[0mvalues\u001b[0m\u001b[0;34m,\u001b[0m \u001b[0mindex\u001b[0m\u001b[0;34m=\u001b[0m\u001b[0marg\u001b[0m\u001b[0;34m.\u001b[0m\u001b[0mindex\u001b[0m\u001b[0;34m,\u001b[0m \u001b[0mname\u001b[0m\u001b[0;34m=\u001b[0m\u001b[0marg\u001b[0m\u001b[0;34m.\u001b[0m\u001b[0mname\u001b[0m\u001b[0;34m)\u001b[0m\u001b[0;34m\u001b[0m\u001b[0m\n\u001b[1;32m    417\u001b[0m     \u001b[0;32melif\u001b[0m \u001b[0misinstance\u001b[0m\u001b[0;34m(\u001b[0m\u001b[0marg\u001b[0m\u001b[0;34m,\u001b[0m \u001b[0;34m(\u001b[0m\u001b[0mABCDataFrame\u001b[0m\u001b[0;34m,\u001b[0m \u001b[0mMutableMapping\u001b[0m\u001b[0;34m)\u001b[0m\u001b[0;34m)\u001b[0m\u001b[0;34m:\u001b[0m\u001b[0;34m\u001b[0m\u001b[0m\n",
      "\u001b[0;32m//anaconda/lib/python2.7/site-packages/pandas/tseries/tools.pyc\u001b[0m in \u001b[0;36m_convert_listlike\u001b[0;34m(arg, box, format, name, tz)\u001b[0m\n\u001b[1;32m    405\u001b[0m                 \u001b[0;32mreturn\u001b[0m \u001b[0mDatetimeIndex\u001b[0m\u001b[0;34m.\u001b[0m\u001b[0m_simple_new\u001b[0m\u001b[0;34m(\u001b[0m\u001b[0mvalues\u001b[0m\u001b[0;34m,\u001b[0m \u001b[0mname\u001b[0m\u001b[0;34m=\u001b[0m\u001b[0mname\u001b[0m\u001b[0;34m,\u001b[0m \u001b[0mtz\u001b[0m\u001b[0;34m=\u001b[0m\u001b[0mtz\u001b[0m\u001b[0;34m)\u001b[0m\u001b[0;34m\u001b[0m\u001b[0m\n\u001b[1;32m    406\u001b[0m             \u001b[0;32mexcept\u001b[0m \u001b[0;34m(\u001b[0m\u001b[0mValueError\u001b[0m\u001b[0;34m,\u001b[0m \u001b[0mTypeError\u001b[0m\u001b[0;34m)\u001b[0m\u001b[0;34m:\u001b[0m\u001b[0;34m\u001b[0m\u001b[0m\n\u001b[0;32m--> 407\u001b[0;31m                 \u001b[0;32mraise\u001b[0m \u001b[0me\u001b[0m\u001b[0;34m\u001b[0m\u001b[0m\n\u001b[0m\u001b[1;32m    408\u001b[0m \u001b[0;34m\u001b[0m\u001b[0m\n\u001b[1;32m    409\u001b[0m     \u001b[0;32mif\u001b[0m \u001b[0marg\u001b[0m \u001b[0;32mis\u001b[0m \u001b[0mNone\u001b[0m\u001b[0;34m:\u001b[0m\u001b[0;34m\u001b[0m\u001b[0m\n",
      "\u001b[0;31mValueError\u001b[0m: Unknown string format"
     ]
    }
   ],
   "source": [
    "pd.to_datetime(df['Released'])"
   ]
  },
  {
   "cell_type": "code",
   "execution_count": null,
   "metadata": {
    "collapsed": true
   },
   "outputs": [],
   "source": [
    "pd.to_datetime(pd.Series(date_stngs))"
   ]
  },
  {
   "cell_type": "code",
   "execution_count": 115,
   "metadata": {
    "ExecuteTime": {
     "end_time": "2016-11-02T18:51:32.925183",
     "start_time": "2016-11-02T18:51:32.890812"
    },
    "collapsed": false
   },
   "outputs": [
    {
     "data": {
      "text/plain": [
       "imdbID                object\n",
       "Title                 object\n",
       "BoxOffice             object\n",
       "Gross                float64\n",
       "Opening              float64\n",
       "Budget               float64\n",
       "Year                   int64\n",
       "Released              object\n",
       "Metascore            float64\n",
       "imdbRating           float64\n",
       "imdbVotes              int64\n",
       "tomatoMeter          float64\n",
       "tomatoRating         float64\n",
       "tomatoReviews        float64\n",
       "tomatoUserMeter      float64\n",
       "tomatoUserRating     float64\n",
       "tomatoUserReviews    float64\n",
       "tomatoFresh          float64\n",
       "tomatoRotten         float64\n",
       "Awards                object\n",
       "Actors                object\n",
       "Director              object\n",
       "Writer                object\n",
       "Production            object\n",
       "Country               object\n",
       "Language              object\n",
       "Genre                 object\n",
       "Rated                 object\n",
       "Runtime               object\n",
       "Plot                  object\n",
       "dtype: object"
      ]
     },
     "execution_count": 115,
     "metadata": {},
     "output_type": "execute_result"
    }
   ],
   "source": [
    "df.dtypes"
   ]
  },
  {
   "cell_type": "code",
   "execution_count": 69,
   "metadata": {
    "ExecuteTime": {
     "end_time": "2016-11-02T18:23:49.050592",
     "start_time": "2016-11-02T18:23:49.037790"
    },
    "collapsed": false
   },
   "outputs": [
    {
     "data": {
      "text/plain": [
       "imdbID                 0\n",
       "Title                  0\n",
       "BoxOffice              0\n",
       "Gross                 66\n",
       "Opening              132\n",
       "Budget                34\n",
       "Year                   0\n",
       "Released               0\n",
       "Metascore              0\n",
       "imdbRating             0\n",
       "imdbVotes              0\n",
       "tomatoMeter            0\n",
       "tomatoRating           0\n",
       "tomatoReviews          0\n",
       "tomatoUserMeter        0\n",
       "tomatoUserRating       0\n",
       "tomatoUserReviews      0\n",
       "tomatoFresh            0\n",
       "tomatoRotten           0\n",
       "Awards                 0\n",
       "Actors                 0\n",
       "Director               0\n",
       "Writer                 0\n",
       "Production             0\n",
       "Country                0\n",
       "Language               0\n",
       "Genre                  0\n",
       "Rated                  0\n",
       "Runtime                0\n",
       "Plot                   0\n",
       "dtype: int64"
      ]
     },
     "execution_count": 69,
     "metadata": {},
     "output_type": "execute_result"
    }
   ],
   "source": [
    "df.isnull().sum()"
   ]
  },
  {
   "cell_type": "code",
   "execution_count": null,
   "metadata": {
    "collapsed": true
   },
   "outputs": [],
   "source": []
  }
 ],
 "metadata": {
  "kernelspec": {
   "display_name": "Python 2",
   "language": "python",
   "name": "python2"
  },
  "language_info": {
   "codemirror_mode": {
    "name": "ipython",
    "version": 2
   },
   "file_extension": ".py",
   "mimetype": "text/x-python",
   "name": "python",
   "nbconvert_exporter": "python",
   "pygments_lexer": "ipython2",
   "version": "2.7.12"
  },
  "toc": {
   "nav_menu": {
    "height": "102px",
    "width": "252px"
   },
   "navigate_menu": true,
   "number_sections": true,
   "sideBar": true,
   "threshold": 4,
   "toc_cell": false,
   "toc_section_display": "block",
   "toc_window_display": false
  }
 },
 "nbformat": 4,
 "nbformat_minor": 0
}
