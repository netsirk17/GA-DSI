{
 "cells": [
  {
   "cell_type": "code",
   "execution_count": 2,
   "metadata": {
    "ExecuteTime": {
     "end_time": "2016-10-22T21:56:04.131068",
     "start_time": "2016-10-22T21:56:03.131459"
    },
    "collapsed": true
   },
   "outputs": [],
   "source": [
    "import numpy as np\n",
    "import pandas as pd\n",
    "\n",
    "%matplotlib inline\n",
    "from matplotlib import pyplot as plt\n",
    "import seaborn as sns"
   ]
  },
  {
   "cell_type": "code",
   "execution_count": 3,
   "metadata": {
    "ExecuteTime": {
     "end_time": "2016-10-22T21:56:04.185417",
     "start_time": "2016-10-22T21:56:04.132984"
    },
    "collapsed": true
   },
   "outputs": [],
   "source": [
    "from sklearn import datasets, linear_model\n",
    "from sklearn.metrics import mean_squared_error"
   ]
  },
  {
   "cell_type": "markdown",
   "metadata": {},
   "source": [
    "### Linear Regression"
   ]
  },
  {
   "cell_type": "code",
   "execution_count": 5,
   "metadata": {
    "ExecuteTime": {
     "end_time": "2016-10-22T21:56:27.153076",
     "start_time": "2016-10-22T21:56:27.138786"
    },
    "collapsed": false
   },
   "outputs": [
    {
     "name": "stdout",
     "output_type": "stream",
     "text": [
      "predictions [ 25.17574577  23.77402099  30.72803225  29.02593787  30.38215211]\n",
      "RM MSE 43.6005517712\n"
     ]
    }
   ],
   "source": [
    "data = datasets.load_boston()\n",
    "df = pd.DataFrame(data.data, columns=data.feature_names)\n",
    "targets = pd.DataFrame(data.target, columns=[\"MEDV\"])\n",
    "\n",
    "#Making model that predicts MEDV (median value) based on RM (number of bedrooms)\n",
    "\n",
    "lm = linear_model.LinearRegression()\n",
    "\n",
    "X = df[[\"RM\"]]\n",
    "y = targets[\"MEDV\"]\n",
    "\n",
    "model = lm.fit(X, y)\n",
    "predictions = lm.predict(X)\n",
    "MSE = mean_squared_error(y, predictions)\n",
    "print 'predictions', predictions[0:5]\n",
    "print 'RM ' + 'MSE', MSE "
   ]
  },
  {
   "cell_type": "code",
   "execution_count": 7,
   "metadata": {
    "ExecuteTime": {
     "end_time": "2016-10-22T21:58:33.700411",
     "start_time": "2016-10-22T21:58:33.692017"
    },
    "collapsed": false
   },
   "outputs": [
    {
     "name": "stdout",
     "output_type": "stream",
     "text": [
      "predictions [ 28.94101368  25.48420566  32.65907477  32.40652     31.63040699]\n",
      "RM MSE 30.5124687773\n"
     ]
    }
   ],
   "source": [
    "#Making model that predicts MEDV based on RM and LSTAT\n",
    "\n",
    "X = df[[\"RM\", \"LSTAT\"]]\n",
    "y = targets[\"MEDV\"]\n",
    "\n",
    "model = lm.fit(X, y)\n",
    "predictions = model.predict(X)\n",
    "MSE = mean_squared_error(y, predictions)\n",
    "print 'predictions', predictions[0:5]\n",
    "print 'RM ' + 'MSE', MSE "
   ]
  },
  {
   "cell_type": "code",
   "execution_count": 8,
   "metadata": {
    "ExecuteTime": {
     "end_time": "2016-10-22T21:59:11.835132",
     "start_time": "2016-10-22T21:59:11.785178"
    },
    "collapsed": false
   },
   "outputs": [
    {
     "name": "stdout",
     "output_type": "stream",
     "text": [
      "predictions [ 30.00821269  25.0298606   30.5702317   28.60814055  27.94288232]\n",
      "RM MSE 21.8977792177\n"
     ]
    }
   ],
   "source": [
    "#Making model that predicts MEDV (median value) based on all features\n",
    "\n",
    "col_list = []\n",
    "col_list = [i for i in df.columns.values]\n",
    "\n",
    "lm = linear_model.LinearRegression()\n",
    "\n",
    "X = df[col_list]\n",
    "y = targets[\"MEDV\"]\n",
    "\n",
    "model = lm.fit(X, y)\n",
    "predictions = lm.predict(X)\n",
    "MSE = mean_squared_error(y, predictions)\n",
    "print 'predictions', predictions[0:5]\n",
    "print 'RM ' + 'MSE', MSE "
   ]
  },
  {
   "cell_type": "code",
   "execution_count": null,
   "metadata": {
    "collapsed": true
   },
   "outputs": [],
   "source": []
  }
 ],
 "metadata": {
  "kernelspec": {
   "display_name": "Python 2",
   "language": "python",
   "name": "python2"
  },
  "language_info": {
   "codemirror_mode": {
    "name": "ipython",
    "version": 2
   },
   "file_extension": ".py",
   "mimetype": "text/x-python",
   "name": "python",
   "nbconvert_exporter": "python",
   "pygments_lexer": "ipython2",
   "version": "2.7.12"
  },
  "latex_envs": {
   "bibliofile": "biblio.bib",
   "cite_by": "apalike",
   "current_citInitial": 1,
   "eqLabelWithNumbers": true,
   "eqNumInitial": 0
  }
 },
 "nbformat": 4,
 "nbformat_minor": 0
}
