{
 "cells": [
  {
   "cell_type": "code",
   "execution_count": 1,
   "metadata": {
    "collapsed": true
   },
   "outputs": [],
   "source": [
    "# Load necessary libraries and tools..."
   ]
  },
  {
   "cell_type": "code",
   "execution_count": 1,
   "metadata": {
    "collapsed": true
   },
   "outputs": [],
   "source": [
    "import pandas as pd\n",
    "import seaborn as sns\n",
    "import numpy as np\n",
    "from matplotlib import pyplot as plt\n",
    "import math\n",
    "import psycopg2 as psy\n",
    "from sqlalchemy import create_engine\n",
    "from sqlalchemy.engine.url import URL\n",
    "import pandas.io.sql as psql\n",
    "%matplotlib inline\n"
   ]
  },
  {
   "cell_type": "code",
   "execution_count": 2,
   "metadata": {
    "collapsed": true
   },
   "outputs": [],
   "source": [
    "# Loading data from csv files..."
   ]
  },
  {
   "cell_type": "code",
   "execution_count": 3,
   "metadata": {
    "collapsed": false
   },
   "outputs": [
    {
     "name": "stderr",
     "output_type": "stream",
     "text": [
      "/Users/cguy/anaconda/lib/python2.7/site-packages/IPython/core/interactiveshell.py:2723: DtypeWarning: Columns (5,9,10,11,12,16,20,23,26,29,30,31,32,33,36,38,39,40,41,43,44,45,46,51,52,53,56,59,60,62,64) have mixed types. Specify dtype option on import or set low_memory=False.\n",
      "  interactivity=interactivity, compiler=compiler, result=result)\n"
     ]
    },
    {
     "data": {
      "text/html": [
       "<div>\n",
       "<table border=\"1\" class=\"dataframe\">\n",
       "  <thead>\n",
       "    <tr style=\"text-align: right;\">\n",
       "      <th></th>\n",
       "      <th>Unnamed: 0</th>\n",
       "      <th>AcSuppSv</th>\n",
       "      <th>AgeMP</th>\n",
       "      <th>AmIAKN</th>\n",
       "      <th>Asian</th>\n",
       "      <th>Baseline</th>\n",
       "      <th>BlkAfrAm</th>\n",
       "      <th>BudgetSv</th>\n",
       "      <th>CareerSv</th>\n",
       "      <th>CurrFTE</th>\n",
       "      <th>...</th>\n",
       "      <th>Sex</th>\n",
       "      <th>SpecEdSv</th>\n",
       "      <th>St</th>\n",
       "      <th>StFCID</th>\n",
       "      <th>StFIPS</th>\n",
       "      <th>SubAbuse</th>\n",
       "      <th>TribeSv</th>\n",
       "      <th>Wave</th>\n",
       "      <th>Weight</th>\n",
       "      <th>White</th>\n",
       "    </tr>\n",
       "  </thead>\n",
       "  <tbody>\n",
       "    <tr>\n",
       "      <th>0</th>\n",
       "      <td>0</td>\n",
       "      <td>0.0</td>\n",
       "      <td>17.0</td>\n",
       "      <td>0.0</td>\n",
       "      <td>0.0</td>\n",
       "      <td>Yes</td>\n",
       "      <td>0.0</td>\n",
       "      <td>0.0</td>\n",
       "      <td>0.0</td>\n",
       "      <td>No</td>\n",
       "      <td>...</td>\n",
       "      <td>2.0</td>\n",
       "      <td>0.0</td>\n",
       "      <td>AK</td>\n",
       "      <td>AK450290395006</td>\n",
       "      <td>2.0</td>\n",
       "      <td>Yes</td>\n",
       "      <td>0.0</td>\n",
       "      <td>Wave 1: Age 17 Baseline Survey</td>\n",
       "      <td>1.26</td>\n",
       "      <td>1.0</td>\n",
       "    </tr>\n",
       "    <tr>\n",
       "      <th>1</th>\n",
       "      <td>4</td>\n",
       "      <td>0.0</td>\n",
       "      <td>17.0</td>\n",
       "      <td>1.0</td>\n",
       "      <td>0.0</td>\n",
       "      <td>Yes</td>\n",
       "      <td>0.0</td>\n",
       "      <td>0.0</td>\n",
       "      <td>0.0</td>\n",
       "      <td>No</td>\n",
       "      <td>...</td>\n",
       "      <td>2.0</td>\n",
       "      <td>0.0</td>\n",
       "      <td>AK</td>\n",
       "      <td>AK450448396586</td>\n",
       "      <td>2.0</td>\n",
       "      <td>No</td>\n",
       "      <td>1.0</td>\n",
       "      <td>Wave 1: Age 17 Baseline Survey</td>\n",
       "      <td>1.36</td>\n",
       "      <td>0.0</td>\n",
       "    </tr>\n",
       "    <tr>\n",
       "      <th>2</th>\n",
       "      <td>10</td>\n",
       "      <td>0.0</td>\n",
       "      <td>17.0</td>\n",
       "      <td>0.0</td>\n",
       "      <td>0.0</td>\n",
       "      <td>Yes</td>\n",
       "      <td>0.0</td>\n",
       "      <td>0.0</td>\n",
       "      <td>0.0</td>\n",
       "      <td>No</td>\n",
       "      <td>...</td>\n",
       "      <td>2.0</td>\n",
       "      <td>0.0</td>\n",
       "      <td>AK</td>\n",
       "      <td>AK450540097503</td>\n",
       "      <td>2.0</td>\n",
       "      <td>No</td>\n",
       "      <td>0.0</td>\n",
       "      <td>Wave 1: Age 17 Baseline Survey</td>\n",
       "      <td>1.26</td>\n",
       "      <td>1.0</td>\n",
       "    </tr>\n",
       "    <tr>\n",
       "      <th>3</th>\n",
       "      <td>14</td>\n",
       "      <td>0.0</td>\n",
       "      <td>17.0</td>\n",
       "      <td>0.0</td>\n",
       "      <td>0.0</td>\n",
       "      <td>Yes</td>\n",
       "      <td>0.0</td>\n",
       "      <td>0.0</td>\n",
       "      <td>0.0</td>\n",
       "      <td>No</td>\n",
       "      <td>...</td>\n",
       "      <td>1.0</td>\n",
       "      <td>0.0</td>\n",
       "      <td>AK</td>\n",
       "      <td>AK450652098623</td>\n",
       "      <td>2.0</td>\n",
       "      <td>No</td>\n",
       "      <td>0.0</td>\n",
       "      <td>Wave 1: Age 17 Baseline Survey</td>\n",
       "      <td>3.31</td>\n",
       "      <td>1.0</td>\n",
       "    </tr>\n",
       "    <tr>\n",
       "      <th>4</th>\n",
       "      <td>17</td>\n",
       "      <td>0.0</td>\n",
       "      <td>17.0</td>\n",
       "      <td>1.0</td>\n",
       "      <td>0.0</td>\n",
       "      <td>Yes</td>\n",
       "      <td>0.0</td>\n",
       "      <td>0.0</td>\n",
       "      <td>0.0</td>\n",
       "      <td>No</td>\n",
       "      <td>...</td>\n",
       "      <td>2.0</td>\n",
       "      <td>1.0</td>\n",
       "      <td>AK</td>\n",
       "      <td>AK451448406587</td>\n",
       "      <td>2.0</td>\n",
       "      <td>No</td>\n",
       "      <td>1.0</td>\n",
       "      <td>Wave 1: Age 17 Baseline Survey</td>\n",
       "      <td>1.36</td>\n",
       "      <td>0.0</td>\n",
       "    </tr>\n",
       "  </tbody>\n",
       "</table>\n",
       "<p>5 rows × 67 columns</p>\n",
       "</div>"
      ],
      "text/plain": [
       "   Unnamed: 0  AcSuppSv  AgeMP  AmIAKN  Asian Baseline  BlkAfrAm  BudgetSv  \\\n",
       "0           0       0.0   17.0     0.0    0.0      Yes       0.0       0.0   \n",
       "1           4       0.0   17.0     1.0    0.0      Yes       0.0       0.0   \n",
       "2          10       0.0   17.0     0.0    0.0      Yes       0.0       0.0   \n",
       "3          14       0.0   17.0     0.0    0.0      Yes       0.0       0.0   \n",
       "4          17       0.0   17.0     1.0    0.0      Yes       0.0       0.0   \n",
       "\n",
       "   CareerSv CurrFTE  ...    Sex SpecEdSv  St          StFCID  StFIPS  \\\n",
       "0       0.0      No  ...    2.0      0.0  AK  AK450290395006     2.0   \n",
       "1       0.0      No  ...    2.0      0.0  AK  AK450448396586     2.0   \n",
       "2       0.0      No  ...    2.0      0.0  AK  AK450540097503     2.0   \n",
       "3       0.0      No  ...    1.0      0.0  AK  AK450652098623     2.0   \n",
       "4       0.0      No  ...    2.0      1.0  AK  AK451448406587     2.0   \n",
       "\n",
       "   SubAbuse TribeSv                            Wave  Weight  White  \n",
       "0       Yes     0.0  Wave 1: Age 17 Baseline Survey    1.26    1.0  \n",
       "1        No     1.0  Wave 1: Age 17 Baseline Survey    1.36    0.0  \n",
       "2        No     0.0  Wave 1: Age 17 Baseline Survey    1.26    1.0  \n",
       "3        No     0.0  Wave 1: Age 17 Baseline Survey    3.31    1.0  \n",
       "4        No     1.0  Wave 1: Age 17 Baseline Survey    1.36    0.0  \n",
       "\n",
       "[5 rows x 67 columns]"
      ]
     },
     "execution_count": 3,
     "metadata": {},
     "output_type": "execute_result"
    }
   ],
   "source": [
    "cohort_1_w1w2 = pd.read_csv('/Users/cguy/kelstuff/ga_summer_2016/cohort_1_w1w2.csv')\n",
    "cohort_1_w1w2.head()"
   ]
  },
  {
   "cell_type": "code",
   "execution_count": 4,
   "metadata": {
    "collapsed": false
   },
   "outputs": [
    {
     "data": {
      "text/plain": [
       "Index([u'Unnamed: 0', u'AcSuppSv', u'AgeMP', u'AmIAKN', u'Asian', u'Baseline',\n",
       "       u'BlkAfrAm', u'BudgetSv', u'CareerSv', u'CurrFTE', u'CurrPTE',\n",
       "       u'CurrenRoll', u'DOB', u'DelinqntSv', u'EdLevlSv', u'EducFinaSv',\n",
       "       u'Elig19', u'EmplyTrSv', u'FCStatSv', u'FY', u'FY11Cohort',\n",
       "       u'FamSuppSv', u'HawaiiPI', u'HighEdCert', u'HisOrgin', u'HlthEdSv',\n",
       "       u'Homeless', u'HousEdSv', u'ILNAsv', u'InSample', u'Incarc',\n",
       "       u'Medicaid', u'MedicalIn', u'MentlHlthIn', u'MentorSv', u'Num_services',\n",
       "       u'OthrFinAs', u'OthrFinaSv', u'OthrHlthIn', u'OutcmDte', u'OutcmFCS',\n",
       "       u'OutcmRpt', u'PSEdSuppSv', u'PrescripIn', u'PubFinAs', u'PubFoodAs',\n",
       "       u'PubHousAs', u'Race', u'RaceDcln', u'RaceEthn', u'RaceUnkn',\n",
       "       u'RepDate_outcomes', u'RepDate_services', u'Responded', u'RmBrdFASv',\n",
       "       u'SILsv', u'SampleState', u'Sex', u'SpecEdSv', u'St', u'StFCID',\n",
       "       u'StFIPS', u'SubAbuse', u'TribeSv', u'Wave', u'Weight', u'White'],\n",
       "      dtype='object')"
      ]
     },
     "execution_count": 4,
     "metadata": {},
     "output_type": "execute_result"
    }
   ],
   "source": [
    "cohort_1_w1w2.columns"
   ]
  },
  {
   "cell_type": "markdown",
   "metadata": {},
   "source": [
    "# 1) Preprocess data and separate target variables from feature variables and demographics"
   ]
  },
  {
   "cell_type": "code",
   "execution_count": 5,
   "metadata": {
    "collapsed": true
   },
   "outputs": [],
   "source": [
    "# Seperate dataframe into feature vars and target vars\n",
    "\n",
    "targets = cohort_1_w1w2[['PubFoodAs','PubHousAs','OthrFinAs','HighEdCert','CurrFTE','CurrPTE', \\\n",
    "                     'PubFinAs','CurrenRoll','PrescripIn','Homeless','SubAbuse','Incarc','Medicaid','OthrHlthIn','MedicalIn','MentlHlthIn', 'Wave']]\n",
    "\n",
    "\n",
    "features = cohort_1_w1w2[['ILNAsv','AcSuppSv','PSEdSuppSv','CareerSv','EmplyTrSv','BudgetSv','HousEdSv','HlthEdSv',\\\n",
    "                     'FamSuppSv','MentorSv','SILsv','RmBrdFASv','EducFinaSv','OthrFinaSv','Wave']]\n",
    "\n",
    "demographics = cohort_1_w1w2[['St','DelinqntSv','Sex','Race','TribeSv','EdLevlSv','SpecEdSv','RaceEthn','AgeMP','Wave']]\n",
    "demographics_W1 = demographics[demographics.Wave == \"Wave 1: Age 17 Baseline Survey\"]\n",
    "demographics_W2 = demographics[demographics.Wave == \"Wave 2: Age 19 Followup\"]"
   ]
  },
  {
   "cell_type": "code",
   "execution_count": 6,
   "metadata": {
    "collapsed": false
   },
   "outputs": [
    {
     "name": "stderr",
     "output_type": "stream",
     "text": [
      "/Users/cguy/anaconda/lib/python2.7/site-packages/ipykernel/__main__.py:7: SettingWithCopyWarning: \n",
      "A value is trying to be set on a copy of a slice from a DataFrame.\n",
      "Try using .loc[row_indexer,col_indexer] = value instead\n",
      "\n",
      "See the caveats in the documentation: http://pandas.pydata.org/pandas-docs/stable/indexing.html#indexing-view-versus-copy\n"
     ]
    },
    {
     "data": {
      "text/html": [
       "<div>\n",
       "<table border=\"1\" class=\"dataframe\">\n",
       "  <thead>\n",
       "    <tr style=\"text-align: right;\">\n",
       "      <th></th>\n",
       "      <th>ILNAsv</th>\n",
       "      <th>AcSuppSv</th>\n",
       "      <th>PSEdSuppSv</th>\n",
       "      <th>CareerSv</th>\n",
       "      <th>EmplyTrSv</th>\n",
       "      <th>BudgetSv</th>\n",
       "      <th>HousEdSv</th>\n",
       "      <th>HlthEdSv</th>\n",
       "      <th>FamSuppSv</th>\n",
       "      <th>MentorSv</th>\n",
       "      <th>SILsv</th>\n",
       "      <th>RmBrdFASv</th>\n",
       "      <th>EducFinaSv</th>\n",
       "      <th>OthrFinaSv</th>\n",
       "      <th>Wave</th>\n",
       "      <th>Num_services</th>\n",
       "    </tr>\n",
       "  </thead>\n",
       "  <tbody>\n",
       "    <tr>\n",
       "      <th>0</th>\n",
       "      <td>0.0</td>\n",
       "      <td>0.0</td>\n",
       "      <td>0.0</td>\n",
       "      <td>0.0</td>\n",
       "      <td>0.0</td>\n",
       "      <td>0.0</td>\n",
       "      <td>1.0</td>\n",
       "      <td>0.0</td>\n",
       "      <td>0.0</td>\n",
       "      <td>0.0</td>\n",
       "      <td>0.0</td>\n",
       "      <td>0.0</td>\n",
       "      <td>0.0</td>\n",
       "      <td>1.0</td>\n",
       "      <td>Wave 1: Age 17 Baseline Survey</td>\n",
       "      <td>2</td>\n",
       "    </tr>\n",
       "    <tr>\n",
       "      <th>1</th>\n",
       "      <td>1.0</td>\n",
       "      <td>0.0</td>\n",
       "      <td>0.0</td>\n",
       "      <td>0.0</td>\n",
       "      <td>0.0</td>\n",
       "      <td>0.0</td>\n",
       "      <td>0.0</td>\n",
       "      <td>0.0</td>\n",
       "      <td>0.0</td>\n",
       "      <td>0.0</td>\n",
       "      <td>0.0</td>\n",
       "      <td>0.0</td>\n",
       "      <td>0.0</td>\n",
       "      <td>0.0</td>\n",
       "      <td>Wave 1: Age 17 Baseline Survey</td>\n",
       "      <td>1</td>\n",
       "    </tr>\n",
       "    <tr>\n",
       "      <th>2</th>\n",
       "      <td>1.0</td>\n",
       "      <td>0.0</td>\n",
       "      <td>0.0</td>\n",
       "      <td>0.0</td>\n",
       "      <td>0.0</td>\n",
       "      <td>0.0</td>\n",
       "      <td>0.0</td>\n",
       "      <td>0.0</td>\n",
       "      <td>0.0</td>\n",
       "      <td>0.0</td>\n",
       "      <td>0.0</td>\n",
       "      <td>0.0</td>\n",
       "      <td>1.0</td>\n",
       "      <td>1.0</td>\n",
       "      <td>Wave 1: Age 17 Baseline Survey</td>\n",
       "      <td>3</td>\n",
       "    </tr>\n",
       "    <tr>\n",
       "      <th>3</th>\n",
       "      <td>1.0</td>\n",
       "      <td>0.0</td>\n",
       "      <td>0.0</td>\n",
       "      <td>0.0</td>\n",
       "      <td>0.0</td>\n",
       "      <td>0.0</td>\n",
       "      <td>0.0</td>\n",
       "      <td>0.0</td>\n",
       "      <td>0.0</td>\n",
       "      <td>0.0</td>\n",
       "      <td>0.0</td>\n",
       "      <td>0.0</td>\n",
       "      <td>0.0</td>\n",
       "      <td>0.0</td>\n",
       "      <td>Wave 1: Age 17 Baseline Survey</td>\n",
       "      <td>1</td>\n",
       "    </tr>\n",
       "    <tr>\n",
       "      <th>4</th>\n",
       "      <td>1.0</td>\n",
       "      <td>0.0</td>\n",
       "      <td>0.0</td>\n",
       "      <td>0.0</td>\n",
       "      <td>0.0</td>\n",
       "      <td>0.0</td>\n",
       "      <td>0.0</td>\n",
       "      <td>0.0</td>\n",
       "      <td>0.0</td>\n",
       "      <td>0.0</td>\n",
       "      <td>0.0</td>\n",
       "      <td>0.0</td>\n",
       "      <td>0.0</td>\n",
       "      <td>1.0</td>\n",
       "      <td>Wave 1: Age 17 Baseline Survey</td>\n",
       "      <td>2</td>\n",
       "    </tr>\n",
       "    <tr>\n",
       "      <th>5</th>\n",
       "      <td>0.0</td>\n",
       "      <td>0.0</td>\n",
       "      <td>0.0</td>\n",
       "      <td>0.0</td>\n",
       "      <td>0.0</td>\n",
       "      <td>0.0</td>\n",
       "      <td>0.0</td>\n",
       "      <td>0.0</td>\n",
       "      <td>0.0</td>\n",
       "      <td>0.0</td>\n",
       "      <td>0.0</td>\n",
       "      <td>0.0</td>\n",
       "      <td>0.0</td>\n",
       "      <td>1.0</td>\n",
       "      <td>Wave 1: Age 17 Baseline Survey</td>\n",
       "      <td>1</td>\n",
       "    </tr>\n",
       "    <tr>\n",
       "      <th>6</th>\n",
       "      <td>1.0</td>\n",
       "      <td>0.0</td>\n",
       "      <td>0.0</td>\n",
       "      <td>0.0</td>\n",
       "      <td>0.0</td>\n",
       "      <td>0.0</td>\n",
       "      <td>1.0</td>\n",
       "      <td>1.0</td>\n",
       "      <td>0.0</td>\n",
       "      <td>0.0</td>\n",
       "      <td>0.0</td>\n",
       "      <td>0.0</td>\n",
       "      <td>0.0</td>\n",
       "      <td>1.0</td>\n",
       "      <td>Wave 1: Age 17 Baseline Survey</td>\n",
       "      <td>4</td>\n",
       "    </tr>\n",
       "    <tr>\n",
       "      <th>7</th>\n",
       "      <td>1.0</td>\n",
       "      <td>0.0</td>\n",
       "      <td>0.0</td>\n",
       "      <td>0.0</td>\n",
       "      <td>0.0</td>\n",
       "      <td>0.0</td>\n",
       "      <td>0.0</td>\n",
       "      <td>0.0</td>\n",
       "      <td>0.0</td>\n",
       "      <td>0.0</td>\n",
       "      <td>0.0</td>\n",
       "      <td>0.0</td>\n",
       "      <td>0.0</td>\n",
       "      <td>1.0</td>\n",
       "      <td>Wave 1: Age 17 Baseline Survey</td>\n",
       "      <td>2</td>\n",
       "    </tr>\n",
       "    <tr>\n",
       "      <th>8</th>\n",
       "      <td>0.0</td>\n",
       "      <td>0.0</td>\n",
       "      <td>0.0</td>\n",
       "      <td>0.0</td>\n",
       "      <td>0.0</td>\n",
       "      <td>0.0</td>\n",
       "      <td>0.0</td>\n",
       "      <td>0.0</td>\n",
       "      <td>0.0</td>\n",
       "      <td>0.0</td>\n",
       "      <td>0.0</td>\n",
       "      <td>0.0</td>\n",
       "      <td>0.0</td>\n",
       "      <td>1.0</td>\n",
       "      <td>Wave 1: Age 17 Baseline Survey</td>\n",
       "      <td>1</td>\n",
       "    </tr>\n",
       "    <tr>\n",
       "      <th>9</th>\n",
       "      <td>1.0</td>\n",
       "      <td>0.0</td>\n",
       "      <td>0.0</td>\n",
       "      <td>0.0</td>\n",
       "      <td>0.0</td>\n",
       "      <td>0.0</td>\n",
       "      <td>0.0</td>\n",
       "      <td>0.0</td>\n",
       "      <td>0.0</td>\n",
       "      <td>0.0</td>\n",
       "      <td>0.0</td>\n",
       "      <td>0.0</td>\n",
       "      <td>0.0</td>\n",
       "      <td>1.0</td>\n",
       "      <td>Wave 1: Age 17 Baseline Survey</td>\n",
       "      <td>2</td>\n",
       "    </tr>\n",
       "  </tbody>\n",
       "</table>\n",
       "</div>"
      ],
      "text/plain": [
       "   ILNAsv  AcSuppSv  PSEdSuppSv  CareerSv  EmplyTrSv  BudgetSv  HousEdSv  \\\n",
       "0     0.0       0.0         0.0       0.0        0.0       0.0       1.0   \n",
       "1     1.0       0.0         0.0       0.0        0.0       0.0       0.0   \n",
       "2     1.0       0.0         0.0       0.0        0.0       0.0       0.0   \n",
       "3     1.0       0.0         0.0       0.0        0.0       0.0       0.0   \n",
       "4     1.0       0.0         0.0       0.0        0.0       0.0       0.0   \n",
       "5     0.0       0.0         0.0       0.0        0.0       0.0       0.0   \n",
       "6     1.0       0.0         0.0       0.0        0.0       0.0       1.0   \n",
       "7     1.0       0.0         0.0       0.0        0.0       0.0       0.0   \n",
       "8     0.0       0.0         0.0       0.0        0.0       0.0       0.0   \n",
       "9     1.0       0.0         0.0       0.0        0.0       0.0       0.0   \n",
       "\n",
       "   HlthEdSv  FamSuppSv  MentorSv  SILsv  RmBrdFASv  EducFinaSv  OthrFinaSv  \\\n",
       "0       0.0        0.0       0.0    0.0        0.0         0.0         1.0   \n",
       "1       0.0        0.0       0.0    0.0        0.0         0.0         0.0   \n",
       "2       0.0        0.0       0.0    0.0        0.0         1.0         1.0   \n",
       "3       0.0        0.0       0.0    0.0        0.0         0.0         0.0   \n",
       "4       0.0        0.0       0.0    0.0        0.0         0.0         1.0   \n",
       "5       0.0        0.0       0.0    0.0        0.0         0.0         1.0   \n",
       "6       1.0        0.0       0.0    0.0        0.0         0.0         1.0   \n",
       "7       0.0        0.0       0.0    0.0        0.0         0.0         1.0   \n",
       "8       0.0        0.0       0.0    0.0        0.0         0.0         1.0   \n",
       "9       0.0        0.0       0.0    0.0        0.0         0.0         1.0   \n",
       "\n",
       "                             Wave  Num_services  \n",
       "0  Wave 1: Age 17 Baseline Survey             2  \n",
       "1  Wave 1: Age 17 Baseline Survey             1  \n",
       "2  Wave 1: Age 17 Baseline Survey             3  \n",
       "3  Wave 1: Age 17 Baseline Survey             1  \n",
       "4  Wave 1: Age 17 Baseline Survey             2  \n",
       "5  Wave 1: Age 17 Baseline Survey             1  \n",
       "6  Wave 1: Age 17 Baseline Survey             4  \n",
       "7  Wave 1: Age 17 Baseline Survey             2  \n",
       "8  Wave 1: Age 17 Baseline Survey             1  \n",
       "9  Wave 1: Age 17 Baseline Survey             2  "
      ]
     },
     "execution_count": 6,
     "metadata": {},
     "output_type": "execute_result"
    }
   ],
   "source": [
    "# # Create column for number of services received\n",
    "\n",
    "services_count = features.T\n",
    "services_count = services_count.drop('Wave')\n",
    "\n",
    "\n",
    "features['Num_services'] = (services_count == 1).sum()\n",
    "features.head(10)"
   ]
  },
  {
   "cell_type": "code",
   "execution_count": 7,
   "metadata": {
    "collapsed": false
   },
   "outputs": [
    {
     "data": {
      "text/html": [
       "<div>\n",
       "<table border=\"1\" class=\"dataframe\">\n",
       "  <thead>\n",
       "    <tr style=\"text-align: right;\">\n",
       "      <th></th>\n",
       "      <th>ILNAsv</th>\n",
       "      <th>AcSuppSv</th>\n",
       "      <th>PSEdSuppSv</th>\n",
       "      <th>CareerSv</th>\n",
       "      <th>EmplyTrSv</th>\n",
       "      <th>BudgetSv</th>\n",
       "      <th>HousEdSv</th>\n",
       "      <th>HlthEdSv</th>\n",
       "      <th>FamSuppSv</th>\n",
       "      <th>MentorSv</th>\n",
       "      <th>SILsv</th>\n",
       "      <th>RmBrdFASv</th>\n",
       "      <th>EducFinaSv</th>\n",
       "      <th>OthrFinaSv</th>\n",
       "      <th>Num_services</th>\n",
       "    </tr>\n",
       "  </thead>\n",
       "  <tbody>\n",
       "    <tr>\n",
       "      <th>7328</th>\n",
       "      <td>0.0</td>\n",
       "      <td>0.0</td>\n",
       "      <td>0.0</td>\n",
       "      <td>0.0</td>\n",
       "      <td>0.0</td>\n",
       "      <td>0.0</td>\n",
       "      <td>1.0</td>\n",
       "      <td>0.0</td>\n",
       "      <td>0.0</td>\n",
       "      <td>0.0</td>\n",
       "      <td>0.0</td>\n",
       "      <td>0.0</td>\n",
       "      <td>0.0</td>\n",
       "      <td>1.0</td>\n",
       "      <td>2</td>\n",
       "    </tr>\n",
       "    <tr>\n",
       "      <th>7329</th>\n",
       "      <td>1.0</td>\n",
       "      <td>0.0</td>\n",
       "      <td>0.0</td>\n",
       "      <td>0.0</td>\n",
       "      <td>0.0</td>\n",
       "      <td>0.0</td>\n",
       "      <td>0.0</td>\n",
       "      <td>0.0</td>\n",
       "      <td>0.0</td>\n",
       "      <td>0.0</td>\n",
       "      <td>0.0</td>\n",
       "      <td>0.0</td>\n",
       "      <td>0.0</td>\n",
       "      <td>0.0</td>\n",
       "      <td>1</td>\n",
       "    </tr>\n",
       "    <tr>\n",
       "      <th>7330</th>\n",
       "      <td>1.0</td>\n",
       "      <td>0.0</td>\n",
       "      <td>0.0</td>\n",
       "      <td>0.0</td>\n",
       "      <td>0.0</td>\n",
       "      <td>0.0</td>\n",
       "      <td>0.0</td>\n",
       "      <td>0.0</td>\n",
       "      <td>0.0</td>\n",
       "      <td>0.0</td>\n",
       "      <td>0.0</td>\n",
       "      <td>0.0</td>\n",
       "      <td>1.0</td>\n",
       "      <td>1.0</td>\n",
       "      <td>3</td>\n",
       "    </tr>\n",
       "    <tr>\n",
       "      <th>7331</th>\n",
       "      <td>1.0</td>\n",
       "      <td>0.0</td>\n",
       "      <td>0.0</td>\n",
       "      <td>0.0</td>\n",
       "      <td>0.0</td>\n",
       "      <td>0.0</td>\n",
       "      <td>0.0</td>\n",
       "      <td>0.0</td>\n",
       "      <td>0.0</td>\n",
       "      <td>0.0</td>\n",
       "      <td>0.0</td>\n",
       "      <td>0.0</td>\n",
       "      <td>0.0</td>\n",
       "      <td>0.0</td>\n",
       "      <td>1</td>\n",
       "    </tr>\n",
       "    <tr>\n",
       "      <th>7332</th>\n",
       "      <td>1.0</td>\n",
       "      <td>0.0</td>\n",
       "      <td>0.0</td>\n",
       "      <td>0.0</td>\n",
       "      <td>0.0</td>\n",
       "      <td>0.0</td>\n",
       "      <td>0.0</td>\n",
       "      <td>0.0</td>\n",
       "      <td>0.0</td>\n",
       "      <td>0.0</td>\n",
       "      <td>0.0</td>\n",
       "      <td>0.0</td>\n",
       "      <td>0.0</td>\n",
       "      <td>1.0</td>\n",
       "      <td>2</td>\n",
       "    </tr>\n",
       "  </tbody>\n",
       "</table>\n",
       "</div>"
      ],
      "text/plain": [
       "      ILNAsv  AcSuppSv  PSEdSuppSv  CareerSv  EmplyTrSv  BudgetSv  HousEdSv  \\\n",
       "7328     0.0       0.0         0.0       0.0        0.0       0.0       1.0   \n",
       "7329     1.0       0.0         0.0       0.0        0.0       0.0       0.0   \n",
       "7330     1.0       0.0         0.0       0.0        0.0       0.0       0.0   \n",
       "7331     1.0       0.0         0.0       0.0        0.0       0.0       0.0   \n",
       "7332     1.0       0.0         0.0       0.0        0.0       0.0       0.0   \n",
       "\n",
       "      HlthEdSv  FamSuppSv  MentorSv  SILsv  RmBrdFASv  EducFinaSv  OthrFinaSv  \\\n",
       "7328       0.0        0.0       0.0    0.0        0.0         0.0         1.0   \n",
       "7329       0.0        0.0       0.0    0.0        0.0         0.0         0.0   \n",
       "7330       0.0        0.0       0.0    0.0        0.0         1.0         1.0   \n",
       "7331       0.0        0.0       0.0    0.0        0.0         0.0         0.0   \n",
       "7332       0.0        0.0       0.0    0.0        0.0         0.0         1.0   \n",
       "\n",
       "      Num_services  \n",
       "7328             2  \n",
       "7329             1  \n",
       "7330             3  \n",
       "7331             1  \n",
       "7332             2  "
      ]
     },
     "execution_count": 7,
     "metadata": {},
     "output_type": "execute_result"
    }
   ],
   "source": [
    "# Let's focus on just W2 targets and features\n",
    "\n",
    "from sklearn.preprocessing import LabelEncoder\n",
    "le = LabelEncoder()\n",
    "\n",
    "features_2 = features.copy()\n",
    "\n",
    "features_w2 = features_2[features_2.Wave == \"Wave 2: Age 19 Followup\"]\n",
    "features_w2 = features_w2.drop('Wave', axis = 1)\n",
    "\n",
    "features_w2.head()"
   ]
  },
  {
   "cell_type": "code",
   "execution_count": 8,
   "metadata": {
    "collapsed": false
   },
   "outputs": [
    {
     "data": {
      "text/html": [
       "<div>\n",
       "<table border=\"1\" class=\"dataframe\">\n",
       "  <thead>\n",
       "    <tr style=\"text-align: right;\">\n",
       "      <th></th>\n",
       "      <th>St</th>\n",
       "      <th>DelinqntSv</th>\n",
       "      <th>Sex</th>\n",
       "      <th>Race</th>\n",
       "      <th>TribeSv</th>\n",
       "      <th>EdLevlSv</th>\n",
       "      <th>SpecEdSv</th>\n",
       "      <th>RaceEthn</th>\n",
       "      <th>AgeMP</th>\n",
       "    </tr>\n",
       "  </thead>\n",
       "  <tbody>\n",
       "    <tr>\n",
       "      <th>7328</th>\n",
       "      <td>0</td>\n",
       "      <td>0</td>\n",
       "      <td>1</td>\n",
       "      <td>0</td>\n",
       "      <td>0</td>\n",
       "      <td>6</td>\n",
       "      <td>0</td>\n",
       "      <td>0</td>\n",
       "      <td>1</td>\n",
       "    </tr>\n",
       "    <tr>\n",
       "      <th>7329</th>\n",
       "      <td>0</td>\n",
       "      <td>0</td>\n",
       "      <td>1</td>\n",
       "      <td>2</td>\n",
       "      <td>1</td>\n",
       "      <td>6</td>\n",
       "      <td>0</td>\n",
       "      <td>2</td>\n",
       "      <td>1</td>\n",
       "    </tr>\n",
       "    <tr>\n",
       "      <th>7330</th>\n",
       "      <td>0</td>\n",
       "      <td>0</td>\n",
       "      <td>1</td>\n",
       "      <td>0</td>\n",
       "      <td>0</td>\n",
       "      <td>6</td>\n",
       "      <td>0</td>\n",
       "      <td>0</td>\n",
       "      <td>1</td>\n",
       "    </tr>\n",
       "    <tr>\n",
       "      <th>7331</th>\n",
       "      <td>0</td>\n",
       "      <td>0</td>\n",
       "      <td>0</td>\n",
       "      <td>0</td>\n",
       "      <td>0</td>\n",
       "      <td>6</td>\n",
       "      <td>0</td>\n",
       "      <td>0</td>\n",
       "      <td>1</td>\n",
       "    </tr>\n",
       "    <tr>\n",
       "      <th>7332</th>\n",
       "      <td>0</td>\n",
       "      <td>0</td>\n",
       "      <td>1</td>\n",
       "      <td>2</td>\n",
       "      <td>1</td>\n",
       "      <td>6</td>\n",
       "      <td>1</td>\n",
       "      <td>2</td>\n",
       "      <td>1</td>\n",
       "    </tr>\n",
       "  </tbody>\n",
       "</table>\n",
       "</div>"
      ],
      "text/plain": [
       "      St  DelinqntSv  Sex  Race  TribeSv  EdLevlSv  SpecEdSv  RaceEthn  AgeMP\n",
       "7328   0           0    1     0        0         6         0         0      1\n",
       "7329   0           0    1     2        1         6         0         2      1\n",
       "7330   0           0    1     0        0         6         0         0      1\n",
       "7331   0           0    0     0        0         6         0         0      1\n",
       "7332   0           0    1     2        1         6         1         2      1"
      ]
     },
     "execution_count": 8,
     "metadata": {},
     "output_type": "execute_result"
    }
   ],
   "source": [
    "from sklearn.preprocessing import LabelEncoder\n",
    "le = LabelEncoder()\n",
    "\n",
    "demographics_W2_ = demographics_W2.drop('Wave', axis = 1)\n",
    "\n",
    "\n",
    "demo_w2 = demographics_W2_.copy()\n",
    "\n",
    "for column in demo_w2:\n",
    "    demo_w2[column] = le.fit_transform(demo_w2[column])\n",
    "demo_w2.head()"
   ]
  },
  {
   "cell_type": "code",
   "execution_count": 9,
   "metadata": {
    "collapsed": false
   },
   "outputs": [],
   "source": [
    "new_features = pd.concat([features_w2, demo_w2], axis=1, join='inner')\n"
   ]
  },
  {
   "cell_type": "code",
   "execution_count": 13,
   "metadata": {
    "collapsed": false
   },
   "outputs": [],
   "source": [
    "new_features = new_features[['St','Num_services','EdLevlSv','HousEdSv','AcSuppSv','BudgetSv','CareerSv']]"
   ]
  },
  {
   "cell_type": "code",
   "execution_count": 14,
   "metadata": {
    "collapsed": false
   },
   "outputs": [
    {
     "data": {
      "text/html": [
       "<div>\n",
       "<table border=\"1\" class=\"dataframe\">\n",
       "  <thead>\n",
       "    <tr style=\"text-align: right;\">\n",
       "      <th></th>\n",
       "      <th>St</th>\n",
       "      <th>Num_services</th>\n",
       "      <th>EdLevlSv</th>\n",
       "      <th>HousEdSv</th>\n",
       "      <th>AcSuppSv</th>\n",
       "      <th>BudgetSv</th>\n",
       "      <th>CareerSv</th>\n",
       "    </tr>\n",
       "  </thead>\n",
       "  <tbody>\n",
       "    <tr>\n",
       "      <th>7328</th>\n",
       "      <td>0</td>\n",
       "      <td>2</td>\n",
       "      <td>6</td>\n",
       "      <td>1.0</td>\n",
       "      <td>0.0</td>\n",
       "      <td>0.0</td>\n",
       "      <td>0.0</td>\n",
       "    </tr>\n",
       "    <tr>\n",
       "      <th>7329</th>\n",
       "      <td>0</td>\n",
       "      <td>1</td>\n",
       "      <td>6</td>\n",
       "      <td>0.0</td>\n",
       "      <td>0.0</td>\n",
       "      <td>0.0</td>\n",
       "      <td>0.0</td>\n",
       "    </tr>\n",
       "    <tr>\n",
       "      <th>7330</th>\n",
       "      <td>0</td>\n",
       "      <td>3</td>\n",
       "      <td>6</td>\n",
       "      <td>0.0</td>\n",
       "      <td>0.0</td>\n",
       "      <td>0.0</td>\n",
       "      <td>0.0</td>\n",
       "    </tr>\n",
       "    <tr>\n",
       "      <th>7331</th>\n",
       "      <td>0</td>\n",
       "      <td>1</td>\n",
       "      <td>6</td>\n",
       "      <td>0.0</td>\n",
       "      <td>0.0</td>\n",
       "      <td>0.0</td>\n",
       "      <td>0.0</td>\n",
       "    </tr>\n",
       "    <tr>\n",
       "      <th>7332</th>\n",
       "      <td>0</td>\n",
       "      <td>2</td>\n",
       "      <td>6</td>\n",
       "      <td>0.0</td>\n",
       "      <td>0.0</td>\n",
       "      <td>0.0</td>\n",
       "      <td>0.0</td>\n",
       "    </tr>\n",
       "  </tbody>\n",
       "</table>\n",
       "</div>"
      ],
      "text/plain": [
       "      St  Num_services  EdLevlSv  HousEdSv  AcSuppSv  BudgetSv  CareerSv\n",
       "7328   0             2         6       1.0       0.0       0.0       0.0\n",
       "7329   0             1         6       0.0       0.0       0.0       0.0\n",
       "7330   0             3         6       0.0       0.0       0.0       0.0\n",
       "7331   0             1         6       0.0       0.0       0.0       0.0\n",
       "7332   0             2         6       0.0       0.0       0.0       0.0"
      ]
     },
     "execution_count": 14,
     "metadata": {},
     "output_type": "execute_result"
    }
   ],
   "source": [
    "new_features.head()"
   ]
  },
  {
   "cell_type": "markdown",
   "metadata": {},
   "source": [
    "# 2) PCA"
   ]
  },
  {
   "cell_type": "code",
   "execution_count": 15,
   "metadata": {
    "collapsed": false
   },
   "outputs": [
    {
     "data": {
      "text/html": [
       "<div>\n",
       "<table border=\"1\" class=\"dataframe\">\n",
       "  <thead>\n",
       "    <tr style=\"text-align: right;\">\n",
       "      <th></th>\n",
       "      <th>St</th>\n",
       "      <th>Num_services</th>\n",
       "      <th>EdLevlSv</th>\n",
       "      <th>HousEdSv</th>\n",
       "      <th>AcSuppSv</th>\n",
       "      <th>BudgetSv</th>\n",
       "      <th>CareerSv</th>\n",
       "    </tr>\n",
       "  </thead>\n",
       "  <tbody>\n",
       "    <tr>\n",
       "      <th>St</th>\n",
       "      <td>1.000000</td>\n",
       "      <td>-0.122563</td>\n",
       "      <td>0.101195</td>\n",
       "      <td>0.194507</td>\n",
       "      <td>0.193723</td>\n",
       "      <td>0.197298</td>\n",
       "      <td>0.195765</td>\n",
       "    </tr>\n",
       "    <tr>\n",
       "      <th>Num_services</th>\n",
       "      <td>-0.122563</td>\n",
       "      <td>1.000000</td>\n",
       "      <td>-0.077578</td>\n",
       "      <td>-0.230791</td>\n",
       "      <td>-0.234288</td>\n",
       "      <td>-0.231174</td>\n",
       "      <td>-0.230502</td>\n",
       "    </tr>\n",
       "    <tr>\n",
       "      <th>EdLevlSv</th>\n",
       "      <td>0.101195</td>\n",
       "      <td>-0.077578</td>\n",
       "      <td>1.000000</td>\n",
       "      <td>0.567649</td>\n",
       "      <td>0.566614</td>\n",
       "      <td>0.566649</td>\n",
       "      <td>0.567674</td>\n",
       "    </tr>\n",
       "    <tr>\n",
       "      <th>HousEdSv</th>\n",
       "      <td>0.194507</td>\n",
       "      <td>-0.230791</td>\n",
       "      <td>0.567649</td>\n",
       "      <td>1.000000</td>\n",
       "      <td>0.999200</td>\n",
       "      <td>0.999461</td>\n",
       "      <td>0.999344</td>\n",
       "    </tr>\n",
       "    <tr>\n",
       "      <th>AcSuppSv</th>\n",
       "      <td>0.193723</td>\n",
       "      <td>-0.234288</td>\n",
       "      <td>0.566614</td>\n",
       "      <td>0.999200</td>\n",
       "      <td>1.000000</td>\n",
       "      <td>0.999177</td>\n",
       "      <td>0.999233</td>\n",
       "    </tr>\n",
       "    <tr>\n",
       "      <th>BudgetSv</th>\n",
       "      <td>0.197298</td>\n",
       "      <td>-0.231174</td>\n",
       "      <td>0.566649</td>\n",
       "      <td>0.999461</td>\n",
       "      <td>0.999177</td>\n",
       "      <td>1.000000</td>\n",
       "      <td>0.999379</td>\n",
       "    </tr>\n",
       "    <tr>\n",
       "      <th>CareerSv</th>\n",
       "      <td>0.195765</td>\n",
       "      <td>-0.230502</td>\n",
       "      <td>0.567674</td>\n",
       "      <td>0.999344</td>\n",
       "      <td>0.999233</td>\n",
       "      <td>0.999379</td>\n",
       "      <td>1.000000</td>\n",
       "    </tr>\n",
       "  </tbody>\n",
       "</table>\n",
       "</div>"
      ],
      "text/plain": [
       "                    St  Num_services  EdLevlSv  HousEdSv  AcSuppSv  BudgetSv  \\\n",
       "St            1.000000     -0.122563  0.101195  0.194507  0.193723  0.197298   \n",
       "Num_services -0.122563      1.000000 -0.077578 -0.230791 -0.234288 -0.231174   \n",
       "EdLevlSv      0.101195     -0.077578  1.000000  0.567649  0.566614  0.566649   \n",
       "HousEdSv      0.194507     -0.230791  0.567649  1.000000  0.999200  0.999461   \n",
       "AcSuppSv      0.193723     -0.234288  0.566614  0.999200  1.000000  0.999177   \n",
       "BudgetSv      0.197298     -0.231174  0.566649  0.999461  0.999177  1.000000   \n",
       "CareerSv      0.195765     -0.230502  0.567674  0.999344  0.999233  0.999379   \n",
       "\n",
       "              CareerSv  \n",
       "St            0.195765  \n",
       "Num_services -0.230502  \n",
       "EdLevlSv      0.567674  \n",
       "HousEdSv      0.999344  \n",
       "AcSuppSv      0.999233  \n",
       "BudgetSv      0.999379  \n",
       "CareerSv      1.000000  "
      ]
     },
     "execution_count": 15,
     "metadata": {},
     "output_type": "execute_result"
    }
   ],
   "source": [
    "# y-correlations\n",
    "\n",
    "x_corr = np.corrcoef(new_features.values.T)\n",
    "new_features.corr()"
   ]
  },
  {
   "cell_type": "code",
   "execution_count": 16,
   "metadata": {
    "collapsed": false
   },
   "outputs": [
    {
     "name": "stdout",
     "output_type": "stream",
     "text": [
      "[  4.49073216e+00   1.02364670e+00   8.80864039e-01   6.02673829e-01\n",
      "   8.92605268e-04   5.28835961e-04   6.61829537e-04]\n",
      "[[  1.18212068e-01  -6.95477054e-01  -7.07830000e-01  -3.61296888e-02\n",
      "    2.20461665e-03  -1.83775245e-03  -8.20850156e-04]\n",
      " [ -1.34981478e-01   6.74842021e-01  -6.96043281e-01   2.04647768e-01\n",
      "    3.14435856e-03   3.93498267e-04  -1.11665646e-03]\n",
      " [  3.09829770e-01   2.19494855e-01  -1.17081346e-01  -9.17669722e-01\n",
      "    4.00660803e-04   1.14912616e-03  -5.30700016e-04]\n",
      " [  4.66851611e-01   5.76483045e-02   1.38025331e-02   1.68952273e-01\n",
      "   -3.53967032e-01  -6.44499316e-01  -4.57513758e-01]\n",
      " [  4.66823650e-01   5.56301328e-02   1.73303386e-02   1.69276799e-01\n",
      "    8.39525698e-01   6.94707881e-02  -2.00988571e-01]\n",
      " [  4.66868861e-01   5.52849083e-02   1.19934533e-02   1.70182414e-01\n",
      "   -4.04071742e-01   7.42703149e-01  -1.87054024e-01]\n",
      " [  4.66872725e-01   5.69865073e-02   1.25581693e-02   1.68922052e-01\n",
      "   -8.13330356e-02  -1.67873825e-01   8.45750167e-01]]\n"
     ]
    }
   ],
   "source": [
    "# Obtaining eigenvalues and eigenvectors for PCA\n",
    "\n",
    "eig_vals, eig_vecs = np.linalg.eig(x_corr)\n",
    "print eig_vals\n",
    "print eig_vecs\n"
   ]
  },
  {
   "cell_type": "code",
   "execution_count": 17,
   "metadata": {
    "collapsed": false
   },
   "outputs": [
    {
     "name": "stdout",
     "output_type": "stream",
     "text": [
      "[  64.15331656   78.77684089   91.36061287   99.97023899   99.98299049\n",
      "   99.9924452   100.        ]\n"
     ]
    }
   ],
   "source": [
    "# Obtaining cumulative explained variance\n",
    "\n",
    "tot = sum(eig_vals)\n",
    "var_exp = [(i / tot)*100 for i in sorted(eig_vals, reverse=True)]\n",
    "cum_var_exp = np.cumsum(var_exp)\n",
    "print cum_var_exp"
   ]
  },
  {
   "cell_type": "code",
   "execution_count": 18,
   "metadata": {
    "collapsed": true
   },
   "outputs": [],
   "source": [
    "# From output of cell above, we can see \n",
    "# that the first two principal components explain 92.6% of the variance in the target variables"
   ]
  },
  {
   "cell_type": "code",
   "execution_count": 19,
   "metadata": {
    "collapsed": true
   },
   "outputs": [],
   "source": [
    "# Obtaining eigenpairs...\n",
    "\n",
    "value_vector_pairs = [[eig_vals[i], eig_vecs[:,i]] for i in range(len(eig_vals))]\n",
    "value_vector_pairs.sort(reverse=True)"
   ]
  },
  {
   "cell_type": "code",
   "execution_count": 20,
   "metadata": {
    "collapsed": false
   },
   "outputs": [
    {
     "name": "stdout",
     "output_type": "stream",
     "text": [
      "Weight data 2d PCA projection matrix:\n",
      "[[ 0.11821207 -0.69547705]\n",
      " [-0.13498148  0.67484202]\n",
      " [ 0.30982977  0.21949486]\n",
      " [ 0.46685161  0.0576483 ]\n",
      " [ 0.46682365  0.05563013]\n",
      " [ 0.46686886  0.05528491]\n",
      " [ 0.46687273  0.05698651]]\n"
     ]
    }
   ],
   "source": [
    "# Transforming eigen data to obtain 2d PCA projection matrix in order to plot principal components\n",
    "\n",
    "weight_2d_projection = np.hstack((value_vector_pairs[0][1].reshape(eig_vecs.shape[1],1),\n",
    "                                  value_vector_pairs[1][1].reshape(eig_vecs.shape[1],1)))\n",
    "\n",
    "print 'Weight data 2d PCA projection matrix:\\n', weight_2d_projection"
   ]
  },
  {
   "cell_type": "code",
   "execution_count": 21,
   "metadata": {
    "collapsed": false
   },
   "outputs": [],
   "source": [
    "Z = new_features.dot(weight_2d_projection)\n"
   ]
  },
  {
   "cell_type": "markdown",
   "metadata": {},
   "source": [
    "### PC1 vs PC2"
   ]
  },
  {
   "cell_type": "code",
   "execution_count": 22,
   "metadata": {
    "collapsed": false
   },
   "outputs": [
    {
     "data": {
      "image/png": "[encoded data removed]",
      "text/plain": [
       "<matplotlib.figure.Figure at 0x12472fe10>"
      ]
     },
     "metadata": {},
     "output_type": "display_data"
    }
   ],
   "source": [
    "fig = plt.figure(figsize=(9,7))\n",
    "\n",
    "ax = fig.gca()\n",
    "ax = sns.regplot(Z.iloc[:,0], Z.iloc[:,1],\n",
    "                 fit_reg=False, scatter_kws={'s':70}, ax=ax)\n",
    "\n",
    "ax.set_xlabel('principal component 1', fontsize=16)\n",
    "ax.set_ylabel('principal component 2', fontsize=16)\n",
    "\n",
    "\n",
    "for tick in ax.xaxis.get_major_ticks():\n",
    "    tick.label.set_fontsize(12) \n",
    "    \n",
    "for tick in ax.yaxis.get_major_ticks():\n",
    "    tick.label.set_fontsize(12) \n",
    "    \n",
    "ax.set_title('PC1 vs PC2\\n', fontsize=20)\n",
    "\n",
    "plt.show()"
   ]
  },
  {
   "cell_type": "code",
   "execution_count": 23,
   "metadata": {
    "collapsed": false
   },
   "outputs": [],
   "source": [
    "# Will now transform data so that PC1 and PC2 can be plotted with individual target variables...\n",
    "# Need to do this in order to see which variables are more likely part of the principal components...\n",
    "\n",
    "new_features_2 = new_features\n",
    "\n",
    "NFeat_pcs = new_features_2.copy\n",
    "\n",
    "NFeat_pcs = (new_features_2 - new_features_2.mean()) / new_features_2.std()\n",
    "\n",
    "NFeat_pcs['PC1'] = Z.iloc[:,0]\n",
    "NFeat_pcs['PC2'] = Z.iloc[:,1]"
   ]
  },
  {
   "cell_type": "code",
   "execution_count": 24,
   "metadata": {
    "collapsed": false
   },
   "outputs": [],
   "source": [
    "NFeat_pcs = pd.melt(NFeat_pcs, id_vars=['PC1','PC2'])\n"
   ]
  },
  {
   "cell_type": "code",
   "execution_count": 25,
   "metadata": {
    "collapsed": false
   },
   "outputs": [
    {
     "data": {
      "text/html": [
       "<div>\n",
       "<table border=\"1\" class=\"dataframe\">\n",
       "  <thead>\n",
       "    <tr style=\"text-align: right;\">\n",
       "      <th></th>\n",
       "      <th>PC1</th>\n",
       "      <th>PC2</th>\n",
       "      <th>variable</th>\n",
       "      <th>value</th>\n",
       "    </tr>\n",
       "  </thead>\n",
       "  <tbody>\n",
       "    <tr>\n",
       "      <th>0</th>\n",
       "      <td>2.055867</td>\n",
       "      <td>2.724301</td>\n",
       "      <td>St</td>\n",
       "      <td>-1.396589</td>\n",
       "    </tr>\n",
       "    <tr>\n",
       "      <th>1</th>\n",
       "      <td>1.723997</td>\n",
       "      <td>1.991811</td>\n",
       "      <td>St</td>\n",
       "      <td>-1.396589</td>\n",
       "    </tr>\n",
       "    <tr>\n",
       "      <th>2</th>\n",
       "      <td>1.454034</td>\n",
       "      <td>3.341495</td>\n",
       "      <td>St</td>\n",
       "      <td>-1.396589</td>\n",
       "    </tr>\n",
       "    <tr>\n",
       "      <th>3</th>\n",
       "      <td>1.723997</td>\n",
       "      <td>1.991811</td>\n",
       "      <td>St</td>\n",
       "      <td>-1.396589</td>\n",
       "    </tr>\n",
       "    <tr>\n",
       "      <th>4</th>\n",
       "      <td>1.589016</td>\n",
       "      <td>2.666653</td>\n",
       "      <td>St</td>\n",
       "      <td>-1.396589</td>\n",
       "    </tr>\n",
       "  </tbody>\n",
       "</table>\n",
       "</div>"
      ],
      "text/plain": [
       "        PC1       PC2 variable     value\n",
       "0  2.055867  2.724301       St -1.396589\n",
       "1  1.723997  1.991811       St -1.396589\n",
       "2  1.454034  3.341495       St -1.396589\n",
       "3  1.723997  1.991811       St -1.396589\n",
       "4  1.589016  2.666653       St -1.396589"
      ]
     },
     "execution_count": 25,
     "metadata": {},
     "output_type": "execute_result"
    }
   ],
   "source": [
    "NFeat_pcs.head()"
   ]
  },
  {
   "cell_type": "markdown",
   "metadata": {},
   "source": [
    "### PC1 vs New Features"
   ]
  },
  {
   "cell_type": "code",
   "execution_count": 26,
   "metadata": {
    "collapsed": false
   },
   "outputs": [
    {
     "data": {
      "image/png": "[encoded data removed]",
      "text/plain": [
       "<matplotlib.figure.Figure at 0x125d45110>"
      ]
     },
     "metadata": {},
     "output_type": "display_data"
    }
   ],
   "source": [
    "pc1 = sns.lmplot(x=\"PC1\", y=\"value\", col=\"variable\", hue=\"variable\", \n",
    "                 data=NFeat_pcs, col_wrap=2, size=7, scatter_kws={'s':50})"
   ]
  },
  {
   "cell_type": "markdown",
   "metadata": {},
   "source": [
    "### PC2 vs New Features"
   ]
  },
  {
   "cell_type": "code",
   "execution_count": 27,
   "metadata": {
    "collapsed": false
   },
   "outputs": [
    {
     "data": {
      "image/png": "[encoded data removed]",
      "text/plain": [
       "<matplotlib.figure.Figure at 0x1315a8e10>"
      ]
     },
     "metadata": {},
     "output_type": "display_data"
    }
   ],
   "source": [
    "pc2 = sns.lmplot(x=\"PC2\", y=\"value\", col=\"variable\", hue=\"variable\", \n",
    "                 data=NFeat_pcs, col_wrap=2, size=7, scatter_kws={'s':50})\n"
   ]
  },
  {
   "cell_type": "code",
   "execution_count": 28,
   "metadata": {
    "collapsed": true
   },
   "outputs": [],
   "source": [
    "# From the PCAs so far, can see that HighEdCert should be the target variable for this project"
   ]
  },
  {
   "cell_type": "code",
   "execution_count": 32,
   "metadata": {
    "collapsed": false
   },
   "outputs": [
    {
     "data": {
      "text/plain": [
       "array([[ -3.48250108e-01,   6.34892755e-01,  -1.32194200e+00, ...,\n",
       "          3.68867593e-02,   2.96508810e-02,  -4.06403487e-02],\n",
       "       [ -3.33843200e-01,   4.01004820e-01,  -1.55821980e+00, ...,\n",
       "          1.40031343e-02,  -1.69257247e-03,   2.84295775e-03],\n",
       "       [ -4.25846713e-01,   8.60977828e-01,  -1.08379599e+00, ...,\n",
       "          1.18599363e-02,  -9.31458291e-04,   3.11116657e-03],\n",
       "       ..., \n",
       "       [  4.83321332e-02,  -1.69812062e+00,   1.05213706e+00, ...,\n",
       "         -5.13835054e-02,   1.50684669e-02,   1.52269878e-03],\n",
       "       [ -4.43970098e-01,  -1.03359950e+00,   1.85881423e+00, ...,\n",
       "         -2.57274621e-02,  -1.03458268e-02,  -5.43023598e-02],\n",
       "       [ -1.69068841e-01,  -1.83348470e+00,   9.83119029e-01, ...,\n",
       "          5.77665271e-03,   1.12324820e-03,  -3.87635806e-03]])"
      ]
     },
     "execution_count": 32,
     "metadata": {},
     "output_type": "execute_result"
    }
   ],
   "source": [
    "from matplotlib.mlab import PCA\n",
    "#construct your numpy array of data\n",
    "myData = np.array(new_features) \n",
    "results = PCA(myData) \n",
    "\n",
    "#this will return an array of variance percentages for each component\n",
    "results.fracs\n",
    "\n",
    "#this will return a 2d array of the data projected into PCA space\n",
    "results.Y "
   ]
  },
  {
   "cell_type": "code",
   "execution_count": 36,
   "metadata": {
    "collapsed": false
   },
   "outputs": [
    {
     "data": {
      "image/png": "[encoded data removed]",
      "text/plain": [
       "<matplotlib.figure.Figure at 0x14be36190>"
      ]
     },
     "metadata": {},
     "output_type": "display_data"
    }
   ],
   "source": [
    "import matplotlib.pyplot as plt\n",
    "from mpl_toolkits.mplot3d import Axes3D\n",
    "\n",
    "x = []\n",
    "y = []\n",
    "z = []\n",
    "for item in results.Y:\n",
    " x.append(item[0])\n",
    " y.append(item[1])\n",
    " z.append(item[2])\n",
    "\n",
    "plt.close('all') # close all latent plotting windows\n",
    "fig1 = plt.figure() # Make a plotting figure\n",
    "ax = Axes3D(fig1) # use the plotting figure to create a Axis3D object.\n",
    "pltData = [x,y,z] \n",
    "ax.scatter(pltData[0], pltData[1], pltData[2], 'bo') # make a scatter plot of blue dots from the data\n",
    " \n",
    "# make simple, bare axis lines through space:\n",
    "xAxisLine = ((min(pltData[0]), max(pltData[0])), (0, 0), (0,0)) # 2 points make the x-axis line at the data extrema along x-axis \n",
    "ax.plot(xAxisLine[0], xAxisLine[1], xAxisLine[2], 'r') # make a red line for the x-axis.\n",
    "yAxisLine = ((0, 0), (min(pltData[1]), max(pltData[1])), (0,0)) # 2 points make the y-axis line at the data extrema along y-axis\n",
    "ax.plot(yAxisLine[0], yAxisLine[1], yAxisLine[2], 'r') # make a red line for the y-axis.\n",
    "zAxisLine = ((0, 0), (0,0), (min(pltData[2]), max(pltData[2]))) # 2 points make the z-axis line at the data extrema along z-axis\n",
    "ax.plot(zAxisLine[0], zAxisLine[1], zAxisLine[2], 'r') # make a red line for the z-axis.\n",
    " \n",
    "# label the axes \n",
    "ax.set_xlabel(\"x-axis label\") \n",
    "ax.set_ylabel(\"y-axis label\")\n",
    "ax.set_zlabel(\"z-axis label\")\n",
    "ax.set_title(\"The title of the plot\")\n",
    "\n",
    "ax.azim = 200\n",
    "ax.elev = 45\n",
    "\n",
    "\n",
    "plt.show() # show the plot\n",
    "\n"
   ]
  },
  {
   "cell_type": "markdown",
   "metadata": {},
   "source": [
    "# 3) Feature Importance over BEST Demographics and Features"
   ]
  },
  {
   "cell_type": "code",
   "execution_count": 37,
   "metadata": {
    "collapsed": true
   },
   "outputs": [],
   "source": [
    "import pandas as pd\n",
    "import numpy as np\n",
    "import matplotlib.pyplot as plt\n",
    "%matplotlib inline\n"
   ]
  },
  {
   "cell_type": "code",
   "execution_count": 38,
   "metadata": {
    "collapsed": false
   },
   "outputs": [
    {
     "data": {
      "text/html": [
       "<div>\n",
       "<table border=\"1\" class=\"dataframe\">\n",
       "  <thead>\n",
       "    <tr style=\"text-align: right;\">\n",
       "      <th></th>\n",
       "      <th>Unnamed: 0</th>\n",
       "      <th>PubFoodAs</th>\n",
       "      <th>PubHousAs</th>\n",
       "      <th>OthrFinAs</th>\n",
       "      <th>HighEdCert</th>\n",
       "      <th>CurrFTE</th>\n",
       "      <th>CurrPTE</th>\n",
       "      <th>PubFinAs</th>\n",
       "      <th>CurrenRoll</th>\n",
       "      <th>PrescripIn</th>\n",
       "      <th>Homeless</th>\n",
       "      <th>SubAbuse</th>\n",
       "      <th>Incarc</th>\n",
       "      <th>Medicaid</th>\n",
       "      <th>OthrHlthIn</th>\n",
       "      <th>MedicalIn</th>\n",
       "      <th>MentlHlthIn</th>\n",
       "    </tr>\n",
       "  </thead>\n",
       "  <tbody>\n",
       "    <tr>\n",
       "      <th>0</th>\n",
       "      <td>7328</td>\n",
       "      <td>4</td>\n",
       "      <td>2</td>\n",
       "      <td>2</td>\n",
       "      <td>7</td>\n",
       "      <td>2</td>\n",
       "      <td>2</td>\n",
       "      <td>2</td>\n",
       "      <td>2</td>\n",
       "      <td>4</td>\n",
       "      <td>3</td>\n",
       "      <td>2</td>\n",
       "      <td>2</td>\n",
       "      <td>4</td>\n",
       "      <td>4</td>\n",
       "      <td>4</td>\n",
       "      <td>4</td>\n",
       "    </tr>\n",
       "    <tr>\n",
       "      <th>1</th>\n",
       "      <td>7329</td>\n",
       "      <td>2</td>\n",
       "      <td>2</td>\n",
       "      <td>2</td>\n",
       "      <td>5</td>\n",
       "      <td>2</td>\n",
       "      <td>2</td>\n",
       "      <td>2</td>\n",
       "      <td>2</td>\n",
       "      <td>4</td>\n",
       "      <td>2</td>\n",
       "      <td>2</td>\n",
       "      <td>2</td>\n",
       "      <td>3</td>\n",
       "      <td>4</td>\n",
       "      <td>4</td>\n",
       "      <td>4</td>\n",
       "    </tr>\n",
       "    <tr>\n",
       "      <th>2</th>\n",
       "      <td>7330</td>\n",
       "      <td>4</td>\n",
       "      <td>2</td>\n",
       "      <td>2</td>\n",
       "      <td>5</td>\n",
       "      <td>2</td>\n",
       "      <td>2</td>\n",
       "      <td>2</td>\n",
       "      <td>3</td>\n",
       "      <td>4</td>\n",
       "      <td>2</td>\n",
       "      <td>3</td>\n",
       "      <td>3</td>\n",
       "      <td>4</td>\n",
       "      <td>4</td>\n",
       "      <td>4</td>\n",
       "      <td>4</td>\n",
       "    </tr>\n",
       "    <tr>\n",
       "      <th>3</th>\n",
       "      <td>7331</td>\n",
       "      <td>4</td>\n",
       "      <td>2</td>\n",
       "      <td>2</td>\n",
       "      <td>5</td>\n",
       "      <td>2</td>\n",
       "      <td>3</td>\n",
       "      <td>2</td>\n",
       "      <td>2</td>\n",
       "      <td>4</td>\n",
       "      <td>3</td>\n",
       "      <td>2</td>\n",
       "      <td>2</td>\n",
       "      <td>4</td>\n",
       "      <td>4</td>\n",
       "      <td>4</td>\n",
       "      <td>4</td>\n",
       "    </tr>\n",
       "    <tr>\n",
       "      <th>4</th>\n",
       "      <td>7332</td>\n",
       "      <td>4</td>\n",
       "      <td>2</td>\n",
       "      <td>2</td>\n",
       "      <td>5</td>\n",
       "      <td>3</td>\n",
       "      <td>2</td>\n",
       "      <td>2</td>\n",
       "      <td>2</td>\n",
       "      <td>4</td>\n",
       "      <td>3</td>\n",
       "      <td>2</td>\n",
       "      <td>2</td>\n",
       "      <td>4</td>\n",
       "      <td>5</td>\n",
       "      <td>2</td>\n",
       "      <td>4</td>\n",
       "    </tr>\n",
       "  </tbody>\n",
       "</table>\n",
       "</div>"
      ],
      "text/plain": [
       "   Unnamed: 0  PubFoodAs  PubHousAs  OthrFinAs  HighEdCert  CurrFTE  CurrPTE  \\\n",
       "0        7328          4          2          2           7        2        2   \n",
       "1        7329          2          2          2           5        2        2   \n",
       "2        7330          4          2          2           5        2        2   \n",
       "3        7331          4          2          2           5        2        3   \n",
       "4        7332          4          2          2           5        3        2   \n",
       "\n",
       "   PubFinAs  CurrenRoll  PrescripIn  Homeless  SubAbuse  Incarc  Medicaid  \\\n",
       "0         2           2           4         3         2       2         4   \n",
       "1         2           2           4         2         2       2         3   \n",
       "2         2           3           4         2         3       3         4   \n",
       "3         2           2           4         3         2       2         4   \n",
       "4         2           2           4         3         2       2         4   \n",
       "\n",
       "   OthrHlthIn  MedicalIn  MentlHlthIn  \n",
       "0           4          4            4  \n",
       "1           4          4            4  \n",
       "2           4          4            4  \n",
       "3           4          4            4  \n",
       "4           5          2            4  "
      ]
     },
     "execution_count": 38,
     "metadata": {},
     "output_type": "execute_result"
    }
   ],
   "source": [
    "targets_w2 = pd.read_csv('/Users/cguy/kelstuff/ga_summer_2016/targets_w2.csv')\n",
    "targets_w2.head()"
   ]
  },
  {
   "cell_type": "code",
   "execution_count": 39,
   "metadata": {
    "collapsed": false
   },
   "outputs": [
    {
     "name": "stderr",
     "output_type": "stream",
     "text": [
      "/Users/cguy/anaconda/lib/python2.7/site-packages/numpy/lib/arraysetops.py:200: FutureWarning: numpy not_equal will not check object identity in the future. The comparison did not return the same result as suggested by the identity (`is`)) and will change.\n",
      "  flag = np.concatenate(([True], aux[1:] != aux[:-1]))\n"
     ]
    },
    {
     "data": {
      "text/html": [
       "<div>\n",
       "<table border=\"1\" class=\"dataframe\">\n",
       "  <thead>\n",
       "    <tr style=\"text-align: right;\">\n",
       "      <th></th>\n",
       "      <th>PubFoodAs</th>\n",
       "      <th>PubHousAs</th>\n",
       "      <th>OthrFinAs</th>\n",
       "      <th>HighEdCert</th>\n",
       "      <th>CurrFTE</th>\n",
       "      <th>CurrPTE</th>\n",
       "      <th>PubFinAs</th>\n",
       "      <th>CurrenRoll</th>\n",
       "      <th>PrescripIn</th>\n",
       "      <th>Homeless</th>\n",
       "      <th>SubAbuse</th>\n",
       "      <th>Incarc</th>\n",
       "      <th>Medicaid</th>\n",
       "      <th>OthrHlthIn</th>\n",
       "      <th>MedicalIn</th>\n",
       "      <th>MentlHlthIn</th>\n",
       "    </tr>\n",
       "  </thead>\n",
       "  <tbody>\n",
       "    <tr>\n",
       "      <th>7328</th>\n",
       "      <td>4</td>\n",
       "      <td>2</td>\n",
       "      <td>2</td>\n",
       "      <td>7</td>\n",
       "      <td>2</td>\n",
       "      <td>2</td>\n",
       "      <td>2</td>\n",
       "      <td>2</td>\n",
       "      <td>4</td>\n",
       "      <td>3</td>\n",
       "      <td>2</td>\n",
       "      <td>2</td>\n",
       "      <td>4</td>\n",
       "      <td>4</td>\n",
       "      <td>4</td>\n",
       "      <td>4</td>\n",
       "    </tr>\n",
       "    <tr>\n",
       "      <th>7329</th>\n",
       "      <td>2</td>\n",
       "      <td>2</td>\n",
       "      <td>2</td>\n",
       "      <td>5</td>\n",
       "      <td>2</td>\n",
       "      <td>2</td>\n",
       "      <td>2</td>\n",
       "      <td>2</td>\n",
       "      <td>4</td>\n",
       "      <td>2</td>\n",
       "      <td>2</td>\n",
       "      <td>2</td>\n",
       "      <td>3</td>\n",
       "      <td>4</td>\n",
       "      <td>4</td>\n",
       "      <td>4</td>\n",
       "    </tr>\n",
       "    <tr>\n",
       "      <th>7330</th>\n",
       "      <td>4</td>\n",
       "      <td>2</td>\n",
       "      <td>2</td>\n",
       "      <td>5</td>\n",
       "      <td>2</td>\n",
       "      <td>2</td>\n",
       "      <td>2</td>\n",
       "      <td>3</td>\n",
       "      <td>4</td>\n",
       "      <td>2</td>\n",
       "      <td>3</td>\n",
       "      <td>3</td>\n",
       "      <td>4</td>\n",
       "      <td>4</td>\n",
       "      <td>4</td>\n",
       "      <td>4</td>\n",
       "    </tr>\n",
       "    <tr>\n",
       "      <th>7331</th>\n",
       "      <td>4</td>\n",
       "      <td>2</td>\n",
       "      <td>2</td>\n",
       "      <td>5</td>\n",
       "      <td>2</td>\n",
       "      <td>3</td>\n",
       "      <td>2</td>\n",
       "      <td>2</td>\n",
       "      <td>4</td>\n",
       "      <td>3</td>\n",
       "      <td>2</td>\n",
       "      <td>2</td>\n",
       "      <td>4</td>\n",
       "      <td>4</td>\n",
       "      <td>4</td>\n",
       "      <td>4</td>\n",
       "    </tr>\n",
       "    <tr>\n",
       "      <th>7332</th>\n",
       "      <td>4</td>\n",
       "      <td>2</td>\n",
       "      <td>2</td>\n",
       "      <td>5</td>\n",
       "      <td>3</td>\n",
       "      <td>2</td>\n",
       "      <td>2</td>\n",
       "      <td>2</td>\n",
       "      <td>4</td>\n",
       "      <td>3</td>\n",
       "      <td>2</td>\n",
       "      <td>2</td>\n",
       "      <td>4</td>\n",
       "      <td>5</td>\n",
       "      <td>2</td>\n",
       "      <td>4</td>\n",
       "    </tr>\n",
       "  </tbody>\n",
       "</table>\n",
       "</div>"
      ],
      "text/plain": [
       "      PubFoodAs  PubHousAs  OthrFinAs  HighEdCert  CurrFTE  CurrPTE  PubFinAs  \\\n",
       "7328          4          2          2           7        2        2         2   \n",
       "7329          2          2          2           5        2        2         2   \n",
       "7330          4          2          2           5        2        2         2   \n",
       "7331          4          2          2           5        2        3         2   \n",
       "7332          4          2          2           5        3        2         2   \n",
       "\n",
       "      CurrenRoll  PrescripIn  Homeless  SubAbuse  Incarc  Medicaid  \\\n",
       "7328           2           4         3         2       2         4   \n",
       "7329           2           4         2         2       2         3   \n",
       "7330           3           4         2         3       3         4   \n",
       "7331           2           4         3         2       2         4   \n",
       "7332           2           4         3         2       2         4   \n",
       "\n",
       "      OthrHlthIn  MedicalIn  MentlHlthIn  \n",
       "7328           4          4            4  \n",
       "7329           4          4            4  \n",
       "7330           4          4            4  \n",
       "7331           4          4            4  \n",
       "7332           5          2            4  "
      ]
     },
     "execution_count": 39,
     "metadata": {},
     "output_type": "execute_result"
    }
   ],
   "source": [
    "from sklearn.preprocessing import LabelEncoder\n",
    "le = LabelEncoder()\n",
    "\n",
    "targets_w2_ = targets[targets.Wave == \"Wave 2: Age 19 Followup\"]\n",
    "targets_w2_ = targets_w2_.drop('Wave', axis = 1)\n",
    "\n",
    "\n",
    "targets_w2 = targets_w2_.copy()\n",
    "\n",
    "for column in targets_w2:\n",
    "    targets_w2[column] = le.fit_transform(targets_w2[column])\n",
    "targets_w2.head()"
   ]
  },
  {
   "cell_type": "code",
   "execution_count": 40,
   "metadata": {
    "collapsed": true
   },
   "outputs": [],
   "source": [
    "targets_labels = targets[targets.Wave == \"Wave 2: Age 19 Followup\"]\n"
   ]
  },
  {
   "cell_type": "code",
   "execution_count": 41,
   "metadata": {
    "collapsed": false
   },
   "outputs": [
    {
     "data": {
      "text/html": [
       "<div>\n",
       "<table border=\"1\" class=\"dataframe\">\n",
       "  <thead>\n",
       "    <tr style=\"text-align: right;\">\n",
       "      <th></th>\n",
       "      <th>PubFoodAs</th>\n",
       "      <th>PubHousAs</th>\n",
       "      <th>OthrFinAs</th>\n",
       "      <th>HighEdCert</th>\n",
       "      <th>CurrFTE</th>\n",
       "      <th>CurrPTE</th>\n",
       "      <th>PubFinAs</th>\n",
       "      <th>CurrenRoll</th>\n",
       "      <th>PrescripIn</th>\n",
       "      <th>Homeless</th>\n",
       "      <th>SubAbuse</th>\n",
       "      <th>Incarc</th>\n",
       "      <th>Medicaid</th>\n",
       "      <th>OthrHlthIn</th>\n",
       "      <th>MedicalIn</th>\n",
       "      <th>MentlHlthIn</th>\n",
       "      <th>Success</th>\n",
       "    </tr>\n",
       "  </thead>\n",
       "  <tbody>\n",
       "    <tr>\n",
       "      <th>7328</th>\n",
       "      <td>4</td>\n",
       "      <td>2</td>\n",
       "      <td>2</td>\n",
       "      <td>7</td>\n",
       "      <td>2</td>\n",
       "      <td>2</td>\n",
       "      <td>2</td>\n",
       "      <td>2</td>\n",
       "      <td>4</td>\n",
       "      <td>3</td>\n",
       "      <td>2</td>\n",
       "      <td>2</td>\n",
       "      <td>4</td>\n",
       "      <td>4</td>\n",
       "      <td>4</td>\n",
       "      <td>4</td>\n",
       "      <td>0</td>\n",
       "    </tr>\n",
       "    <tr>\n",
       "      <th>7329</th>\n",
       "      <td>2</td>\n",
       "      <td>2</td>\n",
       "      <td>2</td>\n",
       "      <td>5</td>\n",
       "      <td>2</td>\n",
       "      <td>2</td>\n",
       "      <td>2</td>\n",
       "      <td>2</td>\n",
       "      <td>4</td>\n",
       "      <td>2</td>\n",
       "      <td>2</td>\n",
       "      <td>2</td>\n",
       "      <td>3</td>\n",
       "      <td>4</td>\n",
       "      <td>4</td>\n",
       "      <td>4</td>\n",
       "      <td>0</td>\n",
       "    </tr>\n",
       "    <tr>\n",
       "      <th>7330</th>\n",
       "      <td>4</td>\n",
       "      <td>2</td>\n",
       "      <td>2</td>\n",
       "      <td>5</td>\n",
       "      <td>2</td>\n",
       "      <td>2</td>\n",
       "      <td>2</td>\n",
       "      <td>3</td>\n",
       "      <td>4</td>\n",
       "      <td>2</td>\n",
       "      <td>3</td>\n",
       "      <td>3</td>\n",
       "      <td>4</td>\n",
       "      <td>4</td>\n",
       "      <td>4</td>\n",
       "      <td>4</td>\n",
       "      <td>1</td>\n",
       "    </tr>\n",
       "    <tr>\n",
       "      <th>7331</th>\n",
       "      <td>4</td>\n",
       "      <td>2</td>\n",
       "      <td>2</td>\n",
       "      <td>5</td>\n",
       "      <td>2</td>\n",
       "      <td>3</td>\n",
       "      <td>2</td>\n",
       "      <td>2</td>\n",
       "      <td>4</td>\n",
       "      <td>3</td>\n",
       "      <td>2</td>\n",
       "      <td>2</td>\n",
       "      <td>4</td>\n",
       "      <td>4</td>\n",
       "      <td>4</td>\n",
       "      <td>4</td>\n",
       "      <td>0</td>\n",
       "    </tr>\n",
       "    <tr>\n",
       "      <th>7332</th>\n",
       "      <td>4</td>\n",
       "      <td>2</td>\n",
       "      <td>2</td>\n",
       "      <td>5</td>\n",
       "      <td>3</td>\n",
       "      <td>2</td>\n",
       "      <td>2</td>\n",
       "      <td>2</td>\n",
       "      <td>4</td>\n",
       "      <td>3</td>\n",
       "      <td>2</td>\n",
       "      <td>2</td>\n",
       "      <td>4</td>\n",
       "      <td>5</td>\n",
       "      <td>2</td>\n",
       "      <td>4</td>\n",
       "      <td>0</td>\n",
       "    </tr>\n",
       "    <tr>\n",
       "      <th>7333</th>\n",
       "      <td>3</td>\n",
       "      <td>3</td>\n",
       "      <td>2</td>\n",
       "      <td>7</td>\n",
       "      <td>2</td>\n",
       "      <td>2</td>\n",
       "      <td>3</td>\n",
       "      <td>3</td>\n",
       "      <td>4</td>\n",
       "      <td>2</td>\n",
       "      <td>2</td>\n",
       "      <td>2</td>\n",
       "      <td>4</td>\n",
       "      <td>4</td>\n",
       "      <td>4</td>\n",
       "      <td>4</td>\n",
       "      <td>1</td>\n",
       "    </tr>\n",
       "    <tr>\n",
       "      <th>7334</th>\n",
       "      <td>3</td>\n",
       "      <td>3</td>\n",
       "      <td>2</td>\n",
       "      <td>7</td>\n",
       "      <td>2</td>\n",
       "      <td>2</td>\n",
       "      <td>3</td>\n",
       "      <td>3</td>\n",
       "      <td>5</td>\n",
       "      <td>2</td>\n",
       "      <td>2</td>\n",
       "      <td>2</td>\n",
       "      <td>4</td>\n",
       "      <td>5</td>\n",
       "      <td>5</td>\n",
       "      <td>5</td>\n",
       "      <td>1</td>\n",
       "    </tr>\n",
       "    <tr>\n",
       "      <th>7335</th>\n",
       "      <td>2</td>\n",
       "      <td>2</td>\n",
       "      <td>2</td>\n",
       "      <td>5</td>\n",
       "      <td>2</td>\n",
       "      <td>2</td>\n",
       "      <td>2</td>\n",
       "      <td>2</td>\n",
       "      <td>5</td>\n",
       "      <td>2</td>\n",
       "      <td>2</td>\n",
       "      <td>2</td>\n",
       "      <td>4</td>\n",
       "      <td>5</td>\n",
       "      <td>5</td>\n",
       "      <td>3</td>\n",
       "      <td>0</td>\n",
       "    </tr>\n",
       "    <tr>\n",
       "      <th>7336</th>\n",
       "      <td>4</td>\n",
       "      <td>2</td>\n",
       "      <td>2</td>\n",
       "      <td>7</td>\n",
       "      <td>3</td>\n",
       "      <td>2</td>\n",
       "      <td>2</td>\n",
       "      <td>2</td>\n",
       "      <td>4</td>\n",
       "      <td>3</td>\n",
       "      <td>2</td>\n",
       "      <td>3</td>\n",
       "      <td>4</td>\n",
       "      <td>4</td>\n",
       "      <td>4</td>\n",
       "      <td>4</td>\n",
       "      <td>0</td>\n",
       "    </tr>\n",
       "    <tr>\n",
       "      <th>7337</th>\n",
       "      <td>2</td>\n",
       "      <td>1</td>\n",
       "      <td>3</td>\n",
       "      <td>7</td>\n",
       "      <td>2</td>\n",
       "      <td>2</td>\n",
       "      <td>1</td>\n",
       "      <td>3</td>\n",
       "      <td>4</td>\n",
       "      <td>3</td>\n",
       "      <td>2</td>\n",
       "      <td>3</td>\n",
       "      <td>4</td>\n",
       "      <td>4</td>\n",
       "      <td>4</td>\n",
       "      <td>4</td>\n",
       "      <td>1</td>\n",
       "    </tr>\n",
       "  </tbody>\n",
       "</table>\n",
       "</div>"
      ],
      "text/plain": [
       "      PubFoodAs  PubHousAs  OthrFinAs  HighEdCert  CurrFTE  CurrPTE  PubFinAs  \\\n",
       "7328          4          2          2           7        2        2         2   \n",
       "7329          2          2          2           5        2        2         2   \n",
       "7330          4          2          2           5        2        2         2   \n",
       "7331          4          2          2           5        2        3         2   \n",
       "7332          4          2          2           5        3        2         2   \n",
       "7333          3          3          2           7        2        2         3   \n",
       "7334          3          3          2           7        2        2         3   \n",
       "7335          2          2          2           5        2        2         2   \n",
       "7336          4          2          2           7        3        2         2   \n",
       "7337          2          1          3           7        2        2         1   \n",
       "\n",
       "      CurrenRoll  PrescripIn  Homeless  SubAbuse  Incarc  Medicaid  \\\n",
       "7328           2           4         3         2       2         4   \n",
       "7329           2           4         2         2       2         3   \n",
       "7330           3           4         2         3       3         4   \n",
       "7331           2           4         3         2       2         4   \n",
       "7332           2           4         3         2       2         4   \n",
       "7333           3           4         2         2       2         4   \n",
       "7334           3           5         2         2       2         4   \n",
       "7335           2           5         2         2       2         4   \n",
       "7336           2           4         3         2       3         4   \n",
       "7337           3           4         3         2       3         4   \n",
       "\n",
       "      OthrHlthIn  MedicalIn  MentlHlthIn  Success  \n",
       "7328           4          4            4        0  \n",
       "7329           4          4            4        0  \n",
       "7330           4          4            4        1  \n",
       "7331           4          4            4        0  \n",
       "7332           5          2            4        0  \n",
       "7333           4          4            4        1  \n",
       "7334           5          5            5        1  \n",
       "7335           5          5            3        0  \n",
       "7336           4          4            4        0  \n",
       "7337           4          4            4        1  "
      ]
     },
     "execution_count": 41,
     "metadata": {},
     "output_type": "execute_result"
    }
   ],
   "source": [
    "# y = 0 v 1, \n",
    "    # where 1 = Vocational certificate (8), Vocational license (9), Associate's Degree (6), \n",
    "            #   Higher degree (1), Bachelor's Degree (2)\n",
    "    # or 1 = when CurrenRoll == 3\n",
    "\n",
    "def determine_Success(row):\n",
    "    column_1 = 'HighEdCert'\n",
    "    column_2 = 'CurrenRoll'\n",
    "    if row[column_1] == 1:\n",
    "        val = 1\n",
    "    elif row[column_1] ==  2:\n",
    "        val = 1\n",
    "    elif row[column_1] ==  6:\n",
    "        val = 1\n",
    "    elif row[column_1] ==  9:\n",
    "        val = 1\n",
    "    elif row[column_1] ==  8:\n",
    "        val = 1\n",
    "    elif row[column_2] == 3:\n",
    "        val = 1\n",
    "    else:\n",
    "        val = 0\n",
    "    return val\n",
    "    \n",
    "targets_w2_final = targets_w2.copy()\n",
    "\n",
    "targets_w2_final['Success'] = targets_w2_final.apply(determine_Success, axis=1)\n",
    "targets_w2_final.head(10)\n",
    "\n"
   ]
  },
  {
   "cell_type": "code",
   "execution_count": 42,
   "metadata": {
    "collapsed": false
   },
   "outputs": [
    {
     "data": {
      "text/plain": [
       "0    4830\n",
       "1    2498\n",
       "Name: Success, dtype: int64"
      ]
     },
     "execution_count": 42,
     "metadata": {},
     "output_type": "execute_result"
    }
   ],
   "source": [
    "targets_w2_final['Success'].value_counts()"
   ]
  },
  {
   "cell_type": "code",
   "execution_count": 43,
   "metadata": {
    "collapsed": false
   },
   "outputs": [
    {
     "data": {
      "text/html": [
       "<div>\n",
       "<table border=\"1\" class=\"dataframe\">\n",
       "  <thead>\n",
       "    <tr style=\"text-align: right;\">\n",
       "      <th></th>\n",
       "      <th>St</th>\n",
       "      <th>Num_services</th>\n",
       "      <th>EdLevlSv</th>\n",
       "      <th>HousEdSv</th>\n",
       "      <th>AcSuppSv</th>\n",
       "      <th>BudgetSv</th>\n",
       "      <th>CareerSv</th>\n",
       "    </tr>\n",
       "  </thead>\n",
       "  <tbody>\n",
       "    <tr>\n",
       "      <th>7328</th>\n",
       "      <td>0</td>\n",
       "      <td>2</td>\n",
       "      <td>6</td>\n",
       "      <td>1.0</td>\n",
       "      <td>0.0</td>\n",
       "      <td>0.0</td>\n",
       "      <td>0.0</td>\n",
       "    </tr>\n",
       "    <tr>\n",
       "      <th>7329</th>\n",
       "      <td>0</td>\n",
       "      <td>1</td>\n",
       "      <td>6</td>\n",
       "      <td>0.0</td>\n",
       "      <td>0.0</td>\n",
       "      <td>0.0</td>\n",
       "      <td>0.0</td>\n",
       "    </tr>\n",
       "    <tr>\n",
       "      <th>7330</th>\n",
       "      <td>0</td>\n",
       "      <td>3</td>\n",
       "      <td>6</td>\n",
       "      <td>0.0</td>\n",
       "      <td>0.0</td>\n",
       "      <td>0.0</td>\n",
       "      <td>0.0</td>\n",
       "    </tr>\n",
       "    <tr>\n",
       "      <th>7331</th>\n",
       "      <td>0</td>\n",
       "      <td>1</td>\n",
       "      <td>6</td>\n",
       "      <td>0.0</td>\n",
       "      <td>0.0</td>\n",
       "      <td>0.0</td>\n",
       "      <td>0.0</td>\n",
       "    </tr>\n",
       "    <tr>\n",
       "      <th>7332</th>\n",
       "      <td>0</td>\n",
       "      <td>2</td>\n",
       "      <td>6</td>\n",
       "      <td>0.0</td>\n",
       "      <td>0.0</td>\n",
       "      <td>0.0</td>\n",
       "      <td>0.0</td>\n",
       "    </tr>\n",
       "  </tbody>\n",
       "</table>\n",
       "</div>"
      ],
      "text/plain": [
       "      St  Num_services  EdLevlSv  HousEdSv  AcSuppSv  BudgetSv  CareerSv\n",
       "7328   0             2         6       1.0       0.0       0.0       0.0\n",
       "7329   0             1         6       0.0       0.0       0.0       0.0\n",
       "7330   0             3         6       0.0       0.0       0.0       0.0\n",
       "7331   0             1         6       0.0       0.0       0.0       0.0\n",
       "7332   0             2         6       0.0       0.0       0.0       0.0"
      ]
     },
     "execution_count": 43,
     "metadata": {},
     "output_type": "execute_result"
    }
   ],
   "source": [
    "new_features.head()"
   ]
  },
  {
   "cell_type": "code",
   "execution_count": 44,
   "metadata": {
    "collapsed": false
   },
   "outputs": [],
   "source": [
    "from sklearn.preprocessing import LabelEncoder\n",
    "le = LabelEncoder()\n",
    "y = targets_w2_final['Success']\n",
    "X = new_features\n",
    "\n",
    "# dem2 = demographics_W2.copy()\n",
    "\n",
    "# for column in dem2:\n",
    "#     dem2[column] = le.fit_transform(dem2[column])\n",
    "# dem2.head()\n",
    "\n",
    "\n",
    "# X2 = dem2"
   ]
  },
  {
   "cell_type": "code",
   "execution_count": 45,
   "metadata": {
    "collapsed": false
   },
   "outputs": [],
   "source": [
    "# X2.head()"
   ]
  },
  {
   "cell_type": "code",
   "execution_count": 46,
   "metadata": {
    "collapsed": false
   },
   "outputs": [
    {
     "data": {
      "text/html": [
       "<div>\n",
       "<table border=\"1\" class=\"dataframe\">\n",
       "  <thead>\n",
       "    <tr style=\"text-align: right;\">\n",
       "      <th></th>\n",
       "      <th>St</th>\n",
       "      <th>Num_services</th>\n",
       "      <th>EdLevlSv</th>\n",
       "      <th>HousEdSv</th>\n",
       "      <th>AcSuppSv</th>\n",
       "      <th>BudgetSv</th>\n",
       "      <th>CareerSv</th>\n",
       "    </tr>\n",
       "  </thead>\n",
       "  <tbody>\n",
       "    <tr>\n",
       "      <th>7328</th>\n",
       "      <td>0</td>\n",
       "      <td>2</td>\n",
       "      <td>6</td>\n",
       "      <td>1.0</td>\n",
       "      <td>0.0</td>\n",
       "      <td>0.0</td>\n",
       "      <td>0.0</td>\n",
       "    </tr>\n",
       "    <tr>\n",
       "      <th>7329</th>\n",
       "      <td>0</td>\n",
       "      <td>1</td>\n",
       "      <td>6</td>\n",
       "      <td>0.0</td>\n",
       "      <td>0.0</td>\n",
       "      <td>0.0</td>\n",
       "      <td>0.0</td>\n",
       "    </tr>\n",
       "    <tr>\n",
       "      <th>7330</th>\n",
       "      <td>0</td>\n",
       "      <td>3</td>\n",
       "      <td>6</td>\n",
       "      <td>0.0</td>\n",
       "      <td>0.0</td>\n",
       "      <td>0.0</td>\n",
       "      <td>0.0</td>\n",
       "    </tr>\n",
       "    <tr>\n",
       "      <th>7331</th>\n",
       "      <td>0</td>\n",
       "      <td>1</td>\n",
       "      <td>6</td>\n",
       "      <td>0.0</td>\n",
       "      <td>0.0</td>\n",
       "      <td>0.0</td>\n",
       "      <td>0.0</td>\n",
       "    </tr>\n",
       "    <tr>\n",
       "      <th>7332</th>\n",
       "      <td>0</td>\n",
       "      <td>2</td>\n",
       "      <td>6</td>\n",
       "      <td>0.0</td>\n",
       "      <td>0.0</td>\n",
       "      <td>0.0</td>\n",
       "      <td>0.0</td>\n",
       "    </tr>\n",
       "  </tbody>\n",
       "</table>\n",
       "</div>"
      ],
      "text/plain": [
       "      St  Num_services  EdLevlSv  HousEdSv  AcSuppSv  BudgetSv  CareerSv\n",
       "7328   0             2         6       1.0       0.0       0.0       0.0\n",
       "7329   0             1         6       0.0       0.0       0.0       0.0\n",
       "7330   0             3         6       0.0       0.0       0.0       0.0\n",
       "7331   0             1         6       0.0       0.0       0.0       0.0\n",
       "7332   0             2         6       0.0       0.0       0.0       0.0"
      ]
     },
     "execution_count": 46,
     "metadata": {},
     "output_type": "execute_result"
    }
   ],
   "source": [
    "X.head()"
   ]
  },
  {
   "cell_type": "code",
   "execution_count": 47,
   "metadata": {
    "collapsed": false
   },
   "outputs": [
    {
     "data": {
      "text/plain": [
       "7328     0\n",
       "7329     0\n",
       "7330     1\n",
       "7331     0\n",
       "7332     0\n",
       "7333     1\n",
       "7334     1\n",
       "7335     0\n",
       "7336     0\n",
       "7337     1\n",
       "7338     1\n",
       "7339     0\n",
       "7340     0\n",
       "7341     1\n",
       "7342     1\n",
       "7343     0\n",
       "7344     0\n",
       "7345     0\n",
       "7346     1\n",
       "7347     0\n",
       "7348     0\n",
       "7349     1\n",
       "7350     0\n",
       "7351     0\n",
       "7352     0\n",
       "7353     1\n",
       "7354     0\n",
       "7355     0\n",
       "7356     0\n",
       "7357     1\n",
       "        ..\n",
       "14626    0\n",
       "14627    0\n",
       "14628    0\n",
       "14629    0\n",
       "14630    0\n",
       "14631    0\n",
       "14632    0\n",
       "14633    0\n",
       "14634    1\n",
       "14635    0\n",
       "14636    1\n",
       "14637    1\n",
       "14638    0\n",
       "14639    0\n",
       "14640    0\n",
       "14641    0\n",
       "14642    0\n",
       "14643    0\n",
       "14644    1\n",
       "14645    0\n",
       "14646    0\n",
       "14647    0\n",
       "14648    0\n",
       "14649    0\n",
       "14650    0\n",
       "14651    0\n",
       "14652    0\n",
       "14653    0\n",
       "14654    0\n",
       "14655    1\n",
       "Name: Success, dtype: int64"
      ]
     },
     "execution_count": 47,
     "metadata": {},
     "output_type": "execute_result"
    }
   ],
   "source": [
    "y"
   ]
  },
  {
   "cell_type": "code",
   "execution_count": 48,
   "metadata": {
    "collapsed": false
   },
   "outputs": [
    {
     "data": {
      "text/plain": [
       "DecisionTreeClassifier(class_weight=None, criterion='gini', max_depth=3,\n",
       "            max_features=None, max_leaf_nodes=None, min_samples_leaf=1,\n",
       "            min_samples_split=2, min_weight_fraction_leaf=0.0,\n",
       "            presort=False, random_state=None, splitter='best')"
      ]
     },
     "execution_count": 48,
     "metadata": {},
     "output_type": "execute_result"
    }
   ],
   "source": [
    "from sklearn.cross_validation import cross_val_score, StratifiedKFold\n",
    "from sklearn.tree import DecisionTreeClassifier\n",
    "\n",
    "dt = DecisionTreeClassifier(max_depth = 3, min_samples_split = 2)\n",
    "\n",
    "dt.fit(X, y)"
   ]
  },
  {
   "cell_type": "code",
   "execution_count": 49,
   "metadata": {
    "collapsed": false
   },
   "outputs": [
    {
     "data": {
      "text/plain": [
       "0    4830\n",
       "1    2498\n",
       "Name: Success, dtype: int64"
      ]
     },
     "execution_count": 49,
     "metadata": {},
     "output_type": "execute_result"
    }
   ],
   "source": [
    "pd.Series(y).value_counts()\n"
   ]
  },
  {
   "cell_type": "code",
   "execution_count": 50,
   "metadata": {
    "collapsed": false
   },
   "outputs": [
    {
     "data": {
      "text/html": [
       "<div>\n",
       "<table border=\"1\" class=\"dataframe\">\n",
       "  <thead>\n",
       "    <tr style=\"text-align: right;\">\n",
       "      <th></th>\n",
       "      <th>importance</th>\n",
       "    </tr>\n",
       "  </thead>\n",
       "  <tbody>\n",
       "    <tr>\n",
       "      <th>St</th>\n",
       "      <td>0.952044</td>\n",
       "    </tr>\n",
       "    <tr>\n",
       "      <th>EdLevlSv</th>\n",
       "      <td>0.047956</td>\n",
       "    </tr>\n",
       "    <tr>\n",
       "      <th>Num_services</th>\n",
       "      <td>0.000000</td>\n",
       "    </tr>\n",
       "    <tr>\n",
       "      <th>HousEdSv</th>\n",
       "      <td>0.000000</td>\n",
       "    </tr>\n",
       "    <tr>\n",
       "      <th>AcSuppSv</th>\n",
       "      <td>0.000000</td>\n",
       "    </tr>\n",
       "  </tbody>\n",
       "</table>\n",
       "</div>"
      ],
      "text/plain": [
       "              importance\n",
       "St              0.952044\n",
       "EdLevlSv        0.047956\n",
       "Num_services    0.000000\n",
       "HousEdSv        0.000000\n",
       "AcSuppSv        0.000000"
      ]
     },
     "execution_count": 50,
     "metadata": {},
     "output_type": "execute_result"
    }
   ],
   "source": [
    "feature_importances = pd.DataFrame(dt.feature_importances_,\n",
    "                                   index = X.columns,\n",
    "                                    columns=['importance']).sort_values('importance',\n",
    "                                                                        ascending=False)\n",
    "feature_importances.head()"
   ]
  },
  {
   "cell_type": "code",
   "execution_count": 51,
   "metadata": {
    "collapsed": false
   },
   "outputs": [
    {
     "data": {
      "text/plain": [
       "RandomForestClassifier(bootstrap=True, class_weight='balanced',\n",
       "            criterion='gini', max_depth=None, max_features='auto',\n",
       "            max_leaf_nodes=None, min_samples_leaf=1, min_samples_split=2,\n",
       "            min_weight_fraction_leaf=0.0, n_estimators=10, n_jobs=-1,\n",
       "            oob_score=False, random_state=None, verbose=0,\n",
       "            warm_start=False)"
      ]
     },
     "execution_count": 51,
     "metadata": {},
     "output_type": "execute_result"
    }
   ],
   "source": [
    "from sklearn.ensemble import RandomForestClassifier, ExtraTreesClassifier\n",
    "\n",
    "rf = RandomForestClassifier(class_weight='balanced', n_jobs=-1)\n",
    "et = ExtraTreesClassifier(class_weight='balanced', n_jobs=-1)\n",
    "\n",
    "rf.fit(X, y)"
   ]
  },
  {
   "cell_type": "code",
   "execution_count": 52,
   "metadata": {
    "collapsed": false
   },
   "outputs": [
    {
     "data": {
      "text/plain": [
       "(-1, 7)"
      ]
     },
     "execution_count": 52,
     "metadata": {},
     "output_type": "execute_result"
    },
    {
     "data": {
      "image/png": "[encoded data removed]",
      "text/plain": [
       "<matplotlib.figure.Figure at 0x14c9a2590>"
      ]
     },
     "metadata": {},
     "output_type": "display_data"
    }
   ],
   "source": [
    "all(rf.feature_importances_ == np.mean([dt.feature_importances_ for tree in rf.estimators_], axis=0))\n",
    "\n",
    "importances = rf.feature_importances_\n",
    "# calculate the standard deviation of feature importances by looping over the trees in the random forest\n",
    "# \n",
    "std = np.std([dt.feature_importances_ for tree in rf.estimators_],\n",
    "             axis=0)\n",
    "\n",
    "indices = np.argsort(importances)[::-1]\n",
    "feature_names = X.columns\n",
    "\n",
    "# Plot the feature importances of the forest\n",
    "plt.figure(figsize=(10,10))\n",
    "plt.title(\"Feature importances\")\n",
    "plt.bar(range(X.shape[1]), importances[indices],\n",
    "       color=\"r\", yerr=std[indices], align=\"center\")\n",
    "plt.xticks(range(X.shape[1]), feature_names[indices], rotation=90)\n",
    "plt.xlim([-1, X.shape[1]])"
   ]
  },
  {
   "cell_type": "code",
   "execution_count": 53,
   "metadata": {
    "collapsed": false
   },
   "outputs": [
    {
     "data": {
      "text/html": [
       "<div>\n",
       "<table border=\"1\" class=\"dataframe\">\n",
       "  <thead>\n",
       "    <tr style=\"text-align: right;\">\n",
       "      <th></th>\n",
       "      <th>dt_importance</th>\n",
       "      <th>rf_importance</th>\n",
       "      <th>et_importance</th>\n",
       "    </tr>\n",
       "  </thead>\n",
       "  <tbody>\n",
       "    <tr>\n",
       "      <th>St</th>\n",
       "      <td>0.257773</td>\n",
       "      <td>0.435035</td>\n",
       "      <td>0.489035</td>\n",
       "    </tr>\n",
       "    <tr>\n",
       "      <th>Num_services</th>\n",
       "      <td>0.274701</td>\n",
       "      <td>0.246370</td>\n",
       "      <td>0.196627</td>\n",
       "    </tr>\n",
       "    <tr>\n",
       "      <th>EdLevlSv</th>\n",
       "      <td>0.171801</td>\n",
       "      <td>0.179621</td>\n",
       "      <td>0.222562</td>\n",
       "    </tr>\n",
       "    <tr>\n",
       "      <th>AcSuppSv</th>\n",
       "      <td>0.090100</td>\n",
       "      <td>0.039793</td>\n",
       "      <td>0.023093</td>\n",
       "    </tr>\n",
       "    <tr>\n",
       "      <th>BudgetSv</th>\n",
       "      <td>0.066847</td>\n",
       "      <td>0.033647</td>\n",
       "      <td>0.024129</td>\n",
       "    </tr>\n",
       "    <tr>\n",
       "      <th>HousEdSv</th>\n",
       "      <td>0.065863</td>\n",
       "      <td>0.033552</td>\n",
       "      <td>0.019708</td>\n",
       "    </tr>\n",
       "    <tr>\n",
       "      <th>CareerSv</th>\n",
       "      <td>0.072914</td>\n",
       "      <td>0.031983</td>\n",
       "      <td>0.024846</td>\n",
       "    </tr>\n",
       "  </tbody>\n",
       "</table>\n",
       "</div>"
      ],
      "text/plain": [
       "              dt_importance  rf_importance  et_importance\n",
       "St                 0.257773       0.435035       0.489035\n",
       "Num_services       0.274701       0.246370       0.196627\n",
       "EdLevlSv           0.171801       0.179621       0.222562\n",
       "AcSuppSv           0.090100       0.039793       0.023093\n",
       "BudgetSv           0.066847       0.033647       0.024129\n",
       "HousEdSv           0.065863       0.033552       0.019708\n",
       "CareerSv           0.072914       0.031983       0.024846"
      ]
     },
     "execution_count": 53,
     "metadata": {},
     "output_type": "execute_result"
    },
    {
     "data": {
      "image/png": "[encoded data removed]",
      "text/plain": [
       "<matplotlib.figure.Figure at 0x12df97bd0>"
      ]
     },
     "metadata": {},
     "output_type": "display_data"
    }
   ],
   "source": [
    "dt = DecisionTreeClassifier()\n",
    "dt.fit(X, y)\n",
    "\n",
    "et.fit(X, y)\n",
    "\n",
    "importances = pd.DataFrame(zip(dt.feature_importances_,\n",
    "                               rf.feature_importances_,\n",
    "                               et.feature_importances_),\n",
    "                           index=X.columns,\n",
    "                           columns=['dt_importance',\n",
    "                                    'rf_importance',\n",
    "                                    'et_importance']).sort_values('rf_importance',\n",
    "                                                                   ascending=False)\n",
    "\n",
    "                           \n",
    "importances.plot(kind='bar', figsize=(14,14))\n",
    "importances.head(10)"
   ]
  },
  {
   "cell_type": "code",
   "execution_count": 54,
   "metadata": {
    "collapsed": false
   },
   "outputs": [
    {
     "data": {
      "text/html": [
       "<div>\n",
       "<table border=\"1\" class=\"dataframe\">\n",
       "  <thead>\n",
       "    <tr style=\"text-align: right;\">\n",
       "      <th></th>\n",
       "      <th>dt_importance</th>\n",
       "      <th>rf_importance</th>\n",
       "      <th>et_importance</th>\n",
       "    </tr>\n",
       "  </thead>\n",
       "  <tbody>\n",
       "    <tr>\n",
       "      <th>Num_services</th>\n",
       "      <td>0.274701</td>\n",
       "      <td>0.246370</td>\n",
       "      <td>0.196627</td>\n",
       "    </tr>\n",
       "    <tr>\n",
       "      <th>St</th>\n",
       "      <td>0.257773</td>\n",
       "      <td>0.435035</td>\n",
       "      <td>0.489035</td>\n",
       "    </tr>\n",
       "    <tr>\n",
       "      <th>EdLevlSv</th>\n",
       "      <td>0.171801</td>\n",
       "      <td>0.179621</td>\n",
       "      <td>0.222562</td>\n",
       "    </tr>\n",
       "    <tr>\n",
       "      <th>AcSuppSv</th>\n",
       "      <td>0.090100</td>\n",
       "      <td>0.039793</td>\n",
       "      <td>0.023093</td>\n",
       "    </tr>\n",
       "    <tr>\n",
       "      <th>CareerSv</th>\n",
       "      <td>0.072914</td>\n",
       "      <td>0.031983</td>\n",
       "      <td>0.024846</td>\n",
       "    </tr>\n",
       "    <tr>\n",
       "      <th>BudgetSv</th>\n",
       "      <td>0.066847</td>\n",
       "      <td>0.033647</td>\n",
       "      <td>0.024129</td>\n",
       "    </tr>\n",
       "    <tr>\n",
       "      <th>HousEdSv</th>\n",
       "      <td>0.065863</td>\n",
       "      <td>0.033552</td>\n",
       "      <td>0.019708</td>\n",
       "    </tr>\n",
       "  </tbody>\n",
       "</table>\n",
       "</div>"
      ],
      "text/plain": [
       "              dt_importance  rf_importance  et_importance\n",
       "Num_services       0.274701       0.246370       0.196627\n",
       "St                 0.257773       0.435035       0.489035\n",
       "EdLevlSv           0.171801       0.179621       0.222562\n",
       "AcSuppSv           0.090100       0.039793       0.023093\n",
       "CareerSv           0.072914       0.031983       0.024846\n",
       "BudgetSv           0.066847       0.033647       0.024129\n",
       "HousEdSv           0.065863       0.033552       0.019708"
      ]
     },
     "execution_count": 54,
     "metadata": {},
     "output_type": "execute_result"
    }
   ],
   "source": [
    "importances_dt = pd.DataFrame(zip(dt.feature_importances_,\n",
    "                               rf.feature_importances_,\n",
    "                               et.feature_importances_),\n",
    "                           index=X.columns,\n",
    "                           columns=['dt_importance',\n",
    "                                    'rf_importance',\n",
    "                                    'et_importance']).sort_values('dt_importance',\n",
    "                                                                   ascending=False)\n",
    "\n",
    "                           \n",
    "importances_dt.head(10)"
   ]
  },
  {
   "cell_type": "code",
   "execution_count": 55,
   "metadata": {
    "collapsed": false
   },
   "outputs": [
    {
     "data": {
      "text/html": [
       "<div>\n",
       "<table border=\"1\" class=\"dataframe\">\n",
       "  <thead>\n",
       "    <tr style=\"text-align: right;\">\n",
       "      <th></th>\n",
       "      <th>dt_importance</th>\n",
       "      <th>rf_importance</th>\n",
       "      <th>et_importance</th>\n",
       "    </tr>\n",
       "  </thead>\n",
       "  <tbody>\n",
       "    <tr>\n",
       "      <th>St</th>\n",
       "      <td>0.257773</td>\n",
       "      <td>0.435035</td>\n",
       "      <td>0.489035</td>\n",
       "    </tr>\n",
       "    <tr>\n",
       "      <th>EdLevlSv</th>\n",
       "      <td>0.171801</td>\n",
       "      <td>0.179621</td>\n",
       "      <td>0.222562</td>\n",
       "    </tr>\n",
       "    <tr>\n",
       "      <th>Num_services</th>\n",
       "      <td>0.274701</td>\n",
       "      <td>0.246370</td>\n",
       "      <td>0.196627</td>\n",
       "    </tr>\n",
       "    <tr>\n",
       "      <th>CareerSv</th>\n",
       "      <td>0.072914</td>\n",
       "      <td>0.031983</td>\n",
       "      <td>0.024846</td>\n",
       "    </tr>\n",
       "    <tr>\n",
       "      <th>BudgetSv</th>\n",
       "      <td>0.066847</td>\n",
       "      <td>0.033647</td>\n",
       "      <td>0.024129</td>\n",
       "    </tr>\n",
       "    <tr>\n",
       "      <th>AcSuppSv</th>\n",
       "      <td>0.090100</td>\n",
       "      <td>0.039793</td>\n",
       "      <td>0.023093</td>\n",
       "    </tr>\n",
       "    <tr>\n",
       "      <th>HousEdSv</th>\n",
       "      <td>0.065863</td>\n",
       "      <td>0.033552</td>\n",
       "      <td>0.019708</td>\n",
       "    </tr>\n",
       "  </tbody>\n",
       "</table>\n",
       "</div>"
      ],
      "text/plain": [
       "              dt_importance  rf_importance  et_importance\n",
       "St                 0.257773       0.435035       0.489035\n",
       "EdLevlSv           0.171801       0.179621       0.222562\n",
       "Num_services       0.274701       0.246370       0.196627\n",
       "CareerSv           0.072914       0.031983       0.024846\n",
       "BudgetSv           0.066847       0.033647       0.024129\n",
       "AcSuppSv           0.090100       0.039793       0.023093\n",
       "HousEdSv           0.065863       0.033552       0.019708"
      ]
     },
     "execution_count": 55,
     "metadata": {},
     "output_type": "execute_result"
    }
   ],
   "source": [
    "importances_et = pd.DataFrame(zip(dt.feature_importances_,\n",
    "                               rf.feature_importances_,\n",
    "                               et.feature_importances_),\n",
    "                           index=X.columns,\n",
    "                           columns=['dt_importance',\n",
    "                                    'rf_importance',\n",
    "                                    'et_importance']).sort_values('et_importance',\n",
    "                                                                   ascending=False)\n",
    "\n",
    "                           \n",
    "importances_et.head(10)"
   ]
  },
  {
   "cell_type": "code",
   "execution_count": null,
   "metadata": {
    "collapsed": true
   },
   "outputs": [],
   "source": []
  },
  {
   "cell_type": "code",
   "execution_count": null,
   "metadata": {
    "collapsed": true
   },
   "outputs": [],
   "source": []
  },
  {
   "cell_type": "code",
   "execution_count": null,
   "metadata": {
    "collapsed": true
   },
   "outputs": [],
   "source": []
  },
  {
   "cell_type": "code",
   "execution_count": null,
   "metadata": {
    "collapsed": true
   },
   "outputs": [],
   "source": []
  },
  {
   "cell_type": "code",
   "execution_count": null,
   "metadata": {
    "collapsed": true
   },
   "outputs": [],
   "source": []
  },
  {
   "cell_type": "code",
   "execution_count": null,
   "metadata": {
    "collapsed": true
   },
   "outputs": [],
   "source": []
  },
  {
   "cell_type": "code",
   "execution_count": null,
   "metadata": {
    "collapsed": true
   },
   "outputs": [],
   "source": []
  },
  {
   "cell_type": "code",
   "execution_count": null,
   "metadata": {
    "collapsed": true
   },
   "outputs": [],
   "source": []
  },
  {
   "cell_type": "code",
   "execution_count": null,
   "metadata": {
    "collapsed": true
   },
   "outputs": [],
   "source": []
  },
  {
   "cell_type": "code",
   "execution_count": null,
   "metadata": {
    "collapsed": true
   },
   "outputs": [],
   "source": []
  },
  {
   "cell_type": "code",
   "execution_count": null,
   "metadata": {
    "collapsed": true
   },
   "outputs": [],
   "source": []
  },
  {
   "cell_type": "markdown",
   "metadata": {},
   "source": [
    "# The following not applicable.....in current state of X.......\n",
    "### Now with X2"
   ]
  },
  {
   "cell_type": "code",
   "execution_count": 67,
   "metadata": {
    "collapsed": false
   },
   "outputs": [
    {
     "data": {
      "text/plain": [
       "DecisionTreeClassifier(class_weight=None, criterion='gini', max_depth=3,\n",
       "            max_features=None, max_leaf_nodes=None, min_samples_leaf=1,\n",
       "            min_samples_split=2, min_weight_fraction_leaf=0.0,\n",
       "            presort=False, random_state=None, splitter='best')"
      ]
     },
     "execution_count": 67,
     "metadata": {},
     "output_type": "execute_result"
    }
   ],
   "source": [
    "from sklearn.cross_validation import cross_val_score, StratifiedKFold\n",
    "from sklearn.tree import DecisionTreeClassifier\n",
    "\n",
    "dt = DecisionTreeClassifier(max_depth = 3, min_samples_split = 2)\n",
    "\n",
    "dt.fit(X2, y)"
   ]
  },
  {
   "cell_type": "code",
   "execution_count": 68,
   "metadata": {
    "collapsed": false
   },
   "outputs": [
    {
     "data": {
      "text/plain": [
       "0    4830\n",
       "1    2498\n",
       "Name: Success, dtype: int64"
      ]
     },
     "execution_count": 68,
     "metadata": {},
     "output_type": "execute_result"
    }
   ],
   "source": [
    "pd.Series(y).value_counts()\n"
   ]
  },
  {
   "cell_type": "code",
   "execution_count": 69,
   "metadata": {
    "collapsed": false
   },
   "outputs": [
    {
     "data": {
      "text/html": [
       "<div>\n",
       "<table border=\"1\" class=\"dataframe\">\n",
       "  <thead>\n",
       "    <tr style=\"text-align: right;\">\n",
       "      <th></th>\n",
       "      <th>importance</th>\n",
       "    </tr>\n",
       "  </thead>\n",
       "  <tbody>\n",
       "    <tr>\n",
       "      <th>St</th>\n",
       "      <td>0.562136</td>\n",
       "    </tr>\n",
       "    <tr>\n",
       "      <th>DelinqntSv</th>\n",
       "      <td>0.336571</td>\n",
       "    </tr>\n",
       "    <tr>\n",
       "      <th>TribeSv</th>\n",
       "      <td>0.050387</td>\n",
       "    </tr>\n",
       "    <tr>\n",
       "      <th>Race</th>\n",
       "      <td>0.041551</td>\n",
       "    </tr>\n",
       "    <tr>\n",
       "      <th>RaceEthn</th>\n",
       "      <td>0.009354</td>\n",
       "    </tr>\n",
       "  </tbody>\n",
       "</table>\n",
       "</div>"
      ],
      "text/plain": [
       "            importance\n",
       "St            0.562136\n",
       "DelinqntSv    0.336571\n",
       "TribeSv       0.050387\n",
       "Race          0.041551\n",
       "RaceEthn      0.009354"
      ]
     },
     "execution_count": 69,
     "metadata": {},
     "output_type": "execute_result"
    }
   ],
   "source": [
    "feature_importances = pd.DataFrame(dt.feature_importances_,\n",
    "                                   index = X2.columns,\n",
    "                                    columns=['importance']).sort_values('importance',\n",
    "                                                                        ascending=False)\n",
    "feature_importances.head()"
   ]
  },
  {
   "cell_type": "code",
   "execution_count": 70,
   "metadata": {
    "collapsed": false
   },
   "outputs": [
    {
     "data": {
      "text/plain": [
       "RandomForestClassifier(bootstrap=True, class_weight='balanced',\n",
       "            criterion='gini', max_depth=None, max_features='auto',\n",
       "            max_leaf_nodes=None, min_samples_leaf=1, min_samples_split=2,\n",
       "            min_weight_fraction_leaf=0.0, n_estimators=10, n_jobs=-1,\n",
       "            oob_score=False, random_state=None, verbose=0,\n",
       "            warm_start=False)"
      ]
     },
     "execution_count": 70,
     "metadata": {},
     "output_type": "execute_result"
    }
   ],
   "source": [
    "from sklearn.ensemble import RandomForestClassifier, ExtraTreesClassifier\n",
    "\n",
    "rf = RandomForestClassifier(class_weight='balanced', n_jobs=-1)\n",
    "et = ExtraTreesClassifier(class_weight='balanced', n_jobs=-1)\n",
    "\n",
    "rf.fit(X2, y)"
   ]
  },
  {
   "cell_type": "code",
   "execution_count": 71,
   "metadata": {
    "collapsed": false
   },
   "outputs": [
    {
     "data": {
      "text/plain": [
       "(-1, 10)"
      ]
     },
     "execution_count": 71,
     "metadata": {},
     "output_type": "execute_result"
    },
    {
     "data": {
      "image/png": "[encoded data removed]",
      "text/plain": [
       "<matplotlib.figure.Figure at 0x13463fb90>"
      ]
     },
     "metadata": {},
     "output_type": "display_data"
    }
   ],
   "source": [
    "all(rf.feature_importances_ == np.mean([dt.feature_importances_ for tree in rf.estimators_], axis=0))\n",
    "\n",
    "importances = rf.feature_importances_\n",
    "# calculate the standard deviation of feature importances by looping over the trees in the random forest\n",
    "# \n",
    "std = np.std([dt.feature_importances_ for tree in rf.estimators_],\n",
    "             axis=0)\n",
    "\n",
    "indices = np.argsort(importances)[::-1]\n",
    "feature_names = X2.columns\n",
    "\n",
    "# Plot the feature importances of the forest\n",
    "plt.figure(figsize=(10,10))\n",
    "plt.title(\"Feature importances\")\n",
    "plt.bar(range(X2.shape[1]), importances[indices],\n",
    "       color=\"r\", yerr=std[indices], align=\"center\")\n",
    "plt.xticks(range(X2.shape[1]), feature_names[indices], rotation=90)\n",
    "plt.xlim([-1, X2.shape[1]])"
   ]
  },
  {
   "cell_type": "code",
   "execution_count": 72,
   "metadata": {
    "collapsed": false
   },
   "outputs": [
    {
     "data": {
      "text/html": [
       "<div>\n",
       "<table border=\"1\" class=\"dataframe\">\n",
       "  <thead>\n",
       "    <tr style=\"text-align: right;\">\n",
       "      <th></th>\n",
       "      <th>dt_importance</th>\n",
       "      <th>rf_importance</th>\n",
       "      <th>et_importance</th>\n",
       "    </tr>\n",
       "  </thead>\n",
       "  <tbody>\n",
       "    <tr>\n",
       "      <th>St</th>\n",
       "      <td>0.324949</td>\n",
       "      <td>0.440175</td>\n",
       "      <td>0.507566</td>\n",
       "    </tr>\n",
       "    <tr>\n",
       "      <th>EdLevlSv</th>\n",
       "      <td>0.191223</td>\n",
       "      <td>0.234422</td>\n",
       "      <td>0.235136</td>\n",
       "    </tr>\n",
       "    <tr>\n",
       "      <th>RaceEthn</th>\n",
       "      <td>0.073021</td>\n",
       "      <td>0.059622</td>\n",
       "      <td>0.045108</td>\n",
       "    </tr>\n",
       "    <tr>\n",
       "      <th>AgeMP</th>\n",
       "      <td>0.127478</td>\n",
       "      <td>0.055949</td>\n",
       "      <td>0.029772</td>\n",
       "    </tr>\n",
       "    <tr>\n",
       "      <th>SpecEdSv</th>\n",
       "      <td>0.081283</td>\n",
       "      <td>0.053707</td>\n",
       "      <td>0.043633</td>\n",
       "    </tr>\n",
       "    <tr>\n",
       "      <th>DelinqntSv</th>\n",
       "      <td>0.049586</td>\n",
       "      <td>0.049395</td>\n",
       "      <td>0.064699</td>\n",
       "    </tr>\n",
       "    <tr>\n",
       "      <th>Sex</th>\n",
       "      <td>0.062664</td>\n",
       "      <td>0.047570</td>\n",
       "      <td>0.018845</td>\n",
       "    </tr>\n",
       "    <tr>\n",
       "      <th>Race</th>\n",
       "      <td>0.061703</td>\n",
       "      <td>0.046703</td>\n",
       "      <td>0.042521</td>\n",
       "    </tr>\n",
       "    <tr>\n",
       "      <th>TribeSv</th>\n",
       "      <td>0.028094</td>\n",
       "      <td>0.012456</td>\n",
       "      <td>0.012719</td>\n",
       "    </tr>\n",
       "    <tr>\n",
       "      <th>Wave</th>\n",
       "      <td>0.000000</td>\n",
       "      <td>0.000000</td>\n",
       "      <td>0.000000</td>\n",
       "    </tr>\n",
       "  </tbody>\n",
       "</table>\n",
       "</div>"
      ],
      "text/plain": [
       "            dt_importance  rf_importance  et_importance\n",
       "St               0.324949       0.440175       0.507566\n",
       "EdLevlSv         0.191223       0.234422       0.235136\n",
       "RaceEthn         0.073021       0.059622       0.045108\n",
       "AgeMP            0.127478       0.055949       0.029772\n",
       "SpecEdSv         0.081283       0.053707       0.043633\n",
       "DelinqntSv       0.049586       0.049395       0.064699\n",
       "Sex              0.062664       0.047570       0.018845\n",
       "Race             0.061703       0.046703       0.042521\n",
       "TribeSv          0.028094       0.012456       0.012719\n",
       "Wave             0.000000       0.000000       0.000000"
      ]
     },
     "execution_count": 72,
     "metadata": {},
     "output_type": "execute_result"
    },
    {
     "data": {
      "image/png": "[encoded data removed]",
      "text/plain": [
       "<matplotlib.figure.Figure at 0x13396f810>"
      ]
     },
     "metadata": {},
     "output_type": "display_data"
    }
   ],
   "source": [
    "dt = DecisionTreeClassifier()\n",
    "dt.fit(X2, y)\n",
    "\n",
    "et.fit(X2, y)\n",
    "\n",
    "importances = pd.DataFrame(zip(dt.feature_importances_,\n",
    "                               rf.feature_importances_,\n",
    "                               et.feature_importances_),\n",
    "                           index=X2.columns,\n",
    "                           columns=['dt_importance',\n",
    "                                    'rf_importance',\n",
    "                                    'et_importance']).sort_values('rf_importance',\n",
    "                                                                   ascending=False)\n",
    "\n",
    "                           \n",
    "importances.plot(kind='bar', figsize=(14,14))\n",
    "importances.head(10)"
   ]
  },
  {
   "cell_type": "code",
   "execution_count": null,
   "metadata": {
    "collapsed": true
   },
   "outputs": [],
   "source": []
  }
 ],
 "metadata": {
  "kernelspec": {
   "display_name": "Python 2",
   "language": "python",
   "name": "python2"
  },
  "language_info": {
   "codemirror_mode": {
    "name": "ipython",
    "version": 2
   },
   "file_extension": ".py",
   "mimetype": "text/x-python",
   "name": "python",
   "nbconvert_exporter": "python",
   "pygments_lexer": "ipython2",
   "version": "2.7.9"
  }
 },
 "nbformat": 4,
 "nbformat_minor": 0
}
