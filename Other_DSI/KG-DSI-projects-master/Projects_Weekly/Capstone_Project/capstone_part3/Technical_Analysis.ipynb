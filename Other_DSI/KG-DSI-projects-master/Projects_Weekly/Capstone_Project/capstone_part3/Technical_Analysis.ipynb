{
 "cells": [
  {
   "cell_type": "code",
   "execution_count": 8,
   "metadata": {
    "collapsed": true
   },
   "outputs": [],
   "source": [
    "%matplotlib inline\n",
    "import numpy as np\n",
    "import matplotlib.pyplot as plt\n",
    "from scipy import stats\n",
    "import pandas as pd\n",
    "import psycopg2 as psy\n",
    "import pandas.io.sql as psql\n",
    "\n",
    "# use seaborn plotting defaults\n",
    "import seaborn as sns; sns.set()\n"
   ]
  },
  {
   "cell_type": "code",
   "execution_count": 9,
   "metadata": {
    "collapsed": false
   },
   "outputs": [],
   "source": [
    "# Load Dataset for cohort_1\n",
    "\n",
    "connection = psy.connect(\"dbname=nytd_clean_data user=cguy\")\n",
    "\n",
    "cohort_1 = psql.read_sql(\"SELECT * FROM cohort_1\", connection)"
   ]
  },
  {
   "cell_type": "code",
   "execution_count": 10,
   "metadata": {
    "collapsed": false
   },
   "outputs": [
    {
     "data": {
      "text/html": [
       "<div>\n",
       "<table border=\"1\" class=\"dataframe\">\n",
       "  <thead>\n",
       "    <tr style=\"text-align: right;\">\n",
       "      <th></th>\n",
       "      <th>Wave</th>\n",
       "      <th>StFCID</th>\n",
       "      <th>RepDate_outcomes</th>\n",
       "      <th>OutcmRpt</th>\n",
       "      <th>OutcmDte</th>\n",
       "      <th>OutcmFCS</th>\n",
       "      <th>CurrFTE</th>\n",
       "      <th>CurrPTE</th>\n",
       "      <th>EmplySklls</th>\n",
       "      <th>SocSecrty</th>\n",
       "      <th>...</th>\n",
       "      <th>HlthEdSv</th>\n",
       "      <th>FamSuppSv</th>\n",
       "      <th>MentorSv</th>\n",
       "      <th>SILsv</th>\n",
       "      <th>RmBrdFASv</th>\n",
       "      <th>EducFinaSv</th>\n",
       "      <th>OthrFinaSv</th>\n",
       "      <th>Race</th>\n",
       "      <th>RaceEthn</th>\n",
       "      <th>AgeMP</th>\n",
       "    </tr>\n",
       "  </thead>\n",
       "  <tbody>\n",
       "    <tr>\n",
       "      <th>0</th>\n",
       "      <td>Wave 1: Age 17 Baseline Survey</td>\n",
       "      <td>AK450290395006</td>\n",
       "      <td>2011-03-01</td>\n",
       "      <td>Youth participated</td>\n",
       "      <td>2010-10-08</td>\n",
       "      <td>Yes, is in FC on Date</td>\n",
       "      <td>No</td>\n",
       "      <td>No</td>\n",
       "      <td>No</td>\n",
       "      <td>Yes, is receiving SSI or SSDI payments</td>\n",
       "      <td>...</td>\n",
       "      <td>0</td>\n",
       "      <td>0</td>\n",
       "      <td>0</td>\n",
       "      <td>0</td>\n",
       "      <td>0</td>\n",
       "      <td>0</td>\n",
       "      <td>1</td>\n",
       "      <td>1</td>\n",
       "      <td>1</td>\n",
       "      <td>17</td>\n",
       "    </tr>\n",
       "    <tr>\n",
       "      <th>1</th>\n",
       "      <td>Wave 1: Age 17 Baseline Survey</td>\n",
       "      <td>AK450290395006</td>\n",
       "      <td>2011-03-01</td>\n",
       "      <td>Youth participated</td>\n",
       "      <td>2010-10-08</td>\n",
       "      <td>Yes, is in FC on Date</td>\n",
       "      <td>No</td>\n",
       "      <td>No</td>\n",
       "      <td>No</td>\n",
       "      <td>Yes, is receiving SSI or SSDI payments</td>\n",
       "      <td>...</td>\n",
       "      <td>0</td>\n",
       "      <td>0</td>\n",
       "      <td>0</td>\n",
       "      <td>0</td>\n",
       "      <td>0</td>\n",
       "      <td>0</td>\n",
       "      <td>1</td>\n",
       "      <td>1</td>\n",
       "      <td>1</td>\n",
       "      <td>17</td>\n",
       "    </tr>\n",
       "    <tr>\n",
       "      <th>2</th>\n",
       "      <td>Wave 2: Age 19 Followup</td>\n",
       "      <td>AK450290395006</td>\n",
       "      <td>2013-03-01</td>\n",
       "      <td>Youth participated</td>\n",
       "      <td>2012-12-28</td>\n",
       "      <td>No, is not in FC on Date</td>\n",
       "      <td>No</td>\n",
       "      <td>No</td>\n",
       "      <td>No</td>\n",
       "      <td>No</td>\n",
       "      <td>...</td>\n",
       "      <td>0</td>\n",
       "      <td>0</td>\n",
       "      <td>0</td>\n",
       "      <td>0</td>\n",
       "      <td>0</td>\n",
       "      <td>0</td>\n",
       "      <td>1</td>\n",
       "      <td>1</td>\n",
       "      <td>1</td>\n",
       "      <td>17</td>\n",
       "    </tr>\n",
       "    <tr>\n",
       "      <th>3</th>\n",
       "      <td>Wave 2: Age 19 Followup</td>\n",
       "      <td>AK450290395006</td>\n",
       "      <td>2013-03-01</td>\n",
       "      <td>Youth participated</td>\n",
       "      <td>2012-12-28</td>\n",
       "      <td>No, is not in FC on Date</td>\n",
       "      <td>No</td>\n",
       "      <td>No</td>\n",
       "      <td>No</td>\n",
       "      <td>No</td>\n",
       "      <td>...</td>\n",
       "      <td>0</td>\n",
       "      <td>0</td>\n",
       "      <td>0</td>\n",
       "      <td>0</td>\n",
       "      <td>0</td>\n",
       "      <td>0</td>\n",
       "      <td>1</td>\n",
       "      <td>1</td>\n",
       "      <td>1</td>\n",
       "      <td>17</td>\n",
       "    </tr>\n",
       "    <tr>\n",
       "      <th>4</th>\n",
       "      <td>Wave 1: Age 17 Baseline Survey</td>\n",
       "      <td>AK450448396586</td>\n",
       "      <td>2011-03-01</td>\n",
       "      <td>Youth participated</td>\n",
       "      <td>2010-12-28</td>\n",
       "      <td>Yes, is in FC on Date</td>\n",
       "      <td>No</td>\n",
       "      <td>No</td>\n",
       "      <td>Yes</td>\n",
       "      <td>No</td>\n",
       "      <td>...</td>\n",
       "      <td>0</td>\n",
       "      <td>0</td>\n",
       "      <td>0</td>\n",
       "      <td>0</td>\n",
       "      <td>0</td>\n",
       "      <td>0</td>\n",
       "      <td>0</td>\n",
       "      <td>3</td>\n",
       "      <td>3</td>\n",
       "      <td>17</td>\n",
       "    </tr>\n",
       "  </tbody>\n",
       "</table>\n",
       "<p>5 rows × 71 columns</p>\n",
       "</div>"
      ],
      "text/plain": [
       "                             Wave          StFCID RepDate_outcomes  \\\n",
       "0  Wave 1: Age 17 Baseline Survey  AK450290395006       2011-03-01   \n",
       "1  Wave 1: Age 17 Baseline Survey  AK450290395006       2011-03-01   \n",
       "2         Wave 2: Age 19 Followup  AK450290395006       2013-03-01   \n",
       "3         Wave 2: Age 19 Followup  AK450290395006       2013-03-01   \n",
       "4  Wave 1: Age 17 Baseline Survey  AK450448396586       2011-03-01   \n",
       "\n",
       "             OutcmRpt   OutcmDte                  OutcmFCS CurrFTE CurrPTE  \\\n",
       "0  Youth participated 2010-10-08     Yes, is in FC on Date      No      No   \n",
       "1  Youth participated 2010-10-08     Yes, is in FC on Date      No      No   \n",
       "2  Youth participated 2012-12-28  No, is not in FC on Date      No      No   \n",
       "3  Youth participated 2012-12-28  No, is not in FC on Date      No      No   \n",
       "4  Youth participated 2010-12-28     Yes, is in FC on Date      No      No   \n",
       "\n",
       "  EmplySklls                               SocSecrty  ...  HlthEdSv FamSuppSv  \\\n",
       "0         No  Yes, is receiving SSI or SSDI payments  ...         0         0   \n",
       "1         No  Yes, is receiving SSI or SSDI payments  ...         0         0   \n",
       "2         No                                      No  ...         0         0   \n",
       "3         No                                      No  ...         0         0   \n",
       "4        Yes                                      No  ...         0         0   \n",
       "\n",
       "  MentorSv SILsv RmBrdFASv EducFinaSv OthrFinaSv Race RaceEthn AgeMP  \n",
       "0        0     0         0          0          1    1        1    17  \n",
       "1        0     0         0          0          1    1        1    17  \n",
       "2        0     0         0          0          1    1        1    17  \n",
       "3        0     0         0          0          1    1        1    17  \n",
       "4        0     0         0          0          0    3        3    17  \n",
       "\n",
       "[5 rows x 71 columns]"
      ]
     },
     "execution_count": 10,
     "metadata": {},
     "output_type": "execute_result"
    }
   ],
   "source": [
    "cohort_1 = cohort_1.drop('index',axis=1)\n",
    "cohort_1.head()"
   ]
  },
  {
   "cell_type": "code",
   "execution_count": 11,
   "metadata": {
    "collapsed": true
   },
   "outputs": [],
   "source": [
    "# Seperate dataframe into feature vars and target vars\n",
    "\n",
    "targets = cohort_1[['PubFoodAs','PubHousAs','OthrFinAs','HighEdCert','CurrFTE','CurrPTE','EmplySklls','SocSecrty',\\\n",
    "                     'EducAid','PubFinAs','CurrenRoll','CnctAdult','PrescripIn','Homeless','SubAbuse','Incarc',\\\n",
    "                     'Children','Marriage','Medicaid','OthrHlthIn','MedicalIn','MentlHlthIn', 'Wave']]\n",
    "\n",
    "# targets should only include outcomes data for Wave 2 population\n",
    "\n",
    "targets = targets[targets.Wave == \"Wave 2: Age 19 Followup\"]\n",
    "\n",
    "features = cohort_1[['ILNAsv','AcSuppSv','PSEdSuppSv','CareerSv','EmplyTrSv','BudgetSv','HousEdSv','HlthEdSv',\\\n",
    "                     'FamSuppSv','MentorSv','SILsv','RmBrdFASv','EducFinaSv','OthrFinaSv', 'Wave']]\n",
    "\n",
    "# features should only include foster youth from both \n",
    "# the baseline population (Wave 1) and the first FU survey pop. (Wave 2)...\n",
    "\n",
    "features = features[features.Wave == \"Wave 2: Age 19 Followup\"]\n",
    "\n"
   ]
  },
  {
   "cell_type": "code",
   "execution_count": 12,
   "metadata": {
    "collapsed": false
   },
   "outputs": [
    {
     "data": {
      "text/html": [
       "<div>\n",
       "<table border=\"1\" class=\"dataframe\">\n",
       "  <thead>\n",
       "    <tr style=\"text-align: right;\">\n",
       "      <th></th>\n",
       "      <th>PubFoodAs</th>\n",
       "      <th>PubHousAs</th>\n",
       "      <th>OthrFinAs</th>\n",
       "      <th>HighEdCert</th>\n",
       "      <th>CurrFTE</th>\n",
       "      <th>CurrPTE</th>\n",
       "      <th>EmplySklls</th>\n",
       "      <th>SocSecrty</th>\n",
       "      <th>EducAid</th>\n",
       "      <th>PubFinAs</th>\n",
       "      <th>...</th>\n",
       "      <th>PrescripIn</th>\n",
       "      <th>Homeless</th>\n",
       "      <th>SubAbuse</th>\n",
       "      <th>Incarc</th>\n",
       "      <th>Children</th>\n",
       "      <th>Marriage</th>\n",
       "      <th>Medicaid</th>\n",
       "      <th>OthrHlthIn</th>\n",
       "      <th>MedicalIn</th>\n",
       "      <th>MentlHlthIn</th>\n",
       "    </tr>\n",
       "  </thead>\n",
       "  <tbody>\n",
       "    <tr>\n",
       "      <th>2</th>\n",
       "      <td>Yes</td>\n",
       "      <td>No</td>\n",
       "      <td>No</td>\n",
       "      <td>None of the above</td>\n",
       "      <td>No</td>\n",
       "      <td>No</td>\n",
       "      <td>No</td>\n",
       "      <td>No</td>\n",
       "      <td>No</td>\n",
       "      <td>No</td>\n",
       "      <td>...</td>\n",
       "      <td>Not Applicable</td>\n",
       "      <td>Yes</td>\n",
       "      <td>No</td>\n",
       "      <td>No</td>\n",
       "      <td>No</td>\n",
       "      <td>Not Applicable</td>\n",
       "      <td>Yes</td>\n",
       "      <td>No</td>\n",
       "      <td>Not Applicable</td>\n",
       "      <td>Not Applicable</td>\n",
       "    </tr>\n",
       "    <tr>\n",
       "      <th>3</th>\n",
       "      <td>Yes</td>\n",
       "      <td>No</td>\n",
       "      <td>No</td>\n",
       "      <td>None of the above</td>\n",
       "      <td>No</td>\n",
       "      <td>No</td>\n",
       "      <td>No</td>\n",
       "      <td>No</td>\n",
       "      <td>No</td>\n",
       "      <td>No</td>\n",
       "      <td>...</td>\n",
       "      <td>Not Applicable</td>\n",
       "      <td>Yes</td>\n",
       "      <td>No</td>\n",
       "      <td>No</td>\n",
       "      <td>No</td>\n",
       "      <td>Not Applicable</td>\n",
       "      <td>Yes</td>\n",
       "      <td>No</td>\n",
       "      <td>Not Applicable</td>\n",
       "      <td>Not Applicable</td>\n",
       "    </tr>\n",
       "    <tr>\n",
       "      <th>6</th>\n",
       "      <td>No</td>\n",
       "      <td>No</td>\n",
       "      <td>No</td>\n",
       "      <td>High school diploma/GED</td>\n",
       "      <td>No</td>\n",
       "      <td>No</td>\n",
       "      <td>No</td>\n",
       "      <td>No</td>\n",
       "      <td>No</td>\n",
       "      <td>No</td>\n",
       "      <td>...</td>\n",
       "      <td>Not Applicable</td>\n",
       "      <td>No</td>\n",
       "      <td>No</td>\n",
       "      <td>No</td>\n",
       "      <td>No</td>\n",
       "      <td>Not Applicable</td>\n",
       "      <td>No</td>\n",
       "      <td>No</td>\n",
       "      <td>Not Applicable</td>\n",
       "      <td>Not Applicable</td>\n",
       "    </tr>\n",
       "    <tr>\n",
       "      <th>7</th>\n",
       "      <td>No</td>\n",
       "      <td>No</td>\n",
       "      <td>No</td>\n",
       "      <td>High school diploma/GED</td>\n",
       "      <td>No</td>\n",
       "      <td>No</td>\n",
       "      <td>No</td>\n",
       "      <td>No</td>\n",
       "      <td>No</td>\n",
       "      <td>No</td>\n",
       "      <td>...</td>\n",
       "      <td>Not Applicable</td>\n",
       "      <td>No</td>\n",
       "      <td>No</td>\n",
       "      <td>No</td>\n",
       "      <td>No</td>\n",
       "      <td>Not Applicable</td>\n",
       "      <td>No</td>\n",
       "      <td>No</td>\n",
       "      <td>Not Applicable</td>\n",
       "      <td>Not Applicable</td>\n",
       "    </tr>\n",
       "    <tr>\n",
       "      <th>12</th>\n",
       "      <td>Yes</td>\n",
       "      <td>No</td>\n",
       "      <td>No</td>\n",
       "      <td>High school diploma/GED</td>\n",
       "      <td>No</td>\n",
       "      <td>No</td>\n",
       "      <td>No</td>\n",
       "      <td>No</td>\n",
       "      <td>Yes</td>\n",
       "      <td>No</td>\n",
       "      <td>...</td>\n",
       "      <td>Not Applicable</td>\n",
       "      <td>No</td>\n",
       "      <td>Yes</td>\n",
       "      <td>Yes</td>\n",
       "      <td>No</td>\n",
       "      <td>Not Applicable</td>\n",
       "      <td>Yes</td>\n",
       "      <td>No</td>\n",
       "      <td>Not Applicable</td>\n",
       "      <td>Not Applicable</td>\n",
       "    </tr>\n",
       "  </tbody>\n",
       "</table>\n",
       "<p>5 rows × 22 columns</p>\n",
       "</div>"
      ],
      "text/plain": [
       "   PubFoodAs PubHousAs OthrFinAs               HighEdCert CurrFTE CurrPTE  \\\n",
       "2        Yes        No        No        None of the above      No      No   \n",
       "3        Yes        No        No        None of the above      No      No   \n",
       "6         No        No        No  High school diploma/GED      No      No   \n",
       "7         No        No        No  High school diploma/GED      No      No   \n",
       "12       Yes        No        No  High school diploma/GED      No      No   \n",
       "\n",
       "   EmplySklls SocSecrty EducAid PubFinAs       ...            PrescripIn  \\\n",
       "2          No        No      No       No       ...        Not Applicable   \n",
       "3          No        No      No       No       ...        Not Applicable   \n",
       "6          No        No      No       No       ...        Not Applicable   \n",
       "7          No        No      No       No       ...        Not Applicable   \n",
       "12         No        No     Yes       No       ...        Not Applicable   \n",
       "\n",
       "   Homeless SubAbuse Incarc Children        Marriage Medicaid OthrHlthIn  \\\n",
       "2       Yes       No     No       No  Not Applicable      Yes         No   \n",
       "3       Yes       No     No       No  Not Applicable      Yes         No   \n",
       "6        No       No     No       No  Not Applicable       No         No   \n",
       "7        No       No     No       No  Not Applicable       No         No   \n",
       "12       No      Yes    Yes       No  Not Applicable      Yes         No   \n",
       "\n",
       "         MedicalIn     MentlHlthIn  \n",
       "2   Not Applicable  Not Applicable  \n",
       "3   Not Applicable  Not Applicable  \n",
       "6   Not Applicable  Not Applicable  \n",
       "7   Not Applicable  Not Applicable  \n",
       "12  Not Applicable  Not Applicable  \n",
       "\n",
       "[5 rows x 22 columns]"
      ]
     },
     "execution_count": 12,
     "metadata": {},
     "output_type": "execute_result"
    }
   ],
   "source": [
    "targets = targets.drop('Wave', axis=1)\n",
    "targets.head()"
   ]
  },
  {
   "cell_type": "code",
   "execution_count": 15,
   "metadata": {
    "collapsed": false
   },
   "outputs": [
    {
     "data": {
      "text/html": [
       "<div>\n",
       "<table border=\"1\" class=\"dataframe\">\n",
       "  <thead>\n",
       "    <tr style=\"text-align: right;\">\n",
       "      <th></th>\n",
       "      <th>ILNAsv</th>\n",
       "      <th>AcSuppSv</th>\n",
       "      <th>PSEdSuppSv</th>\n",
       "      <th>CareerSv</th>\n",
       "      <th>EmplyTrSv</th>\n",
       "      <th>BudgetSv</th>\n",
       "      <th>HousEdSv</th>\n",
       "      <th>HlthEdSv</th>\n",
       "      <th>FamSuppSv</th>\n",
       "      <th>MentorSv</th>\n",
       "      <th>SILsv</th>\n",
       "      <th>RmBrdFASv</th>\n",
       "      <th>EducFinaSv</th>\n",
       "      <th>OthrFinaSv</th>\n",
       "    </tr>\n",
       "  </thead>\n",
       "  <tbody>\n",
       "    <tr>\n",
       "      <th>2</th>\n",
       "      <td>0</td>\n",
       "      <td>0</td>\n",
       "      <td>0</td>\n",
       "      <td>0</td>\n",
       "      <td>0</td>\n",
       "      <td>0</td>\n",
       "      <td>1</td>\n",
       "      <td>0</td>\n",
       "      <td>0</td>\n",
       "      <td>0</td>\n",
       "      <td>0</td>\n",
       "      <td>0</td>\n",
       "      <td>0</td>\n",
       "      <td>1</td>\n",
       "    </tr>\n",
       "    <tr>\n",
       "      <th>3</th>\n",
       "      <td>0</td>\n",
       "      <td>0</td>\n",
       "      <td>0</td>\n",
       "      <td>0</td>\n",
       "      <td>0</td>\n",
       "      <td>0</td>\n",
       "      <td>0</td>\n",
       "      <td>0</td>\n",
       "      <td>0</td>\n",
       "      <td>0</td>\n",
       "      <td>0</td>\n",
       "      <td>0</td>\n",
       "      <td>0</td>\n",
       "      <td>1</td>\n",
       "    </tr>\n",
       "    <tr>\n",
       "      <th>6</th>\n",
       "      <td>1</td>\n",
       "      <td>0</td>\n",
       "      <td>0</td>\n",
       "      <td>0</td>\n",
       "      <td>0</td>\n",
       "      <td>0</td>\n",
       "      <td>0</td>\n",
       "      <td>0</td>\n",
       "      <td>0</td>\n",
       "      <td>0</td>\n",
       "      <td>0</td>\n",
       "      <td>0</td>\n",
       "      <td>0</td>\n",
       "      <td>0</td>\n",
       "    </tr>\n",
       "    <tr>\n",
       "      <th>7</th>\n",
       "      <td>1</td>\n",
       "      <td>0</td>\n",
       "      <td>0</td>\n",
       "      <td>0</td>\n",
       "      <td>0</td>\n",
       "      <td>0</td>\n",
       "      <td>0</td>\n",
       "      <td>0</td>\n",
       "      <td>0</td>\n",
       "      <td>0</td>\n",
       "      <td>0</td>\n",
       "      <td>0</td>\n",
       "      <td>0</td>\n",
       "      <td>1</td>\n",
       "    </tr>\n",
       "    <tr>\n",
       "      <th>12</th>\n",
       "      <td>1</td>\n",
       "      <td>0</td>\n",
       "      <td>0</td>\n",
       "      <td>0</td>\n",
       "      <td>0</td>\n",
       "      <td>0</td>\n",
       "      <td>0</td>\n",
       "      <td>0</td>\n",
       "      <td>0</td>\n",
       "      <td>0</td>\n",
       "      <td>0</td>\n",
       "      <td>0</td>\n",
       "      <td>1</td>\n",
       "      <td>1</td>\n",
       "    </tr>\n",
       "  </tbody>\n",
       "</table>\n",
       "</div>"
      ],
      "text/plain": [
       "    ILNAsv  AcSuppSv  PSEdSuppSv  CareerSv  EmplyTrSv  BudgetSv  HousEdSv  \\\n",
       "2        0         0           0         0          0         0         1   \n",
       "3        0         0           0         0          0         0         0   \n",
       "6        1         0           0         0          0         0         0   \n",
       "7        1         0           0         0          0         0         0   \n",
       "12       1         0           0         0          0         0         0   \n",
       "\n",
       "    HlthEdSv  FamSuppSv  MentorSv  SILsv  RmBrdFASv  EducFinaSv  OthrFinaSv  \n",
       "2          0          0         0      0          0           0           1  \n",
       "3          0          0         0      0          0           0           1  \n",
       "6          0          0         0      0          0           0           0  \n",
       "7          0          0         0      0          0           0           1  \n",
       "12         0          0         0      0          0           1           1  "
      ]
     },
     "execution_count": 15,
     "metadata": {},
     "output_type": "execute_result"
    }
   ],
   "source": [
    "features = features.drop('Wave', axis=1)\n",
    "features.head()"
   ]
  },
  {
   "cell_type": "code",
   "execution_count": 16,
   "metadata": {
    "collapsed": false
   },
   "outputs": [
    {
     "name": "stdout",
     "output_type": "stream",
     "text": [
      "PubFoodAs['Yes' 'No' 'Not Applicable (in Foster Care)' 'Blank' 'Declined']\n",
      "PubHousAs['No' 'Not Applicable (in Foster Care)' 'Declined' 'Yes' 'Blank']\n",
      "OthrFinAs['No' 'Yes' 'Declined' 'Blank']\n",
      "HighEdCert['None of the above' 'High school diploma/GED' 'Blank'\n",
      " 'Vocational certificate' 'Declined' \"Bachelor's Degree\"\n",
      " 'Vocational license' \"Associate's Degree\" 'Higher degree' None]\n",
      "CurrFTE['No' 'Yes, employed full time' 'Blank' 'Declined']\n",
      "CurrPTE['No' 'Yes, employed part time' 'Blank' 'Declined']\n",
      "EmplySklls['No' 'Yes' 'Blank' 'Declined']\n",
      "SocSecrty['No' 'Yes, is receiving SSI or SSDI payments' 'Blank' 'Declined']\n",
      "EducAid['No' 'Yes' 'Declined' 'Blank']\n",
      "PubFinAs['No' 'Not Applicable (in Foster Care)' 'Declined' 'Yes' 'Blank']\n",
      "CurrenRoll['No' 'Yes' 'Declined' 'Blank']\n",
      "CnctAdult['Yes' 'No' 'Blank' 'Declined']\n",
      "PrescripIn['Not Applicable' 'Yes' 'Blank' \"Don't Know\" 'Declined' 'No']\n",
      "Homeless['Yes' 'No' 'Blank' 'Declined']\n",
      "SubAbuse['No' 'Yes' 'Declined' 'Blank']\n",
      "Incarc['No' 'Yes' 'Declined' 'Blank']\n",
      "Children['No' 'Yes' 'Blank' 'Declined']\n",
      "Marriage['Not Applicable' 'No' 'Blank' 'Yes' 'Declined']\n",
      "Medicaid['Yes' 'No' 'Do Not Know' 'Blank' 'Declined']\n",
      "OthrHlthIn['No' 'Yes' 'Blank' 'Do Not Know' '78.0' 'Declined']\n",
      "MedicalIn['Not Applicable' \"Don't Know\" 'Yes' 'Blank' 'No' 'Declined']\n",
      "MentlHlthIn['Not Applicable' 'Yes' 'No' \"Don't Know\" 'Blank' 'Declined']\n"
     ]
    }
   ],
   "source": [
    "for column in targets:\n",
    "    print (column + str(targets[column].unique()))"
   ]
  },
  {
   "cell_type": "code",
   "execution_count": 7,
   "metadata": {
    "collapsed": true
   },
   "outputs": [],
   "source": [
    "# Need to categorize into outcome_type in order to have less target vars: several y-vars ==> 4 outcome_types\n",
    "\n",
    "# Categories of outcome_types: financial: pos/neg, educational: pos/neg, well-being: pos/neg, health: pos/neg\n",
    "\n",
    "# Protocol Used to define pos/neg for each outcome_type:\n",
    "    # - Positive Educational: "
   ]
  },
  {
   "cell_type": "code",
   "execution_count": 18,
   "metadata": {
    "collapsed": false
   },
   "outputs": [
    {
     "name": "stdout",
     "output_type": "stream",
     "text": [
      "[  3.59414733e+03   2.99518906e-01   2.29349174e-01   1.82087458e-01\n",
      "   1.60983571e-01   1.40427727e-01]\n",
      "[[ 0.26635014  0.26645514  0.26759728  0.26687264  0.26740642  0.26702828\n",
      "   0.26700012  0.26693419  0.2671666   0.26750998  0.26797079  0.26792947\n",
      "   0.26782078  0.2676091 ]\n",
      " [-0.61835963  0.26086045 -0.04256788  0.27828053  0.06248183  0.28326914\n",
      "   0.27399106  0.28753699  0.18757377 -0.15102792 -0.18333462 -0.18196194\n",
      "  -0.21574934 -0.23911139]\n",
      " [ 0.5708526  -0.43809812 -0.11705839  0.12176053 -0.1240786   0.31705571\n",
      "   0.26528169  0.26627423  0.06715631 -0.2186723  -0.12998046 -0.10134175\n",
      "  -0.19398086 -0.28169435]\n",
      " [-0.42489556 -0.77342961  0.07563469 -0.00113766  0.05144728  0.14614205\n",
      "   0.16385859 -0.08112733  0.12997302  0.12514371  0.05292098  0.0643449\n",
      "   0.1627919   0.30350759]\n",
      " [ 0.02902855 -0.00916236  0.23590845  0.54726832  0.18134957  0.15949767\n",
      "   0.08361291 -0.4494491  -0.54979958 -0.26296792  0.02100203 -0.04673946\n",
      "   0.04903429  0.01155276]\n",
      " [-0.04093838  0.16980694 -0.00910666 -0.63278732 -0.01822523  0.23574161\n",
      "   0.58478936 -0.07946932 -0.33278356 -0.17513167  0.09986226  0.05720712\n",
      "   0.05929684  0.08129852]]\n"
     ]
    }
   ],
   "source": [
    "from sklearn.decomposition import PCA\n",
    "pca = PCA(n_components=6)\n",
    "pca.fit(features)\n",
    "print(pca.explained_variance_)\n",
    "print(pca.components_)"
   ]
  },
  {
   "cell_type": "code",
   "execution_count": null,
   "metadata": {
    "collapsed": true
   },
   "outputs": [],
   "source": []
  },
  {
   "cell_type": "code",
   "execution_count": null,
   "metadata": {
    "collapsed": true
   },
   "outputs": [],
   "source": []
  },
  {
   "cell_type": "code",
   "execution_count": null,
   "metadata": {
    "collapsed": true
   },
   "outputs": [],
   "source": []
  },
  {
   "cell_type": "code",
   "execution_count": null,
   "metadata": {
    "collapsed": true
   },
   "outputs": [],
   "source": []
  },
  {
   "cell_type": "code",
   "execution_count": null,
   "metadata": {
    "collapsed": true
   },
   "outputs": [],
   "source": []
  },
  {
   "cell_type": "code",
   "execution_count": 9,
   "metadata": {
    "collapsed": false
   },
   "outputs": [],
   "source": [
    "from sklearn.preprocessing import LabelEncoder\n",
    "le = LabelEncoder()\n",
    "y = le.fit_transform(targets['Homeless'])\n",
    "X = pd.get_dummies(features)\n",
    "\n"
   ]
  },
  {
   "cell_type": "code",
   "execution_count": 10,
   "metadata": {
    "collapsed": false
   },
   "outputs": [
    {
     "data": {
      "text/plain": [
       "array([3, 3, 2, ..., 0, 3, 3])"
      ]
     },
     "execution_count": 10,
     "metadata": {},
     "output_type": "execute_result"
    }
   ],
   "source": [
    "y"
   ]
  },
  {
   "cell_type": "code",
   "execution_count": 10,
   "metadata": {
    "collapsed": false
   },
   "outputs": [],
   "source": [
    "from sklearn.cross_validation import train_test_split, KFold\n",
    "from sklearn.metrics import accuracy_score, precision_score, recall_score, confusion_matrix, classification_report\n",
    "\n",
    "X_train, X_test, y_train, y_test = train_test_split(X, y, test_size=0.3, random_state=42, stratify=y)\n",
    "\n",
    "def evaluate_model(model):\n",
    "    model.fit(X_train, y_train)\n",
    "    y_pred = model.predict(X_test)\n",
    "    \n",
    "    a = accuracy_score(y_test, y_pred)\n",
    "    \n",
    "    cm = confusion_matrix(y_test, y_pred)\n",
    "    cr = classification_report(y_test, y_pred)\n",
    "    \n",
    "    print cm\n",
    "    print cr\n",
    "    \n",
    "    return a\n",
    "\n",
    "all_models = {}"
   ]
  },
  {
   "cell_type": "code",
   "execution_count": 11,
   "metadata": {
    "collapsed": false
   },
   "outputs": [
    {
     "name": "stdout",
     "output_type": "stream",
     "text": [
      "[[ 556    0  784   33]\n",
      " [   9    1   36    1]\n",
      " [ 464    4 1211   48]\n",
      " [ 125    1  283   16]]\n",
      "             precision    recall  f1-score   support\n",
      "\n",
      "          0       0.48      0.40      0.44      1373\n",
      "          1       0.17      0.02      0.04        47\n",
      "          2       0.52      0.70      0.60      1727\n",
      "          3       0.16      0.04      0.06       425\n",
      "\n",
      "avg / total       0.46      0.50      0.47      3572\n",
      "\n",
      "[[ 587    1  761   24]\n",
      " [   9    1   36    1]\n",
      " [ 493    7 1180   47]\n",
      " [ 131    2  277   15]]\n",
      "             precision    recall  f1-score   support\n",
      "\n",
      "          0       0.48      0.43      0.45      1373\n",
      "          1       0.09      0.02      0.03        47\n",
      "          2       0.52      0.68      0.59      1727\n",
      "          3       0.17      0.04      0.06       425\n",
      "\n",
      "avg / total       0.46      0.50      0.47      3572\n",
      "\n"
     ]
    },
    {
     "data": {
      "text/plain": [
       "ExtraTreesClassifier(bootstrap=False, class_weight=None, criterion='gini',\n",
       "           max_depth=None, max_features='auto', max_leaf_nodes=None,\n",
       "           min_samples_leaf=1, min_samples_split=2,\n",
       "           min_weight_fraction_leaf=0.0, n_estimators=10, n_jobs=1,\n",
       "           oob_score=False, random_state=None, verbose=0, warm_start=False)"
      ]
     },
     "execution_count": 11,
     "metadata": {},
     "output_type": "execute_result"
    }
   ],
   "source": [
    "from sklearn.ensemble import RandomForestClassifier, ExtraTreesClassifier\n",
    "\n",
    "rf = RandomForestClassifier()\n",
    "all_models['rf'] = {'model': rf,\n",
    "                    'score': evaluate_model(rf)}\n",
    "\n",
    "\n",
    "\n",
    "et = ExtraTreesClassifier()\n",
    "all_models['et'] = {'model': et,\n",
    "                    'score': evaluate_model(et)}\n",
    "\n",
    "rf.fit(X, y)\n",
    "et.fit(X, y)"
   ]
  },
  {
   "cell_type": "code",
   "execution_count": 12,
   "metadata": {
    "collapsed": false
   },
   "outputs": [
    {
     "data": {
      "text/html": [
       "<div>\n",
       "<table border=\"1\" class=\"dataframe\">\n",
       "  <thead>\n",
       "    <tr style=\"text-align: right;\">\n",
       "      <th></th>\n",
       "      <th>score</th>\n",
       "    </tr>\n",
       "    <tr>\n",
       "      <th>model</th>\n",
       "      <th></th>\n",
       "    </tr>\n",
       "  </thead>\n",
       "  <tbody>\n",
       "    <tr>\n",
       "      <th>rf</th>\n",
       "      <td>0.49944</td>\n",
       "    </tr>\n",
       "    <tr>\n",
       "      <th>et</th>\n",
       "      <td>0.49916</td>\n",
       "    </tr>\n",
       "  </tbody>\n",
       "</table>\n",
       "</div>"
      ],
      "text/plain": [
       "         score\n",
       "model         \n",
       "rf     0.49944\n",
       "et     0.49916"
      ]
     },
     "execution_count": 12,
     "metadata": {},
     "output_type": "execute_result"
    },
    {
     "data": {
      "image/png": "[encoded data removed]",
      "text/plain": [
       "<matplotlib.figure.Figure at 0x11b44a250>"
      ]
     },
     "metadata": {},
     "output_type": "display_data"
    }
   ],
   "source": [
    "scores = pd.DataFrame([(k, v['score']) for k, v in all_models.iteritems()],\n",
    "             columns=['model', 'score']).set_index('model').sort_values('score', ascending=False)\n",
    "\n",
    "\n",
    "scores.plot(kind='bar')\n",
    "plt.ylim(0.0, 1.1)\n",
    "\n",
    "scores"
   ]
  },
  {
   "cell_type": "code",
   "execution_count": 13,
   "metadata": {
    "collapsed": false
   },
   "outputs": [
    {
     "name": "stdout",
     "output_type": "stream",
     "text": [
      "et rf\n"
     ]
    }
   ],
   "source": [
    "from sklearn.cross_validation import cross_val_score, StratifiedKFold\n",
    "\n",
    "def retest(model):\n",
    "    scores = cross_val_score(model, X, y,\n",
    "                             cv=StratifiedKFold(y, shuffle=True),\n",
    "                             n_jobs=-1)\n",
    "    m = scores.mean()\n",
    "    s = scores.std()\n",
    "    \n",
    "    return m, s\n",
    "\n",
    "for k, v in all_models.iteritems():\n",
    "    cvres = retest(v['model'])\n",
    "    print k, \n",
    "    all_models[k]['cvres'] = cvres"
   ]
  },
  {
   "cell_type": "code",
   "execution_count": 14,
   "metadata": {
    "collapsed": false
   },
   "outputs": [
    {
     "data": {
      "text/html": [
       "<div>\n",
       "<table border=\"1\" class=\"dataframe\">\n",
       "  <thead>\n",
       "    <tr style=\"text-align: right;\">\n",
       "      <th></th>\n",
       "      <th>score</th>\n",
       "      <th>error</th>\n",
       "    </tr>\n",
       "    <tr>\n",
       "      <th>model</th>\n",
       "      <th></th>\n",
       "      <th></th>\n",
       "    </tr>\n",
       "  </thead>\n",
       "  <tbody>\n",
       "    <tr>\n",
       "      <th>rf</th>\n",
       "      <td>0.490425</td>\n",
       "      <td>0.001758</td>\n",
       "    </tr>\n",
       "    <tr>\n",
       "      <th>et</th>\n",
       "      <td>0.488913</td>\n",
       "      <td>0.001347</td>\n",
       "    </tr>\n",
       "  </tbody>\n",
       "</table>\n",
       "</div>"
      ],
      "text/plain": [
       "          score     error\n",
       "model                    \n",
       "rf     0.490425  0.001758\n",
       "et     0.488913  0.001347"
      ]
     },
     "execution_count": 14,
     "metadata": {},
     "output_type": "execute_result"
    },
    {
     "data": {
      "image/png": "[encoded data removed]",
      "text/plain": [
       "<matplotlib.figure.Figure at 0x11c4fe190>"
      ]
     },
     "metadata": {},
     "output_type": "display_data"
    }
   ],
   "source": [
    "cvscores = pd.DataFrame([(k, v['cvres'][0], v['cvres'][1] ) for k, v in all_models.iteritems()],\n",
    "                        columns=['model', 'score', 'error']).set_index('model').sort_values('score', ascending=False)\n",
    "\n",
    "\n",
    "\n",
    "fig, ax = plt.subplots()\n",
    "rects1 = ax.bar(range(len(cvscores)), cvscores.score,\n",
    "                yerr=cvscores.error,\n",
    "                tick_label=cvscores.index)\n",
    "\n",
    "ax.set_ylabel('Scores')\n",
    "plt.xticks(rotation=70)\n",
    "plt.ylim(0.0, 1.1)\n",
    "\n",
    "# cvscores.to_csv('../../../5.2-lesson/assets/datasets/car_evaluation/model_comparison.csv')\n",
    "cvscores"
   ]
  },
  {
   "cell_type": "code",
   "execution_count": 15,
   "metadata": {
    "collapsed": false
   },
   "outputs": [
    {
     "name": "stdout",
     "output_type": "stream",
     "text": [
      "[[ 541    2  799   31]\n",
      " [   8    1   37    1]\n",
      " [ 429    3 1231   64]\n",
      " [ 106    1  295   23]]\n",
      "             precision    recall  f1-score   support\n",
      "\n",
      "          0       0.50      0.39      0.44      1373\n",
      "          1       0.14      0.02      0.04        47\n",
      "          2       0.52      0.71      0.60      1727\n",
      "          3       0.19      0.05      0.08       425\n",
      "\n",
      "avg / total       0.47      0.50      0.47      3572\n",
      "\n"
     ]
    }
   ],
   "source": [
    "from sklearn.preprocessing import OneHotEncoder\n",
    "from sklearn.pipeline import make_pipeline\n",
    "\n",
    "onehotpipe = make_pipeline(OneHotEncoder(),\n",
    "                           rf)\n",
    "\n",
    "\n",
    "all_models['onehotpipe'] = {'model': onehotpipe,\n",
    "                            'score': evaluate_model(onehotpipe)}"
   ]
  },
  {
   "cell_type": "code",
   "execution_count": 16,
   "metadata": {
    "collapsed": false
   },
   "outputs": [
    {
     "name": "stdout",
     "output_type": "stream",
     "text": [
      "[[ 582    3  763   25]\n",
      " [   9    1   36    1]\n",
      " [ 482    9 1197   39]\n",
      " [ 129    2  278   16]]\n",
      "             precision    recall  f1-score   support\n",
      "\n",
      "          0       0.48      0.42      0.45      1373\n",
      "          1       0.07      0.02      0.03        47\n",
      "          2       0.53      0.69      0.60      1727\n",
      "          3       0.20      0.04      0.06       425\n",
      "\n",
      "avg / total       0.46      0.50      0.47      3572\n",
      "\n"
     ]
    }
   ],
   "source": [
    "onehotpipe = make_pipeline(OneHotEncoder(),\n",
    "                           et)\n",
    "\n",
    "\n",
    "all_models['onehotpipe'] = {'model': onehotpipe,\n",
    "                            'score': evaluate_model(onehotpipe)}"
   ]
  },
  {
   "cell_type": "code",
   "execution_count": 19,
   "metadata": {
    "collapsed": false
   },
   "outputs": [
    {
     "name": "stdout",
     "output_type": "stream",
     "text": [
      "[[ 543    1  788   41]\n",
      " [   7    1   37    2]\n",
      " [ 458    3 1198   68]\n",
      " [ 112    1  283   29]]\n",
      "             precision    recall  f1-score   support\n",
      "\n",
      "          0       0.48      0.40      0.44      1373\n",
      "          1       0.17      0.02      0.04        47\n",
      "          2       0.52      0.69      0.59      1727\n",
      "          3       0.21      0.07      0.10       425\n",
      "\n",
      "avg / total       0.46      0.50      0.47      3572\n",
      "\n"
     ]
    }
   ],
   "source": [
    "onehotpipe_rf = make_pipeline(OneHotEncoder(),\n",
    "                           rf)\n",
    "\n",
    "\n",
    "all_models['onehotpipe_rf'] = {'model': onehotpipe_rf,\n",
    "                            'score': evaluate_model(onehotpipe_rf)}"
   ]
  },
  {
   "cell_type": "code",
   "execution_count": 20,
   "metadata": {
    "collapsed": false
   },
   "outputs": [
    {
     "data": {
      "text/html": [
       "<div>\n",
       "<table border=\"1\" class=\"dataframe\">\n",
       "  <thead>\n",
       "    <tr style=\"text-align: right;\">\n",
       "      <th></th>\n",
       "      <th>score</th>\n",
       "    </tr>\n",
       "    <tr>\n",
       "      <th>model</th>\n",
       "      <th></th>\n",
       "    </tr>\n",
       "  </thead>\n",
       "  <tbody>\n",
       "    <tr>\n",
       "      <th>onehotpipe</th>\n",
       "      <td>0.502800</td>\n",
       "    </tr>\n",
       "    <tr>\n",
       "      <th>rf</th>\n",
       "      <td>0.499440</td>\n",
       "    </tr>\n",
       "    <tr>\n",
       "      <th>et</th>\n",
       "      <td>0.499160</td>\n",
       "    </tr>\n",
       "    <tr>\n",
       "      <th>onehotpipe_rf</th>\n",
       "      <td>0.495801</td>\n",
       "    </tr>\n",
       "  </tbody>\n",
       "</table>\n",
       "</div>"
      ],
      "text/plain": [
       "                  score\n",
       "model                  \n",
       "onehotpipe     0.502800\n",
       "rf             0.499440\n",
       "et             0.499160\n",
       "onehotpipe_rf  0.495801"
      ]
     },
     "execution_count": 20,
     "metadata": {},
     "output_type": "execute_result"
    },
    {
     "data": {
      "image/png": "[encoded data removed]",
      "text/plain": [
       "<matplotlib.figure.Figure at 0x11d3d8350>"
      ]
     },
     "metadata": {},
     "output_type": "display_data"
    }
   ],
   "source": [
    "scores = pd.DataFrame([(k, v['score']) for k, v in all_models.iteritems()],\n",
    "             columns=['model', 'score']).set_index('model').sort_values('score', ascending=False)\n",
    "\n",
    "scores.plot(kind='bar')\n",
    "plt.ylim(0.0, 1.1)\n",
    "\n",
    "scores"
   ]
  },
  {
   "cell_type": "code",
   "execution_count": null,
   "metadata": {
    "collapsed": true
   },
   "outputs": [],
   "source": []
  }
 ],
 "metadata": {
  "kernelspec": {
   "display_name": "Python 2",
   "language": "python",
   "name": "python2"
  },
  "language_info": {
   "codemirror_mode": {
    "name": "ipython",
    "version": 2
   },
   "file_extension": ".py",
   "mimetype": "text/x-python",
   "name": "python",
   "nbconvert_exporter": "python",
   "pygments_lexer": "ipython2",
   "version": "2.7.9"
  }
 },
 "nbformat": 4,
 "nbformat_minor": 0
}
