{
 "cells": [
  {
   "cell_type": "code",
   "execution_count": null,
   "metadata": {
    "collapsed": true
   },
   "outputs": [],
   "source": [
    "# Dataset:\n",
    "\n",
    "# Drop 77s, Blanks, NaNs\n",
    "\n",
    "# y = 0 v 1, \n",
    "    # where 0 = High School Ed, None of the Above, Declined, etc. \n",
    "    # and 1 = Higher Ed, Ass, BA, Voc Lice, Voc Cert, or CurrEnroll\n",
    "    \n",
    "# feature importance\n",
    "    # with num_services and states as dummies\n",
    "    # with num_services and state as one feature\n",
    "    # withOUT num_services and states as dummies\n",
    "    # withOUT num_services and state as one feature\n",
    "\n",
    "\n",
    "# X = based on feature importance\n",
    "\n",
    "then model"
   ]
  },
  {
   "cell_type": "code",
   "execution_count": 6,
   "metadata": {
    "collapsed": true
   },
   "outputs": [],
   "source": [
    "import pandas as pd\n",
    "import numpy as np\n",
    "import matplotlib.pyplot as plt\n",
    "%matplotlib inline\n"
   ]
  },
  {
   "cell_type": "code",
   "execution_count": 7,
   "metadata": {
    "collapsed": true
   },
   "outputs": [],
   "source": [
    "# Load Data"
   ]
  },
  {
   "cell_type": "code",
   "execution_count": 8,
   "metadata": {
    "collapsed": false
   },
   "outputs": [
    {
     "data": {
      "text/html": [
       "<div>\n",
       "<table border=\"1\" class=\"dataframe\">\n",
       "  <thead>\n",
       "    <tr style=\"text-align: right;\">\n",
       "      <th></th>\n",
       "      <th>Unnamed: 0</th>\n",
       "      <th>AcSuppSv</th>\n",
       "      <th>AgeMP</th>\n",
       "      <th>AmIAKN</th>\n",
       "      <th>Asian</th>\n",
       "      <th>Baseline</th>\n",
       "      <th>BlkAfrAm</th>\n",
       "      <th>BudgetSv</th>\n",
       "      <th>CareerSv</th>\n",
       "      <th>CurrFTE</th>\n",
       "      <th>...</th>\n",
       "      <th>Sex</th>\n",
       "      <th>SpecEdSv</th>\n",
       "      <th>St</th>\n",
       "      <th>StFCID</th>\n",
       "      <th>StFIPS</th>\n",
       "      <th>SubAbuse</th>\n",
       "      <th>TribeSv</th>\n",
       "      <th>Wave</th>\n",
       "      <th>Weight</th>\n",
       "      <th>White</th>\n",
       "    </tr>\n",
       "  </thead>\n",
       "  <tbody>\n",
       "    <tr>\n",
       "      <th>0</th>\n",
       "      <td>0</td>\n",
       "      <td>0.0</td>\n",
       "      <td>17.0</td>\n",
       "      <td>0.0</td>\n",
       "      <td>0.0</td>\n",
       "      <td>Yes</td>\n",
       "      <td>0.0</td>\n",
       "      <td>0.0</td>\n",
       "      <td>0.0</td>\n",
       "      <td>No</td>\n",
       "      <td>...</td>\n",
       "      <td>2.0</td>\n",
       "      <td>0.0</td>\n",
       "      <td>AK</td>\n",
       "      <td>AK450290395006</td>\n",
       "      <td>2.0</td>\n",
       "      <td>Yes</td>\n",
       "      <td>0.0</td>\n",
       "      <td>Wave 1: Age 17 Baseline Survey</td>\n",
       "      <td>1.26</td>\n",
       "      <td>1.0</td>\n",
       "    </tr>\n",
       "    <tr>\n",
       "      <th>1</th>\n",
       "      <td>4</td>\n",
       "      <td>0.0</td>\n",
       "      <td>17.0</td>\n",
       "      <td>1.0</td>\n",
       "      <td>0.0</td>\n",
       "      <td>Yes</td>\n",
       "      <td>0.0</td>\n",
       "      <td>0.0</td>\n",
       "      <td>0.0</td>\n",
       "      <td>No</td>\n",
       "      <td>...</td>\n",
       "      <td>2.0</td>\n",
       "      <td>0.0</td>\n",
       "      <td>AK</td>\n",
       "      <td>AK450448396586</td>\n",
       "      <td>2.0</td>\n",
       "      <td>No</td>\n",
       "      <td>1.0</td>\n",
       "      <td>Wave 1: Age 17 Baseline Survey</td>\n",
       "      <td>1.36</td>\n",
       "      <td>0.0</td>\n",
       "    </tr>\n",
       "    <tr>\n",
       "      <th>2</th>\n",
       "      <td>10</td>\n",
       "      <td>0.0</td>\n",
       "      <td>17.0</td>\n",
       "      <td>0.0</td>\n",
       "      <td>0.0</td>\n",
       "      <td>Yes</td>\n",
       "      <td>0.0</td>\n",
       "      <td>0.0</td>\n",
       "      <td>0.0</td>\n",
       "      <td>No</td>\n",
       "      <td>...</td>\n",
       "      <td>2.0</td>\n",
       "      <td>0.0</td>\n",
       "      <td>AK</td>\n",
       "      <td>AK450540097503</td>\n",
       "      <td>2.0</td>\n",
       "      <td>No</td>\n",
       "      <td>0.0</td>\n",
       "      <td>Wave 1: Age 17 Baseline Survey</td>\n",
       "      <td>1.26</td>\n",
       "      <td>1.0</td>\n",
       "    </tr>\n",
       "    <tr>\n",
       "      <th>3</th>\n",
       "      <td>14</td>\n",
       "      <td>0.0</td>\n",
       "      <td>17.0</td>\n",
       "      <td>0.0</td>\n",
       "      <td>0.0</td>\n",
       "      <td>Yes</td>\n",
       "      <td>0.0</td>\n",
       "      <td>0.0</td>\n",
       "      <td>0.0</td>\n",
       "      <td>No</td>\n",
       "      <td>...</td>\n",
       "      <td>1.0</td>\n",
       "      <td>0.0</td>\n",
       "      <td>AK</td>\n",
       "      <td>AK450652098623</td>\n",
       "      <td>2.0</td>\n",
       "      <td>No</td>\n",
       "      <td>0.0</td>\n",
       "      <td>Wave 1: Age 17 Baseline Survey</td>\n",
       "      <td>3.31</td>\n",
       "      <td>1.0</td>\n",
       "    </tr>\n",
       "    <tr>\n",
       "      <th>4</th>\n",
       "      <td>17</td>\n",
       "      <td>0.0</td>\n",
       "      <td>17.0</td>\n",
       "      <td>1.0</td>\n",
       "      <td>0.0</td>\n",
       "      <td>Yes</td>\n",
       "      <td>0.0</td>\n",
       "      <td>0.0</td>\n",
       "      <td>0.0</td>\n",
       "      <td>No</td>\n",
       "      <td>...</td>\n",
       "      <td>2.0</td>\n",
       "      <td>1.0</td>\n",
       "      <td>AK</td>\n",
       "      <td>AK451448406587</td>\n",
       "      <td>2.0</td>\n",
       "      <td>No</td>\n",
       "      <td>1.0</td>\n",
       "      <td>Wave 1: Age 17 Baseline Survey</td>\n",
       "      <td>1.36</td>\n",
       "      <td>0.0</td>\n",
       "    </tr>\n",
       "  </tbody>\n",
       "</table>\n",
       "<p>5 rows × 67 columns</p>\n",
       "</div>"
      ],
      "text/plain": [
       "   Unnamed: 0  AcSuppSv  AgeMP  AmIAKN  Asian Baseline  BlkAfrAm  BudgetSv  \\\n",
       "0           0       0.0   17.0     0.0    0.0      Yes       0.0       0.0   \n",
       "1           4       0.0   17.0     1.0    0.0      Yes       0.0       0.0   \n",
       "2          10       0.0   17.0     0.0    0.0      Yes       0.0       0.0   \n",
       "3          14       0.0   17.0     0.0    0.0      Yes       0.0       0.0   \n",
       "4          17       0.0   17.0     1.0    0.0      Yes       0.0       0.0   \n",
       "\n",
       "   CareerSv CurrFTE  ...    Sex SpecEdSv  St          StFCID  StFIPS  \\\n",
       "0       0.0      No  ...    2.0      0.0  AK  AK450290395006     2.0   \n",
       "1       0.0      No  ...    2.0      0.0  AK  AK450448396586     2.0   \n",
       "2       0.0      No  ...    2.0      0.0  AK  AK450540097503     2.0   \n",
       "3       0.0      No  ...    1.0      0.0  AK  AK450652098623     2.0   \n",
       "4       0.0      No  ...    2.0      1.0  AK  AK451448406587     2.0   \n",
       "\n",
       "   SubAbuse TribeSv                            Wave  Weight  White  \n",
       "0       Yes     0.0  Wave 1: Age 17 Baseline Survey    1.26    1.0  \n",
       "1        No     1.0  Wave 1: Age 17 Baseline Survey    1.36    0.0  \n",
       "2        No     0.0  Wave 1: Age 17 Baseline Survey    1.26    1.0  \n",
       "3        No     0.0  Wave 1: Age 17 Baseline Survey    3.31    1.0  \n",
       "4        No     1.0  Wave 1: Age 17 Baseline Survey    1.36    0.0  \n",
       "\n",
       "[5 rows x 67 columns]"
      ]
     },
     "execution_count": 8,
     "metadata": {},
     "output_type": "execute_result"
    }
   ],
   "source": [
    "cohort_1_w1w2 = pd.read_csv('/Users/cguy/kelstuff/ga_summer_2016/cohort_1_w1w2.csv')\n",
    "cohort_1_w1w2.head()"
   ]
  },
  {
   "cell_type": "code",
   "execution_count": 9,
   "metadata": {
    "collapsed": true
   },
   "outputs": [],
   "source": [
    "# Seperate dataframe into feature vars and target vars\n",
    "\n",
    "targets = cohort_1_w1w2[['CurrenRoll','HighEdCert', 'Wave']]\n",
    "\n",
    "\n",
    "features = cohort_1_w1w2[['ILNAsv','AcSuppSv','PSEdSuppSv','CareerSv','EmplyTrSv','BudgetSv','HousEdSv','HlthEdSv',\\\n",
    "                     'FamSuppSv','MentorSv','SILsv','RmBrdFASv','EducFinaSv','OthrFinaSv','St','DelinqntSv','Wave']]\n"
   ]
  },
  {
   "cell_type": "code",
   "execution_count": 10,
   "metadata": {
    "collapsed": false
   },
   "outputs": [
    {
     "name": "stderr",
     "output_type": "stream",
     "text": [
      "/Users/cguy/anaconda/lib/python2.7/site-packages/ipykernel/__main__.py:9: SettingWithCopyWarning: \n",
      "A value is trying to be set on a copy of a slice from a DataFrame.\n",
      "Try using .loc[row_indexer,col_indexer] = value instead\n",
      "\n",
      "See the caveats in the documentation: http://pandas.pydata.org/pandas-docs/stable/indexing.html#indexing-view-versus-copy\n"
     ]
    },
    {
     "data": {
      "text/html": [
       "<div>\n",
       "<table border=\"1\" class=\"dataframe\">\n",
       "  <thead>\n",
       "    <tr style=\"text-align: right;\">\n",
       "      <th></th>\n",
       "      <th>ILNAsv</th>\n",
       "      <th>AcSuppSv</th>\n",
       "      <th>PSEdSuppSv</th>\n",
       "      <th>CareerSv</th>\n",
       "      <th>EmplyTrSv</th>\n",
       "      <th>BudgetSv</th>\n",
       "      <th>HousEdSv</th>\n",
       "      <th>HlthEdSv</th>\n",
       "      <th>FamSuppSv</th>\n",
       "      <th>MentorSv</th>\n",
       "      <th>SILsv</th>\n",
       "      <th>RmBrdFASv</th>\n",
       "      <th>EducFinaSv</th>\n",
       "      <th>OthrFinaSv</th>\n",
       "      <th>St</th>\n",
       "      <th>DelinqntSv</th>\n",
       "      <th>Wave</th>\n",
       "      <th>Num_services</th>\n",
       "    </tr>\n",
       "  </thead>\n",
       "  <tbody>\n",
       "    <tr>\n",
       "      <th>0</th>\n",
       "      <td>0.0</td>\n",
       "      <td>0.0</td>\n",
       "      <td>0.0</td>\n",
       "      <td>0.0</td>\n",
       "      <td>0.0</td>\n",
       "      <td>0.0</td>\n",
       "      <td>1.0</td>\n",
       "      <td>0.0</td>\n",
       "      <td>0.0</td>\n",
       "      <td>0.0</td>\n",
       "      <td>0.0</td>\n",
       "      <td>0.0</td>\n",
       "      <td>0.0</td>\n",
       "      <td>1.0</td>\n",
       "      <td>AK</td>\n",
       "      <td>0.0</td>\n",
       "      <td>Wave 1: Age 17 Baseline Survey</td>\n",
       "      <td>2</td>\n",
       "    </tr>\n",
       "    <tr>\n",
       "      <th>1</th>\n",
       "      <td>1.0</td>\n",
       "      <td>0.0</td>\n",
       "      <td>0.0</td>\n",
       "      <td>0.0</td>\n",
       "      <td>0.0</td>\n",
       "      <td>0.0</td>\n",
       "      <td>0.0</td>\n",
       "      <td>0.0</td>\n",
       "      <td>0.0</td>\n",
       "      <td>0.0</td>\n",
       "      <td>0.0</td>\n",
       "      <td>0.0</td>\n",
       "      <td>0.0</td>\n",
       "      <td>0.0</td>\n",
       "      <td>AK</td>\n",
       "      <td>0.0</td>\n",
       "      <td>Wave 1: Age 17 Baseline Survey</td>\n",
       "      <td>1</td>\n",
       "    </tr>\n",
       "    <tr>\n",
       "      <th>2</th>\n",
       "      <td>1.0</td>\n",
       "      <td>0.0</td>\n",
       "      <td>0.0</td>\n",
       "      <td>0.0</td>\n",
       "      <td>0.0</td>\n",
       "      <td>0.0</td>\n",
       "      <td>0.0</td>\n",
       "      <td>0.0</td>\n",
       "      <td>0.0</td>\n",
       "      <td>0.0</td>\n",
       "      <td>0.0</td>\n",
       "      <td>0.0</td>\n",
       "      <td>1.0</td>\n",
       "      <td>1.0</td>\n",
       "      <td>AK</td>\n",
       "      <td>0.0</td>\n",
       "      <td>Wave 1: Age 17 Baseline Survey</td>\n",
       "      <td>3</td>\n",
       "    </tr>\n",
       "    <tr>\n",
       "      <th>3</th>\n",
       "      <td>1.0</td>\n",
       "      <td>0.0</td>\n",
       "      <td>0.0</td>\n",
       "      <td>0.0</td>\n",
       "      <td>0.0</td>\n",
       "      <td>0.0</td>\n",
       "      <td>0.0</td>\n",
       "      <td>0.0</td>\n",
       "      <td>0.0</td>\n",
       "      <td>0.0</td>\n",
       "      <td>0.0</td>\n",
       "      <td>0.0</td>\n",
       "      <td>0.0</td>\n",
       "      <td>0.0</td>\n",
       "      <td>AK</td>\n",
       "      <td>0.0</td>\n",
       "      <td>Wave 1: Age 17 Baseline Survey</td>\n",
       "      <td>1</td>\n",
       "    </tr>\n",
       "    <tr>\n",
       "      <th>4</th>\n",
       "      <td>1.0</td>\n",
       "      <td>0.0</td>\n",
       "      <td>0.0</td>\n",
       "      <td>0.0</td>\n",
       "      <td>0.0</td>\n",
       "      <td>0.0</td>\n",
       "      <td>0.0</td>\n",
       "      <td>0.0</td>\n",
       "      <td>0.0</td>\n",
       "      <td>0.0</td>\n",
       "      <td>0.0</td>\n",
       "      <td>0.0</td>\n",
       "      <td>0.0</td>\n",
       "      <td>1.0</td>\n",
       "      <td>AK</td>\n",
       "      <td>0.0</td>\n",
       "      <td>Wave 1: Age 17 Baseline Survey</td>\n",
       "      <td>2</td>\n",
       "    </tr>\n",
       "    <tr>\n",
       "      <th>5</th>\n",
       "      <td>0.0</td>\n",
       "      <td>0.0</td>\n",
       "      <td>0.0</td>\n",
       "      <td>0.0</td>\n",
       "      <td>0.0</td>\n",
       "      <td>0.0</td>\n",
       "      <td>0.0</td>\n",
       "      <td>0.0</td>\n",
       "      <td>0.0</td>\n",
       "      <td>0.0</td>\n",
       "      <td>0.0</td>\n",
       "      <td>0.0</td>\n",
       "      <td>0.0</td>\n",
       "      <td>1.0</td>\n",
       "      <td>AK</td>\n",
       "      <td>0.0</td>\n",
       "      <td>Wave 1: Age 17 Baseline Survey</td>\n",
       "      <td>1</td>\n",
       "    </tr>\n",
       "    <tr>\n",
       "      <th>6</th>\n",
       "      <td>1.0</td>\n",
       "      <td>0.0</td>\n",
       "      <td>0.0</td>\n",
       "      <td>0.0</td>\n",
       "      <td>0.0</td>\n",
       "      <td>0.0</td>\n",
       "      <td>1.0</td>\n",
       "      <td>1.0</td>\n",
       "      <td>0.0</td>\n",
       "      <td>0.0</td>\n",
       "      <td>0.0</td>\n",
       "      <td>0.0</td>\n",
       "      <td>0.0</td>\n",
       "      <td>1.0</td>\n",
       "      <td>AK</td>\n",
       "      <td>0.0</td>\n",
       "      <td>Wave 1: Age 17 Baseline Survey</td>\n",
       "      <td>4</td>\n",
       "    </tr>\n",
       "    <tr>\n",
       "      <th>7</th>\n",
       "      <td>1.0</td>\n",
       "      <td>0.0</td>\n",
       "      <td>0.0</td>\n",
       "      <td>0.0</td>\n",
       "      <td>0.0</td>\n",
       "      <td>0.0</td>\n",
       "      <td>0.0</td>\n",
       "      <td>0.0</td>\n",
       "      <td>0.0</td>\n",
       "      <td>0.0</td>\n",
       "      <td>0.0</td>\n",
       "      <td>0.0</td>\n",
       "      <td>0.0</td>\n",
       "      <td>1.0</td>\n",
       "      <td>AK</td>\n",
       "      <td>0.0</td>\n",
       "      <td>Wave 1: Age 17 Baseline Survey</td>\n",
       "      <td>2</td>\n",
       "    </tr>\n",
       "    <tr>\n",
       "      <th>8</th>\n",
       "      <td>0.0</td>\n",
       "      <td>0.0</td>\n",
       "      <td>0.0</td>\n",
       "      <td>0.0</td>\n",
       "      <td>0.0</td>\n",
       "      <td>0.0</td>\n",
       "      <td>0.0</td>\n",
       "      <td>0.0</td>\n",
       "      <td>0.0</td>\n",
       "      <td>0.0</td>\n",
       "      <td>0.0</td>\n",
       "      <td>0.0</td>\n",
       "      <td>0.0</td>\n",
       "      <td>1.0</td>\n",
       "      <td>AK</td>\n",
       "      <td>0.0</td>\n",
       "      <td>Wave 1: Age 17 Baseline Survey</td>\n",
       "      <td>1</td>\n",
       "    </tr>\n",
       "    <tr>\n",
       "      <th>9</th>\n",
       "      <td>1.0</td>\n",
       "      <td>0.0</td>\n",
       "      <td>0.0</td>\n",
       "      <td>0.0</td>\n",
       "      <td>0.0</td>\n",
       "      <td>0.0</td>\n",
       "      <td>0.0</td>\n",
       "      <td>0.0</td>\n",
       "      <td>0.0</td>\n",
       "      <td>0.0</td>\n",
       "      <td>0.0</td>\n",
       "      <td>0.0</td>\n",
       "      <td>0.0</td>\n",
       "      <td>1.0</td>\n",
       "      <td>AK</td>\n",
       "      <td>0.0</td>\n",
       "      <td>Wave 1: Age 17 Baseline Survey</td>\n",
       "      <td>2</td>\n",
       "    </tr>\n",
       "  </tbody>\n",
       "</table>\n",
       "</div>"
      ],
      "text/plain": [
       "   ILNAsv  AcSuppSv  PSEdSuppSv  CareerSv  EmplyTrSv  BudgetSv  HousEdSv  \\\n",
       "0     0.0       0.0         0.0       0.0        0.0       0.0       1.0   \n",
       "1     1.0       0.0         0.0       0.0        0.0       0.0       0.0   \n",
       "2     1.0       0.0         0.0       0.0        0.0       0.0       0.0   \n",
       "3     1.0       0.0         0.0       0.0        0.0       0.0       0.0   \n",
       "4     1.0       0.0         0.0       0.0        0.0       0.0       0.0   \n",
       "5     0.0       0.0         0.0       0.0        0.0       0.0       0.0   \n",
       "6     1.0       0.0         0.0       0.0        0.0       0.0       1.0   \n",
       "7     1.0       0.0         0.0       0.0        0.0       0.0       0.0   \n",
       "8     0.0       0.0         0.0       0.0        0.0       0.0       0.0   \n",
       "9     1.0       0.0         0.0       0.0        0.0       0.0       0.0   \n",
       "\n",
       "   HlthEdSv  FamSuppSv  MentorSv  SILsv  RmBrdFASv  EducFinaSv  OthrFinaSv  \\\n",
       "0       0.0        0.0       0.0    0.0        0.0         0.0         1.0   \n",
       "1       0.0        0.0       0.0    0.0        0.0         0.0         0.0   \n",
       "2       0.0        0.0       0.0    0.0        0.0         1.0         1.0   \n",
       "3       0.0        0.0       0.0    0.0        0.0         0.0         0.0   \n",
       "4       0.0        0.0       0.0    0.0        0.0         0.0         1.0   \n",
       "5       0.0        0.0       0.0    0.0        0.0         0.0         1.0   \n",
       "6       1.0        0.0       0.0    0.0        0.0         0.0         1.0   \n",
       "7       0.0        0.0       0.0    0.0        0.0         0.0         1.0   \n",
       "8       0.0        0.0       0.0    0.0        0.0         0.0         1.0   \n",
       "9       0.0        0.0       0.0    0.0        0.0         0.0         1.0   \n",
       "\n",
       "   St  DelinqntSv                            Wave  Num_services  \n",
       "0  AK         0.0  Wave 1: Age 17 Baseline Survey             2  \n",
       "1  AK         0.0  Wave 1: Age 17 Baseline Survey             1  \n",
       "2  AK         0.0  Wave 1: Age 17 Baseline Survey             3  \n",
       "3  AK         0.0  Wave 1: Age 17 Baseline Survey             1  \n",
       "4  AK         0.0  Wave 1: Age 17 Baseline Survey             2  \n",
       "5  AK         0.0  Wave 1: Age 17 Baseline Survey             1  \n",
       "6  AK         0.0  Wave 1: Age 17 Baseline Survey             4  \n",
       "7  AK         0.0  Wave 1: Age 17 Baseline Survey             2  \n",
       "8  AK         0.0  Wave 1: Age 17 Baseline Survey             1  \n",
       "9  AK         0.0  Wave 1: Age 17 Baseline Survey             2  "
      ]
     },
     "execution_count": 10,
     "metadata": {},
     "output_type": "execute_result"
    }
   ],
   "source": [
    "# # Create column for number of services received\n",
    "\n",
    "services_count = features.T\n",
    "services_count = services_count.drop('Wave')\n",
    "services_count = services_count.drop('St')\n",
    "services_count = services_count.drop('DelinqntSv')\n",
    "\n",
    "\n",
    "features['Num_services'] = (services_count == 1).sum()\n",
    "features.head(10)"
   ]
  },
  {
   "cell_type": "code",
   "execution_count": 11,
   "metadata": {
    "collapsed": false
   },
   "outputs": [
    {
     "data": {
      "text/html": [
       "<div>\n",
       "<table border=\"1\" class=\"dataframe\">\n",
       "  <thead>\n",
       "    <tr style=\"text-align: right;\">\n",
       "      <th></th>\n",
       "      <th>ILNAsv</th>\n",
       "      <th>AcSuppSv</th>\n",
       "      <th>PSEdSuppSv</th>\n",
       "      <th>CareerSv</th>\n",
       "      <th>EmplyTrSv</th>\n",
       "      <th>BudgetSv</th>\n",
       "      <th>HousEdSv</th>\n",
       "      <th>HlthEdSv</th>\n",
       "      <th>FamSuppSv</th>\n",
       "      <th>MentorSv</th>\n",
       "      <th>SILsv</th>\n",
       "      <th>RmBrdFASv</th>\n",
       "      <th>EducFinaSv</th>\n",
       "      <th>OthrFinaSv</th>\n",
       "      <th>St</th>\n",
       "      <th>DelinqntSv</th>\n",
       "      <th>Num_services</th>\n",
       "    </tr>\n",
       "  </thead>\n",
       "  <tbody>\n",
       "    <tr>\n",
       "      <th>7328</th>\n",
       "      <td>0.0</td>\n",
       "      <td>0.0</td>\n",
       "      <td>0.0</td>\n",
       "      <td>0.0</td>\n",
       "      <td>0.0</td>\n",
       "      <td>0.0</td>\n",
       "      <td>1.0</td>\n",
       "      <td>0.0</td>\n",
       "      <td>0.0</td>\n",
       "      <td>0.0</td>\n",
       "      <td>0.0</td>\n",
       "      <td>0.0</td>\n",
       "      <td>0.0</td>\n",
       "      <td>1.0</td>\n",
       "      <td>0</td>\n",
       "      <td>0.0</td>\n",
       "      <td>2</td>\n",
       "    </tr>\n",
       "    <tr>\n",
       "      <th>7329</th>\n",
       "      <td>1.0</td>\n",
       "      <td>0.0</td>\n",
       "      <td>0.0</td>\n",
       "      <td>0.0</td>\n",
       "      <td>0.0</td>\n",
       "      <td>0.0</td>\n",
       "      <td>0.0</td>\n",
       "      <td>0.0</td>\n",
       "      <td>0.0</td>\n",
       "      <td>0.0</td>\n",
       "      <td>0.0</td>\n",
       "      <td>0.0</td>\n",
       "      <td>0.0</td>\n",
       "      <td>0.0</td>\n",
       "      <td>0</td>\n",
       "      <td>0.0</td>\n",
       "      <td>1</td>\n",
       "    </tr>\n",
       "    <tr>\n",
       "      <th>7330</th>\n",
       "      <td>1.0</td>\n",
       "      <td>0.0</td>\n",
       "      <td>0.0</td>\n",
       "      <td>0.0</td>\n",
       "      <td>0.0</td>\n",
       "      <td>0.0</td>\n",
       "      <td>0.0</td>\n",
       "      <td>0.0</td>\n",
       "      <td>0.0</td>\n",
       "      <td>0.0</td>\n",
       "      <td>0.0</td>\n",
       "      <td>0.0</td>\n",
       "      <td>1.0</td>\n",
       "      <td>1.0</td>\n",
       "      <td>0</td>\n",
       "      <td>0.0</td>\n",
       "      <td>3</td>\n",
       "    </tr>\n",
       "    <tr>\n",
       "      <th>7331</th>\n",
       "      <td>1.0</td>\n",
       "      <td>0.0</td>\n",
       "      <td>0.0</td>\n",
       "      <td>0.0</td>\n",
       "      <td>0.0</td>\n",
       "      <td>0.0</td>\n",
       "      <td>0.0</td>\n",
       "      <td>0.0</td>\n",
       "      <td>0.0</td>\n",
       "      <td>0.0</td>\n",
       "      <td>0.0</td>\n",
       "      <td>0.0</td>\n",
       "      <td>0.0</td>\n",
       "      <td>0.0</td>\n",
       "      <td>0</td>\n",
       "      <td>0.0</td>\n",
       "      <td>1</td>\n",
       "    </tr>\n",
       "    <tr>\n",
       "      <th>7332</th>\n",
       "      <td>1.0</td>\n",
       "      <td>0.0</td>\n",
       "      <td>0.0</td>\n",
       "      <td>0.0</td>\n",
       "      <td>0.0</td>\n",
       "      <td>0.0</td>\n",
       "      <td>0.0</td>\n",
       "      <td>0.0</td>\n",
       "      <td>0.0</td>\n",
       "      <td>0.0</td>\n",
       "      <td>0.0</td>\n",
       "      <td>0.0</td>\n",
       "      <td>0.0</td>\n",
       "      <td>1.0</td>\n",
       "      <td>0</td>\n",
       "      <td>0.0</td>\n",
       "      <td>2</td>\n",
       "    </tr>\n",
       "  </tbody>\n",
       "</table>\n",
       "</div>"
      ],
      "text/plain": [
       "      ILNAsv  AcSuppSv  PSEdSuppSv  CareerSv  EmplyTrSv  BudgetSv  HousEdSv  \\\n",
       "7328     0.0       0.0         0.0       0.0        0.0       0.0       1.0   \n",
       "7329     1.0       0.0         0.0       0.0        0.0       0.0       0.0   \n",
       "7330     1.0       0.0         0.0       0.0        0.0       0.0       0.0   \n",
       "7331     1.0       0.0         0.0       0.0        0.0       0.0       0.0   \n",
       "7332     1.0       0.0         0.0       0.0        0.0       0.0       0.0   \n",
       "\n",
       "      HlthEdSv  FamSuppSv  MentorSv  SILsv  RmBrdFASv  EducFinaSv  OthrFinaSv  \\\n",
       "7328       0.0        0.0       0.0    0.0        0.0         0.0         1.0   \n",
       "7329       0.0        0.0       0.0    0.0        0.0         0.0         0.0   \n",
       "7330       0.0        0.0       0.0    0.0        0.0         1.0         1.0   \n",
       "7331       0.0        0.0       0.0    0.0        0.0         0.0         0.0   \n",
       "7332       0.0        0.0       0.0    0.0        0.0         0.0         1.0   \n",
       "\n",
       "      St  DelinqntSv  Num_services  \n",
       "7328   0         0.0             2  \n",
       "7329   0         0.0             1  \n",
       "7330   0         0.0             3  \n",
       "7331   0         0.0             1  \n",
       "7332   0         0.0             2  "
      ]
     },
     "execution_count": 11,
     "metadata": {},
     "output_type": "execute_result"
    }
   ],
   "source": [
    "#  # with num_services and state as one feature\n",
    "\n",
    "from sklearn.preprocessing import LabelEncoder\n",
    "le = LabelEncoder()\n",
    "\n",
    "features_2 = features.copy()\n",
    "\n",
    "features_w2_original = features_2[features_2.Wave == \"Wave 2: Age 19 Followup\"]\n",
    "features_w2_original = features_w2_original.drop('Wave', axis = 1)\n",
    "\n",
    "features_w2_original['St'] = le.fit_transform(features_w2_original['St'])\n",
    "\n",
    "features_w2_original.head()"
   ]
  },
  {
   "cell_type": "code",
   "execution_count": 12,
   "metadata": {
    "collapsed": false
   },
   "outputs": [
    {
     "data": {
      "text/html": [
       "<div>\n",
       "<table border=\"1\" class=\"dataframe\">\n",
       "  <thead>\n",
       "    <tr style=\"text-align: right;\">\n",
       "      <th></th>\n",
       "      <th>ILNAsv</th>\n",
       "      <th>AcSuppSv</th>\n",
       "      <th>PSEdSuppSv</th>\n",
       "      <th>CareerSv</th>\n",
       "      <th>EmplyTrSv</th>\n",
       "      <th>BudgetSv</th>\n",
       "      <th>HousEdSv</th>\n",
       "      <th>HlthEdSv</th>\n",
       "      <th>FamSuppSv</th>\n",
       "      <th>MentorSv</th>\n",
       "      <th>...</th>\n",
       "      <th>St_RI</th>\n",
       "      <th>St_SC</th>\n",
       "      <th>St_SD</th>\n",
       "      <th>St_UT</th>\n",
       "      <th>St_VA</th>\n",
       "      <th>St_VT</th>\n",
       "      <th>St_WA</th>\n",
       "      <th>St_WI</th>\n",
       "      <th>St_WV</th>\n",
       "      <th>St_WY</th>\n",
       "    </tr>\n",
       "  </thead>\n",
       "  <tbody>\n",
       "    <tr>\n",
       "      <th>7328</th>\n",
       "      <td>0.0</td>\n",
       "      <td>0.0</td>\n",
       "      <td>0.0</td>\n",
       "      <td>0.0</td>\n",
       "      <td>0.0</td>\n",
       "      <td>0.0</td>\n",
       "      <td>1.0</td>\n",
       "      <td>0.0</td>\n",
       "      <td>0.0</td>\n",
       "      <td>0.0</td>\n",
       "      <td>...</td>\n",
       "      <td>0.0</td>\n",
       "      <td>0.0</td>\n",
       "      <td>0.0</td>\n",
       "      <td>0.0</td>\n",
       "      <td>0.0</td>\n",
       "      <td>0.0</td>\n",
       "      <td>0.0</td>\n",
       "      <td>0.0</td>\n",
       "      <td>0.0</td>\n",
       "      <td>0.0</td>\n",
       "    </tr>\n",
       "    <tr>\n",
       "      <th>7329</th>\n",
       "      <td>1.0</td>\n",
       "      <td>0.0</td>\n",
       "      <td>0.0</td>\n",
       "      <td>0.0</td>\n",
       "      <td>0.0</td>\n",
       "      <td>0.0</td>\n",
       "      <td>0.0</td>\n",
       "      <td>0.0</td>\n",
       "      <td>0.0</td>\n",
       "      <td>0.0</td>\n",
       "      <td>...</td>\n",
       "      <td>0.0</td>\n",
       "      <td>0.0</td>\n",
       "      <td>0.0</td>\n",
       "      <td>0.0</td>\n",
       "      <td>0.0</td>\n",
       "      <td>0.0</td>\n",
       "      <td>0.0</td>\n",
       "      <td>0.0</td>\n",
       "      <td>0.0</td>\n",
       "      <td>0.0</td>\n",
       "    </tr>\n",
       "    <tr>\n",
       "      <th>7330</th>\n",
       "      <td>1.0</td>\n",
       "      <td>0.0</td>\n",
       "      <td>0.0</td>\n",
       "      <td>0.0</td>\n",
       "      <td>0.0</td>\n",
       "      <td>0.0</td>\n",
       "      <td>0.0</td>\n",
       "      <td>0.0</td>\n",
       "      <td>0.0</td>\n",
       "      <td>0.0</td>\n",
       "      <td>...</td>\n",
       "      <td>0.0</td>\n",
       "      <td>0.0</td>\n",
       "      <td>0.0</td>\n",
       "      <td>0.0</td>\n",
       "      <td>0.0</td>\n",
       "      <td>0.0</td>\n",
       "      <td>0.0</td>\n",
       "      <td>0.0</td>\n",
       "      <td>0.0</td>\n",
       "      <td>0.0</td>\n",
       "    </tr>\n",
       "    <tr>\n",
       "      <th>7331</th>\n",
       "      <td>1.0</td>\n",
       "      <td>0.0</td>\n",
       "      <td>0.0</td>\n",
       "      <td>0.0</td>\n",
       "      <td>0.0</td>\n",
       "      <td>0.0</td>\n",
       "      <td>0.0</td>\n",
       "      <td>0.0</td>\n",
       "      <td>0.0</td>\n",
       "      <td>0.0</td>\n",
       "      <td>...</td>\n",
       "      <td>0.0</td>\n",
       "      <td>0.0</td>\n",
       "      <td>0.0</td>\n",
       "      <td>0.0</td>\n",
       "      <td>0.0</td>\n",
       "      <td>0.0</td>\n",
       "      <td>0.0</td>\n",
       "      <td>0.0</td>\n",
       "      <td>0.0</td>\n",
       "      <td>0.0</td>\n",
       "    </tr>\n",
       "    <tr>\n",
       "      <th>7332</th>\n",
       "      <td>1.0</td>\n",
       "      <td>0.0</td>\n",
       "      <td>0.0</td>\n",
       "      <td>0.0</td>\n",
       "      <td>0.0</td>\n",
       "      <td>0.0</td>\n",
       "      <td>0.0</td>\n",
       "      <td>0.0</td>\n",
       "      <td>0.0</td>\n",
       "      <td>0.0</td>\n",
       "      <td>...</td>\n",
       "      <td>0.0</td>\n",
       "      <td>0.0</td>\n",
       "      <td>0.0</td>\n",
       "      <td>0.0</td>\n",
       "      <td>0.0</td>\n",
       "      <td>0.0</td>\n",
       "      <td>0.0</td>\n",
       "      <td>0.0</td>\n",
       "      <td>0.0</td>\n",
       "      <td>0.0</td>\n",
       "    </tr>\n",
       "  </tbody>\n",
       "</table>\n",
       "<p>5 rows × 58 columns</p>\n",
       "</div>"
      ],
      "text/plain": [
       "      ILNAsv  AcSuppSv  PSEdSuppSv  CareerSv  EmplyTrSv  BudgetSv  HousEdSv  \\\n",
       "7328     0.0       0.0         0.0       0.0        0.0       0.0       1.0   \n",
       "7329     1.0       0.0         0.0       0.0        0.0       0.0       0.0   \n",
       "7330     1.0       0.0         0.0       0.0        0.0       0.0       0.0   \n",
       "7331     1.0       0.0         0.0       0.0        0.0       0.0       0.0   \n",
       "7332     1.0       0.0         0.0       0.0        0.0       0.0       0.0   \n",
       "\n",
       "      HlthEdSv  FamSuppSv  MentorSv  ...    St_RI  St_SC  St_SD  St_UT  St_VA  \\\n",
       "7328       0.0        0.0       0.0  ...      0.0    0.0    0.0    0.0    0.0   \n",
       "7329       0.0        0.0       0.0  ...      0.0    0.0    0.0    0.0    0.0   \n",
       "7330       0.0        0.0       0.0  ...      0.0    0.0    0.0    0.0    0.0   \n",
       "7331       0.0        0.0       0.0  ...      0.0    0.0    0.0    0.0    0.0   \n",
       "7332       0.0        0.0       0.0  ...      0.0    0.0    0.0    0.0    0.0   \n",
       "\n",
       "      St_VT  St_WA  St_WI  St_WV  St_WY  \n",
       "7328    0.0    0.0    0.0    0.0    0.0  \n",
       "7329    0.0    0.0    0.0    0.0    0.0  \n",
       "7330    0.0    0.0    0.0    0.0    0.0  \n",
       "7331    0.0    0.0    0.0    0.0    0.0  \n",
       "7332    0.0    0.0    0.0    0.0    0.0  \n",
       "\n",
       "[5 rows x 58 columns]"
      ]
     },
     "execution_count": 12,
     "metadata": {},
     "output_type": "execute_result"
    }
   ],
   "source": [
    "    # with num_services and states as dummies\n",
    "\n",
    "features_2 = features.copy()\n",
    "\n",
    "features_w2_stDums = features_2[features_2.Wave == \"Wave 2: Age 19 Followup\"]\n",
    "features_w2_stDums = features_w2_stDums.drop('Wave', axis = 1)\n",
    "\n",
    "features_w2_stDums = pd.get_dummies(features_w2_stDums)\n",
    "\n",
    "features_w2_stDums.head()\n",
    "\n"
   ]
  },
  {
   "cell_type": "code",
   "execution_count": 13,
   "metadata": {
    "collapsed": false
   },
   "outputs": [
    {
     "data": {
      "text/html": [
       "<div>\n",
       "<table border=\"1\" class=\"dataframe\">\n",
       "  <thead>\n",
       "    <tr style=\"text-align: right;\">\n",
       "      <th></th>\n",
       "      <th>ILNAsv</th>\n",
       "      <th>AcSuppSv</th>\n",
       "      <th>PSEdSuppSv</th>\n",
       "      <th>CareerSv</th>\n",
       "      <th>EmplyTrSv</th>\n",
       "      <th>BudgetSv</th>\n",
       "      <th>HousEdSv</th>\n",
       "      <th>HlthEdSv</th>\n",
       "      <th>FamSuppSv</th>\n",
       "      <th>MentorSv</th>\n",
       "      <th>...</th>\n",
       "      <th>St_RI</th>\n",
       "      <th>St_SC</th>\n",
       "      <th>St_SD</th>\n",
       "      <th>St_UT</th>\n",
       "      <th>St_VA</th>\n",
       "      <th>St_VT</th>\n",
       "      <th>St_WA</th>\n",
       "      <th>St_WI</th>\n",
       "      <th>St_WV</th>\n",
       "      <th>St_WY</th>\n",
       "    </tr>\n",
       "  </thead>\n",
       "  <tbody>\n",
       "    <tr>\n",
       "      <th>7328</th>\n",
       "      <td>0.0</td>\n",
       "      <td>0.0</td>\n",
       "      <td>0.0</td>\n",
       "      <td>0.0</td>\n",
       "      <td>0.0</td>\n",
       "      <td>0.0</td>\n",
       "      <td>1.0</td>\n",
       "      <td>0.0</td>\n",
       "      <td>0.0</td>\n",
       "      <td>0.0</td>\n",
       "      <td>...</td>\n",
       "      <td>0.0</td>\n",
       "      <td>0.0</td>\n",
       "      <td>0.0</td>\n",
       "      <td>0.0</td>\n",
       "      <td>0.0</td>\n",
       "      <td>0.0</td>\n",
       "      <td>0.0</td>\n",
       "      <td>0.0</td>\n",
       "      <td>0.0</td>\n",
       "      <td>0.0</td>\n",
       "    </tr>\n",
       "    <tr>\n",
       "      <th>7329</th>\n",
       "      <td>1.0</td>\n",
       "      <td>0.0</td>\n",
       "      <td>0.0</td>\n",
       "      <td>0.0</td>\n",
       "      <td>0.0</td>\n",
       "      <td>0.0</td>\n",
       "      <td>0.0</td>\n",
       "      <td>0.0</td>\n",
       "      <td>0.0</td>\n",
       "      <td>0.0</td>\n",
       "      <td>...</td>\n",
       "      <td>0.0</td>\n",
       "      <td>0.0</td>\n",
       "      <td>0.0</td>\n",
       "      <td>0.0</td>\n",
       "      <td>0.0</td>\n",
       "      <td>0.0</td>\n",
       "      <td>0.0</td>\n",
       "      <td>0.0</td>\n",
       "      <td>0.0</td>\n",
       "      <td>0.0</td>\n",
       "    </tr>\n",
       "    <tr>\n",
       "      <th>7330</th>\n",
       "      <td>1.0</td>\n",
       "      <td>0.0</td>\n",
       "      <td>0.0</td>\n",
       "      <td>0.0</td>\n",
       "      <td>0.0</td>\n",
       "      <td>0.0</td>\n",
       "      <td>0.0</td>\n",
       "      <td>0.0</td>\n",
       "      <td>0.0</td>\n",
       "      <td>0.0</td>\n",
       "      <td>...</td>\n",
       "      <td>0.0</td>\n",
       "      <td>0.0</td>\n",
       "      <td>0.0</td>\n",
       "      <td>0.0</td>\n",
       "      <td>0.0</td>\n",
       "      <td>0.0</td>\n",
       "      <td>0.0</td>\n",
       "      <td>0.0</td>\n",
       "      <td>0.0</td>\n",
       "      <td>0.0</td>\n",
       "    </tr>\n",
       "    <tr>\n",
       "      <th>7331</th>\n",
       "      <td>1.0</td>\n",
       "      <td>0.0</td>\n",
       "      <td>0.0</td>\n",
       "      <td>0.0</td>\n",
       "      <td>0.0</td>\n",
       "      <td>0.0</td>\n",
       "      <td>0.0</td>\n",
       "      <td>0.0</td>\n",
       "      <td>0.0</td>\n",
       "      <td>0.0</td>\n",
       "      <td>...</td>\n",
       "      <td>0.0</td>\n",
       "      <td>0.0</td>\n",
       "      <td>0.0</td>\n",
       "      <td>0.0</td>\n",
       "      <td>0.0</td>\n",
       "      <td>0.0</td>\n",
       "      <td>0.0</td>\n",
       "      <td>0.0</td>\n",
       "      <td>0.0</td>\n",
       "      <td>0.0</td>\n",
       "    </tr>\n",
       "    <tr>\n",
       "      <th>7332</th>\n",
       "      <td>1.0</td>\n",
       "      <td>0.0</td>\n",
       "      <td>0.0</td>\n",
       "      <td>0.0</td>\n",
       "      <td>0.0</td>\n",
       "      <td>0.0</td>\n",
       "      <td>0.0</td>\n",
       "      <td>0.0</td>\n",
       "      <td>0.0</td>\n",
       "      <td>0.0</td>\n",
       "      <td>...</td>\n",
       "      <td>0.0</td>\n",
       "      <td>0.0</td>\n",
       "      <td>0.0</td>\n",
       "      <td>0.0</td>\n",
       "      <td>0.0</td>\n",
       "      <td>0.0</td>\n",
       "      <td>0.0</td>\n",
       "      <td>0.0</td>\n",
       "      <td>0.0</td>\n",
       "      <td>0.0</td>\n",
       "    </tr>\n",
       "  </tbody>\n",
       "</table>\n",
       "<p>5 rows × 57 columns</p>\n",
       "</div>"
      ],
      "text/plain": [
       "      ILNAsv  AcSuppSv  PSEdSuppSv  CareerSv  EmplyTrSv  BudgetSv  HousEdSv  \\\n",
       "7328     0.0       0.0         0.0       0.0        0.0       0.0       1.0   \n",
       "7329     1.0       0.0         0.0       0.0        0.0       0.0       0.0   \n",
       "7330     1.0       0.0         0.0       0.0        0.0       0.0       0.0   \n",
       "7331     1.0       0.0         0.0       0.0        0.0       0.0       0.0   \n",
       "7332     1.0       0.0         0.0       0.0        0.0       0.0       0.0   \n",
       "\n",
       "      HlthEdSv  FamSuppSv  MentorSv  ...    St_RI  St_SC  St_SD  St_UT  St_VA  \\\n",
       "7328       0.0        0.0       0.0  ...      0.0    0.0    0.0    0.0    0.0   \n",
       "7329       0.0        0.0       0.0  ...      0.0    0.0    0.0    0.0    0.0   \n",
       "7330       0.0        0.0       0.0  ...      0.0    0.0    0.0    0.0    0.0   \n",
       "7331       0.0        0.0       0.0  ...      0.0    0.0    0.0    0.0    0.0   \n",
       "7332       0.0        0.0       0.0  ...      0.0    0.0    0.0    0.0    0.0   \n",
       "\n",
       "      St_VT  St_WA  St_WI  St_WV  St_WY  \n",
       "7328    0.0    0.0    0.0    0.0    0.0  \n",
       "7329    0.0    0.0    0.0    0.0    0.0  \n",
       "7330    0.0    0.0    0.0    0.0    0.0  \n",
       "7331    0.0    0.0    0.0    0.0    0.0  \n",
       "7332    0.0    0.0    0.0    0.0    0.0  \n",
       "\n",
       "[5 rows x 57 columns]"
      ]
     },
     "execution_count": 13,
     "metadata": {},
     "output_type": "execute_result"
    }
   ],
   "source": [
    "    # withOUT num_services and states as dummies\n",
    "\n",
    "features_noNum_stDums = features_w2_stDums.copy()\n",
    "\n",
    "features_noNum_stDums = features_noNum_stDums.drop('Num_services', axis = 1)\n",
    "\n",
    "features_noNum_stDums.head()\n"
   ]
  },
  {
   "cell_type": "code",
   "execution_count": 14,
   "metadata": {
    "collapsed": false
   },
   "outputs": [
    {
     "data": {
      "text/html": [
       "<div>\n",
       "<table border=\"1\" class=\"dataframe\">\n",
       "  <thead>\n",
       "    <tr style=\"text-align: right;\">\n",
       "      <th></th>\n",
       "      <th>ILNAsv</th>\n",
       "      <th>AcSuppSv</th>\n",
       "      <th>PSEdSuppSv</th>\n",
       "      <th>CareerSv</th>\n",
       "      <th>EmplyTrSv</th>\n",
       "      <th>BudgetSv</th>\n",
       "      <th>HousEdSv</th>\n",
       "      <th>HlthEdSv</th>\n",
       "      <th>FamSuppSv</th>\n",
       "      <th>MentorSv</th>\n",
       "      <th>SILsv</th>\n",
       "      <th>RmBrdFASv</th>\n",
       "      <th>EducFinaSv</th>\n",
       "      <th>OthrFinaSv</th>\n",
       "      <th>St</th>\n",
       "      <th>DelinqntSv</th>\n",
       "    </tr>\n",
       "  </thead>\n",
       "  <tbody>\n",
       "    <tr>\n",
       "      <th>7328</th>\n",
       "      <td>0.0</td>\n",
       "      <td>0.0</td>\n",
       "      <td>0.0</td>\n",
       "      <td>0.0</td>\n",
       "      <td>0.0</td>\n",
       "      <td>0.0</td>\n",
       "      <td>1.0</td>\n",
       "      <td>0.0</td>\n",
       "      <td>0.0</td>\n",
       "      <td>0.0</td>\n",
       "      <td>0.0</td>\n",
       "      <td>0.0</td>\n",
       "      <td>0.0</td>\n",
       "      <td>1.0</td>\n",
       "      <td>0</td>\n",
       "      <td>0.0</td>\n",
       "    </tr>\n",
       "    <tr>\n",
       "      <th>7329</th>\n",
       "      <td>1.0</td>\n",
       "      <td>0.0</td>\n",
       "      <td>0.0</td>\n",
       "      <td>0.0</td>\n",
       "      <td>0.0</td>\n",
       "      <td>0.0</td>\n",
       "      <td>0.0</td>\n",
       "      <td>0.0</td>\n",
       "      <td>0.0</td>\n",
       "      <td>0.0</td>\n",
       "      <td>0.0</td>\n",
       "      <td>0.0</td>\n",
       "      <td>0.0</td>\n",
       "      <td>0.0</td>\n",
       "      <td>0</td>\n",
       "      <td>0.0</td>\n",
       "    </tr>\n",
       "    <tr>\n",
       "      <th>7330</th>\n",
       "      <td>1.0</td>\n",
       "      <td>0.0</td>\n",
       "      <td>0.0</td>\n",
       "      <td>0.0</td>\n",
       "      <td>0.0</td>\n",
       "      <td>0.0</td>\n",
       "      <td>0.0</td>\n",
       "      <td>0.0</td>\n",
       "      <td>0.0</td>\n",
       "      <td>0.0</td>\n",
       "      <td>0.0</td>\n",
       "      <td>0.0</td>\n",
       "      <td>1.0</td>\n",
       "      <td>1.0</td>\n",
       "      <td>0</td>\n",
       "      <td>0.0</td>\n",
       "    </tr>\n",
       "    <tr>\n",
       "      <th>7331</th>\n",
       "      <td>1.0</td>\n",
       "      <td>0.0</td>\n",
       "      <td>0.0</td>\n",
       "      <td>0.0</td>\n",
       "      <td>0.0</td>\n",
       "      <td>0.0</td>\n",
       "      <td>0.0</td>\n",
       "      <td>0.0</td>\n",
       "      <td>0.0</td>\n",
       "      <td>0.0</td>\n",
       "      <td>0.0</td>\n",
       "      <td>0.0</td>\n",
       "      <td>0.0</td>\n",
       "      <td>0.0</td>\n",
       "      <td>0</td>\n",
       "      <td>0.0</td>\n",
       "    </tr>\n",
       "    <tr>\n",
       "      <th>7332</th>\n",
       "      <td>1.0</td>\n",
       "      <td>0.0</td>\n",
       "      <td>0.0</td>\n",
       "      <td>0.0</td>\n",
       "      <td>0.0</td>\n",
       "      <td>0.0</td>\n",
       "      <td>0.0</td>\n",
       "      <td>0.0</td>\n",
       "      <td>0.0</td>\n",
       "      <td>0.0</td>\n",
       "      <td>0.0</td>\n",
       "      <td>0.0</td>\n",
       "      <td>0.0</td>\n",
       "      <td>1.0</td>\n",
       "      <td>0</td>\n",
       "      <td>0.0</td>\n",
       "    </tr>\n",
       "  </tbody>\n",
       "</table>\n",
       "</div>"
      ],
      "text/plain": [
       "      ILNAsv  AcSuppSv  PSEdSuppSv  CareerSv  EmplyTrSv  BudgetSv  HousEdSv  \\\n",
       "7328     0.0       0.0         0.0       0.0        0.0       0.0       1.0   \n",
       "7329     1.0       0.0         0.0       0.0        0.0       0.0       0.0   \n",
       "7330     1.0       0.0         0.0       0.0        0.0       0.0       0.0   \n",
       "7331     1.0       0.0         0.0       0.0        0.0       0.0       0.0   \n",
       "7332     1.0       0.0         0.0       0.0        0.0       0.0       0.0   \n",
       "\n",
       "      HlthEdSv  FamSuppSv  MentorSv  SILsv  RmBrdFASv  EducFinaSv  OthrFinaSv  \\\n",
       "7328       0.0        0.0       0.0    0.0        0.0         0.0         1.0   \n",
       "7329       0.0        0.0       0.0    0.0        0.0         0.0         0.0   \n",
       "7330       0.0        0.0       0.0    0.0        0.0         1.0         1.0   \n",
       "7331       0.0        0.0       0.0    0.0        0.0         0.0         0.0   \n",
       "7332       0.0        0.0       0.0    0.0        0.0         0.0         1.0   \n",
       "\n",
       "      St  DelinqntSv  \n",
       "7328   0         0.0  \n",
       "7329   0         0.0  \n",
       "7330   0         0.0  \n",
       "7331   0         0.0  \n",
       "7332   0         0.0  "
      ]
     },
     "execution_count": 14,
     "metadata": {},
     "output_type": "execute_result"
    }
   ],
   "source": [
    "# withOUT num_services and state as one feature\n",
    "\n",
    "features_noNum_st_one = features_w2_original.copy()\n",
    "\n",
    "features_noNum_st_one = features_noNum_st_one.drop('Num_services', axis = 1)\n",
    "\n",
    "features_noNum_st_one.head()\n"
   ]
  },
  {
   "cell_type": "code",
   "execution_count": 15,
   "metadata": {
    "collapsed": false
   },
   "outputs": [
    {
     "data": {
      "text/html": [
       "<div>\n",
       "<table border=\"1\" class=\"dataframe\">\n",
       "  <thead>\n",
       "    <tr style=\"text-align: right;\">\n",
       "      <th></th>\n",
       "      <th>ILNAsv</th>\n",
       "      <th>AcSuppSv</th>\n",
       "      <th>PSEdSuppSv</th>\n",
       "      <th>CareerSv</th>\n",
       "      <th>EmplyTrSv</th>\n",
       "      <th>BudgetSv</th>\n",
       "      <th>HousEdSv</th>\n",
       "      <th>HlthEdSv</th>\n",
       "      <th>FamSuppSv</th>\n",
       "      <th>MentorSv</th>\n",
       "      <th>SILsv</th>\n",
       "      <th>RmBrdFASv</th>\n",
       "      <th>EducFinaSv</th>\n",
       "      <th>OthrFinaSv</th>\n",
       "      <th>DelinqntSv</th>\n",
       "      <th>Num_services</th>\n",
       "    </tr>\n",
       "  </thead>\n",
       "  <tbody>\n",
       "    <tr>\n",
       "      <th>7328</th>\n",
       "      <td>0.0</td>\n",
       "      <td>0.0</td>\n",
       "      <td>0.0</td>\n",
       "      <td>0.0</td>\n",
       "      <td>0.0</td>\n",
       "      <td>0.0</td>\n",
       "      <td>1.0</td>\n",
       "      <td>0.0</td>\n",
       "      <td>0.0</td>\n",
       "      <td>0.0</td>\n",
       "      <td>0.0</td>\n",
       "      <td>0.0</td>\n",
       "      <td>0.0</td>\n",
       "      <td>1.0</td>\n",
       "      <td>0.0</td>\n",
       "      <td>2</td>\n",
       "    </tr>\n",
       "    <tr>\n",
       "      <th>7329</th>\n",
       "      <td>1.0</td>\n",
       "      <td>0.0</td>\n",
       "      <td>0.0</td>\n",
       "      <td>0.0</td>\n",
       "      <td>0.0</td>\n",
       "      <td>0.0</td>\n",
       "      <td>0.0</td>\n",
       "      <td>0.0</td>\n",
       "      <td>0.0</td>\n",
       "      <td>0.0</td>\n",
       "      <td>0.0</td>\n",
       "      <td>0.0</td>\n",
       "      <td>0.0</td>\n",
       "      <td>0.0</td>\n",
       "      <td>0.0</td>\n",
       "      <td>1</td>\n",
       "    </tr>\n",
       "    <tr>\n",
       "      <th>7330</th>\n",
       "      <td>1.0</td>\n",
       "      <td>0.0</td>\n",
       "      <td>0.0</td>\n",
       "      <td>0.0</td>\n",
       "      <td>0.0</td>\n",
       "      <td>0.0</td>\n",
       "      <td>0.0</td>\n",
       "      <td>0.0</td>\n",
       "      <td>0.0</td>\n",
       "      <td>0.0</td>\n",
       "      <td>0.0</td>\n",
       "      <td>0.0</td>\n",
       "      <td>1.0</td>\n",
       "      <td>1.0</td>\n",
       "      <td>0.0</td>\n",
       "      <td>3</td>\n",
       "    </tr>\n",
       "    <tr>\n",
       "      <th>7331</th>\n",
       "      <td>1.0</td>\n",
       "      <td>0.0</td>\n",
       "      <td>0.0</td>\n",
       "      <td>0.0</td>\n",
       "      <td>0.0</td>\n",
       "      <td>0.0</td>\n",
       "      <td>0.0</td>\n",
       "      <td>0.0</td>\n",
       "      <td>0.0</td>\n",
       "      <td>0.0</td>\n",
       "      <td>0.0</td>\n",
       "      <td>0.0</td>\n",
       "      <td>0.0</td>\n",
       "      <td>0.0</td>\n",
       "      <td>0.0</td>\n",
       "      <td>1</td>\n",
       "    </tr>\n",
       "    <tr>\n",
       "      <th>7332</th>\n",
       "      <td>1.0</td>\n",
       "      <td>0.0</td>\n",
       "      <td>0.0</td>\n",
       "      <td>0.0</td>\n",
       "      <td>0.0</td>\n",
       "      <td>0.0</td>\n",
       "      <td>0.0</td>\n",
       "      <td>0.0</td>\n",
       "      <td>0.0</td>\n",
       "      <td>0.0</td>\n",
       "      <td>0.0</td>\n",
       "      <td>0.0</td>\n",
       "      <td>0.0</td>\n",
       "      <td>1.0</td>\n",
       "      <td>0.0</td>\n",
       "      <td>2</td>\n",
       "    </tr>\n",
       "  </tbody>\n",
       "</table>\n",
       "</div>"
      ],
      "text/plain": [
       "      ILNAsv  AcSuppSv  PSEdSuppSv  CareerSv  EmplyTrSv  BudgetSv  HousEdSv  \\\n",
       "7328     0.0       0.0         0.0       0.0        0.0       0.0       1.0   \n",
       "7329     1.0       0.0         0.0       0.0        0.0       0.0       0.0   \n",
       "7330     1.0       0.0         0.0       0.0        0.0       0.0       0.0   \n",
       "7331     1.0       0.0         0.0       0.0        0.0       0.0       0.0   \n",
       "7332     1.0       0.0         0.0       0.0        0.0       0.0       0.0   \n",
       "\n",
       "      HlthEdSv  FamSuppSv  MentorSv  SILsv  RmBrdFASv  EducFinaSv  OthrFinaSv  \\\n",
       "7328       0.0        0.0       0.0    0.0        0.0         0.0         1.0   \n",
       "7329       0.0        0.0       0.0    0.0        0.0         0.0         0.0   \n",
       "7330       0.0        0.0       0.0    0.0        0.0         1.0         1.0   \n",
       "7331       0.0        0.0       0.0    0.0        0.0         0.0         0.0   \n",
       "7332       0.0        0.0       0.0    0.0        0.0         0.0         1.0   \n",
       "\n",
       "      DelinqntSv  Num_services  \n",
       "7328         0.0             2  \n",
       "7329         0.0             1  \n",
       "7330         0.0             3  \n",
       "7331         0.0             1  \n",
       "7332         0.0             2  "
      ]
     },
     "execution_count": 15,
     "metadata": {},
     "output_type": "execute_result"
    }
   ],
   "source": [
    "# withOUT states and with num_services\n",
    "    \n",
    "features_noSt = features.copy()\n",
    "\n",
    "features_noSt = features_noSt[features_noSt.Wave == \"Wave 2: Age 19 Followup\"]\n",
    "features_noSt = features_noSt.drop('Wave', axis = 1)\n",
    "features_noSt = features_noSt.drop('St', axis = 1)\n",
    "\n",
    "features_noSt.head()\n"
   ]
  },
  {
   "cell_type": "code",
   "execution_count": 16,
   "metadata": {
    "collapsed": false
   },
   "outputs": [
    {
     "data": {
      "text/html": [
       "<div>\n",
       "<table border=\"1\" class=\"dataframe\">\n",
       "  <thead>\n",
       "    <tr style=\"text-align: right;\">\n",
       "      <th></th>\n",
       "      <th>ILNAsv</th>\n",
       "      <th>AcSuppSv</th>\n",
       "      <th>PSEdSuppSv</th>\n",
       "      <th>CareerSv</th>\n",
       "      <th>EmplyTrSv</th>\n",
       "      <th>BudgetSv</th>\n",
       "      <th>HousEdSv</th>\n",
       "      <th>HlthEdSv</th>\n",
       "      <th>FamSuppSv</th>\n",
       "      <th>MentorSv</th>\n",
       "      <th>SILsv</th>\n",
       "      <th>RmBrdFASv</th>\n",
       "      <th>EducFinaSv</th>\n",
       "      <th>OthrFinaSv</th>\n",
       "      <th>DelinqntSv</th>\n",
       "    </tr>\n",
       "  </thead>\n",
       "  <tbody>\n",
       "    <tr>\n",
       "      <th>7328</th>\n",
       "      <td>0.0</td>\n",
       "      <td>0.0</td>\n",
       "      <td>0.0</td>\n",
       "      <td>0.0</td>\n",
       "      <td>0.0</td>\n",
       "      <td>0.0</td>\n",
       "      <td>1.0</td>\n",
       "      <td>0.0</td>\n",
       "      <td>0.0</td>\n",
       "      <td>0.0</td>\n",
       "      <td>0.0</td>\n",
       "      <td>0.0</td>\n",
       "      <td>0.0</td>\n",
       "      <td>1.0</td>\n",
       "      <td>0.0</td>\n",
       "    </tr>\n",
       "    <tr>\n",
       "      <th>7329</th>\n",
       "      <td>1.0</td>\n",
       "      <td>0.0</td>\n",
       "      <td>0.0</td>\n",
       "      <td>0.0</td>\n",
       "      <td>0.0</td>\n",
       "      <td>0.0</td>\n",
       "      <td>0.0</td>\n",
       "      <td>0.0</td>\n",
       "      <td>0.0</td>\n",
       "      <td>0.0</td>\n",
       "      <td>0.0</td>\n",
       "      <td>0.0</td>\n",
       "      <td>0.0</td>\n",
       "      <td>0.0</td>\n",
       "      <td>0.0</td>\n",
       "    </tr>\n",
       "    <tr>\n",
       "      <th>7330</th>\n",
       "      <td>1.0</td>\n",
       "      <td>0.0</td>\n",
       "      <td>0.0</td>\n",
       "      <td>0.0</td>\n",
       "      <td>0.0</td>\n",
       "      <td>0.0</td>\n",
       "      <td>0.0</td>\n",
       "      <td>0.0</td>\n",
       "      <td>0.0</td>\n",
       "      <td>0.0</td>\n",
       "      <td>0.0</td>\n",
       "      <td>0.0</td>\n",
       "      <td>1.0</td>\n",
       "      <td>1.0</td>\n",
       "      <td>0.0</td>\n",
       "    </tr>\n",
       "    <tr>\n",
       "      <th>7331</th>\n",
       "      <td>1.0</td>\n",
       "      <td>0.0</td>\n",
       "      <td>0.0</td>\n",
       "      <td>0.0</td>\n",
       "      <td>0.0</td>\n",
       "      <td>0.0</td>\n",
       "      <td>0.0</td>\n",
       "      <td>0.0</td>\n",
       "      <td>0.0</td>\n",
       "      <td>0.0</td>\n",
       "      <td>0.0</td>\n",
       "      <td>0.0</td>\n",
       "      <td>0.0</td>\n",
       "      <td>0.0</td>\n",
       "      <td>0.0</td>\n",
       "    </tr>\n",
       "    <tr>\n",
       "      <th>7332</th>\n",
       "      <td>1.0</td>\n",
       "      <td>0.0</td>\n",
       "      <td>0.0</td>\n",
       "      <td>0.0</td>\n",
       "      <td>0.0</td>\n",
       "      <td>0.0</td>\n",
       "      <td>0.0</td>\n",
       "      <td>0.0</td>\n",
       "      <td>0.0</td>\n",
       "      <td>0.0</td>\n",
       "      <td>0.0</td>\n",
       "      <td>0.0</td>\n",
       "      <td>0.0</td>\n",
       "      <td>1.0</td>\n",
       "      <td>0.0</td>\n",
       "    </tr>\n",
       "  </tbody>\n",
       "</table>\n",
       "</div>"
      ],
      "text/plain": [
       "      ILNAsv  AcSuppSv  PSEdSuppSv  CareerSv  EmplyTrSv  BudgetSv  HousEdSv  \\\n",
       "7328     0.0       0.0         0.0       0.0        0.0       0.0       1.0   \n",
       "7329     1.0       0.0         0.0       0.0        0.0       0.0       0.0   \n",
       "7330     1.0       0.0         0.0       0.0        0.0       0.0       0.0   \n",
       "7331     1.0       0.0         0.0       0.0        0.0       0.0       0.0   \n",
       "7332     1.0       0.0         0.0       0.0        0.0       0.0       0.0   \n",
       "\n",
       "      HlthEdSv  FamSuppSv  MentorSv  SILsv  RmBrdFASv  EducFinaSv  OthrFinaSv  \\\n",
       "7328       0.0        0.0       0.0    0.0        0.0         0.0         1.0   \n",
       "7329       0.0        0.0       0.0    0.0        0.0         0.0         0.0   \n",
       "7330       0.0        0.0       0.0    0.0        0.0         1.0         1.0   \n",
       "7331       0.0        0.0       0.0    0.0        0.0         0.0         0.0   \n",
       "7332       0.0        0.0       0.0    0.0        0.0         0.0         1.0   \n",
       "\n",
       "      DelinqntSv  \n",
       "7328         0.0  \n",
       "7329         0.0  \n",
       "7330         0.0  \n",
       "7331         0.0  \n",
       "7332         0.0  "
      ]
     },
     "execution_count": 16,
     "metadata": {},
     "output_type": "execute_result"
    }
   ],
   "source": [
    "# withOUT states and Num_services\n",
    "\n",
    "features_noSt_noNum = features_noSt.copy()\n",
    "\n",
    "features_noSt_noNum = features_noSt_noNum.drop('Num_services', axis = 1)\n",
    "\n",
    "features_noSt_noNum.head()\n"
   ]
  },
  {
   "cell_type": "code",
   "execution_count": 17,
   "metadata": {
    "collapsed": false
   },
   "outputs": [
    {
     "name": "stderr",
     "output_type": "stream",
     "text": [
      "/Users/cguy/anaconda/lib/python2.7/site-packages/numpy/lib/arraysetops.py:200: FutureWarning: numpy not_equal will not check object identity in the future. The comparison did not return the same result as suggested by the identity (`is`)) and will change.\n",
      "  flag = np.concatenate(([True], aux[1:] != aux[:-1]))\n"
     ]
    },
    {
     "data": {
      "text/html": [
       "<div>\n",
       "<table border=\"1\" class=\"dataframe\">\n",
       "  <thead>\n",
       "    <tr style=\"text-align: right;\">\n",
       "      <th></th>\n",
       "      <th>CurrenRoll</th>\n",
       "      <th>HighEdCert</th>\n",
       "    </tr>\n",
       "  </thead>\n",
       "  <tbody>\n",
       "    <tr>\n",
       "      <th>7328</th>\n",
       "      <td>2</td>\n",
       "      <td>7</td>\n",
       "    </tr>\n",
       "    <tr>\n",
       "      <th>7329</th>\n",
       "      <td>2</td>\n",
       "      <td>5</td>\n",
       "    </tr>\n",
       "    <tr>\n",
       "      <th>7330</th>\n",
       "      <td>3</td>\n",
       "      <td>5</td>\n",
       "    </tr>\n",
       "    <tr>\n",
       "      <th>7331</th>\n",
       "      <td>2</td>\n",
       "      <td>5</td>\n",
       "    </tr>\n",
       "    <tr>\n",
       "      <th>7332</th>\n",
       "      <td>2</td>\n",
       "      <td>5</td>\n",
       "    </tr>\n",
       "  </tbody>\n",
       "</table>\n",
       "</div>"
      ],
      "text/plain": [
       "      CurrenRoll  HighEdCert\n",
       "7328           2           7\n",
       "7329           2           5\n",
       "7330           3           5\n",
       "7331           2           5\n",
       "7332           2           5"
      ]
     },
     "execution_count": 17,
     "metadata": {},
     "output_type": "execute_result"
    }
   ],
   "source": [
    "from sklearn.preprocessing import LabelEncoder\n",
    "le = LabelEncoder()\n",
    "\n",
    "targets_w2_ = targets[targets.Wave == \"Wave 2: Age 19 Followup\"]\n",
    "targets_w2_ = targets_w2_.drop('Wave', axis = 1)\n",
    "\n",
    "\n",
    "targets_w2 = targets_w2_.copy()\n",
    "\n",
    "for column in targets_w2:\n",
    "    targets_w2[column] = le.fit_transform(targets_w2[column])\n",
    "targets_w2.head()"
   ]
  },
  {
   "cell_type": "code",
   "execution_count": 18,
   "metadata": {
    "collapsed": false
   },
   "outputs": [
    {
     "data": {
      "text/plain": [
       "Blank                      2813\n",
       "High school diploma/GED    2508\n",
       "None of the above          1705\n",
       "Declined                     95\n",
       "Vocational certificate       62\n",
       "Vocational license           19\n",
       "Associate's Degree            7\n",
       "Higher degree                 7\n",
       "Bachelor's Degree             2\n",
       "Name: HighEdCert, dtype: int64"
      ]
     },
     "execution_count": 18,
     "metadata": {},
     "output_type": "execute_result"
    }
   ],
   "source": [
    "targets_labels = targets[targets.Wave == \"Wave 2: Age 19 Followup\"]\n",
    "\n",
    "targets_labels.HighEdCert.value_counts()"
   ]
  },
  {
   "cell_type": "code",
   "execution_count": 19,
   "metadata": {
    "collapsed": false
   },
   "outputs": [
    {
     "data": {
      "text/plain": [
       "3    2813\n",
       "5    2508\n",
       "7    1705\n",
       "0     110\n",
       "4      95\n",
       "8      62\n",
       "9      19\n",
       "6       7\n",
       "1       7\n",
       "2       2\n",
       "Name: HighEdCert, dtype: int64"
      ]
     },
     "execution_count": 19,
     "metadata": {},
     "output_type": "execute_result"
    }
   ],
   "source": [
    "targets_w2.HighEdCert.value_counts()"
   ]
  },
  {
   "cell_type": "code",
   "execution_count": 20,
   "metadata": {
    "collapsed": false
   },
   "outputs": [
    {
     "data": {
      "text/plain": [
       "Blank       2808\n",
       "Yes         2447\n",
       "No          1996\n",
       "Declined      77\n",
       "Name: CurrenRoll, dtype: int64"
      ]
     },
     "execution_count": 20,
     "metadata": {},
     "output_type": "execute_result"
    }
   ],
   "source": [
    "targets_labels.CurrenRoll.value_counts()"
   ]
  },
  {
   "cell_type": "code",
   "execution_count": 21,
   "metadata": {
    "collapsed": false
   },
   "outputs": [
    {
     "data": {
      "text/plain": [
       "0    2808\n",
       "3    2447\n",
       "2    1996\n",
       "1      77\n",
       "Name: CurrenRoll, dtype: int64"
      ]
     },
     "execution_count": 21,
     "metadata": {},
     "output_type": "execute_result"
    }
   ],
   "source": [
    "targets_w2.CurrenRoll.value_counts()"
   ]
  },
  {
   "cell_type": "code",
   "execution_count": 22,
   "metadata": {
    "collapsed": false
   },
   "outputs": [
    {
     "data": {
      "text/html": [
       "<div>\n",
       "<table border=\"1\" class=\"dataframe\">\n",
       "  <thead>\n",
       "    <tr style=\"text-align: right;\">\n",
       "      <th></th>\n",
       "      <th>CurrenRoll</th>\n",
       "      <th>HighEdCert</th>\n",
       "      <th>Success</th>\n",
       "    </tr>\n",
       "  </thead>\n",
       "  <tbody>\n",
       "    <tr>\n",
       "      <th>7328</th>\n",
       "      <td>2</td>\n",
       "      <td>7</td>\n",
       "      <td>0</td>\n",
       "    </tr>\n",
       "    <tr>\n",
       "      <th>7329</th>\n",
       "      <td>2</td>\n",
       "      <td>5</td>\n",
       "      <td>0</td>\n",
       "    </tr>\n",
       "    <tr>\n",
       "      <th>7330</th>\n",
       "      <td>3</td>\n",
       "      <td>5</td>\n",
       "      <td>1</td>\n",
       "    </tr>\n",
       "    <tr>\n",
       "      <th>7331</th>\n",
       "      <td>2</td>\n",
       "      <td>5</td>\n",
       "      <td>0</td>\n",
       "    </tr>\n",
       "    <tr>\n",
       "      <th>7332</th>\n",
       "      <td>2</td>\n",
       "      <td>5</td>\n",
       "      <td>0</td>\n",
       "    </tr>\n",
       "    <tr>\n",
       "      <th>7333</th>\n",
       "      <td>3</td>\n",
       "      <td>7</td>\n",
       "      <td>1</td>\n",
       "    </tr>\n",
       "    <tr>\n",
       "      <th>7334</th>\n",
       "      <td>3</td>\n",
       "      <td>7</td>\n",
       "      <td>1</td>\n",
       "    </tr>\n",
       "    <tr>\n",
       "      <th>7335</th>\n",
       "      <td>2</td>\n",
       "      <td>5</td>\n",
       "      <td>0</td>\n",
       "    </tr>\n",
       "    <tr>\n",
       "      <th>7336</th>\n",
       "      <td>2</td>\n",
       "      <td>7</td>\n",
       "      <td>0</td>\n",
       "    </tr>\n",
       "    <tr>\n",
       "      <th>7337</th>\n",
       "      <td>3</td>\n",
       "      <td>7</td>\n",
       "      <td>1</td>\n",
       "    </tr>\n",
       "  </tbody>\n",
       "</table>\n",
       "</div>"
      ],
      "text/plain": [
       "      CurrenRoll  HighEdCert  Success\n",
       "7328           2           7        0\n",
       "7329           2           5        0\n",
       "7330           3           5        1\n",
       "7331           2           5        0\n",
       "7332           2           5        0\n",
       "7333           3           7        1\n",
       "7334           3           7        1\n",
       "7335           2           5        0\n",
       "7336           2           7        0\n",
       "7337           3           7        1"
      ]
     },
     "execution_count": 22,
     "metadata": {},
     "output_type": "execute_result"
    }
   ],
   "source": [
    "# y = 0 v 1, \n",
    "    # where 1 = Vocational certificate (8), Vocational license (9), Associate's Degree (6), \n",
    "            #   Higher degree (1), Bachelor's Degree (2)\n",
    "    # or 1 = when CurrenRoll == 3\n",
    "\n",
    "def determine_Success(row):\n",
    "    column_1 = 'HighEdCert'\n",
    "    column_2 = 'CurrenRoll'\n",
    "    if row[column_1] == 1:\n",
    "        val = 1\n",
    "    elif row[column_1] ==  2:\n",
    "        val = 1\n",
    "    elif row[column_1] ==  6:\n",
    "        val = 1\n",
    "    elif row[column_1] ==  9:\n",
    "        val = 1\n",
    "    elif row[column_1] ==  8:\n",
    "        val = 1\n",
    "    elif row[column_2] == 3:\n",
    "        val = 1\n",
    "    else:\n",
    "        val = 0\n",
    "    return val\n",
    "    \n",
    "targets_w2_final = targets_w2.copy()\n",
    "\n",
    "targets_w2_final['Success'] = targets_w2_final.apply(determine_Success, axis=1)\n",
    "targets_w2_final.head(10)\n",
    "\n"
   ]
  },
  {
   "cell_type": "code",
   "execution_count": 23,
   "metadata": {
    "collapsed": false
   },
   "outputs": [
    {
     "data": {
      "text/plain": [
       "0    4830\n",
       "1    2498\n",
       "Name: Success, dtype: int64"
      ]
     },
     "execution_count": 23,
     "metadata": {},
     "output_type": "execute_result"
    }
   ],
   "source": [
    "targets_w2_final['Success'].value_counts()"
   ]
  },
  {
   "cell_type": "markdown",
   "metadata": {},
   "source": [
    "# Feature Importance"
   ]
  },
  {
   "cell_type": "code",
   "execution_count": null,
   "metadata": {
    "collapsed": true
   },
   "outputs": [],
   "source": [
    "# with num_services and state as one feature\n",
    "features_w2_original"
   ]
  },
  {
   "cell_type": "code",
   "execution_count": null,
   "metadata": {
    "collapsed": true
   },
   "outputs": [],
   "source": [
    "# with num_services and states as dummies\n",
    "features_w2_stDums"
   ]
  },
  {
   "cell_type": "code",
   "execution_count": 24,
   "metadata": {
    "collapsed": true
   },
   "outputs": [],
   "source": [
    "X1 = features_w2_stDums"
   ]
  },
  {
   "cell_type": "code",
   "execution_count": 25,
   "metadata": {
    "collapsed": false
   },
   "outputs": [
    {
     "data": {
      "text/plain": [
       "Index([u'ILNAsv', u'AcSuppSv', u'PSEdSuppSv', u'CareerSv', u'EmplyTrSv',\n",
       "       u'BudgetSv', u'HousEdSv', u'HlthEdSv', u'FamSuppSv', u'MentorSv',\n",
       "       u'SILsv', u'RmBrdFASv', u'EducFinaSv', u'OthrFinaSv', u'DelinqntSv',\n",
       "       u'Num_services', u'St_AK', u'St_AL', u'St_AR', u'St_AZ', u'St_CA',\n",
       "       u'St_CO', u'St_DC', u'St_DE', u'St_FL', u'St_GA', u'St_IA', u'St_ID',\n",
       "       u'St_IL', u'St_KS', u'St_LA', u'St_MA', u'St_MD', u'St_ME', u'St_MI',\n",
       "       u'St_MN', u'St_MO', u'St_MT', u'St_NC', u'St_ND', u'St_NE', u'St_NH',\n",
       "       u'St_NJ', u'St_NM', u'St_NV', u'St_NY', u'St_OH', u'St_OK', u'St_RI',\n",
       "       u'St_SC', u'St_SD', u'St_UT', u'St_VA', u'St_VT', u'St_WA', u'St_WI',\n",
       "       u'St_WV', u'St_WY'],\n",
       "      dtype='object')"
      ]
     },
     "execution_count": 25,
     "metadata": {},
     "output_type": "execute_result"
    }
   ],
   "source": [
    "X1 = features_w2_stDums\n",
    "X1.columns"
   ]
  },
  {
   "cell_type": "code",
   "execution_count": 26,
   "metadata": {
    "collapsed": true
   },
   "outputs": [],
   "source": [
    "y = targets_w2_final['Success']"
   ]
  },
  {
   "cell_type": "code",
   "execution_count": 27,
   "metadata": {
    "collapsed": false
   },
   "outputs": [
    {
     "data": {
      "text/plain": [
       "DecisionTreeClassifier(class_weight=None, criterion='gini', max_depth=3,\n",
       "            max_features=None, max_leaf_nodes=None, min_samples_leaf=1,\n",
       "            min_samples_split=2, min_weight_fraction_leaf=0.0,\n",
       "            presort=False, random_state=None, splitter='best')"
      ]
     },
     "execution_count": 27,
     "metadata": {},
     "output_type": "execute_result"
    }
   ],
   "source": [
    "from sklearn.cross_validation import cross_val_score, StratifiedKFold\n",
    "from sklearn.tree import DecisionTreeClassifier\n",
    "\n",
    "dt = DecisionTreeClassifier(max_depth = 3, min_samples_split = 2)\n",
    "\n",
    "dt.fit(X1, y)"
   ]
  },
  {
   "cell_type": "code",
   "execution_count": 29,
   "metadata": {
    "collapsed": false
   },
   "outputs": [
    {
     "data": {
      "text/plain": [
       "<matplotlib.text.Text at 0x1319a8510>"
      ]
     },
     "execution_count": 29,
     "metadata": {},
     "output_type": "execute_result"
    },
    {
     "data": {
      "image/png": "[encoded data removed]",
      "text/plain": [
       "<matplotlib.figure.Figure at 0x130faa4d0>"
      ]
     },
     "metadata": {},
     "output_type": "display_data"
    }
   ],
   "source": [
    "C0 = np.linspace(0,1)\n",
    "C1 = 1.0 - C0\n",
    "\n",
    "gini = 1 - C0**2 - C1**2\n",
    "\n",
    "plt.plot(C0, gini)\n",
    "plt.title('Gini index for a Binary Classification')\n",
    "plt.xlabel('Fraction of samples in class 0')\n",
    "plt.ylabel('Gini index')"
   ]
  },
  {
   "cell_type": "code",
   "execution_count": 30,
   "metadata": {
    "collapsed": false
   },
   "outputs": [
    {
     "data": {
      "text/plain": [
       "0.45840000000000003"
      ]
     },
     "execution_count": 30,
     "metadata": {},
     "output_type": "execute_result"
    }
   ],
   "source": [
    "root_node_values = [0.22, 0.04, 0.7, 0.04]\n",
    "\n",
    "def gini(values):\n",
    "    tot = 0.0\n",
    "    for val in values:\n",
    "        tot += val ** 2\n",
    "    \n",
    "    return 1.0 - tot\n",
    "\n",
    "gini(root_node_values)"
   ]
  },
  {
   "cell_type": "code",
   "execution_count": 31,
   "metadata": {
    "collapsed": false
   },
   "outputs": [
    {
     "data": {
      "text/html": [
       "<div>\n",
       "<table border=\"1\" class=\"dataframe\">\n",
       "  <thead>\n",
       "    <tr style=\"text-align: right;\">\n",
       "      <th></th>\n",
       "      <th>importance</th>\n",
       "    </tr>\n",
       "  </thead>\n",
       "  <tbody>\n",
       "    <tr>\n",
       "      <th>DelinqntSv</th>\n",
       "      <td>0.504551</td>\n",
       "    </tr>\n",
       "    <tr>\n",
       "      <th>St_LA</th>\n",
       "      <td>0.217442</td>\n",
       "    </tr>\n",
       "    <tr>\n",
       "      <th>St_IA</th>\n",
       "      <td>0.196613</td>\n",
       "    </tr>\n",
       "    <tr>\n",
       "      <th>St_NY</th>\n",
       "      <td>0.075534</td>\n",
       "    </tr>\n",
       "    <tr>\n",
       "      <th>ILNAsv</th>\n",
       "      <td>0.005860</td>\n",
       "    </tr>\n",
       "  </tbody>\n",
       "</table>\n",
       "</div>"
      ],
      "text/plain": [
       "            importance\n",
       "DelinqntSv    0.504551\n",
       "St_LA         0.217442\n",
       "St_IA         0.196613\n",
       "St_NY         0.075534\n",
       "ILNAsv        0.005860"
      ]
     },
     "execution_count": 31,
     "metadata": {},
     "output_type": "execute_result"
    }
   ],
   "source": [
    "feature_importances = pd.DataFrame(dt.feature_importances_,\n",
    "                                   index = X1.columns,\n",
    "                                    columns=['importance']).sort_values('importance',\n",
    "                                                                        ascending=False)\n",
    "feature_importances.head()"
   ]
  },
  {
   "cell_type": "code",
   "execution_count": 32,
   "metadata": {
    "collapsed": false
   },
   "outputs": [
    {
     "data": {
      "text/plain": [
       "RandomForestClassifier(bootstrap=True, class_weight='balanced',\n",
       "            criterion='gini', max_depth=None, max_features='auto',\n",
       "            max_leaf_nodes=None, min_samples_leaf=1, min_samples_split=2,\n",
       "            min_weight_fraction_leaf=0.0, n_estimators=10, n_jobs=-1,\n",
       "            oob_score=False, random_state=None, verbose=0,\n",
       "            warm_start=False)"
      ]
     },
     "execution_count": 32,
     "metadata": {},
     "output_type": "execute_result"
    }
   ],
   "source": [
    "from sklearn.ensemble import RandomForestClassifier, ExtraTreesClassifier\n",
    "\n",
    "rf = RandomForestClassifier(class_weight='balanced', n_jobs=-1)\n",
    "et = ExtraTreesClassifier(class_weight='balanced', n_jobs=-1)\n",
    "\n",
    "rf.fit(X1, y)"
   ]
  },
  {
   "cell_type": "code",
   "execution_count": 34,
   "metadata": {
    "collapsed": false
   },
   "outputs": [
    {
     "data": {
      "text/plain": [
       "(-1, 58)"
      ]
     },
     "execution_count": 34,
     "metadata": {},
     "output_type": "execute_result"
    },
    {
     "data": {
      "image/png": "[encoded data removed]",
      "text/plain": [
       "<matplotlib.figure.Figure at 0x118a8af90>"
      ]
     },
     "metadata": {},
     "output_type": "display_data"
    }
   ],
   "source": [
    "all(rf.feature_importances_ == np.mean([dt.feature_importances_ for tree in rf.estimators_], axis=0))\n",
    "\n",
    "importances = rf.feature_importances_\n",
    "# calculate the standard deviation of feature importances by looping over the trees in the random forest\n",
    "# \n",
    "std = np.std([dt.feature_importances_ for tree in rf.estimators_],\n",
    "             axis=0)\n",
    "\n",
    "indices = np.argsort(importances)[::-1]\n",
    "feature_names = X1.columns\n",
    "\n",
    "# Plot the feature importances of the forest\n",
    "plt.figure(figsize=(10,10))\n",
    "plt.title(\"Feature importances\")\n",
    "plt.bar(range(X1.shape[1]), importances[indices],\n",
    "       color=\"r\", yerr=std[indices], align=\"center\")\n",
    "plt.xticks(range(X1.shape[1]), feature_names[indices], rotation=90)\n",
    "plt.xlim([-1, X1.shape[1]])"
   ]
  },
  {
   "cell_type": "code",
   "execution_count": 35,
   "metadata": {
    "collapsed": false
   },
   "outputs": [
    {
     "data": {
      "text/html": [
       "<div>\n",
       "<table border=\"1\" class=\"dataframe\">\n",
       "  <thead>\n",
       "    <tr style=\"text-align: right;\">\n",
       "      <th></th>\n",
       "      <th>dt_importance</th>\n",
       "      <th>rf_importance</th>\n",
       "      <th>et_importance</th>\n",
       "    </tr>\n",
       "  </thead>\n",
       "  <tbody>\n",
       "    <tr>\n",
       "      <th>Num_services</th>\n",
       "      <td>0.165001</td>\n",
       "      <td>0.159266</td>\n",
       "      <td>0.144288</td>\n",
       "    </tr>\n",
       "    <tr>\n",
       "      <th>AcSuppSv</th>\n",
       "      <td>0.045932</td>\n",
       "      <td>0.050443</td>\n",
       "      <td>0.052020</td>\n",
       "    </tr>\n",
       "    <tr>\n",
       "      <th>ILNAsv</th>\n",
       "      <td>0.041887</td>\n",
       "      <td>0.049163</td>\n",
       "      <td>0.054426</td>\n",
       "    </tr>\n",
       "    <tr>\n",
       "      <th>EmplyTrSv</th>\n",
       "      <td>0.057200</td>\n",
       "      <td>0.047366</td>\n",
       "      <td>0.041314</td>\n",
       "    </tr>\n",
       "    <tr>\n",
       "      <th>HousEdSv</th>\n",
       "      <td>0.046897</td>\n",
       "      <td>0.044543</td>\n",
       "      <td>0.049317</td>\n",
       "    </tr>\n",
       "    <tr>\n",
       "      <th>HlthEdSv</th>\n",
       "      <td>0.046445</td>\n",
       "      <td>0.044101</td>\n",
       "      <td>0.046664</td>\n",
       "    </tr>\n",
       "    <tr>\n",
       "      <th>CareerSv</th>\n",
       "      <td>0.045162</td>\n",
       "      <td>0.043245</td>\n",
       "      <td>0.052004</td>\n",
       "    </tr>\n",
       "    <tr>\n",
       "      <th>DelinqntSv</th>\n",
       "      <td>0.039365</td>\n",
       "      <td>0.042981</td>\n",
       "      <td>0.052169</td>\n",
       "    </tr>\n",
       "    <tr>\n",
       "      <th>MentorSv</th>\n",
       "      <td>0.051259</td>\n",
       "      <td>0.042505</td>\n",
       "      <td>0.041131</td>\n",
       "    </tr>\n",
       "    <tr>\n",
       "      <th>FamSuppSv</th>\n",
       "      <td>0.044067</td>\n",
       "      <td>0.039855</td>\n",
       "      <td>0.049676</td>\n",
       "    </tr>\n",
       "  </tbody>\n",
       "</table>\n",
       "</div>"
      ],
      "text/plain": [
       "              dt_importance  rf_importance  et_importance\n",
       "Num_services       0.165001       0.159266       0.144288\n",
       "AcSuppSv           0.045932       0.050443       0.052020\n",
       "ILNAsv             0.041887       0.049163       0.054426\n",
       "EmplyTrSv          0.057200       0.047366       0.041314\n",
       "HousEdSv           0.046897       0.044543       0.049317\n",
       "HlthEdSv           0.046445       0.044101       0.046664\n",
       "CareerSv           0.045162       0.043245       0.052004\n",
       "DelinqntSv         0.039365       0.042981       0.052169\n",
       "MentorSv           0.051259       0.042505       0.041131\n",
       "FamSuppSv          0.044067       0.039855       0.049676"
      ]
     },
     "execution_count": 35,
     "metadata": {},
     "output_type": "execute_result"
    },
    {
     "data": {
      "image/png": "[encoded data removed]",
      "text/plain": [
       "<matplotlib.figure.Figure at 0x14fe6f310>"
      ]
     },
     "metadata": {},
     "output_type": "display_data"
    }
   ],
   "source": [
    "dt = DecisionTreeClassifier()\n",
    "dt.fit(X1, y)\n",
    "\n",
    "et.fit(X1, y)\n",
    "\n",
    "importances = pd.DataFrame(zip(dt.feature_importances_,\n",
    "                               rf.feature_importances_,\n",
    "                               et.feature_importances_),\n",
    "                           index=X1.columns,\n",
    "                           columns=['dt_importance',\n",
    "                                    'rf_importance',\n",
    "                                    'et_importance']).sort_values('rf_importance',\n",
    "                                                                   ascending=False)\n",
    "\n",
    "                           \n",
    "importances.plot(kind='bar', figsize=(14,14))\n",
    "importances.head(10)"
   ]
  },
  {
   "cell_type": "code",
   "execution_count": null,
   "metadata": {
    "collapsed": true
   },
   "outputs": [],
   "source": []
  },
  {
   "cell_type": "code",
   "execution_count": null,
   "metadata": {
    "collapsed": true
   },
   "outputs": [],
   "source": []
  },
  {
   "cell_type": "code",
   "execution_count": null,
   "metadata": {
    "collapsed": true
   },
   "outputs": [],
   "source": []
  },
  {
   "cell_type": "code",
   "execution_count": null,
   "metadata": {
    "collapsed": true
   },
   "outputs": [],
   "source": []
  },
  {
   "cell_type": "code",
   "execution_count": null,
   "metadata": {
    "collapsed": true
   },
   "outputs": [],
   "source": []
  },
  {
   "cell_type": "code",
   "execution_count": null,
   "metadata": {
    "collapsed": true
   },
   "outputs": [],
   "source": []
  },
  {
   "cell_type": "code",
   "execution_count": null,
   "metadata": {
    "collapsed": true
   },
   "outputs": [],
   "source": [
    "# withOUT num_services and states as dummies\n",
    "features_noNum_stDums"
   ]
  },
  {
   "cell_type": "code",
   "execution_count": 36,
   "metadata": {
    "collapsed": false
   },
   "outputs": [
    {
     "data": {
      "text/plain": [
       "Index([u'ILNAsv', u'AcSuppSv', u'PSEdSuppSv', u'CareerSv', u'EmplyTrSv',\n",
       "       u'BudgetSv', u'HousEdSv', u'HlthEdSv', u'FamSuppSv', u'MentorSv',\n",
       "       u'SILsv', u'RmBrdFASv', u'EducFinaSv', u'OthrFinaSv', u'DelinqntSv',\n",
       "       u'St_AK', u'St_AL', u'St_AR', u'St_AZ', u'St_CA', u'St_CO', u'St_DC',\n",
       "       u'St_DE', u'St_FL', u'St_GA', u'St_IA', u'St_ID', u'St_IL', u'St_KS',\n",
       "       u'St_LA', u'St_MA', u'St_MD', u'St_ME', u'St_MI', u'St_MN', u'St_MO',\n",
       "       u'St_MT', u'St_NC', u'St_ND', u'St_NE', u'St_NH', u'St_NJ', u'St_NM',\n",
       "       u'St_NV', u'St_NY', u'St_OH', u'St_OK', u'St_RI', u'St_SC', u'St_SD',\n",
       "       u'St_UT', u'St_VA', u'St_VT', u'St_WA', u'St_WI', u'St_WV', u'St_WY'],\n",
       "      dtype='object')"
      ]
     },
     "execution_count": 36,
     "metadata": {},
     "output_type": "execute_result"
    }
   ],
   "source": [
    "X2 = features_noNum_stDums\n",
    "X2.columns"
   ]
  },
  {
   "cell_type": "code",
   "execution_count": 37,
   "metadata": {
    "collapsed": false
   },
   "outputs": [
    {
     "data": {
      "text/plain": [
       "DecisionTreeClassifier(class_weight=None, criterion='gini', max_depth=3,\n",
       "            max_features=None, max_leaf_nodes=None, min_samples_leaf=1,\n",
       "            min_samples_split=2, min_weight_fraction_leaf=0.0,\n",
       "            presort=False, random_state=None, splitter='best')"
      ]
     },
     "execution_count": 37,
     "metadata": {},
     "output_type": "execute_result"
    }
   ],
   "source": [
    "from sklearn.cross_validation import cross_val_score, StratifiedKFold\n",
    "from sklearn.tree import DecisionTreeClassifier\n",
    "\n",
    "dt = DecisionTreeClassifier(max_depth = 3, min_samples_split = 2)\n",
    "\n",
    "dt.fit(X2, y)"
   ]
  },
  {
   "cell_type": "code",
   "execution_count": 38,
   "metadata": {
    "collapsed": false
   },
   "outputs": [
    {
     "data": {
      "text/plain": [
       "RandomForestClassifier(bootstrap=True, class_weight='balanced',\n",
       "            criterion='gini', max_depth=None, max_features='auto',\n",
       "            max_leaf_nodes=None, min_samples_leaf=1, min_samples_split=2,\n",
       "            min_weight_fraction_leaf=0.0, n_estimators=10, n_jobs=-1,\n",
       "            oob_score=False, random_state=None, verbose=0,\n",
       "            warm_start=False)"
      ]
     },
     "execution_count": 38,
     "metadata": {},
     "output_type": "execute_result"
    }
   ],
   "source": [
    "from sklearn.ensemble import RandomForestClassifier, ExtraTreesClassifier\n",
    "\n",
    "\n",
    "\n",
    "rf = RandomForestClassifier(class_weight='balanced', n_jobs=-1)\n",
    "et = ExtraTreesClassifier(class_weight='balanced', n_jobs=-1)\n",
    "\n",
    "rf.fit(X2, y)"
   ]
  },
  {
   "cell_type": "code",
   "execution_count": 39,
   "metadata": {
    "collapsed": false
   },
   "outputs": [
    {
     "data": {
      "text/plain": [
       "(-1, 57)"
      ]
     },
     "execution_count": 39,
     "metadata": {},
     "output_type": "execute_result"
    },
    {
     "data": {
      "image/png": "[encoded data removed]",
      "text/plain": [
       "<matplotlib.figure.Figure at 0x14ffbca50>"
      ]
     },
     "metadata": {},
     "output_type": "display_data"
    }
   ],
   "source": [
    "all(rf.feature_importances_ == np.mean([dt.feature_importances_ for tree in rf.estimators_], axis=0))\n",
    "\n",
    "importances = rf.feature_importances_\n",
    "# calculate the standard deviation of feature importances by looping over the trees in the random forest\n",
    "# \n",
    "std = np.std([dt.feature_importances_ for tree in rf.estimators_],\n",
    "             axis=0)\n",
    "\n",
    "indices = np.argsort(importances)[::-1]\n",
    "feature_names = X2.columns\n",
    "\n",
    "# Plot the feature importances of the forest\n",
    "plt.figure(figsize=(10,10))\n",
    "plt.title(\"Feature importances\")\n",
    "plt.bar(range(X2.shape[1]), importances[indices],\n",
    "       color=\"r\", yerr=std[indices], align=\"center\")\n",
    "plt.xticks(range(X2.shape[1]), feature_names[indices], rotation=90)\n",
    "plt.xlim([-1, X2.shape[1]])"
   ]
  },
  {
   "cell_type": "code",
   "execution_count": 40,
   "metadata": {
    "collapsed": false
   },
   "outputs": [
    {
     "data": {
      "text/html": [
       "<div>\n",
       "<table border=\"1\" class=\"dataframe\">\n",
       "  <thead>\n",
       "    <tr style=\"text-align: right;\">\n",
       "      <th></th>\n",
       "      <th>dt_importance</th>\n",
       "      <th>rf_importance</th>\n",
       "      <th>et_importance</th>\n",
       "    </tr>\n",
       "  </thead>\n",
       "  <tbody>\n",
       "    <tr>\n",
       "      <th>AcSuppSv</th>\n",
       "      <td>0.053632</td>\n",
       "      <td>0.069429</td>\n",
       "      <td>0.068106</td>\n",
       "    </tr>\n",
       "    <tr>\n",
       "      <th>CareerSv</th>\n",
       "      <td>0.059298</td>\n",
       "      <td>0.067113</td>\n",
       "      <td>0.073633</td>\n",
       "    </tr>\n",
       "    <tr>\n",
       "      <th>BudgetSv</th>\n",
       "      <td>0.055355</td>\n",
       "      <td>0.059482</td>\n",
       "      <td>0.052736</td>\n",
       "    </tr>\n",
       "    <tr>\n",
       "      <th>HlthEdSv</th>\n",
       "      <td>0.062971</td>\n",
       "      <td>0.058041</td>\n",
       "      <td>0.062530</td>\n",
       "    </tr>\n",
       "    <tr>\n",
       "      <th>EmplyTrSv</th>\n",
       "      <td>0.059688</td>\n",
       "      <td>0.057349</td>\n",
       "      <td>0.050000</td>\n",
       "    </tr>\n",
       "    <tr>\n",
       "      <th>HousEdSv</th>\n",
       "      <td>0.064211</td>\n",
       "      <td>0.053330</td>\n",
       "      <td>0.064866</td>\n",
       "    </tr>\n",
       "    <tr>\n",
       "      <th>PSEdSuppSv</th>\n",
       "      <td>0.047084</td>\n",
       "      <td>0.052022</td>\n",
       "      <td>0.045755</td>\n",
       "    </tr>\n",
       "    <tr>\n",
       "      <th>FamSuppSv</th>\n",
       "      <td>0.058368</td>\n",
       "      <td>0.050947</td>\n",
       "      <td>0.061134</td>\n",
       "    </tr>\n",
       "    <tr>\n",
       "      <th>ILNAsv</th>\n",
       "      <td>0.074207</td>\n",
       "      <td>0.049051</td>\n",
       "      <td>0.057528</td>\n",
       "    </tr>\n",
       "    <tr>\n",
       "      <th>DelinqntSv</th>\n",
       "      <td>0.039365</td>\n",
       "      <td>0.043366</td>\n",
       "      <td>0.053155</td>\n",
       "    </tr>\n",
       "  </tbody>\n",
       "</table>\n",
       "</div>"
      ],
      "text/plain": [
       "            dt_importance  rf_importance  et_importance\n",
       "AcSuppSv         0.053632       0.069429       0.068106\n",
       "CareerSv         0.059298       0.067113       0.073633\n",
       "BudgetSv         0.055355       0.059482       0.052736\n",
       "HlthEdSv         0.062971       0.058041       0.062530\n",
       "EmplyTrSv        0.059688       0.057349       0.050000\n",
       "HousEdSv         0.064211       0.053330       0.064866\n",
       "PSEdSuppSv       0.047084       0.052022       0.045755\n",
       "FamSuppSv        0.058368       0.050947       0.061134\n",
       "ILNAsv           0.074207       0.049051       0.057528\n",
       "DelinqntSv       0.039365       0.043366       0.053155"
      ]
     },
     "execution_count": 40,
     "metadata": {},
     "output_type": "execute_result"
    },
    {
     "data": {
      "image/png": "[encoded data removed]",
      "text/plain": [
       "<matplotlib.figure.Figure at 0x151665290>"
      ]
     },
     "metadata": {},
     "output_type": "display_data"
    }
   ],
   "source": [
    "dt = DecisionTreeClassifier()\n",
    "dt.fit(X2, y)\n",
    "\n",
    "et.fit(X2, y)\n",
    "\n",
    "importances = pd.DataFrame(zip(dt.feature_importances_,\n",
    "                               rf.feature_importances_,\n",
    "                               et.feature_importances_),\n",
    "                           index=X2.columns,\n",
    "                           columns=['dt_importance',\n",
    "                                    'rf_importance',\n",
    "                                    'et_importance']).sort_values('rf_importance',\n",
    "                                                                   ascending=False)\n",
    "\n",
    "                           \n",
    "importances.plot(kind='bar', figsize=(14,14))\n",
    "importances.head(10)"
   ]
  },
  {
   "cell_type": "code",
   "execution_count": null,
   "metadata": {
    "collapsed": true
   },
   "outputs": [],
   "source": []
  },
  {
   "cell_type": "code",
   "execution_count": null,
   "metadata": {
    "collapsed": true
   },
   "outputs": [],
   "source": []
  },
  {
   "cell_type": "code",
   "execution_count": null,
   "metadata": {
    "collapsed": true
   },
   "outputs": [],
   "source": []
  },
  {
   "cell_type": "code",
   "execution_count": null,
   "metadata": {
    "collapsed": true
   },
   "outputs": [],
   "source": []
  },
  {
   "cell_type": "code",
   "execution_count": null,
   "metadata": {
    "collapsed": true
   },
   "outputs": [],
   "source": []
  },
  {
   "cell_type": "code",
   "execution_count": null,
   "metadata": {
    "collapsed": true
   },
   "outputs": [],
   "source": [
    "# withOUT num_services and state as one feature\n",
    "features_noNum_st_one"
   ]
  },
  {
   "cell_type": "code",
   "execution_count": 41,
   "metadata": {
    "collapsed": false
   },
   "outputs": [
    {
     "data": {
      "text/plain": [
       "Index([u'ILNAsv', u'AcSuppSv', u'PSEdSuppSv', u'CareerSv', u'EmplyTrSv',\n",
       "       u'BudgetSv', u'HousEdSv', u'HlthEdSv', u'FamSuppSv', u'MentorSv',\n",
       "       u'SILsv', u'RmBrdFASv', u'EducFinaSv', u'OthrFinaSv', u'St',\n",
       "       u'DelinqntSv'],\n",
       "      dtype='object')"
      ]
     },
     "execution_count": 41,
     "metadata": {},
     "output_type": "execute_result"
    }
   ],
   "source": [
    "X3 = features_noNum_st_one\n",
    "X3.columns"
   ]
  },
  {
   "cell_type": "code",
   "execution_count": 42,
   "metadata": {
    "collapsed": false
   },
   "outputs": [
    {
     "data": {
      "text/plain": [
       "DecisionTreeClassifier(class_weight=None, criterion='gini', max_depth=3,\n",
       "            max_features=None, max_leaf_nodes=None, min_samples_leaf=1,\n",
       "            min_samples_split=2, min_weight_fraction_leaf=0.0,\n",
       "            presort=False, random_state=None, splitter='best')"
      ]
     },
     "execution_count": 42,
     "metadata": {},
     "output_type": "execute_result"
    }
   ],
   "source": [
    "from sklearn.cross_validation import cross_val_score, StratifiedKFold\n",
    "from sklearn.tree import DecisionTreeClassifier\n",
    "\n",
    "dt = DecisionTreeClassifier(max_depth = 3, min_samples_split = 2)\n",
    "\n",
    "dt.fit(X3, y)"
   ]
  },
  {
   "cell_type": "code",
   "execution_count": 43,
   "metadata": {
    "collapsed": false
   },
   "outputs": [
    {
     "data": {
      "text/plain": [
       "RandomForestClassifier(bootstrap=True, class_weight='balanced',\n",
       "            criterion='gini', max_depth=None, max_features='auto',\n",
       "            max_leaf_nodes=None, min_samples_leaf=1, min_samples_split=2,\n",
       "            min_weight_fraction_leaf=0.0, n_estimators=10, n_jobs=-1,\n",
       "            oob_score=False, random_state=None, verbose=0,\n",
       "            warm_start=False)"
      ]
     },
     "execution_count": 43,
     "metadata": {},
     "output_type": "execute_result"
    }
   ],
   "source": [
    "from sklearn.ensemble import RandomForestClassifier, ExtraTreesClassifier\n",
    "\n",
    "\n",
    "\n",
    "rf = RandomForestClassifier(class_weight='balanced', n_jobs=-1)\n",
    "et = ExtraTreesClassifier(class_weight='balanced', n_jobs=-1)\n",
    "\n",
    "rf.fit(X3, y)"
   ]
  },
  {
   "cell_type": "code",
   "execution_count": 44,
   "metadata": {
    "collapsed": false
   },
   "outputs": [
    {
     "data": {
      "text/plain": [
       "(-1, 16)"
      ]
     },
     "execution_count": 44,
     "metadata": {},
     "output_type": "execute_result"
    },
    {
     "data": {
      "image/png": "[encoded data removed]",
      "text/plain": [
       "<matplotlib.figure.Figure at 0x151935250>"
      ]
     },
     "metadata": {},
     "output_type": "display_data"
    }
   ],
   "source": [
    "all(rf.feature_importances_ == np.mean([dt.feature_importances_ for tree in rf.estimators_], axis=0))\n",
    "\n",
    "importances = rf.feature_importances_\n",
    "# calculate the standard deviation of feature importances by looping over the trees in the random forest\n",
    "# \n",
    "std = np.std([dt.feature_importances_ for tree in rf.estimators_],\n",
    "             axis=0)\n",
    "\n",
    "indices = np.argsort(importances)[::-1]\n",
    "feature_names = X3.columns\n",
    "\n",
    "# Plot the feature importances of the forest\n",
    "plt.figure(figsize=(10,10))\n",
    "plt.title(\"Feature importances\")\n",
    "plt.bar(range(X3.shape[1]), importances[indices],\n",
    "       color=\"r\", yerr=std[indices], align=\"center\")\n",
    "plt.xticks(range(X3.shape[1]), feature_names[indices], rotation=90)\n",
    "plt.xlim([-1, X3.shape[1]])"
   ]
  },
  {
   "cell_type": "code",
   "execution_count": 45,
   "metadata": {
    "collapsed": false
   },
   "outputs": [
    {
     "data": {
      "text/html": [
       "<div>\n",
       "<table border=\"1\" class=\"dataframe\">\n",
       "  <thead>\n",
       "    <tr style=\"text-align: right;\">\n",
       "      <th></th>\n",
       "      <th>dt_importance</th>\n",
       "      <th>rf_importance</th>\n",
       "      <th>et_importance</th>\n",
       "    </tr>\n",
       "  </thead>\n",
       "  <tbody>\n",
       "    <tr>\n",
       "      <th>St</th>\n",
       "      <td>0.206310</td>\n",
       "      <td>0.345088</td>\n",
       "      <td>0.377631</td>\n",
       "    </tr>\n",
       "    <tr>\n",
       "      <th>AcSuppSv</th>\n",
       "      <td>0.069783</td>\n",
       "      <td>0.062423</td>\n",
       "      <td>0.049558</td>\n",
       "    </tr>\n",
       "    <tr>\n",
       "      <th>EmplyTrSv</th>\n",
       "      <td>0.061629</td>\n",
       "      <td>0.058490</td>\n",
       "      <td>0.047303</td>\n",
       "    </tr>\n",
       "    <tr>\n",
       "      <th>CareerSv</th>\n",
       "      <td>0.077617</td>\n",
       "      <td>0.058399</td>\n",
       "      <td>0.048490</td>\n",
       "    </tr>\n",
       "    <tr>\n",
       "      <th>BudgetSv</th>\n",
       "      <td>0.046735</td>\n",
       "      <td>0.049297</td>\n",
       "      <td>0.037960</td>\n",
       "    </tr>\n",
       "    <tr>\n",
       "      <th>DelinqntSv</th>\n",
       "      <td>0.039365</td>\n",
       "      <td>0.049110</td>\n",
       "      <td>0.054255</td>\n",
       "    </tr>\n",
       "    <tr>\n",
       "      <th>FamSuppSv</th>\n",
       "      <td>0.065511</td>\n",
       "      <td>0.045910</td>\n",
       "      <td>0.032229</td>\n",
       "    </tr>\n",
       "    <tr>\n",
       "      <th>ILNAsv</th>\n",
       "      <td>0.066044</td>\n",
       "      <td>0.045835</td>\n",
       "      <td>0.033375</td>\n",
       "    </tr>\n",
       "    <tr>\n",
       "      <th>MentorSv</th>\n",
       "      <td>0.062400</td>\n",
       "      <td>0.045110</td>\n",
       "      <td>0.050506</td>\n",
       "    </tr>\n",
       "    <tr>\n",
       "      <th>PSEdSuppSv</th>\n",
       "      <td>0.048177</td>\n",
       "      <td>0.043007</td>\n",
       "      <td>0.047081</td>\n",
       "    </tr>\n",
       "  </tbody>\n",
       "</table>\n",
       "</div>"
      ],
      "text/plain": [
       "            dt_importance  rf_importance  et_importance\n",
       "St               0.206310       0.345088       0.377631\n",
       "AcSuppSv         0.069783       0.062423       0.049558\n",
       "EmplyTrSv        0.061629       0.058490       0.047303\n",
       "CareerSv         0.077617       0.058399       0.048490\n",
       "BudgetSv         0.046735       0.049297       0.037960\n",
       "DelinqntSv       0.039365       0.049110       0.054255\n",
       "FamSuppSv        0.065511       0.045910       0.032229\n",
       "ILNAsv           0.066044       0.045835       0.033375\n",
       "MentorSv         0.062400       0.045110       0.050506\n",
       "PSEdSuppSv       0.048177       0.043007       0.047081"
      ]
     },
     "execution_count": 45,
     "metadata": {},
     "output_type": "execute_result"
    },
    {
     "data": {
      "image/png": "[encoded data removed]",
      "text/plain": [
       "<matplotlib.figure.Figure at 0x152f4c950>"
      ]
     },
     "metadata": {},
     "output_type": "display_data"
    }
   ],
   "source": [
    "dt = DecisionTreeClassifier()\n",
    "dt.fit(X3, y)\n",
    "\n",
    "et.fit(X3, y)\n",
    "\n",
    "importances = pd.DataFrame(zip(dt.feature_importances_,\n",
    "                               rf.feature_importances_,\n",
    "                               et.feature_importances_),\n",
    "                           index=X3.columns,\n",
    "                           columns=['dt_importance',\n",
    "                                    'rf_importance',\n",
    "                                    'et_importance']).sort_values('rf_importance',\n",
    "                                                                   ascending=False)\n",
    "\n",
    "                           \n",
    "importances.plot(kind='bar', figsize=(14,14))\n",
    "importances.head(10)"
   ]
  },
  {
   "cell_type": "code",
   "execution_count": null,
   "metadata": {
    "collapsed": true
   },
   "outputs": [],
   "source": []
  },
  {
   "cell_type": "code",
   "execution_count": null,
   "metadata": {
    "collapsed": true
   },
   "outputs": [],
   "source": []
  },
  {
   "cell_type": "code",
   "execution_count": null,
   "metadata": {
    "collapsed": true
   },
   "outputs": [],
   "source": []
  },
  {
   "cell_type": "code",
   "execution_count": null,
   "metadata": {
    "collapsed": true
   },
   "outputs": [],
   "source": []
  },
  {
   "cell_type": "code",
   "execution_count": null,
   "metadata": {
    "collapsed": true
   },
   "outputs": [],
   "source": [
    "# withOUT states and with num_services\n",
    "features_noSt"
   ]
  },
  {
   "cell_type": "code",
   "execution_count": 46,
   "metadata": {
    "collapsed": false
   },
   "outputs": [
    {
     "data": {
      "text/plain": [
       "Index([u'ILNAsv', u'AcSuppSv', u'PSEdSuppSv', u'CareerSv', u'EmplyTrSv',\n",
       "       u'BudgetSv', u'HousEdSv', u'HlthEdSv', u'FamSuppSv', u'MentorSv',\n",
       "       u'SILsv', u'RmBrdFASv', u'EducFinaSv', u'OthrFinaSv', u'DelinqntSv',\n",
       "       u'Num_services'],\n",
       "      dtype='object')"
      ]
     },
     "execution_count": 46,
     "metadata": {},
     "output_type": "execute_result"
    }
   ],
   "source": [
    "X4 = features_noSt\n",
    "X4.columns"
   ]
  },
  {
   "cell_type": "code",
   "execution_count": 47,
   "metadata": {
    "collapsed": false
   },
   "outputs": [
    {
     "data": {
      "text/plain": [
       "DecisionTreeClassifier(class_weight=None, criterion='gini', max_depth=3,\n",
       "            max_features=None, max_leaf_nodes=None, min_samples_leaf=1,\n",
       "            min_samples_split=2, min_weight_fraction_leaf=0.0,\n",
       "            presort=False, random_state=None, splitter='best')"
      ]
     },
     "execution_count": 47,
     "metadata": {},
     "output_type": "execute_result"
    }
   ],
   "source": [
    "from sklearn.cross_validation import cross_val_score, StratifiedKFold\n",
    "from sklearn.tree import DecisionTreeClassifier\n",
    "\n",
    "dt = DecisionTreeClassifier(max_depth = 3, min_samples_split = 2)\n",
    "\n",
    "dt.fit(X4, y)"
   ]
  },
  {
   "cell_type": "code",
   "execution_count": 48,
   "metadata": {
    "collapsed": false
   },
   "outputs": [
    {
     "data": {
      "text/plain": [
       "RandomForestClassifier(bootstrap=True, class_weight='balanced',\n",
       "            criterion='gini', max_depth=None, max_features='auto',\n",
       "            max_leaf_nodes=None, min_samples_leaf=1, min_samples_split=2,\n",
       "            min_weight_fraction_leaf=0.0, n_estimators=10, n_jobs=-1,\n",
       "            oob_score=False, random_state=None, verbose=0,\n",
       "            warm_start=False)"
      ]
     },
     "execution_count": 48,
     "metadata": {},
     "output_type": "execute_result"
    }
   ],
   "source": [
    "from sklearn.ensemble import RandomForestClassifier, ExtraTreesClassifier\n",
    "\n",
    "\n",
    "\n",
    "rf = RandomForestClassifier(class_weight='balanced', n_jobs=-1)\n",
    "et = ExtraTreesClassifier(class_weight='balanced', n_jobs=-1)\n",
    "\n",
    "rf.fit(X4, y)"
   ]
  },
  {
   "cell_type": "code",
   "execution_count": 49,
   "metadata": {
    "collapsed": false
   },
   "outputs": [
    {
     "data": {
      "text/plain": [
       "(-1, 16)"
      ]
     },
     "execution_count": 49,
     "metadata": {},
     "output_type": "execute_result"
    },
    {
     "data": {
      "image/png": "[encoded data removed]",
      "text/plain": [
       "<matplotlib.figure.Figure at 0x153617a50>"
      ]
     },
     "metadata": {},
     "output_type": "display_data"
    }
   ],
   "source": [
    "all(rf.feature_importances_ == np.mean([dt.feature_importances_ for tree in rf.estimators_], axis=0))\n",
    "\n",
    "importances = rf.feature_importances_\n",
    "# calculate the standard deviation of feature importances by looping over the trees in the random forest\n",
    "# \n",
    "std = np.std([dt.feature_importances_ for tree in rf.estimators_],\n",
    "             axis=0)\n",
    "\n",
    "indices = np.argsort(importances)[::-1]\n",
    "feature_names = X4.columns\n",
    "\n",
    "# Plot the feature importances of the forest\n",
    "plt.figure(figsize=(10,10))\n",
    "plt.title(\"Feature importances\")\n",
    "plt.bar(range(X4.shape[1]), importances[indices],\n",
    "       color=\"r\", yerr=std[indices], align=\"center\")\n",
    "plt.xticks(range(X4.shape[1]), feature_names[indices], rotation=90)\n",
    "plt.xlim([-1, X4.shape[1]])"
   ]
  },
  {
   "cell_type": "code",
   "execution_count": 51,
   "metadata": {
    "collapsed": false
   },
   "outputs": [
    {
     "data": {
      "text/html": [
       "<div>\n",
       "<table border=\"1\" class=\"dataframe\">\n",
       "  <thead>\n",
       "    <tr style=\"text-align: right;\">\n",
       "      <th></th>\n",
       "      <th>dt_importance</th>\n",
       "      <th>rf_importance</th>\n",
       "      <th>et_importance</th>\n",
       "    </tr>\n",
       "  </thead>\n",
       "  <tbody>\n",
       "    <tr>\n",
       "      <th>Num_services</th>\n",
       "      <td>0.213176</td>\n",
       "      <td>0.202297</td>\n",
       "      <td>0.177084</td>\n",
       "    </tr>\n",
       "    <tr>\n",
       "      <th>DelinqntSv</th>\n",
       "      <td>0.074648</td>\n",
       "      <td>0.084335</td>\n",
       "      <td>0.105304</td>\n",
       "    </tr>\n",
       "    <tr>\n",
       "      <th>HlthEdSv</th>\n",
       "      <td>0.073037</td>\n",
       "      <td>0.066903</td>\n",
       "      <td>0.038739</td>\n",
       "    </tr>\n",
       "    <tr>\n",
       "      <th>EmplyTrSv</th>\n",
       "      <td>0.062739</td>\n",
       "      <td>0.059713</td>\n",
       "      <td>0.059729</td>\n",
       "    </tr>\n",
       "    <tr>\n",
       "      <th>FamSuppSv</th>\n",
       "      <td>0.053277</td>\n",
       "      <td>0.059179</td>\n",
       "      <td>0.055005</td>\n",
       "    </tr>\n",
       "    <tr>\n",
       "      <th>AcSuppSv</th>\n",
       "      <td>0.073465</td>\n",
       "      <td>0.058828</td>\n",
       "      <td>0.065029</td>\n",
       "    </tr>\n",
       "    <tr>\n",
       "      <th>MentorSv</th>\n",
       "      <td>0.035355</td>\n",
       "      <td>0.056816</td>\n",
       "      <td>0.051661</td>\n",
       "    </tr>\n",
       "    <tr>\n",
       "      <th>CareerSv</th>\n",
       "      <td>0.040367</td>\n",
       "      <td>0.054116</td>\n",
       "      <td>0.060810</td>\n",
       "    </tr>\n",
       "    <tr>\n",
       "      <th>HousEdSv</th>\n",
       "      <td>0.051187</td>\n",
       "      <td>0.053633</td>\n",
       "      <td>0.071208</td>\n",
       "    </tr>\n",
       "    <tr>\n",
       "      <th>PSEdSuppSv</th>\n",
       "      <td>0.071622</td>\n",
       "      <td>0.049809</td>\n",
       "      <td>0.059547</td>\n",
       "    </tr>\n",
       "  </tbody>\n",
       "</table>\n",
       "</div>"
      ],
      "text/plain": [
       "              dt_importance  rf_importance  et_importance\n",
       "Num_services       0.213176       0.202297       0.177084\n",
       "DelinqntSv         0.074648       0.084335       0.105304\n",
       "HlthEdSv           0.073037       0.066903       0.038739\n",
       "EmplyTrSv          0.062739       0.059713       0.059729\n",
       "FamSuppSv          0.053277       0.059179       0.055005\n",
       "AcSuppSv           0.073465       0.058828       0.065029\n",
       "MentorSv           0.035355       0.056816       0.051661\n",
       "CareerSv           0.040367       0.054116       0.060810\n",
       "HousEdSv           0.051187       0.053633       0.071208\n",
       "PSEdSuppSv         0.071622       0.049809       0.059547"
      ]
     },
     "execution_count": 51,
     "metadata": {},
     "output_type": "execute_result"
    },
    {
     "data": {
      "image/png": "[encoded data removed]",
      "text/plain": [
       "<matplotlib.figure.Figure at 0x14ff2e850>"
      ]
     },
     "metadata": {},
     "output_type": "display_data"
    }
   ],
   "source": [
    "dt = DecisionTreeClassifier()\n",
    "dt.fit(X4, y)\n",
    "\n",
    "et.fit(X4, y)\n",
    "\n",
    "importances = pd.DataFrame(zip(dt.feature_importances_,\n",
    "                               rf.feature_importances_,\n",
    "                               et.feature_importances_),\n",
    "                           index=X4.columns,\n",
    "                           columns=['dt_importance',\n",
    "                                    'rf_importance',\n",
    "                                    'et_importance']).sort_values('rf_importance',\n",
    "                                                                   ascending=False)\n",
    "\n",
    "                           \n",
    "importances.plot(kind='bar', figsize=(14,14))\n",
    "importances.head(10)"
   ]
  },
  {
   "cell_type": "code",
   "execution_count": null,
   "metadata": {
    "collapsed": true
   },
   "outputs": [],
   "source": []
  },
  {
   "cell_type": "code",
   "execution_count": null,
   "metadata": {
    "collapsed": true
   },
   "outputs": [],
   "source": []
  },
  {
   "cell_type": "code",
   "execution_count": null,
   "metadata": {
    "collapsed": true
   },
   "outputs": [],
   "source": []
  },
  {
   "cell_type": "code",
   "execution_count": null,
   "metadata": {
    "collapsed": true
   },
   "outputs": [],
   "source": [
    "# withOUT states and Num_services\n",
    "features_noSt_noNum"
   ]
  },
  {
   "cell_type": "code",
   "execution_count": 52,
   "metadata": {
    "collapsed": false
   },
   "outputs": [
    {
     "data": {
      "text/plain": [
       "Index([u'ILNAsv', u'AcSuppSv', u'PSEdSuppSv', u'CareerSv', u'EmplyTrSv',\n",
       "       u'BudgetSv', u'HousEdSv', u'HlthEdSv', u'FamSuppSv', u'MentorSv',\n",
       "       u'SILsv', u'RmBrdFASv', u'EducFinaSv', u'OthrFinaSv', u'DelinqntSv'],\n",
       "      dtype='object')"
      ]
     },
     "execution_count": 52,
     "metadata": {},
     "output_type": "execute_result"
    }
   ],
   "source": [
    "X5 = features_noSt_noNum\n",
    "X5.columns"
   ]
  },
  {
   "cell_type": "code",
   "execution_count": 53,
   "metadata": {
    "collapsed": false
   },
   "outputs": [
    {
     "data": {
      "text/plain": [
       "DecisionTreeClassifier(class_weight=None, criterion='gini', max_depth=3,\n",
       "            max_features=None, max_leaf_nodes=None, min_samples_leaf=1,\n",
       "            min_samples_split=2, min_weight_fraction_leaf=0.0,\n",
       "            presort=False, random_state=None, splitter='best')"
      ]
     },
     "execution_count": 53,
     "metadata": {},
     "output_type": "execute_result"
    }
   ],
   "source": [
    "from sklearn.cross_validation import cross_val_score, StratifiedKFold\n",
    "from sklearn.tree import DecisionTreeClassifier\n",
    "\n",
    "dt = DecisionTreeClassifier(max_depth = 3, min_samples_split = 2)\n",
    "\n",
    "dt.fit(X5, y)"
   ]
  },
  {
   "cell_type": "code",
   "execution_count": 54,
   "metadata": {
    "collapsed": false
   },
   "outputs": [
    {
     "data": {
      "text/plain": [
       "RandomForestClassifier(bootstrap=True, class_weight='balanced',\n",
       "            criterion='gini', max_depth=None, max_features='auto',\n",
       "            max_leaf_nodes=None, min_samples_leaf=1, min_samples_split=2,\n",
       "            min_weight_fraction_leaf=0.0, n_estimators=10, n_jobs=-1,\n",
       "            oob_score=False, random_state=None, verbose=0,\n",
       "            warm_start=False)"
      ]
     },
     "execution_count": 54,
     "metadata": {},
     "output_type": "execute_result"
    }
   ],
   "source": [
    "from sklearn.ensemble import RandomForestClassifier, ExtraTreesClassifier\n",
    "\n",
    "\n",
    "\n",
    "rf = RandomForestClassifier(class_weight='balanced', n_jobs=-1)\n",
    "et = ExtraTreesClassifier(class_weight='balanced', n_jobs=-1)\n",
    "\n",
    "rf.fit(X5, y)"
   ]
  },
  {
   "cell_type": "code",
   "execution_count": 55,
   "metadata": {
    "collapsed": false
   },
   "outputs": [
    {
     "data": {
      "text/plain": [
       "(-1, 15)"
      ]
     },
     "execution_count": 55,
     "metadata": {},
     "output_type": "execute_result"
    },
    {
     "data": {
      "image/png": "[encoded data removed]",
      "text/plain": [
       "<matplotlib.figure.Figure at 0x150126e10>"
      ]
     },
     "metadata": {},
     "output_type": "display_data"
    }
   ],
   "source": [
    "all(rf.feature_importances_ == np.mean([dt.feature_importances_ for tree in rf.estimators_], axis=0))\n",
    "\n",
    "importances = rf.feature_importances_\n",
    "# calculate the standard deviation of feature importances by looping over the trees in the random forest\n",
    "# \n",
    "std = np.std([dt.feature_importances_ for tree in rf.estimators_],\n",
    "             axis=0)\n",
    "\n",
    "indices = np.argsort(importances)[::-1]\n",
    "feature_names = X5.columns\n",
    "\n",
    "# Plot the feature importances of the forest\n",
    "plt.figure(figsize=(10,10))\n",
    "plt.title(\"Feature importances\")\n",
    "plt.bar(range(X5.shape[1]), importances[indices],\n",
    "       color=\"r\", yerr=std[indices], align=\"center\")\n",
    "plt.xticks(range(X5.shape[1]), feature_names[indices], rotation=90)\n",
    "plt.xlim([-1, X5.shape[1]])"
   ]
  },
  {
   "cell_type": "code",
   "execution_count": 57,
   "metadata": {
    "collapsed": false
   },
   "outputs": [
    {
     "data": {
      "text/html": [
       "<div>\n",
       "<table border=\"1\" class=\"dataframe\">\n",
       "  <thead>\n",
       "    <tr style=\"text-align: right;\">\n",
       "      <th></th>\n",
       "      <th>dt_importance</th>\n",
       "      <th>rf_importance</th>\n",
       "      <th>et_importance</th>\n",
       "    </tr>\n",
       "  </thead>\n",
       "  <tbody>\n",
       "    <tr>\n",
       "      <th>BudgetSv</th>\n",
       "      <td>0.063990</td>\n",
       "      <td>0.087833</td>\n",
       "      <td>0.084007</td>\n",
       "    </tr>\n",
       "    <tr>\n",
       "      <th>DelinqntSv</th>\n",
       "      <td>0.074648</td>\n",
       "      <td>0.087588</td>\n",
       "      <td>0.113468</td>\n",
       "    </tr>\n",
       "    <tr>\n",
       "      <th>HousEdSv</th>\n",
       "      <td>0.070526</td>\n",
       "      <td>0.082001</td>\n",
       "      <td>0.048481</td>\n",
       "    </tr>\n",
       "    <tr>\n",
       "      <th>AcSuppSv</th>\n",
       "      <td>0.100134</td>\n",
       "      <td>0.080976</td>\n",
       "      <td>0.070522</td>\n",
       "    </tr>\n",
       "    <tr>\n",
       "      <th>MentorSv</th>\n",
       "      <td>0.051267</td>\n",
       "      <td>0.077902</td>\n",
       "      <td>0.053286</td>\n",
       "    </tr>\n",
       "    <tr>\n",
       "      <th>EmplyTrSv</th>\n",
       "      <td>0.089136</td>\n",
       "      <td>0.076671</td>\n",
       "      <td>0.075425</td>\n",
       "    </tr>\n",
       "    <tr>\n",
       "      <th>PSEdSuppSv</th>\n",
       "      <td>0.108847</td>\n",
       "      <td>0.068032</td>\n",
       "      <td>0.082612</td>\n",
       "    </tr>\n",
       "    <tr>\n",
       "      <th>CareerSv</th>\n",
       "      <td>0.078206</td>\n",
       "      <td>0.066460</td>\n",
       "      <td>0.078244</td>\n",
       "    </tr>\n",
       "    <tr>\n",
       "      <th>OthrFinaSv</th>\n",
       "      <td>0.067646</td>\n",
       "      <td>0.064975</td>\n",
       "      <td>0.067154</td>\n",
       "    </tr>\n",
       "    <tr>\n",
       "      <th>FamSuppSv</th>\n",
       "      <td>0.070340</td>\n",
       "      <td>0.063232</td>\n",
       "      <td>0.062876</td>\n",
       "    </tr>\n",
       "  </tbody>\n",
       "</table>\n",
       "</div>"
      ],
      "text/plain": [
       "            dt_importance  rf_importance  et_importance\n",
       "BudgetSv         0.063990       0.087833       0.084007\n",
       "DelinqntSv       0.074648       0.087588       0.113468\n",
       "HousEdSv         0.070526       0.082001       0.048481\n",
       "AcSuppSv         0.100134       0.080976       0.070522\n",
       "MentorSv         0.051267       0.077902       0.053286\n",
       "EmplyTrSv        0.089136       0.076671       0.075425\n",
       "PSEdSuppSv       0.108847       0.068032       0.082612\n",
       "CareerSv         0.078206       0.066460       0.078244\n",
       "OthrFinaSv       0.067646       0.064975       0.067154\n",
       "FamSuppSv        0.070340       0.063232       0.062876"
      ]
     },
     "execution_count": 57,
     "metadata": {},
     "output_type": "execute_result"
    },
    {
     "data": {
      "image/png": "[encoded data removed]",
      "text/plain": [
       "<matplotlib.figure.Figure at 0x14ff0b950>"
      ]
     },
     "metadata": {},
     "output_type": "display_data"
    }
   ],
   "source": [
    "dt = DecisionTreeClassifier()\n",
    "dt.fit(X5, y)\n",
    "\n",
    "et.fit(X5, y)\n",
    "\n",
    "importances = pd.DataFrame(zip(dt.feature_importances_,\n",
    "                               rf.feature_importances_,\n",
    "                               et.feature_importances_),\n",
    "                           index=X5.columns,\n",
    "                           columns=['dt_importance',\n",
    "                                    'rf_importance',\n",
    "                                    'et_importance']).sort_values('rf_importance',\n",
    "                                                                   ascending=False)\n",
    "\n",
    "                           \n",
    "importances.plot(kind='bar', figsize=(14,14))\n",
    "importances.head(10)"
   ]
  },
  {
   "cell_type": "code",
   "execution_count": null,
   "metadata": {
    "collapsed": true
   },
   "outputs": [],
   "source": []
  },
  {
   "cell_type": "code",
   "execution_count": null,
   "metadata": {
    "collapsed": true
   },
   "outputs": [],
   "source": []
  },
  {
   "cell_type": "code",
   "execution_count": 58,
   "metadata": {
    "collapsed": false
   },
   "outputs": [
    {
     "data": {
      "text/plain": [
       "Index([u'ILNAsv', u'AcSuppSv', u'PSEdSuppSv', u'CareerSv', u'EmplyTrSv',\n",
       "       u'BudgetSv', u'HousEdSv', u'HlthEdSv', u'FamSuppSv', u'MentorSv',\n",
       "       u'SILsv', u'RmBrdFASv', u'EducFinaSv', u'OthrFinaSv', u'DelinqntSv',\n",
       "       u'St_AK', u'St_AL', u'St_AR', u'St_AZ', u'St_CA', u'St_CO', u'St_DC',\n",
       "       u'St_DE', u'St_FL', u'St_GA', u'St_IA', u'St_ID', u'St_IL', u'St_KS',\n",
       "       u'St_LA', u'St_MA', u'St_MD', u'St_ME', u'St_MI', u'St_MN', u'St_MO',\n",
       "       u'St_MT', u'St_NC', u'St_ND', u'St_NE', u'St_NH', u'St_NJ', u'St_NM',\n",
       "       u'St_NV', u'St_NY', u'St_OH', u'St_OK', u'St_RI', u'St_SC', u'St_SD',\n",
       "       u'St_UT', u'St_VA', u'St_VT', u'St_WA', u'St_WI', u'St_WV', u'St_WY'],\n",
       "      dtype='object')"
      ]
     },
     "execution_count": 58,
     "metadata": {},
     "output_type": "execute_result"
    }
   ],
   "source": [
    "features_noNum_stDums.columns"
   ]
  },
  {
   "cell_type": "code",
   "execution_count": null,
   "metadata": {
    "collapsed": true
   },
   "outputs": [],
   "source": []
  },
  {
   "cell_type": "code",
   "execution_count": null,
   "metadata": {
    "collapsed": true
   },
   "outputs": [],
   "source": []
  },
  {
   "cell_type": "code",
   "execution_count": null,
   "metadata": {
    "collapsed": true
   },
   "outputs": [],
   "source": [
    "# Adjust X"
   ]
  },
  {
   "cell_type": "code",
   "execution_count": 59,
   "metadata": {
    "collapsed": true
   },
   "outputs": [],
   "source": [
    "features_noNum_stDums_final = features_noNum_stDums.drop(['ILNAsv','BudgetSv','HousEdSv','HlthEdSv','FamSuppSv','MentorSv','SILsv','RmBrdFASv','EducFinaSv','OthrFinaSv'], axis = 1)"
   ]
  },
  {
   "cell_type": "code",
   "execution_count": 60,
   "metadata": {
    "collapsed": false
   },
   "outputs": [
    {
     "data": {
      "text/plain": [
       "Index([u'AcSuppSv', u'PSEdSuppSv', u'CareerSv', u'EmplyTrSv', u'DelinqntSv',\n",
       "       u'St_AK', u'St_AL', u'St_AR', u'St_AZ', u'St_CA', u'St_CO', u'St_DC',\n",
       "       u'St_DE', u'St_FL', u'St_GA', u'St_IA', u'St_ID', u'St_IL', u'St_KS',\n",
       "       u'St_LA', u'St_MA', u'St_MD', u'St_ME', u'St_MI', u'St_MN', u'St_MO',\n",
       "       u'St_MT', u'St_NC', u'St_ND', u'St_NE', u'St_NH', u'St_NJ', u'St_NM',\n",
       "       u'St_NV', u'St_NY', u'St_OH', u'St_OK', u'St_RI', u'St_SC', u'St_SD',\n",
       "       u'St_UT', u'St_VA', u'St_VT', u'St_WA', u'St_WI', u'St_WV', u'St_WY'],\n",
       "      dtype='object')"
      ]
     },
     "execution_count": 60,
     "metadata": {},
     "output_type": "execute_result"
    }
   ],
   "source": [
    "features_noNum_stDums_final.columns"
   ]
  },
  {
   "cell_type": "code",
   "execution_count": 61,
   "metadata": {
    "collapsed": true
   },
   "outputs": [],
   "source": [
    "features_w2_stDums_final = features_w2_stDums.drop(['ILNAsv','BudgetSv','HousEdSv','HlthEdSv','FamSuppSv','MentorSv','SILsv','RmBrdFASv','EducFinaSv','OthrFinaSv'], axis = 1)"
   ]
  },
  {
   "cell_type": "code",
   "execution_count": 62,
   "metadata": {
    "collapsed": false
   },
   "outputs": [
    {
     "data": {
      "text/plain": [
       "Index([u'AcSuppSv', u'PSEdSuppSv', u'CareerSv', u'EmplyTrSv', u'DelinqntSv',\n",
       "       u'Num_services', u'St_AK', u'St_AL', u'St_AR', u'St_AZ', u'St_CA',\n",
       "       u'St_CO', u'St_DC', u'St_DE', u'St_FL', u'St_GA', u'St_IA', u'St_ID',\n",
       "       u'St_IL', u'St_KS', u'St_LA', u'St_MA', u'St_MD', u'St_ME', u'St_MI',\n",
       "       u'St_MN', u'St_MO', u'St_MT', u'St_NC', u'St_ND', u'St_NE', u'St_NH',\n",
       "       u'St_NJ', u'St_NM', u'St_NV', u'St_NY', u'St_OH', u'St_OK', u'St_RI',\n",
       "       u'St_SC', u'St_SD', u'St_UT', u'St_VA', u'St_VT', u'St_WA', u'St_WI',\n",
       "       u'St_WV', u'St_WY'],\n",
       "      dtype='object')"
      ]
     },
     "execution_count": 62,
     "metadata": {},
     "output_type": "execute_result"
    }
   ],
   "source": [
    "features_w2_stDums_final.columns"
   ]
  },
  {
   "cell_type": "code",
   "execution_count": null,
   "metadata": {
    "collapsed": true
   },
   "outputs": [],
   "source": [
    "# DelinqntSv, AcSuppSv, PSEdSuppSv, CareerSv, EmplyTrSv"
   ]
  },
  {
   "cell_type": "code",
   "execution_count": null,
   "metadata": {
    "collapsed": true
   },
   "outputs": [],
   "source": [
    "# ['ILNAsv','BudgetSv','HousEdSv','HlthEdSv','FamSuppSv','MentorSv','SILsv','RmBrdFASv','EducFinaSv','OthrFinaSv']"
   ]
  },
  {
   "cell_type": "markdown",
   "metadata": {},
   "source": [
    "# Model"
   ]
  },
  {
   "cell_type": "code",
   "execution_count": 64,
   "metadata": {
    "collapsed": false
   },
   "outputs": [],
   "source": [
    "y\n",
    "X1 = features_w2_stDums_final\n",
    "X2 = features_noNum_stDums_final"
   ]
  },
  {
   "cell_type": "code",
   "execution_count": 66,
   "metadata": {
    "collapsed": true
   },
   "outputs": [],
   "source": [
    "from sklearn.cross_validation import train_test_split, KFold\n",
    "from sklearn.metrics import accuracy_score, precision_score, recall_score, confusion_matrix, classification_report\n",
    "\n",
    "X_train, X_test, y_train, y_test = train_test_split(X1, y, test_size=0.3, random_state=42, stratify=y)\n",
    "\n",
    "def evaluate_model(model):\n",
    "    model.fit(X_train, y_train)\n",
    "    y_pred = model.predict(X_test)\n",
    "    \n",
    "    a = accuracy_score(y_test, y_pred)\n",
    "    \n",
    "    cm = confusion_matrix(y_test, y_pred)\n",
    "    cr = classification_report(y_test, y_pred)\n",
    "    \n",
    "    print cm\n",
    "    print cr\n",
    "    \n",
    "    return a\n",
    "\n",
    "all_models = {}"
   ]
  },
  {
   "cell_type": "code",
   "execution_count": 67,
   "metadata": {
    "collapsed": false
   },
   "outputs": [
    {
     "name": "stdout",
     "output_type": "stream",
     "text": [
      "[[1194  255]\n",
      " [ 546  204]]\n",
      "             precision    recall  f1-score   support\n",
      "\n",
      "          0       0.69      0.82      0.75      1449\n",
      "          1       0.44      0.27      0.34       750\n",
      "\n",
      "avg / total       0.60      0.64      0.61      2199\n",
      "\n"
     ]
    }
   ],
   "source": [
    "from sklearn.neighbors import KNeighborsClassifier\n",
    "\n",
    "a = evaluate_model(KNeighborsClassifier())"
   ]
  },
  {
   "cell_type": "code",
   "execution_count": 68,
   "metadata": {
    "collapsed": true
   },
   "outputs": [],
   "source": [
    "from sklearn.grid_search import GridSearchCV\n",
    "\n",
    "params = {'n_neighbors': range(2,60)}\n",
    "\n",
    "gsknn = GridSearchCV(KNeighborsClassifier(),\n",
    "                     params, n_jobs=-1,\n",
    "                     cv=KFold(len(y), n_folds=3, shuffle=True))"
   ]
  },
  {
   "cell_type": "code",
   "execution_count": 69,
   "metadata": {
    "collapsed": false
   },
   "outputs": [
    {
     "data": {
      "text/plain": [
       "GridSearchCV(cv=sklearn.cross_validation.KFold(n=7328, n_folds=3, shuffle=True, random_state=None),\n",
       "       error_score='raise',\n",
       "       estimator=KNeighborsClassifier(algorithm='auto', leaf_size=30, metric='minkowski',\n",
       "           metric_params=None, n_jobs=1, n_neighbors=5, p=2,\n",
       "           weights='uniform'),\n",
       "       fit_params={}, iid=True, n_jobs=-1,\n",
       "       param_grid={'n_neighbors': [2, 3, 4, 5, 6, 7, 8, 9, 10, 11, 12, 13, 14, 15, 16, 17, 18, 19, 20, 21, 22, 23, 24, 25, 26, 27, 28, 29, 30, 31, 32, 33, 34, 35, 36, 37, 38, 39, 40, 41, 42, 43, 44, 45, 46, 47, 48, 49, 50, 51, 52, 53, 54, 55, 56, 57, 58, 59]},\n",
       "       pre_dispatch='2*n_jobs', refit=True, scoring=None, verbose=0)"
      ]
     },
     "execution_count": 69,
     "metadata": {},
     "output_type": "execute_result"
    }
   ],
   "source": [
    "gsknn.fit(X1, y)\n"
   ]
  },
  {
   "cell_type": "code",
   "execution_count": 70,
   "metadata": {
    "collapsed": false
   },
   "outputs": [
    {
     "data": {
      "text/plain": [
       "{'n_neighbors': 58}"
      ]
     },
     "execution_count": 70,
     "metadata": {},
     "output_type": "execute_result"
    }
   ],
   "source": [
    "gsknn.best_params_\n"
   ]
  },
  {
   "cell_type": "code",
   "execution_count": 71,
   "metadata": {
    "collapsed": false
   },
   "outputs": [
    {
     "data": {
      "text/plain": [
       "0.66007096069868998"
      ]
     },
     "execution_count": 71,
     "metadata": {},
     "output_type": "execute_result"
    }
   ],
   "source": [
    "gsknn.best_score_"
   ]
  },
  {
   "cell_type": "code",
   "execution_count": 72,
   "metadata": {
    "collapsed": false
   },
   "outputs": [
    {
     "name": "stdout",
     "output_type": "stream",
     "text": [
      "[[1330  119]\n",
      " [ 634  116]]\n",
      "             precision    recall  f1-score   support\n",
      "\n",
      "          0       0.68      0.92      0.78      1449\n",
      "          1       0.49      0.15      0.24       750\n",
      "\n",
      "avg / total       0.61      0.66      0.59      2199\n",
      "\n"
     ]
    },
    {
     "data": {
      "text/plain": [
       "0.65757162346521147"
      ]
     },
     "execution_count": 72,
     "metadata": {},
     "output_type": "execute_result"
    }
   ],
   "source": [
    "evaluate_model(gsknn.best_estimator_)\n"
   ]
  },
  {
   "cell_type": "code",
   "execution_count": 73,
   "metadata": {
    "collapsed": true
   },
   "outputs": [],
   "source": [
    "all_models['knn'] = {'model': gsknn.best_estimator_,\n",
    "                     'score': a}"
   ]
  },
  {
   "cell_type": "code",
   "execution_count": 74,
   "metadata": {
    "collapsed": true
   },
   "outputs": [],
   "source": [
    "from sklearn.ensemble import BaggingClassifier\n",
    "baggingknn = BaggingClassifier(KNeighborsClassifier())"
   ]
  },
  {
   "cell_type": "code",
   "execution_count": 75,
   "metadata": {
    "collapsed": false
   },
   "outputs": [
    {
     "name": "stdout",
     "output_type": "stream",
     "text": [
      "[[1146  303]\n",
      " [ 479  271]]\n",
      "             precision    recall  f1-score   support\n",
      "\n",
      "          0       0.71      0.79      0.75      1449\n",
      "          1       0.47      0.36      0.41       750\n",
      "\n",
      "avg / total       0.63      0.64      0.63      2199\n",
      "\n"
     ]
    },
    {
     "data": {
      "text/plain": [
       "0.64438381082310137"
      ]
     },
     "execution_count": 75,
     "metadata": {},
     "output_type": "execute_result"
    }
   ],
   "source": [
    "evaluate_model(baggingknn)\n"
   ]
  },
  {
   "cell_type": "code",
   "execution_count": 76,
   "metadata": {
    "collapsed": true
   },
   "outputs": [],
   "source": [
    "bagging_params = {'n_estimators': [10, 20],\n",
    "                  'max_samples': [0.7, 1.0],\n",
    "                  'max_features': [0.7, 1.0],\n",
    "                  'bootstrap_features': [True, False]}\n",
    "\n",
    "\n",
    "gsbaggingknn = GridSearchCV(baggingknn,\n",
    "                            bagging_params, n_jobs=-1,\n",
    "                            cv=KFold(len(y), n_folds=3, shuffle=True))"
   ]
  },
  {
   "cell_type": "code",
   "execution_count": 77,
   "metadata": {
    "collapsed": false
   },
   "outputs": [
    {
     "data": {
      "text/plain": [
       "GridSearchCV(cv=sklearn.cross_validation.KFold(n=7328, n_folds=3, shuffle=True, random_state=None),\n",
       "       error_score='raise',\n",
       "       estimator=BaggingClassifier(base_estimator=KNeighborsClassifier(algorithm='auto', leaf_size=30, metric='minkowski',\n",
       "           metric_params=None, n_jobs=1, n_neighbors=5, p=2,\n",
       "           weights='uniform'),\n",
       "         bootstrap=True, bootstrap_features=False, max_features=1.0,\n",
       "         max_samples=1.0, n_estimators=10, n_jobs=1, oob_score=False,\n",
       "         random_state=None, verbose=0, warm_start=False),\n",
       "       fit_params={}, iid=True, n_jobs=-1,\n",
       "       param_grid={'n_estimators': [10, 20], 'max_samples': [0.7, 1.0], 'bootstrap_features': [True, False], 'max_features': [0.7, 1.0]},\n",
       "       pre_dispatch='2*n_jobs', refit=True, scoring=None, verbose=0)"
      ]
     },
     "execution_count": 77,
     "metadata": {},
     "output_type": "execute_result"
    }
   ],
   "source": [
    "gsbaggingknn.fit(X1, y)\n"
   ]
  },
  {
   "cell_type": "code",
   "execution_count": 78,
   "metadata": {
    "collapsed": false
   },
   "outputs": [
    {
     "data": {
      "text/plain": [
       "{'bootstrap_features': True,\n",
       " 'max_features': 1.0,\n",
       " 'max_samples': 0.7,\n",
       " 'n_estimators': 10}"
      ]
     },
     "execution_count": 78,
     "metadata": {},
     "output_type": "execute_result"
    }
   ],
   "source": [
    "gsbaggingknn.best_params_"
   ]
  },
  {
   "cell_type": "code",
   "execution_count": 79,
   "metadata": {
    "collapsed": false
   },
   "outputs": [
    {
     "name": "stdout",
     "output_type": "stream",
     "text": [
      "[[1345  104]\n",
      " [ 644  106]]\n",
      "             precision    recall  f1-score   support\n",
      "\n",
      "          0       0.68      0.93      0.78      1449\n",
      "          1       0.50      0.14      0.22       750\n",
      "\n",
      "avg / total       0.62      0.66      0.59      2199\n",
      "\n"
     ]
    }
   ],
   "source": [
    "all_models['gsbaggingknn'] = {'model': gsbaggingknn.best_estimator_,\n",
    "                              'score': evaluate_model(gsbaggingknn.best_estimator_)}\n"
   ]
  },
  {
   "cell_type": "code",
   "execution_count": 80,
   "metadata": {
    "collapsed": false
   },
   "outputs": [
    {
     "name": "stdout",
     "output_type": "stream",
     "text": [
      "[[1312  137]\n",
      " [ 580  170]]\n",
      "             precision    recall  f1-score   support\n",
      "\n",
      "          0       0.69      0.91      0.79      1449\n",
      "          1       0.55      0.23      0.32       750\n",
      "\n",
      "avg / total       0.65      0.67      0.63      2199\n",
      "\n"
     ]
    }
   ],
   "source": [
    "from sklearn.linear_model import LogisticRegression\n",
    "\n",
    "lr = LogisticRegression()\n",
    "all_models['lr'] = {'model': lr,\n",
    "                    'score': evaluate_model(lr)}"
   ]
  },
  {
   "cell_type": "code",
   "execution_count": 81,
   "metadata": {
    "collapsed": false
   },
   "outputs": [
    {
     "name": "stdout",
     "output_type": "stream",
     "text": [
      "{'penalty': 'l1', 'C': 1.0}\n",
      "0.66798580786\n",
      "[[1318  131]\n",
      " [ 587  163]]\n",
      "             precision    recall  f1-score   support\n",
      "\n",
      "          0       0.69      0.91      0.79      1449\n",
      "          1       0.55      0.22      0.31       750\n",
      "\n",
      "avg / total       0.64      0.67      0.62      2199\n",
      "\n"
     ]
    }
   ],
   "source": [
    "params = {'C': [0.001, 0.01, 0.1, 1.0, 10.0, 100.0],\n",
    "          'penalty': ['l1', 'l2']}\n",
    "\n",
    "gslr = GridSearchCV(lr,\n",
    "                    params, n_jobs=-1,\n",
    "                    cv=KFold(len(y), n_folds=3, shuffle=True))\n",
    "\n",
    "gslr.fit(X1, y)\n",
    "\n",
    "print gslr.best_params_\n",
    "print gslr.best_score_\n",
    "\n",
    "all_models['gslr'] = {'model': gslr.best_estimator_,\n",
    "                             'score': evaluate_model(gslr.best_estimator_)}"
   ]
  },
  {
   "cell_type": "code",
   "execution_count": 82,
   "metadata": {
    "collapsed": false
   },
   "outputs": [
    {
     "name": "stdout",
     "output_type": "stream",
     "text": [
      "{'max_features': 1.0, 'max_samples': 1.0, 'n_estimators': 10, 'bootstrap_features': False}\n",
      "0.66989628821\n",
      "[[1322  127]\n",
      " [ 590  160]]\n",
      "             precision    recall  f1-score   support\n",
      "\n",
      "          0       0.69      0.91      0.79      1449\n",
      "          1       0.56      0.21      0.31       750\n",
      "\n",
      "avg / total       0.65      0.67      0.62      2199\n",
      "\n"
     ]
    }
   ],
   "source": [
    "gsbagginglr = GridSearchCV(BaggingClassifier(gslr.best_estimator_),\n",
    "                           bagging_params, n_jobs=-1,\n",
    "                           cv=KFold(len(y), n_folds=3, shuffle=True))\n",
    "\n",
    "gsbagginglr.fit(X1, y)\n",
    "\n",
    "print gsbagginglr.best_params_\n",
    "print gsbagginglr.best_score_\n",
    "\n",
    "all_models['gsbagginglr'] = {'model': gsbagginglr.best_estimator_,\n",
    "                             'score': evaluate_model(gsbagginglr.best_estimator_)}\n"
   ]
  },
  {
   "cell_type": "code",
   "execution_count": 83,
   "metadata": {
    "collapsed": false
   },
   "outputs": [
    {
     "name": "stdout",
     "output_type": "stream",
     "text": [
      "[[1191  258]\n",
      " [ 562  188]]\n",
      "             precision    recall  f1-score   support\n",
      "\n",
      "          0       0.68      0.82      0.74      1449\n",
      "          1       0.42      0.25      0.31       750\n",
      "\n",
      "avg / total       0.59      0.63      0.60      2199\n",
      "\n"
     ]
    }
   ],
   "source": [
    "from sklearn.tree import DecisionTreeClassifier\n",
    "\n",
    "dt = DecisionTreeClassifier()\n",
    "all_models['dt'] = {'model': dt,\n",
    "                    'score': evaluate_model(dt)}"
   ]
  },
  {
   "cell_type": "code",
   "execution_count": 84,
   "metadata": {
    "collapsed": false
   },
   "outputs": [
    {
     "name": "stdout",
     "output_type": "stream",
     "text": [
      "{'min_samples_split': 2, 'splitter': 'random', 'criterion': 'gini', 'max_depth': 5, 'min_samples_leaf': 2}\n",
      "0.668668122271\n",
      "[[1388   61]\n",
      " [ 663   87]]\n",
      "             precision    recall  f1-score   support\n",
      "\n",
      "          0       0.68      0.96      0.79      1449\n",
      "          1       0.59      0.12      0.19       750\n",
      "\n",
      "avg / total       0.65      0.67      0.59      2199\n",
      "\n"
     ]
    }
   ],
   "source": [
    "params = {'criterion': ['gini', 'entropy'],\n",
    "          'splitter': ['best', 'random'],\n",
    "          'max_depth': [None, 5, 10],\n",
    "          'min_samples_split': [2, 5],\n",
    "          'min_samples_leaf': [1, 2, 3]}\n",
    "\n",
    "gsdt = GridSearchCV(dt,\n",
    "                    params, n_jobs=-1,\n",
    "                    cv=KFold(len(y), n_folds=3, shuffle=True))\n",
    "\n",
    "gsdt.fit(X1, y)\n",
    "print gsdt.best_params_\n",
    "print gsdt.best_score_\n",
    "\n",
    "all_models['gsdt'] = {'model': gsdt.best_estimator_,\n",
    "                      'score': evaluate_model(gsdt.best_estimator_)}"
   ]
  },
  {
   "cell_type": "code",
   "execution_count": 85,
   "metadata": {
    "collapsed": false
   },
   "outputs": [
    {
     "name": "stdout",
     "output_type": "stream",
     "text": [
      "{'max_features': 1.0, 'max_samples': 0.7, 'n_estimators': 20, 'bootstrap_features': False}\n",
      "0.665802401747\n",
      "[[1437   12]\n",
      " [ 730   20]]\n",
      "             precision    recall  f1-score   support\n",
      "\n",
      "          0       0.66      0.99      0.79      1449\n",
      "          1       0.62      0.03      0.05       750\n",
      "\n",
      "avg / total       0.65      0.66      0.54      2199\n",
      "\n"
     ]
    }
   ],
   "source": [
    "gsbaggingdt = GridSearchCV(BaggingClassifier(gsdt.best_estimator_),\n",
    "                           bagging_params, n_jobs=-1,\n",
    "                           cv=KFold(len(y), n_folds=3, shuffle=True))\n",
    "\n",
    "gsbaggingdt.fit(X1, y)\n",
    "\n",
    "print gsbaggingdt.best_params_\n",
    "print gsbaggingdt.best_score_\n",
    "\n",
    "all_models['gsbaggingdt'] = {'model': gsbaggingdt.best_estimator_,\n",
    "                             'score': evaluate_model(gsbaggingdt.best_estimator_)}"
   ]
  },
  {
   "cell_type": "code",
   "execution_count": 86,
   "metadata": {
    "collapsed": false
   },
   "outputs": [
    {
     "name": "stdout",
     "output_type": "stream",
     "text": [
      "[[1449    0]\n",
      " [ 750    0]]\n",
      "             precision    recall  f1-score   support\n",
      "\n",
      "          0       0.66      1.00      0.79      1449\n",
      "          1       0.00      0.00      0.00       750\n",
      "\n",
      "avg / total       0.43      0.66      0.52      2199\n",
      "\n"
     ]
    },
    {
     "name": "stderr",
     "output_type": "stream",
     "text": [
      "/Users/cguy/anaconda/lib/python2.7/site-packages/sklearn/metrics/classification.py:1074: UndefinedMetricWarning: Precision and F-score are ill-defined and being set to 0.0 in labels with no predicted samples.\n",
      "  'precision', 'predicted', average, warn_for)\n"
     ]
    }
   ],
   "source": [
    "from sklearn.svm import SVC\n",
    "\n",
    "svm = SVC()\n",
    "all_models['svm'] = {'model': svm,\n",
    "                     'score': evaluate_model(svm)}"
   ]
  },
  {
   "cell_type": "code",
   "execution_count": 87,
   "metadata": {
    "collapsed": false
   },
   "outputs": [
    {
     "name": "stdout",
     "output_type": "stream",
     "text": [
      "{'kernel': 'rbf', 'C': 30.0, 'gamma': 'auto'}\n",
      "0.672898471616\n",
      "[[1358   91]\n",
      " [ 619  131]]\n",
      "             precision    recall  f1-score   support\n",
      "\n",
      "          0       0.69      0.94      0.79      1449\n",
      "          1       0.59      0.17      0.27       750\n",
      "\n",
      "avg / total       0.65      0.68      0.61      2199\n",
      "\n"
     ]
    }
   ],
   "source": [
    "params = {'C': [0.01, 0.1, 1.0, 10.0, 30.0, 100.0],\n",
    "          'gamma': ['auto', 0.1, 1.0, 10.0],\n",
    "          'kernel': ['linear', 'rbf']}\n",
    "\n",
    "\n",
    "gssvm = GridSearchCV(svm,\n",
    "                    params, n_jobs=-1,\n",
    "                    cv=KFold(len(y), n_folds=3, shuffle=True))\n",
    "\n",
    "gssvm.fit(X1, y)\n",
    "print gssvm.best_params_\n",
    "print gssvm.best_score_\n",
    "\n",
    "all_models['gssvm'] = {'model': gssvm.best_estimator_,\n",
    "                      'score': evaluate_model(gssvm.best_estimator_)}"
   ]
  },
  {
   "cell_type": "code",
   "execution_count": 88,
   "metadata": {
    "collapsed": false
   },
   "outputs": [
    {
     "name": "stdout",
     "output_type": "stream",
     "text": [
      "{'max_features': 1.0, 'max_samples': 1.0, 'n_estimators': 20, 'bootstrap_features': False}\n",
      "0.671260917031\n",
      "[[1355   94]\n",
      " [ 617  133]]\n",
      "             precision    recall  f1-score   support\n",
      "\n",
      "          0       0.69      0.94      0.79      1449\n",
      "          1       0.59      0.18      0.27       750\n",
      "\n",
      "avg / total       0.65      0.68      0.61      2199\n",
      "\n"
     ]
    }
   ],
   "source": [
    "gsbaggingsvm = GridSearchCV(BaggingClassifier(gssvm.best_estimator_),\n",
    "                           bagging_params, n_jobs=-1,\n",
    "                           cv=KFold(len(y), n_folds=3, shuffle=True))\n",
    "\n",
    "gsbaggingsvm.fit(X1, y)\n",
    "\n",
    "print gsbaggingsvm.best_params_\n",
    "print gsbaggingsvm.best_score_\n",
    "\n",
    "all_models['gsbaggingsvm'] = {'model': gsbaggingsvm.best_estimator_,\n",
    "                             'score': evaluate_model(gsbaggingsvm.best_estimator_)}"
   ]
  },
  {
   "cell_type": "code",
   "execution_count": 89,
   "metadata": {
    "collapsed": false
   },
   "outputs": [
    {
     "name": "stdout",
     "output_type": "stream",
     "text": [
      "[[1183  266]\n",
      " [ 541  209]]\n",
      "             precision    recall  f1-score   support\n",
      "\n",
      "          0       0.69      0.82      0.75      1449\n",
      "          1       0.44      0.28      0.34       750\n",
      "\n",
      "avg / total       0.60      0.63      0.61      2199\n",
      "\n",
      "[[1212  237]\n",
      " [ 565  185]]\n",
      "             precision    recall  f1-score   support\n",
      "\n",
      "          0       0.68      0.84      0.75      1449\n",
      "          1       0.44      0.25      0.32       750\n",
      "\n",
      "avg / total       0.60      0.64      0.60      2199\n",
      "\n"
     ]
    }
   ],
   "source": [
    "from sklearn.ensemble import RandomForestClassifier, ExtraTreesClassifier\n",
    "\n",
    "rf = RandomForestClassifier()\n",
    "all_models['rf'] = {'model': rf,\n",
    "                    'score': evaluate_model(rf)}\n",
    "\n",
    "\n",
    "\n",
    "et = ExtraTreesClassifier()\n",
    "all_models['et'] = {'model': et,\n",
    "                    'score': evaluate_model(et)}"
   ]
  },
  {
   "cell_type": "code",
   "execution_count": 90,
   "metadata": {
    "collapsed": false
   },
   "outputs": [
    {
     "name": "stdout",
     "output_type": "stream",
     "text": [
      "{'min_samples_split': 5, 'n_estimators': 3, 'criterion': 'gini', 'max_depth': 3, 'class_weight': None}\n",
      "0.665256550218\n",
      "[[1447    2]\n",
      " [ 749    1]]\n",
      "             precision    recall  f1-score   support\n",
      "\n",
      "          0       0.66      1.00      0.79      1449\n",
      "          1       0.33      0.00      0.00       750\n",
      "\n",
      "avg / total       0.55      0.66      0.52      2199\n",
      "\n"
     ]
    }
   ],
   "source": [
    "params = {'n_estimators':[3, 5, 10, 50],\n",
    "          'criterion': ['gini', 'entropy'],\n",
    "          'max_depth': [None, 3, 5],\n",
    "          'min_samples_split': [2,5],\n",
    "          'class_weight':[None, 'balanced']}\n",
    "\n",
    "\n",
    "gsrf = GridSearchCV(RandomForestClassifier(n_jobs=-1),\n",
    "                    params, n_jobs=-1,\n",
    "                    cv=KFold(len(y), n_folds=3, shuffle=True))\n",
    "\n",
    "gsrf.fit(X1, y)\n",
    "print gsrf.best_params_\n",
    "print gsrf.best_score_\n",
    "\n",
    "all_models['gsrf'] = {'model': gsrf.best_estimator_,\n",
    "                      'score': evaluate_model(gsrf.best_estimator_)}"
   ]
  },
  {
   "cell_type": "code",
   "execution_count": 91,
   "metadata": {
    "collapsed": false
   },
   "outputs": [
    {
     "name": "stdout",
     "output_type": "stream",
     "text": [
      "{'min_samples_split': 5, 'n_estimators': 3, 'criterion': 'entropy', 'max_depth': 5, 'class_weight': None}\n",
      "0.663073144105\n",
      "[[1436   13]\n",
      " [ 735   15]]\n",
      "             precision    recall  f1-score   support\n",
      "\n",
      "          0       0.66      0.99      0.79      1449\n",
      "          1       0.54      0.02      0.04       750\n",
      "\n",
      "avg / total       0.62      0.66      0.54      2199\n",
      "\n"
     ]
    }
   ],
   "source": [
    "gset = GridSearchCV(RandomForestClassifier(n_jobs=-1),\n",
    "                    params, n_jobs=-1,\n",
    "                    cv=KFold(len(y), n_folds=3, shuffle=True))\n",
    "\n",
    "gset.fit(X1, y)\n",
    "print gset.best_params_\n",
    "print gset.best_score_\n",
    "\n",
    "all_models['gset'] = {'model': gset.best_estimator_,\n",
    "                      'score': evaluate_model(gset.best_estimator_)}"
   ]
  },
  {
   "cell_type": "code",
   "execution_count": 92,
   "metadata": {
    "collapsed": false
   },
   "outputs": [
    {
     "data": {
      "text/html": [
       "<div>\n",
       "<table border=\"1\" class=\"dataframe\">\n",
       "  <thead>\n",
       "    <tr style=\"text-align: right;\">\n",
       "      <th></th>\n",
       "      <th>score</th>\n",
       "    </tr>\n",
       "    <tr>\n",
       "      <th>model</th>\n",
       "      <th></th>\n",
       "    </tr>\n",
       "  </thead>\n",
       "  <tbody>\n",
       "    <tr>\n",
       "      <th>gssvm</th>\n",
       "      <td>0.677126</td>\n",
       "    </tr>\n",
       "    <tr>\n",
       "      <th>gsbaggingsvm</th>\n",
       "      <td>0.676671</td>\n",
       "    </tr>\n",
       "    <tr>\n",
       "      <th>gsbagginglr</th>\n",
       "      <td>0.673943</td>\n",
       "    </tr>\n",
       "    <tr>\n",
       "      <th>lr</th>\n",
       "      <td>0.673943</td>\n",
       "    </tr>\n",
       "    <tr>\n",
       "      <th>gslr</th>\n",
       "      <td>0.673488</td>\n",
       "    </tr>\n",
       "    <tr>\n",
       "      <th>gsdt</th>\n",
       "      <td>0.670759</td>\n",
       "    </tr>\n",
       "    <tr>\n",
       "      <th>gsbaggingdt</th>\n",
       "      <td>0.662574</td>\n",
       "    </tr>\n",
       "    <tr>\n",
       "      <th>gset</th>\n",
       "      <td>0.659845</td>\n",
       "    </tr>\n",
       "    <tr>\n",
       "      <th>gsbaggingknn</th>\n",
       "      <td>0.659845</td>\n",
       "    </tr>\n",
       "    <tr>\n",
       "      <th>svm</th>\n",
       "      <td>0.658936</td>\n",
       "    </tr>\n",
       "    <tr>\n",
       "      <th>gsrf</th>\n",
       "      <td>0.658481</td>\n",
       "    </tr>\n",
       "    <tr>\n",
       "      <th>knn</th>\n",
       "      <td>0.635744</td>\n",
       "    </tr>\n",
       "    <tr>\n",
       "      <th>et</th>\n",
       "      <td>0.635289</td>\n",
       "    </tr>\n",
       "    <tr>\n",
       "      <th>rf</th>\n",
       "      <td>0.633015</td>\n",
       "    </tr>\n",
       "    <tr>\n",
       "      <th>dt</th>\n",
       "      <td>0.627103</td>\n",
       "    </tr>\n",
       "  </tbody>\n",
       "</table>\n",
       "</div>"
      ],
      "text/plain": [
       "                 score\n",
       "model                 \n",
       "gssvm         0.677126\n",
       "gsbaggingsvm  0.676671\n",
       "gsbagginglr   0.673943\n",
       "lr            0.673943\n",
       "gslr          0.673488\n",
       "gsdt          0.670759\n",
       "gsbaggingdt   0.662574\n",
       "gset          0.659845\n",
       "gsbaggingknn  0.659845\n",
       "svm           0.658936\n",
       "gsrf          0.658481\n",
       "knn           0.635744\n",
       "et            0.635289\n",
       "rf            0.633015\n",
       "dt            0.627103"
      ]
     },
     "execution_count": 92,
     "metadata": {},
     "output_type": "execute_result"
    },
    {
     "data": {
      "image/png": "[encoded data removed]",
      "text/plain": [
       "<matplotlib.figure.Figure at 0x153609890>"
      ]
     },
     "metadata": {},
     "output_type": "display_data"
    }
   ],
   "source": [
    "scores = pd.DataFrame([(k, v['score']) for k, v in all_models.iteritems()],\n",
    "             columns=['model', 'score']).set_index('model').sort_values('score', ascending=False)\n",
    "\n",
    "\n",
    "scores.plot(kind='bar')\n",
    "plt.ylim(0.0, 1.1)\n",
    "\n",
    "scores"
   ]
  },
  {
   "cell_type": "code",
   "execution_count": 93,
   "metadata": {
    "collapsed": false
   },
   "outputs": [
    {
     "name": "stdout",
     "output_type": "stream",
     "text": [
      "knn gsbagginglr gsrf svm et gsbaggingsvm gslr rf gsbaggingdt gsdt lr gset gssvm gsbaggingknn dt\n"
     ]
    }
   ],
   "source": [
    "from sklearn.cross_validation import cross_val_score, StratifiedKFold\n",
    "\n",
    "def retest(model):\n",
    "    scores = cross_val_score(model, X1, y,\n",
    "                             cv=StratifiedKFold(y, shuffle=True),\n",
    "                             n_jobs=-1)\n",
    "    m = scores.mean()\n",
    "    s = scores.std()\n",
    "    \n",
    "    return m, s\n",
    "\n",
    "for k, v in all_models.iteritems():\n",
    "    cvres = retest(v['model'])\n",
    "    print k, \n",
    "    all_models[k]['cvres'] = cvres"
   ]
  },
  {
   "cell_type": "code",
   "execution_count": 94,
   "metadata": {
    "collapsed": false
   },
   "outputs": [
    {
     "data": {
      "text/html": [
       "<div>\n",
       "<table border=\"1\" class=\"dataframe\">\n",
       "  <thead>\n",
       "    <tr style=\"text-align: right;\">\n",
       "      <th></th>\n",
       "      <th>score</th>\n",
       "      <th>error</th>\n",
       "    </tr>\n",
       "    <tr>\n",
       "      <th>model</th>\n",
       "      <th></th>\n",
       "      <th></th>\n",
       "    </tr>\n",
       "  </thead>\n",
       "  <tbody>\n",
       "    <tr>\n",
       "      <th>gssvm</th>\n",
       "      <td>0.672627</td>\n",
       "      <td>0.005920</td>\n",
       "    </tr>\n",
       "    <tr>\n",
       "      <th>gsdt</th>\n",
       "      <td>0.667849</td>\n",
       "      <td>0.001838</td>\n",
       "    </tr>\n",
       "    <tr>\n",
       "      <th>gsbaggingsvm</th>\n",
       "      <td>0.667441</td>\n",
       "      <td>0.007339</td>\n",
       "    </tr>\n",
       "    <tr>\n",
       "      <th>gsbagginglr</th>\n",
       "      <td>0.666894</td>\n",
       "      <td>0.001437</td>\n",
       "    </tr>\n",
       "    <tr>\n",
       "      <th>lr</th>\n",
       "      <td>0.666485</td>\n",
       "      <td>0.000783</td>\n",
       "    </tr>\n",
       "    <tr>\n",
       "      <th>gslr</th>\n",
       "      <td>0.665393</td>\n",
       "      <td>0.007725</td>\n",
       "    </tr>\n",
       "    <tr>\n",
       "      <th>gsbaggingdt</th>\n",
       "      <td>0.664029</td>\n",
       "      <td>0.001654</td>\n",
       "    </tr>\n",
       "    <tr>\n",
       "      <th>knn</th>\n",
       "      <td>0.662664</td>\n",
       "      <td>0.003802</td>\n",
       "    </tr>\n",
       "    <tr>\n",
       "      <th>svm</th>\n",
       "      <td>0.661436</td>\n",
       "      <td>0.002201</td>\n",
       "    </tr>\n",
       "    <tr>\n",
       "      <th>gsbaggingknn</th>\n",
       "      <td>0.660890</td>\n",
       "      <td>0.003456</td>\n",
       "    </tr>\n",
       "    <tr>\n",
       "      <th>gsrf</th>\n",
       "      <td>0.660071</td>\n",
       "      <td>0.002736</td>\n",
       "    </tr>\n",
       "    <tr>\n",
       "      <th>gset</th>\n",
       "      <td>0.658297</td>\n",
       "      <td>0.001536</td>\n",
       "    </tr>\n",
       "    <tr>\n",
       "      <th>et</th>\n",
       "      <td>0.635237</td>\n",
       "      <td>0.011801</td>\n",
       "    </tr>\n",
       "    <tr>\n",
       "      <th>dt</th>\n",
       "      <td>0.631413</td>\n",
       "      <td>0.006501</td>\n",
       "    </tr>\n",
       "    <tr>\n",
       "      <th>rf</th>\n",
       "      <td>0.625136</td>\n",
       "      <td>0.011300</td>\n",
       "    </tr>\n",
       "  </tbody>\n",
       "</table>\n",
       "</div>"
      ],
      "text/plain": [
       "                 score     error\n",
       "model                           \n",
       "gssvm         0.672627  0.005920\n",
       "gsdt          0.667849  0.001838\n",
       "gsbaggingsvm  0.667441  0.007339\n",
       "gsbagginglr   0.666894  0.001437\n",
       "lr            0.666485  0.000783\n",
       "gslr          0.665393  0.007725\n",
       "gsbaggingdt   0.664029  0.001654\n",
       "knn           0.662664  0.003802\n",
       "svm           0.661436  0.002201\n",
       "gsbaggingknn  0.660890  0.003456\n",
       "gsrf          0.660071  0.002736\n",
       "gset          0.658297  0.001536\n",
       "et            0.635237  0.011801\n",
       "dt            0.631413  0.006501\n",
       "rf            0.625136  0.011300"
      ]
     },
     "execution_count": 94,
     "metadata": {},
     "output_type": "execute_result"
    },
    {
     "data": {
      "image/png": "[encoded data removed]",
      "text/plain": [
       "<matplotlib.figure.Figure at 0x14fe88750>"
      ]
     },
     "metadata": {},
     "output_type": "display_data"
    }
   ],
   "source": [
    "cvscores = pd.DataFrame([(k, v['cvres'][0], v['cvres'][1] ) for k, v in all_models.iteritems()],\n",
    "                        columns=['model', 'score', 'error']).set_index('model').sort_values('score', ascending=False)\n",
    "\n",
    "\n",
    "\n",
    "fig, ax = plt.subplots()\n",
    "rects1 = ax.bar(range(len(cvscores)), cvscores.score,\n",
    "                yerr=cvscores.error,\n",
    "                tick_label=cvscores.index)\n",
    "\n",
    "ax.set_ylabel('Scores')\n",
    "plt.xticks(rotation=70)\n",
    "plt.ylim(0.6, 1.1)\n",
    "\n",
    "# cvscores.to_csv('../../../5.2-lesson/assets/datasets/car_evaluation/model_comparison.csv')\n",
    "cvscores"
   ]
  },
  {
   "cell_type": "code",
   "execution_count": null,
   "metadata": {
    "collapsed": true
   },
   "outputs": [],
   "source": []
  },
  {
   "cell_type": "code",
   "execution_count": null,
   "metadata": {
    "collapsed": true
   },
   "outputs": [],
   "source": []
  },
  {
   "cell_type": "code",
   "execution_count": null,
   "metadata": {
    "collapsed": true
   },
   "outputs": [],
   "source": []
  },
  {
   "cell_type": "code",
   "execution_count": null,
   "metadata": {
    "collapsed": true
   },
   "outputs": [],
   "source": []
  },
  {
   "cell_type": "code",
   "execution_count": null,
   "metadata": {
    "collapsed": true
   },
   "outputs": [],
   "source": []
  },
  {
   "cell_type": "code",
   "execution_count": null,
   "metadata": {
    "collapsed": true
   },
   "outputs": [],
   "source": []
  },
  {
   "cell_type": "code",
   "execution_count": null,
   "metadata": {
    "collapsed": true
   },
   "outputs": [],
   "source": []
  },
  {
   "cell_type": "code",
   "execution_count": null,
   "metadata": {
    "collapsed": true
   },
   "outputs": [],
   "source": []
  },
  {
   "cell_type": "code",
   "execution_count": null,
   "metadata": {
    "collapsed": true
   },
   "outputs": [],
   "source": []
  },
  {
   "cell_type": "code",
   "execution_count": null,
   "metadata": {
    "collapsed": true
   },
   "outputs": [],
   "source": []
  }
 ],
 "metadata": {
  "kernelspec": {
   "display_name": "Python 2",
   "language": "python",
   "name": "python2"
  },
  "language_info": {
   "codemirror_mode": {
    "name": "ipython",
    "version": 2
   },
   "file_extension": ".py",
   "mimetype": "text/x-python",
   "name": "python",
   "nbconvert_exporter": "python",
   "pygments_lexer": "ipython2",
   "version": "2.7.9"
  }
 },
 "nbformat": 4,
 "nbformat_minor": 0
}
