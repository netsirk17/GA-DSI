{
 "cells": [
  {
   "cell_type": "markdown",
   "metadata": {},
   "source": [
    "# Technical Analysis: Part 3 -- Models per State\n",
    "\n",
    "- From unsupervised ML techniques, I was able to determine that best target variable (best because it explains the most variance of all the y-variables in dataset.\n",
    "- From unsupervised ML techniques, I was able to determine that one of the best feature variables (best because it explains the most variance of all the x-variables in dataset. \n",
    "- There are still many features left in the dataset. I will analyze feature importance over feature variables using random forests in order to reduce dimensionality and find most significant feature variables to focus on.\n"
   ]
  },
  {
   "cell_type": "markdown",
   "metadata": {},
   "source": [
    "### Random Forests"
   ]
  },
  {
   "cell_type": "code",
   "execution_count": 1,
   "metadata": {
    "collapsed": true
   },
   "outputs": [],
   "source": [
    "import pandas as pd\n",
    "import numpy as np\n",
    "import matplotlib.pyplot as plt\n",
    "%matplotlib inline\n"
   ]
  },
  {
   "cell_type": "code",
   "execution_count": 13,
   "metadata": {
    "collapsed": false
   },
   "outputs": [
    {
     "data": {
      "text/html": [
       "<div>\n",
       "<table border=\"1\" class=\"dataframe\">\n",
       "  <thead>\n",
       "    <tr style=\"text-align: right;\">\n",
       "      <th></th>\n",
       "      <th>Unnamed: 0</th>\n",
       "      <th>ILNAsv</th>\n",
       "      <th>AcSuppSv</th>\n",
       "      <th>PSEdSuppSv</th>\n",
       "      <th>CareerSv</th>\n",
       "      <th>EmplyTrSv</th>\n",
       "      <th>BudgetSv</th>\n",
       "      <th>HousEdSv</th>\n",
       "      <th>HlthEdSv</th>\n",
       "      <th>FamSuppSv</th>\n",
       "      <th>MentorSv</th>\n",
       "      <th>SILsv</th>\n",
       "      <th>RmBrdFASv</th>\n",
       "      <th>EducFinaSv</th>\n",
       "      <th>OthrFinaSv</th>\n",
       "      <th>St</th>\n",
       "      <th>DelinqntSv</th>\n",
       "      <th>Num_services</th>\n",
       "    </tr>\n",
       "  </thead>\n",
       "  <tbody>\n",
       "    <tr>\n",
       "      <th>0</th>\n",
       "      <td>7328</td>\n",
       "      <td>0.0</td>\n",
       "      <td>0.0</td>\n",
       "      <td>0.0</td>\n",
       "      <td>0.0</td>\n",
       "      <td>0.0</td>\n",
       "      <td>0.0</td>\n",
       "      <td>1.0</td>\n",
       "      <td>0.0</td>\n",
       "      <td>0.0</td>\n",
       "      <td>0.0</td>\n",
       "      <td>0.0</td>\n",
       "      <td>0.0</td>\n",
       "      <td>0.0</td>\n",
       "      <td>1.0</td>\n",
       "      <td>AK</td>\n",
       "      <td>0.0</td>\n",
       "      <td>2</td>\n",
       "    </tr>\n",
       "    <tr>\n",
       "      <th>1</th>\n",
       "      <td>7329</td>\n",
       "      <td>1.0</td>\n",
       "      <td>0.0</td>\n",
       "      <td>0.0</td>\n",
       "      <td>0.0</td>\n",
       "      <td>0.0</td>\n",
       "      <td>0.0</td>\n",
       "      <td>0.0</td>\n",
       "      <td>0.0</td>\n",
       "      <td>0.0</td>\n",
       "      <td>0.0</td>\n",
       "      <td>0.0</td>\n",
       "      <td>0.0</td>\n",
       "      <td>0.0</td>\n",
       "      <td>0.0</td>\n",
       "      <td>AK</td>\n",
       "      <td>0.0</td>\n",
       "      <td>1</td>\n",
       "    </tr>\n",
       "    <tr>\n",
       "      <th>2</th>\n",
       "      <td>7330</td>\n",
       "      <td>1.0</td>\n",
       "      <td>0.0</td>\n",
       "      <td>0.0</td>\n",
       "      <td>0.0</td>\n",
       "      <td>0.0</td>\n",
       "      <td>0.0</td>\n",
       "      <td>0.0</td>\n",
       "      <td>0.0</td>\n",
       "      <td>0.0</td>\n",
       "      <td>0.0</td>\n",
       "      <td>0.0</td>\n",
       "      <td>0.0</td>\n",
       "      <td>1.0</td>\n",
       "      <td>1.0</td>\n",
       "      <td>AK</td>\n",
       "      <td>0.0</td>\n",
       "      <td>3</td>\n",
       "    </tr>\n",
       "    <tr>\n",
       "      <th>3</th>\n",
       "      <td>7331</td>\n",
       "      <td>1.0</td>\n",
       "      <td>0.0</td>\n",
       "      <td>0.0</td>\n",
       "      <td>0.0</td>\n",
       "      <td>0.0</td>\n",
       "      <td>0.0</td>\n",
       "      <td>0.0</td>\n",
       "      <td>0.0</td>\n",
       "      <td>0.0</td>\n",
       "      <td>0.0</td>\n",
       "      <td>0.0</td>\n",
       "      <td>0.0</td>\n",
       "      <td>0.0</td>\n",
       "      <td>0.0</td>\n",
       "      <td>AK</td>\n",
       "      <td>0.0</td>\n",
       "      <td>1</td>\n",
       "    </tr>\n",
       "    <tr>\n",
       "      <th>4</th>\n",
       "      <td>7332</td>\n",
       "      <td>1.0</td>\n",
       "      <td>0.0</td>\n",
       "      <td>0.0</td>\n",
       "      <td>0.0</td>\n",
       "      <td>0.0</td>\n",
       "      <td>0.0</td>\n",
       "      <td>0.0</td>\n",
       "      <td>0.0</td>\n",
       "      <td>0.0</td>\n",
       "      <td>0.0</td>\n",
       "      <td>0.0</td>\n",
       "      <td>0.0</td>\n",
       "      <td>0.0</td>\n",
       "      <td>1.0</td>\n",
       "      <td>AK</td>\n",
       "      <td>0.0</td>\n",
       "      <td>2</td>\n",
       "    </tr>\n",
       "  </tbody>\n",
       "</table>\n",
       "</div>"
      ],
      "text/plain": [
       "   Unnamed: 0  ILNAsv  AcSuppSv  PSEdSuppSv  CareerSv  EmplyTrSv  BudgetSv  \\\n",
       "0        7328     0.0       0.0         0.0       0.0        0.0       0.0   \n",
       "1        7329     1.0       0.0         0.0       0.0        0.0       0.0   \n",
       "2        7330     1.0       0.0         0.0       0.0        0.0       0.0   \n",
       "3        7331     1.0       0.0         0.0       0.0        0.0       0.0   \n",
       "4        7332     1.0       0.0         0.0       0.0        0.0       0.0   \n",
       "\n",
       "   HousEdSv  HlthEdSv  FamSuppSv  MentorSv  SILsv  RmBrdFASv  EducFinaSv  \\\n",
       "0       1.0       0.0        0.0       0.0    0.0        0.0         0.0   \n",
       "1       0.0       0.0        0.0       0.0    0.0        0.0         0.0   \n",
       "2       0.0       0.0        0.0       0.0    0.0        0.0         1.0   \n",
       "3       0.0       0.0        0.0       0.0    0.0        0.0         0.0   \n",
       "4       0.0       0.0        0.0       0.0    0.0        0.0         0.0   \n",
       "\n",
       "   OthrFinaSv  St  DelinqntSv  Num_services  \n",
       "0         1.0  AK         0.0             2  \n",
       "1         0.0  AK         0.0             1  \n",
       "2         1.0  AK         0.0             3  \n",
       "3         0.0  AK         0.0             1  \n",
       "4         1.0  AK         0.0             2  "
      ]
     },
     "execution_count": 13,
     "metadata": {},
     "output_type": "execute_result"
    }
   ],
   "source": [
    "features_w2 = pd.read_csv('/Users/cguy/kelstuff/ga_summer_2016/features_w2.csv')\n",
    "features_w2.head()"
   ]
  },
  {
   "cell_type": "code",
   "execution_count": null,
   "metadata": {
    "collapsed": true
   },
   "outputs": [],
   "source": []
  },
  {
   "cell_type": "code",
   "execution_count": 16,
   "metadata": {
    "collapsed": false
   },
   "outputs": [],
   "source": [
    "heatMap = features_w2.St.value_counts()"
   ]
  },
  {
   "cell_type": "code",
   "execution_count": 17,
   "metadata": {
    "collapsed": true
   },
   "outputs": [],
   "source": [
    "heatMap.to_csv('heatMap.csv')"
   ]
  },
  {
   "cell_type": "code",
   "execution_count": null,
   "metadata": {
    "collapsed": true
   },
   "outputs": [],
   "source": []
  },
  {
   "cell_type": "code",
   "execution_count": null,
   "metadata": {
    "collapsed": true
   },
   "outputs": [],
   "source": []
  },
  {
   "cell_type": "code",
   "execution_count": null,
   "metadata": {
    "collapsed": true
   },
   "outputs": [],
   "source": []
  },
  {
   "cell_type": "code",
   "execution_count": 3,
   "metadata": {
    "collapsed": false
   },
   "outputs": [
    {
     "data": {
      "text/html": [
       "<div>\n",
       "<table border=\"1\" class=\"dataframe\">\n",
       "  <thead>\n",
       "    <tr style=\"text-align: right;\">\n",
       "      <th></th>\n",
       "      <th>Unnamed: 0</th>\n",
       "      <th>PubFoodAs</th>\n",
       "      <th>PubHousAs</th>\n",
       "      <th>OthrFinAs</th>\n",
       "      <th>HighEdCert</th>\n",
       "      <th>CurrFTE</th>\n",
       "      <th>CurrPTE</th>\n",
       "      <th>PubFinAs</th>\n",
       "      <th>CurrenRoll</th>\n",
       "      <th>PrescripIn</th>\n",
       "      <th>Homeless</th>\n",
       "      <th>SubAbuse</th>\n",
       "      <th>Incarc</th>\n",
       "      <th>Medicaid</th>\n",
       "      <th>OthrHlthIn</th>\n",
       "      <th>MedicalIn</th>\n",
       "      <th>MentlHlthIn</th>\n",
       "    </tr>\n",
       "  </thead>\n",
       "  <tbody>\n",
       "    <tr>\n",
       "      <th>0</th>\n",
       "      <td>7328</td>\n",
       "      <td>4</td>\n",
       "      <td>2</td>\n",
       "      <td>2</td>\n",
       "      <td>7</td>\n",
       "      <td>2</td>\n",
       "      <td>2</td>\n",
       "      <td>2</td>\n",
       "      <td>2</td>\n",
       "      <td>4</td>\n",
       "      <td>3</td>\n",
       "      <td>2</td>\n",
       "      <td>2</td>\n",
       "      <td>4</td>\n",
       "      <td>4</td>\n",
       "      <td>4</td>\n",
       "      <td>4</td>\n",
       "    </tr>\n",
       "    <tr>\n",
       "      <th>1</th>\n",
       "      <td>7329</td>\n",
       "      <td>2</td>\n",
       "      <td>2</td>\n",
       "      <td>2</td>\n",
       "      <td>5</td>\n",
       "      <td>2</td>\n",
       "      <td>2</td>\n",
       "      <td>2</td>\n",
       "      <td>2</td>\n",
       "      <td>4</td>\n",
       "      <td>2</td>\n",
       "      <td>2</td>\n",
       "      <td>2</td>\n",
       "      <td>3</td>\n",
       "      <td>4</td>\n",
       "      <td>4</td>\n",
       "      <td>4</td>\n",
       "    </tr>\n",
       "    <tr>\n",
       "      <th>2</th>\n",
       "      <td>7330</td>\n",
       "      <td>4</td>\n",
       "      <td>2</td>\n",
       "      <td>2</td>\n",
       "      <td>5</td>\n",
       "      <td>2</td>\n",
       "      <td>2</td>\n",
       "      <td>2</td>\n",
       "      <td>3</td>\n",
       "      <td>4</td>\n",
       "      <td>2</td>\n",
       "      <td>3</td>\n",
       "      <td>3</td>\n",
       "      <td>4</td>\n",
       "      <td>4</td>\n",
       "      <td>4</td>\n",
       "      <td>4</td>\n",
       "    </tr>\n",
       "    <tr>\n",
       "      <th>3</th>\n",
       "      <td>7331</td>\n",
       "      <td>4</td>\n",
       "      <td>2</td>\n",
       "      <td>2</td>\n",
       "      <td>5</td>\n",
       "      <td>2</td>\n",
       "      <td>3</td>\n",
       "      <td>2</td>\n",
       "      <td>2</td>\n",
       "      <td>4</td>\n",
       "      <td>3</td>\n",
       "      <td>2</td>\n",
       "      <td>2</td>\n",
       "      <td>4</td>\n",
       "      <td>4</td>\n",
       "      <td>4</td>\n",
       "      <td>4</td>\n",
       "    </tr>\n",
       "    <tr>\n",
       "      <th>4</th>\n",
       "      <td>7332</td>\n",
       "      <td>4</td>\n",
       "      <td>2</td>\n",
       "      <td>2</td>\n",
       "      <td>5</td>\n",
       "      <td>3</td>\n",
       "      <td>2</td>\n",
       "      <td>2</td>\n",
       "      <td>2</td>\n",
       "      <td>4</td>\n",
       "      <td>3</td>\n",
       "      <td>2</td>\n",
       "      <td>2</td>\n",
       "      <td>4</td>\n",
       "      <td>5</td>\n",
       "      <td>2</td>\n",
       "      <td>4</td>\n",
       "    </tr>\n",
       "  </tbody>\n",
       "</table>\n",
       "</div>"
      ],
      "text/plain": [
       "   Unnamed: 0  PubFoodAs  PubHousAs  OthrFinAs  HighEdCert  CurrFTE  CurrPTE  \\\n",
       "0        7328          4          2          2           7        2        2   \n",
       "1        7329          2          2          2           5        2        2   \n",
       "2        7330          4          2          2           5        2        2   \n",
       "3        7331          4          2          2           5        2        3   \n",
       "4        7332          4          2          2           5        3        2   \n",
       "\n",
       "   PubFinAs  CurrenRoll  PrescripIn  Homeless  SubAbuse  Incarc  Medicaid  \\\n",
       "0         2           2           4         3         2       2         4   \n",
       "1         2           2           4         2         2       2         3   \n",
       "2         2           3           4         2         3       3         4   \n",
       "3         2           2           4         3         2       2         4   \n",
       "4         2           2           4         3         2       2         4   \n",
       "\n",
       "   OthrHlthIn  MedicalIn  MentlHlthIn  \n",
       "0           4          4            4  \n",
       "1           4          4            4  \n",
       "2           4          4            4  \n",
       "3           4          4            4  \n",
       "4           5          2            4  "
      ]
     },
     "execution_count": 3,
     "metadata": {},
     "output_type": "execute_result"
    }
   ],
   "source": [
    "targets_w2 = pd.read_csv('/Users/cguy/kelstuff/ga_summer_2016/targets_w2.csv')\n",
    "targets_w2.head()"
   ]
  },
  {
   "cell_type": "code",
   "execution_count": null,
   "metadata": {
    "collapsed": true
   },
   "outputs": [],
   "source": []
  },
  {
   "cell_type": "code",
   "execution_count": null,
   "metadata": {
    "collapsed": true
   },
   "outputs": [],
   "source": []
  },
  {
   "cell_type": "code",
   "execution_count": null,
   "metadata": {
    "collapsed": true
   },
   "outputs": [],
   "source": []
  },
  {
   "cell_type": "code",
   "execution_count": 5,
   "metadata": {
    "collapsed": true
   },
   "outputs": [],
   "source": [
    "# feature importance"
   ]
  },
  {
   "cell_type": "code",
   "execution_count": null,
   "metadata": {
    "collapsed": true
   },
   "outputs": [],
   "source": []
  },
  {
   "cell_type": "code",
   "execution_count": 4,
   "metadata": {
    "collapsed": true
   },
   "outputs": [],
   "source": [
    "from sklearn.preprocessing import LabelEncoder\n",
    "le = LabelEncoder()\n",
    "y = le.fit_transform(targets_w2['HighEdCert'])\n",
    "X = pd.get_dummies(features_w2.drop('Unnamed: 0', axis=1))"
   ]
  },
  {
   "cell_type": "code",
   "execution_count": 5,
   "metadata": {
    "collapsed": false
   },
   "outputs": [
    {
     "data": {
      "text/html": [
       "<div>\n",
       "<table border=\"1\" class=\"dataframe\">\n",
       "  <thead>\n",
       "    <tr style=\"text-align: right;\">\n",
       "      <th></th>\n",
       "      <th>ILNAsv</th>\n",
       "      <th>AcSuppSv</th>\n",
       "      <th>PSEdSuppSv</th>\n",
       "      <th>CareerSv</th>\n",
       "      <th>EmplyTrSv</th>\n",
       "      <th>BudgetSv</th>\n",
       "      <th>HousEdSv</th>\n",
       "      <th>HlthEdSv</th>\n",
       "      <th>FamSuppSv</th>\n",
       "      <th>MentorSv</th>\n",
       "      <th>...</th>\n",
       "      <th>St_RI</th>\n",
       "      <th>St_SC</th>\n",
       "      <th>St_SD</th>\n",
       "      <th>St_UT</th>\n",
       "      <th>St_VA</th>\n",
       "      <th>St_VT</th>\n",
       "      <th>St_WA</th>\n",
       "      <th>St_WI</th>\n",
       "      <th>St_WV</th>\n",
       "      <th>St_WY</th>\n",
       "    </tr>\n",
       "  </thead>\n",
       "  <tbody>\n",
       "    <tr>\n",
       "      <th>0</th>\n",
       "      <td>0.0</td>\n",
       "      <td>0.0</td>\n",
       "      <td>0.0</td>\n",
       "      <td>0.0</td>\n",
       "      <td>0.0</td>\n",
       "      <td>0.0</td>\n",
       "      <td>1.0</td>\n",
       "      <td>0.0</td>\n",
       "      <td>0.0</td>\n",
       "      <td>0.0</td>\n",
       "      <td>...</td>\n",
       "      <td>0.0</td>\n",
       "      <td>0.0</td>\n",
       "      <td>0.0</td>\n",
       "      <td>0.0</td>\n",
       "      <td>0.0</td>\n",
       "      <td>0.0</td>\n",
       "      <td>0.0</td>\n",
       "      <td>0.0</td>\n",
       "      <td>0.0</td>\n",
       "      <td>0.0</td>\n",
       "    </tr>\n",
       "    <tr>\n",
       "      <th>1</th>\n",
       "      <td>1.0</td>\n",
       "      <td>0.0</td>\n",
       "      <td>0.0</td>\n",
       "      <td>0.0</td>\n",
       "      <td>0.0</td>\n",
       "      <td>0.0</td>\n",
       "      <td>0.0</td>\n",
       "      <td>0.0</td>\n",
       "      <td>0.0</td>\n",
       "      <td>0.0</td>\n",
       "      <td>...</td>\n",
       "      <td>0.0</td>\n",
       "      <td>0.0</td>\n",
       "      <td>0.0</td>\n",
       "      <td>0.0</td>\n",
       "      <td>0.0</td>\n",
       "      <td>0.0</td>\n",
       "      <td>0.0</td>\n",
       "      <td>0.0</td>\n",
       "      <td>0.0</td>\n",
       "      <td>0.0</td>\n",
       "    </tr>\n",
       "    <tr>\n",
       "      <th>2</th>\n",
       "      <td>1.0</td>\n",
       "      <td>0.0</td>\n",
       "      <td>0.0</td>\n",
       "      <td>0.0</td>\n",
       "      <td>0.0</td>\n",
       "      <td>0.0</td>\n",
       "      <td>0.0</td>\n",
       "      <td>0.0</td>\n",
       "      <td>0.0</td>\n",
       "      <td>0.0</td>\n",
       "      <td>...</td>\n",
       "      <td>0.0</td>\n",
       "      <td>0.0</td>\n",
       "      <td>0.0</td>\n",
       "      <td>0.0</td>\n",
       "      <td>0.0</td>\n",
       "      <td>0.0</td>\n",
       "      <td>0.0</td>\n",
       "      <td>0.0</td>\n",
       "      <td>0.0</td>\n",
       "      <td>0.0</td>\n",
       "    </tr>\n",
       "    <tr>\n",
       "      <th>3</th>\n",
       "      <td>1.0</td>\n",
       "      <td>0.0</td>\n",
       "      <td>0.0</td>\n",
       "      <td>0.0</td>\n",
       "      <td>0.0</td>\n",
       "      <td>0.0</td>\n",
       "      <td>0.0</td>\n",
       "      <td>0.0</td>\n",
       "      <td>0.0</td>\n",
       "      <td>0.0</td>\n",
       "      <td>...</td>\n",
       "      <td>0.0</td>\n",
       "      <td>0.0</td>\n",
       "      <td>0.0</td>\n",
       "      <td>0.0</td>\n",
       "      <td>0.0</td>\n",
       "      <td>0.0</td>\n",
       "      <td>0.0</td>\n",
       "      <td>0.0</td>\n",
       "      <td>0.0</td>\n",
       "      <td>0.0</td>\n",
       "    </tr>\n",
       "    <tr>\n",
       "      <th>4</th>\n",
       "      <td>1.0</td>\n",
       "      <td>0.0</td>\n",
       "      <td>0.0</td>\n",
       "      <td>0.0</td>\n",
       "      <td>0.0</td>\n",
       "      <td>0.0</td>\n",
       "      <td>0.0</td>\n",
       "      <td>0.0</td>\n",
       "      <td>0.0</td>\n",
       "      <td>0.0</td>\n",
       "      <td>...</td>\n",
       "      <td>0.0</td>\n",
       "      <td>0.0</td>\n",
       "      <td>0.0</td>\n",
       "      <td>0.0</td>\n",
       "      <td>0.0</td>\n",
       "      <td>0.0</td>\n",
       "      <td>0.0</td>\n",
       "      <td>0.0</td>\n",
       "      <td>0.0</td>\n",
       "      <td>0.0</td>\n",
       "    </tr>\n",
       "  </tbody>\n",
       "</table>\n",
       "<p>5 rows × 58 columns</p>\n",
       "</div>"
      ],
      "text/plain": [
       "   ILNAsv  AcSuppSv  PSEdSuppSv  CareerSv  EmplyTrSv  BudgetSv  HousEdSv  \\\n",
       "0     0.0       0.0         0.0       0.0        0.0       0.0       1.0   \n",
       "1     1.0       0.0         0.0       0.0        0.0       0.0       0.0   \n",
       "2     1.0       0.0         0.0       0.0        0.0       0.0       0.0   \n",
       "3     1.0       0.0         0.0       0.0        0.0       0.0       0.0   \n",
       "4     1.0       0.0         0.0       0.0        0.0       0.0       0.0   \n",
       "\n",
       "   HlthEdSv  FamSuppSv  MentorSv  ...    St_RI  St_SC  St_SD  St_UT  St_VA  \\\n",
       "0       0.0        0.0       0.0  ...      0.0    0.0    0.0    0.0    0.0   \n",
       "1       0.0        0.0       0.0  ...      0.0    0.0    0.0    0.0    0.0   \n",
       "2       0.0        0.0       0.0  ...      0.0    0.0    0.0    0.0    0.0   \n",
       "3       0.0        0.0       0.0  ...      0.0    0.0    0.0    0.0    0.0   \n",
       "4       0.0        0.0       0.0  ...      0.0    0.0    0.0    0.0    0.0   \n",
       "\n",
       "   St_VT  St_WA  St_WI  St_WV  St_WY  \n",
       "0    0.0    0.0    0.0    0.0    0.0  \n",
       "1    0.0    0.0    0.0    0.0    0.0  \n",
       "2    0.0    0.0    0.0    0.0    0.0  \n",
       "3    0.0    0.0    0.0    0.0    0.0  \n",
       "4    0.0    0.0    0.0    0.0    0.0  \n",
       "\n",
       "[5 rows x 58 columns]"
      ]
     },
     "execution_count": 5,
     "metadata": {},
     "output_type": "execute_result"
    }
   ],
   "source": [
    "X.head()"
   ]
  },
  {
   "cell_type": "code",
   "execution_count": 6,
   "metadata": {
    "collapsed": false
   },
   "outputs": [
    {
     "data": {
      "text/plain": [
       "Index([u'ILNAsv', u'AcSuppSv', u'PSEdSuppSv', u'CareerSv', u'EmplyTrSv',\n",
       "       u'BudgetSv', u'HousEdSv', u'HlthEdSv', u'FamSuppSv', u'MentorSv',\n",
       "       u'SILsv', u'RmBrdFASv', u'EducFinaSv', u'OthrFinaSv', u'DelinqntSv',\n",
       "       u'St_AK', u'St_AL', u'St_AR', u'St_AZ', u'St_CA', u'St_CO', u'St_DC',\n",
       "       u'St_DE', u'St_FL', u'St_GA', u'St_IA', u'St_ID', u'St_IL', u'St_KS',\n",
       "       u'St_LA', u'St_MA', u'St_MD', u'St_ME', u'St_MI', u'St_MN', u'St_MO',\n",
       "       u'St_MT', u'St_NC', u'St_ND', u'St_NE', u'St_NH', u'St_NJ', u'St_NM',\n",
       "       u'St_NV', u'St_NY', u'St_OH', u'St_OK', u'St_RI', u'St_SC', u'St_SD',\n",
       "       u'St_UT', u'St_VA', u'St_VT', u'St_WA', u'St_WI', u'St_WV', u'St_WY'],\n",
       "      dtype='object')"
      ]
     },
     "execution_count": 6,
     "metadata": {},
     "output_type": "execute_result"
    }
   ],
   "source": [
    "X = X.drop('Num_services', axis = 1)\n",
    "X.columns"
   ]
  },
  {
   "cell_type": "code",
   "execution_count": 7,
   "metadata": {
    "collapsed": false
   },
   "outputs": [
    {
     "data": {
      "text/plain": [
       "array([7, 5, 5, ..., 3, 3, 7])"
      ]
     },
     "execution_count": 7,
     "metadata": {},
     "output_type": "execute_result"
    }
   ],
   "source": [
    "y"
   ]
  },
  {
   "cell_type": "code",
   "execution_count": 8,
   "metadata": {
    "collapsed": false
   },
   "outputs": [
    {
     "data": {
      "text/plain": [
       "DecisionTreeClassifier(class_weight=None, criterion='gini', max_depth=3,\n",
       "            max_features=None, max_leaf_nodes=None, min_samples_leaf=1,\n",
       "            min_samples_split=2, min_weight_fraction_leaf=0.0,\n",
       "            presort=False, random_state=None, splitter='best')"
      ]
     },
     "execution_count": 8,
     "metadata": {},
     "output_type": "execute_result"
    }
   ],
   "source": [
    "from sklearn.cross_validation import cross_val_score, StratifiedKFold\n",
    "from sklearn.tree import DecisionTreeClassifier\n",
    "\n",
    "dt = DecisionTreeClassifier(max_depth = 3, min_samples_split = 2)\n",
    "\n",
    "dt.fit(X, y)"
   ]
  },
  {
   "cell_type": "code",
   "execution_count": 9,
   "metadata": {
    "collapsed": false
   },
   "outputs": [
    {
     "data": {
      "text/plain": [
       "3    2813\n",
       "5    2508\n",
       "7    1705\n",
       "0     110\n",
       "4      95\n",
       "8      62\n",
       "9      19\n",
       "6       7\n",
       "1       7\n",
       "2       2\n",
       "dtype: int64"
      ]
     },
     "execution_count": 9,
     "metadata": {},
     "output_type": "execute_result"
    }
   ],
   "source": [
    "pd.Series(y).value_counts()\n"
   ]
  },
  {
   "cell_type": "code",
   "execution_count": 10,
   "metadata": {
    "collapsed": false
   },
   "outputs": [
    {
     "data": {
      "text/plain": [
       "<matplotlib.text.Text at 0x11be3d310>"
      ]
     },
     "execution_count": 10,
     "metadata": {},
     "output_type": "execute_result"
    },
    {
     "data": {
      "image/png": "[encoded data removed]",
      "text/plain": [
       "<matplotlib.figure.Figure at 0x118f96a50>"
      ]
     },
     "metadata": {},
     "output_type": "display_data"
    }
   ],
   "source": [
    "C0 = np.linspace(0,1)\n",
    "C1 = 1.0 - C0\n",
    "\n",
    "gini = 1 - C0**2 - C1**2\n",
    "\n",
    "plt.plot(C0, gini)\n",
    "plt.title('Gini index for a Binary Classification')\n",
    "plt.xlabel('Fraction of samples in class 0')\n",
    "plt.ylabel('Gini index')"
   ]
  },
  {
   "cell_type": "code",
   "execution_count": 11,
   "metadata": {
    "collapsed": false
   },
   "outputs": [
    {
     "data": {
      "text/plain": [
       "0.45840000000000003"
      ]
     },
     "execution_count": 11,
     "metadata": {},
     "output_type": "execute_result"
    }
   ],
   "source": [
    "root_node_values = [0.22, 0.04, 0.7, 0.04]\n",
    "\n",
    "def gini(values):\n",
    "    tot = 0.0\n",
    "    for val in values:\n",
    "        tot += val ** 2\n",
    "    \n",
    "    return 1.0 - tot\n",
    "\n",
    "gini(root_node_values)"
   ]
  },
  {
   "cell_type": "code",
   "execution_count": 12,
   "metadata": {
    "collapsed": false
   },
   "outputs": [
    {
     "data": {
      "text/html": [
       "<div>\n",
       "<table border=\"1\" class=\"dataframe\">\n",
       "  <thead>\n",
       "    <tr style=\"text-align: right;\">\n",
       "      <th></th>\n",
       "      <th>importance</th>\n",
       "    </tr>\n",
       "  </thead>\n",
       "  <tbody>\n",
       "    <tr>\n",
       "      <th>St_IA</th>\n",
       "      <td>0.376174</td>\n",
       "    </tr>\n",
       "    <tr>\n",
       "      <th>St_LA</th>\n",
       "      <td>0.315785</td>\n",
       "    </tr>\n",
       "    <tr>\n",
       "      <th>St_CO</th>\n",
       "      <td>0.268576</td>\n",
       "    </tr>\n",
       "    <tr>\n",
       "      <th>DelinqntSv</th>\n",
       "      <td>0.025892</td>\n",
       "    </tr>\n",
       "    <tr>\n",
       "      <th>AcSuppSv</th>\n",
       "      <td>0.006806</td>\n",
       "    </tr>\n",
       "  </tbody>\n",
       "</table>\n",
       "</div>"
      ],
      "text/plain": [
       "            importance\n",
       "St_IA         0.376174\n",
       "St_LA         0.315785\n",
       "St_CO         0.268576\n",
       "DelinqntSv    0.025892\n",
       "AcSuppSv      0.006806"
      ]
     },
     "execution_count": 12,
     "metadata": {},
     "output_type": "execute_result"
    }
   ],
   "source": [
    "feature_importances = pd.DataFrame(dt.feature_importances_,\n",
    "                                   index = X.columns,\n",
    "                                    columns=['importance']).sort_values('importance',\n",
    "                                                                        ascending=False)\n",
    "feature_importances.head()"
   ]
  },
  {
   "cell_type": "code",
   "execution_count": 20,
   "metadata": {
    "collapsed": false
   },
   "outputs": [
    {
     "data": {
      "text/plain": [
       "RandomForestClassifier(bootstrap=True, class_weight='balanced',\n",
       "            criterion='gini', max_depth=None, max_features='auto',\n",
       "            max_leaf_nodes=None, min_samples_leaf=1, min_samples_split=2,\n",
       "            min_weight_fraction_leaf=0.0, n_estimators=10, n_jobs=-1,\n",
       "            oob_score=False, random_state=None, verbose=0,\n",
       "            warm_start=False)"
      ]
     },
     "execution_count": 20,
     "metadata": {},
     "output_type": "execute_result"
    }
   ],
   "source": [
    "from sklearn.ensemble import RandomForestClassifier, ExtraTreesClassifier\n",
    "\n",
    "rf = RandomForestClassifier(class_weight='balanced', n_jobs=-1)\n",
    "et = ExtraTreesClassifier(class_weight='balanced', n_jobs=-1)\n",
    "\n",
    "rf.fit(X, y)"
   ]
  },
  {
   "cell_type": "code",
   "execution_count": 21,
   "metadata": {
    "collapsed": false
   },
   "outputs": [
    {
     "data": {
      "text/plain": [
       "(-1, 57)"
      ]
     },
     "execution_count": 21,
     "metadata": {},
     "output_type": "execute_result"
    },
    {
     "data": {
      "image/png": "[encoded data removed]",
      "text/plain": [
       "<matplotlib.figure.Figure at 0x11983fc50>"
      ]
     },
     "metadata": {},
     "output_type": "display_data"
    }
   ],
   "source": [
    "all(rf.feature_importances_ == np.mean([dt.feature_importances_ for tree in rf.estimators_], axis=0))\n",
    "\n",
    "importances = rf.feature_importances_\n",
    "# calculate the standard deviation of feature importances by looping over the trees in the random forest\n",
    "# \n",
    "std = np.std([dt.feature_importances_ for tree in rf.estimators_],\n",
    "             axis=0)\n",
    "\n",
    "indices = np.argsort(importances)[::-1]\n",
    "feature_names = X.columns\n",
    "\n",
    "# Plot the feature importances of the forest\n",
    "plt.figure(figsize=(10,10))\n",
    "plt.title(\"Feature importances\")\n",
    "plt.bar(range(X.shape[1]), importances[indices],\n",
    "       color=\"r\", yerr=std[indices], align=\"center\")\n",
    "plt.xticks(range(X.shape[1]), feature_names[indices], rotation=90)\n",
    "plt.xlim([-1, X.shape[1]])"
   ]
  },
  {
   "cell_type": "code",
   "execution_count": 22,
   "metadata": {
    "collapsed": false
   },
   "outputs": [
    {
     "data": {
      "text/html": [
       "<div>\n",
       "<table border=\"1\" class=\"dataframe\">\n",
       "  <thead>\n",
       "    <tr style=\"text-align: right;\">\n",
       "      <th></th>\n",
       "      <th>dt_importance</th>\n",
       "      <th>rf_importance</th>\n",
       "      <th>et_importance</th>\n",
       "    </tr>\n",
       "  </thead>\n",
       "  <tbody>\n",
       "    <tr>\n",
       "      <th>AcSuppSv</th>\n",
       "      <td>0.070612</td>\n",
       "      <td>0.076517</td>\n",
       "      <td>0.058696</td>\n",
       "    </tr>\n",
       "    <tr>\n",
       "      <th>ILNAsv</th>\n",
       "      <td>0.065589</td>\n",
       "      <td>0.076359</td>\n",
       "      <td>0.082724</td>\n",
       "    </tr>\n",
       "    <tr>\n",
       "      <th>St_CA</th>\n",
       "      <td>0.017278</td>\n",
       "      <td>0.060313</td>\n",
       "      <td>0.050632</td>\n",
       "    </tr>\n",
       "    <tr>\n",
       "      <th>St_CO</th>\n",
       "      <td>0.019885</td>\n",
       "      <td>0.053098</td>\n",
       "      <td>0.065680</td>\n",
       "    </tr>\n",
       "    <tr>\n",
       "      <th>OthrFinaSv</th>\n",
       "      <td>0.041505</td>\n",
       "      <td>0.049209</td>\n",
       "      <td>0.036393</td>\n",
       "    </tr>\n",
       "    <tr>\n",
       "      <th>CareerSv</th>\n",
       "      <td>0.068976</td>\n",
       "      <td>0.048190</td>\n",
       "      <td>0.045371</td>\n",
       "    </tr>\n",
       "    <tr>\n",
       "      <th>DelinqntSv</th>\n",
       "      <td>0.024354</td>\n",
       "      <td>0.046426</td>\n",
       "      <td>0.045078</td>\n",
       "    </tr>\n",
       "    <tr>\n",
       "      <th>FamSuppSv</th>\n",
       "      <td>0.063810</td>\n",
       "      <td>0.045035</td>\n",
       "      <td>0.041815</td>\n",
       "    </tr>\n",
       "    <tr>\n",
       "      <th>HlthEdSv</th>\n",
       "      <td>0.074666</td>\n",
       "      <td>0.044422</td>\n",
       "      <td>0.044335</td>\n",
       "    </tr>\n",
       "    <tr>\n",
       "      <th>EmplyTrSv</th>\n",
       "      <td>0.063481</td>\n",
       "      <td>0.038407</td>\n",
       "      <td>0.041491</td>\n",
       "    </tr>\n",
       "  </tbody>\n",
       "</table>\n",
       "</div>"
      ],
      "text/plain": [
       "            dt_importance  rf_importance  et_importance\n",
       "AcSuppSv         0.070612       0.076517       0.058696\n",
       "ILNAsv           0.065589       0.076359       0.082724\n",
       "St_CA            0.017278       0.060313       0.050632\n",
       "St_CO            0.019885       0.053098       0.065680\n",
       "OthrFinaSv       0.041505       0.049209       0.036393\n",
       "CareerSv         0.068976       0.048190       0.045371\n",
       "DelinqntSv       0.024354       0.046426       0.045078\n",
       "FamSuppSv        0.063810       0.045035       0.041815\n",
       "HlthEdSv         0.074666       0.044422       0.044335\n",
       "EmplyTrSv        0.063481       0.038407       0.041491"
      ]
     },
     "execution_count": 22,
     "metadata": {},
     "output_type": "execute_result"
    },
    {
     "data": {
      "image/png": "[encoded data removed]",
      "text/plain": [
       "<matplotlib.figure.Figure at 0x11dc45050>"
      ]
     },
     "metadata": {},
     "output_type": "display_data"
    }
   ],
   "source": [
    "dt = DecisionTreeClassifier()\n",
    "dt.fit(X, y)\n",
    "\n",
    "et.fit(X, y)\n",
    "\n",
    "importances = pd.DataFrame(zip(dt.feature_importances_,\n",
    "                               rf.feature_importances_,\n",
    "                               et.feature_importances_),\n",
    "                           index=X.columns,\n",
    "                           columns=['dt_importance',\n",
    "                                    'rf_importance',\n",
    "                                    'et_importance']).sort_values('rf_importance',\n",
    "                                                                   ascending=False)\n",
    "\n",
    "                           \n",
    "importances.plot(kind='bar', figsize=(14,14))\n",
    "importances.head(10)"
   ]
  },
  {
   "cell_type": "code",
   "execution_count": 24,
   "metadata": {
    "collapsed": false
   },
   "outputs": [
    {
     "data": {
      "text/html": [
       "<div>\n",
       "<table border=\"1\" class=\"dataframe\">\n",
       "  <thead>\n",
       "    <tr style=\"text-align: right;\">\n",
       "      <th></th>\n",
       "      <th>St_CO</th>\n",
       "      <th>AcSuppSv</th>\n",
       "      <th>ILNAsv</th>\n",
       "      <th>OthrFinaSv</th>\n",
       "      <th>St_CA</th>\n",
       "    </tr>\n",
       "  </thead>\n",
       "  <tbody>\n",
       "    <tr>\n",
       "      <th>0</th>\n",
       "      <td>0.0</td>\n",
       "      <td>0.0</td>\n",
       "      <td>0.0</td>\n",
       "      <td>1.0</td>\n",
       "      <td>0.0</td>\n",
       "    </tr>\n",
       "    <tr>\n",
       "      <th>1</th>\n",
       "      <td>0.0</td>\n",
       "      <td>0.0</td>\n",
       "      <td>1.0</td>\n",
       "      <td>0.0</td>\n",
       "      <td>0.0</td>\n",
       "    </tr>\n",
       "    <tr>\n",
       "      <th>2</th>\n",
       "      <td>0.0</td>\n",
       "      <td>0.0</td>\n",
       "      <td>1.0</td>\n",
       "      <td>1.0</td>\n",
       "      <td>0.0</td>\n",
       "    </tr>\n",
       "    <tr>\n",
       "      <th>3</th>\n",
       "      <td>0.0</td>\n",
       "      <td>0.0</td>\n",
       "      <td>1.0</td>\n",
       "      <td>0.0</td>\n",
       "      <td>0.0</td>\n",
       "    </tr>\n",
       "    <tr>\n",
       "      <th>4</th>\n",
       "      <td>0.0</td>\n",
       "      <td>0.0</td>\n",
       "      <td>1.0</td>\n",
       "      <td>1.0</td>\n",
       "      <td>0.0</td>\n",
       "    </tr>\n",
       "  </tbody>\n",
       "</table>\n",
       "</div>"
      ],
      "text/plain": [
       "   St_CO  AcSuppSv  ILNAsv  OthrFinaSv  St_CA\n",
       "0    0.0       0.0     0.0         1.0    0.0\n",
       "1    0.0       0.0     1.0         0.0    0.0\n",
       "2    0.0       0.0     1.0         1.0    0.0\n",
       "3    0.0       0.0     1.0         0.0    0.0\n",
       "4    0.0       0.0     1.0         1.0    0.0"
      ]
     },
     "execution_count": 24,
     "metadata": {},
     "output_type": "execute_result"
    }
   ],
   "source": [
    "X = X[['St_CO', 'AcSuppSv', 'ILNAsv', 'OthrFinaSv', 'St_CA']]\n",
    "X.head()"
   ]
  },
  {
   "cell_type": "code",
   "execution_count": null,
   "metadata": {
    "collapsed": true
   },
   "outputs": [],
   "source": []
  },
  {
   "cell_type": "code",
   "execution_count": null,
   "metadata": {
    "collapsed": true
   },
   "outputs": [],
   "source": []
  },
  {
   "cell_type": "code",
   "execution_count": null,
   "metadata": {
    "collapsed": true
   },
   "outputs": [],
   "source": []
  },
  {
   "cell_type": "code",
   "execution_count": null,
   "metadata": {
    "collapsed": true
   },
   "outputs": [],
   "source": []
  },
  {
   "cell_type": "code",
   "execution_count": null,
   "metadata": {
    "collapsed": true
   },
   "outputs": [],
   "source": []
  },
  {
   "cell_type": "code",
   "execution_count": null,
   "metadata": {
    "collapsed": true
   },
   "outputs": [],
   "source": []
  },
  {
   "cell_type": "code",
   "execution_count": null,
   "metadata": {
    "collapsed": true
   },
   "outputs": [],
   "source": []
  },
  {
   "cell_type": "code",
   "execution_count": null,
   "metadata": {
    "collapsed": true
   },
   "outputs": [],
   "source": [
    "# random forest classifier"
   ]
  },
  {
   "cell_type": "code",
   "execution_count": null,
   "metadata": {
    "collapsed": true
   },
   "outputs": [],
   "source": []
  },
  {
   "cell_type": "code",
   "execution_count": 25,
   "metadata": {
    "collapsed": false
   },
   "outputs": [
    {
     "name": "stdout",
     "output_type": "stream",
     "text": [
      "<class 'pandas.core.frame.DataFrame'>\n",
      "RangeIndex: 7328 entries, 0 to 7327\n",
      "Data columns (total 5 columns):\n",
      "St_CO         7328 non-null float64\n",
      "AcSuppSv      7328 non-null float64\n",
      "ILNAsv        7328 non-null float64\n",
      "OthrFinaSv    7328 non-null float64\n",
      "St_CA         7328 non-null float64\n",
      "dtypes: float64(5)\n",
      "memory usage: 286.3 KB\n"
     ]
    }
   ],
   "source": [
    "X.info()"
   ]
  },
  {
   "cell_type": "markdown",
   "metadata": {},
   "source": [
    "# 2. Useful preparation\n",
    "\n",
    "Since we will compare several models, let's write a couple of helper functions.\n",
    "\n",
    "- Separate X and y between a train and test set, using 30% test set, random state = 42\n",
    "\n",
    "- make sure that the data is shuffled and stratified\n",
    "\n",
    "- Define a function called evaluate_model, that trains the model on the train set, tests it on the test, calculates:\n",
    "    \n",
    "    - accuracy score\n",
    "    \n",
    "    - confusion matrix\n",
    "    \n",
    "    - classification report\n",
    "    \n",
    "- Initialize a global dictionary to store the various models for later retrieval"
   ]
  },
  {
   "cell_type": "code",
   "execution_count": 26,
   "metadata": {
    "collapsed": true
   },
   "outputs": [],
   "source": [
    "from sklearn.cross_validation import train_test_split, KFold\n",
    "from sklearn.metrics import accuracy_score, precision_score, recall_score, confusion_matrix, classification_report\n",
    "\n",
    "X_train, X_test, y_train, y_test = train_test_split(X, y, test_size=0.3, random_state=42, stratify=y)\n",
    "\n",
    "def evaluate_model(model):\n",
    "    model.fit(X_train, y_train)\n",
    "    y_pred = model.predict(X_test)\n",
    "    \n",
    "    a = accuracy_score(y_test, y_pred)\n",
    "    \n",
    "    cm = confusion_matrix(y_test, y_pred)\n",
    "    cr = classification_report(y_test, y_pred)\n",
    "    \n",
    "    print cm\n",
    "    print cr\n",
    "    \n",
    "    return a\n",
    "\n",
    "all_models = {}"
   ]
  },
  {
   "cell_type": "markdown",
   "metadata": {},
   "source": [
    "# 3.a KNN\n",
    "\n",
    "Let's start with KNeighborsClassifier.\n",
    "\n",
    "- Initialize a KNN model\n",
    "- Evaluate it's performance with the function you previously defined\n",
    "- Find the optimal value of K using grid search\n",
    "- Be careful on how you perform the cross validation in the grid search"
   ]
  },
  {
   "cell_type": "code",
   "execution_count": 27,
   "metadata": {
    "collapsed": false
   },
   "outputs": [
    {
     "name": "stdout",
     "output_type": "stream",
     "text": [
      "[[  6   0   0  23   0   3   0   1   0   0]\n",
      " [  0   0   0   1   0   1   0   0   0   0]\n",
      " [  0   0   0   1   0   0   0   0   0   0]\n",
      " [  3   0   0 457   0 311   0  73   0   0]\n",
      " [  0   0   0  14   0  10   0   5   0   0]\n",
      " [  0   0   0 384   0 287   0  82   0   0]\n",
      " [  0   0   0   1   0   1   0   0   0   0]\n",
      " [  4   0   0 285   0 186   0  37   0   0]\n",
      " [  0   0   0   9   0   7   0   3   0   0]\n",
      " [  0   0   0   4   0   2   0   0   0   0]]\n",
      "             precision    recall  f1-score   support\n",
      "\n",
      "          0       0.46      0.18      0.26        33\n",
      "          1       0.00      0.00      0.00         2\n",
      "          2       0.00      0.00      0.00         1\n",
      "          3       0.39      0.54      0.45       844\n",
      "          4       0.00      0.00      0.00        29\n",
      "          5       0.36      0.38      0.37       753\n",
      "          6       0.00      0.00      0.00         2\n",
      "          7       0.18      0.07      0.10       512\n",
      "          8       0.00      0.00      0.00        19\n",
      "          9       0.00      0.00      0.00         6\n",
      "\n",
      "avg / total       0.32      0.36      0.33      2201\n",
      "\n"
     ]
    },
    {
     "name": "stderr",
     "output_type": "stream",
     "text": [
      "/Users/cguy/anaconda/lib/python2.7/site-packages/sklearn/metrics/classification.py:1074: UndefinedMetricWarning: Precision and F-score are ill-defined and being set to 0.0 in labels with no predicted samples.\n",
      "  'precision', 'predicted', average, warn_for)\n"
     ]
    }
   ],
   "source": [
    "from sklearn.neighbors import KNeighborsClassifier\n",
    "\n",
    "a = evaluate_model(KNeighborsClassifier())"
   ]
  },
  {
   "cell_type": "code",
   "execution_count": 28,
   "metadata": {
    "collapsed": true
   },
   "outputs": [],
   "source": [
    "from sklearn.grid_search import GridSearchCV\n",
    "\n",
    "params = {'n_neighbors': range(2,60)}\n",
    "\n",
    "gsknn = GridSearchCV(KNeighborsClassifier(),\n",
    "                     params, n_jobs=-1,\n",
    "                     cv=KFold(len(y), n_folds=3, shuffle=True))"
   ]
  },
  {
   "cell_type": "code",
   "execution_count": 29,
   "metadata": {
    "collapsed": false
   },
   "outputs": [
    {
     "data": {
      "text/plain": [
       "GridSearchCV(cv=sklearn.cross_validation.KFold(n=7328, n_folds=3, shuffle=True, random_state=None),\n",
       "       error_score='raise',\n",
       "       estimator=KNeighborsClassifier(algorithm='auto', leaf_size=30, metric='minkowski',\n",
       "           metric_params=None, n_jobs=1, n_neighbors=5, p=2,\n",
       "           weights='uniform'),\n",
       "       fit_params={}, iid=True, n_jobs=-1,\n",
       "       param_grid={'n_neighbors': [2, 3, 4, 5, 6, 7, 8, 9, 10, 11, 12, 13, 14, 15, 16, 17, 18, 19, 20, 21, 22, 23, 24, 25, 26, 27, 28, 29, 30, 31, 32, 33, 34, 35, 36, 37, 38, 39, 40, 41, 42, 43, 44, 45, 46, 47, 48, 49, 50, 51, 52, 53, 54, 55, 56, 57, 58, 59]},\n",
       "       pre_dispatch='2*n_jobs', refit=True, scoring=None, verbose=0)"
      ]
     },
     "execution_count": 29,
     "metadata": {},
     "output_type": "execute_result"
    }
   ],
   "source": [
    "gsknn.fit(X, y)\n"
   ]
  },
  {
   "cell_type": "code",
   "execution_count": 30,
   "metadata": {
    "collapsed": false
   },
   "outputs": [
    {
     "data": {
      "text/plain": [
       "{'n_neighbors': 35}"
      ]
     },
     "execution_count": 30,
     "metadata": {},
     "output_type": "execute_result"
    }
   ],
   "source": [
    "gsknn.best_params_\n"
   ]
  },
  {
   "cell_type": "code",
   "execution_count": 31,
   "metadata": {
    "collapsed": false
   },
   "outputs": [
    {
     "data": {
      "text/plain": [
       "0.419896288209607"
      ]
     },
     "execution_count": 31,
     "metadata": {},
     "output_type": "execute_result"
    }
   ],
   "source": [
    "gsknn.best_score_"
   ]
  },
  {
   "cell_type": "code",
   "execution_count": 32,
   "metadata": {
    "collapsed": false
   },
   "outputs": [
    {
     "name": "stdout",
     "output_type": "stream",
     "text": [
      "[[  0   0   0  30   0   3   0   0   0   0]\n",
      " [  0   0   0   1   0   1   0   0   0   0]\n",
      " [  0   0   0   0   0   1   0   0   0   0]\n",
      " [  0   0   0 583   0 261   0   0   0   0]\n",
      " [  0   0   0  17   0  12   0   0   0   0]\n",
      " [  0   0   0 415   0 338   0   0   0   0]\n",
      " [  0   0   0   2   0   0   0   0   0   0]\n",
      " [  0   0   0 325   0 187   0   0   0   0]\n",
      " [  0   0   0  11   0   8   0   0   0   0]\n",
      " [  0   0   0   6   0   0   0   0   0   0]]\n",
      "             precision    recall  f1-score   support\n",
      "\n",
      "          0       0.00      0.00      0.00        33\n",
      "          1       0.00      0.00      0.00         2\n",
      "          2       0.00      0.00      0.00         1\n",
      "          3       0.42      0.69      0.52       844\n",
      "          4       0.00      0.00      0.00        29\n",
      "          5       0.42      0.45      0.43       753\n",
      "          6       0.00      0.00      0.00         2\n",
      "          7       0.00      0.00      0.00       512\n",
      "          8       0.00      0.00      0.00        19\n",
      "          9       0.00      0.00      0.00         6\n",
      "\n",
      "avg / total       0.30      0.42      0.35      2201\n",
      "\n"
     ]
    },
    {
     "data": {
      "text/plain": [
       "0.41844616083598363"
      ]
     },
     "execution_count": 32,
     "metadata": {},
     "output_type": "execute_result"
    }
   ],
   "source": [
    "evaluate_model(gsknn.best_estimator_)\n"
   ]
  },
  {
   "cell_type": "code",
   "execution_count": 33,
   "metadata": {
    "collapsed": true
   },
   "outputs": [],
   "source": [
    "all_models['knn'] = {'model': gsknn.best_estimator_,\n",
    "                     'score': a}"
   ]
  },
  {
   "cell_type": "markdown",
   "metadata": {},
   "source": [
    "# 3.b Bagging + KNN\n",
    "\n",
    "Now that we have found the optimal K, let's wrap KNeighborsClassifier in a BaggingClassifier and see if the score improves.\n",
    "\n",
    "- Wrap the KNN model in a Bagging Classifier\n",
    "- Evaluate performance\n",
    "- Do a grid search only on the bagging classifier params"
   ]
  },
  {
   "cell_type": "code",
   "execution_count": 34,
   "metadata": {
    "collapsed": true
   },
   "outputs": [],
   "source": [
    "from sklearn.ensemble import BaggingClassifier\n",
    "baggingknn = BaggingClassifier(KNeighborsClassifier())"
   ]
  },
  {
   "cell_type": "code",
   "execution_count": 35,
   "metadata": {
    "collapsed": false
   },
   "outputs": [
    {
     "name": "stdout",
     "output_type": "stream",
     "text": [
      "[[  6   0   0  25   0   1   0   1   0   0]\n",
      " [  0   0   0   1   0   1   0   0   0   0]\n",
      " [  0   0   0   0   0   1   0   0   0   0]\n",
      " [  3   0   0 677   0 144   0  20   0   0]\n",
      " [  0   0   0  13   0  16   0   0   0   0]\n",
      " [  0   0   0 480   0 256   0  17   0   0]\n",
      " [  0   0   0   1   0   1   0   0   0   0]\n",
      " [  4   0   0 380   0 117   0  11   0   0]\n",
      " [  0   0   0  13   0   6   0   0   0   0]\n",
      " [  0   0   0   5   0   0   0   1   0   0]]\n",
      "             precision    recall  f1-score   support\n",
      "\n",
      "          0       0.46      0.18      0.26        33\n",
      "          1       0.00      0.00      0.00         2\n",
      "          2       0.00      0.00      0.00         1\n",
      "          3       0.42      0.80      0.56       844\n",
      "          4       0.00      0.00      0.00        29\n",
      "          5       0.47      0.34      0.40       753\n",
      "          6       0.00      0.00      0.00         2\n",
      "          7       0.22      0.02      0.04       512\n",
      "          8       0.00      0.00      0.00        19\n",
      "          9       0.00      0.00      0.00         6\n",
      "\n",
      "avg / total       0.38      0.43      0.36      2201\n",
      "\n"
     ]
    },
    {
     "data": {
      "text/plain": [
       "0.43162199000454338"
      ]
     },
     "execution_count": 35,
     "metadata": {},
     "output_type": "execute_result"
    }
   ],
   "source": [
    "evaluate_model(baggingknn)\n"
   ]
  },
  {
   "cell_type": "code",
   "execution_count": 36,
   "metadata": {
    "collapsed": true
   },
   "outputs": [],
   "source": [
    "bagging_params = {'n_estimators': [10, 20],\n",
    "                  'max_samples': [0.7, 1.0],\n",
    "                  'max_features': [0.7, 1.0],\n",
    "                  'bootstrap_features': [True, False]}\n",
    "\n",
    "\n",
    "gsbaggingknn = GridSearchCV(baggingknn,\n",
    "                            bagging_params, n_jobs=-1,\n",
    "                            cv=KFold(len(y), n_folds=3, shuffle=True))"
   ]
  },
  {
   "cell_type": "code",
   "execution_count": 37,
   "metadata": {
    "collapsed": false
   },
   "outputs": [
    {
     "data": {
      "text/plain": [
       "GridSearchCV(cv=sklearn.cross_validation.KFold(n=7328, n_folds=3, shuffle=True, random_state=None),\n",
       "       error_score='raise',\n",
       "       estimator=BaggingClassifier(base_estimator=KNeighborsClassifier(algorithm='auto', leaf_size=30, metric='minkowski',\n",
       "           metric_params=None, n_jobs=1, n_neighbors=5, p=2,\n",
       "           weights='uniform'),\n",
       "         bootstrap=True, bootstrap_features=False, max_features=1.0,\n",
       "         max_samples=1.0, n_estimators=10, n_jobs=1, oob_score=False,\n",
       "         random_state=None, verbose=0, warm_start=False),\n",
       "       fit_params={}, iid=True, n_jobs=-1,\n",
       "       param_grid={'n_estimators': [10, 20], 'max_samples': [0.7, 1.0], 'bootstrap_features': [True, False], 'max_features': [0.7, 1.0]},\n",
       "       pre_dispatch='2*n_jobs', refit=True, scoring=None, verbose=0)"
      ]
     },
     "execution_count": 37,
     "metadata": {},
     "output_type": "execute_result"
    }
   ],
   "source": [
    "gsbaggingknn.fit(X, y)\n"
   ]
  },
  {
   "cell_type": "code",
   "execution_count": 38,
   "metadata": {
    "collapsed": false
   },
   "outputs": [
    {
     "data": {
      "text/plain": [
       "{'bootstrap_features': True,\n",
       " 'max_features': 1.0,\n",
       " 'max_samples': 0.7,\n",
       " 'n_estimators': 20}"
      ]
     },
     "execution_count": 38,
     "metadata": {},
     "output_type": "execute_result"
    }
   ],
   "source": [
    "gsbaggingknn.best_params_"
   ]
  },
  {
   "cell_type": "code",
   "execution_count": 39,
   "metadata": {
    "collapsed": false
   },
   "outputs": [
    {
     "name": "stdout",
     "output_type": "stream",
     "text": [
      "[[  0   0   0  33   0   0   0   0   0   0]\n",
      " [  0   0   0   1   0   1   0   0   0   0]\n",
      " [  0   0   0   0   0   1   0   0   0   0]\n",
      " [  0   0   0 732   0 112   0   0   0   0]\n",
      " [  0   0   0  19   0  10   0   0   0   0]\n",
      " [  0   0   0 546   0 207   0   0   0   0]\n",
      " [  0   0   0   2   0   0   0   0   0   0]\n",
      " [  0   0   0 423   0  89   0   0   0   0]\n",
      " [  0   0   0  15   0   4   0   0   0   0]\n",
      " [  0   0   0   6   0   0   0   0   0   0]]\n",
      "             precision    recall  f1-score   support\n",
      "\n",
      "          0       0.00      0.00      0.00        33\n",
      "          1       0.00      0.00      0.00         2\n",
      "          2       0.00      0.00      0.00         1\n",
      "          3       0.41      0.87      0.56       844\n",
      "          4       0.00      0.00      0.00        29\n",
      "          5       0.49      0.27      0.35       753\n",
      "          6       0.00      0.00      0.00         2\n",
      "          7       0.00      0.00      0.00       512\n",
      "          8       0.00      0.00      0.00        19\n",
      "          9       0.00      0.00      0.00         6\n",
      "\n",
      "avg / total       0.32      0.43      0.33      2201\n",
      "\n"
     ]
    }
   ],
   "source": [
    "all_models['gsbaggingknn'] = {'model': gsbaggingknn.best_estimator_,\n",
    "                              'score': evaluate_model(gsbaggingknn.best_estimator_)}\n"
   ]
  },
  {
   "cell_type": "markdown",
   "metadata": {},
   "source": [
    "# 4. Logistic Regression\n",
    "\n",
    "Let's see if logistic regression performs better\n",
    " - Initialize LR and test on Train/Test set\n",
    " - Find optimal params with Grid Search\n",
    " - See if Bagging improves the score"
   ]
  },
  {
   "cell_type": "code",
   "execution_count": 40,
   "metadata": {
    "collapsed": false
   },
   "outputs": [
    {
     "name": "stdout",
     "output_type": "stream",
     "text": [
      "[[  1   0   0  31   0   1   0   0   0   0]\n",
      " [  0   0   0   1   0   1   0   0   0   0]\n",
      " [  0   0   0   0   0   1   0   0   0   0]\n",
      " [  1   0   0 699   0 144   0   0   0   0]\n",
      " [  0   0   0  13   0  16   0   0   0   0]\n",
      " [  0   0   0 497   0 256   0   0   0   0]\n",
      " [  0   0   0   1   0   1   0   0   0   0]\n",
      " [  0   0   0 395   0 117   0   0   0   0]\n",
      " [  0   0   0  13   0   6   0   0   0   0]\n",
      " [  1   0   0   5   0   0   0   0   0   0]]\n",
      "             precision    recall  f1-score   support\n",
      "\n",
      "          0       0.33      0.03      0.06        33\n",
      "          1       0.00      0.00      0.00         2\n",
      "          2       0.00      0.00      0.00         1\n",
      "          3       0.42      0.83      0.56       844\n",
      "          4       0.00      0.00      0.00        29\n",
      "          5       0.47      0.34      0.40       753\n",
      "          6       0.00      0.00      0.00         2\n",
      "          7       0.00      0.00      0.00       512\n",
      "          8       0.00      0.00      0.00        19\n",
      "          9       0.00      0.00      0.00         6\n",
      "\n",
      "avg / total       0.33      0.43      0.35      2201\n",
      "\n"
     ]
    }
   ],
   "source": [
    "from sklearn.linear_model import LogisticRegression\n",
    "\n",
    "lr = LogisticRegression()\n",
    "all_models['lr'] = {'model': lr,\n",
    "                    'score': evaluate_model(lr)}"
   ]
  },
  {
   "cell_type": "code",
   "execution_count": 41,
   "metadata": {
    "collapsed": false
   },
   "outputs": [
    {
     "name": "stdout",
     "output_type": "stream",
     "text": [
      "{'penalty': 'l1', 'C': 0.1}\n",
      "0.434497816594\n",
      "[[  0   0   0  32   0   1   0   0   0   0]\n",
      " [  0   0   0   1   0   1   0   0   0   0]\n",
      " [  0   0   0   0   0   1   0   0   0   0]\n",
      " [  0   0   0 712   0 132   0   0   0   0]\n",
      " [  0   0   0  13   0  16   0   0   0   0]\n",
      " [  0   0   0 515   0 238   0   0   0   0]\n",
      " [  0   0   0   1   0   1   0   0   0   0]\n",
      " [  0   0   0 406   0 106   0   0   0   0]\n",
      " [  0   0   0  13   0   6   0   0   0   0]\n",
      " [  0   0   0   6   0   0   0   0   0   0]]\n",
      "             precision    recall  f1-score   support\n",
      "\n",
      "          0       0.00      0.00      0.00        33\n",
      "          1       0.00      0.00      0.00         2\n",
      "          2       0.00      0.00      0.00         1\n",
      "          3       0.42      0.84      0.56       844\n",
      "          4       0.00      0.00      0.00        29\n",
      "          5       0.47      0.32      0.38       753\n",
      "          6       0.00      0.00      0.00         2\n",
      "          7       0.00      0.00      0.00       512\n",
      "          8       0.00      0.00      0.00        19\n",
      "          9       0.00      0.00      0.00         6\n",
      "\n",
      "avg / total       0.32      0.43      0.34      2201\n",
      "\n"
     ]
    }
   ],
   "source": [
    "params = {'C': [0.001, 0.01, 0.1, 1.0, 10.0, 100.0],\n",
    "          'penalty': ['l1', 'l2']}\n",
    "\n",
    "gslr = GridSearchCV(lr,\n",
    "                    params, n_jobs=-1,\n",
    "                    cv=KFold(len(y), n_folds=3, shuffle=True))\n",
    "\n",
    "gslr.fit(X, y)\n",
    "\n",
    "print gslr.best_params_\n",
    "print gslr.best_score_\n",
    "\n",
    "all_models['gslr'] = {'model': gslr.best_estimator_,\n",
    "                             'score': evaluate_model(gslr.best_estimator_)}"
   ]
  },
  {
   "cell_type": "code",
   "execution_count": 42,
   "metadata": {
    "collapsed": false
   },
   "outputs": [
    {
     "name": "stdout",
     "output_type": "stream",
     "text": [
      "{'max_features': 1.0, 'max_samples': 0.7, 'n_estimators': 10, 'bootstrap_features': False}\n",
      "0.431905021834\n",
      "[[  0   0   0  33   0   0   0   0   0   0]\n",
      " [  0   0   0   1   0   1   0   0   0   0]\n",
      " [  0   0   0   0   0   1   0   0   0   0]\n",
      " [  0   0   0 732   0 112   0   0   0   0]\n",
      " [  0   0   0  19   0  10   0   0   0   0]\n",
      " [  0   0   0 546   0 207   0   0   0   0]\n",
      " [  0   0   0   2   0   0   0   0   0   0]\n",
      " [  0   0   0 423   0  89   0   0   0   0]\n",
      " [  0   0   0  15   0   4   0   0   0   0]\n",
      " [  0   0   0   6   0   0   0   0   0   0]]\n",
      "             precision    recall  f1-score   support\n",
      "\n",
      "          0       0.00      0.00      0.00        33\n",
      "          1       0.00      0.00      0.00         2\n",
      "          2       0.00      0.00      0.00         1\n",
      "          3       0.41      0.87      0.56       844\n",
      "          4       0.00      0.00      0.00        29\n",
      "          5       0.49      0.27      0.35       753\n",
      "          6       0.00      0.00      0.00         2\n",
      "          7       0.00      0.00      0.00       512\n",
      "          8       0.00      0.00      0.00        19\n",
      "          9       0.00      0.00      0.00         6\n",
      "\n",
      "avg / total       0.32      0.43      0.33      2201\n",
      "\n"
     ]
    }
   ],
   "source": [
    "gsbagginglr = GridSearchCV(BaggingClassifier(gslr.best_estimator_),\n",
    "                           bagging_params, n_jobs=-1,\n",
    "                           cv=KFold(len(y), n_folds=3, shuffle=True))\n",
    "\n",
    "gsbagginglr.fit(X, y)\n",
    "\n",
    "print gsbagginglr.best_params_\n",
    "print gsbagginglr.best_score_\n",
    "\n",
    "all_models['gsbagginglr'] = {'model': gsbagginglr.best_estimator_,\n",
    "                             'score': evaluate_model(gsbagginglr.best_estimator_)}\n"
   ]
  },
  {
   "cell_type": "markdown",
   "metadata": {},
   "source": [
    "# 5. Decision Trees\n",
    "\n",
    "Let's see if Decision Trees perform better\n",
    "\n",
    "- Initialize DT and test on Train/Test set\n",
    "- Find optimal params with Grid Search\n",
    "- See if Bagging improves the score"
   ]
  },
  {
   "cell_type": "code",
   "execution_count": 43,
   "metadata": {
    "collapsed": false
   },
   "outputs": [
    {
     "name": "stdout",
     "output_type": "stream",
     "text": [
      "[[  7   0   0  25   0   1   0   0   0   0]\n",
      " [  0   0   0   1   0   1   0   0   0   0]\n",
      " [  0   0   0   0   0   1   0   0   0   0]\n",
      " [  4   0   0 696   0 144   0   0   0   0]\n",
      " [  0   0   0  13   0  16   0   0   0   0]\n",
      " [  0   0   0 497   0 256   0   0   0   0]\n",
      " [  0   0   0   1   0   1   0   0   0   0]\n",
      " [  4   0   0 391   0 117   0   0   0   0]\n",
      " [  0   0   0  13   0   6   0   0   0   0]\n",
      " [  0   0   0   5   0   0   0   1   0   0]]\n",
      "             precision    recall  f1-score   support\n",
      "\n",
      "          0       0.47      0.21      0.29        33\n",
      "          1       0.00      0.00      0.00         2\n",
      "          2       0.00      0.00      0.00         1\n",
      "          3       0.42      0.82      0.56       844\n",
      "          4       0.00      0.00      0.00        29\n",
      "          5       0.47      0.34      0.40       753\n",
      "          6       0.00      0.00      0.00         2\n",
      "          7       0.00      0.00      0.00       512\n",
      "          8       0.00      0.00      0.00        19\n",
      "          9       0.00      0.00      0.00         6\n",
      "\n",
      "avg / total       0.33      0.44      0.35      2201\n",
      "\n"
     ]
    }
   ],
   "source": [
    "from sklearn.tree import DecisionTreeClassifier\n",
    "\n",
    "dt = DecisionTreeClassifier()\n",
    "all_models['dt'] = {'model': dt,\n",
    "                    'score': evaluate_model(dt)}"
   ]
  },
  {
   "cell_type": "code",
   "execution_count": 44,
   "metadata": {
    "collapsed": false
   },
   "outputs": [
    {
     "name": "stdout",
     "output_type": "stream",
     "text": [
      "{'min_samples_split': 2, 'splitter': 'best', 'criterion': 'gini', 'max_depth': None, 'min_samples_leaf': 1}\n",
      "0.433133187773\n",
      "[[  7   0   0  25   0   1   0   0   0   0]\n",
      " [  0   0   0   1   0   1   0   0   0   0]\n",
      " [  0   0   0   0   0   1   0   0   0   0]\n",
      " [  4   0   0 696   0 144   0   0   0   0]\n",
      " [  0   0   0  13   0  16   0   0   0   0]\n",
      " [  0   0   0 497   0 256   0   0   0   0]\n",
      " [  0   0   0   1   0   1   0   0   0   0]\n",
      " [  4   0   0 391   0 117   0   0   0   0]\n",
      " [  0   0   0  13   0   6   0   0   0   0]\n",
      " [  0   0   0   5   0   0   0   1   0   0]]\n",
      "             precision    recall  f1-score   support\n",
      "\n",
      "          0       0.47      0.21      0.29        33\n",
      "          1       0.00      0.00      0.00         2\n",
      "          2       0.00      0.00      0.00         1\n",
      "          3       0.42      0.82      0.56       844\n",
      "          4       0.00      0.00      0.00        29\n",
      "          5       0.47      0.34      0.40       753\n",
      "          6       0.00      0.00      0.00         2\n",
      "          7       0.00      0.00      0.00       512\n",
      "          8       0.00      0.00      0.00        19\n",
      "          9       0.00      0.00      0.00         6\n",
      "\n",
      "avg / total       0.33      0.44      0.35      2201\n",
      "\n"
     ]
    }
   ],
   "source": [
    "params = {'criterion': ['gini', 'entropy'],\n",
    "          'splitter': ['best', 'random'],\n",
    "          'max_depth': [None, 5, 10],\n",
    "          'min_samples_split': [2, 5],\n",
    "          'min_samples_leaf': [1, 2, 3]}\n",
    "\n",
    "gsdt = GridSearchCV(dt,\n",
    "                    params, n_jobs=-1,\n",
    "                    cv=KFold(len(y), n_folds=3, shuffle=True))\n",
    "\n",
    "gsdt.fit(X, y)\n",
    "print gsdt.best_params_\n",
    "print gsdt.best_score_\n",
    "\n",
    "all_models['gsdt'] = {'model': gsdt.best_estimator_,\n",
    "                      'score': evaluate_model(gsdt.best_estimator_)}"
   ]
  },
  {
   "cell_type": "code",
   "execution_count": 45,
   "metadata": {
    "collapsed": false
   },
   "outputs": [
    {
     "name": "stdout",
     "output_type": "stream",
     "text": [
      "{'max_features': 1.0, 'max_samples': 0.7, 'n_estimators': 10, 'bootstrap_features': False}\n",
      "0.435725982533\n",
      "[[  7   0   0  24   0   1   0   1   0   0]\n",
      " [  0   0   0   1   0   1   0   0   0   0]\n",
      " [  0   0   0   0   0   1   0   0   0   0]\n",
      " [  4   0   0 676   0 144   0  20   0   0]\n",
      " [  0   0   0  13   0  16   0   0   0   0]\n",
      " [  0   0   0 480   0 256   0  17   0   0]\n",
      " [  0   0   0   1   0   1   0   0   0   0]\n",
      " [  4   0   0 380   0 117   0  11   0   0]\n",
      " [  0   0   0  13   0   6   0   0   0   0]\n",
      " [  0   0   0   5   0   0   0   1   0   0]]\n",
      "             precision    recall  f1-score   support\n",
      "\n",
      "          0       0.47      0.21      0.29        33\n",
      "          1       0.00      0.00      0.00         2\n",
      "          2       0.00      0.00      0.00         1\n",
      "          3       0.42      0.80      0.55       844\n",
      "          4       0.00      0.00      0.00        29\n",
      "          5       0.47      0.34      0.40       753\n",
      "          6       0.00      0.00      0.00         2\n",
      "          7       0.22      0.02      0.04       512\n",
      "          8       0.00      0.00      0.00        19\n",
      "          9       0.00      0.00      0.00         6\n",
      "\n",
      "avg / total       0.38      0.43      0.36      2201\n",
      "\n"
     ]
    }
   ],
   "source": [
    "gsbaggingdt = GridSearchCV(BaggingClassifier(gsdt.best_estimator_),\n",
    "                           bagging_params, n_jobs=-1,\n",
    "                           cv=KFold(len(y), n_folds=3, shuffle=True))\n",
    "\n",
    "gsbaggingdt.fit(X, y)\n",
    "\n",
    "print gsbaggingdt.best_params_\n",
    "print gsbaggingdt.best_score_\n",
    "\n",
    "all_models['gsbaggingdt'] = {'model': gsbaggingdt.best_estimator_,\n",
    "                             'score': evaluate_model(gsbaggingdt.best_estimator_)}"
   ]
  },
  {
   "cell_type": "markdown",
   "metadata": {},
   "source": [
    "# 6. Support Vector Machines\n",
    "\n",
    "Let's see if SVM perform better\n",
    " - Initialize SVM and test on Train/Test set\n",
    " - Find optimal params with Grid Search\n",
    " - See if Bagging improves the score"
   ]
  },
  {
   "cell_type": "code",
   "execution_count": 46,
   "metadata": {
    "collapsed": false
   },
   "outputs": [
    {
     "name": "stdout",
     "output_type": "stream",
     "text": [
      "[[  0   0   0  33   0   0   0   0   0   0]\n",
      " [  0   0   0   1   0   1   0   0   0   0]\n",
      " [  0   0   0   0   0   1   0   0   0   0]\n",
      " [  0   0   0 732   0 112   0   0   0   0]\n",
      " [  0   0   0  19   0  10   0   0   0   0]\n",
      " [  0   0   0 546   0 207   0   0   0   0]\n",
      " [  0   0   0   2   0   0   0   0   0   0]\n",
      " [  0   0   0 423   0  89   0   0   0   0]\n",
      " [  0   0   0  15   0   4   0   0   0   0]\n",
      " [  0   0   0   6   0   0   0   0   0   0]]\n",
      "             precision    recall  f1-score   support\n",
      "\n",
      "          0       0.00      0.00      0.00        33\n",
      "          1       0.00      0.00      0.00         2\n",
      "          2       0.00      0.00      0.00         1\n",
      "          3       0.41      0.87      0.56       844\n",
      "          4       0.00      0.00      0.00        29\n",
      "          5       0.49      0.27      0.35       753\n",
      "          6       0.00      0.00      0.00         2\n",
      "          7       0.00      0.00      0.00       512\n",
      "          8       0.00      0.00      0.00        19\n",
      "          9       0.00      0.00      0.00         6\n",
      "\n",
      "avg / total       0.32      0.43      0.33      2201\n",
      "\n"
     ]
    }
   ],
   "source": [
    "from sklearn.svm import SVC\n",
    "\n",
    "svm = SVC()\n",
    "all_models['svm'] = {'model': svm,\n",
    "                     'score': evaluate_model(svm)}"
   ]
  },
  {
   "cell_type": "code",
   "execution_count": 47,
   "metadata": {
    "collapsed": false
   },
   "outputs": [
    {
     "name": "stdout",
     "output_type": "stream",
     "text": [
      "{'kernel': 'rbf', 'C': 100.0, 'gamma': 0.1}\n",
      "0.435589519651\n",
      "[[  6   0   0  26   0   1   0   0   0   0]\n",
      " [  0   0   0   1   0   1   0   0   0   0]\n",
      " [  0   0   0   0   0   1   0   0   0   0]\n",
      " [  3   0   0 697   0 144   0   0   0   0]\n",
      " [  0   0   0  13   0  16   0   0   0   0]\n",
      " [  0   0   0 497   0 256   0   0   0   0]\n",
      " [  0   0   0   1   0   1   0   0   0   0]\n",
      " [  4   0   0 391   0 117   0   0   0   0]\n",
      " [  0   0   0  13   0   6   0   0   0   0]\n",
      " [  0   0   0   6   0   0   0   0   0   0]]\n",
      "             precision    recall  f1-score   support\n",
      "\n",
      "          0       0.46      0.18      0.26        33\n",
      "          1       0.00      0.00      0.00         2\n",
      "          2       0.00      0.00      0.00         1\n",
      "          3       0.42      0.83      0.56       844\n",
      "          4       0.00      0.00      0.00        29\n",
      "          5       0.47      0.34      0.40       753\n",
      "          6       0.00      0.00      0.00         2\n",
      "          7       0.00      0.00      0.00       512\n",
      "          8       0.00      0.00      0.00        19\n",
      "          9       0.00      0.00      0.00         6\n",
      "\n",
      "avg / total       0.33      0.44      0.35      2201\n",
      "\n"
     ]
    }
   ],
   "source": [
    "params = {'C': [0.01, 0.1, 1.0, 10.0, 30.0, 100.0],\n",
    "          'gamma': ['auto', 0.1, 1.0, 10.0],\n",
    "          'kernel': ['linear', 'rbf']}\n",
    "\n",
    "\n",
    "gssvm = GridSearchCV(svm,\n",
    "                    params, n_jobs=-1,\n",
    "                    cv=KFold(len(y), n_folds=3, shuffle=True))\n",
    "\n",
    "gssvm.fit(X, y)\n",
    "print gssvm.best_params_\n",
    "print gssvm.best_score_\n",
    "\n",
    "all_models['gssvm'] = {'model': gssvm.best_estimator_,\n",
    "                      'score': evaluate_model(gssvm.best_estimator_)}"
   ]
  },
  {
   "cell_type": "code",
   "execution_count": 48,
   "metadata": {
    "collapsed": false
   },
   "outputs": [
    {
     "name": "stdout",
     "output_type": "stream",
     "text": [
      "{'max_features': 1.0, 'max_samples': 1.0, 'n_estimators': 20, 'bootstrap_features': False}\n",
      "0.425081877729\n",
      "[[  6   0   0  26   0   1   0   0   0   0]\n",
      " [  0   0   0   1   0   1   0   0   0   0]\n",
      " [  0   0   0   0   0   1   0   0   0   0]\n",
      " [  3   0   0 697   0 144   0   0   0   0]\n",
      " [  0   0   0  13   0  16   0   0   0   0]\n",
      " [  0   0   0 497   0 256   0   0   0   0]\n",
      " [  0   0   0   1   0   1   0   0   0   0]\n",
      " [  4   0   0 391   0 117   0   0   0   0]\n",
      " [  0   0   0  13   0   6   0   0   0   0]\n",
      " [  0   0   0   5   0   0   0   1   0   0]]\n",
      "             precision    recall  f1-score   support\n",
      "\n",
      "          0       0.46      0.18      0.26        33\n",
      "          1       0.00      0.00      0.00         2\n",
      "          2       0.00      0.00      0.00         1\n",
      "          3       0.42      0.83      0.56       844\n",
      "          4       0.00      0.00      0.00        29\n",
      "          5       0.47      0.34      0.40       753\n",
      "          6       0.00      0.00      0.00         2\n",
      "          7       0.00      0.00      0.00       512\n",
      "          8       0.00      0.00      0.00        19\n",
      "          9       0.00      0.00      0.00         6\n",
      "\n",
      "avg / total       0.33      0.44      0.35      2201\n",
      "\n"
     ]
    }
   ],
   "source": [
    "gsbaggingsvm = GridSearchCV(BaggingClassifier(gssvm.best_estimator_),\n",
    "                           bagging_params, n_jobs=-1,\n",
    "                           cv=KFold(len(y), n_folds=3, shuffle=True))\n",
    "\n",
    "gsbaggingsvm.fit(X, y)\n",
    "\n",
    "print gsbaggingsvm.best_params_\n",
    "print gsbaggingsvm.best_score_\n",
    "\n",
    "all_models['gsbaggingsvm'] = {'model': gsbaggingsvm.best_estimator_,\n",
    "                             'score': evaluate_model(gsbaggingsvm.best_estimator_)}"
   ]
  },
  {
   "cell_type": "markdown",
   "metadata": {},
   "source": [
    "# 7. Random Forest & Extra Trees\n",
    "\n",
    "Let's see if Random Forest and Extra Trees perform better\n",
    "\n",
    " - Initialize RF and ET and test on Train/Test set\n",
    " - Find optimal params with Grid Search"
   ]
  },
  {
   "cell_type": "code",
   "execution_count": 49,
   "metadata": {
    "collapsed": false
   },
   "outputs": [
    {
     "name": "stdout",
     "output_type": "stream",
     "text": [
      "[[  6   0   0  26   0   1   0   0   0   0]\n",
      " [  0   0   0   1   0   1   0   0   0   0]\n",
      " [  0   0   0   0   0   1   0   0   0   0]\n",
      " [  3   0   0 697   0 144   0   0   0   0]\n",
      " [  0   0   0  13   0  16   0   0   0   0]\n",
      " [  0   0   0 497   0 256   0   0   0   0]\n",
      " [  0   0   0   1   0   1   0   0   0   0]\n",
      " [  4   0   0 391   0 117   0   0   0   0]\n",
      " [  0   0   0  13   0   6   0   0   0   0]\n",
      " [  0   0   0   5   0   0   0   1   0   0]]\n",
      "             precision    recall  f1-score   support\n",
      "\n",
      "          0       0.46      0.18      0.26        33\n",
      "          1       0.00      0.00      0.00         2\n",
      "          2       0.00      0.00      0.00         1\n",
      "          3       0.42      0.83      0.56       844\n",
      "          4       0.00      0.00      0.00        29\n",
      "          5       0.47      0.34      0.40       753\n",
      "          6       0.00      0.00      0.00         2\n",
      "          7       0.00      0.00      0.00       512\n",
      "          8       0.00      0.00      0.00        19\n",
      "          9       0.00      0.00      0.00         6\n",
      "\n",
      "avg / total       0.33      0.44      0.35      2201\n",
      "\n",
      "[[  7   0   0  25   0   1   0   0   0   0]\n",
      " [  0   0   0   1   0   1   0   0   0   0]\n",
      " [  0   0   0   0   0   1   0   0   0   0]\n",
      " [  4   0   0 696   0 144   0   0   0   0]\n",
      " [  0   0   0  13   0  16   0   0   0   0]\n",
      " [  0   0   0 497   0 256   0   0   0   0]\n",
      " [  0   0   0   1   0   1   0   0   0   0]\n",
      " [  4   0   0 391   0 117   0   0   0   0]\n",
      " [  0   0   0  13   0   6   0   0   0   0]\n",
      " [  0   0   0   5   0   0   0   1   0   0]]\n",
      "             precision    recall  f1-score   support\n",
      "\n",
      "          0       0.47      0.21      0.29        33\n",
      "          1       0.00      0.00      0.00         2\n",
      "          2       0.00      0.00      0.00         1\n",
      "          3       0.42      0.82      0.56       844\n",
      "          4       0.00      0.00      0.00        29\n",
      "          5       0.47      0.34      0.40       753\n",
      "          6       0.00      0.00      0.00         2\n",
      "          7       0.00      0.00      0.00       512\n",
      "          8       0.00      0.00      0.00        19\n",
      "          9       0.00      0.00      0.00         6\n",
      "\n",
      "avg / total       0.33      0.44      0.35      2201\n",
      "\n"
     ]
    }
   ],
   "source": [
    "from sklearn.ensemble import RandomForestClassifier, ExtraTreesClassifier\n",
    "\n",
    "rf = RandomForestClassifier()\n",
    "all_models['rf'] = {'model': rf,\n",
    "                    'score': evaluate_model(rf)}\n",
    "\n",
    "\n",
    "\n",
    "et = ExtraTreesClassifier()\n",
    "all_models['et'] = {'model': et,\n",
    "                    'score': evaluate_model(et)}"
   ]
  },
  {
   "cell_type": "code",
   "execution_count": 50,
   "metadata": {
    "collapsed": false
   },
   "outputs": [
    {
     "name": "stdout",
     "output_type": "stream",
     "text": [
      "{'min_samples_split': 5, 'n_estimators': 5, 'criterion': 'entropy', 'max_depth': 3, 'class_weight': None}\n",
      "0.434634279476\n",
      "[[  0   0   0  31   0   2   0   0   0   0]\n",
      " [  0   0   0   1   0   1   0   0   0   0]\n",
      " [  0   0   0   0   0   1   0   0   0   0]\n",
      " [  0   0   0 692   0 152   0   0   0   0]\n",
      " [  0   0   0  13   0  16   0   0   0   0]\n",
      " [  0   0   0 498   0 255   0   0   0   0]\n",
      " [  0   0   0   1   0   1   0   0   0   0]\n",
      " [  0   0   0 395   0 117   0   0   0   0]\n",
      " [  0   0   0  13   0   6   0   0   0   0]\n",
      " [  0   0   0   6   0   0   0   0   0   0]]\n",
      "             precision    recall  f1-score   support\n",
      "\n",
      "          0       0.00      0.00      0.00        33\n",
      "          1       0.00      0.00      0.00         2\n",
      "          2       0.00      0.00      0.00         1\n",
      "          3       0.42      0.82      0.55       844\n",
      "          4       0.00      0.00      0.00        29\n",
      "          5       0.46      0.34      0.39       753\n",
      "          6       0.00      0.00      0.00         2\n",
      "          7       0.00      0.00      0.00       512\n",
      "          8       0.00      0.00      0.00        19\n",
      "          9       0.00      0.00      0.00         6\n",
      "\n",
      "avg / total       0.32      0.43      0.35      2201\n",
      "\n"
     ]
    }
   ],
   "source": [
    "params = {'n_estimators':[3, 5, 10, 50],\n",
    "          'criterion': ['gini', 'entropy'],\n",
    "          'max_depth': [None, 3, 5],\n",
    "          'min_samples_split': [2,5],\n",
    "          'class_weight':[None, 'balanced']}\n",
    "\n",
    "\n",
    "gsrf = GridSearchCV(RandomForestClassifier(n_jobs=-1),\n",
    "                    params, n_jobs=-1,\n",
    "                    cv=KFold(len(y), n_folds=3, shuffle=True))\n",
    "\n",
    "gsrf.fit(X, y)\n",
    "print gsrf.best_params_\n",
    "print gsrf.best_score_\n",
    "\n",
    "all_models['gsrf'] = {'model': gsrf.best_estimator_,\n",
    "                      'score': evaluate_model(gsrf.best_estimator_)}"
   ]
  },
  {
   "cell_type": "code",
   "execution_count": 51,
   "metadata": {
    "collapsed": false
   },
   "outputs": [
    {
     "name": "stdout",
     "output_type": "stream",
     "text": [
      "{'min_samples_split': 2, 'n_estimators': 10, 'criterion': 'gini', 'max_depth': 5, 'class_weight': None}\n",
      "0.434088427948\n",
      "[[  4   0   0  28   0   1   0   0   0   0]\n",
      " [  0   0   0   1   0   1   0   0   0   0]\n",
      " [  0   0   0   0   0   1   0   0   0   0]\n",
      " [  1   0   0 711   0 132   0   0   0   0]\n",
      " [  0   0   0  13   0  16   0   0   0   0]\n",
      " [  0   0   0 515   0 238   0   0   0   0]\n",
      " [  0   0   0   1   0   1   0   0   0   0]\n",
      " [  4   0   0 402   0 106   0   0   0   0]\n",
      " [  0   0   0  13   0   6   0   0   0   0]\n",
      " [  0   0   0   5   0   0   0   1   0   0]]\n",
      "             precision    recall  f1-score   support\n",
      "\n",
      "          0       0.44      0.12      0.19        33\n",
      "          1       0.00      0.00      0.00         2\n",
      "          2       0.00      0.00      0.00         1\n",
      "          3       0.42      0.84      0.56       844\n",
      "          4       0.00      0.00      0.00        29\n",
      "          5       0.47      0.32      0.38       753\n",
      "          6       0.00      0.00      0.00         2\n",
      "          7       0.00      0.00      0.00       512\n",
      "          8       0.00      0.00      0.00        19\n",
      "          9       0.00      0.00      0.00         6\n",
      "\n",
      "avg / total       0.33      0.43      0.35      2201\n",
      "\n"
     ]
    }
   ],
   "source": [
    "gset = GridSearchCV(RandomForestClassifier(n_jobs=-1),\n",
    "                    params, n_jobs=-1,\n",
    "                    cv=KFold(len(y), n_folds=3, shuffle=True))\n",
    "\n",
    "gset.fit(X, y)\n",
    "print gset.best_params_\n",
    "print gset.best_score_\n",
    "\n",
    "all_models['gset'] = {'model': gset.best_estimator_,\n",
    "                      'score': evaluate_model(gset.best_estimator_)}"
   ]
  },
  {
   "cell_type": "markdown",
   "metadata": {},
   "source": [
    "# 8. Model comparison\n",
    "\n",
    "Let's compare the scores of the various models.\n",
    "- Do a bar chart of the scores of the best models. Who's the winner on the train/test split?\n",
    "- Re-test all the models using a 3 fold stratified shuffled cross validation\n",
    "- Do a bar chart with errorbars of the cross validation average scores. is the winner the same?"
   ]
  },
  {
   "cell_type": "code",
   "execution_count": 56,
   "metadata": {
    "collapsed": false
   },
   "outputs": [
    {
     "data": {
      "text/html": [
       "<div>\n",
       "<table border=\"1\" class=\"dataframe\">\n",
       "  <thead>\n",
       "    <tr style=\"text-align: right;\">\n",
       "      <th></th>\n",
       "      <th>score</th>\n",
       "    </tr>\n",
       "    <tr>\n",
       "      <th>model</th>\n",
       "      <th></th>\n",
       "    </tr>\n",
       "  </thead>\n",
       "  <tbody>\n",
       "    <tr>\n",
       "      <th>et</th>\n",
       "      <td>0.435711</td>\n",
       "    </tr>\n",
       "    <tr>\n",
       "      <th>gsbaggingsvm</th>\n",
       "      <td>0.435711</td>\n",
       "    </tr>\n",
       "    <tr>\n",
       "      <th>rf</th>\n",
       "      <td>0.435711</td>\n",
       "    </tr>\n",
       "    <tr>\n",
       "      <th>gsdt</th>\n",
       "      <td>0.435711</td>\n",
       "    </tr>\n",
       "    <tr>\n",
       "      <th>gssvm</th>\n",
       "      <td>0.435711</td>\n",
       "    </tr>\n",
       "    <tr>\n",
       "      <th>dt</th>\n",
       "      <td>0.435711</td>\n",
       "    </tr>\n",
       "    <tr>\n",
       "      <th>lr</th>\n",
       "      <td>0.434348</td>\n",
       "    </tr>\n",
       "    <tr>\n",
       "      <th>gset</th>\n",
       "      <td>0.432985</td>\n",
       "    </tr>\n",
       "    <tr>\n",
       "      <th>gslr</th>\n",
       "      <td>0.431622</td>\n",
       "    </tr>\n",
       "    <tr>\n",
       "      <th>gsbaggingdt</th>\n",
       "      <td>0.431622</td>\n",
       "    </tr>\n",
       "    <tr>\n",
       "      <th>gsrf</th>\n",
       "      <td>0.430259</td>\n",
       "    </tr>\n",
       "    <tr>\n",
       "      <th>gsbagginglr</th>\n",
       "      <td>0.426624</td>\n",
       "    </tr>\n",
       "    <tr>\n",
       "      <th>svm</th>\n",
       "      <td>0.426624</td>\n",
       "    </tr>\n",
       "    <tr>\n",
       "      <th>gsbaggingknn</th>\n",
       "      <td>0.426624</td>\n",
       "    </tr>\n",
       "    <tr>\n",
       "      <th>knn</th>\n",
       "      <td>0.357565</td>\n",
       "    </tr>\n",
       "  </tbody>\n",
       "</table>\n",
       "</div>"
      ],
      "text/plain": [
       "                 score\n",
       "model                 \n",
       "et            0.435711\n",
       "gsbaggingsvm  0.435711\n",
       "rf            0.435711\n",
       "gsdt          0.435711\n",
       "gssvm         0.435711\n",
       "dt            0.435711\n",
       "lr            0.434348\n",
       "gset          0.432985\n",
       "gslr          0.431622\n",
       "gsbaggingdt   0.431622\n",
       "gsrf          0.430259\n",
       "gsbagginglr   0.426624\n",
       "svm           0.426624\n",
       "gsbaggingknn  0.426624\n",
       "knn           0.357565"
      ]
     },
     "execution_count": 56,
     "metadata": {},
     "output_type": "execute_result"
    },
    {
     "data": {
      "image/png": "[encoded data removed]",
      "text/plain": [
       "<matplotlib.figure.Figure at 0x11dc9d390>"
      ]
     },
     "metadata": {},
     "output_type": "display_data"
    }
   ],
   "source": [
    "scores = pd.DataFrame([(k, v['score']) for k, v in all_models.iteritems()],\n",
    "             columns=['model', 'score']).set_index('model').sort_values('score', ascending=False)\n",
    "\n",
    "\n",
    "scores.plot(kind='bar')\n",
    "plt.ylim(0.0, 1.1)\n",
    "\n",
    "scores"
   ]
  },
  {
   "cell_type": "code",
   "execution_count": 57,
   "metadata": {
    "collapsed": false
   },
   "outputs": [
    {
     "name": "stdout",
     "output_type": "stream",
     "text": [
      "knn gsbagginglr gsrf svm et gsbaggingsvm gslr rf gsbaggingdt gsdt lr gset gssvm gsbaggingknn dt\n"
     ]
    }
   ],
   "source": [
    "from sklearn.cross_validation import cross_val_score, StratifiedKFold\n",
    "\n",
    "def retest(model):\n",
    "    scores = cross_val_score(model, X, y,\n",
    "                             cv=StratifiedKFold(y, shuffle=True),\n",
    "                             n_jobs=-1)\n",
    "    m = scores.mean()\n",
    "    s = scores.std()\n",
    "    \n",
    "    return m, s\n",
    "\n",
    "for k, v in all_models.iteritems():\n",
    "    cvres = retest(v['model'])\n",
    "    print k, \n",
    "    all_models[k]['cvres'] = cvres"
   ]
  },
  {
   "cell_type": "code",
   "execution_count": 58,
   "metadata": {
    "collapsed": false
   },
   "outputs": [
    {
     "data": {
      "text/html": [
       "<div>\n",
       "<table border=\"1\" class=\"dataframe\">\n",
       "  <thead>\n",
       "    <tr style=\"text-align: right;\">\n",
       "      <th></th>\n",
       "      <th>score</th>\n",
       "      <th>error</th>\n",
       "    </tr>\n",
       "    <tr>\n",
       "      <th>model</th>\n",
       "      <th></th>\n",
       "      <th></th>\n",
       "    </tr>\n",
       "  </thead>\n",
       "  <tbody>\n",
       "    <tr>\n",
       "      <th>et</th>\n",
       "      <td>0.434499</td>\n",
       "      <td>0.003915</td>\n",
       "    </tr>\n",
       "    <tr>\n",
       "      <th>gsbaggingdt</th>\n",
       "      <td>0.433670</td>\n",
       "      <td>0.008997</td>\n",
       "    </tr>\n",
       "    <tr>\n",
       "      <th>gsbaggingsvm</th>\n",
       "      <td>0.433544</td>\n",
       "      <td>0.002237</td>\n",
       "    </tr>\n",
       "    <tr>\n",
       "      <th>lr</th>\n",
       "      <td>0.433540</td>\n",
       "      <td>0.003361</td>\n",
       "    </tr>\n",
       "    <tr>\n",
       "      <th>dt</th>\n",
       "      <td>0.433411</td>\n",
       "      <td>0.005350</td>\n",
       "    </tr>\n",
       "    <tr>\n",
       "      <th>rf</th>\n",
       "      <td>0.432863</td>\n",
       "      <td>0.005154</td>\n",
       "    </tr>\n",
       "    <tr>\n",
       "      <th>gsbagginglr</th>\n",
       "      <td>0.432179</td>\n",
       "      <td>0.001399</td>\n",
       "    </tr>\n",
       "    <tr>\n",
       "      <th>gslr</th>\n",
       "      <td>0.431226</td>\n",
       "      <td>0.008445</td>\n",
       "    </tr>\n",
       "    <tr>\n",
       "      <th>gsdt</th>\n",
       "      <td>0.431078</td>\n",
       "      <td>0.006127</td>\n",
       "    </tr>\n",
       "    <tr>\n",
       "      <th>svm</th>\n",
       "      <td>0.430821</td>\n",
       "      <td>0.006737</td>\n",
       "    </tr>\n",
       "    <tr>\n",
       "      <th>gssvm</th>\n",
       "      <td>0.430812</td>\n",
       "      <td>0.002816</td>\n",
       "    </tr>\n",
       "    <tr>\n",
       "      <th>gset</th>\n",
       "      <td>0.430398</td>\n",
       "      <td>0.008417</td>\n",
       "    </tr>\n",
       "    <tr>\n",
       "      <th>gsrf</th>\n",
       "      <td>0.429722</td>\n",
       "      <td>0.000555</td>\n",
       "    </tr>\n",
       "    <tr>\n",
       "      <th>gsbaggingknn</th>\n",
       "      <td>0.420994</td>\n",
       "      <td>0.008269</td>\n",
       "    </tr>\n",
       "    <tr>\n",
       "      <th>knn</th>\n",
       "      <td>0.401212</td>\n",
       "      <td>0.011700</td>\n",
       "    </tr>\n",
       "  </tbody>\n",
       "</table>\n",
       "</div>"
      ],
      "text/plain": [
       "                 score     error\n",
       "model                           \n",
       "et            0.434499  0.003915\n",
       "gsbaggingdt   0.433670  0.008997\n",
       "gsbaggingsvm  0.433544  0.002237\n",
       "lr            0.433540  0.003361\n",
       "dt            0.433411  0.005350\n",
       "rf            0.432863  0.005154\n",
       "gsbagginglr   0.432179  0.001399\n",
       "gslr          0.431226  0.008445\n",
       "gsdt          0.431078  0.006127\n",
       "svm           0.430821  0.006737\n",
       "gssvm         0.430812  0.002816\n",
       "gset          0.430398  0.008417\n",
       "gsrf          0.429722  0.000555\n",
       "gsbaggingknn  0.420994  0.008269\n",
       "knn           0.401212  0.011700"
      ]
     },
     "execution_count": 58,
     "metadata": {},
     "output_type": "execute_result"
    },
    {
     "data": {
      "image/png": "[encoded data removed]",
      "text/plain": [
       "<matplotlib.figure.Figure at 0x11e3b2550>"
      ]
     },
     "metadata": {},
     "output_type": "display_data"
    }
   ],
   "source": [
    "cvscores = pd.DataFrame([(k, v['cvres'][0], v['cvres'][1] ) for k, v in all_models.iteritems()],\n",
    "                        columns=['model', 'score', 'error']).set_index('model').sort_values('score', ascending=False)\n",
    "\n",
    "\n",
    "\n",
    "fig, ax = plt.subplots()\n",
    "rects1 = ax.bar(range(len(cvscores)), cvscores.score,\n",
    "                yerr=cvscores.error,\n",
    "                tick_label=cvscores.index)\n",
    "\n",
    "ax.set_ylabel('Scores')\n",
    "plt.xticks(rotation=70)\n",
    "plt.ylim(0.6, 1.1)\n",
    "\n",
    "# cvscores.to_csv('../../../5.2-lesson/assets/datasets/car_evaluation/model_comparison.csv')\n",
    "cvscores"
   ]
  },
  {
   "cell_type": "markdown",
   "metadata": {},
   "source": [
    "# Bonus\n",
    "\n",
    "We have encoded the data using a map that preserves the scale. Would our results have changed if we had encoded the categorical data using pd.get_dummies or OneHotEncoder to encode them as binary variables instead?\n",
    "\n",
    "- Repeat the analysis for this scenario. Is it better?\n",
    "- Experiment with other models or other parameters, can you beat your classmates best score?"
   ]
  },
  {
   "cell_type": "code",
   "execution_count": null,
   "metadata": {
    "collapsed": true
   },
   "outputs": [],
   "source": [
    "from sklearn.preprocessing import OneHotEncoder\n",
    "from sklearn.pipeline import make_pipeline\n",
    "\n",
    "onehotpipe = make_pipeline(OneHotEncoder(),\n",
    "                           dt)\n",
    "\n",
    "\n",
    "all_models['onehotpipe'] = {'model': onehotpipe,\n",
    "                            'score': evaluate_model(onehotpipe)}"
   ]
  },
  {
   "cell_type": "code",
   "execution_count": null,
   "metadata": {
    "collapsed": true
   },
   "outputs": [],
   "source": [
    "# performance metrics"
   ]
  },
  {
   "cell_type": "code",
   "execution_count": null,
   "metadata": {
    "collapsed": true
   },
   "outputs": [],
   "source": []
  },
  {
   "cell_type": "code",
   "execution_count": null,
   "metadata": {
    "collapsed": true
   },
   "outputs": [],
   "source": [
    "# predictions on cohort 2 dataset"
   ]
  },
  {
   "cell_type": "code",
   "execution_count": null,
   "metadata": {
    "collapsed": true
   },
   "outputs": [],
   "source": []
  },
  {
   "cell_type": "markdown",
   "metadata": {},
   "source": [
    "### NEXT STEPS:\n",
    "\n",
    "- Wait for data from 2016\n",
    "- Test Predictions/Validate Model"
   ]
  },
  {
   "cell_type": "code",
   "execution_count": null,
   "metadata": {
    "collapsed": true
   },
   "outputs": [],
   "source": []
  }
 ],
 "metadata": {
  "kernelspec": {
   "display_name": "Python 2",
   "language": "python",
   "name": "python2"
  },
  "language_info": {
   "codemirror_mode": {
    "name": "ipython",
    "version": 2
   },
   "file_extension": ".py",
   "mimetype": "text/x-python",
   "name": "python",
   "nbconvert_exporter": "python",
   "pygments_lexer": "ipython2",
   "version": "2.7.9"
  }
 },
 "nbformat": 4,
 "nbformat_minor": 0
}
