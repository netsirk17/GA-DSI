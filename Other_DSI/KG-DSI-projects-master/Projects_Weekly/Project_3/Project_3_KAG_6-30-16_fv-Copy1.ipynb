{
 "cells": [
  {
   "cell_type": "markdown",
   "metadata": {
    "collapsed": true
   },
   "source": [
    "# Project 3 -- Liquor Sales + Linear Regression"
   ]
  },
  {
   "cell_type": "markdown",
   "metadata": {
    "collapsed": true
   },
   "source": [
    "Scenario 1: State tax board\n",
    "\n",
    "You are a data scientist in residence at the Iowa State tax board. The Iowa State legislature is considering changes in the liquor tax rates and wants a report of current liquor sales by county and projections for the rest of the year.\n"
   ]
  },
  {
   "cell_type": "markdown",
   "metadata": {
    "collapsed": true
   },
   "source": [
    "________________________________________________"
   ]
  },
  {
   "cell_type": "markdown",
   "metadata": {
    "collapsed": true
   },
   "source": [
    "Start Report\n",
    "\n",
    "Date: 6.30.2015\n",
    "\n",
    "Report By: \n",
    "Kelly Ann Gracia, Resident Data Scientist,\n",
    "Iowa State Tax Board\n",
    "\n",
    "Report Addressed to: \n",
    "Iowa State Legislature"
   ]
  },
  {
   "cell_type": "markdown",
   "metadata": {
    "collapsed": false
   },
   "source": [
    "___________________________________________________"
   ]
  },
  {
   "cell_type": "markdown",
   "metadata": {},
   "source": [
    "Deliverables: \n",
    "\n",
    "    -Report of Current Liquor Sales by County.\n",
    "\n",
    "        Including projections for the rest of year 2016.\n",
    "       \n",
    "    -Report to help inform discussion in changes in the liquor tax rates."
   ]
  },
  {
   "cell_type": "markdown",
   "metadata": {},
   "source": [
    "____________________________________________________________________________"
   ]
  },
  {
   "cell_type": "markdown",
   "metadata": {},
   "source": [
    "##### y value = total sales (in dollars)\n",
    "(continuous variable)\n",
    "\n",
    "##### x values = dates of sales (transaction dates), price per bottle\n",
    "(continuous variable)"
   ]
  },
  {
   "cell_type": "markdown",
   "metadata": {},
   "source": [
    "___________________________________________________________________________________"
   ]
  },
  {
   "cell_type": "markdown",
   "metadata": {},
   "source": [
    "Report Outline:\n",
    "\n",
    "    1) Data Cleaning Round 1\n",
    "    2) Visualize data to spot outliers\n",
    "    3) Remove outliers if appropriate (Data Cleaning Round 2)\n",
    "    4) Visualize data to choose features for model\n",
    "    5) Create linear regression model\n",
    "    6) Train-test-split data (using cross_val, K-fold = 4)\n",
    "    7) Get performance score of model.\n",
    "    8) Create linear regression model with L1 regularization (to address outliers)\n",
    "    9) Train-test-split data (using cross_val, K-fold = 4)\n",
    "    10) Get performance score of model.\n",
    "    11) Compare performance scores and choose best model. Provide rationale.\n",
    "    12) Use chosen model to predict sales for rest of 2016.\n",
    "    13??? Evaluate predictions....\n"
   ]
  },
  {
   "cell_type": "code",
   "execution_count": 2,
   "metadata": {
    "collapsed": true
   },
   "outputs": [],
   "source": [
    "#Importing necessary libraries\n",
    "\n",
    "% matplotlib inline\n",
    "import datetime\n",
    "import numpy as np\n",
    "import pandas as pd\n",
    "import matplotlib.pyplot as plt\n",
    "import datetime\n",
    "import seaborn as sns\n",
    "from pandas.tools.plotting import scatter_matrix"
   ]
  },
  {
   "cell_type": "code",
   "execution_count": 3,
   "metadata": {
    "collapsed": false
   },
   "outputs": [
    {
     "name": "stdout",
     "output_type": "stream",
     "text": [
      "<class 'pandas.core.frame.DataFrame'>\n",
      "RangeIndex: 270955 entries, 0 to 270954\n",
      "Data columns (total 18 columns):\n",
      "Date                     270955 non-null object\n",
      "Store Number             270955 non-null int64\n",
      "City                     270955 non-null object\n",
      "Zip Code                 270955 non-null object\n",
      "County Number            269878 non-null float64\n",
      "County                   269878 non-null object\n",
      "Category                 270887 non-null float64\n",
      "Category Name            270323 non-null object\n",
      "Vendor Number            270955 non-null int64\n",
      "Item Number              270955 non-null int64\n",
      "Item Description         270955 non-null object\n",
      "Bottle Volume (ml)       270955 non-null int64\n",
      "State Bottle Cost        270955 non-null object\n",
      "State Bottle Retail      270955 non-null object\n",
      "Bottles Sold             270955 non-null int64\n",
      "Sale (Dollars)           270955 non-null object\n",
      "Volume Sold (Liters)     270955 non-null float64\n",
      "Volume Sold (Gallons)    270955 non-null float64\n",
      "dtypes: float64(4), int64(5), object(9)\n",
      "memory usage: 37.2+ MB\n",
      "None\n"
     ]
    },
    {
     "data": {
      "text/html": [
       "<div>\n",
       "<table border=\"1\" class=\"dataframe\">\n",
       "  <thead>\n",
       "    <tr style=\"text-align: right;\">\n",
       "      <th></th>\n",
       "      <th>Date</th>\n",
       "      <th>Store Number</th>\n",
       "      <th>City</th>\n",
       "      <th>Zip Code</th>\n",
       "      <th>County Number</th>\n",
       "      <th>County</th>\n",
       "      <th>Category</th>\n",
       "      <th>Category Name</th>\n",
       "      <th>Vendor Number</th>\n",
       "      <th>Item Number</th>\n",
       "      <th>Item Description</th>\n",
       "      <th>Bottle Volume (ml)</th>\n",
       "      <th>State Bottle Cost</th>\n",
       "      <th>State Bottle Retail</th>\n",
       "      <th>Bottles Sold</th>\n",
       "      <th>Sale (Dollars)</th>\n",
       "      <th>Volume Sold (Liters)</th>\n",
       "      <th>Volume Sold (Gallons)</th>\n",
       "    </tr>\n",
       "  </thead>\n",
       "  <tbody>\n",
       "    <tr>\n",
       "      <th>0</th>\n",
       "      <td>11/04/2015</td>\n",
       "      <td>3717</td>\n",
       "      <td>SUMNER</td>\n",
       "      <td>50674</td>\n",
       "      <td>9.0</td>\n",
       "      <td>Bremer</td>\n",
       "      <td>1051100.0</td>\n",
       "      <td>APRICOT BRANDIES</td>\n",
       "      <td>55</td>\n",
       "      <td>54436</td>\n",
       "      <td>Mr. Boston Apricot Brandy</td>\n",
       "      <td>750</td>\n",
       "      <td>$4.50</td>\n",
       "      <td>$6.75</td>\n",
       "      <td>12</td>\n",
       "      <td>$81.00</td>\n",
       "      <td>9.0</td>\n",
       "      <td>2.38</td>\n",
       "    </tr>\n",
       "    <tr>\n",
       "      <th>1</th>\n",
       "      <td>03/02/2016</td>\n",
       "      <td>2614</td>\n",
       "      <td>DAVENPORT</td>\n",
       "      <td>52807</td>\n",
       "      <td>82.0</td>\n",
       "      <td>Scott</td>\n",
       "      <td>1011100.0</td>\n",
       "      <td>BLENDED WHISKIES</td>\n",
       "      <td>395</td>\n",
       "      <td>27605</td>\n",
       "      <td>Tin Cup</td>\n",
       "      <td>750</td>\n",
       "      <td>$13.75</td>\n",
       "      <td>$20.63</td>\n",
       "      <td>2</td>\n",
       "      <td>$41.26</td>\n",
       "      <td>1.5</td>\n",
       "      <td>0.40</td>\n",
       "    </tr>\n",
       "    <tr>\n",
       "      <th>2</th>\n",
       "      <td>02/11/2016</td>\n",
       "      <td>2106</td>\n",
       "      <td>CEDAR FALLS</td>\n",
       "      <td>50613</td>\n",
       "      <td>7.0</td>\n",
       "      <td>Black Hawk</td>\n",
       "      <td>1011200.0</td>\n",
       "      <td>STRAIGHT BOURBON WHISKIES</td>\n",
       "      <td>65</td>\n",
       "      <td>19067</td>\n",
       "      <td>Jim Beam</td>\n",
       "      <td>1000</td>\n",
       "      <td>$12.59</td>\n",
       "      <td>$18.89</td>\n",
       "      <td>24</td>\n",
       "      <td>$453.36</td>\n",
       "      <td>24.0</td>\n",
       "      <td>6.34</td>\n",
       "    </tr>\n",
       "    <tr>\n",
       "      <th>3</th>\n",
       "      <td>02/03/2016</td>\n",
       "      <td>2501</td>\n",
       "      <td>AMES</td>\n",
       "      <td>50010</td>\n",
       "      <td>85.0</td>\n",
       "      <td>Story</td>\n",
       "      <td>1071100.0</td>\n",
       "      <td>AMERICAN COCKTAILS</td>\n",
       "      <td>395</td>\n",
       "      <td>59154</td>\n",
       "      <td>1800 Ultimate Margarita</td>\n",
       "      <td>1750</td>\n",
       "      <td>$9.50</td>\n",
       "      <td>$14.25</td>\n",
       "      <td>6</td>\n",
       "      <td>$85.50</td>\n",
       "      <td>10.5</td>\n",
       "      <td>2.77</td>\n",
       "    </tr>\n",
       "    <tr>\n",
       "      <th>4</th>\n",
       "      <td>08/18/2015</td>\n",
       "      <td>3654</td>\n",
       "      <td>BELMOND</td>\n",
       "      <td>50421</td>\n",
       "      <td>99.0</td>\n",
       "      <td>Wright</td>\n",
       "      <td>1031080.0</td>\n",
       "      <td>VODKA 80 PROOF</td>\n",
       "      <td>297</td>\n",
       "      <td>35918</td>\n",
       "      <td>Five O'clock Vodka</td>\n",
       "      <td>1750</td>\n",
       "      <td>$7.20</td>\n",
       "      <td>$10.80</td>\n",
       "      <td>12</td>\n",
       "      <td>$129.60</td>\n",
       "      <td>21.0</td>\n",
       "      <td>5.55</td>\n",
       "    </tr>\n",
       "  </tbody>\n",
       "</table>\n",
       "</div>"
      ],
      "text/plain": [
       "         Date  Store Number         City Zip Code  County Number      County  \\\n",
       "0  11/04/2015          3717       SUMNER    50674            9.0      Bremer   \n",
       "1  03/02/2016          2614    DAVENPORT    52807           82.0       Scott   \n",
       "2  02/11/2016          2106  CEDAR FALLS    50613            7.0  Black Hawk   \n",
       "3  02/03/2016          2501         AMES    50010           85.0       Story   \n",
       "4  08/18/2015          3654      BELMOND    50421           99.0      Wright   \n",
       "\n",
       "    Category              Category Name  Vendor Number  Item Number  \\\n",
       "0  1051100.0           APRICOT BRANDIES             55        54436   \n",
       "1  1011100.0           BLENDED WHISKIES            395        27605   \n",
       "2  1011200.0  STRAIGHT BOURBON WHISKIES             65        19067   \n",
       "3  1071100.0         AMERICAN COCKTAILS            395        59154   \n",
       "4  1031080.0             VODKA 80 PROOF            297        35918   \n",
       "\n",
       "            Item Description  Bottle Volume (ml) State Bottle Cost  \\\n",
       "0  Mr. Boston Apricot Brandy                 750             $4.50   \n",
       "1                    Tin Cup                 750            $13.75   \n",
       "2                   Jim Beam                1000            $12.59   \n",
       "3    1800 Ultimate Margarita                1750             $9.50   \n",
       "4         Five O'clock Vodka                1750             $7.20   \n",
       "\n",
       "  State Bottle Retail  Bottles Sold Sale (Dollars)  Volume Sold (Liters)  \\\n",
       "0               $6.75            12         $81.00                   9.0   \n",
       "1              $20.63             2         $41.26                   1.5   \n",
       "2              $18.89            24        $453.36                  24.0   \n",
       "3              $14.25             6         $85.50                  10.5   \n",
       "4              $10.80            12        $129.60                  21.0   \n",
       "\n",
       "   Volume Sold (Gallons)  \n",
       "0                   2.38  \n",
       "1                   0.40  \n",
       "2                   6.34  \n",
       "3                   2.77  \n",
       "4                   5.55  "
      ]
     },
     "execution_count": 3,
     "metadata": {},
     "output_type": "execute_result"
    }
   ],
   "source": [
    "#first load data and clean data\n",
    "idf = pd.read_csv('/Users/kristensu/downloads/Iowa_Liquor_sales_sample_10pct.csv')\n",
    "print idf.info()\n",
    "idf.head()"
   ]
  },
  {
   "cell_type": "code",
   "execution_count": 4,
   "metadata": {
    "collapsed": false
   },
   "outputs": [
    {
     "name": "stdout",
     "output_type": "stream",
     "text": [
      "# Rows, Columns: (270955, 18)\n",
      "\n",
      "Date                        0\n",
      "Store Number                0\n",
      "City                        0\n",
      "Zip Code                    0\n",
      "County Number            1077\n",
      "County                   1077\n",
      "Category                   68\n",
      "Category Name             632\n",
      "Vendor Number               0\n",
      "Item Number                 0\n",
      "Item Description            0\n",
      "Bottle Volume (ml)          0\n",
      "State Bottle Cost           0\n",
      "State Bottle Retail         0\n",
      "Bottles Sold                0\n",
      "Sale (Dollars)              0\n",
      "Volume Sold (Liters)        0\n",
      "Volume Sold (Gallons)       0\n",
      "dtype: int64\n",
      "\n",
      "total missing rows = county NAs + category NAs + category name NAs = \n",
      "17801\n",
      "\n",
      "Percent missing (excluding county number column total NAs):\n",
      "0.656972075088\n",
      "\n",
      "Date                     0\n",
      "Store Number             0\n",
      "City                     0\n",
      "Zip Code                 0\n",
      "County Number            0\n",
      "County                   0\n",
      "Category                 0\n",
      "Category Name            0\n",
      "Vendor Number            0\n",
      "Item Number              0\n",
      "Item Description         0\n",
      "Bottle Volume (ml)       0\n",
      "State Bottle Cost        0\n",
      "State Bottle Retail      0\n",
      "Bottles Sold             0\n",
      "Sale (Dollars)           0\n",
      "Volume Sold (Liters)     0\n",
      "Volume Sold (Gallons)    0\n",
      "dtype: int64\n",
      "\n",
      "# Rows, Columns: (269258, 18)\n"
     ]
    }
   ],
   "source": [
    "# Need to check for NaNs and their counts if any...\n",
    "print \"# Rows, Columns: \" +str(idf.shape)\n",
    "print\n",
    "print idf.isnull().sum()\n",
    "print\n",
    "# Looking at total NaNs per feature in dataset, and assuming a worst case scenario \\\n",
    "# (no overlap in NAs):\n",
    "print \"total missing rows = county NAs + category NAs + category name NAs = \"\n",
    "NA_rows = 10913 + 779 + 6109\n",
    "print NA_rows\n",
    "print\n",
    "print \"Percent missing (excluding county number column total NAs):\"\n",
    "percent_missing = (NA_rows/ 2709552.0)*100\n",
    "print percent_missing\n",
    "print\n",
    "# Will fill other missing values with NA for now....Because total \n",
    "# NAs are negligible (<1%), I will drop NAs.\n",
    "idf = idf.dropna()\n",
    "print idf.isnull().sum()\n",
    "print\n",
    "print \"# Rows, Columns: \" +str(idf.shape)"
   ]
  },
  {
   "cell_type": "code",
   "execution_count": 5,
   "metadata": {
    "collapsed": true
   },
   "outputs": [],
   "source": [
    "#Remove spaces and parentheses from column names\n",
    "\n",
    "idf.columns.str.strip()\n",
    "idf.rename(columns=lambda x: x.replace(' ', '_'), inplace=True)\n",
    "idf.rename(columns=lambda x: x.replace('(', ''), inplace=True)\n",
    "idf.rename(columns=lambda x: x.replace(')', ''), inplace=True)"
   ]
  },
  {
   "cell_type": "code",
   "execution_count": 6,
   "metadata": {
    "collapsed": true
   },
   "outputs": [],
   "source": [
    "# Remove \"$\" prices from characters and convert values to floats.\n",
    "\n",
    "idf[['State_Bottle_Cost', 'State_Bottle_Retail', 'Sale_Dollars']] = \\\n",
    "                            idf[['State_Bottle_Cost', 'State_Bottle_Retail', 'Sale_Dollars']]\\\n",
    "                                                    .apply(lambda x: x.str.replace('$', \"\"))\n",
    "idf[['State_Bottle_Cost', 'State_Bottle_Retail', 'Sale_Dollars']] = \\\n",
    "                            idf[['State_Bottle_Cost', 'State_Bottle_Retail', 'Sale_Dollars']]\\\n",
    "                                                    .apply(lambda x: pd.to_numeric(x))"
   ]
  },
  {
   "cell_type": "code",
   "execution_count": 7,
   "metadata": {
    "collapsed": false
   },
   "outputs": [],
   "source": [
    "# Need to change date to datetime\n",
    "\n",
    "idf['Date'] = idf['Date'].str.replace('/', \"-\")\n",
    "idf[\"Date\"] = pd.to_datetime(idf[\"Date\"], format= \"%m-%d-%Y\")"
   ]
  },
  {
   "cell_type": "code",
   "execution_count": 8,
   "metadata": {
    "collapsed": false
   },
   "outputs": [
    {
     "data": {
      "text/plain": [
       "0         50674\n",
       "1         52807\n",
       "2         50613\n",
       "3         50010\n",
       "4         50421\n",
       "5         52402\n",
       "6         52501\n",
       "7         50428\n",
       "8         50035\n",
       "9         52332\n",
       "10        50265\n",
       "11        52577\n",
       "12        52806\n",
       "13        52656\n",
       "14        52241\n",
       "15        50674\n",
       "16        50703\n",
       "17        52577\n",
       "18        50208\n",
       "19        52807\n",
       "20        52402\n",
       "21        52342\n",
       "22        51250\n",
       "23        50401\n",
       "24        52402\n",
       "25        51351\n",
       "26        52246\n",
       "27        51501\n",
       "28        50111\n",
       "29        52245\n",
       "          ...  \n",
       "270925    50702\n",
       "270926    50009\n",
       "270927    50320\n",
       "270928    52240\n",
       "270929    52778\n",
       "270930    52402\n",
       "270931    50595\n",
       "270932    50208\n",
       "270933    50010\n",
       "270934    51104\n",
       "270935    50310\n",
       "270936    52404\n",
       "270937    50801\n",
       "270938    52405\n",
       "270939    52233\n",
       "270940    52544\n",
       "270941    52253\n",
       "270942    52240\n",
       "270943    50010\n",
       "270944    50311\n",
       "270945    50310\n",
       "270946    50322\n",
       "270947    50111\n",
       "270948    52245\n",
       "270949    52405\n",
       "270950    50316\n",
       "270951    51445\n",
       "270952    50702\n",
       "270953    52655\n",
       "270954    50322\n",
       "Name: Zip_Code, dtype: int64"
      ]
     },
     "execution_count": 8,
     "metadata": {},
     "output_type": "execute_result"
    }
   ],
   "source": [
    "#-need to change zipcode to int\n",
    "\n",
    "# ----received error for code below. Error message revealed some incorrectly entered zipcodes\n",
    "#     (e.g., 712-2)\n",
    "# ===============>> idf['Zip_Code'] = idf['Zip_Code'].astype(int) \n",
    "\n",
    "# print \"Before removal of invalid zipcodes: \"\n",
    "# print idf[\"Zip_Code\"].nunique()\n",
    "# print idf[\"Zip_Code\"].nunique(dropna=False)\n",
    "# print\n",
    "\n",
    "# coercing zipcodes to numeric, and np.nan if error is raised\n",
    "idf[\"Zip_Code\"] = pd.to_numeric(idf[\"Zip_Code\"], errors='coerce')\n",
    "idf.fillna(np.nan)\n",
    "\n",
    "# Dropping NAs. Also, I want zip_code values to be dtype 'int', not 'float'. \n",
    "idf['Zip_Code'].dropna().astype(int)\n",
    "# print \"After removal of invalid zipcodes: \"\n",
    "# print\n",
    "# print idf[\"Zip_Code\"].nunique()\n",
    "# print idf[\"Zip_Code\"].nunique(dropna=False)\n",
    "# print \"# Rows, Columns: \" +str(idf.shape)"
   ]
  },
  {
   "cell_type": "code",
   "execution_count": null,
   "metadata": {
    "collapsed": false
   },
   "outputs": [],
   "source": [
    "#yr15_start = datetime.datetime(2015, 1, 1)\n",
    "\n",
    "for date in idf['Date']:\n",
    "    date = idf['Date'].dt.to_pydatetime()\n",
    "    #idf[\"Days_from_yr_start\"] = date - yr15_start\n",
    "    \n",
    "#idf['Days_from_yr_start'] = ((idf['Days_from_yr_start'])/ np.timedelta64(1, 'D')).astype(int)"
   ]
  },
  {
   "cell_type": "code",
   "execution_count": null,
   "metadata": {
    "collapsed": false
   },
   "outputs": [],
   "source": [
    "### Now I will divide my datasets:\n",
    "\n",
    "## All sales, all variables, 2015 - 2016\n",
    "## ====>>idf\n",
    "\n",
    "## All sales 2015\n",
    "idf_2015 = idf[(idf['Date'].dt.year == 2015)]\n",
    "\n",
    "## All sales 2015_Q1\n",
    "yr15_Q1_end = datetime.date(2015, 3, 31)\n",
    "idf_2015_Q1 = idf[(idf['Date'].dt.date <= yr15_Q1_end)]\n",
    "\n",
    "## All sales 2016_Q1\n",
    "idf_2016_Q1 = idf[(idf['Date'].dt.year == 2016)]\n",
    "\n",
    "\n",
    "#Total sales by county up to now\n",
    "total_sales_county = pd.pivot_table(idf, values= 'Sale_Dollars', index=['County'], aggfunc=np.sum)\n",
    "total_sales_county = total_sales_county.reset_index()\n",
    "total_sales_county = total_sales_county.groupby('County')['Sale_Dollars'].agg(np.sum)\n",
    "total_sales_county = total_sales_county.reset_index()\n",
    "\n",
    "total_sales_county.sort_values('Sale_Dollars')"
   ]
  },
  {
   "cell_type": "code",
   "execution_count": null,
   "metadata": {
    "collapsed": false
   },
   "outputs": [],
   "source": [
    "##Checking for seasonality\n",
    "\n",
    "#2015\n",
    "#Looking at total sales amount per county for each transaction date in 2015\n",
    "total_2015_sales_date = pd.pivot_table(idf_2015, values= 'Sale_Dollars', index=['Date'], aggfunc=np.sum)\n",
    "total_2015_sales_date = total_2015_sales_date.reset_index()\n",
    "total_2015_sales_date = total_2015_sales_date.groupby('Date')['Sale_Dollars'].agg(np.sum)\n",
    "total_2015_sales_date = total_2015_sales_date.reset_index()\n",
    "\n",
    "# #time series graph to check for seasonality\n",
    "total_2015_sales_date.plot(x='Date', y='Sale_Dollars',label='total_2015_sales') \n",
    "\n",
    "#2015\n",
    "#Looking at total sales amount per county for each transaction date in 2015\n",
    "total_2015_sales_county = pd.pivot_table(idf_2015, values= 'Sale_Dollars', index=['County'], aggfunc=np.sum)\n",
    "total_2015_sales_county = total_2015_sales_county.reset_index()\n",
    "total_2015_sales_county = total_2015_sales_county.groupby('County')['Sale_Dollars'].agg(np.sum)\n",
    "total_2015_sales_county = total_2015_sales_county.reset_index()\n",
    "\n",
    "print total_2015_sales_county.sort_values('Sale_Dollars')\n",
    "\n",
    "# #time series graph to check for seasonality\n",
    "total_2015_sales_county.plot(x='County', y='Sale_Dollars',label='total_2015_sales', kind='bar')\n",
    "\n",
    "#2015\n",
    "#Looking at total sales amount per county for each transaction date in 2015\n",
    "total_2015_sales_category = pd.pivot_table(idf_2015, values= 'Sale_Dollars', index=['Category_Name'], aggfunc=np.sum)\n",
    "total_2015_sales_category = total_2015_sales_category.reset_index()\n",
    "total_2015_sales_category = total_2015_sales_category.groupby('Category_Name')['Sale_Dollars'].agg(np.sum)\n",
    "total_2015_sales_category = total_2015_sales_category.reset_index()\n",
    "\n",
    "print total_2015_sales_category.sort_values('Sale_Dollars')\n",
    "\n",
    "# #time series graph to check for seasonality\n",
    "total_2015_sales_category.plot(x='Category_Name', y='Sale_Dollars',label='total_2015_sales', kind='bar')"
   ]
  },
  {
   "cell_type": "code",
   "execution_count": null,
   "metadata": {
    "collapsed": false
   },
   "outputs": [],
   "source": [
    "#Checking growth of sales 2015\n",
    "\n",
    "cumula_2015_sales = total_2015_sales_date['Sale_Dollars'].cumsum()\n",
    "cumula_2015_sales.plot(x='Date', y='Sale_Dollars',label='cumula_2015_sales')"
   ]
  },
  {
   "cell_type": "code",
   "execution_count": null,
   "metadata": {
    "collapsed": false
   },
   "outputs": [],
   "source": [
    "##Checking for seasonality\n",
    "\n",
    "#2015, Q1\n",
    "#Looking at total sales amount for each transaction date in 2015, QUARTER 1\n",
    "total_2015Q1_sales_date = pd.pivot_table(idf_2015_Q1, values= 'Sale_Dollars', index=['Date'], aggfunc=np.sum)\n",
    "total_2015Q1_sales_date = total_2015Q1_sales_date.reset_index()\n",
    "total_2015Q1_sales_date = total_2015Q1_sales_date.groupby('Date')['Sale_Dollars'].agg(np.sum)\n",
    "total_2015Q1_sales_date = total_2015Q1_sales_date.reset_index()\n",
    "\n",
    "# #time series graph to check for seasonality\n",
    "total_2015Q1_sales_date.plot(x='Date', y='Sale_Dollars',label='total_2015_Q1_sales') \n",
    "\n",
    "\n",
    "#Looking at total sales amount per county for each transaction date in 2015, QUARTER 1\n",
    "total_2015Q1_sales_county = pd.pivot_table(idf_2015_Q1, values= 'Sale_Dollars', index=['County'], aggfunc=np.sum)\n",
    "total_2015Q1_sales_county = total_2015Q1_sales_county.reset_index()\n",
    "total_2015Q1_sales_county = total_2015Q1_sales_county.groupby('County')['Sale_Dollars'].agg(np.sum)\n",
    "total_2015Q1_sales_county = total_2015Q1_sales_county.reset_index()\n",
    "\n",
    "print total_2015Q1_sales_county.sort_values('Sale_Dollars')\n",
    "\n",
    "# #time series graph to check for seasonality\n",
    "total_2015Q1_sales_county.plot(x='County', y='Sale_Dollars',label='total_2015_Q1_sales', kind='bar')\n",
    "\n",
    "#2015\n",
    "#Looking at total sales amount per county for each transaction date in 2015\n",
    "total_2015Q1_sales_category = pd.pivot_table(idf_2015_Q1, values= 'Sale_Dollars', index=['Category_Name'], aggfunc=np.sum)\n",
    "total_2015Q1_sales_category = total_2015Q1_sales_category.reset_index()\n",
    "total_2015Q1_sales_category = total_2015Q1_sales_category.groupby('Category_Name')['Sale_Dollars'].agg(np.sum)\n",
    "total_2015Q1_sales_category = total_2015Q1_sales_category.reset_index()\n",
    "\n",
    "print total_2015Q1_sales_category.sort_values('Sale_Dollars')\n",
    "\n",
    "# #time series graph to check for seasonality\n",
    "total_2015Q1_sales_category.plot(x='Category_Name', y='Sale_Dollars',label='total_2015_Q1_sales', kind='bar')\n",
    "\n"
   ]
  },
  {
   "cell_type": "code",
   "execution_count": null,
   "metadata": {
    "collapsed": false
   },
   "outputs": [],
   "source": [
    "#Checking growth of sales 2015, Q1\n",
    "\n",
    "cumula_2015_Q1_sales = total_2015Q1_sales_date['Sale_Dollars'].cumsum()\n",
    "cumula_2015_Q1_sales.plot(x='Date', y='Sale_Dollars',label='cumula_2015_Q1_sales')"
   ]
  },
  {
   "cell_type": "code",
   "execution_count": null,
   "metadata": {
    "collapsed": false,
    "scrolled": true
   },
   "outputs": [],
   "source": [
    "##Checking for seasonality\n",
    "\n",
    "#2016, Q1\n",
    "#Looking at total sales amount for each transaction date in 2016, QUARTER 1\n",
    "total_2016Q1_sales_date = pd.pivot_table(idf_2016_Q1, values= 'Sale_Dollars', index=['Date'], aggfunc=np.sum)\n",
    "total_2016Q1_sales_date = total_2016Q1_sales_date.reset_index()\n",
    "total_2016Q1_sales_date = total_2016Q1_sales_date.groupby('Date')['Sale_Dollars'].agg(np.sum)\n",
    "total_2016Q1_sales_date = total_2016Q1_sales_date.reset_index()\n",
    "\n",
    "# #time series graph to check for seasonality\n",
    "total_2016Q1_sales_date.plot(x='Date', y='Sale_Dollars',label='total_2016_Q1_sales') \n",
    "\n",
    "\n",
    "#Looking at total sales amount per county for each transaction date in 2015, QUARTER 1\n",
    "total_2016Q1_sales_county = pd.pivot_table(idf_2016_Q1, values= 'Sale_Dollars', index=['County'], aggfunc=np.sum)\n",
    "total_2016Q1_sales_county = total_2016Q1_sales_county.reset_index()\n",
    "total_2016Q1_sales_county = total_2016Q1_sales_county.groupby('County')['Sale_Dollars'].agg(np.sum)\n",
    "total_2016Q1_sales_county = total_2016Q1_sales_county.reset_index()\n",
    "\n",
    "print total_2016Q1_sales_county.sort_values('Sale_Dollars')\n",
    "\n",
    "# #bar graph\n",
    "total_2016Q1_sales_county.plot(x='County', y='Sale_Dollars',label='total_2016_Q1_sales', kind='bar')\n",
    "\n",
    "#2015\n",
    "#Looking at total sales amount per category for each transaction date in 2015\n",
    "total_2016Q1_sales_category = pd.pivot_table(idf_2016_Q1, values= 'Sale_Dollars', index=['Category_Name'], aggfunc=np.sum)\n",
    "total_2016Q1_sales_category = total_2016Q1_sales_category.reset_index()\n",
    "total_2016Q1_sales_category = total_2016Q1_sales_category.groupby('Category_Name')['Sale_Dollars'].agg(np.sum)\n",
    "total_2016Q1_sales_category = total_2016Q1_sales_category.reset_index()\n",
    "\n",
    "print total_2016Q1_sales_category.sort_values('Sale_Dollars')\n",
    "\n",
    "# #bar graph\n",
    "total_2016Q1_sales_category.plot(x='Category_Name', y='Sale_Dollars',label='total_2016_Q1_sales', kind='bar')\n",
    "\n",
    "\n"
   ]
  },
  {
   "cell_type": "code",
   "execution_count": null,
   "metadata": {
    "collapsed": false
   },
   "outputs": [],
   "source": [
    "#Checking growth of sales 2016, Q1\n",
    "\n",
    "cumula_2016_Q1_sales = total_2016Q1_sales_date['Sale_Dollars'].cumsum()\n",
    "cumula_2016_Q1_sales.plot(x='Date', y='Sale_Dollars',label='cumula_2016_Q1_sales')"
   ]
  },
  {
   "cell_type": "code",
   "execution_count": null,
   "metadata": {
    "collapsed": false
   },
   "outputs": [],
   "source": [
    "#Looking at Boxplots of total sales for each store for 2015 and 2016\n",
    "\n",
    "def my_pivot(df, index, values, aggfunc, plt=False):\n",
    "    piv = pd.pivot_table(df, index=index, values=values, aggfunc=aggfunc)\n",
    "    #piv.sort_values(by = ['week'], inplace=True)\n",
    "    #print piv\n",
    "    if plt: piv.plot(title= 'Average Current Liquor Sales by County',kind='hist', figsize=(16,8),bins=40)\n",
    "\n",
    "my_pivot(idf, index=[\"County\"], values=['Sale_Dollars'], aggfunc=np.mean, plt=True)"
   ]
  },
  {
   "cell_type": "code",
   "execution_count": null,
   "metadata": {
    "collapsed": false
   },
   "outputs": [],
   "source": [
    "import pandas as pd\n",
    "from sklearn import linear_model\n",
    "\n",
    "from sklearn.cross_validation import cross_val_score\n",
    "from sklearn.cross_validation import cross_val_predict\n",
    "from sklearn.metrics import r2_score\n",
    "from sklearn.metrics import mean_squared_error\n",
    "import statsmodels as sm\n",
    "\n",
    "\n",
    "from IPython.core.display import Image, HTML\n",
    "\n",
    "import matplotlib.pyplot as plt\n",
    "%matplotlib inline"
   ]
  },
  {
   "cell_type": "code",
   "execution_count": null,
   "metadata": {
    "collapsed": false
   },
   "outputs": [],
   "source": [
    "#features for model: county, category, date\n",
    "\n",
    "lm = linear_model.LinearRegression()"
   ]
  },
  {
   "cell_type": "code",
   "execution_count": null,
   "metadata": {
    "collapsed": false
   },
   "outputs": [],
   "source": [
    "\n",
    "\n",
    "X1 = idf_2015[['Days_from_yr_start', 'State_Bottle_Retail']]\n",
    "Y1 = idf_2015['Sale_Dollars']\n",
    "\n",
    "model_1_reg = lm.fit(X1, Y1)\n",
    "predictions_model_1 = model_1_reg.predict(X1)\n",
    "\n",
    "#Plot the model\n",
    "plt.scatter(predictions_model_1, Y1, s=30, c='r', marker='+', zorder=10)\n",
    "plt.scatter(predictions_model_1, Y1, s=30, c='r', marker='+', zorder=10)\n",
    "plt.xlabel(\"Predicted Values\")\n",
    "plt.ylabel(\"Actual Sales\")\n",
    "plt.axis([2500, 6000, 2500, 6000])\n",
    "plt.show()\n",
    "print \"MSE:\", mean_squared_error(Y1, predictions_model_1)"
   ]
  },
  {
   "cell_type": "code",
   "execution_count": null,
   "metadata": {
    "collapsed": false
   },
   "outputs": [],
   "source": [
    "import pandas as pd\n",
    "from sklearn import datasets\n",
    "from sklearn import linear_model\n",
    "from sklearn.cross_validation import cross_val_score\n",
    "from sklearn.cross_validation import cross_val_predict\n",
    "from sklearn.metrics import r2_score\n",
    "import matplotlib.pyplot as plt\n",
    "\n",
    "%matplotlib inline\n",
    "\n",
    "lr_r2 =  r2_score(y_true=y, y_pred=model.predict(X))\n",
    "lr_r2"
   ]
  },
  {
   "cell_type": "code",
   "execution_count": null,
   "metadata": {
    "collapsed": false
   },
   "outputs": [],
   "source": [
    "print len(model.coef_)\n",
    "model.coef_"
   ]
  },
  {
   "cell_type": "code",
   "execution_count": null,
   "metadata": {
    "collapsed": false
   },
   "outputs": [],
   "source": [
    "print abs(model.coef_).mean()\n",
    "print model.coef_.max()\n"
   ]
  },
  {
   "cell_type": "code",
   "execution_count": null,
   "metadata": {
    "collapsed": false
   },
   "outputs": [],
   "source": [
    "lasso = linear_model.Lasso(alpha=1)\n",
    "\n"
   ]
  },
  {
   "cell_type": "code",
   "execution_count": null,
   "metadata": {
    "collapsed": false
   },
   "outputs": [],
   "source": [
    "lasso_model = lasso.fit(X, y)\n",
    "\n",
    "model = lm.fit(X, y)\n",
    "predictions = model.predict(X)\n",
    "\n",
    "# Plot the model\n",
    "plt.scatter(predictions, y, s=30, c='r', marker='+', zorder=10)\n",
    "plt.xlabel(\"Predicted Values\")\n",
    "plt.ylabel(\"Actual Price\")\n",
    "plt.show()\n",
    "print \"MSE:\", mean_squared_error(y, predictions)\n",
    "\n",
    "lr_r2 =  r2_score(y_true=y, y_pred=model.predict(X))\n",
    "lr_r2"
   ]
  },
  {
   "cell_type": "code",
   "execution_count": null,
   "metadata": {
    "collapsed": false
   },
   "outputs": [],
   "source": [
    "print len(model.coef_)\n",
    "model.coef_"
   ]
  },
  {
   "cell_type": "code",
   "execution_count": null,
   "metadata": {
    "collapsed": false
   },
   "outputs": [],
   "source": [
    "print abs(model.coef_).mean()\n",
    "print model.coef_.max()\n"
   ]
  },
  {
   "cell_type": "code",
   "execution_count": null,
   "metadata": {
    "collapsed": true
   },
   "outputs": [],
   "source": [
    "cvp_model_preds = cross_val_predict(model, X, y, cv=4)\n",
    "cvp_model_preds.shape"
   ]
  },
  {
   "cell_type": "code",
   "execution_count": null,
   "metadata": {
    "collapsed": false
   },
   "outputs": [],
   "source": [
    "from sklearn.cross_validation import train_test_split\n",
    "\n",
    "\n",
    "\n",
    "dy = county_2015_avg['Sale_Dollars']\n",
    "\n",
    "X_train, X_test, y_train, y_test = \\\n",
    "train_test_split(county_2015_avg, dy, test_size=0.25)\n",
    "\n",
    "print \"       X Shape  Y Shape\"\n",
    "print \"Train\", X_train.shape, y_train.shape\n",
    "print \"Test \", X_test.shape, y_test.shape"
   ]
  },
  {
   "cell_type": "code",
   "execution_count": null,
   "metadata": {
    "collapsed": false
   },
   "outputs": [],
   "source": [
    "model2 = lm.fit(X_train, y_train)\n",
    "predictions = lm.predict(X_test)\n",
    "\n",
    "## The line / model\n",
    "plt.scatter(y_test, predictions)\n",
    "plt.xlabel(\"True Values\")\n",
    "plt.ylabel(\"Predictions\")\n",
    "\n",
    "print \"Score:\", model2.score(X_test, y_test) "
   ]
  },
  {
   "cell_type": "code",
   "execution_count": null,
   "metadata": {
    "collapsed": false
   },
   "outputs": [],
   "source": [
    "# Perform 4-fold cross validation\n",
    "scores = cross_val_score(model2, county_2015_avg, dy, cv=4)\n",
    "print \"Cross-validated scores:\", scores\n",
    "\n",
    "# Make cross validated predictions\n",
    "predictions = cross_val_predict(model, county_2015_avg, dy, cv=4)\n",
    "plt.scatter(dy, predictions)\n",
    "r2_s = r2_score(dy, predictions)\n",
    "print \"Cross-Predicted R^2:\", r2_s"
   ]
  },
  {
   "cell_type": "code",
   "execution_count": null,
   "metadata": {
    "collapsed": true
   },
   "outputs": [],
   "source": [
    "\n",
    "# grps=idf_2015.groupby(['County'])\n",
    "# for county, grp in grps:\n",
    "#     sm.OLS(y=grp.loc[:, 'MEAN'], x=grp.loc[:, ['Date', 'Bottles_Sold']])\n",
    "\n",
    "# model = sm.OLS(Y,X)\n",
    "# results = model.fit()\n",
    "# results.params\n",
    "\n",
    "\n",
    "# model2 = sm.OLS(Y,X)\n",
    "\n",
    "\n",
    "\n",
    "# grps=idf_2015.groupby(['County'])\n",
    "# for county, grp in grps:\n",
    "#     sm.OLS(y=grp.loc[:, 'MEAN'], x=grp.loc[:, ['Date', 'Bottles_Sold']])\n",
    "\n",
    "#     grps=df.groupby(['FID'])\n",
    "# for fid, grp in grps:\n",
    "#     sm.OLS(y=grp.loc[:, 'MEAN'], x=grp.loc[:, ['Accum_Prcp', 'Accum_HDD']])\n",
    "    \n",
    "#based on scatterplot matrices, I will make a model for counties.\n",
    "__________\n",
    "\n",
    "#total_2015_sales = pd.pivot_table(idf_2015, values= 'Sale_Dollars', index=['Date', 'County'], aggfunc=np.sum)\n",
    "#total_2015_sales = total_2015_sales.reset_index()\n",
    "#total_2015_sales = total_2015_sales.groupby('Date')['Sale_Dollars'].agg(np.sum)\n",
    "#total_2015_sales = total_2015_sales.reset_index()\n",
    "# X1 = total_2015_sales['Date'] \n",
    "# Y1 = total_2015_sales['Sale_Dollars']\n",
    "\n",
    "\n",
    "\n",
    "            \n",
    "            # # model_1['Date'].dtype\n",
    "# X = []\n",
    "\n",
    "# for date in model_1['Date']:\n",
    "#     X.append(date)\n",
    "#     #X.append(date.toordinal())\n",
    "#     for timestamp in X:\n",
    "#         actual_date = datetime.datetime.strptime(str(timestamp), \"%Y-%m-%d %H:%M:%S\")\n",
    "#         model_1['Days_from_year_start'] = (actual_date - yr15_start)\n",
    "    #date = datetime.date.fromtimestamp(timestamp)\n",
    "#     model_1['Days_from_year_start'] = (ordinal_date - yr15_start)\n",
    "# print model_1\n",
    "#     #X.append(date.toordinal())\n",
    "# print model_1['Date'].dtype\n",
    "\n",
    "# yr15_start = datetime.date(2015, 1, 1)\n",
    "# >>> diff = someday - today\n",
    "# >>> diff.days\n",
    "\n",
    "# X1 = model_1['Date'].reshape(221,1)\n",
    "# Y1 = model_1['Sale_Dollars']\n",
    "\n",
    "# for date in X1:\n",
    "#     #X.append(date)\n",
    "#     X.append(date.toordinal())\n",
    "#     for timestamp in X:\n",
    "# #         actual_date = datetime.datetime.strptime(int(timestamp), \"%Y-%m-%d %H:%M:%S\")\n",
    "# #         model_1['Days_from_year_start'] = (actual_date - yr15_start)\n",
    "# #         print repr(actual_date)\n",
    "# #     #date = datetime.date.fromtimestamp(timestamp)\n",
    "# # #     model\n",
    "\n",
    "__________\n",
    "\n",
    "#          X1 = model_1['Days_from_yr_start']\n",
    "# .reshape(221,1)\n",
    "\n",
    "#          Y1 = model_1['Sale_Dollars']\n",
    "    # X = pd.DataFrame(X, )\n",
    "# X['County'] = idf_2015[[\"Dates\",'County']]\n",
    "# X.columns = ['Date', 'County']\n",
    "\n",
    "# y = county_2015_avg[\"Sale_Dollars\"]\n",
    "# print X1.shape\n",
    "# print Y1.shape\n",
    "#          model_1_reg = lm.fit(X1, Y1)\n",
    "\n",
    "# predictions_lr1 = model_1_reg.predict(X1)\n",
    "\n",
    "# Plot the model\n",
    "#plt.scatter(predictions_lr1, Y1, s=30, c='r', marker='+', zorder=10)\n",
    "#plt.scatter(predictions_lr1, Y1, s=30, c='r', marker='+', zorder=10)\n",
    "# plt.xlabel(\"Predicted Values\")\n",
    "# plt.ylabel(\"Actual Price\")\n",
    "# plt.show()\n",
    "# print \"MSE:\", mean_squared_error(y, predictions)\n",
    "\n",
    "\n",
    "\n",
    "# model_111 = model_1['Days_from_yr_start'] + model_1['Sale_Dollars']\n",
    "\n",
    "# merge(left, right, how='inner', on=None, left_on=None, right_on=None,\n",
    "#       left_index=False, right_index=False, sort=True,\n",
    "#       suffixes=('_x', '_y'), copy=True, indicator=False)\n",
    "\n",
    "# result = pd.merge(model_1['Days_from_yr_start'], model_1['Sale_Dollars'], how='left', on=['key1', 'key2'])\n",
    "\n",
    "# print result\n",
    "    # #print model_1\n",
    "    # X1_vals = (model_1['Days_from_yr_start']/np.timedelta64(1, \"D\")).astype(int).reshape(7502,)\n",
    "    # Y1_vals = model_1['Sale_Dollars'].reshape(7502,)\n",
    "\n",
    "    # X1 = pd.Series(X1_vals)\n",
    "    # Y1 = pd.Series(Y1_vals)\n",
    "\n",
    "    # # print X1.shape\n",
    "    # # print Y1.shape\n",
    "    # # print X1\n",
    "    # # print Y1"
   ]
  }
 ],
 "metadata": {
  "kernelspec": {
   "display_name": "Python 2",
   "language": "python",
   "name": "python2"
  },
  "language_info": {
   "codemirror_mode": {
    "name": "ipython",
    "version": 2
   },
   "file_extension": ".py",
   "mimetype": "text/x-python",
   "name": "python",
   "nbconvert_exporter": "python",
   "pygments_lexer": "ipython2",
   "version": "2.7.12"
  }
 },
 "nbformat": 4,
 "nbformat_minor": 0
}
