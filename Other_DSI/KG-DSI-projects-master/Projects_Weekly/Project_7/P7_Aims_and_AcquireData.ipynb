{
 "cells": [
  {
   "cell_type": "markdown",
   "metadata": {
    "focus": true,
    "id": "d21ca30e-294e-4146-8e4f-a5c331f7a36e"
   },
   "source": [
    "# Project 7 \n",
    "\n",
    "In this project, I will implement PCA and K-means clustering techniques in order to determine patterns in airplane delays. \n",
    "\n",
    "#### Step 1: Load the python libraries needed for this project "
   ]
  },
  {
   "cell_type": "code",
   "execution_count": 70,
   "metadata": {
    "collapsed": true,
    "focus": false,
    "id": "78c3bb3f-f513-437b-94f8-bc363b6e7a8b"
   },
   "outputs": [],
   "source": [
    "import pandas as pd \n",
    "from matplotlib import pyplot as plt\n",
    "import math\n",
    "from sklearn.preprocessing import StandardScaler\n",
    "from sklearn.decomposition import PCA \n",
    "from sklearn import metrics\n",
    "import numpy as np\n",
    "import sklearn\n",
    "import psycopg2 as psy\n",
    "from sqlalchemy import create_engine\n",
    "from sqlalchemy.engine.url import URL\n",
    "from pandas import DataFrame\n",
    "import seaborn as sns\n",
    "from sklearn.cluster import KMeans\n",
    "\n",
    "%matplotlib inline"
   ]
  },
  {
   "cell_type": "markdown",
   "metadata": {
    "focus": false,
    "id": "2c6f52ae-e694-463c-87d8-1974726c2e7a"
   },
   "source": [
    "#### Step 2: Examine data "
   ]
  },
  {
   "cell_type": "code",
   "execution_count": 71,
   "metadata": {
    "collapsed": false,
    "scrolled": true
   },
   "outputs": [],
   "source": [
    "PATH = '/Users/cguy/Downloads'\n",
    "df = pd.read_csv(PATH + '/airports.csv')\n",
    "df2 = pd.read_csv(PATH + '/Airport_operations.csv')\n",
    "df3 = pd.read_csv(PATH + '/airport_cancellations.csv')"
   ]
  },
  {
   "cell_type": "code",
   "execution_count": 72,
   "metadata": {
    "collapsed": false
   },
   "outputs": [
    {
     "name": "stdout",
     "output_type": "stream",
     "text": [
      "Index([u'Key', u'LocID', u'AP_NAME', u'ALIAS', u'Facility Type', u'FAA REGION',\n",
      "       u'COUNTY', u'CITY', u'STATE', u'AP Type', u'Latitude', u'Longitude',\n",
      "       u'Boundary Data Available'],\n",
      "      dtype='object')\n",
      "Index([u'airport', u'year', u'departures for metric computation',\n",
      "       u'arrivals for metric computation', u'percent on-time gate departures',\n",
      "       u'percent on-time airport departures', u'percent on-time gate arrivals',\n",
      "       u'average_gate_departure_delay', u'average_taxi_out_time',\n",
      "       u'average taxi out delay', u'average airport departure delay',\n",
      "       u'average airborne delay', u'average taxi in delay',\n",
      "       u'average block delay', u'average gate arrival delay'],\n",
      "      dtype='object')\n",
      "Index([u'Airport', u'Year', u'Departure Cancellations',\n",
      "       u'Arrival Cancellations', u'Departure Diversions',\n",
      "       u'Arrival Diversions'],\n",
      "      dtype='object')\n"
     ]
    }
   ],
   "source": [
    "print df.columns\n",
    "print df2.columns\n",
    "print df3.columns\n"
   ]
  },
  {
   "cell_type": "code",
   "execution_count": 75,
   "metadata": {
    "collapsed": false
   },
   "outputs": [
    {
     "data": {
      "text/html": [
       "<div>\n",
       "<table border=\"1\" class=\"dataframe\">\n",
       "  <thead>\n",
       "    <tr style=\"text-align: right;\">\n",
       "      <th></th>\n",
       "      <th>key</th>\n",
       "      <th>locid</th>\n",
       "      <th>ap_name</th>\n",
       "      <th>alias</th>\n",
       "      <th>facility_type</th>\n",
       "      <th>faa_region</th>\n",
       "      <th>county</th>\n",
       "      <th>city</th>\n",
       "      <th>state</th>\n",
       "      <th>ap_type</th>\n",
       "      <th>latitude</th>\n",
       "      <th>longitude</th>\n",
       "      <th>boundary_data_available</th>\n",
       "    </tr>\n",
       "  </thead>\n",
       "  <tbody>\n",
       "    <tr>\n",
       "      <th>0</th>\n",
       "      <td>3443.0</td>\n",
       "      <td>STX</td>\n",
       "      <td>HENRY E ROHLSEN</td>\n",
       "      <td>Henry E Rohlsen Int'l Airport</td>\n",
       "      <td>Airport</td>\n",
       "      <td>ASO</td>\n",
       "      <td>-VIRGIN ISLANDS-</td>\n",
       "      <td>CHRISTIANSTED</td>\n",
       "      <td>VI</td>\n",
       "      <td>Public Use</td>\n",
       "      <td>17.701556</td>\n",
       "      <td>-64.801722</td>\n",
       "      <td>Yes</td>\n",
       "    </tr>\n",
       "    <tr>\n",
       "      <th>1</th>\n",
       "      <td>5088.0</td>\n",
       "      <td>X64</td>\n",
       "      <td>PATILLAS</td>\n",
       "      <td>NaN</td>\n",
       "      <td>Airport</td>\n",
       "      <td>ASO</td>\n",
       "      <td>#NAME?</td>\n",
       "      <td>PATILLAS</td>\n",
       "      <td>PR</td>\n",
       "      <td>Public Use</td>\n",
       "      <td>17.982189</td>\n",
       "      <td>-66.019330</td>\n",
       "      <td>No</td>\n",
       "    </tr>\n",
       "    <tr>\n",
       "      <th>2</th>\n",
       "      <td>2886.0</td>\n",
       "      <td>PSE</td>\n",
       "      <td>MERCEDITA</td>\n",
       "      <td>Aeropuerto Mercedita</td>\n",
       "      <td>Airport</td>\n",
       "      <td>ASO</td>\n",
       "      <td>#NAME?</td>\n",
       "      <td>PONCE</td>\n",
       "      <td>PR</td>\n",
       "      <td>Public Use</td>\n",
       "      <td>18.008306</td>\n",
       "      <td>-66.563028</td>\n",
       "      <td>Yes</td>\n",
       "    </tr>\n",
       "    <tr>\n",
       "      <th>3</th>\n",
       "      <td>2879.0</td>\n",
       "      <td>VQS</td>\n",
       "      <td>ANTONIO RIVERA RODRIGUEZ</td>\n",
       "      <td>Aeropuerto Antonio Rivera Rodr�guez</td>\n",
       "      <td>Airport</td>\n",
       "      <td>ASO</td>\n",
       "      <td>#NAME?</td>\n",
       "      <td>ISLA DE VIEQUES</td>\n",
       "      <td>PR</td>\n",
       "      <td>Public Use</td>\n",
       "      <td>18.134811</td>\n",
       "      <td>-65.493617</td>\n",
       "      <td>Yes</td>\n",
       "    </tr>\n",
       "    <tr>\n",
       "      <th>4</th>\n",
       "      <td>2883.0</td>\n",
       "      <td>X63</td>\n",
       "      <td>HUMACAO</td>\n",
       "      <td>Aeropuerto Regional De Humacao</td>\n",
       "      <td>Airport</td>\n",
       "      <td>ASO</td>\n",
       "      <td>#NAME?</td>\n",
       "      <td>HUMACAO</td>\n",
       "      <td>PR</td>\n",
       "      <td>Public Use</td>\n",
       "      <td>18.138017</td>\n",
       "      <td>-65.800718</td>\n",
       "      <td>Yes</td>\n",
       "    </tr>\n",
       "  </tbody>\n",
       "</table>\n",
       "</div>"
      ],
      "text/plain": [
       "      key locid                   ap_name  \\\n",
       "0  3443.0   STX           HENRY E ROHLSEN   \n",
       "1  5088.0   X64                  PATILLAS   \n",
       "2  2886.0   PSE                 MERCEDITA   \n",
       "3  2879.0   VQS  ANTONIO RIVERA RODRIGUEZ   \n",
       "4  2883.0   X63                   HUMACAO   \n",
       "\n",
       "                                 alias facility_type faa_region  \\\n",
       "0        Henry E Rohlsen Int'l Airport       Airport        ASO   \n",
       "1                                  NaN       Airport        ASO   \n",
       "2                 Aeropuerto Mercedita       Airport        ASO   \n",
       "3  Aeropuerto Antonio Rivera Rodr�guez       Airport        ASO   \n",
       "4       Aeropuerto Regional De Humacao       Airport        ASO   \n",
       "\n",
       "             county             city state     ap_type   latitude  longitude  \\\n",
       "0  -VIRGIN ISLANDS-    CHRISTIANSTED    VI  Public Use  17.701556 -64.801722   \n",
       "1            #NAME?         PATILLAS    PR  Public Use  17.982189 -66.019330   \n",
       "2            #NAME?            PONCE    PR  Public Use  18.008306 -66.563028   \n",
       "3            #NAME?  ISLA DE VIEQUES    PR  Public Use  18.134811 -65.493617   \n",
       "4            #NAME?          HUMACAO    PR  Public Use  18.138017 -65.800718   \n",
       "\n",
       "  boundary_data_available  \n",
       "0                     Yes  \n",
       "1                      No  \n",
       "2                     Yes  \n",
       "3                     Yes  \n",
       "4                     Yes  "
      ]
     },
     "execution_count": 75,
     "metadata": {},
     "output_type": "execute_result"
    }
   ],
   "source": [
    "df.head()"
   ]
  },
  {
   "cell_type": "code",
   "execution_count": 76,
   "metadata": {
    "collapsed": false
   },
   "outputs": [
    {
     "data": {
      "text/html": [
       "<div>\n",
       "<table border=\"1\" class=\"dataframe\">\n",
       "  <thead>\n",
       "    <tr style=\"text-align: right;\">\n",
       "      <th></th>\n",
       "      <th>airport</th>\n",
       "      <th>year</th>\n",
       "      <th>departures_for_metric_computation</th>\n",
       "      <th>arrivals_for_metric_computation</th>\n",
       "      <th>percent_on-time_gate_departures</th>\n",
       "      <th>percent_on-time_airport_departures</th>\n",
       "      <th>percent_on-time_gate_arrivals</th>\n",
       "      <th>average_gate_departure_delay</th>\n",
       "      <th>average_taxi_out_time</th>\n",
       "      <th>average_taxi_out_delay</th>\n",
       "      <th>average_airport_departure_delay</th>\n",
       "      <th>average_airborne_delay</th>\n",
       "      <th>average_taxi_in_delay</th>\n",
       "      <th>average_block_delay</th>\n",
       "      <th>average_gate_arrival_delay</th>\n",
       "    </tr>\n",
       "  </thead>\n",
       "  <tbody>\n",
       "    <tr>\n",
       "      <th>0</th>\n",
       "      <td>ABQ</td>\n",
       "      <td>2004</td>\n",
       "      <td>53971</td>\n",
       "      <td>53818</td>\n",
       "      <td>0.8030</td>\n",
       "      <td>0.7809</td>\n",
       "      <td>0.7921</td>\n",
       "      <td>10.38</td>\n",
       "      <td>9.89</td>\n",
       "      <td>2.43</td>\n",
       "      <td>12.10</td>\n",
       "      <td>2.46</td>\n",
       "      <td>0.83</td>\n",
       "      <td>2.55</td>\n",
       "      <td>10.87</td>\n",
       "    </tr>\n",
       "    <tr>\n",
       "      <th>1</th>\n",
       "      <td>ABQ</td>\n",
       "      <td>2005</td>\n",
       "      <td>51829</td>\n",
       "      <td>51877</td>\n",
       "      <td>0.8140</td>\n",
       "      <td>0.7922</td>\n",
       "      <td>0.8001</td>\n",
       "      <td>9.60</td>\n",
       "      <td>9.79</td>\n",
       "      <td>2.29</td>\n",
       "      <td>11.20</td>\n",
       "      <td>2.26</td>\n",
       "      <td>0.89</td>\n",
       "      <td>2.34</td>\n",
       "      <td>10.24</td>\n",
       "    </tr>\n",
       "    <tr>\n",
       "      <th>2</th>\n",
       "      <td>ABQ</td>\n",
       "      <td>2006</td>\n",
       "      <td>49682</td>\n",
       "      <td>51199</td>\n",
       "      <td>0.7983</td>\n",
       "      <td>0.7756</td>\n",
       "      <td>0.7746</td>\n",
       "      <td>10.84</td>\n",
       "      <td>9.89</td>\n",
       "      <td>2.16</td>\n",
       "      <td>12.33</td>\n",
       "      <td>2.12</td>\n",
       "      <td>0.84</td>\n",
       "      <td>2.66</td>\n",
       "      <td>11.82</td>\n",
       "    </tr>\n",
       "    <tr>\n",
       "      <th>3</th>\n",
       "      <td>ABQ</td>\n",
       "      <td>2007</td>\n",
       "      <td>53255</td>\n",
       "      <td>53611</td>\n",
       "      <td>0.8005</td>\n",
       "      <td>0.7704</td>\n",
       "      <td>0.7647</td>\n",
       "      <td>11.29</td>\n",
       "      <td>10.34</td>\n",
       "      <td>2.40</td>\n",
       "      <td>12.95</td>\n",
       "      <td>2.19</td>\n",
       "      <td>1.29</td>\n",
       "      <td>3.06</td>\n",
       "      <td>12.71</td>\n",
       "    </tr>\n",
       "    <tr>\n",
       "      <th>4</th>\n",
       "      <td>ABQ</td>\n",
       "      <td>2008</td>\n",
       "      <td>49589</td>\n",
       "      <td>49512</td>\n",
       "      <td>0.8103</td>\n",
       "      <td>0.7844</td>\n",
       "      <td>0.7875</td>\n",
       "      <td>10.79</td>\n",
       "      <td>10.41</td>\n",
       "      <td>2.41</td>\n",
       "      <td>12.32</td>\n",
       "      <td>1.82</td>\n",
       "      <td>1.03</td>\n",
       "      <td>2.79</td>\n",
       "      <td>11.48</td>\n",
       "    </tr>\n",
       "  </tbody>\n",
       "</table>\n",
       "</div>"
      ],
      "text/plain": [
       "  airport  year  departures_for_metric_computation  \\\n",
       "0     ABQ  2004                              53971   \n",
       "1     ABQ  2005                              51829   \n",
       "2     ABQ  2006                              49682   \n",
       "3     ABQ  2007                              53255   \n",
       "4     ABQ  2008                              49589   \n",
       "\n",
       "   arrivals_for_metric_computation  percent_on-time_gate_departures  \\\n",
       "0                            53818                           0.8030   \n",
       "1                            51877                           0.8140   \n",
       "2                            51199                           0.7983   \n",
       "3                            53611                           0.8005   \n",
       "4                            49512                           0.8103   \n",
       "\n",
       "   percent_on-time_airport_departures  percent_on-time_gate_arrivals  \\\n",
       "0                              0.7809                         0.7921   \n",
       "1                              0.7922                         0.8001   \n",
       "2                              0.7756                         0.7746   \n",
       "3                              0.7704                         0.7647   \n",
       "4                              0.7844                         0.7875   \n",
       "\n",
       "   average_gate_departure_delay  average_taxi_out_time  \\\n",
       "0                         10.38                   9.89   \n",
       "1                          9.60                   9.79   \n",
       "2                         10.84                   9.89   \n",
       "3                         11.29                  10.34   \n",
       "4                         10.79                  10.41   \n",
       "\n",
       "   average_taxi_out_delay  average_airport_departure_delay  \\\n",
       "0                    2.43                            12.10   \n",
       "1                    2.29                            11.20   \n",
       "2                    2.16                            12.33   \n",
       "3                    2.40                            12.95   \n",
       "4                    2.41                            12.32   \n",
       "\n",
       "   average_airborne_delay  average_taxi_in_delay  average_block_delay  \\\n",
       "0                    2.46                   0.83                 2.55   \n",
       "1                    2.26                   0.89                 2.34   \n",
       "2                    2.12                   0.84                 2.66   \n",
       "3                    2.19                   1.29                 3.06   \n",
       "4                    1.82                   1.03                 2.79   \n",
       "\n",
       "   average_gate_arrival_delay  \n",
       "0                       10.87  \n",
       "1                       10.24  \n",
       "2                       11.82  \n",
       "3                       12.71  \n",
       "4                       11.48  "
      ]
     },
     "execution_count": 76,
     "metadata": {},
     "output_type": "execute_result"
    }
   ],
   "source": [
    "df2.head()"
   ]
  },
  {
   "cell_type": "code",
   "execution_count": 77,
   "metadata": {
    "collapsed": false
   },
   "outputs": [
    {
     "data": {
      "text/html": [
       "<div>\n",
       "<table border=\"1\" class=\"dataframe\">\n",
       "  <thead>\n",
       "    <tr style=\"text-align: right;\">\n",
       "      <th></th>\n",
       "      <th>airport</th>\n",
       "      <th>year</th>\n",
       "      <th>departure_cancellations</th>\n",
       "      <th>arrival_cancellations</th>\n",
       "      <th>departure_diversions</th>\n",
       "      <th>arrival_diversions</th>\n",
       "    </tr>\n",
       "  </thead>\n",
       "  <tbody>\n",
       "    <tr>\n",
       "      <th>0</th>\n",
       "      <td>ABQ</td>\n",
       "      <td>2004.0</td>\n",
       "      <td>242.0</td>\n",
       "      <td>235.0</td>\n",
       "      <td>71.0</td>\n",
       "      <td>46.0</td>\n",
       "    </tr>\n",
       "    <tr>\n",
       "      <th>1</th>\n",
       "      <td>ABQ</td>\n",
       "      <td>2005.0</td>\n",
       "      <td>221.0</td>\n",
       "      <td>190.0</td>\n",
       "      <td>61.0</td>\n",
       "      <td>33.0</td>\n",
       "    </tr>\n",
       "    <tr>\n",
       "      <th>2</th>\n",
       "      <td>ABQ</td>\n",
       "      <td>2006.0</td>\n",
       "      <td>392.0</td>\n",
       "      <td>329.0</td>\n",
       "      <td>71.0</td>\n",
       "      <td>124.0</td>\n",
       "    </tr>\n",
       "    <tr>\n",
       "      <th>3</th>\n",
       "      <td>ABQ</td>\n",
       "      <td>2007.0</td>\n",
       "      <td>366.0</td>\n",
       "      <td>304.0</td>\n",
       "      <td>107.0</td>\n",
       "      <td>45.0</td>\n",
       "    </tr>\n",
       "    <tr>\n",
       "      <th>4</th>\n",
       "      <td>ABQ</td>\n",
       "      <td>2008.0</td>\n",
       "      <td>333.0</td>\n",
       "      <td>300.0</td>\n",
       "      <td>79.0</td>\n",
       "      <td>42.0</td>\n",
       "    </tr>\n",
       "  </tbody>\n",
       "</table>\n",
       "</div>"
      ],
      "text/plain": [
       "  airport    year  departure_cancellations  arrival_cancellations  \\\n",
       "0     ABQ  2004.0                    242.0                  235.0   \n",
       "1     ABQ  2005.0                    221.0                  190.0   \n",
       "2     ABQ  2006.0                    392.0                  329.0   \n",
       "3     ABQ  2007.0                    366.0                  304.0   \n",
       "4     ABQ  2008.0                    333.0                  300.0   \n",
       "\n",
       "   departure_diversions  arrival_diversions  \n",
       "0                  71.0                46.0  \n",
       "1                  61.0                33.0  \n",
       "2                  71.0               124.0  \n",
       "3                 107.0                45.0  \n",
       "4                  79.0                42.0  "
      ]
     },
     "execution_count": 77,
     "metadata": {},
     "output_type": "execute_result"
    }
   ],
   "source": [
    "df3.head()"
   ]
  },
  {
   "cell_type": "markdown",
   "metadata": {
    "focus": false,
    "id": "3690c265-ac0f-484d-ac79-f42da341e4cd"
   },
   "source": [
    "### Problem statement / aim for this project"
   ]
  },
  {
   "cell_type": "markdown",
   "metadata": {},
   "source": [
    "Aims:\n",
    "\n",
    "- Analyze the operations of major airports around the country\n",
    "- Understand the characteristics and groupings of airports based on a dataset of departure and operational delays\n",
    "- Understand the distribution, characteristics, and components of individual airports operations that are leading to these delays\n",
    "- Modeling using principal component analysis\n",
    "- Help FAA to cut down on delays nationwide\n",
    "- Organize and store their data so that they can easily understand it after your consulting work is done\n",
    "\n",
    "Problem Statment:\n",
    "\n",
    "Which airports and operational characteristics should the FAA target to  decrease delays?"
   ]
  },
  {
   "cell_type": "markdown",
   "metadata": {
    "focus": false,
    "id": "a3cccc0e-8531-4dfe-bb23-8c632aa7404e"
   },
   "source": [
    "### Part 1: Create a PostgreSQL database "
   ]
  },
  {
   "cell_type": "markdown",
   "metadata": {
    "focus": false,
    "id": "b51ca850-aa85-43e1-b7cd-627af62f5fe8"
   },
   "source": [
    "#### 1. Create a database to house airport data"
   ]
  },
  {
   "cell_type": "code",
   "execution_count": 78,
   "metadata": {
    "collapsed": false
   },
   "outputs": [
    {
     "name": "stdout",
     "output_type": "stream",
     "text": [
      "Index([u'key', u'locid', u'ap_name', u'alias', u'facility_type', u'faa_region',\n",
      "       u'county', u'city', u'state', u'ap_type', u'latitude', u'longitude',\n",
      "       u'boundary_data_available'],\n",
      "      dtype='object')\n",
      "Index([u'airport', u'year', u'departures_for_metric_computation',\n",
      "       u'arrivals_for_metric_computation', u'percent_on-time_gate_departures',\n",
      "       u'percent_on-time_airport_departures', u'percent_on-time_gate_arrivals',\n",
      "       u'average_gate_departure_delay', u'average_taxi_out_time',\n",
      "       u'average_taxi_out_delay', u'average_airport_departure_delay',\n",
      "       u'average_airborne_delay', u'average_taxi_in_delay',\n",
      "       u'average_block_delay', u'average_gate_arrival_delay'],\n",
      "      dtype='object')\n",
      "Index([u'airport', u'year', u'departure_cancellations',\n",
      "       u'arrival_cancellations', u'departure_diversions',\n",
      "       u'arrival_diversions'],\n",
      "      dtype='object')\n"
     ]
    }
   ],
   "source": [
    "# Cleaning data up to save in postgres database. According to notes, postgres doesn't like capitals or spaces...\n",
    "\n",
    "df.columns = [c.lower().replace(' ','_') for c in df.columns] \n",
    "df2.columns = [c.lower().replace(' ','_') for c in df2.columns]\n",
    "df3.columns = [c.lower().replace(' ','_') for c in df3.columns]\n",
    "\n",
    "print df.columns\n",
    "print df2.columns\n",
    "print df3.columns"
   ]
  },
  {
   "cell_type": "code",
   "execution_count": 9,
   "metadata": {
    "collapsed": true
   },
   "outputs": [],
   "source": [
    "engine = create_engine('postgresql://localhost:5432')"
   ]
  },
  {
   "cell_type": "code",
   "execution_count": 13,
   "metadata": {
    "collapsed": false
   },
   "outputs": [],
   "source": [
    "df.to_sql('airport_info', engine)\n",
    "df2.to_sql('airport_ops', engine)\n",
    "df3.to_sql('airport_cancels', engine)"
   ]
  },
  {
   "cell_type": "code",
   "execution_count": 10,
   "metadata": {
    "collapsed": false
   },
   "outputs": [
    {
     "name": "stderr",
     "output_type": "stream",
     "text": [
      "/Users/cguy/anaconda/lib/python2.7/site-packages/IPython/config.py:13: ShimWarning: The `IPython.config` package has been deprecated. You should import from traitlets.config instead.\n",
      "  \"You should import from traitlets.config instead.\", ShimWarning)\n",
      "/Users/cguy/anaconda/lib/python2.7/site-packages/IPython/utils/traitlets.py:5: UserWarning: IPython.utils.traitlets has moved to a top-level traitlets package.\n",
      "  warn(\"IPython.utils.traitlets has moved to a top-level traitlets package.\")\n"
     ]
    }
   ],
   "source": [
    "# %load_ext sql\n",
    "%reload_ext sql"
   ]
  },
  {
   "cell_type": "code",
   "execution_count": 14,
   "metadata": {
    "collapsed": false
   },
   "outputs": [
    {
     "name": "stdout",
     "output_type": "stream",
     "text": [
      "5 rows affected.\n"
     ]
    },
    {
     "data": {
      "text/html": [
       "<table>\n",
       "    <tr>\n",
       "        <th>index</th>\n",
       "        <th>key</th>\n",
       "        <th>locid</th>\n",
       "        <th>ap_name</th>\n",
       "        <th>alias</th>\n",
       "        <th>facility_type</th>\n",
       "        <th>faa_region</th>\n",
       "        <th>county</th>\n",
       "        <th>city</th>\n",
       "        <th>state</th>\n",
       "        <th>ap_type</th>\n",
       "        <th>latitude</th>\n",
       "        <th>longitude</th>\n",
       "        <th>boundary_data_available</th>\n",
       "    </tr>\n",
       "    <tr>\n",
       "        <td>0</td>\n",
       "        <td>3443.0</td>\n",
       "        <td>STX</td>\n",
       "        <td>HENRY E ROHLSEN</td>\n",
       "        <td>Henry E Rohlsen Int'l Airport</td>\n",
       "        <td>Airport</td>\n",
       "        <td>ASO</td>\n",
       "        <td>-VIRGIN ISLANDS-</td>\n",
       "        <td>CHRISTIANSTED</td>\n",
       "        <td>VI</td>\n",
       "        <td>Public Use</td>\n",
       "        <td>17.701556</td>\n",
       "        <td>-64.801722</td>\n",
       "        <td>Yes</td>\n",
       "    </tr>\n",
       "    <tr>\n",
       "        <td>1</td>\n",
       "        <td>5088.0</td>\n",
       "        <td>X64</td>\n",
       "        <td>PATILLAS</td>\n",
       "        <td>None</td>\n",
       "        <td>Airport</td>\n",
       "        <td>ASO</td>\n",
       "        <td>#NAME?</td>\n",
       "        <td>PATILLAS</td>\n",
       "        <td>PR</td>\n",
       "        <td>Public Use</td>\n",
       "        <td>17.982189</td>\n",
       "        <td>-66.01933</td>\n",
       "        <td>No</td>\n",
       "    </tr>\n",
       "    <tr>\n",
       "        <td>2</td>\n",
       "        <td>2886.0</td>\n",
       "        <td>PSE</td>\n",
       "        <td>MERCEDITA</td>\n",
       "        <td>Aeropuerto Mercedita</td>\n",
       "        <td>Airport</td>\n",
       "        <td>ASO</td>\n",
       "        <td>#NAME?</td>\n",
       "        <td>PONCE</td>\n",
       "        <td>PR</td>\n",
       "        <td>Public Use</td>\n",
       "        <td>18.008306</td>\n",
       "        <td>-66.563028</td>\n",
       "        <td>Yes</td>\n",
       "    </tr>\n",
       "    <tr>\n",
       "        <td>3</td>\n",
       "        <td>2879.0</td>\n",
       "        <td>VQS</td>\n",
       "        <td>ANTONIO RIVERA RODRIGUEZ</td>\n",
       "        <td>Aeropuerto Antonio Rivera Rodr�guez</td>\n",
       "        <td>Airport</td>\n",
       "        <td>ASO</td>\n",
       "        <td>#NAME?</td>\n",
       "        <td>ISLA DE VIEQUES</td>\n",
       "        <td>PR</td>\n",
       "        <td>Public Use</td>\n",
       "        <td>18.134811</td>\n",
       "        <td>-65.493617</td>\n",
       "        <td>Yes</td>\n",
       "    </tr>\n",
       "    <tr>\n",
       "        <td>4</td>\n",
       "        <td>2883.0</td>\n",
       "        <td>X63</td>\n",
       "        <td>HUMACAO</td>\n",
       "        <td>Aeropuerto Regional De Humacao</td>\n",
       "        <td>Airport</td>\n",
       "        <td>ASO</td>\n",
       "        <td>#NAME?</td>\n",
       "        <td>HUMACAO</td>\n",
       "        <td>PR</td>\n",
       "        <td>Public Use</td>\n",
       "        <td>18.138017</td>\n",
       "        <td>-65.800718</td>\n",
       "        <td>Yes</td>\n",
       "    </tr>\n",
       "</table>"
      ],
      "text/plain": [
       "[(0L, 3443.0, u'STX', u'HENRY E ROHLSEN', u\"Henry E Rohlsen Int'l Airport\", u'Airport', u'ASO', u'-VIRGIN ISLANDS-', u'CHRISTIANSTED', u'VI', u'Public Use', 17.701556, -64.801722, u'Yes'),\n",
       " (1L, 5088.0, u'X64', u'PATILLAS', None, u'Airport', u'ASO', u'#NAME?', u'PATILLAS', u'PR', u'Public Use', 17.982189, -66.01933, u'No'),\n",
       " (2L, 2886.0, u'PSE', u'MERCEDITA', u'Aeropuerto Mercedita', u'Airport', u'ASO', u'#NAME?', u'PONCE', u'PR', u'Public Use', 18.008306, -66.563028, u'Yes'),\n",
       " (3L, 2879.0, u'VQS', u'ANTONIO RIVERA RODRIGUEZ', u'Aeropuerto Antonio Rivera Rodr\\ufffdguez', u'Airport', u'ASO', u'#NAME?', u'ISLA DE VIEQUES', u'PR', u'Public Use', 18.134811, -65.493617, u'Yes'),\n",
       " (4L, 2883.0, u'X63', u'HUMACAO', u'Aeropuerto Regional De Humacao', u'Airport', u'ASO', u'#NAME?', u'HUMACAO', u'PR', u'Public Use', 18.138017, -65.800718, u'Yes')]"
      ]
     },
     "execution_count": 14,
     "metadata": {},
     "output_type": "execute_result"
    }
   ],
   "source": [
    "%%sql postgresql://localhost:5432/\n",
    "        \n",
    "SELECT * FROM airport_info LIMIT 5;"
   ]
  },
  {
   "cell_type": "code",
   "execution_count": 28,
   "metadata": {
    "collapsed": false
   },
   "outputs": [
    {
     "name": "stdout",
     "output_type": "stream",
     "text": [
      "1 rows affected.\n"
     ]
    },
    {
     "data": {
      "text/html": [
       "<table>\n",
       "    <tr>\n",
       "        <th>count</th>\n",
       "    </tr>\n",
       "    <tr>\n",
       "        <td>5167</td>\n",
       "    </tr>\n",
       "</table>"
      ],
      "text/plain": [
       "[(5167L,)]"
      ]
     },
     "execution_count": 28,
     "metadata": {},
     "output_type": "execute_result"
    }
   ],
   "source": [
    "%%sql \n",
    "\n",
    "SELECT COUNT(*) FROM airport_info LIMIT 5;"
   ]
  },
  {
   "cell_type": "code",
   "execution_count": 15,
   "metadata": {
    "collapsed": false,
    "scrolled": true
   },
   "outputs": [
    {
     "name": "stdout",
     "output_type": "stream",
     "text": [
      "5 rows affected.\n"
     ]
    },
    {
     "data": {
      "text/html": [
       "<table>\n",
       "    <tr>\n",
       "        <th>index</th>\n",
       "        <th>airport</th>\n",
       "        <th>year</th>\n",
       "        <th>departures_for_metric_computation</th>\n",
       "        <th>arrivals_for_metric_computation</th>\n",
       "        <th>percent_on-time_gate_departures</th>\n",
       "        <th>percent_on-time_airport_departures</th>\n",
       "        <th>percent_on-time_gate_arrivals</th>\n",
       "        <th>average_gate_departure_delay</th>\n",
       "        <th>average_taxi_out_time</th>\n",
       "        <th>average_taxi_out_delay</th>\n",
       "        <th>average_airport_departure_delay</th>\n",
       "        <th>average_airborne_delay</th>\n",
       "        <th>average_taxi_in_delay</th>\n",
       "        <th>average_block_delay</th>\n",
       "        <th>average_gate_arrival_delay</th>\n",
       "    </tr>\n",
       "    <tr>\n",
       "        <td>0</td>\n",
       "        <td>ABQ</td>\n",
       "        <td>2004</td>\n",
       "        <td>53971</td>\n",
       "        <td>53818</td>\n",
       "        <td>0.803</td>\n",
       "        <td>0.7809</td>\n",
       "        <td>0.7921</td>\n",
       "        <td>10.38</td>\n",
       "        <td>9.89</td>\n",
       "        <td>2.43</td>\n",
       "        <td>12.1</td>\n",
       "        <td>2.46</td>\n",
       "        <td>0.83</td>\n",
       "        <td>2.55</td>\n",
       "        <td>10.87</td>\n",
       "    </tr>\n",
       "    <tr>\n",
       "        <td>1</td>\n",
       "        <td>ABQ</td>\n",
       "        <td>2005</td>\n",
       "        <td>51829</td>\n",
       "        <td>51877</td>\n",
       "        <td>0.814</td>\n",
       "        <td>0.7922</td>\n",
       "        <td>0.8001</td>\n",
       "        <td>9.6</td>\n",
       "        <td>9.79</td>\n",
       "        <td>2.29</td>\n",
       "        <td>11.2</td>\n",
       "        <td>2.26</td>\n",
       "        <td>0.89</td>\n",
       "        <td>2.34</td>\n",
       "        <td>10.24</td>\n",
       "    </tr>\n",
       "    <tr>\n",
       "        <td>2</td>\n",
       "        <td>ABQ</td>\n",
       "        <td>2006</td>\n",
       "        <td>49682</td>\n",
       "        <td>51199</td>\n",
       "        <td>0.7983</td>\n",
       "        <td>0.7756</td>\n",
       "        <td>0.7746</td>\n",
       "        <td>10.84</td>\n",
       "        <td>9.89</td>\n",
       "        <td>2.16</td>\n",
       "        <td>12.33</td>\n",
       "        <td>2.12</td>\n",
       "        <td>0.84</td>\n",
       "        <td>2.66</td>\n",
       "        <td>11.82</td>\n",
       "    </tr>\n",
       "    <tr>\n",
       "        <td>3</td>\n",
       "        <td>ABQ</td>\n",
       "        <td>2007</td>\n",
       "        <td>53255</td>\n",
       "        <td>53611</td>\n",
       "        <td>0.8005</td>\n",
       "        <td>0.7704</td>\n",
       "        <td>0.7647</td>\n",
       "        <td>11.29</td>\n",
       "        <td>10.34</td>\n",
       "        <td>2.4</td>\n",
       "        <td>12.95</td>\n",
       "        <td>2.19</td>\n",
       "        <td>1.29</td>\n",
       "        <td>3.06</td>\n",
       "        <td>12.71</td>\n",
       "    </tr>\n",
       "    <tr>\n",
       "        <td>4</td>\n",
       "        <td>ABQ</td>\n",
       "        <td>2008</td>\n",
       "        <td>49589</td>\n",
       "        <td>49512</td>\n",
       "        <td>0.8103</td>\n",
       "        <td>0.7844</td>\n",
       "        <td>0.7875</td>\n",
       "        <td>10.79</td>\n",
       "        <td>10.41</td>\n",
       "        <td>2.41</td>\n",
       "        <td>12.32</td>\n",
       "        <td>1.82</td>\n",
       "        <td>1.03</td>\n",
       "        <td>2.79</td>\n",
       "        <td>11.48</td>\n",
       "    </tr>\n",
       "</table>"
      ],
      "text/plain": [
       "[(0L, u'ABQ', 2004L, 53971L, 53818L, 0.803, 0.7809, 0.7921, 10.38, 9.89, 2.43, 12.1, 2.46, 0.83, 2.55, 10.87),\n",
       " (1L, u'ABQ', 2005L, 51829L, 51877L, 0.814, 0.7922, 0.8001, 9.6, 9.79, 2.29, 11.2, 2.26, 0.89, 2.34, 10.24),\n",
       " (2L, u'ABQ', 2006L, 49682L, 51199L, 0.7983, 0.7756, 0.7746, 10.84, 9.89, 2.16, 12.33, 2.12, 0.84, 2.66, 11.82),\n",
       " (3L, u'ABQ', 2007L, 53255L, 53611L, 0.8005, 0.7704, 0.7647, 11.29, 10.34, 2.4, 12.95, 2.19, 1.29, 3.06, 12.71),\n",
       " (4L, u'ABQ', 2008L, 49589L, 49512L, 0.8103, 0.7844, 0.7875, 10.79, 10.41, 2.41, 12.32, 1.82, 1.03, 2.79, 11.48)]"
      ]
     },
     "execution_count": 15,
     "metadata": {},
     "output_type": "execute_result"
    }
   ],
   "source": [
    "%%sql \n",
    "\n",
    "SELECT * FROM airport_ops LIMIT 5;"
   ]
  },
  {
   "cell_type": "code",
   "execution_count": 27,
   "metadata": {
    "collapsed": false
   },
   "outputs": [
    {
     "name": "stdout",
     "output_type": "stream",
     "text": [
      "1 rows affected.\n"
     ]
    },
    {
     "data": {
      "text/html": [
       "<table>\n",
       "    <tr>\n",
       "        <th>count</th>\n",
       "    </tr>\n",
       "    <tr>\n",
       "        <td>841</td>\n",
       "    </tr>\n",
       "</table>"
      ],
      "text/plain": [
       "[(841L,)]"
      ]
     },
     "execution_count": 27,
     "metadata": {},
     "output_type": "execute_result"
    }
   ],
   "source": [
    "%%sql \n",
    "\n",
    "SELECT COUNT(*) FROM airport_ops LIMIT 5;"
   ]
  },
  {
   "cell_type": "code",
   "execution_count": 16,
   "metadata": {
    "collapsed": false,
    "focus": false,
    "id": "0192b97c-b99f-498b-b64b-f857451b5218"
   },
   "outputs": [
    {
     "name": "stdout",
     "output_type": "stream",
     "text": [
      "5 rows affected.\n"
     ]
    },
    {
     "data": {
      "text/html": [
       "<table>\n",
       "    <tr>\n",
       "        <th>index</th>\n",
       "        <th>airport</th>\n",
       "        <th>year</th>\n",
       "        <th>departure_cancellations</th>\n",
       "        <th>arrival_cancellations</th>\n",
       "        <th>departure_diversions</th>\n",
       "        <th>arrival_diversions</th>\n",
       "    </tr>\n",
       "    <tr>\n",
       "        <td>0</td>\n",
       "        <td>ABQ</td>\n",
       "        <td>2004.0</td>\n",
       "        <td>242.0</td>\n",
       "        <td>235.0</td>\n",
       "        <td>71.0</td>\n",
       "        <td>46.0</td>\n",
       "    </tr>\n",
       "    <tr>\n",
       "        <td>1</td>\n",
       "        <td>ABQ</td>\n",
       "        <td>2005.0</td>\n",
       "        <td>221.0</td>\n",
       "        <td>190.0</td>\n",
       "        <td>61.0</td>\n",
       "        <td>33.0</td>\n",
       "    </tr>\n",
       "    <tr>\n",
       "        <td>2</td>\n",
       "        <td>ABQ</td>\n",
       "        <td>2006.0</td>\n",
       "        <td>392.0</td>\n",
       "        <td>329.0</td>\n",
       "        <td>71.0</td>\n",
       "        <td>124.0</td>\n",
       "    </tr>\n",
       "    <tr>\n",
       "        <td>3</td>\n",
       "        <td>ABQ</td>\n",
       "        <td>2007.0</td>\n",
       "        <td>366.0</td>\n",
       "        <td>304.0</td>\n",
       "        <td>107.0</td>\n",
       "        <td>45.0</td>\n",
       "    </tr>\n",
       "    <tr>\n",
       "        <td>4</td>\n",
       "        <td>ABQ</td>\n",
       "        <td>2008.0</td>\n",
       "        <td>333.0</td>\n",
       "        <td>300.0</td>\n",
       "        <td>79.0</td>\n",
       "        <td>42.0</td>\n",
       "    </tr>\n",
       "</table>"
      ],
      "text/plain": [
       "[(0L, u'ABQ', 2004.0, 242.0, 235.0, 71.0, 46.0),\n",
       " (1L, u'ABQ', 2005.0, 221.0, 190.0, 61.0, 33.0),\n",
       " (2L, u'ABQ', 2006.0, 392.0, 329.0, 71.0, 124.0),\n",
       " (3L, u'ABQ', 2007.0, 366.0, 304.0, 107.0, 45.0),\n",
       " (4L, u'ABQ', 2008.0, 333.0, 300.0, 79.0, 42.0)]"
      ]
     },
     "execution_count": 16,
     "metadata": {},
     "output_type": "execute_result"
    }
   ],
   "source": [
    "%%sql \n",
    "\n",
    "SELECT * FROM airport_cancels LIMIT 5;"
   ]
  },
  {
   "cell_type": "code",
   "execution_count": 17,
   "metadata": {
    "collapsed": false
   },
   "outputs": [
    {
     "name": "stdout",
     "output_type": "stream",
     "text": [
      "1 rows affected.\n"
     ]
    },
    {
     "data": {
      "text/html": [
       "<table>\n",
       "    <tr>\n",
       "        <th>count</th>\n",
       "    </tr>\n",
       "    <tr>\n",
       "        <td>805</td>\n",
       "    </tr>\n",
       "</table>"
      ],
      "text/plain": [
       "[(805L,)]"
      ]
     },
     "execution_count": 17,
     "metadata": {},
     "output_type": "execute_result"
    }
   ],
   "source": [
    "%%sql \n",
    "\n",
    "SELECT COUNT(*) FROM airport_cancels LIMIT 5;"
   ]
  },
  {
   "cell_type": "code",
   "execution_count": 86,
   "metadata": {
    "collapsed": true
   },
   "outputs": [],
   "source": [
    "# Tables don't match up. Need to join these tables based on generated column (concatenation of airport and year)"
   ]
  },
  {
   "cell_type": "code",
   "execution_count": 36,
   "metadata": {
    "collapsed": false,
    "scrolled": false
   },
   "outputs": [
    {
     "name": "stdout",
     "output_type": "stream",
     "text": [
      "Done.\n",
      "(psycopg2.ProgrammingError) syntax error at or near \";\"\n",
      "LINE 1: UPDATE airport_ops;\n",
      "                          ^\n",
      " [SQL: 'UPDATE airport_ops;']\n"
     ]
    }
   ],
   "source": [
    "%%sql \n",
    "\n",
    "ALTER TABLE airport_ops ADD COLUMN ap_yr_index VARCHAR;"
   ]
  },
  {
   "cell_type": "code",
   "execution_count": 40,
   "metadata": {
    "collapsed": false
   },
   "outputs": [
    {
     "name": "stdout",
     "output_type": "stream",
     "text": [
      "841 rows affected.\n"
     ]
    },
    {
     "data": {
      "text/plain": [
       "[]"
      ]
     },
     "execution_count": 40,
     "metadata": {},
     "output_type": "execute_result"
    }
   ],
   "source": [
    "%%sql\n",
    "\n",
    "UPDATE airport_ops\n",
    "SET ap_yr_index = airport || year;"
   ]
  },
  {
   "cell_type": "code",
   "execution_count": 41,
   "metadata": {
    "collapsed": false
   },
   "outputs": [
    {
     "name": "stdout",
     "output_type": "stream",
     "text": [
      "5 rows affected.\n"
     ]
    },
    {
     "data": {
      "text/html": [
       "<table>\n",
       "    <tr>\n",
       "        <th>index</th>\n",
       "        <th>airport</th>\n",
       "        <th>year</th>\n",
       "        <th>departures_for_metric_computation</th>\n",
       "        <th>arrivals_for_metric_computation</th>\n",
       "        <th>percent_on-time_gate_departures</th>\n",
       "        <th>percent_on-time_airport_departures</th>\n",
       "        <th>percent_on-time_gate_arrivals</th>\n",
       "        <th>average_gate_departure_delay</th>\n",
       "        <th>average_taxi_out_time</th>\n",
       "        <th>average_taxi_out_delay</th>\n",
       "        <th>average_airport_departure_delay</th>\n",
       "        <th>average_airborne_delay</th>\n",
       "        <th>average_taxi_in_delay</th>\n",
       "        <th>average_block_delay</th>\n",
       "        <th>average_gate_arrival_delay</th>\n",
       "        <th>ap_yr_index</th>\n",
       "    </tr>\n",
       "    <tr>\n",
       "        <td>0</td>\n",
       "        <td>ABQ</td>\n",
       "        <td>2004</td>\n",
       "        <td>53971</td>\n",
       "        <td>53818</td>\n",
       "        <td>0.803</td>\n",
       "        <td>0.7809</td>\n",
       "        <td>0.7921</td>\n",
       "        <td>10.38</td>\n",
       "        <td>9.89</td>\n",
       "        <td>2.43</td>\n",
       "        <td>12.1</td>\n",
       "        <td>2.46</td>\n",
       "        <td>0.83</td>\n",
       "        <td>2.55</td>\n",
       "        <td>10.87</td>\n",
       "        <td>ABQ2004</td>\n",
       "    </tr>\n",
       "    <tr>\n",
       "        <td>1</td>\n",
       "        <td>ABQ</td>\n",
       "        <td>2005</td>\n",
       "        <td>51829</td>\n",
       "        <td>51877</td>\n",
       "        <td>0.814</td>\n",
       "        <td>0.7922</td>\n",
       "        <td>0.8001</td>\n",
       "        <td>9.6</td>\n",
       "        <td>9.79</td>\n",
       "        <td>2.29</td>\n",
       "        <td>11.2</td>\n",
       "        <td>2.26</td>\n",
       "        <td>0.89</td>\n",
       "        <td>2.34</td>\n",
       "        <td>10.24</td>\n",
       "        <td>ABQ2005</td>\n",
       "    </tr>\n",
       "    <tr>\n",
       "        <td>2</td>\n",
       "        <td>ABQ</td>\n",
       "        <td>2006</td>\n",
       "        <td>49682</td>\n",
       "        <td>51199</td>\n",
       "        <td>0.7983</td>\n",
       "        <td>0.7756</td>\n",
       "        <td>0.7746</td>\n",
       "        <td>10.84</td>\n",
       "        <td>9.89</td>\n",
       "        <td>2.16</td>\n",
       "        <td>12.33</td>\n",
       "        <td>2.12</td>\n",
       "        <td>0.84</td>\n",
       "        <td>2.66</td>\n",
       "        <td>11.82</td>\n",
       "        <td>ABQ2006</td>\n",
       "    </tr>\n",
       "    <tr>\n",
       "        <td>3</td>\n",
       "        <td>ABQ</td>\n",
       "        <td>2007</td>\n",
       "        <td>53255</td>\n",
       "        <td>53611</td>\n",
       "        <td>0.8005</td>\n",
       "        <td>0.7704</td>\n",
       "        <td>0.7647</td>\n",
       "        <td>11.29</td>\n",
       "        <td>10.34</td>\n",
       "        <td>2.4</td>\n",
       "        <td>12.95</td>\n",
       "        <td>2.19</td>\n",
       "        <td>1.29</td>\n",
       "        <td>3.06</td>\n",
       "        <td>12.71</td>\n",
       "        <td>ABQ2007</td>\n",
       "    </tr>\n",
       "    <tr>\n",
       "        <td>4</td>\n",
       "        <td>ABQ</td>\n",
       "        <td>2008</td>\n",
       "        <td>49589</td>\n",
       "        <td>49512</td>\n",
       "        <td>0.8103</td>\n",
       "        <td>0.7844</td>\n",
       "        <td>0.7875</td>\n",
       "        <td>10.79</td>\n",
       "        <td>10.41</td>\n",
       "        <td>2.41</td>\n",
       "        <td>12.32</td>\n",
       "        <td>1.82</td>\n",
       "        <td>1.03</td>\n",
       "        <td>2.79</td>\n",
       "        <td>11.48</td>\n",
       "        <td>ABQ2008</td>\n",
       "    </tr>\n",
       "</table>"
      ],
      "text/plain": [
       "[(0L, u'ABQ', 2004L, 53971L, 53818L, 0.803, 0.7809, 0.7921, 10.38, 9.89, 2.43, 12.1, 2.46, 0.83, 2.55, 10.87, u'ABQ2004'),\n",
       " (1L, u'ABQ', 2005L, 51829L, 51877L, 0.814, 0.7922, 0.8001, 9.6, 9.79, 2.29, 11.2, 2.26, 0.89, 2.34, 10.24, u'ABQ2005'),\n",
       " (2L, u'ABQ', 2006L, 49682L, 51199L, 0.7983, 0.7756, 0.7746, 10.84, 9.89, 2.16, 12.33, 2.12, 0.84, 2.66, 11.82, u'ABQ2006'),\n",
       " (3L, u'ABQ', 2007L, 53255L, 53611L, 0.8005, 0.7704, 0.7647, 11.29, 10.34, 2.4, 12.95, 2.19, 1.29, 3.06, 12.71, u'ABQ2007'),\n",
       " (4L, u'ABQ', 2008L, 49589L, 49512L, 0.8103, 0.7844, 0.7875, 10.79, 10.41, 2.41, 12.32, 1.82, 1.03, 2.79, 11.48, u'ABQ2008')]"
      ]
     },
     "execution_count": 41,
     "metadata": {},
     "output_type": "execute_result"
    }
   ],
   "source": [
    "%%sql \n",
    "\n",
    "SELECT * FROM airport_ops LIMIT 5;"
   ]
  },
  {
   "cell_type": "code",
   "execution_count": 21,
   "metadata": {
    "collapsed": true
   },
   "outputs": [],
   "source": [
    "# Adding concatenated column to airport_cancels (for later merge with airport_ops...)\n",
    "\n",
    "### Needed to convert year column from float to integer/no decimals. Couldn't figure out; Will do later...."
   ]
  },
  {
   "cell_type": "code",
   "execution_count": 79,
   "metadata": {
    "collapsed": false
   },
   "outputs": [],
   "source": [
    "# %%sql\n",
    "\n",
    "# UPDATE airport_cancels \n",
    "# SET year = CAST(to_char(year, 9999.0));"
   ]
  },
  {
   "cell_type": "code",
   "execution_count": 80,
   "metadata": {
    "collapsed": false
   },
   "outputs": [],
   "source": [
    "# %%sql\n",
    "# SELECT * FROM airport_cancels LIMIT 5;"
   ]
  },
  {
   "cell_type": "markdown",
   "metadata": {
    "focus": false,
    "id": "a5fa5f85-1cd6-4ab6-b936-93e9c951e1b7"
   },
   "source": [
    "### Query the database for intial data"
   ]
  },
  {
   "cell_type": "code",
   "execution_count": 24,
   "metadata": {
    "collapsed": true
   },
   "outputs": [],
   "source": [
    "# total # of cities"
   ]
  },
  {
   "cell_type": "code",
   "execution_count": 81,
   "metadata": {
    "collapsed": false
   },
   "outputs": [
    {
     "name": "stdout",
     "output_type": "stream",
     "text": [
      "1 rows affected.\n"
     ]
    },
    {
     "data": {
      "text/html": [
       "<table>\n",
       "    <tr>\n",
       "        <th>count</th>\n",
       "    </tr>\n",
       "    <tr>\n",
       "        <td>3745</td>\n",
       "    </tr>\n",
       "</table>"
      ],
      "text/plain": [
       "[(3745L,)]"
      ]
     },
     "execution_count": 81,
     "metadata": {},
     "output_type": "execute_result"
    }
   ],
   "source": [
    "%%sql \n",
    "\n",
    "SELECT COUNT(DISTINCT city) FROM airport_info;"
   ]
  },
  {
   "cell_type": "code",
   "execution_count": 26,
   "metadata": {
    "collapsed": false
   },
   "outputs": [
    {
     "name": "stdout",
     "output_type": "stream",
     "text": [
      "1 rows affected.\n"
     ]
    },
    {
     "data": {
      "text/html": [
       "<table>\n",
       "    <tr>\n",
       "        <th>count</th>\n",
       "    </tr>\n",
       "    <tr>\n",
       "        <td>5164</td>\n",
       "    </tr>\n",
       "</table>"
      ],
      "text/plain": [
       "[(5164L,)]"
      ]
     },
     "execution_count": 26,
     "metadata": {},
     "output_type": "execute_result"
    }
   ],
   "source": [
    "%%sql \n",
    "\n",
    "SELECT COUNT(city) FROM airport_info;"
   ]
  },
  {
   "cell_type": "code",
   "execution_count": 27,
   "metadata": {
    "collapsed": true
   },
   "outputs": [],
   "source": [
    "#table below also shows # of airports per city, I believe"
   ]
  },
  {
   "cell_type": "code",
   "execution_count": 57,
   "metadata": {
    "collapsed": false,
    "focus": false,
    "id": "385da01a-0b74-47bc-9757-447e46fa194a"
   },
   "outputs": [
    {
     "name": "stdout",
     "output_type": "stream",
     "text": [
      "10 rows affected.\n"
     ]
    },
    {
     "data": {
      "text/html": [
       "<table>\n",
       "    <tr>\n",
       "        <th>city</th>\n",
       "        <th>airports</th>\n",
       "    </tr>\n",
       "    <tr>\n",
       "        <td>HOUSTON</td>\n",
       "        <td>18</td>\n",
       "    </tr>\n",
       "    <tr>\n",
       "        <td>ATLANTA</td>\n",
       "        <td>12</td>\n",
       "    </tr>\n",
       "    <tr>\n",
       "        <td>WASHINGTON</td>\n",
       "        <td>11</td>\n",
       "    </tr>\n",
       "    <tr>\n",
       "        <td>COLUMBUS</td>\n",
       "        <td>11</td>\n",
       "    </tr>\n",
       "    <tr>\n",
       "        <td>GREENVILLE</td>\n",
       "        <td>10</td>\n",
       "    </tr>\n",
       "    <tr>\n",
       "        <td>WASILLA</td>\n",
       "        <td>10</td>\n",
       "    </tr>\n",
       "    <tr>\n",
       "        <td>CLINTON</td>\n",
       "        <td>10</td>\n",
       "    </tr>\n",
       "    <tr>\n",
       "        <td>JACKSON</td>\n",
       "        <td>9</td>\n",
       "    </tr>\n",
       "    <tr>\n",
       "        <td>COLUMBIA</td>\n",
       "        <td>9</td>\n",
       "    </tr>\n",
       "    <tr>\n",
       "        <td>INDIANAPOLIS</td>\n",
       "        <td>9</td>\n",
       "    </tr>\n",
       "</table>"
      ],
      "text/plain": [
       "[(u'HOUSTON', 18L),\n",
       " (u'ATLANTA', 12L),\n",
       " (u'WASHINGTON', 11L),\n",
       " (u'COLUMBUS', 11L),\n",
       " (u'GREENVILLE', 10L),\n",
       " (u'WASILLA', 10L),\n",
       " (u'CLINTON', 10L),\n",
       " (u'JACKSON', 9L),\n",
       " (u'COLUMBIA', 9L),\n",
       " (u'INDIANAPOLIS', 9L)]"
      ]
     },
     "execution_count": 57,
     "metadata": {},
     "output_type": "execute_result"
    }
   ],
   "source": [
    "\n",
    "%%sql \n",
    "\n",
    "SELECT city, COUNT(DISTINCT ap_name) AS airports \n",
    "FROM airport_info \n",
    "GROUP BY city \n",
    "ORDER BY airports DESC\n",
    "LIMIT 10;"
   ]
  },
  {
   "cell_type": "code",
   "execution_count": 29,
   "metadata": {
    "collapsed": true
   },
   "outputs": [],
   "source": [
    "# total # of states"
   ]
  },
  {
   "cell_type": "code",
   "execution_count": 30,
   "metadata": {
    "collapsed": false
   },
   "outputs": [
    {
     "name": "stdout",
     "output_type": "stream",
     "text": [
      "1 rows affected.\n"
     ]
    },
    {
     "data": {
      "text/html": [
       "<table>\n",
       "    <tr>\n",
       "        <th>count</th>\n",
       "    </tr>\n",
       "    <tr>\n",
       "        <td>54</td>\n",
       "    </tr>\n",
       "</table>"
      ],
      "text/plain": [
       "[(54L,)]"
      ]
     },
     "execution_count": 30,
     "metadata": {},
     "output_type": "execute_result"
    }
   ],
   "source": [
    "%%sql \n",
    "\n",
    "SELECT COUNT(DISTINCT state) FROM airport_info;"
   ]
  },
  {
   "cell_type": "code",
   "execution_count": 31,
   "metadata": {
    "collapsed": false
   },
   "outputs": [
    {
     "name": "stdout",
     "output_type": "stream",
     "text": [
      "1 rows affected.\n"
     ]
    },
    {
     "data": {
      "text/html": [
       "<table>\n",
       "    <tr>\n",
       "        <th>count</th>\n",
       "    </tr>\n",
       "    <tr>\n",
       "        <td>5164</td>\n",
       "    </tr>\n",
       "</table>"
      ],
      "text/plain": [
       "[(5164L,)]"
      ]
     },
     "execution_count": 31,
     "metadata": {},
     "output_type": "execute_result"
    }
   ],
   "source": [
    "%%sql \n",
    "\n",
    "SELECT COUNT(state) FROM airport_info;"
   ]
  },
  {
   "cell_type": "code",
   "execution_count": 32,
   "metadata": {
    "collapsed": true
   },
   "outputs": [],
   "source": [
    "#table below also shows # of airports per state, I believe"
   ]
  },
  {
   "cell_type": "code",
   "execution_count": 58,
   "metadata": {
    "collapsed": false
   },
   "outputs": [
    {
     "name": "stdout",
     "output_type": "stream",
     "text": [
      "10 rows affected.\n"
     ]
    },
    {
     "data": {
      "text/html": [
       "<table>\n",
       "    <tr>\n",
       "        <th>state</th>\n",
       "        <th>airports</th>\n",
       "    </tr>\n",
       "    <tr>\n",
       "        <td>TX</td>\n",
       "        <td>393</td>\n",
       "    </tr>\n",
       "    <tr>\n",
       "        <td>AK</td>\n",
       "        <td>388</td>\n",
       "    </tr>\n",
       "    <tr>\n",
       "        <td>CA</td>\n",
       "        <td>254</td>\n",
       "    </tr>\n",
       "    <tr>\n",
       "        <td>MI</td>\n",
       "        <td>229</td>\n",
       "    </tr>\n",
       "    <tr>\n",
       "        <td>OH</td>\n",
       "        <td>169</td>\n",
       "    </tr>\n",
       "    <tr>\n",
       "        <td>MN</td>\n",
       "        <td>151</td>\n",
       "    </tr>\n",
       "    <tr>\n",
       "        <td>NY</td>\n",
       "        <td>140</td>\n",
       "    </tr>\n",
       "    <tr>\n",
       "        <td>OK</td>\n",
       "        <td>139</td>\n",
       "    </tr>\n",
       "    <tr>\n",
       "        <td>KS</td>\n",
       "        <td>138</td>\n",
       "    </tr>\n",
       "    <tr>\n",
       "        <td>WA</td>\n",
       "        <td>137</td>\n",
       "    </tr>\n",
       "</table>"
      ],
      "text/plain": [
       "[(u'TX', 393L),\n",
       " (u'AK', 388L),\n",
       " (u'CA', 254L),\n",
       " (u'MI', 229L),\n",
       " (u'OH', 169L),\n",
       " (u'MN', 151L),\n",
       " (u'NY', 140L),\n",
       " (u'OK', 139L),\n",
       " (u'KS', 138L),\n",
       " (u'WA', 137L)]"
      ]
     },
     "execution_count": 58,
     "metadata": {},
     "output_type": "execute_result"
    }
   ],
   "source": [
    "%%sql \n",
    "\n",
    "SELECT state, COUNT(DISTINCT ap_name) AS airports \n",
    "FROM airport_info \n",
    "GROUP BY state \n",
    "ORDER BY airports DESC\n",
    "LIMIT 10;"
   ]
  },
  {
   "cell_type": "code",
   "execution_count": null,
   "metadata": {
    "collapsed": true
   },
   "outputs": [],
   "source": []
  },
  {
   "cell_type": "code",
   "execution_count": 34,
   "metadata": {
    "collapsed": true
   },
   "outputs": [],
   "source": [
    "# total # of counties"
   ]
  },
  {
   "cell_type": "code",
   "execution_count": 35,
   "metadata": {
    "collapsed": false
   },
   "outputs": [
    {
     "name": "stdout",
     "output_type": "stream",
     "text": [
      "1 rows affected.\n"
     ]
    },
    {
     "data": {
      "text/html": [
       "<table>\n",
       "    <tr>\n",
       "        <th>count</th>\n",
       "    </tr>\n",
       "    <tr>\n",
       "        <td>1577</td>\n",
       "    </tr>\n",
       "</table>"
      ],
      "text/plain": [
       "[(1577L,)]"
      ]
     },
     "execution_count": 35,
     "metadata": {},
     "output_type": "execute_result"
    }
   ],
   "source": [
    "%%sql \n",
    "\n",
    "SELECT COUNT(DISTINCT county) FROM airport_info;"
   ]
  },
  {
   "cell_type": "code",
   "execution_count": 36,
   "metadata": {
    "collapsed": false
   },
   "outputs": [
    {
     "name": "stdout",
     "output_type": "stream",
     "text": [
      "1 rows affected.\n"
     ]
    },
    {
     "data": {
      "text/html": [
       "<table>\n",
       "    <tr>\n",
       "        <th>count</th>\n",
       "    </tr>\n",
       "    <tr>\n",
       "        <td>5164</td>\n",
       "    </tr>\n",
       "</table>"
      ],
      "text/plain": [
       "[(5164L,)]"
      ]
     },
     "execution_count": 36,
     "metadata": {},
     "output_type": "execute_result"
    }
   ],
   "source": [
    "%%sql \n",
    "\n",
    "SELECT COUNT(county) FROM airport_info;"
   ]
  },
  {
   "cell_type": "code",
   "execution_count": 37,
   "metadata": {
    "collapsed": true
   },
   "outputs": [],
   "source": [
    "#table below also shows # of airports per county, I believe"
   ]
  },
  {
   "cell_type": "code",
   "execution_count": 59,
   "metadata": {
    "collapsed": false
   },
   "outputs": [
    {
     "name": "stdout",
     "output_type": "stream",
     "text": [
      "10 rows affected.\n"
     ]
    },
    {
     "data": {
      "text/html": [
       "<table>\n",
       "    <tr>\n",
       "        <th>county</th>\n",
       "        <th>airports</th>\n",
       "    </tr>\n",
       "    <tr>\n",
       "        <td>WASHINGTON</td>\n",
       "        <td>51</td>\n",
       "    </tr>\n",
       "    <tr>\n",
       "        <td>LINCOLN</td>\n",
       "        <td>38</td>\n",
       "    </tr>\n",
       "    <tr>\n",
       "        <td>JEFFERSON</td>\n",
       "        <td>33</td>\n",
       "    </tr>\n",
       "    <tr>\n",
       "        <td>FRANKLIN</td>\n",
       "        <td>33</td>\n",
       "    </tr>\n",
       "    <tr>\n",
       "        <td>YUKON-KOYUKUK</td>\n",
       "        <td>29</td>\n",
       "    </tr>\n",
       "    <tr>\n",
       "        <td>JACKSON</td>\n",
       "        <td>29</td>\n",
       "    </tr>\n",
       "    <tr>\n",
       "        <td>MONTGOMERY</td>\n",
       "        <td>29</td>\n",
       "    </tr>\n",
       "    <tr>\n",
       "        <td>BRISTOL BAY</td>\n",
       "        <td>29</td>\n",
       "    </tr>\n",
       "    <tr>\n",
       "        <td>BETHEL</td>\n",
       "        <td>28</td>\n",
       "    </tr>\n",
       "    <tr>\n",
       "        <td>CLARK</td>\n",
       "        <td>28</td>\n",
       "    </tr>\n",
       "</table>"
      ],
      "text/plain": [
       "[(u'WASHINGTON', 51L),\n",
       " (u'LINCOLN', 38L),\n",
       " (u'JEFFERSON', 33L),\n",
       " (u'FRANKLIN', 33L),\n",
       " (u'YUKON-KOYUKUK', 29L),\n",
       " (u'JACKSON', 29L),\n",
       " (u'MONTGOMERY', 29L),\n",
       " (u'BRISTOL BAY', 29L),\n",
       " (u'BETHEL', 28L),\n",
       " (u'CLARK', 28L)]"
      ]
     },
     "execution_count": 59,
     "metadata": {},
     "output_type": "execute_result"
    }
   ],
   "source": [
    "%%sql \n",
    "\n",
    "SELECT county, COUNT(DISTINCT ap_name) AS airports \n",
    "FROM airport_info \n",
    "GROUP BY county \n",
    "ORDER BY airports DESC\n",
    "LIMIT 10;"
   ]
  },
  {
   "cell_type": "code",
   "execution_count": null,
   "metadata": {
    "collapsed": true
   },
   "outputs": [],
   "source": []
  },
  {
   "cell_type": "code",
   "execution_count": 39,
   "metadata": {
    "collapsed": true
   },
   "outputs": [],
   "source": [
    "# total # of airports"
   ]
  },
  {
   "cell_type": "code",
   "execution_count": 40,
   "metadata": {
    "collapsed": false
   },
   "outputs": [
    {
     "name": "stdout",
     "output_type": "stream",
     "text": [
      "1 rows affected.\n"
     ]
    },
    {
     "data": {
      "text/html": [
       "<table>\n",
       "    <tr>\n",
       "        <th>count</th>\n",
       "    </tr>\n",
       "    <tr>\n",
       "        <td>4956</td>\n",
       "    </tr>\n",
       "</table>"
      ],
      "text/plain": [
       "[(4956L,)]"
      ]
     },
     "execution_count": 40,
     "metadata": {},
     "output_type": "execute_result"
    }
   ],
   "source": [
    "%%sql \n",
    "\n",
    "SELECT COUNT(DISTINCT ap_name) FROM airport_info;"
   ]
  },
  {
   "cell_type": "code",
   "execution_count": 41,
   "metadata": {
    "collapsed": false
   },
   "outputs": [
    {
     "name": "stdout",
     "output_type": "stream",
     "text": [
      "1 rows affected.\n"
     ]
    },
    {
     "data": {
      "text/html": [
       "<table>\n",
       "    <tr>\n",
       "        <th>count</th>\n",
       "    </tr>\n",
       "    <tr>\n",
       "        <td>5164</td>\n",
       "    </tr>\n",
       "</table>"
      ],
      "text/plain": [
       "[(5164L,)]"
      ]
     },
     "execution_count": 41,
     "metadata": {},
     "output_type": "execute_result"
    }
   ],
   "source": [
    "%%sql \n",
    "\n",
    "SELECT COUNT(ap_name) FROM airport_info;"
   ]
  },
  {
   "cell_type": "code",
   "execution_count": 42,
   "metadata": {
    "collapsed": true
   },
   "outputs": [],
   "source": [
    "# of times airport shows up in dataset"
   ]
  },
  {
   "cell_type": "code",
   "execution_count": 60,
   "metadata": {
    "collapsed": false
   },
   "outputs": [
    {
     "name": "stdout",
     "output_type": "stream",
     "text": [
      "10 rows affected.\n"
     ]
    },
    {
     "data": {
      "text/html": [
       "<table>\n",
       "    <tr>\n",
       "        <th>ap_name</th>\n",
       "        <th>airports</th>\n",
       "    </tr>\n",
       "    <tr>\n",
       "        <td>JACKSON COUNTY</td>\n",
       "        <td>5</td>\n",
       "    </tr>\n",
       "    <tr>\n",
       "        <td>MONROE COUNTY</td>\n",
       "        <td>5</td>\n",
       "    </tr>\n",
       "    <tr>\n",
       "        <td>PLYMOUTH MUNI</td>\n",
       "        <td>4</td>\n",
       "    </tr>\n",
       "    <tr>\n",
       "        <td>ARLINGTON MUNI</td>\n",
       "        <td>4</td>\n",
       "    </tr>\n",
       "    <tr>\n",
       "        <td>BUFFALO MUNI</td>\n",
       "        <td>3</td>\n",
       "    </tr>\n",
       "    <tr>\n",
       "        <td>FRANKLIN COUNTY</td>\n",
       "        <td>3</td>\n",
       "    </tr>\n",
       "    <tr>\n",
       "        <td>CLEVELAND MUNI</td>\n",
       "        <td>3</td>\n",
       "    </tr>\n",
       "    <tr>\n",
       "        <td>CORNING MUNI</td>\n",
       "        <td>3</td>\n",
       "    </tr>\n",
       "    <tr>\n",
       "        <td>None</td>\n",
       "        <td>3</td>\n",
       "    </tr>\n",
       "    <tr>\n",
       "        <td>SHELBY COUNTY</td>\n",
       "        <td>3</td>\n",
       "    </tr>\n",
       "</table>"
      ],
      "text/plain": [
       "[(u'JACKSON COUNTY', 5L),\n",
       " (u'MONROE COUNTY', 5L),\n",
       " (u'PLYMOUTH MUNI', 4L),\n",
       " (u'ARLINGTON MUNI', 4L),\n",
       " (u'BUFFALO MUNI', 3L),\n",
       " (u'FRANKLIN COUNTY', 3L),\n",
       " (u'CLEVELAND MUNI', 3L),\n",
       " (u'CORNING MUNI', 3L),\n",
       " (None, 3L),\n",
       " (u'SHELBY COUNTY', 3L)]"
      ]
     },
     "execution_count": 60,
     "metadata": {},
     "output_type": "execute_result"
    }
   ],
   "source": [
    "%%sql \n",
    "\n",
    "SELECT ap_name, COUNT(*) AS airports \n",
    "FROM airport_info \n",
    "GROUP BY ap_name \n",
    "ORDER BY airports DESC\n",
    "LIMIT 10;"
   ]
  },
  {
   "cell_type": "code",
   "execution_count": null,
   "metadata": {
    "collapsed": true
   },
   "outputs": [],
   "source": []
  },
  {
   "cell_type": "code",
   "execution_count": 44,
   "metadata": {
    "collapsed": true
   },
   "outputs": [],
   "source": [
    "# total # of locid"
   ]
  },
  {
   "cell_type": "code",
   "execution_count": 45,
   "metadata": {
    "collapsed": false
   },
   "outputs": [
    {
     "name": "stdout",
     "output_type": "stream",
     "text": [
      "1 rows affected.\n"
     ]
    },
    {
     "data": {
      "text/html": [
       "<table>\n",
       "    <tr>\n",
       "        <th>count</th>\n",
       "    </tr>\n",
       "    <tr>\n",
       "        <td>5152</td>\n",
       "    </tr>\n",
       "</table>"
      ],
      "text/plain": [
       "[(5152L,)]"
      ]
     },
     "execution_count": 45,
     "metadata": {},
     "output_type": "execute_result"
    }
   ],
   "source": [
    "%%sql \n",
    "\n",
    "SELECT COUNT(DISTINCT locid) FROM airport_info;"
   ]
  },
  {
   "cell_type": "code",
   "execution_count": 46,
   "metadata": {
    "collapsed": false
   },
   "outputs": [
    {
     "name": "stdout",
     "output_type": "stream",
     "text": [
      "1 rows affected.\n"
     ]
    },
    {
     "data": {
      "text/html": [
       "<table>\n",
       "    <tr>\n",
       "        <th>count</th>\n",
       "    </tr>\n",
       "    <tr>\n",
       "        <td>5152</td>\n",
       "    </tr>\n",
       "</table>"
      ],
      "text/plain": [
       "[(5152L,)]"
      ]
     },
     "execution_count": 46,
     "metadata": {},
     "output_type": "execute_result"
    }
   ],
   "source": [
    "%%sql \n",
    "\n",
    "SELECT COUNT(locid) FROM airport_info;"
   ]
  },
  {
   "cell_type": "code",
   "execution_count": 47,
   "metadata": {
    "collapsed": true
   },
   "outputs": [],
   "source": [
    "#table below shows that locid = airport (in other two tables)"
   ]
  },
  {
   "cell_type": "code",
   "execution_count": 65,
   "metadata": {
    "collapsed": false
   },
   "outputs": [
    {
     "name": "stdout",
     "output_type": "stream",
     "text": [
      "10 rows affected.\n"
     ]
    },
    {
     "data": {
      "text/html": [
       "<table>\n",
       "    <tr>\n",
       "        <th>locid</th>\n",
       "        <th>airports</th>\n",
       "    </tr>\n",
       "    <tr>\n",
       "        <td>None</td>\n",
       "        <td>12</td>\n",
       "    </tr>\n",
       "    <tr>\n",
       "        <td>00F</td>\n",
       "        <td>1</td>\n",
       "    </tr>\n",
       "    <tr>\n",
       "        <td>00W</td>\n",
       "        <td>1</td>\n",
       "    </tr>\n",
       "    <tr>\n",
       "        <td>00N</td>\n",
       "        <td>1</td>\n",
       "    </tr>\n",
       "    <tr>\n",
       "        <td>00R</td>\n",
       "        <td>1</td>\n",
       "    </tr>\n",
       "    <tr>\n",
       "        <td>00S</td>\n",
       "        <td>1</td>\n",
       "    </tr>\n",
       "    <tr>\n",
       "        <td>00M</td>\n",
       "        <td>1</td>\n",
       "    </tr>\n",
       "    <tr>\n",
       "        <td>01A</td>\n",
       "        <td>1</td>\n",
       "    </tr>\n",
       "    <tr>\n",
       "        <td>00C</td>\n",
       "        <td>1</td>\n",
       "    </tr>\n",
       "    <tr>\n",
       "        <td>01B</td>\n",
       "        <td>1</td>\n",
       "    </tr>\n",
       "</table>"
      ],
      "text/plain": [
       "[(None, 12L),\n",
       " (u'00F', 1L),\n",
       " (u'00W', 1L),\n",
       " (u'00N', 1L),\n",
       " (u'00R', 1L),\n",
       " (u'00S', 1L),\n",
       " (u'00M', 1L),\n",
       " (u'01A', 1L),\n",
       " (u'00C', 1L),\n",
       " (u'01B', 1L)]"
      ]
     },
     "execution_count": 65,
     "metadata": {},
     "output_type": "execute_result"
    }
   ],
   "source": [
    "%%sql \n",
    "\n",
    "SELECT locid, COUNT(DISTINCT ap_name) AS airports \n",
    "FROM airport_info \n",
    "GROUP BY locid \n",
    "ORDER BY airports DESC\n",
    "LIMIT 10;"
   ]
  },
  {
   "cell_type": "code",
   "execution_count": null,
   "metadata": {
    "collapsed": true
   },
   "outputs": [],
   "source": []
  },
  {
   "cell_type": "code",
   "execution_count": 49,
   "metadata": {
    "collapsed": true
   },
   "outputs": [],
   "source": [
    "# total # of ap_types"
   ]
  },
  {
   "cell_type": "code",
   "execution_count": 50,
   "metadata": {
    "collapsed": false
   },
   "outputs": [
    {
     "name": "stdout",
     "output_type": "stream",
     "text": [
      "1 rows affected.\n"
     ]
    },
    {
     "data": {
      "text/html": [
       "<table>\n",
       "    <tr>\n",
       "        <th>count</th>\n",
       "    </tr>\n",
       "    <tr>\n",
       "        <td>2</td>\n",
       "    </tr>\n",
       "</table>"
      ],
      "text/plain": [
       "[(2L,)]"
      ]
     },
     "execution_count": 50,
     "metadata": {},
     "output_type": "execute_result"
    }
   ],
   "source": [
    "%%sql \n",
    "\n",
    "SELECT COUNT(DISTINCT ap_type) FROM airport_info;"
   ]
  },
  {
   "cell_type": "code",
   "execution_count": 51,
   "metadata": {
    "collapsed": false
   },
   "outputs": [
    {
     "name": "stdout",
     "output_type": "stream",
     "text": [
      "1 rows affected.\n"
     ]
    },
    {
     "data": {
      "text/html": [
       "<table>\n",
       "    <tr>\n",
       "        <th>count</th>\n",
       "    </tr>\n",
       "    <tr>\n",
       "        <td>5164</td>\n",
       "    </tr>\n",
       "</table>"
      ],
      "text/plain": [
       "[(5164L,)]"
      ]
     },
     "execution_count": 51,
     "metadata": {},
     "output_type": "execute_result"
    }
   ],
   "source": [
    "%%sql \n",
    "\n",
    "SELECT COUNT(ap_type) FROM airport_info;"
   ]
  },
  {
   "cell_type": "code",
   "execution_count": 52,
   "metadata": {
    "collapsed": true
   },
   "outputs": [],
   "source": [
    "#table below also shows # of airports per ap_types, I believe"
   ]
  },
  {
   "cell_type": "code",
   "execution_count": 62,
   "metadata": {
    "collapsed": false
   },
   "outputs": [
    {
     "name": "stdout",
     "output_type": "stream",
     "text": [
      "3 rows affected.\n"
     ]
    },
    {
     "data": {
      "text/html": [
       "<table>\n",
       "    <tr>\n",
       "        <th>ap_type</th>\n",
       "        <th>airports</th>\n",
       "    </tr>\n",
       "    <tr>\n",
       "        <td>Public Use</td>\n",
       "        <td>4671</td>\n",
       "    </tr>\n",
       "    <tr>\n",
       "        <td>Federalized/Commercial</td>\n",
       "        <td>288</td>\n",
       "    </tr>\n",
       "    <tr>\n",
       "        <td>None</td>\n",
       "        <td>0</td>\n",
       "    </tr>\n",
       "</table>"
      ],
      "text/plain": [
       "[(u'Public Use', 4671L), (u'Federalized/Commercial', 288L), (None, 0L)]"
      ]
     },
     "execution_count": 62,
     "metadata": {},
     "output_type": "execute_result"
    }
   ],
   "source": [
    "%%sql \n",
    "\n",
    "SELECT ap_type, COUNT(DISTINCT ap_name) AS airports \n",
    "FROM airport_info \n",
    "GROUP BY ap_type \n",
    "ORDER BY airports DESC;"
   ]
  },
  {
   "cell_type": "code",
   "execution_count": null,
   "metadata": {
    "collapsed": true
   },
   "outputs": [],
   "source": []
  },
  {
   "cell_type": "code",
   "execution_count": 54,
   "metadata": {
    "collapsed": true
   },
   "outputs": [],
   "source": [
    "# total # of faa_region"
   ]
  },
  {
   "cell_type": "code",
   "execution_count": 55,
   "metadata": {
    "collapsed": false
   },
   "outputs": [
    {
     "name": "stdout",
     "output_type": "stream",
     "text": [
      "1 rows affected.\n"
     ]
    },
    {
     "data": {
      "text/html": [
       "<table>\n",
       "    <tr>\n",
       "        <th>count</th>\n",
       "    </tr>\n",
       "    <tr>\n",
       "        <td>9</td>\n",
       "    </tr>\n",
       "</table>"
      ],
      "text/plain": [
       "[(9L,)]"
      ]
     },
     "execution_count": 55,
     "metadata": {},
     "output_type": "execute_result"
    }
   ],
   "source": [
    "%%sql \n",
    "\n",
    "SELECT COUNT(DISTINCT faa_region) FROM airport_info;"
   ]
  },
  {
   "cell_type": "code",
   "execution_count": 56,
   "metadata": {
    "collapsed": false
   },
   "outputs": [
    {
     "name": "stdout",
     "output_type": "stream",
     "text": [
      "1 rows affected.\n"
     ]
    },
    {
     "data": {
      "text/html": [
       "<table>\n",
       "    <tr>\n",
       "        <th>count</th>\n",
       "    </tr>\n",
       "    <tr>\n",
       "        <td>5164</td>\n",
       "    </tr>\n",
       "</table>"
      ],
      "text/plain": [
       "[(5164L,)]"
      ]
     },
     "execution_count": 56,
     "metadata": {},
     "output_type": "execute_result"
    }
   ],
   "source": [
    "%%sql \n",
    "\n",
    "SELECT COUNT(faa_region) FROM airport_info;"
   ]
  },
  {
   "cell_type": "code",
   "execution_count": 57,
   "metadata": {
    "collapsed": true
   },
   "outputs": [],
   "source": [
    "#table below also shows # of airports per faa_region, I believe"
   ]
  },
  {
   "cell_type": "code",
   "execution_count": 63,
   "metadata": {
    "collapsed": false
   },
   "outputs": [
    {
     "name": "stdout",
     "output_type": "stream",
     "text": [
      "10 rows affected.\n"
     ]
    },
    {
     "data": {
      "text/html": [
       "<table>\n",
       "    <tr>\n",
       "        <th>faa_region</th>\n",
       "        <th>airports</th>\n",
       "    </tr>\n",
       "    <tr>\n",
       "        <td>AGL</td>\n",
       "        <td>1056</td>\n",
       "    </tr>\n",
       "    <tr>\n",
       "        <td>ASW</td>\n",
       "        <td>763</td>\n",
       "    </tr>\n",
       "    <tr>\n",
       "        <td>ASO</td>\n",
       "        <td>733</td>\n",
       "    </tr>\n",
       "    <tr>\n",
       "        <td>ANM</td>\n",
       "        <td>644</td>\n",
       "    </tr>\n",
       "    <tr>\n",
       "        <td>ACE</td>\n",
       "        <td>468</td>\n",
       "    </tr>\n",
       "    <tr>\n",
       "        <td>AEA</td>\n",
       "        <td>465</td>\n",
       "    </tr>\n",
       "    <tr>\n",
       "        <td>AWP</td>\n",
       "        <td>397</td>\n",
       "    </tr>\n",
       "    <tr>\n",
       "        <td>AAL</td>\n",
       "        <td>388</td>\n",
       "    </tr>\n",
       "    <tr>\n",
       "        <td>ANE</td>\n",
       "        <td>179</td>\n",
       "    </tr>\n",
       "    <tr>\n",
       "        <td>None</td>\n",
       "        <td>0</td>\n",
       "    </tr>\n",
       "</table>"
      ],
      "text/plain": [
       "[(u'AGL', 1056L),\n",
       " (u'ASW', 763L),\n",
       " (u'ASO', 733L),\n",
       " (u'ANM', 644L),\n",
       " (u'ACE', 468L),\n",
       " (u'AEA', 465L),\n",
       " (u'AWP', 397L),\n",
       " (u'AAL', 388L),\n",
       " (u'ANE', 179L),\n",
       " (None, 0L)]"
      ]
     },
     "execution_count": 63,
     "metadata": {},
     "output_type": "execute_result"
    }
   ],
   "source": [
    "%%sql \n",
    "\n",
    "SELECT faa_region, COUNT(DISTINCT ap_name) AS airports \n",
    "FROM airport_info \n",
    "GROUP BY faa_region \n",
    "ORDER BY airports DESC;"
   ]
  },
  {
   "cell_type": "code",
   "execution_count": null,
   "metadata": {
    "collapsed": true
   },
   "outputs": [],
   "source": []
  },
  {
   "cell_type": "code",
   "execution_count": 59,
   "metadata": {
    "collapsed": true
   },
   "outputs": [],
   "source": [
    "# total # of facility_type"
   ]
  },
  {
   "cell_type": "code",
   "execution_count": 60,
   "metadata": {
    "collapsed": false
   },
   "outputs": [
    {
     "name": "stdout",
     "output_type": "stream",
     "text": [
      "1 rows affected.\n"
     ]
    },
    {
     "data": {
      "text/html": [
       "<table>\n",
       "    <tr>\n",
       "        <th>count</th>\n",
       "    </tr>\n",
       "    <tr>\n",
       "        <td>1</td>\n",
       "    </tr>\n",
       "</table>"
      ],
      "text/plain": [
       "[(1L,)]"
      ]
     },
     "execution_count": 60,
     "metadata": {},
     "output_type": "execute_result"
    }
   ],
   "source": [
    "%%sql \n",
    "\n",
    "SELECT COUNT(DISTINCT facility_type) FROM airport_info;"
   ]
  },
  {
   "cell_type": "code",
   "execution_count": 61,
   "metadata": {
    "collapsed": false
   },
   "outputs": [
    {
     "name": "stdout",
     "output_type": "stream",
     "text": [
      "1 rows affected.\n"
     ]
    },
    {
     "data": {
      "text/html": [
       "<table>\n",
       "    <tr>\n",
       "        <th>count</th>\n",
       "    </tr>\n",
       "    <tr>\n",
       "        <td>5164</td>\n",
       "    </tr>\n",
       "</table>"
      ],
      "text/plain": [
       "[(5164L,)]"
      ]
     },
     "execution_count": 61,
     "metadata": {},
     "output_type": "execute_result"
    }
   ],
   "source": [
    "%%sql \n",
    "\n",
    "SELECT COUNT(facility_type) FROM airport_info;"
   ]
  },
  {
   "cell_type": "code",
   "execution_count": 62,
   "metadata": {
    "collapsed": true
   },
   "outputs": [],
   "source": [
    "#table below proves I can drop this column"
   ]
  },
  {
   "cell_type": "code",
   "execution_count": 63,
   "metadata": {
    "collapsed": false
   },
   "outputs": [
    {
     "name": "stdout",
     "output_type": "stream",
     "text": [
      "2 rows affected.\n"
     ]
    },
    {
     "data": {
      "text/html": [
       "<table>\n",
       "    <tr>\n",
       "        <th>facility_type</th>\n",
       "        <th>airports</th>\n",
       "    </tr>\n",
       "    <tr>\n",
       "        <td>Airport</td>\n",
       "        <td>5164</td>\n",
       "    </tr>\n",
       "    <tr>\n",
       "        <td>None</td>\n",
       "        <td>3</td>\n",
       "    </tr>\n",
       "</table>"
      ],
      "text/plain": [
       "[(u'Airport', 5164L), (None, 3L)]"
      ]
     },
     "execution_count": 63,
     "metadata": {},
     "output_type": "execute_result"
    }
   ],
   "source": [
    "%%sql \n",
    "\n",
    "SELECT facility_type, COUNT(*) AS airports \n",
    "FROM airport_info \n",
    "GROUP BY facility_type \n",
    "ORDER BY airports DESC;"
   ]
  },
  {
   "cell_type": "code",
   "execution_count": null,
   "metadata": {
    "collapsed": true
   },
   "outputs": [],
   "source": []
  },
  {
   "cell_type": "code",
   "execution_count": 64,
   "metadata": {
    "collapsed": true
   },
   "outputs": [],
   "source": [
    "# total # of key"
   ]
  },
  {
   "cell_type": "code",
   "execution_count": 65,
   "metadata": {
    "collapsed": false
   },
   "outputs": [
    {
     "name": "stdout",
     "output_type": "stream",
     "text": [
      "1 rows affected.\n"
     ]
    },
    {
     "data": {
      "text/html": [
       "<table>\n",
       "    <tr>\n",
       "        <th>count</th>\n",
       "    </tr>\n",
       "    <tr>\n",
       "        <td>5164</td>\n",
       "    </tr>\n",
       "</table>"
      ],
      "text/plain": [
       "[(5164L,)]"
      ]
     },
     "execution_count": 65,
     "metadata": {},
     "output_type": "execute_result"
    }
   ],
   "source": [
    "%%sql \n",
    "\n",
    "SELECT COUNT(DISTINCT key) FROM airport_info;"
   ]
  },
  {
   "cell_type": "code",
   "execution_count": 66,
   "metadata": {
    "collapsed": false
   },
   "outputs": [
    {
     "name": "stdout",
     "output_type": "stream",
     "text": [
      "1 rows affected.\n"
     ]
    },
    {
     "data": {
      "text/html": [
       "<table>\n",
       "    <tr>\n",
       "        <th>count</th>\n",
       "    </tr>\n",
       "    <tr>\n",
       "        <td>5164</td>\n",
       "    </tr>\n",
       "</table>"
      ],
      "text/plain": [
       "[(5164L,)]"
      ]
     },
     "execution_count": 66,
     "metadata": {},
     "output_type": "execute_result"
    }
   ],
   "source": [
    "%%sql \n",
    "\n",
    "SELECT COUNT(key) FROM airport_info;"
   ]
  },
  {
   "cell_type": "code",
   "execution_count": 67,
   "metadata": {
    "collapsed": true
   },
   "outputs": [],
   "source": [
    "#table below also shows # of airports per key, I believe"
   ]
  },
  {
   "cell_type": "code",
   "execution_count": 68,
   "metadata": {
    "collapsed": false
   },
   "outputs": [
    {
     "name": "stdout",
     "output_type": "stream",
     "text": [
      "4 rows affected.\n"
     ]
    },
    {
     "data": {
      "text/html": [
       "<table>\n",
       "    <tr>\n",
       "        <th>key</th>\n",
       "        <th>airports</th>\n",
       "    </tr>\n",
       "    <tr>\n",
       "        <td>None</td>\n",
       "        <td>3</td>\n",
       "    </tr>\n",
       "    <tr>\n",
       "        <td>2291.0</td>\n",
       "        <td>1</td>\n",
       "    </tr>\n",
       "    <tr>\n",
       "        <td>4717.0</td>\n",
       "        <td>1</td>\n",
       "    </tr>\n",
       "    <tr>\n",
       "        <td>2186.0</td>\n",
       "        <td>1</td>\n",
       "    </tr>\n",
       "</table>"
      ],
      "text/plain": [
       "[(None, 3L), (2291.0, 1L), (4717.0, 1L), (2186.0, 1L)]"
      ]
     },
     "execution_count": 68,
     "metadata": {},
     "output_type": "execute_result"
    }
   ],
   "source": [
    "%%sql \n",
    "\n",
    "SELECT key, COUNT(*) AS airports \n",
    "FROM airport_info \n",
    "GROUP BY key \n",
    "ORDER BY airports DESC \n",
    "LIMIT 4;"
   ]
  },
  {
   "cell_type": "code",
   "execution_count": null,
   "metadata": {
    "collapsed": true
   },
   "outputs": [],
   "source": []
  },
  {
   "cell_type": "code",
   "execution_count": 69,
   "metadata": {
    "collapsed": true
   },
   "outputs": [],
   "source": [
    "# total # of boundary_data_available"
   ]
  },
  {
   "cell_type": "code",
   "execution_count": 70,
   "metadata": {
    "collapsed": false
   },
   "outputs": [
    {
     "name": "stdout",
     "output_type": "stream",
     "text": [
      "1 rows affected.\n"
     ]
    },
    {
     "data": {
      "text/html": [
       "<table>\n",
       "    <tr>\n",
       "        <th>count</th>\n",
       "    </tr>\n",
       "    <tr>\n",
       "        <td>2</td>\n",
       "    </tr>\n",
       "</table>"
      ],
      "text/plain": [
       "[(2L,)]"
      ]
     },
     "execution_count": 70,
     "metadata": {},
     "output_type": "execute_result"
    }
   ],
   "source": [
    "%%sql \n",
    "\n",
    "SELECT COUNT(DISTINCT boundary_data_available) FROM airport_info;"
   ]
  },
  {
   "cell_type": "code",
   "execution_count": 71,
   "metadata": {
    "collapsed": false
   },
   "outputs": [
    {
     "name": "stdout",
     "output_type": "stream",
     "text": [
      "1 rows affected.\n"
     ]
    },
    {
     "data": {
      "text/html": [
       "<table>\n",
       "    <tr>\n",
       "        <th>count</th>\n",
       "    </tr>\n",
       "    <tr>\n",
       "        <td>5164</td>\n",
       "    </tr>\n",
       "</table>"
      ],
      "text/plain": [
       "[(5164L,)]"
      ]
     },
     "execution_count": 71,
     "metadata": {},
     "output_type": "execute_result"
    }
   ],
   "source": [
    "%%sql \n",
    "\n",
    "SELECT COUNT(boundary_data_available) FROM airport_info;"
   ]
  },
  {
   "cell_type": "code",
   "execution_count": 72,
   "metadata": {
    "collapsed": true
   },
   "outputs": [],
   "source": [
    "#table below also shows # of airports per boundary_data_available, I believe"
   ]
  },
  {
   "cell_type": "code",
   "execution_count": 73,
   "metadata": {
    "collapsed": false
   },
   "outputs": [
    {
     "name": "stdout",
     "output_type": "stream",
     "text": [
      "3 rows affected.\n"
     ]
    },
    {
     "data": {
      "text/html": [
       "<table>\n",
       "    <tr>\n",
       "        <th>boundary_data_available</th>\n",
       "        <th>airports</th>\n",
       "    </tr>\n",
       "    <tr>\n",
       "        <td>Yes</td>\n",
       "        <td>3498</td>\n",
       "    </tr>\n",
       "    <tr>\n",
       "        <td>No</td>\n",
       "        <td>1666</td>\n",
       "    </tr>\n",
       "    <tr>\n",
       "        <td>None</td>\n",
       "        <td>3</td>\n",
       "    </tr>\n",
       "</table>"
      ],
      "text/plain": [
       "[(u'Yes', 3498L), (u'No', 1666L), (None, 3L)]"
      ]
     },
     "execution_count": 73,
     "metadata": {},
     "output_type": "execute_result"
    }
   ],
   "source": [
    "%%sql \n",
    "\n",
    "SELECT boundary_data_available, COUNT(*) AS airports \n",
    "FROM airport_info \n",
    "GROUP BY boundary_data_available \n",
    "ORDER BY airports DESC;"
   ]
  },
  {
   "cell_type": "code",
   "execution_count": null,
   "metadata": {
    "collapsed": true
   },
   "outputs": [],
   "source": []
  },
  {
   "cell_type": "code",
   "execution_count": 74,
   "metadata": {
    "collapsed": true
   },
   "outputs": [],
   "source": [
    "# total # of airports in airport ops dataset"
   ]
  },
  {
   "cell_type": "code",
   "execution_count": 75,
   "metadata": {
    "collapsed": false
   },
   "outputs": [
    {
     "name": "stdout",
     "output_type": "stream",
     "text": [
      "1 rows affected.\n"
     ]
    },
    {
     "data": {
      "text/html": [
       "<table>\n",
       "    <tr>\n",
       "        <th>count</th>\n",
       "    </tr>\n",
       "    <tr>\n",
       "        <td>77</td>\n",
       "    </tr>\n",
       "</table>"
      ],
      "text/plain": [
       "[(77L,)]"
      ]
     },
     "execution_count": 75,
     "metadata": {},
     "output_type": "execute_result"
    }
   ],
   "source": [
    "%%sql \n",
    "\n",
    "SELECT COUNT(DISTINCT airport) FROM airport_ops;"
   ]
  },
  {
   "cell_type": "code",
   "execution_count": 76,
   "metadata": {
    "collapsed": false
   },
   "outputs": [
    {
     "name": "stdout",
     "output_type": "stream",
     "text": [
      "1 rows affected.\n"
     ]
    },
    {
     "data": {
      "text/html": [
       "<table>\n",
       "    <tr>\n",
       "        <th>count</th>\n",
       "    </tr>\n",
       "    <tr>\n",
       "        <td>841</td>\n",
       "    </tr>\n",
       "</table>"
      ],
      "text/plain": [
       "[(841L,)]"
      ]
     },
     "execution_count": 76,
     "metadata": {},
     "output_type": "execute_result"
    }
   ],
   "source": [
    "%%sql \n",
    "\n",
    "SELECT COUNT(airport) FROM airport_ops;"
   ]
  },
  {
   "cell_type": "code",
   "execution_count": 77,
   "metadata": {
    "collapsed": true
   },
   "outputs": [],
   "source": [
    "#table below also shows # of years of data per airport, I believe (airport ops dataset)"
   ]
  },
  {
   "cell_type": "code",
   "execution_count": 84,
   "metadata": {
    "collapsed": false
   },
   "outputs": [
    {
     "name": "stdout",
     "output_type": "stream",
     "text": [
      "10 rows affected.\n"
     ]
    },
    {
     "data": {
      "text/html": [
       "<table>\n",
       "    <tr>\n",
       "        <th>airport</th>\n",
       "        <th>no_years</th>\n",
       "    </tr>\n",
       "    <tr>\n",
       "        <td>SMF</td>\n",
       "        <td>8</td>\n",
       "    </tr>\n",
       "    <tr>\n",
       "        <td>PSP</td>\n",
       "        <td>8</td>\n",
       "    </tr>\n",
       "    <tr>\n",
       "        <td>SJC</td>\n",
       "        <td>11</td>\n",
       "    </tr>\n",
       "    <tr>\n",
       "        <td>ANC</td>\n",
       "        <td>11</td>\n",
       "    </tr>\n",
       "    <tr>\n",
       "        <td>IAD</td>\n",
       "        <td>11</td>\n",
       "    </tr>\n",
       "    <tr>\n",
       "        <td>BOS</td>\n",
       "        <td>11</td>\n",
       "    </tr>\n",
       "    <tr>\n",
       "        <td>HOU</td>\n",
       "        <td>11</td>\n",
       "    </tr>\n",
       "    <tr>\n",
       "        <td>EWR</td>\n",
       "        <td>11</td>\n",
       "    </tr>\n",
       "    <tr>\n",
       "        <td>PIT</td>\n",
       "        <td>11</td>\n",
       "    </tr>\n",
       "    <tr>\n",
       "        <td>BNA</td>\n",
       "        <td>11</td>\n",
       "    </tr>\n",
       "</table>"
      ],
      "text/plain": [
       "[(u'SMF', 8L),\n",
       " (u'PSP', 8L),\n",
       " (u'SJC', 11L),\n",
       " (u'ANC', 11L),\n",
       " (u'IAD', 11L),\n",
       " (u'BOS', 11L),\n",
       " (u'HOU', 11L),\n",
       " (u'EWR', 11L),\n",
       " (u'PIT', 11L),\n",
       " (u'BNA', 11L)]"
      ]
     },
     "execution_count": 84,
     "metadata": {},
     "output_type": "execute_result"
    }
   ],
   "source": [
    "%%sql \n",
    "\n",
    "SELECT airport, COUNT(*) AS No_years \n",
    "FROM airport_ops \n",
    "GROUP BY airport \n",
    "ORDER BY No_Years\n",
    "LIMIT 10;"
   ]
  },
  {
   "cell_type": "code",
   "execution_count": 79,
   "metadata": {
    "collapsed": true
   },
   "outputs": [],
   "source": [
    "# total # of years in airport ops dataset"
   ]
  },
  {
   "cell_type": "code",
   "execution_count": 80,
   "metadata": {
    "collapsed": false
   },
   "outputs": [
    {
     "name": "stdout",
     "output_type": "stream",
     "text": [
      "1 rows affected.\n"
     ]
    },
    {
     "data": {
      "text/html": [
       "<table>\n",
       "    <tr>\n",
       "        <th>count</th>\n",
       "    </tr>\n",
       "    <tr>\n",
       "        <td>11</td>\n",
       "    </tr>\n",
       "</table>"
      ],
      "text/plain": [
       "[(11L,)]"
      ]
     },
     "execution_count": 80,
     "metadata": {},
     "output_type": "execute_result"
    }
   ],
   "source": [
    "%%sql \n",
    "\n",
    "SELECT COUNT(DISTINCT year) FROM airport_ops;"
   ]
  },
  {
   "cell_type": "code",
   "execution_count": 81,
   "metadata": {
    "collapsed": false
   },
   "outputs": [
    {
     "name": "stdout",
     "output_type": "stream",
     "text": [
      "1 rows affected.\n"
     ]
    },
    {
     "data": {
      "text/html": [
       "<table>\n",
       "    <tr>\n",
       "        <th>count</th>\n",
       "    </tr>\n",
       "    <tr>\n",
       "        <td>841</td>\n",
       "    </tr>\n",
       "</table>"
      ],
      "text/plain": [
       "[(841L,)]"
      ]
     },
     "execution_count": 81,
     "metadata": {},
     "output_type": "execute_result"
    }
   ],
   "source": [
    "%%sql \n",
    "\n",
    "SELECT COUNT(year) FROM airport_ops;"
   ]
  },
  {
   "cell_type": "code",
   "execution_count": 82,
   "metadata": {
    "collapsed": true
   },
   "outputs": [],
   "source": [
    "#table below also shows # of airports per year in airport ops dataset"
   ]
  },
  {
   "cell_type": "code",
   "execution_count": 83,
   "metadata": {
    "collapsed": false
   },
   "outputs": [
    {
     "name": "stdout",
     "output_type": "stream",
     "text": [
      "11 rows affected.\n"
     ]
    },
    {
     "data": {
      "text/html": [
       "<table>\n",
       "    <tr>\n",
       "        <th>year</th>\n",
       "        <th>number</th>\n",
       "    </tr>\n",
       "    <tr>\n",
       "        <td>2014</td>\n",
       "        <td>77</td>\n",
       "    </tr>\n",
       "    <tr>\n",
       "        <td>2013</td>\n",
       "        <td>77</td>\n",
       "    </tr>\n",
       "    <tr>\n",
       "        <td>2012</td>\n",
       "        <td>77</td>\n",
       "    </tr>\n",
       "    <tr>\n",
       "        <td>2011</td>\n",
       "        <td>77</td>\n",
       "    </tr>\n",
       "    <tr>\n",
       "        <td>2010</td>\n",
       "        <td>77</td>\n",
       "    </tr>\n",
       "    <tr>\n",
       "        <td>2009</td>\n",
       "        <td>77</td>\n",
       "    </tr>\n",
       "    <tr>\n",
       "        <td>2008</td>\n",
       "        <td>77</td>\n",
       "    </tr>\n",
       "    <tr>\n",
       "        <td>2007</td>\n",
       "        <td>77</td>\n",
       "    </tr>\n",
       "    <tr>\n",
       "        <td>2006</td>\n",
       "        <td>75</td>\n",
       "    </tr>\n",
       "    <tr>\n",
       "        <td>2005</td>\n",
       "        <td>75</td>\n",
       "    </tr>\n",
       "    <tr>\n",
       "        <td>2004</td>\n",
       "        <td>75</td>\n",
       "    </tr>\n",
       "</table>"
      ],
      "text/plain": [
       "[(2014L, 77L),\n",
       " (2013L, 77L),\n",
       " (2012L, 77L),\n",
       " (2011L, 77L),\n",
       " (2010L, 77L),\n",
       " (2009L, 77L),\n",
       " (2008L, 77L),\n",
       " (2007L, 77L),\n",
       " (2006L, 75L),\n",
       " (2005L, 75L),\n",
       " (2004L, 75L)]"
      ]
     },
     "execution_count": 83,
     "metadata": {},
     "output_type": "execute_result"
    }
   ],
   "source": [
    "%%sql \n",
    "\n",
    "SELECT year, COUNT(*) AS number \n",
    "FROM airport_ops \n",
    "GROUP BY year \n",
    "ORDER BY year DESC;"
   ]
  },
  {
   "cell_type": "code",
   "execution_count": null,
   "metadata": {
    "collapsed": true
   },
   "outputs": [],
   "source": []
  },
  {
   "cell_type": "code",
   "execution_count": 84,
   "metadata": {
    "collapsed": true
   },
   "outputs": [],
   "source": [
    "# total # of airports in airport_cancels dataset"
   ]
  },
  {
   "cell_type": "code",
   "execution_count": 85,
   "metadata": {
    "collapsed": false
   },
   "outputs": [
    {
     "name": "stdout",
     "output_type": "stream",
     "text": [
      "1 rows affected.\n"
     ]
    },
    {
     "data": {
      "text/html": [
       "<table>\n",
       "    <tr>\n",
       "        <th>count</th>\n",
       "    </tr>\n",
       "    <tr>\n",
       "        <td>74</td>\n",
       "    </tr>\n",
       "</table>"
      ],
      "text/plain": [
       "[(74L,)]"
      ]
     },
     "execution_count": 85,
     "metadata": {},
     "output_type": "execute_result"
    }
   ],
   "source": [
    "%%sql \n",
    "\n",
    "SELECT COUNT(DISTINCT airport) FROM airport_cancels;"
   ]
  },
  {
   "cell_type": "code",
   "execution_count": 86,
   "metadata": {
    "collapsed": false
   },
   "outputs": [
    {
     "name": "stdout",
     "output_type": "stream",
     "text": [
      "1 rows affected.\n"
     ]
    },
    {
     "data": {
      "text/html": [
       "<table>\n",
       "    <tr>\n",
       "        <th>count</th>\n",
       "    </tr>\n",
       "    <tr>\n",
       "        <td>805</td>\n",
       "    </tr>\n",
       "</table>"
      ],
      "text/plain": [
       "[(805L,)]"
      ]
     },
     "execution_count": 86,
     "metadata": {},
     "output_type": "execute_result"
    }
   ],
   "source": [
    "%%sql \n",
    "\n",
    "SELECT COUNT(airport) FROM airport_cancels;"
   ]
  },
  {
   "cell_type": "code",
   "execution_count": 87,
   "metadata": {
    "collapsed": true
   },
   "outputs": [],
   "source": [
    "#table below also shows # of years per airport in airport cancels dataset"
   ]
  },
  {
   "cell_type": "code",
   "execution_count": 85,
   "metadata": {
    "collapsed": false
   },
   "outputs": [
    {
     "name": "stdout",
     "output_type": "stream",
     "text": [
      "10 rows affected.\n"
     ]
    },
    {
     "data": {
      "text/html": [
       "<table>\n",
       "    <tr>\n",
       "        <th>airport</th>\n",
       "        <th>no_years</th>\n",
       "    </tr>\n",
       "    <tr>\n",
       "        <td>RFD</td>\n",
       "        <td>6</td>\n",
       "    </tr>\n",
       "    <tr>\n",
       "        <td>OXR</td>\n",
       "        <td>7</td>\n",
       "    </tr>\n",
       "    <tr>\n",
       "        <td>SJC</td>\n",
       "        <td>11</td>\n",
       "    </tr>\n",
       "    <tr>\n",
       "        <td>IAD</td>\n",
       "        <td>11</td>\n",
       "    </tr>\n",
       "    <tr>\n",
       "        <td>ANC</td>\n",
       "        <td>11</td>\n",
       "    </tr>\n",
       "    <tr>\n",
       "        <td>EWR</td>\n",
       "        <td>11</td>\n",
       "    </tr>\n",
       "    <tr>\n",
       "        <td>HOU</td>\n",
       "        <td>11</td>\n",
       "    </tr>\n",
       "    <tr>\n",
       "        <td>BOS</td>\n",
       "        <td>11</td>\n",
       "    </tr>\n",
       "    <tr>\n",
       "        <td>PIT</td>\n",
       "        <td>11</td>\n",
       "    </tr>\n",
       "    <tr>\n",
       "        <td>BNA</td>\n",
       "        <td>11</td>\n",
       "    </tr>\n",
       "</table>"
      ],
      "text/plain": [
       "[(u'RFD', 6L),\n",
       " (u'OXR', 7L),\n",
       " (u'SJC', 11L),\n",
       " (u'IAD', 11L),\n",
       " (u'ANC', 11L),\n",
       " (u'EWR', 11L),\n",
       " (u'HOU', 11L),\n",
       " (u'BOS', 11L),\n",
       " (u'PIT', 11L),\n",
       " (u'BNA', 11L)]"
      ]
     },
     "execution_count": 85,
     "metadata": {},
     "output_type": "execute_result"
    }
   ],
   "source": [
    "%%sql \n",
    "\n",
    "SELECT airport, COUNT(*) AS No_years \n",
    "FROM airport_cancels \n",
    "GROUP BY airport \n",
    "ORDER BY No_years\n",
    "LIMIT 10;"
   ]
  },
  {
   "cell_type": "code",
   "execution_count": null,
   "metadata": {
    "collapsed": true
   },
   "outputs": [],
   "source": []
  },
  {
   "cell_type": "code",
   "execution_count": 89,
   "metadata": {
    "collapsed": true
   },
   "outputs": [],
   "source": [
    "#table below also shows # of airports per year of data in airport cancels dataset"
   ]
  },
  {
   "cell_type": "code",
   "execution_count": 90,
   "metadata": {
    "collapsed": false
   },
   "outputs": [
    {
     "name": "stdout",
     "output_type": "stream",
     "text": [
      "11 rows affected.\n"
     ]
    },
    {
     "data": {
      "text/html": [
       "<table>\n",
       "    <tr>\n",
       "        <th>year</th>\n",
       "        <th>number</th>\n",
       "    </tr>\n",
       "    <tr>\n",
       "        <td>2014.0</td>\n",
       "        <td>72</td>\n",
       "    </tr>\n",
       "    <tr>\n",
       "        <td>2013.0</td>\n",
       "        <td>73</td>\n",
       "    </tr>\n",
       "    <tr>\n",
       "        <td>2012.0</td>\n",
       "        <td>73</td>\n",
       "    </tr>\n",
       "    <tr>\n",
       "        <td>2011.0</td>\n",
       "        <td>73</td>\n",
       "    </tr>\n",
       "    <tr>\n",
       "        <td>2010.0</td>\n",
       "        <td>73</td>\n",
       "    </tr>\n",
       "    <tr>\n",
       "        <td>2009.0</td>\n",
       "        <td>73</td>\n",
       "    </tr>\n",
       "    <tr>\n",
       "        <td>2008.0</td>\n",
       "        <td>74</td>\n",
       "    </tr>\n",
       "    <tr>\n",
       "        <td>2007.0</td>\n",
       "        <td>74</td>\n",
       "    </tr>\n",
       "    <tr>\n",
       "        <td>2006.0</td>\n",
       "        <td>74</td>\n",
       "    </tr>\n",
       "    <tr>\n",
       "        <td>2005.0</td>\n",
       "        <td>73</td>\n",
       "    </tr>\n",
       "    <tr>\n",
       "        <td>2004.0</td>\n",
       "        <td>73</td>\n",
       "    </tr>\n",
       "</table>"
      ],
      "text/plain": [
       "[(2014.0, 72L),\n",
       " (2013.0, 73L),\n",
       " (2012.0, 73L),\n",
       " (2011.0, 73L),\n",
       " (2010.0, 73L),\n",
       " (2009.0, 73L),\n",
       " (2008.0, 74L),\n",
       " (2007.0, 74L),\n",
       " (2006.0, 74L),\n",
       " (2005.0, 73L),\n",
       " (2004.0, 73L)]"
      ]
     },
     "execution_count": 90,
     "metadata": {},
     "output_type": "execute_result"
    }
   ],
   "source": [
    "%%sql \n",
    "\n",
    "SELECT year, COUNT(*) AS number \n",
    "FROM airport_cancels \n",
    "GROUP BY year \n",
    "ORDER BY year DESC;"
   ]
  },
  {
   "cell_type": "code",
   "execution_count": null,
   "metadata": {
    "collapsed": true
   },
   "outputs": [],
   "source": []
  },
  {
   "cell_type": "markdown",
   "metadata": {
    "focus": false,
    "id": "0b511b59-41ea-478f-bf2d-7e392dc9edaa"
   },
   "source": [
    "#### 1.2 Risks and assumptions of data"
   ]
  },
  {
   "cell_type": "markdown",
   "metadata": {
    "focus": false,
    "id": "0936ff6a-6919-4436-9fc1-d6ef90d5ba9e"
   },
   "source": [
    "Risks: \n",
    "- Two tables (airport_ops and airport_cancels) don't match\n",
    "- Do not have 11 years worth of data for all airports\n",
    "\n",
    "Assumptions: \n",
    "- Data is normally distributed (will look into this during EDA) \n",
    "- Not a lot of missing values (so will be able to drop these NaNs)"
   ]
  }
 ],
 "metadata": {
  "kernelspec": {
   "display_name": "Python 2",
   "language": "python",
   "name": "python2"
  },
  "language_info": {
   "codemirror_mode": {
    "name": "ipython",
    "version": 2
   },
   "file_extension": ".py",
   "mimetype": "text/x-python",
   "name": "python",
   "nbconvert_exporter": "python",
   "pygments_lexer": "ipython2",
   "version": "2.7.9"
  }
 },
 "nbformat": 4,
 "nbformat_minor": 0
}
