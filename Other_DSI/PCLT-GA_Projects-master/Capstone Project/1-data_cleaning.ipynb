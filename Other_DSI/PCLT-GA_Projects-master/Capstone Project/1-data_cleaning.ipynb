{
 "cells": [
  {
   "cell_type": "markdown",
   "metadata": {},
   "source": [
    "### Overview\n",
    "This notebook details the data acquisition, data cleaning and feature engineering."
   ]
  },
  {
   "cell_type": "code",
   "execution_count": 26,
   "metadata": {
    "collapsed": true
   },
   "outputs": [],
   "source": [
    "import pandas as pd\n",
    "import numpy as np\n",
    "import matplotlib.pyplot as plt\n",
    "% matplotlib inline\n",
    "plt.style.use('ggplot')\n",
    "import bs4\n",
    "from bs4 import BeautifulSoup\n",
    "import requests\n",
    "import re\n",
    "import json\n",
    "from __future__ import division\n",
    "from difflib import get_close_matches\n",
    "from datetime import date\n",
    "import datetime\n",
    "from datetime import datetime\n",
    "import seaborn as sns\n",
    "import pickle\n",
    "from nltk.corpus import words"
   ]
  },
  {
   "cell_type": "markdown",
   "metadata": {},
   "source": [
    "Data were collected from City of Austin Open Data (https://data.austintexas.gov/browse?q=animal&sortBy=relevance&utf8=%E2%9C%93), and encompass animal shelter intakes from October 2013 to July 2016, and outcomes from October 2013 to February 2016."
   ]
  },
  {
   "cell_type": "code",
   "execution_count": 45,
   "metadata": {
    "collapsed": true
   },
   "outputs": [],
   "source": [
    "# read in outcome and intake data\n",
    "outcome = pd.read_csv(\"data/austin_outcomes.csv\")\n",
    "intake = pd.read_csv(\"data/austin_intakes.csv\")"
   ]
  },
  {
   "cell_type": "code",
   "execution_count": 46,
   "metadata": {
    "collapsed": false
   },
   "outputs": [
    {
     "data": {
      "text/plain": [
       "43870"
      ]
     },
     "execution_count": 46,
     "metadata": {},
     "output_type": "execute_result"
    }
   ],
   "source": [
    "len(outcome)"
   ]
  },
  {
   "cell_type": "code",
   "execution_count": 47,
   "metadata": {
    "collapsed": true
   },
   "outputs": [],
   "source": [
    "# subset to dogs only\n",
    "outcome = outcome[outcome[\"Animal Type\"]==\"Dog\"]\n",
    "intake = intake[intake[\"Animal Type\"]==\"Dog\"]\n",
    "# convert date to datetime\n",
    "intake[\"DateTime\"] = intake[\"DateTime\"].apply(lambda x: pd.to_datetime(x).date())\n",
    "outcome[\"DateTime\"] = outcome[\"DateTime\"].apply(lambda x: pd.to_datetime(x).date())\n",
    "outcome.drop(\"MonthYear\", axis=1, inplace=True)\n",
    "intake.drop(\"MonthYear\", axis=1, inplace=True)\n",
    "# drop duplicated rows\n",
    "outcome = outcome.drop_duplicates()\n",
    "intake = intake.drop_duplicates()"
   ]
  },
  {
   "cell_type": "code",
   "execution_count": 48,
   "metadata": {
    "collapsed": true
   },
   "outputs": [],
   "source": [
    "# drop rows where animal ID and event date are the same - there are some duplicate entries\n",
    "outcome = outcome.drop_duplicates([\"Animal ID\",\"DateTime\"])\n",
    "intake = intake.drop_duplicates([\"Animal ID\",\"DateTime\"])"
   ]
  },
  {
   "cell_type": "markdown",
   "metadata": {},
   "source": [
    "\n",
    "Since some dogs appear in the data multiple times (i.e. they are taken into the shelter, and leave the shelter, more than once), in order to match each dog's intake to the correct outcome, the data can't simply be merged on dog ID."
   ]
  },
  {
   "cell_type": "code",
   "execution_count": 49,
   "metadata": {
    "collapsed": true
   },
   "outputs": [],
   "source": [
    "# sort dfs by date\n",
    "outcome = outcome.sort_values([\"DateTime\",\"Animal ID\"])\n",
    "intake = intake.sort_values([\"DateTime\",\"Animal ID\"])\n",
    "\n",
    "# match up intake dates with potential outcome dates for each animal and intake event.\n",
    "animal_list = []\n",
    "in_list = []\n",
    "out_list = []\n",
    "for i,j in zip(intake[\"Animal ID\"],intake[\"DateTime\"]):\n",
    "    animal_list.append(i)\n",
    "    in_list.append(j)\n",
    "    out_dates = list(outcome[outcome[\"Animal ID\"]==i][\"DateTime\"])\n",
    "    out_list.append(out_dates)"
   ]
  },
  {
   "cell_type": "code",
   "execution_count": 50,
   "metadata": {
    "collapsed": true
   },
   "outputs": [],
   "source": [
    "# create df\n",
    "date_df = pd.DataFrame(zip(animal_list,in_list,out_list), columns = [\"ID\",\"in_date\",\"out_date\"])\n",
    "# choose correct outcome date for each animal and intake (i.e. the earliest outcome date that is after intake)\n",
    "def correct_date(row):\n",
    "    for i in row[\"out_date\"]:\n",
    "        if i>=row[\"in_date\"]:\n",
    "            return i\n",
    "            break\n",
    "    else:\n",
    "        return np.nan\n",
    "date_df[\"correct_out\"] = date_df.apply(correct_date, axis=1)\n",
    "date_df.drop(\"out_date\", axis=1, inplace=True)\n",
    "date_df.columns = [\"ID\",\"in_date\",\"out_date\"]"
   ]
  },
  {
   "cell_type": "code",
   "execution_count": 51,
   "metadata": {
    "collapsed": false
   },
   "outputs": [
    {
     "data": {
      "text/html": [
       "<div>\n",
       "<table border=\"1\" class=\"dataframe\">\n",
       "  <thead>\n",
       "    <tr style=\"text-align: right;\">\n",
       "      <th></th>\n",
       "      <th>ID</th>\n",
       "      <th>in_date</th>\n",
       "      <th>out_date</th>\n",
       "    </tr>\n",
       "  </thead>\n",
       "  <tbody>\n",
       "    <tr>\n",
       "      <th>0</th>\n",
       "      <td>A477934</td>\n",
       "      <td>2013-10-01</td>\n",
       "      <td>2013-10-02</td>\n",
       "    </tr>\n",
       "    <tr>\n",
       "      <th>1</th>\n",
       "      <td>A521520</td>\n",
       "      <td>2013-10-01</td>\n",
       "      <td>2013-10-01</td>\n",
       "    </tr>\n",
       "    <tr>\n",
       "      <th>2</th>\n",
       "      <td>A634503</td>\n",
       "      <td>2013-10-01</td>\n",
       "      <td>2013-10-02</td>\n",
       "    </tr>\n",
       "    <tr>\n",
       "      <th>3</th>\n",
       "      <td>A636021</td>\n",
       "      <td>2013-10-01</td>\n",
       "      <td>2013-10-12</td>\n",
       "    </tr>\n",
       "    <tr>\n",
       "      <th>4</th>\n",
       "      <td>A639030</td>\n",
       "      <td>2013-10-01</td>\n",
       "      <td>2013-10-02</td>\n",
       "    </tr>\n",
       "  </tbody>\n",
       "</table>\n",
       "</div>"
      ],
      "text/plain": [
       "        ID     in_date    out_date\n",
       "0  A477934  2013-10-01  2013-10-02\n",
       "1  A521520  2013-10-01  2013-10-01\n",
       "2  A634503  2013-10-01  2013-10-02\n",
       "3  A636021  2013-10-01  2013-10-12\n",
       "4  A639030  2013-10-01  2013-10-02"
      ]
     },
     "execution_count": 51,
     "metadata": {},
     "output_type": "execute_result"
    }
   ],
   "source": [
    "date_df.head()"
   ]
  },
  {
   "cell_type": "code",
   "execution_count": 52,
   "metadata": {
    "collapsed": true
   },
   "outputs": [],
   "source": [
    "# merged with intake data\n",
    "joined = pd.merge(date_df, intake, left_on = [\"ID\",\"in_date\"], right_on = [\"Animal ID\",\"DateTime\"])\n",
    "# merge with outcome data\n",
    "joined = pd.merge(joined, outcome, how = \"left\", left_on = [\"ID\",\"out_date\"], right_on = [\"Animal ID\",\"DateTime\"])\n",
    "# drop extra date columns\n",
    "joined.drop([\"DateTime_x\",\"DateTime_y\"], axis=1, inplace=True)\n",
    "# convert date columns to datetime\n",
    "joined[\"in_date\"] = joined[\"in_date\"].apply(lambda x: pd.to_datetime(x).date())\n",
    "joined[\"out_date\"] = joined[\"out_date\"].apply(lambda x: pd.to_datetime(x).date())"
   ]
  },
  {
   "cell_type": "markdown",
   "metadata": {},
   "source": [
    "\n",
    "Since it's reasonable to assume that the speed with which a dog is adopted would depend on the total number of other dogs in the shelter, a count of the total number of dogs in the shelter for each day in the study is calculated."
   ]
  },
  {
   "cell_type": "code",
   "execution_count": 53,
   "metadata": {
    "collapsed": true
   },
   "outputs": [],
   "source": [
    "# count the total number of dogs in the shelter for each day in the study (i.e. the number of dogs who enetered on or \n",
    "# before that day and have not yet left)\n",
    "\n",
    "day_1 = joined[\"in_date\"].min()\n",
    "day_n = joined[\"in_date\"].max()\n",
    "\n",
    "days = pd.date_range(day_1,day_n, freq='D')\n",
    "days = [day.date() for day in days]\n",
    "\n",
    "in_dates = list(joined[\"in_date\"])\n",
    "out_dates = list(joined[\"out_date\"])\n",
    "\n",
    "all_dates = zip(in_dates, out_dates)\n",
    "\n",
    "days_counter = []\n",
    "for d in days:\n",
    "    n=0\n",
    "    for i, j in all_dates:\n",
    "        if i<=d and d<=j:\n",
    "            n=n+1\n",
    "        else:\n",
    "            pass\n",
    "    days_counter.append(n)\n",
    "\n",
    "capacity_df = pd.DataFrame(zip(days,days_counter), columns=[\"date\",\"total_number_dogs\"])"
   ]
  },
  {
   "cell_type": "code",
   "execution_count": 54,
   "metadata": {
    "collapsed": false
   },
   "outputs": [
    {
     "data": {
      "text/plain": [
       "<matplotlib.axes._subplots.AxesSubplot at 0x11d54f5d0>"
      ]
     },
     "execution_count": 54,
     "metadata": {},
     "output_type": "execute_result"
    },
    {
     "data": {
      "image/png": "[encoded data removed]",
      "text/plain": [
       "<matplotlib.figure.Figure at 0x1184923d0>"
      ]
     },
     "metadata": {},
     "output_type": "display_data"
    }
   ],
   "source": [
    "capacity_df.plot(x=\"date\", title=\"Number of Dogs in the Shelter\")"
   ]
  },
  {
   "cell_type": "code",
   "execution_count": 55,
   "metadata": {
    "collapsed": true
   },
   "outputs": [],
   "source": [
    "# add the count of the total number of dogs to the dataframe of dog intake/outcomes.  the variable will be the \n",
    "# total number of dogs in the shelter on the day that the particular dog entered\n",
    "joined = pd.merge(joined, capacity_df, left_on=\"in_date\",right_on=\"date\", how=\"left\")\n",
    "joined.drop(\"date\", axis=1, inplace=True)"
   ]
  },
  {
   "cell_type": "code",
   "execution_count": 56,
   "metadata": {
    "collapsed": true
   },
   "outputs": [],
   "source": [
    "# further data cleaning\n",
    "# drop unnecessary columns\n",
    "keeps = [u'ID', u'in_date', u'out_date', u'Name_x',\n",
    "       u'Found Location', u'Intake Type', u'Intake Condition',\n",
    "       u'Sex upon Intake', u'Age upon Intake', u'Breed_x',\n",
    "       u'Color_x', u'Name_y', u'Outcome Type',\n",
    "       u'Outcome Subtype', u'Sex upon Outcome', u'total_number_dogs']\n",
    "merged = joined[keeps]"
   ]
  },
  {
   "cell_type": "code",
   "execution_count": 57,
   "metadata": {
    "collapsed": true
   },
   "outputs": [],
   "source": [
    "# rename columns \n",
    "merged.columns = [u'ID', u'in_date', u'out_date', u'in_name', u'location',\n",
    "       u'in_type', u'in_condition', u'in_sex',\n",
    "       u'in_age', u'in_breed', u'in_colour', u'out_name', u'outcome',\n",
    "       u'outcome_sub', u'out_sex', u'total_number_dogs']"
   ]
  },
  {
   "cell_type": "code",
   "execution_count": 58,
   "metadata": {
    "collapsed": false
   },
   "outputs": [
    {
     "name": "stderr",
     "output_type": "stream",
     "text": [
      "/Users/pt/anaconda/lib/python2.7/site-packages/ipykernel/__main__.py:2: SettingWithCopyWarning: \n",
      "A value is trying to be set on a copy of a slice from a DataFrame.\n",
      "Try using .loc[row_indexer,col_indexer] = value instead\n",
      "\n",
      "See the caveats in the documentation: http://pandas.pydata.org/pandas-docs/stable/indexing.html#indexing-view-versus-copy\n",
      "  from ipykernel import kernelapp as app\n",
      "/Users/pt/anaconda/lib/python2.7/site-packages/ipykernel/__main__.py:3: SettingWithCopyWarning: \n",
      "A value is trying to be set on a copy of a slice from a DataFrame.\n",
      "Try using .loc[row_indexer,col_indexer] = value instead\n",
      "\n",
      "See the caveats in the documentation: http://pandas.pydata.org/pandas-docs/stable/indexing.html#indexing-view-versus-copy\n",
      "  app.launch_new_instance()\n"
     ]
    }
   ],
   "source": [
    "# subset to data where outcome is available\n",
    "merged[\"in_date\"] = merged.loc[:,\"in_date\"].apply(lambda x: pd.to_datetime(x).date())\n",
    "merged[\"out_date\"] = merged.loc[:,\"out_date\"].apply(lambda x: pd.to_datetime(x).date())\n",
    "merged = merged[~pd.isnull(merged[\"out_date\"])]"
   ]
  },
  {
   "cell_type": "code",
   "execution_count": 59,
   "metadata": {
    "collapsed": true
   },
   "outputs": [],
   "source": [
    "# subset data to intakes from 2014/15 only. since outcomes data continues into february, this should avoid most\n",
    "# censorship if we only consider dogs who have recorded outcomes\n",
    "start_date = pd.to_datetime(\"1/1/2014\").date()\n",
    "end_date = pd.to_datetime(\"12/31/2015\").date()\n",
    "merged = merged[(merged[\"in_date\"]>=start_date)&(merged[\"in_date\"]<=end_date)]"
   ]
  },
  {
   "cell_type": "code",
   "execution_count": 60,
   "metadata": {
    "collapsed": true
   },
   "outputs": [],
   "source": [
    "# create column for number of days a dog is in a shelter\n",
    "merged[\"shelter_time\"] = merged.loc[:,\"out_date\"] - merged.loc[:,\"in_date\"]\n",
    "merged[\"shelter_time\"] = merged.loc[:,\"shelter_time\"].apply(lambda x: x / np.timedelta64(1, 'D')).astype(int)\n",
    "# remove any records for which shelter time is <0 -- these are obviously incorrect\n",
    "merged = merged[~merged[\"shelter_time\"]<0]"
   ]
  },
  {
   "cell_type": "code",
   "execution_count": 61,
   "metadata": {
    "collapsed": true
   },
   "outputs": [],
   "source": [
    "with open('merge1.pkl', 'w') as picklefile:\n",
    "    pickle.dump(merged, picklefile)"
   ]
  },
  {
   "cell_type": "code",
   "execution_count": 62,
   "metadata": {
    "collapsed": false
   },
   "outputs": [],
   "source": [
    "# split sex column into sex and neuter/spay\n",
    "# split sex into sex and neuter\n",
    "def split_sex(x,index):\n",
    "    try:\n",
    "        return x.split(\" \")[index]\n",
    "    except:\n",
    "        return np.nan\n",
    "\n",
    "merged[\"in_neuter\"] = merged[\"in_sex\"].apply(lambda x: split_sex(x,0))\n",
    "merged[\"in_sex\"] = merged[\"in_sex\"].apply(lambda x: split_sex(x,1))\n",
    "merged[\"out_neuter\"] = merged[\"out_sex\"].apply(lambda x: split_sex(x,0))\n",
    "\n",
    "def neuter(x):\n",
    "    if x ==\"Neutered\" or x==\"Spayed\":\n",
    "        return 1\n",
    "    elif x == \"Intact\":\n",
    "        return 0\n",
    "    else:\n",
    "        return x\n",
    "    \n",
    "merged[\"in_neuter\"] = merged[\"in_neuter\"].apply(neuter)\n",
    "merged[\"out_neuter\"] = merged[\"out_neuter\"].apply(neuter)"
   ]
  },
  {
   "cell_type": "code",
   "execution_count": 63,
   "metadata": {
    "collapsed": true
   },
   "outputs": [],
   "source": [
    "# convert age to float of number of years old\n",
    "def age_in_years(x):\n",
    "    age = x.split(\" \")\n",
    "    if age[1] in [\"week\",\"weeks\"]:\n",
    "        return int(age[0])/52\n",
    "    elif age[1] in [\"month\",\"months\"]:\n",
    "        return int(age[0])/12\n",
    "    else:\n",
    "        return int(age[0])\n",
    "\n",
    "merged[\"in_age\"] = merged[\"in_age\"].apply(age_in_years)"
   ]
  },
  {
   "cell_type": "markdown",
   "metadata": {},
   "source": [
    "\n",
    "For each dog, a string describing colouring is provided. There is little consistency in the naming, as can be seen from the excerpt below. To create consitency, all the descriptions are bucketed into: dark mix, dark, light mix, light, medium and medium mix."
   ]
  },
  {
   "cell_type": "code",
   "execution_count": 64,
   "metadata": {
    "collapsed": false
   },
   "outputs": [
    {
     "data": {
      "text/plain": [
       "array(['White', 'Sable/White', 'Black Brindle/White', 'Tan', 'Tan',\n",
       "       'White/Brown', 'Black/Brown', 'Blue Merle/White',\n",
       "       'Black Brindle/White', 'Brown/White'], dtype=object)"
      ]
     },
     "execution_count": 64,
     "metadata": {},
     "output_type": "execute_result"
    }
   ],
   "source": [
    "merged.loc[:,\"in_colour\"].values[:10]"
   ]
  },
  {
   "cell_type": "code",
   "execution_count": 65,
   "metadata": {
    "collapsed": false
   },
   "outputs": [
    {
     "name": "stdout",
     "output_type": "stream",
     "text": [
      "['Blue', 'Pink', 'Black', 'Sable', 'Orange', 'White', 'Red', 'Buff', 'Brown', 'Merle', 'Chocolate', 'Tiger', 'Liver', 'Tick', 'Silver', 'Gray', 'Apricot', 'Tabby', 'Ruddy', 'Smoke', 'Fawn', 'Gold', 'Tricolor', 'Yellow', 'Brindle', 'Tan', 'Cream']\n"
     ]
    }
   ],
   "source": [
    "# create a list of all unique colours that appear in descriptions\n",
    "all_colours = []\n",
    "for i in merged[\"in_colour\"]:\n",
    "    try:\n",
    "        x = i.split(\"/\")\n",
    "        try:\n",
    "            for j in x:\n",
    "                a = j.split(\" \")\n",
    "                for b in a:\n",
    "                    all_colours.append(b)\n",
    "        except:\n",
    "            for j in x:\n",
    "                all_colours.append(j)\n",
    "    except:\n",
    "        all_colours.append(i)\n",
    "        \n",
    "all_colours = list(set(all_colours))\n",
    "print all_colours"
   ]
  },
  {
   "cell_type": "code",
   "execution_count": 66,
   "metadata": {
    "collapsed": true
   },
   "outputs": [],
   "source": [
    "# create mapping of words to dark colours, medium colours, light colours, and mix\n",
    "med_col = ['Blue', 'Orange', 'Red', 'Silver', 'Gray', 'Apricot', 'Gold']\n",
    "light_col = ['Pink', 'Sable', 'White', 'Buff', 'Fawn', 'Yellow', 'Tan', 'Cream']\n",
    "dark_col = ['Black', 'Brown', 'Chocolate', 'Liver']\n",
    "mix_col = ['Merle', 'Tick', 'Tabby', 'Ruddy', 'Smoke', 'Tricolor', 'Tiger', 'Brindle']"
   ]
  },
  {
   "cell_type": "code",
   "execution_count": 67,
   "metadata": {
    "collapsed": true
   },
   "outputs": [],
   "source": [
    "# create colour mappings: if colour description has two or more colours, or contains a mix word (e.g. brindle),\n",
    "# dog is deemed to have mixed colouring.  if any of the colours in the description are dark colours, dog is deemed \n",
    "# to be dark mix.  if any of the colour decriptions are medium, dog is deemed to be medium mix.  otherwise dog is deemed\n",
    "# to be light mix.  process repeated for non mixed colouring.\n",
    "def colour_chart(x):\n",
    "    colour_list = []\n",
    "    for i in x.split(\"/\"):\n",
    "        for j in i.split(\" \"):\n",
    "            colour_list.append(j)\n",
    "    if len(colour_list)>1 or any(x in colour_list for x in mix_col):\n",
    "        if any(x in colour_list for x in dark_col):\n",
    "            return \"dark mix\"\n",
    "        elif any(x in colour_list for x in med_col):\n",
    "            return \"medium mix\"\n",
    "        else:\n",
    "            return \"light mix\"\n",
    "    else:\n",
    "        if any(x in colour_list for x in dark_col):\n",
    "            return \"dark\"\n",
    "        elif any(x in colour_list for x in med_col):\n",
    "            return \"medium\"\n",
    "        else:\n",
    "            return \"light\""
   ]
  },
  {
   "cell_type": "code",
   "execution_count": 68,
   "metadata": {
    "collapsed": false
   },
   "outputs": [
    {
     "data": {
      "text/plain": [
       "dark mix      9642\n",
       "light mix     3321\n",
       "light         2961\n",
       "dark          2089\n",
       "medium mix    2010\n",
       "medium         722\n",
       "Name: colour, dtype: int64"
      ]
     },
     "execution_count": 68,
     "metadata": {},
     "output_type": "execute_result"
    }
   ],
   "source": [
    "merged[\"colour\"] = merged[\"in_colour\"].apply(colour_chart)\n",
    "merged[\"colour\"].value_counts()"
   ]
  },
  {
   "cell_type": "markdown",
   "metadata": {},
   "source": [
    "The breed descriptions for each dog may contain multiple breeds, or a single breed, or a single listed breed but the dog is noted to be mixed breed (excerpt shown below). To make this more internally consistent, a list of composite breeds is created for each dog. The goal of this is to be able to\n",
    "- 1) mark each dog as a member of specific breeds\n",
    "- 2) to match each dog to breed characteristics (like size, energy level etc), and to breed group (working / toy etc). - In order achieve the second, information was scraped for all listed breeds on the American Kennel Club (AKC) website."
   ]
  },
  {
   "cell_type": "code",
   "execution_count": 69,
   "metadata": {
    "collapsed": false
   },
   "outputs": [
    {
     "data": {
      "text/plain": [
       "['Great Pyrenees Mix',\n",
       " 'Siberian Husky Mix',\n",
       " 'Pit Bull',\n",
       " 'Pit Bull Mix',\n",
       " 'Chihuahua Shorthair Mix',\n",
       " 'Great Pyrenees Mix',\n",
       " 'Labrador Retriever Mix',\n",
       " 'Catahoula Mix',\n",
       " 'American Pit Bull Terrier Mix',\n",
       " 'Pit Bull/Labrador Retriever']"
      ]
     },
     "execution_count": 69,
     "metadata": {},
     "output_type": "execute_result"
    }
   ],
   "source": [
    "list(merged[\"in_breed\"][:10])"
   ]
  },
  {
   "cell_type": "raw",
   "metadata": {},
   "source": [
    "# scrape from AKC website, breeds and groups\n",
    "akc_groups = [\"herding\",\"hound\",\"non-sporting\",\"sporting\",\"terrier\",\"toy\",\"working\",\"miscellaneous-class\"]\n",
    "breed_names = []\n",
    "breed_links = []\n",
    "group_names = []\n",
    "for group in akc_groups:\n",
    "    full_path = \"http://www.akc.org/dog-breeds/groups/\"+group\n",
    "    r = requests.get(full_path)\n",
    "    group_soup = BeautifulSoup(r.content, \"lxml\")\n",
    "    for div in group_soup.find_all(\"div\", class_=\"scale-contents\"):\n",
    "        for dog in div.find_all('a', href=re.compile('/dog-breeds/')):\n",
    "            breed_links.append(dog[\"href\"])\n",
    "            breed_names.append(dog.text)\n",
    "            group_names.append(group)\n",
    "\n",
    "# create table of breed and group\n",
    "akc_table = pd.DataFrame(zip(group_names,breed_names,breed_links),columns=[\"group\",\"breed\",\"link\"])\n",
    "akc_table = akc_table[akc_table[\"breed\"]!=\"More\"]\n",
    "\n",
    "# go to each dog page, and extract energy and size info\n",
    "def extract_energy(x):\n",
    "    for i in x.find_all(\"span\", class_=\"energy_levels\"):\n",
    "        return i.text.strip().split()[0]\n",
    "    \n",
    "def extract_size(x):\n",
    "    for i in x.find_all(\"span\", class_=\"size\"):\n",
    "        return i.text.strip().split()[0]\n",
    "    \n",
    "# create list of page contents\n",
    "dog_soup_list = []\n",
    "for dog in list(akc_table[\"link\"]):\n",
    "    full_path = \"http://www.akc.org\"+dog\n",
    "    r = requests.get(full_path)\n",
    "    puppy_soup = BeautifulSoup(r.content, \"lxml\")\n",
    "    dog_soup_list.append(puppy_soup)\n",
    "    \n",
    "# for each page, extract energy and size\n",
    "energy_list = []\n",
    "size_list = []\n",
    "for pup in dog_soup_list:\n",
    "    energy_list.append(extract_energy(pup))\n",
    "    size_list.append(extract_size(pup))\n",
    "\n",
    "akc_table[\"energy\"] = energy_list\n",
    "akc_table[\"size\"] = size_list"
   ]
  },
  {
   "cell_type": "raw",
   "metadata": {},
   "source": [
    "# for each dog, go to page referring to necessary care (grooming, coat and exercise requirements)\n",
    "dog_soup_list = []\n",
    "for dog in list(akc_table[\"link\"]):\n",
    "    full_path = \"http://www.akc.org\"+dog+\"care\"\n",
    "    r = requests.get(full_path)\n",
    "    puppy_soup = BeautifulSoup(r.content, \"lxml\")\n",
    "    dog_soup_list.append(puppy_soup)\n",
    "\n",
    "# collect info about coat and grooming\n",
    "coat_list = []\n",
    "groom_list = []\n",
    "exercise_list = []\n",
    "dog_list = []\n",
    "for dog in dog_soup_list:   \n",
    "    for h1 in dog.find_all(\"h1\"):      \n",
    "        dog_list.append(h1.text.replace(\"Care\",\"\"))\n",
    "    for index, descr in enumerate(dog.find_all(\"span\", class_=\"adj\")):      \n",
    "        if index == 0:\n",
    "            coat_list.append(descr.text.strip())\n",
    "        elif index ==1:\n",
    "            groom_list.append(descr.text.strip())\n",
    "        else:\n",
    "            exercise_list.append(descr.text.strip())\n",
    "            \n",
    "#create table of care requirements for each breed\n",
    "coat_table = pd.DataFrame(zip(dog_list,coat_list,groom_list, exercise_list), columns=[\"breed\",\"coat\",\"groom\",\"exercise\"])\n",
    "# merged with AKC table with size / energy / group info\n",
    "temp = pd.merge(akc_table,coat_table,how=\"outer\", on=\"breed\")\n",
    "#chinook missing from scrape - update with information from website\n",
    "temp.loc[175,[\"coat\",\"groom\",\"exercise\"]]= [\"Medium\",\"Weekly Grooming\",\"Some Exercise\"]\n",
    "# make breeds lower case \n",
    "akc_table[\"breed\"] = akc_table[\"breed\"].apply(lambda x: x.lower())\n",
    "# update energy and size scores to be integers\n",
    "def energy_num(x):\n",
    "    if x == \"high\":\n",
    "        return 3\n",
    "    elif x == \"medium\":\n",
    "        return 2\n",
    "    elif x == \"low\":\n",
    "        return 1\n",
    "    else:\n",
    "        return np.nan\n",
    "    \n",
    "def size_num(x):\n",
    "    if x == \"large\":\n",
    "        return 3\n",
    "    elif x == \"medium\":\n",
    "        return 2\n",
    "    elif x == \"small\":\n",
    "        return 1\n",
    "    else:\n",
    "        return np.nan\n",
    "    \n",
    "akc_table[\"energy\"] = akc_table[\"energy\"].apply(energy_num)\n",
    "akc_table[\"size\"] = akc_table[\"size\"].apply(size_num)\n",
    "# update coat, groom, exercise scores to be integers\n",
    "def coat_num(x):\n",
    "    if x == \"Long\":\n",
    "        return 3\n",
    "    elif x == \"Medium\":\n",
    "        return 2\n",
    "    elif x == \"Short\":\n",
    "        return 1\n",
    "    else:\n",
    "        return np.nan\n",
    "    \n",
    "def groom_num(x):\n",
    "    if x == \"Daily Grooming\":\n",
    "        return 3\n",
    "    elif x == \"Weekly Grooming\":\n",
    "        return 2\n",
    "    elif x == \"Occasional Grooming\":\n",
    "        return 1\n",
    "    else:\n",
    "        return np.nan\n",
    "    \n",
    "def exercise_num(x):\n",
    "    if x == \"Lots of Exercise\":\n",
    "        return 3\n",
    "    elif x == \"Some Exercise\":\n",
    "        return 2\n",
    "    elif x == \"Occasional Exercise\":\n",
    "        return 1\n",
    "    else:\n",
    "        return np.nan\n",
    "    \n",
    "akc_table[\"coat\"] = akc_table[\"coat\"].apply(coat_num)\n",
    "akc_table[\"groom\"] = akc_table[\"groom\"].apply(groom_num)\n",
    "akc_table[\"exercise\"] = akc_table[\"exercise\"].apply(exercise_num)\n",
    "\n",
    "akc_table.to_csv(\"akc.csv\")"
   ]
  },
  {
   "cell_type": "code",
   "execution_count": 70,
   "metadata": {
    "collapsed": true
   },
   "outputs": [],
   "source": [
    "# create flag for mixed breed dog - either if more than one breed listed, or the word \"mix\" is included\n",
    "def breed_mix(x):\n",
    "    if \"Mix\" in x:\n",
    "        return 1\n",
    "    elif \"/\" in x:\n",
    "        return 1\n",
    "    else:\n",
    "        return 0\n",
    "merged[\"mix\"] = merged[\"in_breed\"].apply(breed_mix)"
   ]
  },
  {
   "cell_type": "code",
   "execution_count": 71,
   "metadata": {
    "collapsed": true
   },
   "outputs": [],
   "source": [
    "# split the breed into list of composite breeds\n",
    "def breed_parse(x):\n",
    "    x = x.replace(\"Mix\",\"\").strip()\n",
    "    try:\n",
    "        return x.split(\"/\")\n",
    "    except:\n",
    "        return x\n",
    "merged[\"breed_list\"] = merged[\"in_breed\"].apply(breed_parse)\n",
    "\n",
    "def breed_lower(x):\n",
    "    breed_list = []\n",
    "    for i in x:\n",
    "        breed_list.append(i.lower())\n",
    "    return breed_list\n",
    "\n",
    "merged[\"breed_list\"] = merged[\"breed_list\"].apply(breed_lower)"
   ]
  },
  {
   "cell_type": "code",
   "execution_count": 72,
   "metadata": {
    "collapsed": true
   },
   "outputs": [],
   "source": [
    "# some breeds may be misspelled in shelter dataset, so find the closest match to each breed in akc table, and correct \n",
    "# the name\n",
    "def correct_names(x):\n",
    "    breed_list=[]\n",
    "    for i in x:\n",
    "        try:\n",
    "            breed_list.append(get_close_matches(i, akc_table[\"breed\"], n=1,cutoff=0.6)[0])\n",
    "        except:\n",
    "            breed_list.append(np.nan)\n",
    "    return breed_list\n",
    "\n",
    "merged[\"breed_list_corrected\"] = merged[\"breed_list\"].apply(correct_names)"
   ]
  },
  {
   "cell_type": "code",
   "execution_count": 76,
   "metadata": {
    "collapsed": false
   },
   "outputs": [
    {
     "name": "stdout",
     "output_type": "stream",
     "text": [
      "black            33\n",
      "pbgv             20\n",
      "feist            11\n",
      "treeing cur       9\n",
      "presa canario     7\n",
      "landseer          5\n",
      "jindo             4\n",
      "cirneco           1\n",
      "unknown           1\n",
      "Name: breed, dtype: int64\n"
     ]
    }
   ],
   "source": [
    "# create df of breeds and find which are not in AKC database\n",
    "breeds = []\n",
    "for i in merged['breed_list']:\n",
    "    for j in i:\n",
    "        breeds.append(j)\n",
    "\n",
    "correct_breeds = []\n",
    "for i in merged['breed_list_corrected']:\n",
    "    for j in i:\n",
    "        correct_breeds.append(j)\n",
    "breed_df = pd.DataFrame(zip(breeds,correct_breeds),columns=[\"breed\",\"corrected\"])\n",
    "print breed_df[pd.isnull(breed_df[\"corrected\"])][\"breed\"].value_counts()\n",
    "\n",
    "# add info for top 4 most common missing breeds (pb, catahoula, black mouth cur, blue lacy, queensland heeler).  \n",
    "#information gathered from wikipedia\n",
    "#pit bull\n",
    "add_list = pd.DataFrame([np.nan,\"pit bull\",np.nan,3,2,1,1,3]).T\n",
    "add_list.columns = akc_table.columns\n",
    "akc_table = pd.concat([akc_table,add_list], axis=0)\n",
    "#catahoula\n",
    "add_list = pd.DataFrame([np.nan,\"catahoula\",np.nan,3,2,1,1,3]).T\n",
    "add_list.columns = akc_table.columns\n",
    "akc_table = pd.concat([akc_table,add_list], axis=0)\n",
    "#black mouth cur\n",
    "add_list = pd.DataFrame([np.nan,\"black mouth cur\",np.nan,3,3,1,1,3]).T\n",
    "add_list.columns = akc_table.columns\n",
    "akc_table = pd.concat([akc_table,add_list], axis=0)\n",
    "#blue lacy\n",
    "add_list = pd.DataFrame([np.nan,\"blue lacy\",np.nan,3,3,1,1,3]).T\n",
    "add_list.columns = akc_table.columns\n",
    "akc_table = pd.concat([akc_table,add_list], axis=0)\n",
    "#queensland heeler\n",
    "add_list = pd.DataFrame([np.nan,\"queensland heeler\",np.nan,3,2,1,1,3]).T\n",
    "add_list.columns = akc_table.columns\n",
    "akc_table = pd.concat([akc_table,add_list], axis=0)\n",
    "\n",
    "# with updated table, redo algorithm to correct name spellings in shelter df\n",
    "def correct_names(x):\n",
    "    breed_list=[]\n",
    "    for i in x:\n",
    "        try:\n",
    "            breed_list.append(get_close_matches(i, akc_table[\"breed\"], n=1,cutoff=0.6)[0])\n",
    "        except:\n",
    "            breed_list.append(np.nan)\n",
    "    return breed_list\n",
    "\n",
    "merged[\"breed_list_corrected\"] = merged[\"breed_list\"].apply(correct_names)\n",
    "\n",
    "# map breeds to AKC groups.  if any one of a dog's listed breeds is in a particular breed group, the dog is deemed\n",
    "# a member of the group\n",
    "def group_list(x):\n",
    "    group_list = []\n",
    "    for i in x:\n",
    "        try:\n",
    "            group_list.append(list(akc_table[akc_table[\"breed\"]==i][\"group\"])[0])\n",
    "        except:\n",
    "            group_list.append(np.nan)\n",
    "    return group_list\n",
    "\n",
    "merged[\"group_list\"] = merged[\"breed_list_corrected\"].apply(group_list)"
   ]
  },
  {
   "cell_type": "code",
   "execution_count": 77,
   "metadata": {
    "collapsed": false
   },
   "outputs": [
    {
     "name": "stdout",
     "output_type": "stream",
     "text": [
      "[nan, 'miscellaneous-class', 'herding', 'toy', 'working', 'sporting', 'non-sporting', 'hound', 'terrier']\n"
     ]
    }
   ],
   "source": [
    "# check which AKC groups are represented in the data\n",
    "breed_groups = []\n",
    "for i in merged['group_list']:\n",
    "    for j in i:\n",
    "        breed_groups.append(j)\n",
    "breed_groups = list(set(breed_groups))\n",
    "print breed_groups"
   ]
  },
  {
   "cell_type": "code",
   "execution_count": 78,
   "metadata": {
    "collapsed": true
   },
   "outputs": [],
   "source": [
    "# replace na with \"other\" for any dogs whose breeds are not AKC recognized breeds\n",
    "breed_groups[0]=\"other\"\n",
    "\n",
    "# create columns for dummies\n",
    "for col in breed_groups:\n",
    "    merged[col]=\"\"\n",
    "\n",
    "# function to create dummies\n",
    "def group_dummies(x,group):\n",
    "    if group in x:\n",
    "        return 1\n",
    "    else:\n",
    "        return 0\n",
    "for group in breed_groups:\n",
    "    merged[group] = merged[\"group_list\"].apply(lambda x: group_dummies(x,group))\n",
    "    \n",
    "# if any group is na, mark 1 in \"other\" group column\n",
    "def other_group(x):\n",
    "    if np.nan in x:\n",
    "        return 1\n",
    "    else:\n",
    "        return 0\n",
    "    \n",
    "merged[\"other\"] = merged[\"group_list\"].apply(other_group)"
   ]
  },
  {
   "cell_type": "code",
   "execution_count": 80,
   "metadata": {
    "collapsed": true
   },
   "outputs": [],
   "source": [
    "# create coat, groom, exercise metrics for each dog (average for the listed breeds for each dog)\n",
    "def score(x,col):\n",
    "    temp_list = []\n",
    "    for breed in x:\n",
    "        try:\n",
    "            temp_list.append(list(akc_table[col][akc_table[\"breed\"]==breed])[0])\n",
    "        except:\n",
    "            temp_list.append(np.nan)\n",
    "    return np.nanmean(temp_list)\n",
    "\n",
    "for var in [\"energy\",\"size\",\"coat\",\"groom\",\"exercise\"]:\n",
    "    merged[var] = merged[\"breed_list_corrected\"].apply(lambda x: score(x,var))"
   ]
  },
  {
   "cell_type": "code",
   "execution_count": 81,
   "metadata": {
    "collapsed": false
   },
   "outputs": [
    {
     "data": {
      "text/html": [
       "<div>\n",
       "<table border=\"1\" class=\"dataframe\">\n",
       "  <thead>\n",
       "    <tr style=\"text-align: right;\">\n",
       "      <th></th>\n",
       "      <th>ID</th>\n",
       "      <th>in_date</th>\n",
       "      <th>out_date</th>\n",
       "      <th>in_name</th>\n",
       "      <th>location</th>\n",
       "      <th>in_type</th>\n",
       "      <th>in_condition</th>\n",
       "      <th>in_sex</th>\n",
       "      <th>in_age</th>\n",
       "      <th>in_breed</th>\n",
       "      <th>...</th>\n",
       "      <th>working</th>\n",
       "      <th>sporting</th>\n",
       "      <th>non-sporting</th>\n",
       "      <th>hound</th>\n",
       "      <th>terrier</th>\n",
       "      <th>energy</th>\n",
       "      <th>size</th>\n",
       "      <th>coat</th>\n",
       "      <th>groom</th>\n",
       "      <th>exercise</th>\n",
       "    </tr>\n",
       "  </thead>\n",
       "  <tbody>\n",
       "    <tr>\n",
       "      <th>2634</th>\n",
       "      <td>A605191</td>\n",
       "      <td>2014-01-01</td>\n",
       "      <td>2014-01-05</td>\n",
       "      <td>Paloma</td>\n",
       "      <td>650 Bastrop Hwy in Austin (TX)</td>\n",
       "      <td>Stray</td>\n",
       "      <td>Normal</td>\n",
       "      <td>Female</td>\n",
       "      <td>3.000000</td>\n",
       "      <td>Great Pyrenees Mix</td>\n",
       "      <td>...</td>\n",
       "      <td>1</td>\n",
       "      <td>0</td>\n",
       "      <td>0</td>\n",
       "      <td>0</td>\n",
       "      <td>0</td>\n",
       "      <td>2.0</td>\n",
       "      <td>3.0</td>\n",
       "      <td>2.0</td>\n",
       "      <td>1.0</td>\n",
       "      <td>3.0</td>\n",
       "    </tr>\n",
       "    <tr>\n",
       "      <th>2635</th>\n",
       "      <td>A636714</td>\n",
       "      <td>2014-01-01</td>\n",
       "      <td>2014-01-05</td>\n",
       "      <td>Blue</td>\n",
       "      <td>12034 Research in Austin (TX)</td>\n",
       "      <td>Stray</td>\n",
       "      <td>Normal</td>\n",
       "      <td>Male</td>\n",
       "      <td>4.000000</td>\n",
       "      <td>Siberian Husky Mix</td>\n",
       "      <td>...</td>\n",
       "      <td>1</td>\n",
       "      <td>0</td>\n",
       "      <td>0</td>\n",
       "      <td>0</td>\n",
       "      <td>0</td>\n",
       "      <td>3.0</td>\n",
       "      <td>2.0</td>\n",
       "      <td>2.0</td>\n",
       "      <td>1.0</td>\n",
       "      <td>3.0</td>\n",
       "    </tr>\n",
       "    <tr>\n",
       "      <th>2636</th>\n",
       "      <td>A664578</td>\n",
       "      <td>2014-01-01</td>\n",
       "      <td>2014-01-03</td>\n",
       "      <td>Rufus</td>\n",
       "      <td>Austin (TX)</td>\n",
       "      <td>Owner Surrender</td>\n",
       "      <td>Normal</td>\n",
       "      <td>Male</td>\n",
       "      <td>4.000000</td>\n",
       "      <td>Pit Bull</td>\n",
       "      <td>...</td>\n",
       "      <td>0</td>\n",
       "      <td>0</td>\n",
       "      <td>0</td>\n",
       "      <td>0</td>\n",
       "      <td>0</td>\n",
       "      <td>3.0</td>\n",
       "      <td>2.0</td>\n",
       "      <td>1.0</td>\n",
       "      <td>1.0</td>\n",
       "      <td>3.0</td>\n",
       "    </tr>\n",
       "    <tr>\n",
       "      <th>2637</th>\n",
       "      <td>A668372</td>\n",
       "      <td>2014-01-01</td>\n",
       "      <td>2014-01-12</td>\n",
       "      <td>*Greta</td>\n",
       "      <td>Austin (TX)</td>\n",
       "      <td>Owner Surrender</td>\n",
       "      <td>Normal</td>\n",
       "      <td>Female</td>\n",
       "      <td>0.916667</td>\n",
       "      <td>Pit Bull Mix</td>\n",
       "      <td>...</td>\n",
       "      <td>0</td>\n",
       "      <td>0</td>\n",
       "      <td>0</td>\n",
       "      <td>0</td>\n",
       "      <td>0</td>\n",
       "      <td>3.0</td>\n",
       "      <td>2.0</td>\n",
       "      <td>1.0</td>\n",
       "      <td>1.0</td>\n",
       "      <td>3.0</td>\n",
       "    </tr>\n",
       "    <tr>\n",
       "      <th>2638</th>\n",
       "      <td>A668374</td>\n",
       "      <td>2014-01-01</td>\n",
       "      <td>2014-01-03</td>\n",
       "      <td>Princessa</td>\n",
       "      <td>Austin (TX)</td>\n",
       "      <td>Owner Surrender</td>\n",
       "      <td>Normal</td>\n",
       "      <td>Female</td>\n",
       "      <td>0.416667</td>\n",
       "      <td>Chihuahua Shorthair Mix</td>\n",
       "      <td>...</td>\n",
       "      <td>0</td>\n",
       "      <td>0</td>\n",
       "      <td>0</td>\n",
       "      <td>0</td>\n",
       "      <td>0</td>\n",
       "      <td>2.0</td>\n",
       "      <td>1.0</td>\n",
       "      <td>1.0</td>\n",
       "      <td>1.0</td>\n",
       "      <td>2.0</td>\n",
       "    </tr>\n",
       "  </tbody>\n",
       "</table>\n",
       "<p>5 rows × 38 columns</p>\n",
       "</div>"
      ],
      "text/plain": [
       "           ID     in_date    out_date    in_name  \\\n",
       "2634  A605191  2014-01-01  2014-01-05     Paloma   \n",
       "2635  A636714  2014-01-01  2014-01-05       Blue   \n",
       "2636  A664578  2014-01-01  2014-01-03      Rufus   \n",
       "2637  A668372  2014-01-01  2014-01-12     *Greta   \n",
       "2638  A668374  2014-01-01  2014-01-03  Princessa   \n",
       "\n",
       "                            location          in_type in_condition  in_sex  \\\n",
       "2634  650 Bastrop Hwy in Austin (TX)            Stray       Normal  Female   \n",
       "2635   12034 Research in Austin (TX)            Stray       Normal    Male   \n",
       "2636                     Austin (TX)  Owner Surrender       Normal    Male   \n",
       "2637                     Austin (TX)  Owner Surrender       Normal  Female   \n",
       "2638                     Austin (TX)  Owner Surrender       Normal  Female   \n",
       "\n",
       "        in_age                 in_breed   ...    working sporting  \\\n",
       "2634  3.000000       Great Pyrenees Mix   ...          1        0   \n",
       "2635  4.000000       Siberian Husky Mix   ...          1        0   \n",
       "2636  4.000000                 Pit Bull   ...          0        0   \n",
       "2637  0.916667             Pit Bull Mix   ...          0        0   \n",
       "2638  0.416667  Chihuahua Shorthair Mix   ...          0        0   \n",
       "\n",
       "     non-sporting hound terrier  energy  size coat groom exercise  \n",
       "2634            0     0       0     2.0   3.0  2.0   1.0      3.0  \n",
       "2635            0     0       0     3.0   2.0  2.0   1.0      3.0  \n",
       "2636            0     0       0     3.0   2.0  1.0   1.0      3.0  \n",
       "2637            0     0       0     3.0   2.0  1.0   1.0      3.0  \n",
       "2638            0     0       0     2.0   1.0  1.0   1.0      2.0  \n",
       "\n",
       "[5 rows x 38 columns]"
      ]
     },
     "execution_count": 81,
     "metadata": {},
     "output_type": "execute_result"
    }
   ],
   "source": [
    "merged.head()"
   ]
  },
  {
   "cell_type": "code",
   "execution_count": 82,
   "metadata": {
    "collapsed": true
   },
   "outputs": [],
   "source": [
    "with open('merge2.pkl', 'w') as picklefile:\n",
    "    pickle.dump(merged, picklefile)"
   ]
  },
  {
   "cell_type": "code",
   "execution_count": 83,
   "metadata": {
    "collapsed": true
   },
   "outputs": [],
   "source": [
    "# create a list of all breeds represented in the data\n",
    "all_breeds = []\n",
    "for dog in merged[\"breed_list_corrected\"]:\n",
    "    for breed in dog:\n",
    "        all_breeds.append(breed)"
   ]
  },
  {
   "cell_type": "code",
   "execution_count": 92,
   "metadata": {
    "collapsed": true
   },
   "outputs": [],
   "source": [
    "all_breeds = list(set(all_breeds))\n",
    "len(all_breeds)\n",
    "all_breeds.remove(np.nan)"
   ]
  },
  {
   "cell_type": "code",
   "execution_count": 93,
   "metadata": {
    "collapsed": true
   },
   "outputs": [],
   "source": [
    "# create breed dummies - for each dog, for every breed listed, the dog is included as a member of that breed \n",
    "\n",
    "# create columns for dummies\n",
    "for col in all_breeds:\n",
    "    merged[col]=\"\"\n",
    "\n",
    "# function to create dummies\n",
    "def breed_dummies(x,breed):\n",
    "    if breed in x:\n",
    "        return 1\n",
    "    else:\n",
    "        return 0\n",
    "for breed in all_breeds:\n",
    "    merged[breed] = merged[\"breed_list_corrected\"].apply(lambda x: breed_dummies(x,breed))"
   ]
  },
  {
   "cell_type": "code",
   "execution_count": 94,
   "metadata": {
    "collapsed": true
   },
   "outputs": [],
   "source": [
    "# mark aggressive breeds\n",
    "aggressive = [\"pit bull\",\"american staffordshire terrier\",\"staffordshire bull terrier\"]\n",
    "merged[\"aggressive\"] = merged[\"breed_list_corrected\"].apply(lambda x: int(any(i in aggressive for i in x)))"
   ]
  },
  {
   "cell_type": "code",
   "execution_count": 99,
   "metadata": {
    "collapsed": false
   },
   "outputs": [
    {
     "data": {
      "text/plain": [
       "outcome_sub               14026\n",
       "out_name                   3167\n",
       "in_name                    3130\n",
       "in_sex                      103\n",
       "energy                       49\n",
       "size                         49\n",
       "coat                         49\n",
       "groom                        49\n",
       "exercise                     49\n",
       "miniature bull terrier        0\n",
       "dtype: int64"
      ]
     },
     "execution_count": 99,
     "metadata": {},
     "output_type": "execute_result"
    }
   ],
   "source": [
    "# check for missingness on data\n",
    "np.sum(merged.isnull()).sort_values(ascending=False).head(10)"
   ]
  },
  {
   "cell_type": "markdown",
   "metadata": {},
   "source": [
    "### Exploring the Name\n",
    "In order to characterize the dog's name, and examine the effect it might have on the dog's outcome, three sets of features will be created.\n",
    "- 1) Is it a popular dog name?\n",
    "- 2) Is it a popular human name? This will also be measured by decade\n",
    "- 3) Is the name an English word?"
   ]
  },
  {
   "cell_type": "code",
   "execution_count": 100,
   "metadata": {
    "collapsed": true
   },
   "outputs": [],
   "source": [
    "# remove asterisks from names\n",
    "def split_name(x):\n",
    "    if type(x)==float:\n",
    "        return 0\n",
    "    elif \"*\" not in x:\n",
    "        return 0\n",
    "    else:\n",
    "        return 1\n",
    "merged[\"in_name_mark\"] = merged[\"in_name\"].apply(split_name)\n",
    "merged[\"out_name_mark\"] = merged[\"in_name\"].apply(split_name)\n",
    "\n",
    "def short_name(x):\n",
    "    try:\n",
    "        return x.replace(\"*\",\"\")\n",
    "    except:\n",
    "        return x\n",
    "merged[\"in_name\"] = merged[\"in_name\"].apply(short_name)\n",
    "merged[\"out_name\"] = merged[\"out_name\"].apply(short_name)"
   ]
  },
  {
   "cell_type": "code",
   "execution_count": 101,
   "metadata": {
    "collapsed": false
   },
   "outputs": [
    {
     "name": "stdout",
     "output_type": "stream",
     "text": [
      "37 missing on outcome but not intake\n",
      "0 missing on intake but not outcome\n",
      "136 intake and outcome names don't match\n"
     ]
    }
   ],
   "source": [
    "#explore missing values\n",
    "print len(merged[~pd.isnull(merged[\"in_name\"])&pd.isnull(merged[\"out_name\"])]), \"missing on outcome but not intake\"\n",
    "print len(merged[pd.isnull(merged[\"in_name\"])&~pd.isnull(merged[\"out_name\"])]), \"missing on intake but not outcome\"\n",
    "\n",
    "print \\\n",
    "sum(merged[(~pd.isnull(merged[\"in_name\"]))&(~pd.isnull(merged[\"out_name\"]))][\"in_name\"]\\\n",
    "!=merged[(~pd.isnull(merged[\"in_name\"]))&(~pd.isnull(merged[\"out_name\"]))][\"out_name\"]),\\\n",
    "\"intake and outcome names don't match\""
   ]
  },
  {
   "cell_type": "code",
   "execution_count": 102,
   "metadata": {
    "collapsed": true
   },
   "outputs": [],
   "source": [
    "# try to use outcome, if missing, use intake, if missing, leave missing\n",
    "def correct_name(row):\n",
    "    if pd.isnull(row[\"out_name\"])==False:\n",
    "        return row[\"out_name\"]\n",
    "    elif pd.isnull(row[\"in_name\"])==False:\n",
    "        return row[\"in_name\"]\n",
    "    else:\n",
    "        return np.nan"
   ]
  },
  {
   "cell_type": "code",
   "execution_count": 103,
   "metadata": {
    "collapsed": true
   },
   "outputs": [],
   "source": [
    "merged[\"name\"] = merged.apply(correct_name, axis=1)"
   ]
  },
  {
   "cell_type": "code",
   "execution_count": 104,
   "metadata": {
    "collapsed": false
   },
   "outputs": [
    {
     "data": {
      "text/plain": [
       "outcome_sub    14026\n",
       "out_name        3167\n",
       "in_name         3130\n",
       "name            3130\n",
       "in_sex           103\n",
       "energy            49\n",
       "size              49\n",
       "coat              49\n",
       "groom             49\n",
       "exercise          49\n",
       "dtype: int64"
      ]
     },
     "execution_count": 104,
     "metadata": {},
     "output_type": "execute_result"
    }
   ],
   "source": [
    "# check for missingness on data\n",
    "np.sum(merged.isnull()).sort_values(ascending=False).head(10)"
   ]
  },
  {
   "cell_type": "code",
   "execution_count": 105,
   "metadata": {
    "collapsed": true
   },
   "outputs": [],
   "source": [
    "# make all names lowercase\n",
    "merged[\"name\"] = merged[\"name\"].apply(lambda x: x.lower() if type(x)==str else x)"
   ]
  },
  {
   "cell_type": "code",
   "execution_count": 106,
   "metadata": {
    "collapsed": true
   },
   "outputs": [],
   "source": [
    "# add flag for missing name\n",
    "merged[\"missing_name\"] = merged[\"name\"].apply(lambda x: 1 if pd.isnull(x) else 0)"
   ]
  },
  {
   "cell_type": "code",
   "execution_count": 107,
   "metadata": {
    "collapsed": true
   },
   "outputs": [],
   "source": [
    "# create a flag if the name is cute (ends in y, i, ee, ie, ey)\n",
    "def cute_name(x):\n",
    "    try:\n",
    "        if x[-2:] ==\"ee\" or x[-2:] ==\"ie\" or x[-2:] ==\"ey\" or x[-1]==\"y\"or x[-1]==\"i\":\n",
    "            return 1\n",
    "        else:\n",
    "            return 0\n",
    "    except:\n",
    "        return 0\n",
    "\n",
    "merged[\"cute_name\"] = merged[\"name\"].apply(cute_name)"
   ]
  },
  {
   "cell_type": "code",
   "execution_count": 108,
   "metadata": {
    "collapsed": true
   },
   "outputs": [],
   "source": [
    "with open('merge3.pkl', 'w') as picklefile:\n",
    "    pickle.dump(merged, picklefile)"
   ]
  },
  {
   "cell_type": "code",
   "execution_count": 113,
   "metadata": {
    "collapsed": false
   },
   "outputs": [],
   "source": [
    "# from selenium import webdriver\n",
    "\n",
    "# driver = webdriver.PhantomJS(executable_path='/Users/pt/Downloads/phantomjs-2.1.1-macosx/bin/phantomjs')\n",
    "# for i in range(1,117):\n",
    "#     full_path = \"https://www.petfinder.com/pet-search?query_id=CBCB4798-75D0-11E6-BFC6-D874A9284BC8&page_number={}\".format(i)\n",
    "#     driver.get(full_path)\n",
    "#     print i\n",
    "#     soup = BeautifulSoup(driver.page_source, \"lxml\")\n",
    "#     for div in soup.find_all(\"div\", class_=\"pet-name-container\"):\n",
    "#         name_list.append(div.text.strip())\n"
   ]
  },
  {
   "cell_type": "code",
   "execution_count": 114,
   "metadata": {
    "collapsed": false
   },
   "outputs": [],
   "source": [
    "with open('petfinder.pkl', 'w') as picklefile:\n",
    "    pickle.dump(name_list, picklefile)"
   ]
  },
  {
   "cell_type": "code",
   "execution_count": 6,
   "metadata": {
    "collapsed": true
   },
   "outputs": [],
   "source": [
    "def split_name(x):\n",
    "    try:\n",
    "        return  x.split(\" in\")[0].lower()\n",
    "    except:\n",
    "        return x.lower()\n",
    "\n",
    "def remove_numbers(x):\n",
    "    return ''.join([i for i in x if not i.isdigit()])\n",
    "    \n",
    "petfinder_names = [split_name(i) for i in name_list]\n",
    "petfinder_names = [remove_numbers(i) for i in petfinder_names]\n",
    "petfinder_names = [x.replace(\"referral\",\"\") for x in petfinder_names]"
   ]
  },
  {
   "cell_type": "code",
   "execution_count": 13,
   "metadata": {
    "collapsed": false
   },
   "outputs": [
    {
     "name": "stderr",
     "output_type": "stream",
     "text": [
      "/Users/pt/anaconda/lib/python2.7/site-packages/ipykernel/__main__.py:8: UnicodeWarning: Unicode equal comparison failed to convert both arguments to Unicode - interpreting them as being unequal\n"
     ]
    }
   ],
   "source": [
    "from collections import Counter\n",
    "name_counts = Counter\n",
    "petfinder_df = pd.DataFrame.from_dict(Counter(petfinder_names), orient='index').sort_values(0,ascending=False)\n",
    "petfinder_df.columns = [\"freq\"]\n",
    "petfinder_df[\"freq\"] = petfinder_df[\"freq\"].apply(lambda x: x/len(petfinder_names))\n",
    "top_dog_names = list(petfinder_df[petfinder_df[\"freq\"]>0.002].index)\n",
    "top_dog_names.pop(0)\n",
    "merged[\"popular_dog_name\"] = merged[\"name\"].apply(lambda x: x in top_dog_names)"
   ]
  },
  {
   "cell_type": "code",
   "execution_count": 14,
   "metadata": {
    "collapsed": true
   },
   "outputs": [],
   "source": [
    "# compare the dogs name to other dogs in the same shelter.  If its name is in the top 0.2% of names in the shelter,\n",
    "# it is deemed to have a common name in that shelter\n",
    "name_counts = merged[\"name\"].value_counts(dropna=False).to_frame()\n",
    "name_counts.columns = [\"freq\"]\n",
    "name_counts[\"freq\"] = name_counts[\"freq\"].apply(lambda x: x/len(merged))\n",
    "name_counts.drop(name_counts.index[0], inplace=True)\n",
    "top_dog_names_shelter = list(name_counts[name_counts[\"freq\"]>0.002].index)\n",
    "merged[\"popular_shelter_name\"] = merged[\"name\"].apply(lambda x: x in top_dog_names_shelter)"
   ]
  },
  {
   "cell_type": "code",
   "execution_count": 16,
   "metadata": {
    "collapsed": false
   },
   "outputs": [],
   "source": [
    "#convert booleans to ints\n",
    "merged[\"popular_dog_name\"] = merged[\"popular_dog_name\"].apply(lambda x: int(x))\n",
    "merged[\"popular_shelter_name\"] = merged[\"popular_shelter_name\"].apply(lambda x: int(x))"
   ]
  },
  {
   "cell_type": "code",
   "execution_count": 17,
   "metadata": {
    "collapsed": true
   },
   "outputs": [],
   "source": [
    "# to compare dog names to human names, use SSA data\n",
    "names = pd.read_csv(\"data/NationalNames.csv\")\n",
    "names[\"Name\"] = names[\"Name\"].apply(lambda x: x.lower())\n",
    "\n",
    "# divide data into decades\n",
    "names[\"decade\"] = names[\"Year\"].apply(lambda x: x - x%10)"
   ]
  },
  {
   "cell_type": "code",
   "execution_count": 18,
   "metadata": {
    "collapsed": true
   },
   "outputs": [],
   "source": [
    "# create dataframes for men / women by decade\n",
    "by_decade_men = pd.pivot_table(names[names[\"Gender\"]==\"M\"],index=\"Name\",columns=\"decade\",values=\"Count\",aggfunc=np.sum)\n",
    "by_decade_men.fillna(0,inplace=True)\n",
    "\n",
    "by_decade_women = pd.pivot_table(names[names[\"Gender\"]==\"F\"],index=\"Name\",columns=\"decade\",values=\"Count\",aggfunc=np.sum)\n",
    "by_decade_women.fillna(0,inplace=True)"
   ]
  },
  {
   "cell_type": "code",
   "execution_count": 19,
   "metadata": {
    "collapsed": true
   },
   "outputs": [],
   "source": [
    "decades = list(set(names[\"decade\"]))\n",
    "# convert to %\n",
    "for i in decades:\n",
    "    dec_sum = sum(by_decade_men[i])\n",
    "    by_decade_men[i] = by_decade_men[i].apply(lambda x: x/dec_sum)\n",
    "for i in decades:\n",
    "    dec_sum = sum(by_decade_women[i])\n",
    "    by_decade_women[i] = by_decade_women[i].apply(lambda x: x/dec_sum)"
   ]
  },
  {
   "cell_type": "code",
   "execution_count": 20,
   "metadata": {
    "collapsed": true
   },
   "outputs": [],
   "source": [
    "by_decade_men.to_csv(\"data/men_names.csv\")\n",
    "by_decade_women.to_csv(\"data/women_names.csv\")"
   ]
  },
  {
   "cell_type": "code",
   "execution_count": 21,
   "metadata": {
    "collapsed": true
   },
   "outputs": [],
   "source": [
    "# create top names by decade - any name over 0.25% for that decade\n",
    "names_dict={}\n",
    "sexes = [\"F\",\"M\"]\n",
    "for i in decades:\n",
    "    for sex in sexes:\n",
    "        var_name = sex+str(i)\n",
    "        if sex ==\"F\":\n",
    "            names_dict[var_name] = list(by_decade_women[by_decade_women[i]>0.0025].index)\n",
    "        else:\n",
    "            names_dict[var_name] = list(by_decade_men[by_decade_men[i]>0.0025].index)"
   ]
  },
  {
   "cell_type": "code",
   "execution_count": 22,
   "metadata": {
    "collapsed": true
   },
   "outputs": [],
   "source": [
    "# create colum names for df\n",
    "decade_cols = []\n",
    "for i, j in names_dict.iteritems():\n",
    "    decade_cols.append(i)\n",
    "    \n",
    "# create empty cols for era binaries\n",
    "for i in decade_cols:\n",
    "    merged[i] = \"\"\n",
    "    \n",
    "def name_type(row,col):\n",
    "    if row[\"name\"] in names_dict[col]:\n",
    "        return 1\n",
    "    else:\n",
    "        return 0\n",
    "# mark decade cols       \n",
    "for decade in decade_cols:\n",
    "    merged[decade] = merged.apply(lambda x: name_type(x,decade), axis=1)"
   ]
  },
  {
   "cell_type": "code",
   "execution_count": 23,
   "metadata": {
    "collapsed": true
   },
   "outputs": [],
   "source": [
    "# check if the name appears in SSA list at all (i.e. is it a human name, however popular)\n",
    "all_names = list(set(names[\"Name\"]))\n",
    "merged[\"human_name\"] = merged[\"name\"].apply(lambda x: 1 if x in all_names else 0)"
   ]
  },
  {
   "cell_type": "code",
   "execution_count": 24,
   "metadata": {
    "collapsed": true
   },
   "outputs": [],
   "source": [
    "merged[\"month_in\"] = merged[\"in_date\"].apply(lambda x: x.month)"
   ]
  },
  {
   "cell_type": "code",
   "execution_count": 38,
   "metadata": {
    "collapsed": true
   },
   "outputs": [],
   "source": [
    "word_list = set(words.words())\n",
    "merged[\"word_name\"] = merged[\"name\"].apply(lambda x: x in word_list)\n",
    "merged[\"word_name\"] = merged[\"word_name\"].apply(lambda x: int(x))"
   ]
  },
  {
   "cell_type": "code",
   "execution_count": 42,
   "metadata": {
    "collapsed": true
   },
   "outputs": [],
   "source": [
    "with open('merge4.pkl', 'w') as picklefile:\n",
    "    pickle.dump(merged, picklefile)"
   ]
  },
  {
   "cell_type": "code",
   "execution_count": 43,
   "metadata": {
    "collapsed": true
   },
   "outputs": [],
   "source": [
    "# drop columns that aren't needed\n",
    "drops = ['in_name', 'location','in_breed', 'in_colour',\n",
    "       'out_name', 'out_sex',\n",
    "       'out_neuter',\n",
    "       'breed_list', 'group_list',\n",
    "        'in_name_mark', 'out_name_mark']\n",
    "sub = merged.drop(drops,axis=1)"
   ]
  },
  {
   "cell_type": "code",
   "execution_count": 45,
   "metadata": {
    "collapsed": false
   },
   "outputs": [
    {
     "data": {
      "text/plain": [
       "outcome_sub    14026\n",
       "name            3130\n",
       "in_sex           103\n",
       "energy            49\n",
       "coat              49\n",
       "dtype: int64"
      ]
     },
     "execution_count": 45,
     "metadata": {},
     "output_type": "execute_result"
    }
   ],
   "source": [
    "# check for missingness\n",
    "np.sum(sub.isnull()).sort_values(ascending=False).head()"
   ]
  },
  {
   "cell_type": "code",
   "execution_count": 46,
   "metadata": {
    "collapsed": true
   },
   "outputs": [],
   "source": [
    "# impute missing energy, size, coat, exercise and grooming by updating with mean values\n",
    "mean_energy = sub[\"energy\"].mean()\n",
    "mean_size = sub[\"size\"].mean()\n",
    "mean_coat = sub[\"coat\"].mean()\n",
    "mean_exercise = sub[\"exercise\"].mean()\n",
    "mean_groom = sub[\"groom\"].mean()\n",
    "\n",
    "sub[\"energy\"] = sub[\"energy\"].fillna(mean_energy)\n",
    "sub[\"size\"] = sub[\"size\"].fillna(mean_size)\n",
    "sub[\"coat\"] = sub[\"coat\"].fillna(mean_coat)\n",
    "sub[\"exercise\"] = sub[\"exercise\"].fillna(mean_exercise)\n",
    "sub[\"groom\"] = sub[\"groom\"].fillna(mean_groom)"
   ]
  },
  {
   "cell_type": "code",
   "execution_count": 47,
   "metadata": {
    "collapsed": false
   },
   "outputs": [
    {
     "data": {
      "text/plain": [
       "outcome_sub             14026\n",
       "name                     3130\n",
       "in_sex                    103\n",
       "word_name                   0\n",
       "pembroke welsh corgi        0\n",
       "dtype: int64"
      ]
     },
     "execution_count": 47,
     "metadata": {},
     "output_type": "execute_result"
    }
   ],
   "source": [
    "# check for missingness\n",
    "np.sum(sub.isnull()).sort_values(ascending=False).head()"
   ]
  },
  {
   "cell_type": "code",
   "execution_count": 48,
   "metadata": {
    "collapsed": false
   },
   "outputs": [
    {
     "name": "stdout",
     "output_type": "stream",
     "text": [
      "Male      11104\n",
      "Female     9538\n",
      "Name: in_sex, dtype: int64\n"
     ]
    }
   ],
   "source": [
    "# impute missing sex by using the mode.  \n",
    "print sub[\"in_sex\"].value_counts()\n",
    "#impute missing sex as male\n",
    "sub[\"in_sex\"] = sub[\"in_sex\"].fillna(\"Male\")"
   ]
  },
  {
   "cell_type": "code",
   "execution_count": 49,
   "metadata": {
    "collapsed": true
   },
   "outputs": [],
   "source": [
    "# convert sex to numeric\n",
    "sub[\"in_sex\"] = sub[\"in_sex\"].apply(lambda x: 1 if x==\"Male\" else 0)"
   ]
  },
  {
   "cell_type": "code",
   "execution_count": 50,
   "metadata": {
    "collapsed": true
   },
   "outputs": [],
   "source": [
    "with open('sub.pkl', 'w') as picklefile:\n",
    "    pickle.dump(sub, picklefile)"
   ]
  },
  {
   "cell_type": "code",
   "execution_count": 66,
   "metadata": {
    "collapsed": false
   },
   "outputs": [
    {
     "name": "stdout",
     "output_type": "stream",
     "text": [
      "[u'cookie', u'blue', u'daisy', u'bella', u'rocky', u'jackson', u'king', u'duke', u'roscoe', u'lucy', u'chico', u'fiona', u'princess', u'lola', u'monty', u'morgan', u'bailey', u'molly', u'luke', u'jack', u'raven', u'max', u'junior', u'sadie', u'reese', u'libby', u'oreo', u'oliver', u'honey', u'brownie', u'wally', u'rusty', u'tulip', u'cane', u'hercules', u'lady', u'diesel', u'maggie', u'izzy', u'colt', u'earl', u'penny', u'murphy', u'bentley', u'lulu', u'sky', u'zoey', u'cooper', u'jazz', u'caleb', u'snowy', u'ellie', u'lily', u'star', u'rosie', u'goldie']\n"
     ]
    }
   ],
   "source": [
    "print top_dog_names"
   ]
  },
  {
   "cell_type": "code",
   "execution_count": 67,
   "metadata": {
    "collapsed": false
   },
   "outputs": [
    {
     "name": "stdout",
     "output_type": "stream",
     "text": [
      "['bella', 'max', 'daisy', 'charlie', 'rocky', 'princess', 'buddy', 'lucy', 'lucky', 'luna', 'coco', 'chico', 'lola', 'sadie', 'jack', 'lady', 'blue', 'molly', 'duke', 'toby', 'bear', 'diamond', 'sasha', 'shadow', 'chloe', 'rosie', 'brownie', 'zeus', 'oso', 'lily', 'ginger', 'rex', 'marley', 'oreo', 'king', 'cookie', 'buster', 'maggie', 'ruby', 'roxy']\n"
     ]
    }
   ],
   "source": [
    "print top_dog_names_shelter"
   ]
  },
  {
   "cell_type": "code",
   "execution_count": null,
   "metadata": {
    "collapsed": true
   },
   "outputs": [],
   "source": []
  }
 ],
 "metadata": {
  "kernelspec": {
   "display_name": "Python 2",
   "language": "python",
   "name": "python2"
  },
  "language_info": {
   "codemirror_mode": {
    "name": "ipython",
    "version": 2
   },
   "file_extension": ".py",
   "mimetype": "text/x-python",
   "name": "python",
   "nbconvert_exporter": "python",
   "pygments_lexer": "ipython2",
   "version": "2.7.12"
  }
 },
 "nbformat": 4,
 "nbformat_minor": 0
}
