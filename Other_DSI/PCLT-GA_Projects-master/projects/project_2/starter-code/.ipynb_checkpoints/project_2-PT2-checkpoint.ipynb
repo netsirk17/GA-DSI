{
 "cells": [
  {
   "cell_type": "markdown",
   "metadata": {
    "focus": true,
    "id": "263eb813-da45-48cf-9a8f-9da76c18e470"
   },
   "source": [
    "# Project 2\n",
    "## Step 1: Exploring your data.\n",
    "\n",
    "##### Load your data in using Pandas and start to explore. Save all of your early exploration code here and include in your final submission."
   ]
  },
  {
   "cell_type": "code",
   "execution_count": 387,
   "metadata": {
    "collapsed": true,
    "focus": false,
    "id": "b733d2fe-6d33-41dd-a3fc-5dfe9d71d91f"
   },
   "outputs": [],
   "source": [
    "# import necessary libraries\n",
    "import pandas as pd\n",
    "import numpy as np\n",
    "import matplotlib.pyplot as plt\n",
    "%matplotlib inline\n",
    "plt.style.use(\"ggplot\")\n",
    "from __future__ import division"
   ]
  },
  {
   "cell_type": "code",
   "execution_count": 300,
   "metadata": {
    "collapsed": false
   },
   "outputs": [
    {
     "data": {
      "text/html": [
       "<div>\n",
       "<table border=\"1\" class=\"dataframe\">\n",
       "  <thead>\n",
       "    <tr style=\"text-align: right;\">\n",
       "      <th></th>\n",
       "      <th>year</th>\n",
       "      <th>artist.inverted</th>\n",
       "      <th>track</th>\n",
       "      <th>time</th>\n",
       "      <th>genre</th>\n",
       "      <th>date.entered</th>\n",
       "      <th>date.peaked</th>\n",
       "      <th>x1st.week</th>\n",
       "      <th>x2nd.week</th>\n",
       "      <th>x3rd.week</th>\n",
       "      <th>...</th>\n",
       "      <th>x67th.week</th>\n",
       "      <th>x68th.week</th>\n",
       "      <th>x69th.week</th>\n",
       "      <th>x70th.week</th>\n",
       "      <th>x71st.week</th>\n",
       "      <th>x72nd.week</th>\n",
       "      <th>x73rd.week</th>\n",
       "      <th>x74th.week</th>\n",
       "      <th>x75th.week</th>\n",
       "      <th>x76th.week</th>\n",
       "    </tr>\n",
       "  </thead>\n",
       "  <tbody>\n",
       "    <tr>\n",
       "      <th>0</th>\n",
       "      <td>2000</td>\n",
       "      <td>Destiny's Child</td>\n",
       "      <td>Independent Women Part I</td>\n",
       "      <td>3,38,00 AM</td>\n",
       "      <td>Rock</td>\n",
       "      <td>September 23, 2000</td>\n",
       "      <td>November 18, 2000</td>\n",
       "      <td>78</td>\n",
       "      <td>63</td>\n",
       "      <td>49</td>\n",
       "      <td>...</td>\n",
       "      <td>*</td>\n",
       "      <td>*</td>\n",
       "      <td>*</td>\n",
       "      <td>*</td>\n",
       "      <td>*</td>\n",
       "      <td>*</td>\n",
       "      <td>*</td>\n",
       "      <td>*</td>\n",
       "      <td>*</td>\n",
       "      <td>*</td>\n",
       "    </tr>\n",
       "    <tr>\n",
       "      <th>1</th>\n",
       "      <td>2000</td>\n",
       "      <td>Santana</td>\n",
       "      <td>Maria, Maria</td>\n",
       "      <td>4,18,00 AM</td>\n",
       "      <td>Rock</td>\n",
       "      <td>February 12, 2000</td>\n",
       "      <td>April 8, 2000</td>\n",
       "      <td>15</td>\n",
       "      <td>8</td>\n",
       "      <td>6</td>\n",
       "      <td>...</td>\n",
       "      <td>*</td>\n",
       "      <td>*</td>\n",
       "      <td>*</td>\n",
       "      <td>*</td>\n",
       "      <td>*</td>\n",
       "      <td>*</td>\n",
       "      <td>*</td>\n",
       "      <td>*</td>\n",
       "      <td>*</td>\n",
       "      <td>*</td>\n",
       "    </tr>\n",
       "    <tr>\n",
       "      <th>2</th>\n",
       "      <td>2000</td>\n",
       "      <td>Savage Garden</td>\n",
       "      <td>I Knew I Loved You</td>\n",
       "      <td>4,07,00 AM</td>\n",
       "      <td>Rock</td>\n",
       "      <td>October 23, 1999</td>\n",
       "      <td>January 29, 2000</td>\n",
       "      <td>71</td>\n",
       "      <td>48</td>\n",
       "      <td>43</td>\n",
       "      <td>...</td>\n",
       "      <td>*</td>\n",
       "      <td>*</td>\n",
       "      <td>*</td>\n",
       "      <td>*</td>\n",
       "      <td>*</td>\n",
       "      <td>*</td>\n",
       "      <td>*</td>\n",
       "      <td>*</td>\n",
       "      <td>*</td>\n",
       "      <td>*</td>\n",
       "    </tr>\n",
       "    <tr>\n",
       "      <th>3</th>\n",
       "      <td>2000</td>\n",
       "      <td>Madonna</td>\n",
       "      <td>Music</td>\n",
       "      <td>3,45,00 AM</td>\n",
       "      <td>Rock</td>\n",
       "      <td>August 12, 2000</td>\n",
       "      <td>September 16, 2000</td>\n",
       "      <td>41</td>\n",
       "      <td>23</td>\n",
       "      <td>18</td>\n",
       "      <td>...</td>\n",
       "      <td>*</td>\n",
       "      <td>*</td>\n",
       "      <td>*</td>\n",
       "      <td>*</td>\n",
       "      <td>*</td>\n",
       "      <td>*</td>\n",
       "      <td>*</td>\n",
       "      <td>*</td>\n",
       "      <td>*</td>\n",
       "      <td>*</td>\n",
       "    </tr>\n",
       "    <tr>\n",
       "      <th>4</th>\n",
       "      <td>2000</td>\n",
       "      <td>Aguilera, Christina</td>\n",
       "      <td>Come On Over Baby (All I Want Is You)</td>\n",
       "      <td>3,38,00 AM</td>\n",
       "      <td>Rock</td>\n",
       "      <td>August 5, 2000</td>\n",
       "      <td>October 14, 2000</td>\n",
       "      <td>57</td>\n",
       "      <td>47</td>\n",
       "      <td>45</td>\n",
       "      <td>...</td>\n",
       "      <td>*</td>\n",
       "      <td>*</td>\n",
       "      <td>*</td>\n",
       "      <td>*</td>\n",
       "      <td>*</td>\n",
       "      <td>*</td>\n",
       "      <td>*</td>\n",
       "      <td>*</td>\n",
       "      <td>*</td>\n",
       "      <td>*</td>\n",
       "    </tr>\n",
       "  </tbody>\n",
       "</table>\n",
       "<p>5 rows × 83 columns</p>\n",
       "</div>"
      ],
      "text/plain": [
       "   year      artist.inverted                                  track  \\\n",
       "0  2000      Destiny's Child               Independent Women Part I   \n",
       "1  2000              Santana                           Maria, Maria   \n",
       "2  2000        Savage Garden                     I Knew I Loved You   \n",
       "3  2000              Madonna                                  Music   \n",
       "4  2000  Aguilera, Christina  Come On Over Baby (All I Want Is You)   \n",
       "\n",
       "         time genre        date.entered         date.peaked  x1st.week  \\\n",
       "0  3,38,00 AM  Rock  September 23, 2000   November 18, 2000         78   \n",
       "1  4,18,00 AM  Rock   February 12, 2000       April 8, 2000         15   \n",
       "2  4,07,00 AM  Rock    October 23, 1999    January 29, 2000         71   \n",
       "3  3,45,00 AM  Rock     August 12, 2000  September 16, 2000         41   \n",
       "4  3,38,00 AM  Rock      August 5, 2000    October 14, 2000         57   \n",
       "\n",
       "  x2nd.week x3rd.week    ...     x67th.week x68th.week x69th.week x70th.week  \\\n",
       "0        63        49    ...              *          *          *          *   \n",
       "1         8         6    ...              *          *          *          *   \n",
       "2        48        43    ...              *          *          *          *   \n",
       "3        23        18    ...              *          *          *          *   \n",
       "4        47        45    ...              *          *          *          *   \n",
       "\n",
       "  x71st.week x72nd.week x73rd.week x74th.week x75th.week x76th.week  \n",
       "0          *          *          *          *          *          *  \n",
       "1          *          *          *          *          *          *  \n",
       "2          *          *          *          *          *          *  \n",
       "3          *          *          *          *          *          *  \n",
       "4          *          *          *          *          *          *  \n",
       "\n",
       "[5 rows x 83 columns]"
      ]
     },
     "execution_count": 300,
     "metadata": {},
     "output_type": "execute_result"
    }
   ],
   "source": [
    "# read in data\n",
    "music=pd.read_csv(\"../assets/billboard.csv\")\n",
    "music.head()"
   ]
  },
  {
   "cell_type": "code",
   "execution_count": 301,
   "metadata": {
    "collapsed": false,
    "scrolled": true
   },
   "outputs": [
    {
     "name": "stdout",
     "output_type": "stream",
     "text": [
      "<class 'pandas.core.frame.DataFrame'>\n",
      "RangeIndex: 317 entries, 0 to 316\n",
      "Data columns (total 83 columns):\n",
      "year               317 non-null int64\n",
      "artist.inverted    317 non-null object\n",
      "track              317 non-null object\n",
      "time               317 non-null object\n",
      "genre              317 non-null object\n",
      "date.entered       317 non-null object\n",
      "date.peaked        317 non-null object\n",
      "x1st.week          317 non-null int64\n",
      "x2nd.week          317 non-null object\n",
      "x3rd.week          317 non-null object\n",
      "x4th.week          317 non-null object\n",
      "x5th.week          317 non-null object\n",
      "x6th.week          317 non-null object\n",
      "x7th.week          317 non-null object\n",
      "x8th.week          317 non-null object\n",
      "x9th.week          317 non-null object\n",
      "x10th.week         317 non-null object\n",
      "x11th.week         317 non-null object\n",
      "x12th.week         317 non-null object\n",
      "x13th.week         317 non-null object\n",
      "x14th.week         317 non-null object\n",
      "x15th.week         317 non-null object\n",
      "x16th.week         317 non-null object\n",
      "x17th.week         317 non-null object\n",
      "x18th.week         317 non-null object\n",
      "x19th.week         317 non-null object\n",
      "x20th.week         317 non-null object\n",
      "x21st.week         317 non-null object\n",
      "x22nd.week         317 non-null object\n",
      "x23rd.week         317 non-null object\n",
      "x24th.week         317 non-null object\n",
      "x25th.week         39 non-null object\n",
      "x26th.week         37 non-null object\n",
      "x27th.week         30 non-null object\n",
      "x28th.week         317 non-null object\n",
      "x29th.week         317 non-null object\n",
      "x30th.week         317 non-null object\n",
      "x31st.week         317 non-null object\n",
      "x32nd.week         317 non-null object\n",
      "x33rd.week         317 non-null object\n",
      "x34th.week         317 non-null object\n",
      "x35th.week         317 non-null object\n",
      "x36th.week         317 non-null object\n",
      "x37th.week         317 non-null object\n",
      "x38th.week         317 non-null object\n",
      "x39th.week         317 non-null object\n",
      "x40th.week         317 non-null object\n",
      "x41st.week         317 non-null object\n",
      "x42nd.week         317 non-null object\n",
      "x43rd.week         317 non-null object\n",
      "x44th.week         317 non-null object\n",
      "x45th.week         317 non-null object\n",
      "x46th.week         317 non-null object\n",
      "x47th.week         317 non-null object\n",
      "x48th.week         317 non-null object\n",
      "x49th.week         317 non-null object\n",
      "x50th.week         317 non-null object\n",
      "x51st.week         317 non-null object\n",
      "x52nd.week         317 non-null object\n",
      "x53rd.week         317 non-null object\n",
      "x54th.week         317 non-null object\n",
      "x55th.week         317 non-null object\n",
      "x56th.week         317 non-null object\n",
      "x57th.week         317 non-null object\n",
      "x58th.week         317 non-null object\n",
      "x59th.week         317 non-null object\n",
      "x60th.week         317 non-null object\n",
      "x61st.week         317 non-null object\n",
      "x62nd.week         317 non-null object\n",
      "x63rd.week         317 non-null object\n",
      "x64th.week         317 non-null object\n",
      "x65th.week         317 non-null object\n",
      "x66th.week         317 non-null object\n",
      "x67th.week         317 non-null object\n",
      "x68th.week         317 non-null object\n",
      "x69th.week         317 non-null object\n",
      "x70th.week         317 non-null object\n",
      "x71st.week         317 non-null object\n",
      "x72nd.week         317 non-null object\n",
      "x73rd.week         317 non-null object\n",
      "x74th.week         317 non-null object\n",
      "x75th.week         317 non-null object\n",
      "x76th.week         317 non-null object\n",
      "dtypes: int64(2), object(81)\n",
      "memory usage: 205.6+ KB\n"
     ]
    }
   ],
   "source": [
    "# explore data types\n",
    "music.info()"
   ]
  },
  {
   "cell_type": "code",
   "execution_count": null,
   "metadata": {
    "collapsed": true
   },
   "outputs": [],
   "source": []
  },
  {
   "cell_type": "markdown",
   "metadata": {
    "focus": false,
    "id": "94514384-cf79-4e7a-a09b-02cddc91e77c"
   },
   "source": [
    "##### Write a brief description of your data, and any interesting observations you've made thus far. "
   ]
  },
  {
   "cell_type": "markdown",
   "metadata": {
    "collapsed": true,
    "focus": false,
    "id": "33a9e3f0-a29d-4b02-90bd-528bdb44fb78"
   },
   "source": [
    "Initial thoughts:\n",
    "The data show billboard entries from 2000.  \n",
    "There is a column for each of the 76 weeks.  Asterisk if song wasn't in chart that long.\n",
    "There are a few date columns, but they are formatted as strings.\n",
    "Similary the time column, although it seems like a time of day, is probably the duration of the song.\n",
    "\n",
    "Add much more to this."
   ]
  },
  {
   "cell_type": "markdown",
   "metadata": {
    "focus": false,
    "id": "888b6223-3bb4-4d91-b753-4867a3a1b281"
   },
   "source": [
    "## Step 2: Clean your data."
   ]
  },
  {
   "cell_type": "markdown",
   "metadata": {
    "focus": false,
    "id": "8a273328-6d9f-4dfc-88f8-a0c18e4d7f90"
   },
   "source": [
    "##### Do some rudimentary cleaning. Rename any columns that are poorly named, shorten any strings that may be too long, fill in any missing values. Explain your rationale for the way you choose to \"impute\" the missing data."
   ]
  },
  {
   "cell_type": "code",
   "execution_count": 302,
   "metadata": {
    "collapsed": false,
    "focus": false,
    "id": "00022458-8edc-4f84-8492-0be04397fa64"
   },
   "outputs": [],
   "source": [
    "# rename chart weeks columns\n",
    "labels=id_variables=list(music.columns.values)[:7]\n",
    "for i in [\"week\"+str(i+1) for i in range(76)]:\n",
    "    labels.append(i)\n",
    "music.columns=labels\n",
    "\n",
    "# rename arist column\n",
    "music.rename(columns={\"artist.inverted\":\"artist\"}, inplace=True)"
   ]
  },
  {
   "cell_type": "code",
   "execution_count": 303,
   "metadata": {
    "collapsed": false
   },
   "outputs": [],
   "source": [
    "# change all the * to NaNs\n",
    "def replace_nulls(value):\n",
    "    if value == '*':\n",
    "        return np.nan\n",
    "    else:\n",
    "        return value\n",
    "music=music.applymap(replace_nulls)"
   ]
  },
  {
   "cell_type": "code",
   "execution_count": 304,
   "metadata": {
    "collapsed": true
   },
   "outputs": [],
   "source": [
    "# convert chart position columns to floats\n",
    "music.loc[:,\"week1\":\"week76\"]=music.loc[:,\"week1\":\"week76\"].astype(float)"
   ]
  },
  {
   "cell_type": "code",
   "execution_count": 305,
   "metadata": {
    "collapsed": true
   },
   "outputs": [],
   "source": [
    "# convert date.entered and date.peaked to datetime\n",
    "music.loc[:,[\"date.entered\",\"date.peaked\"]]=music.loc[:,[\"date.entered\",\"date.peaked\"]].applymap(pd.to_datetime)"
   ]
  },
  {
   "cell_type": "code",
   "execution_count": 306,
   "metadata": {
    "collapsed": true
   },
   "outputs": [],
   "source": [
    "# check the value counts by genre\n",
    "music[\"genre\"].value_counts()\n",
    "\n",
    "# change R & B to R&B\n",
    "def replace_RB(value):\n",
    "    if value==\"R & B\":\n",
    "        return \"R&B\"\n",
    "    else:\n",
    "        return value\n",
    "\n",
    "music[\"genre\"] = music[\"genre\"].apply(replace_RB)"
   ]
  },
  {
   "cell_type": "code",
   "execution_count": 307,
   "metadata": {
    "collapsed": false
   },
   "outputs": [
    {
     "data": {
      "text/plain": [
       "Where I Wanna Be              2\n",
       "If You Don't Wanna Love Me    1\n",
       "Just Be A Man About It        1\n",
       "With Arms Wide Open           1\n",
       "Girls Dem Sugar               1\n",
       "Name: track, dtype: int64"
      ]
     },
     "execution_count": 307,
     "metadata": {},
     "output_type": "execute_result"
    }
   ],
   "source": [
    "# check that there are no repeating song names\n",
    "music[\"track\"].value_counts().head()"
   ]
  },
  {
   "cell_type": "code",
   "execution_count": 308,
   "metadata": {
    "collapsed": false
   },
   "outputs": [
    {
     "data": {
      "text/html": [
       "<div>\n",
       "<table border=\"1\" class=\"dataframe\">\n",
       "  <thead>\n",
       "    <tr style=\"text-align: right;\">\n",
       "      <th></th>\n",
       "      <th>year</th>\n",
       "      <th>artist</th>\n",
       "      <th>track</th>\n",
       "      <th>time</th>\n",
       "      <th>genre</th>\n",
       "      <th>date.entered</th>\n",
       "      <th>date.peaked</th>\n",
       "      <th>week1</th>\n",
       "      <th>week2</th>\n",
       "      <th>week3</th>\n",
       "      <th>...</th>\n",
       "      <th>week67</th>\n",
       "      <th>week68</th>\n",
       "      <th>week69</th>\n",
       "      <th>week70</th>\n",
       "      <th>week71</th>\n",
       "      <th>week72</th>\n",
       "      <th>week73</th>\n",
       "      <th>week74</th>\n",
       "      <th>week75</th>\n",
       "      <th>week76</th>\n",
       "    </tr>\n",
       "  </thead>\n",
       "  <tbody>\n",
       "    <tr>\n",
       "      <th>118</th>\n",
       "      <td>2000</td>\n",
       "      <td>Jones, Donell</td>\n",
       "      <td>Where I Wanna Be</td>\n",
       "      <td>6,22,00 AM</td>\n",
       "      <td>Rock</td>\n",
       "      <td>2000-04-22</td>\n",
       "      <td>2000-07-08</td>\n",
       "      <td>81.0</td>\n",
       "      <td>71.0</td>\n",
       "      <td>65.0</td>\n",
       "      <td>...</td>\n",
       "      <td>NaN</td>\n",
       "      <td>NaN</td>\n",
       "      <td>NaN</td>\n",
       "      <td>NaN</td>\n",
       "      <td>NaN</td>\n",
       "      <td>NaN</td>\n",
       "      <td>NaN</td>\n",
       "      <td>NaN</td>\n",
       "      <td>NaN</td>\n",
       "      <td>NaN</td>\n",
       "    </tr>\n",
       "    <tr>\n",
       "      <th>305</th>\n",
       "      <td>2000</td>\n",
       "      <td>Sheist, Shade</td>\n",
       "      <td>Where I Wanna Be</td>\n",
       "      <td>4,16,00 AM</td>\n",
       "      <td>Rap</td>\n",
       "      <td>2000-11-11</td>\n",
       "      <td>2000-11-18</td>\n",
       "      <td>96.0</td>\n",
       "      <td>95.0</td>\n",
       "      <td>99.0</td>\n",
       "      <td>...</td>\n",
       "      <td>NaN</td>\n",
       "      <td>NaN</td>\n",
       "      <td>NaN</td>\n",
       "      <td>NaN</td>\n",
       "      <td>NaN</td>\n",
       "      <td>NaN</td>\n",
       "      <td>NaN</td>\n",
       "      <td>NaN</td>\n",
       "      <td>NaN</td>\n",
       "      <td>NaN</td>\n",
       "    </tr>\n",
       "  </tbody>\n",
       "</table>\n",
       "<p>2 rows × 83 columns</p>\n",
       "</div>"
      ],
      "text/plain": [
       "     year         artist             track        time genre date.entered  \\\n",
       "118  2000  Jones, Donell  Where I Wanna Be  6,22,00 AM  Rock   2000-04-22   \n",
       "305  2000  Sheist, Shade  Where I Wanna Be  4,16,00 AM   Rap   2000-11-11   \n",
       "\n",
       "    date.peaked  week1  week2  week3   ...    week67  week68  week69  week70  \\\n",
       "118  2000-07-08   81.0   71.0   65.0   ...       NaN     NaN     NaN     NaN   \n",
       "305  2000-11-18   96.0   95.0   99.0   ...       NaN     NaN     NaN     NaN   \n",
       "\n",
       "     week71  week72  week73  week74  week75  week76  \n",
       "118     NaN     NaN     NaN     NaN     NaN     NaN  \n",
       "305     NaN     NaN     NaN     NaN     NaN     NaN  \n",
       "\n",
       "[2 rows x 83 columns]"
      ]
     },
     "execution_count": 308,
     "metadata": {},
     "output_type": "execute_result"
    }
   ],
   "source": [
    "# \"Where I Wanna Be\" appears twice.  Rename each one such that artist's name is also included\n",
    "# find index for two values\n",
    "music[music[\"track\"]==\"Where I Wanna Be\"]"
   ]
  },
  {
   "cell_type": "code",
   "execution_count": 309,
   "metadata": {
    "collapsed": false
   },
   "outputs": [],
   "source": [
    "music.loc[118,\"track\"]=music.loc[118,\"track\"]+\" \"+music.loc[118,\"artist\"]\n",
    "music.loc[305,\"track\"]=music.loc[305,\"track\"]+\" \"+music.loc[305,\"artist\"]"
   ]
  },
  {
   "cell_type": "code",
   "execution_count": 310,
   "metadata": {
    "collapsed": false
   },
   "outputs": [],
   "source": [
    "# convert time column into fractional minutes \n",
    "# split string into three columns\n",
    "time_cols=pd.DataFrame(music.time.str.split(\",\",2).tolist(),columns = [\"mins\",\"secs\",\"remainder\"])\n",
    "# drop original time column\n",
    "music.drop(\"time\", axis=1, inplace=True)\n",
    "# columns for minutes and sconds\n",
    "music[[\"mins\",\"secs\"]] = time_cols.loc[:,[\"mins\",\"secs\"]]\n",
    "music[[\"mins\",\"secs\"]] = music[[\"mins\",\"secs\"]].astype(int)\n",
    "# create a new colum for fractional mins\n",
    "music[\"length_mins\"] = music[\"mins\"] + music[\"secs\"]/60.0\n",
    "music.drop([\"mins\",\"secs\"], axis=1, inplace=True)"
   ]
  },
  {
   "cell_type": "code",
   "execution_count": 311,
   "metadata": {
    "collapsed": false
   },
   "outputs": [],
   "source": [
    "# create some new columns to measure success of music\n",
    "\n",
    "#weeks to peak\n",
    "music[\"weeks_to_peak\"]=music[\"date.peaked\"]-music[\"date.entered\"]\n",
    "music[\"weeks_to_peak\"] = music[\"weeks_to_peak\"].astype('timedelta64[W]')\n",
    "\n",
    "#highest position\n",
    "music[\"top_position\"]=music.loc[:,\"week1\":\"week76\"].apply(np.min,axis=1)\n",
    "\n",
    "# weeks in charts\n",
    "music[\"weeks_in_charts\"]=music.loc[:,\"week1\":\"week76\"].apply(lambda x: np.count_nonzero(~np.isnan(x)),axis=1)\n",
    "\n",
    "# weeks in top 10\n",
    "music[\"weeks_in_top10\"]=music.loc[:,\"week1\":\"week76\"].apply(lambda x: np.count_nonzero(x<=10),axis=1)\n"
   ]
  },
  {
   "cell_type": "code",
   "execution_count": 313,
   "metadata": {
    "collapsed": false
   },
   "outputs": [
    {
     "data": {
      "text/html": [
       "<div>\n",
       "<table border=\"1\" class=\"dataframe\">\n",
       "  <thead>\n",
       "    <tr style=\"text-align: right;\">\n",
       "      <th>genre</th>\n",
       "      <th>Country</th>\n",
       "      <th>Electronica</th>\n",
       "      <th>Gospel</th>\n",
       "      <th>Jazz</th>\n",
       "      <th>Latin</th>\n",
       "      <th>Pop</th>\n",
       "      <th>R&amp;B</th>\n",
       "      <th>Rap</th>\n",
       "      <th>Reggae</th>\n",
       "      <th>Rock</th>\n",
       "      <th>Rock'n'roll</th>\n",
       "    </tr>\n",
       "    <tr>\n",
       "      <th>artist</th>\n",
       "      <th></th>\n",
       "      <th></th>\n",
       "      <th></th>\n",
       "      <th></th>\n",
       "      <th></th>\n",
       "      <th></th>\n",
       "      <th></th>\n",
       "      <th></th>\n",
       "      <th></th>\n",
       "      <th></th>\n",
       "      <th></th>\n",
       "    </tr>\n",
       "  </thead>\n",
       "  <tbody>\n",
       "    <tr>\n",
       "      <th>2 Pac</th>\n",
       "      <td>NaN</td>\n",
       "      <td>NaN</td>\n",
       "      <td>NaN</td>\n",
       "      <td>NaN</td>\n",
       "      <td>NaN</td>\n",
       "      <td>NaN</td>\n",
       "      <td>NaN</td>\n",
       "      <td>1.0</td>\n",
       "      <td>NaN</td>\n",
       "      <td>NaN</td>\n",
       "      <td>NaN</td>\n",
       "    </tr>\n",
       "    <tr>\n",
       "      <th>2Ge+her</th>\n",
       "      <td>NaN</td>\n",
       "      <td>NaN</td>\n",
       "      <td>NaN</td>\n",
       "      <td>NaN</td>\n",
       "      <td>NaN</td>\n",
       "      <td>NaN</td>\n",
       "      <td>1.0</td>\n",
       "      <td>NaN</td>\n",
       "      <td>NaN</td>\n",
       "      <td>NaN</td>\n",
       "      <td>NaN</td>\n",
       "    </tr>\n",
       "    <tr>\n",
       "      <th>3 Doors Down</th>\n",
       "      <td>NaN</td>\n",
       "      <td>NaN</td>\n",
       "      <td>NaN</td>\n",
       "      <td>NaN</td>\n",
       "      <td>NaN</td>\n",
       "      <td>NaN</td>\n",
       "      <td>NaN</td>\n",
       "      <td>NaN</td>\n",
       "      <td>NaN</td>\n",
       "      <td>2.0</td>\n",
       "      <td>NaN</td>\n",
       "    </tr>\n",
       "    <tr>\n",
       "      <th>504 Boyz</th>\n",
       "      <td>NaN</td>\n",
       "      <td>NaN</td>\n",
       "      <td>NaN</td>\n",
       "      <td>NaN</td>\n",
       "      <td>NaN</td>\n",
       "      <td>NaN</td>\n",
       "      <td>NaN</td>\n",
       "      <td>1.0</td>\n",
       "      <td>NaN</td>\n",
       "      <td>NaN</td>\n",
       "      <td>NaN</td>\n",
       "    </tr>\n",
       "    <tr>\n",
       "      <th>98�</th>\n",
       "      <td>NaN</td>\n",
       "      <td>NaN</td>\n",
       "      <td>NaN</td>\n",
       "      <td>NaN</td>\n",
       "      <td>NaN</td>\n",
       "      <td>NaN</td>\n",
       "      <td>NaN</td>\n",
       "      <td>NaN</td>\n",
       "      <td>NaN</td>\n",
       "      <td>1.0</td>\n",
       "      <td>NaN</td>\n",
       "    </tr>\n",
       "    <tr>\n",
       "      <th>A*Teens</th>\n",
       "      <td>NaN</td>\n",
       "      <td>NaN</td>\n",
       "      <td>NaN</td>\n",
       "      <td>NaN</td>\n",
       "      <td>NaN</td>\n",
       "      <td>1.0</td>\n",
       "      <td>NaN</td>\n",
       "      <td>NaN</td>\n",
       "      <td>NaN</td>\n",
       "      <td>NaN</td>\n",
       "      <td>NaN</td>\n",
       "    </tr>\n",
       "    <tr>\n",
       "      <th>Aaliyah</th>\n",
       "      <td>NaN</td>\n",
       "      <td>NaN</td>\n",
       "      <td>NaN</td>\n",
       "      <td>NaN</td>\n",
       "      <td>NaN</td>\n",
       "      <td>NaN</td>\n",
       "      <td>NaN</td>\n",
       "      <td>NaN</td>\n",
       "      <td>NaN</td>\n",
       "      <td>1.0</td>\n",
       "      <td>1.0</td>\n",
       "    </tr>\n",
       "    <tr>\n",
       "      <th>Adams, Yolanda</th>\n",
       "      <td>NaN</td>\n",
       "      <td>NaN</td>\n",
       "      <td>1.0</td>\n",
       "      <td>NaN</td>\n",
       "      <td>NaN</td>\n",
       "      <td>NaN</td>\n",
       "      <td>NaN</td>\n",
       "      <td>NaN</td>\n",
       "      <td>NaN</td>\n",
       "      <td>NaN</td>\n",
       "      <td>NaN</td>\n",
       "    </tr>\n",
       "    <tr>\n",
       "      <th>Adkins, Trace</th>\n",
       "      <td>1.0</td>\n",
       "      <td>NaN</td>\n",
       "      <td>NaN</td>\n",
       "      <td>NaN</td>\n",
       "      <td>NaN</td>\n",
       "      <td>NaN</td>\n",
       "      <td>NaN</td>\n",
       "      <td>NaN</td>\n",
       "      <td>NaN</td>\n",
       "      <td>NaN</td>\n",
       "      <td>NaN</td>\n",
       "    </tr>\n",
       "    <tr>\n",
       "      <th>Aguilera, Christina</th>\n",
       "      <td>NaN</td>\n",
       "      <td>NaN</td>\n",
       "      <td>NaN</td>\n",
       "      <td>NaN</td>\n",
       "      <td>NaN</td>\n",
       "      <td>NaN</td>\n",
       "      <td>NaN</td>\n",
       "      <td>NaN</td>\n",
       "      <td>NaN</td>\n",
       "      <td>1.0</td>\n",
       "      <td>2.0</td>\n",
       "    </tr>\n",
       "    <tr>\n",
       "      <th>Alice Deejay</th>\n",
       "      <td>NaN</td>\n",
       "      <td>1.0</td>\n",
       "      <td>NaN</td>\n",
       "      <td>NaN</td>\n",
       "      <td>NaN</td>\n",
       "      <td>NaN</td>\n",
       "      <td>NaN</td>\n",
       "      <td>NaN</td>\n",
       "      <td>NaN</td>\n",
       "      <td>NaN</td>\n",
       "      <td>NaN</td>\n",
       "    </tr>\n",
       "    <tr>\n",
       "      <th>Allan, Gary</th>\n",
       "      <td>1.0</td>\n",
       "      <td>NaN</td>\n",
       "      <td>NaN</td>\n",
       "      <td>NaN</td>\n",
       "      <td>NaN</td>\n",
       "      <td>NaN</td>\n",
       "      <td>NaN</td>\n",
       "      <td>NaN</td>\n",
       "      <td>NaN</td>\n",
       "      <td>NaN</td>\n",
       "      <td>NaN</td>\n",
       "    </tr>\n",
       "    <tr>\n",
       "      <th>Amber</th>\n",
       "      <td>NaN</td>\n",
       "      <td>NaN</td>\n",
       "      <td>NaN</td>\n",
       "      <td>NaN</td>\n",
       "      <td>NaN</td>\n",
       "      <td>NaN</td>\n",
       "      <td>NaN</td>\n",
       "      <td>NaN</td>\n",
       "      <td>NaN</td>\n",
       "      <td>1.0</td>\n",
       "      <td>NaN</td>\n",
       "    </tr>\n",
       "    <tr>\n",
       "      <th>Anastacia</th>\n",
       "      <td>NaN</td>\n",
       "      <td>NaN</td>\n",
       "      <td>NaN</td>\n",
       "      <td>NaN</td>\n",
       "      <td>NaN</td>\n",
       "      <td>1.0</td>\n",
       "      <td>NaN</td>\n",
       "      <td>NaN</td>\n",
       "      <td>NaN</td>\n",
       "      <td>NaN</td>\n",
       "      <td>NaN</td>\n",
       "    </tr>\n",
       "    <tr>\n",
       "      <th>Anthony, Marc</th>\n",
       "      <td>NaN</td>\n",
       "      <td>NaN</td>\n",
       "      <td>NaN</td>\n",
       "      <td>NaN</td>\n",
       "      <td>2.0</td>\n",
       "      <td>NaN</td>\n",
       "      <td>NaN</td>\n",
       "      <td>NaN</td>\n",
       "      <td>NaN</td>\n",
       "      <td>NaN</td>\n",
       "      <td>NaN</td>\n",
       "    </tr>\n",
       "  </tbody>\n",
       "</table>\n",
       "</div>"
      ],
      "text/plain": [
       "genre                Country  Electronica  Gospel  Jazz  Latin  Pop  R&B  Rap  \\\n",
       "artist                                                                          \n",
       "2 Pac                    NaN          NaN     NaN   NaN    NaN  NaN  NaN  1.0   \n",
       "2Ge+her                  NaN          NaN     NaN   NaN    NaN  NaN  1.0  NaN   \n",
       "3 Doors Down             NaN          NaN     NaN   NaN    NaN  NaN  NaN  NaN   \n",
       "504 Boyz                 NaN          NaN     NaN   NaN    NaN  NaN  NaN  1.0   \n",
       "98�                      NaN          NaN     NaN   NaN    NaN  NaN  NaN  NaN   \n",
       "A*Teens                  NaN          NaN     NaN   NaN    NaN  1.0  NaN  NaN   \n",
       "Aaliyah                  NaN          NaN     NaN   NaN    NaN  NaN  NaN  NaN   \n",
       "Adams, Yolanda           NaN          NaN     1.0   NaN    NaN  NaN  NaN  NaN   \n",
       "Adkins, Trace            1.0          NaN     NaN   NaN    NaN  NaN  NaN  NaN   \n",
       "Aguilera, Christina      NaN          NaN     NaN   NaN    NaN  NaN  NaN  NaN   \n",
       "Alice Deejay             NaN          1.0     NaN   NaN    NaN  NaN  NaN  NaN   \n",
       "Allan, Gary              1.0          NaN     NaN   NaN    NaN  NaN  NaN  NaN   \n",
       "Amber                    NaN          NaN     NaN   NaN    NaN  NaN  NaN  NaN   \n",
       "Anastacia                NaN          NaN     NaN   NaN    NaN  1.0  NaN  NaN   \n",
       "Anthony, Marc            NaN          NaN     NaN   NaN    2.0  NaN  NaN  NaN   \n",
       "\n",
       "genre                Reggae  Rock  Rock'n'roll  \n",
       "artist                                          \n",
       "2 Pac                   NaN   NaN          NaN  \n",
       "2Ge+her                 NaN   NaN          NaN  \n",
       "3 Doors Down            NaN   2.0          NaN  \n",
       "504 Boyz                NaN   NaN          NaN  \n",
       "98�                     NaN   1.0          NaN  \n",
       "A*Teens                 NaN   NaN          NaN  \n",
       "Aaliyah                 NaN   1.0          1.0  \n",
       "Adams, Yolanda          NaN   NaN          NaN  \n",
       "Adkins, Trace           NaN   NaN          NaN  \n",
       "Aguilera, Christina     NaN   1.0          2.0  \n",
       "Alice Deejay            NaN   NaN          NaN  \n",
       "Allan, Gary             NaN   NaN          NaN  \n",
       "Amber                   NaN   1.0          NaN  \n",
       "Anastacia               NaN   NaN          NaN  \n",
       "Anthony, Marc           NaN   NaN          NaN  "
      ]
     },
     "execution_count": 313,
     "metadata": {},
     "output_type": "execute_result"
    }
   ],
   "source": [
    "# examine the labeled genres by showing number of songs by artist in each genre\n",
    "pd.pivot_table(music, index=[\"artist\"], columns=[\"genre\"], values=\"track\",aggfunc=len).head(15)"
   ]
  },
  {
   "cell_type": "code",
   "execution_count": null,
   "metadata": {
    "collapsed": false
   },
   "outputs": [],
   "source": [
    "# some of the genres seem questionable (Aaliyah in Rock and Rock 'n' Roll), but not so\n",
    "# strange to suggest that it is a case of mislabelling rather than subjective assignment to\n",
    "# genres (i.e. there is no compelling reason not to use the genre for analysis)"
   ]
  },
  {
   "cell_type": "markdown",
   "metadata": {
    "focus": false,
    "id": "604ee5d7-10ed-4d14-9f86-16a6b240c00d"
   },
   "source": [
    "##### Using Pandas' built in `melt` function, pivot the weekly ranking data to be long rather than wide. As a result, you will have removed the 72 'week' columns and replace it with two: Week and Ranking. There will now be multiple entries for each song, one for each week on the Billboard rankings."
   ]
  },
  {
   "cell_type": "code",
   "execution_count": 314,
   "metadata": {
    "collapsed": false,
    "focus": false,
    "id": "bf0161ca-0fcb-4883-a216-93fd7ffa6456"
   },
   "outputs": [],
   "source": [
    "id_variables=list(music.columns.values)\n",
    "del id_variables[6:82]\n",
    "music_long=pd.melt(music, id_vars=id_variables, var_name='week', value_name=\"rank\")\n",
    "music_long=music_long.sort_values([\"track\",\"week\"])"
   ]
  },
  {
   "cell_type": "markdown",
   "metadata": {
    "focus": false,
    "id": "2023c5a8-1f4e-4d83-9a52-c41a5090af74"
   },
   "source": [
    "## Step 3: Visualize your data."
   ]
  },
  {
   "cell_type": "markdown",
   "metadata": {
    "focus": false,
    "id": "dfaca026-8eca-4119-b4c1-e43433790c8e"
   },
   "source": [
    "##### Using a plotting utility of your choice (Tableau or python modules or both), create visualizations that will provide context to your data. There is no minimum or maximum number of graphs you should generate, but there should be a clear and consistent story being told. Give insights to the distribution, statistics, and relationships of the data. "
   ]
  },
  {
   "cell_type": "code",
   "execution_count": 315,
   "metadata": {
    "collapsed": false
   },
   "outputs": [
    {
     "data": {
      "text/plain": [
       "<matplotlib.axes._subplots.AxesSubplot at 0x130ed47d0>"
      ]
     },
     "execution_count": 315,
     "metadata": {},
     "output_type": "execute_result"
    },
    {
     "data": {
      "image/png": "[encoded data removed]",
      "text/plain": [
       "<matplotlib.figure.Figure at 0x130962b50>"
      ]
     },
     "metadata": {},
     "output_type": "display_data"
    }
   ],
   "source": [
    "# exploring the genres\n",
    "music[\"genre\"].value_counts().plot(kind=\"bar\")\n",
    "# Rock and country have the highest representation in the charts"
   ]
  },
  {
   "cell_type": "code",
   "execution_count": 330,
   "metadata": {
    "collapsed": false
   },
   "outputs": [
    {
     "data": {
      "text/plain": [
       "<matplotlib.axes._subplots.AxesSubplot at 0x1375e3250>"
      ]
     },
     "execution_count": 330,
     "metadata": {},
     "output_type": "execute_result"
    },
    {
     "data": {
      "image/png": "[encoded data removed]",
      "text/plain": [
       "<matplotlib.figure.Figure at 0x1369dbf10>"
      ]
     },
     "metadata": {},
     "output_type": "display_data"
    }
   ],
   "source": [
    "# for just songs that hit the top 10\n",
    "music[music[\"top_position\"]<=10][\"genre\"].value_counts().plot(kind=\"bar\")\n",
    "# Rock and Rock 'n' Roll have the most top 10 hits"
   ]
  },
  {
   "cell_type": "code",
   "execution_count": null,
   "metadata": {
    "collapsed": true
   },
   "outputs": [],
   "source": [
    "# exploring distribution for time of song, "
   ]
  },
  {
   "cell_type": "code",
   "execution_count": 321,
   "metadata": {
    "collapsed": false
   },
   "outputs": [
    {
     "data": {
      "text/plain": [
       "<matplotlib.axes._subplots.AxesSubplot at 0x11e23ab90>"
      ]
     },
     "execution_count": 321,
     "metadata": {},
     "output_type": "execute_result"
    },
    {
     "data": {
      "image/png": "[encoded data removed]",
      "text/plain": [
       "<matplotlib.figure.Figure at 0x13398bb10>"
      ]
     },
     "metadata": {},
     "output_type": "display_data"
    }
   ],
   "source": [
    "music[\"length_mins\"].hist()"
   ]
  },
  {
   "cell_type": "code",
   "execution_count": 322,
   "metadata": {
    "collapsed": false
   },
   "outputs": [
    {
     "data": {
      "text/plain": [
       "<matplotlib.axes._subplots.AxesSubplot at 0x13398bbd0>"
      ]
     },
     "execution_count": 322,
     "metadata": {},
     "output_type": "execute_result"
    },
    {
     "data": {
      "image/png": "[encoded data removed]",
      "text/plain": [
       "<matplotlib.figure.Figure at 0x133b79150>"
      ]
     },
     "metadata": {},
     "output_type": "display_data"
    }
   ],
   "source": [
    "music[\"top_position\"].hist()"
   ]
  },
  {
   "cell_type": "code",
   "execution_count": 323,
   "metadata": {
    "collapsed": false
   },
   "outputs": [
    {
     "data": {
      "text/plain": [
       "<matplotlib.axes._subplots.AxesSubplot at 0x13472a3d0>"
      ]
     },
     "execution_count": 323,
     "metadata": {},
     "output_type": "execute_result"
    },
    {
     "data": {
      "image/png": "[encoded data removed]",
      "text/plain": [
       "<matplotlib.figure.Figure at 0x13544e550>"
      ]
     },
     "metadata": {},
     "output_type": "display_data"
    }
   ],
   "source": [
    "music[\"weeks_in_charts\"].hist()"
   ]
  },
  {
   "cell_type": "code",
   "execution_count": 324,
   "metadata": {
    "collapsed": false
   },
   "outputs": [
    {
     "data": {
      "text/plain": [
       "<matplotlib.axes._subplots.AxesSubplot at 0x13472aa50>"
      ]
     },
     "execution_count": 324,
     "metadata": {},
     "output_type": "execute_result"
    },
    {
     "data": {
      "image/png": "[encoded data removed]",
      "text/plain": [
       "<matplotlib.figure.Figure at 0x11e40da10>"
      ]
     },
     "metadata": {},
     "output_type": "display_data"
    }
   ],
   "source": [
    "music[\"weeks_in_top10\"].hist()"
   ]
  },
  {
   "cell_type": "code",
   "execution_count": null,
   "metadata": {
    "collapsed": true
   },
   "outputs": [],
   "source": []
  },
  {
   "cell_type": "markdown",
   "metadata": {
    "focus": false,
    "id": "8401c631-245b-4560-8971-25cb2406c2ab"
   },
   "source": [
    "## Step 4: Create a Problem Statement.\n",
    "\n",
    "##### Having explored the data, come up with a problem statement for this data set. You can feel free to introduce data from any other source to support your problem statement, just be sure to provide a link to the origin of the data. Once again- be creative!"
   ]
  },
  {
   "cell_type": "markdown",
   "metadata": {
    "collapsed": true,
    "focus": false,
    "id": "e1b81214-9b26-4735-8c1b-4482e948b355"
   },
   "source": [
    "What makes a song a success in the charts?  Which genres are particularly popular?\n",
    "And for those songs that do chart, "
   ]
  },
  {
   "cell_type": "markdown",
   "metadata": {
    "collapsed": false,
    "focus": false,
    "id": "a0ff30a0-48be-4851-9ec3-4ce8ece08a67"
   },
   "source": [
    "## Step 5: Brainstorm your Approach.\n",
    "##### In bullet-list form, provide a proposed approach for evaluating your problem statement. This can be somewhat high-level, but start to think about ways you can massage the data for maximum efficacy. "
   ]
  },
  {
   "cell_type": "code",
   "execution_count": null,
   "metadata": {
    "collapsed": true,
    "focus": false,
    "id": "9d772c7b-61e0-4bc4-bb1a-f3d43ba54862"
   },
   "outputs": [],
   "source": [
    "#brainstorm in this cell"
   ]
  },
  {
   "cell_type": "code",
   "execution_count": 336,
   "metadata": {
    "collapsed": true
   },
   "outputs": [],
   "source": [
    "import scipy as sp\n",
    "from scipy import stats"
   ]
  },
  {
   "cell_type": "code",
   "execution_count": 389,
   "metadata": {
    "collapsed": false
   },
   "outputs": [
    {
     "data": {
      "text/plain": [
       "<matplotlib.axes._subplots.AxesSubplot at 0x13db3bcd0>"
      ]
     },
     "execution_count": 389,
     "metadata": {},
     "output_type": "execute_result"
    },
    {
     "data": {
      "image/png": "[encoded data removed]",
      "text/plain": [
       "<matplotlib.figure.Figure at 0x13a46fdd0>"
      ]
     },
     "metadata": {},
     "output_type": "display_data"
    }
   ],
   "source": [
    "pd.pivot_table(music,index=[\"genre\"],values=[\"weeks_in_charts\",\"weeks_to_peak\"],aggfunc=np.mean).plot(kind=\"bar\")"
   ]
  },
  {
   "cell_type": "code",
   "execution_count": 398,
   "metadata": {
    "collapsed": false,
    "scrolled": true
   },
   "outputs": [
    {
     "data": {
      "text/html": [
       "<div>\n",
       "<table border=\"1\" class=\"dataframe\">\n",
       "  <thead>\n",
       "    <tr>\n",
       "      <th></th>\n",
       "      <th colspan=\"11\" halign=\"left\">year</th>\n",
       "    </tr>\n",
       "    <tr>\n",
       "      <th>genre</th>\n",
       "      <th>Country</th>\n",
       "      <th>Electronica</th>\n",
       "      <th>Gospel</th>\n",
       "      <th>Jazz</th>\n",
       "      <th>Latin</th>\n",
       "      <th>Pop</th>\n",
       "      <th>R&amp;B</th>\n",
       "      <th>Rap</th>\n",
       "      <th>Reggae</th>\n",
       "      <th>Rock</th>\n",
       "      <th>Rock'n'roll</th>\n",
       "    </tr>\n",
       "    <tr>\n",
       "      <th>top_position</th>\n",
       "      <th></th>\n",
       "      <th></th>\n",
       "      <th></th>\n",
       "      <th></th>\n",
       "      <th></th>\n",
       "      <th></th>\n",
       "      <th></th>\n",
       "      <th></th>\n",
       "      <th></th>\n",
       "      <th></th>\n",
       "      <th></th>\n",
       "    </tr>\n",
       "  </thead>\n",
       "  <tbody>\n",
       "    <tr>\n",
       "      <th>1.0</th>\n",
       "      <td>1.0</td>\n",
       "      <td>NaN</td>\n",
       "      <td>NaN</td>\n",
       "      <td>NaN</td>\n",
       "      <td>1.0</td>\n",
       "      <td>NaN</td>\n",
       "      <td>NaN</td>\n",
       "      <td>NaN</td>\n",
       "      <td>NaN</td>\n",
       "      <td>8.0</td>\n",
       "      <td>7.0</td>\n",
       "    </tr>\n",
       "  </tbody>\n",
       "</table>\n",
       "</div>"
      ],
      "text/plain": [
       "                year                                                        \\\n",
       "genre        Country Electronica Gospel Jazz Latin Pop R&B Rap Reggae Rock   \n",
       "top_position                                                                 \n",
       "1.0              1.0         NaN    NaN  NaN   1.0 NaN NaN NaN    NaN  8.0   \n",
       "\n",
       "                          \n",
       "genre        Rock'n'roll  \n",
       "top_position              \n",
       "1.0                  7.0  "
      ]
     },
     "execution_count": 398,
     "metadata": {},
     "output_type": "execute_result"
    }
   ],
   "source": [
    "# fix this up some more\n",
    "pd.pivot_table(music,index=[\"top_position\"],values=[\"year\"],columns=[\"genre\"], aggfunc=len).iloc[0:1,:]"
   ]
  },
  {
   "cell_type": "code",
   "execution_count": 349,
   "metadata": {
    "collapsed": false
   },
   "outputs": [
    {
     "data": {
      "text/plain": [
       "Ttest_indResult(statistic=-4.4155945411566933, pvalue=1.3862164124957896e-05)"
      ]
     },
     "execution_count": 349,
     "metadata": {},
     "output_type": "execute_result"
    }
   ],
   "source": [
    "rock = music[(music[\"genre\"]==\"Rock\")|(music[\"genre\"]==\"Rock'n'roll\")]\n",
    "not_rock = music[(music[\"genre\"]!=\"Rock\")&(music[\"genre\"]!=\"Rock'n'roll\")]\n",
    "\n",
    "rock_positions=rock[\"top_position\"]\n",
    "not_rock_positions=not_rock[\"top_position\"]\n",
    "stats.ttest_ind_from_stats\\\n",
    "(np.mean(rock_positions),np.std(rock_positions), len(rock_positions),\\\n",
    "np.mean(not_rock_positions),np.std(not_rock_positions), len(not_rock_positions),\\\n",
    "equal_var=True)"
   ]
  },
  {
   "cell_type": "code",
   "execution_count": 350,
   "metadata": {
    "collapsed": false
   },
   "outputs": [
    {
     "data": {
      "text/plain": [
       "Ttest_indResult(statistic=3.7492100778091979, pvalue=0.00021102891790641075)"
      ]
     },
     "execution_count": 350,
     "metadata": {},
     "output_type": "execute_result"
    }
   ],
   "source": [
    "rock_weeks=rock[\"weeks_in_charts\"]\n",
    "not_rock_weeks=not_rock[\"weeks_in_charts\"]\n",
    "stats.ttest_ind_from_stats\\\n",
    "(np.mean(rock_weeks),np.std(rock_weeks), len(rock_weeks),\\\n",
    "np.mean(not_rock_weeks),np.std(not_rock_weeks), len(not_rock_weeks),\\\n",
    "equal_var=True)"
   ]
  },
  {
   "cell_type": "code",
   "execution_count": 416,
   "metadata": {
    "collapsed": false
   },
   "outputs": [
    {
     "data": {
      "image/png": "[encoded data removed]",
      "text/plain": [
       "<matplotlib.figure.Figure at 0x152611510>"
      ]
     },
     "metadata": {},
     "output_type": "display_data"
    }
   ],
   "source": [
    "\n",
    "fig, ax = plt.subplots(2,1, figsize=(16,8))\n",
    "\n",
    "\n",
    "ax[0].scatter(music[\"length_mins\"], music[\"top_position\"],color='darkgreen', marker='^')\n",
    "\n",
    "ax[1].scatter(music[\"length_mins\"], music[\"weeks_in_charts\"],color='red', marker='^')\n",
    "\n",
    "# ax.set_xlim([0.5, 4.5])\n",
    "# ax.set_ylim([-2, 8])\n",
    "# ax.set_title('An Example Axes')\n",
    "# ax.set_ylabel('Y-Axis')\n",
    "# ax.set_xlabel('X-Axis')\n",
    "plt.show()"
   ]
  },
  {
   "cell_type": "code",
   "execution_count": null,
   "metadata": {
    "collapsed": true
   },
   "outputs": [],
   "source": [
    "# maybe very long ones?  compare with total population\n",
    "\n",
    "one_sample = stats.ttest_1samp(one_sample_data, 175.3)"
   ]
  },
  {
   "cell_type": "code",
   "execution_count": 442,
   "metadata": {
    "collapsed": false
   },
   "outputs": [
    {
     "name": "stdout",
     "output_type": "stream",
     "text": [
      "Ttest_1sampResult(statistic=0.36127437398549334, pvalue=0.7229323495619826)\n"
     ]
    }
   ],
   "source": [
    "top_length_decile=music[\"length_mins\"].quantile(0.95)\n",
    "\n",
    "music[music[\"length_mins\"]>top_length_decile]\n",
    "long_songs_ttest = stats.ttest_1samp(music[music[\"length_mins\"]>top_length_decile][\"top_position\"]\\\n",
    "                               , np.mean(music[\"top_position\"]))\n",
    "print long_songs_ttest"
   ]
  },
  {
   "cell_type": "code",
   "execution_count": null,
   "metadata": {
    "collapsed": true
   },
   "outputs": [],
   "source": [
    "# how it peaks - opening position and how it peaks"
   ]
  },
  {
   "cell_type": "code",
   "execution_count": 440,
   "metadata": {
    "collapsed": false
   },
   "outputs": [
    {
     "data": {
      "text/plain": [
       "<matplotlib.axes._subplots.AxesSubplot at 0x15a701650>"
      ]
     },
     "execution_count": 440,
     "metadata": {},
     "output_type": "execute_result"
    },
    {
     "data": {
      "image/png": "[encoded data removed]",
      "text/plain": [
       "<matplotlib.figure.Figure at 0x15a688450>"
      ]
     },
     "metadata": {},
     "output_type": "display_data"
    }
   ],
   "source": [
    "#get rid of this one\n",
    "music.plot(\"week1\",\"weeks_to_peak\",kind=\"scatter\", xlim=[0,100], ylim=[0,30], figsize=(16,10))\n"
   ]
  },
  {
   "cell_type": "code",
   "execution_count": 441,
   "metadata": {
    "collapsed": false
   },
   "outputs": [
    {
     "data": {
      "text/plain": [
       "<matplotlib.axes._subplots.AxesSubplot at 0x15b535850>"
      ]
     },
     "execution_count": 441,
     "metadata": {},
     "output_type": "execute_result"
    },
    {
     "data": {
      "image/png": "[encoded data removed]",
      "text/plain": [
       "<matplotlib.figure.Figure at 0x15a18fbd0>"
      ]
     },
     "metadata": {},
     "output_type": "display_data"
    }
   ],
   "source": [
    "music.plot(\"top_position\",\"weeks_to_peak\",kind=\"scatter\", xlim=[0,100], ylim=[0,30], figsize=(16,10))\n"
   ]
  },
  {
   "cell_type": "code",
   "execution_count": 453,
   "metadata": {
    "collapsed": false
   },
   "outputs": [
    {
     "name": "stdout",
     "output_type": "stream",
     "text": [
      "Ttest_1sampResult(statistic=5.3319113980468442, pvalue=2.134629062812117e-06)\n"
     ]
    }
   ],
   "source": [
    "\n",
    "long_songs_ttest = stats.ttest_1samp(music[music[\"top_position\"]<=10][\"weeks_to_peak\"]\\\n",
    "                               , np.mean(music[\"weeks_to_peak\"]))\n",
    "print long_songs_ttest"
   ]
  },
  {
   "cell_type": "code",
   "execution_count": 457,
   "metadata": {
    "collapsed": false
   },
   "outputs": [
    {
     "data": {
      "text/plain": [
       "Ttest_indResult(statistic=14.921688646117856, pvalue=1.8677155427167314e-38)"
      ]
     },
     "execution_count": 457,
     "metadata": {},
     "output_type": "execute_result"
    }
   ],
   "source": [
    "# need to work on this!\n",
    "stats.ttest_ind\\\n",
    "(music[music[\"top_position\"]<=50][\"weeks_in_charts\"],\\\n",
    "music[music[\"top_position\"]>50][\"weeks_in_charts\"])"
   ]
  },
  {
   "cell_type": "code",
   "execution_count": null,
   "metadata": {
    "collapsed": true
   },
   "outputs": [],
   "source": []
  },
  {
   "cell_type": "code",
   "execution_count": null,
   "metadata": {
    "collapsed": true
   },
   "outputs": [],
   "source": []
  },
  {
   "cell_type": "code",
   "execution_count": 157,
   "metadata": {
    "collapsed": true
   },
   "outputs": [],
   "source": []
  },
  {
   "cell_type": "code",
   "execution_count": null,
   "metadata": {
    "collapsed": true
   },
   "outputs": [],
   "source": []
  },
  {
   "cell_type": "markdown",
   "metadata": {
    "collapsed": true,
    "focus": false,
    "id": "a3c74c5b-3d90-4442-97d9-ae320fe238d1"
   },
   "source": [
    "## Step 6: Create a blog post with your code snippets and visualizations.\n",
    "##### Data Science is a growing field, and the Tech industry thrives off of collaboration and sharing of knowledge. Blogging is a powerful means for pushing the needle forward in our field. Using your blogging platform of choice, create a post describing each of the 5 steps above. Rather than writing a procedural text, imagine you're describing the data, visualizations, and conclusions you've arrived at to your peers. Aim for a minimum of 500 words. "
   ]
  },
  {
   "cell_type": "code",
   "execution_count": null,
   "metadata": {
    "collapsed": true,
    "focus": false,
    "id": "9b0185e4-7023-4086-b8b7-e15bcacc9984"
   },
   "outputs": [],
   "source": []
  },
  {
   "cell_type": "markdown",
   "metadata": {
    "focus": false,
    "id": "aee61cbf-dfe9-40d3-bfef-772a60bed757"
   },
   "source": [
    "## BONUS: The Content Managers working for the Podcast Publishing Company have recognized you as a thought leader in your field. They've asked you to pen a white paper (minimum 500 words) on the subject of 'What It Means To Have Clean Data'. This will be an opinion piece read by a wide audience, so be sure to back up your statements with real world examples or scenarios.\n",
    "\n",
    "##### Hint: To get started, look around on the internet for articles, blog posts, papers, youtube videos, podcasts, reddit discussions, anything that will help you understand the challenges and implications of dealing with big data. This should be a personal reflection on everything you've learned this week, and the learning goals that have been set out for you going forward. "
   ]
  },
  {
   "cell_type": "code",
   "execution_count": null,
   "metadata": {
    "collapsed": true,
    "focus": false,
    "id": "28deb393-c994-47bc-87d2-035741ce527c"
   },
   "outputs": [],
   "source": []
  }
 ],
 "metadata": {
  "kernelspec": {
   "display_name": "Python 2",
   "language": "python",
   "name": "python2"
  },
  "language_info": {
   "codemirror_mode": {
    "name": "ipython",
    "version": 2
   },
   "file_extension": ".py",
   "mimetype": "text/x-python",
   "name": "python",
   "nbconvert_exporter": "python",
   "pygments_lexer": "ipython2",
   "version": "2.7.11"
  }
 },
 "nbformat": 4,
 "nbformat_minor": 0
}
