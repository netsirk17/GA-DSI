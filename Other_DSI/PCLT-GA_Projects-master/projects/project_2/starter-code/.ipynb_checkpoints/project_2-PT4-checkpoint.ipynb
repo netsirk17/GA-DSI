{
 "cells": [
  {
   "cell_type": "markdown",
   "metadata": {
    "focus": true,
    "id": "263eb813-da45-48cf-9a8f-9da76c18e470"
   },
   "source": [
    "# Project 2\n",
    "## Step 1: Exploring your data.\n",
    "\n",
    "##### Load your data in using Pandas and start to explore. Save all of your early exploration code here and include in your final submission."
   ]
  },
  {
   "cell_type": "code",
   "execution_count": 211,
   "metadata": {
    "collapsed": true,
    "focus": false,
    "id": "b733d2fe-6d33-41dd-a3fc-5dfe9d71d91f"
   },
   "outputs": [],
   "source": [
    "# import necessary libraries\n",
    "from __future__ import division\n",
    "import pandas as pd\n",
    "import numpy as np\n",
    "import matplotlib.pyplot as plt\n",
    "%matplotlib inline\n",
    "plt.style.use(\"ggplot\")\n"
   ]
  },
  {
   "cell_type": "code",
   "execution_count": 212,
   "metadata": {
    "collapsed": false
   },
   "outputs": [
    {
     "data": {
      "text/html": [
       "<div>\n",
       "<table border=\"1\" class=\"dataframe\">\n",
       "  <thead>\n",
       "    <tr style=\"text-align: right;\">\n",
       "      <th></th>\n",
       "      <th>year</th>\n",
       "      <th>artist.inverted</th>\n",
       "      <th>track</th>\n",
       "      <th>time</th>\n",
       "      <th>genre</th>\n",
       "      <th>date.entered</th>\n",
       "      <th>date.peaked</th>\n",
       "      <th>x1st.week</th>\n",
       "      <th>x2nd.week</th>\n",
       "      <th>x3rd.week</th>\n",
       "      <th>...</th>\n",
       "      <th>x67th.week</th>\n",
       "      <th>x68th.week</th>\n",
       "      <th>x69th.week</th>\n",
       "      <th>x70th.week</th>\n",
       "      <th>x71st.week</th>\n",
       "      <th>x72nd.week</th>\n",
       "      <th>x73rd.week</th>\n",
       "      <th>x74th.week</th>\n",
       "      <th>x75th.week</th>\n",
       "      <th>x76th.week</th>\n",
       "    </tr>\n",
       "  </thead>\n",
       "  <tbody>\n",
       "    <tr>\n",
       "      <th>0</th>\n",
       "      <td>2000</td>\n",
       "      <td>Destiny's Child</td>\n",
       "      <td>Independent Women Part I</td>\n",
       "      <td>3,38,00 AM</td>\n",
       "      <td>Rock</td>\n",
       "      <td>September 23, 2000</td>\n",
       "      <td>November 18, 2000</td>\n",
       "      <td>78</td>\n",
       "      <td>63</td>\n",
       "      <td>49</td>\n",
       "      <td>...</td>\n",
       "      <td>*</td>\n",
       "      <td>*</td>\n",
       "      <td>*</td>\n",
       "      <td>*</td>\n",
       "      <td>*</td>\n",
       "      <td>*</td>\n",
       "      <td>*</td>\n",
       "      <td>*</td>\n",
       "      <td>*</td>\n",
       "      <td>*</td>\n",
       "    </tr>\n",
       "    <tr>\n",
       "      <th>1</th>\n",
       "      <td>2000</td>\n",
       "      <td>Santana</td>\n",
       "      <td>Maria, Maria</td>\n",
       "      <td>4,18,00 AM</td>\n",
       "      <td>Rock</td>\n",
       "      <td>February 12, 2000</td>\n",
       "      <td>April 8, 2000</td>\n",
       "      <td>15</td>\n",
       "      <td>8</td>\n",
       "      <td>6</td>\n",
       "      <td>...</td>\n",
       "      <td>*</td>\n",
       "      <td>*</td>\n",
       "      <td>*</td>\n",
       "      <td>*</td>\n",
       "      <td>*</td>\n",
       "      <td>*</td>\n",
       "      <td>*</td>\n",
       "      <td>*</td>\n",
       "      <td>*</td>\n",
       "      <td>*</td>\n",
       "    </tr>\n",
       "    <tr>\n",
       "      <th>2</th>\n",
       "      <td>2000</td>\n",
       "      <td>Savage Garden</td>\n",
       "      <td>I Knew I Loved You</td>\n",
       "      <td>4,07,00 AM</td>\n",
       "      <td>Rock</td>\n",
       "      <td>October 23, 1999</td>\n",
       "      <td>January 29, 2000</td>\n",
       "      <td>71</td>\n",
       "      <td>48</td>\n",
       "      <td>43</td>\n",
       "      <td>...</td>\n",
       "      <td>*</td>\n",
       "      <td>*</td>\n",
       "      <td>*</td>\n",
       "      <td>*</td>\n",
       "      <td>*</td>\n",
       "      <td>*</td>\n",
       "      <td>*</td>\n",
       "      <td>*</td>\n",
       "      <td>*</td>\n",
       "      <td>*</td>\n",
       "    </tr>\n",
       "    <tr>\n",
       "      <th>3</th>\n",
       "      <td>2000</td>\n",
       "      <td>Madonna</td>\n",
       "      <td>Music</td>\n",
       "      <td>3,45,00 AM</td>\n",
       "      <td>Rock</td>\n",
       "      <td>August 12, 2000</td>\n",
       "      <td>September 16, 2000</td>\n",
       "      <td>41</td>\n",
       "      <td>23</td>\n",
       "      <td>18</td>\n",
       "      <td>...</td>\n",
       "      <td>*</td>\n",
       "      <td>*</td>\n",
       "      <td>*</td>\n",
       "      <td>*</td>\n",
       "      <td>*</td>\n",
       "      <td>*</td>\n",
       "      <td>*</td>\n",
       "      <td>*</td>\n",
       "      <td>*</td>\n",
       "      <td>*</td>\n",
       "    </tr>\n",
       "    <tr>\n",
       "      <th>4</th>\n",
       "      <td>2000</td>\n",
       "      <td>Aguilera, Christina</td>\n",
       "      <td>Come On Over Baby (All I Want Is You)</td>\n",
       "      <td>3,38,00 AM</td>\n",
       "      <td>Rock</td>\n",
       "      <td>August 5, 2000</td>\n",
       "      <td>October 14, 2000</td>\n",
       "      <td>57</td>\n",
       "      <td>47</td>\n",
       "      <td>45</td>\n",
       "      <td>...</td>\n",
       "      <td>*</td>\n",
       "      <td>*</td>\n",
       "      <td>*</td>\n",
       "      <td>*</td>\n",
       "      <td>*</td>\n",
       "      <td>*</td>\n",
       "      <td>*</td>\n",
       "      <td>*</td>\n",
       "      <td>*</td>\n",
       "      <td>*</td>\n",
       "    </tr>\n",
       "  </tbody>\n",
       "</table>\n",
       "<p>5 rows × 83 columns</p>\n",
       "</div>"
      ],
      "text/plain": [
       "   year      artist.inverted                                  track  \\\n",
       "0  2000      Destiny's Child               Independent Women Part I   \n",
       "1  2000              Santana                           Maria, Maria   \n",
       "2  2000        Savage Garden                     I Knew I Loved You   \n",
       "3  2000              Madonna                                  Music   \n",
       "4  2000  Aguilera, Christina  Come On Over Baby (All I Want Is You)   \n",
       "\n",
       "         time genre        date.entered         date.peaked  x1st.week  \\\n",
       "0  3,38,00 AM  Rock  September 23, 2000   November 18, 2000         78   \n",
       "1  4,18,00 AM  Rock   February 12, 2000       April 8, 2000         15   \n",
       "2  4,07,00 AM  Rock    October 23, 1999    January 29, 2000         71   \n",
       "3  3,45,00 AM  Rock     August 12, 2000  September 16, 2000         41   \n",
       "4  3,38,00 AM  Rock      August 5, 2000    October 14, 2000         57   \n",
       "\n",
       "  x2nd.week x3rd.week    ...     x67th.week x68th.week x69th.week x70th.week  \\\n",
       "0        63        49    ...              *          *          *          *   \n",
       "1         8         6    ...              *          *          *          *   \n",
       "2        48        43    ...              *          *          *          *   \n",
       "3        23        18    ...              *          *          *          *   \n",
       "4        47        45    ...              *          *          *          *   \n",
       "\n",
       "  x71st.week x72nd.week x73rd.week x74th.week x75th.week x76th.week  \n",
       "0          *          *          *          *          *          *  \n",
       "1          *          *          *          *          *          *  \n",
       "2          *          *          *          *          *          *  \n",
       "3          *          *          *          *          *          *  \n",
       "4          *          *          *          *          *          *  \n",
       "\n",
       "[5 rows x 83 columns]"
      ]
     },
     "execution_count": 212,
     "metadata": {},
     "output_type": "execute_result"
    }
   ],
   "source": [
    "# read in data into pandas df\n",
    "music = pd.read_csv(\"../assets/billboard.csv\")\n",
    "music.head()"
   ]
  },
  {
   "cell_type": "code",
   "execution_count": 213,
   "metadata": {
    "collapsed": false,
    "scrolled": true
   },
   "outputs": [
    {
     "name": "stdout",
     "output_type": "stream",
     "text": [
      "<class 'pandas.core.frame.DataFrame'>\n",
      "RangeIndex: 317 entries, 0 to 316\n",
      "Data columns (total 83 columns):\n",
      "year               317 non-null int64\n",
      "artist.inverted    317 non-null object\n",
      "track              317 non-null object\n",
      "time               317 non-null object\n",
      "genre              317 non-null object\n",
      "date.entered       317 non-null object\n",
      "date.peaked        317 non-null object\n",
      "x1st.week          317 non-null int64\n",
      "x2nd.week          317 non-null object\n",
      "x3rd.week          317 non-null object\n",
      "x4th.week          317 non-null object\n",
      "x5th.week          317 non-null object\n",
      "x6th.week          317 non-null object\n",
      "x7th.week          317 non-null object\n",
      "x8th.week          317 non-null object\n",
      "x9th.week          317 non-null object\n",
      "x10th.week         317 non-null object\n",
      "x11th.week         317 non-null object\n",
      "x12th.week         317 non-null object\n",
      "x13th.week         317 non-null object\n",
      "x14th.week         317 non-null object\n",
      "x15th.week         317 non-null object\n",
      "x16th.week         317 non-null object\n",
      "x17th.week         317 non-null object\n",
      "x18th.week         317 non-null object\n",
      "x19th.week         317 non-null object\n",
      "x20th.week         317 non-null object\n",
      "x21st.week         317 non-null object\n",
      "x22nd.week         317 non-null object\n",
      "x23rd.week         317 non-null object\n",
      "x24th.week         317 non-null object\n",
      "x25th.week         39 non-null object\n",
      "x26th.week         37 non-null object\n",
      "x27th.week         30 non-null object\n",
      "x28th.week         317 non-null object\n",
      "x29th.week         317 non-null object\n",
      "x30th.week         317 non-null object\n",
      "x31st.week         317 non-null object\n",
      "x32nd.week         317 non-null object\n",
      "x33rd.week         317 non-null object\n",
      "x34th.week         317 non-null object\n",
      "x35th.week         317 non-null object\n",
      "x36th.week         317 non-null object\n",
      "x37th.week         317 non-null object\n",
      "x38th.week         317 non-null object\n",
      "x39th.week         317 non-null object\n",
      "x40th.week         317 non-null object\n",
      "x41st.week         317 non-null object\n",
      "x42nd.week         317 non-null object\n",
      "x43rd.week         317 non-null object\n",
      "x44th.week         317 non-null object\n",
      "x45th.week         317 non-null object\n",
      "x46th.week         317 non-null object\n",
      "x47th.week         317 non-null object\n",
      "x48th.week         317 non-null object\n",
      "x49th.week         317 non-null object\n",
      "x50th.week         317 non-null object\n",
      "x51st.week         317 non-null object\n",
      "x52nd.week         317 non-null object\n",
      "x53rd.week         317 non-null object\n",
      "x54th.week         317 non-null object\n",
      "x55th.week         317 non-null object\n",
      "x56th.week         317 non-null object\n",
      "x57th.week         317 non-null object\n",
      "x58th.week         317 non-null object\n",
      "x59th.week         317 non-null object\n",
      "x60th.week         317 non-null object\n",
      "x61st.week         317 non-null object\n",
      "x62nd.week         317 non-null object\n",
      "x63rd.week         317 non-null object\n",
      "x64th.week         317 non-null object\n",
      "x65th.week         317 non-null object\n",
      "x66th.week         317 non-null object\n",
      "x67th.week         317 non-null object\n",
      "x68th.week         317 non-null object\n",
      "x69th.week         317 non-null object\n",
      "x70th.week         317 non-null object\n",
      "x71st.week         317 non-null object\n",
      "x72nd.week         317 non-null object\n",
      "x73rd.week         317 non-null object\n",
      "x74th.week         317 non-null object\n",
      "x75th.week         317 non-null object\n",
      "x76th.week         317 non-null object\n",
      "dtypes: int64(2), object(81)\n",
      "memory usage: 205.6+ KB\n"
     ]
    }
   ],
   "source": [
    "# explore data types\n",
    "music.info()"
   ]
  },
  {
   "cell_type": "markdown",
   "metadata": {
    "focus": false,
    "id": "94514384-cf79-4e7a-a09b-02cddc91e77c"
   },
   "source": [
    "##### Write a brief description of your data, and any interesting observations you've made thus far. "
   ]
  },
  {
   "cell_type": "markdown",
   "metadata": {
    "collapsed": true,
    "focus": false,
    "id": "33a9e3f0-a29d-4b02-90bd-528bdb44fb78"
   },
   "source": [
    "\n",
    "\n",
    "The data show the songs that featured in billboard top 100 in late 1999 and 2000.  Each row represents a song, and provides information about the artist, length of the song, the date it entered the chart, the date it reached its peak in the chart, as well as information about chart position for the 76 weeks after its entry.  If, in a given week after entry, the song was no longer in the charts, an asterisk is placed in field for its chart position for that week.  Additionally, there are some missing values for chart position in certain weeks.  \n",
    "\n",
    "Several of the variables seem to be of the wrong type.  The two date fields are formatted as strings and the length of the song is formatted as a string, rather than an integer or float.  On brief initial inspection, it appears that the data set may encompass more than just the year 2000 (particularly since there are 76 columns for chart position by week), and may inconsistenly inlude songs from 1999.  This will be further explored during the data scrub. \n",
    "\n"
   ]
  },
  {
   "cell_type": "markdown",
   "metadata": {
    "focus": false,
    "id": "888b6223-3bb4-4d91-b753-4867a3a1b281"
   },
   "source": [
    "## Step 2: Clean your data."
   ]
  },
  {
   "cell_type": "markdown",
   "metadata": {
    "focus": false,
    "id": "8a273328-6d9f-4dfc-88f8-a0c18e4d7f90"
   },
   "source": [
    "##### Do some rudimentary cleaning. Rename any columns that are poorly named, shorten any strings that may be too long, fill in any missing values. Explain your rationale for the way you choose to \"impute\" the missing data."
   ]
  },
  {
   "cell_type": "code",
   "execution_count": 214,
   "metadata": {
    "collapsed": false,
    "focus": false,
    "id": "00022458-8edc-4f84-8492-0be04397fa64"
   },
   "outputs": [],
   "source": [
    "# rename chart weeks columns\n",
    "labels = id_variables=list(music.columns.values)[:7]\n",
    "for i in [\"week\"+str(i+1) for i in range(76)]:\n",
    "    labels.append(i)\n",
    "music.columns = labels\n",
    "\n",
    "# rename arist column\n",
    "music.rename(columns = {\"artist.inverted\":\"artist\"}, inplace = True)"
   ]
  },
  {
   "cell_type": "code",
   "execution_count": 215,
   "metadata": {
    "collapsed": false
   },
   "outputs": [
    {
     "data": {
      "text/plain": [
       "Index([u'year', u'artist', u'track', u'time', u'genre', u'date.entered',\n",
       "       u'date.peaked', u'week1', u'week2', u'week3', u'week4', u'week5',\n",
       "       u'week6', u'week7', u'week8', u'week9', u'week10', u'week11', u'week12',\n",
       "       u'week13', u'week14', u'week15', u'week16', u'week17', u'week18',\n",
       "       u'week19', u'week20', u'week21', u'week22', u'week23', u'week24',\n",
       "       u'week25', u'week26', u'week27', u'week28', u'week29', u'week30',\n",
       "       u'week31', u'week32', u'week33', u'week34', u'week35', u'week36',\n",
       "       u'week37', u'week38', u'week39', u'week40', u'week41', u'week42',\n",
       "       u'week43', u'week44', u'week45', u'week46', u'week47', u'week48',\n",
       "       u'week49', u'week50', u'week51', u'week52', u'week53', u'week54',\n",
       "       u'week55', u'week56', u'week57', u'week58', u'week59', u'week60',\n",
       "       u'week61', u'week62', u'week63', u'week64', u'week65'],\n",
       "      dtype='object')"
      ]
     },
     "execution_count": 215,
     "metadata": {},
     "output_type": "execute_result"
    }
   ],
   "source": [
    "# change all the * to NaNs\n",
    "def replace_nulls(value):\n",
    "    if value == '*':\n",
    "        return np.nan\n",
    "    else:\n",
    "        return value\n",
    "music=music.applymap(replace_nulls)\n",
    "\n",
    "# remove the empty columns\n",
    "music=music.dropna(axis=1, how='all')\n",
    "music.columns"
   ]
  },
  {
   "cell_type": "code",
   "execution_count": 216,
   "metadata": {
    "collapsed": true
   },
   "outputs": [],
   "source": [
    "# convert chart position columns to floats\n",
    "music.loc[:,\"week1\":\"week65\"] = music.loc[:,\"week1\":\"week65\"].astype(float)"
   ]
  },
  {
   "cell_type": "code",
   "execution_count": 217,
   "metadata": {
    "collapsed": false
   },
   "outputs": [],
   "source": [
    "# convert date.entered and date.peaked to datetime\n",
    "music.loc[:,[\"date.entered\",\"date.peaked\"]] = music.loc[:,[\"date.entered\",\"date.peaked\"]].applymap(pd.to_datetime)"
   ]
  },
  {
   "cell_type": "code",
   "execution_count": 218,
   "metadata": {
    "collapsed": false
   },
   "outputs": [
    {
     "data": {
      "text/plain": [
       "Rock           103\n",
       "Country         74\n",
       "Rap             58\n",
       "Rock'n'roll     34\n",
       "R&B             13\n",
       "R & B           10\n",
       "Pop              9\n",
       "Latin            9\n",
       "Electronica      4\n",
       "Gospel           1\n",
       "Jazz             1\n",
       "Reggae           1\n",
       "Name: genre, dtype: int64"
      ]
     },
     "execution_count": 218,
     "metadata": {},
     "output_type": "execute_result"
    }
   ],
   "source": [
    "# check the value counts by genre\n",
    "music[\"genre\"].value_counts()"
   ]
  },
  {
   "cell_type": "code",
   "execution_count": 219,
   "metadata": {
    "collapsed": true
   },
   "outputs": [],
   "source": [
    "# change R & B to R&B\n",
    "def replace_RB(value):\n",
    "    if value==\"R & B\":\n",
    "        return \"R&B\"\n",
    "    else:\n",
    "        return value\n",
    "\n",
    "music[\"genre\"] = music[\"genre\"].apply(replace_RB)"
   ]
  },
  {
   "cell_type": "code",
   "execution_count": 220,
   "metadata": {
    "collapsed": false
   },
   "outputs": [
    {
     "data": {
      "text/plain": [
       "Where I Wanna Be              2\n",
       "If You Don't Wanna Love Me    1\n",
       "Just Be A Man About It        1\n",
       "With Arms Wide Open           1\n",
       "Girls Dem Sugar               1\n",
       "Name: track, dtype: int64"
      ]
     },
     "execution_count": 220,
     "metadata": {},
     "output_type": "execute_result"
    }
   ],
   "source": [
    "# check that there are no repeating song names\n",
    "music[\"track\"].value_counts().head()"
   ]
  },
  {
   "cell_type": "code",
   "execution_count": 221,
   "metadata": {
    "collapsed": false
   },
   "outputs": [
    {
     "data": {
      "text/html": [
       "<div>\n",
       "<table border=\"1\" class=\"dataframe\">\n",
       "  <thead>\n",
       "    <tr style=\"text-align: right;\">\n",
       "      <th></th>\n",
       "      <th>year</th>\n",
       "      <th>artist</th>\n",
       "      <th>track</th>\n",
       "      <th>time</th>\n",
       "      <th>genre</th>\n",
       "      <th>date.entered</th>\n",
       "      <th>date.peaked</th>\n",
       "      <th>week1</th>\n",
       "      <th>week2</th>\n",
       "      <th>week3</th>\n",
       "      <th>...</th>\n",
       "      <th>week56</th>\n",
       "      <th>week57</th>\n",
       "      <th>week58</th>\n",
       "      <th>week59</th>\n",
       "      <th>week60</th>\n",
       "      <th>week61</th>\n",
       "      <th>week62</th>\n",
       "      <th>week63</th>\n",
       "      <th>week64</th>\n",
       "      <th>week65</th>\n",
       "    </tr>\n",
       "  </thead>\n",
       "  <tbody>\n",
       "    <tr>\n",
       "      <th>118</th>\n",
       "      <td>2000</td>\n",
       "      <td>Jones, Donell</td>\n",
       "      <td>Where I Wanna Be</td>\n",
       "      <td>6,22,00 AM</td>\n",
       "      <td>Rock</td>\n",
       "      <td>2000-04-22</td>\n",
       "      <td>2000-07-08</td>\n",
       "      <td>81.0</td>\n",
       "      <td>71.0</td>\n",
       "      <td>65.0</td>\n",
       "      <td>...</td>\n",
       "      <td>NaN</td>\n",
       "      <td>NaN</td>\n",
       "      <td>NaN</td>\n",
       "      <td>NaN</td>\n",
       "      <td>NaN</td>\n",
       "      <td>NaN</td>\n",
       "      <td>NaN</td>\n",
       "      <td>NaN</td>\n",
       "      <td>NaN</td>\n",
       "      <td>NaN</td>\n",
       "    </tr>\n",
       "    <tr>\n",
       "      <th>305</th>\n",
       "      <td>2000</td>\n",
       "      <td>Sheist, Shade</td>\n",
       "      <td>Where I Wanna Be</td>\n",
       "      <td>4,16,00 AM</td>\n",
       "      <td>Rap</td>\n",
       "      <td>2000-11-11</td>\n",
       "      <td>2000-11-18</td>\n",
       "      <td>96.0</td>\n",
       "      <td>95.0</td>\n",
       "      <td>99.0</td>\n",
       "      <td>...</td>\n",
       "      <td>NaN</td>\n",
       "      <td>NaN</td>\n",
       "      <td>NaN</td>\n",
       "      <td>NaN</td>\n",
       "      <td>NaN</td>\n",
       "      <td>NaN</td>\n",
       "      <td>NaN</td>\n",
       "      <td>NaN</td>\n",
       "      <td>NaN</td>\n",
       "      <td>NaN</td>\n",
       "    </tr>\n",
       "  </tbody>\n",
       "</table>\n",
       "<p>2 rows × 72 columns</p>\n",
       "</div>"
      ],
      "text/plain": [
       "     year         artist             track        time genre date.entered  \\\n",
       "118  2000  Jones, Donell  Where I Wanna Be  6,22,00 AM  Rock   2000-04-22   \n",
       "305  2000  Sheist, Shade  Where I Wanna Be  4,16,00 AM   Rap   2000-11-11   \n",
       "\n",
       "    date.peaked  week1  week2  week3   ...    week56  week57  week58  week59  \\\n",
       "118  2000-07-08   81.0   71.0   65.0   ...       NaN     NaN     NaN     NaN   \n",
       "305  2000-11-18   96.0   95.0   99.0   ...       NaN     NaN     NaN     NaN   \n",
       "\n",
       "     week60  week61  week62  week63  week64  week65  \n",
       "118     NaN     NaN     NaN     NaN     NaN     NaN  \n",
       "305     NaN     NaN     NaN     NaN     NaN     NaN  \n",
       "\n",
       "[2 rows x 72 columns]"
      ]
     },
     "execution_count": 221,
     "metadata": {},
     "output_type": "execute_result"
    }
   ],
   "source": [
    "# \"Where I Wanna Be\" appears twice.  Rename each one such that artist's name is also included\n",
    "# Find index for the two values\n",
    "music[music[\"track\"]==\"Where I Wanna Be\"]"
   ]
  },
  {
   "cell_type": "code",
   "execution_count": 222,
   "metadata": {
    "collapsed": false
   },
   "outputs": [
    {
     "data": {
      "text/plain": [
       "If You Don't Wanna Love Me    1\n",
       "Just Be A Man About It        1\n",
       "With Arms Wide Open           1\n",
       "Girls Dem Sugar               1\n",
       "More                          1\n",
       "Name: track, dtype: int64"
      ]
     },
     "execution_count": 222,
     "metadata": {},
     "output_type": "execute_result"
    }
   ],
   "source": [
    "# replace each song name with song name + artist \n",
    "music.loc[118,\"track\"]=music.loc[118,\"track\"]+\" \"+music.loc[118,\"artist\"]\n",
    "music.loc[305,\"track\"]=music.loc[305,\"track\"]+\" \"+music.loc[305,\"artist\"]\n",
    "music[\"track\"].value_counts().head()"
   ]
  },
  {
   "cell_type": "code",
   "execution_count": 223,
   "metadata": {
    "collapsed": true
   },
   "outputs": [],
   "source": [
    "# convert time column into fractional minutes \n",
    "# split string into three columns, convert to integer and create column for fractional minutes\n",
    "music[[\"mins\",\"secs\",\"remainder\"]]=pd.DataFrame(music.time.str.split(\",\",2).tolist(),columns = [\"mins\",\"secs\",\"remainder\"])\n",
    "music[[\"mins\",\"secs\"]] = music[[\"mins\",\"secs\"]].astype(int)\n",
    "music[\"length_mins\"] = music[\"mins\"] + music[\"secs\"]/60.0"
   ]
  },
  {
   "cell_type": "code",
   "execution_count": 224,
   "metadata": {
    "collapsed": false
   },
   "outputs": [],
   "source": [
    "# drop unnecessary columns\n",
    "music.drop([\"mins\",\"secs\",\"remainder\"], axis=1, inplace=True)"
   ]
  },
  {
   "cell_type": "code",
   "execution_count": 225,
   "metadata": {
    "collapsed": false
   },
   "outputs": [
    {
     "data": {
      "text/html": [
       "<div>\n",
       "<table border=\"1\" class=\"dataframe\">\n",
       "  <thead>\n",
       "    <tr style=\"text-align: right;\">\n",
       "      <th></th>\n",
       "      <th>year</th>\n",
       "      <th>artist</th>\n",
       "      <th>track</th>\n",
       "      <th>time</th>\n",
       "      <th>genre</th>\n",
       "      <th>date.entered</th>\n",
       "      <th>date.peaked</th>\n",
       "      <th>week1</th>\n",
       "      <th>week2</th>\n",
       "      <th>week3</th>\n",
       "      <th>...</th>\n",
       "      <th>week57</th>\n",
       "      <th>week58</th>\n",
       "      <th>week59</th>\n",
       "      <th>week60</th>\n",
       "      <th>week61</th>\n",
       "      <th>week62</th>\n",
       "      <th>week63</th>\n",
       "      <th>week64</th>\n",
       "      <th>week65</th>\n",
       "      <th>length_mins</th>\n",
       "    </tr>\n",
       "  </thead>\n",
       "  <tbody>\n",
       "    <tr>\n",
       "      <th>312</th>\n",
       "      <td>2000</td>\n",
       "      <td>Ghostface Killah</td>\n",
       "      <td>Cherchez LaGhost</td>\n",
       "      <td>3,04,00 AM</td>\n",
       "      <td>R&amp;B</td>\n",
       "      <td>2000-08-05</td>\n",
       "      <td>2000-08-05</td>\n",
       "      <td>98.0</td>\n",
       "      <td>NaN</td>\n",
       "      <td>NaN</td>\n",
       "      <td>...</td>\n",
       "      <td>NaN</td>\n",
       "      <td>NaN</td>\n",
       "      <td>NaN</td>\n",
       "      <td>NaN</td>\n",
       "      <td>NaN</td>\n",
       "      <td>NaN</td>\n",
       "      <td>NaN</td>\n",
       "      <td>NaN</td>\n",
       "      <td>NaN</td>\n",
       "      <td>3.066667</td>\n",
       "    </tr>\n",
       "    <tr>\n",
       "      <th>313</th>\n",
       "      <td>2000</td>\n",
       "      <td>Smith, Will</td>\n",
       "      <td>Freakin' It</td>\n",
       "      <td>3,58,00 AM</td>\n",
       "      <td>Rap</td>\n",
       "      <td>2000-02-12</td>\n",
       "      <td>2000-02-12</td>\n",
       "      <td>99.0</td>\n",
       "      <td>99.0</td>\n",
       "      <td>99.0</td>\n",
       "      <td>...</td>\n",
       "      <td>NaN</td>\n",
       "      <td>NaN</td>\n",
       "      <td>NaN</td>\n",
       "      <td>NaN</td>\n",
       "      <td>NaN</td>\n",
       "      <td>NaN</td>\n",
       "      <td>NaN</td>\n",
       "      <td>NaN</td>\n",
       "      <td>NaN</td>\n",
       "      <td>3.966667</td>\n",
       "    </tr>\n",
       "    <tr>\n",
       "      <th>314</th>\n",
       "      <td>2000</td>\n",
       "      <td>Zombie Nation</td>\n",
       "      <td>Kernkraft 400</td>\n",
       "      <td>3,30,00 AM</td>\n",
       "      <td>Rock</td>\n",
       "      <td>2000-09-02</td>\n",
       "      <td>2000-09-02</td>\n",
       "      <td>99.0</td>\n",
       "      <td>99.0</td>\n",
       "      <td>NaN</td>\n",
       "      <td>...</td>\n",
       "      <td>NaN</td>\n",
       "      <td>NaN</td>\n",
       "      <td>NaN</td>\n",
       "      <td>NaN</td>\n",
       "      <td>NaN</td>\n",
       "      <td>NaN</td>\n",
       "      <td>NaN</td>\n",
       "      <td>NaN</td>\n",
       "      <td>NaN</td>\n",
       "      <td>3.500000</td>\n",
       "    </tr>\n",
       "    <tr>\n",
       "      <th>315</th>\n",
       "      <td>2000</td>\n",
       "      <td>Eastsidaz, The</td>\n",
       "      <td>Got Beef</td>\n",
       "      <td>3,58,00 AM</td>\n",
       "      <td>Rap</td>\n",
       "      <td>2000-07-01</td>\n",
       "      <td>2000-07-01</td>\n",
       "      <td>99.0</td>\n",
       "      <td>99.0</td>\n",
       "      <td>NaN</td>\n",
       "      <td>...</td>\n",
       "      <td>NaN</td>\n",
       "      <td>NaN</td>\n",
       "      <td>NaN</td>\n",
       "      <td>NaN</td>\n",
       "      <td>NaN</td>\n",
       "      <td>NaN</td>\n",
       "      <td>NaN</td>\n",
       "      <td>NaN</td>\n",
       "      <td>NaN</td>\n",
       "      <td>3.966667</td>\n",
       "    </tr>\n",
       "    <tr>\n",
       "      <th>316</th>\n",
       "      <td>2000</td>\n",
       "      <td>Fragma</td>\n",
       "      <td>Toca's Miracle</td>\n",
       "      <td>3,22,00 AM</td>\n",
       "      <td>R&amp;B</td>\n",
       "      <td>2000-10-28</td>\n",
       "      <td>2000-10-28</td>\n",
       "      <td>99.0</td>\n",
       "      <td>NaN</td>\n",
       "      <td>NaN</td>\n",
       "      <td>...</td>\n",
       "      <td>NaN</td>\n",
       "      <td>NaN</td>\n",
       "      <td>NaN</td>\n",
       "      <td>NaN</td>\n",
       "      <td>NaN</td>\n",
       "      <td>NaN</td>\n",
       "      <td>NaN</td>\n",
       "      <td>NaN</td>\n",
       "      <td>NaN</td>\n",
       "      <td>3.366667</td>\n",
       "    </tr>\n",
       "  </tbody>\n",
       "</table>\n",
       "<p>5 rows × 73 columns</p>\n",
       "</div>"
      ],
      "text/plain": [
       "     year            artist             track        time genre date.entered  \\\n",
       "312  2000  Ghostface Killah  Cherchez LaGhost  3,04,00 AM   R&B   2000-08-05   \n",
       "313  2000       Smith, Will       Freakin' It  3,58,00 AM   Rap   2000-02-12   \n",
       "314  2000     Zombie Nation     Kernkraft 400  3,30,00 AM  Rock   2000-09-02   \n",
       "315  2000    Eastsidaz, The          Got Beef  3,58,00 AM   Rap   2000-07-01   \n",
       "316  2000            Fragma    Toca's Miracle  3,22,00 AM   R&B   2000-10-28   \n",
       "\n",
       "    date.peaked  week1  week2  week3     ...       week57  week58  week59  \\\n",
       "312  2000-08-05   98.0    NaN    NaN     ...          NaN     NaN     NaN   \n",
       "313  2000-02-12   99.0   99.0   99.0     ...          NaN     NaN     NaN   \n",
       "314  2000-09-02   99.0   99.0    NaN     ...          NaN     NaN     NaN   \n",
       "315  2000-07-01   99.0   99.0    NaN     ...          NaN     NaN     NaN   \n",
       "316  2000-10-28   99.0    NaN    NaN     ...          NaN     NaN     NaN   \n",
       "\n",
       "     week60  week61  week62  week63  week64  week65  length_mins  \n",
       "312     NaN     NaN     NaN     NaN     NaN     NaN     3.066667  \n",
       "313     NaN     NaN     NaN     NaN     NaN     NaN     3.966667  \n",
       "314     NaN     NaN     NaN     NaN     NaN     NaN     3.500000  \n",
       "315     NaN     NaN     NaN     NaN     NaN     NaN     3.966667  \n",
       "316     NaN     NaN     NaN     NaN     NaN     NaN     3.366667  \n",
       "\n",
       "[5 rows x 73 columns]"
      ]
     },
     "execution_count": 225,
     "metadata": {},
     "output_type": "execute_result"
    }
   ],
   "source": [
    "music.tail()"
   ]
  },
  {
   "cell_type": "code",
   "execution_count": null,
   "metadata": {
    "collapsed": false
   },
   "outputs": [],
   "source": [
    "\n"
   ]
  },
  {
   "cell_type": "code",
   "execution_count": 226,
   "metadata": {
    "collapsed": false,
    "scrolled": true
   },
   "outputs": [
    {
     "data": {
      "text/html": [
       "<div>\n",
       "<table border=\"1\" class=\"dataframe\">\n",
       "  <thead>\n",
       "    <tr style=\"text-align: right;\">\n",
       "      <th>genre</th>\n",
       "      <th>Country</th>\n",
       "      <th>Electronica</th>\n",
       "      <th>Gospel</th>\n",
       "      <th>Jazz</th>\n",
       "      <th>Latin</th>\n",
       "      <th>Pop</th>\n",
       "      <th>R&amp;B</th>\n",
       "      <th>Rap</th>\n",
       "      <th>Reggae</th>\n",
       "      <th>Rock</th>\n",
       "      <th>Rock'n'roll</th>\n",
       "    </tr>\n",
       "    <tr>\n",
       "      <th>artist</th>\n",
       "      <th></th>\n",
       "      <th></th>\n",
       "      <th></th>\n",
       "      <th></th>\n",
       "      <th></th>\n",
       "      <th></th>\n",
       "      <th></th>\n",
       "      <th></th>\n",
       "      <th></th>\n",
       "      <th></th>\n",
       "      <th></th>\n",
       "    </tr>\n",
       "  </thead>\n",
       "  <tbody>\n",
       "    <tr>\n",
       "      <th>2 Pac</th>\n",
       "      <td>NaN</td>\n",
       "      <td>NaN</td>\n",
       "      <td>NaN</td>\n",
       "      <td>NaN</td>\n",
       "      <td>NaN</td>\n",
       "      <td>NaN</td>\n",
       "      <td>NaN</td>\n",
       "      <td>1.0</td>\n",
       "      <td>NaN</td>\n",
       "      <td>NaN</td>\n",
       "      <td>NaN</td>\n",
       "    </tr>\n",
       "    <tr>\n",
       "      <th>2Ge+her</th>\n",
       "      <td>NaN</td>\n",
       "      <td>NaN</td>\n",
       "      <td>NaN</td>\n",
       "      <td>NaN</td>\n",
       "      <td>NaN</td>\n",
       "      <td>NaN</td>\n",
       "      <td>1.0</td>\n",
       "      <td>NaN</td>\n",
       "      <td>NaN</td>\n",
       "      <td>NaN</td>\n",
       "      <td>NaN</td>\n",
       "    </tr>\n",
       "    <tr>\n",
       "      <th>3 Doors Down</th>\n",
       "      <td>NaN</td>\n",
       "      <td>NaN</td>\n",
       "      <td>NaN</td>\n",
       "      <td>NaN</td>\n",
       "      <td>NaN</td>\n",
       "      <td>NaN</td>\n",
       "      <td>NaN</td>\n",
       "      <td>NaN</td>\n",
       "      <td>NaN</td>\n",
       "      <td>2.0</td>\n",
       "      <td>NaN</td>\n",
       "    </tr>\n",
       "    <tr>\n",
       "      <th>504 Boyz</th>\n",
       "      <td>NaN</td>\n",
       "      <td>NaN</td>\n",
       "      <td>NaN</td>\n",
       "      <td>NaN</td>\n",
       "      <td>NaN</td>\n",
       "      <td>NaN</td>\n",
       "      <td>NaN</td>\n",
       "      <td>1.0</td>\n",
       "      <td>NaN</td>\n",
       "      <td>NaN</td>\n",
       "      <td>NaN</td>\n",
       "    </tr>\n",
       "    <tr>\n",
       "      <th>98�</th>\n",
       "      <td>NaN</td>\n",
       "      <td>NaN</td>\n",
       "      <td>NaN</td>\n",
       "      <td>NaN</td>\n",
       "      <td>NaN</td>\n",
       "      <td>NaN</td>\n",
       "      <td>NaN</td>\n",
       "      <td>NaN</td>\n",
       "      <td>NaN</td>\n",
       "      <td>1.0</td>\n",
       "      <td>NaN</td>\n",
       "    </tr>\n",
       "    <tr>\n",
       "      <th>A*Teens</th>\n",
       "      <td>NaN</td>\n",
       "      <td>NaN</td>\n",
       "      <td>NaN</td>\n",
       "      <td>NaN</td>\n",
       "      <td>NaN</td>\n",
       "      <td>1.0</td>\n",
       "      <td>NaN</td>\n",
       "      <td>NaN</td>\n",
       "      <td>NaN</td>\n",
       "      <td>NaN</td>\n",
       "      <td>NaN</td>\n",
       "    </tr>\n",
       "    <tr>\n",
       "      <th>Aaliyah</th>\n",
       "      <td>NaN</td>\n",
       "      <td>NaN</td>\n",
       "      <td>NaN</td>\n",
       "      <td>NaN</td>\n",
       "      <td>NaN</td>\n",
       "      <td>NaN</td>\n",
       "      <td>NaN</td>\n",
       "      <td>NaN</td>\n",
       "      <td>NaN</td>\n",
       "      <td>1.0</td>\n",
       "      <td>1.0</td>\n",
       "    </tr>\n",
       "    <tr>\n",
       "      <th>Adams, Yolanda</th>\n",
       "      <td>NaN</td>\n",
       "      <td>NaN</td>\n",
       "      <td>1.0</td>\n",
       "      <td>NaN</td>\n",
       "      <td>NaN</td>\n",
       "      <td>NaN</td>\n",
       "      <td>NaN</td>\n",
       "      <td>NaN</td>\n",
       "      <td>NaN</td>\n",
       "      <td>NaN</td>\n",
       "      <td>NaN</td>\n",
       "    </tr>\n",
       "    <tr>\n",
       "      <th>Adkins, Trace</th>\n",
       "      <td>1.0</td>\n",
       "      <td>NaN</td>\n",
       "      <td>NaN</td>\n",
       "      <td>NaN</td>\n",
       "      <td>NaN</td>\n",
       "      <td>NaN</td>\n",
       "      <td>NaN</td>\n",
       "      <td>NaN</td>\n",
       "      <td>NaN</td>\n",
       "      <td>NaN</td>\n",
       "      <td>NaN</td>\n",
       "    </tr>\n",
       "    <tr>\n",
       "      <th>Aguilera, Christina</th>\n",
       "      <td>NaN</td>\n",
       "      <td>NaN</td>\n",
       "      <td>NaN</td>\n",
       "      <td>NaN</td>\n",
       "      <td>NaN</td>\n",
       "      <td>NaN</td>\n",
       "      <td>NaN</td>\n",
       "      <td>NaN</td>\n",
       "      <td>NaN</td>\n",
       "      <td>1.0</td>\n",
       "      <td>2.0</td>\n",
       "    </tr>\n",
       "    <tr>\n",
       "      <th>Alice Deejay</th>\n",
       "      <td>NaN</td>\n",
       "      <td>1.0</td>\n",
       "      <td>NaN</td>\n",
       "      <td>NaN</td>\n",
       "      <td>NaN</td>\n",
       "      <td>NaN</td>\n",
       "      <td>NaN</td>\n",
       "      <td>NaN</td>\n",
       "      <td>NaN</td>\n",
       "      <td>NaN</td>\n",
       "      <td>NaN</td>\n",
       "    </tr>\n",
       "    <tr>\n",
       "      <th>Allan, Gary</th>\n",
       "      <td>1.0</td>\n",
       "      <td>NaN</td>\n",
       "      <td>NaN</td>\n",
       "      <td>NaN</td>\n",
       "      <td>NaN</td>\n",
       "      <td>NaN</td>\n",
       "      <td>NaN</td>\n",
       "      <td>NaN</td>\n",
       "      <td>NaN</td>\n",
       "      <td>NaN</td>\n",
       "      <td>NaN</td>\n",
       "    </tr>\n",
       "    <tr>\n",
       "      <th>Amber</th>\n",
       "      <td>NaN</td>\n",
       "      <td>NaN</td>\n",
       "      <td>NaN</td>\n",
       "      <td>NaN</td>\n",
       "      <td>NaN</td>\n",
       "      <td>NaN</td>\n",
       "      <td>NaN</td>\n",
       "      <td>NaN</td>\n",
       "      <td>NaN</td>\n",
       "      <td>1.0</td>\n",
       "      <td>NaN</td>\n",
       "    </tr>\n",
       "    <tr>\n",
       "      <th>Anastacia</th>\n",
       "      <td>NaN</td>\n",
       "      <td>NaN</td>\n",
       "      <td>NaN</td>\n",
       "      <td>NaN</td>\n",
       "      <td>NaN</td>\n",
       "      <td>1.0</td>\n",
       "      <td>NaN</td>\n",
       "      <td>NaN</td>\n",
       "      <td>NaN</td>\n",
       "      <td>NaN</td>\n",
       "      <td>NaN</td>\n",
       "    </tr>\n",
       "    <tr>\n",
       "      <th>Anthony, Marc</th>\n",
       "      <td>NaN</td>\n",
       "      <td>NaN</td>\n",
       "      <td>NaN</td>\n",
       "      <td>NaN</td>\n",
       "      <td>2.0</td>\n",
       "      <td>NaN</td>\n",
       "      <td>NaN</td>\n",
       "      <td>NaN</td>\n",
       "      <td>NaN</td>\n",
       "      <td>NaN</td>\n",
       "      <td>NaN</td>\n",
       "    </tr>\n",
       "    <tr>\n",
       "      <th>Avant</th>\n",
       "      <td>NaN</td>\n",
       "      <td>NaN</td>\n",
       "      <td>NaN</td>\n",
       "      <td>NaN</td>\n",
       "      <td>NaN</td>\n",
       "      <td>NaN</td>\n",
       "      <td>NaN</td>\n",
       "      <td>NaN</td>\n",
       "      <td>NaN</td>\n",
       "      <td>1.0</td>\n",
       "      <td>1.0</td>\n",
       "    </tr>\n",
       "    <tr>\n",
       "      <th>BBMak</th>\n",
       "      <td>NaN</td>\n",
       "      <td>NaN</td>\n",
       "      <td>NaN</td>\n",
       "      <td>NaN</td>\n",
       "      <td>NaN</td>\n",
       "      <td>NaN</td>\n",
       "      <td>NaN</td>\n",
       "      <td>NaN</td>\n",
       "      <td>NaN</td>\n",
       "      <td>1.0</td>\n",
       "      <td>NaN</td>\n",
       "    </tr>\n",
       "    <tr>\n",
       "      <th>Backstreet Boys, The</th>\n",
       "      <td>NaN</td>\n",
       "      <td>NaN</td>\n",
       "      <td>NaN</td>\n",
       "      <td>NaN</td>\n",
       "      <td>NaN</td>\n",
       "      <td>NaN</td>\n",
       "      <td>NaN</td>\n",
       "      <td>NaN</td>\n",
       "      <td>NaN</td>\n",
       "      <td>2.0</td>\n",
       "      <td>1.0</td>\n",
       "    </tr>\n",
       "    <tr>\n",
       "      <th>Badu, Erkyah</th>\n",
       "      <td>NaN</td>\n",
       "      <td>NaN</td>\n",
       "      <td>NaN</td>\n",
       "      <td>NaN</td>\n",
       "      <td>NaN</td>\n",
       "      <td>NaN</td>\n",
       "      <td>NaN</td>\n",
       "      <td>NaN</td>\n",
       "      <td>NaN</td>\n",
       "      <td>1.0</td>\n",
       "      <td>NaN</td>\n",
       "    </tr>\n",
       "    <tr>\n",
       "      <th>Baha Men</th>\n",
       "      <td>NaN</td>\n",
       "      <td>NaN</td>\n",
       "      <td>NaN</td>\n",
       "      <td>NaN</td>\n",
       "      <td>NaN</td>\n",
       "      <td>NaN</td>\n",
       "      <td>1.0</td>\n",
       "      <td>NaN</td>\n",
       "      <td>NaN</td>\n",
       "      <td>NaN</td>\n",
       "      <td>NaN</td>\n",
       "    </tr>\n",
       "    <tr>\n",
       "      <th>Barenaked Ladies</th>\n",
       "      <td>NaN</td>\n",
       "      <td>NaN</td>\n",
       "      <td>NaN</td>\n",
       "      <td>NaN</td>\n",
       "      <td>NaN</td>\n",
       "      <td>NaN</td>\n",
       "      <td>NaN</td>\n",
       "      <td>NaN</td>\n",
       "      <td>NaN</td>\n",
       "      <td>1.0</td>\n",
       "      <td>NaN</td>\n",
       "    </tr>\n",
       "    <tr>\n",
       "      <th>Beenie Man</th>\n",
       "      <td>NaN</td>\n",
       "      <td>NaN</td>\n",
       "      <td>NaN</td>\n",
       "      <td>NaN</td>\n",
       "      <td>NaN</td>\n",
       "      <td>NaN</td>\n",
       "      <td>NaN</td>\n",
       "      <td>NaN</td>\n",
       "      <td>1.0</td>\n",
       "      <td>NaN</td>\n",
       "      <td>NaN</td>\n",
       "    </tr>\n",
       "    <tr>\n",
       "      <th>Before Dark</th>\n",
       "      <td>NaN</td>\n",
       "      <td>NaN</td>\n",
       "      <td>NaN</td>\n",
       "      <td>NaN</td>\n",
       "      <td>NaN</td>\n",
       "      <td>NaN</td>\n",
       "      <td>NaN</td>\n",
       "      <td>NaN</td>\n",
       "      <td>NaN</td>\n",
       "      <td>1.0</td>\n",
       "      <td>NaN</td>\n",
       "    </tr>\n",
       "    <tr>\n",
       "      <th>Bega, Lou</th>\n",
       "      <td>NaN</td>\n",
       "      <td>NaN</td>\n",
       "      <td>NaN</td>\n",
       "      <td>NaN</td>\n",
       "      <td>NaN</td>\n",
       "      <td>NaN</td>\n",
       "      <td>NaN</td>\n",
       "      <td>NaN</td>\n",
       "      <td>NaN</td>\n",
       "      <td>1.0</td>\n",
       "      <td>NaN</td>\n",
       "    </tr>\n",
       "    <tr>\n",
       "      <th>Big Punisher</th>\n",
       "      <td>NaN</td>\n",
       "      <td>NaN</td>\n",
       "      <td>NaN</td>\n",
       "      <td>NaN</td>\n",
       "      <td>NaN</td>\n",
       "      <td>NaN</td>\n",
       "      <td>NaN</td>\n",
       "      <td>1.0</td>\n",
       "      <td>NaN</td>\n",
       "      <td>NaN</td>\n",
       "      <td>NaN</td>\n",
       "    </tr>\n",
       "    <tr>\n",
       "      <th>Black Rob</th>\n",
       "      <td>NaN</td>\n",
       "      <td>NaN</td>\n",
       "      <td>NaN</td>\n",
       "      <td>NaN</td>\n",
       "      <td>NaN</td>\n",
       "      <td>NaN</td>\n",
       "      <td>NaN</td>\n",
       "      <td>1.0</td>\n",
       "      <td>NaN</td>\n",
       "      <td>NaN</td>\n",
       "      <td>NaN</td>\n",
       "    </tr>\n",
       "    <tr>\n",
       "      <th>Black, Clint</th>\n",
       "      <td>1.0</td>\n",
       "      <td>NaN</td>\n",
       "      <td>NaN</td>\n",
       "      <td>NaN</td>\n",
       "      <td>NaN</td>\n",
       "      <td>NaN</td>\n",
       "      <td>NaN</td>\n",
       "      <td>NaN</td>\n",
       "      <td>NaN</td>\n",
       "      <td>NaN</td>\n",
       "      <td>NaN</td>\n",
       "    </tr>\n",
       "    <tr>\n",
       "      <th>Blaque</th>\n",
       "      <td>NaN</td>\n",
       "      <td>NaN</td>\n",
       "      <td>NaN</td>\n",
       "      <td>NaN</td>\n",
       "      <td>NaN</td>\n",
       "      <td>1.0</td>\n",
       "      <td>NaN</td>\n",
       "      <td>NaN</td>\n",
       "      <td>NaN</td>\n",
       "      <td>NaN</td>\n",
       "      <td>NaN</td>\n",
       "    </tr>\n",
       "    <tr>\n",
       "      <th>Blige, Mary J.</th>\n",
       "      <td>NaN</td>\n",
       "      <td>NaN</td>\n",
       "      <td>NaN</td>\n",
       "      <td>NaN</td>\n",
       "      <td>NaN</td>\n",
       "      <td>NaN</td>\n",
       "      <td>NaN</td>\n",
       "      <td>NaN</td>\n",
       "      <td>NaN</td>\n",
       "      <td>1.0</td>\n",
       "      <td>1.0</td>\n",
       "    </tr>\n",
       "    <tr>\n",
       "      <th>Blink-182</th>\n",
       "      <td>NaN</td>\n",
       "      <td>NaN</td>\n",
       "      <td>NaN</td>\n",
       "      <td>NaN</td>\n",
       "      <td>NaN</td>\n",
       "      <td>NaN</td>\n",
       "      <td>NaN</td>\n",
       "      <td>NaN</td>\n",
       "      <td>NaN</td>\n",
       "      <td>1.0</td>\n",
       "      <td>NaN</td>\n",
       "    </tr>\n",
       "    <tr>\n",
       "      <th>...</th>\n",
       "      <td>...</td>\n",
       "      <td>...</td>\n",
       "      <td>...</td>\n",
       "      <td>...</td>\n",
       "      <td>...</td>\n",
       "      <td>...</td>\n",
       "      <td>...</td>\n",
       "      <td>...</td>\n",
       "      <td>...</td>\n",
       "      <td>...</td>\n",
       "      <td>...</td>\n",
       "    </tr>\n",
       "    <tr>\n",
       "      <th>Strait, George</th>\n",
       "      <td>2.0</td>\n",
       "      <td>NaN</td>\n",
       "      <td>NaN</td>\n",
       "      <td>NaN</td>\n",
       "      <td>NaN</td>\n",
       "      <td>NaN</td>\n",
       "      <td>NaN</td>\n",
       "      <td>NaN</td>\n",
       "      <td>NaN</td>\n",
       "      <td>NaN</td>\n",
       "      <td>NaN</td>\n",
       "    </tr>\n",
       "    <tr>\n",
       "      <th>Sugar Ray</th>\n",
       "      <td>NaN</td>\n",
       "      <td>NaN</td>\n",
       "      <td>NaN</td>\n",
       "      <td>NaN</td>\n",
       "      <td>NaN</td>\n",
       "      <td>NaN</td>\n",
       "      <td>NaN</td>\n",
       "      <td>NaN</td>\n",
       "      <td>NaN</td>\n",
       "      <td>1.0</td>\n",
       "      <td>NaN</td>\n",
       "    </tr>\n",
       "    <tr>\n",
       "      <th>TLC</th>\n",
       "      <td>NaN</td>\n",
       "      <td>NaN</td>\n",
       "      <td>NaN</td>\n",
       "      <td>NaN</td>\n",
       "      <td>NaN</td>\n",
       "      <td>NaN</td>\n",
       "      <td>NaN</td>\n",
       "      <td>NaN</td>\n",
       "      <td>NaN</td>\n",
       "      <td>1.0</td>\n",
       "      <td>NaN</td>\n",
       "    </tr>\n",
       "    <tr>\n",
       "      <th>Tamar</th>\n",
       "      <td>NaN</td>\n",
       "      <td>NaN</td>\n",
       "      <td>NaN</td>\n",
       "      <td>NaN</td>\n",
       "      <td>NaN</td>\n",
       "      <td>NaN</td>\n",
       "      <td>NaN</td>\n",
       "      <td>NaN</td>\n",
       "      <td>NaN</td>\n",
       "      <td>1.0</td>\n",
       "      <td>NaN</td>\n",
       "    </tr>\n",
       "    <tr>\n",
       "      <th>Tamia</th>\n",
       "      <td>NaN</td>\n",
       "      <td>NaN</td>\n",
       "      <td>NaN</td>\n",
       "      <td>NaN</td>\n",
       "      <td>NaN</td>\n",
       "      <td>NaN</td>\n",
       "      <td>NaN</td>\n",
       "      <td>NaN</td>\n",
       "      <td>NaN</td>\n",
       "      <td>1.0</td>\n",
       "      <td>NaN</td>\n",
       "    </tr>\n",
       "    <tr>\n",
       "      <th>Third Eye Blind</th>\n",
       "      <td>NaN</td>\n",
       "      <td>NaN</td>\n",
       "      <td>NaN</td>\n",
       "      <td>NaN</td>\n",
       "      <td>NaN</td>\n",
       "      <td>NaN</td>\n",
       "      <td>NaN</td>\n",
       "      <td>NaN</td>\n",
       "      <td>NaN</td>\n",
       "      <td>1.0</td>\n",
       "      <td>1.0</td>\n",
       "    </tr>\n",
       "    <tr>\n",
       "      <th>Thomas, Carl</th>\n",
       "      <td>NaN</td>\n",
       "      <td>NaN</td>\n",
       "      <td>NaN</td>\n",
       "      <td>NaN</td>\n",
       "      <td>NaN</td>\n",
       "      <td>NaN</td>\n",
       "      <td>NaN</td>\n",
       "      <td>NaN</td>\n",
       "      <td>NaN</td>\n",
       "      <td>3.0</td>\n",
       "      <td>NaN</td>\n",
       "    </tr>\n",
       "    <tr>\n",
       "      <th>Tippin, Aaron</th>\n",
       "      <td>1.0</td>\n",
       "      <td>NaN</td>\n",
       "      <td>NaN</td>\n",
       "      <td>NaN</td>\n",
       "      <td>NaN</td>\n",
       "      <td>NaN</td>\n",
       "      <td>NaN</td>\n",
       "      <td>NaN</td>\n",
       "      <td>NaN</td>\n",
       "      <td>NaN</td>\n",
       "      <td>NaN</td>\n",
       "    </tr>\n",
       "    <tr>\n",
       "      <th>Train</th>\n",
       "      <td>NaN</td>\n",
       "      <td>NaN</td>\n",
       "      <td>NaN</td>\n",
       "      <td>NaN</td>\n",
       "      <td>NaN</td>\n",
       "      <td>NaN</td>\n",
       "      <td>NaN</td>\n",
       "      <td>NaN</td>\n",
       "      <td>NaN</td>\n",
       "      <td>1.0</td>\n",
       "      <td>NaN</td>\n",
       "    </tr>\n",
       "    <tr>\n",
       "      <th>Trick Daddy</th>\n",
       "      <td>NaN</td>\n",
       "      <td>NaN</td>\n",
       "      <td>NaN</td>\n",
       "      <td>NaN</td>\n",
       "      <td>NaN</td>\n",
       "      <td>NaN</td>\n",
       "      <td>NaN</td>\n",
       "      <td>1.0</td>\n",
       "      <td>NaN</td>\n",
       "      <td>NaN</td>\n",
       "      <td>NaN</td>\n",
       "    </tr>\n",
       "    <tr>\n",
       "      <th>Trina</th>\n",
       "      <td>NaN</td>\n",
       "      <td>NaN</td>\n",
       "      <td>NaN</td>\n",
       "      <td>NaN</td>\n",
       "      <td>NaN</td>\n",
       "      <td>NaN</td>\n",
       "      <td>NaN</td>\n",
       "      <td>1.0</td>\n",
       "      <td>NaN</td>\n",
       "      <td>NaN</td>\n",
       "      <td>NaN</td>\n",
       "    </tr>\n",
       "    <tr>\n",
       "      <th>Tritt, Travis</th>\n",
       "      <td>1.0</td>\n",
       "      <td>NaN</td>\n",
       "      <td>NaN</td>\n",
       "      <td>NaN</td>\n",
       "      <td>NaN</td>\n",
       "      <td>NaN</td>\n",
       "      <td>NaN</td>\n",
       "      <td>NaN</td>\n",
       "      <td>NaN</td>\n",
       "      <td>NaN</td>\n",
       "      <td>NaN</td>\n",
       "    </tr>\n",
       "    <tr>\n",
       "      <th>Tuesday</th>\n",
       "      <td>NaN</td>\n",
       "      <td>NaN</td>\n",
       "      <td>NaN</td>\n",
       "      <td>NaN</td>\n",
       "      <td>NaN</td>\n",
       "      <td>NaN</td>\n",
       "      <td>NaN</td>\n",
       "      <td>NaN</td>\n",
       "      <td>NaN</td>\n",
       "      <td>1.0</td>\n",
       "      <td>NaN</td>\n",
       "    </tr>\n",
       "    <tr>\n",
       "      <th>Urban, Keith</th>\n",
       "      <td>1.0</td>\n",
       "      <td>NaN</td>\n",
       "      <td>NaN</td>\n",
       "      <td>NaN</td>\n",
       "      <td>NaN</td>\n",
       "      <td>NaN</td>\n",
       "      <td>NaN</td>\n",
       "      <td>NaN</td>\n",
       "      <td>NaN</td>\n",
       "      <td>NaN</td>\n",
       "      <td>NaN</td>\n",
       "    </tr>\n",
       "    <tr>\n",
       "      <th>Usher</th>\n",
       "      <td>NaN</td>\n",
       "      <td>NaN</td>\n",
       "      <td>NaN</td>\n",
       "      <td>NaN</td>\n",
       "      <td>NaN</td>\n",
       "      <td>NaN</td>\n",
       "      <td>NaN</td>\n",
       "      <td>NaN</td>\n",
       "      <td>NaN</td>\n",
       "      <td>1.0</td>\n",
       "      <td>NaN</td>\n",
       "    </tr>\n",
       "    <tr>\n",
       "      <th>Vassar, Phil</th>\n",
       "      <td>2.0</td>\n",
       "      <td>NaN</td>\n",
       "      <td>NaN</td>\n",
       "      <td>NaN</td>\n",
       "      <td>NaN</td>\n",
       "      <td>NaN</td>\n",
       "      <td>NaN</td>\n",
       "      <td>NaN</td>\n",
       "      <td>NaN</td>\n",
       "      <td>NaN</td>\n",
       "      <td>NaN</td>\n",
       "    </tr>\n",
       "    <tr>\n",
       "      <th>Vertical Horizon</th>\n",
       "      <td>NaN</td>\n",
       "      <td>NaN</td>\n",
       "      <td>NaN</td>\n",
       "      <td>NaN</td>\n",
       "      <td>NaN</td>\n",
       "      <td>NaN</td>\n",
       "      <td>NaN</td>\n",
       "      <td>NaN</td>\n",
       "      <td>NaN</td>\n",
       "      <td>1.0</td>\n",
       "      <td>1.0</td>\n",
       "    </tr>\n",
       "    <tr>\n",
       "      <th>Vitamin C</th>\n",
       "      <td>NaN</td>\n",
       "      <td>NaN</td>\n",
       "      <td>NaN</td>\n",
       "      <td>NaN</td>\n",
       "      <td>NaN</td>\n",
       "      <td>NaN</td>\n",
       "      <td>NaN</td>\n",
       "      <td>NaN</td>\n",
       "      <td>NaN</td>\n",
       "      <td>1.0</td>\n",
       "      <td>1.0</td>\n",
       "    </tr>\n",
       "    <tr>\n",
       "      <th>Walker, Clay</th>\n",
       "      <td>2.0</td>\n",
       "      <td>NaN</td>\n",
       "      <td>NaN</td>\n",
       "      <td>NaN</td>\n",
       "      <td>NaN</td>\n",
       "      <td>NaN</td>\n",
       "      <td>NaN</td>\n",
       "      <td>NaN</td>\n",
       "      <td>NaN</td>\n",
       "      <td>NaN</td>\n",
       "      <td>NaN</td>\n",
       "    </tr>\n",
       "    <tr>\n",
       "      <th>Wallflowers, The</th>\n",
       "      <td>NaN</td>\n",
       "      <td>NaN</td>\n",
       "      <td>NaN</td>\n",
       "      <td>NaN</td>\n",
       "      <td>NaN</td>\n",
       "      <td>NaN</td>\n",
       "      <td>NaN</td>\n",
       "      <td>NaN</td>\n",
       "      <td>NaN</td>\n",
       "      <td>1.0</td>\n",
       "      <td>NaN</td>\n",
       "    </tr>\n",
       "    <tr>\n",
       "      <th>Westlife</th>\n",
       "      <td>NaN</td>\n",
       "      <td>NaN</td>\n",
       "      <td>NaN</td>\n",
       "      <td>NaN</td>\n",
       "      <td>NaN</td>\n",
       "      <td>NaN</td>\n",
       "      <td>NaN</td>\n",
       "      <td>NaN</td>\n",
       "      <td>NaN</td>\n",
       "      <td>1.0</td>\n",
       "      <td>NaN</td>\n",
       "    </tr>\n",
       "    <tr>\n",
       "      <th>Williams, Robbie</th>\n",
       "      <td>NaN</td>\n",
       "      <td>NaN</td>\n",
       "      <td>NaN</td>\n",
       "      <td>NaN</td>\n",
       "      <td>NaN</td>\n",
       "      <td>NaN</td>\n",
       "      <td>NaN</td>\n",
       "      <td>NaN</td>\n",
       "      <td>NaN</td>\n",
       "      <td>1.0</td>\n",
       "      <td>NaN</td>\n",
       "    </tr>\n",
       "    <tr>\n",
       "      <th>Wills, Mark</th>\n",
       "      <td>1.0</td>\n",
       "      <td>NaN</td>\n",
       "      <td>NaN</td>\n",
       "      <td>NaN</td>\n",
       "      <td>NaN</td>\n",
       "      <td>NaN</td>\n",
       "      <td>NaN</td>\n",
       "      <td>NaN</td>\n",
       "      <td>NaN</td>\n",
       "      <td>NaN</td>\n",
       "      <td>NaN</td>\n",
       "    </tr>\n",
       "    <tr>\n",
       "      <th>Worley, Darryl</th>\n",
       "      <td>1.0</td>\n",
       "      <td>NaN</td>\n",
       "      <td>NaN</td>\n",
       "      <td>NaN</td>\n",
       "      <td>NaN</td>\n",
       "      <td>NaN</td>\n",
       "      <td>NaN</td>\n",
       "      <td>NaN</td>\n",
       "      <td>NaN</td>\n",
       "      <td>NaN</td>\n",
       "      <td>NaN</td>\n",
       "    </tr>\n",
       "    <tr>\n",
       "      <th>Wright, Chely</th>\n",
       "      <td>NaN</td>\n",
       "      <td>NaN</td>\n",
       "      <td>NaN</td>\n",
       "      <td>NaN</td>\n",
       "      <td>NaN</td>\n",
       "      <td>NaN</td>\n",
       "      <td>1.0</td>\n",
       "      <td>NaN</td>\n",
       "      <td>NaN</td>\n",
       "      <td>NaN</td>\n",
       "      <td>NaN</td>\n",
       "    </tr>\n",
       "    <tr>\n",
       "      <th>Yankee Grey</th>\n",
       "      <td>1.0</td>\n",
       "      <td>NaN</td>\n",
       "      <td>NaN</td>\n",
       "      <td>NaN</td>\n",
       "      <td>NaN</td>\n",
       "      <td>NaN</td>\n",
       "      <td>NaN</td>\n",
       "      <td>NaN</td>\n",
       "      <td>NaN</td>\n",
       "      <td>NaN</td>\n",
       "      <td>NaN</td>\n",
       "    </tr>\n",
       "    <tr>\n",
       "      <th>Yearwood, Trisha</th>\n",
       "      <td>1.0</td>\n",
       "      <td>NaN</td>\n",
       "      <td>NaN</td>\n",
       "      <td>NaN</td>\n",
       "      <td>NaN</td>\n",
       "      <td>NaN</td>\n",
       "      <td>NaN</td>\n",
       "      <td>NaN</td>\n",
       "      <td>NaN</td>\n",
       "      <td>NaN</td>\n",
       "      <td>NaN</td>\n",
       "    </tr>\n",
       "    <tr>\n",
       "      <th>Ying Yang Twins</th>\n",
       "      <td>NaN</td>\n",
       "      <td>NaN</td>\n",
       "      <td>NaN</td>\n",
       "      <td>NaN</td>\n",
       "      <td>NaN</td>\n",
       "      <td>NaN</td>\n",
       "      <td>NaN</td>\n",
       "      <td>1.0</td>\n",
       "      <td>NaN</td>\n",
       "      <td>NaN</td>\n",
       "      <td>NaN</td>\n",
       "    </tr>\n",
       "    <tr>\n",
       "      <th>Zombie Nation</th>\n",
       "      <td>NaN</td>\n",
       "      <td>NaN</td>\n",
       "      <td>NaN</td>\n",
       "      <td>NaN</td>\n",
       "      <td>NaN</td>\n",
       "      <td>NaN</td>\n",
       "      <td>NaN</td>\n",
       "      <td>NaN</td>\n",
       "      <td>NaN</td>\n",
       "      <td>1.0</td>\n",
       "      <td>NaN</td>\n",
       "    </tr>\n",
       "    <tr>\n",
       "      <th>matchbox twenty</th>\n",
       "      <td>NaN</td>\n",
       "      <td>NaN</td>\n",
       "      <td>NaN</td>\n",
       "      <td>NaN</td>\n",
       "      <td>NaN</td>\n",
       "      <td>NaN</td>\n",
       "      <td>NaN</td>\n",
       "      <td>NaN</td>\n",
       "      <td>NaN</td>\n",
       "      <td>1.0</td>\n",
       "      <td>NaN</td>\n",
       "    </tr>\n",
       "  </tbody>\n",
       "</table>\n",
       "<p>228 rows × 11 columns</p>\n",
       "</div>"
      ],
      "text/plain": [
       "genre                 Country  Electronica  Gospel  Jazz  Latin  Pop  R&B  \\\n",
       "artist                                                                      \n",
       "2 Pac                     NaN          NaN     NaN   NaN    NaN  NaN  NaN   \n",
       "2Ge+her                   NaN          NaN     NaN   NaN    NaN  NaN  1.0   \n",
       "3 Doors Down              NaN          NaN     NaN   NaN    NaN  NaN  NaN   \n",
       "504 Boyz                  NaN          NaN     NaN   NaN    NaN  NaN  NaN   \n",
       "98�                       NaN          NaN     NaN   NaN    NaN  NaN  NaN   \n",
       "A*Teens                   NaN          NaN     NaN   NaN    NaN  1.0  NaN   \n",
       "Aaliyah                   NaN          NaN     NaN   NaN    NaN  NaN  NaN   \n",
       "Adams, Yolanda            NaN          NaN     1.0   NaN    NaN  NaN  NaN   \n",
       "Adkins, Trace             1.0          NaN     NaN   NaN    NaN  NaN  NaN   \n",
       "Aguilera, Christina       NaN          NaN     NaN   NaN    NaN  NaN  NaN   \n",
       "Alice Deejay              NaN          1.0     NaN   NaN    NaN  NaN  NaN   \n",
       "Allan, Gary               1.0          NaN     NaN   NaN    NaN  NaN  NaN   \n",
       "Amber                     NaN          NaN     NaN   NaN    NaN  NaN  NaN   \n",
       "Anastacia                 NaN          NaN     NaN   NaN    NaN  1.0  NaN   \n",
       "Anthony, Marc             NaN          NaN     NaN   NaN    2.0  NaN  NaN   \n",
       "Avant                     NaN          NaN     NaN   NaN    NaN  NaN  NaN   \n",
       "BBMak                     NaN          NaN     NaN   NaN    NaN  NaN  NaN   \n",
       "Backstreet Boys, The      NaN          NaN     NaN   NaN    NaN  NaN  NaN   \n",
       "Badu, Erkyah              NaN          NaN     NaN   NaN    NaN  NaN  NaN   \n",
       "Baha Men                  NaN          NaN     NaN   NaN    NaN  NaN  1.0   \n",
       "Barenaked Ladies          NaN          NaN     NaN   NaN    NaN  NaN  NaN   \n",
       "Beenie Man                NaN          NaN     NaN   NaN    NaN  NaN  NaN   \n",
       "Before Dark               NaN          NaN     NaN   NaN    NaN  NaN  NaN   \n",
       "Bega, Lou                 NaN          NaN     NaN   NaN    NaN  NaN  NaN   \n",
       "Big Punisher              NaN          NaN     NaN   NaN    NaN  NaN  NaN   \n",
       "Black Rob                 NaN          NaN     NaN   NaN    NaN  NaN  NaN   \n",
       "Black, Clint              1.0          NaN     NaN   NaN    NaN  NaN  NaN   \n",
       "Blaque                    NaN          NaN     NaN   NaN    NaN  1.0  NaN   \n",
       "Blige, Mary J.            NaN          NaN     NaN   NaN    NaN  NaN  NaN   \n",
       "Blink-182                 NaN          NaN     NaN   NaN    NaN  NaN  NaN   \n",
       "...                       ...          ...     ...   ...    ...  ...  ...   \n",
       "Strait, George            2.0          NaN     NaN   NaN    NaN  NaN  NaN   \n",
       "Sugar Ray                 NaN          NaN     NaN   NaN    NaN  NaN  NaN   \n",
       "TLC                       NaN          NaN     NaN   NaN    NaN  NaN  NaN   \n",
       "Tamar                     NaN          NaN     NaN   NaN    NaN  NaN  NaN   \n",
       "Tamia                     NaN          NaN     NaN   NaN    NaN  NaN  NaN   \n",
       "Third Eye Blind           NaN          NaN     NaN   NaN    NaN  NaN  NaN   \n",
       "Thomas, Carl              NaN          NaN     NaN   NaN    NaN  NaN  NaN   \n",
       "Tippin, Aaron             1.0          NaN     NaN   NaN    NaN  NaN  NaN   \n",
       "Train                     NaN          NaN     NaN   NaN    NaN  NaN  NaN   \n",
       "Trick Daddy               NaN          NaN     NaN   NaN    NaN  NaN  NaN   \n",
       "Trina                     NaN          NaN     NaN   NaN    NaN  NaN  NaN   \n",
       "Tritt, Travis             1.0          NaN     NaN   NaN    NaN  NaN  NaN   \n",
       "Tuesday                   NaN          NaN     NaN   NaN    NaN  NaN  NaN   \n",
       "Urban, Keith              1.0          NaN     NaN   NaN    NaN  NaN  NaN   \n",
       "Usher                     NaN          NaN     NaN   NaN    NaN  NaN  NaN   \n",
       "Vassar, Phil              2.0          NaN     NaN   NaN    NaN  NaN  NaN   \n",
       "Vertical Horizon          NaN          NaN     NaN   NaN    NaN  NaN  NaN   \n",
       "Vitamin C                 NaN          NaN     NaN   NaN    NaN  NaN  NaN   \n",
       "Walker, Clay              2.0          NaN     NaN   NaN    NaN  NaN  NaN   \n",
       "Wallflowers, The          NaN          NaN     NaN   NaN    NaN  NaN  NaN   \n",
       "Westlife                  NaN          NaN     NaN   NaN    NaN  NaN  NaN   \n",
       "Williams, Robbie          NaN          NaN     NaN   NaN    NaN  NaN  NaN   \n",
       "Wills, Mark               1.0          NaN     NaN   NaN    NaN  NaN  NaN   \n",
       "Worley, Darryl            1.0          NaN     NaN   NaN    NaN  NaN  NaN   \n",
       "Wright, Chely             NaN          NaN     NaN   NaN    NaN  NaN  1.0   \n",
       "Yankee Grey               1.0          NaN     NaN   NaN    NaN  NaN  NaN   \n",
       "Yearwood, Trisha          1.0          NaN     NaN   NaN    NaN  NaN  NaN   \n",
       "Ying Yang Twins           NaN          NaN     NaN   NaN    NaN  NaN  NaN   \n",
       "Zombie Nation             NaN          NaN     NaN   NaN    NaN  NaN  NaN   \n",
       "matchbox twenty           NaN          NaN     NaN   NaN    NaN  NaN  NaN   \n",
       "\n",
       "genre                 Rap  Reggae  Rock  Rock'n'roll  \n",
       "artist                                                \n",
       "2 Pac                 1.0     NaN   NaN          NaN  \n",
       "2Ge+her               NaN     NaN   NaN          NaN  \n",
       "3 Doors Down          NaN     NaN   2.0          NaN  \n",
       "504 Boyz              1.0     NaN   NaN          NaN  \n",
       "98�                   NaN     NaN   1.0          NaN  \n",
       "A*Teens               NaN     NaN   NaN          NaN  \n",
       "Aaliyah               NaN     NaN   1.0          1.0  \n",
       "Adams, Yolanda        NaN     NaN   NaN          NaN  \n",
       "Adkins, Trace         NaN     NaN   NaN          NaN  \n",
       "Aguilera, Christina   NaN     NaN   1.0          2.0  \n",
       "Alice Deejay          NaN     NaN   NaN          NaN  \n",
       "Allan, Gary           NaN     NaN   NaN          NaN  \n",
       "Amber                 NaN     NaN   1.0          NaN  \n",
       "Anastacia             NaN     NaN   NaN          NaN  \n",
       "Anthony, Marc         NaN     NaN   NaN          NaN  \n",
       "Avant                 NaN     NaN   1.0          1.0  \n",
       "BBMak                 NaN     NaN   1.0          NaN  \n",
       "Backstreet Boys, The  NaN     NaN   2.0          1.0  \n",
       "Badu, Erkyah          NaN     NaN   1.0          NaN  \n",
       "Baha Men              NaN     NaN   NaN          NaN  \n",
       "Barenaked Ladies      NaN     NaN   1.0          NaN  \n",
       "Beenie Man            NaN     1.0   NaN          NaN  \n",
       "Before Dark           NaN     NaN   1.0          NaN  \n",
       "Bega, Lou             NaN     NaN   1.0          NaN  \n",
       "Big Punisher          1.0     NaN   NaN          NaN  \n",
       "Black Rob             1.0     NaN   NaN          NaN  \n",
       "Black, Clint          NaN     NaN   NaN          NaN  \n",
       "Blaque                NaN     NaN   NaN          NaN  \n",
       "Blige, Mary J.        NaN     NaN   1.0          1.0  \n",
       "Blink-182             NaN     NaN   1.0          NaN  \n",
       "...                   ...     ...   ...          ...  \n",
       "Strait, George        NaN     NaN   NaN          NaN  \n",
       "Sugar Ray             NaN     NaN   1.0          NaN  \n",
       "TLC                   NaN     NaN   1.0          NaN  \n",
       "Tamar                 NaN     NaN   1.0          NaN  \n",
       "Tamia                 NaN     NaN   1.0          NaN  \n",
       "Third Eye Blind       NaN     NaN   1.0          1.0  \n",
       "Thomas, Carl          NaN     NaN   3.0          NaN  \n",
       "Tippin, Aaron         NaN     NaN   NaN          NaN  \n",
       "Train                 NaN     NaN   1.0          NaN  \n",
       "Trick Daddy           1.0     NaN   NaN          NaN  \n",
       "Trina                 1.0     NaN   NaN          NaN  \n",
       "Tritt, Travis         NaN     NaN   NaN          NaN  \n",
       "Tuesday               NaN     NaN   1.0          NaN  \n",
       "Urban, Keith          NaN     NaN   NaN          NaN  \n",
       "Usher                 NaN     NaN   1.0          NaN  \n",
       "Vassar, Phil          NaN     NaN   NaN          NaN  \n",
       "Vertical Horizon      NaN     NaN   1.0          1.0  \n",
       "Vitamin C             NaN     NaN   1.0          1.0  \n",
       "Walker, Clay          NaN     NaN   NaN          NaN  \n",
       "Wallflowers, The      NaN     NaN   1.0          NaN  \n",
       "Westlife              NaN     NaN   1.0          NaN  \n",
       "Williams, Robbie      NaN     NaN   1.0          NaN  \n",
       "Wills, Mark           NaN     NaN   NaN          NaN  \n",
       "Worley, Darryl        NaN     NaN   NaN          NaN  \n",
       "Wright, Chely         NaN     NaN   NaN          NaN  \n",
       "Yankee Grey           NaN     NaN   NaN          NaN  \n",
       "Yearwood, Trisha      NaN     NaN   NaN          NaN  \n",
       "Ying Yang Twins       1.0     NaN   NaN          NaN  \n",
       "Zombie Nation         NaN     NaN   1.0          NaN  \n",
       "matchbox twenty       NaN     NaN   1.0          NaN  \n",
       "\n",
       "[228 rows x 11 columns]"
      ]
     },
     "execution_count": 226,
     "metadata": {},
     "output_type": "execute_result"
    }
   ],
   "source": [
    "# examine the labeled genres by showing number of songs by artist in each genre\n",
    "pd.pivot_table(music, index=[\"artist\"], columns=[\"genre\"], values=\"track\",aggfunc=len)"
   ]
  },
  {
   "cell_type": "markdown",
   "metadata": {
    "collapsed": false
   },
   "source": [
    "**Some of the genres seem questionable (e.g., Aaliyah in Rock and Rock 'n' Roll), but not so much as to suggest systematic mislabelling.  It may just be a case of subjective classification of the music by the Billboard team.  There is, therefore, no reason to exclude the genre classification from the analysis.**"
   ]
  },
  {
   "cell_type": "code",
   "execution_count": 227,
   "metadata": {
    "collapsed": false
   },
   "outputs": [
    {
     "data": {
      "text/plain": [
       "1999-06-05    1\n",
       "1999-07-17    1\n",
       "1999-09-04    1\n",
       "1999-09-11    1\n",
       "1999-10-09    2\n",
       "1999-10-16    2\n",
       "1999-10-23    3\n",
       "1999-10-30    2\n",
       "1999-11-06    2\n",
       "1999-11-13    4\n",
       "Name: date.entered, dtype: int64"
      ]
     },
     "execution_count": 227,
     "metadata": {},
     "output_type": "execute_result"
    }
   ],
   "source": [
    "# show the number of entries by date, sorted by earliest dates.\n",
    "music[\"date.entered\"].value_counts().sort_index().head(10)"
   ]
  },
  {
   "cell_type": "markdown",
   "metadata": {},
   "source": [
    "**The value counts suggest that songs entering the charts before 1999-10-09 were inconsistenly included (there aren't entried for each week), data prior to this date will be stripped out.**"
   ]
  },
  {
   "cell_type": "code",
   "execution_count": 228,
   "metadata": {
    "collapsed": false
   },
   "outputs": [],
   "source": [
    "# remove data for songs that entered before 1999-10-09\n",
    "music=music[music[\"date.entered\"]>pd.to_datetime(\"1999-10-09\")]"
   ]
  },
  {
   "cell_type": "markdown",
   "metadata": {
    "focus": false,
    "id": "604ee5d7-10ed-4d14-9f86-16a6b240c00d"
   },
   "source": [
    "##### Using Pandas' built in `melt` function, pivot the weekly ranking data to be long rather than wide. As a result, you will have removed the 72 'week' columns and replace it with two: Week and Ranking. There will now be multiple entries for each song, one for each week on the Billboard rankings."
   ]
  },
  {
   "cell_type": "code",
   "execution_count": 229,
   "metadata": {
    "collapsed": false,
    "focus": false,
    "id": "bf0161ca-0fcb-4883-a216-93fd7ffa6456"
   },
   "outputs": [
    {
     "data": {
      "text/html": [
       "<div>\n",
       "<table border=\"1\" class=\"dataframe\">\n",
       "  <thead>\n",
       "    <tr style=\"text-align: right;\">\n",
       "      <th></th>\n",
       "      <th>year</th>\n",
       "      <th>artist</th>\n",
       "      <th>track</th>\n",
       "      <th>time</th>\n",
       "      <th>genre</th>\n",
       "      <th>date.entered</th>\n",
       "      <th>date.peaked</th>\n",
       "      <th>length_mins</th>\n",
       "      <th>week</th>\n",
       "      <th>rank</th>\n",
       "    </tr>\n",
       "  </thead>\n",
       "  <tbody>\n",
       "    <tr>\n",
       "      <th>44</th>\n",
       "      <td>2000</td>\n",
       "      <td>Nelly</td>\n",
       "      <td>(Hot S**t) Country Grammar</td>\n",
       "      <td>4,17,00 AM</td>\n",
       "      <td>Rap</td>\n",
       "      <td>2000-04-29</td>\n",
       "      <td>2000-09-16</td>\n",
       "      <td>4.283333</td>\n",
       "      <td>week1</td>\n",
       "      <td>100.0</td>\n",
       "    </tr>\n",
       "    <tr>\n",
       "      <th>2843</th>\n",
       "      <td>2000</td>\n",
       "      <td>Nelly</td>\n",
       "      <td>(Hot S**t) Country Grammar</td>\n",
       "      <td>4,17,00 AM</td>\n",
       "      <td>Rap</td>\n",
       "      <td>2000-04-29</td>\n",
       "      <td>2000-09-16</td>\n",
       "      <td>4.283333</td>\n",
       "      <td>week10</td>\n",
       "      <td>36.0</td>\n",
       "    </tr>\n",
       "    <tr>\n",
       "      <th>3154</th>\n",
       "      <td>2000</td>\n",
       "      <td>Nelly</td>\n",
       "      <td>(Hot S**t) Country Grammar</td>\n",
       "      <td>4,17,00 AM</td>\n",
       "      <td>Rap</td>\n",
       "      <td>2000-04-29</td>\n",
       "      <td>2000-09-16</td>\n",
       "      <td>4.283333</td>\n",
       "      <td>week11</td>\n",
       "      <td>37.0</td>\n",
       "    </tr>\n",
       "    <tr>\n",
       "      <th>3465</th>\n",
       "      <td>2000</td>\n",
       "      <td>Nelly</td>\n",
       "      <td>(Hot S**t) Country Grammar</td>\n",
       "      <td>4,17,00 AM</td>\n",
       "      <td>Rap</td>\n",
       "      <td>2000-04-29</td>\n",
       "      <td>2000-09-16</td>\n",
       "      <td>4.283333</td>\n",
       "      <td>week12</td>\n",
       "      <td>30.0</td>\n",
       "    </tr>\n",
       "    <tr>\n",
       "      <th>3776</th>\n",
       "      <td>2000</td>\n",
       "      <td>Nelly</td>\n",
       "      <td>(Hot S**t) Country Grammar</td>\n",
       "      <td>4,17,00 AM</td>\n",
       "      <td>Rap</td>\n",
       "      <td>2000-04-29</td>\n",
       "      <td>2000-09-16</td>\n",
       "      <td>4.283333</td>\n",
       "      <td>week13</td>\n",
       "      <td>23.0</td>\n",
       "    </tr>\n",
       "  </tbody>\n",
       "</table>\n",
       "</div>"
      ],
      "text/plain": [
       "      year artist                       track        time genre date.entered  \\\n",
       "44    2000  Nelly  (Hot S**t) Country Grammar  4,17,00 AM   Rap   2000-04-29   \n",
       "2843  2000  Nelly  (Hot S**t) Country Grammar  4,17,00 AM   Rap   2000-04-29   \n",
       "3154  2000  Nelly  (Hot S**t) Country Grammar  4,17,00 AM   Rap   2000-04-29   \n",
       "3465  2000  Nelly  (Hot S**t) Country Grammar  4,17,00 AM   Rap   2000-04-29   \n",
       "3776  2000  Nelly  (Hot S**t) Country Grammar  4,17,00 AM   Rap   2000-04-29   \n",
       "\n",
       "     date.peaked  length_mins    week   rank  \n",
       "44    2000-09-16     4.283333   week1  100.0  \n",
       "2843  2000-09-16     4.283333  week10   36.0  \n",
       "3154  2000-09-16     4.283333  week11   37.0  \n",
       "3465  2000-09-16     4.283333  week12   30.0  \n",
       "3776  2000-09-16     4.283333  week13   23.0  "
      ]
     },
     "execution_count": 229,
     "metadata": {},
     "output_type": "execute_result"
    }
   ],
   "source": [
    "# create a list of id variables\n",
    "id_variables=list(music.columns.values)\n",
    "del id_variables[7:72]\n",
    "# use melt to create df with one row for each week a song appeared in the charts\n",
    "music_long=pd.melt(music, id_vars=id_variables, var_name='week', value_name=\"rank\")\n",
    "music_long=music_long.sort_values([\"track\",\"week\"])\n",
    "# remove rows for which rank is missing \n",
    "music_long = music_long.dropna(subset=[\"rank\"])\n",
    "music_long.head()"
   ]
  },
  {
   "cell_type": "markdown",
   "metadata": {
    "focus": false,
    "id": "2023c5a8-1f4e-4d83-9a52-c41a5090af74"
   },
   "source": [
    "## Step 3: Visualize your data."
   ]
  },
  {
   "cell_type": "markdown",
   "metadata": {
    "focus": false,
    "id": "dfaca026-8eca-4119-b4c1-e43433790c8e"
   },
   "source": [
    "##### Using a plotting utility of your choice (Tableau or python modules or both), create visualizations that will provide context to your data. There is no minimum or maximum number of graphs you should generate, but there should be a clear and consistent story being told. Give insights to the distribution, statistics, and relationships of the data. "
   ]
  },
  {
   "cell_type": "code",
   "execution_count": 232,
   "metadata": {
    "collapsed": false
   },
   "outputs": [
    {
     "data": {
      "text/plain": [
       "<matplotlib.text.Text at 0x131a3f910>"
      ]
     },
     "execution_count": 232,
     "metadata": {},
     "output_type": "execute_result"
    },
    {
     "data": {
      "text/plain": [
       "<matplotlib.figure.Figure at 0x130c14a10>"
      ]
     },
     "metadata": {},
     "output_type": "display_data"
    },
    {
     "data": {
      "image/png": "[encoded data removed]",
      "text/plain": [
       "<matplotlib.figure.Figure at 0x12a170ed0>"
      ]
     },
     "metadata": {},
     "output_type": "display_data"
    }
   ],
   "source": [
    "# number of billboard entries and number of top 20 hits by genre\n",
    "#create a column for highest chart position\n",
    "music[\"top_position\"] = music.loc[:,\"week1\":\"week65\"].apply(np.min,axis=1)\n",
    "\n",
    "a=music[\"genre\"].value_counts().to_frame()\n",
    "b=music[music[\"top_position\"]<=20][\"genre\"].value_counts().to_frame()\n",
    "result = pd.merge(a, b, left_index=True, right_index=True, how='inner')\n",
    "result.columns=[\"num_hits\",\"num_top20\"]\n",
    "\n",
    "plt.figure()\n",
    "result.plot(kind=\"bar\", figsize=(10,8))\n",
    "plt.title(\"Hits by Genre\")"
   ]
  },
  {
   "cell_type": "markdown",
   "metadata": {},
   "source": [
    "**Rock, Rock'n'roll and Country appear to be the most popular categories.**"
   ]
  },
  {
   "cell_type": "code",
   "execution_count": 233,
   "metadata": {
    "collapsed": false
   },
   "outputs": [
    {
     "data": {
      "text/plain": [
       "[<matplotlib.text.Text at 0x12ac2e5d0>, <matplotlib.text.Text at 0x12adbe850>]"
      ]
     },
     "execution_count": 233,
     "metadata": {},
     "output_type": "execute_result"
    },
    {
     "data": {
      "image/png": "[encoded data removed]",
      "text/plain": [
       "<matplotlib.figure.Figure at 0x12f385c90>"
      ]
     },
     "metadata": {},
     "output_type": "display_data"
    }
   ],
   "source": [
    "# distribution of length of songs\n",
    "ax=music[\"length_mins\"].hist(bins=20, figsize=(6,6))\n",
    "ax.set(title=\"Length of Songs\", xlabel=\"Minutes\")"
   ]
  },
  {
   "cell_type": "code",
   "execution_count": 271,
   "metadata": {
    "collapsed": false
   },
   "outputs": [
    {
     "data": {
      "text/plain": [
       "[<matplotlib.text.Text at 0x1386c8250>,\n",
       " <matplotlib.text.Text at 0x1384d7610>,\n",
       " <matplotlib.text.Text at 0x139117310>]"
      ]
     },
     "execution_count": 271,
     "metadata": {},
     "output_type": "execute_result"
    },
    {
     "data": {
      "image/png": "[encoded data removed]",
      "text/plain": [
       "<matplotlib.figure.Figure at 0x13851e8d0>"
      ]
     },
     "metadata": {},
     "output_type": "display_data"
    }
   ],
   "source": [
    "\n",
    "ax=music[\"date.entered\"].value_counts().sort_index().plot(c=\"blue\", figsize=(12,6))\n",
    "ax.set(title=\"Number of Chart Entries Over Time\", xlabel=\"Date\", ylabel=\"Number of Entries\")"
   ]
  },
  {
   "cell_type": "markdown",
   "metadata": {
    "focus": false,
    "id": "8401c631-245b-4560-8971-25cb2406c2ab"
   },
   "source": [
    "## Step 4: Create a Problem Statement.\n",
    "\n",
    "##### Having explored the data, come up with a problem statement for this data set. You can feel free to introduce data from any other source to support your problem statement, just be sure to provide a link to the origin of the data. Once again- be creative!"
   ]
  },
  {
   "cell_type": "markdown",
   "metadata": {
    "collapsed": true,
    "focus": false,
    "id": "e1b81214-9b26-4735-8c1b-4482e948b355"
   },
   "source": [
    "Given the enormous number of songs that made the list of Billboard Top100 hits, I'll be exloring the reasons that some songs are more successful.  I'll also be trying to answer the question of how quickly songs are successful, and for how long.\n",
    "\n",
    "Specifically, I'll be exploring three hypotheses.\n",
    "\n",
    "1) Given that the Rock genre has the most billboard hits in the time period, I think it likely the Rock genre will also be the most popular genre as measured by time in the charts and top chart position.\n",
    "\n",
    "2) There is fairly little variation in the length of songs that made it onto the Billboard Top100, with relatively few songs over 5 minutes long.  I suggest that songs that are longer than the typical song will exhibit different levels of succes than songs of a typical length.\n",
    "\n",
    "3) Songs take time to build in popularity, so songs that reach higher ultimate chart positions will reach their peaks more slowly.  Songs that reach higher ultimate positions will also spend longer in the charts.\n",
    "\n",
    "NB: A quick word on chart positions.\n",
    "The chart positions are represented by ranks from 1 to 100, with 1 being the highest rank, and 100 the lowest.  Consistent with the typical language used to describe charts, when I describe \"higher ranks,\" I'm referring to a lower absolute rank (i.e. position 3 is higher than position 10).\n"
   ]
  },
  {
   "cell_type": "markdown",
   "metadata": {
    "collapsed": false,
    "focus": false,
    "id": "a0ff30a0-48be-4851-9ec3-4ce8ece08a67"
   },
   "source": [
    "## Step 5: Brainstorm your Approach.\n",
    "##### In bullet-list form, provide a proposed approach for evaluating your problem statement. This can be somewhat high-level, but start to think about ways you can massage the data for maximum efficacy. "
   ]
  },
  {
   "cell_type": "markdown",
   "metadata": {
    "collapsed": true,
    "focus": false,
    "id": "9d772c7b-61e0-4bc4-bb1a-f3d43ba54862"
   },
   "source": [
    "* Apart from weekly chart ranks, the data do not provide measures of success for the tracks.  In order to assess the  success of songs, measures of success need to be calculated.\n",
    "* The measures used will be: \n",
    "    * Top position over all the weeks in the chart\n",
    "    * Number of weeks in the chart\n",
    "    * Number of weeks in the top 10 in the charts\n",
    "* To measure the speed the track peaked, the number of weeks between date peaked and date entered will be calculated\n",
    "* For hypothesis 1, the rocks tracks can be compared to the population of tracks with respect to:\n",
    "     * the average top position \n",
    "     * the average number of weeks in the chart \n",
    "     * the average number of weeks in the top 10\n",
    " \n",
    "* For hypothesis 2, two samples can be compared. The first is songs whose length fall in the top decile (the right tail of the distribution of lengths).  The second sample is songs whose length fall in the middle decile. The two samples can be compared with respect to:\n",
    "     * Average top chart position\n",
    "     * Average number of weeks in the charts\n",
    "     \n",
    "* For hypothesis 3, something"
   ]
  },
  {
   "cell_type": "code",
   "execution_count": 234,
   "metadata": {
    "collapsed": true
   },
   "outputs": [],
   "source": [
    "# create some new columns to measure success of music\n",
    "\n",
    "# weeks to peak\n",
    "music[\"weeks_to_peak\"] = music[\"date.peaked\"]-music[\"date.entered\"]\n",
    "music[\"weeks_to_peak\"] = music[\"weeks_to_peak\"].astype('timedelta64[W]')\n",
    "\n",
    "# weeks in charts\n",
    "music[\"weeks_in_charts\"] = music.loc[:,\"week1\":\"week65\"].apply(lambda x: np.count_nonzero(~np.isnan(x)),axis=1)\n",
    "\n",
    "# weeks in top 10\n",
    "music[\"weeks_in_top10\"] = music.loc[:,\"week1\":\"week65\"].apply(lambda x: np.count_nonzero(x<=10),axis=1)"
   ]
  },
  {
   "cell_type": "markdown",
   "metadata": {},
   "source": [
    "**Explore the new measures of success**"
   ]
  },
  {
   "cell_type": "code",
   "execution_count": 235,
   "metadata": {
    "collapsed": false
   },
   "outputs": [
    {
     "data": {
      "text/plain": [
       "[<matplotlib.text.Text at 0x131fb2810>,\n",
       " <matplotlib.text.Text at 0x131f9d890>,\n",
       " <matplotlib.text.Text at 0x131fbe810>]"
      ]
     },
     "execution_count": 235,
     "metadata": {},
     "output_type": "execute_result"
    },
    {
     "data": {
      "image/png": "[encoded data removed]",
      "text/plain": [
       "<matplotlib.figure.Figure at 0x12ad98150>"
      ]
     },
     "metadata": {},
     "output_type": "display_data"
    }
   ],
   "source": [
    "# plot histograms of position, weeks in charts and weeks in top 10\n",
    "fig, ax = plt.subplots(ncols=3, figsize=(20,8))\n",
    "ax[0].hist(music[\"top_position\"], color=\"darkgreen\")\n",
    "ax[0].set(title='Position', ylabel='Y-Axis', xlabel='X-Axis')\n",
    "ax[1].hist(music[\"weeks_in_charts\"], color=\"darkorange\")\n",
    "ax[1].set(title='Weeks in charts', ylabel='Y-Axis', xlabel='X-Axis')\n",
    "ax[2].hist(music[\"weeks_in_top10\"], color=\"dodgerblue\")\n",
    "ax[2].set(title='weeks in top 10', ylabel='Y-Axis', xlabel='X-Axis')"
   ]
  },
  {
   "cell_type": "markdown",
   "metadata": {},
   "source": [
    "There are a large number of tracks that stayed in the charts for roughly 20 weeks.  "
   ]
  },
  {
   "cell_type": "code",
   "execution_count": 272,
   "metadata": {
    "collapsed": false
   },
   "outputs": [
    {
     "data": {
      "text/plain": [
       "<seaborn.axisgrid.FacetGrid at 0x13916fb10>"
      ]
     },
     "execution_count": 272,
     "metadata": {},
     "output_type": "execute_result"
    },
    {
     "data": {
      "image/png": "[encoded data removed]",
      "text/plain": [
       "<matplotlib.figure.Figure at 0x13869c410>"
      ]
     },
     "metadata": {},
     "output_type": "display_data"
    }
   ],
   "source": [
    "# plot number of weeks in the charts by genre\n",
    "import seaborn as sns\n",
    "g = sns.FacetGrid(music, col=\"genre\", col_wrap=4,margin_titles=True)\n",
    "bins = np.linspace(0, 60, 13)\n",
    "g.map(plt.hist, \"weeks_in_charts\", color=\"steelblue\", bins=bins, lw=0)"
   ]
  },
  {
   "cell_type": "code",
   "execution_count": 237,
   "metadata": {
    "collapsed": false
   },
   "outputs": [
    {
     "data": {
      "text/plain": [
       "<seaborn.axisgrid.PairGrid at 0x130c14750>"
      ]
     },
     "execution_count": 237,
     "metadata": {},
     "output_type": "execute_result"
    },
    {
     "data": {
      "image/png": "[encoded data removed]",
      "text/plain": [
       "<matplotlib.figure.Figure at 0x12adcaed0>"
      ]
     },
     "metadata": {},
     "output_type": "display_data"
    }
   ],
   "source": [
    "# show the measures of succes (top chart position, weeks in the charts, and entry position), and time to peak, plotted against each other\n",
    "sns.pairplot(music.loc[:,[\"top_position\",\"weeks_in_charts\",\"week1\",\"weeks_to_peak\"]])"
   ]
  },
  {
   "cell_type": "markdown",
   "metadata": {
    "collapsed": true
   },
   "source": [
    "Weeks to peak and number of weeks in charts appear to have a positive association.  By contrast, top chart position and number of weeks in the charts appear to be negatively associated.  Similarly, top chart position and time to peak appear to be negatively associated."
   ]
  },
  {
   "cell_type": "code",
   "execution_count": 273,
   "metadata": {
    "collapsed": true
   },
   "outputs": [],
   "source": [
    "import scipy as sp\n",
    "from scipy import stats"
   ]
  },
  {
   "cell_type": "code",
   "execution_count": 239,
   "metadata": {
    "collapsed": false,
    "scrolled": true
   },
   "outputs": [
    {
     "data": {
      "text/html": [
       "<div>\n",
       "<table border=\"1\" class=\"dataframe\">\n",
       "  <thead>\n",
       "    <tr>\n",
       "      <th></th>\n",
       "      <th colspan=\"11\" halign=\"left\">year</th>\n",
       "    </tr>\n",
       "    <tr>\n",
       "      <th>genre</th>\n",
       "      <th>Country</th>\n",
       "      <th>Electronica</th>\n",
       "      <th>Gospel</th>\n",
       "      <th>Jazz</th>\n",
       "      <th>Latin</th>\n",
       "      <th>Pop</th>\n",
       "      <th>R&amp;B</th>\n",
       "      <th>Rap</th>\n",
       "      <th>Reggae</th>\n",
       "      <th>Rock</th>\n",
       "      <th>Rock'n'roll</th>\n",
       "    </tr>\n",
       "    <tr>\n",
       "      <th>top_position</th>\n",
       "      <th></th>\n",
       "      <th></th>\n",
       "      <th></th>\n",
       "      <th></th>\n",
       "      <th></th>\n",
       "      <th></th>\n",
       "      <th></th>\n",
       "      <th></th>\n",
       "      <th></th>\n",
       "      <th></th>\n",
       "      <th></th>\n",
       "    </tr>\n",
       "  </thead>\n",
       "  <tbody>\n",
       "    <tr>\n",
       "      <th>1.0</th>\n",
       "      <td>NaN</td>\n",
       "      <td>NaN</td>\n",
       "      <td>NaN</td>\n",
       "      <td>NaN</td>\n",
       "      <td>1.0</td>\n",
       "      <td>NaN</td>\n",
       "      <td>NaN</td>\n",
       "      <td>NaN</td>\n",
       "      <td>NaN</td>\n",
       "      <td>8.0</td>\n",
       "      <td>7.0</td>\n",
       "    </tr>\n",
       "    <tr>\n",
       "      <th>2.0</th>\n",
       "      <td>NaN</td>\n",
       "      <td>NaN</td>\n",
       "      <td>NaN</td>\n",
       "      <td>NaN</td>\n",
       "      <td>1.0</td>\n",
       "      <td>NaN</td>\n",
       "      <td>NaN</td>\n",
       "      <td>1.0</td>\n",
       "      <td>NaN</td>\n",
       "      <td>3.0</td>\n",
       "      <td>1.0</td>\n",
       "    </tr>\n",
       "    <tr>\n",
       "      <th>3.0</th>\n",
       "      <td>NaN</td>\n",
       "      <td>NaN</td>\n",
       "      <td>NaN</td>\n",
       "      <td>NaN</td>\n",
       "      <td>NaN</td>\n",
       "      <td>NaN</td>\n",
       "      <td>NaN</td>\n",
       "      <td>NaN</td>\n",
       "      <td>NaN</td>\n",
       "      <td>2.0</td>\n",
       "      <td>2.0</td>\n",
       "    </tr>\n",
       "    <tr>\n",
       "      <th>4.0</th>\n",
       "      <td>NaN</td>\n",
       "      <td>NaN</td>\n",
       "      <td>NaN</td>\n",
       "      <td>NaN</td>\n",
       "      <td>NaN</td>\n",
       "      <td>NaN</td>\n",
       "      <td>NaN</td>\n",
       "      <td>2.0</td>\n",
       "      <td>NaN</td>\n",
       "      <td>NaN</td>\n",
       "      <td>4.0</td>\n",
       "    </tr>\n",
       "    <tr>\n",
       "      <th>5.0</th>\n",
       "      <td>NaN</td>\n",
       "      <td>NaN</td>\n",
       "      <td>NaN</td>\n",
       "      <td>NaN</td>\n",
       "      <td>NaN</td>\n",
       "      <td>1.0</td>\n",
       "      <td>NaN</td>\n",
       "      <td>1.0</td>\n",
       "      <td>NaN</td>\n",
       "      <td>2.0</td>\n",
       "      <td>1.0</td>\n",
       "    </tr>\n",
       "    <tr>\n",
       "      <th>6.0</th>\n",
       "      <td>NaN</td>\n",
       "      <td>1.0</td>\n",
       "      <td>NaN</td>\n",
       "      <td>NaN</td>\n",
       "      <td>NaN</td>\n",
       "      <td>NaN</td>\n",
       "      <td>NaN</td>\n",
       "      <td>NaN</td>\n",
       "      <td>NaN</td>\n",
       "      <td>5.0</td>\n",
       "      <td>NaN</td>\n",
       "    </tr>\n",
       "    <tr>\n",
       "      <th>7.0</th>\n",
       "      <td>NaN</td>\n",
       "      <td>NaN</td>\n",
       "      <td>NaN</td>\n",
       "      <td>1.0</td>\n",
       "      <td>NaN</td>\n",
       "      <td>NaN</td>\n",
       "      <td>NaN</td>\n",
       "      <td>1.0</td>\n",
       "      <td>NaN</td>\n",
       "      <td>1.0</td>\n",
       "      <td>1.0</td>\n",
       "    </tr>\n",
       "    <tr>\n",
       "      <th>8.0</th>\n",
       "      <td>NaN</td>\n",
       "      <td>NaN</td>\n",
       "      <td>NaN</td>\n",
       "      <td>NaN</td>\n",
       "      <td>NaN</td>\n",
       "      <td>NaN</td>\n",
       "      <td>NaN</td>\n",
       "      <td>NaN</td>\n",
       "      <td>NaN</td>\n",
       "      <td>NaN</td>\n",
       "      <td>1.0</td>\n",
       "    </tr>\n",
       "    <tr>\n",
       "      <th>9.0</th>\n",
       "      <td>NaN</td>\n",
       "      <td>NaN</td>\n",
       "      <td>NaN</td>\n",
       "      <td>NaN</td>\n",
       "      <td>NaN</td>\n",
       "      <td>NaN</td>\n",
       "      <td>NaN</td>\n",
       "      <td>NaN</td>\n",
       "      <td>NaN</td>\n",
       "      <td>NaN</td>\n",
       "      <td>2.0</td>\n",
       "    </tr>\n",
       "    <tr>\n",
       "      <th>11.0</th>\n",
       "      <td>1.0</td>\n",
       "      <td>NaN</td>\n",
       "      <td>NaN</td>\n",
       "      <td>NaN</td>\n",
       "      <td>NaN</td>\n",
       "      <td>NaN</td>\n",
       "      <td>NaN</td>\n",
       "      <td>2.0</td>\n",
       "      <td>NaN</td>\n",
       "      <td>1.0</td>\n",
       "      <td>2.0</td>\n",
       "    </tr>\n",
       "  </tbody>\n",
       "</table>\n",
       "</div>"
      ],
      "text/plain": [
       "                year                                                          \\\n",
       "genre        Country Electronica Gospel Jazz Latin  Pop R&B  Rap Reggae Rock   \n",
       "top_position                                                                   \n",
       "1.0              NaN         NaN    NaN  NaN   1.0  NaN NaN  NaN    NaN  8.0   \n",
       "2.0              NaN         NaN    NaN  NaN   1.0  NaN NaN  1.0    NaN  3.0   \n",
       "3.0              NaN         NaN    NaN  NaN   NaN  NaN NaN  NaN    NaN  2.0   \n",
       "4.0              NaN         NaN    NaN  NaN   NaN  NaN NaN  2.0    NaN  NaN   \n",
       "5.0              NaN         NaN    NaN  NaN   NaN  1.0 NaN  1.0    NaN  2.0   \n",
       "6.0              NaN         1.0    NaN  NaN   NaN  NaN NaN  NaN    NaN  5.0   \n",
       "7.0              NaN         NaN    NaN  1.0   NaN  NaN NaN  1.0    NaN  1.0   \n",
       "8.0              NaN         NaN    NaN  NaN   NaN  NaN NaN  NaN    NaN  NaN   \n",
       "9.0              NaN         NaN    NaN  NaN   NaN  NaN NaN  NaN    NaN  NaN   \n",
       "11.0             1.0         NaN    NaN  NaN   NaN  NaN NaN  2.0    NaN  1.0   \n",
       "\n",
       "                          \n",
       "genre        Rock'n'roll  \n",
       "top_position              \n",
       "1.0                  7.0  \n",
       "2.0                  1.0  \n",
       "3.0                  2.0  \n",
       "4.0                  4.0  \n",
       "5.0                  1.0  \n",
       "6.0                  NaN  \n",
       "7.0                  1.0  \n",
       "8.0                  1.0  \n",
       "9.0                  2.0  \n",
       "11.0                 2.0  "
      ]
     },
     "execution_count": 239,
     "metadata": {},
     "output_type": "execute_result"
    }
   ],
   "source": [
    "# Show the number of songs that peaked at each position in the top 10 by genre.\n",
    "pd.pivot_table(music,index=[\"top_position\"],values=[\"year\"],columns=[\"genre\"], aggfunc=len).iloc[0:10,:]"
   ]
  },
  {
   "cell_type": "markdown",
   "metadata": {},
   "source": [
    "Rock and Rock 'n' roll have the most top 10 hits."
   ]
  },
  {
   "cell_type": "code",
   "execution_count": 240,
   "metadata": {
    "collapsed": false
   },
   "outputs": [
    {
     "name": "stdout",
     "output_type": "stream",
     "text": [
      "Ttest_1sampResult(statistic=0.68966719854981184, pvalue=0.49200083663499039)\n"
     ]
    }
   ],
   "source": [
    "# based on the bar charts, check to see if rock is more popular in terms of average position and time in charts\n",
    "# compare to the population\n",
    "\n",
    "just_rock = music[music[\"genre\"]==\"Rock\"]\n",
    "print stats.ttest_1samp(just_rock[\"weeks_in_charts\"], np.mean(music[\"weeks_in_charts\"]))\n"
   ]
  },
  {
   "cell_type": "code",
   "execution_count": 241,
   "metadata": {
    "collapsed": false
   },
   "outputs": [
    {
     "name": "stdout",
     "output_type": "stream",
     "text": [
      "Ttest_1sampResult(statistic=-1.2738287755229249, pvalue=0.20567681461030665)\n"
     ]
    }
   ],
   "source": [
    "just_rock = music[music[\"genre\"]==\"Rock\"]\n",
    "print stats.ttest_1samp(just_rock[\"top_position\"], np.mean(music[\"top_position\"]))"
   ]
  },
  {
   "cell_type": "code",
   "execution_count": 242,
   "metadata": {
    "collapsed": false
   },
   "outputs": [
    {
     "name": "stdout",
     "output_type": "stream",
     "text": [
      "Ttest_1sampResult(statistic=3.5959987234977833, pvalue=0.0011067172803410333)\n",
      "Ttest_1sampResult(statistic=-4.1399410549236046, pvalue=0.00024721836062184988)\n"
     ]
    }
   ],
   "source": [
    "# rock 'n' roll - yes!\n",
    "just_rock = music[music[\"genre\"]==\"Rock'n'roll\"]\n",
    "print stats.ttest_1samp(just_rock[\"weeks_in_charts\"], np.mean(music[\"weeks_in_charts\"]))\n",
    "just_rock = music[music[\"genre\"]==\"Rock'n'roll\"]\n",
    "print stats.ttest_1samp(just_rock[\"top_position\"], np.mean(music[\"top_position\"]))"
   ]
  },
  {
   "cell_type": "markdown",
   "metadata": {},
   "source": [
    "**This is significant**"
   ]
  },
  {
   "cell_type": "code",
   "execution_count": 243,
   "metadata": {
    "collapsed": true
   },
   "outputs": [],
   "source": [
    "# next part - given that most songs are similar length, do the extreme outliers behave differently in terms of performance\n",
    "# compare top 10% to middle 10%? two sample?"
   ]
  },
  {
   "cell_type": "code",
   "execution_count": 244,
   "metadata": {
    "collapsed": false
   },
   "outputs": [
    {
     "data": {
      "image/png": "[encoded data removed]",
      "text/plain": [
       "<matplotlib.figure.Figure at 0x135c864d0>"
      ]
     },
     "metadata": {},
     "output_type": "display_data"
    }
   ],
   "source": [
    "# fix this up a bit\n",
    "fig, ax = plt.subplots(1,2, figsize=(16,8))\n",
    "\n",
    "ax[0].scatter(music[\"length_mins\"], music[\"top_position\"],color='darkgreen', marker='^')\n",
    "ax[0].set_title(\"position\")\n",
    "ax[1].scatter(music[\"length_mins\"], music[\"weeks_in_charts\"],color='red', marker='^')\n",
    "ax[1].set_title(\"weeks_in_charts\")\n",
    "plt.show()\n",
    "\n",
    "# this suggests not much relationship but maybe extreme"
   ]
  },
  {
   "cell_type": "code",
   "execution_count": 245,
   "metadata": {
    "collapsed": true
   },
   "outputs": [],
   "source": [
    "# 1 look at pivottables with mean position, weeks in charts for buckets?  not sure how to do this\n",
    "# 2 formal hypo testing of extreme lengths"
   ]
  },
  {
   "cell_type": "code",
   "execution_count": 246,
   "metadata": {
    "collapsed": false
   },
   "outputs": [
    {
     "data": {
      "text/plain": [
       "Ttest_indResult(statistic=0.3818928973705264, pvalue=0.70403956140798307)"
      ]
     },
     "execution_count": 246,
     "metadata": {},
     "output_type": "execute_result"
    }
   ],
   "source": [
    "q45=music[\"length_mins\"].quantile(0.45)\n",
    "q55=music[\"length_mins\"].quantile(0.55)\n",
    "q90= music[\"length_mins\"].quantile(0.90)\n",
    "middle_10pct = music[(music[\"length_mins\"]>q45)&(music[\"length_mins\"]<q55)]\n",
    "top_10pct = music[music[\"length_mins\"]>q90]\n",
    "\n",
    "mean_mid10 = np.mean(middle_10pct[\"top_position\"])\n",
    "mean_top10 =np.mean(top_10pct[\"top_position\"])\n",
    "sd_mid10 = np.std(middle_10pct[\"top_position\"])\n",
    "sd_top10=np.std(top_10pct[\"top_position\"])\n",
    "n_mid10 = len(middle_10pct[\"top_position\"])\n",
    "n_top10 = len(top_10pct[\"top_position\"])\n",
    "\n",
    "\n",
    "stats.ttest_ind_from_stats(mean_mid10, sd_mid10, n_mid10, mean_top10, sd_top10, n_top10, equal_var=True)"
   ]
  },
  {
   "cell_type": "code",
   "execution_count": 247,
   "metadata": {
    "collapsed": false
   },
   "outputs": [
    {
     "data": {
      "text/plain": [
       "Ttest_indResult(statistic=0.59089306879239578, pvalue=0.55705731938805381)"
      ]
     },
     "execution_count": 247,
     "metadata": {},
     "output_type": "execute_result"
    }
   ],
   "source": [
    "mean_mid10 = np.mean(middle_10pct[\"weeks_in_charts\"])\n",
    "mean_top10 =np.mean(top_10pct[\"weeks_in_charts\"])\n",
    "sd_mid10 = np.std(middle_10pct[\"weeks_in_charts\"])\n",
    "sd_top10=np.std(top_10pct[\"weeks_in_charts\"])\n",
    "n_mid10 = len(middle_10pct[\"weeks_in_charts\"])\n",
    "n_top10 = len(top_10pct[\"weeks_in_charts\"])\n",
    "\n",
    "\n",
    "stats.ttest_ind_from_stats(mean_mid10, sd_mid10, n_mid10, mean_top10, sd_top10, n_top10, equal_var=True)"
   ]
  },
  {
   "cell_type": "code",
   "execution_count": 248,
   "metadata": {
    "collapsed": false
   },
   "outputs": [
    {
     "data": {
      "text/plain": [
       "Ttest_indResult(statistic=-0.17908533677945604, pvalue=0.85799038574116093)"
      ]
     },
     "execution_count": 248,
     "metadata": {},
     "output_type": "execute_result"
    }
   ],
   "source": [
    "# middle versus ends\n",
    "\n",
    "q25=music[\"length_mins\"].quantile(0.25)\n",
    "q75=music[\"length_mins\"].quantile(0.75)\n",
    "\n",
    "middle_50pct = music[(music[\"length_mins\"]>q25)&(music[\"length_mins\"]<q75)]\n",
    "outer_50pct = music[(music[\"length_mins\"]>q75)|(music[\"length_mins\"]<q25)]\n",
    "\n",
    "mean_mid50 = np.mean(middle_50pct[\"top_position\"])\n",
    "mean_outer50 = np.mean(outer_50pct[\"top_position\"])\n",
    "sd_mid50 = np.std(middle_50pct[\"top_position\"])\n",
    "sd_outer50 = np.std(outer_50pct[\"top_position\"])\n",
    "n_mid50 = len(middle_50pct[\"top_position\"])\n",
    "n_outer50 = len(outer_50pct[\"top_position\"])\n",
    "\n",
    "\n",
    "stats.ttest_ind_from_stats(mean_mid50, sd_mid50, n_mid50, mean_outer50, sd_outer50, n_outer50, equal_var=True)"
   ]
  },
  {
   "cell_type": "code",
   "execution_count": 249,
   "metadata": {
    "collapsed": true
   },
   "outputs": [],
   "source": [
    "# how it peaks, is there longevity for the hits in the charts?\n",
    "# highest position peak faster?\n",
    "# higher position in charts longer?\n",
    "# opening position vs final position?"
   ]
  },
  {
   "cell_type": "code",
   "execution_count": 250,
   "metadata": {
    "collapsed": false
   },
   "outputs": [
    {
     "data": {
      "text/plain": [
       "<matplotlib.axes._subplots.AxesSubplot at 0x136294690>"
      ]
     },
     "execution_count": 250,
     "metadata": {},
     "output_type": "execute_result"
    },
    {
     "data": {
      "image/png": "[encoded data removed]",
      "text/plain": [
       "<matplotlib.figure.Figure at 0x12b468fd0>"
      ]
     },
     "metadata": {},
     "output_type": "display_data"
    }
   ],
   "source": [
    "music.plot(\"top_position\",\"weeks_to_peak\",kind=\"scatter\", xlim=[0,100], ylim=[0,30], figsize=(6,6))"
   ]
  },
  {
   "cell_type": "code",
   "execution_count": 251,
   "metadata": {
    "collapsed": true
   },
   "outputs": [],
   "source": [
    "# test top 50 vs bottom 50 in terms of weeks to peak"
   ]
  },
  {
   "cell_type": "code",
   "execution_count": 252,
   "metadata": {
    "collapsed": false
   },
   "outputs": [
    {
     "data": {
      "text/plain": [
       "<matplotlib.axes._subplots.AxesSubplot at 0x135c45550>"
      ]
     },
     "execution_count": 252,
     "metadata": {},
     "output_type": "execute_result"
    },
    {
     "data": {
      "image/png": "[encoded data removed]",
      "text/plain": [
       "<matplotlib.figure.Figure at 0x136104590>"
      ]
     },
     "metadata": {},
     "output_type": "display_data"
    }
   ],
   "source": [
    "music.plot(\"top_position\", \"weeks_in_charts\", kind=\"scatter\")"
   ]
  },
  {
   "cell_type": "code",
   "execution_count": 253,
   "metadata": {
    "collapsed": true
   },
   "outputs": [],
   "source": [
    "# more popular in charts longer!  obvi\n",
    "# test top 10 versus rest get rid of this!"
   ]
  },
  {
   "cell_type": "code",
   "execution_count": 254,
   "metadata": {
    "collapsed": false
   },
   "outputs": [
    {
     "data": {
      "text/plain": [
       "<matplotlib.axes._subplots.AxesSubplot at 0x13725ec50>"
      ]
     },
     "execution_count": 254,
     "metadata": {},
     "output_type": "execute_result"
    },
    {
     "data": {
      "image/png": "[encoded data removed]",
      "text/plain": [
       "<matplotlib.figure.Figure at 0x137267750>"
      ]
     },
     "metadata": {},
     "output_type": "display_data"
    }
   ],
   "source": [
    "music.plot(\"week1\", \"top_position\", kind=\"scatter\")"
   ]
  },
  {
   "cell_type": "code",
   "execution_count": 255,
   "metadata": {
    "collapsed": false
   },
   "outputs": [
    {
     "name": "stdout",
     "output_type": "stream",
     "text": [
      "Ttest_1sampResult(statistic=-4.7239229560271481, pvalue=1.9799121206610403e-05)\n"
     ]
    }
   ],
   "source": [
    "# test if those that end in top 10 have higher starting point than the rest\n",
    "print stats.ttest_1samp(music[music[\"top_position\"]<=10][\"week1\"], np.mean(music[music[\"top_position\"]>10][\"week1\"]))\n"
   ]
  },
  {
   "cell_type": "code",
   "execution_count": null,
   "metadata": {
    "collapsed": true
   },
   "outputs": [],
   "source": []
  },
  {
   "cell_type": "code",
   "execution_count": null,
   "metadata": {
    "collapsed": true
   },
   "outputs": [],
   "source": []
  },
  {
   "cell_type": "code",
   "execution_count": null,
   "metadata": {
    "collapsed": true
   },
   "outputs": [],
   "source": []
  },
  {
   "cell_type": "markdown",
   "metadata": {
    "collapsed": true,
    "focus": false,
    "id": "a3c74c5b-3d90-4442-97d9-ae320fe238d1"
   },
   "source": [
    "## Step 6: Create a blog post with your code snippets and visualizations.\n",
    "##### Data Science is a growing field, and the Tech industry thrives off of collaboration and sharing of knowledge. Blogging is a powerful means for pushing the needle forward in our field. Using your blogging platform of choice, create a post describing each of the 5 steps above. Rather than writing a procedural text, imagine you're describing the data, visualizations, and conclusions you've arrived at to your peers. Aim for a minimum of 500 words. "
   ]
  },
  {
   "cell_type": "code",
   "execution_count": null,
   "metadata": {
    "collapsed": true,
    "focus": false,
    "id": "9b0185e4-7023-4086-b8b7-e15bcacc9984"
   },
   "outputs": [],
   "source": []
  },
  {
   "cell_type": "markdown",
   "metadata": {
    "focus": false,
    "id": "aee61cbf-dfe9-40d3-bfef-772a60bed757"
   },
   "source": [
    "## BONUS: The Content Managers working for the Podcast Publishing Company have recognized you as a thought leader in your field. They've asked you to pen a white paper (minimum 500 words) on the subject of 'What It Means To Have Clean Data'. This will be an opinion piece read by a wide audience, so be sure to back up your statements with real world examples or scenarios.\n",
    "\n",
    "##### Hint: To get started, look around on the internet for articles, blog posts, papers, youtube videos, podcasts, reddit discussions, anything that will help you understand the challenges and implications of dealing with big data. This should be a personal reflection on everything you've learned this week, and the learning goals that have been set out for you going forward. "
   ]
  },
  {
   "cell_type": "code",
   "execution_count": null,
   "metadata": {
    "collapsed": true,
    "focus": false,
    "id": "28deb393-c994-47bc-87d2-035741ce527c"
   },
   "outputs": [],
   "source": []
  }
 ],
 "metadata": {
  "kernelspec": {
   "display_name": "Python 2",
   "language": "python",
   "name": "python2"
  },
  "language_info": {
   "codemirror_mode": {
    "name": "ipython",
    "version": 2
   },
   "file_extension": ".py",
   "mimetype": "text/x-python",
   "name": "python",
   "nbconvert_exporter": "python",
   "pygments_lexer": "ipython2",
   "version": "2.7.11"
  }
 },
 "nbformat": 4,
 "nbformat_minor": 0
}
