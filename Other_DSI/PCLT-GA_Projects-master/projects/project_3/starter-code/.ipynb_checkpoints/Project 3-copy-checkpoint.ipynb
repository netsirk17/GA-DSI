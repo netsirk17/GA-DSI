{
 "cells": [
  {
   "cell_type": "code",
   "execution_count": 1,
   "metadata": {
    "collapsed": true
   },
   "outputs": [],
   "source": [
    "# load libraries\n",
    "% matplotlib inline\n",
    "\n",
    "import matplotlib.pyplot as plt\n",
    "plt.rcParams['figure.figsize'] = 6, 6\n",
    "\n",
    "import seaborn as sns\n",
    "import numpy as np\n",
    "import pandas as pd\n",
    "from sklearn import linear_model\n",
    "plt.style.use('ggplot')\n",
    "from __future__ import division \n",
    "\n",
    "from sklearn.cross_validation import cross_val_score\n",
    "from sklearn.cross_validation import cross_val_predict\n",
    "from sklearn.metrics import r2_score\n",
    "from sklearn.metrics import mean_squared_error"
   ]
  },
  {
   "cell_type": "markdown",
   "metadata": {},
   "source": [
    "## Data Cleaning"
   ]
  },
  {
   "cell_type": "code",
   "execution_count": 2,
   "metadata": {
    "collapsed": false
   },
   "outputs": [
    {
     "data": {
      "text/html": [
       "<div>\n",
       "<table border=\"1\" class=\"dataframe\">\n",
       "  <thead>\n",
       "    <tr style=\"text-align: right;\">\n",
       "      <th></th>\n",
       "      <th>Date</th>\n",
       "      <th>Store Number</th>\n",
       "      <th>City</th>\n",
       "      <th>Zip Code</th>\n",
       "      <th>County Number</th>\n",
       "      <th>County</th>\n",
       "      <th>Category</th>\n",
       "      <th>Category Name</th>\n",
       "      <th>Vendor Number</th>\n",
       "      <th>Item Number</th>\n",
       "      <th>Item Description</th>\n",
       "      <th>Bottle Volume (ml)</th>\n",
       "      <th>State Bottle Cost</th>\n",
       "      <th>State Bottle Retail</th>\n",
       "      <th>Bottles Sold</th>\n",
       "      <th>Sale (Dollars)</th>\n",
       "      <th>Volume Sold (Liters)</th>\n",
       "      <th>Volume Sold (Gallons)</th>\n",
       "    </tr>\n",
       "  </thead>\n",
       "  <tbody>\n",
       "    <tr>\n",
       "      <th>0</th>\n",
       "      <td>11/04/2015</td>\n",
       "      <td>3717</td>\n",
       "      <td>SUMNER</td>\n",
       "      <td>50674</td>\n",
       "      <td>9.0</td>\n",
       "      <td>Bremer</td>\n",
       "      <td>1051100.0</td>\n",
       "      <td>APRICOT BRANDIES</td>\n",
       "      <td>55</td>\n",
       "      <td>54436</td>\n",
       "      <td>Mr. Boston Apricot Brandy</td>\n",
       "      <td>750</td>\n",
       "      <td>$4.50</td>\n",
       "      <td>$6.75</td>\n",
       "      <td>12</td>\n",
       "      <td>$81.00</td>\n",
       "      <td>9.0</td>\n",
       "      <td>2.38</td>\n",
       "    </tr>\n",
       "    <tr>\n",
       "      <th>1</th>\n",
       "      <td>03/02/2016</td>\n",
       "      <td>2614</td>\n",
       "      <td>DAVENPORT</td>\n",
       "      <td>52807</td>\n",
       "      <td>82.0</td>\n",
       "      <td>Scott</td>\n",
       "      <td>1011100.0</td>\n",
       "      <td>BLENDED WHISKIES</td>\n",
       "      <td>395</td>\n",
       "      <td>27605</td>\n",
       "      <td>Tin Cup</td>\n",
       "      <td>750</td>\n",
       "      <td>$13.75</td>\n",
       "      <td>$20.63</td>\n",
       "      <td>2</td>\n",
       "      <td>$41.26</td>\n",
       "      <td>1.5</td>\n",
       "      <td>0.40</td>\n",
       "    </tr>\n",
       "  </tbody>\n",
       "</table>\n",
       "</div>"
      ],
      "text/plain": [
       "         Date  Store Number       City Zip Code  County Number  County  \\\n",
       "0  11/04/2015          3717     SUMNER    50674            9.0  Bremer   \n",
       "1  03/02/2016          2614  DAVENPORT    52807           82.0   Scott   \n",
       "\n",
       "    Category     Category Name  Vendor Number  Item Number  \\\n",
       "0  1051100.0  APRICOT BRANDIES             55        54436   \n",
       "1  1011100.0  BLENDED WHISKIES            395        27605   \n",
       "\n",
       "            Item Description  Bottle Volume (ml) State Bottle Cost  \\\n",
       "0  Mr. Boston Apricot Brandy                 750             $4.50   \n",
       "1                    Tin Cup                 750            $13.75   \n",
       "\n",
       "  State Bottle Retail  Bottles Sold Sale (Dollars)  Volume Sold (Liters)  \\\n",
       "0               $6.75            12         $81.00                   9.0   \n",
       "1              $20.63             2         $41.26                   1.5   \n",
       "\n",
       "   Volume Sold (Gallons)  \n",
       "0                   2.38  \n",
       "1                   0.40  "
      ]
     },
     "execution_count": 2,
     "metadata": {},
     "output_type": "execute_result"
    }
   ],
   "source": [
    "# read in df\n",
    "df=pd.read_csv(\"/Users/kristensu/Downloads/Iowa_Liquor_sales_sample_10pct.csv\", na_values=[''])\n",
    "df.head(2)"
   ]
  },
  {
   "cell_type": "code",
   "execution_count": 4,
   "metadata": {
    "collapsed": false
   },
   "outputs": [
    {
     "name": "stdout",
     "output_type": "stream",
     "text": [
      "<class 'pandas.core.frame.DataFrame'>\n",
      "RangeIndex: 270955 entries, 0 to 270954\n",
      "Data columns (total 18 columns):\n",
      "Date                     270955 non-null object\n",
      "Store Number             270955 non-null int64\n",
      "City                     270955 non-null object\n",
      "Zip Code                 270955 non-null object\n",
      "County Number            269878 non-null float64\n",
      "County                   269878 non-null object\n",
      "Category                 270887 non-null float64\n",
      "Category Name            270323 non-null object\n",
      "Vendor Number            270955 non-null int64\n",
      "Item Number              270955 non-null int64\n",
      "Item Description         270955 non-null object\n",
      "Bottle Volume (ml)       270955 non-null int64\n",
      "State Bottle Cost        270955 non-null object\n",
      "State Bottle Retail      270955 non-null object\n",
      "Bottles Sold             270955 non-null int64\n",
      "Sale (Dollars)           270955 non-null object\n",
      "Volume Sold (Liters)     270955 non-null float64\n",
      "Volume Sold (Gallons)    270955 non-null float64\n",
      "dtypes: float64(4), int64(5), object(9)\n",
      "memory usage: 37.2+ MB\n"
     ]
    }
   ],
   "source": [
    "# check formats\n",
    "df.info()\n",
    "# need to convert dates and dollars variables\n",
    "# county / item number should be strings"
   ]
  },
  {
   "cell_type": "code",
   "execution_count": 3,
   "metadata": {
    "collapsed": true
   },
   "outputs": [],
   "source": [
    "# remove unnecessary columns\n",
    "df.drop([\"County Number\", \"Volume Sold (Gallons)\", \"Category Name\"], axis=1,inplace=True)"
   ]
  },
  {
   "cell_type": "code",
   "execution_count": 4,
   "metadata": {
    "collapsed": false
   },
   "outputs": [
    {
     "data": {
      "text/html": [
       "<div>\n",
       "<table border=\"1\" class=\"dataframe\">\n",
       "  <thead>\n",
       "    <tr style=\"text-align: right;\">\n",
       "      <th></th>\n",
       "      <th>date</th>\n",
       "      <th>store</th>\n",
       "      <th>city</th>\n",
       "      <th>zip</th>\n",
       "      <th>county</th>\n",
       "      <th>category</th>\n",
       "      <th>vendor</th>\n",
       "      <th>item</th>\n",
       "      <th>item description</th>\n",
       "      <th>bottle vol ml</th>\n",
       "      <th>state bottle cost</th>\n",
       "      <th>state bottle retail</th>\n",
       "      <th>bottles sold</th>\n",
       "      <th>sale $</th>\n",
       "      <th>vol sold l</th>\n",
       "    </tr>\n",
       "  </thead>\n",
       "  <tbody>\n",
       "    <tr>\n",
       "      <th>0</th>\n",
       "      <td>11/04/2015</td>\n",
       "      <td>3717</td>\n",
       "      <td>SUMNER</td>\n",
       "      <td>50674</td>\n",
       "      <td>Bremer</td>\n",
       "      <td>1051100.0</td>\n",
       "      <td>55</td>\n",
       "      <td>54436</td>\n",
       "      <td>Mr. Boston Apricot Brandy</td>\n",
       "      <td>750</td>\n",
       "      <td>$4.50</td>\n",
       "      <td>$6.75</td>\n",
       "      <td>12</td>\n",
       "      <td>$81.00</td>\n",
       "      <td>9.0</td>\n",
       "    </tr>\n",
       "    <tr>\n",
       "      <th>1</th>\n",
       "      <td>03/02/2016</td>\n",
       "      <td>2614</td>\n",
       "      <td>DAVENPORT</td>\n",
       "      <td>52807</td>\n",
       "      <td>Scott</td>\n",
       "      <td>1011100.0</td>\n",
       "      <td>395</td>\n",
       "      <td>27605</td>\n",
       "      <td>Tin Cup</td>\n",
       "      <td>750</td>\n",
       "      <td>$13.75</td>\n",
       "      <td>$20.63</td>\n",
       "      <td>2</td>\n",
       "      <td>$41.26</td>\n",
       "      <td>1.5</td>\n",
       "    </tr>\n",
       "  </tbody>\n",
       "</table>\n",
       "</div>"
      ],
      "text/plain": [
       "         date  store       city    zip  county   category  vendor   item  \\\n",
       "0  11/04/2015   3717     SUMNER  50674  Bremer  1051100.0      55  54436   \n",
       "1  03/02/2016   2614  DAVENPORT  52807   Scott  1011100.0     395  27605   \n",
       "\n",
       "            item description  bottle vol ml state bottle cost  \\\n",
       "0  Mr. Boston Apricot Brandy            750             $4.50   \n",
       "1                    Tin Cup            750            $13.75   \n",
       "\n",
       "  state bottle retail  bottles sold  sale $  vol sold l  \n",
       "0               $6.75            12  $81.00         9.0  \n",
       "1              $20.63             2  $41.26         1.5  "
      ]
     },
     "execution_count": 4,
     "metadata": {},
     "output_type": "execute_result"
    }
   ],
   "source": [
    "# rename columns\n",
    "col_name = ['Date', 'Store', 'City', 'Zip', 'County', 'Category',\n",
    "       'Vendor', 'Item', 'Item Description',\n",
    "       'Bottle Vol ml', 'State Bottle Cost', 'State Bottle Retail',\n",
    "       'Bottles Sold', 'Sale $', 'Vol Sold L',]\n",
    "col_name = [x.lower() for x in col_name]\n",
    "df.columns = col_name\n",
    "df.head(2)"
   ]
  },
  {
   "cell_type": "code",
   "execution_count": 5,
   "metadata": {
    "collapsed": false
   },
   "outputs": [],
   "source": [
    "# convert $ to floats\n",
    "\n",
    "# convert dollars \n",
    "df[\"state bottle cost\"]=df[\"state bottle cost\"].apply(lambda x: x.strip(\"$\"))\n",
    "df[\"state bottle retail\"]=df[\"state bottle retail\"].apply(lambda x: x.strip(\"$\"))\n",
    "df[\"sale $\"]=df[\"sale $\"].apply(lambda x: x.strip(\"$\"))\n",
    "\n",
    "# convert to float\n",
    "df[\"state bottle cost\"]=df[\"state bottle cost\"].astype(float)\n",
    "df[\"state bottle retail\"]=df[\"state bottle retail\"].astype(float)\n",
    "df[\"sale $\"]=df[\"sale $\"].astype(float)"
   ]
  },
  {
   "cell_type": "code",
   "execution_count": 6,
   "metadata": {
    "collapsed": true
   },
   "outputs": [],
   "source": [
    "# convert the date to datetime\n",
    "df[\"date\"] = pd.to_datetime(df[\"date\"])"
   ]
  },
  {
   "cell_type": "code",
   "execution_count": 9,
   "metadata": {
    "collapsed": false
   },
   "outputs": [
    {
     "data": {
      "text/plain": [
       "date                      0\n",
       "store                     0\n",
       "city                      0\n",
       "zip                       0\n",
       "county                 1077\n",
       "category                 68\n",
       "vendor                    0\n",
       "item                      0\n",
       "item description          0\n",
       "bottle vol ml             0\n",
       "state bottle cost         0\n",
       "state bottle retail       0\n",
       "bottles sold              0\n",
       "sale $                    0\n",
       "vol sold l                0\n",
       "dtype: int64"
      ]
     },
     "execution_count": 9,
     "metadata": {},
     "output_type": "execute_result"
    }
   ],
   "source": [
    "# check for missingness on vars\n",
    "np.sum(df.isnull())\n",
    "# missing info for county and category"
   ]
  },
  {
   "cell_type": "code",
   "execution_count": 7,
   "metadata": {
    "collapsed": false
   },
   "outputs": [
    {
     "data": {
      "text/html": [
       "<div>\n",
       "<table border=\"1\" class=\"dataframe\">\n",
       "  <thead>\n",
       "    <tr style=\"text-align: right;\">\n",
       "      <th></th>\n",
       "      <th>city</th>\n",
       "      <th>county</th>\n",
       "    </tr>\n",
       "  </thead>\n",
       "  <tbody>\n",
       "    <tr>\n",
       "      <th>0</th>\n",
       "      <td>ACKLEY</td>\n",
       "      <td>Hardin</td>\n",
       "    </tr>\n",
       "    <tr>\n",
       "      <th>2</th>\n",
       "      <td>ADAIR</td>\n",
       "      <td>Adair</td>\n",
       "    </tr>\n",
       "    <tr>\n",
       "      <th>3</th>\n",
       "      <td>ADEL</td>\n",
       "      <td>Dallas</td>\n",
       "    </tr>\n",
       "    <tr>\n",
       "      <th>4</th>\n",
       "      <td>AFTON</td>\n",
       "      <td>Union</td>\n",
       "    </tr>\n",
       "    <tr>\n",
       "      <th>5</th>\n",
       "      <td>AKRON</td>\n",
       "      <td>Plymouth</td>\n",
       "    </tr>\n",
       "  </tbody>\n",
       "</table>\n",
       "</div>"
      ],
      "text/plain": [
       "     city    county\n",
       "0  ACKLEY    Hardin\n",
       "2   ADAIR     Adair\n",
       "3    ADEL    Dallas\n",
       "4   AFTON     Union\n",
       "5   AKRON  Plymouth"
      ]
     },
     "execution_count": 7,
     "metadata": {},
     "output_type": "execute_result"
    }
   ],
   "source": [
    "# fill in missing values for county by city - county mappings in df\n",
    "# first create dataframe of city to county mapping (there is no missingness on city)\n",
    "city_county = pd.pivot_table(df,index = [\"city\",\"county\"], values = [\"bottles sold\"], aggfunc = (len))\n",
    "city_county.reset_index(inplace = True)\n",
    "city_county.drop_duplicates(['city'], inplace=True)\n",
    "city_county.drop(\"bottles sold\", axis=1, inplace = True)\n",
    "city_county.head()"
   ]
  },
  {
   "cell_type": "code",
   "execution_count": 8,
   "metadata": {
    "collapsed": false
   },
   "outputs": [
    {
     "data": {
      "text/html": [
       "<div>\n",
       "<table border=\"1\" class=\"dataframe\">\n",
       "  <thead>\n",
       "    <tr style=\"text-align: right;\">\n",
       "      <th></th>\n",
       "      <th>date</th>\n",
       "      <th>store</th>\n",
       "      <th>city</th>\n",
       "      <th>zip</th>\n",
       "      <th>county_x</th>\n",
       "      <th>category</th>\n",
       "      <th>vendor</th>\n",
       "      <th>item</th>\n",
       "      <th>item description</th>\n",
       "      <th>bottle vol ml</th>\n",
       "      <th>state bottle cost</th>\n",
       "      <th>state bottle retail</th>\n",
       "      <th>bottles sold</th>\n",
       "      <th>sale $</th>\n",
       "      <th>vol sold l</th>\n",
       "      <th>county_y</th>\n",
       "    </tr>\n",
       "  </thead>\n",
       "  <tbody>\n",
       "    <tr>\n",
       "      <th>0</th>\n",
       "      <td>2015-11-04</td>\n",
       "      <td>3717</td>\n",
       "      <td>SUMNER</td>\n",
       "      <td>50674</td>\n",
       "      <td>Bremer</td>\n",
       "      <td>1051100.0</td>\n",
       "      <td>55</td>\n",
       "      <td>54436</td>\n",
       "      <td>Mr. Boston Apricot Brandy</td>\n",
       "      <td>750</td>\n",
       "      <td>4.5</td>\n",
       "      <td>6.75</td>\n",
       "      <td>12</td>\n",
       "      <td>81.0</td>\n",
       "      <td>9.0</td>\n",
       "      <td>Bremer</td>\n",
       "    </tr>\n",
       "  </tbody>\n",
       "</table>\n",
       "</div>"
      ],
      "text/plain": [
       "        date  store    city    zip county_x   category  vendor   item  \\\n",
       "0 2015-11-04   3717  SUMNER  50674   Bremer  1051100.0      55  54436   \n",
       "\n",
       "            item description  bottle vol ml  state bottle cost  \\\n",
       "0  Mr. Boston Apricot Brandy            750                4.5   \n",
       "\n",
       "   state bottle retail  bottles sold  sale $  vol sold l county_y  \n",
       "0                 6.75            12    81.0         9.0   Bremer  "
      ]
     },
     "execution_count": 8,
     "metadata": {},
     "output_type": "execute_result"
    }
   ],
   "source": [
    "# merge city/county pairs with dataframe to create new column \"county_y\"\n",
    "df = pd.merge(df,city_county, on = \"city\", how = \"left\")\n",
    "df.head(1)"
   ]
  },
  {
   "cell_type": "code",
   "execution_count": 9,
   "metadata": {
    "collapsed": false
   },
   "outputs": [
    {
     "data": {
      "text/plain": [
       "date                    0\n",
       "store                   0\n",
       "city                    0\n",
       "zip                     0\n",
       "county_x               12\n",
       "category               68\n",
       "vendor                  0\n",
       "item                    0\n",
       "item description        0\n",
       "bottle vol ml           0\n",
       "state bottle cost       0\n",
       "state bottle retail     0\n",
       "bottles sold            0\n",
       "sale $                  0\n",
       "vol sold l              0\n",
       "county_y               12\n",
       "dtype: int64"
      ]
     },
     "execution_count": 9,
     "metadata": {},
     "output_type": "execute_result"
    }
   ],
   "source": [
    "# if county is missing, update with county_y (county based on city)\n",
    "df['county_x'].fillna(df['county_y'], inplace=True)\n",
    "np.sum(df.isnull())"
   ]
  },
  {
   "cell_type": "code",
   "execution_count": 10,
   "metadata": {
    "collapsed": false
   },
   "outputs": [
    {
     "data": {
      "text/plain": [
       "array(['TABOR', 'SEYMOUR', 'RUNNELLS'], dtype=object)"
      ]
     },
     "execution_count": 10,
     "metadata": {},
     "output_type": "execute_result"
    }
   ],
   "source": [
    "# there are still missing county values.  check which cities are still missing county\n",
    "df[df[\"county_x\"].isnull()][\"city\"].unique()"
   ]
  },
  {
   "cell_type": "code",
   "execution_count": 11,
   "metadata": {
    "collapsed": false
   },
   "outputs": [],
   "source": [
    "# update missing counties \n",
    "def update_county(value):\n",
    "    if value ==\"TABOR\":\n",
    "        return \"Fremont\"\n",
    "    elif value ==\"SEYMOUR\":\n",
    "        return \"Wayne\"\n",
    "    elif value ==\"RUNNELLS\":\n",
    "        return \"Polk\"\n",
    "df[\"county_y\"] = df[\"city\"].apply(update_county)\n",
    "df['county_x'].fillna(df['county_y'], inplace=True)"
   ]
  },
  {
   "cell_type": "code",
   "execution_count": 12,
   "metadata": {
    "collapsed": false
   },
   "outputs": [
    {
     "data": {
      "text/plain": [
       "date                        0\n",
       "store                       0\n",
       "city                        0\n",
       "zip                         0\n",
       "county_x                    0\n",
       "category                   68\n",
       "vendor                      0\n",
       "item                        0\n",
       "item description            0\n",
       "bottle vol ml               0\n",
       "state bottle cost           0\n",
       "state bottle retail         0\n",
       "bottles sold                0\n",
       "sale $                      0\n",
       "vol sold l                  0\n",
       "county_y               270943\n",
       "dtype: int64"
      ]
     },
     "execution_count": 12,
     "metadata": {},
     "output_type": "execute_result"
    }
   ],
   "source": [
    "np.sum(df.isnull())\n",
    "# county_x is now complete!"
   ]
  },
  {
   "cell_type": "code",
   "execution_count": 13,
   "metadata": {
    "collapsed": false
   },
   "outputs": [
    {
     "data": {
      "text/plain": [
       "date                        0\n",
       "store                       0\n",
       "city                        0\n",
       "zip                         0\n",
       "county_x                    0\n",
       "category_x                 47\n",
       "vendor                      0\n",
       "item                        0\n",
       "item description            0\n",
       "bottle vol ml               0\n",
       "state bottle cost           0\n",
       "state bottle retail         0\n",
       "bottles sold                0\n",
       "sale $                      0\n",
       "vol sold l                  0\n",
       "county_y               270943\n",
       "category_y                 47\n",
       "dtype: int64"
      ]
     },
     "execution_count": 13,
     "metadata": {},
     "output_type": "execute_result"
    }
   ],
   "source": [
    "# repeat same process to impute missing category values from item\n",
    "item_category = pd.pivot_table(df,index = [\"item\",\"category\"], values = [\"bottles sold\"], aggfunc = (len))\n",
    "item_category.reset_index(inplace = True)\n",
    "item_category.drop_duplicates(['item'], inplace=True)\n",
    "item_category.drop(\"bottles sold\", axis=1, inplace = True)\n",
    "df = pd.merge(df,item_category, on = \"item\", how = \"left\")\n",
    "df['category_x'].fillna(df['category_y'], inplace=True)\n",
    "np.sum(df.isnull())"
   ]
  },
  {
   "cell_type": "code",
   "execution_count": 14,
   "metadata": {
    "collapsed": false
   },
   "outputs": [
    {
     "data": {
      "text/plain": [
       "0.01736680688686934"
      ]
     },
     "execution_count": 14,
     "metadata": {},
     "output_type": "execute_result"
    }
   ],
   "source": [
    "# missing data represents less than 0.02% of total $ sales so it will be omitted\n",
    "sum(df[df[\"category_x\"].isnull()][\"sale $\"])/ sum(df[\"sale $\"])*100"
   ]
  },
  {
   "cell_type": "code",
   "execution_count": 15,
   "metadata": {
    "collapsed": true
   },
   "outputs": [],
   "source": [
    "# drop county_y and category_y columns\n",
    "df.drop([\"county_y\",\"category_y\"], axis=1, inplace=True)"
   ]
  },
  {
   "cell_type": "code",
   "execution_count": 16,
   "metadata": {
    "collapsed": false
   },
   "outputs": [],
   "source": [
    "# rename columns\n",
    "df.rename(columns={'county_x':'county','category_x':\"category\"}, inplace=True)"
   ]
  },
  {
   "cell_type": "code",
   "execution_count": 17,
   "metadata": {
    "collapsed": true
   },
   "outputs": [],
   "source": [
    "# remove rows with missing data on category\n",
    "df.dropna(axis=0, inplace=True, how=\"any\")"
   ]
  },
  {
   "cell_type": "code",
   "execution_count": 18,
   "metadata": {
    "collapsed": false
   },
   "outputs": [],
   "source": [
    "# continue cleaning\n",
    "# update non-numeric variables as strings\n",
    "df[\"category\"] = df[\"category\"].astype(str)\n",
    "df[\"store\"] = df[\"store\"].astype(str)\n",
    "df[\"vendor\"] = df[\"vendor\"].astype(str)\n",
    "df[\"item\"] = df[\"item\"].astype(str)"
   ]
  },
  {
   "cell_type": "code",
   "execution_count": 19,
   "metadata": {
    "collapsed": false
   },
   "outputs": [
    {
     "name": "stdout",
     "output_type": "stream",
     "text": [
      "1402\n",
      "1400\n"
     ]
    }
   ],
   "source": [
    "# check that each store is consistently labeled with same location data\n",
    "print len(df.loc[:,[\"store\",\"zip\",\"city\",\"county\"]].drop_duplicates())\n",
    "print len (df[\"store\"].drop_duplicates())"
   ]
  },
  {
   "cell_type": "code",
   "execution_count": 20,
   "metadata": {
    "collapsed": false
   },
   "outputs": [
    {
     "data": {
      "text/plain": [
       "3782    2\n",
       "3591    2\n",
       "Name: store, dtype: int64"
      ]
     },
     "execution_count": 20,
     "metadata": {},
     "output_type": "execute_result"
    }
   ],
   "source": [
    "# there are two stores that are listed in two difference places\n",
    "store_info = df.loc[:,[\"store\",\"zip\",\"city\",\"county\"]].drop_duplicates()\n",
    "store_info.store.value_counts().sort_values(ascending=False).head(2)"
   ]
  },
  {
   "cell_type": "code",
   "execution_count": 21,
   "metadata": {
    "collapsed": false
   },
   "outputs": [
    {
     "data": {
      "text/html": [
       "<div>\n",
       "<table border=\"1\" class=\"dataframe\">\n",
       "  <thead>\n",
       "    <tr style=\"text-align: right;\">\n",
       "      <th></th>\n",
       "      <th>store</th>\n",
       "      <th>zip</th>\n",
       "      <th>city</th>\n",
       "      <th>county</th>\n",
       "    </tr>\n",
       "  </thead>\n",
       "  <tbody>\n",
       "    <tr>\n",
       "      <th>7574</th>\n",
       "      <td>3591</td>\n",
       "      <td>50601</td>\n",
       "      <td>ACKLEY</td>\n",
       "      <td>Webster</td>\n",
       "    </tr>\n",
       "    <tr>\n",
       "      <th>19054</th>\n",
       "      <td>3591</td>\n",
       "      <td>50601</td>\n",
       "      <td>ACKLEY</td>\n",
       "      <td>Hardin</td>\n",
       "    </tr>\n",
       "  </tbody>\n",
       "</table>\n",
       "</div>"
      ],
      "text/plain": [
       "      store    zip    city   county\n",
       "7574   3591  50601  ACKLEY  Webster\n",
       "19054  3591  50601  ACKLEY   Hardin"
      ]
     },
     "execution_count": 21,
     "metadata": {},
     "output_type": "execute_result"
    }
   ],
   "source": [
    "#store 3591 is listed twice\n",
    "store_info[store_info[\"store\"]==\"3591\"]\n",
    "# county should be hardin!"
   ]
  },
  {
   "cell_type": "code",
   "execution_count": 22,
   "metadata": {
    "collapsed": false
   },
   "outputs": [],
   "source": [
    "# update county to hardin\n",
    "df.loc[df['city'] == 'ACKLEY', 'county'] = \"Hardin\""
   ]
  },
  {
   "cell_type": "code",
   "execution_count": 23,
   "metadata": {
    "collapsed": false
   },
   "outputs": [
    {
     "data": {
      "text/html": [
       "<div>\n",
       "<table border=\"1\" class=\"dataframe\">\n",
       "  <thead>\n",
       "    <tr style=\"text-align: right;\">\n",
       "      <th></th>\n",
       "      <th>store</th>\n",
       "      <th>zip</th>\n",
       "      <th>city</th>\n",
       "      <th>county</th>\n",
       "    </tr>\n",
       "  </thead>\n",
       "  <tbody>\n",
       "    <tr>\n",
       "      <th>1227</th>\n",
       "      <td>3782</td>\n",
       "      <td>52052</td>\n",
       "      <td>GUTTENBURG</td>\n",
       "      <td>Clayton</td>\n",
       "    </tr>\n",
       "    <tr>\n",
       "      <th>23325</th>\n",
       "      <td>3782</td>\n",
       "      <td>52052</td>\n",
       "      <td>GUTTENBERG</td>\n",
       "      <td>Clayton</td>\n",
       "    </tr>\n",
       "  </tbody>\n",
       "</table>\n",
       "</div>"
      ],
      "text/plain": [
       "      store    zip        city   county\n",
       "1227   3782  52052  GUTTENBURG  Clayton\n",
       "23325  3782  52052  GUTTENBERG  Clayton"
      ]
     },
     "execution_count": 23,
     "metadata": {},
     "output_type": "execute_result"
    }
   ],
   "source": [
    "#store 3782 is listed twice\n",
    "store_info[store_info[\"store\"]==\"3782\"]\n",
    "# guttenberg is the correct spelling"
   ]
  },
  {
   "cell_type": "code",
   "execution_count": 24,
   "metadata": {
    "collapsed": true
   },
   "outputs": [],
   "source": [
    "# update entire city column in df...\n",
    "def gutten(x):\n",
    "    if x == \"GUTTENBURG\":\n",
    "        return \"GUTTENBERG\"\n",
    "    else:\n",
    "        return x\n",
    "df[\"city\"] = df[\"city\"].apply(gutten)"
   ]
  },
  {
   "cell_type": "code",
   "execution_count": 25,
   "metadata": {
    "collapsed": false
   },
   "outputs": [
    {
     "data": {
      "text/plain": [
       "1400"
      ]
     },
     "execution_count": 25,
     "metadata": {},
     "output_type": "execute_result"
    }
   ],
   "source": [
    "# re-create directory of stores, zip, city, county mapping\n",
    "store_info = df.loc[:,[\"store\",\"zip\",\"city\",\"county\"]].drop_duplicates()\n",
    "len(store_info)"
   ]
  },
  {
   "cell_type": "markdown",
   "metadata": {},
   "source": [
    "#### Create new variables of interest"
   ]
  },
  {
   "cell_type": "code",
   "execution_count": 26,
   "metadata": {
    "collapsed": true
   },
   "outputs": [],
   "source": [
    "df[\"margin\"] = df[\"state bottle retail\"] - df[\"state bottle cost\"]\n",
    "df[\"price_per_litre\"] = df[\"state bottle retail\"] / df[\"bottle vol ml\"] * 1000\n",
    "df[\"revenue\"] = df[\"margin\"]*df[\"bottles sold\"]"
   ]
  },
  {
   "cell_type": "markdown",
   "metadata": {},
   "source": [
    "## Create summary dataframes aggregating data at the store level"
   ]
  },
  {
   "cell_type": "code",
   "execution_count": 27,
   "metadata": {
    "collapsed": false
   },
   "outputs": [
    {
     "data": {
      "text/html": [
       "<div>\n",
       "<table border=\"1\" class=\"dataframe\">\n",
       "  <thead>\n",
       "    <tr style=\"text-align: right;\">\n",
       "      <th></th>\n",
       "      <th>store</th>\n",
       "      <th>min</th>\n",
       "      <th>max</th>\n",
       "    </tr>\n",
       "  </thead>\n",
       "  <tbody>\n",
       "    <tr>\n",
       "      <th>0</th>\n",
       "      <td>2106</td>\n",
       "      <td>2015-01-08</td>\n",
       "      <td>2016-03-31</td>\n",
       "    </tr>\n",
       "    <tr>\n",
       "      <th>1</th>\n",
       "      <td>2113</td>\n",
       "      <td>2015-01-07</td>\n",
       "      <td>2016-03-23</td>\n",
       "    </tr>\n",
       "    <tr>\n",
       "      <th>2</th>\n",
       "      <td>2130</td>\n",
       "      <td>2015-01-08</td>\n",
       "      <td>2016-03-31</td>\n",
       "    </tr>\n",
       "    <tr>\n",
       "      <th>3</th>\n",
       "      <td>2152</td>\n",
       "      <td>2015-01-08</td>\n",
       "      <td>2016-03-17</td>\n",
       "    </tr>\n",
       "    <tr>\n",
       "      <th>4</th>\n",
       "      <td>2178</td>\n",
       "      <td>2015-01-07</td>\n",
       "      <td>2016-03-30</td>\n",
       "    </tr>\n",
       "  </tbody>\n",
       "</table>\n",
       "</div>"
      ],
      "text/plain": [
       "  store        min        max\n",
       "0  2106 2015-01-08 2016-03-31\n",
       "1  2113 2015-01-07 2016-03-23\n",
       "2  2130 2015-01-08 2016-03-31\n",
       "3  2152 2015-01-08 2016-03-17\n",
       "4  2178 2015-01-07 2016-03-30"
      ]
     },
     "execution_count": 27,
     "metadata": {},
     "output_type": "execute_result"
    }
   ],
   "source": [
    "#calculate first and last sale date for stores to determine which ones closed / opened during time period\n",
    "store_date = df.groupby([\"store\"])[\"date\"].agg([min, max])\n",
    "store_date.reset_index(inplace=True)\n",
    "store_date.head()"
   ]
  },
  {
   "cell_type": "code",
   "execution_count": 28,
   "metadata": {
    "collapsed": true
   },
   "outputs": [],
   "source": [
    "# create columns to mark if store newly opened or closed during time period\n",
    "def store_closed(x):\n",
    "    if x <= pd.to_datetime(\"Dec 31 2015\"):\n",
    "        return 1\n",
    "    else:\n",
    "        return 0\n",
    "    \n",
    "def store_opened(x):\n",
    "    if x > pd.to_datetime(\"Mar 31 2015\"):\n",
    "        return 1\n",
    "    else:\n",
    "        return 0\n",
    "    \n",
    "store_date[\"closed\"] = store_date[\"max\"].apply(store_closed)\n",
    "store_date[\"opened\"] = store_date[\"min\"].apply(store_opened)\n",
    "store_date[\"problem\"] = store_date[\"closed\"] + store_date[\"opened\"]\n",
    "    "
   ]
  },
  {
   "cell_type": "code",
   "execution_count": 29,
   "metadata": {
    "collapsed": false
   },
   "outputs": [
    {
     "data": {
      "text/plain": [
       "217"
      ]
     },
     "execution_count": 29,
     "metadata": {},
     "output_type": "execute_result"
    }
   ],
   "source": [
    "# count the number of stores that either opened or closed between Jan 2015 and Mar 2016\n",
    "len(store_date[store_date[\"problem\"]!=0])"
   ]
  },
  {
   "cell_type": "code",
   "execution_count": 30,
   "metadata": {
    "collapsed": false
   },
   "outputs": [
    {
     "name": "stdout",
     "output_type": "stream",
     "text": [
      "3.7304635279\n"
     ]
    }
   ],
   "source": [
    "# calculate the portion of sales in df that came from opened/closed stores\n",
    "rejected_stores =list(store_date[store_date[\"problem\"]!=0][\"store\"].values)\n",
    "print sum(df[df[\"store\"].isin(rejected_stores)][\"sale $\"])/sum(df[\"sale $\"]) * 100"
   ]
  },
  {
   "cell_type": "code",
   "execution_count": 31,
   "metadata": {
    "collapsed": true
   },
   "outputs": [],
   "source": [
    "# create list of closed stores\n",
    "closed_stores =list(store_date[store_date[\"closed\"]==1][\"store\"].values)\n",
    "# create list of opened stores\n",
    "opened_stores =list(store_date[store_date[\"opened\"]==1][\"store\"].values)"
   ]
  },
  {
   "cell_type": "code",
   "execution_count": 32,
   "metadata": {
    "collapsed": false
   },
   "outputs": [
    {
     "name": "stdout",
     "output_type": "stream",
     "text": [
      "rev from closed stores: 378853.62\n",
      "rev from opened stores: 941562.19\n"
     ]
    }
   ],
   "source": [
    "print \"rev from closed stores:\", sum(df[df[\"store\"].isin(closed_stores)][\"sale $\"])\n",
    "print \"rev from opened stores:\", sum(df[df[\"store\"].isin(opened_stores)][\"sale $\"])"
   ]
  },
  {
   "cell_type": "code",
   "execution_count": 33,
   "metadata": {
    "collapsed": true
   },
   "outputs": [],
   "source": [
    "# 3.7% of sales by notional came from stores that opened or closed and will be omitted from the analysis\n",
    "# make list of \"good\" stores, which didn't open or close, to use for regression\n",
    "good_stores =list(store_date[store_date[\"problem\"]==0][\"store\"].values)\n",
    "# there are 1183 stores out of the original 1400"
   ]
  },
  {
   "cell_type": "code",
   "execution_count": 34,
   "metadata": {
    "collapsed": true
   },
   "outputs": [],
   "source": [
    "# mark df with calendar quarters and year\n",
    "def abbrev_date(x):\n",
    "    result = str(x.year)+\"-\" + str('{:02d}'.format(x.month))\n",
    "    return result\n",
    "def quarter_date(x):\n",
    "    return \"Q\"+str(x.quarter)+\"-\"+str(x.year)\n",
    "\n",
    "df[\"month_year\"] = df[\"date\"].apply(abbrev_date)\n",
    "df[\"quarter\"] = df[\"date\"].apply(quarter_date)\n",
    "df[\"year\"] = df[\"date\"].dt.year"
   ]
  },
  {
   "cell_type": "code",
   "execution_count": 35,
   "metadata": {
    "collapsed": true
   },
   "outputs": [],
   "source": [
    "# create subset of dataframe with only stores that were open for the full time period\n",
    "sub=df[df[\"store\"].isin(good_stores)]"
   ]
  },
  {
   "cell_type": "code",
   "execution_count": 61,
   "metadata": {
    "collapsed": false
   },
   "outputs": [
    {
     "data": {
      "text/html": [
       "<div>\n",
       "<table border=\"1\" class=\"dataframe\">\n",
       "  <thead>\n",
       "    <tr style=\"text-align: right;\">\n",
       "      <th></th>\n",
       "      <th>total sales 2015</th>\n",
       "      <th>total revenue 2015</th>\n",
       "    </tr>\n",
       "  </thead>\n",
       "  <tbody>\n",
       "    <tr>\n",
       "      <th>count</th>\n",
       "      <td>1.372000e+03</td>\n",
       "      <td>1372.000000</td>\n",
       "    </tr>\n",
       "    <tr>\n",
       "      <th>mean</th>\n",
       "      <td>2.078808e+04</td>\n",
       "      <td>6952.011545</td>\n",
       "    </tr>\n",
       "    <tr>\n",
       "      <th>std</th>\n",
       "      <td>5.093793e+04</td>\n",
       "      <td>17009.358816</td>\n",
       "    </tr>\n",
       "    <tr>\n",
       "      <th>min</th>\n",
       "      <td>3.902000e+01</td>\n",
       "      <td>13.340000</td>\n",
       "    </tr>\n",
       "    <tr>\n",
       "      <th>25%</th>\n",
       "      <td>3.206003e+03</td>\n",
       "      <td>1070.252500</td>\n",
       "    </tr>\n",
       "    <tr>\n",
       "      <th>50%</th>\n",
       "      <td>7.231055e+03</td>\n",
       "      <td>2417.480000</td>\n",
       "    </tr>\n",
       "    <tr>\n",
       "      <th>75%</th>\n",
       "      <td>1.935570e+04</td>\n",
       "      <td>6483.000000</td>\n",
       "    </tr>\n",
       "    <tr>\n",
       "      <th>max</th>\n",
       "      <td>1.000783e+06</td>\n",
       "      <td>333816.910000</td>\n",
       "    </tr>\n",
       "  </tbody>\n",
       "</table>\n",
       "</div>"
      ],
      "text/plain": [
       "       total sales 2015  total revenue 2015\n",
       "count      1.372000e+03         1372.000000\n",
       "mean       2.078808e+04         6952.011545\n",
       "std        5.093793e+04        17009.358816\n",
       "min        3.902000e+01           13.340000\n",
       "25%        3.206003e+03         1070.252500\n",
       "50%        7.231055e+03         2417.480000\n",
       "75%        1.935570e+04         6483.000000\n",
       "max        1.000783e+06       333816.910000"
      ]
     },
     "execution_count": 61,
     "metadata": {},
     "output_type": "execute_result"
    }
   ],
   "source": [
    "#create a df summarizing total sales and revenues in 2015 at store-level\n",
    "sum_2015 = df[df[\"year\"]==2015].groupby([\"store\"])[\"sale $\",\"revenue\"].agg(np.sum)\n",
    "sum_2015.columns = [\"total sales 2015\",\"total revenue 2015\"]\n",
    "sum_2015.reset_index(inplace=True)\n",
    "sum_2015.describe()"
   ]
  },
  {
   "cell_type": "code",
   "execution_count": 55,
   "metadata": {
    "collapsed": false
   },
   "outputs": [
    {
     "data": {
      "text/html": [
       "<div>\n",
       "<table border=\"1\" class=\"dataframe\">\n",
       "  <thead>\n",
       "    <tr style=\"text-align: right;\">\n",
       "      <th></th>\n",
       "      <th>sale $</th>\n",
       "      <th>revenue</th>\n",
       "    </tr>\n",
       "  </thead>\n",
       "  <tbody>\n",
       "    <tr>\n",
       "      <th>0</th>\n",
       "      <td>81.00</td>\n",
       "      <td>27.00</td>\n",
       "    </tr>\n",
       "    <tr>\n",
       "      <th>1</th>\n",
       "      <td>41.26</td>\n",
       "      <td>13.76</td>\n",
       "    </tr>\n",
       "    <tr>\n",
       "      <th>2</th>\n",
       "      <td>453.36</td>\n",
       "      <td>151.20</td>\n",
       "    </tr>\n",
       "  </tbody>\n",
       "</table>\n",
       "</div>"
      ],
      "text/plain": [
       "   sale $  revenue\n",
       "0   81.00    27.00\n",
       "1   41.26    13.76\n",
       "2  453.36   151.20"
      ]
     },
     "execution_count": 55,
     "metadata": {},
     "output_type": "execute_result"
    }
   ],
   "source": [
    "df[['sale $', 'revenue']].head(3)"
   ]
  },
  {
   "cell_type": "code",
   "execution_count": 56,
   "metadata": {
    "collapsed": false
   },
   "outputs": [
    {
     "data": {
      "text/html": [
       "<div>\n",
       "<table border=\"1\" class=\"dataframe\">\n",
       "  <thead>\n",
       "    <tr style=\"text-align: right;\">\n",
       "      <th></th>\n",
       "      <th>margin</th>\n",
       "      <th>revenue</th>\n",
       "    </tr>\n",
       "  </thead>\n",
       "  <tbody>\n",
       "    <tr>\n",
       "      <th>0</th>\n",
       "      <td>2.25</td>\n",
       "      <td>27.00</td>\n",
       "    </tr>\n",
       "    <tr>\n",
       "      <th>1</th>\n",
       "      <td>6.88</td>\n",
       "      <td>13.76</td>\n",
       "    </tr>\n",
       "    <tr>\n",
       "      <th>2</th>\n",
       "      <td>6.30</td>\n",
       "      <td>151.20</td>\n",
       "    </tr>\n",
       "  </tbody>\n",
       "</table>\n",
       "</div>"
      ],
      "text/plain": [
       "   margin  revenue\n",
       "0    2.25    27.00\n",
       "1    6.88    13.76\n",
       "2    6.30   151.20"
      ]
     },
     "execution_count": 56,
     "metadata": {},
     "output_type": "execute_result"
    }
   ],
   "source": [
    "df[['margin', 'revenue']].head(3)"
   ]
  },
  {
   "cell_type": "code",
   "execution_count": 37,
   "metadata": {
    "collapsed": false
   },
   "outputs": [
    {
     "name": "stdout",
     "output_type": "stream",
     "text": [
      "1372\n"
     ]
    },
    {
     "data": {
      "text/html": [
       "<div>\n",
       "<table border=\"1\" class=\"dataframe\">\n",
       "  <thead>\n",
       "    <tr style=\"text-align: right;\">\n",
       "      <th></th>\n",
       "      <th>ave margin 2015</th>\n",
       "      <th>ave revenue 2015</th>\n",
       "      <th>ave price/L 2015</th>\n",
       "    </tr>\n",
       "  </thead>\n",
       "  <tbody>\n",
       "    <tr>\n",
       "      <th>count</th>\n",
       "      <td>1372.000000</td>\n",
       "      <td>1372.000000</td>\n",
       "      <td>1372.000000</td>\n",
       "    </tr>\n",
       "    <tr>\n",
       "      <th>mean</th>\n",
       "      <td>4.549996</td>\n",
       "      <td>42.133186</td>\n",
       "      <td>17.247949</td>\n",
       "    </tr>\n",
       "    <tr>\n",
       "      <th>std</th>\n",
       "      <td>1.109763</td>\n",
       "      <td>68.387801</td>\n",
       "      <td>4.354880</td>\n",
       "    </tr>\n",
       "    <tr>\n",
       "      <th>min</th>\n",
       "      <td>1.250000</td>\n",
       "      <td>5.936667</td>\n",
       "      <td>8.081667</td>\n",
       "    </tr>\n",
       "    <tr>\n",
       "      <th>25%</th>\n",
       "      <td>3.924090</td>\n",
       "      <td>25.092803</td>\n",
       "      <td>14.875187</td>\n",
       "    </tr>\n",
       "    <tr>\n",
       "      <th>50%</th>\n",
       "      <td>4.517941</td>\n",
       "      <td>34.623304</td>\n",
       "      <td>16.702359</td>\n",
       "    </tr>\n",
       "    <tr>\n",
       "      <th>75%</th>\n",
       "      <td>5.088171</td>\n",
       "      <td>47.643688</td>\n",
       "      <td>18.864304</td>\n",
       "    </tr>\n",
       "    <tr>\n",
       "      <th>max</th>\n",
       "      <td>22.500000</td>\n",
       "      <td>2145.000000</td>\n",
       "      <td>89.986667</td>\n",
       "    </tr>\n",
       "  </tbody>\n",
       "</table>\n",
       "</div>"
      ],
      "text/plain": [
       "       ave margin 2015  ave revenue 2015  ave price/L 2015\n",
       "count      1372.000000       1372.000000       1372.000000\n",
       "mean          4.549996         42.133186         17.247949\n",
       "std           1.109763         68.387801          4.354880\n",
       "min           1.250000          5.936667          8.081667\n",
       "25%           3.924090         25.092803         14.875187\n",
       "50%           4.517941         34.623304         16.702359\n",
       "75%           5.088171         47.643688         18.864304\n",
       "max          22.500000       2145.000000         89.986667"
      ]
     },
     "execution_count": 37,
     "metadata": {},
     "output_type": "execute_result"
    }
   ],
   "source": [
    "#create a df summarizing mean margin, revenue, price/L for 2015\n",
    "mean_2015 = df[df[\"year\"]==2015].groupby([\"store\"])[\"margin\",\"revenue\",\"price_per_litre\"].agg(np.mean)\n",
    "mean_2015.columns = [\"ave margin 2015\",\"ave revenue 2015\",\"ave price/L 2015\"]\n",
    "mean_2015.reset_index(inplace=True)\n",
    "print len(mean_2015)\n",
    "mean_2015.describe()"
   ]
  },
  {
   "cell_type": "code",
   "execution_count": 57,
   "metadata": {
    "collapsed": false
   },
   "outputs": [
    {
     "data": {
      "text/html": [
       "<div>\n",
       "<table border=\"1\" class=\"dataframe\">\n",
       "  <thead>\n",
       "    <tr style=\"text-align: right;\">\n",
       "      <th></th>\n",
       "      <th>num of days 2015</th>\n",
       "    </tr>\n",
       "  </thead>\n",
       "  <tbody>\n",
       "    <tr>\n",
       "      <th>count</th>\n",
       "      <td>1372.000000</td>\n",
       "    </tr>\n",
       "    <tr>\n",
       "      <th>mean</th>\n",
       "      <td>31.852770</td>\n",
       "    </tr>\n",
       "    <tr>\n",
       "      <th>std</th>\n",
       "      <td>19.245397</td>\n",
       "    </tr>\n",
       "    <tr>\n",
       "      <th>min</th>\n",
       "      <td>1.000000</td>\n",
       "    </tr>\n",
       "    <tr>\n",
       "      <th>25%</th>\n",
       "      <td>15.000000</td>\n",
       "    </tr>\n",
       "    <tr>\n",
       "      <th>50%</th>\n",
       "      <td>34.000000</td>\n",
       "    </tr>\n",
       "    <tr>\n",
       "      <th>75%</th>\n",
       "      <td>48.000000</td>\n",
       "    </tr>\n",
       "    <tr>\n",
       "      <th>max</th>\n",
       "      <td>198.000000</td>\n",
       "    </tr>\n",
       "  </tbody>\n",
       "</table>\n",
       "</div>"
      ],
      "text/plain": [
       "       num of days 2015\n",
       "count       1372.000000\n",
       "mean          31.852770\n",
       "std           19.245397\n",
       "min            1.000000\n",
       "25%           15.000000\n",
       "50%           34.000000\n",
       "75%           48.000000\n",
       "max          198.000000"
      ]
     },
     "execution_count": 57,
     "metadata": {},
     "output_type": "execute_result"
    }
   ],
   "source": [
    "# calculate number of days each store was open in 2015\n",
    "temp = df.loc[:,[\"store\",\"date\",\"year\",\"quarter\"]]\n",
    "temp.drop_duplicates([\"store\",\"date\"], inplace = True)\n",
    "temp.sort_values(\"store\").head()\n",
    "days_2015 = temp[temp[\"year\"]==2015].groupby([\"store\"])[\"date\"].agg([len])\n",
    "days_2015.reset_index(inplace=True)\n",
    "days_2015.columns = [\"store\",\"num of days 2015\"]\n",
    "days_2015[\"num of days 2015\"] = days_2015[\"num of days 2015\"].astype(int)\n",
    "days_2015.describe()"
   ]
  },
  {
   "cell_type": "code",
   "execution_count": 40,
   "metadata": {
    "collapsed": false
   },
   "outputs": [],
   "source": [
    "# merge the data for full year 2015\n",
    "data_2015 = store_info\n",
    "data_2015 = data_2015.merge(sum_2015,on=\"store\",how=\"left\").merge(mean_2015,on=\"store\",how=\"left\")\\\n",
    ".merge(days_2015,on=\"store\",how=\"left\")"
   ]
  },
  {
   "cell_type": "code",
   "execution_count": 41,
   "metadata": {
    "collapsed": false
   },
   "outputs": [
    {
     "data": {
      "text/html": [
       "<div>\n",
       "<table border=\"1\" class=\"dataframe\">\n",
       "  <thead>\n",
       "    <tr style=\"text-align: right;\">\n",
       "      <th></th>\n",
       "      <th>store</th>\n",
       "      <th>zip</th>\n",
       "      <th>city</th>\n",
       "      <th>county</th>\n",
       "      <th>total sales 2015</th>\n",
       "      <th>total revenue 2015</th>\n",
       "      <th>ave margin 2015</th>\n",
       "      <th>ave revenue 2015</th>\n",
       "      <th>ave price/L 2015</th>\n",
       "      <th>num of days 2015</th>\n",
       "    </tr>\n",
       "  </thead>\n",
       "  <tbody>\n",
       "    <tr>\n",
       "      <th>0</th>\n",
       "      <td>3717</td>\n",
       "      <td>50674</td>\n",
       "      <td>SUMNER</td>\n",
       "      <td>Bremer</td>\n",
       "      <td>9022.86</td>\n",
       "      <td>3011.02</td>\n",
       "      <td>5.103779</td>\n",
       "      <td>11.492443</td>\n",
       "      <td>16.160863</td>\n",
       "      <td>50.0</td>\n",
       "    </tr>\n",
       "    <tr>\n",
       "      <th>1</th>\n",
       "      <td>2614</td>\n",
       "      <td>52807</td>\n",
       "      <td>DAVENPORT</td>\n",
       "      <td>Scott</td>\n",
       "      <td>142675.29</td>\n",
       "      <td>47695.76</td>\n",
       "      <td>5.232396</td>\n",
       "      <td>46.261649</td>\n",
       "      <td>19.230677</td>\n",
       "      <td>52.0</td>\n",
       "    </tr>\n",
       "    <tr>\n",
       "      <th>2</th>\n",
       "      <td>2106</td>\n",
       "      <td>50613</td>\n",
       "      <td>CEDAR FALLS</td>\n",
       "      <td>Black Hawk</td>\n",
       "      <td>146326.22</td>\n",
       "      <td>48838.08</td>\n",
       "      <td>5.166319</td>\n",
       "      <td>92.671879</td>\n",
       "      <td>17.856601</td>\n",
       "      <td>52.0</td>\n",
       "    </tr>\n",
       "    <tr>\n",
       "      <th>3</th>\n",
       "      <td>2501</td>\n",
       "      <td>50010</td>\n",
       "      <td>AMES</td>\n",
       "      <td>Story</td>\n",
       "      <td>144833.66</td>\n",
       "      <td>48430.73</td>\n",
       "      <td>5.003607</td>\n",
       "      <td>37.806971</td>\n",
       "      <td>18.840306</td>\n",
       "      <td>52.0</td>\n",
       "    </tr>\n",
       "    <tr>\n",
       "      <th>4</th>\n",
       "      <td>3654</td>\n",
       "      <td>50421</td>\n",
       "      <td>BELMOND</td>\n",
       "      <td>Wright</td>\n",
       "      <td>9479.30</td>\n",
       "      <td>3163.70</td>\n",
       "      <td>5.120597</td>\n",
       "      <td>47.219403</td>\n",
       "      <td>13.459161</td>\n",
       "      <td>39.0</td>\n",
       "    </tr>\n",
       "  </tbody>\n",
       "</table>\n",
       "</div>"
      ],
      "text/plain": [
       "  store    zip         city      county  total sales 2015  total revenue 2015  \\\n",
       "0  3717  50674       SUMNER      Bremer           9022.86             3011.02   \n",
       "1  2614  52807    DAVENPORT       Scott         142675.29            47695.76   \n",
       "2  2106  50613  CEDAR FALLS  Black Hawk         146326.22            48838.08   \n",
       "3  2501  50010         AMES       Story         144833.66            48430.73   \n",
       "4  3654  50421      BELMOND      Wright           9479.30             3163.70   \n",
       "\n",
       "   ave margin 2015  ave revenue 2015  ave price/L 2015  num of days 2015  \n",
       "0         5.103779         11.492443         16.160863              50.0  \n",
       "1         5.232396         46.261649         19.230677              52.0  \n",
       "2         5.166319         92.671879         17.856601              52.0  \n",
       "3         5.003607         37.806971         18.840306              52.0  \n",
       "4         5.120597         47.219403         13.459161              39.0  "
      ]
     },
     "execution_count": 41,
     "metadata": {},
     "output_type": "execute_result"
    }
   ],
   "source": [
    "data_2015.head()"
   ]
  },
  {
   "cell_type": "code",
   "execution_count": 43,
   "metadata": {
    "collapsed": false
   },
   "outputs": [
    {
     "data": {
      "text/plain": [
       "1400"
      ]
     },
     "execution_count": 43,
     "metadata": {},
     "output_type": "execute_result"
    }
   ],
   "source": [
    "#check length\n",
    "len(data_2015)"
   ]
  },
  {
   "cell_type": "code",
   "execution_count": 42,
   "metadata": {
    "collapsed": false
   },
   "outputs": [],
   "source": [
    "# add ave $ per day\n",
    "data_2015[\"ave $/day 2015\"] = data_2015[\"total sales 2015\"] / data_2015[\"num of days 2015\"]"
   ]
  },
  {
   "cell_type": "code",
   "execution_count": 43,
   "metadata": {
    "collapsed": false
   },
   "outputs": [],
   "source": [
    "# create same df for Q1 2015"
   ]
  },
  {
   "cell_type": "code",
   "execution_count": 44,
   "metadata": {
    "collapsed": false
   },
   "outputs": [],
   "source": [
    "sum_2015Q1 = df[df[\"quarter\"]==\"Q1-2015\"].groupby([\"store\"])[\"sale $\",\"revenue\"].agg(np.sum)\n",
    "sum_2015Q1.columns = [\"total sales 2015 Q1\",\"total revenue 2015 Q1\"]\n",
    "sum_2015Q1.reset_index(inplace=True)"
   ]
  },
  {
   "cell_type": "code",
   "execution_count": 45,
   "metadata": {
    "collapsed": false
   },
   "outputs": [],
   "source": [
    "mean_2015Q1 = df[df[\"quarter\"]==\"Q1-2015\"].groupby([\"store\"])[\"margin\",\"revenue\",\"price_per_litre\"].agg(np.mean)\n",
    "mean_2015Q1.columns = [\"ave margin 2015 Q1\",\"ave revenue 2015 Q1\",\"ave price/L 2015 Q1\"]\n",
    "mean_2015Q1.reset_index(inplace=True)"
   ]
  },
  {
   "cell_type": "code",
   "execution_count": 46,
   "metadata": {
    "collapsed": false
   },
   "outputs": [],
   "source": [
    "days_2015Q1 = temp[temp[\"quarter\"]==\"Q1-2015\"].groupby([\"store\"])[\"date\"].agg([len])\n",
    "days_2015Q1.reset_index(inplace=True)\n",
    "days_2015Q1.columns = [\"store\",\"num of days 2015 Q1\"]\n",
    "days_2015Q1[\"num of days 2015 Q1\"] = days_2015Q1[\"num of days 2015 Q1\"].astype(int)"
   ]
  },
  {
   "cell_type": "code",
   "execution_count": 47,
   "metadata": {
    "collapsed": false
   },
   "outputs": [],
   "source": [
    "# merge the data for Q1 2015\n",
    "data_2015Q1 = store_info\n",
    "data_2015Q1 = data_2015Q1.merge(sum_2015Q1,on=\"store\",how=\"left\").merge(mean_2015Q1,on=\"store\",how=\"left\")\\\n",
    ".merge(days_2015Q1,on=\"store\",how=\"left\")"
   ]
  },
  {
   "cell_type": "code",
   "execution_count": 48,
   "metadata": {
    "collapsed": false
   },
   "outputs": [
    {
     "data": {
      "text/plain": [
       "1400"
      ]
     },
     "execution_count": 48,
     "metadata": {},
     "output_type": "execute_result"
    }
   ],
   "source": [
    "#check length\n",
    "len(data_2015Q1)"
   ]
  },
  {
   "cell_type": "code",
   "execution_count": 49,
   "metadata": {
    "collapsed": false
   },
   "outputs": [],
   "source": [
    "# add ave $ per day\n",
    "data_2015Q1[\"ave $/day 2015 Q1\"] = data_2015Q1[\"total sales 2015 Q1\"] / data_2015Q1[\"num of days 2015 Q1\"]"
   ]
  },
  {
   "cell_type": "code",
   "execution_count": 50,
   "metadata": {
    "collapsed": false
   },
   "outputs": [],
   "source": [
    "# create df for Q1 2016\n",
    "sum_2016Q1 = df[df[\"quarter\"]==\"Q1-2016\"].groupby([\"store\"])[\"sale $\",\"revenue\"].agg(np.sum)\n",
    "sum_2016Q1.columns = [\"total sales 2016 Q1\",\"total revenue 2016 Q1\"]\n",
    "sum_2016Q1.reset_index(inplace=True)\n",
    "\n",
    "mean_2016Q1 = df[df[\"quarter\"]==\"Q1-2016\"].groupby([\"store\"])[\"margin\",\"revenue\",\"price_per_litre\"].agg(np.mean)\n",
    "mean_2016Q1.columns = [\"ave margin 2016 Q1\",\"ave revenue 2016 Q1\",\"ave price/L 2016 Q1\"]\n",
    "mean_2016Q1.reset_index(inplace=True)\n",
    "\n",
    "days_2016Q1 = temp[temp[\"quarter\"]==\"Q1-2016\"].groupby([\"store\"])[\"date\"].agg([len])\n",
    "days_2016Q1.reset_index(inplace=True)\n",
    "days_2016Q1.columns = [\"store\",\"num of days 2016 Q1\"]\n",
    "days_2016Q1[\"num of days 2016 Q1\"] = days_2016Q1[\"num of days 2016 Q1\"].astype(int)\n",
    "\n",
    "# merge the data for Q1 2015\n",
    "data_2016Q1 = store_info\n",
    "data_2016Q1 = data_2016Q1.merge(sum_2016Q1,on=\"store\",how=\"left\").merge(mean_2016Q1,on=\"store\",how=\"left\")\\\n",
    ".merge(days_2016Q1,on=\"store\",how=\"left\")\n",
    "\n",
    "# add ave $ per day\n",
    "data_2016Q1[\"ave $/day 2016 Q1\"] = data_2016Q1[\"total sales 2016 Q1\"] / data_2016Q1[\"num of days 2016 Q1\"]\n"
   ]
  },
  {
   "cell_type": "code",
   "execution_count": 51,
   "metadata": {
    "collapsed": false
   },
   "outputs": [],
   "source": [
    "# merge summary store-level data from 2015, Q1 2015 and Q1 2016\n",
    "stores_data = data_2015.merge(data_2015Q1,on=[\"store\",\"zip\",\"county\",\"city\"], how =\"left\")\\\n",
    ".merge(data_2016Q1,on=[\"store\",\"zip\",\"county\",\"city\"], how =\"left\")\n",
    "\n",
    "stores_data[\"sales 2015 Q2-Q4\"] = stores_data[\"total sales 2015\"] - stores_data[\"total sales 2015 Q1\"]"
   ]
  },
  {
   "cell_type": "code",
   "execution_count": 52,
   "metadata": {
    "collapsed": false
   },
   "outputs": [
    {
     "data": {
      "text/html": [
       "<div>\n",
       "<table border=\"1\" class=\"dataframe\">\n",
       "  <thead>\n",
       "    <tr style=\"text-align: right;\">\n",
       "      <th></th>\n",
       "      <th>store</th>\n",
       "      <th>zip</th>\n",
       "      <th>city</th>\n",
       "      <th>county</th>\n",
       "      <th>total sales 2015</th>\n",
       "      <th>total revenue 2015</th>\n",
       "      <th>ave margin 2015</th>\n",
       "      <th>ave revenue 2015</th>\n",
       "      <th>ave price/L 2015</th>\n",
       "      <th>num of days 2015</th>\n",
       "      <th>...</th>\n",
       "      <th>num of days 2015 Q1</th>\n",
       "      <th>ave $/day 2015 Q1</th>\n",
       "      <th>total sales 2016 Q1</th>\n",
       "      <th>total revenue 2016 Q1</th>\n",
       "      <th>ave margin 2016 Q1</th>\n",
       "      <th>ave revenue 2016 Q1</th>\n",
       "      <th>ave price/L 2016 Q1</th>\n",
       "      <th>num of days 2016 Q1</th>\n",
       "      <th>ave $/day 2016 Q1</th>\n",
       "      <th>sales 2015 Q2-Q4</th>\n",
       "    </tr>\n",
       "  </thead>\n",
       "  <tbody>\n",
       "    <tr>\n",
       "      <th>0</th>\n",
       "      <td>3717</td>\n",
       "      <td>50674</td>\n",
       "      <td>SUMNER</td>\n",
       "      <td>Bremer</td>\n",
       "      <td>9022.86</td>\n",
       "      <td>3011.02</td>\n",
       "      <td>5.103779</td>\n",
       "      <td>11.492443</td>\n",
       "      <td>16.160863</td>\n",
       "      <td>50.0</td>\n",
       "      <td>...</td>\n",
       "      <td>11.0</td>\n",
       "      <td>143.920909</td>\n",
       "      <td>2510.46</td>\n",
       "      <td>837.57</td>\n",
       "      <td>5.455972</td>\n",
       "      <td>11.632917</td>\n",
       "      <td>16.519868</td>\n",
       "      <td>13.0</td>\n",
       "      <td>193.112308</td>\n",
       "      <td>7439.73</td>\n",
       "    </tr>\n",
       "    <tr>\n",
       "      <th>1</th>\n",
       "      <td>2614</td>\n",
       "      <td>52807</td>\n",
       "      <td>DAVENPORT</td>\n",
       "      <td>Scott</td>\n",
       "      <td>142675.29</td>\n",
       "      <td>47695.76</td>\n",
       "      <td>5.232396</td>\n",
       "      <td>46.261649</td>\n",
       "      <td>19.230677</td>\n",
       "      <td>52.0</td>\n",
       "      <td>...</td>\n",
       "      <td>12.0</td>\n",
       "      <td>2688.343333</td>\n",
       "      <td>39097.17</td>\n",
       "      <td>13043.36</td>\n",
       "      <td>5.080291</td>\n",
       "      <td>47.430400</td>\n",
       "      <td>19.444642</td>\n",
       "      <td>13.0</td>\n",
       "      <td>3007.474615</td>\n",
       "      <td>110415.17</td>\n",
       "    </tr>\n",
       "    <tr>\n",
       "      <th>2</th>\n",
       "      <td>2106</td>\n",
       "      <td>50613</td>\n",
       "      <td>CEDAR FALLS</td>\n",
       "      <td>Black Hawk</td>\n",
       "      <td>146326.22</td>\n",
       "      <td>48838.08</td>\n",
       "      <td>5.166319</td>\n",
       "      <td>92.671879</td>\n",
       "      <td>17.856601</td>\n",
       "      <td>52.0</td>\n",
       "      <td>...</td>\n",
       "      <td>12.0</td>\n",
       "      <td>3273.940833</td>\n",
       "      <td>30523.75</td>\n",
       "      <td>10189.68</td>\n",
       "      <td>5.214646</td>\n",
       "      <td>80.233701</td>\n",
       "      <td>18.064496</td>\n",
       "      <td>13.0</td>\n",
       "      <td>2347.980769</td>\n",
       "      <td>107038.93</td>\n",
       "    </tr>\n",
       "    <tr>\n",
       "      <th>3</th>\n",
       "      <td>2501</td>\n",
       "      <td>50010</td>\n",
       "      <td>AMES</td>\n",
       "      <td>Story</td>\n",
       "      <td>144833.66</td>\n",
       "      <td>48430.73</td>\n",
       "      <td>5.003607</td>\n",
       "      <td>37.806971</td>\n",
       "      <td>18.840306</td>\n",
       "      <td>52.0</td>\n",
       "      <td>...</td>\n",
       "      <td>12.0</td>\n",
       "      <td>2617.745833</td>\n",
       "      <td>29980.54</td>\n",
       "      <td>10006.65</td>\n",
       "      <td>4.746507</td>\n",
       "      <td>36.789154</td>\n",
       "      <td>18.135647</td>\n",
       "      <td>13.0</td>\n",
       "      <td>2306.195385</td>\n",
       "      <td>113420.71</td>\n",
       "    </tr>\n",
       "    <tr>\n",
       "      <th>4</th>\n",
       "      <td>3654</td>\n",
       "      <td>50421</td>\n",
       "      <td>BELMOND</td>\n",
       "      <td>Wright</td>\n",
       "      <td>9479.30</td>\n",
       "      <td>3163.70</td>\n",
       "      <td>5.120597</td>\n",
       "      <td>47.219403</td>\n",
       "      <td>13.459161</td>\n",
       "      <td>39.0</td>\n",
       "      <td>...</td>\n",
       "      <td>10.0</td>\n",
       "      <td>231.242000</td>\n",
       "      <td>2394.38</td>\n",
       "      <td>798.50</td>\n",
       "      <td>5.809167</td>\n",
       "      <td>33.270833</td>\n",
       "      <td>17.515516</td>\n",
       "      <td>12.0</td>\n",
       "      <td>199.531667</td>\n",
       "      <td>7166.88</td>\n",
       "    </tr>\n",
       "  </tbody>\n",
       "</table>\n",
       "<p>5 rows × 26 columns</p>\n",
       "</div>"
      ],
      "text/plain": [
       "  store    zip         city      county  total sales 2015  total revenue 2015  \\\n",
       "0  3717  50674       SUMNER      Bremer           9022.86             3011.02   \n",
       "1  2614  52807    DAVENPORT       Scott         142675.29            47695.76   \n",
       "2  2106  50613  CEDAR FALLS  Black Hawk         146326.22            48838.08   \n",
       "3  2501  50010         AMES       Story         144833.66            48430.73   \n",
       "4  3654  50421      BELMOND      Wright           9479.30             3163.70   \n",
       "\n",
       "   ave margin 2015  ave revenue 2015  ave price/L 2015  num of days 2015  \\\n",
       "0         5.103779         11.492443         16.160863              50.0   \n",
       "1         5.232396         46.261649         19.230677              52.0   \n",
       "2         5.166319         92.671879         17.856601              52.0   \n",
       "3         5.003607         37.806971         18.840306              52.0   \n",
       "4         5.120597         47.219403         13.459161              39.0   \n",
       "\n",
       "         ...         num of days 2015 Q1  ave $/day 2015 Q1  \\\n",
       "0        ...                        11.0         143.920909   \n",
       "1        ...                        12.0        2688.343333   \n",
       "2        ...                        12.0        3273.940833   \n",
       "3        ...                        12.0        2617.745833   \n",
       "4        ...                        10.0         231.242000   \n",
       "\n",
       "   total sales 2016 Q1  total revenue 2016 Q1  ave margin 2016 Q1  \\\n",
       "0              2510.46                 837.57            5.455972   \n",
       "1             39097.17               13043.36            5.080291   \n",
       "2             30523.75               10189.68            5.214646   \n",
       "3             29980.54               10006.65            4.746507   \n",
       "4              2394.38                 798.50            5.809167   \n",
       "\n",
       "   ave revenue 2016 Q1  ave price/L 2016 Q1  num of days 2016 Q1  \\\n",
       "0            11.632917            16.519868                 13.0   \n",
       "1            47.430400            19.444642                 13.0   \n",
       "2            80.233701            18.064496                 13.0   \n",
       "3            36.789154            18.135647                 13.0   \n",
       "4            33.270833            17.515516                 12.0   \n",
       "\n",
       "   ave $/day 2016 Q1  sales 2015 Q2-Q4  \n",
       "0         193.112308           7439.73  \n",
       "1        3007.474615         110415.17  \n",
       "2        2347.980769         107038.93  \n",
       "3        2306.195385         113420.71  \n",
       "4         199.531667           7166.88  \n",
       "\n",
       "[5 rows x 26 columns]"
      ]
     },
     "execution_count": 52,
     "metadata": {},
     "output_type": "execute_result"
    }
   ],
   "source": [
    "stores_data.head()"
   ]
  },
  {
   "cell_type": "markdown",
   "metadata": {},
   "source": [
    "### Data Visualization and Exploration"
   ]
  },
  {
   "cell_type": "code",
   "execution_count": 244,
   "metadata": {
    "collapsed": false
   },
   "outputs": [
    {
     "data": {
      "text/plain": [
       "<matplotlib.figure.Figure at 0x11f554890>"
      ]
     },
     "metadata": {},
     "output_type": "display_data"
    },
    {
     "data": {
      "image/png": "[encoded data removed]",
      "text/plain": [
       "<matplotlib.figure.Figure at 0x11f4ad990>"
      ]
     },
     "metadata": {},
     "output_type": "display_data"
    }
   ],
   "source": [
    "# plot sales by quarter 2015\n",
    "quarter_sales = df[df[\"year\"]==2015].groupby([\"quarter\"])[\"sale $\"].agg([np.sum])\n",
    "quarter_sales.columns = [\"Total $ Sales\"]\n",
    "quarter_sales = quarter_sales.applymap(lambda x: x/100000)\n",
    "fig = plt.figure(figsize= (10,10)) \n",
    "ax = quarter_sales.plot(kind=\"bar\")\n",
    "plt.title(\"2015 Sales by Quarter\", y=1.08, fontsize=30)\n",
    "ax.set_xlabel('Quarter',fontsize = 20)\n",
    "ax.set_ylabel('$ Sales (mm)', fontsize = 20)\n",
    "plt.tick_params(axis='both', which='major', labelsize=20)\n",
    "locs, labels = plt.xticks()\n",
    "plt.setp(labels, rotation=0)\n",
    "ax.legend(loc=2,prop={'size':16})\n",
    "\n",
    "plt.show()"
   ]
  },
  {
   "cell_type": "code",
   "execution_count": 54,
   "metadata": {
    "collapsed": false
   },
   "outputs": [],
   "source": [
    "col_list= ['total sales 2015','total sales 2015 Q1', 'total margin 2015 Q1', 'ave margin 2015 Q1',\n",
    "       'ave revenue 2015 Q1', 'ave price/L 2015 Q1', 'num of days 2015 Q1',\n",
    "       'ave $/day 2015 Q1']"
   ]
  },
  {
   "cell_type": "code",
   "execution_count": 55,
   "metadata": {
    "collapsed": false
   },
   "outputs": [
    {
     "data": {
      "text/html": [
       "<div>\n",
       "<table border=\"1\" class=\"dataframe\">\n",
       "  <thead>\n",
       "    <tr style=\"text-align: right;\">\n",
       "      <th></th>\n",
       "      <th>total sales 2015</th>\n",
       "      <th>total sales 2015 Q1</th>\n",
       "      <th>total margin 2015 Q1</th>\n",
       "      <th>ave margin 2015 Q1</th>\n",
       "      <th>ave revenue 2015 Q1</th>\n",
       "      <th>ave price/L 2015 Q1</th>\n",
       "      <th>num of days 2015 Q1</th>\n",
       "      <th>ave $/day 2015 Q1</th>\n",
       "    </tr>\n",
       "  </thead>\n",
       "  <tbody>\n",
       "    <tr>\n",
       "      <th>total sales 2015</th>\n",
       "      <td>1.000000</td>\n",
       "      <td>0.981461</td>\n",
       "      <td>NaN</td>\n",
       "      <td>0.226570</td>\n",
       "      <td>0.403090</td>\n",
       "      <td>0.109195</td>\n",
       "      <td>0.538729</td>\n",
       "      <td>0.819533</td>\n",
       "    </tr>\n",
       "    <tr>\n",
       "      <th>total sales 2015 Q1</th>\n",
       "      <td>0.981461</td>\n",
       "      <td>1.000000</td>\n",
       "      <td>NaN</td>\n",
       "      <td>0.224204</td>\n",
       "      <td>0.420963</td>\n",
       "      <td>0.108803</td>\n",
       "      <td>0.544718</td>\n",
       "      <td>0.846168</td>\n",
       "    </tr>\n",
       "    <tr>\n",
       "      <th>total margin 2015 Q1</th>\n",
       "      <td>NaN</td>\n",
       "      <td>NaN</td>\n",
       "      <td>NaN</td>\n",
       "      <td>NaN</td>\n",
       "      <td>NaN</td>\n",
       "      <td>NaN</td>\n",
       "      <td>NaN</td>\n",
       "      <td>NaN</td>\n",
       "    </tr>\n",
       "    <tr>\n",
       "      <th>ave margin 2015 Q1</th>\n",
       "      <td>0.226570</td>\n",
       "      <td>0.224204</td>\n",
       "      <td>NaN</td>\n",
       "      <td>1.000000</td>\n",
       "      <td>0.296333</td>\n",
       "      <td>0.519724</td>\n",
       "      <td>0.204089</td>\n",
       "      <td>0.286864</td>\n",
       "    </tr>\n",
       "    <tr>\n",
       "      <th>ave revenue 2015 Q1</th>\n",
       "      <td>0.403090</td>\n",
       "      <td>0.420963</td>\n",
       "      <td>NaN</td>\n",
       "      <td>0.296333</td>\n",
       "      <td>1.000000</td>\n",
       "      <td>0.117867</td>\n",
       "      <td>0.034128</td>\n",
       "      <td>0.645271</td>\n",
       "    </tr>\n",
       "    <tr>\n",
       "      <th>ave price/L 2015 Q1</th>\n",
       "      <td>0.109195</td>\n",
       "      <td>0.108803</td>\n",
       "      <td>NaN</td>\n",
       "      <td>0.519724</td>\n",
       "      <td>0.117867</td>\n",
       "      <td>1.000000</td>\n",
       "      <td>0.021833</td>\n",
       "      <td>0.149527</td>\n",
       "    </tr>\n",
       "    <tr>\n",
       "      <th>num of days 2015 Q1</th>\n",
       "      <td>0.538729</td>\n",
       "      <td>0.544718</td>\n",
       "      <td>NaN</td>\n",
       "      <td>0.204089</td>\n",
       "      <td>0.034128</td>\n",
       "      <td>0.021833</td>\n",
       "      <td>1.000000</td>\n",
       "      <td>0.377669</td>\n",
       "    </tr>\n",
       "    <tr>\n",
       "      <th>ave $/day 2015 Q1</th>\n",
       "      <td>0.819533</td>\n",
       "      <td>0.846168</td>\n",
       "      <td>NaN</td>\n",
       "      <td>0.286864</td>\n",
       "      <td>0.645271</td>\n",
       "      <td>0.149527</td>\n",
       "      <td>0.377669</td>\n",
       "      <td>1.000000</td>\n",
       "    </tr>\n",
       "  </tbody>\n",
       "</table>\n",
       "</div>"
      ],
      "text/plain": [
       "                      total sales 2015  total sales 2015 Q1  \\\n",
       "total sales 2015              1.000000             0.981461   \n",
       "total sales 2015 Q1           0.981461             1.000000   \n",
       "total margin 2015 Q1               NaN                  NaN   \n",
       "ave margin 2015 Q1            0.226570             0.224204   \n",
       "ave revenue 2015 Q1           0.403090             0.420963   \n",
       "ave price/L 2015 Q1           0.109195             0.108803   \n",
       "num of days 2015 Q1           0.538729             0.544718   \n",
       "ave $/day 2015 Q1             0.819533             0.846168   \n",
       "\n",
       "                      total margin 2015 Q1  ave margin 2015 Q1  \\\n",
       "total sales 2015                       NaN            0.226570   \n",
       "total sales 2015 Q1                    NaN            0.224204   \n",
       "total margin 2015 Q1                   NaN                 NaN   \n",
       "ave margin 2015 Q1                     NaN            1.000000   \n",
       "ave revenue 2015 Q1                    NaN            0.296333   \n",
       "ave price/L 2015 Q1                    NaN            0.519724   \n",
       "num of days 2015 Q1                    NaN            0.204089   \n",
       "ave $/day 2015 Q1                      NaN            0.286864   \n",
       "\n",
       "                      ave revenue 2015 Q1  ave price/L 2015 Q1  \\\n",
       "total sales 2015                 0.403090             0.109195   \n",
       "total sales 2015 Q1              0.420963             0.108803   \n",
       "total margin 2015 Q1                  NaN                  NaN   \n",
       "ave margin 2015 Q1               0.296333             0.519724   \n",
       "ave revenue 2015 Q1              1.000000             0.117867   \n",
       "ave price/L 2015 Q1              0.117867             1.000000   \n",
       "num of days 2015 Q1              0.034128             0.021833   \n",
       "ave $/day 2015 Q1                0.645271             0.149527   \n",
       "\n",
       "                      num of days 2015 Q1  ave $/day 2015 Q1  \n",
       "total sales 2015                 0.538729           0.819533  \n",
       "total sales 2015 Q1              0.544718           0.846168  \n",
       "total margin 2015 Q1                  NaN                NaN  \n",
       "ave margin 2015 Q1               0.204089           0.286864  \n",
       "ave revenue 2015 Q1              0.034128           0.645271  \n",
       "ave price/L 2015 Q1              0.021833           0.149527  \n",
       "num of days 2015 Q1              1.000000           0.377669  \n",
       "ave $/day 2015 Q1                0.377669           1.000000  "
      ]
     },
     "execution_count": 55,
     "metadata": {},
     "output_type": "execute_result"
    }
   ],
   "source": [
    "stores_data.loc[:,col_list].corr()"
   ]
  },
  {
   "cell_type": "code",
   "execution_count": 56,
   "metadata": {
    "collapsed": false
   },
   "outputs": [
    {
     "data": {
      "text/plain": [
       "total sales 2015        1.000000\n",
       "total sales 2015 Q1     0.981461\n",
       "total margin 2015 Q1         NaN\n",
       "ave margin 2015 Q1      0.226570\n",
       "ave revenue 2015 Q1     0.403090\n",
       "ave price/L 2015 Q1     0.109195\n",
       "num of days 2015 Q1     0.538729\n",
       "ave $/day 2015 Q1       0.819533\n",
       "Name: total sales 2015, dtype: float64"
      ]
     },
     "execution_count": 56,
     "metadata": {},
     "output_type": "execute_result"
    }
   ],
   "source": [
    "# Q1 sales and Q1 margins are too high correlated to use both as IV.  Q1 sales and ave $ / day also highly correlated.\n",
    "stores_data.loc[:,col_list].corr()[\"total sales 2015\"]"
   ]
  },
  {
   "cell_type": "code",
   "execution_count": 57,
   "metadata": {
    "collapsed": false
   },
   "outputs": [
    {
     "data": {
      "image/png": "[encoded data removed]",
      "text/plain": [
       "<matplotlib.figure.Figure at 0x1248b6190>"
      ]
     },
     "metadata": {},
     "output_type": "display_data"
    },
    {
     "data": {
      "image/png": "[encoded data removed]",
      "text/plain": [
       "<matplotlib.figure.Figure at 0x11ba5aed0>"
      ]
     },
     "metadata": {},
     "output_type": "display_data"
    },
    {
     "data": {
      "image/png": "[encoded data removed]",
      "text/plain": [
       "<matplotlib.figure.Figure at 0x11fd88150>"
      ]
     },
     "metadata": {},
     "output_type": "display_data"
    },
    {
     "data": {
      "image/png": "[encoded data removed]",
      "text/plain": [
       "<matplotlib.figure.Figure at 0x11bb7de90>"
      ]
     },
     "metadata": {},
     "output_type": "display_data"
    }
   ],
   "source": [
    "subcols = [\"total sales 2015 Q1\",\"total revenue 2015 Q1\",\"ave price/L 2015 Q1\",\\\n",
    "          \"num of days 2015 Q1\"]\n",
    "for iv in subcols:\n",
    "    sns.jointplot(x=stores_data[iv], y=stores_data[\"total sales 2015\"])\n"
   ]
  },
  {
   "cell_type": "code",
   "execution_count": 58,
   "metadata": {
    "collapsed": true
   },
   "outputs": [],
   "source": [
    "# ave price / L and num of days open have unusual relationship with total sales.  Investigate distribution of these \n",
    "# variables and decide whether to create dummy variables based on threshold"
   ]
  },
  {
   "cell_type": "code",
   "execution_count": 59,
   "metadata": {
    "collapsed": false
   },
   "outputs": [
    {
     "data": {
      "text/plain": [
       "[<matplotlib.text.Text at 0x124a1f710>,\n",
       " <matplotlib.text.Text at 0x12482c850>,\n",
       " <matplotlib.text.Text at 0x126f40b90>]"
      ]
     },
     "execution_count": 59,
     "metadata": {},
     "output_type": "execute_result"
    },
    {
     "data": {
      "image/png": "[encoded data removed]",
      "text/plain": [
       "<matplotlib.figure.Figure at 0x123f08110>"
      ]
     },
     "metadata": {},
     "output_type": "display_data"
    }
   ],
   "source": [
    "# plot histogram of number of days a store is open in Q1 2015\n",
    "ax=stores_data[\"num of days 2015 Q1\"].hist(bins=20, figsize=(6,6))\n",
    "ax.set(title=\"Number of Days a Store is Open 2015Q1\", xlabel=\"Number of Days\", ylabel=\"Frequency\")"
   ]
  },
  {
   "cell_type": "code",
   "execution_count": 60,
   "metadata": {
    "collapsed": true
   },
   "outputs": [],
   "source": [
    "# create a dummy variable for stores with sales on more than 12 days/quarter\n",
    "def open_often(x):\n",
    "    if x>12:\n",
    "        return 1\n",
    "    else:\n",
    "        return 0\n",
    "stores_data[\"open 2015 Q1\"] = stores_data[\"num of days 2015 Q1\"].map(open_often)\n",
    "stores_data[\"open 2016 Q1\"] = stores_data[\"num of days 2016 Q1\"].map(open_often)\n",
    "#roughly 16% of stores are marked as frequent trading based on 2015 Q1"
   ]
  },
  {
   "cell_type": "code",
   "execution_count": 61,
   "metadata": {
    "collapsed": false
   },
   "outputs": [
    {
     "data": {
      "text/plain": [
       "[<matplotlib.text.Text at 0x12a88a090>,\n",
       " <matplotlib.text.Text at 0x126f95e10>,\n",
       " <matplotlib.text.Text at 0x12a8b2710>]"
      ]
     },
     "execution_count": 61,
     "metadata": {},
     "output_type": "execute_result"
    },
    {
     "data": {
      "image/png": "[encoded data removed]",
      "text/plain": [
       "<matplotlib.figure.Figure at 0x11f4b2b50>"
      ]
     },
     "metadata": {},
     "output_type": "display_data"
    }
   ],
   "source": [
    "# plot distribution of average price per litre of liquor in 2015Q1\n",
    "ax=stores_data[\"ave price/L 2015 Q1\"].hist(bins=20, figsize=(6,6))\n",
    "ax.set(title=\"Average Price per Litre for a Store 2015Q1\", xlabel=\"$/L\", ylabel=\"Frequency\")\n"
   ]
  },
  {
   "cell_type": "code",
   "execution_count": 62,
   "metadata": {
    "collapsed": true
   },
   "outputs": [],
   "source": [
    "#create a dummy for high-end stores who sell alcohol with ave $/L over $20\n",
    "def high_end(x):\n",
    "    if x>20:\n",
    "        return 1\n",
    "    else:\n",
    "        return 0\n",
    "stores_data[\"high-end 2015 Q1\"] = stores_data[\"ave price/L 2015 Q1\"].map(high_end)\n",
    "stores_data[\"high-end 2016 Q1\"] = stores_data[\"ave price/L 2016 Q1\"].map(high_end)\n",
    "#roughly 20% of stores are high end based on 2015 Q1"
   ]
  },
  {
   "cell_type": "code",
   "execution_count": 63,
   "metadata": {
    "collapsed": true
   },
   "outputs": [],
   "source": [
    "# create flag for metro areas - top 5 cities by pop\n",
    "metro_area = [\"DES MOINES\",\"CEDAR RAPIDS\",\"DAVENPORT\",\"SIOUX CITY\",\"IOWA CITY\"]\n",
    "def metro(x):\n",
    "    if x in metro_area:\n",
    "        return 1\n",
    "    else:\n",
    "        return 0\n",
    "stores_data[\"metro\"] = stores_data[\"city\"].map(metro)\n",
    "#roughly 40% of stores are in the biggest 5 cities"
   ]
  },
  {
   "cell_type": "code",
   "execution_count": 64,
   "metadata": {
    "collapsed": false
   },
   "outputs": [
    {
     "data": {
      "image/png": "[encoded data removed]",
      "text/plain": [
       "<matplotlib.figure.Figure at 0x126f40510>"
      ]
     },
     "metadata": {},
     "output_type": "display_data"
    },
    {
     "data": {
      "image/png": "[encoded data removed]",
      "text/plain": [
       "<matplotlib.figure.Figure at 0x123fe7e50>"
      ]
     },
     "metadata": {},
     "output_type": "display_data"
    },
    {
     "data": {
      "image/png": "[encoded data removed]",
      "text/plain": [
       "<matplotlib.figure.Figure at 0x11680f0d0>"
      ]
     },
     "metadata": {},
     "output_type": "display_data"
    },
    {
     "data": {
      "image/png": "[encoded data removed]",
      "text/plain": [
       "<matplotlib.figure.Figure at 0x12386f890>"
      ]
     },
     "metadata": {},
     "output_type": "display_data"
    },
    {
     "data": {
      "image/png": "[encoded data removed]",
      "text/plain": [
       "<matplotlib.figure.Figure at 0x1176b9b50>"
      ]
     },
     "metadata": {},
     "output_type": "display_data"
    }
   ],
   "source": [
    "# replot pairplot using dummy vars for high-end and frequently trading\n",
    "subcols = [\"total sales 2015 Q1\",\"total revenue 2015 Q1\",\"metro\",\"high-end 2015 Q1\",\\\n",
    "          \"open 2015 Q1\"]\n",
    "for iv in subcols:\n",
    "    sns.jointplot(x=stores_data[iv], y=stores_data[\"total sales 2015\"])"
   ]
  },
  {
   "cell_type": "markdown",
   "metadata": {},
   "source": [
    "## Linear Models"
   ]
  },
  {
   "cell_type": "code",
   "execution_count": 65,
   "metadata": {
    "collapsed": false
   },
   "outputs": [
    {
     "name": "stdout",
     "output_type": "stream",
     "text": [
      "Coef: [ 3.47520479]\n",
      "Intercept: 709.721137855\n",
      "Score: 0.945536811672\n",
      "MSE: 98759615.0756\n"
     ]
    }
   ],
   "source": [
    "# train all models only on data from stores with full data from 2015 (no stores which opened or closed)\n",
    "\n",
    "# base model - predict 2015 Q2-4 with just 2015Q1\n",
    "y = stores_data[stores_data[\"store\"].isin(good_stores)][\"sales 2015 Q2-Q4\"]\n",
    "X  = stores_data[stores_data[\"store\"].isin(good_stores)][[\"total sales 2015 Q1\"]]\n",
    "\n",
    "lm = linear_model.LinearRegression()\n",
    "base_model = lm.fit(X,y)\n",
    "\n",
    "print \"Coef:\", base_model.coef_\n",
    "print \"Intercept:\", base_model.intercept_\n",
    "print \"Score:\", base_model.score(X, y) \n",
    "print \"MSE:\", mean_squared_error(y, base_model.predict(X))\n"
   ]
  },
  {
   "cell_type": "code",
   "execution_count": 66,
   "metadata": {
    "collapsed": false
   },
   "outputs": [
    {
     "name": "stdout",
     "output_type": "stream",
     "text": [
      "Mean cross-val R2: 0.658196240769\n"
     ]
    }
   ],
   "source": [
    "print \"Mean cross-val R2:\",cross_val_score(lm, X, y, cv=5).mean()"
   ]
  },
  {
   "cell_type": "code",
   "execution_count": 120,
   "metadata": {
    "collapsed": false
   },
   "outputs": [
    {
     "name": "stdout",
     "output_type": "stream",
     "text": [
      "Train/Test R2: 0.875205352936\n"
     ]
    }
   ],
   "source": [
    "from sklearn.cross_validation import train_test_split\n",
    "\n",
    "X_train, X_test, y_train, y_test = \\\n",
    "train_test_split(X, y, test_size=0.33)\n",
    "lm = linear_model.LinearRegression()\n",
    "train_base_model = lm.fit(X_train, y_train)\n",
    "predictions = lm.predict(X_test)\n",
    "\n",
    "print \"Train/Test R2:\", train_base_model.score(X_test, y_test) "
   ]
  },
  {
   "cell_type": "markdown",
   "metadata": {},
   "source": [
    "**Initial model produced R2 of 0.946 with MSE of 98,759,615.  Out of sample, the R2 dropped to 0.66 testing using cross validation with 5 folds.  Using a train/test split of 67/33, the out of sample R2 was 0.88.**"
   ]
  },
  {
   "cell_type": "code",
   "execution_count": 68,
   "metadata": {
    "collapsed": false
   },
   "outputs": [
    {
     "name": "stdout",
     "output_type": "stream",
     "text": [
      "Coef: [   3.45089826   40.67805924  104.16853298]\n",
      "Intercept: -709.315484657\n",
      "Score: 0.945646118653\n",
      "MSE: 98561405.6857\n",
      "Mean cross-val R2: 0.661319433249\n",
      "Train/test R2 0.902025808122\n"
     ]
    }
   ],
   "source": [
    "# updated model - this includes ave $/L and number of trading days\n",
    "y = stores_data[stores_data[\"store\"].isin(good_stores)][\"sales 2015 Q2-Q4\"]\n",
    "X  = stores_data[stores_data[\"store\"].isin(good_stores)][[\"total sales 2015 Q1\",\"ave price/L 2015 Q1\",\"num of days 2015 Q1\"]]\n",
    "\n",
    "lm = linear_model.LinearRegression()\n",
    "model1 = lm.fit(X,y)\n",
    "\n",
    "print \"Coef:\", model1.coef_\n",
    "print \"Intercept:\", model1.intercept_\n",
    "print \"Score:\", model1.score(X, y) \n",
    "print \"MSE:\", mean_squared_error(y, model1.predict(X))\n",
    "\n",
    "print \"Mean cross-val R2:\",cross_val_score(lm, X, y, cv=5).mean()\n",
    "\n",
    "X_train, X_test, y_train, y_test = \\\n",
    "train_test_split(X, y, test_size=0.33)\n",
    "lm = linear_model.LinearRegression()\n",
    "\n",
    "model1_train = lm.fit(X_train, y_train)\n",
    "predictions = lm.predict(X_test)\n",
    "\n",
    "print \"Train/test R2\", model1_train.score(X_test, y_test) \n"
   ]
  },
  {
   "cell_type": "markdown",
   "metadata": {
    "collapsed": false
   },
   "source": [
    "**Updated model produced slightly higher R2 and slightly lower MSE, but the differences are small.  The mean cross-validation R2 was approximately unchanged.  Most noteiceably the train/test out of sample R2 increased from 0.87 to 0.90, indicating that the updated model might be better at predicting unseen data.**"
   ]
  },
  {
   "cell_type": "code",
   "execution_count": 117,
   "metadata": {
    "collapsed": false
   },
   "outputs": [
    {
     "name": "stdout",
     "output_type": "stream",
     "text": [
      "Coef: [    3.46346584   854.47372841   326.18167914  1078.6169128 ]\n",
      "Inercept: 348.341446096\n",
      "Score: 0.945722436135\n",
      "MSE: 98423017.072\n",
      "Mean cross-val R2: 0.657186103493\n",
      "Train/test R2: 0.925223167277\n"
     ]
    }
   ],
   "source": [
    "#final model - this uses the dummy vars for high-end stores and trading frequency\n",
    "y = stores_data[stores_data[\"store\"].isin(good_stores)][\"sales 2015 Q2-Q4\"]\n",
    "X  = stores_data[stores_data[\"store\"].isin(good_stores)][[\"total sales 2015 Q1\",\"high-end 2015 Q1\",\"open 2015 Q1\",\"metro\"]]\n",
    "\n",
    "lm = linear_model.LinearRegression()\n",
    "final_model = lm.fit(X,y)\n",
    "\n",
    "print \"Coef:\", final_model.coef_\n",
    "print \"Inercept:\", final_model.intercept_\n",
    "print \"Score:\", final_model.score(X, y) \n",
    "print \"MSE:\", mean_squared_error(y, final_model.predict(X))\n",
    "\n",
    "print \"Mean cross-val R2:\", cross_val_score(lm, X, y, cv=5).mean()\n",
    "\n",
    "X_train, X_test, y_train, y_test = \\\n",
    "train_test_split(X, y, test_size=0.33)\n",
    "\n",
    "\n",
    "lm = linear_model.LinearRegression()\n",
    "\n",
    "final_model_train = lm.fit(X_train, y_train)\n",
    "\n",
    "print \"Train/test R2:\", final_model_train.score(X_test, y_test) "
   ]
  },
  {
   "cell_type": "markdown",
   "metadata": {},
   "source": [
    "**Model with dummy variables for high-end store, and trading frequency, produced very similar R2, MSE and mean R2 from cross-val.  Train/test out of sample R2 increased to 0.93.  This will be the final model.**"
   ]
  },
  {
   "cell_type": "code",
   "execution_count": 70,
   "metadata": {
    "collapsed": false
   },
   "outputs": [
    {
     "data": {
      "text/plain": [
       "[(0, 400000),\n",
       " <matplotlib.text.Text at 0x12e0d4550>,\n",
       " (0, 400000),\n",
       " <matplotlib.text.Text at 0x1176c0c10>,\n",
       " <matplotlib.text.Text at 0x12e0fb850>]"
      ]
     },
     "execution_count": 70,
     "metadata": {},
     "output_type": "execute_result"
    },
    {
     "data": {
      "image/png": "[encoded data removed]",
      "text/plain": [
       "<matplotlib.figure.Figure at 0x123d39510>"
      ]
     },
     "metadata": {},
     "output_type": "display_data"
    }
   ],
   "source": [
    "predictions = lm.predict(X_test)\n",
    "\n",
    "fig,ax = plt.subplots(figsize=(10,10))\n",
    "ax.scatter(y_test, predictions)\n",
    "ax.set(xlabel = \"True Values\",ylabel=\"Predictions\", xlim=[0,400000],ylim=[0,400000], title=\"Actual Sales vs Predicted Sales\")"
   ]
  },
  {
   "cell_type": "code",
   "execution_count": 71,
   "metadata": {
    "collapsed": false
   },
   "outputs": [
    {
     "name": "stdout",
     "output_type": "stream",
     "text": [
      "Lasso R2: 0.945722433239\n",
      "Cross val mean R2: 0.657196872843\n"
     ]
    }
   ],
   "source": [
    "# test if lasso model performs better\n",
    "lasso = linear_model.Lasso(alpha=0.5)\n",
    "lasso_model = lasso.fit(X, y)\n",
    "lasso_r2 =  r2_score(y_true=y, y_pred=lasso_model.predict(X))\n",
    "print \"Lasso R2:\",lasso_r2\n",
    "print \"Cross val mean R2:\", cross_val_score(lasso, X, y, n_jobs=1, cv=5).mean()\n"
   ]
  },
  {
   "cell_type": "code",
   "execution_count": 121,
   "metadata": {
    "collapsed": false
   },
   "outputs": [
    {
     "name": "stdout",
     "output_type": "stream",
     "text": [
      "Train/test Lasso Model Score: 0.874165437493\n"
     ]
    }
   ],
   "source": [
    "X_train, X_test, y_train, y_test = \\\n",
    "train_test_split(X, y, test_size=0.33)\n",
    "lasso_train= lasso.fit(X_train, y_train)\n",
    "predictions = lasso.predict(X_test)\n",
    "print \"Train/test Lasso Model Score:\", lasso_train.score(X_test, y_test) "
   ]
  },
  {
   "cell_type": "markdown",
   "metadata": {},
   "source": [
    "**Lasso model performs about the same, marginally worse on out of sample, so will use simpler linear model.**"
   ]
  },
  {
   "cell_type": "markdown",
   "metadata": {},
   "source": [
    "## Make Predictions"
   ]
  },
  {
   "cell_type": "code",
   "execution_count": 73,
   "metadata": {
    "collapsed": false
   },
   "outputs": [
    {
     "data": {
      "text/plain": [
       "array([   9434.08374485,  136580.39343992,  106786.00322375, ...,\n",
       "          2910.7768411 ,    1263.94679712,    5373.2026963 ])"
      ]
     },
     "execution_count": 73,
     "metadata": {},
     "output_type": "execute_result"
    }
   ],
   "source": [
    "#predict 2016 Q2-4 sales with base model\n",
    "# create list of stores that had 2016 Q1 sales - only predict on these stores (i.e. exclude stores that closed in 2015)\n",
    "good_2016_stores = list(stores_data[stores_data[\"total sales 2016 Q1\"].isnull() == False][\"store\"].values)\n",
    "\n",
    "X  = stores_data[stores_data[\"store\"].isin(good_2016_stores)][[\"total sales 2016 Q1\"]]\n",
    "base_pred = np.array(base_model.predict(X))\n",
    "np.transpose(base_pred)"
   ]
  },
  {
   "cell_type": "code",
   "execution_count": 74,
   "metadata": {
    "collapsed": false
   },
   "outputs": [
    {
     "name": "stdout",
     "output_type": "stream",
     "text": [
      "23222159.9627\n"
     ]
    },
    {
     "data": {
      "text/plain": [
       "array([   9369.4155794 ,  137164.85279672,  106392.4885769 , ...,\n",
       "          3396.4358993 ,     900.69497835,    5850.54388996])"
      ]
     },
     "execution_count": 74,
     "metadata": {},
     "output_type": "execute_result"
    }
   ],
   "source": [
    "# predict 2016 Q2-4 sales with final model\n",
    "X  = stores_data[stores_data[\"store\"].isin(good_2016_stores)]\\\n",
    "[[\"total sales 2016 Q1\",\"high-end 2016 Q1\",\"open 2016 Q1\",\"metro\"]]\n",
    "\n",
    "print sum(final_model.predict(X))\n",
    "final_pred = np.array(final_model.predict(X))\n",
    "np.transpose(final_pred)"
   ]
  },
  {
   "cell_type": "code",
   "execution_count": 75,
   "metadata": {
    "collapsed": false
   },
   "outputs": [
    {
     "name": "stdout",
     "output_type": "stream",
     "text": [
      "<class 'pandas.core.frame.DataFrame'>\n",
      "Int64Index: 1400 entries, 0 to 1399\n",
      "Data columns (total 9 columns):\n",
      "store                  1400 non-null object\n",
      "county                 1309 non-null object\n",
      "total sales 2016 Q1    1309 non-null float64\n",
      "base pred              1309 non-null float64\n",
      "final pred             1309 non-null float64\n",
      "pred sales 2016 1      1309 non-null float64\n",
      "pred sales 2016 2      1309 non-null float64\n",
      "total sales 2015       1372 non-null float64\n",
      "total sales 2015 Q1    1262 non-null float64\n",
      "dtypes: float64(7), object(2)\n",
      "memory usage: 109.4+ KB\n"
     ]
    }
   ],
   "source": [
    "# create df of store, 2015Q1 sales, 2015 sales, 2016Q1 sales, and 2016 predicted sales (base model is model 1,\n",
    "# final model is model 2)\n",
    "pred_df = stores_data[stores_data[\"store\"].isin(good_2016_stores)].loc[:,[\"store\",\"county\",\"total sales 2016 Q1\"]]\n",
    "pred_df[\"base pred\"] = base_pred\n",
    "pred_df[\"final pred\"] = final_pred\n",
    "# add predictions to actual Q1 sales\n",
    "pred_df[\"pred sales 2016 1\"] = pred_df[\"total sales 2016 Q1\"] + pred_df[\"base pred\"]\n",
    "pred_df[\"pred sales 2016 2\"] = pred_df[\"total sales 2016 Q1\"] + pred_df[\"final pred\"]\n",
    "# add 2015 data\n",
    "pred_df = pred_df.merge(stores_data.loc[:,[\"store\",\"total sales 2015\",\"total sales 2015 Q1\"]], on = \"store\", how=\"outer\")\n",
    "pred_df.info()\n",
    "pred_df.fillna(0, inplace = True)"
   ]
  },
  {
   "cell_type": "code",
   "execution_count": 76,
   "metadata": {
    "collapsed": false
   },
   "outputs": [
    {
     "name": "stdout",
     "output_type": "stream",
     "text": [
      "2016 sales predictions from base model: 29567783.5247\n",
      "2016 sales predictions from final model: 29621589.6927\n",
      "2015 sales: 28521247.56\n"
     ]
    }
   ],
   "source": [
    "print \"2016 sales predictions from base model:\", sum(pred_df[\"pred sales 2016 1\"])\n",
    "print \"2016 sales predictions from final model:\", sum(pred_df[\"pred sales 2016 2\"])\n",
    "# need to fix this1\n",
    "print \"2015 sales:\", sum(pred_df[\"total sales 2015\"])"
   ]
  },
  {
   "cell_type": "markdown",
   "metadata": {},
   "source": [
    "**Final model provides more aggressive estimate.**"
   ]
  },
  {
   "cell_type": "code",
   "execution_count": 77,
   "metadata": {
    "collapsed": false,
    "scrolled": true
   },
   "outputs": [
    {
     "name": "stdout",
     "output_type": "stream",
     "text": [
      "3.85797335957\n"
     ]
    }
   ],
   "source": [
    "print 100*sum(pred_df[\"pred sales 2016 2\"]) / sum(pred_df[\"total sales 2015\"])-100"
   ]
  },
  {
   "cell_type": "code",
   "execution_count": 104,
   "metadata": {
    "collapsed": false
   },
   "outputs": [
    {
     "data": {
      "text/html": [
       "<div>\n",
       "<table border=\"1\" class=\"dataframe\">\n",
       "  <thead>\n",
       "    <tr style=\"text-align: right;\">\n",
       "      <th></th>\n",
       "      <th>county</th>\n",
       "      <th>pred sales 2016 2</th>\n",
       "      <th>total sales 2015</th>\n",
       "      <th>total sales 2016 Q1</th>\n",
       "    </tr>\n",
       "  </thead>\n",
       "  <tbody>\n",
       "    <tr>\n",
       "      <th>1</th>\n",
       "      <td>Adair</td>\n",
       "      <td>55585.940714</td>\n",
       "      <td>42353.24</td>\n",
       "      <td>11834.16</td>\n",
       "    </tr>\n",
       "    <tr>\n",
       "      <th>2</th>\n",
       "      <td>Adams</td>\n",
       "      <td>10478.838287</td>\n",
       "      <td>10245.14</td>\n",
       "      <td>2196.57</td>\n",
       "    </tr>\n",
       "    <tr>\n",
       "      <th>3</th>\n",
       "      <td>Allamakee</td>\n",
       "      <td>88348.866469</td>\n",
       "      <td>79918.47</td>\n",
       "      <td>19106.29</td>\n",
       "    </tr>\n",
       "    <tr>\n",
       "      <th>4</th>\n",
       "      <td>Appanoose</td>\n",
       "      <td>98351.822670</td>\n",
       "      <td>77033.64</td>\n",
       "      <td>21493.52</td>\n",
       "    </tr>\n",
       "    <tr>\n",
       "      <th>5</th>\n",
       "      <td>Audubon</td>\n",
       "      <td>16604.881027</td>\n",
       "      <td>7674.58</td>\n",
       "      <td>3412.97</td>\n",
       "    </tr>\n",
       "  </tbody>\n",
       "</table>\n",
       "</div>"
      ],
      "text/plain": [
       "      county  pred sales 2016 2  total sales 2015  total sales 2016 Q1\n",
       "1      Adair       55585.940714          42353.24             11834.16\n",
       "2      Adams       10478.838287          10245.14              2196.57\n",
       "3  Allamakee       88348.866469          79918.47             19106.29\n",
       "4  Appanoose       98351.822670          77033.64             21493.52\n",
       "5    Audubon       16604.881027           7674.58              3412.97"
      ]
     },
     "execution_count": 104,
     "metadata": {},
     "output_type": "execute_result"
    }
   ],
   "source": [
    "final_county_data = pred_df.pivot_table(index=[\"county\"],values=[\"total sales 2015\",\"total sales \\\n",
    "2016 Q1\",\"pred sales 2016 2\"], aggfunc = (np.sum))\n",
    "final_county_data.reset_index(inplace=True)\n",
    "final_county_data = final_county_data[final_county_data[\"county\"]!=0]\n",
    "final_county_data.head()"
   ]
  },
  {
   "cell_type": "code",
   "execution_count": 105,
   "metadata": {
    "collapsed": true
   },
   "outputs": [],
   "source": [
    "# since a 10pct sample was used, for final reporting, all estimates are multipled by 10"
   ]
  },
  {
   "cell_type": "code",
   "execution_count": 106,
   "metadata": {
    "collapsed": false
   },
   "outputs": [
    {
     "name": "stdout",
     "output_type": "stream",
     "text": [
      "2016 estimated sales: 296215896.927\n"
     ]
    }
   ],
   "source": [
    "final_county_data.columns = [\"county\",\"2016 Predicted Annual Sales\",\"2015 Sales\",\"2016 Q1 Sales\",]\n",
    "final_county_data.iloc[:,1] = final_county_data.iloc[:,1].apply(lambda x: x*10)\n",
    "final_county_data.iloc[:,2] = final_county_data.iloc[:,2].apply(lambda x: x*10)\n",
    "final_county_data.iloc[:,3] = final_county_data.iloc[:,3].apply(lambda x: x*10)\n",
    "print \"2016 estimated sales:\",sum(final_county_data[\"2016 Predicted Annual Sales\"])"
   ]
  },
  {
   "cell_type": "markdown",
   "metadata": {},
   "source": [
    "**The model predicts 2016 sales will be roughly $295mm (approximately a 3.8% increase over 2015)**"
   ]
  },
  {
   "cell_type": "code",
   "execution_count": 107,
   "metadata": {
    "collapsed": false
   },
   "outputs": [
    {
     "data": {
      "text/html": [
       "<div>\n",
       "<table border=\"1\" class=\"dataframe\">\n",
       "  <thead>\n",
       "    <tr style=\"text-align: right;\">\n",
       "      <th></th>\n",
       "      <th>county</th>\n",
       "      <th>2016 Predicted Annual Sales</th>\n",
       "      <th>2015 Sales</th>\n",
       "      <th>2016 Q1 Sales</th>\n",
       "    </tr>\n",
       "  </thead>\n",
       "  <tbody>\n",
       "    <tr>\n",
       "      <th>1</th>\n",
       "      <td>Adair</td>\n",
       "      <td>555859.407139</td>\n",
       "      <td>423532.4</td>\n",
       "      <td>118341.6</td>\n",
       "    </tr>\n",
       "    <tr>\n",
       "      <th>2</th>\n",
       "      <td>Adams</td>\n",
       "      <td>104788.382867</td>\n",
       "      <td>102451.4</td>\n",
       "      <td>21965.7</td>\n",
       "    </tr>\n",
       "    <tr>\n",
       "      <th>3</th>\n",
       "      <td>Allamakee</td>\n",
       "      <td>883488.664694</td>\n",
       "      <td>799184.7</td>\n",
       "      <td>191062.9</td>\n",
       "    </tr>\n",
       "    <tr>\n",
       "      <th>4</th>\n",
       "      <td>Appanoose</td>\n",
       "      <td>983518.226697</td>\n",
       "      <td>770336.4</td>\n",
       "      <td>214935.2</td>\n",
       "    </tr>\n",
       "    <tr>\n",
       "      <th>5</th>\n",
       "      <td>Audubon</td>\n",
       "      <td>166048.810274</td>\n",
       "      <td>76745.8</td>\n",
       "      <td>34129.7</td>\n",
       "    </tr>\n",
       "  </tbody>\n",
       "</table>\n",
       "</div>"
      ],
      "text/plain": [
       "      county  2016 Predicted Annual Sales  2015 Sales  2016 Q1 Sales\n",
       "1      Adair                555859.407139    423532.4       118341.6\n",
       "2      Adams                104788.382867    102451.4        21965.7\n",
       "3  Allamakee                883488.664694    799184.7       191062.9\n",
       "4  Appanoose                983518.226697    770336.4       214935.2\n",
       "5    Audubon                166048.810274     76745.8        34129.7"
      ]
     },
     "execution_count": 107,
     "metadata": {},
     "output_type": "execute_result"
    }
   ],
   "source": [
    "# data by county \n",
    "final_county_data.head()"
   ]
  },
  {
   "cell_type": "code",
   "execution_count": 108,
   "metadata": {
    "collapsed": false
   },
   "outputs": [
    {
     "data": {
      "text/html": [
       "<div>\n",
       "<table border=\"1\" class=\"dataframe\">\n",
       "  <thead>\n",
       "    <tr style=\"text-align: right;\">\n",
       "      <th></th>\n",
       "    </tr>\n",
       "  </thead>\n",
       "  <tbody>\n",
       "  </tbody>\n",
       "</table>\n",
       "</div>"
      ],
      "text/plain": [
       "Empty DataFrame\n",
       "Columns: []\n",
       "Index: []"
      ]
     },
     "execution_count": 108,
     "metadata": {},
     "output_type": "execute_result"
    }
   ],
   "source": [
    "# write out data from predictions\n",
    "pd.DataFrame(final_county_data.to_csv(\"county_level_predictions_2016.csv\"))"
   ]
  },
  {
   "cell_type": "code",
   "execution_count": 225,
   "metadata": {
    "collapsed": false
   },
   "outputs": [],
   "source": [
    "# group by county for maps\n",
    "pred_by_county = pred_df.pivot_table(index=[\"county\"],values=[\"total sales 2015\",\"pred sales 2016 2\"], aggfunc = (np.sum))\n",
    "pred_by_county = pred_by_county[(pred_by_county[\"pred sales 2016 2\"]!=0) &\\\n",
    "                               (pred_by_county[\"total sales 2015\"]!=0)]\n"
   ]
  },
  {
   "cell_type": "code",
   "execution_count": 226,
   "metadata": {
    "collapsed": false
   },
   "outputs": [
    {
     "data": {
      "text/html": [
       "<div>\n",
       "<table border=\"1\" class=\"dataframe\">\n",
       "  <thead>\n",
       "    <tr style=\"text-align: right;\">\n",
       "      <th></th>\n",
       "      <th>Predicted 2016 Sales</th>\n",
       "      <th>2015 Sales</th>\n",
       "      <th>% Change</th>\n",
       "    </tr>\n",
       "    <tr>\n",
       "      <th>county</th>\n",
       "      <th></th>\n",
       "      <th></th>\n",
       "      <th></th>\n",
       "    </tr>\n",
       "  </thead>\n",
       "  <tbody>\n",
       "    <tr>\n",
       "      <th>Adair</th>\n",
       "      <td>55585.940714</td>\n",
       "      <td>42353.24</td>\n",
       "      <td>31.243656</td>\n",
       "    </tr>\n",
       "    <tr>\n",
       "      <th>Adams</th>\n",
       "      <td>10478.838287</td>\n",
       "      <td>10245.14</td>\n",
       "      <td>2.281065</td>\n",
       "    </tr>\n",
       "    <tr>\n",
       "      <th>Allamakee</th>\n",
       "      <td>88348.866469</td>\n",
       "      <td>79918.47</td>\n",
       "      <td>10.548746</td>\n",
       "    </tr>\n",
       "    <tr>\n",
       "      <th>Appanoose</th>\n",
       "      <td>98351.822670</td>\n",
       "      <td>77033.64</td>\n",
       "      <td>27.673861</td>\n",
       "    </tr>\n",
       "    <tr>\n",
       "      <th>Audubon</th>\n",
       "      <td>16604.881027</td>\n",
       "      <td>7674.58</td>\n",
       "      <td>116.362081</td>\n",
       "    </tr>\n",
       "  </tbody>\n",
       "</table>\n",
       "</div>"
      ],
      "text/plain": [
       "           Predicted 2016 Sales  2015 Sales    % Change\n",
       "county                                                 \n",
       "Adair              55585.940714    42353.24   31.243656\n",
       "Adams              10478.838287    10245.14    2.281065\n",
       "Allamakee          88348.866469    79918.47   10.548746\n",
       "Appanoose          98351.822670    77033.64   27.673861\n",
       "Audubon            16604.881027     7674.58  116.362081"
      ]
     },
     "execution_count": 226,
     "metadata": {},
     "output_type": "execute_result"
    }
   ],
   "source": [
    "# calculate predicted % change in sales from 2015 by county\n",
    "\n",
    "pred_by_county[\"perc change\"] = 100*(pred_by_county[\"pred sales 2016 2\"] / pred_by_county[\"total sales 2015\"]-1)\n",
    "pred_by_county.columns=[\"Predicted 2016 Sales\",\"2015 Sales\",\"% Change\"]\n",
    "pred_by_county.head()"
   ]
  },
  {
   "cell_type": "code",
   "execution_count": 227,
   "metadata": {
    "collapsed": false
   },
   "outputs": [
    {
     "data": {
      "text/plain": [
       "[<matplotlib.text.Text at 0x123855fd0>, <matplotlib.text.Text at 0x12abba890>]"
      ]
     },
     "execution_count": 227,
     "metadata": {},
     "output_type": "execute_result"
    },
    {
     "data": {
      "image/png": "[encoded data removed]",
      "text/plain": [
       "<matplotlib.figure.Figure at 0x12005bed0>"
      ]
     },
     "metadata": {},
     "output_type": "display_data"
    }
   ],
   "source": [
    "# plot distribution of predicted year over year change in sales by county\n",
    "ax = pred_by_county.loc[:,\"% Change\"].hist(bins = 20)\n",
    "ax.set(title=\"Distribution of Predicted Percentage Change in Sales by County\", xlabel = \"% change in sales by county\")"
   ]
  },
  {
   "cell_type": "code",
   "execution_count": 215,
   "metadata": {
    "collapsed": false
   },
   "outputs": [
    {
     "data": {
      "text/html": [
       "<div>\n",
       "<table border=\"1\" class=\"dataframe\">\n",
       "  <thead>\n",
       "    <tr style=\"text-align: right;\">\n",
       "      <th></th>\n",
       "    </tr>\n",
       "  </thead>\n",
       "  <tbody>\n",
       "  </tbody>\n",
       "</table>\n",
       "</div>"
      ],
      "text/plain": [
       "Empty DataFrame\n",
       "Columns: []\n",
       "Index: []"
      ]
     },
     "execution_count": 215,
     "metadata": {},
     "output_type": "execute_result"
    }
   ],
   "source": [
    "# write out data for mapping\n",
    "pd.DataFrame(pred_by_county.to_csv(\"predsales.csv\"))"
   ]
  },
  {
   "cell_type": "code",
   "execution_count": 250,
   "metadata": {
    "collapsed": false
   },
   "outputs": [
    {
     "name": "stdout",
     "output_type": "stream",
     "text": [
      "0.488212141937\n"
     ]
    },
    {
     "data": {
      "text/plain": [
       "<matplotlib.figure.Figure at 0x12b21a110>"
      ]
     },
     "metadata": {},
     "output_type": "display_data"
    },
    {
     "data": {
      "image/png": "[encoded data removed]",
      "text/plain": [
       "<matplotlib.figure.Figure at 0x12adb5550>"
      ]
     },
     "metadata": {},
     "output_type": "display_data"
    }
   ],
   "source": [
    "pred_by_county.sort_values(\"Predicted 2016 Sales\", ascending= False, inplace=True)\n",
    "top_5 = pred_by_county.iloc[:5,:1]\n",
    "top_5 = top_5.applymap(lambda x: x/100000)\n",
    "\n",
    "print sum(top_5[\"Predicted 2016 Sales\"]) / sum(pred_by_county[\"Predicted 2016 Sales\"]) *100000\n",
    "\n",
    "fig = plt.figure(figsize= (10,10)) # Creates a new figure\n",
    "ax = top_5.plot(kind=\"bar\")\n",
    "ax.set_title('Top 5 Counties Projected 2016',fontsize= 20) # title of plot\n",
    "ax.set_xlabel('County',fontsize = 20) #xlabel\n",
    "ax.set_ylabel('$ Sales (mm)', fontsize = 20)#ylabel\n",
    "plt.tick_params(axis='both', which='major', labelsize=20)\n",
    "locs, labels = plt.xticks()\n",
    "plt.setp(labels, rotation=45)\n",
    "ax.legend(loc=1,prop={'size':16})\n",
    "\n",
    "plt.show()"
   ]
  },
  {
   "cell_type": "markdown",
   "metadata": {},
   "source": [
    "#### Summary write up can be found here: "
   ]
  },
  {
   "cell_type": "markdown",
   "metadata": {},
   "source": [
    "http://pclt.github.io/liquor-sales-iowa/"
   ]
  },
  {
   "cell_type": "code",
   "execution_count": 184,
   "metadata": {
    "collapsed": false
   },
   "outputs": [],
   "source": []
  },
  {
   "cell_type": "code",
   "execution_count": null,
   "metadata": {
    "collapsed": false
   },
   "outputs": [],
   "source": []
  },
  {
   "cell_type": "code",
   "execution_count": null,
   "metadata": {
    "collapsed": false
   },
   "outputs": [],
   "source": []
  },
  {
   "cell_type": "code",
   "execution_count": null,
   "metadata": {
    "collapsed": false
   },
   "outputs": [],
   "source": []
  },
  {
   "cell_type": "code",
   "execution_count": null,
   "metadata": {
    "collapsed": true
   },
   "outputs": [],
   "source": []
  }
 ],
 "metadata": {
  "kernelspec": {
   "display_name": "Python 2",
   "language": "python",
   "name": "python2"
  },
  "language_info": {
   "codemirror_mode": {
    "name": "ipython",
    "version": 2
   },
   "file_extension": ".py",
   "mimetype": "text/x-python",
   "name": "python",
   "nbconvert_exporter": "python",
   "pygments_lexer": "ipython2",
   "version": "2.7.12"
  }
 },
 "nbformat": 4,
 "nbformat_minor": 0
}
