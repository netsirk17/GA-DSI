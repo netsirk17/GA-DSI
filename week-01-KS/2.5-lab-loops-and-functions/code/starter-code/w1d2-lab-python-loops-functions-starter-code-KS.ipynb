{
 "cells": [
  {
   "cell_type": "code",
   "execution_count": 32,
   "metadata": {
    "collapsed": true
   },
   "outputs": [],
   "source": [
    "# write a function with one argument. Find the area of a square. \n",
    "def areaSquare(side): \n",
    "    '''int --> int\n",
    "    Returns the area of a square of length 'side' '''\n",
    "    return area\n"
   ]
  },
  {
   "cell_type": "code",
   "execution_count": 36,
   "metadata": {
    "collapsed": false
   },
   "outputs": [
    {
     "data": {
      "text/plain": [
       "1600"
      ]
     },
     "execution_count": 36,
     "metadata": {},
     "output_type": "execute_result"
    }
   ],
   "source": [
    "def areaSquare(side):\n",
    "    area = side ** 2\n",
    "    return area\n",
    "\n",
    "areaSquare(40)\n"
   ]
  },
  {
   "cell_type": "code",
   "execution_count": 37,
   "metadata": {
    "collapsed": false
   },
   "outputs": [
    {
     "name": "stdout",
     "output_type": "stream",
     "text": [
      "What is the length of one side? 4\n"
     ]
    },
    {
     "data": {
      "text/plain": [
       "16.0"
      ]
     },
     "execution_count": 37,
     "metadata": {},
     "output_type": "execute_result"
    }
   ],
   "source": [
    "def areaSquare():\n",
    "    side = float(raw_input(\"What is the length of one side? \"))\n",
    "    area = side ** 2\n",
    "    return area\n",
    "\n",
    "areaSquare()"
   ]
  },
  {
   "cell_type": "code",
   "execution_count": 38,
   "metadata": {
    "collapsed": false
   },
   "outputs": [
    {
     "name": "stdout",
     "output_type": "stream",
     "text": [
      "What is the length of one side? 80\n"
     ]
    },
    {
     "data": {
      "text/plain": [
       "6400.0"
      ]
     },
     "execution_count": 38,
     "metadata": {},
     "output_type": "execute_result"
    }
   ],
   "source": [
    "def areaSquare(side):\n",
    "    side = float(raw_input(\"What is the length of one side? \"))\n",
    "    area = side ** 2\n",
    "    return area\n",
    "\n",
    "areaSquare(side)"
   ]
  },
  {
   "cell_type": "code",
   "execution_count": 3,
   "metadata": {
    "collapsed": false
   },
   "outputs": [],
   "source": [
    "# write a function with two arguments. Find the area of a rectangle. \n",
    "def areaRect(length,breadth):\n",
    "    '''Returns the area of a rectangle of dimensions \\\n",
    "    'length' x 'breadth' '''\n",
    "    \n",
    "    # your code here\n",
    "    \n",
    "    return # what are you returning?"
   ]
  },
  {
   "cell_type": "code",
   "execution_count": 40,
   "metadata": {
    "collapsed": false
   },
   "outputs": [
    {
     "data": {
      "text/plain": [
       "20"
      ]
     },
     "execution_count": 40,
     "metadata": {},
     "output_type": "execute_result"
    }
   ],
   "source": [
    "def areaRect(length,breadth):\n",
    "    area = length * breadth\n",
    "    return area\n",
    "\n",
    "areaRect(4,5)"
   ]
  },
  {
   "cell_type": "code",
   "execution_count": 42,
   "metadata": {
    "collapsed": false
   },
   "outputs": [
    {
     "name": "stdout",
     "output_type": "stream",
     "text": [
      "What is the length? 4\n",
      "What is the breadth? 5\n"
     ]
    },
    {
     "data": {
      "text/plain": [
       "20.0"
      ]
     },
     "execution_count": 42,
     "metadata": {},
     "output_type": "execute_result"
    }
   ],
   "source": [
    "length = float(raw_input(\"What is the length? \"))\n",
    "breadth = float(raw_input(\"What is the breadth? \"))\n",
    "\n",
    "def areaRect(length,breadth):\n",
    "    area = length*breadth\n",
    "    return area\n",
    "\n",
    "areaRect(length, breadth)\n",
    "    "
   ]
  },
  {
   "cell_type": "code",
   "execution_count": 6,
   "metadata": {
    "collapsed": false
   },
   "outputs": [],
   "source": [
    "# write a function with three arguments. Find the surface area of cuboid.\n",
    "def surfaceAreaCuboid(length,breadth,height): \n",
    "    \n",
    "    # your code here"
   ]
  },
  {
   "cell_type": "code",
   "execution_count": 52,
   "metadata": {
    "collapsed": false
   },
   "outputs": [
    {
     "name": "stdout",
     "output_type": "stream",
     "text": [
      "What is the length? 3\n",
      "What is the breadth? 4\n",
      "What is the height? 5\n"
     ]
    },
    {
     "data": {
      "text/plain": [
       "94.0"
      ]
     },
     "execution_count": 52,
     "metadata": {},
     "output_type": "execute_result"
    }
   ],
   "source": [
    "def surfaceAreaCuboid(): \n",
    "    length = float(raw_input(\"What is the length? \"))\n",
    "    breadth = float(raw_input(\"What is the breadth? \")) \n",
    "    height = float(raw_input(\"What is the height? \")) \n",
    "    area = 2 * (length * breadth + breadth * height + length * height)\n",
    "    return area\n",
    "\n",
    "surfaceAreaCuboid()"
   ]
  },
  {
   "cell_type": "code",
   "execution_count": null,
   "metadata": {
    "collapsed": true
   },
   "outputs": [],
   "source": []
  }
 ],
 "metadata": {
  "kernelspec": {
   "display_name": "Python 2",
   "language": "python",
   "name": "python2"
  },
  "language_info": {
   "codemirror_mode": {
    "name": "ipython",
    "version": 2
   },
   "file_extension": ".py",
   "mimetype": "text/x-python",
   "name": "python",
   "nbconvert_exporter": "python",
   "pygments_lexer": "ipython2",
   "version": "2.7.12"
  }
 },
 "nbformat": 4,
 "nbformat_minor": 0
}
