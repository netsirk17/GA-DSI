{
 "cells": [
  {
   "cell_type": "markdown",
   "metadata": {},
   "source": [
    "## Lab 3.4: csvs, functions, numpy, and distributions\n",
    "\n",
    "Run the cell below to load the required packages and set up plotting in the notebook!"
   ]
  },
  {
   "cell_type": "code",
   "execution_count": 144,
   "metadata": {
    "collapsed": true
   },
   "outputs": [],
   "source": [
    "import numpy as np\n",
    "import scipy.stats as stats\n",
    "import csv\n",
    "import seaborn as sns\n",
    "%matplotlib inline"
   ]
  },
  {
   "cell_type": "markdown",
   "metadata": {},
   "source": [
    "### Sales data\n",
    "\n",
    "For this lab we will be using a truncated version of some sales data that we will be looking at further down the line in more detail. \n",
    "\n",
    "The csv has about 200 rows of data and 4 columns. The relative path to the csv ```sales_info.csv``` is provided below. If you copied files over and moved them around, this might be different for you and you will have to figure out the correct relative path to enter."
   ]
  },
  {
   "cell_type": "code",
   "execution_count": 125,
   "metadata": {
    "collapsed": true
   },
   "outputs": [],
   "source": [
    "sales_csv_path = '/Users/kristensu/Dropbox/GA-DSI/week-01-KS/4.3-intro-stats-numpy-lab/assets/datasets/sales_info.csv'"
   ]
  },
  {
   "cell_type": "markdown",
   "metadata": {},
   "source": [
    "#### 1. Loading the data\n",
    "\n",
    "Set up an empty list called ```rows```.\n",
    "\n",
    "Using the pattern for loading csvs we learned earlier, add all of the rows in the csv file to the rows list.\n",
    "\n",
    "For your reference, the pattern is:\n",
    "```python\n",
    "with open(my_csv_path, 'r') as f:\n",
    "    reader = csv.reader(f)\n",
    "    ...\n",
    "```\n",
    "\n",
    "Beyond this, adding the rows in the csv file to the ```rows``` variable is up to you."
   ]
  },
  {
   "cell_type": "code",
   "execution_count": 126,
   "metadata": {
    "collapsed": false
   },
   "outputs": [],
   "source": [
    "rows = []\n",
    "with open(sales_csv_path, 'r') as f:\n",
    "    reader = csv.reader(f)\n",
    "    for row in reader:\n",
    "        rows.append(row)\n"
   ]
  },
  {
   "cell_type": "markdown",
   "metadata": {},
   "source": [
    "##### 2. Separate header and data\n",
    "\n",
    "The header of the csv is contained in the first index of the ```rows``` variable, as it is the first row in the csv file. \n",
    "\n",
    "Use python indexing to create two new variables: ```header``` which contains the 4 column names, and ```data``` which contains the list of lists, each sub-list representing a row from the csv.\n",
    "\n",
    "Lastly, print ```header``` to see the names of the columns."
   ]
  },
  {
   "cell_type": "code",
   "execution_count": 127,
   "metadata": {
    "collapsed": true
   },
   "outputs": [],
   "source": [
    "header = rows[0]\n",
    "data = rows[1::]"
   ]
  },
  {
   "cell_type": "code",
   "execution_count": 128,
   "metadata": {
    "collapsed": false
   },
   "outputs": [
    {
     "name": "stdout",
     "output_type": "stream",
     "text": [
      "['volume_sold', '2015_margin', '2015_q1_sales', '2016_q1_sales']\n"
     ]
    }
   ],
   "source": [
    "print header"
   ]
  },
  {
   "cell_type": "code",
   "execution_count": 129,
   "metadata": {
    "collapsed": false
   },
   "outputs": [
    {
     "data": {
      "text/plain": [
       "200"
      ]
     },
     "execution_count": 129,
     "metadata": {},
     "output_type": "execute_result"
    }
   ],
   "source": [
    "len(data)"
   ]
  },
  {
   "cell_type": "markdown",
   "metadata": {},
   "source": [
    "#### 3. Create a dictionary with the data\n",
    "\n",
    "Use loops or list comprehensions to create a dictionary called ```sales_data```, where the keys of the dictionary are the column names, and the values of the dictionary are lists of the data points of the column corresponding to that column name."
   ]
  },
  {
   "cell_type": "code",
   "execution_count": 130,
   "metadata": {
    "collapsed": false
   },
   "outputs": [],
   "source": [
    "sales_data = {}\n",
    "for index, column_name in enumerate(header):\n",
    "    sales_data[column_name] = []\n",
    "    for row in data:\n",
    "        sales_data[column_name].append(row[index])"
   ]
  },
  {
   "cell_type": "code",
   "execution_count": 131,
   "metadata": {
    "collapsed": false
   },
   "outputs": [
    {
     "data": {
      "text/plain": [
       "['volume_sold', '2015_margin', '2015_q1_sales', '2016_q1_sales']"
      ]
     },
     "execution_count": 131,
     "metadata": {},
     "output_type": "execute_result"
    }
   ],
   "source": [
    "header"
   ]
  },
  {
   "cell_type": "code",
   "execution_count": 132,
   "metadata": {
    "collapsed": false
   },
   "outputs": [
    {
     "data": {
      "text/plain": [
       "[(0, 'volume_sold'),\n",
       " (1, '2015_margin'),\n",
       " (2, '2015_q1_sales'),\n",
       " (3, '2016_q1_sales')]"
      ]
     },
     "execution_count": 132,
     "metadata": {},
     "output_type": "execute_result"
    }
   ],
   "source": [
    "header_2 = list(enumerate(header))\n",
    "header_2"
   ]
  },
  {
   "cell_type": "code",
   "execution_count": 133,
   "metadata": {
    "collapsed": false
   },
   "outputs": [],
   "source": [
    "sales_data = {}\n",
    "for index, column_name in header_2:\n",
    "    sales_data[column_name] = []\n",
    "    for row in data:\n",
    "        sales_data[column_name].append(row[index])\n",
    "    \n",
    "    "
   ]
  },
  {
   "cell_type": "markdown",
   "metadata": {},
   "source": [
    "**3.A** Print out the first 10 items of the 'volume_sold' column."
   ]
  },
  {
   "cell_type": "code",
   "execution_count": 134,
   "metadata": {
    "collapsed": false
   },
   "outputs": [
    {
     "name": "stdout",
     "output_type": "stream",
     "text": [
      "['18.4207604861', '4.77650991918', '16.6024006077', '4.29611149826', '8.15602328201', '5.00512242518', '14.60675', '4.45646649485', '5.04752965097', '5.38807023767']\n"
     ]
    }
   ],
   "source": [
    "print sales_data['volume_sold'][0:10]"
   ]
  },
  {
   "cell_type": "markdown",
   "metadata": {},
   "source": [
    "#### 4. Convert data from string to float\n",
    "\n",
    "As you can see, the data is still in string format (which is how it is read in from the csv). For each key:value pair in our ```sales_data``` dictionary, convert the values (column data) from string values to float values."
   ]
  },
  {
   "cell_type": "code",
   "execution_count": 135,
   "metadata": {
    "collapsed": false
   },
   "outputs": [],
   "source": [
    "for header, values in sales_data.items():\n",
    "    values = [float(v) for v in values]\n",
    "    sales_data[header] = values"
   ]
  },
  {
   "cell_type": "code",
   "execution_count": 136,
   "metadata": {
    "collapsed": false,
    "scrolled": true
   },
   "outputs": [
    {
     "name": "stdout",
     "output_type": "stream",
     "text": [
      "[18.4207604861, 4.77650991918, 16.6024006077, 4.29611149826, 8.15602328201, 5.00512242518, 14.60675, 4.45646649485, 5.04752965097, 5.38807023767]\n"
     ]
    }
   ],
   "source": [
    "print sales_data['volume_sold'][0:10]"
   ]
  },
  {
   "cell_type": "code",
   "execution_count": 138,
   "metadata": {
    "collapsed": false
   },
   "outputs": [
    {
     "data": {
      "text/plain": [
       "['volume_sold', '2015_q1_sales', '2016_q1_sales', '2015_margin']"
      ]
     },
     "execution_count": 138,
     "metadata": {},
     "output_type": "execute_result"
    }
   ],
   "source": [
    "sales_data.keys()"
   ]
  },
  {
   "cell_type": "markdown",
   "metadata": {},
   "source": [
    "#### 5. Write function to print summary statistics\n",
    "\n",
    "Now write a function to print out summary statistics for the data.\n",
    "\n",
    "Your function should:\n",
    "\n",
    "- Accept two arguments: the column name and the data associated with that column\n",
    "- Print out information, clearly labeling each item when you print it:\n",
    "    1. Print out the column name\n",
    "    2. Print the mean of the data using ```np.mean()```\n",
    "    3. Print out the median of the data using ```np.median()```\n",
    "    4. Print out the mode of the **rounded data** using ```stats.mode()```\n",
    "    5. Print out the variance of the data using ```np.var()```\n",
    "    6. Print out the standard deviation of the data using ```np.std()```\n",
    "    \n",
    "Remember that you will need to convert the numeric data from these function to strings by wrapping them in the ```str()``` function."
   ]
  },
  {
   "cell_type": "markdown",
   "metadata": {},
   "source": [
    "**5.A** Using your function, print the summary statistics for 'volume_sold'"
   ]
  },
  {
   "cell_type": "code",
   "execution_count": 157,
   "metadata": {
    "collapsed": true
   },
   "outputs": [],
   "source": [
    "### a = column name  b = column data\n",
    "volume_sold = sales_data['volume_sold']\n",
    "q1_sales_1 = sales_data['2015_q1_sales']\n",
    "q1_sales_2 = sales_data['2015_q1_sales']\n",
    "margin = sales_data['2015_margin']\n",
    "\n",
    "def sales_summary_stats(a, b):\n",
    "    mode = stats.mode(b)\n",
    "    for a, b in sales_data.items():\n",
    "        print 'Data for: ', a\n",
    "        print 'Mean: ', np.mean(b)\n",
    "        print 'Median: ', np.median(b)\n",
    "        print 'Mode: ', mode.mode\n",
    "        print ''\n"
   ]
  },
  {
   "cell_type": "code",
   "execution_count": 158,
   "metadata": {
    "collapsed": false
   },
   "outputs": [
    {
     "name": "stdout",
     "output_type": "stream",
     "text": [
      "Data for:  volume_sold\n",
      "Mean:  10.018684079\n",
      "Median:  8.16634551564\n",
      "Mode:  [ 2.7946315]\n",
      "\n",
      "Data for:  2015_q1_sales\n",
      "Mean:  154631.6682\n",
      "Median:  104199.41\n",
      "Mode:  [ 2.7946315]\n",
      "\n",
      "Data for:  2016_q1_sales\n",
      "Mean:  154699.17875\n",
      "Median:  103207.2\n",
      "Mode:  [ 2.7946315]\n",
      "\n",
      "Data for:  2015_margin\n",
      "Mean:  46.8588951379\n",
      "Median:  36.5621438181\n",
      "Mode:  [ 2.7946315]\n",
      "\n"
     ]
    }
   ],
   "source": [
    "sales_summary_stats('volume sold',volume_sold)"
   ]
  },
  {
   "cell_type": "code",
   "execution_count": 181,
   "metadata": {
    "collapsed": true
   },
   "outputs": [],
   "source": [
    "### a = column name  b = column data\n",
    "volume_sold = sales_data['volume_sold']\n",
    "q1_sales_1 = sales_data['2015_q1_sales']\n",
    "q1_sales_2 = sales_data['2015_q1_sales']\n",
    "margin = sales_data['2015_margin']\n",
    "\n",
    "def sales_summary_stats(a, b):\n",
    "    mode = stats.mode(b)\n",
    "    print 'Data for: ', a\n",
    "    print 'Mean: ', np.mean(b)\n",
    "    print 'Median: ', np.median(b)\n",
    "    print 'Mode: ', mode.mode\n",
    "    print ''"
   ]
  },
  {
   "cell_type": "code",
   "execution_count": 182,
   "metadata": {
    "collapsed": false
   },
   "outputs": [
    {
     "name": "stdout",
     "output_type": "stream",
     "text": [
      "Data for:  volume sold\n",
      "Mean:  10.018684079\n",
      "Median:  8.16634551564\n",
      "Mode:  [ 2.7946315]\n",
      "\n"
     ]
    }
   ],
   "source": [
    "sales_summary_stats('volume sold', volume_sold)"
   ]
  },
  {
   "cell_type": "code",
   "execution_count": 180,
   "metadata": {
    "collapsed": false
   },
   "outputs": [
    {
     "name": "stdout",
     "output_type": "stream",
     "text": [
      "[18.4207604861, 4.77650991918, 16.6024006077, 4.29611149826, 8.15602328201, 5.00512242518, 14.60675, 4.45646649485, 5.04752965097, 5.38807023767, 9.34734863474, 10.9303977273, 6.27020860495, 12.3959191176, 4.55771189614, 4.20012242627, 10.2528698945, 12.0767847594, 3.7250952381, 3.21072662722, 6.29097142857, 7.43482131661, 4.37622478386, 12.9889127838, 11.6974557522, 5.96517512509, 3.94522273425, 7.36958530901, 7.34350882699, 12.3500273544, 8.41791967737, 10.2608361718, 7.82435369972, 10.3314300532, 12.5284878049, 18.7447505256, 6.65773264189, 10.6321289355, 6.92770422965, 6.61817422161, 7.12444444444, 9.84966032435, 11.5058377559, 6.30981315215, 10.1866219839, 10.1221793301, 10.8003469032, 7.26782845188, 10.6737166742, 9.15026865672, 8.12418187744, 6.27579970306, 10.6772953319, 5.88898828541, 10.6401714545, 4.75559643255, 10.246884068, 10.29268081, 4.41819548872, 7.10134734573, 8.00611901938, 7.79050337838, 11.1293822598, 9.34847653987, 6.31088643791, 11.6256060606, 6.65440717629, 7.93041476808, 9.003562316, 14.4394353772, 11.0115404852, 5.72389564186, 7.77732012195, 4.75918372602, 7.78586691659, 5.03499140759, 11.6845098446, 5.14772910448, 10.0860303763, 7.94465682362, 5.29439978635, 11.8265363003, 6.300925868, 8.64269487751, 6.04822838631, 9.47492913676, 3.99185767098, 8.59207381371, 7.21148957299, 8.19108557079, 7.69531160115, 13.6351500118, 6.96681681682, 11.2323237697, 5.09546375267, 11.9368836649, 5.90627376426, 9.12709469154, 7.7544572697, 7.58599675412, 7.43725207583, 9.8798900768, 9.30319388778, 9.21365050557, 5.18177205308, 8.55507774799, 5.78126590331, 8.0710230118, 10.1250032713, 11.0196516733, 8.17666774927, 9.42171292239, 4.85870921867, 9.31378525791, 8.30018036767, 6.50688776965, 9.5852099677, 12.45572275, 8.09288312646, 8.68651837806, 8.34731752963, 9.29224055739, 9.77711182109, 29.878030039, 8.78393692369, 11.9757685161, 11.1401021385, 7.5605488194, 7.39098798637, 6.43360588592, 13.7999774485, 6.44703955254, 8.01794477751, 6.2553554256, 9.69742181905, 7.77268351232, 8.75192030725, 6.79288937945, 7.68249438202, 4.38545511613, 3.60671020408, 8.45364705882, 5.21488185976, 8.40056149733, 6.84136327817, 12.5099672623, 9.0148700565, 7.20036424796, 5.77809677419, 4.94129392971, 6.00045070423, 11.9971174753, 10.6377691184, 8.56422809829, 8.62268641471, 4.83114713217, 10.2701848998, 12.5816945607, 16.0599706745, 11.8677385892, 10.2945011338, 4.17606557377, 9.36189873418, 11.0917085427, 5.3244966443, 6.63090439276, 8.58392405063, 5.53106109325, 6.13912310287, 8.47737603306, 8.44393241167, 5.15196394076, 6.53706864564, 8.50044523598, 3.93154326923, 6.16368913858, 4.90444711538, 7.40241271087, 47.5032692308, 55.7391800938, 11.8407803201, 7.00229357798, 8.75314206706, 3.14774130328, 7.1967787944, 76.2036918138, 10.8043371086, 10.705327051, 51.8006862745, 5.88277871731, 6.68640645161, 5.83335488041, 45.5560956385, 5.17260575296, 10.118018018, 51.6755374204, 2.79463149728, 7.61169779853, 15.6976512739, 50.2758932156]\n"
     ]
    }
   ],
   "source": [
    "print sales_data.get('volume_sold', volume_sold)"
   ]
  },
  {
   "cell_type": "markdown",
   "metadata": {},
   "source": [
    "**5.B** Using your function, print the summary statistics for '2015_margin'"
   ]
  },
  {
   "cell_type": "code",
   "execution_count": null,
   "metadata": {
    "collapsed": false
   },
   "outputs": [],
   "source": [
    "q1_sales_1 = sales_data['2015_q1_sales']\n",
    "q1_sales_2 = sales_data['2015_q1_sales']\n",
    "margin = sales_data['2015_margin']"
   ]
  },
  {
   "cell_type": "markdown",
   "metadata": {},
   "source": [
    "**5.C** Using your function, print the summary statistics for '2015_q1_sales'"
   ]
  },
  {
   "cell_type": "code",
   "execution_count": null,
   "metadata": {
    "collapsed": false
   },
   "outputs": [],
   "source": []
  },
  {
   "cell_type": "markdown",
   "metadata": {},
   "source": [
    "**5.D** Using your function, print the summary statistics for '2016_q1_sales'"
   ]
  },
  {
   "cell_type": "code",
   "execution_count": null,
   "metadata": {
    "collapsed": false
   },
   "outputs": [],
   "source": []
  },
  {
   "cell_type": "markdown",
   "metadata": {},
   "source": [
    "#### 6. Plot the distributions\n",
    "\n",
    "We've provided a plotting function below called ```distribution_plotter()```. It takes two arguments, the name of the column and the data associated with that column.\n",
    "\n",
    "In individual cells, plot the distributions for each of the 4 columns. Do the data appear skewed? Symmetrical? If skewed, what would be your hypothesis for why?"
   ]
  },
  {
   "cell_type": "code",
   "execution_count": null,
   "metadata": {
    "collapsed": true
   },
   "outputs": [],
   "source": [
    "def distribution_plotter(column, data):\n",
    "    sns.set(rc={\"figure.figsize\": (10, 7)})\n",
    "    sns.set_style(\"white\")\n",
    "    dist = sns.distplot(data, hist_kws={'alpha':0.2}, kde_kws={'linewidth':5})\n",
    "    dist.set_title('Distribution of ' + column + '\\n', fontsize=16)"
   ]
  },
  {
   "cell_type": "code",
   "execution_count": null,
   "metadata": {
    "collapsed": false
   },
   "outputs": [],
   "source": []
  },
  {
   "cell_type": "code",
   "execution_count": null,
   "metadata": {
    "collapsed": false
   },
   "outputs": [],
   "source": []
  },
  {
   "cell_type": "code",
   "execution_count": null,
   "metadata": {
    "collapsed": false
   },
   "outputs": [],
   "source": []
  },
  {
   "cell_type": "code",
   "execution_count": null,
   "metadata": {
    "collapsed": false
   },
   "outputs": [],
   "source": []
  }
 ],
 "metadata": {
  "kernelspec": {
   "display_name": "Python 2",
   "language": "python",
   "name": "python2"
  },
  "language_info": {
   "codemirror_mode": {
    "name": "ipython",
    "version": 2
   },
   "file_extension": ".py",
   "mimetype": "text/x-python",
   "name": "python",
   "nbconvert_exporter": "python",
   "pygments_lexer": "ipython2",
   "version": "2.7.12"
  }
 },
 "nbformat": 4,
 "nbformat_minor": 0
}
